{
 "cells": [
  {
   "cell_type": "markdown",
   "metadata": {},
   "source": [
    "Привет, меня зовут Артем Хуршудов. Сегодня я проверю твой проект.\n",
    "<br> Дальнейшее общение будет происходить на \"ты\" если это не вызывает никаких проблем.\n",
    "<br> Желательно реагировать на каждый мой комментарий ('исправил', 'не понятно как исправить ошибку', ...)\n",
    "<br> Пожалуйста, не удаляй комментарии ревьюера, так как они повышают качество повторного ревью.\n",
    "\n",
    "Комментарии будут в <font color='green'>зеленой</font>, <font color='blue'>синей</font> или <font color='red'>красной</font> рамках:\n",
    "\n",
    "<div class=\"alert alert-block alert-success\">\n",
    "<b>Успех:</b> Если все сделано отлично\n",
    "</div>\n",
    "\n",
    "<div class=\"alert alert-block alert-info\">\n",
    "<b>Совет: </b> Если можно немного улучшить\n",
    "</div>\n",
    "\n",
    "<div class=\"alert alert-block alert-danger\">\n",
    "<b>Ошибка:</b> Если требуются исправления. Работа не может быть принята с красными комментариями.\n",
    "</div>\n",
    "\n",
    "-------------------\n",
    "\n",
    "Будет очень хорошо, если ты будешь помечать свои действия следующим образом:\n",
    "<div class=\"alert alert-block alert-warning\">\n",
    "<b>Комментарий студента:</b> ...\n",
    "</div>\n",
    "\n",
    "<div class=\"alert alert-block alert-warning\">\n",
    "<b>Изменения:</b> Были внесены следующие изменения ...\n",
    "</div>\n",
    "\n",
    "### <font color='orange'>Общее впечатление</font>\n",
    "* Большое спасибо за проделанную работу. Видно, что приложено много усилий.\n",
    "* Выводы и рассуждения получились содержательными, их было интересно читать.\n",
    "* Отлично, что доверительный интервал посчитан верно.\n",
    "* Над этим проектом нужно будет еще немного поработать. Однако, изменения не должны занять много времени.\n",
    "* В работе я оставил несколько советов. Буду рад, если ты учтешь их.\n",
    "* С радостью отвечу на твои вопросы, если они есть. Лучше всего их собрать в следующей ячейке. Жду новую версию проекта."
   ]
  },
  {
   "cell_type": "markdown",
   "metadata": {},
   "source": [
    "<div class=\"alert alert-block alert-warning\">\n",
    "<b>Комментарий студента:</b>\n",
    "<br>Здравствуйте!\n",
    "<br>Постарался устранить все замечания.\n",
    "<br>С использованием функций для оптимизации кода при обучении моделей столкнулся с проблемой, что функции получаются слишком громоздкие и удобнее выполнять проверки без использования функций.\n",
    "</div>"
   ]
  },
  {
   "cell_type": "markdown",
   "metadata": {},
   "source": [
    "<div class=\"alert alert-block alert-info\">\n",
    "<b>Совет (ревью 2): </b> Лучше было бы разделить на несколько маленьких функций.\n",
    "</div>"
   ]
  },
  {
   "cell_type": "markdown",
   "metadata": {},
   "source": [
    "### <font color='orange'>Общее впечатление (ревью 2)</font>\n",
    "* После исправлений проект улучшился и теперь он может быть зачтен.\n",
    "* Для удобства все новые комментарии обозначены фразой \"ревью 2\".\n",
    "* Удачи в дальнейшем обучении и следующих работах!"
   ]
  },
  {
   "cell_type": "markdown",
   "metadata": {
    "toc": true
   },
   "source": [
    "<h1>Оглавление<span class=\"tocSkip\"></span></h1>\n",
    "<div class=\"toc\"><ul class=\"toc-item\"><li><ul class=\"toc-item\"><li><span><a href=\"#Общее-впечатление\" data-toc-modified-id=\"Общее-впечатление-0.1\"><span class=\"toc-item-num\">0.1&nbsp;&nbsp;</span><font color=\"orange\">Общее впечатление</font></a></span></li><li><span><a href=\"#Общее-впечатление-(ревью-2)\" data-toc-modified-id=\"Общее-впечатление-(ревью-2)-0.2\"><span class=\"toc-item-num\">0.2&nbsp;&nbsp;</span><font color=\"orange\">Общее впечатление (ревью 2)</font></a></span></li></ul></li><li><span><a href=\"#Подготовка\" data-toc-modified-id=\"Подготовка-1\"><span class=\"toc-item-num\">1&nbsp;&nbsp;</span>Подготовка</a></span><ul class=\"toc-item\"><li><span><a href=\"#Импорт-библиотек\" data-toc-modified-id=\"Импорт-библиотек-1.1\"><span class=\"toc-item-num\">1.1&nbsp;&nbsp;</span>Импорт библиотек</a></span></li><li><span><a href=\"#Глобальные-настройки\" data-toc-modified-id=\"Глобальные-настройки-1.2\"><span class=\"toc-item-num\">1.2&nbsp;&nbsp;</span>Глобальные настройки</a></span></li><li><span><a href=\"#Импорт-данных\" data-toc-modified-id=\"Импорт-данных-1.3\"><span class=\"toc-item-num\">1.3&nbsp;&nbsp;</span>Импорт данных</a></span></li><li><span><a href=\"#Описание-данных\" data-toc-modified-id=\"Описание-данных-1.4\"><span class=\"toc-item-num\">1.4&nbsp;&nbsp;</span>Описание данных</a></span></li><li><span><a href=\"#Условия-задачи\" data-toc-modified-id=\"Условия-задачи-1.5\"><span class=\"toc-item-num\">1.5&nbsp;&nbsp;</span>Условия задачи</a></span></li><li><span><a href=\"#Вспомогательные-функции\" data-toc-modified-id=\"Вспомогательные-функции-1.6\"><span class=\"toc-item-num\">1.6&nbsp;&nbsp;</span>Вспомогательные функции</a></span></li></ul></li><li><span><a href=\"#Загрузка-и-подготовка-данных\" data-toc-modified-id=\"Загрузка-и-подготовка-данных-2\"><span class=\"toc-item-num\">2&nbsp;&nbsp;</span>Загрузка и подготовка данных</a></span><ul class=\"toc-item\"><li><span><a href=\"#Данные-первого-региона\" data-toc-modified-id=\"Данные-первого-региона-2.1\"><span class=\"toc-item-num\">2.1&nbsp;&nbsp;</span>Данные первого региона</a></span><ul class=\"toc-item\"><li><span><a href=\"#Загрузка-данных\" data-toc-modified-id=\"Загрузка-данных-2.1.1\"><span class=\"toc-item-num\">2.1.1&nbsp;&nbsp;</span>Загрузка данных</a></span></li><li><span><a href=\"#Исследование-данных\" data-toc-modified-id=\"Исследование-данных-2.1.2\"><span class=\"toc-item-num\">2.1.2&nbsp;&nbsp;</span>Исследование данных</a></span></li><li><span><a href=\"#Подготовка-данных\" data-toc-modified-id=\"Подготовка-данных-2.1.3\"><span class=\"toc-item-num\">2.1.3&nbsp;&nbsp;</span>Подготовка данных</a></span></li><li><span><a href=\"#Выводы\" data-toc-modified-id=\"Выводы-2.1.4\"><span class=\"toc-item-num\">2.1.4&nbsp;&nbsp;</span>Выводы</a></span></li></ul></li><li><span><a href=\"#Данные-второго-региона\" data-toc-modified-id=\"Данные-второго-региона-2.2\"><span class=\"toc-item-num\">2.2&nbsp;&nbsp;</span>Данные второго региона</a></span><ul class=\"toc-item\"><li><span><a href=\"#Загрузка-данных\" data-toc-modified-id=\"Загрузка-данных-2.2.1\"><span class=\"toc-item-num\">2.2.1&nbsp;&nbsp;</span>Загрузка данных</a></span></li><li><span><a href=\"#Исследование-данных\" data-toc-modified-id=\"Исследование-данных-2.2.2\"><span class=\"toc-item-num\">2.2.2&nbsp;&nbsp;</span>Исследование данных</a></span></li><li><span><a href=\"#Подготовка-данных\" data-toc-modified-id=\"Подготовка-данных-2.2.3\"><span class=\"toc-item-num\">2.2.3&nbsp;&nbsp;</span>Подготовка данных</a></span></li><li><span><a href=\"#Выводы\" data-toc-modified-id=\"Выводы-2.2.4\"><span class=\"toc-item-num\">2.2.4&nbsp;&nbsp;</span>Выводы</a></span></li></ul></li><li><span><a href=\"#Данные-третьего-региона\" data-toc-modified-id=\"Данные-третьего-региона-2.3\"><span class=\"toc-item-num\">2.3&nbsp;&nbsp;</span>Данные третьего региона</a></span><ul class=\"toc-item\"><li><span><a href=\"#Загрузка-данных\" data-toc-modified-id=\"Загрузка-данных-2.3.1\"><span class=\"toc-item-num\">2.3.1&nbsp;&nbsp;</span>Загрузка данных</a></span></li><li><span><a href=\"#Исследование-данных\" data-toc-modified-id=\"Исследование-данных-2.3.2\"><span class=\"toc-item-num\">2.3.2&nbsp;&nbsp;</span>Исследование данных</a></span></li><li><span><a href=\"#Подготовка-данных\" data-toc-modified-id=\"Подготовка-данных-2.3.3\"><span class=\"toc-item-num\">2.3.3&nbsp;&nbsp;</span>Подготовка данных</a></span></li><li><span><a href=\"#Выводы\" data-toc-modified-id=\"Выводы-2.3.4\"><span class=\"toc-item-num\">2.3.4&nbsp;&nbsp;</span>Выводы</a></span></li></ul></li></ul></li><li><span><a href=\"#Обучение-и-проверка-модели\" data-toc-modified-id=\"Обучение-и-проверка-модели-3\"><span class=\"toc-item-num\">3&nbsp;&nbsp;</span>Обучение и проверка модели</a></span><ul class=\"toc-item\"><li><span><a href=\"#Первый-регион\" data-toc-modified-id=\"Первый-регион-3.1\"><span class=\"toc-item-num\">3.1&nbsp;&nbsp;</span>Первый регион</a></span><ul class=\"toc-item\"><li><span><a href=\"#Построение-и-оценка-базовой-модели\" data-toc-modified-id=\"Построение-и-оценка-базовой-модели-3.1.1\"><span class=\"toc-item-num\">3.1.1&nbsp;&nbsp;</span>Построение и оценка базовой модели</a></span></li><li><span><a href=\"#Улучшение-модели\" data-toc-modified-id=\"Улучшение-модели-3.1.2\"><span class=\"toc-item-num\">3.1.2&nbsp;&nbsp;</span>Улучшение модели</a></span></li><li><span><a href=\"#Сохранение-результатов-выбранной-модели\" data-toc-modified-id=\"Сохранение-результатов-выбранной-модели-3.1.3\"><span class=\"toc-item-num\">3.1.3&nbsp;&nbsp;</span>Сохранение результатов выбранной модели</a></span></li></ul></li><li><span><a href=\"#Второй-регион\" data-toc-modified-id=\"Второй-регион-3.2\"><span class=\"toc-item-num\">3.2&nbsp;&nbsp;</span>Второй регион</a></span><ul class=\"toc-item\"><li><span><a href=\"#Построение-и-оценка-базовой-модели\" data-toc-modified-id=\"Построение-и-оценка-базовой-модели-3.2.1\"><span class=\"toc-item-num\">3.2.1&nbsp;&nbsp;</span>Построение и оценка базовой модели</a></span></li><li><span><a href=\"#Улучшение-модели\" data-toc-modified-id=\"Улучшение-модели-3.2.2\"><span class=\"toc-item-num\">3.2.2&nbsp;&nbsp;</span>Улучшение модели</a></span></li><li><span><a href=\"#Сохранение-результатов-выбранной-модели\" data-toc-modified-id=\"Сохранение-результатов-выбранной-модели-3.2.3\"><span class=\"toc-item-num\">3.2.3&nbsp;&nbsp;</span>Сохранение результатов выбранной модели</a></span></li></ul></li><li><span><a href=\"#Третий-регион\" data-toc-modified-id=\"Третий-регион-3.3\"><span class=\"toc-item-num\">3.3&nbsp;&nbsp;</span>Третий регион</a></span><ul class=\"toc-item\"><li><span><a href=\"#Построение-и-оценка-базовой-модели\" data-toc-modified-id=\"Построение-и-оценка-базовой-модели-3.3.1\"><span class=\"toc-item-num\">3.3.1&nbsp;&nbsp;</span>Построение и оценка базовой модели</a></span></li><li><span><a href=\"#Улучшение-модели\" data-toc-modified-id=\"Улучшение-модели-3.3.2\"><span class=\"toc-item-num\">3.3.2&nbsp;&nbsp;</span>Улучшение модели</a></span></li><li><span><a href=\"#Сохранение-результатов-выбранной-модели\" data-toc-modified-id=\"Сохранение-результатов-выбранной-модели-3.3.3\"><span class=\"toc-item-num\">3.3.3&nbsp;&nbsp;</span>Сохранение результатов выбранной модели</a></span></li></ul></li></ul></li><li><span><a href=\"#Подготовка-к-расчёту-прибыли\" data-toc-modified-id=\"Подготовка-к-расчёту-прибыли-4\"><span class=\"toc-item-num\">4&nbsp;&nbsp;</span>Подготовка к расчёту прибыли</a></span><ul class=\"toc-item\"><li><span><a href=\"#Ключевые-значения-для-расчётов-прибыли\" data-toc-modified-id=\"Ключевые-значения-для-расчётов-прибыли-4.1\"><span class=\"toc-item-num\">4.1&nbsp;&nbsp;</span>Ключевые значения для расчётов прибыли</a></span></li><li><span><a href=\"#Расчёт-объёма-сырья-для-безубыточной-разработки\" data-toc-modified-id=\"Расчёт-объёма-сырья-для-безубыточной-разработки-4.2\"><span class=\"toc-item-num\">4.2&nbsp;&nbsp;</span>Расчёт объёма сырья для безубыточной разработки</a></span></li><li><span><a href=\"#Сравнение-полученного-объёма-сырья-со-средним-запасом-в-каждом-регионе\" data-toc-modified-id=\"Сравнение-полученного-объёма-сырья-со-средним-запасом-в-каждом-регионе-4.3\"><span class=\"toc-item-num\">4.3&nbsp;&nbsp;</span>Сравнение полученного объёма сырья со средним запасом в каждом регионе</a></span></li><li><span><a href=\"#Функция-для-расчёта-прибыли\" data-toc-modified-id=\"Функция-для-расчёта-прибыли-4.4\"><span class=\"toc-item-num\">4.4&nbsp;&nbsp;</span>Функция для расчёта прибыли</a></span></li></ul></li><li><span><a href=\"#Расчёт-прибыли-и-рисков\" data-toc-modified-id=\"Расчёт-прибыли-и-рисков-5\"><span class=\"toc-item-num\">5&nbsp;&nbsp;</span>Расчёт прибыли и рисков</a></span><ul class=\"toc-item\"><li><span><a href=\"#Первый-регион\" data-toc-modified-id=\"Первый-регион-5.1\"><span class=\"toc-item-num\">5.1&nbsp;&nbsp;</span>Первый регион</a></span></li><li><span><a href=\"#Второй-регион\" data-toc-modified-id=\"Второй-регион-5.2\"><span class=\"toc-item-num\">5.2&nbsp;&nbsp;</span>Второй регион</a></span></li><li><span><a href=\"#Третий-регион\" data-toc-modified-id=\"Третий-регион-5.3\"><span class=\"toc-item-num\">5.3&nbsp;&nbsp;</span>Третий регион</a></span></li><li><span><a href=\"#Выбор-региона\" data-toc-modified-id=\"Выбор-региона-5.4\"><span class=\"toc-item-num\">5.4&nbsp;&nbsp;</span>Выбор региона</a></span></li></ul></li><li><span><a href=\"#Чек-лист-готовности-проекта\" data-toc-modified-id=\"Чек-лист-готовности-проекта-6\"><span class=\"toc-item-num\">6&nbsp;&nbsp;</span>Чек-лист готовности проекта</a></span></li></ul></div>"
   ]
  },
  {
   "cell_type": "markdown",
   "metadata": {},
   "source": [
    "# Выбор локации для скважины"
   ]
  },
  {
   "cell_type": "markdown",
   "metadata": {},
   "source": [
    "Допустим, вы работаете в добывающей компании «ГлавРосГосНефть». Нужно решить, где бурить новую скважину.\n",
    "\n",
    "Вам предоставлены пробы нефти в трёх регионах: в каждом 10 000 месторождений, где измерили качество нефти и объём её запасов. Постройте модель машинного обучения, которая поможет определить регион, где добыча принесёт наибольшую прибыль. Проанализируйте возможную прибыль и риски техникой *Bootstrap.*\n",
    "\n",
    "Шаги для выбора локации:\n",
    "\n",
    "- В избранном регионе ищут месторождения, для каждого определяют значения признаков;\n",
    "- Строят модель и оценивают объём запасов;\n",
    "- Выбирают месторождения с самым высокими оценками значений. Количество месторождений зависит от бюджета компании и стоимости разработки одной скважины;\n",
    "- Прибыль равна суммарной прибыли отобранных месторождений."
   ]
  },
  {
   "cell_type": "markdown",
   "metadata": {},
   "source": [
    "## Подготовка"
   ]
  },
  {
   "cell_type": "markdown",
   "metadata": {},
   "source": [
    "### Импорт библиотек"
   ]
  },
  {
   "cell_type": "code",
   "execution_count": 1,
   "metadata": {},
   "outputs": [],
   "source": [
    "import numpy as np\n",
    "import pandas as pd\n",
    "\n",
    "from matplotlib import pyplot as plt\n",
    "import seaborn as sns\n",
    "\n",
    "from sklearn.model_selection import train_test_split\n",
    "\n",
    "from sklearn.preprocessing import StandardScaler\n",
    "\n",
    "from sklearn.linear_model import LinearRegression\n",
    "from sklearn.linear_model import Ridge\n",
    "\n",
    "from sklearn.metrics import r2_score\n",
    "from sklearn.metrics import mean_squared_error"
   ]
  },
  {
   "cell_type": "markdown",
   "metadata": {},
   "source": [
    "<div class=\"alert alert-block alert-success\">\n",
    "<b>Успех:</b> Отлично, что все импорты собраны в первой ячейке ноутбука! Если у того, кто будет запускать твой ноутбук будут отсутствовать некоторые библиотеки, то он это увидит сразу, а не в процессе!\n",
    "</div>"
   ]
  },
  {
   "cell_type": "markdown",
   "metadata": {},
   "source": [
    "### Глобальные настройки"
   ]
  },
  {
   "cell_type": "code",
   "execution_count": 2,
   "metadata": {},
   "outputs": [],
   "source": [
    "# Случайное зерно.\n",
    "random_state_global = 0\n",
    "\n",
    "# Набор псевдослучайных чисел для выборок.\n",
    "state = np.random.RandomState(random_state_global)\n",
    "\n",
    "# Доля валидационной выборки.\n",
    "valid_size_global = 0.25"
   ]
  },
  {
   "cell_type": "markdown",
   "metadata": {},
   "source": [
    "### Импорт данных"
   ]
  },
  {
   "cell_type": "code",
   "execution_count": 3,
   "metadata": {},
   "outputs": [],
   "source": [
    "PATH_DATA_0 = r'/datasets/geo_data_0.csv'\n",
    "PATH_DATA_1 = r'/datasets/geo_data_1.csv'\n",
    "PATH_DATA_2 = r'/datasets/geo_data_2.csv'"
   ]
  },
  {
   "cell_type": "markdown",
   "metadata": {},
   "source": [
    "### Описание данных"
   ]
  },
  {
   "cell_type": "markdown",
   "metadata": {},
   "source": [
    "- id — уникальный идентификатор скважины;\n",
    "- f0, f1, f2 — три признака точек (неважно, что они означают, но сами признаки значимы);\n",
    "- product — объём запасов в скважине (тыс. баррелей)."
   ]
  },
  {
   "cell_type": "markdown",
   "metadata": {},
   "source": [
    "### Условия задачи"
   ]
  },
  {
   "cell_type": "markdown",
   "metadata": {},
   "source": [
    "- Для обучения модели подходит только линейная регрессия (остальные — недостаточно предсказуемые).\n",
    "- При разведке региона исследуют 500 точек, из которых с помощью машинного обучения выбирают 200 лучших для разработки.\n",
    "- Бюджет на разработку скважин в регионе — 10 млрд рублей.\n",
    "- При нынешних ценах один баррель сырья приносит 450 рублей дохода. Доход с каждой единицы продукта составляет 450 тыс. рублей, поскольку объём указан в тысячах баррелей.\n",
    "- После оценки рисков нужно оставить лишь те регионы, в которых вероятность убытков меньше 2.5%. Среди них выбирают регион с наибольшей средней прибылью.\n",
    "\n",
    "Данные синтетические: детали контрактов и характеристики месторождений не разглашаются."
   ]
  },
  {
   "cell_type": "markdown",
   "metadata": {},
   "source": [
    "### Вспомогательные функции"
   ]
  },
  {
   "cell_type": "code",
   "execution_count": 4,
   "metadata": {},
   "outputs": [],
   "source": [
    "# Функция для отображения матрицы корреляций.\n",
    "def draw_corr_matrix(df):\n",
    "    plt.figure(figsize=(8, 6))\n",
    "    sns.heatmap(df.corr(), annot=True, cmap='coolwarm', linecolor='white', linewidths=0.1);"
   ]
  },
  {
   "cell_type": "code",
   "execution_count": 5,
   "metadata": {},
   "outputs": [],
   "source": [
    "# Функция для выполнения полиномизации второй степени.\n",
    "def polynomization_2(df_original, bias=True, drop_original_features=False):\n",
    "    df = df_original.copy()\n",
    "    list_features_1 = df.columns\n",
    "    list_features_2 = list_features_1.copy()\n",
    "    \n",
    "    for feature_1 in list_features_1:\n",
    "        for feature_2 in list_features_2:\n",
    "            df[f'{feature_1}_{feature_2}'] = df[feature_1] * df[feature_2]\n",
    "        if len(list_features_2) > 1:\n",
    "            list_features_2 = list_features_2[1:]\n",
    "    \n",
    "    if bias:\n",
    "        df['bias'] = 1\n",
    "    \n",
    "    if drop_original_features:\n",
    "        df = df.drop(columns=list_features_1)\n",
    "    \n",
    "    return df"
   ]
  },
  {
   "cell_type": "markdown",
   "metadata": {},
   "source": [
    "## Загрузка и подготовка данных"
   ]
  },
  {
   "cell_type": "markdown",
   "metadata": {},
   "source": [
    "### Данные первого региона"
   ]
  },
  {
   "cell_type": "markdown",
   "metadata": {},
   "source": [
    "#### Загрузка данных"
   ]
  },
  {
   "cell_type": "code",
   "execution_count": 6,
   "metadata": {},
   "outputs": [],
   "source": [
    "# Загрузка данных.\n",
    "df_data_0 = pd.read_csv(PATH_DATA_0)"
   ]
  },
  {
   "cell_type": "markdown",
   "metadata": {},
   "source": [
    "#### Исследование данных"
   ]
  },
  {
   "cell_type": "code",
   "execution_count": 7,
   "metadata": {},
   "outputs": [
    {
     "data": {
      "text/html": [
       "<div>\n",
       "<style scoped>\n",
       "    .dataframe tbody tr th:only-of-type {\n",
       "        vertical-align: middle;\n",
       "    }\n",
       "\n",
       "    .dataframe tbody tr th {\n",
       "        vertical-align: top;\n",
       "    }\n",
       "\n",
       "    .dataframe thead th {\n",
       "        text-align: right;\n",
       "    }\n",
       "</style>\n",
       "<table border=\"1\" class=\"dataframe\">\n",
       "  <thead>\n",
       "    <tr style=\"text-align: right;\">\n",
       "      <th></th>\n",
       "      <th>id</th>\n",
       "      <th>f0</th>\n",
       "      <th>f1</th>\n",
       "      <th>f2</th>\n",
       "      <th>product</th>\n",
       "    </tr>\n",
       "  </thead>\n",
       "  <tbody>\n",
       "    <tr>\n",
       "      <th>0</th>\n",
       "      <td>txEyH</td>\n",
       "      <td>0.705745</td>\n",
       "      <td>-0.497823</td>\n",
       "      <td>1.221170</td>\n",
       "      <td>105.280062</td>\n",
       "    </tr>\n",
       "    <tr>\n",
       "      <th>1</th>\n",
       "      <td>2acmU</td>\n",
       "      <td>1.334711</td>\n",
       "      <td>-0.340164</td>\n",
       "      <td>4.365080</td>\n",
       "      <td>73.037750</td>\n",
       "    </tr>\n",
       "    <tr>\n",
       "      <th>2</th>\n",
       "      <td>409Wp</td>\n",
       "      <td>1.022732</td>\n",
       "      <td>0.151990</td>\n",
       "      <td>1.419926</td>\n",
       "      <td>85.265647</td>\n",
       "    </tr>\n",
       "    <tr>\n",
       "      <th>3</th>\n",
       "      <td>iJLyR</td>\n",
       "      <td>-0.032172</td>\n",
       "      <td>0.139033</td>\n",
       "      <td>2.978566</td>\n",
       "      <td>168.620776</td>\n",
       "    </tr>\n",
       "    <tr>\n",
       "      <th>4</th>\n",
       "      <td>Xdl7t</td>\n",
       "      <td>1.988431</td>\n",
       "      <td>0.155413</td>\n",
       "      <td>4.751769</td>\n",
       "      <td>154.036647</td>\n",
       "    </tr>\n",
       "  </tbody>\n",
       "</table>\n",
       "</div>"
      ],
      "text/plain": [
       "      id        f0        f1        f2     product\n",
       "0  txEyH  0.705745 -0.497823  1.221170  105.280062\n",
       "1  2acmU  1.334711 -0.340164  4.365080   73.037750\n",
       "2  409Wp  1.022732  0.151990  1.419926   85.265647\n",
       "3  iJLyR -0.032172  0.139033  2.978566  168.620776\n",
       "4  Xdl7t  1.988431  0.155413  4.751769  154.036647"
      ]
     },
     "execution_count": 7,
     "metadata": {},
     "output_type": "execute_result"
    }
   ],
   "source": [
    "# Вывод первых пяти строк.\n",
    "df_data_0.head()"
   ]
  },
  {
   "cell_type": "code",
   "execution_count": 8,
   "metadata": {},
   "outputs": [
    {
     "data": {
      "text/html": [
       "<div>\n",
       "<style scoped>\n",
       "    .dataframe tbody tr th:only-of-type {\n",
       "        vertical-align: middle;\n",
       "    }\n",
       "\n",
       "    .dataframe tbody tr th {\n",
       "        vertical-align: top;\n",
       "    }\n",
       "\n",
       "    .dataframe thead th {\n",
       "        text-align: right;\n",
       "    }\n",
       "</style>\n",
       "<table border=\"1\" class=\"dataframe\">\n",
       "  <thead>\n",
       "    <tr style=\"text-align: right;\">\n",
       "      <th></th>\n",
       "      <th>count</th>\n",
       "      <th>mean</th>\n",
       "      <th>std</th>\n",
       "      <th>min</th>\n",
       "      <th>25%</th>\n",
       "      <th>50%</th>\n",
       "      <th>75%</th>\n",
       "      <th>max</th>\n",
       "    </tr>\n",
       "  </thead>\n",
       "  <tbody>\n",
       "    <tr>\n",
       "      <th>f0</th>\n",
       "      <td>100000.0</td>\n",
       "      <td>0.500419</td>\n",
       "      <td>0.871832</td>\n",
       "      <td>-1.408605</td>\n",
       "      <td>-0.072580</td>\n",
       "      <td>0.502360</td>\n",
       "      <td>1.073581</td>\n",
       "      <td>2.362331</td>\n",
       "    </tr>\n",
       "    <tr>\n",
       "      <th>f1</th>\n",
       "      <td>100000.0</td>\n",
       "      <td>0.250143</td>\n",
       "      <td>0.504433</td>\n",
       "      <td>-0.848218</td>\n",
       "      <td>-0.200881</td>\n",
       "      <td>0.250252</td>\n",
       "      <td>0.700646</td>\n",
       "      <td>1.343769</td>\n",
       "    </tr>\n",
       "    <tr>\n",
       "      <th>f2</th>\n",
       "      <td>100000.0</td>\n",
       "      <td>2.502647</td>\n",
       "      <td>3.248248</td>\n",
       "      <td>-12.088328</td>\n",
       "      <td>0.287748</td>\n",
       "      <td>2.515969</td>\n",
       "      <td>4.715088</td>\n",
       "      <td>16.003790</td>\n",
       "    </tr>\n",
       "    <tr>\n",
       "      <th>product</th>\n",
       "      <td>100000.0</td>\n",
       "      <td>92.500000</td>\n",
       "      <td>44.288691</td>\n",
       "      <td>0.000000</td>\n",
       "      <td>56.497507</td>\n",
       "      <td>91.849972</td>\n",
       "      <td>128.564089</td>\n",
       "      <td>185.364347</td>\n",
       "    </tr>\n",
       "  </tbody>\n",
       "</table>\n",
       "</div>"
      ],
      "text/plain": [
       "            count       mean        std        min        25%        50%  \\\n",
       "f0       100000.0   0.500419   0.871832  -1.408605  -0.072580   0.502360   \n",
       "f1       100000.0   0.250143   0.504433  -0.848218  -0.200881   0.250252   \n",
       "f2       100000.0   2.502647   3.248248 -12.088328   0.287748   2.515969   \n",
       "product  100000.0  92.500000  44.288691   0.000000  56.497507  91.849972   \n",
       "\n",
       "                75%         max  \n",
       "f0         1.073581    2.362331  \n",
       "f1         0.700646    1.343769  \n",
       "f2         4.715088   16.003790  \n",
       "product  128.564089  185.364347  "
      ]
     },
     "execution_count": 8,
     "metadata": {},
     "output_type": "execute_result"
    }
   ],
   "source": [
    "# Вывод основных статистик непрерывных признаков.\n",
    "df_data_0.describe().T"
   ]
  },
  {
   "cell_type": "code",
   "execution_count": 9,
   "metadata": {},
   "outputs": [
    {
     "data": {
      "text/html": [
       "<div>\n",
       "<style scoped>\n",
       "    .dataframe tbody tr th:only-of-type {\n",
       "        vertical-align: middle;\n",
       "    }\n",
       "\n",
       "    .dataframe tbody tr th {\n",
       "        vertical-align: top;\n",
       "    }\n",
       "\n",
       "    .dataframe thead th {\n",
       "        text-align: right;\n",
       "    }\n",
       "</style>\n",
       "<table border=\"1\" class=\"dataframe\">\n",
       "  <thead>\n",
       "    <tr style=\"text-align: right;\">\n",
       "      <th></th>\n",
       "      <th>count</th>\n",
       "      <th>unique</th>\n",
       "      <th>top</th>\n",
       "      <th>freq</th>\n",
       "    </tr>\n",
       "  </thead>\n",
       "  <tbody>\n",
       "    <tr>\n",
       "      <th>id</th>\n",
       "      <td>100000</td>\n",
       "      <td>99990</td>\n",
       "      <td>QcMuo</td>\n",
       "      <td>2</td>\n",
       "    </tr>\n",
       "  </tbody>\n",
       "</table>\n",
       "</div>"
      ],
      "text/plain": [
       "     count unique    top freq\n",
       "id  100000  99990  QcMuo    2"
      ]
     },
     "execution_count": 9,
     "metadata": {},
     "output_type": "execute_result"
    }
   ],
   "source": [
    "# Вывод основных статистик категориальных признаков.\n",
    "df_data_0.describe(include='O').T"
   ]
  },
  {
   "cell_type": "code",
   "execution_count": 10,
   "metadata": {
    "scrolled": true
   },
   "outputs": [
    {
     "name": "stdout",
     "output_type": "stream",
     "text": [
      "<class 'pandas.core.frame.DataFrame'>\n",
      "RangeIndex: 100000 entries, 0 to 99999\n",
      "Data columns (total 5 columns):\n",
      " #   Column   Non-Null Count   Dtype  \n",
      "---  ------   --------------   -----  \n",
      " 0   id       100000 non-null  object \n",
      " 1   f0       100000 non-null  float64\n",
      " 2   f1       100000 non-null  float64\n",
      " 3   f2       100000 non-null  float64\n",
      " 4   product  100000 non-null  float64\n",
      "dtypes: float64(4), object(1)\n",
      "memory usage: 3.8+ MB\n"
     ]
    }
   ],
   "source": [
    "# Вывод основной информации о данных.\n",
    "df_data_0.info()"
   ]
  },
  {
   "cell_type": "code",
   "execution_count": 11,
   "metadata": {
    "scrolled": false
   },
   "outputs": [
    {
     "data": {
      "image/png": "[encoded data removed]",
      "text/plain": [
       "<Figure size 576x432 with 2 Axes>"
      ]
     },
     "metadata": {
      "needs_background": "light"
     },
     "output_type": "display_data"
    }
   ],
   "source": [
    "# Вывод матрицы корреляций признаков.\n",
    "draw_corr_matrix(df_data_0)"
   ]
  },
  {
   "cell_type": "markdown",
   "metadata": {},
   "source": [
    "#### Подготовка данных"
   ]
  },
  {
   "cell_type": "code",
   "execution_count": 12,
   "metadata": {},
   "outputs": [
    {
     "data": {
      "text/plain": [
       "(100000, 5)"
      ]
     },
     "execution_count": 12,
     "metadata": {},
     "output_type": "execute_result"
    }
   ],
   "source": [
    "# Размер таблицы без удаления дубликатов.\n",
    "df_data_0.shape"
   ]
  },
  {
   "cell_type": "code",
   "execution_count": 13,
   "metadata": {},
   "outputs": [
    {
     "data": {
      "text/plain": [
       "(100000, 5)"
      ]
     },
     "execution_count": 13,
     "metadata": {},
     "output_type": "execute_result"
    }
   ],
   "source": [
    "# Размер таблицы с удалением дубликатов.\n",
    "df_data_0.drop_duplicates().shape"
   ]
  },
  {
   "cell_type": "code",
   "execution_count": 14,
   "metadata": {},
   "outputs": [
    {
     "data": {
      "text/html": [
       "<div>\n",
       "<style scoped>\n",
       "    .dataframe tbody tr th:only-of-type {\n",
       "        vertical-align: middle;\n",
       "    }\n",
       "\n",
       "    .dataframe tbody tr th {\n",
       "        vertical-align: top;\n",
       "    }\n",
       "\n",
       "    .dataframe thead th {\n",
       "        text-align: right;\n",
       "    }\n",
       "</style>\n",
       "<table border=\"1\" class=\"dataframe\">\n",
       "  <thead>\n",
       "    <tr style=\"text-align: right;\">\n",
       "      <th></th>\n",
       "      <th>id</th>\n",
       "      <th>f0</th>\n",
       "      <th>f1</th>\n",
       "      <th>f2</th>\n",
       "      <th>product</th>\n",
       "    </tr>\n",
       "  </thead>\n",
       "  <tbody>\n",
       "    <tr>\n",
       "      <th>66136</th>\n",
       "      <td>74z30</td>\n",
       "      <td>1.084962</td>\n",
       "      <td>-0.312358</td>\n",
       "      <td>6.990771</td>\n",
       "      <td>127.643327</td>\n",
       "    </tr>\n",
       "    <tr>\n",
       "      <th>64022</th>\n",
       "      <td>74z30</td>\n",
       "      <td>0.741456</td>\n",
       "      <td>0.459229</td>\n",
       "      <td>5.153109</td>\n",
       "      <td>140.771492</td>\n",
       "    </tr>\n",
       "    <tr>\n",
       "      <th>51970</th>\n",
       "      <td>A5aEY</td>\n",
       "      <td>-0.180335</td>\n",
       "      <td>0.935548</td>\n",
       "      <td>-2.094773</td>\n",
       "      <td>33.020205</td>\n",
       "    </tr>\n",
       "    <tr>\n",
       "      <th>3389</th>\n",
       "      <td>A5aEY</td>\n",
       "      <td>-0.039949</td>\n",
       "      <td>0.156872</td>\n",
       "      <td>0.209861</td>\n",
       "      <td>89.249364</td>\n",
       "    </tr>\n",
       "    <tr>\n",
       "      <th>69163</th>\n",
       "      <td>AGS9W</td>\n",
       "      <td>-0.933795</td>\n",
       "      <td>0.116194</td>\n",
       "      <td>-3.655896</td>\n",
       "      <td>19.230453</td>\n",
       "    </tr>\n",
       "    <tr>\n",
       "      <th>42529</th>\n",
       "      <td>AGS9W</td>\n",
       "      <td>1.454747</td>\n",
       "      <td>-0.479651</td>\n",
       "      <td>0.683380</td>\n",
       "      <td>126.370504</td>\n",
       "    </tr>\n",
       "    <tr>\n",
       "      <th>931</th>\n",
       "      <td>HZww2</td>\n",
       "      <td>0.755284</td>\n",
       "      <td>0.368511</td>\n",
       "      <td>1.863211</td>\n",
       "      <td>30.681774</td>\n",
       "    </tr>\n",
       "    <tr>\n",
       "      <th>7530</th>\n",
       "      <td>HZww2</td>\n",
       "      <td>1.061194</td>\n",
       "      <td>-0.373969</td>\n",
       "      <td>10.430210</td>\n",
       "      <td>158.828695</td>\n",
       "    </tr>\n",
       "    <tr>\n",
       "      <th>63593</th>\n",
       "      <td>QcMuo</td>\n",
       "      <td>0.635635</td>\n",
       "      <td>-0.473422</td>\n",
       "      <td>0.862670</td>\n",
       "      <td>64.578675</td>\n",
       "    </tr>\n",
       "    <tr>\n",
       "      <th>1949</th>\n",
       "      <td>QcMuo</td>\n",
       "      <td>0.506563</td>\n",
       "      <td>-0.323775</td>\n",
       "      <td>-2.215583</td>\n",
       "      <td>75.496502</td>\n",
       "    </tr>\n",
       "    <tr>\n",
       "      <th>75715</th>\n",
       "      <td>Tdehs</td>\n",
       "      <td>0.112079</td>\n",
       "      <td>0.430296</td>\n",
       "      <td>3.218993</td>\n",
       "      <td>60.964018</td>\n",
       "    </tr>\n",
       "    <tr>\n",
       "      <th>21426</th>\n",
       "      <td>Tdehs</td>\n",
       "      <td>0.829407</td>\n",
       "      <td>0.298807</td>\n",
       "      <td>-0.049563</td>\n",
       "      <td>96.035308</td>\n",
       "    </tr>\n",
       "    <tr>\n",
       "      <th>92341</th>\n",
       "      <td>TtcGQ</td>\n",
       "      <td>0.110711</td>\n",
       "      <td>1.022689</td>\n",
       "      <td>0.911381</td>\n",
       "      <td>101.318008</td>\n",
       "    </tr>\n",
       "    <tr>\n",
       "      <th>60140</th>\n",
       "      <td>TtcGQ</td>\n",
       "      <td>0.569276</td>\n",
       "      <td>-0.104876</td>\n",
       "      <td>6.440215</td>\n",
       "      <td>85.350186</td>\n",
       "    </tr>\n",
       "    <tr>\n",
       "      <th>89582</th>\n",
       "      <td>bsk9y</td>\n",
       "      <td>0.398908</td>\n",
       "      <td>-0.400253</td>\n",
       "      <td>10.122376</td>\n",
       "      <td>163.433078</td>\n",
       "    </tr>\n",
       "    <tr>\n",
       "      <th>97785</th>\n",
       "      <td>bsk9y</td>\n",
       "      <td>0.378429</td>\n",
       "      <td>0.005837</td>\n",
       "      <td>0.160827</td>\n",
       "      <td>160.637302</td>\n",
       "    </tr>\n",
       "    <tr>\n",
       "      <th>41724</th>\n",
       "      <td>bxg6G</td>\n",
       "      <td>-0.823752</td>\n",
       "      <td>0.546319</td>\n",
       "      <td>3.630479</td>\n",
       "      <td>93.007798</td>\n",
       "    </tr>\n",
       "    <tr>\n",
       "      <th>1364</th>\n",
       "      <td>bxg6G</td>\n",
       "      <td>0.411645</td>\n",
       "      <td>0.856830</td>\n",
       "      <td>-3.653440</td>\n",
       "      <td>73.604260</td>\n",
       "    </tr>\n",
       "    <tr>\n",
       "      <th>16633</th>\n",
       "      <td>fiKDv</td>\n",
       "      <td>0.157341</td>\n",
       "      <td>1.028359</td>\n",
       "      <td>5.585586</td>\n",
       "      <td>95.817889</td>\n",
       "    </tr>\n",
       "    <tr>\n",
       "      <th>90815</th>\n",
       "      <td>fiKDv</td>\n",
       "      <td>0.049883</td>\n",
       "      <td>0.841313</td>\n",
       "      <td>6.394613</td>\n",
       "      <td>137.346586</td>\n",
       "    </tr>\n",
       "  </tbody>\n",
       "</table>\n",
       "</div>"
      ],
      "text/plain": [
       "          id        f0        f1         f2     product\n",
       "66136  74z30  1.084962 -0.312358   6.990771  127.643327\n",
       "64022  74z30  0.741456  0.459229   5.153109  140.771492\n",
       "51970  A5aEY -0.180335  0.935548  -2.094773   33.020205\n",
       "3389   A5aEY -0.039949  0.156872   0.209861   89.249364\n",
       "69163  AGS9W -0.933795  0.116194  -3.655896   19.230453\n",
       "42529  AGS9W  1.454747 -0.479651   0.683380  126.370504\n",
       "931    HZww2  0.755284  0.368511   1.863211   30.681774\n",
       "7530   HZww2  1.061194 -0.373969  10.430210  158.828695\n",
       "63593  QcMuo  0.635635 -0.473422   0.862670   64.578675\n",
       "1949   QcMuo  0.506563 -0.323775  -2.215583   75.496502\n",
       "75715  Tdehs  0.112079  0.430296   3.218993   60.964018\n",
       "21426  Tdehs  0.829407  0.298807  -0.049563   96.035308\n",
       "92341  TtcGQ  0.110711  1.022689   0.911381  101.318008\n",
       "60140  TtcGQ  0.569276 -0.104876   6.440215   85.350186\n",
       "89582  bsk9y  0.398908 -0.400253  10.122376  163.433078\n",
       "97785  bsk9y  0.378429  0.005837   0.160827  160.637302\n",
       "41724  bxg6G -0.823752  0.546319   3.630479   93.007798\n",
       "1364   bxg6G  0.411645  0.856830  -3.653440   73.604260\n",
       "16633  fiKDv  0.157341  1.028359   5.585586   95.817889\n",
       "90815  fiKDv  0.049883  0.841313   6.394613  137.346586"
      ]
     },
     "execution_count": 14,
     "metadata": {},
     "output_type": "execute_result"
    }
   ],
   "source": [
    "# Вывод записей с повторяющимися \"id\".\n",
    "id_counts = df_data_0[['id']].value_counts()\n",
    "id_duplicates = id_counts[id_counts > 1].reset_index()\n",
    "\n",
    "df_data_0[df_data_0['id'].isin(id_duplicates['id'])].sort_values(by='id')"
   ]
  },
  {
   "cell_type": "code",
   "execution_count": 15,
   "metadata": {},
   "outputs": [],
   "source": [
    "# Удаление уникального идентификатора скважины.\n",
    "df_data_0 = df_data_0.drop(columns=['id'])"
   ]
  },
  {
   "cell_type": "code",
   "execution_count": 16,
   "metadata": {},
   "outputs": [],
   "source": [
    "# Удаление дубликатов.\n",
    "df_data_0 = df_data_0.drop_duplicates()"
   ]
  },
  {
   "cell_type": "code",
   "execution_count": 17,
   "metadata": {},
   "outputs": [
    {
     "data": {
      "text/plain": [
       "(100000, 4)"
      ]
     },
     "execution_count": 17,
     "metadata": {},
     "output_type": "execute_result"
    }
   ],
   "source": [
    "# Проверка: вывод размерности таблицы после удаления признака \"id\" и дубликатов.\n",
    "df_data_0.shape"
   ]
  },
  {
   "cell_type": "markdown",
   "metadata": {},
   "source": [
    "#### Выводы"
   ]
  },
  {
   "cell_type": "markdown",
   "metadata": {},
   "source": [
    "Выводы о данных первого региона:\n",
    "- данные соответствуют сопроводительной документации;\n",
    "- названия признаков соответствуют стилю <code>snake_case</code>;\n",
    "- в данных отсутствуют пропуски;\n",
    "- признаки <code>f0</code> и <code>f1</code> имеют умеренную обратную линейную корреляцию, коэффициент корреляции равен -0.44;\n",
    "- целевая переменная <code>product</code> и признак <code>f2</code> имеют умеренную прямую линейную корреляцию, коэффициент корреляции равен 0.48;\n",
    "- количество уникальных значений уникального идентификатора скважины <code>id</code> меньше количества всех объектов в таблице. Это значит, что среди идентификаторов есть повторения, то есть дубликаты объектов. Подробный анализ показал, что объекты с одинаковыми идентификаторами имеют различные показатели признаков. Таким образом, вероятно, это разные объекты, которым ошибочно был присвоен идентичный идентификатор.\n",
    "\n",
    "В ходе подготовки данных был удалён уникальный идентификатор скважины <code>id</code>, так как модель должна выявлять основные тенденции в данных, а не запоминать конкретные скважины.\n",
    "\n",
    "Также была проведена проверка на дубликаты: размерность таблицы не изменилась после удаления дубликатов, значит их не было."
   ]
  },
  {
   "cell_type": "markdown",
   "metadata": {},
   "source": [
    "### Данные второго региона"
   ]
  },
  {
   "cell_type": "markdown",
   "metadata": {},
   "source": [
    "#### Загрузка данных"
   ]
  },
  {
   "cell_type": "code",
   "execution_count": 18,
   "metadata": {},
   "outputs": [],
   "source": [
    "# Загрузка данных.\n",
    "df_data_1 = pd.read_csv(PATH_DATA_1)"
   ]
  },
  {
   "cell_type": "markdown",
   "metadata": {},
   "source": [
    "#### Исследование данных"
   ]
  },
  {
   "cell_type": "code",
   "execution_count": 19,
   "metadata": {},
   "outputs": [
    {
     "data": {
      "text/html": [
       "<div>\n",
       "<style scoped>\n",
       "    .dataframe tbody tr th:only-of-type {\n",
       "        vertical-align: middle;\n",
       "    }\n",
       "\n",
       "    .dataframe tbody tr th {\n",
       "        vertical-align: top;\n",
       "    }\n",
       "\n",
       "    .dataframe thead th {\n",
       "        text-align: right;\n",
       "    }\n",
       "</style>\n",
       "<table border=\"1\" class=\"dataframe\">\n",
       "  <thead>\n",
       "    <tr style=\"text-align: right;\">\n",
       "      <th></th>\n",
       "      <th>id</th>\n",
       "      <th>f0</th>\n",
       "      <th>f1</th>\n",
       "      <th>f2</th>\n",
       "      <th>product</th>\n",
       "    </tr>\n",
       "  </thead>\n",
       "  <tbody>\n",
       "    <tr>\n",
       "      <th>0</th>\n",
       "      <td>kBEdx</td>\n",
       "      <td>-15.001348</td>\n",
       "      <td>-8.276000</td>\n",
       "      <td>-0.005876</td>\n",
       "      <td>3.179103</td>\n",
       "    </tr>\n",
       "    <tr>\n",
       "      <th>1</th>\n",
       "      <td>62mP7</td>\n",
       "      <td>14.272088</td>\n",
       "      <td>-3.475083</td>\n",
       "      <td>0.999183</td>\n",
       "      <td>26.953261</td>\n",
       "    </tr>\n",
       "    <tr>\n",
       "      <th>2</th>\n",
       "      <td>vyE1P</td>\n",
       "      <td>6.263187</td>\n",
       "      <td>-5.948386</td>\n",
       "      <td>5.001160</td>\n",
       "      <td>134.766305</td>\n",
       "    </tr>\n",
       "    <tr>\n",
       "      <th>3</th>\n",
       "      <td>KcrkZ</td>\n",
       "      <td>-13.081196</td>\n",
       "      <td>-11.506057</td>\n",
       "      <td>4.999415</td>\n",
       "      <td>137.945408</td>\n",
       "    </tr>\n",
       "    <tr>\n",
       "      <th>4</th>\n",
       "      <td>AHL4O</td>\n",
       "      <td>12.702195</td>\n",
       "      <td>-8.147433</td>\n",
       "      <td>5.004363</td>\n",
       "      <td>134.766305</td>\n",
       "    </tr>\n",
       "  </tbody>\n",
       "</table>\n",
       "</div>"
      ],
      "text/plain": [
       "      id         f0         f1        f2     product\n",
       "0  kBEdx -15.001348  -8.276000 -0.005876    3.179103\n",
       "1  62mP7  14.272088  -3.475083  0.999183   26.953261\n",
       "2  vyE1P   6.263187  -5.948386  5.001160  134.766305\n",
       "3  KcrkZ -13.081196 -11.506057  4.999415  137.945408\n",
       "4  AHL4O  12.702195  -8.147433  5.004363  134.766305"
      ]
     },
     "execution_count": 19,
     "metadata": {},
     "output_type": "execute_result"
    }
   ],
   "source": [
    "# Вывод первых пяти строк.\n",
    "df_data_1.head()"
   ]
  },
  {
   "cell_type": "code",
   "execution_count": 20,
   "metadata": {},
   "outputs": [
    {
     "data": {
      "text/html": [
       "<div>\n",
       "<style scoped>\n",
       "    .dataframe tbody tr th:only-of-type {\n",
       "        vertical-align: middle;\n",
       "    }\n",
       "\n",
       "    .dataframe tbody tr th {\n",
       "        vertical-align: top;\n",
       "    }\n",
       "\n",
       "    .dataframe thead th {\n",
       "        text-align: right;\n",
       "    }\n",
       "</style>\n",
       "<table border=\"1\" class=\"dataframe\">\n",
       "  <thead>\n",
       "    <tr style=\"text-align: right;\">\n",
       "      <th></th>\n",
       "      <th>count</th>\n",
       "      <th>mean</th>\n",
       "      <th>std</th>\n",
       "      <th>min</th>\n",
       "      <th>25%</th>\n",
       "      <th>50%</th>\n",
       "      <th>75%</th>\n",
       "      <th>max</th>\n",
       "    </tr>\n",
       "  </thead>\n",
       "  <tbody>\n",
       "    <tr>\n",
       "      <th>f0</th>\n",
       "      <td>100000.0</td>\n",
       "      <td>1.141296</td>\n",
       "      <td>8.965932</td>\n",
       "      <td>-31.609576</td>\n",
       "      <td>-6.298551</td>\n",
       "      <td>1.153055</td>\n",
       "      <td>8.621015</td>\n",
       "      <td>29.421755</td>\n",
       "    </tr>\n",
       "    <tr>\n",
       "      <th>f1</th>\n",
       "      <td>100000.0</td>\n",
       "      <td>-4.796579</td>\n",
       "      <td>5.119872</td>\n",
       "      <td>-26.358598</td>\n",
       "      <td>-8.267985</td>\n",
       "      <td>-4.813172</td>\n",
       "      <td>-1.332816</td>\n",
       "      <td>18.734063</td>\n",
       "    </tr>\n",
       "    <tr>\n",
       "      <th>f2</th>\n",
       "      <td>100000.0</td>\n",
       "      <td>2.494541</td>\n",
       "      <td>1.703572</td>\n",
       "      <td>-0.018144</td>\n",
       "      <td>1.000021</td>\n",
       "      <td>2.011479</td>\n",
       "      <td>3.999904</td>\n",
       "      <td>5.019721</td>\n",
       "    </tr>\n",
       "    <tr>\n",
       "      <th>product</th>\n",
       "      <td>100000.0</td>\n",
       "      <td>68.825000</td>\n",
       "      <td>45.944423</td>\n",
       "      <td>0.000000</td>\n",
       "      <td>26.953261</td>\n",
       "      <td>57.085625</td>\n",
       "      <td>107.813044</td>\n",
       "      <td>137.945408</td>\n",
       "    </tr>\n",
       "  </tbody>\n",
       "</table>\n",
       "</div>"
      ],
      "text/plain": [
       "            count       mean        std        min        25%        50%  \\\n",
       "f0       100000.0   1.141296   8.965932 -31.609576  -6.298551   1.153055   \n",
       "f1       100000.0  -4.796579   5.119872 -26.358598  -8.267985  -4.813172   \n",
       "f2       100000.0   2.494541   1.703572  -0.018144   1.000021   2.011479   \n",
       "product  100000.0  68.825000  45.944423   0.000000  26.953261  57.085625   \n",
       "\n",
       "                75%         max  \n",
       "f0         8.621015   29.421755  \n",
       "f1        -1.332816   18.734063  \n",
       "f2         3.999904    5.019721  \n",
       "product  107.813044  137.945408  "
      ]
     },
     "execution_count": 20,
     "metadata": {},
     "output_type": "execute_result"
    }
   ],
   "source": [
    "# Вывод основных статистик непрерывных признаков.\n",
    "df_data_1.describe().T"
   ]
  },
  {
   "cell_type": "code",
   "execution_count": 21,
   "metadata": {},
   "outputs": [
    {
     "data": {
      "text/html": [
       "<div>\n",
       "<style scoped>\n",
       "    .dataframe tbody tr th:only-of-type {\n",
       "        vertical-align: middle;\n",
       "    }\n",
       "\n",
       "    .dataframe tbody tr th {\n",
       "        vertical-align: top;\n",
       "    }\n",
       "\n",
       "    .dataframe thead th {\n",
       "        text-align: right;\n",
       "    }\n",
       "</style>\n",
       "<table border=\"1\" class=\"dataframe\">\n",
       "  <thead>\n",
       "    <tr style=\"text-align: right;\">\n",
       "      <th></th>\n",
       "      <th>count</th>\n",
       "      <th>unique</th>\n",
       "      <th>top</th>\n",
       "      <th>freq</th>\n",
       "    </tr>\n",
       "  </thead>\n",
       "  <tbody>\n",
       "    <tr>\n",
       "      <th>id</th>\n",
       "      <td>100000</td>\n",
       "      <td>99996</td>\n",
       "      <td>bfPNe</td>\n",
       "      <td>2</td>\n",
       "    </tr>\n",
       "  </tbody>\n",
       "</table>\n",
       "</div>"
      ],
      "text/plain": [
       "     count unique    top freq\n",
       "id  100000  99996  bfPNe    2"
      ]
     },
     "execution_count": 21,
     "metadata": {},
     "output_type": "execute_result"
    }
   ],
   "source": [
    "# Вывод основных статистик категориальных признаков.\n",
    "df_data_1.describe(include='O').T"
   ]
  },
  {
   "cell_type": "code",
   "execution_count": 22,
   "metadata": {
    "scrolled": true
   },
   "outputs": [
    {
     "name": "stdout",
     "output_type": "stream",
     "text": [
      "<class 'pandas.core.frame.DataFrame'>\n",
      "RangeIndex: 100000 entries, 0 to 99999\n",
      "Data columns (total 5 columns):\n",
      " #   Column   Non-Null Count   Dtype  \n",
      "---  ------   --------------   -----  \n",
      " 0   id       100000 non-null  object \n",
      " 1   f0       100000 non-null  float64\n",
      " 2   f1       100000 non-null  float64\n",
      " 3   f2       100000 non-null  float64\n",
      " 4   product  100000 non-null  float64\n",
      "dtypes: float64(4), object(1)\n",
      "memory usage: 3.8+ MB\n"
     ]
    }
   ],
   "source": [
    "# Вывод основной информации о данных.\n",
    "df_data_1.info()"
   ]
  },
  {
   "cell_type": "code",
   "execution_count": 23,
   "metadata": {
    "scrolled": false
   },
   "outputs": [
    {
     "data": {
      "image/png": "[encoded data removed]",
      "text/plain": [
       "<Figure size 576x432 with 2 Axes>"
      ]
     },
     "metadata": {
      "needs_background": "light"
     },
     "output_type": "display_data"
    }
   ],
   "source": [
    "# Вывод матрицы корреляций признаков.\n",
    "draw_corr_matrix(df_data_1)"
   ]
  },
  {
   "cell_type": "markdown",
   "metadata": {},
   "source": [
    "#### Подготовка данных"
   ]
  },
  {
   "cell_type": "code",
   "execution_count": 24,
   "metadata": {},
   "outputs": [],
   "source": [
    "# Удаление уникального идентификатора скважины.\n",
    "df_data_1 = df_data_1.drop(columns=['id'])"
   ]
  },
  {
   "cell_type": "code",
   "execution_count": 25,
   "metadata": {},
   "outputs": [],
   "source": [
    "# Удаление дубликатов.\n",
    "df_data_1 = df_data_1.drop_duplicates()"
   ]
  },
  {
   "cell_type": "code",
   "execution_count": 26,
   "metadata": {},
   "outputs": [
    {
     "data": {
      "text/plain": [
       "(100000, 4)"
      ]
     },
     "execution_count": 26,
     "metadata": {},
     "output_type": "execute_result"
    }
   ],
   "source": [
    "# Проверка: вывод размерности таблицы после удаления признака \"id\" и дубликатов.\n",
    "df_data_1.shape"
   ]
  },
  {
   "cell_type": "markdown",
   "metadata": {},
   "source": [
    "#### Выводы"
   ]
  },
  {
   "cell_type": "markdown",
   "metadata": {},
   "source": [
    "Выводы о данных второго региона:\n",
    "- данные соответствуют сопроводительной документации;\n",
    "- названия признаков соответствуют стилю <code>snake_case</code>;\n",
    "- в данных отсутствуют пропуски;\n",
    "- целевая переменная <code>product</code> и признак <code>f2</code> имеют **полную прямую линейную зависимость**, коэффициент корреляции равен 1. Таким образом, одного признака <code>f2</code> будет достаточно для прогноза;\n",
    "- уникальный идентификатор скважины <code>id</code> имеет дубликаты.\n",
    "\n",
    "Также был удалён уникальный идентификатор скважины <code>id</code>.\n",
    "\n",
    "Проверка на дубликаты объектов не выявила дубликатов."
   ]
  },
  {
   "cell_type": "markdown",
   "metadata": {},
   "source": [
    "### Данные третьего региона"
   ]
  },
  {
   "cell_type": "markdown",
   "metadata": {},
   "source": [
    "#### Загрузка данных"
   ]
  },
  {
   "cell_type": "code",
   "execution_count": 27,
   "metadata": {},
   "outputs": [],
   "source": [
    "# Загрузка данных.\n",
    "df_data_2 = pd.read_csv(PATH_DATA_2)"
   ]
  },
  {
   "cell_type": "markdown",
   "metadata": {},
   "source": [
    "#### Исследование данных"
   ]
  },
  {
   "cell_type": "code",
   "execution_count": 28,
   "metadata": {},
   "outputs": [
    {
     "data": {
      "text/html": [
       "<div>\n",
       "<style scoped>\n",
       "    .dataframe tbody tr th:only-of-type {\n",
       "        vertical-align: middle;\n",
       "    }\n",
       "\n",
       "    .dataframe tbody tr th {\n",
       "        vertical-align: top;\n",
       "    }\n",
       "\n",
       "    .dataframe thead th {\n",
       "        text-align: right;\n",
       "    }\n",
       "</style>\n",
       "<table border=\"1\" class=\"dataframe\">\n",
       "  <thead>\n",
       "    <tr style=\"text-align: right;\">\n",
       "      <th></th>\n",
       "      <th>id</th>\n",
       "      <th>f0</th>\n",
       "      <th>f1</th>\n",
       "      <th>f2</th>\n",
       "      <th>product</th>\n",
       "    </tr>\n",
       "  </thead>\n",
       "  <tbody>\n",
       "    <tr>\n",
       "      <th>0</th>\n",
       "      <td>fwXo0</td>\n",
       "      <td>-1.146987</td>\n",
       "      <td>0.963328</td>\n",
       "      <td>-0.828965</td>\n",
       "      <td>27.758673</td>\n",
       "    </tr>\n",
       "    <tr>\n",
       "      <th>1</th>\n",
       "      <td>WJtFt</td>\n",
       "      <td>0.262778</td>\n",
       "      <td>0.269839</td>\n",
       "      <td>-2.530187</td>\n",
       "      <td>56.069697</td>\n",
       "    </tr>\n",
       "    <tr>\n",
       "      <th>2</th>\n",
       "      <td>ovLUW</td>\n",
       "      <td>0.194587</td>\n",
       "      <td>0.289035</td>\n",
       "      <td>-5.586433</td>\n",
       "      <td>62.871910</td>\n",
       "    </tr>\n",
       "    <tr>\n",
       "      <th>3</th>\n",
       "      <td>q6cA6</td>\n",
       "      <td>2.236060</td>\n",
       "      <td>-0.553760</td>\n",
       "      <td>0.930038</td>\n",
       "      <td>114.572842</td>\n",
       "    </tr>\n",
       "    <tr>\n",
       "      <th>4</th>\n",
       "      <td>WPMUX</td>\n",
       "      <td>-0.515993</td>\n",
       "      <td>1.716266</td>\n",
       "      <td>5.899011</td>\n",
       "      <td>149.600746</td>\n",
       "    </tr>\n",
       "  </tbody>\n",
       "</table>\n",
       "</div>"
      ],
      "text/plain": [
       "      id        f0        f1        f2     product\n",
       "0  fwXo0 -1.146987  0.963328 -0.828965   27.758673\n",
       "1  WJtFt  0.262778  0.269839 -2.530187   56.069697\n",
       "2  ovLUW  0.194587  0.289035 -5.586433   62.871910\n",
       "3  q6cA6  2.236060 -0.553760  0.930038  114.572842\n",
       "4  WPMUX -0.515993  1.716266  5.899011  149.600746"
      ]
     },
     "execution_count": 28,
     "metadata": {},
     "output_type": "execute_result"
    }
   ],
   "source": [
    "# Вывод первых пяти строк.\n",
    "df_data_2.head()"
   ]
  },
  {
   "cell_type": "code",
   "execution_count": 29,
   "metadata": {},
   "outputs": [
    {
     "data": {
      "text/html": [
       "<div>\n",
       "<style scoped>\n",
       "    .dataframe tbody tr th:only-of-type {\n",
       "        vertical-align: middle;\n",
       "    }\n",
       "\n",
       "    .dataframe tbody tr th {\n",
       "        vertical-align: top;\n",
       "    }\n",
       "\n",
       "    .dataframe thead th {\n",
       "        text-align: right;\n",
       "    }\n",
       "</style>\n",
       "<table border=\"1\" class=\"dataframe\">\n",
       "  <thead>\n",
       "    <tr style=\"text-align: right;\">\n",
       "      <th></th>\n",
       "      <th>count</th>\n",
       "      <th>mean</th>\n",
       "      <th>std</th>\n",
       "      <th>min</th>\n",
       "      <th>25%</th>\n",
       "      <th>50%</th>\n",
       "      <th>75%</th>\n",
       "      <th>max</th>\n",
       "    </tr>\n",
       "  </thead>\n",
       "  <tbody>\n",
       "    <tr>\n",
       "      <th>f0</th>\n",
       "      <td>100000.0</td>\n",
       "      <td>0.002023</td>\n",
       "      <td>1.732045</td>\n",
       "      <td>-8.760004</td>\n",
       "      <td>-1.162288</td>\n",
       "      <td>0.009424</td>\n",
       "      <td>1.158535</td>\n",
       "      <td>7.238262</td>\n",
       "    </tr>\n",
       "    <tr>\n",
       "      <th>f1</th>\n",
       "      <td>100000.0</td>\n",
       "      <td>-0.002081</td>\n",
       "      <td>1.730417</td>\n",
       "      <td>-7.084020</td>\n",
       "      <td>-1.174820</td>\n",
       "      <td>-0.009482</td>\n",
       "      <td>1.163678</td>\n",
       "      <td>7.844801</td>\n",
       "    </tr>\n",
       "    <tr>\n",
       "      <th>f2</th>\n",
       "      <td>100000.0</td>\n",
       "      <td>2.495128</td>\n",
       "      <td>3.473445</td>\n",
       "      <td>-11.970335</td>\n",
       "      <td>0.130359</td>\n",
       "      <td>2.484236</td>\n",
       "      <td>4.858794</td>\n",
       "      <td>16.739402</td>\n",
       "    </tr>\n",
       "    <tr>\n",
       "      <th>product</th>\n",
       "      <td>100000.0</td>\n",
       "      <td>95.000000</td>\n",
       "      <td>44.749921</td>\n",
       "      <td>0.000000</td>\n",
       "      <td>59.450441</td>\n",
       "      <td>94.925613</td>\n",
       "      <td>130.595027</td>\n",
       "      <td>190.029838</td>\n",
       "    </tr>\n",
       "  </tbody>\n",
       "</table>\n",
       "</div>"
      ],
      "text/plain": [
       "            count       mean        std        min        25%        50%  \\\n",
       "f0       100000.0   0.002023   1.732045  -8.760004  -1.162288   0.009424   \n",
       "f1       100000.0  -0.002081   1.730417  -7.084020  -1.174820  -0.009482   \n",
       "f2       100000.0   2.495128   3.473445 -11.970335   0.130359   2.484236   \n",
       "product  100000.0  95.000000  44.749921   0.000000  59.450441  94.925613   \n",
       "\n",
       "                75%         max  \n",
       "f0         1.158535    7.238262  \n",
       "f1         1.163678    7.844801  \n",
       "f2         4.858794   16.739402  \n",
       "product  130.595027  190.029838  "
      ]
     },
     "execution_count": 29,
     "metadata": {},
     "output_type": "execute_result"
    }
   ],
   "source": [
    "# Вывод основных статистик непрерывных признаков.\n",
    "df_data_2.describe().T"
   ]
  },
  {
   "cell_type": "code",
   "execution_count": 30,
   "metadata": {},
   "outputs": [
    {
     "data": {
      "text/html": [
       "<div>\n",
       "<style scoped>\n",
       "    .dataframe tbody tr th:only-of-type {\n",
       "        vertical-align: middle;\n",
       "    }\n",
       "\n",
       "    .dataframe tbody tr th {\n",
       "        vertical-align: top;\n",
       "    }\n",
       "\n",
       "    .dataframe thead th {\n",
       "        text-align: right;\n",
       "    }\n",
       "</style>\n",
       "<table border=\"1\" class=\"dataframe\">\n",
       "  <thead>\n",
       "    <tr style=\"text-align: right;\">\n",
       "      <th></th>\n",
       "      <th>count</th>\n",
       "      <th>unique</th>\n",
       "      <th>top</th>\n",
       "      <th>freq</th>\n",
       "    </tr>\n",
       "  </thead>\n",
       "  <tbody>\n",
       "    <tr>\n",
       "      <th>id</th>\n",
       "      <td>100000</td>\n",
       "      <td>99996</td>\n",
       "      <td>KUPhW</td>\n",
       "      <td>2</td>\n",
       "    </tr>\n",
       "  </tbody>\n",
       "</table>\n",
       "</div>"
      ],
      "text/plain": [
       "     count unique    top freq\n",
       "id  100000  99996  KUPhW    2"
      ]
     },
     "execution_count": 30,
     "metadata": {},
     "output_type": "execute_result"
    }
   ],
   "source": [
    "# Вывод основных статистик категориальных признаков.\n",
    "df_data_2.describe(include='O').T"
   ]
  },
  {
   "cell_type": "code",
   "execution_count": 31,
   "metadata": {
    "scrolled": true
   },
   "outputs": [
    {
     "name": "stdout",
     "output_type": "stream",
     "text": [
      "<class 'pandas.core.frame.DataFrame'>\n",
      "RangeIndex: 100000 entries, 0 to 99999\n",
      "Data columns (total 5 columns):\n",
      " #   Column   Non-Null Count   Dtype  \n",
      "---  ------   --------------   -----  \n",
      " 0   id       100000 non-null  object \n",
      " 1   f0       100000 non-null  float64\n",
      " 2   f1       100000 non-null  float64\n",
      " 3   f2       100000 non-null  float64\n",
      " 4   product  100000 non-null  float64\n",
      "dtypes: float64(4), object(1)\n",
      "memory usage: 3.8+ MB\n"
     ]
    }
   ],
   "source": [
    "# Вывод основной информации о данных.\n",
    "df_data_2.info()"
   ]
  },
  {
   "cell_type": "code",
   "execution_count": 32,
   "metadata": {
    "scrolled": false
   },
   "outputs": [
    {
     "data": {
      "image/png": "[encoded data removed]",
      "text/plain": [
       "<Figure size 576x432 with 2 Axes>"
      ]
     },
     "metadata": {
      "needs_background": "light"
     },
     "output_type": "display_data"
    }
   ],
   "source": [
    "# Вывод матрицы корреляций признаков.\n",
    "draw_corr_matrix(df_data_2)"
   ]
  },
  {
   "cell_type": "markdown",
   "metadata": {},
   "source": [
    "#### Подготовка данных"
   ]
  },
  {
   "cell_type": "code",
   "execution_count": 33,
   "metadata": {},
   "outputs": [],
   "source": [
    "# Удаление уникального идентификатора скважины.\n",
    "df_data_2 = df_data_2.drop(columns=['id'])"
   ]
  },
  {
   "cell_type": "code",
   "execution_count": 34,
   "metadata": {},
   "outputs": [],
   "source": [
    "# Удаление дубликатов.\n",
    "df_data_2 = df_data_2.drop_duplicates()"
   ]
  },
  {
   "cell_type": "code",
   "execution_count": 35,
   "metadata": {},
   "outputs": [
    {
     "data": {
      "text/plain": [
       "(100000, 4)"
      ]
     },
     "execution_count": 35,
     "metadata": {},
     "output_type": "execute_result"
    }
   ],
   "source": [
    "# Проверка: вывод размерности таблицы после удаления признака \"id\" и дубликатов.\n",
    "df_data_2.shape"
   ]
  },
  {
   "cell_type": "markdown",
   "metadata": {},
   "source": [
    "#### Выводы"
   ]
  },
  {
   "cell_type": "markdown",
   "metadata": {},
   "source": [
    "Выводы о данных второго региона:\n",
    "- данные соответствуют сопроводительной документации;\n",
    "- названия признаков соответствуют стилю <code>snake_case</code>;\n",
    "- в данных отсутствуют пропуски;\n",
    "- целевая переменная <code>product</code> и признак <code>f2</code> имеют умеренную прямую линейную корреляцию, коэффициент корреляции равен 0.45;\n",
    "- уникальный идентификатор скважины <code>id</code> имеет дубликаты.\n",
    "\n",
    "Также был удалён уникальный идентификатор скважины <code>id</code>.\n",
    "\n",
    "Проверка на дубликаты объектов не выявила дубликатов."
   ]
  },
  {
   "cell_type": "markdown",
   "metadata": {},
   "source": [
    "<div class=\"alert alert-block alert-success\">\n",
    "<b>Успех:</b> Данные загружены и осмотрены корректно. Согласен, что колонка id нам не нужна. Радует, что корреляции были визуализированы!\n",
    "</div>"
   ]
  },
  {
   "cell_type": "markdown",
   "metadata": {},
   "source": [
    "## Обучение и проверка модели"
   ]
  },
  {
   "cell_type": "markdown",
   "metadata": {},
   "source": [
    "### Первый регион"
   ]
  },
  {
   "cell_type": "markdown",
   "metadata": {},
   "source": [
    "#### Построение и оценка базовой модели"
   ]
  },
  {
   "cell_type": "code",
   "execution_count": 36,
   "metadata": {},
   "outputs": [
    {
     "data": {
      "text/plain": [
       "((75000, 3), (25000, 3), (75000, 1), (25000, 1))"
      ]
     },
     "execution_count": 36,
     "metadata": {},
     "output_type": "execute_result"
    }
   ],
   "source": [
    "# Подготовка данных для построения и валидации базовой модели.\n",
    "X = df_data_0.drop(columns=['product'])\n",
    "y = df_data_0[['product']]\n",
    "\n",
    "# Разбиение на обучающую и валидационную выборки.\n",
    "X_train, X_test, y_train, y_test = train_test_split(X, y, test_size=valid_size_global, random_state=random_state_global)\n",
    "\n",
    "# Проверка: вывод размерностей выборок.\n",
    "X_train.shape, X_test.shape, y_train.shape, y_test.shape"
   ]
  },
  {
   "cell_type": "code",
   "execution_count": 37,
   "metadata": {
    "scrolled": true
   },
   "outputs": [
    {
     "name": "stdout",
     "output_type": "stream",
     "text": [
      "CPU times: user 6.51 ms, sys: 7.11 ms, total: 13.6 ms\n",
      "Wall time: 11.1 ms\n"
     ]
    }
   ],
   "source": [
    "%%time\n",
    "\n",
    "# Инициализация базовой модели без настроек.\n",
    "lr = LinearRegression(n_jobs=-1)\n",
    "\n",
    "# Обучение базовой модели.\n",
    "lr.fit(X_train, y_train)\n",
    "\n",
    "# Выполнение прогноза.\n",
    "y_pred = lr.predict(X_test)"
   ]
  },
  {
   "cell_type": "code",
   "execution_count": 38,
   "metadata": {},
   "outputs": [
    {
     "data": {
      "text/html": [
       "<div>\n",
       "<style scoped>\n",
       "    .dataframe tbody tr th:only-of-type {\n",
       "        vertical-align: middle;\n",
       "    }\n",
       "\n",
       "    .dataframe tbody tr th {\n",
       "        vertical-align: top;\n",
       "    }\n",
       "\n",
       "    .dataframe thead th {\n",
       "        text-align: right;\n",
       "    }\n",
       "</style>\n",
       "<table border=\"1\" class=\"dataframe\">\n",
       "  <thead>\n",
       "    <tr style=\"text-align: right;\">\n",
       "      <th></th>\n",
       "      <th>r2_score</th>\n",
       "      <th>rmse</th>\n",
       "    </tr>\n",
       "  </thead>\n",
       "  <tbody>\n",
       "    <tr>\n",
       "      <th>area_0_base_model</th>\n",
       "      <td>0.280926</td>\n",
       "      <td>37.481009</td>\n",
       "    </tr>\n",
       "  </tbody>\n",
       "</table>\n",
       "</div>"
      ],
      "text/plain": [
       "                   r2_score       rmse\n",
       "area_0_base_model  0.280926  37.481009"
      ]
     },
     "execution_count": 38,
     "metadata": {},
     "output_type": "execute_result"
    }
   ],
   "source": [
    "# Таблица метрик.\n",
    "df_metrics = pd.DataFrame()\n",
    "\n",
    "# Вывод метрик.\n",
    "df_metrics.loc['area_0_base_model', 'r2_score'] = r2_score(y_test, y_pred)\n",
    "df_metrics.loc['area_0_base_model', 'rmse'] = mean_squared_error(y_test, y_pred, squared=False)\n",
    "\n",
    "# Проверка.\n",
    "df_metrics"
   ]
  },
  {
   "cell_type": "markdown",
   "metadata": {},
   "source": [
    "Базовая модель объяснила малую долю дисперсии целевой переменной <code>r2_score</code>.\n",
    "\n",
    "Среднеквадратичная ошибка <code>rmse</code> составляет более трети от среднего целевой переменной 92.5, что также является плохой характеристикой модели."
   ]
  },
  {
   "cell_type": "markdown",
   "metadata": {},
   "source": [
    "#### Улучшение модели"
   ]
  },
  {
   "cell_type": "code",
   "execution_count": 39,
   "metadata": {
    "scrolled": true
   },
   "outputs": [
    {
     "name": "stdout",
     "output_type": "stream",
     "text": [
      "<class 'pandas.core.frame.DataFrame'>\n",
      "Int64Index: 75000 entries, 2606 to 68268\n",
      "Data columns (total 10 columns):\n",
      " #   Column  Non-Null Count  Dtype  \n",
      "---  ------  --------------  -----  \n",
      " 0   f0      75000 non-null  float64\n",
      " 1   f1      75000 non-null  float64\n",
      " 2   f2      75000 non-null  float64\n",
      " 3   f0_f0   75000 non-null  float64\n",
      " 4   f0_f1   75000 non-null  float64\n",
      " 5   f0_f2   75000 non-null  float64\n",
      " 6   f1_f1   75000 non-null  float64\n",
      " 7   f1_f2   75000 non-null  float64\n",
      " 8   f2_f2   75000 non-null  float64\n",
      " 9   bias    75000 non-null  int64  \n",
      "dtypes: float64(9), int64(1)\n",
      "memory usage: 6.3 MB\n"
     ]
    }
   ],
   "source": [
    "# Полиномизация обучающей выборки.\n",
    "X_train = polynomization_2(X_train)\n",
    "\n",
    "# Проверка: вывод основной информации о признаках.\n",
    "X_train.info()"
   ]
  },
  {
   "cell_type": "code",
   "execution_count": 40,
   "metadata": {},
   "outputs": [
    {
     "name": "stdout",
     "output_type": "stream",
     "text": [
      "<class 'pandas.core.frame.DataFrame'>\n",
      "Int64Index: 25000 entries, 3582 to 18831\n",
      "Data columns (total 10 columns):\n",
      " #   Column  Non-Null Count  Dtype  \n",
      "---  ------  --------------  -----  \n",
      " 0   f0      25000 non-null  float64\n",
      " 1   f1      25000 non-null  float64\n",
      " 2   f2      25000 non-null  float64\n",
      " 3   f0_f0   25000 non-null  float64\n",
      " 4   f0_f1   25000 non-null  float64\n",
      " 5   f0_f2   25000 non-null  float64\n",
      " 6   f1_f1   25000 non-null  float64\n",
      " 7   f1_f2   25000 non-null  float64\n",
      " 8   f2_f2   25000 non-null  float64\n",
      " 9   bias    25000 non-null  int64  \n",
      "dtypes: float64(9), int64(1)\n",
      "memory usage: 2.1 MB\n"
     ]
    }
   ],
   "source": [
    "# Полиномизация валидационной выборки.\n",
    "X_test = polynomization_2(X_test)\n",
    "\n",
    "# Проверка: вывод основной информации о признаках.\n",
    "X_test.info()"
   ]
  },
  {
   "cell_type": "code",
   "execution_count": 41,
   "metadata": {},
   "outputs": [],
   "source": [
    "# Инициализация инструмента стандартизации.\n",
    "ss = StandardScaler()\n",
    "\n",
    "# Стандартизация признаков.\n",
    "X_train = ss.fit_transform(X_train)\n",
    "X_test = ss.transform(X_test)"
   ]
  },
  {
   "cell_type": "code",
   "execution_count": 42,
   "metadata": {
    "scrolled": true
   },
   "outputs": [
    {
     "name": "stdout",
     "output_type": "stream",
     "text": [
      "CPU times: user 12.3 ms, sys: 1.03 ms, total: 13.3 ms\n",
      "Wall time: 8.6 ms\n"
     ]
    }
   ],
   "source": [
    "%%time\n",
    "\n",
    "# Инициализация модели без настроек.\n",
    "ridge = Ridge(random_state=random_state_global)\n",
    "\n",
    "# Обучение базовой модели.\n",
    "ridge.fit(X_train, y_train)\n",
    "\n",
    "# Выполнение прогноза.\n",
    "y_pred = ridge.predict(X_test)"
   ]
  },
  {
   "cell_type": "code",
   "execution_count": 43,
   "metadata": {},
   "outputs": [
    {
     "data": {
      "text/html": [
       "<div>\n",
       "<style scoped>\n",
       "    .dataframe tbody tr th:only-of-type {\n",
       "        vertical-align: middle;\n",
       "    }\n",
       "\n",
       "    .dataframe tbody tr th {\n",
       "        vertical-align: top;\n",
       "    }\n",
       "\n",
       "    .dataframe thead th {\n",
       "        text-align: right;\n",
       "    }\n",
       "</style>\n",
       "<table border=\"1\" class=\"dataframe\">\n",
       "  <thead>\n",
       "    <tr style=\"text-align: right;\">\n",
       "      <th></th>\n",
       "      <th>r2_score</th>\n",
       "      <th>rmse</th>\n",
       "    </tr>\n",
       "  </thead>\n",
       "  <tbody>\n",
       "    <tr>\n",
       "      <th>area_0_base_model</th>\n",
       "      <td>0.280926</td>\n",
       "      <td>37.481009</td>\n",
       "    </tr>\n",
       "    <tr>\n",
       "      <th>area_0_ridge</th>\n",
       "      <td>0.280867</td>\n",
       "      <td>37.482547</td>\n",
       "    </tr>\n",
       "  </tbody>\n",
       "</table>\n",
       "</div>"
      ],
      "text/plain": [
       "                   r2_score       rmse\n",
       "area_0_base_model  0.280926  37.481009\n",
       "area_0_ridge       0.280867  37.482547"
      ]
     },
     "execution_count": 43,
     "metadata": {},
     "output_type": "execute_result"
    }
   ],
   "source": [
    "# Вывод метрик.\n",
    "df_metrics.loc['area_0_ridge', 'r2_score'] = r2_score(y_test, y_pred)\n",
    "df_metrics.loc['area_0_ridge', 'rmse'] = mean_squared_error(y_test, y_pred, squared=False)\n",
    "\n",
    "# Проверка.\n",
    "df_metrics"
   ]
  },
  {
   "cell_type": "markdown",
   "metadata": {},
   "source": [
    "Полиномизация, стандартизация и регуляризация не улучшили метрики качества, поэтому будет использована базовая модель."
   ]
  },
  {
   "cell_type": "markdown",
   "metadata": {},
   "source": [
    "#### Сохранение результатов выбранной модели"
   ]
  },
  {
   "cell_type": "code",
   "execution_count": 44,
   "metadata": {},
   "outputs": [
    {
     "data": {
      "text/plain": [
       "((75000, 3), (25000, 3), (75000, 1), (25000, 1))"
      ]
     },
     "execution_count": 44,
     "metadata": {},
     "output_type": "execute_result"
    }
   ],
   "source": [
    "# Подготовка данных для построения и валидации базовой модели.\n",
    "X = df_data_0.drop(columns=['product'])\n",
    "y = df_data_0[['product']]\n",
    "\n",
    "# Разбиение на обучающую и валидационную выборки.\n",
    "X_train, X_test, y_train, y_test = train_test_split(X, y, test_size=valid_size_global, random_state=random_state_global)\n",
    "\n",
    "# Проверка: вывод размерностей выборок.\n",
    "X_train.shape, X_test.shape, y_train.shape, y_test.shape"
   ]
  },
  {
   "cell_type": "code",
   "execution_count": 45,
   "metadata": {
    "scrolled": true
   },
   "outputs": [
    {
     "name": "stdout",
     "output_type": "stream",
     "text": [
      "CPU times: user 13.5 ms, sys: 317 µs, total: 13.8 ms\n",
      "Wall time: 10.9 ms\n"
     ]
    }
   ],
   "source": [
    "%%time\n",
    "\n",
    "# Инициализация базовой модели без настроек.\n",
    "lr = LinearRegression(n_jobs=-1)\n",
    "\n",
    "# Обучение базовой модели.\n",
    "lr.fit(X_train, y_train)\n",
    "\n",
    "# Выполнение прогноза.\n",
    "y_pred = lr.predict(X_test)"
   ]
  },
  {
   "cell_type": "code",
   "execution_count": 46,
   "metadata": {},
   "outputs": [
    {
     "data": {
      "text/html": [
       "<div>\n",
       "<style scoped>\n",
       "    .dataframe tbody tr th:only-of-type {\n",
       "        vertical-align: middle;\n",
       "    }\n",
       "\n",
       "    .dataframe tbody tr th {\n",
       "        vertical-align: top;\n",
       "    }\n",
       "\n",
       "    .dataframe thead th {\n",
       "        text-align: right;\n",
       "    }\n",
       "</style>\n",
       "<table border=\"1\" class=\"dataframe\">\n",
       "  <thead>\n",
       "    <tr style=\"text-align: right;\">\n",
       "      <th></th>\n",
       "      <th>product</th>\n",
       "      <th>predicted</th>\n",
       "    </tr>\n",
       "  </thead>\n",
       "  <tbody>\n",
       "    <tr>\n",
       "      <th>3582</th>\n",
       "      <td>49.723143</td>\n",
       "      <td>95.303891</td>\n",
       "    </tr>\n",
       "    <tr>\n",
       "      <th>60498</th>\n",
       "      <td>10.583795</td>\n",
       "      <td>95.098407</td>\n",
       "    </tr>\n",
       "    <tr>\n",
       "      <th>53227</th>\n",
       "      <td>139.110613</td>\n",
       "      <td>106.702273</td>\n",
       "    </tr>\n",
       "    <tr>\n",
       "      <th>21333</th>\n",
       "      <td>85.109875</td>\n",
       "      <td>96.740059</td>\n",
       "    </tr>\n",
       "    <tr>\n",
       "      <th>3885</th>\n",
       "      <td>39.726827</td>\n",
       "      <td>97.703381</td>\n",
       "    </tr>\n",
       "  </tbody>\n",
       "</table>\n",
       "</div>"
      ],
      "text/plain": [
       "          product   predicted\n",
       "3582    49.723143   95.303891\n",
       "60498   10.583795   95.098407\n",
       "53227  139.110613  106.702273\n",
       "21333   85.109875   96.740059\n",
       "3885    39.726827   97.703381"
      ]
     },
     "execution_count": 46,
     "metadata": {},
     "output_type": "execute_result"
    }
   ],
   "source": [
    "# Сохранение предсказаний и правильных ответов на валидационной выборке.\n",
    "result_area_0 = y_test.copy()\n",
    "result_area_0['predicted'] = y_pred\n",
    "\n",
    "# Проверка.\n",
    "result_area_0.head()"
   ]
  },
  {
   "cell_type": "code",
   "execution_count": 47,
   "metadata": {},
   "outputs": [
    {
     "name": "stdout",
     "output_type": "stream",
     "text": [
      "Средний запас предсказанного сырья:\t92.27\n",
      "RMSE модели:\t\t\t\t37.48\n"
     ]
    }
   ],
   "source": [
    "print(f'Средний запас предсказанного сырья:\\t{result_area_0[\"predicted\"].mean():.4}')\n",
    "print(f'RMSE модели:\\t\\t\\t\\t{mean_squared_error(result_area_0[\"product\"], result_area_0[\"predicted\"], squared=False):.4}')"
   ]
  },
  {
   "cell_type": "code",
   "execution_count": 48,
   "metadata": {},
   "outputs": [
    {
     "data": {
      "text/html": [
       "<div>\n",
       "<style scoped>\n",
       "    .dataframe tbody tr th:only-of-type {\n",
       "        vertical-align: middle;\n",
       "    }\n",
       "\n",
       "    .dataframe tbody tr th {\n",
       "        vertical-align: top;\n",
       "    }\n",
       "\n",
       "    .dataframe thead th {\n",
       "        text-align: right;\n",
       "    }\n",
       "</style>\n",
       "<table border=\"1\" class=\"dataframe\">\n",
       "  <thead>\n",
       "    <tr style=\"text-align: right;\">\n",
       "      <th></th>\n",
       "      <th>mean_predict</th>\n",
       "      <th>rmse</th>\n",
       "    </tr>\n",
       "  </thead>\n",
       "  <tbody>\n",
       "    <tr>\n",
       "      <th>area_0</th>\n",
       "      <td>92.271449</td>\n",
       "      <td>37.481009</td>\n",
       "    </tr>\n",
       "  </tbody>\n",
       "</table>\n",
       "</div>"
      ],
      "text/plain": [
       "        mean_predict       rmse\n",
       "area_0     92.271449  37.481009"
      ]
     },
     "execution_count": 48,
     "metadata": {},
     "output_type": "execute_result"
    }
   ],
   "source": [
    "# Таблица с ифнормацией о регионах.\n",
    "df_areas_info = pd.DataFrame()\n",
    "\n",
    "# Заполнение среднего предсказанного запаса сырья.\n",
    "df_areas_info.loc['area_0', 'mean_predict'] = result_area_0[\"predicted\"].mean()\n",
    "\n",
    "# Заполнение среднеквадратичной ошибки предсказанного запаса сырья.\n",
    "df_areas_info.loc['area_0', 'rmse'] = mean_squared_error(result_area_0[\"product\"],\n",
    "                                                         result_area_0[\"predicted\"],\n",
    "                                                         squared=False)\n",
    "\n",
    "# Проверка.\n",
    "df_areas_info"
   ]
  },
  {
   "cell_type": "markdown",
   "metadata": {},
   "source": [
    "Средний запас предсказанного сырья находится достаточно близко к среднему всей выборки, 92.5.\n",
    "\n",
    "Однако при этом существенная, более трети от среднего, среднеквадратичная ошибка <code>rmse</code> свидетельствует о неточности модели. Отклонения в большую и меньшую стороны скомпенсировали друг друга, поэтому среднее предсказанное практически совпадает со средним фактическим значением сырья."
   ]
  },
  {
   "cell_type": "markdown",
   "metadata": {},
   "source": [
    "### Второй регион"
   ]
  },
  {
   "cell_type": "markdown",
   "metadata": {},
   "source": [
    "#### Построение и оценка базовой модели"
   ]
  },
  {
   "cell_type": "code",
   "execution_count": 49,
   "metadata": {},
   "outputs": [
    {
     "data": {
      "text/plain": [
       "((75000, 3), (25000, 3), (75000, 1), (25000, 1))"
      ]
     },
     "execution_count": 49,
     "metadata": {},
     "output_type": "execute_result"
    }
   ],
   "source": [
    "# Подготовка данных для построения и валидации базовой модели.\n",
    "X = df_data_1.drop(columns=['product'])\n",
    "y = df_data_1[['product']]\n",
    "\n",
    "# Разбиение на обучающую и валидационную выборки.\n",
    "X_train, X_test, y_train, y_test = train_test_split(X, y, test_size=valid_size_global, random_state=random_state_global)\n",
    "\n",
    "# Проверка: вывод размерностей выборок.\n",
    "X_train.shape, X_test.shape, y_train.shape, y_test.shape"
   ]
  },
  {
   "cell_type": "code",
   "execution_count": 50,
   "metadata": {
    "scrolled": true
   },
   "outputs": [
    {
     "name": "stdout",
     "output_type": "stream",
     "text": [
      "CPU times: user 9.58 ms, sys: 3.38 ms, total: 13 ms\n",
      "Wall time: 9.49 ms\n"
     ]
    }
   ],
   "source": [
    "%%time\n",
    "\n",
    "# Инициализация базовой модели без настроек.\n",
    "lr = LinearRegression(n_jobs=-1)\n",
    "\n",
    "# Обучение базовой модели.\n",
    "lr.fit(X_train, y_train)\n",
    "\n",
    "# Выполнение прогноза.\n",
    "y_pred = lr.predict(X_test)"
   ]
  },
  {
   "cell_type": "code",
   "execution_count": 51,
   "metadata": {},
   "outputs": [
    {
     "data": {
      "text/html": [
       "<div>\n",
       "<style scoped>\n",
       "    .dataframe tbody tr th:only-of-type {\n",
       "        vertical-align: middle;\n",
       "    }\n",
       "\n",
       "    .dataframe tbody tr th {\n",
       "        vertical-align: top;\n",
       "    }\n",
       "\n",
       "    .dataframe thead th {\n",
       "        text-align: right;\n",
       "    }\n",
       "</style>\n",
       "<table border=\"1\" class=\"dataframe\">\n",
       "  <thead>\n",
       "    <tr style=\"text-align: right;\">\n",
       "      <th></th>\n",
       "      <th>r2_score</th>\n",
       "      <th>rmse</th>\n",
       "    </tr>\n",
       "  </thead>\n",
       "  <tbody>\n",
       "    <tr>\n",
       "      <th>area_0_base_model</th>\n",
       "      <td>0.280926</td>\n",
       "      <td>37.481009</td>\n",
       "    </tr>\n",
       "    <tr>\n",
       "      <th>area_0_ridge</th>\n",
       "      <td>0.280867</td>\n",
       "      <td>37.482547</td>\n",
       "    </tr>\n",
       "    <tr>\n",
       "      <th>area_1_base_model</th>\n",
       "      <td>0.999627</td>\n",
       "      <td>0.887257</td>\n",
       "    </tr>\n",
       "  </tbody>\n",
       "</table>\n",
       "</div>"
      ],
      "text/plain": [
       "                   r2_score       rmse\n",
       "area_0_base_model  0.280926  37.481009\n",
       "area_0_ridge       0.280867  37.482547\n",
       "area_1_base_model  0.999627   0.887257"
      ]
     },
     "execution_count": 51,
     "metadata": {},
     "output_type": "execute_result"
    }
   ],
   "source": [
    "# Вывод метрик.\n",
    "df_metrics.loc['area_1_base_model', 'r2_score'] = r2_score(y_test, y_pred)\n",
    "df_metrics.loc['area_1_base_model', 'rmse'] = mean_squared_error(y_test, y_pred, squared=False)\n",
    "\n",
    "# Проверка.\n",
    "df_metrics"
   ]
  },
  {
   "cell_type": "markdown",
   "metadata": {},
   "source": [
    "Базовая модель объяснила практически всю дисперсию целевой переменной <code>r2_score</code>.\n",
    "\n",
    "Среднеквадратичная ошибка <code>rmse</code> составляет менее полутора процента от среднего целевой переменной 68.8, что является хорошей характеристикой модели."
   ]
  },
  {
   "cell_type": "markdown",
   "metadata": {},
   "source": [
    "#### Улучшение модели"
   ]
  },
  {
   "cell_type": "code",
   "execution_count": 52,
   "metadata": {
    "scrolled": true
   },
   "outputs": [
    {
     "name": "stdout",
     "output_type": "stream",
     "text": [
      "<class 'pandas.core.frame.DataFrame'>\n",
      "Int64Index: 75000 entries, 2606 to 68268\n",
      "Data columns (total 10 columns):\n",
      " #   Column  Non-Null Count  Dtype  \n",
      "---  ------  --------------  -----  \n",
      " 0   f0      75000 non-null  float64\n",
      " 1   f1      75000 non-null  float64\n",
      " 2   f2      75000 non-null  float64\n",
      " 3   f0_f0   75000 non-null  float64\n",
      " 4   f0_f1   75000 non-null  float64\n",
      " 5   f0_f2   75000 non-null  float64\n",
      " 6   f1_f1   75000 non-null  float64\n",
      " 7   f1_f2   75000 non-null  float64\n",
      " 8   f2_f2   75000 non-null  float64\n",
      " 9   bias    75000 non-null  int64  \n",
      "dtypes: float64(9), int64(1)\n",
      "memory usage: 6.3 MB\n"
     ]
    }
   ],
   "source": [
    "# Полиномизация обучающей выборки.\n",
    "X_train = polynomization_2(X_train)\n",
    "\n",
    "# Проверка: вывод основной информации о признаках.\n",
    "X_train.info()"
   ]
  },
  {
   "cell_type": "code",
   "execution_count": 53,
   "metadata": {},
   "outputs": [
    {
     "name": "stdout",
     "output_type": "stream",
     "text": [
      "<class 'pandas.core.frame.DataFrame'>\n",
      "Int64Index: 25000 entries, 3582 to 18831\n",
      "Data columns (total 10 columns):\n",
      " #   Column  Non-Null Count  Dtype  \n",
      "---  ------  --------------  -----  \n",
      " 0   f0      25000 non-null  float64\n",
      " 1   f1      25000 non-null  float64\n",
      " 2   f2      25000 non-null  float64\n",
      " 3   f0_f0   25000 non-null  float64\n",
      " 4   f0_f1   25000 non-null  float64\n",
      " 5   f0_f2   25000 non-null  float64\n",
      " 6   f1_f1   25000 non-null  float64\n",
      " 7   f1_f2   25000 non-null  float64\n",
      " 8   f2_f2   25000 non-null  float64\n",
      " 9   bias    25000 non-null  int64  \n",
      "dtypes: float64(9), int64(1)\n",
      "memory usage: 2.1 MB\n"
     ]
    }
   ],
   "source": [
    "# Полиномизация валидационной выборки.\n",
    "X_test = polynomization_2(X_test)\n",
    "\n",
    "# Проверка: вывод основной информации о признаках.\n",
    "X_test.info()"
   ]
  },
  {
   "cell_type": "code",
   "execution_count": 54,
   "metadata": {},
   "outputs": [],
   "source": [
    "# Инициализация инструмента стандартизации.\n",
    "ss = StandardScaler()\n",
    "\n",
    "# Стандартизация признаков.\n",
    "X_train = ss.fit_transform(X_train)\n",
    "X_test = ss.transform(X_test)"
   ]
  },
  {
   "cell_type": "code",
   "execution_count": 55,
   "metadata": {
    "scrolled": true
   },
   "outputs": [
    {
     "name": "stdout",
     "output_type": "stream",
     "text": [
      "CPU times: user 13.3 ms, sys: 1.41 ms, total: 14.7 ms\n",
      "Wall time: 10.8 ms\n"
     ]
    }
   ],
   "source": [
    "%%time\n",
    "\n",
    "# Инициализация модели без настроек.\n",
    "ridge = Ridge(random_state=random_state_global)\n",
    "\n",
    "# Обучение базовой модели.\n",
    "ridge.fit(X_train, y_train)\n",
    "\n",
    "# Выполнение прогноза.\n",
    "y_pred = ridge.predict(X_test)"
   ]
  },
  {
   "cell_type": "code",
   "execution_count": 56,
   "metadata": {},
   "outputs": [
    {
     "data": {
      "text/html": [
       "<div>\n",
       "<style scoped>\n",
       "    .dataframe tbody tr th:only-of-type {\n",
       "        vertical-align: middle;\n",
       "    }\n",
       "\n",
       "    .dataframe tbody tr th {\n",
       "        vertical-align: top;\n",
       "    }\n",
       "\n",
       "    .dataframe thead th {\n",
       "        text-align: right;\n",
       "    }\n",
       "</style>\n",
       "<table border=\"1\" class=\"dataframe\">\n",
       "  <thead>\n",
       "    <tr style=\"text-align: right;\">\n",
       "      <th></th>\n",
       "      <th>r2_score</th>\n",
       "      <th>rmse</th>\n",
       "    </tr>\n",
       "  </thead>\n",
       "  <tbody>\n",
       "    <tr>\n",
       "      <th>area_0_base_model</th>\n",
       "      <td>0.280926</td>\n",
       "      <td>37.481009</td>\n",
       "    </tr>\n",
       "    <tr>\n",
       "      <th>area_0_ridge</th>\n",
       "      <td>0.280867</td>\n",
       "      <td>37.482547</td>\n",
       "    </tr>\n",
       "    <tr>\n",
       "      <th>area_1_base_model</th>\n",
       "      <td>0.999627</td>\n",
       "      <td>0.887257</td>\n",
       "    </tr>\n",
       "    <tr>\n",
       "      <th>area_1_ridge</th>\n",
       "      <td>0.999627</td>\n",
       "      <td>0.887257</td>\n",
       "    </tr>\n",
       "  </tbody>\n",
       "</table>\n",
       "</div>"
      ],
      "text/plain": [
       "                   r2_score       rmse\n",
       "area_0_base_model  0.280926  37.481009\n",
       "area_0_ridge       0.280867  37.482547\n",
       "area_1_base_model  0.999627   0.887257\n",
       "area_1_ridge       0.999627   0.887257"
      ]
     },
     "execution_count": 56,
     "metadata": {},
     "output_type": "execute_result"
    }
   ],
   "source": [
    "# Вывод метрик.\n",
    "df_metrics.loc['area_1_ridge', 'r2_score'] = r2_score(y_test, y_pred)\n",
    "df_metrics.loc['area_1_ridge', 'rmse'] = mean_squared_error(y_test, y_pred, squared=False)\n",
    "\n",
    "# Проверка.\n",
    "df_metrics"
   ]
  },
  {
   "cell_type": "markdown",
   "metadata": {},
   "source": [
    "Полиномизация, стандартизация и регуляризация не улучшили метрики качества, поэтому будет использована базовая модель."
   ]
  },
  {
   "cell_type": "markdown",
   "metadata": {},
   "source": [
    "#### Сохранение результатов выбранной модели"
   ]
  },
  {
   "cell_type": "code",
   "execution_count": 57,
   "metadata": {},
   "outputs": [
    {
     "data": {
      "text/plain": [
       "((75000, 3), (25000, 3), (75000, 1), (25000, 1))"
      ]
     },
     "execution_count": 57,
     "metadata": {},
     "output_type": "execute_result"
    }
   ],
   "source": [
    "# Подготовка данных для построения и валидации базовой модели.\n",
    "X = df_data_1.drop(columns=['product'])\n",
    "y = df_data_1[['product']]\n",
    "\n",
    "# Разбиение на обучающую и валидационную выборки.\n",
    "X_train, X_test, y_train, y_test = train_test_split(X, y, test_size=valid_size_global, random_state=random_state_global)\n",
    "\n",
    "# Проверка: вывод размерностей выборок.\n",
    "X_train.shape, X_test.shape, y_train.shape, y_test.shape"
   ]
  },
  {
   "cell_type": "code",
   "execution_count": 58,
   "metadata": {
    "scrolled": true
   },
   "outputs": [
    {
     "name": "stdout",
     "output_type": "stream",
     "text": [
      "CPU times: user 14 ms, sys: 1.73 ms, total: 15.7 ms\n",
      "Wall time: 9.72 ms\n"
     ]
    }
   ],
   "source": [
    "%%time\n",
    "\n",
    "# Инициализация базовой модели без настроек.\n",
    "lr = LinearRegression(n_jobs=-1)\n",
    "\n",
    "# Обучение базовой модели.\n",
    "lr.fit(X_train, y_train)\n",
    "\n",
    "# Выполнение прогноза.\n",
    "y_pred = lr.predict(X_test)"
   ]
  },
  {
   "cell_type": "code",
   "execution_count": 59,
   "metadata": {},
   "outputs": [
    {
     "data": {
      "text/html": [
       "<div>\n",
       "<style scoped>\n",
       "    .dataframe tbody tr th:only-of-type {\n",
       "        vertical-align: middle;\n",
       "    }\n",
       "\n",
       "    .dataframe tbody tr th {\n",
       "        vertical-align: top;\n",
       "    }\n",
       "\n",
       "    .dataframe thead th {\n",
       "        text-align: right;\n",
       "    }\n",
       "</style>\n",
       "<table border=\"1\" class=\"dataframe\">\n",
       "  <thead>\n",
       "    <tr style=\"text-align: right;\">\n",
       "      <th></th>\n",
       "      <th>product</th>\n",
       "      <th>predicted</th>\n",
       "    </tr>\n",
       "  </thead>\n",
       "  <tbody>\n",
       "    <tr>\n",
       "      <th>3582</th>\n",
       "      <td>134.766305</td>\n",
       "      <td>134.451381</td>\n",
       "    </tr>\n",
       "    <tr>\n",
       "      <th>60498</th>\n",
       "      <td>137.945408</td>\n",
       "      <td>137.031555</td>\n",
       "    </tr>\n",
       "    <tr>\n",
       "      <th>53227</th>\n",
       "      <td>3.179103</td>\n",
       "      <td>2.835624</td>\n",
       "    </tr>\n",
       "    <tr>\n",
       "      <th>21333</th>\n",
       "      <td>110.992147</td>\n",
       "      <td>111.274297</td>\n",
       "    </tr>\n",
       "    <tr>\n",
       "      <th>3885</th>\n",
       "      <td>137.945408</td>\n",
       "      <td>138.109072</td>\n",
       "    </tr>\n",
       "  </tbody>\n",
       "</table>\n",
       "</div>"
      ],
      "text/plain": [
       "          product   predicted\n",
       "3582   134.766305  134.451381\n",
       "60498  137.945408  137.031555\n",
       "53227    3.179103    2.835624\n",
       "21333  110.992147  111.274297\n",
       "3885   137.945408  138.109072"
      ]
     },
     "execution_count": 59,
     "metadata": {},
     "output_type": "execute_result"
    }
   ],
   "source": [
    "# Сохранение предсказаний и правильных ответов на валидационной выборке.\n",
    "result_area_1 = y_test.copy()\n",
    "result_area_1['predicted'] = y_pred\n",
    "\n",
    "# Проверка.\n",
    "result_area_1.head()"
   ]
  },
  {
   "cell_type": "code",
   "execution_count": 60,
   "metadata": {},
   "outputs": [
    {
     "name": "stdout",
     "output_type": "stream",
     "text": [
      "Средний запас предсказанного сырья:\t69.15\n",
      "RMSE модели:\t\t\t\t0.8873\n"
     ]
    }
   ],
   "source": [
    "print(f'Средний запас предсказанного сырья:\\t{result_area_1[\"predicted\"].mean():.4}')\n",
    "print(f'RMSE модели:\\t\\t\\t\\t{mean_squared_error(result_area_1[\"product\"], result_area_1[\"predicted\"], squared=False):.4}')"
   ]
  },
  {
   "cell_type": "code",
   "execution_count": 61,
   "metadata": {},
   "outputs": [
    {
     "data": {
      "text/html": [
       "<div>\n",
       "<style scoped>\n",
       "    .dataframe tbody tr th:only-of-type {\n",
       "        vertical-align: middle;\n",
       "    }\n",
       "\n",
       "    .dataframe tbody tr th {\n",
       "        vertical-align: top;\n",
       "    }\n",
       "\n",
       "    .dataframe thead th {\n",
       "        text-align: right;\n",
       "    }\n",
       "</style>\n",
       "<table border=\"1\" class=\"dataframe\">\n",
       "  <thead>\n",
       "    <tr style=\"text-align: right;\">\n",
       "      <th></th>\n",
       "      <th>mean_predict</th>\n",
       "      <th>rmse</th>\n",
       "    </tr>\n",
       "  </thead>\n",
       "  <tbody>\n",
       "    <tr>\n",
       "      <th>area_0</th>\n",
       "      <td>92.271449</td>\n",
       "      <td>37.481009</td>\n",
       "    </tr>\n",
       "    <tr>\n",
       "      <th>area_1</th>\n",
       "      <td>69.151624</td>\n",
       "      <td>0.887257</td>\n",
       "    </tr>\n",
       "  </tbody>\n",
       "</table>\n",
       "</div>"
      ],
      "text/plain": [
       "        mean_predict       rmse\n",
       "area_0     92.271449  37.481009\n",
       "area_1     69.151624   0.887257"
      ]
     },
     "execution_count": 61,
     "metadata": {},
     "output_type": "execute_result"
    }
   ],
   "source": [
    "# Заполнение среднего предсказанного запаса сырья.\n",
    "df_areas_info.loc['area_1', 'mean_predict'] = result_area_1[\"predicted\"].mean()\n",
    "\n",
    "# Заполнение среднеквадратичной ошибки предсказанного запаса сырья.\n",
    "df_areas_info.loc['area_1', 'rmse'] = mean_squared_error(result_area_1[\"product\"],\n",
    "                                                         result_area_1[\"predicted\"],\n",
    "                                                         squared=False)\n",
    "\n",
    "# Проверка.\n",
    "df_areas_info"
   ]
  },
  {
   "cell_type": "markdown",
   "metadata": {},
   "source": [
    "Средний запас предсказанного сырья находится достаточно близко к среднему всей выборки, 68.82.\n",
    "\n",
    "Среднеквадратичная ошибка <code>rmse</code> свидетельствует о высокой точности модели. Феноменальная точность модели может быть объяснена линейной зависимостью целевой переменной от одного из признаков."
   ]
  },
  {
   "cell_type": "markdown",
   "metadata": {},
   "source": [
    "### Третий регион"
   ]
  },
  {
   "cell_type": "markdown",
   "metadata": {},
   "source": [
    "#### Построение и оценка базовой модели"
   ]
  },
  {
   "cell_type": "code",
   "execution_count": 62,
   "metadata": {},
   "outputs": [
    {
     "data": {
      "text/plain": [
       "((75000, 3), (25000, 3), (75000, 1), (25000, 1))"
      ]
     },
     "execution_count": 62,
     "metadata": {},
     "output_type": "execute_result"
    }
   ],
   "source": [
    "# Подготовка данных для построения и валидации базовой модели.\n",
    "X = df_data_2.drop(columns=['product'])\n",
    "y = df_data_2[['product']]\n",
    "\n",
    "# Разбиение на обучающую и валидационную выборки.\n",
    "X_train, X_test, y_train, y_test = train_test_split(X, y, test_size=valid_size_global, random_state=random_state_global)\n",
    "\n",
    "# Проверка: вывод размерностей выборок.\n",
    "X_train.shape, X_test.shape, y_train.shape, y_test.shape"
   ]
  },
  {
   "cell_type": "code",
   "execution_count": 63,
   "metadata": {
    "scrolled": true
   },
   "outputs": [
    {
     "name": "stdout",
     "output_type": "stream",
     "text": [
      "CPU times: user 11.3 ms, sys: 962 µs, total: 12.3 ms\n",
      "Wall time: 9.48 ms\n"
     ]
    }
   ],
   "source": [
    "%%time\n",
    "\n",
    "# Инициализация базовой модели без настроек.\n",
    "lr = LinearRegression(n_jobs=-1)\n",
    "\n",
    "# Обучение базовой модели.\n",
    "lr.fit(X_train, y_train)\n",
    "\n",
    "# Выполнение прогноза.\n",
    "y_pred = lr.predict(X_test)"
   ]
  },
  {
   "cell_type": "code",
   "execution_count": 64,
   "metadata": {},
   "outputs": [
    {
     "data": {
      "text/html": [
       "<div>\n",
       "<style scoped>\n",
       "    .dataframe tbody tr th:only-of-type {\n",
       "        vertical-align: middle;\n",
       "    }\n",
       "\n",
       "    .dataframe tbody tr th {\n",
       "        vertical-align: top;\n",
       "    }\n",
       "\n",
       "    .dataframe thead th {\n",
       "        text-align: right;\n",
       "    }\n",
       "</style>\n",
       "<table border=\"1\" class=\"dataframe\">\n",
       "  <thead>\n",
       "    <tr style=\"text-align: right;\">\n",
       "      <th></th>\n",
       "      <th>r2_score</th>\n",
       "      <th>rmse</th>\n",
       "    </tr>\n",
       "  </thead>\n",
       "  <tbody>\n",
       "    <tr>\n",
       "      <th>area_0_base_model</th>\n",
       "      <td>0.280926</td>\n",
       "      <td>37.481009</td>\n",
       "    </tr>\n",
       "    <tr>\n",
       "      <th>area_0_ridge</th>\n",
       "      <td>0.280867</td>\n",
       "      <td>37.482547</td>\n",
       "    </tr>\n",
       "    <tr>\n",
       "      <th>area_1_base_model</th>\n",
       "      <td>0.999627</td>\n",
       "      <td>0.887257</td>\n",
       "    </tr>\n",
       "    <tr>\n",
       "      <th>area_1_ridge</th>\n",
       "      <td>0.999627</td>\n",
       "      <td>0.887257</td>\n",
       "    </tr>\n",
       "    <tr>\n",
       "      <th>area_2_base_model</th>\n",
       "      <td>0.194384</td>\n",
       "      <td>40.312907</td>\n",
       "    </tr>\n",
       "  </tbody>\n",
       "</table>\n",
       "</div>"
      ],
      "text/plain": [
       "                   r2_score       rmse\n",
       "area_0_base_model  0.280926  37.481009\n",
       "area_0_ridge       0.280867  37.482547\n",
       "area_1_base_model  0.999627   0.887257\n",
       "area_1_ridge       0.999627   0.887257\n",
       "area_2_base_model  0.194384  40.312907"
      ]
     },
     "execution_count": 64,
     "metadata": {},
     "output_type": "execute_result"
    }
   ],
   "source": [
    "# Вывод метрик.\n",
    "df_metrics.loc['area_2_base_model', 'r2_score'] = r2_score(y_test, y_pred)\n",
    "df_metrics.loc['area_2_base_model', 'rmse'] = mean_squared_error(y_test, y_pred, squared=False)\n",
    "\n",
    "# Проверка.\n",
    "df_metrics"
   ]
  },
  {
   "cell_type": "markdown",
   "metadata": {},
   "source": [
    "Базовая модель показала малую долю объяснённой дисперсии целевой переменной <code>r2_score</code>.\n",
    "\n",
    "Среднеквадратичная ошибка <code>rmse</code> составляет более трети от среднего целевой переменной 95, что также является плохой характеристикой модели."
   ]
  },
  {
   "cell_type": "markdown",
   "metadata": {},
   "source": [
    "#### Улучшение модели"
   ]
  },
  {
   "cell_type": "code",
   "execution_count": 65,
   "metadata": {
    "scrolled": true
   },
   "outputs": [
    {
     "name": "stdout",
     "output_type": "stream",
     "text": [
      "<class 'pandas.core.frame.DataFrame'>\n",
      "Int64Index: 75000 entries, 2606 to 68268\n",
      "Data columns (total 10 columns):\n",
      " #   Column  Non-Null Count  Dtype  \n",
      "---  ------  --------------  -----  \n",
      " 0   f0      75000 non-null  float64\n",
      " 1   f1      75000 non-null  float64\n",
      " 2   f2      75000 non-null  float64\n",
      " 3   f0_f0   75000 non-null  float64\n",
      " 4   f0_f1   75000 non-null  float64\n",
      " 5   f0_f2   75000 non-null  float64\n",
      " 6   f1_f1   75000 non-null  float64\n",
      " 7   f1_f2   75000 non-null  float64\n",
      " 8   f2_f2   75000 non-null  float64\n",
      " 9   bias    75000 non-null  int64  \n",
      "dtypes: float64(9), int64(1)\n",
      "memory usage: 6.3 MB\n"
     ]
    }
   ],
   "source": [
    "# Полиномизация обучающей выборки.\n",
    "X_train = polynomization_2(X_train)\n",
    "\n",
    "# Проверка: вывод основной информации о признаках.\n",
    "X_train.info()"
   ]
  },
  {
   "cell_type": "code",
   "execution_count": 66,
   "metadata": {},
   "outputs": [
    {
     "name": "stdout",
     "output_type": "stream",
     "text": [
      "<class 'pandas.core.frame.DataFrame'>\n",
      "Int64Index: 25000 entries, 3582 to 18831\n",
      "Data columns (total 10 columns):\n",
      " #   Column  Non-Null Count  Dtype  \n",
      "---  ------  --------------  -----  \n",
      " 0   f0      25000 non-null  float64\n",
      " 1   f1      25000 non-null  float64\n",
      " 2   f2      25000 non-null  float64\n",
      " 3   f0_f0   25000 non-null  float64\n",
      " 4   f0_f1   25000 non-null  float64\n",
      " 5   f0_f2   25000 non-null  float64\n",
      " 6   f1_f1   25000 non-null  float64\n",
      " 7   f1_f2   25000 non-null  float64\n",
      " 8   f2_f2   25000 non-null  float64\n",
      " 9   bias    25000 non-null  int64  \n",
      "dtypes: float64(9), int64(1)\n",
      "memory usage: 2.1 MB\n"
     ]
    }
   ],
   "source": [
    "# Полиномизация валидационной выборки.\n",
    "X_test = polynomization_2(X_test)\n",
    "\n",
    "# Проверка: вывод основной информации о признаках.\n",
    "X_test.info()"
   ]
  },
  {
   "cell_type": "code",
   "execution_count": 67,
   "metadata": {},
   "outputs": [],
   "source": [
    "# Инициализация инструмента стандартизации.\n",
    "ss = StandardScaler()\n",
    "\n",
    "# Стандартизация признаков.\n",
    "X_train = ss.fit_transform(X_train)\n",
    "X_test = ss.transform(X_test)"
   ]
  },
  {
   "cell_type": "code",
   "execution_count": 68,
   "metadata": {
    "scrolled": true
   },
   "outputs": [
    {
     "name": "stdout",
     "output_type": "stream",
     "text": [
      "CPU times: user 13.3 ms, sys: 1.59 ms, total: 14.9 ms\n",
      "Wall time: 9.78 ms\n"
     ]
    }
   ],
   "source": [
    "%%time\n",
    "\n",
    "# Инициализация модели без настроек.\n",
    "ridge = Ridge(random_state=random_state_global)\n",
    "\n",
    "# Обучение базовой модели.\n",
    "ridge.fit(X_train, y_train)\n",
    "\n",
    "# Выполнение прогноза.\n",
    "y_pred = ridge.predict(X_test)"
   ]
  },
  {
   "cell_type": "code",
   "execution_count": 69,
   "metadata": {},
   "outputs": [
    {
     "data": {
      "text/html": [
       "<div>\n",
       "<style scoped>\n",
       "    .dataframe tbody tr th:only-of-type {\n",
       "        vertical-align: middle;\n",
       "    }\n",
       "\n",
       "    .dataframe tbody tr th {\n",
       "        vertical-align: top;\n",
       "    }\n",
       "\n",
       "    .dataframe thead th {\n",
       "        text-align: right;\n",
       "    }\n",
       "</style>\n",
       "<table border=\"1\" class=\"dataframe\">\n",
       "  <thead>\n",
       "    <tr style=\"text-align: right;\">\n",
       "      <th></th>\n",
       "      <th>r2_score</th>\n",
       "      <th>rmse</th>\n",
       "    </tr>\n",
       "  </thead>\n",
       "  <tbody>\n",
       "    <tr>\n",
       "      <th>area_0_base_model</th>\n",
       "      <td>0.280926</td>\n",
       "      <td>37.481009</td>\n",
       "    </tr>\n",
       "    <tr>\n",
       "      <th>area_0_ridge</th>\n",
       "      <td>0.280867</td>\n",
       "      <td>37.482547</td>\n",
       "    </tr>\n",
       "    <tr>\n",
       "      <th>area_1_base_model</th>\n",
       "      <td>0.999627</td>\n",
       "      <td>0.887257</td>\n",
       "    </tr>\n",
       "    <tr>\n",
       "      <th>area_1_ridge</th>\n",
       "      <td>0.999627</td>\n",
       "      <td>0.887257</td>\n",
       "    </tr>\n",
       "    <tr>\n",
       "      <th>area_2_base_model</th>\n",
       "      <td>0.194384</td>\n",
       "      <td>40.312907</td>\n",
       "    </tr>\n",
       "    <tr>\n",
       "      <th>area_2_ridge</th>\n",
       "      <td>0.244511</td>\n",
       "      <td>39.038581</td>\n",
       "    </tr>\n",
       "  </tbody>\n",
       "</table>\n",
       "</div>"
      ],
      "text/plain": [
       "                   r2_score       rmse\n",
       "area_0_base_model  0.280926  37.481009\n",
       "area_0_ridge       0.280867  37.482547\n",
       "area_1_base_model  0.999627   0.887257\n",
       "area_1_ridge       0.999627   0.887257\n",
       "area_2_base_model  0.194384  40.312907\n",
       "area_2_ridge       0.244511  39.038581"
      ]
     },
     "execution_count": 69,
     "metadata": {},
     "output_type": "execute_result"
    }
   ],
   "source": [
    "# Вывод метрик.\n",
    "df_metrics.loc['area_2_ridge', 'r2_score'] = r2_score(y_test, y_pred)\n",
    "df_metrics.loc['area_2_ridge', 'rmse'] = mean_squared_error(y_test, y_pred, squared=False)\n",
    "\n",
    "# Проверка.\n",
    "df_metrics"
   ]
  },
  {
   "cell_type": "markdown",
   "metadata": {},
   "source": [
    "Полиномизация, стандартизация и регуляризация незначительно улучшили метрики качества, поэтому будет использована улучшенная модель."
   ]
  },
  {
   "cell_type": "markdown",
   "metadata": {},
   "source": [
    "#### Сохранение результатов выбранной модели"
   ]
  },
  {
   "cell_type": "code",
   "execution_count": 70,
   "metadata": {},
   "outputs": [
    {
     "data": {
      "text/html": [
       "<div>\n",
       "<style scoped>\n",
       "    .dataframe tbody tr th:only-of-type {\n",
       "        vertical-align: middle;\n",
       "    }\n",
       "\n",
       "    .dataframe tbody tr th {\n",
       "        vertical-align: top;\n",
       "    }\n",
       "\n",
       "    .dataframe thead th {\n",
       "        text-align: right;\n",
       "    }\n",
       "</style>\n",
       "<table border=\"1\" class=\"dataframe\">\n",
       "  <thead>\n",
       "    <tr style=\"text-align: right;\">\n",
       "      <th></th>\n",
       "      <th>product</th>\n",
       "      <th>predicted</th>\n",
       "    </tr>\n",
       "  </thead>\n",
       "  <tbody>\n",
       "    <tr>\n",
       "      <th>3582</th>\n",
       "      <td>129.102262</td>\n",
       "      <td>96.638812</td>\n",
       "    </tr>\n",
       "    <tr>\n",
       "      <th>60498</th>\n",
       "      <td>61.285744</td>\n",
       "      <td>51.041835</td>\n",
       "    </tr>\n",
       "    <tr>\n",
       "      <th>53227</th>\n",
       "      <td>65.026246</td>\n",
       "      <td>103.284344</td>\n",
       "    </tr>\n",
       "    <tr>\n",
       "      <th>21333</th>\n",
       "      <td>62.334048</td>\n",
       "      <td>98.707018</td>\n",
       "    </tr>\n",
       "    <tr>\n",
       "      <th>3885</th>\n",
       "      <td>150.002134</td>\n",
       "      <td>96.186746</td>\n",
       "    </tr>\n",
       "  </tbody>\n",
       "</table>\n",
       "</div>"
      ],
      "text/plain": [
       "          product   predicted\n",
       "3582   129.102262   96.638812\n",
       "60498   61.285744   51.041835\n",
       "53227   65.026246  103.284344\n",
       "21333   62.334048   98.707018\n",
       "3885   150.002134   96.186746"
      ]
     },
     "execution_count": 70,
     "metadata": {},
     "output_type": "execute_result"
    }
   ],
   "source": [
    "# Сохранение предсказаний и правильных ответов на валидационной выборке.\n",
    "result_area_2 = y_test.copy()\n",
    "result_area_2['predicted'] = y_pred\n",
    "\n",
    "# Проверка.\n",
    "result_area_2.head()"
   ]
  },
  {
   "cell_type": "code",
   "execution_count": 71,
   "metadata": {},
   "outputs": [
    {
     "name": "stdout",
     "output_type": "stream",
     "text": [
      "Средний запас предсказанного сырья:\t94.83\n",
      "RMSE модели:\t\t\t\t39.04\n"
     ]
    }
   ],
   "source": [
    "print(f'Средний запас предсказанного сырья:\\t{result_area_2[\"predicted\"].mean():.4}')\n",
    "print(f'RMSE модели:\\t\\t\\t\\t{mean_squared_error(result_area_2[\"product\"], result_area_2[\"predicted\"], squared=False):.4}')"
   ]
  },
  {
   "cell_type": "code",
   "execution_count": 72,
   "metadata": {},
   "outputs": [
    {
     "data": {
      "text/html": [
       "<div>\n",
       "<style scoped>\n",
       "    .dataframe tbody tr th:only-of-type {\n",
       "        vertical-align: middle;\n",
       "    }\n",
       "\n",
       "    .dataframe tbody tr th {\n",
       "        vertical-align: top;\n",
       "    }\n",
       "\n",
       "    .dataframe thead th {\n",
       "        text-align: right;\n",
       "    }\n",
       "</style>\n",
       "<table border=\"1\" class=\"dataframe\">\n",
       "  <thead>\n",
       "    <tr style=\"text-align: right;\">\n",
       "      <th></th>\n",
       "      <th>mean_predict</th>\n",
       "      <th>rmse</th>\n",
       "    </tr>\n",
       "  </thead>\n",
       "  <tbody>\n",
       "    <tr>\n",
       "      <th>area_0</th>\n",
       "      <td>92.271449</td>\n",
       "      <td>37.481009</td>\n",
       "    </tr>\n",
       "    <tr>\n",
       "      <th>area_1</th>\n",
       "      <td>69.151624</td>\n",
       "      <td>0.887257</td>\n",
       "    </tr>\n",
       "    <tr>\n",
       "      <th>area_2</th>\n",
       "      <td>94.825069</td>\n",
       "      <td>39.038581</td>\n",
       "    </tr>\n",
       "  </tbody>\n",
       "</table>\n",
       "</div>"
      ],
      "text/plain": [
       "        mean_predict       rmse\n",
       "area_0     92.271449  37.481009\n",
       "area_1     69.151624   0.887257\n",
       "area_2     94.825069  39.038581"
      ]
     },
     "execution_count": 72,
     "metadata": {},
     "output_type": "execute_result"
    }
   ],
   "source": [
    "# Заполнение среднего предсказанного запаса сырья.\n",
    "df_areas_info.loc['area_2', 'mean_predict'] = result_area_2[\"predicted\"].mean()\n",
    "\n",
    "# Заполнение среднеквадратичной ошибки предсказанного запаса сырья.\n",
    "df_areas_info.loc['area_2', 'rmse'] = mean_squared_error(result_area_2[\"product\"],\n",
    "                                                         result_area_2[\"predicted\"],\n",
    "                                                         squared=False)\n",
    "\n",
    "# Проверка.\n",
    "df_areas_info"
   ]
  },
  {
   "cell_type": "markdown",
   "metadata": {},
   "source": [
    "Средний запас предсказанного сырья находится достаточно близко к среднему всей выборки, 95.\n",
    "\n",
    "Однако при этом существенная, более трети от среднего, среднеквадратичная ошибка <code>rmse</code> свидетельствует о неточности модели. Отклонения в большую и меньшую стороны скомпенсировали друг друга, поэтому среднее предсказанное практически совпадает со средним фактическим значением сырья."
   ]
  },
  {
   "cell_type": "markdown",
   "metadata": {},
   "source": [
    "<div class=\"alert alert-block alert-success\">\n",
    "<b>Успех:</b> Модели обучены корректно.\n",
    "</div>\n",
    "\n",
    "<div class=\"alert alert-block alert-info\">\n",
    "<b>Совет: </b> На протяжении всего проекта происходит работа с 3мя одинаковыми таблицами. В связи с этим можно было использовать функции и/или циклы, чтобы избежать копирования кода.\n",
    "<br> Зачем его нужно избегать? Потому что очень часто оно приводит к ошибкам (например, забыл поменять одну из переменных). Впоследствии такие ошибки очень трудно найти.\n",
    "</div>"
   ]
  },
  {
   "cell_type": "markdown",
   "metadata": {},
   "source": [
    "<div class=\"alert alert-block alert-warning\">\n",
    "<b>Комментарий студента:</b>\n",
    "<br>Здесь можно было бы избежать дублирования кода при помощи функций или классов, но они получились бы слишком сложными, с большим числов аргументов на входе и выходе, поэтому решил их не использовать.\n",
    "<br>Точнее, не понимаю, как можно было бы эффективно реализовать функцию с большим количеством проверок данных и метрик.\n",
    "</div>"
   ]
  },
  {
   "cell_type": "markdown",
   "metadata": {},
   "source": [
    "## Подготовка к расчёту прибыли"
   ]
  },
  {
   "cell_type": "markdown",
   "metadata": {},
   "source": [
    "### Ключевые значения для расчётов прибыли"
   ]
  },
  {
   "cell_type": "code",
   "execution_count": 73,
   "metadata": {},
   "outputs": [],
   "source": [
    "# Согласно условию задачи, бюджет на разработку скважин в регионе.\n",
    "BUDGET = 10e+9\n",
    "\n",
    "# Согласно условию задачи, доход с каждой единицы продукта.\n",
    "REVENUE = 450e+3"
   ]
  },
  {
   "cell_type": "markdown",
   "metadata": {},
   "source": [
    "### Расчёт объёма сырья для безубыточной разработки"
   ]
  },
  {
   "cell_type": "code",
   "execution_count": 74,
   "metadata": {},
   "outputs": [
    {
     "data": {
      "text/plain": [
       "22222.22"
      ]
     },
     "execution_count": 74,
     "metadata": {},
     "output_type": "execute_result"
    }
   ],
   "source": [
    "# Расчёт необходимого объёма.\n",
    "volume = round(BUDGET / REVENUE, 2)\n",
    "\n",
    "# Проверка.\n",
    "volume"
   ]
  },
  {
   "cell_type": "markdown",
   "metadata": {},
   "source": [
    "<div class=\"alert alert-block alert-info\">\n",
    "\n",
    "<b>Совет: </b> В названиях константных переменных лучше использовать только БОЛЬШИЕ буквы. Это соглашение между программистами: https://pythonworld.ru/osnovy/pep-8-rukovodstvo-po-napisaniyu-koda-na-python.html#id29 .\n",
    "</div>"
   ]
  },
  {
   "cell_type": "markdown",
   "metadata": {},
   "source": [
    "<div class=\"alert alert-block alert-warning\">\n",
    "<b>Комментарий студента:</b>\n",
    "<br>Исправил.\n",
    "</div>"
   ]
  },
  {
   "cell_type": "markdown",
   "metadata": {},
   "source": [
    "<div class=\"alert alert-block alert-success\">\n",
    "<b>Успех (ревью 2):</b> Спасибо!\n",
    "</div>"
   ]
  },
  {
   "cell_type": "markdown",
   "metadata": {},
   "source": [
    "### Сравнение полученного объёма сырья со средним запасом в каждом регионе "
   ]
  },
  {
   "cell_type": "code",
   "execution_count": 75,
   "metadata": {},
   "outputs": [
    {
     "data": {
      "text/html": [
       "<div>\n",
       "<style scoped>\n",
       "    .dataframe tbody tr th:only-of-type {\n",
       "        vertical-align: middle;\n",
       "    }\n",
       "\n",
       "    .dataframe tbody tr th {\n",
       "        vertical-align: top;\n",
       "    }\n",
       "\n",
       "    .dataframe thead th {\n",
       "        text-align: right;\n",
       "    }\n",
       "</style>\n",
       "<table border=\"1\" class=\"dataframe\">\n",
       "  <thead>\n",
       "    <tr style=\"text-align: right;\">\n",
       "      <th></th>\n",
       "      <th>mean_predict</th>\n",
       "    </tr>\n",
       "  </thead>\n",
       "  <tbody>\n",
       "    <tr>\n",
       "      <th>area_0</th>\n",
       "      <td>18454.289704</td>\n",
       "    </tr>\n",
       "    <tr>\n",
       "      <th>area_1</th>\n",
       "      <td>13830.324797</td>\n",
       "    </tr>\n",
       "    <tr>\n",
       "      <th>area_2</th>\n",
       "      <td>18965.013764</td>\n",
       "    </tr>\n",
       "  </tbody>\n",
       "</table>\n",
       "</div>"
      ],
      "text/plain": [
       "        mean_predict\n",
       "area_0  18454.289704\n",
       "area_1  13830.324797\n",
       "area_2  18965.013764"
      ]
     },
     "execution_count": 75,
     "metadata": {},
     "output_type": "execute_result"
    }
   ],
   "source": [
    "# Вывод средних запасов 200 точек в каждом регионе.\n",
    "df_areas_info[['mean_predict']] * 200"
   ]
  },
  {
   "cell_type": "markdown",
   "metadata": {},
   "source": [
    "Согласно условию задания, в каждом регионе будут выбраны 200 лучших точек для разработки. Оценка объёмов запасов с использованием средних показывает, что ни один из регионов не удовлетворяет условию. Однако первый и третий регионы наиболее близки к установленной планке. Так как стандартное отклонение велико и составляет в среднем около 45 единиц для каждого региона, то можно предположить, что при выборе 200 лучших точек первый и третий регионы имеют шансы удовлетворить поставленному условию.\n",
    "\n",
    "Таким образом, первый и третий регионы являются потенциально подходящими для дальнейшего рассмотрения."
   ]
  },
  {
   "cell_type": "markdown",
   "metadata": {},
   "source": [
    "### Функция для расчёта прибыли"
   ]
  },
  {
   "cell_type": "code",
   "execution_count": 76,
   "metadata": {},
   "outputs": [
    {
     "data": {
      "text/html": [
       "<div>\n",
       "<style scoped>\n",
       "    .dataframe tbody tr th:only-of-type {\n",
       "        vertical-align: middle;\n",
       "    }\n",
       "\n",
       "    .dataframe tbody tr th {\n",
       "        vertical-align: top;\n",
       "    }\n",
       "\n",
       "    .dataframe thead th {\n",
       "        text-align: right;\n",
       "    }\n",
       "</style>\n",
       "<table border=\"1\" class=\"dataframe\">\n",
       "  <thead>\n",
       "    <tr style=\"text-align: right;\">\n",
       "      <th></th>\n",
       "      <th>product</th>\n",
       "      <th>predicted</th>\n",
       "      <th>area</th>\n",
       "    </tr>\n",
       "  </thead>\n",
       "  <tbody>\n",
       "    <tr>\n",
       "      <th>3582</th>\n",
       "      <td>49.723143</td>\n",
       "      <td>95.303891</td>\n",
       "      <td>area_0</td>\n",
       "    </tr>\n",
       "    <tr>\n",
       "      <th>60498</th>\n",
       "      <td>10.583795</td>\n",
       "      <td>95.098407</td>\n",
       "      <td>area_0</td>\n",
       "    </tr>\n",
       "    <tr>\n",
       "      <th>53227</th>\n",
       "      <td>139.110613</td>\n",
       "      <td>106.702273</td>\n",
       "      <td>area_0</td>\n",
       "    </tr>\n",
       "    <tr>\n",
       "      <th>21333</th>\n",
       "      <td>85.109875</td>\n",
       "      <td>96.740059</td>\n",
       "      <td>area_0</td>\n",
       "    </tr>\n",
       "    <tr>\n",
       "      <th>3885</th>\n",
       "      <td>39.726827</td>\n",
       "      <td>97.703381</td>\n",
       "      <td>area_0</td>\n",
       "    </tr>\n",
       "  </tbody>\n",
       "</table>\n",
       "</div>"
      ],
      "text/plain": [
       "          product   predicted    area\n",
       "3582    49.723143   95.303891  area_0\n",
       "60498   10.583795   95.098407  area_0\n",
       "53227  139.110613  106.702273  area_0\n",
       "21333   85.109875   96.740059  area_0\n",
       "3885    39.726827   97.703381  area_0"
      ]
     },
     "execution_count": 76,
     "metadata": {},
     "output_type": "execute_result"
    }
   ],
   "source": [
    "# Подготовка сводной таблицы с предсказаниями по всем регионам.\n",
    "result_area_0['area'] = 'area_0'\n",
    "result_area_1['area'] = 'area_1'\n",
    "result_area_2['area'] = 'area_2'\n",
    "\n",
    "result_areas = pd.concat([result_area_0, result_area_1, result_area_2])\n",
    "\n",
    "# Проверка.\n",
    "result_areas.head()"
   ]
  },
  {
   "cell_type": "code",
   "execution_count": 77,
   "metadata": {},
   "outputs": [],
   "source": [
    "# Функция для расчёта прибыли для каждого региона,\n",
    "# принимает на вход:\n",
    "#    area_name - название региона;\n",
    "#    df_results_areas - сводная таблица по регионам;\n",
    "#    n_points - количество скважин в регионе;\n",
    "#    BUDGET - бюджет/затраты на разработку в регионе;\n",
    "#    REVENUE - доход с единицы продукта.\n",
    "# \n",
    "# Функция возвращает потенциальную прибыль на основе предсказаний модели.\n",
    "# \n",
    "def get_profit(area_name, df_result_areas, n_points, BUDGET, REVENUE):\n",
    "    best_volume = (\n",
    "        df_result_areas\n",
    "#         .loc[df_result_areas['area'] == area_name, 'predicted']\n",
    "        .loc[df_result_areas['area'] == area_name, ['product', 'predicted']]\n",
    "        .sort_values(by='predicted', ascending=False)\n",
    "#         .head(n_points)\n",
    "        .head(n_points)['product']\n",
    "        .sum()\n",
    "    )\n",
    "    \n",
    "    return best_volume * REVENUE - BUDGET"
   ]
  },
  {
   "cell_type": "markdown",
   "metadata": {},
   "source": [
    "<div class=\"alert alert-block alert-danger\">\n",
    "<b>Ошибка:</b> Для выбора 200 лучших скважин нужно использовать предсказанные значения. А вот для подсчета прибыли должны использоваться настоящие значения соответствующих ячеек.\n",
    "</div>"
   ]
  },
  {
   "cell_type": "markdown",
   "metadata": {},
   "source": [
    "<div class=\"alert alert-block alert-warning\">\n",
    "<b>Комментарий студента:</b>\n",
    "<br>Исправил, старые строки закомментировал.\n",
    "</div>"
   ]
  },
  {
   "cell_type": "markdown",
   "metadata": {},
   "source": [
    "<div class=\"alert alert-block alert-success\">\n",
    "<b>Успех (ревью 2):</b> Верно.\n",
    "</div>"
   ]
  },
  {
   "cell_type": "code",
   "execution_count": 78,
   "metadata": {
    "scrolled": true
   },
   "outputs": [
    {
     "data": {
      "text/html": [
       "<div>\n",
       "<style scoped>\n",
       "    .dataframe tbody tr th:only-of-type {\n",
       "        vertical-align: middle;\n",
       "    }\n",
       "\n",
       "    .dataframe tbody tr th {\n",
       "        vertical-align: top;\n",
       "    }\n",
       "\n",
       "    .dataframe thead th {\n",
       "        text-align: right;\n",
       "    }\n",
       "</style>\n",
       "<table border=\"1\" class=\"dataframe\">\n",
       "  <thead>\n",
       "    <tr style=\"text-align: right;\">\n",
       "      <th></th>\n",
       "      <th>mean_predict</th>\n",
       "      <th>rmse</th>\n",
       "      <th>profit</th>\n",
       "    </tr>\n",
       "  </thead>\n",
       "  <tbody>\n",
       "    <tr>\n",
       "      <th>area_0</th>\n",
       "      <td>92.271449</td>\n",
       "      <td>37.481009</td>\n",
       "      <td>3.363408e+09</td>\n",
       "    </tr>\n",
       "    <tr>\n",
       "      <th>area_1</th>\n",
       "      <td>69.151624</td>\n",
       "      <td>0.887257</td>\n",
       "      <td>2.415087e+09</td>\n",
       "    </tr>\n",
       "    <tr>\n",
       "      <th>area_2</th>\n",
       "      <td>94.825069</td>\n",
       "      <td>39.038581</td>\n",
       "      <td>2.755302e+09</td>\n",
       "    </tr>\n",
       "  </tbody>\n",
       "</table>\n",
       "</div>"
      ],
      "text/plain": [
       "        mean_predict       rmse        profit\n",
       "area_0     92.271449  37.481009  3.363408e+09\n",
       "area_1     69.151624   0.887257  2.415087e+09\n",
       "area_2     94.825069  39.038581  2.755302e+09"
      ]
     },
     "execution_count": 78,
     "metadata": {},
     "output_type": "execute_result"
    }
   ],
   "source": [
    "# Вычисление прибыли для каждого региона.\n",
    "df_areas_info['profit'] = df_areas_info.apply(lambda row: get_profit(row.name, result_areas, 200, BUDGET, REVENUE), 1)\n",
    "\n",
    "# Проверка.\n",
    "df_areas_info"
   ]
  },
  {
   "cell_type": "markdown",
   "metadata": {},
   "source": [
    "Согласно предсказаниям моделей, первый регион является наиболее потенциально прибыльным. Далее идут третий и второй регионы."
   ]
  },
  {
   "cell_type": "markdown",
   "metadata": {},
   "source": [
    "## Расчёт прибыли и рисков "
   ]
  },
  {
   "cell_type": "markdown",
   "metadata": {},
   "source": [
    "### Первый регион"
   ]
  },
  {
   "cell_type": "code",
   "execution_count": 79,
   "metadata": {},
   "outputs": [
    {
     "name": "stdout",
     "output_type": "stream",
     "text": [
      "CPU times: user 1.56 s, sys: 0 ns, total: 1.56 s\n",
      "Wall time: 1.57 s\n"
     ]
    },
    {
     "data": {
      "text/html": [
       "<div>\n",
       "<style scoped>\n",
       "    .dataframe tbody tr th:only-of-type {\n",
       "        vertical-align: middle;\n",
       "    }\n",
       "\n",
       "    .dataframe tbody tr th {\n",
       "        vertical-align: top;\n",
       "    }\n",
       "\n",
       "    .dataframe thead th {\n",
       "        text-align: right;\n",
       "    }\n",
       "</style>\n",
       "<table border=\"1\" class=\"dataframe\">\n",
       "  <thead>\n",
       "    <tr style=\"text-align: right;\">\n",
       "      <th></th>\n",
       "      <th>lower</th>\n",
       "      <th>mean</th>\n",
       "      <th>upper</th>\n",
       "    </tr>\n",
       "  </thead>\n",
       "  <tbody>\n",
       "    <tr>\n",
       "      <th>area_0</th>\n",
       "      <td>-4.923499e+07</td>\n",
       "      <td>4.428718e+08</td>\n",
       "      <td>9.211347e+08</td>\n",
       "    </tr>\n",
       "  </tbody>\n",
       "</table>\n",
       "</div>"
      ],
      "text/plain": [
       "               lower          mean         upper\n",
       "area_0 -4.923499e+07  4.428718e+08  9.211347e+08"
      ]
     },
     "execution_count": 79,
     "metadata": {},
     "output_type": "execute_result"
    }
   ],
   "source": [
    "%%time\n",
    "\n",
    "# Список для хранения прибыли выборок.\n",
    "list_profits = []\n",
    "\n",
    "# Bootstrap с 1000 выборок:\n",
    "for i in range(1000):\n",
    "    \n",
    "    # выборка 500 точек для исследования,\n",
    "    sample = result_area_0.sample(n=500, replace=True, random_state=state)\n",
    "    \n",
    "    # выбор 200 лучших точек и расчёт прибыли.\n",
    "    list_profits.append(get_profit('area_0', sample, 200, BUDGET, REVENUE))\n",
    "\n",
    "# Подготовка Серии для удобства оперирования.\n",
    "series_profits = pd.Series(list_profits)\n",
    "\n",
    "# Таблица для интервалов регионов.\n",
    "df_intervals = pd.DataFrame()\n",
    "\n",
    "# Вычисление средней прибыли и границ 95%-го доверительного интервала.\n",
    "df_intervals.loc['area_0', 'lower'] = series_profits.quantile(0.025)\n",
    "df_intervals.loc['area_0', 'mean'] = series_profits.mean()\n",
    "df_intervals.loc['area_0', 'upper'] = series_profits.quantile(0.975)\n",
    "\n",
    "# Проверка.\n",
    "df_intervals"
   ]
  },
  {
   "cell_type": "code",
   "execution_count": 80,
   "metadata": {},
   "outputs": [
    {
     "name": "stdout",
     "output_type": "stream",
     "text": [
      "Вероятность убытков первого региона:\t3.90%\n"
     ]
    }
   ],
   "source": [
    "print(f'Вероятность убытков первого региона:\\t{series_profits.apply(lambda x: x < 0, 1).mean():.2%}')"
   ]
  },
  {
   "cell_type": "markdown",
   "metadata": {},
   "source": [
    "Нижняя граница 95%-го интервала соответствует значению ~-49 миллионов, что является убытком.\n",
    "\n",
    "Таким образом, первый регион имеет вероятность убытков более 2.5% и не может участвовать в дальнейшем рассмотрении."
   ]
  },
  {
   "cell_type": "markdown",
   "metadata": {},
   "source": [
    "<div class=\"alert alert-block alert-success\">\n",
    "<b>Успех:</b> Отлично, что для подсчета доверительного интервала использовался именно метод квантилей!\n",
    "</div>\n",
    "\n",
    "<div class=\"alert alert-block alert-danger\">\n",
    "<b>Ошибка:</b> Нужно в явном виде посчитать риск убытков – долю случаев, в которых прибыль отрицательна.\n",
    "</div>"
   ]
  },
  {
   "cell_type": "markdown",
   "metadata": {},
   "source": [
    "<div class=\"alert alert-block alert-warning\">\n",
    "<b>Комментарий студента:</b>\n",
    "<br>Добавил расчёт доли случаев, когда прибыль отрицательна.\n",
    "</div>"
   ]
  },
  {
   "cell_type": "markdown",
   "metadata": {},
   "source": [
    "<div class=\"alert alert-block alert-success\">\n",
    "<b>Успех (ревью 2):</b> Отлично!\n",
    "</div>"
   ]
  },
  {
   "cell_type": "markdown",
   "metadata": {},
   "source": [
    "### Второй регион"
   ]
  },
  {
   "cell_type": "code",
   "execution_count": 81,
   "metadata": {
    "scrolled": true
   },
   "outputs": [
    {
     "name": "stdout",
     "output_type": "stream",
     "text": [
      "CPU times: user 1.53 s, sys: 0 ns, total: 1.53 s\n",
      "Wall time: 1.54 s\n"
     ]
    },
    {
     "data": {
      "text/html": [
       "<div>\n",
       "<style scoped>\n",
       "    .dataframe tbody tr th:only-of-type {\n",
       "        vertical-align: middle;\n",
       "    }\n",
       "\n",
       "    .dataframe tbody tr th {\n",
       "        vertical-align: top;\n",
       "    }\n",
       "\n",
       "    .dataframe thead th {\n",
       "        text-align: right;\n",
       "    }\n",
       "</style>\n",
       "<table border=\"1\" class=\"dataframe\">\n",
       "  <thead>\n",
       "    <tr style=\"text-align: right;\">\n",
       "      <th></th>\n",
       "      <th>lower</th>\n",
       "      <th>mean</th>\n",
       "      <th>upper</th>\n",
       "    </tr>\n",
       "  </thead>\n",
       "  <tbody>\n",
       "    <tr>\n",
       "      <th>area_0</th>\n",
       "      <td>-4.923499e+07</td>\n",
       "      <td>4.428718e+08</td>\n",
       "      <td>9.211347e+08</td>\n",
       "    </tr>\n",
       "    <tr>\n",
       "      <th>area_1</th>\n",
       "      <td>8.517891e+07</td>\n",
       "      <td>4.695379e+08</td>\n",
       "      <td>8.508946e+08</td>\n",
       "    </tr>\n",
       "  </tbody>\n",
       "</table>\n",
       "</div>"
      ],
      "text/plain": [
       "               lower          mean         upper\n",
       "area_0 -4.923499e+07  4.428718e+08  9.211347e+08\n",
       "area_1  8.517891e+07  4.695379e+08  8.508946e+08"
      ]
     },
     "execution_count": 81,
     "metadata": {},
     "output_type": "execute_result"
    }
   ],
   "source": [
    "%%time\n",
    "\n",
    "# Список для хранения прибыли выборок.\n",
    "list_profits = []\n",
    "\n",
    "# Bootstrap с 1000 выборок:\n",
    "for i in range(1000):\n",
    "    \n",
    "    # выборка 500 точек для исследования,\n",
    "    sample = result_area_1.sample(n=500, replace=True, random_state=state)\n",
    "    \n",
    "    # выбор 200 лучших точек и расчёт прибыли.\n",
    "    list_profits.append(get_profit('area_1', sample, 200, BUDGET, REVENUE))\n",
    "\n",
    "# Подготовка Серии для удобства оперирования.\n",
    "series_profits = pd.Series(list_profits)\n",
    "\n",
    "# Вычисление средней прибыли и границ 95%-го доверительного интервала.\n",
    "df_intervals.loc['area_1', 'lower'] = series_profits.quantile(0.025)\n",
    "df_intervals.loc['area_1', 'mean'] = series_profits.mean()\n",
    "df_intervals.loc['area_1', 'upper'] = series_profits.quantile(0.975)\n",
    "\n",
    "# Проверка.\n",
    "df_intervals"
   ]
  },
  {
   "cell_type": "code",
   "execution_count": 82,
   "metadata": {},
   "outputs": [
    {
     "name": "stdout",
     "output_type": "stream",
     "text": [
      "Вероятность убытков второго региона:\t0.80%\n"
     ]
    }
   ],
   "source": [
    "print(f'Вероятность убытков второго региона:\\t{series_profits.apply(lambda x: x < 0, 1).mean():.2%}')"
   ]
  },
  {
   "cell_type": "markdown",
   "metadata": {},
   "source": [
    "Нижняя граница 95%-го интервала соответствует значению ~85 миллионов, что не является убытком.\n",
    "\n",
    "Таким образом, второй регион имеет вероятность убытков менее 2.5% и может участвовать в дальнейшем рассмотрении."
   ]
  },
  {
   "cell_type": "markdown",
   "metadata": {},
   "source": [
    "### Третий регион"
   ]
  },
  {
   "cell_type": "code",
   "execution_count": 83,
   "metadata": {
    "scrolled": true
   },
   "outputs": [
    {
     "name": "stdout",
     "output_type": "stream",
     "text": [
      "CPU times: user 1.54 s, sys: 0 ns, total: 1.54 s\n",
      "Wall time: 1.65 s\n"
     ]
    },
    {
     "data": {
      "text/html": [
       "<div>\n",
       "<style scoped>\n",
       "    .dataframe tbody tr th:only-of-type {\n",
       "        vertical-align: middle;\n",
       "    }\n",
       "\n",
       "    .dataframe tbody tr th {\n",
       "        vertical-align: top;\n",
       "    }\n",
       "\n",
       "    .dataframe thead th {\n",
       "        text-align: right;\n",
       "    }\n",
       "</style>\n",
       "<table border=\"1\" class=\"dataframe\">\n",
       "  <thead>\n",
       "    <tr style=\"text-align: right;\">\n",
       "      <th></th>\n",
       "      <th>lower</th>\n",
       "      <th>mean</th>\n",
       "      <th>upper</th>\n",
       "    </tr>\n",
       "  </thead>\n",
       "  <tbody>\n",
       "    <tr>\n",
       "      <th>area_0</th>\n",
       "      <td>-4.923499e+07</td>\n",
       "      <td>4.428718e+08</td>\n",
       "      <td>9.211347e+08</td>\n",
       "    </tr>\n",
       "    <tr>\n",
       "      <th>area_1</th>\n",
       "      <td>8.517891e+07</td>\n",
       "      <td>4.695379e+08</td>\n",
       "      <td>8.508946e+08</td>\n",
       "    </tr>\n",
       "    <tr>\n",
       "      <th>area_2</th>\n",
       "      <td>8.879242e+07</td>\n",
       "      <td>6.059997e+08</td>\n",
       "      <td>1.110243e+09</td>\n",
       "    </tr>\n",
       "  </tbody>\n",
       "</table>\n",
       "</div>"
      ],
      "text/plain": [
       "               lower          mean         upper\n",
       "area_0 -4.923499e+07  4.428718e+08  9.211347e+08\n",
       "area_1  8.517891e+07  4.695379e+08  8.508946e+08\n",
       "area_2  8.879242e+07  6.059997e+08  1.110243e+09"
      ]
     },
     "execution_count": 83,
     "metadata": {},
     "output_type": "execute_result"
    }
   ],
   "source": [
    "%%time\n",
    "\n",
    "# Список для хранения прибыли выборок.\n",
    "list_profits = []\n",
    "\n",
    "# Bootstrap с 1000 выборок:\n",
    "for i in range(1000):\n",
    "    \n",
    "    # выборка 500 точек для исследования,\n",
    "    sample = result_area_2.sample(n=500, replace=True, random_state=state)\n",
    "    \n",
    "    # выбор 200 лучших точек и расчёт прибыли.\n",
    "    list_profits.append(get_profit('area_2', sample, 200, BUDGET, REVENUE))\n",
    "\n",
    "# Подготовка Серии для удобства оперирования.\n",
    "series_profits = pd.Series(list_profits)\n",
    "\n",
    "# Вычисление средней прибыли и границ 95%-го доверительного интервала.\n",
    "df_intervals.loc['area_2', 'lower'] = series_profits.quantile(0.025)\n",
    "df_intervals.loc['area_2', 'mean'] = series_profits.mean()\n",
    "df_intervals.loc['area_2', 'upper'] = series_profits.quantile(0.975)\n",
    "\n",
    "# Проверка.\n",
    "df_intervals"
   ]
  },
  {
   "cell_type": "code",
   "execution_count": 84,
   "metadata": {},
   "outputs": [
    {
     "name": "stdout",
     "output_type": "stream",
     "text": [
      "Вероятность убытков третьего региона:\t1.00%\n"
     ]
    }
   ],
   "source": [
    "print(f'Вероятность убытков третьего региона:\\t{series_profits.apply(lambda x: x < 0, 1).mean():.2%}')"
   ]
  },
  {
   "cell_type": "markdown",
   "metadata": {},
   "source": [
    "Нижняя граница 95%-го интервала соответствует значению ~89 миллионов, что также не является убытком.\n",
    "\n",
    "Третий регион имеет вероятность убытков менее 2.5% и может участвовать в дальнейшем рассмотрении."
   ]
  },
  {
   "cell_type": "markdown",
   "metadata": {},
   "source": [
    "### Выбор региона"
   ]
  },
  {
   "cell_type": "markdown",
   "metadata": {},
   "source": [
    "Только два региона удовлетворяют условию, что вероятность убытков должна быть менее 2.5%: второй и третий регионы. Причём третий регион имеет наибольший запас надёжности к убыткам, нижняя граница его доверительного интервала больше аналогичных показателей других регионов. Наименьший запас надёжности имеет второй регион.\n",
    "\n",
    "Второй регион заметно уступает третьему по показателям потенциальной средней прибыли и потенциальной максимальной прибыли.\n",
    "\n",
    "Таким образом, **наиболее предпочтительным является третий регион** по следующим показателям:\n",
    "- рассматриваемый регион удовлетворяет условию, что вероятность убытков должна быть менее 2.5%;\n",
    "- регион имеет наибольший запас надёжности от убытков;\n",
    "- также третий регион обладает наибольшим показателем потенциальной средней прибыли;\n",
    "- в этом же регионе наблюдается наибольший потенциал максимальной прибыли."
   ]
  },
  {
   "cell_type": "markdown",
   "metadata": {},
   "source": [
    "<div class=\"alert alert-block alert-success\">\n",
    "<b>Успех (ревью 2):</b> Приятно видеть вывод в конце проекта! С выбором региона согласен.\n",
    "</div>"
   ]
  },
  {
   "cell_type": "markdown",
   "metadata": {},
   "source": [
    "## Чек-лист готовности проекта"
   ]
  },
  {
   "cell_type": "markdown",
   "metadata": {},
   "source": [
    "Поставьте 'x' в выполненных пунктах. Далее нажмите Shift+Enter."
   ]
  },
  {
   "cell_type": "markdown",
   "metadata": {},
   "source": [
    "- [x]  Jupyter Notebook открыт\n",
    "- [x]  Весь код выполняется без ошибок\n",
    "- [x]  Ячейки с кодом расположены в порядке исполнения\n",
    "- [x]  Выполнен шаг 1: данные подготовлены\n",
    "- [x]  Выполнен шаг 2: модели обучены и проверены\n",
    "    - [x]  Данные корректно разбиты на обучающую и валидационную выборки\n",
    "    - [x]  Модели обучены, предсказания сделаны\n",
    "    - [x]  Предсказания и правильные ответы на валидационной выборке сохранены\n",
    "    - [x]  На экране напечатаны результаты\n",
    "    - [x]  Сделаны выводы\n",
    "- [x]  Выполнен шаг 3: проведена подготовка к расчёту прибыли\n",
    "    - [x]  Для всех ключевых значений созданы константы Python\n",
    "    - [x]  Посчитано минимальное среднее количество продукта в месторождениях региона, достаточное для разработки\n",
    "    - [x]  По предыдущему пункту сделаны выводы\n",
    "    - [x]  Написана функция расчёта прибыли\n",
    "- [x]  Выполнен шаг 4: посчитаны риски и прибыль\n",
    "    - [x]  Проведена процедура *Bootstrap*\n",
    "    - [x]  Все параметры бутстрепа соответствуют условию\n",
    "    - [x]  Найдены все нужные величины\n",
    "    - [x]  Предложен регион для разработки месторождения\n",
    "    - [x]  Выбор региона обоснован"
   ]
  },
  {
   "cell_type": "code",
   "execution_count": null,
   "metadata": {},
   "outputs": [],
   "source": []
  }
 ],
 "metadata": {
  "ExecuteTimeLog": [
   {
    "duration": 510,
    "start_time": "2022-04-26T12:51:07.506Z"
   },
   {
    "duration": 4,
    "start_time": "2022-04-26T12:53:15.514Z"
   },
   {
    "duration": 3,
    "start_time": "2022-04-26T13:05:49.110Z"
   },
   {
    "duration": 3,
    "start_time": "2022-04-26T14:12:41.068Z"
   },
   {
    "duration": 4,
    "start_time": "2022-04-26T14:12:41.815Z"
   },
   {
    "duration": 5,
    "start_time": "2022-04-26T14:12:42.513Z"
   },
   {
    "duration": 181,
    "start_time": "2022-04-26T14:14:00.819Z"
   },
   {
    "duration": 27,
    "start_time": "2022-04-26T14:14:13.148Z"
   },
   {
    "duration": 47,
    "start_time": "2022-04-26T14:15:25.430Z"
   },
   {
    "duration": 64,
    "start_time": "2022-04-26T14:15:33.872Z"
   },
   {
    "duration": 123,
    "start_time": "2022-04-26T14:17:11.253Z"
   },
   {
    "duration": 116,
    "start_time": "2022-04-26T14:17:22.166Z"
   },
   {
    "duration": 141,
    "start_time": "2022-04-26T14:17:30.663Z"
   },
   {
    "duration": 19,
    "start_time": "2022-04-26T14:17:57.342Z"
   },
   {
    "duration": 19,
    "start_time": "2022-04-26T14:20:09.634Z"
   },
   {
    "duration": 498,
    "start_time": "2022-04-27T05:49:02.165Z"
   },
   {
    "duration": 3,
    "start_time": "2022-04-27T05:49:02.996Z"
   },
   {
    "duration": 3,
    "start_time": "2022-04-27T05:49:03.692Z"
   },
   {
    "duration": 126,
    "start_time": "2022-04-27T05:49:06.945Z"
   },
   {
    "duration": 16,
    "start_time": "2022-04-27T05:49:07.502Z"
   },
   {
    "duration": 34,
    "start_time": "2022-04-27T05:49:07.764Z"
   },
   {
    "duration": 71,
    "start_time": "2022-04-27T05:49:08.332Z"
   },
   {
    "duration": 14,
    "start_time": "2022-04-27T05:49:09.095Z"
   },
   {
    "duration": 14,
    "start_time": "2022-04-27T05:49:17.466Z"
   },
   {
    "duration": 947,
    "start_time": "2022-04-27T05:51:15.673Z"
   },
   {
    "duration": 305,
    "start_time": "2022-04-27T05:51:46.345Z"
   },
   {
    "duration": 298,
    "start_time": "2022-04-27T05:52:29.423Z"
   },
   {
    "duration": 292,
    "start_time": "2022-04-27T05:53:21.665Z"
   },
   {
    "duration": 308,
    "start_time": "2022-04-27T05:53:32.446Z"
   },
   {
    "duration": 329,
    "start_time": "2022-04-27T05:53:39.733Z"
   },
   {
    "duration": 323,
    "start_time": "2022-04-27T05:53:44.015Z"
   },
   {
    "duration": 322,
    "start_time": "2022-04-27T05:54:42.035Z"
   },
   {
    "duration": 345,
    "start_time": "2022-04-27T05:54:55.642Z"
   },
   {
    "duration": 319,
    "start_time": "2022-04-27T05:55:14.012Z"
   },
   {
    "duration": 302,
    "start_time": "2022-04-27T05:55:26.705Z"
   },
   {
    "duration": 326,
    "start_time": "2022-04-27T05:55:41.245Z"
   },
   {
    "duration": 7,
    "start_time": "2022-04-27T05:57:27.088Z"
   },
   {
    "duration": 4,
    "start_time": "2022-04-27T05:57:53.657Z"
   },
   {
    "duration": 410,
    "start_time": "2022-04-27T05:58:08.748Z"
   },
   {
    "duration": 417,
    "start_time": "2022-04-27T05:58:35.824Z"
   },
   {
    "duration": 4,
    "start_time": "2022-04-27T05:58:57.704Z"
   },
   {
    "duration": 5,
    "start_time": "2022-04-27T06:01:17.097Z"
   },
   {
    "duration": 285,
    "start_time": "2022-04-27T06:01:33.302Z"
   },
   {
    "duration": 7,
    "start_time": "2022-04-27T06:05:03.814Z"
   },
   {
    "duration": 94,
    "start_time": "2022-04-27T06:05:17.726Z"
   },
   {
    "duration": 64,
    "start_time": "2022-04-27T06:05:23.736Z"
   },
   {
    "duration": 56,
    "start_time": "2022-04-27T06:05:32.844Z"
   },
   {
    "duration": 315,
    "start_time": "2022-04-27T06:07:26.068Z"
   },
   {
    "duration": 636,
    "start_time": "2022-04-27T06:07:38.115Z"
   },
   {
    "duration": 279,
    "start_time": "2022-04-27T06:07:57.445Z"
   },
   {
    "duration": 647,
    "start_time": "2022-04-27T06:08:02.333Z"
   },
   {
    "duration": 440,
    "start_time": "2022-04-27T06:09:05.243Z"
   },
   {
    "duration": 582,
    "start_time": "2022-04-27T06:09:54.773Z"
   },
   {
    "duration": 320,
    "start_time": "2022-04-27T06:10:11.505Z"
   },
   {
    "duration": 539,
    "start_time": "2022-04-27T06:10:22.592Z"
   },
   {
    "duration": 5,
    "start_time": "2022-04-27T06:10:44.643Z"
   },
   {
    "duration": 6,
    "start_time": "2022-04-27T06:11:01.256Z"
   },
   {
    "duration": 113,
    "start_time": "2022-04-27T06:11:07.655Z"
   },
   {
    "duration": 5,
    "start_time": "2022-04-27T06:11:27.170Z"
   },
   {
    "duration": 318,
    "start_time": "2022-04-27T06:11:55.174Z"
   },
   {
    "duration": 7,
    "start_time": "2022-04-27T06:12:04.661Z"
   },
   {
    "duration": 323,
    "start_time": "2022-04-27T06:12:15.456Z"
   },
   {
    "duration": 324,
    "start_time": "2022-04-27T06:12:16.468Z"
   },
   {
    "duration": 304,
    "start_time": "2022-04-27T06:12:17.889Z"
   },
   {
    "duration": 516,
    "start_time": "2022-04-27T06:12:19.039Z"
   },
   {
    "duration": 4,
    "start_time": "2022-04-27T06:12:19.558Z"
   },
   {
    "duration": 5,
    "start_time": "2022-04-27T06:12:42.529Z"
   },
   {
    "duration": 9,
    "start_time": "2022-04-27T06:12:59.194Z"
   },
   {
    "duration": 7,
    "start_time": "2022-04-27T06:13:04.977Z"
   },
   {
    "duration": 25,
    "start_time": "2022-04-27T06:13:58.514Z"
   },
   {
    "duration": 559,
    "start_time": "2022-04-27T06:15:08.776Z"
   },
   {
    "duration": 527,
    "start_time": "2022-04-27T06:15:25.536Z"
   },
   {
    "duration": 647,
    "start_time": "2022-04-27T06:15:44.537Z"
   },
   {
    "duration": 572,
    "start_time": "2022-04-27T06:16:16.546Z"
   },
   {
    "duration": 5,
    "start_time": "2022-04-27T06:23:05.849Z"
   },
   {
    "duration": 31,
    "start_time": "2022-04-27T06:23:27.020Z"
   },
   {
    "duration": 4,
    "start_time": "2022-04-27T06:23:40.024Z"
   },
   {
    "duration": 4,
    "start_time": "2022-04-27T06:47:51.603Z"
   },
   {
    "duration": 115,
    "start_time": "2022-04-27T06:52:06.887Z"
   },
   {
    "duration": 9,
    "start_time": "2022-04-27T06:52:17.069Z"
   },
   {
    "duration": 9,
    "start_time": "2022-04-27T06:53:06.543Z"
   },
   {
    "duration": 36,
    "start_time": "2022-04-27T06:53:15.835Z"
   },
   {
    "duration": 76,
    "start_time": "2022-04-27T06:53:22.564Z"
   },
   {
    "duration": 22,
    "start_time": "2022-04-27T06:53:56.834Z"
   },
   {
    "duration": 367,
    "start_time": "2022-04-27T06:54:09.266Z"
   },
   {
    "duration": 5,
    "start_time": "2022-04-27T07:04:10.255Z"
   },
   {
    "duration": 35,
    "start_time": "2022-04-27T07:04:11.419Z"
   },
   {
    "duration": 5,
    "start_time": "2022-04-27T07:04:13.030Z"
   },
   {
    "duration": 165,
    "start_time": "2022-04-27T07:19:22.755Z"
   },
   {
    "duration": 12,
    "start_time": "2022-04-27T07:19:42.457Z"
   },
   {
    "duration": 45,
    "start_time": "2022-04-27T07:19:50.490Z"
   },
   {
    "duration": 116,
    "start_time": "2022-04-27T07:20:25.957Z"
   },
   {
    "duration": 18,
    "start_time": "2022-04-27T07:20:42.085Z"
   },
   {
    "duration": 306,
    "start_time": "2022-04-27T07:20:50.838Z"
   },
   {
    "duration": 4,
    "start_time": "2022-04-27T07:21:50.494Z"
   },
   {
    "duration": 30,
    "start_time": "2022-04-27T07:21:50.828Z"
   },
   {
    "duration": 4,
    "start_time": "2022-04-27T07:21:52.710Z"
   },
   {
    "duration": 4,
    "start_time": "2022-04-27T07:40:08.331Z"
   },
   {
    "duration": 6,
    "start_time": "2022-04-27T07:45:59.856Z"
   },
   {
    "duration": 4,
    "start_time": "2022-04-27T07:48:43.391Z"
   },
   {
    "duration": 3,
    "start_time": "2022-04-27T07:57:08.379Z"
   },
   {
    "duration": 18,
    "start_time": "2022-04-27T08:01:40.325Z"
   },
   {
    "duration": 11,
    "start_time": "2022-04-27T08:06:05.137Z"
   },
   {
    "duration": 6,
    "start_time": "2022-04-27T08:06:30.675Z"
   },
   {
    "duration": 11,
    "start_time": "2022-04-27T08:08:39.387Z"
   },
   {
    "duration": 26,
    "start_time": "2022-04-27T08:20:16.616Z"
   },
   {
    "duration": 158,
    "start_time": "2022-04-27T08:20:53.600Z"
   },
   {
    "duration": 18,
    "start_time": "2022-04-27T08:21:12.969Z"
   },
   {
    "duration": 73,
    "start_time": "2022-04-27T08:21:13.578Z"
   },
   {
    "duration": 12,
    "start_time": "2022-04-27T08:21:14.704Z"
   },
   {
    "duration": 22,
    "start_time": "2022-04-27T08:24:59.281Z"
   },
   {
    "duration": 6,
    "start_time": "2022-04-27T08:28:11.269Z"
   },
   {
    "duration": 32,
    "start_time": "2022-04-27T08:30:36.136Z"
   },
   {
    "duration": 24,
    "start_time": "2022-04-27T08:31:05.067Z"
   },
   {
    "duration": 24,
    "start_time": "2022-04-27T08:31:18.639Z"
   },
   {
    "duration": 17,
    "start_time": "2022-04-27T08:31:19.301Z"
   },
   {
    "duration": 36,
    "start_time": "2022-04-27T08:31:23.161Z"
   },
   {
    "duration": 3,
    "start_time": "2022-04-27T08:32:25.681Z"
   },
   {
    "duration": 21,
    "start_time": "2022-04-27T08:34:52.493Z"
   },
   {
    "duration": 12,
    "start_time": "2022-04-27T08:34:54.463Z"
   },
   {
    "duration": 5,
    "start_time": "2022-04-27T08:35:18.605Z"
   },
   {
    "duration": 4,
    "start_time": "2022-04-27T08:35:25.044Z"
   },
   {
    "duration": 5,
    "start_time": "2022-04-27T08:35:31.772Z"
   },
   {
    "duration": 75,
    "start_time": "2022-04-27T10:02:13.592Z"
   },
   {
    "duration": 2321,
    "start_time": "2022-04-27T10:02:23.329Z"
   },
   {
    "duration": 3,
    "start_time": "2022-04-27T10:02:25.652Z"
   },
   {
    "duration": 16,
    "start_time": "2022-04-27T10:02:25.657Z"
   },
   {
    "duration": 23,
    "start_time": "2022-04-27T10:02:25.675Z"
   },
   {
    "duration": 26,
    "start_time": "2022-04-27T10:02:25.700Z"
   },
   {
    "duration": 151,
    "start_time": "2022-04-27T10:02:25.727Z"
   },
   {
    "duration": 17,
    "start_time": "2022-04-27T10:02:25.880Z"
   },
   {
    "duration": 65,
    "start_time": "2022-04-27T10:02:25.899Z"
   },
   {
    "duration": 143,
    "start_time": "2022-04-27T10:02:25.966Z"
   },
   {
    "duration": 31,
    "start_time": "2022-04-27T10:02:26.111Z"
   },
   {
    "duration": 497,
    "start_time": "2022-04-27T10:02:26.144Z"
   },
   {
    "duration": 5,
    "start_time": "2022-04-27T10:02:26.643Z"
   },
   {
    "duration": 53,
    "start_time": "2022-04-27T10:02:26.650Z"
   },
   {
    "duration": 305,
    "start_time": "2022-04-27T10:02:26.707Z"
   },
   {
    "duration": 10,
    "start_time": "2022-04-27T10:02:27.013Z"
   },
   {
    "duration": 65,
    "start_time": "2022-04-27T10:02:27.025Z"
   },
   {
    "duration": 30,
    "start_time": "2022-04-27T10:02:27.093Z"
   },
   {
    "duration": 132,
    "start_time": "2022-04-27T10:02:27.125Z"
   },
   {
    "duration": 14,
    "start_time": "2022-04-27T10:02:27.259Z"
   },
   {
    "duration": 37,
    "start_time": "2022-04-27T10:02:27.275Z"
   },
   {
    "duration": 74,
    "start_time": "2022-04-27T10:02:27.322Z"
   },
   {
    "duration": 27,
    "start_time": "2022-04-27T10:02:27.398Z"
   },
   {
    "duration": 302,
    "start_time": "2022-04-27T10:02:27.427Z"
   },
   {
    "duration": 5,
    "start_time": "2022-04-27T10:02:27.731Z"
   },
   {
    "duration": 32,
    "start_time": "2022-04-27T10:02:27.738Z"
   },
   {
    "duration": 4,
    "start_time": "2022-04-27T10:02:27.772Z"
   },
   {
    "duration": 195,
    "start_time": "2022-04-27T10:02:27.778Z"
   },
   {
    "duration": 13,
    "start_time": "2022-04-27T10:02:27.975Z"
   },
   {
    "duration": 50,
    "start_time": "2022-04-27T10:02:27.990Z"
   },
   {
    "duration": 81,
    "start_time": "2022-04-27T10:02:28.042Z"
   },
   {
    "duration": 15,
    "start_time": "2022-04-27T10:02:28.125Z"
   },
   {
    "duration": 332,
    "start_time": "2022-04-27T10:02:28.142Z"
   },
   {
    "duration": 5,
    "start_time": "2022-04-27T10:02:28.475Z"
   },
   {
    "duration": 69,
    "start_time": "2022-04-27T10:02:28.482Z"
   },
   {
    "duration": 5,
    "start_time": "2022-04-27T10:02:28.553Z"
   },
   {
    "duration": 24,
    "start_time": "2022-04-27T10:02:28.560Z"
   },
   {
    "duration": 45,
    "start_time": "2022-04-27T10:02:28.586Z"
   },
   {
    "duration": 190,
    "start_time": "2022-04-27T10:02:28.632Z"
   },
   {
    "duration": 24,
    "start_time": "2022-04-27T10:02:28.825Z"
   },
   {
    "duration": 21,
    "start_time": "2022-04-27T10:02:28.851Z"
   },
   {
    "duration": 68,
    "start_time": "2022-04-27T10:02:28.877Z"
   },
   {
    "duration": 74,
    "start_time": "2022-04-27T10:02:28.947Z"
   },
   {
    "duration": 100,
    "start_time": "2022-04-27T10:02:29.024Z"
   },
   {
    "duration": 5,
    "start_time": "2022-04-27T10:11:15.698Z"
   },
   {
    "duration": 6,
    "start_time": "2022-04-27T10:11:43.319Z"
   },
   {
    "duration": 17,
    "start_time": "2022-04-27T10:13:14.304Z"
   },
   {
    "duration": 22,
    "start_time": "2022-04-27T10:13:14.869Z"
   },
   {
    "duration": 5,
    "start_time": "2022-04-27T10:13:15.340Z"
   },
   {
    "duration": 12,
    "start_time": "2022-04-27T10:13:18.686Z"
   },
   {
    "duration": 10,
    "start_time": "2022-04-27T10:14:41.174Z"
   },
   {
    "duration": 8,
    "start_time": "2022-04-27T10:16:24.548Z"
   },
   {
    "duration": 6,
    "start_time": "2022-04-27T10:19:28.169Z"
   },
   {
    "duration": 9,
    "start_time": "2022-04-27T10:19:38.720Z"
   },
   {
    "duration": 6,
    "start_time": "2022-04-27T10:19:57.301Z"
   },
   {
    "duration": 4,
    "start_time": "2022-04-27T10:20:07.493Z"
   },
   {
    "duration": 5,
    "start_time": "2022-04-27T10:20:16.454Z"
   },
   {
    "duration": 15,
    "start_time": "2022-04-27T11:23:29.142Z"
   },
   {
    "duration": 14,
    "start_time": "2022-04-27T11:23:41.916Z"
   },
   {
    "duration": 12,
    "start_time": "2022-04-27T11:24:02.606Z"
   },
   {
    "duration": 19,
    "start_time": "2022-04-27T11:28:17.680Z"
   },
   {
    "duration": 17,
    "start_time": "2022-04-27T11:28:22.450Z"
   },
   {
    "duration": 28,
    "start_time": "2022-04-27T11:28:29.200Z"
   },
   {
    "duration": 14,
    "start_time": "2022-04-27T11:28:35.209Z"
   },
   {
    "duration": 13,
    "start_time": "2022-04-27T11:28:43.431Z"
   },
   {
    "duration": 16,
    "start_time": "2022-04-27T11:29:14.333Z"
   },
   {
    "duration": 15,
    "start_time": "2022-04-27T11:29:19.068Z"
   },
   {
    "duration": 8,
    "start_time": "2022-04-27T11:29:29.763Z"
   },
   {
    "duration": 5,
    "start_time": "2022-04-27T11:29:47.039Z"
   },
   {
    "duration": 1588,
    "start_time": "2022-04-27T13:38:19.858Z"
   },
   {
    "duration": 3,
    "start_time": "2022-04-27T13:38:21.448Z"
   },
   {
    "duration": 8,
    "start_time": "2022-04-27T13:38:21.452Z"
   },
   {
    "duration": 6,
    "start_time": "2022-04-27T13:38:21.462Z"
   },
   {
    "duration": 6,
    "start_time": "2022-04-27T13:38:21.469Z"
   },
   {
    "duration": 108,
    "start_time": "2022-04-27T13:38:21.476Z"
   },
   {
    "duration": 13,
    "start_time": "2022-04-27T13:38:21.586Z"
   },
   {
    "duration": 50,
    "start_time": "2022-04-27T13:38:21.600Z"
   },
   {
    "duration": 73,
    "start_time": "2022-04-27T13:38:21.652Z"
   },
   {
    "duration": 15,
    "start_time": "2022-04-27T13:38:21.729Z"
   },
   {
    "duration": 318,
    "start_time": "2022-04-27T13:38:21.746Z"
   },
   {
    "duration": 4,
    "start_time": "2022-04-27T13:38:22.066Z"
   },
   {
    "duration": 57,
    "start_time": "2022-04-27T13:38:22.072Z"
   },
   {
    "duration": 251,
    "start_time": "2022-04-27T13:38:22.132Z"
   },
   {
    "duration": 5,
    "start_time": "2022-04-27T13:38:22.385Z"
   },
   {
    "duration": 42,
    "start_time": "2022-04-27T13:38:22.392Z"
   },
   {
    "duration": 4,
    "start_time": "2022-04-27T13:38:22.436Z"
   },
   {
    "duration": 111,
    "start_time": "2022-04-27T13:38:22.441Z"
   },
   {
    "duration": 8,
    "start_time": "2022-04-27T13:38:22.554Z"
   },
   {
    "duration": 38,
    "start_time": "2022-04-27T13:38:22.564Z"
   },
   {
    "duration": 69,
    "start_time": "2022-04-27T13:38:22.604Z"
   },
   {
    "duration": 13,
    "start_time": "2022-04-27T13:38:22.674Z"
   },
   {
    "duration": 318,
    "start_time": "2022-04-27T13:38:22.689Z"
   },
   {
    "duration": 5,
    "start_time": "2022-04-27T13:38:23.008Z"
   },
   {
    "duration": 24,
    "start_time": "2022-04-27T13:38:23.024Z"
   },
   {
    "duration": 4,
    "start_time": "2022-04-27T13:38:23.050Z"
   },
   {
    "duration": 114,
    "start_time": "2022-04-27T13:38:23.055Z"
   },
   {
    "duration": 9,
    "start_time": "2022-04-27T13:38:23.173Z"
   },
   {
    "duration": 48,
    "start_time": "2022-04-27T13:38:23.184Z"
   },
   {
    "duration": 58,
    "start_time": "2022-04-27T13:38:23.234Z"
   },
   {
    "duration": 13,
    "start_time": "2022-04-27T13:38:23.293Z"
   },
   {
    "duration": 285,
    "start_time": "2022-04-27T13:38:23.324Z"
   },
   {
    "duration": 13,
    "start_time": "2022-04-27T13:38:23.611Z"
   },
   {
    "duration": 33,
    "start_time": "2022-04-27T13:38:23.626Z"
   },
   {
    "duration": 3,
    "start_time": "2022-04-27T13:38:23.661Z"
   },
   {
    "duration": 28,
    "start_time": "2022-04-27T13:38:23.666Z"
   },
   {
    "duration": 32,
    "start_time": "2022-04-27T13:38:23.696Z"
   },
   {
    "duration": 196,
    "start_time": "2022-04-27T13:38:23.729Z"
   },
   {
    "duration": 20,
    "start_time": "2022-04-27T13:38:23.927Z"
   },
   {
    "duration": 16,
    "start_time": "2022-04-27T13:38:23.948Z"
   },
   {
    "duration": 31,
    "start_time": "2022-04-27T13:38:23.965Z"
   },
   {
    "duration": 127,
    "start_time": "2022-04-27T13:38:23.998Z"
   },
   {
    "duration": 103,
    "start_time": "2022-04-27T13:38:24.127Z"
   },
   {
    "duration": 15,
    "start_time": "2022-04-27T13:38:24.231Z"
   },
   {
    "duration": 15,
    "start_time": "2022-04-27T13:38:24.247Z"
   },
   {
    "duration": 161,
    "start_time": "2022-04-27T13:38:24.264Z"
   },
   {
    "duration": 12,
    "start_time": "2022-04-27T13:38:24.426Z"
   },
   {
    "duration": 15,
    "start_time": "2022-04-27T13:38:24.439Z"
   },
   {
    "duration": 12,
    "start_time": "2022-04-27T13:38:24.456Z"
   },
   {
    "duration": 156,
    "start_time": "2022-04-27T13:38:24.469Z"
   },
   {
    "duration": 21,
    "start_time": "2022-04-27T13:38:24.627Z"
   },
   {
    "duration": 17,
    "start_time": "2022-04-27T13:38:24.650Z"
   },
   {
    "duration": 28,
    "start_time": "2022-04-27T13:38:24.669Z"
   },
   {
    "duration": 15,
    "start_time": "2022-04-27T13:38:24.723Z"
   },
   {
    "duration": 92,
    "start_time": "2022-04-27T13:38:24.740Z"
   },
   {
    "duration": 104,
    "start_time": "2022-04-27T13:38:24.834Z"
   },
   {
    "duration": 14,
    "start_time": "2022-04-27T13:38:24.940Z"
   },
   {
    "duration": 173,
    "start_time": "2022-04-27T13:38:24.955Z"
   },
   {
    "duration": 26,
    "start_time": "2022-04-27T13:38:25.130Z"
   },
   {
    "duration": 16,
    "start_time": "2022-04-27T13:38:32.314Z"
   },
   {
    "duration": 13,
    "start_time": "2022-04-27T13:38:37.708Z"
   },
   {
    "duration": 13,
    "start_time": "2022-04-27T13:39:03.022Z"
   },
   {
    "duration": 3,
    "start_time": "2022-04-27T13:39:14.203Z"
   },
   {
    "duration": 6,
    "start_time": "2022-04-27T13:39:14.208Z"
   },
   {
    "duration": 25,
    "start_time": "2022-04-27T13:39:14.216Z"
   },
   {
    "duration": 10,
    "start_time": "2022-04-27T13:39:14.243Z"
   },
   {
    "duration": 8,
    "start_time": "2022-04-27T13:39:14.255Z"
   },
   {
    "duration": 108,
    "start_time": "2022-04-27T13:39:14.265Z"
   },
   {
    "duration": 8,
    "start_time": "2022-04-27T13:39:14.375Z"
   },
   {
    "duration": 51,
    "start_time": "2022-04-27T13:39:14.385Z"
   },
   {
    "duration": 54,
    "start_time": "2022-04-27T13:39:14.437Z"
   },
   {
    "duration": 14,
    "start_time": "2022-04-27T13:39:14.492Z"
   },
   {
    "duration": 302,
    "start_time": "2022-04-27T13:39:14.507Z"
   },
   {
    "duration": 13,
    "start_time": "2022-04-27T13:39:14.811Z"
   },
   {
    "duration": 44,
    "start_time": "2022-04-27T13:39:14.827Z"
   },
   {
    "duration": 273,
    "start_time": "2022-04-27T13:39:14.873Z"
   },
   {
    "duration": 6,
    "start_time": "2022-04-27T13:39:15.147Z"
   },
   {
    "duration": 34,
    "start_time": "2022-04-27T13:39:15.155Z"
   },
   {
    "duration": 4,
    "start_time": "2022-04-27T13:39:15.191Z"
   },
   {
    "duration": 123,
    "start_time": "2022-04-27T13:39:15.197Z"
   },
   {
    "duration": 9,
    "start_time": "2022-04-27T13:39:15.323Z"
   },
   {
    "duration": 125,
    "start_time": "2022-04-27T13:39:15.334Z"
   },
   {
    "duration": 85,
    "start_time": "2022-04-27T13:39:15.461Z"
   },
   {
    "duration": 12,
    "start_time": "2022-04-27T13:39:15.548Z"
   },
   {
    "duration": 290,
    "start_time": "2022-04-27T13:39:15.561Z"
   },
   {
    "duration": 5,
    "start_time": "2022-04-27T13:39:15.853Z"
   },
   {
    "duration": 28,
    "start_time": "2022-04-27T13:39:15.859Z"
   },
   {
    "duration": 3,
    "start_time": "2022-04-27T13:39:15.889Z"
   },
   {
    "duration": 119,
    "start_time": "2022-04-27T13:39:15.893Z"
   },
   {
    "duration": 10,
    "start_time": "2022-04-27T13:39:16.014Z"
   },
   {
    "duration": 34,
    "start_time": "2022-04-27T13:39:16.026Z"
   },
   {
    "duration": 69,
    "start_time": "2022-04-27T13:39:16.062Z"
   },
   {
    "duration": 12,
    "start_time": "2022-04-27T13:39:16.133Z"
   },
   {
    "duration": 296,
    "start_time": "2022-04-27T13:39:16.147Z"
   },
   {
    "duration": 3,
    "start_time": "2022-04-27T13:39:16.445Z"
   },
   {
    "duration": 88,
    "start_time": "2022-04-27T13:39:16.450Z"
   },
   {
    "duration": 4,
    "start_time": "2022-04-27T13:39:16.540Z"
   },
   {
    "duration": 30,
    "start_time": "2022-04-27T13:39:16.546Z"
   },
   {
    "duration": 49,
    "start_time": "2022-04-27T13:39:16.581Z"
   },
   {
    "duration": 194,
    "start_time": "2022-04-27T13:39:16.631Z"
   },
   {
    "duration": 19,
    "start_time": "2022-04-27T13:39:16.827Z"
   },
   {
    "duration": 15,
    "start_time": "2022-04-27T13:39:16.847Z"
   },
   {
    "duration": 48,
    "start_time": "2022-04-27T13:39:16.863Z"
   },
   {
    "duration": 25,
    "start_time": "2022-04-27T13:39:16.913Z"
   },
   {
    "duration": 110,
    "start_time": "2022-04-27T13:39:17.025Z"
   },
   {
    "duration": 35,
    "start_time": "2022-04-27T13:39:17.137Z"
   },
   {
    "duration": 27,
    "start_time": "2022-04-27T13:39:17.174Z"
   },
   {
    "duration": 129,
    "start_time": "2022-04-27T13:39:17.203Z"
   },
   {
    "duration": 11,
    "start_time": "2022-04-27T13:39:17.334Z"
   },
   {
    "duration": 84,
    "start_time": "2022-04-27T13:39:17.347Z"
   },
   {
    "duration": 13,
    "start_time": "2022-04-27T13:39:17.433Z"
   },
   {
    "duration": 175,
    "start_time": "2022-04-27T13:39:17.448Z"
   },
   {
    "duration": 19,
    "start_time": "2022-04-27T13:39:17.625Z"
   },
   {
    "duration": 18,
    "start_time": "2022-04-27T13:39:17.646Z"
   },
   {
    "duration": 58,
    "start_time": "2022-04-27T13:39:17.666Z"
   },
   {
    "duration": 13,
    "start_time": "2022-04-27T13:39:17.725Z"
   },
   {
    "duration": 185,
    "start_time": "2022-04-27T13:39:17.740Z"
   },
   {
    "duration": 15,
    "start_time": "2022-04-27T13:39:17.927Z"
   },
   {
    "duration": 13,
    "start_time": "2022-04-27T13:39:17.944Z"
   },
   {
    "duration": 165,
    "start_time": "2022-04-27T13:39:17.959Z"
   },
   {
    "duration": 11,
    "start_time": "2022-04-27T13:39:18.126Z"
   },
   {
    "duration": 25,
    "start_time": "2022-04-27T13:39:18.139Z"
   },
   {
    "duration": 58,
    "start_time": "2022-04-27T13:39:18.166Z"
   },
   {
    "duration": 15,
    "start_time": "2022-04-27T13:39:24.081Z"
   },
   {
    "duration": 14,
    "start_time": "2022-04-27T13:39:25.474Z"
   },
   {
    "duration": 12,
    "start_time": "2022-04-27T13:39:26.686Z"
   },
   {
    "duration": 17,
    "start_time": "2022-04-27T13:40:36.047Z"
   },
   {
    "duration": 16,
    "start_time": "2022-04-27T13:40:36.914Z"
   },
   {
    "duration": 31,
    "start_time": "2022-04-27T13:40:41.787Z"
   },
   {
    "duration": 14,
    "start_time": "2022-04-27T13:40:42.531Z"
   },
   {
    "duration": 12,
    "start_time": "2022-04-27T13:40:51.426Z"
   },
   {
    "duration": 9,
    "start_time": "2022-04-27T13:43:03.594Z"
   },
   {
    "duration": 6,
    "start_time": "2022-04-27T13:43:16.032Z"
   },
   {
    "duration": 5,
    "start_time": "2022-04-27T13:43:26.836Z"
   },
   {
    "duration": 1472,
    "start_time": "2022-04-27T13:55:13.502Z"
   },
   {
    "duration": 3,
    "start_time": "2022-04-27T13:55:14.976Z"
   },
   {
    "duration": 11,
    "start_time": "2022-04-27T13:55:14.980Z"
   },
   {
    "duration": 8,
    "start_time": "2022-04-27T13:55:14.992Z"
   },
   {
    "duration": 17,
    "start_time": "2022-04-27T13:55:15.002Z"
   },
   {
    "duration": 109,
    "start_time": "2022-04-27T13:55:15.021Z"
   },
   {
    "duration": 11,
    "start_time": "2022-04-27T13:55:15.132Z"
   },
   {
    "duration": 38,
    "start_time": "2022-04-27T13:55:15.145Z"
   },
   {
    "duration": 78,
    "start_time": "2022-04-27T13:55:15.185Z"
   },
   {
    "duration": 14,
    "start_time": "2022-04-27T13:55:15.265Z"
   },
   {
    "duration": 336,
    "start_time": "2022-04-27T13:55:15.281Z"
   },
   {
    "duration": 3,
    "start_time": "2022-04-27T13:55:15.624Z"
   },
   {
    "duration": 48,
    "start_time": "2022-04-27T13:55:15.628Z"
   },
   {
    "duration": 240,
    "start_time": "2022-04-27T13:55:15.679Z"
   },
   {
    "duration": 5,
    "start_time": "2022-04-27T13:55:15.924Z"
   },
   {
    "duration": 33,
    "start_time": "2022-04-27T13:55:15.930Z"
   },
   {
    "duration": 3,
    "start_time": "2022-04-27T13:55:15.965Z"
   },
   {
    "duration": 110,
    "start_time": "2022-04-27T13:55:15.970Z"
   },
   {
    "duration": 8,
    "start_time": "2022-04-27T13:55:16.082Z"
   },
   {
    "duration": 43,
    "start_time": "2022-04-27T13:55:16.091Z"
   },
   {
    "duration": 57,
    "start_time": "2022-04-27T13:55:16.136Z"
   },
   {
    "duration": 34,
    "start_time": "2022-04-27T13:55:16.195Z"
   },
   {
    "duration": 273,
    "start_time": "2022-04-27T13:55:16.231Z"
   },
   {
    "duration": 5,
    "start_time": "2022-04-27T13:55:16.505Z"
   },
   {
    "duration": 32,
    "start_time": "2022-04-27T13:55:16.511Z"
   },
   {
    "duration": 3,
    "start_time": "2022-04-27T13:55:16.544Z"
   },
   {
    "duration": 105,
    "start_time": "2022-04-27T13:55:16.549Z"
   },
   {
    "duration": 9,
    "start_time": "2022-04-27T13:55:16.655Z"
   },
   {
    "duration": 41,
    "start_time": "2022-04-27T13:55:16.665Z"
   },
   {
    "duration": 60,
    "start_time": "2022-04-27T13:55:16.707Z"
   },
   {
    "duration": 13,
    "start_time": "2022-04-27T13:55:16.768Z"
   },
   {
    "duration": 318,
    "start_time": "2022-04-27T13:55:16.783Z"
   },
   {
    "duration": 4,
    "start_time": "2022-04-27T13:55:17.102Z"
   },
   {
    "duration": 50,
    "start_time": "2022-04-27T13:55:17.108Z"
   },
   {
    "duration": 4,
    "start_time": "2022-04-27T13:55:17.159Z"
   },
   {
    "duration": 31,
    "start_time": "2022-04-27T13:55:17.164Z"
   },
   {
    "duration": 29,
    "start_time": "2022-04-27T13:55:17.196Z"
   },
   {
    "duration": 197,
    "start_time": "2022-04-27T13:55:17.227Z"
   },
   {
    "duration": 17,
    "start_time": "2022-04-27T13:55:17.425Z"
   },
   {
    "duration": 14,
    "start_time": "2022-04-27T13:55:17.444Z"
   },
   {
    "duration": 31,
    "start_time": "2022-04-27T13:55:17.463Z"
   },
   {
    "duration": 35,
    "start_time": "2022-04-27T13:55:17.496Z"
   },
   {
    "duration": 199,
    "start_time": "2022-04-27T13:55:17.533Z"
   },
   {
    "duration": 24,
    "start_time": "2022-04-27T13:55:17.734Z"
   },
   {
    "duration": 22,
    "start_time": "2022-04-27T13:55:17.760Z"
   },
   {
    "duration": 150,
    "start_time": "2022-04-27T13:55:17.784Z"
   },
   {
    "duration": 18,
    "start_time": "2022-04-27T13:55:17.935Z"
   },
   {
    "duration": 30,
    "start_time": "2022-04-27T13:55:17.954Z"
   },
   {
    "duration": 29,
    "start_time": "2022-04-27T13:55:17.985Z"
   },
   {
    "duration": 33,
    "start_time": "2022-04-27T13:55:18.016Z"
   },
   {
    "duration": 183,
    "start_time": "2022-04-27T13:55:18.051Z"
   },
   {
    "duration": 24,
    "start_time": "2022-04-27T13:55:18.236Z"
   },
   {
    "duration": 14,
    "start_time": "2022-04-27T13:55:18.261Z"
   },
   {
    "duration": 25,
    "start_time": "2022-04-27T13:55:18.276Z"
   },
   {
    "duration": 30,
    "start_time": "2022-04-27T13:55:18.302Z"
   },
   {
    "duration": 98,
    "start_time": "2022-04-27T13:55:18.334Z"
   },
   {
    "duration": 17,
    "start_time": "2022-04-27T13:55:18.523Z"
   },
   {
    "duration": 18,
    "start_time": "2022-04-27T13:55:18.541Z"
   },
   {
    "duration": 106,
    "start_time": "2022-04-27T13:55:18.624Z"
   },
   {
    "duration": 5,
    "start_time": "2022-04-27T13:55:18.732Z"
   },
   {
    "duration": 24,
    "start_time": "2022-04-27T13:55:18.739Z"
   },
   {
    "duration": 18,
    "start_time": "2022-04-27T13:55:18.764Z"
   },
   {
    "duration": 49,
    "start_time": "2022-04-27T13:55:18.784Z"
   },
   {
    "duration": 103,
    "start_time": "2022-04-27T13:55:18.927Z"
   },
   {
    "duration": 17,
    "start_time": "2022-04-27T13:55:19.031Z"
   },
   {
    "duration": 15,
    "start_time": "2022-04-27T13:55:19.050Z"
   },
   {
    "duration": 26,
    "start_time": "2022-04-27T13:55:19.067Z"
   },
   {
    "duration": 40,
    "start_time": "2022-04-27T13:55:19.094Z"
   },
   {
    "duration": 189,
    "start_time": "2022-04-27T13:55:19.136Z"
   },
   {
    "duration": 10,
    "start_time": "2022-04-27T13:55:19.327Z"
   },
   {
    "duration": 6,
    "start_time": "2022-04-27T13:55:19.339Z"
   },
   {
    "duration": 9,
    "start_time": "2022-04-27T13:55:19.347Z"
   },
   {
    "duration": 1477,
    "start_time": "2022-04-27T13:56:16.115Z"
   },
   {
    "duration": 3,
    "start_time": "2022-04-27T13:56:17.594Z"
   },
   {
    "duration": 37,
    "start_time": "2022-04-27T13:56:17.599Z"
   },
   {
    "duration": 24,
    "start_time": "2022-04-27T13:56:17.638Z"
   },
   {
    "duration": 16,
    "start_time": "2022-04-27T13:56:17.665Z"
   },
   {
    "duration": 134,
    "start_time": "2022-04-27T13:56:17.682Z"
   },
   {
    "duration": 13,
    "start_time": "2022-04-27T13:56:17.818Z"
   },
   {
    "duration": 46,
    "start_time": "2022-04-27T13:56:17.833Z"
   },
   {
    "duration": 73,
    "start_time": "2022-04-27T13:56:17.881Z"
   },
   {
    "duration": 14,
    "start_time": "2022-04-27T13:56:17.957Z"
   },
   {
    "duration": 335,
    "start_time": "2022-04-27T13:56:17.973Z"
   },
   {
    "duration": 4,
    "start_time": "2022-04-27T13:56:18.310Z"
   },
   {
    "duration": 63,
    "start_time": "2022-04-27T13:56:18.315Z"
   },
   {
    "duration": 255,
    "start_time": "2022-04-27T13:56:18.382Z"
   },
   {
    "duration": 6,
    "start_time": "2022-04-27T13:56:18.638Z"
   },
   {
    "duration": 61,
    "start_time": "2022-04-27T13:56:18.645Z"
   },
   {
    "duration": 3,
    "start_time": "2022-04-27T13:56:18.708Z"
   },
   {
    "duration": 134,
    "start_time": "2022-04-27T13:56:18.713Z"
   },
   {
    "duration": 8,
    "start_time": "2022-04-27T13:56:18.848Z"
   },
   {
    "duration": 42,
    "start_time": "2022-04-27T13:56:18.858Z"
   },
   {
    "duration": 69,
    "start_time": "2022-04-27T13:56:18.902Z"
   },
   {
    "duration": 14,
    "start_time": "2022-04-27T13:56:18.972Z"
   },
   {
    "duration": 327,
    "start_time": "2022-04-27T13:56:18.987Z"
   },
   {
    "duration": 8,
    "start_time": "2022-04-27T13:56:19.316Z"
   },
   {
    "duration": 40,
    "start_time": "2022-04-27T13:56:19.326Z"
   },
   {
    "duration": 4,
    "start_time": "2022-04-27T13:56:19.368Z"
   },
   {
    "duration": 108,
    "start_time": "2022-04-27T13:56:19.373Z"
   },
   {
    "duration": 8,
    "start_time": "2022-04-27T13:56:19.483Z"
   },
   {
    "duration": 46,
    "start_time": "2022-04-27T13:56:19.492Z"
   },
   {
    "duration": 63,
    "start_time": "2022-04-27T13:56:19.540Z"
   },
   {
    "duration": 26,
    "start_time": "2022-04-27T13:56:19.605Z"
   },
   {
    "duration": 295,
    "start_time": "2022-04-27T13:56:19.633Z"
   },
   {
    "duration": 4,
    "start_time": "2022-04-27T13:56:19.930Z"
   },
   {
    "duration": 32,
    "start_time": "2022-04-27T13:56:19.936Z"
   },
   {
    "duration": 4,
    "start_time": "2022-04-27T13:56:19.969Z"
   },
   {
    "duration": 20,
    "start_time": "2022-04-27T13:56:19.975Z"
   },
   {
    "duration": 40,
    "start_time": "2022-04-27T13:56:19.997Z"
   },
   {
    "duration": 101,
    "start_time": "2022-04-27T13:56:20.125Z"
   },
   {
    "duration": 19,
    "start_time": "2022-04-27T13:56:20.228Z"
   },
   {
    "duration": 15,
    "start_time": "2022-04-27T13:56:20.248Z"
   },
   {
    "duration": 58,
    "start_time": "2022-04-27T13:56:20.266Z"
   },
   {
    "duration": 16,
    "start_time": "2022-04-27T13:56:20.325Z"
   },
   {
    "duration": 183,
    "start_time": "2022-04-27T13:56:20.342Z"
   },
   {
    "duration": 16,
    "start_time": "2022-04-27T13:56:20.526Z"
   },
   {
    "duration": 14,
    "start_time": "2022-04-27T13:56:20.543Z"
   },
   {
    "duration": 73,
    "start_time": "2022-04-27T13:56:20.559Z"
   },
   {
    "duration": 92,
    "start_time": "2022-04-27T13:56:20.633Z"
   },
   {
    "duration": 10,
    "start_time": "2022-04-27T13:56:20.726Z"
   },
   {
    "duration": 22,
    "start_time": "2022-04-27T13:56:20.738Z"
   },
   {
    "duration": 13,
    "start_time": "2022-04-27T13:56:20.763Z"
   },
   {
    "duration": 104,
    "start_time": "2022-04-27T13:56:20.825Z"
   },
   {
    "duration": 20,
    "start_time": "2022-04-27T13:56:20.931Z"
   },
   {
    "duration": 15,
    "start_time": "2022-04-27T13:56:20.952Z"
   },
   {
    "duration": 56,
    "start_time": "2022-04-27T13:56:20.968Z"
   },
   {
    "duration": 19,
    "start_time": "2022-04-27T13:56:21.026Z"
   },
   {
    "duration": 178,
    "start_time": "2022-04-27T13:56:21.047Z"
   },
   {
    "duration": 17,
    "start_time": "2022-04-27T13:56:21.227Z"
   },
   {
    "duration": 14,
    "start_time": "2022-04-27T13:56:21.246Z"
   },
   {
    "duration": 163,
    "start_time": "2022-04-27T13:56:21.261Z"
   },
   {
    "duration": 7,
    "start_time": "2022-04-27T13:56:21.426Z"
   },
   {
    "duration": 11,
    "start_time": "2022-04-27T13:56:21.435Z"
   },
   {
    "duration": 21,
    "start_time": "2022-04-27T13:56:21.448Z"
   },
   {
    "duration": 62,
    "start_time": "2022-04-27T13:56:21.470Z"
   },
   {
    "duration": 99,
    "start_time": "2022-04-27T13:56:21.534Z"
   },
   {
    "duration": 19,
    "start_time": "2022-04-27T13:56:21.635Z"
   },
   {
    "duration": 78,
    "start_time": "2022-04-27T13:56:21.656Z"
   },
   {
    "duration": 29,
    "start_time": "2022-04-27T13:56:21.736Z"
   },
   {
    "duration": 66,
    "start_time": "2022-04-27T13:56:21.767Z"
   },
   {
    "duration": 104,
    "start_time": "2022-04-27T13:56:21.834Z"
   },
   {
    "duration": 11,
    "start_time": "2022-04-27T13:56:21.941Z"
   },
   {
    "duration": 9,
    "start_time": "2022-04-27T13:56:21.954Z"
   },
   {
    "duration": 9,
    "start_time": "2022-04-27T13:56:22.024Z"
   },
   {
    "duration": 1470,
    "start_time": "2022-04-27T14:22:55.157Z"
   },
   {
    "duration": 2,
    "start_time": "2022-04-27T14:22:56.630Z"
   },
   {
    "duration": 13,
    "start_time": "2022-04-27T14:22:56.634Z"
   },
   {
    "duration": 12,
    "start_time": "2022-04-27T14:22:56.649Z"
   },
   {
    "duration": 15,
    "start_time": "2022-04-27T14:22:56.663Z"
   },
   {
    "duration": 129,
    "start_time": "2022-04-27T14:22:56.680Z"
   },
   {
    "duration": 19,
    "start_time": "2022-04-27T14:22:56.810Z"
   },
   {
    "duration": 42,
    "start_time": "2022-04-27T14:22:56.831Z"
   },
   {
    "duration": 85,
    "start_time": "2022-04-27T14:22:56.875Z"
   },
   {
    "duration": 13,
    "start_time": "2022-04-27T14:22:56.963Z"
   },
   {
    "duration": 346,
    "start_time": "2022-04-27T14:22:56.977Z"
   },
   {
    "duration": 4,
    "start_time": "2022-04-27T14:22:57.325Z"
   },
   {
    "duration": 55,
    "start_time": "2022-04-27T14:22:57.331Z"
   },
   {
    "duration": 253,
    "start_time": "2022-04-27T14:22:57.388Z"
   },
   {
    "duration": 6,
    "start_time": "2022-04-27T14:22:57.643Z"
   },
   {
    "duration": 38,
    "start_time": "2022-04-27T14:22:57.650Z"
   },
   {
    "duration": 3,
    "start_time": "2022-04-27T14:22:57.690Z"
   },
   {
    "duration": 117,
    "start_time": "2022-04-27T14:22:57.695Z"
   },
   {
    "duration": 10,
    "start_time": "2022-04-27T14:22:57.814Z"
   },
   {
    "duration": 35,
    "start_time": "2022-04-27T14:22:57.826Z"
   },
   {
    "duration": 80,
    "start_time": "2022-04-27T14:22:57.862Z"
   },
   {
    "duration": 13,
    "start_time": "2022-04-27T14:22:57.943Z"
   },
   {
    "duration": 294,
    "start_time": "2022-04-27T14:22:57.958Z"
   },
   {
    "duration": 4,
    "start_time": "2022-04-27T14:22:58.254Z"
   },
   {
    "duration": 27,
    "start_time": "2022-04-27T14:22:58.260Z"
   },
   {
    "duration": 4,
    "start_time": "2022-04-27T14:22:58.289Z"
   },
   {
    "duration": 129,
    "start_time": "2022-04-27T14:22:58.295Z"
   },
   {
    "duration": 9,
    "start_time": "2022-04-27T14:22:58.429Z"
   },
   {
    "duration": 43,
    "start_time": "2022-04-27T14:22:58.440Z"
   },
   {
    "duration": 83,
    "start_time": "2022-04-27T14:22:58.485Z"
   },
   {
    "duration": 14,
    "start_time": "2022-04-27T14:22:58.569Z"
   },
   {
    "duration": 320,
    "start_time": "2022-04-27T14:22:58.585Z"
   },
   {
    "duration": 5,
    "start_time": "2022-04-27T14:22:58.906Z"
   },
   {
    "duration": 43,
    "start_time": "2022-04-27T14:22:58.912Z"
   },
   {
    "duration": 4,
    "start_time": "2022-04-27T14:22:58.957Z"
   },
   {
    "duration": 18,
    "start_time": "2022-04-27T14:22:58.962Z"
   },
   {
    "duration": 43,
    "start_time": "2022-04-27T14:22:58.982Z"
   },
   {
    "duration": 101,
    "start_time": "2022-04-27T14:22:59.027Z"
   },
   {
    "duration": 106,
    "start_time": "2022-04-27T14:22:59.130Z"
   },
   {
    "duration": 16,
    "start_time": "2022-04-27T14:22:59.238Z"
   },
   {
    "duration": 30,
    "start_time": "2022-04-27T14:22:59.255Z"
   },
   {
    "duration": 46,
    "start_time": "2022-04-27T14:22:59.287Z"
   },
   {
    "duration": 16,
    "start_time": "2022-04-27T14:22:59.423Z"
   },
   {
    "duration": 95,
    "start_time": "2022-04-27T14:22:59.440Z"
   },
   {
    "duration": 87,
    "start_time": "2022-04-27T14:22:59.537Z"
   },
   {
    "duration": 99,
    "start_time": "2022-04-27T14:22:59.626Z"
   },
   {
    "duration": 9,
    "start_time": "2022-04-27T14:22:59.727Z"
   },
   {
    "duration": 14,
    "start_time": "2022-04-27T14:22:59.738Z"
   },
   {
    "duration": 14,
    "start_time": "2022-04-27T14:22:59.754Z"
   },
   {
    "duration": 63,
    "start_time": "2022-04-27T14:22:59.770Z"
   },
   {
    "duration": 100,
    "start_time": "2022-04-27T14:22:59.835Z"
   },
   {
    "duration": 19,
    "start_time": "2022-04-27T14:22:59.937Z"
   },
   {
    "duration": 17,
    "start_time": "2022-04-27T14:22:59.958Z"
   },
   {
    "duration": 62,
    "start_time": "2022-04-27T14:22:59.977Z"
   },
   {
    "duration": 95,
    "start_time": "2022-04-27T14:23:00.041Z"
   },
   {
    "duration": 97,
    "start_time": "2022-04-27T14:23:00.138Z"
   },
   {
    "duration": 22,
    "start_time": "2022-04-27T14:23:00.237Z"
   },
   {
    "duration": 63,
    "start_time": "2022-04-27T14:23:00.261Z"
   },
   {
    "duration": 98,
    "start_time": "2022-04-27T14:23:00.327Z"
   },
   {
    "duration": 10,
    "start_time": "2022-04-27T14:23:00.427Z"
   },
   {
    "duration": 29,
    "start_time": "2022-04-27T14:23:00.439Z"
   },
   {
    "duration": 19,
    "start_time": "2022-04-27T14:23:00.470Z"
   },
   {
    "duration": 37,
    "start_time": "2022-04-27T14:23:00.491Z"
   },
   {
    "duration": 205,
    "start_time": "2022-04-27T14:23:00.531Z"
   },
   {
    "duration": 19,
    "start_time": "2022-04-27T14:23:00.738Z"
   },
   {
    "duration": 17,
    "start_time": "2022-04-27T14:23:00.759Z"
   },
   {
    "duration": 46,
    "start_time": "2022-04-27T14:23:00.778Z"
   },
   {
    "duration": 97,
    "start_time": "2022-04-27T14:23:00.826Z"
   },
   {
    "duration": 114,
    "start_time": "2022-04-27T14:23:00.925Z"
   },
   {
    "duration": 9,
    "start_time": "2022-04-27T14:23:01.042Z"
   },
   {
    "duration": 16,
    "start_time": "2022-04-27T14:23:01.052Z"
   },
   {
    "duration": 20,
    "start_time": "2022-04-27T14:23:01.070Z"
   },
   {
    "duration": 2255,
    "start_time": "2022-04-28T06:07:56.127Z"
   },
   {
    "duration": 4,
    "start_time": "2022-04-28T06:07:58.384Z"
   },
   {
    "duration": 6,
    "start_time": "2022-04-28T06:07:58.390Z"
   },
   {
    "duration": 17,
    "start_time": "2022-04-28T06:07:58.398Z"
   },
   {
    "duration": 6,
    "start_time": "2022-04-28T06:07:58.419Z"
   },
   {
    "duration": 198,
    "start_time": "2022-04-28T06:07:58.427Z"
   },
   {
    "duration": 48,
    "start_time": "2022-04-28T06:07:58.634Z"
   },
   {
    "duration": 81,
    "start_time": "2022-04-28T06:07:58.684Z"
   },
   {
    "duration": 98,
    "start_time": "2022-04-28T06:07:58.767Z"
   },
   {
    "duration": 32,
    "start_time": "2022-04-28T06:07:58.867Z"
   },
   {
    "duration": 648,
    "start_time": "2022-04-28T06:07:58.901Z"
   },
   {
    "duration": 5,
    "start_time": "2022-04-28T06:07:59.551Z"
   },
   {
    "duration": 102,
    "start_time": "2022-04-28T06:07:59.559Z"
   },
   {
    "duration": 370,
    "start_time": "2022-04-28T06:07:59.667Z"
   },
   {
    "duration": 8,
    "start_time": "2022-04-28T06:08:00.039Z"
   },
   {
    "duration": 78,
    "start_time": "2022-04-28T06:08:00.050Z"
   },
   {
    "duration": 7,
    "start_time": "2022-04-28T06:08:00.130Z"
   },
   {
    "duration": 175,
    "start_time": "2022-04-28T06:08:00.139Z"
   },
   {
    "duration": 15,
    "start_time": "2022-04-28T06:08:00.316Z"
   },
   {
    "duration": 70,
    "start_time": "2022-04-28T06:08:00.334Z"
   },
   {
    "duration": 114,
    "start_time": "2022-04-28T06:08:00.407Z"
   },
   {
    "duration": 22,
    "start_time": "2022-04-28T06:08:00.524Z"
   },
   {
    "duration": 427,
    "start_time": "2022-04-28T06:08:00.549Z"
   },
   {
    "duration": 6,
    "start_time": "2022-04-28T06:08:00.981Z"
   },
   {
    "duration": 48,
    "start_time": "2022-04-28T06:08:00.990Z"
   },
   {
    "duration": 6,
    "start_time": "2022-04-28T06:08:01.041Z"
   },
   {
    "duration": 184,
    "start_time": "2022-04-28T06:08:01.050Z"
   },
   {
    "duration": 15,
    "start_time": "2022-04-28T06:08:01.236Z"
   },
   {
    "duration": 75,
    "start_time": "2022-04-28T06:08:01.254Z"
   },
   {
    "duration": 101,
    "start_time": "2022-04-28T06:08:01.332Z"
   },
   {
    "duration": 23,
    "start_time": "2022-04-28T06:08:01.435Z"
   },
   {
    "duration": 408,
    "start_time": "2022-04-28T06:08:01.483Z"
   },
   {
    "duration": 7,
    "start_time": "2022-04-28T06:08:01.893Z"
   },
   {
    "duration": 99,
    "start_time": "2022-04-28T06:08:01.903Z"
   },
   {
    "duration": 6,
    "start_time": "2022-04-28T06:08:02.005Z"
   },
   {
    "duration": 32,
    "start_time": "2022-04-28T06:08:02.014Z"
   },
   {
    "duration": 48,
    "start_time": "2022-04-28T06:08:02.049Z"
   },
   {
    "duration": 108,
    "start_time": "2022-04-28T06:08:02.184Z"
   },
   {
    "duration": 33,
    "start_time": "2022-04-28T06:08:02.295Z"
   },
   {
    "duration": 24,
    "start_time": "2022-04-28T06:08:02.330Z"
   },
   {
    "duration": 46,
    "start_time": "2022-04-28T06:08:02.387Z"
   },
   {
    "duration": 51,
    "start_time": "2022-04-28T06:08:02.435Z"
   },
   {
    "duration": 112,
    "start_time": "2022-04-28T06:08:02.490Z"
   },
   {
    "duration": 23,
    "start_time": "2022-04-28T06:08:02.605Z"
   },
   {
    "duration": 57,
    "start_time": "2022-04-28T06:08:02.631Z"
   },
   {
    "duration": 191,
    "start_time": "2022-04-28T06:08:02.692Z"
   },
   {
    "duration": 8,
    "start_time": "2022-04-28T06:08:02.885Z"
   },
   {
    "duration": 14,
    "start_time": "2022-04-28T06:08:02.895Z"
   },
   {
    "duration": 26,
    "start_time": "2022-04-28T06:08:02.912Z"
   },
   {
    "duration": 55,
    "start_time": "2022-04-28T06:08:02.940Z"
   },
   {
    "duration": 112,
    "start_time": "2022-04-28T06:08:03.083Z"
   },
   {
    "duration": 25,
    "start_time": "2022-04-28T06:08:03.197Z"
   },
   {
    "duration": 23,
    "start_time": "2022-04-28T06:08:03.225Z"
   },
   {
    "duration": 37,
    "start_time": "2022-04-28T06:08:03.282Z"
   },
   {
    "duration": 64,
    "start_time": "2022-04-28T06:08:03.321Z"
   },
   {
    "duration": 109,
    "start_time": "2022-04-28T06:08:03.388Z"
   },
   {
    "duration": 20,
    "start_time": "2022-04-28T06:08:03.500Z"
   },
   {
    "duration": 63,
    "start_time": "2022-04-28T06:08:03.523Z"
   },
   {
    "duration": 102,
    "start_time": "2022-04-28T06:08:03.590Z"
   },
   {
    "duration": 9,
    "start_time": "2022-04-28T06:08:03.695Z"
   },
   {
    "duration": 13,
    "start_time": "2022-04-28T06:08:03.706Z"
   },
   {
    "duration": 62,
    "start_time": "2022-04-28T06:08:03.721Z"
   },
   {
    "duration": 19,
    "start_time": "2022-04-28T06:08:03.785Z"
   },
   {
    "duration": 181,
    "start_time": "2022-04-28T06:08:03.807Z"
   },
   {
    "duration": 24,
    "start_time": "2022-04-28T06:08:03.990Z"
   },
   {
    "duration": 23,
    "start_time": "2022-04-28T06:08:04.017Z"
   },
   {
    "duration": 70,
    "start_time": "2022-04-28T06:08:04.042Z"
   },
   {
    "duration": 16,
    "start_time": "2022-04-28T06:08:04.115Z"
   },
   {
    "duration": 105,
    "start_time": "2022-04-28T06:08:04.182Z"
   },
   {
    "duration": 11,
    "start_time": "2022-04-28T06:08:04.289Z"
   },
   {
    "duration": 11,
    "start_time": "2022-04-28T06:08:04.302Z"
   },
   {
    "duration": 12,
    "start_time": "2022-04-28T06:08:04.315Z"
   },
   {
    "duration": 5,
    "start_time": "2022-04-28T06:12:35.857Z"
   },
   {
    "duration": 5,
    "start_time": "2022-04-28T06:14:19.050Z"
   },
   {
    "duration": 6,
    "start_time": "2022-04-28T06:14:32.525Z"
   },
   {
    "duration": 7,
    "start_time": "2022-04-28T06:14:41.905Z"
   },
   {
    "duration": 4,
    "start_time": "2022-04-28T06:14:58.056Z"
   },
   {
    "duration": 6,
    "start_time": "2022-04-28T06:15:02.603Z"
   },
   {
    "duration": 5,
    "start_time": "2022-04-28T06:15:07.774Z"
   },
   {
    "duration": 4,
    "start_time": "2022-04-28T06:17:19.094Z"
   },
   {
    "duration": 16,
    "start_time": "2022-04-28T06:22:47.684Z"
   },
   {
    "duration": 15,
    "start_time": "2022-04-28T06:23:53.224Z"
   },
   {
    "duration": 20,
    "start_time": "2022-04-28T06:24:42.289Z"
   },
   {
    "duration": 4,
    "start_time": "2022-04-28T06:27:12.986Z"
   },
   {
    "duration": 4,
    "start_time": "2022-04-28T06:30:46.661Z"
   },
   {
    "duration": 6,
    "start_time": "2022-04-28T06:31:07.885Z"
   },
   {
    "duration": 5,
    "start_time": "2022-04-28T06:31:37.451Z"
   },
   {
    "duration": 5,
    "start_time": "2022-04-28T06:31:42.331Z"
   },
   {
    "duration": 6,
    "start_time": "2022-04-28T06:36:15.783Z"
   },
   {
    "duration": 10,
    "start_time": "2022-04-28T06:41:45.811Z"
   },
   {
    "duration": 10,
    "start_time": "2022-04-28T06:42:01.445Z"
   },
   {
    "duration": 10,
    "start_time": "2022-04-28T06:42:07.468Z"
   },
   {
    "duration": 21,
    "start_time": "2022-04-28T07:01:28.989Z"
   },
   {
    "duration": 10,
    "start_time": "2022-04-28T07:01:36.244Z"
   },
   {
    "duration": 10,
    "start_time": "2022-04-28T07:01:44.739Z"
   },
   {
    "duration": 12,
    "start_time": "2022-04-28T07:03:35.973Z"
   },
   {
    "duration": 10,
    "start_time": "2022-04-28T07:03:45.996Z"
   },
   {
    "duration": 11,
    "start_time": "2022-04-28T07:04:00.237Z"
   },
   {
    "duration": 21,
    "start_time": "2022-04-28T07:07:07.758Z"
   },
   {
    "duration": 30,
    "start_time": "2022-04-28T07:07:24.908Z"
   },
   {
    "duration": 43,
    "start_time": "2022-04-28T07:07:50.115Z"
   },
   {
    "duration": 55,
    "start_time": "2022-04-28T07:07:54.899Z"
   },
   {
    "duration": 16,
    "start_time": "2022-04-28T07:08:10.899Z"
   },
   {
    "duration": 14,
    "start_time": "2022-04-28T07:11:12.625Z"
   },
   {
    "duration": 8,
    "start_time": "2022-04-28T07:11:22.607Z"
   },
   {
    "duration": 8,
    "start_time": "2022-04-28T07:11:46.851Z"
   },
   {
    "duration": 10,
    "start_time": "2022-04-28T07:12:03.070Z"
   },
   {
    "duration": 9,
    "start_time": "2022-04-28T07:12:46.762Z"
   },
   {
    "duration": 8,
    "start_time": "2022-04-28T07:12:56.958Z"
   },
   {
    "duration": 8,
    "start_time": "2022-04-28T07:15:41.931Z"
   },
   {
    "duration": 185,
    "start_time": "2022-04-28T07:18:40.273Z"
   },
   {
    "duration": 12,
    "start_time": "2022-04-28T07:18:59.492Z"
   },
   {
    "duration": 10,
    "start_time": "2022-04-28T07:19:04.037Z"
   },
   {
    "duration": 9,
    "start_time": "2022-04-28T07:19:12.993Z"
   },
   {
    "duration": 22,
    "start_time": "2022-04-28T07:19:18.320Z"
   },
   {
    "duration": 25,
    "start_time": "2022-04-28T07:19:24.130Z"
   },
   {
    "duration": 22,
    "start_time": "2022-04-28T07:19:28.360Z"
   },
   {
    "duration": 17,
    "start_time": "2022-04-28T07:19:35.032Z"
   },
   {
    "duration": 8,
    "start_time": "2022-04-28T07:20:18.785Z"
   },
   {
    "duration": 4,
    "start_time": "2022-04-28T07:27:00.449Z"
   },
   {
    "duration": 25,
    "start_time": "2022-04-28T07:31:23.344Z"
   },
   {
    "duration": 5,
    "start_time": "2022-04-28T07:31:36.442Z"
   },
   {
    "duration": 1542,
    "start_time": "2022-04-28T07:31:39.375Z"
   },
   {
    "duration": 26,
    "start_time": "2022-04-28T07:32:44.194Z"
   },
   {
    "duration": 8,
    "start_time": "2022-04-28T07:32:54.619Z"
   },
   {
    "duration": 4,
    "start_time": "2022-04-28T07:33:28.945Z"
   },
   {
    "duration": 42,
    "start_time": "2022-04-28T07:33:32.420Z"
   },
   {
    "duration": 4,
    "start_time": "2022-04-28T07:58:28.349Z"
   },
   {
    "duration": 15,
    "start_time": "2022-04-28T08:04:51.920Z"
   },
   {
    "duration": 1490,
    "start_time": "2022-04-28T08:15:08.432Z"
   },
   {
    "duration": 2139,
    "start_time": "2022-04-28T08:27:59.760Z"
   },
   {
    "duration": 1501,
    "start_time": "2022-04-28T08:30:02.472Z"
   },
   {
    "duration": 11,
    "start_time": "2022-04-28T09:04:03.308Z"
   },
   {
    "duration": 2014,
    "start_time": "2022-04-28T09:17:50.089Z"
   },
   {
    "duration": 4,
    "start_time": "2022-04-28T09:17:52.106Z"
   },
   {
    "duration": 7,
    "start_time": "2022-04-28T09:17:52.113Z"
   },
   {
    "duration": 5,
    "start_time": "2022-04-28T09:17:52.123Z"
   },
   {
    "duration": 7,
    "start_time": "2022-04-28T09:17:52.131Z"
   },
   {
    "duration": 176,
    "start_time": "2022-04-28T09:17:52.141Z"
   },
   {
    "duration": 19,
    "start_time": "2022-04-28T09:17:52.319Z"
   },
   {
    "duration": 70,
    "start_time": "2022-04-28T09:17:52.340Z"
   },
   {
    "duration": 107,
    "start_time": "2022-04-28T09:17:52.412Z"
   },
   {
    "duration": 20,
    "start_time": "2022-04-28T09:17:52.523Z"
   },
   {
    "duration": 570,
    "start_time": "2022-04-28T09:17:52.545Z"
   },
   {
    "duration": 5,
    "start_time": "2022-04-28T09:17:53.117Z"
   },
   {
    "duration": 103,
    "start_time": "2022-04-28T09:17:53.125Z"
   },
   {
    "duration": 398,
    "start_time": "2022-04-28T09:17:53.230Z"
   },
   {
    "duration": 7,
    "start_time": "2022-04-28T09:17:53.630Z"
   },
   {
    "duration": 82,
    "start_time": "2022-04-28T09:17:53.639Z"
   },
   {
    "duration": 6,
    "start_time": "2022-04-28T09:17:53.723Z"
   },
   {
    "duration": 153,
    "start_time": "2022-04-28T09:17:53.731Z"
   },
   {
    "duration": 13,
    "start_time": "2022-04-28T09:17:53.887Z"
   },
   {
    "duration": 62,
    "start_time": "2022-04-28T09:17:53.902Z"
   },
   {
    "duration": 98,
    "start_time": "2022-04-28T09:17:53.967Z"
   },
   {
    "duration": 32,
    "start_time": "2022-04-28T09:17:54.067Z"
   },
   {
    "duration": 484,
    "start_time": "2022-04-28T09:17:54.102Z"
   },
   {
    "duration": 6,
    "start_time": "2022-04-28T09:17:54.588Z"
   },
   {
    "duration": 44,
    "start_time": "2022-04-28T09:17:54.596Z"
   },
   {
    "duration": 6,
    "start_time": "2022-04-28T09:17:54.642Z"
   },
   {
    "duration": 577,
    "start_time": "2022-04-28T09:17:54.650Z"
   },
   {
    "duration": 14,
    "start_time": "2022-04-28T09:17:55.233Z"
   },
   {
    "duration": 67,
    "start_time": "2022-04-28T09:17:55.249Z"
   },
   {
    "duration": 102,
    "start_time": "2022-04-28T09:17:55.319Z"
   },
   {
    "duration": 21,
    "start_time": "2022-04-28T09:17:55.424Z"
   },
   {
    "duration": 428,
    "start_time": "2022-04-28T09:17:55.447Z"
   },
   {
    "duration": 7,
    "start_time": "2022-04-28T09:17:55.882Z"
   },
   {
    "duration": 61,
    "start_time": "2022-04-28T09:17:55.891Z"
   },
   {
    "duration": 5,
    "start_time": "2022-04-28T09:17:55.955Z"
   },
   {
    "duration": 40,
    "start_time": "2022-04-28T09:17:55.962Z"
   },
   {
    "duration": 78,
    "start_time": "2022-04-28T09:17:56.004Z"
   },
   {
    "duration": 109,
    "start_time": "2022-04-28T09:17:56.086Z"
   },
   {
    "duration": 27,
    "start_time": "2022-04-28T09:17:56.197Z"
   },
   {
    "duration": 65,
    "start_time": "2022-04-28T09:17:56.226Z"
   },
   {
    "duration": 45,
    "start_time": "2022-04-28T09:17:56.294Z"
   },
   {
    "duration": 53,
    "start_time": "2022-04-28T09:17:56.341Z"
   },
   {
    "duration": 107,
    "start_time": "2022-04-28T09:17:56.482Z"
   },
   {
    "duration": 27,
    "start_time": "2022-04-28T09:17:56.591Z"
   },
   {
    "duration": 61,
    "start_time": "2022-04-28T09:17:56.620Z"
   },
   {
    "duration": 105,
    "start_time": "2022-04-28T09:17:56.686Z"
   },
   {
    "duration": 14,
    "start_time": "2022-04-28T09:17:56.794Z"
   },
   {
    "duration": 17,
    "start_time": "2022-04-28T09:17:56.810Z"
   },
   {
    "duration": 58,
    "start_time": "2022-04-28T09:17:56.829Z"
   },
   {
    "duration": 105,
    "start_time": "2022-04-28T09:17:56.890Z"
   },
   {
    "duration": 18,
    "start_time": "2022-04-28T09:17:57.083Z"
   },
   {
    "duration": 26,
    "start_time": "2022-04-28T09:17:57.104Z"
   },
   {
    "duration": 56,
    "start_time": "2022-04-28T09:17:57.133Z"
   },
   {
    "duration": 35,
    "start_time": "2022-04-28T09:17:57.191Z"
   },
   {
    "duration": 55,
    "start_time": "2022-04-28T09:17:57.228Z"
   },
   {
    "duration": 103,
    "start_time": "2022-04-28T09:17:57.286Z"
   },
   {
    "duration": 22,
    "start_time": "2022-04-28T09:17:57.391Z"
   },
   {
    "duration": 75,
    "start_time": "2022-04-28T09:17:57.415Z"
   },
   {
    "duration": 93,
    "start_time": "2022-04-28T09:17:57.494Z"
   },
   {
    "duration": 8,
    "start_time": "2022-04-28T09:17:57.589Z"
   },
   {
    "duration": 15,
    "start_time": "2022-04-28T09:17:57.601Z"
   },
   {
    "duration": 70,
    "start_time": "2022-04-28T09:17:57.619Z"
   },
   {
    "duration": 89,
    "start_time": "2022-04-28T09:17:57.692Z"
   },
   {
    "duration": 104,
    "start_time": "2022-04-28T09:17:57.785Z"
   },
   {
    "duration": 34,
    "start_time": "2022-04-28T09:17:57.891Z"
   },
   {
    "duration": 57,
    "start_time": "2022-04-28T09:17:57.927Z"
   },
   {
    "duration": 40,
    "start_time": "2022-04-28T09:17:57.986Z"
   },
   {
    "duration": 63,
    "start_time": "2022-04-28T09:17:58.028Z"
   },
   {
    "duration": 105,
    "start_time": "2022-04-28T09:17:58.096Z"
   },
   {
    "duration": 15,
    "start_time": "2022-04-28T09:17:58.204Z"
   },
   {
    "duration": 11,
    "start_time": "2022-04-28T09:17:58.222Z"
   },
   {
    "duration": 55,
    "start_time": "2022-04-28T09:17:58.236Z"
   },
   {
    "duration": 23,
    "start_time": "2022-04-28T09:17:58.293Z"
   },
   {
    "duration": 9,
    "start_time": "2022-04-28T09:17:58.319Z"
   },
   {
    "duration": 18,
    "start_time": "2022-04-28T09:17:58.330Z"
   },
   {
    "duration": 33,
    "start_time": "2022-04-28T09:17:58.350Z"
   },
   {
    "duration": 6,
    "start_time": "2022-04-28T09:17:58.385Z"
   },
   {
    "duration": 50,
    "start_time": "2022-04-28T09:17:58.393Z"
   },
   {
    "duration": 1463,
    "start_time": "2022-04-28T09:17:58.445Z"
   },
   {
    "duration": 1449,
    "start_time": "2022-04-28T09:17:59.910Z"
   },
   {
    "duration": 1530,
    "start_time": "2022-04-28T09:18:01.361Z"
   },
   {
    "duration": 1843,
    "start_time": "2022-04-29T10:43:43.256Z"
   },
   {
    "duration": 4,
    "start_time": "2022-04-29T10:43:45.101Z"
   },
   {
    "duration": 7,
    "start_time": "2022-04-29T10:43:45.106Z"
   },
   {
    "duration": 7,
    "start_time": "2022-04-29T10:43:45.114Z"
   },
   {
    "duration": 6,
    "start_time": "2022-04-29T10:43:45.123Z"
   },
   {
    "duration": 134,
    "start_time": "2022-04-29T10:43:45.131Z"
   },
   {
    "duration": 14,
    "start_time": "2022-04-29T10:43:45.267Z"
   },
   {
    "duration": 48,
    "start_time": "2022-04-29T10:43:45.283Z"
   },
   {
    "duration": 91,
    "start_time": "2022-04-29T10:43:45.333Z"
   },
   {
    "duration": 15,
    "start_time": "2022-04-29T10:43:45.426Z"
   },
   {
    "duration": 415,
    "start_time": "2022-04-29T10:43:45.442Z"
   },
   {
    "duration": 4,
    "start_time": "2022-04-29T10:43:45.859Z"
   },
   {
    "duration": 70,
    "start_time": "2022-04-29T10:43:45.865Z"
   },
   {
    "duration": 336,
    "start_time": "2022-04-29T10:43:45.938Z"
   },
   {
    "duration": 6,
    "start_time": "2022-04-29T10:43:46.275Z"
   },
   {
    "duration": 44,
    "start_time": "2022-04-29T10:43:46.283Z"
   },
   {
    "duration": 6,
    "start_time": "2022-04-29T10:43:46.329Z"
   },
   {
    "duration": 248,
    "start_time": "2022-04-29T10:43:46.337Z"
   },
   {
    "duration": 19,
    "start_time": "2022-04-29T10:43:46.587Z"
   },
   {
    "duration": 48,
    "start_time": "2022-04-29T10:43:46.609Z"
   },
   {
    "duration": 134,
    "start_time": "2022-04-29T10:43:46.659Z"
   },
   {
    "duration": 19,
    "start_time": "2022-04-29T10:43:46.795Z"
   },
   {
    "duration": 343,
    "start_time": "2022-04-29T10:43:46.816Z"
   },
   {
    "duration": 6,
    "start_time": "2022-04-29T10:43:47.161Z"
   },
   {
    "duration": 52,
    "start_time": "2022-04-29T10:43:47.170Z"
   },
   {
    "duration": 6,
    "start_time": "2022-04-29T10:43:47.224Z"
   },
   {
    "duration": 181,
    "start_time": "2022-04-29T10:43:47.232Z"
   },
   {
    "duration": 13,
    "start_time": "2022-04-29T10:43:47.415Z"
   },
   {
    "duration": 43,
    "start_time": "2022-04-29T10:43:47.430Z"
   },
   {
    "duration": 100,
    "start_time": "2022-04-29T10:43:47.475Z"
   },
   {
    "duration": 24,
    "start_time": "2022-04-29T10:43:47.577Z"
   },
   {
    "duration": 324,
    "start_time": "2022-04-29T10:43:47.603Z"
   },
   {
    "duration": 4,
    "start_time": "2022-04-29T10:43:47.929Z"
   },
   {
    "duration": 37,
    "start_time": "2022-04-29T10:43:47.935Z"
   },
   {
    "duration": 21,
    "start_time": "2022-04-29T10:43:47.974Z"
   },
   {
    "duration": 16,
    "start_time": "2022-04-29T10:43:47.997Z"
   },
   {
    "duration": 15,
    "start_time": "2022-04-29T10:43:48.015Z"
   },
   {
    "duration": 74,
    "start_time": "2022-04-29T10:43:48.032Z"
   },
   {
    "duration": 21,
    "start_time": "2022-04-29T10:43:48.193Z"
   },
   {
    "duration": 17,
    "start_time": "2022-04-29T10:43:48.216Z"
   },
   {
    "duration": 77,
    "start_time": "2022-04-29T10:43:48.238Z"
   },
   {
    "duration": 19,
    "start_time": "2022-04-29T10:43:48.316Z"
   },
   {
    "duration": 105,
    "start_time": "2022-04-29T10:43:48.395Z"
   },
   {
    "duration": 16,
    "start_time": "2022-04-29T10:43:48.502Z"
   },
   {
    "duration": 78,
    "start_time": "2022-04-29T10:43:48.519Z"
   },
   {
    "duration": 97,
    "start_time": "2022-04-29T10:43:48.599Z"
   },
   {
    "duration": 6,
    "start_time": "2022-04-29T10:43:48.698Z"
   },
   {
    "duration": 14,
    "start_time": "2022-04-29T10:43:48.706Z"
   },
   {
    "duration": 83,
    "start_time": "2022-04-29T10:43:48.723Z"
   },
   {
    "duration": 89,
    "start_time": "2022-04-29T10:43:48.808Z"
   },
   {
    "duration": 100,
    "start_time": "2022-04-29T10:43:48.900Z"
   },
   {
    "duration": 20,
    "start_time": "2022-04-29T10:43:49.002Z"
   },
   {
    "duration": 79,
    "start_time": "2022-04-29T10:43:49.024Z"
   },
   {
    "duration": 30,
    "start_time": "2022-04-29T10:43:49.105Z"
   },
   {
    "duration": 63,
    "start_time": "2022-04-29T10:43:49.137Z"
   },
   {
    "duration": 102,
    "start_time": "2022-04-29T10:43:49.202Z"
   },
   {
    "duration": 16,
    "start_time": "2022-04-29T10:43:49.306Z"
   },
   {
    "duration": 90,
    "start_time": "2022-04-29T10:43:49.324Z"
   },
   {
    "duration": 14,
    "start_time": "2022-04-29T10:43:49.493Z"
   },
   {
    "duration": 8,
    "start_time": "2022-04-29T10:43:49.593Z"
   },
   {
    "duration": 17,
    "start_time": "2022-04-29T10:43:49.603Z"
   },
   {
    "duration": 21,
    "start_time": "2022-04-29T10:43:49.623Z"
   },
   {
    "duration": 49,
    "start_time": "2022-04-29T10:43:49.646Z"
   },
   {
    "duration": 104,
    "start_time": "2022-04-29T10:43:49.696Z"
   },
   {
    "duration": 19,
    "start_time": "2022-04-29T10:43:49.802Z"
   },
   {
    "duration": 70,
    "start_time": "2022-04-29T10:43:49.823Z"
   },
   {
    "duration": 31,
    "start_time": "2022-04-29T10:43:49.895Z"
   },
   {
    "duration": 15,
    "start_time": "2022-04-29T10:43:49.928Z"
   },
   {
    "duration": 107,
    "start_time": "2022-04-29T10:43:49.994Z"
   },
   {
    "duration": 13,
    "start_time": "2022-04-29T10:43:50.102Z"
   },
   {
    "duration": 11,
    "start_time": "2022-04-29T10:43:50.117Z"
   },
   {
    "duration": 12,
    "start_time": "2022-04-29T10:43:50.130Z"
   },
   {
    "duration": 4,
    "start_time": "2022-04-29T10:43:50.145Z"
   },
   {
    "duration": 14,
    "start_time": "2022-04-29T10:43:50.151Z"
   },
   {
    "duration": 29,
    "start_time": "2022-04-29T10:43:50.167Z"
   },
   {
    "duration": 17,
    "start_time": "2022-04-29T10:43:50.198Z"
   },
   {
    "duration": 5,
    "start_time": "2022-04-29T10:43:50.217Z"
   },
   {
    "duration": 81,
    "start_time": "2022-04-29T10:43:50.224Z"
   },
   {
    "duration": 2557,
    "start_time": "2022-04-29T10:43:50.308Z"
   },
   {
    "duration": 2450,
    "start_time": "2022-04-29T10:43:52.867Z"
   },
   {
    "duration": 1715,
    "start_time": "2022-04-29T10:43:55.318Z"
   },
   {
    "duration": 5,
    "start_time": "2022-04-29T10:58:48.057Z"
   },
   {
    "duration": 6,
    "start_time": "2022-04-29T10:59:16.600Z"
   },
   {
    "duration": 5,
    "start_time": "2022-04-29T10:59:22.228Z"
   },
   {
    "duration": 5,
    "start_time": "2022-04-29T10:59:57.987Z"
   },
   {
    "duration": 4,
    "start_time": "2022-04-29T11:00:24.631Z"
   },
   {
    "duration": 5,
    "start_time": "2022-04-29T11:00:53.816Z"
   },
   {
    "duration": 5,
    "start_time": "2022-04-29T11:03:22.865Z"
   },
   {
    "duration": 4,
    "start_time": "2022-04-29T11:03:36.410Z"
   },
   {
    "duration": 1581,
    "start_time": "2022-04-29T11:03:55.546Z"
   },
   {
    "duration": 4,
    "start_time": "2022-04-29T11:03:57.130Z"
   },
   {
    "duration": 20,
    "start_time": "2022-04-29T11:03:57.136Z"
   },
   {
    "duration": 17,
    "start_time": "2022-04-29T11:03:57.158Z"
   },
   {
    "duration": 16,
    "start_time": "2022-04-29T11:03:57.178Z"
   },
   {
    "duration": 131,
    "start_time": "2022-04-29T11:03:57.196Z"
   },
   {
    "duration": 14,
    "start_time": "2022-04-29T11:03:57.329Z"
   },
   {
    "duration": 52,
    "start_time": "2022-04-29T11:03:57.345Z"
   },
   {
    "duration": 71,
    "start_time": "2022-04-29T11:03:57.399Z"
   },
   {
    "duration": 25,
    "start_time": "2022-04-29T11:03:57.472Z"
   },
   {
    "duration": 332,
    "start_time": "2022-04-29T11:03:57.499Z"
   },
   {
    "duration": 4,
    "start_time": "2022-04-29T11:03:57.833Z"
   },
   {
    "duration": 63,
    "start_time": "2022-04-29T11:03:57.839Z"
   },
   {
    "duration": 279,
    "start_time": "2022-04-29T11:03:57.906Z"
   },
   {
    "duration": 7,
    "start_time": "2022-04-29T11:03:58.186Z"
   },
   {
    "duration": 40,
    "start_time": "2022-04-29T11:03:58.195Z"
   },
   {
    "duration": 5,
    "start_time": "2022-04-29T11:03:58.236Z"
   },
   {
    "duration": 136,
    "start_time": "2022-04-29T11:03:58.242Z"
   },
   {
    "duration": 15,
    "start_time": "2022-04-29T11:03:58.379Z"
   },
   {
    "duration": 54,
    "start_time": "2022-04-29T11:03:58.396Z"
   },
   {
    "duration": 69,
    "start_time": "2022-04-29T11:03:58.452Z"
   },
   {
    "duration": 14,
    "start_time": "2022-04-29T11:03:58.523Z"
   },
   {
    "duration": 314,
    "start_time": "2022-04-29T11:03:58.538Z"
   },
   {
    "duration": 5,
    "start_time": "2022-04-29T11:03:58.853Z"
   },
   {
    "duration": 37,
    "start_time": "2022-04-29T11:03:58.860Z"
   },
   {
    "duration": 4,
    "start_time": "2022-04-29T11:03:58.899Z"
   },
   {
    "duration": 119,
    "start_time": "2022-04-29T11:03:58.904Z"
   },
   {
    "duration": 9,
    "start_time": "2022-04-29T11:03:59.024Z"
   },
   {
    "duration": 36,
    "start_time": "2022-04-29T11:03:59.035Z"
   },
   {
    "duration": 83,
    "start_time": "2022-04-29T11:03:59.072Z"
   },
   {
    "duration": 14,
    "start_time": "2022-04-29T11:03:59.156Z"
   },
   {
    "duration": 309,
    "start_time": "2022-04-29T11:03:59.172Z"
   },
   {
    "duration": 9,
    "start_time": "2022-04-29T11:03:59.483Z"
   },
   {
    "duration": 34,
    "start_time": "2022-04-29T11:03:59.494Z"
   },
   {
    "duration": 4,
    "start_time": "2022-04-29T11:03:59.530Z"
   },
   {
    "duration": 21,
    "start_time": "2022-04-29T11:03:59.536Z"
   },
   {
    "duration": 45,
    "start_time": "2022-04-29T11:03:59.559Z"
   },
   {
    "duration": 193,
    "start_time": "2022-04-29T11:03:59.606Z"
   },
   {
    "duration": 18,
    "start_time": "2022-04-29T11:03:59.801Z"
   },
   {
    "duration": 16,
    "start_time": "2022-04-29T11:03:59.820Z"
   },
   {
    "duration": 63,
    "start_time": "2022-04-29T11:03:59.841Z"
   },
   {
    "duration": 14,
    "start_time": "2022-04-29T11:03:59.906Z"
   },
   {
    "duration": 172,
    "start_time": "2022-04-29T11:03:59.922Z"
   },
   {
    "duration": 27,
    "start_time": "2022-04-29T11:04:00.096Z"
   },
   {
    "duration": 19,
    "start_time": "2022-04-29T11:04:00.124Z"
   },
   {
    "duration": 152,
    "start_time": "2022-04-29T11:04:00.146Z"
   },
   {
    "duration": 11,
    "start_time": "2022-04-29T11:04:00.300Z"
   },
   {
    "duration": 13,
    "start_time": "2022-04-29T11:04:00.312Z"
   },
   {
    "duration": 25,
    "start_time": "2022-04-29T11:04:00.327Z"
   },
   {
    "duration": 41,
    "start_time": "2022-04-29T11:04:00.353Z"
   },
   {
    "duration": 198,
    "start_time": "2022-04-29T11:04:00.396Z"
   },
   {
    "duration": 18,
    "start_time": "2022-04-29T11:04:00.595Z"
   },
   {
    "duration": 16,
    "start_time": "2022-04-29T11:04:00.615Z"
   },
   {
    "duration": 38,
    "start_time": "2022-04-29T11:04:00.633Z"
   },
   {
    "duration": 33,
    "start_time": "2022-04-29T11:04:00.672Z"
   },
   {
    "duration": 202,
    "start_time": "2022-04-29T11:04:00.708Z"
   },
   {
    "duration": 24,
    "start_time": "2022-04-29T11:04:00.912Z"
   },
   {
    "duration": 56,
    "start_time": "2022-04-29T11:04:00.938Z"
   },
   {
    "duration": 98,
    "start_time": "2022-04-29T11:04:00.996Z"
   },
   {
    "duration": 18,
    "start_time": "2022-04-29T11:04:01.096Z"
   },
   {
    "duration": 22,
    "start_time": "2022-04-29T11:04:01.116Z"
   },
   {
    "duration": 23,
    "start_time": "2022-04-29T11:04:01.140Z"
   },
   {
    "duration": 127,
    "start_time": "2022-04-29T11:04:01.165Z"
   },
   {
    "duration": 105,
    "start_time": "2022-04-29T11:04:01.296Z"
   },
   {
    "duration": 56,
    "start_time": "2022-04-29T11:04:01.402Z"
   },
   {
    "duration": 47,
    "start_time": "2022-04-29T11:04:01.460Z"
   },
   {
    "duration": 40,
    "start_time": "2022-04-29T11:04:01.509Z"
   },
   {
    "duration": 42,
    "start_time": "2022-04-29T11:04:01.551Z"
   },
   {
    "duration": 110,
    "start_time": "2022-04-29T11:04:01.596Z"
   },
   {
    "duration": 84,
    "start_time": "2022-04-29T11:04:01.708Z"
   },
   {
    "duration": 22,
    "start_time": "2022-04-29T11:04:01.795Z"
   },
   {
    "duration": 50,
    "start_time": "2022-04-29T11:04:01.819Z"
   },
   {
    "duration": 52,
    "start_time": "2022-04-29T11:04:01.871Z"
   },
   {
    "duration": 21,
    "start_time": "2022-04-29T11:04:01.925Z"
   },
   {
    "duration": 25,
    "start_time": "2022-04-29T11:04:01.948Z"
   },
   {
    "duration": 39,
    "start_time": "2022-04-29T11:04:01.975Z"
   },
   {
    "duration": 36,
    "start_time": "2022-04-29T11:04:02.016Z"
   },
   {
    "duration": 96,
    "start_time": "2022-04-29T11:04:02.054Z"
   },
   {
    "duration": 1584,
    "start_time": "2022-04-29T11:04:02.152Z"
   },
   {
    "duration": 4,
    "start_time": "2022-04-29T11:04:03.738Z"
   },
   {
    "duration": 1589,
    "start_time": "2022-04-29T11:04:03.744Z"
   },
   {
    "duration": 5,
    "start_time": "2022-04-29T11:04:05.335Z"
   },
   {
    "duration": 1607,
    "start_time": "2022-04-29T11:04:05.341Z"
   },
   {
    "duration": 4,
    "start_time": "2022-04-29T11:04:06.950Z"
   },
   {
    "duration": 1596,
    "start_time": "2022-04-29T11:21:46.976Z"
   },
   {
    "duration": 1547,
    "start_time": "2022-04-29T11:25:31.082Z"
   },
   {
    "duration": 4,
    "start_time": "2022-04-29T11:25:32.631Z"
   },
   {
    "duration": 5,
    "start_time": "2022-04-29T11:25:32.637Z"
   },
   {
    "duration": 5,
    "start_time": "2022-04-29T11:25:32.643Z"
   },
   {
    "duration": 5,
    "start_time": "2022-04-29T11:25:32.651Z"
   },
   {
    "duration": 135,
    "start_time": "2022-04-29T11:25:32.658Z"
   },
   {
    "duration": 14,
    "start_time": "2022-04-29T11:25:32.795Z"
   },
   {
    "duration": 40,
    "start_time": "2022-04-29T11:25:32.811Z"
   },
   {
    "duration": 95,
    "start_time": "2022-04-29T11:25:32.853Z"
   },
   {
    "duration": 14,
    "start_time": "2022-04-29T11:25:32.949Z"
   },
   {
    "duration": 352,
    "start_time": "2022-04-29T11:25:32.965Z"
   },
   {
    "duration": 4,
    "start_time": "2022-04-29T11:25:33.319Z"
   },
   {
    "duration": 51,
    "start_time": "2022-04-29T11:25:33.325Z"
   },
   {
    "duration": 267,
    "start_time": "2022-04-29T11:25:33.395Z"
   },
   {
    "duration": 6,
    "start_time": "2022-04-29T11:25:33.664Z"
   },
   {
    "duration": 46,
    "start_time": "2022-04-29T11:25:33.671Z"
   },
   {
    "duration": 4,
    "start_time": "2022-04-29T11:25:33.718Z"
   },
   {
    "duration": 125,
    "start_time": "2022-04-29T11:25:33.724Z"
   },
   {
    "duration": 9,
    "start_time": "2022-04-29T11:25:33.851Z"
   },
   {
    "duration": 49,
    "start_time": "2022-04-29T11:25:33.862Z"
   },
   {
    "duration": 80,
    "start_time": "2022-04-29T11:25:33.913Z"
   },
   {
    "duration": 15,
    "start_time": "2022-04-29T11:25:33.995Z"
   },
   {
    "duration": 296,
    "start_time": "2022-04-29T11:25:34.011Z"
   },
   {
    "duration": 5,
    "start_time": "2022-04-29T11:25:34.308Z"
   },
   {
    "duration": 34,
    "start_time": "2022-04-29T11:25:34.314Z"
   },
   {
    "duration": 3,
    "start_time": "2022-04-29T11:25:34.350Z"
   },
   {
    "duration": 132,
    "start_time": "2022-04-29T11:25:34.355Z"
   },
   {
    "duration": 10,
    "start_time": "2022-04-29T11:25:34.489Z"
   },
   {
    "duration": 37,
    "start_time": "2022-04-29T11:25:34.501Z"
   },
   {
    "duration": 93,
    "start_time": "2022-04-29T11:25:34.540Z"
   },
   {
    "duration": 14,
    "start_time": "2022-04-29T11:25:34.635Z"
   },
   {
    "duration": 364,
    "start_time": "2022-04-29T11:25:34.651Z"
   },
   {
    "duration": 5,
    "start_time": "2022-04-29T11:25:35.016Z"
   },
   {
    "duration": 41,
    "start_time": "2022-04-29T11:25:35.022Z"
   },
   {
    "duration": 4,
    "start_time": "2022-04-29T11:25:35.065Z"
   },
   {
    "duration": 31,
    "start_time": "2022-04-29T11:25:35.070Z"
   },
   {
    "duration": 93,
    "start_time": "2022-04-29T11:25:35.102Z"
   },
   {
    "duration": 105,
    "start_time": "2022-04-29T11:25:35.197Z"
   },
   {
    "duration": 19,
    "start_time": "2022-04-29T11:25:35.304Z"
   },
   {
    "duration": 16,
    "start_time": "2022-04-29T11:25:35.324Z"
   },
   {
    "duration": 62,
    "start_time": "2022-04-29T11:25:35.345Z"
   },
   {
    "duration": 14,
    "start_time": "2022-04-29T11:25:35.408Z"
   },
   {
    "duration": 172,
    "start_time": "2022-04-29T11:25:35.424Z"
   },
   {
    "duration": 16,
    "start_time": "2022-04-29T11:25:35.598Z"
   },
   {
    "duration": 17,
    "start_time": "2022-04-29T11:25:35.615Z"
   },
   {
    "duration": 99,
    "start_time": "2022-04-29T11:25:35.695Z"
   },
   {
    "duration": 26,
    "start_time": "2022-04-29T11:25:35.796Z"
   },
   {
    "duration": 23,
    "start_time": "2022-04-29T11:25:35.823Z"
   },
   {
    "duration": 16,
    "start_time": "2022-04-29T11:25:35.847Z"
   },
   {
    "duration": 30,
    "start_time": "2022-04-29T11:25:35.864Z"
   },
   {
    "duration": 106,
    "start_time": "2022-04-29T11:25:35.896Z"
   },
   {
    "duration": 18,
    "start_time": "2022-04-29T11:25:36.094Z"
   },
   {
    "duration": 15,
    "start_time": "2022-04-29T11:25:36.114Z"
   },
   {
    "duration": 26,
    "start_time": "2022-04-29T11:25:36.131Z"
   },
   {
    "duration": 49,
    "start_time": "2022-04-29T11:25:36.159Z"
   },
   {
    "duration": 184,
    "start_time": "2022-04-29T11:25:36.210Z"
   },
   {
    "duration": 16,
    "start_time": "2022-04-29T11:25:36.396Z"
   },
   {
    "duration": 15,
    "start_time": "2022-04-29T11:25:36.414Z"
   },
   {
    "duration": 100,
    "start_time": "2022-04-29T11:25:36.494Z"
   },
   {
    "duration": 9,
    "start_time": "2022-04-29T11:25:36.596Z"
   },
   {
    "duration": 14,
    "start_time": "2022-04-29T11:25:36.606Z"
   },
   {
    "duration": 16,
    "start_time": "2022-04-29T11:25:36.621Z"
   },
   {
    "duration": 55,
    "start_time": "2022-04-29T11:25:36.638Z"
   },
   {
    "duration": 106,
    "start_time": "2022-04-29T11:25:36.695Z"
   },
   {
    "duration": 19,
    "start_time": "2022-04-29T11:25:36.803Z"
   },
   {
    "duration": 16,
    "start_time": "2022-04-29T11:25:36.824Z"
   },
   {
    "duration": 66,
    "start_time": "2022-04-29T11:25:36.842Z"
   },
   {
    "duration": 16,
    "start_time": "2022-04-29T11:25:36.909Z"
   },
   {
    "duration": 170,
    "start_time": "2022-04-29T11:25:36.927Z"
   },
   {
    "duration": 9,
    "start_time": "2022-04-29T11:25:37.098Z"
   },
   {
    "duration": 6,
    "start_time": "2022-04-29T11:25:37.108Z"
   },
   {
    "duration": 9,
    "start_time": "2022-04-29T11:25:37.115Z"
   },
   {
    "duration": 2,
    "start_time": "2022-04-29T11:25:37.126Z"
   },
   {
    "duration": 5,
    "start_time": "2022-04-29T11:25:37.130Z"
   },
   {
    "duration": 12,
    "start_time": "2022-04-29T11:25:37.137Z"
   },
   {
    "duration": 50,
    "start_time": "2022-04-29T11:25:37.150Z"
   },
   {
    "duration": 4,
    "start_time": "2022-04-29T11:25:37.201Z"
   },
   {
    "duration": 38,
    "start_time": "2022-04-29T11:25:37.207Z"
   },
   {
    "duration": 1580,
    "start_time": "2022-04-29T11:25:37.247Z"
   },
   {
    "duration": 5,
    "start_time": "2022-04-29T11:25:38.828Z"
   },
   {
    "duration": 1554,
    "start_time": "2022-04-29T11:25:38.834Z"
   },
   {
    "duration": 4,
    "start_time": "2022-04-29T11:25:40.390Z"
   },
   {
    "duration": 1662,
    "start_time": "2022-04-29T11:25:40.395Z"
   },
   {
    "duration": 4,
    "start_time": "2022-04-29T11:25:42.059Z"
   }
  ],
  "kernelspec": {
   "display_name": "Python 3 (ipykernel)",
   "language": "python",
   "name": "python3"
  },
  "language_info": {
   "codemirror_mode": {
    "name": "ipython",
    "version": 3
   },
   "file_extension": ".py",
   "mimetype": "text/x-python",
   "name": "python",
   "nbconvert_exporter": "python",
   "pygments_lexer": "ipython3",
   "version": "3.9.5"
  },
  "toc": {
   "base_numbering": 1,
   "nav_menu": {},
   "number_sections": true,
   "sideBar": true,
   "skip_h1_title": true,
   "title_cell": "Оглавление",
   "title_sidebar": "Оглавление",
   "toc_cell": true,
   "toc_position": {
    "height": "calc(100% - 180px)",
    "left": "10px",
    "top": "150px",
    "width": "289.6px"
   },
   "toc_section_display": true,
   "toc_window_display": false
  }
 },
 "nbformat": 4,
 "nbformat_minor": 2
}
