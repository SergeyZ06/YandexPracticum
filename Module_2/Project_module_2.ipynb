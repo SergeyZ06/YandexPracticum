{
 "cells": [
  {
   "cell_type": "markdown",
   "metadata": {},
   "source": [
    "<font color='blue' size=5><b>Комментарий ревьюера</b></font>\n",
    "\n",
    "<font color='blue'>Привет, Сергей ! Меня зовут Павел Григорьев, и я буду проверять этот проект. Спасибо за проделанную работу! Предлагаю общаться на «ты».</font>\n",
    "\n",
    "<font color='blue'>Я буду использовать различные цвета, чтобы было удобнее воспринимать мои комментарии:</font>\n",
    "\n",
    "\n",
    "---\n",
    "\n",
    "\n",
    "<font color='blue'>синий текст - просто текст комментария</font>\n",
    "\n",
    "<font color='green'>✔️ и зеленый текст - все отлично</font>\n",
    "\n",
    "<font color='orange'>⚠️ и оранжевый текст - сделано все правильно, однако есть рекомендации, на что стоит обратить внимание</font>\n",
    "\n",
    "<font color='red'>❌ и красный текст - есть недочеты</font>\n",
    "\n",
    "\n",
    "---\n",
    "\n",
    "<font color='blue'>Пожалуйста, не удаляй мои комментарии в случае возврата работы, так будет проще разобраться, какие были недочеты, а также сразу увидеть исправленное. </font>\n",
    "\n",
    "Ответы на мои комментарии лучше тоже помечать.\n",
    "Например: <font color='purple'><b>Комментарий студента</b></font>\n",
    "\n",
    "<font color='blue'><b>Давай смотреть, что получилось!</b></font>"
   ]
  },
  {
   "cell_type": "markdown",
   "metadata": {},
   "source": [
    "<div class=\"alert alert-info\">\n",
    "<b>Комментарий студента:</b>\n",
    "<br>Здравствуйте!\n",
    "<br>Постарался устранить все замечания. В конце ноутбука написал отчёт о проделанной работе.\n",
    "</div>"
   ]
  },
  {
   "cell_type": "markdown",
   "metadata": {
    "toc": true
   },
   "source": [
    "<h1>Содержание<span class=\"tocSkip\"></span></h1>\n",
    "<div class=\"toc\"><ul class=\"toc-item\"><li><span><a href=\"#Подготовка-к-выполнению-проекта\" data-toc-modified-id=\"Подготовка-к-выполнению-проекта-1\"><span class=\"toc-item-num\">1&nbsp;&nbsp;</span>Подготовка к выполнению проекта</a></span><ul class=\"toc-item\"><li><span><a href=\"#Импорт-библиотек\" data-toc-modified-id=\"Импорт-библиотек-1.1\"><span class=\"toc-item-num\">1.1&nbsp;&nbsp;</span>Импорт библиотек</a></span></li><li><span><a href=\"#Глобальные-настройки\" data-toc-modified-id=\"Глобальные-настройки-1.2\"><span class=\"toc-item-num\">1.2&nbsp;&nbsp;</span>Глобальные настройки</a></span></li><li><span><a href=\"#Импорт-данных\" data-toc-modified-id=\"Импорт-данных-1.3\"><span class=\"toc-item-num\">1.3&nbsp;&nbsp;</span>Импорт данных</a></span></li><li><span><a href=\"#Описание-данных\" data-toc-modified-id=\"Описание-данных-1.4\"><span class=\"toc-item-num\">1.4&nbsp;&nbsp;</span>Описание данных</a></span></li><li><span><a href=\"#Наименование-признаков\" data-toc-modified-id=\"Наименование-признаков-1.5\"><span class=\"toc-item-num\">1.5&nbsp;&nbsp;</span>Наименование признаков</a></span></li></ul></li><li><span><a href=\"#Подготовка-данных\" data-toc-modified-id=\"Подготовка-данных-2\"><span class=\"toc-item-num\">2&nbsp;&nbsp;</span>Подготовка данных</a></span><ul class=\"toc-item\"><li><span><a href=\"#Открытие-и-изучение-данных\" data-toc-modified-id=\"Открытие-и-изучение-данных-2.1\"><span class=\"toc-item-num\">2.1&nbsp;&nbsp;</span>Открытие и изучение данных</a></span><ul class=\"toc-item\"><li><span><a href=\"#Обучающая-выборка-df_train\" data-toc-modified-id=\"Обучающая-выборка-df_train-2.1.1\"><span class=\"toc-item-num\">2.1.1&nbsp;&nbsp;</span>Обучающая выборка df_train</a></span></li><li><span><a href=\"#Тестовая--выборка-df_test\" data-toc-modified-id=\"Тестовая--выборка-df_test-2.1.2\"><span class=\"toc-item-num\">2.1.2&nbsp;&nbsp;</span>Тестовая  выборка df_test</a></span></li><li><span><a href=\"#Исходные-данные-df_full\" data-toc-modified-id=\"Исходные-данные-df_full-2.1.3\"><span class=\"toc-item-num\">2.1.3&nbsp;&nbsp;</span>Исходные данные df_full</a></span></li><li><span><a href=\"#Анализ-признаков\" data-toc-modified-id=\"Анализ-признаков-2.1.4\"><span class=\"toc-item-num\">2.1.4&nbsp;&nbsp;</span>Анализ признаков</a></span></li><li><span><a href=\"#Выводы\" data-toc-modified-id=\"Выводы-2.1.5\"><span class=\"toc-item-num\">2.1.5&nbsp;&nbsp;</span>Выводы</a></span></li></ul></li><li><span><a href=\"#Проверка-эффективности-обогащения-на-обучающей-выборке\" data-toc-modified-id=\"Проверка-эффективности-обогащения-на-обучающей-выборке-2.2\"><span class=\"toc-item-num\">2.2&nbsp;&nbsp;</span>Проверка эффективности обогащения на обучающей выборке</a></span><ul class=\"toc-item\"><li><span><a href=\"#Функция-для-расчёта-эффективности-обогащения\" data-toc-modified-id=\"Функция-для-расчёта-эффективности-обогащения-2.2.1\"><span class=\"toc-item-num\">2.2.1&nbsp;&nbsp;</span>Функция для расчёта эффективности обогащения</a></span></li><li><span><a href=\"#Расчёт-эффективности-обогащения-на-обучающей-выборке\" data-toc-modified-id=\"Расчёт-эффективности-обогащения-на-обучающей-выборке-2.2.2\"><span class=\"toc-item-num\">2.2.2&nbsp;&nbsp;</span>Расчёт эффективности обогащения на обучающей выборке</a></span></li><li><span><a href=\"#Расчёт-метрики-&quot;MAE&quot;-между-рассчитанной-эффективностью-и-загруженной\" data-toc-modified-id=\"Расчёт-метрики-&quot;MAE&quot;-между-рассчитанной-эффективностью-и-загруженной-2.2.3\"><span class=\"toc-item-num\">2.2.3&nbsp;&nbsp;</span>Расчёт метрики \"MAE\" между рассчитанной эффективностью и загруженной</a></span></li><li><span><a href=\"#Выводы\" data-toc-modified-id=\"Выводы-2.2.4\"><span class=\"toc-item-num\">2.2.4&nbsp;&nbsp;</span>Выводы</a></span></li></ul></li><li><span><a href=\"#Анализ-признаков,-недоступных-в-тестовой-выборке\" data-toc-modified-id=\"Анализ-признаков,-недоступных-в-тестовой-выборке-2.3\"><span class=\"toc-item-num\">2.3&nbsp;&nbsp;</span>Анализ признаков, недоступных в тестовой выборке</a></span></li><li><span><a href=\"#Предобработка-данных\" data-toc-modified-id=\"Предобработка-данных-2.4\"><span class=\"toc-item-num\">2.4&nbsp;&nbsp;</span>Предобработка данных</a></span><ul class=\"toc-item\"><li><span><a href=\"#Обработка-пропусков\" data-toc-modified-id=\"Обработка-пропусков-2.4.1\"><span class=\"toc-item-num\">2.4.1&nbsp;&nbsp;</span>Обработка пропусков</a></span></li><li><span><a href=\"#Подготовка-обучающих-выборок-для-моделей\" data-toc-modified-id=\"Подготовка-обучающих-выборок-для-моделей-2.4.2\"><span class=\"toc-item-num\">2.4.2&nbsp;&nbsp;</span>Подготовка обучающих выборок для моделей</a></span></li><li><span><a href=\"#Подготовка-тестовых-выборок-для-моделей\" data-toc-modified-id=\"Подготовка-тестовых-выборок-для-моделей-2.4.3\"><span class=\"toc-item-num\">2.4.3&nbsp;&nbsp;</span>Подготовка тестовых выборок для моделей</a></span></li><li><span><a href=\"#Подготовка-целевой-переменной-для-моделей\" data-toc-modified-id=\"Подготовка-целевой-переменной-для-моделей-2.4.4\"><span class=\"toc-item-num\">2.4.4&nbsp;&nbsp;</span>Подготовка целевой переменной для моделей</a></span></li></ul></li></ul></li><li><span><a href=\"#Анализ-данных\" data-toc-modified-id=\"Анализ-данных-3\"><span class=\"toc-item-num\">3&nbsp;&nbsp;</span>Анализ данных</a></span><ul class=\"toc-item\"><li><span><a href=\"#Концентрация-металлов-(Au,-Ag,-Pb)-на-различных-этапах-очистки\" data-toc-modified-id=\"Концентрация-металлов-(Au,-Ag,-Pb)-на-различных-этапах-очистки-3.1\"><span class=\"toc-item-num\">3.1&nbsp;&nbsp;</span>Концентрация металлов (Au, Ag, Pb) на различных этапах очистки</a></span><ul class=\"toc-item\"><li><span><a href=\"#Золото-Au\" data-toc-modified-id=\"Золото-Au-3.1.1\"><span class=\"toc-item-num\">3.1.1&nbsp;&nbsp;</span>Золото Au</a></span></li><li><span><a href=\"#Серебро-Ag\" data-toc-modified-id=\"Серебро-Ag-3.1.2\"><span class=\"toc-item-num\">3.1.2&nbsp;&nbsp;</span>Серебро Ag</a></span></li><li><span><a href=\"#Свинец-Pb\" data-toc-modified-id=\"Свинец-Pb-3.1.3\"><span class=\"toc-item-num\">3.1.3&nbsp;&nbsp;</span>Свинец Pb</a></span></li></ul></li><li><span><a href=\"#Сравнение-распределений-размеров-гранул-сырья-на-обучающей-и-тестовой-выборках\" data-toc-modified-id=\"Сравнение-распределений-размеров-гранул-сырья-на-обучающей-и-тестовой-выборках-3.2\"><span class=\"toc-item-num\">3.2&nbsp;&nbsp;</span>Сравнение распределений размеров гранул сырья на обучающей и тестовой выборках</a></span></li><li><span><a href=\"#Исследование-суммарной-концентрации-всех-веществ-на-разных-стадиях\" data-toc-modified-id=\"Исследование-суммарной-концентрации-всех-веществ-на-разных-стадиях-3.3\"><span class=\"toc-item-num\">3.3&nbsp;&nbsp;</span>Исследование суммарной концентрации всех веществ на разных стадиях</a></span></li></ul></li><li><span><a href=\"#Модель\" data-toc-modified-id=\"Модель-4\"><span class=\"toc-item-num\">4&nbsp;&nbsp;</span>Модель</a></span><ul class=\"toc-item\"><li><span><a href=\"#Функция-для-вычисления-метрики-sMAPE\" data-toc-modified-id=\"Функция-для-вычисления-метрики-sMAPE-4.1\"><span class=\"toc-item-num\">4.1&nbsp;&nbsp;</span>Функция для вычисления метрики sMAPE</a></span></li><li><span><a href=\"#Построение-моделей\" data-toc-modified-id=\"Построение-моделей-4.2\"><span class=\"toc-item-num\">4.2&nbsp;&nbsp;</span>Построение моделей</a></span></li><li><span><a href=\"#Эффективность-обогащения-чернового-концентрата\" data-toc-modified-id=\"Эффективность-обогащения-чернового-концентрата-4.3\"><span class=\"toc-item-num\">4.3&nbsp;&nbsp;</span>Эффективность обогащения чернового концентрата</a></span><ul class=\"toc-item\"><li><span><a href=\"#LinearRegression\" data-toc-modified-id=\"LinearRegression-4.3.1\"><span class=\"toc-item-num\">4.3.1&nbsp;&nbsp;</span>LinearRegression</a></span></li><li><span><a href=\"#DecisionTreeRegressor\" data-toc-modified-id=\"DecisionTreeRegressor-4.3.2\"><span class=\"toc-item-num\">4.3.2&nbsp;&nbsp;</span>DecisionTreeRegressor</a></span></li><li><span><a href=\"#RandomForestRegressor\" data-toc-modified-id=\"RandomForestRegressor-4.3.3\"><span class=\"toc-item-num\">4.3.3&nbsp;&nbsp;</span>RandomForestRegressor</a></span></li><li><span><a href=\"#Оценка-результатов-и-выбор-лучшей-модели\" data-toc-modified-id=\"Оценка-результатов-и-выбор-лучшей-модели-4.3.4\"><span class=\"toc-item-num\">4.3.4&nbsp;&nbsp;</span>Оценка результатов и выбор лучшей модели</a></span></li></ul></li><li><span><a href=\"#Эффективность-обогащения-финального-концентрата\" data-toc-modified-id=\"Эффективность-обогащения-финального-концентрата-4.4\"><span class=\"toc-item-num\">4.4&nbsp;&nbsp;</span>Эффективность обогащения финального концентрата</a></span><ul class=\"toc-item\"><li><span><a href=\"#LinearRegression\" data-toc-modified-id=\"LinearRegression-4.4.1\"><span class=\"toc-item-num\">4.4.1&nbsp;&nbsp;</span>LinearRegression</a></span></li><li><span><a href=\"#Lasso\" data-toc-modified-id=\"Lasso-4.4.2\"><span class=\"toc-item-num\">4.4.2&nbsp;&nbsp;</span>Lasso</a></span></li><li><span><a href=\"#Ridge\" data-toc-modified-id=\"Ridge-4.4.3\"><span class=\"toc-item-num\">4.4.3&nbsp;&nbsp;</span>Ridge</a></span></li><li><span><a href=\"#DecisionTreeRegressor\" data-toc-modified-id=\"DecisionTreeRegressor-4.4.4\"><span class=\"toc-item-num\">4.4.4&nbsp;&nbsp;</span>DecisionTreeRegressor</a></span></li><li><span><a href=\"#RandomForestRegressor\" data-toc-modified-id=\"RandomForestRegressor-4.4.5\"><span class=\"toc-item-num\">4.4.5&nbsp;&nbsp;</span>RandomForestRegressor</a></span></li><li><span><a href=\"#Оценка-результатов-и-выбор-лучшей-модели\" data-toc-modified-id=\"Оценка-результатов-и-выбор-лучшей-модели-4.4.6\"><span class=\"toc-item-num\">4.4.6&nbsp;&nbsp;</span>Оценка результатов и выбор лучшей модели</a></span></li></ul></li><li><span><a href=\"#Выбор-лучшей-модели-и-проверка-на-тестовой-выборке\" data-toc-modified-id=\"Выбор-лучшей-модели-и-проверка-на-тестовой-выборке-4.5\"><span class=\"toc-item-num\">4.5&nbsp;&nbsp;</span>Выбор лучшей модели и проверка на тестовой выборке</a></span><ul class=\"toc-item\"><li><span><a href=\"#Эффективность-обогащения-чернового-концентрата\" data-toc-modified-id=\"Эффективность-обогащения-чернового-концентрата-4.5.1\"><span class=\"toc-item-num\">4.5.1&nbsp;&nbsp;</span>Эффективность обогащения чернового концентрата</a></span></li><li><span><a href=\"#Эффективность-обогащения-финального-концентрата\" data-toc-modified-id=\"Эффективность-обогащения-финального-концентрата-4.5.2\"><span class=\"toc-item-num\">4.5.2&nbsp;&nbsp;</span>Эффективность обогащения финального концентрата</a></span></li><li><span><a href=\"#Расчёт-финальной-метрики-и-выводы\" data-toc-modified-id=\"Расчёт-финальной-метрики-и-выводы-4.5.3\"><span class=\"toc-item-num\">4.5.3&nbsp;&nbsp;</span>Расчёт финальной метрики и выводы</a></span></li><li><span><a href=\"#Константная-модель\" data-toc-modified-id=\"Константная-модель-4.5.4\"><span class=\"toc-item-num\">4.5.4&nbsp;&nbsp;</span>Константная модель</a></span></li><li><span><a href=\"#Выводы\" data-toc-modified-id=\"Выводы-4.5.5\"><span class=\"toc-item-num\">4.5.5&nbsp;&nbsp;</span>Выводы</a></span></li></ul></li></ul></li><li><span><a href=\"#Чек-лист-готовности-проекта\" data-toc-modified-id=\"Чек-лист-готовности-проекта-5\"><span class=\"toc-item-num\">5&nbsp;&nbsp;</span>Чек-лист готовности проекта</a></span></li></ul></div>"
   ]
  },
  {
   "cell_type": "markdown",
   "metadata": {},
   "source": [
    "# Восстановление золота из руды"
   ]
  },
  {
   "cell_type": "markdown",
   "metadata": {},
   "source": [
    "Подготовьте прототип модели машинного обучения для «Цифры». Компания разрабатывает решения для эффективной работы промышленных предприятий.\n",
    "\n",
    "Модель должна предсказать коэффициент восстановления золота из золотосодержащей руды. Используйте данные с параметрами добычи и очистки. \n",
    "\n",
    "Модель поможет оптимизировать производство, чтобы не запускать предприятие с убыточными характеристиками.\n",
    "\n",
    "Вам нужно:\n",
    "\n",
    "1. Подготовить данные;\n",
    "2. Провести исследовательский анализ данных;\n",
    "3. Построить и обучить модель.\n",
    "\n",
    "Чтобы выполнить проект, обращайтесь к библиотекам *pandas*, *matplotlib* и *sklearn.* Вам поможет их документация."
   ]
  },
  {
   "cell_type": "markdown",
   "metadata": {},
   "source": [
    "<font color='blue'><b>Комментарий ревьюера: </b></font> ✔️\\\n",
    "<font color='green'>Вступление в работу очень важно. Так ты поясняешь то, чему она посвящена.\\\n",
    "Можно ещё сделать краткий обзор данных с которыми предстоит работать.</font>"
   ]
  },
  {
   "cell_type": "markdown",
   "metadata": {},
   "source": [
    "## Подготовка к выполнению проекта"
   ]
  },
  {
   "cell_type": "markdown",
   "metadata": {},
   "source": [
    "### Импорт библиотек"
   ]
  },
  {
   "cell_type": "code",
   "execution_count": 1,
   "metadata": {},
   "outputs": [],
   "source": [
    "import numpy as np\n",
    "import pandas as pd\n",
    "\n",
    "from sklearn.metrics import mean_absolute_error\n",
    "from sklearn.metrics import make_scorer\n",
    "\n",
    "from matplotlib import pyplot as plt\n",
    "import seaborn as sns\n",
    "\n",
    "from scipy import stats as st\n",
    "\n",
    "from sklearn.preprocessing import StandardScaler\n",
    "\n",
    "from sklearn.linear_model import LinearRegression\n",
    "from sklearn.linear_model import Lasso\n",
    "from sklearn.linear_model import Ridge\n",
    "from sklearn.tree import DecisionTreeRegressor\n",
    "from sklearn.ensemble import RandomForestRegressor\n",
    "\n",
    "from sklearn.model_selection import cross_val_score\n",
    "from sklearn.model_selection import GridSearchCV\n",
    "\n",
    "from sklearn.dummy import DummyRegressor"
   ]
  },
  {
   "cell_type": "markdown",
   "metadata": {},
   "source": [
    "<font color='blue'><b>Комментарий ревьюера: </b></font> ✔️\\\n",
    "<font color='green'> Отличное оформление импортов! </font>"
   ]
  },
  {
   "cell_type": "markdown",
   "metadata": {},
   "source": [
    "### Глобальные настройки"
   ]
  },
  {
   "cell_type": "code",
   "execution_count": 2,
   "metadata": {},
   "outputs": [],
   "source": [
    "RANDOM_STATE_GLOBAL = 0"
   ]
  },
  {
   "cell_type": "markdown",
   "metadata": {},
   "source": [
    "<font color='blue'><b>Комментарий ревьюера: </b></font> ⚠️\\\n",
    "<font color='darkorange'> Константы пишуться каплокс RANDOM_STATE_GLOBAL</font>"
   ]
  },
  {
   "cell_type": "markdown",
   "metadata": {},
   "source": [
    "<div class=\"alert alert-info\">\n",
    "<b>Комментарий студента:</b>\n",
    "<br>Точно, упустил этот нюанс! Исправил.\n",
    "</div>"
   ]
  },
  {
   "cell_type": "markdown",
   "metadata": {},
   "source": [
    "### Импорт данных"
   ]
  },
  {
   "cell_type": "code",
   "execution_count": 3,
   "metadata": {},
   "outputs": [],
   "source": [
    "PATH_DATA_TRAIN = r'/datasets/gold_recovery_train_new.csv'\n",
    "PATH_DATA_TEST = r'/datasets/gold_recovery_test_new.csv'\n",
    "PATH_DATA_FULL = r'/datasets/gold_recovery_full_new.csv'"
   ]
  },
  {
   "cell_type": "markdown",
   "metadata": {},
   "source": [
    "### Описание данных"
   ]
  },
  {
   "cell_type": "markdown",
   "metadata": {},
   "source": [
    "**Технологический процесс**\n",
    "- Rougher feed — исходное сырье\n",
    "- Rougher additions (или reagent additions) — флотационные реагенты: Xanthate, Sulphate, Depressant\n",
    "- Xanthate — ксантогенат (промотер, или активатор флотации);\n",
    "- Sulphate — сульфат (на данном производстве сульфид натрия);\n",
    "- Depressant — депрессант (силикат натрия).\n",
    "- Rougher process (англ. «грубый процесс») — флотация\n",
    "- Rougher tails — отвальные хвосты\n",
    "- Float banks — флотационная установка\n",
    "- Cleaner process — очистка\n",
    "- Rougher Au — черновой концентрат золота\n",
    "- Final Au — финальный концентрат золота\n",
    "\n",
    "**Параметры этапов**\n",
    "- air amount — объём воздуха\n",
    "- fluid levels — уровень жидкости\n",
    "- feed size — размер гранул сырья\n",
    "- feed rate — скорость подачи"
   ]
  },
  {
   "cell_type": "markdown",
   "metadata": {},
   "source": [
    "### Наименование признаков"
   ]
  },
  {
   "cell_type": "markdown",
   "metadata": {},
   "source": [
    "Наименование признаков должно быть такое:\n",
    "\n",
    "<code>[этап].[тип_параметра].[название_параметра]</code>\n",
    "\n",
    "Пример: <code>rougher.input.feed_ag</code>\n",
    "\n",
    "Возможные значения для блока <code>[этап]</code>:\n",
    "- rougher — флотация\n",
    "- primary_cleaner — первичная очистка\n",
    "- secondary_cleaner — вторичная очистка\n",
    "- final — финальные характеристики\n",
    "\n",
    "Возможные значения для блока <code>[тип_параметра]</code>:\n",
    "- input — параметры сырья\n",
    "- output — параметры продукта\n",
    "- state — параметры, характеризующие текущее состояние этапа\n",
    "- calculation — расчётные характеристики"
   ]
  },
  {
   "cell_type": "markdown",
   "metadata": {},
   "source": [
    "## Подготовка данных"
   ]
  },
  {
   "cell_type": "markdown",
   "metadata": {},
   "source": [
    "### Открытие и изучение данных"
   ]
  },
  {
   "cell_type": "markdown",
   "metadata": {},
   "source": [
    "#### Обучающая выборка df_train"
   ]
  },
  {
   "cell_type": "code",
   "execution_count": 4,
   "metadata": {},
   "outputs": [],
   "source": [
    "# Загрузка данных.\n",
    "df_train = pd.read_csv(PATH_DATA_TRAIN)"
   ]
  },
  {
   "cell_type": "code",
   "execution_count": 5,
   "metadata": {},
   "outputs": [
    {
     "data": {
      "text/html": [
       "<div>\n",
       "<style scoped>\n",
       "    .dataframe tbody tr th:only-of-type {\n",
       "        vertical-align: middle;\n",
       "    }\n",
       "\n",
       "    .dataframe tbody tr th {\n",
       "        vertical-align: top;\n",
       "    }\n",
       "\n",
       "    .dataframe thead th {\n",
       "        text-align: right;\n",
       "    }\n",
       "</style>\n",
       "<table border=\"1\" class=\"dataframe\">\n",
       "  <thead>\n",
       "    <tr style=\"text-align: right;\">\n",
       "      <th></th>\n",
       "      <th>date</th>\n",
       "      <th>final.output.concentrate_ag</th>\n",
       "      <th>final.output.concentrate_pb</th>\n",
       "      <th>final.output.concentrate_sol</th>\n",
       "      <th>final.output.concentrate_au</th>\n",
       "      <th>final.output.recovery</th>\n",
       "      <th>final.output.tail_ag</th>\n",
       "      <th>final.output.tail_pb</th>\n",
       "      <th>final.output.tail_sol</th>\n",
       "      <th>final.output.tail_au</th>\n",
       "      <th>...</th>\n",
       "      <th>secondary_cleaner.state.floatbank4_a_air</th>\n",
       "      <th>secondary_cleaner.state.floatbank4_a_level</th>\n",
       "      <th>secondary_cleaner.state.floatbank4_b_air</th>\n",
       "      <th>secondary_cleaner.state.floatbank4_b_level</th>\n",
       "      <th>secondary_cleaner.state.floatbank5_a_air</th>\n",
       "      <th>secondary_cleaner.state.floatbank5_a_level</th>\n",
       "      <th>secondary_cleaner.state.floatbank5_b_air</th>\n",
       "      <th>secondary_cleaner.state.floatbank5_b_level</th>\n",
       "      <th>secondary_cleaner.state.floatbank6_a_air</th>\n",
       "      <th>secondary_cleaner.state.floatbank6_a_level</th>\n",
       "    </tr>\n",
       "  </thead>\n",
       "  <tbody>\n",
       "    <tr>\n",
       "      <th>0</th>\n",
       "      <td>2016-01-15 00:00:00</td>\n",
       "      <td>6.055403</td>\n",
       "      <td>9.889648</td>\n",
       "      <td>5.507324</td>\n",
       "      <td>42.192020</td>\n",
       "      <td>70.541216</td>\n",
       "      <td>10.411962</td>\n",
       "      <td>0.895447</td>\n",
       "      <td>16.904297</td>\n",
       "      <td>2.143149</td>\n",
       "      <td>...</td>\n",
       "      <td>14.016835</td>\n",
       "      <td>-502.488007</td>\n",
       "      <td>12.099931</td>\n",
       "      <td>-504.715942</td>\n",
       "      <td>9.925633</td>\n",
       "      <td>-498.310211</td>\n",
       "      <td>8.079666</td>\n",
       "      <td>-500.470978</td>\n",
       "      <td>14.151341</td>\n",
       "      <td>-605.841980</td>\n",
       "    </tr>\n",
       "    <tr>\n",
       "      <th>1</th>\n",
       "      <td>2016-01-15 01:00:00</td>\n",
       "      <td>6.029369</td>\n",
       "      <td>9.968944</td>\n",
       "      <td>5.257781</td>\n",
       "      <td>42.701629</td>\n",
       "      <td>69.266198</td>\n",
       "      <td>10.462676</td>\n",
       "      <td>0.927452</td>\n",
       "      <td>16.634514</td>\n",
       "      <td>2.224930</td>\n",
       "      <td>...</td>\n",
       "      <td>13.992281</td>\n",
       "      <td>-505.503262</td>\n",
       "      <td>11.950531</td>\n",
       "      <td>-501.331529</td>\n",
       "      <td>10.039245</td>\n",
       "      <td>-500.169983</td>\n",
       "      <td>7.984757</td>\n",
       "      <td>-500.582168</td>\n",
       "      <td>13.998353</td>\n",
       "      <td>-599.787184</td>\n",
       "    </tr>\n",
       "    <tr>\n",
       "      <th>2</th>\n",
       "      <td>2016-01-15 02:00:00</td>\n",
       "      <td>6.055926</td>\n",
       "      <td>10.213995</td>\n",
       "      <td>5.383759</td>\n",
       "      <td>42.657501</td>\n",
       "      <td>68.116445</td>\n",
       "      <td>10.507046</td>\n",
       "      <td>0.953716</td>\n",
       "      <td>16.208849</td>\n",
       "      <td>2.257889</td>\n",
       "      <td>...</td>\n",
       "      <td>14.015015</td>\n",
       "      <td>-502.520901</td>\n",
       "      <td>11.912783</td>\n",
       "      <td>-501.133383</td>\n",
       "      <td>10.070913</td>\n",
       "      <td>-500.129135</td>\n",
       "      <td>8.013877</td>\n",
       "      <td>-500.517572</td>\n",
       "      <td>14.028663</td>\n",
       "      <td>-601.427363</td>\n",
       "    </tr>\n",
       "    <tr>\n",
       "      <th>3</th>\n",
       "      <td>2016-01-15 03:00:00</td>\n",
       "      <td>6.047977</td>\n",
       "      <td>9.977019</td>\n",
       "      <td>4.858634</td>\n",
       "      <td>42.689819</td>\n",
       "      <td>68.347543</td>\n",
       "      <td>10.422762</td>\n",
       "      <td>0.883763</td>\n",
       "      <td>16.532835</td>\n",
       "      <td>2.146849</td>\n",
       "      <td>...</td>\n",
       "      <td>14.036510</td>\n",
       "      <td>-500.857308</td>\n",
       "      <td>11.999550</td>\n",
       "      <td>-501.193686</td>\n",
       "      <td>9.970366</td>\n",
       "      <td>-499.201640</td>\n",
       "      <td>7.977324</td>\n",
       "      <td>-500.255908</td>\n",
       "      <td>14.005551</td>\n",
       "      <td>-599.996129</td>\n",
       "    </tr>\n",
       "    <tr>\n",
       "      <th>4</th>\n",
       "      <td>2016-01-15 04:00:00</td>\n",
       "      <td>6.148599</td>\n",
       "      <td>10.142511</td>\n",
       "      <td>4.939416</td>\n",
       "      <td>42.774141</td>\n",
       "      <td>66.927016</td>\n",
       "      <td>10.360302</td>\n",
       "      <td>0.792826</td>\n",
       "      <td>16.525686</td>\n",
       "      <td>2.055292</td>\n",
       "      <td>...</td>\n",
       "      <td>14.027298</td>\n",
       "      <td>-499.838632</td>\n",
       "      <td>11.953070</td>\n",
       "      <td>-501.053894</td>\n",
       "      <td>9.925709</td>\n",
       "      <td>-501.686727</td>\n",
       "      <td>7.894242</td>\n",
       "      <td>-500.356035</td>\n",
       "      <td>13.996647</td>\n",
       "      <td>-601.496691</td>\n",
       "    </tr>\n",
       "  </tbody>\n",
       "</table>\n",
       "<p>5 rows × 87 columns</p>\n",
       "</div>"
      ],
      "text/plain": [
       "                  date  final.output.concentrate_ag  \\\n",
       "0  2016-01-15 00:00:00                     6.055403   \n",
       "1  2016-01-15 01:00:00                     6.029369   \n",
       "2  2016-01-15 02:00:00                     6.055926   \n",
       "3  2016-01-15 03:00:00                     6.047977   \n",
       "4  2016-01-15 04:00:00                     6.148599   \n",
       "\n",
       "   final.output.concentrate_pb  final.output.concentrate_sol  \\\n",
       "0                     9.889648                      5.507324   \n",
       "1                     9.968944                      5.257781   \n",
       "2                    10.213995                      5.383759   \n",
       "3                     9.977019                      4.858634   \n",
       "4                    10.142511                      4.939416   \n",
       "\n",
       "   final.output.concentrate_au  final.output.recovery  final.output.tail_ag  \\\n",
       "0                    42.192020              70.541216             10.411962   \n",
       "1                    42.701629              69.266198             10.462676   \n",
       "2                    42.657501              68.116445             10.507046   \n",
       "3                    42.689819              68.347543             10.422762   \n",
       "4                    42.774141              66.927016             10.360302   \n",
       "\n",
       "   final.output.tail_pb  final.output.tail_sol  final.output.tail_au  ...  \\\n",
       "0              0.895447              16.904297              2.143149  ...   \n",
       "1              0.927452              16.634514              2.224930  ...   \n",
       "2              0.953716              16.208849              2.257889  ...   \n",
       "3              0.883763              16.532835              2.146849  ...   \n",
       "4              0.792826              16.525686              2.055292  ...   \n",
       "\n",
       "   secondary_cleaner.state.floatbank4_a_air  \\\n",
       "0                                 14.016835   \n",
       "1                                 13.992281   \n",
       "2                                 14.015015   \n",
       "3                                 14.036510   \n",
       "4                                 14.027298   \n",
       "\n",
       "   secondary_cleaner.state.floatbank4_a_level  \\\n",
       "0                                 -502.488007   \n",
       "1                                 -505.503262   \n",
       "2                                 -502.520901   \n",
       "3                                 -500.857308   \n",
       "4                                 -499.838632   \n",
       "\n",
       "   secondary_cleaner.state.floatbank4_b_air  \\\n",
       "0                                 12.099931   \n",
       "1                                 11.950531   \n",
       "2                                 11.912783   \n",
       "3                                 11.999550   \n",
       "4                                 11.953070   \n",
       "\n",
       "   secondary_cleaner.state.floatbank4_b_level  \\\n",
       "0                                 -504.715942   \n",
       "1                                 -501.331529   \n",
       "2                                 -501.133383   \n",
       "3                                 -501.193686   \n",
       "4                                 -501.053894   \n",
       "\n",
       "   secondary_cleaner.state.floatbank5_a_air  \\\n",
       "0                                  9.925633   \n",
       "1                                 10.039245   \n",
       "2                                 10.070913   \n",
       "3                                  9.970366   \n",
       "4                                  9.925709   \n",
       "\n",
       "   secondary_cleaner.state.floatbank5_a_level  \\\n",
       "0                                 -498.310211   \n",
       "1                                 -500.169983   \n",
       "2                                 -500.129135   \n",
       "3                                 -499.201640   \n",
       "4                                 -501.686727   \n",
       "\n",
       "   secondary_cleaner.state.floatbank5_b_air  \\\n",
       "0                                  8.079666   \n",
       "1                                  7.984757   \n",
       "2                                  8.013877   \n",
       "3                                  7.977324   \n",
       "4                                  7.894242   \n",
       "\n",
       "   secondary_cleaner.state.floatbank5_b_level  \\\n",
       "0                                 -500.470978   \n",
       "1                                 -500.582168   \n",
       "2                                 -500.517572   \n",
       "3                                 -500.255908   \n",
       "4                                 -500.356035   \n",
       "\n",
       "   secondary_cleaner.state.floatbank6_a_air  \\\n",
       "0                                 14.151341   \n",
       "1                                 13.998353   \n",
       "2                                 14.028663   \n",
       "3                                 14.005551   \n",
       "4                                 13.996647   \n",
       "\n",
       "   secondary_cleaner.state.floatbank6_a_level  \n",
       "0                                 -605.841980  \n",
       "1                                 -599.787184  \n",
       "2                                 -601.427363  \n",
       "3                                 -599.996129  \n",
       "4                                 -601.496691  \n",
       "\n",
       "[5 rows x 87 columns]"
      ]
     },
     "execution_count": 5,
     "metadata": {},
     "output_type": "execute_result"
    }
   ],
   "source": [
    "# Вывод первых пяти строк.\n",
    "df_train.head()"
   ]
  },
  {
   "cell_type": "code",
   "execution_count": 6,
   "metadata": {
    "scrolled": false
   },
   "outputs": [
    {
     "data": {
      "text/plain": [
       "secondary_cleaner.output.tail_sol           11.34%\n",
       "rougher.state.floatbank10_e_air              3.08%\n",
       "rougher.input.floatbank11_xanthate           3.02%\n",
       "primary_cleaner.output.concentrate_sol       2.02%\n",
       "secondary_cleaner.state.floatbank2_a_air     1.53%\n",
       "final.output.concentrate_sol                 1.49%\n",
       "rougher.input.feed_size                      1.02%\n",
       "primary_cleaner.input.xanthate               0.71%\n",
       "rougher.input.feed_pb                        0.71%\n",
       "final.output.tail_pb                         0.71%\n",
       "primary_cleaner.output.concentrate_pb        0.61%\n",
       "rougher.input.feed_sol                       0.55%\n",
       "primary_cleaner.output.tail_sol              0.33%\n",
       "rougher.input.floatbank11_sulfate            0.25%\n",
       "primary_cleaner.input.depressant             0.23%\n",
       "rougher.input.floatbank10_sulfate            0.20%\n",
       "rougher.output.concentrate_sol               0.16%\n",
       "secondary_cleaner.state.floatbank2_b_air     0.15%\n",
       "primary_cleaner.input.sulfate                0.14%\n",
       "primary_cleaner.output.tail_pb               0.11%\n",
       "dtype: object"
      ]
     },
     "execution_count": 6,
     "metadata": {},
     "output_type": "execute_result"
    }
   ],
   "source": [
    "# Оценка пропусков.\n",
    "(df_train.isna().sum() / df_train.shape[0]).sort_values(ascending=False).apply(lambda x: f'{x:.2%}'.format()).head(20)"
   ]
  },
  {
   "cell_type": "markdown",
   "metadata": {},
   "source": [
    "#### Тестовая  выборка df_test"
   ]
  },
  {
   "cell_type": "code",
   "execution_count": 7,
   "metadata": {},
   "outputs": [],
   "source": [
    "# Загрузка данных.\n",
    "df_test = pd.read_csv(PATH_DATA_TEST)"
   ]
  },
  {
   "cell_type": "code",
   "execution_count": 8,
   "metadata": {},
   "outputs": [
    {
     "data": {
      "text/html": [
       "<div>\n",
       "<style scoped>\n",
       "    .dataframe tbody tr th:only-of-type {\n",
       "        vertical-align: middle;\n",
       "    }\n",
       "\n",
       "    .dataframe tbody tr th {\n",
       "        vertical-align: top;\n",
       "    }\n",
       "\n",
       "    .dataframe thead th {\n",
       "        text-align: right;\n",
       "    }\n",
       "</style>\n",
       "<table border=\"1\" class=\"dataframe\">\n",
       "  <thead>\n",
       "    <tr style=\"text-align: right;\">\n",
       "      <th></th>\n",
       "      <th>date</th>\n",
       "      <th>primary_cleaner.input.sulfate</th>\n",
       "      <th>primary_cleaner.input.depressant</th>\n",
       "      <th>primary_cleaner.input.feed_size</th>\n",
       "      <th>primary_cleaner.input.xanthate</th>\n",
       "      <th>primary_cleaner.state.floatbank8_a_air</th>\n",
       "      <th>primary_cleaner.state.floatbank8_a_level</th>\n",
       "      <th>primary_cleaner.state.floatbank8_b_air</th>\n",
       "      <th>primary_cleaner.state.floatbank8_b_level</th>\n",
       "      <th>primary_cleaner.state.floatbank8_c_air</th>\n",
       "      <th>...</th>\n",
       "      <th>secondary_cleaner.state.floatbank4_a_air</th>\n",
       "      <th>secondary_cleaner.state.floatbank4_a_level</th>\n",
       "      <th>secondary_cleaner.state.floatbank4_b_air</th>\n",
       "      <th>secondary_cleaner.state.floatbank4_b_level</th>\n",
       "      <th>secondary_cleaner.state.floatbank5_a_air</th>\n",
       "      <th>secondary_cleaner.state.floatbank5_a_level</th>\n",
       "      <th>secondary_cleaner.state.floatbank5_b_air</th>\n",
       "      <th>secondary_cleaner.state.floatbank5_b_level</th>\n",
       "      <th>secondary_cleaner.state.floatbank6_a_air</th>\n",
       "      <th>secondary_cleaner.state.floatbank6_a_level</th>\n",
       "    </tr>\n",
       "  </thead>\n",
       "  <tbody>\n",
       "    <tr>\n",
       "      <th>0</th>\n",
       "      <td>2016-09-01 00:59:59</td>\n",
       "      <td>210.800909</td>\n",
       "      <td>14.993118</td>\n",
       "      <td>8.080000</td>\n",
       "      <td>1.005021</td>\n",
       "      <td>1398.981301</td>\n",
       "      <td>-500.225577</td>\n",
       "      <td>1399.144926</td>\n",
       "      <td>-499.919735</td>\n",
       "      <td>1400.102998</td>\n",
       "      <td>...</td>\n",
       "      <td>12.023554</td>\n",
       "      <td>-497.795834</td>\n",
       "      <td>8.016656</td>\n",
       "      <td>-501.289139</td>\n",
       "      <td>7.946562</td>\n",
       "      <td>-432.317850</td>\n",
       "      <td>4.872511</td>\n",
       "      <td>-500.037437</td>\n",
       "      <td>26.705889</td>\n",
       "      <td>-499.709414</td>\n",
       "    </tr>\n",
       "    <tr>\n",
       "      <th>1</th>\n",
       "      <td>2016-09-01 01:59:59</td>\n",
       "      <td>215.392455</td>\n",
       "      <td>14.987471</td>\n",
       "      <td>8.080000</td>\n",
       "      <td>0.990469</td>\n",
       "      <td>1398.777912</td>\n",
       "      <td>-500.057435</td>\n",
       "      <td>1398.055362</td>\n",
       "      <td>-499.778182</td>\n",
       "      <td>1396.151033</td>\n",
       "      <td>...</td>\n",
       "      <td>12.058140</td>\n",
       "      <td>-498.695773</td>\n",
       "      <td>8.130979</td>\n",
       "      <td>-499.634209</td>\n",
       "      <td>7.958270</td>\n",
       "      <td>-525.839648</td>\n",
       "      <td>4.878850</td>\n",
       "      <td>-500.162375</td>\n",
       "      <td>25.019940</td>\n",
       "      <td>-499.819438</td>\n",
       "    </tr>\n",
       "    <tr>\n",
       "      <th>2</th>\n",
       "      <td>2016-09-01 02:59:59</td>\n",
       "      <td>215.259946</td>\n",
       "      <td>12.884934</td>\n",
       "      <td>7.786667</td>\n",
       "      <td>0.996043</td>\n",
       "      <td>1398.493666</td>\n",
       "      <td>-500.868360</td>\n",
       "      <td>1398.860436</td>\n",
       "      <td>-499.764529</td>\n",
       "      <td>1398.075709</td>\n",
       "      <td>...</td>\n",
       "      <td>11.962366</td>\n",
       "      <td>-498.767484</td>\n",
       "      <td>8.096893</td>\n",
       "      <td>-500.827423</td>\n",
       "      <td>8.071056</td>\n",
       "      <td>-500.801673</td>\n",
       "      <td>4.905125</td>\n",
       "      <td>-499.828510</td>\n",
       "      <td>24.994862</td>\n",
       "      <td>-500.622559</td>\n",
       "    </tr>\n",
       "    <tr>\n",
       "      <th>3</th>\n",
       "      <td>2016-09-01 03:59:59</td>\n",
       "      <td>215.336236</td>\n",
       "      <td>12.006805</td>\n",
       "      <td>7.640000</td>\n",
       "      <td>0.863514</td>\n",
       "      <td>1399.618111</td>\n",
       "      <td>-498.863574</td>\n",
       "      <td>1397.440120</td>\n",
       "      <td>-499.211024</td>\n",
       "      <td>1400.129303</td>\n",
       "      <td>...</td>\n",
       "      <td>12.033091</td>\n",
       "      <td>-498.350935</td>\n",
       "      <td>8.074946</td>\n",
       "      <td>-499.474407</td>\n",
       "      <td>7.897085</td>\n",
       "      <td>-500.868509</td>\n",
       "      <td>4.931400</td>\n",
       "      <td>-499.963623</td>\n",
       "      <td>24.948919</td>\n",
       "      <td>-498.709987</td>\n",
       "    </tr>\n",
       "    <tr>\n",
       "      <th>4</th>\n",
       "      <td>2016-09-01 04:59:59</td>\n",
       "      <td>199.099327</td>\n",
       "      <td>10.682530</td>\n",
       "      <td>7.530000</td>\n",
       "      <td>0.805575</td>\n",
       "      <td>1401.268123</td>\n",
       "      <td>-500.808305</td>\n",
       "      <td>1398.128818</td>\n",
       "      <td>-499.504543</td>\n",
       "      <td>1402.172226</td>\n",
       "      <td>...</td>\n",
       "      <td>12.025367</td>\n",
       "      <td>-500.786497</td>\n",
       "      <td>8.054678</td>\n",
       "      <td>-500.397500</td>\n",
       "      <td>8.107890</td>\n",
       "      <td>-509.526725</td>\n",
       "      <td>4.957674</td>\n",
       "      <td>-500.360026</td>\n",
       "      <td>25.003331</td>\n",
       "      <td>-500.856333</td>\n",
       "    </tr>\n",
       "  </tbody>\n",
       "</table>\n",
       "<p>5 rows × 53 columns</p>\n",
       "</div>"
      ],
      "text/plain": [
       "                  date  primary_cleaner.input.sulfate  \\\n",
       "0  2016-09-01 00:59:59                     210.800909   \n",
       "1  2016-09-01 01:59:59                     215.392455   \n",
       "2  2016-09-01 02:59:59                     215.259946   \n",
       "3  2016-09-01 03:59:59                     215.336236   \n",
       "4  2016-09-01 04:59:59                     199.099327   \n",
       "\n",
       "   primary_cleaner.input.depressant  primary_cleaner.input.feed_size  \\\n",
       "0                         14.993118                         8.080000   \n",
       "1                         14.987471                         8.080000   \n",
       "2                         12.884934                         7.786667   \n",
       "3                         12.006805                         7.640000   \n",
       "4                         10.682530                         7.530000   \n",
       "\n",
       "   primary_cleaner.input.xanthate  primary_cleaner.state.floatbank8_a_air  \\\n",
       "0                        1.005021                             1398.981301   \n",
       "1                        0.990469                             1398.777912   \n",
       "2                        0.996043                             1398.493666   \n",
       "3                        0.863514                             1399.618111   \n",
       "4                        0.805575                             1401.268123   \n",
       "\n",
       "   primary_cleaner.state.floatbank8_a_level  \\\n",
       "0                               -500.225577   \n",
       "1                               -500.057435   \n",
       "2                               -500.868360   \n",
       "3                               -498.863574   \n",
       "4                               -500.808305   \n",
       "\n",
       "   primary_cleaner.state.floatbank8_b_air  \\\n",
       "0                             1399.144926   \n",
       "1                             1398.055362   \n",
       "2                             1398.860436   \n",
       "3                             1397.440120   \n",
       "4                             1398.128818   \n",
       "\n",
       "   primary_cleaner.state.floatbank8_b_level  \\\n",
       "0                               -499.919735   \n",
       "1                               -499.778182   \n",
       "2                               -499.764529   \n",
       "3                               -499.211024   \n",
       "4                               -499.504543   \n",
       "\n",
       "   primary_cleaner.state.floatbank8_c_air  ...  \\\n",
       "0                             1400.102998  ...   \n",
       "1                             1396.151033  ...   \n",
       "2                             1398.075709  ...   \n",
       "3                             1400.129303  ...   \n",
       "4                             1402.172226  ...   \n",
       "\n",
       "   secondary_cleaner.state.floatbank4_a_air  \\\n",
       "0                                 12.023554   \n",
       "1                                 12.058140   \n",
       "2                                 11.962366   \n",
       "3                                 12.033091   \n",
       "4                                 12.025367   \n",
       "\n",
       "   secondary_cleaner.state.floatbank4_a_level  \\\n",
       "0                                 -497.795834   \n",
       "1                                 -498.695773   \n",
       "2                                 -498.767484   \n",
       "3                                 -498.350935   \n",
       "4                                 -500.786497   \n",
       "\n",
       "   secondary_cleaner.state.floatbank4_b_air  \\\n",
       "0                                  8.016656   \n",
       "1                                  8.130979   \n",
       "2                                  8.096893   \n",
       "3                                  8.074946   \n",
       "4                                  8.054678   \n",
       "\n",
       "   secondary_cleaner.state.floatbank4_b_level  \\\n",
       "0                                 -501.289139   \n",
       "1                                 -499.634209   \n",
       "2                                 -500.827423   \n",
       "3                                 -499.474407   \n",
       "4                                 -500.397500   \n",
       "\n",
       "   secondary_cleaner.state.floatbank5_a_air  \\\n",
       "0                                  7.946562   \n",
       "1                                  7.958270   \n",
       "2                                  8.071056   \n",
       "3                                  7.897085   \n",
       "4                                  8.107890   \n",
       "\n",
       "   secondary_cleaner.state.floatbank5_a_level  \\\n",
       "0                                 -432.317850   \n",
       "1                                 -525.839648   \n",
       "2                                 -500.801673   \n",
       "3                                 -500.868509   \n",
       "4                                 -509.526725   \n",
       "\n",
       "   secondary_cleaner.state.floatbank5_b_air  \\\n",
       "0                                  4.872511   \n",
       "1                                  4.878850   \n",
       "2                                  4.905125   \n",
       "3                                  4.931400   \n",
       "4                                  4.957674   \n",
       "\n",
       "   secondary_cleaner.state.floatbank5_b_level  \\\n",
       "0                                 -500.037437   \n",
       "1                                 -500.162375   \n",
       "2                                 -499.828510   \n",
       "3                                 -499.963623   \n",
       "4                                 -500.360026   \n",
       "\n",
       "   secondary_cleaner.state.floatbank6_a_air  \\\n",
       "0                                 26.705889   \n",
       "1                                 25.019940   \n",
       "2                                 24.994862   \n",
       "3                                 24.948919   \n",
       "4                                 25.003331   \n",
       "\n",
       "   secondary_cleaner.state.floatbank6_a_level  \n",
       "0                                 -499.709414  \n",
       "1                                 -499.819438  \n",
       "2                                 -500.622559  \n",
       "3                                 -498.709987  \n",
       "4                                 -500.856333  \n",
       "\n",
       "[5 rows x 53 columns]"
      ]
     },
     "execution_count": 8,
     "metadata": {},
     "output_type": "execute_result"
    }
   ],
   "source": [
    "# Вывод первых пяти строк.\n",
    "df_test.head()"
   ]
  },
  {
   "cell_type": "code",
   "execution_count": 9,
   "metadata": {},
   "outputs": [
    {
     "data": {
      "text/plain": [
       "rougher.input.floatbank11_xanthate            0.47%\n",
       "rougher.input.feed_sol                        0.40%\n",
       "secondary_cleaner.state.floatbank3_a_air      0.17%\n",
       "rougher.input.floatbank11_sulfate             0.15%\n",
       "primary_cleaner.input.depressant              0.09%\n",
       "rougher.input.floatbank10_sulfate             0.09%\n",
       "primary_cleaner.input.xanthate                0.08%\n",
       "primary_cleaner.input.sulfate                 0.08%\n",
       "rougher.input.feed_rate                       0.06%\n",
       "secondary_cleaner.state.floatbank2_a_air      0.06%\n",
       "secondary_cleaner.state.floatbank2_b_air      0.04%\n",
       "rougher.input.feed_size                       0.02%\n",
       "secondary_cleaner.state.floatbank2_b_level    0.00%\n",
       "rougher.state.floatbank10_f_level             0.00%\n",
       "rougher.state.floatbank10_f_air               0.00%\n",
       "secondary_cleaner.state.floatbank3_a_level    0.00%\n",
       "secondary_cleaner.state.floatbank2_a_level    0.00%\n",
       "date                                          0.00%\n",
       "rougher.state.floatbank10_e_air               0.00%\n",
       "secondary_cleaner.state.floatbank3_b_air      0.00%\n",
       "dtype: object"
      ]
     },
     "execution_count": 9,
     "metadata": {},
     "output_type": "execute_result"
    }
   ],
   "source": [
    "# Оценка пропусков.\n",
    "(df_test.isna().sum() / df_test.shape[0]).sort_values(ascending=False).apply(lambda x: f'{x:.2%}'.format()).head(20)"
   ]
  },
  {
   "cell_type": "markdown",
   "metadata": {},
   "source": [
    "#### Исходные данные df_full"
   ]
  },
  {
   "cell_type": "code",
   "execution_count": 10,
   "metadata": {},
   "outputs": [],
   "source": [
    "# Загрузка данных.\n",
    "df_full = pd.read_csv(PATH_DATA_FULL)"
   ]
  },
  {
   "cell_type": "code",
   "execution_count": 11,
   "metadata": {},
   "outputs": [
    {
     "data": {
      "text/html": [
       "<div>\n",
       "<style scoped>\n",
       "    .dataframe tbody tr th:only-of-type {\n",
       "        vertical-align: middle;\n",
       "    }\n",
       "\n",
       "    .dataframe tbody tr th {\n",
       "        vertical-align: top;\n",
       "    }\n",
       "\n",
       "    .dataframe thead th {\n",
       "        text-align: right;\n",
       "    }\n",
       "</style>\n",
       "<table border=\"1\" class=\"dataframe\">\n",
       "  <thead>\n",
       "    <tr style=\"text-align: right;\">\n",
       "      <th></th>\n",
       "      <th>date</th>\n",
       "      <th>final.output.concentrate_ag</th>\n",
       "      <th>final.output.concentrate_pb</th>\n",
       "      <th>final.output.concentrate_sol</th>\n",
       "      <th>final.output.concentrate_au</th>\n",
       "      <th>final.output.recovery</th>\n",
       "      <th>final.output.tail_ag</th>\n",
       "      <th>final.output.tail_pb</th>\n",
       "      <th>final.output.tail_sol</th>\n",
       "      <th>final.output.tail_au</th>\n",
       "      <th>...</th>\n",
       "      <th>secondary_cleaner.state.floatbank4_a_air</th>\n",
       "      <th>secondary_cleaner.state.floatbank4_a_level</th>\n",
       "      <th>secondary_cleaner.state.floatbank4_b_air</th>\n",
       "      <th>secondary_cleaner.state.floatbank4_b_level</th>\n",
       "      <th>secondary_cleaner.state.floatbank5_a_air</th>\n",
       "      <th>secondary_cleaner.state.floatbank5_a_level</th>\n",
       "      <th>secondary_cleaner.state.floatbank5_b_air</th>\n",
       "      <th>secondary_cleaner.state.floatbank5_b_level</th>\n",
       "      <th>secondary_cleaner.state.floatbank6_a_air</th>\n",
       "      <th>secondary_cleaner.state.floatbank6_a_level</th>\n",
       "    </tr>\n",
       "  </thead>\n",
       "  <tbody>\n",
       "    <tr>\n",
       "      <th>0</th>\n",
       "      <td>2016-01-15 00:00:00</td>\n",
       "      <td>6.055403</td>\n",
       "      <td>9.889648</td>\n",
       "      <td>5.507324</td>\n",
       "      <td>42.192020</td>\n",
       "      <td>70.541216</td>\n",
       "      <td>10.411962</td>\n",
       "      <td>0.895447</td>\n",
       "      <td>16.904297</td>\n",
       "      <td>2.143149</td>\n",
       "      <td>...</td>\n",
       "      <td>14.016835</td>\n",
       "      <td>-502.488007</td>\n",
       "      <td>12.099931</td>\n",
       "      <td>-504.715942</td>\n",
       "      <td>9.925633</td>\n",
       "      <td>-498.310211</td>\n",
       "      <td>8.079666</td>\n",
       "      <td>-500.470978</td>\n",
       "      <td>14.151341</td>\n",
       "      <td>-605.841980</td>\n",
       "    </tr>\n",
       "    <tr>\n",
       "      <th>1</th>\n",
       "      <td>2016-01-15 01:00:00</td>\n",
       "      <td>6.029369</td>\n",
       "      <td>9.968944</td>\n",
       "      <td>5.257781</td>\n",
       "      <td>42.701629</td>\n",
       "      <td>69.266198</td>\n",
       "      <td>10.462676</td>\n",
       "      <td>0.927452</td>\n",
       "      <td>16.634514</td>\n",
       "      <td>2.224930</td>\n",
       "      <td>...</td>\n",
       "      <td>13.992281</td>\n",
       "      <td>-505.503262</td>\n",
       "      <td>11.950531</td>\n",
       "      <td>-501.331529</td>\n",
       "      <td>10.039245</td>\n",
       "      <td>-500.169983</td>\n",
       "      <td>7.984757</td>\n",
       "      <td>-500.582168</td>\n",
       "      <td>13.998353</td>\n",
       "      <td>-599.787184</td>\n",
       "    </tr>\n",
       "    <tr>\n",
       "      <th>2</th>\n",
       "      <td>2016-01-15 02:00:00</td>\n",
       "      <td>6.055926</td>\n",
       "      <td>10.213995</td>\n",
       "      <td>5.383759</td>\n",
       "      <td>42.657501</td>\n",
       "      <td>68.116445</td>\n",
       "      <td>10.507046</td>\n",
       "      <td>0.953716</td>\n",
       "      <td>16.208849</td>\n",
       "      <td>2.257889</td>\n",
       "      <td>...</td>\n",
       "      <td>14.015015</td>\n",
       "      <td>-502.520901</td>\n",
       "      <td>11.912783</td>\n",
       "      <td>-501.133383</td>\n",
       "      <td>10.070913</td>\n",
       "      <td>-500.129135</td>\n",
       "      <td>8.013877</td>\n",
       "      <td>-500.517572</td>\n",
       "      <td>14.028663</td>\n",
       "      <td>-601.427363</td>\n",
       "    </tr>\n",
       "    <tr>\n",
       "      <th>3</th>\n",
       "      <td>2016-01-15 03:00:00</td>\n",
       "      <td>6.047977</td>\n",
       "      <td>9.977019</td>\n",
       "      <td>4.858634</td>\n",
       "      <td>42.689819</td>\n",
       "      <td>68.347543</td>\n",
       "      <td>10.422762</td>\n",
       "      <td>0.883763</td>\n",
       "      <td>16.532835</td>\n",
       "      <td>2.146849</td>\n",
       "      <td>...</td>\n",
       "      <td>14.036510</td>\n",
       "      <td>-500.857308</td>\n",
       "      <td>11.999550</td>\n",
       "      <td>-501.193686</td>\n",
       "      <td>9.970366</td>\n",
       "      <td>-499.201640</td>\n",
       "      <td>7.977324</td>\n",
       "      <td>-500.255908</td>\n",
       "      <td>14.005551</td>\n",
       "      <td>-599.996129</td>\n",
       "    </tr>\n",
       "    <tr>\n",
       "      <th>4</th>\n",
       "      <td>2016-01-15 04:00:00</td>\n",
       "      <td>6.148599</td>\n",
       "      <td>10.142511</td>\n",
       "      <td>4.939416</td>\n",
       "      <td>42.774141</td>\n",
       "      <td>66.927016</td>\n",
       "      <td>10.360302</td>\n",
       "      <td>0.792826</td>\n",
       "      <td>16.525686</td>\n",
       "      <td>2.055292</td>\n",
       "      <td>...</td>\n",
       "      <td>14.027298</td>\n",
       "      <td>-499.838632</td>\n",
       "      <td>11.953070</td>\n",
       "      <td>-501.053894</td>\n",
       "      <td>9.925709</td>\n",
       "      <td>-501.686727</td>\n",
       "      <td>7.894242</td>\n",
       "      <td>-500.356035</td>\n",
       "      <td>13.996647</td>\n",
       "      <td>-601.496691</td>\n",
       "    </tr>\n",
       "  </tbody>\n",
       "</table>\n",
       "<p>5 rows × 87 columns</p>\n",
       "</div>"
      ],
      "text/plain": [
       "                  date  final.output.concentrate_ag  \\\n",
       "0  2016-01-15 00:00:00                     6.055403   \n",
       "1  2016-01-15 01:00:00                     6.029369   \n",
       "2  2016-01-15 02:00:00                     6.055926   \n",
       "3  2016-01-15 03:00:00                     6.047977   \n",
       "4  2016-01-15 04:00:00                     6.148599   \n",
       "\n",
       "   final.output.concentrate_pb  final.output.concentrate_sol  \\\n",
       "0                     9.889648                      5.507324   \n",
       "1                     9.968944                      5.257781   \n",
       "2                    10.213995                      5.383759   \n",
       "3                     9.977019                      4.858634   \n",
       "4                    10.142511                      4.939416   \n",
       "\n",
       "   final.output.concentrate_au  final.output.recovery  final.output.tail_ag  \\\n",
       "0                    42.192020              70.541216             10.411962   \n",
       "1                    42.701629              69.266198             10.462676   \n",
       "2                    42.657501              68.116445             10.507046   \n",
       "3                    42.689819              68.347543             10.422762   \n",
       "4                    42.774141              66.927016             10.360302   \n",
       "\n",
       "   final.output.tail_pb  final.output.tail_sol  final.output.tail_au  ...  \\\n",
       "0              0.895447              16.904297              2.143149  ...   \n",
       "1              0.927452              16.634514              2.224930  ...   \n",
       "2              0.953716              16.208849              2.257889  ...   \n",
       "3              0.883763              16.532835              2.146849  ...   \n",
       "4              0.792826              16.525686              2.055292  ...   \n",
       "\n",
       "   secondary_cleaner.state.floatbank4_a_air  \\\n",
       "0                                 14.016835   \n",
       "1                                 13.992281   \n",
       "2                                 14.015015   \n",
       "3                                 14.036510   \n",
       "4                                 14.027298   \n",
       "\n",
       "   secondary_cleaner.state.floatbank4_a_level  \\\n",
       "0                                 -502.488007   \n",
       "1                                 -505.503262   \n",
       "2                                 -502.520901   \n",
       "3                                 -500.857308   \n",
       "4                                 -499.838632   \n",
       "\n",
       "   secondary_cleaner.state.floatbank4_b_air  \\\n",
       "0                                 12.099931   \n",
       "1                                 11.950531   \n",
       "2                                 11.912783   \n",
       "3                                 11.999550   \n",
       "4                                 11.953070   \n",
       "\n",
       "   secondary_cleaner.state.floatbank4_b_level  \\\n",
       "0                                 -504.715942   \n",
       "1                                 -501.331529   \n",
       "2                                 -501.133383   \n",
       "3                                 -501.193686   \n",
       "4                                 -501.053894   \n",
       "\n",
       "   secondary_cleaner.state.floatbank5_a_air  \\\n",
       "0                                  9.925633   \n",
       "1                                 10.039245   \n",
       "2                                 10.070913   \n",
       "3                                  9.970366   \n",
       "4                                  9.925709   \n",
       "\n",
       "   secondary_cleaner.state.floatbank5_a_level  \\\n",
       "0                                 -498.310211   \n",
       "1                                 -500.169983   \n",
       "2                                 -500.129135   \n",
       "3                                 -499.201640   \n",
       "4                                 -501.686727   \n",
       "\n",
       "   secondary_cleaner.state.floatbank5_b_air  \\\n",
       "0                                  8.079666   \n",
       "1                                  7.984757   \n",
       "2                                  8.013877   \n",
       "3                                  7.977324   \n",
       "4                                  7.894242   \n",
       "\n",
       "   secondary_cleaner.state.floatbank5_b_level  \\\n",
       "0                                 -500.470978   \n",
       "1                                 -500.582168   \n",
       "2                                 -500.517572   \n",
       "3                                 -500.255908   \n",
       "4                                 -500.356035   \n",
       "\n",
       "   secondary_cleaner.state.floatbank6_a_air  \\\n",
       "0                                 14.151341   \n",
       "1                                 13.998353   \n",
       "2                                 14.028663   \n",
       "3                                 14.005551   \n",
       "4                                 13.996647   \n",
       "\n",
       "   secondary_cleaner.state.floatbank6_a_level  \n",
       "0                                 -605.841980  \n",
       "1                                 -599.787184  \n",
       "2                                 -601.427363  \n",
       "3                                 -599.996129  \n",
       "4                                 -601.496691  \n",
       "\n",
       "[5 rows x 87 columns]"
      ]
     },
     "execution_count": 11,
     "metadata": {},
     "output_type": "execute_result"
    }
   ],
   "source": [
    "# Вывод первых пяти строк.\n",
    "df_full.head()"
   ]
  },
  {
   "cell_type": "code",
   "execution_count": 12,
   "metadata": {
    "scrolled": false
   },
   "outputs": [
    {
     "data": {
      "text/plain": [
       "secondary_cleaner.output.tail_sol           8.99%\n",
       "rougher.input.floatbank11_xanthate          2.33%\n",
       "rougher.state.floatbank10_e_air             2.24%\n",
       "primary_cleaner.output.concentrate_sol      1.90%\n",
       "secondary_cleaner.state.floatbank2_a_air    1.13%\n",
       "final.output.concentrate_sol                1.09%\n",
       "rougher.input.feed_size                     0.75%\n",
       "primary_cleaner.output.concentrate_pb       0.60%\n",
       "primary_cleaner.input.xanthate              0.54%\n",
       "final.output.tail_pb                        0.52%\n",
       "rougher.input.feed_pb                       0.51%\n",
       "rougher.input.feed_sol                      0.51%\n",
       "primary_cleaner.output.tail_sol             0.32%\n",
       "rougher.input.floatbank11_sulfate           0.23%\n",
       "primary_cleaner.input.depressant            0.19%\n",
       "rougher.input.floatbank10_sulfate           0.17%\n",
       "primary_cleaner.input.sulfate               0.12%\n",
       "rougher.output.concentrate_sol              0.12%\n",
       "secondary_cleaner.state.floatbank2_b_air    0.12%\n",
       "primary_cleaner.output.tail_pb              0.11%\n",
       "dtype: object"
      ]
     },
     "execution_count": 12,
     "metadata": {},
     "output_type": "execute_result"
    }
   ],
   "source": [
    "# Оценка пропусков.\n",
    "(df_full.isna().sum() / df_full.shape[0]).sort_values(ascending=False).apply(lambda x: f'{x:.2%}'.format()).head(20)"
   ]
  },
  {
   "cell_type": "markdown",
   "metadata": {},
   "source": [
    "#### Анализ признаков"
   ]
  },
  {
   "cell_type": "code",
   "execution_count": 13,
   "metadata": {},
   "outputs": [
    {
     "name": "stdout",
     "output_type": "stream",
     "text": [
      "date\n",
      "final.output.concentrate_ag\n",
      "final.output.concentrate_pb\n",
      "final.output.concentrate_sol\n",
      "final.output.concentrate_au\n",
      "final.output.recovery\n",
      "final.output.tail_ag\n",
      "final.output.tail_pb\n",
      "final.output.tail_sol\n",
      "final.output.tail_au\n",
      "primary_cleaner.input.sulfate\n",
      "primary_cleaner.input.depressant\n",
      "primary_cleaner.input.feed_size\n",
      "primary_cleaner.input.xanthate\n",
      "primary_cleaner.output.concentrate_ag\n",
      "primary_cleaner.output.concentrate_pb\n",
      "primary_cleaner.output.concentrate_sol\n",
      "primary_cleaner.output.concentrate_au\n",
      "primary_cleaner.output.tail_ag\n",
      "primary_cleaner.output.tail_pb\n",
      "primary_cleaner.output.tail_sol\n",
      "primary_cleaner.output.tail_au\n",
      "primary_cleaner.state.floatbank8_a_air\n",
      "primary_cleaner.state.floatbank8_a_level\n",
      "primary_cleaner.state.floatbank8_b_air\n",
      "primary_cleaner.state.floatbank8_b_level\n",
      "primary_cleaner.state.floatbank8_c_air\n",
      "primary_cleaner.state.floatbank8_c_level\n",
      "primary_cleaner.state.floatbank8_d_air\n",
      "primary_cleaner.state.floatbank8_d_level\n",
      "rougher.calculation.sulfate_to_au_concentrate\n",
      "rougher.calculation.floatbank10_sulfate_to_au_feed\n",
      "rougher.calculation.floatbank11_sulfate_to_au_feed\n",
      "rougher.calculation.au_pb_ratio\n",
      "rougher.input.feed_ag\n",
      "rougher.input.feed_pb\n",
      "rougher.input.feed_rate\n",
      "rougher.input.feed_size\n",
      "rougher.input.feed_sol\n",
      "rougher.input.feed_au\n",
      "rougher.input.floatbank10_sulfate\n",
      "rougher.input.floatbank10_xanthate\n",
      "rougher.input.floatbank11_sulfate\n",
      "rougher.input.floatbank11_xanthate\n",
      "rougher.output.concentrate_ag\n",
      "rougher.output.concentrate_pb\n",
      "rougher.output.concentrate_sol\n",
      "rougher.output.concentrate_au\n",
      "rougher.output.recovery\n",
      "rougher.output.tail_ag\n",
      "rougher.output.tail_pb\n",
      "rougher.output.tail_sol\n",
      "rougher.output.tail_au\n",
      "rougher.state.floatbank10_a_air\n",
      "rougher.state.floatbank10_a_level\n",
      "rougher.state.floatbank10_b_air\n",
      "rougher.state.floatbank10_b_level\n",
      "rougher.state.floatbank10_c_air\n",
      "rougher.state.floatbank10_c_level\n",
      "rougher.state.floatbank10_d_air\n",
      "rougher.state.floatbank10_d_level\n",
      "rougher.state.floatbank10_e_air\n",
      "rougher.state.floatbank10_e_level\n",
      "rougher.state.floatbank10_f_air\n",
      "rougher.state.floatbank10_f_level\n",
      "secondary_cleaner.output.tail_ag\n",
      "secondary_cleaner.output.tail_pb\n",
      "secondary_cleaner.output.tail_sol\n",
      "secondary_cleaner.output.tail_au\n",
      "secondary_cleaner.state.floatbank2_a_air\n",
      "secondary_cleaner.state.floatbank2_a_level\n",
      "secondary_cleaner.state.floatbank2_b_air\n",
      "secondary_cleaner.state.floatbank2_b_level\n",
      "secondary_cleaner.state.floatbank3_a_air\n",
      "secondary_cleaner.state.floatbank3_a_level\n",
      "secondary_cleaner.state.floatbank3_b_air\n",
      "secondary_cleaner.state.floatbank3_b_level\n",
      "secondary_cleaner.state.floatbank4_a_air\n",
      "secondary_cleaner.state.floatbank4_a_level\n",
      "secondary_cleaner.state.floatbank4_b_air\n",
      "secondary_cleaner.state.floatbank4_b_level\n",
      "secondary_cleaner.state.floatbank5_a_air\n",
      "secondary_cleaner.state.floatbank5_a_level\n",
      "secondary_cleaner.state.floatbank5_b_air\n",
      "secondary_cleaner.state.floatbank5_b_level\n",
      "secondary_cleaner.state.floatbank6_a_air\n",
      "secondary_cleaner.state.floatbank6_a_level\n"
     ]
    }
   ],
   "source": [
    "# Вывод признаков обучающей выборки.\n",
    "print('\\n'.join(df_train.columns))"
   ]
  },
  {
   "cell_type": "code",
   "execution_count": 14,
   "metadata": {},
   "outputs": [
    {
     "data": {
      "text/plain": [
       "array([ True,  True,  True,  True,  True,  True,  True,  True,  True,\n",
       "        True,  True,  True,  True,  True,  True,  True,  True,  True,\n",
       "        True,  True,  True,  True,  True,  True,  True,  True,  True,\n",
       "        True,  True,  True,  True,  True,  True,  True,  True,  True,\n",
       "        True,  True,  True,  True,  True,  True,  True,  True,  True,\n",
       "        True,  True,  True,  True,  True,  True,  True,  True,  True,\n",
       "        True,  True,  True,  True,  True,  True,  True,  True,  True,\n",
       "        True,  True,  True,  True,  True,  True,  True,  True,  True,\n",
       "        True,  True,  True,  True,  True,  True,  True,  True,  True,\n",
       "        True,  True,  True,  True,  True,  True])"
      ]
     },
     "execution_count": 14,
     "metadata": {},
     "output_type": "execute_result"
    }
   ],
   "source": [
    "# Проверка соответствия признаков в обучающей и полной выборках.\n",
    "df_train.columns == df_full.columns"
   ]
  },
  {
   "cell_type": "code",
   "execution_count": 15,
   "metadata": {
    "scrolled": false
   },
   "outputs": [
    {
     "name": "stdout",
     "output_type": "stream",
     "text": [
      "final.output.concentrate_ag\n",
      "final.output.concentrate_pb\n",
      "final.output.concentrate_sol\n",
      "final.output.concentrate_au\n",
      "final.output.recovery\n",
      "final.output.tail_ag\n",
      "final.output.tail_pb\n",
      "final.output.tail_sol\n",
      "final.output.tail_au\n",
      "primary_cleaner.output.concentrate_ag\n",
      "primary_cleaner.output.concentrate_pb\n",
      "primary_cleaner.output.concentrate_sol\n",
      "primary_cleaner.output.concentrate_au\n",
      "primary_cleaner.output.tail_ag\n",
      "primary_cleaner.output.tail_pb\n",
      "primary_cleaner.output.tail_sol\n",
      "primary_cleaner.output.tail_au\n",
      "rougher.calculation.sulfate_to_au_concentrate\n",
      "rougher.calculation.floatbank10_sulfate_to_au_feed\n",
      "rougher.calculation.floatbank11_sulfate_to_au_feed\n",
      "rougher.calculation.au_pb_ratio\n",
      "rougher.output.concentrate_ag\n",
      "rougher.output.concentrate_pb\n",
      "rougher.output.concentrate_sol\n",
      "rougher.output.concentrate_au\n",
      "rougher.output.recovery\n",
      "rougher.output.tail_ag\n",
      "rougher.output.tail_pb\n",
      "rougher.output.tail_sol\n",
      "rougher.output.tail_au\n",
      "secondary_cleaner.output.tail_ag\n",
      "secondary_cleaner.output.tail_pb\n",
      "secondary_cleaner.output.tail_sol\n",
      "secondary_cleaner.output.tail_au\n"
     ]
    }
   ],
   "source": [
    "# Вывод признаков, которые отсутствуют в тестовой выборке.\n",
    "columns_non_test = df_train.columns[~np.isin(df_train.columns, df_test.columns)]\n",
    "print('\\n'.join(columns_non_test))"
   ]
  },
  {
   "cell_type": "markdown",
   "metadata": {},
   "source": [
    "#### Выводы"
   ]
  },
  {
   "cell_type": "markdown",
   "metadata": {},
   "source": [
    "Результаты загрузки данных:\n",
    "- данные загружены;\n",
    "- установлено, что данные имеют пропуски;\n",
    "- набор признаков в обучающей и полной выборках совпадает;\n",
    "- в тестовой выборке отсутствуют не только целевые признаки."
   ]
  },
  {
   "cell_type": "markdown",
   "metadata": {},
   "source": [
    "<font color='blue'><b>Комментарий ревьюера: </b></font> ✔️\\\n",
    "<font color='green'>Данные загружены корректно, первичный осмотр проведен.</font>"
   ]
  },
  {
   "cell_type": "markdown",
   "metadata": {},
   "source": [
    "### Проверка эффективности обогащения на обучающей выборке"
   ]
  },
  {
   "cell_type": "markdown",
   "metadata": {},
   "source": [
    "#### Функция для расчёта эффективности обогащения"
   ]
  },
  {
   "cell_type": "code",
   "execution_count": 16,
   "metadata": {},
   "outputs": [],
   "source": [
    "# Определение функции для расчёта эффективности обогащения,\n",
    "# на вход принимает следующие параметры:\n",
    "# C — доля золота в концентрате после флотации/очистки;\n",
    "# F — доля золота в сырье/концентрате до флотации/очистки;\n",
    "# T — доля золота в отвальных хвостах после флотации/очистки.\n",
    "# Возвращает эффективность обогащения концентрата.\n",
    "def func_recovery(C, F, T):\n",
    "    return round((C * (F - T)) / (F * (C - T)) * 100, 6)"
   ]
  },
  {
   "cell_type": "markdown",
   "metadata": {},
   "source": [
    "<font color='blue'><b>Комментарий ревьюера: </b></font> ✔️\\\n",
    "<font color='green'>Расчёт верный!</font>"
   ]
  },
  {
   "cell_type": "markdown",
   "metadata": {},
   "source": [
    "#### Расчёт эффективности обогащения на обучающей выборке"
   ]
  },
  {
   "cell_type": "code",
   "execution_count": 17,
   "metadata": {},
   "outputs": [],
   "source": [
    "# Расчёт эффективности обогащения на обучающей выборке.\n",
    "recovery_train = df_train.apply(lambda row: func_recovery(C=row['rougher.output.concentrate_au'],\n",
    "                                                          F=row['rougher.input.feed_au'],\n",
    "                                                          T=row['rougher.output.tail_au']), 1)"
   ]
  },
  {
   "cell_type": "code",
   "execution_count": 18,
   "metadata": {},
   "outputs": [
    {
     "data": {
      "text/plain": [
       "0    87.107763\n",
       "1    86.843261\n",
       "2    86.842308\n",
       "3    87.226430\n",
       "4    86.688794\n",
       "dtype: float64"
      ]
     },
     "execution_count": 18,
     "metadata": {},
     "output_type": "execute_result"
    }
   ],
   "source": [
    "# Проверка: вывод первых пяти строк рассчитанной эффективности обогащения.\n",
    "recovery_train.head()"
   ]
  },
  {
   "cell_type": "markdown",
   "metadata": {},
   "source": [
    "#### Расчёт метрики \"MAE\" между рассчитанной эффективностью и загруженной"
   ]
  },
  {
   "cell_type": "code",
   "execution_count": 19,
   "metadata": {},
   "outputs": [
    {
     "data": {
      "text/plain": [
       "2.452404259423387e-07"
      ]
     },
     "execution_count": 19,
     "metadata": {},
     "output_type": "execute_result"
    }
   ],
   "source": [
    "# Расчёт метрики \"MAE\" между рассчитанной эффективностью и загруженной.\n",
    "mean_absolute_error(df_train['rougher.output.recovery'], recovery_train)"
   ]
  },
  {
   "cell_type": "markdown",
   "metadata": {},
   "source": [
    "#### Выводы"
   ]
  },
  {
   "cell_type": "markdown",
   "metadata": {},
   "source": [
    "Полученная метрика \"MAE\" между рассчитанной эффективностью и загруженной крайне мала, седьмой знак после запятой. Это значит, что средняя абсолютная разница между рассчитанными значениями и загруженными практически отсутствует, отличия на грани погрешности.\n",
    "\n",
    "Таким образом, **загруженная эффективность обогащения рассчитана правильно**."
   ]
  },
  {
   "cell_type": "markdown",
   "metadata": {},
   "source": [
    "<font color='blue'><b>Комментарий ревьюера: </b></font> ✔️\\\n",
    "<font color='green'> 👍</font>"
   ]
  },
  {
   "cell_type": "markdown",
   "metadata": {},
   "source": [
    "### Анализ признаков, недоступных в тестовой выборке"
   ]
  },
  {
   "cell_type": "code",
   "execution_count": 20,
   "metadata": {},
   "outputs": [
    {
     "name": "stdout",
     "output_type": "stream",
     "text": [
      "<class 'pandas.core.frame.DataFrame'>\n",
      "RangeIndex: 19439 entries, 0 to 19438\n",
      "Data columns (total 34 columns):\n",
      " #   Column                                              Non-Null Count  Dtype  \n",
      "---  ------                                              --------------  -----  \n",
      " 0   final.output.concentrate_ag                         19438 non-null  float64\n",
      " 1   final.output.concentrate_pb                         19438 non-null  float64\n",
      " 2   final.output.concentrate_sol                        19228 non-null  float64\n",
      " 3   final.output.concentrate_au                         19439 non-null  float64\n",
      " 4   final.output.recovery                               19439 non-null  float64\n",
      " 5   final.output.tail_ag                                19438 non-null  float64\n",
      " 6   final.output.tail_pb                                19338 non-null  float64\n",
      " 7   final.output.tail_sol                               19433 non-null  float64\n",
      " 8   final.output.tail_au                                19439 non-null  float64\n",
      " 9   primary_cleaner.output.concentrate_ag               19439 non-null  float64\n",
      " 10  primary_cleaner.output.concentrate_pb               19323 non-null  float64\n",
      " 11  primary_cleaner.output.concentrate_sol              19069 non-null  float64\n",
      " 12  primary_cleaner.output.concentrate_au               19439 non-null  float64\n",
      " 13  primary_cleaner.output.tail_ag                      19435 non-null  float64\n",
      " 14  primary_cleaner.output.tail_pb                      19418 non-null  float64\n",
      " 15  primary_cleaner.output.tail_sol                     19377 non-null  float64\n",
      " 16  primary_cleaner.output.tail_au                      19439 non-null  float64\n",
      " 17  rougher.calculation.sulfate_to_au_concentrate       19437 non-null  float64\n",
      " 18  rougher.calculation.floatbank10_sulfate_to_au_feed  19437 non-null  float64\n",
      " 19  rougher.calculation.floatbank11_sulfate_to_au_feed  19437 non-null  float64\n",
      " 20  rougher.calculation.au_pb_ratio                     19439 non-null  float64\n",
      " 21  rougher.output.concentrate_ag                       19439 non-null  float64\n",
      " 22  rougher.output.concentrate_pb                       19439 non-null  float64\n",
      " 23  rougher.output.concentrate_sol                      19416 non-null  float64\n",
      " 24  rougher.output.concentrate_au                       19439 non-null  float64\n",
      " 25  rougher.output.recovery                             19439 non-null  float64\n",
      " 26  rougher.output.tail_ag                              19438 non-null  float64\n",
      " 27  rougher.output.tail_pb                              19439 non-null  float64\n",
      " 28  rougher.output.tail_sol                             19439 non-null  float64\n",
      " 29  rougher.output.tail_au                              19439 non-null  float64\n",
      " 30  secondary_cleaner.output.tail_ag                    19437 non-null  float64\n",
      " 31  secondary_cleaner.output.tail_pb                    19427 non-null  float64\n",
      " 32  secondary_cleaner.output.tail_sol                   17691 non-null  float64\n",
      " 33  secondary_cleaner.output.tail_au                    19439 non-null  float64\n",
      "dtypes: float64(34)\n",
      "memory usage: 5.0 MB\n"
     ]
    }
   ],
   "source": [
    "# Вывод ифнормации о признаках, недоступных в тестовой выборке.\n",
    "df_full[columns_non_test].info()"
   ]
  },
  {
   "cell_type": "markdown",
   "metadata": {},
   "source": [
    "В тестовой выборке отсутствуют не только целевые признаки <code>rougher.output.recovery</code> и <code>final.output.recovery</code>, но и другие признаки из всех четырёх стадий обработки:\n",
    "- rougher — флотация\n",
    "- primary_cleaner — первичная очистка\n",
    "- secondary_cleaner — вторичная очистка\n",
    "- final — финальные характеристики\n",
    "\n",
    "Причём, что для стадии флотации <code>rougher</code>, что для финальных характеристик <code>final</code>, отсутствуют такие необходимые признаки для расчёта целевых переменных <code>recovery</code> как <code>concentrate_au</code> и <code>tail_au</code>.\n",
    "\n",
    "Резюмируя, **расчёт эффективности обогащения для тестовой выборки невозможен, а для построения и работы моделей должны использоваться только признаки, доступные в тестовой выборке**."
   ]
  },
  {
   "cell_type": "markdown",
   "metadata": {},
   "source": [
    "<font color='blue'><b>Комментарий ревьюера: </b></font> ✔️\\\n",
    "<font color='green'> Верно!</font>"
   ]
  },
  {
   "cell_type": "markdown",
   "metadata": {},
   "source": [
    "### Предобработка данных"
   ]
  },
  {
   "cell_type": "markdown",
   "metadata": {},
   "source": [
    "#### Обработка пропусков"
   ]
  },
  {
   "cell_type": "markdown",
   "metadata": {},
   "source": [
    "Согласно условию задания:\n",
    "> Данные индексируются датой и временем получения информации (признак <code>date</code>). Соседние по времени параметры часто похожи.\n",
    "\n",
    "Таким образом, **сходство соседних по времени параметров позволяет заполнять пропуски при помощи ближайщих параметров с минимальной ошибкой**."
   ]
  },
  {
   "cell_type": "code",
   "execution_count": 21,
   "metadata": {},
   "outputs": [],
   "source": [
    "# Обработка пропусков в обучающей выборке.\n",
    "df_train_p = df_train.copy()\n",
    "df_train_p = df_train_p.fillna(method='ffill')"
   ]
  },
  {
   "cell_type": "code",
   "execution_count": 22,
   "metadata": {},
   "outputs": [
    {
     "data": {
      "text/plain": [
       "0"
      ]
     },
     "execution_count": 22,
     "metadata": {},
     "output_type": "execute_result"
    }
   ],
   "source": [
    "# Проверка: вывод количества пропусков в обучающей выборке.\n",
    "df_train_p.isna().sum().sum()"
   ]
  },
  {
   "cell_type": "code",
   "execution_count": 23,
   "metadata": {},
   "outputs": [],
   "source": [
    "# Обработка пропусков в тестовой выборке.\n",
    "df_test_p = df_test.copy()\n",
    "df_test_p = df_test_p.fillna(method='ffill')"
   ]
  },
  {
   "cell_type": "code",
   "execution_count": 24,
   "metadata": {},
   "outputs": [
    {
     "data": {
      "text/plain": [
       "0"
      ]
     },
     "execution_count": 24,
     "metadata": {},
     "output_type": "execute_result"
    }
   ],
   "source": [
    "# Проверка: вывод количества пропусков в тестовой выборке.\n",
    "df_test_p.isna().sum().sum()"
   ]
  },
  {
   "cell_type": "markdown",
   "metadata": {},
   "source": [
    "<font color='blue'><b>Комментарий ревьюера: </b></font> ✔️\\\n",
    "<font color='green'> Пропуски заполнены согласно условию задачи!</font>"
   ]
  },
  {
   "cell_type": "markdown",
   "metadata": {},
   "source": [
    "#### Подготовка обучающих выборок для моделей"
   ]
  },
  {
   "cell_type": "code",
   "execution_count": 25,
   "metadata": {},
   "outputs": [],
   "source": [
    "# Выбор признаков, доступных для моделей.\n",
    "X_train = df_train_p[df_test_p.columns].copy()"
   ]
  },
  {
   "cell_type": "code",
   "execution_count": 26,
   "metadata": {
    "scrolled": false
   },
   "outputs": [],
   "source": [
    "# Исключений аномальных объектов.\n",
    "X_train = X_train.query('(`rougher.input.feed_ag` > 0) and (`rougher.input.feed_pb` > 0) and (`rougher.input.feed_au` > 0)')"
   ]
  },
  {
   "cell_type": "code",
   "execution_count": 27,
   "metadata": {},
   "outputs": [],
   "source": [
    "# Выбор признаков для построение первой модели.\n",
    "X_train_1 = X_train[X_train.columns[X_train.columns.str.contains('rougher')]]"
   ]
  },
  {
   "cell_type": "code",
   "execution_count": 28,
   "metadata": {},
   "outputs": [
    {
     "data": {
      "text/html": [
       "<div>\n",
       "<style scoped>\n",
       "    .dataframe tbody tr th:only-of-type {\n",
       "        vertical-align: middle;\n",
       "    }\n",
       "\n",
       "    .dataframe tbody tr th {\n",
       "        vertical-align: top;\n",
       "    }\n",
       "\n",
       "    .dataframe thead th {\n",
       "        text-align: right;\n",
       "    }\n",
       "</style>\n",
       "<table border=\"1\" class=\"dataframe\">\n",
       "  <thead>\n",
       "    <tr style=\"text-align: right;\">\n",
       "      <th></th>\n",
       "      <th>rougher.input.feed_ag</th>\n",
       "      <th>rougher.input.feed_pb</th>\n",
       "      <th>rougher.input.feed_rate</th>\n",
       "      <th>rougher.input.feed_size</th>\n",
       "      <th>rougher.input.feed_sol</th>\n",
       "      <th>rougher.input.feed_au</th>\n",
       "      <th>rougher.input.floatbank10_sulfate</th>\n",
       "      <th>rougher.input.floatbank10_xanthate</th>\n",
       "      <th>rougher.input.floatbank11_sulfate</th>\n",
       "      <th>rougher.input.floatbank11_xanthate</th>\n",
       "      <th>...</th>\n",
       "      <th>rougher.state.floatbank10_b_air</th>\n",
       "      <th>rougher.state.floatbank10_b_level</th>\n",
       "      <th>rougher.state.floatbank10_c_air</th>\n",
       "      <th>rougher.state.floatbank10_c_level</th>\n",
       "      <th>rougher.state.floatbank10_d_air</th>\n",
       "      <th>rougher.state.floatbank10_d_level</th>\n",
       "      <th>rougher.state.floatbank10_e_air</th>\n",
       "      <th>rougher.state.floatbank10_e_level</th>\n",
       "      <th>rougher.state.floatbank10_f_air</th>\n",
       "      <th>rougher.state.floatbank10_f_level</th>\n",
       "    </tr>\n",
       "  </thead>\n",
       "  <tbody>\n",
       "    <tr>\n",
       "      <th>0</th>\n",
       "      <td>6.100378</td>\n",
       "      <td>2.284912</td>\n",
       "      <td>523.546326</td>\n",
       "      <td>55.486599</td>\n",
       "      <td>36.808594</td>\n",
       "      <td>6.486150</td>\n",
       "      <td>11.986616</td>\n",
       "      <td>6.007990</td>\n",
       "      <td>11.836743</td>\n",
       "      <td>6.005818</td>\n",
       "      <td>...</td>\n",
       "      <td>1603.011353</td>\n",
       "      <td>-434.715027</td>\n",
       "      <td>1602.375000</td>\n",
       "      <td>-442.204468</td>\n",
       "      <td>1598.937256</td>\n",
       "      <td>-451.294128</td>\n",
       "      <td>1404.472046</td>\n",
       "      <td>-455.462982</td>\n",
       "      <td>1416.354980</td>\n",
       "      <td>-451.939636</td>\n",
       "    </tr>\n",
       "    <tr>\n",
       "      <th>1</th>\n",
       "      <td>6.161113</td>\n",
       "      <td>2.266033</td>\n",
       "      <td>525.290581</td>\n",
       "      <td>57.278666</td>\n",
       "      <td>35.753385</td>\n",
       "      <td>6.478583</td>\n",
       "      <td>11.971193</td>\n",
       "      <td>6.005766</td>\n",
       "      <td>11.996163</td>\n",
       "      <td>6.012594</td>\n",
       "      <td>...</td>\n",
       "      <td>1600.754587</td>\n",
       "      <td>-449.953435</td>\n",
       "      <td>1600.479580</td>\n",
       "      <td>-449.830646</td>\n",
       "      <td>1600.527589</td>\n",
       "      <td>-449.953649</td>\n",
       "      <td>1399.227084</td>\n",
       "      <td>-450.869848</td>\n",
       "      <td>1399.719514</td>\n",
       "      <td>-450.119001</td>\n",
       "    </tr>\n",
       "    <tr>\n",
       "      <th>2</th>\n",
       "      <td>6.116455</td>\n",
       "      <td>2.159622</td>\n",
       "      <td>530.026610</td>\n",
       "      <td>57.510649</td>\n",
       "      <td>35.971630</td>\n",
       "      <td>6.362222</td>\n",
       "      <td>11.920603</td>\n",
       "      <td>6.197377</td>\n",
       "      <td>11.920305</td>\n",
       "      <td>6.204633</td>\n",
       "      <td>...</td>\n",
       "      <td>1599.337330</td>\n",
       "      <td>-450.008530</td>\n",
       "      <td>1599.672797</td>\n",
       "      <td>-449.954491</td>\n",
       "      <td>1599.849325</td>\n",
       "      <td>-449.954185</td>\n",
       "      <td>1399.180945</td>\n",
       "      <td>-449.937588</td>\n",
       "      <td>1400.316682</td>\n",
       "      <td>-450.527147</td>\n",
       "    </tr>\n",
       "    <tr>\n",
       "      <th>3</th>\n",
       "      <td>6.043309</td>\n",
       "      <td>2.037807</td>\n",
       "      <td>542.590390</td>\n",
       "      <td>57.792734</td>\n",
       "      <td>36.862241</td>\n",
       "      <td>6.118189</td>\n",
       "      <td>11.630094</td>\n",
       "      <td>6.203177</td>\n",
       "      <td>11.692450</td>\n",
       "      <td>6.196578</td>\n",
       "      <td>...</td>\n",
       "      <td>1600.059442</td>\n",
       "      <td>-450.619948</td>\n",
       "      <td>1600.012842</td>\n",
       "      <td>-449.910497</td>\n",
       "      <td>1597.725177</td>\n",
       "      <td>-450.130127</td>\n",
       "      <td>1400.943157</td>\n",
       "      <td>-450.030142</td>\n",
       "      <td>1400.234743</td>\n",
       "      <td>-449.790835</td>\n",
       "    </tr>\n",
       "    <tr>\n",
       "      <th>4</th>\n",
       "      <td>6.060915</td>\n",
       "      <td>1.786875</td>\n",
       "      <td>540.531893</td>\n",
       "      <td>56.047189</td>\n",
       "      <td>34.347666</td>\n",
       "      <td>5.663707</td>\n",
       "      <td>10.957755</td>\n",
       "      <td>6.198826</td>\n",
       "      <td>10.960521</td>\n",
       "      <td>6.194897</td>\n",
       "      <td>...</td>\n",
       "      <td>1600.208824</td>\n",
       "      <td>-449.599614</td>\n",
       "      <td>1600.357732</td>\n",
       "      <td>-450.034364</td>\n",
       "      <td>1599.759049</td>\n",
       "      <td>-449.909799</td>\n",
       "      <td>1401.560902</td>\n",
       "      <td>-448.877187</td>\n",
       "      <td>1401.160227</td>\n",
       "      <td>-450.407128</td>\n",
       "    </tr>\n",
       "  </tbody>\n",
       "</table>\n",
       "<p>5 rows × 22 columns</p>\n",
       "</div>"
      ],
      "text/plain": [
       "   rougher.input.feed_ag  rougher.input.feed_pb  rougher.input.feed_rate  \\\n",
       "0               6.100378               2.284912               523.546326   \n",
       "1               6.161113               2.266033               525.290581   \n",
       "2               6.116455               2.159622               530.026610   \n",
       "3               6.043309               2.037807               542.590390   \n",
       "4               6.060915               1.786875               540.531893   \n",
       "\n",
       "   rougher.input.feed_size  rougher.input.feed_sol  rougher.input.feed_au  \\\n",
       "0                55.486599               36.808594               6.486150   \n",
       "1                57.278666               35.753385               6.478583   \n",
       "2                57.510649               35.971630               6.362222   \n",
       "3                57.792734               36.862241               6.118189   \n",
       "4                56.047189               34.347666               5.663707   \n",
       "\n",
       "   rougher.input.floatbank10_sulfate  rougher.input.floatbank10_xanthate  \\\n",
       "0                          11.986616                            6.007990   \n",
       "1                          11.971193                            6.005766   \n",
       "2                          11.920603                            6.197377   \n",
       "3                          11.630094                            6.203177   \n",
       "4                          10.957755                            6.198826   \n",
       "\n",
       "   rougher.input.floatbank11_sulfate  rougher.input.floatbank11_xanthate  ...  \\\n",
       "0                          11.836743                            6.005818  ...   \n",
       "1                          11.996163                            6.012594  ...   \n",
       "2                          11.920305                            6.204633  ...   \n",
       "3                          11.692450                            6.196578  ...   \n",
       "4                          10.960521                            6.194897  ...   \n",
       "\n",
       "   rougher.state.floatbank10_b_air  rougher.state.floatbank10_b_level  \\\n",
       "0                      1603.011353                        -434.715027   \n",
       "1                      1600.754587                        -449.953435   \n",
       "2                      1599.337330                        -450.008530   \n",
       "3                      1600.059442                        -450.619948   \n",
       "4                      1600.208824                        -449.599614   \n",
       "\n",
       "   rougher.state.floatbank10_c_air  rougher.state.floatbank10_c_level  \\\n",
       "0                      1602.375000                        -442.204468   \n",
       "1                      1600.479580                        -449.830646   \n",
       "2                      1599.672797                        -449.954491   \n",
       "3                      1600.012842                        -449.910497   \n",
       "4                      1600.357732                        -450.034364   \n",
       "\n",
       "   rougher.state.floatbank10_d_air  rougher.state.floatbank10_d_level  \\\n",
       "0                      1598.937256                        -451.294128   \n",
       "1                      1600.527589                        -449.953649   \n",
       "2                      1599.849325                        -449.954185   \n",
       "3                      1597.725177                        -450.130127   \n",
       "4                      1599.759049                        -449.909799   \n",
       "\n",
       "   rougher.state.floatbank10_e_air  rougher.state.floatbank10_e_level  \\\n",
       "0                      1404.472046                        -455.462982   \n",
       "1                      1399.227084                        -450.869848   \n",
       "2                      1399.180945                        -449.937588   \n",
       "3                      1400.943157                        -450.030142   \n",
       "4                      1401.560902                        -448.877187   \n",
       "\n",
       "   rougher.state.floatbank10_f_air  rougher.state.floatbank10_f_level  \n",
       "0                      1416.354980                        -451.939636  \n",
       "1                      1399.719514                        -450.119001  \n",
       "2                      1400.316682                        -450.527147  \n",
       "3                      1400.234743                        -449.790835  \n",
       "4                      1401.160227                        -450.407128  \n",
       "\n",
       "[5 rows x 22 columns]"
      ]
     },
     "execution_count": 28,
     "metadata": {},
     "output_type": "execute_result"
    }
   ],
   "source": [
    "# Проверка: вывод первых пяти строк.\n",
    "X_train_1.head()"
   ]
  },
  {
   "cell_type": "code",
   "execution_count": 29,
   "metadata": {},
   "outputs": [],
   "source": [
    "# Выбор признаков для построение второй модели.\n",
    "X_train_2 = X_train[X_train.columns[X_train.columns.str.contains('primary_cleaner|secondary_cleaner|final', regex=True)]].copy()"
   ]
  },
  {
   "cell_type": "code",
   "execution_count": 30,
   "metadata": {
    "scrolled": true
   },
   "outputs": [
    {
     "data": {
      "text/html": [
       "<div>\n",
       "<style scoped>\n",
       "    .dataframe tbody tr th:only-of-type {\n",
       "        vertical-align: middle;\n",
       "    }\n",
       "\n",
       "    .dataframe tbody tr th {\n",
       "        vertical-align: top;\n",
       "    }\n",
       "\n",
       "    .dataframe thead th {\n",
       "        text-align: right;\n",
       "    }\n",
       "</style>\n",
       "<table border=\"1\" class=\"dataframe\">\n",
       "  <thead>\n",
       "    <tr style=\"text-align: right;\">\n",
       "      <th></th>\n",
       "      <th>primary_cleaner.input.sulfate</th>\n",
       "      <th>primary_cleaner.input.depressant</th>\n",
       "      <th>primary_cleaner.input.feed_size</th>\n",
       "      <th>primary_cleaner.input.xanthate</th>\n",
       "      <th>primary_cleaner.state.floatbank8_a_air</th>\n",
       "      <th>primary_cleaner.state.floatbank8_a_level</th>\n",
       "      <th>primary_cleaner.state.floatbank8_b_air</th>\n",
       "      <th>primary_cleaner.state.floatbank8_b_level</th>\n",
       "      <th>primary_cleaner.state.floatbank8_c_air</th>\n",
       "      <th>primary_cleaner.state.floatbank8_c_level</th>\n",
       "      <th>...</th>\n",
       "      <th>secondary_cleaner.state.floatbank4_a_air</th>\n",
       "      <th>secondary_cleaner.state.floatbank4_a_level</th>\n",
       "      <th>secondary_cleaner.state.floatbank4_b_air</th>\n",
       "      <th>secondary_cleaner.state.floatbank4_b_level</th>\n",
       "      <th>secondary_cleaner.state.floatbank5_a_air</th>\n",
       "      <th>secondary_cleaner.state.floatbank5_a_level</th>\n",
       "      <th>secondary_cleaner.state.floatbank5_b_air</th>\n",
       "      <th>secondary_cleaner.state.floatbank5_b_level</th>\n",
       "      <th>secondary_cleaner.state.floatbank6_a_air</th>\n",
       "      <th>secondary_cleaner.state.floatbank6_a_level</th>\n",
       "    </tr>\n",
       "  </thead>\n",
       "  <tbody>\n",
       "    <tr>\n",
       "      <th>0</th>\n",
       "      <td>127.092003</td>\n",
       "      <td>10.128295</td>\n",
       "      <td>7.25</td>\n",
       "      <td>0.988759</td>\n",
       "      <td>1549.775757</td>\n",
       "      <td>-498.912140</td>\n",
       "      <td>1551.434204</td>\n",
       "      <td>-516.403442</td>\n",
       "      <td>1549.873901</td>\n",
       "      <td>-498.666595</td>\n",
       "      <td>...</td>\n",
       "      <td>14.016835</td>\n",
       "      <td>-502.488007</td>\n",
       "      <td>12.099931</td>\n",
       "      <td>-504.715942</td>\n",
       "      <td>9.925633</td>\n",
       "      <td>-498.310211</td>\n",
       "      <td>8.079666</td>\n",
       "      <td>-500.470978</td>\n",
       "      <td>14.151341</td>\n",
       "      <td>-605.841980</td>\n",
       "    </tr>\n",
       "    <tr>\n",
       "      <th>1</th>\n",
       "      <td>125.629232</td>\n",
       "      <td>10.296251</td>\n",
       "      <td>7.25</td>\n",
       "      <td>1.002663</td>\n",
       "      <td>1576.166671</td>\n",
       "      <td>-500.904965</td>\n",
       "      <td>1575.950626</td>\n",
       "      <td>-499.865889</td>\n",
       "      <td>1575.994189</td>\n",
       "      <td>-499.315107</td>\n",
       "      <td>...</td>\n",
       "      <td>13.992281</td>\n",
       "      <td>-505.503262</td>\n",
       "      <td>11.950531</td>\n",
       "      <td>-501.331529</td>\n",
       "      <td>10.039245</td>\n",
       "      <td>-500.169983</td>\n",
       "      <td>7.984757</td>\n",
       "      <td>-500.582168</td>\n",
       "      <td>13.998353</td>\n",
       "      <td>-599.787184</td>\n",
       "    </tr>\n",
       "    <tr>\n",
       "      <th>2</th>\n",
       "      <td>123.819808</td>\n",
       "      <td>11.316280</td>\n",
       "      <td>7.25</td>\n",
       "      <td>0.991265</td>\n",
       "      <td>1601.556163</td>\n",
       "      <td>-499.997791</td>\n",
       "      <td>1600.386685</td>\n",
       "      <td>-500.607762</td>\n",
       "      <td>1602.003542</td>\n",
       "      <td>-500.870069</td>\n",
       "      <td>...</td>\n",
       "      <td>14.015015</td>\n",
       "      <td>-502.520901</td>\n",
       "      <td>11.912783</td>\n",
       "      <td>-501.133383</td>\n",
       "      <td>10.070913</td>\n",
       "      <td>-500.129135</td>\n",
       "      <td>8.013877</td>\n",
       "      <td>-500.517572</td>\n",
       "      <td>14.028663</td>\n",
       "      <td>-601.427363</td>\n",
       "    </tr>\n",
       "    <tr>\n",
       "      <th>3</th>\n",
       "      <td>122.270188</td>\n",
       "      <td>11.322140</td>\n",
       "      <td>7.25</td>\n",
       "      <td>0.996739</td>\n",
       "      <td>1599.968720</td>\n",
       "      <td>-500.951778</td>\n",
       "      <td>1600.659236</td>\n",
       "      <td>-499.677094</td>\n",
       "      <td>1600.304144</td>\n",
       "      <td>-500.727997</td>\n",
       "      <td>...</td>\n",
       "      <td>14.036510</td>\n",
       "      <td>-500.857308</td>\n",
       "      <td>11.999550</td>\n",
       "      <td>-501.193686</td>\n",
       "      <td>9.970366</td>\n",
       "      <td>-499.201640</td>\n",
       "      <td>7.977324</td>\n",
       "      <td>-500.255908</td>\n",
       "      <td>14.005551</td>\n",
       "      <td>-599.996129</td>\n",
       "    </tr>\n",
       "    <tr>\n",
       "      <th>4</th>\n",
       "      <td>117.988169</td>\n",
       "      <td>11.913613</td>\n",
       "      <td>7.25</td>\n",
       "      <td>1.009869</td>\n",
       "      <td>1601.339707</td>\n",
       "      <td>-498.975456</td>\n",
       "      <td>1601.437854</td>\n",
       "      <td>-500.323246</td>\n",
       "      <td>1599.581894</td>\n",
       "      <td>-500.888152</td>\n",
       "      <td>...</td>\n",
       "      <td>14.027298</td>\n",
       "      <td>-499.838632</td>\n",
       "      <td>11.953070</td>\n",
       "      <td>-501.053894</td>\n",
       "      <td>9.925709</td>\n",
       "      <td>-501.686727</td>\n",
       "      <td>7.894242</td>\n",
       "      <td>-500.356035</td>\n",
       "      <td>13.996647</td>\n",
       "      <td>-601.496691</td>\n",
       "    </tr>\n",
       "  </tbody>\n",
       "</table>\n",
       "<p>5 rows × 30 columns</p>\n",
       "</div>"
      ],
      "text/plain": [
       "   primary_cleaner.input.sulfate  primary_cleaner.input.depressant  \\\n",
       "0                     127.092003                         10.128295   \n",
       "1                     125.629232                         10.296251   \n",
       "2                     123.819808                         11.316280   \n",
       "3                     122.270188                         11.322140   \n",
       "4                     117.988169                         11.913613   \n",
       "\n",
       "   primary_cleaner.input.feed_size  primary_cleaner.input.xanthate  \\\n",
       "0                             7.25                        0.988759   \n",
       "1                             7.25                        1.002663   \n",
       "2                             7.25                        0.991265   \n",
       "3                             7.25                        0.996739   \n",
       "4                             7.25                        1.009869   \n",
       "\n",
       "   primary_cleaner.state.floatbank8_a_air  \\\n",
       "0                             1549.775757   \n",
       "1                             1576.166671   \n",
       "2                             1601.556163   \n",
       "3                             1599.968720   \n",
       "4                             1601.339707   \n",
       "\n",
       "   primary_cleaner.state.floatbank8_a_level  \\\n",
       "0                               -498.912140   \n",
       "1                               -500.904965   \n",
       "2                               -499.997791   \n",
       "3                               -500.951778   \n",
       "4                               -498.975456   \n",
       "\n",
       "   primary_cleaner.state.floatbank8_b_air  \\\n",
       "0                             1551.434204   \n",
       "1                             1575.950626   \n",
       "2                             1600.386685   \n",
       "3                             1600.659236   \n",
       "4                             1601.437854   \n",
       "\n",
       "   primary_cleaner.state.floatbank8_b_level  \\\n",
       "0                               -516.403442   \n",
       "1                               -499.865889   \n",
       "2                               -500.607762   \n",
       "3                               -499.677094   \n",
       "4                               -500.323246   \n",
       "\n",
       "   primary_cleaner.state.floatbank8_c_air  \\\n",
       "0                             1549.873901   \n",
       "1                             1575.994189   \n",
       "2                             1602.003542   \n",
       "3                             1600.304144   \n",
       "4                             1599.581894   \n",
       "\n",
       "   primary_cleaner.state.floatbank8_c_level  ...  \\\n",
       "0                               -498.666595  ...   \n",
       "1                               -499.315107  ...   \n",
       "2                               -500.870069  ...   \n",
       "3                               -500.727997  ...   \n",
       "4                               -500.888152  ...   \n",
       "\n",
       "   secondary_cleaner.state.floatbank4_a_air  \\\n",
       "0                                 14.016835   \n",
       "1                                 13.992281   \n",
       "2                                 14.015015   \n",
       "3                                 14.036510   \n",
       "4                                 14.027298   \n",
       "\n",
       "   secondary_cleaner.state.floatbank4_a_level  \\\n",
       "0                                 -502.488007   \n",
       "1                                 -505.503262   \n",
       "2                                 -502.520901   \n",
       "3                                 -500.857308   \n",
       "4                                 -499.838632   \n",
       "\n",
       "   secondary_cleaner.state.floatbank4_b_air  \\\n",
       "0                                 12.099931   \n",
       "1                                 11.950531   \n",
       "2                                 11.912783   \n",
       "3                                 11.999550   \n",
       "4                                 11.953070   \n",
       "\n",
       "   secondary_cleaner.state.floatbank4_b_level  \\\n",
       "0                                 -504.715942   \n",
       "1                                 -501.331529   \n",
       "2                                 -501.133383   \n",
       "3                                 -501.193686   \n",
       "4                                 -501.053894   \n",
       "\n",
       "   secondary_cleaner.state.floatbank5_a_air  \\\n",
       "0                                  9.925633   \n",
       "1                                 10.039245   \n",
       "2                                 10.070913   \n",
       "3                                  9.970366   \n",
       "4                                  9.925709   \n",
       "\n",
       "   secondary_cleaner.state.floatbank5_a_level  \\\n",
       "0                                 -498.310211   \n",
       "1                                 -500.169983   \n",
       "2                                 -500.129135   \n",
       "3                                 -499.201640   \n",
       "4                                 -501.686727   \n",
       "\n",
       "   secondary_cleaner.state.floatbank5_b_air  \\\n",
       "0                                  8.079666   \n",
       "1                                  7.984757   \n",
       "2                                  8.013877   \n",
       "3                                  7.977324   \n",
       "4                                  7.894242   \n",
       "\n",
       "   secondary_cleaner.state.floatbank5_b_level  \\\n",
       "0                                 -500.470978   \n",
       "1                                 -500.582168   \n",
       "2                                 -500.517572   \n",
       "3                                 -500.255908   \n",
       "4                                 -500.356035   \n",
       "\n",
       "   secondary_cleaner.state.floatbank6_a_air  \\\n",
       "0                                 14.151341   \n",
       "1                                 13.998353   \n",
       "2                                 14.028663   \n",
       "3                                 14.005551   \n",
       "4                                 13.996647   \n",
       "\n",
       "   secondary_cleaner.state.floatbank6_a_level  \n",
       "0                                 -605.841980  \n",
       "1                                 -599.787184  \n",
       "2                                 -601.427363  \n",
       "3                                 -599.996129  \n",
       "4                                 -601.496691  \n",
       "\n",
       "[5 rows x 30 columns]"
      ]
     },
     "execution_count": 30,
     "metadata": {},
     "output_type": "execute_result"
    }
   ],
   "source": [
    "# Проверка: вывод первых пяти строк.\n",
    "X_train_2.head()"
   ]
  },
  {
   "cell_type": "markdown",
   "metadata": {},
   "source": [
    "<font color='blue'><b>Комментарий ревьюера: </b></font> ✔️\\\n",
    "<font color='green'> 👍</font>"
   ]
  },
  {
   "cell_type": "markdown",
   "metadata": {},
   "source": [
    "#### Подготовка тестовых выборок для моделей"
   ]
  },
  {
   "cell_type": "code",
   "execution_count": 31,
   "metadata": {},
   "outputs": [],
   "source": [
    "# Выбор признаков для построение первой модели.\n",
    "X_test_1 = df_test_p[df_test_p.columns[df_test_p.columns.str.contains('rougher')]].copy()"
   ]
  },
  {
   "cell_type": "code",
   "execution_count": 32,
   "metadata": {},
   "outputs": [
    {
     "data": {
      "text/html": [
       "<div>\n",
       "<style scoped>\n",
       "    .dataframe tbody tr th:only-of-type {\n",
       "        vertical-align: middle;\n",
       "    }\n",
       "\n",
       "    .dataframe tbody tr th {\n",
       "        vertical-align: top;\n",
       "    }\n",
       "\n",
       "    .dataframe thead th {\n",
       "        text-align: right;\n",
       "    }\n",
       "</style>\n",
       "<table border=\"1\" class=\"dataframe\">\n",
       "  <thead>\n",
       "    <tr style=\"text-align: right;\">\n",
       "      <th></th>\n",
       "      <th>rougher.input.feed_ag</th>\n",
       "      <th>rougher.input.feed_pb</th>\n",
       "      <th>rougher.input.feed_rate</th>\n",
       "      <th>rougher.input.feed_size</th>\n",
       "      <th>rougher.input.feed_sol</th>\n",
       "      <th>rougher.input.feed_au</th>\n",
       "      <th>rougher.input.floatbank10_sulfate</th>\n",
       "      <th>rougher.input.floatbank10_xanthate</th>\n",
       "      <th>rougher.input.floatbank11_sulfate</th>\n",
       "      <th>rougher.input.floatbank11_xanthate</th>\n",
       "      <th>...</th>\n",
       "      <th>rougher.state.floatbank10_b_air</th>\n",
       "      <th>rougher.state.floatbank10_b_level</th>\n",
       "      <th>rougher.state.floatbank10_c_air</th>\n",
       "      <th>rougher.state.floatbank10_c_level</th>\n",
       "      <th>rougher.state.floatbank10_d_air</th>\n",
       "      <th>rougher.state.floatbank10_d_level</th>\n",
       "      <th>rougher.state.floatbank10_e_air</th>\n",
       "      <th>rougher.state.floatbank10_e_level</th>\n",
       "      <th>rougher.state.floatbank10_f_air</th>\n",
       "      <th>rougher.state.floatbank10_f_level</th>\n",
       "    </tr>\n",
       "  </thead>\n",
       "  <tbody>\n",
       "    <tr>\n",
       "      <th>0</th>\n",
       "      <td>13.128569</td>\n",
       "      <td>5.636710</td>\n",
       "      <td>489.793655</td>\n",
       "      <td>62.710452</td>\n",
       "      <td>42.022440</td>\n",
       "      <td>12.084103</td>\n",
       "      <td>16.922877</td>\n",
       "      <td>6.153479</td>\n",
       "      <td>16.867518</td>\n",
       "      <td>6.150709</td>\n",
       "      <td>...</td>\n",
       "      <td>1249.738612</td>\n",
       "      <td>-399.107531</td>\n",
       "      <td>1249.750520</td>\n",
       "      <td>-399.396730</td>\n",
       "      <td>1198.287855</td>\n",
       "      <td>-399.488594</td>\n",
       "      <td>999.472250</td>\n",
       "      <td>-399.530962</td>\n",
       "      <td>949.566189</td>\n",
       "      <td>-398.180807</td>\n",
       "    </tr>\n",
       "    <tr>\n",
       "      <th>1</th>\n",
       "      <td>13.036280</td>\n",
       "      <td>5.526065</td>\n",
       "      <td>490.104534</td>\n",
       "      <td>61.961163</td>\n",
       "      <td>41.187903</td>\n",
       "      <td>11.918977</td>\n",
       "      <td>17.002532</td>\n",
       "      <td>5.999043</td>\n",
       "      <td>16.996063</td>\n",
       "      <td>6.002315</td>\n",
       "      <td>...</td>\n",
       "      <td>1248.395457</td>\n",
       "      <td>-399.946025</td>\n",
       "      <td>1249.514451</td>\n",
       "      <td>-399.630810</td>\n",
       "      <td>1200.506459</td>\n",
       "      <td>-399.942434</td>\n",
       "      <td>1000.002114</td>\n",
       "      <td>-399.491528</td>\n",
       "      <td>950.200009</td>\n",
       "      <td>-405.787514</td>\n",
       "    </tr>\n",
       "    <tr>\n",
       "      <th>2</th>\n",
       "      <td>13.138412</td>\n",
       "      <td>5.426561</td>\n",
       "      <td>489.617969</td>\n",
       "      <td>66.903807</td>\n",
       "      <td>42.546294</td>\n",
       "      <td>12.091332</td>\n",
       "      <td>16.992520</td>\n",
       "      <td>5.850632</td>\n",
       "      <td>16.982096</td>\n",
       "      <td>5.853594</td>\n",
       "      <td>...</td>\n",
       "      <td>1247.440748</td>\n",
       "      <td>-400.264330</td>\n",
       "      <td>1248.207204</td>\n",
       "      <td>-401.074405</td>\n",
       "      <td>1199.770026</td>\n",
       "      <td>-400.790582</td>\n",
       "      <td>999.925519</td>\n",
       "      <td>-399.236999</td>\n",
       "      <td>950.320481</td>\n",
       "      <td>-400.864340</td>\n",
       "    </tr>\n",
       "    <tr>\n",
       "      <th>3</th>\n",
       "      <td>12.400507</td>\n",
       "      <td>5.114758</td>\n",
       "      <td>476.618130</td>\n",
       "      <td>59.865919</td>\n",
       "      <td>41.060195</td>\n",
       "      <td>12.181597</td>\n",
       "      <td>16.532144</td>\n",
       "      <td>5.801935</td>\n",
       "      <td>16.515277</td>\n",
       "      <td>5.803657</td>\n",
       "      <td>...</td>\n",
       "      <td>1251.322675</td>\n",
       "      <td>-398.655289</td>\n",
       "      <td>1250.493702</td>\n",
       "      <td>-399.746728</td>\n",
       "      <td>1199.398691</td>\n",
       "      <td>-397.503052</td>\n",
       "      <td>1001.930679</td>\n",
       "      <td>-400.437573</td>\n",
       "      <td>950.735324</td>\n",
       "      <td>-399.802986</td>\n",
       "    </tr>\n",
       "    <tr>\n",
       "      <th>4</th>\n",
       "      <td>11.327427</td>\n",
       "      <td>4.767383</td>\n",
       "      <td>488.248117</td>\n",
       "      <td>63.315324</td>\n",
       "      <td>41.269161</td>\n",
       "      <td>11.290425</td>\n",
       "      <td>13.607257</td>\n",
       "      <td>5.738081</td>\n",
       "      <td>13.650053</td>\n",
       "      <td>5.739634</td>\n",
       "      <td>...</td>\n",
       "      <td>1304.658848</td>\n",
       "      <td>-399.511519</td>\n",
       "      <td>1306.455515</td>\n",
       "      <td>-399.050685</td>\n",
       "      <td>1248.699349</td>\n",
       "      <td>-400.876894</td>\n",
       "      <td>1058.839106</td>\n",
       "      <td>-398.988239</td>\n",
       "      <td>949.645313</td>\n",
       "      <td>-399.277632</td>\n",
       "    </tr>\n",
       "  </tbody>\n",
       "</table>\n",
       "<p>5 rows × 22 columns</p>\n",
       "</div>"
      ],
      "text/plain": [
       "   rougher.input.feed_ag  rougher.input.feed_pb  rougher.input.feed_rate  \\\n",
       "0              13.128569               5.636710               489.793655   \n",
       "1              13.036280               5.526065               490.104534   \n",
       "2              13.138412               5.426561               489.617969   \n",
       "3              12.400507               5.114758               476.618130   \n",
       "4              11.327427               4.767383               488.248117   \n",
       "\n",
       "   rougher.input.feed_size  rougher.input.feed_sol  rougher.input.feed_au  \\\n",
       "0                62.710452               42.022440              12.084103   \n",
       "1                61.961163               41.187903              11.918977   \n",
       "2                66.903807               42.546294              12.091332   \n",
       "3                59.865919               41.060195              12.181597   \n",
       "4                63.315324               41.269161              11.290425   \n",
       "\n",
       "   rougher.input.floatbank10_sulfate  rougher.input.floatbank10_xanthate  \\\n",
       "0                          16.922877                            6.153479   \n",
       "1                          17.002532                            5.999043   \n",
       "2                          16.992520                            5.850632   \n",
       "3                          16.532144                            5.801935   \n",
       "4                          13.607257                            5.738081   \n",
       "\n",
       "   rougher.input.floatbank11_sulfate  rougher.input.floatbank11_xanthate  ...  \\\n",
       "0                          16.867518                            6.150709  ...   \n",
       "1                          16.996063                            6.002315  ...   \n",
       "2                          16.982096                            5.853594  ...   \n",
       "3                          16.515277                            5.803657  ...   \n",
       "4                          13.650053                            5.739634  ...   \n",
       "\n",
       "   rougher.state.floatbank10_b_air  rougher.state.floatbank10_b_level  \\\n",
       "0                      1249.738612                        -399.107531   \n",
       "1                      1248.395457                        -399.946025   \n",
       "2                      1247.440748                        -400.264330   \n",
       "3                      1251.322675                        -398.655289   \n",
       "4                      1304.658848                        -399.511519   \n",
       "\n",
       "   rougher.state.floatbank10_c_air  rougher.state.floatbank10_c_level  \\\n",
       "0                      1249.750520                        -399.396730   \n",
       "1                      1249.514451                        -399.630810   \n",
       "2                      1248.207204                        -401.074405   \n",
       "3                      1250.493702                        -399.746728   \n",
       "4                      1306.455515                        -399.050685   \n",
       "\n",
       "   rougher.state.floatbank10_d_air  rougher.state.floatbank10_d_level  \\\n",
       "0                      1198.287855                        -399.488594   \n",
       "1                      1200.506459                        -399.942434   \n",
       "2                      1199.770026                        -400.790582   \n",
       "3                      1199.398691                        -397.503052   \n",
       "4                      1248.699349                        -400.876894   \n",
       "\n",
       "   rougher.state.floatbank10_e_air  rougher.state.floatbank10_e_level  \\\n",
       "0                       999.472250                        -399.530962   \n",
       "1                      1000.002114                        -399.491528   \n",
       "2                       999.925519                        -399.236999   \n",
       "3                      1001.930679                        -400.437573   \n",
       "4                      1058.839106                        -398.988239   \n",
       "\n",
       "   rougher.state.floatbank10_f_air  rougher.state.floatbank10_f_level  \n",
       "0                       949.566189                        -398.180807  \n",
       "1                       950.200009                        -405.787514  \n",
       "2                       950.320481                        -400.864340  \n",
       "3                       950.735324                        -399.802986  \n",
       "4                       949.645313                        -399.277632  \n",
       "\n",
       "[5 rows x 22 columns]"
      ]
     },
     "execution_count": 32,
     "metadata": {},
     "output_type": "execute_result"
    }
   ],
   "source": [
    "# Проверка: вывод первых пяти строк.\n",
    "X_test_1.head()"
   ]
  },
  {
   "cell_type": "code",
   "execution_count": 33,
   "metadata": {},
   "outputs": [],
   "source": [
    "# Выбор признаков для построение второй модели.\n",
    "X_test_2 = df_test_p[df_test_p.columns[df_test_p.columns.str.contains('primary_cleaner|secondary_cleaner|final',\n",
    "                                                                      regex=True)]].copy()"
   ]
  },
  {
   "cell_type": "code",
   "execution_count": 34,
   "metadata": {
    "scrolled": true
   },
   "outputs": [
    {
     "data": {
      "text/html": [
       "<div>\n",
       "<style scoped>\n",
       "    .dataframe tbody tr th:only-of-type {\n",
       "        vertical-align: middle;\n",
       "    }\n",
       "\n",
       "    .dataframe tbody tr th {\n",
       "        vertical-align: top;\n",
       "    }\n",
       "\n",
       "    .dataframe thead th {\n",
       "        text-align: right;\n",
       "    }\n",
       "</style>\n",
       "<table border=\"1\" class=\"dataframe\">\n",
       "  <thead>\n",
       "    <tr style=\"text-align: right;\">\n",
       "      <th></th>\n",
       "      <th>primary_cleaner.input.sulfate</th>\n",
       "      <th>primary_cleaner.input.depressant</th>\n",
       "      <th>primary_cleaner.input.feed_size</th>\n",
       "      <th>primary_cleaner.input.xanthate</th>\n",
       "      <th>primary_cleaner.state.floatbank8_a_air</th>\n",
       "      <th>primary_cleaner.state.floatbank8_a_level</th>\n",
       "      <th>primary_cleaner.state.floatbank8_b_air</th>\n",
       "      <th>primary_cleaner.state.floatbank8_b_level</th>\n",
       "      <th>primary_cleaner.state.floatbank8_c_air</th>\n",
       "      <th>primary_cleaner.state.floatbank8_c_level</th>\n",
       "      <th>...</th>\n",
       "      <th>secondary_cleaner.state.floatbank4_a_air</th>\n",
       "      <th>secondary_cleaner.state.floatbank4_a_level</th>\n",
       "      <th>secondary_cleaner.state.floatbank4_b_air</th>\n",
       "      <th>secondary_cleaner.state.floatbank4_b_level</th>\n",
       "      <th>secondary_cleaner.state.floatbank5_a_air</th>\n",
       "      <th>secondary_cleaner.state.floatbank5_a_level</th>\n",
       "      <th>secondary_cleaner.state.floatbank5_b_air</th>\n",
       "      <th>secondary_cleaner.state.floatbank5_b_level</th>\n",
       "      <th>secondary_cleaner.state.floatbank6_a_air</th>\n",
       "      <th>secondary_cleaner.state.floatbank6_a_level</th>\n",
       "    </tr>\n",
       "  </thead>\n",
       "  <tbody>\n",
       "    <tr>\n",
       "      <th>0</th>\n",
       "      <td>210.800909</td>\n",
       "      <td>14.993118</td>\n",
       "      <td>8.080000</td>\n",
       "      <td>1.005021</td>\n",
       "      <td>1398.981301</td>\n",
       "      <td>-500.225577</td>\n",
       "      <td>1399.144926</td>\n",
       "      <td>-499.919735</td>\n",
       "      <td>1400.102998</td>\n",
       "      <td>-500.704369</td>\n",
       "      <td>...</td>\n",
       "      <td>12.023554</td>\n",
       "      <td>-497.795834</td>\n",
       "      <td>8.016656</td>\n",
       "      <td>-501.289139</td>\n",
       "      <td>7.946562</td>\n",
       "      <td>-432.317850</td>\n",
       "      <td>4.872511</td>\n",
       "      <td>-500.037437</td>\n",
       "      <td>26.705889</td>\n",
       "      <td>-499.709414</td>\n",
       "    </tr>\n",
       "    <tr>\n",
       "      <th>1</th>\n",
       "      <td>215.392455</td>\n",
       "      <td>14.987471</td>\n",
       "      <td>8.080000</td>\n",
       "      <td>0.990469</td>\n",
       "      <td>1398.777912</td>\n",
       "      <td>-500.057435</td>\n",
       "      <td>1398.055362</td>\n",
       "      <td>-499.778182</td>\n",
       "      <td>1396.151033</td>\n",
       "      <td>-499.240168</td>\n",
       "      <td>...</td>\n",
       "      <td>12.058140</td>\n",
       "      <td>-498.695773</td>\n",
       "      <td>8.130979</td>\n",
       "      <td>-499.634209</td>\n",
       "      <td>7.958270</td>\n",
       "      <td>-525.839648</td>\n",
       "      <td>4.878850</td>\n",
       "      <td>-500.162375</td>\n",
       "      <td>25.019940</td>\n",
       "      <td>-499.819438</td>\n",
       "    </tr>\n",
       "    <tr>\n",
       "      <th>2</th>\n",
       "      <td>215.259946</td>\n",
       "      <td>12.884934</td>\n",
       "      <td>7.786667</td>\n",
       "      <td>0.996043</td>\n",
       "      <td>1398.493666</td>\n",
       "      <td>-500.868360</td>\n",
       "      <td>1398.860436</td>\n",
       "      <td>-499.764529</td>\n",
       "      <td>1398.075709</td>\n",
       "      <td>-502.151509</td>\n",
       "      <td>...</td>\n",
       "      <td>11.962366</td>\n",
       "      <td>-498.767484</td>\n",
       "      <td>8.096893</td>\n",
       "      <td>-500.827423</td>\n",
       "      <td>8.071056</td>\n",
       "      <td>-500.801673</td>\n",
       "      <td>4.905125</td>\n",
       "      <td>-499.828510</td>\n",
       "      <td>24.994862</td>\n",
       "      <td>-500.622559</td>\n",
       "    </tr>\n",
       "    <tr>\n",
       "      <th>3</th>\n",
       "      <td>215.336236</td>\n",
       "      <td>12.006805</td>\n",
       "      <td>7.640000</td>\n",
       "      <td>0.863514</td>\n",
       "      <td>1399.618111</td>\n",
       "      <td>-498.863574</td>\n",
       "      <td>1397.440120</td>\n",
       "      <td>-499.211024</td>\n",
       "      <td>1400.129303</td>\n",
       "      <td>-498.355873</td>\n",
       "      <td>...</td>\n",
       "      <td>12.033091</td>\n",
       "      <td>-498.350935</td>\n",
       "      <td>8.074946</td>\n",
       "      <td>-499.474407</td>\n",
       "      <td>7.897085</td>\n",
       "      <td>-500.868509</td>\n",
       "      <td>4.931400</td>\n",
       "      <td>-499.963623</td>\n",
       "      <td>24.948919</td>\n",
       "      <td>-498.709987</td>\n",
       "    </tr>\n",
       "    <tr>\n",
       "      <th>4</th>\n",
       "      <td>199.099327</td>\n",
       "      <td>10.682530</td>\n",
       "      <td>7.530000</td>\n",
       "      <td>0.805575</td>\n",
       "      <td>1401.268123</td>\n",
       "      <td>-500.808305</td>\n",
       "      <td>1398.128818</td>\n",
       "      <td>-499.504543</td>\n",
       "      <td>1402.172226</td>\n",
       "      <td>-500.810606</td>\n",
       "      <td>...</td>\n",
       "      <td>12.025367</td>\n",
       "      <td>-500.786497</td>\n",
       "      <td>8.054678</td>\n",
       "      <td>-500.397500</td>\n",
       "      <td>8.107890</td>\n",
       "      <td>-509.526725</td>\n",
       "      <td>4.957674</td>\n",
       "      <td>-500.360026</td>\n",
       "      <td>25.003331</td>\n",
       "      <td>-500.856333</td>\n",
       "    </tr>\n",
       "  </tbody>\n",
       "</table>\n",
       "<p>5 rows × 30 columns</p>\n",
       "</div>"
      ],
      "text/plain": [
       "   primary_cleaner.input.sulfate  primary_cleaner.input.depressant  \\\n",
       "0                     210.800909                         14.993118   \n",
       "1                     215.392455                         14.987471   \n",
       "2                     215.259946                         12.884934   \n",
       "3                     215.336236                         12.006805   \n",
       "4                     199.099327                         10.682530   \n",
       "\n",
       "   primary_cleaner.input.feed_size  primary_cleaner.input.xanthate  \\\n",
       "0                         8.080000                        1.005021   \n",
       "1                         8.080000                        0.990469   \n",
       "2                         7.786667                        0.996043   \n",
       "3                         7.640000                        0.863514   \n",
       "4                         7.530000                        0.805575   \n",
       "\n",
       "   primary_cleaner.state.floatbank8_a_air  \\\n",
       "0                             1398.981301   \n",
       "1                             1398.777912   \n",
       "2                             1398.493666   \n",
       "3                             1399.618111   \n",
       "4                             1401.268123   \n",
       "\n",
       "   primary_cleaner.state.floatbank8_a_level  \\\n",
       "0                               -500.225577   \n",
       "1                               -500.057435   \n",
       "2                               -500.868360   \n",
       "3                               -498.863574   \n",
       "4                               -500.808305   \n",
       "\n",
       "   primary_cleaner.state.floatbank8_b_air  \\\n",
       "0                             1399.144926   \n",
       "1                             1398.055362   \n",
       "2                             1398.860436   \n",
       "3                             1397.440120   \n",
       "4                             1398.128818   \n",
       "\n",
       "   primary_cleaner.state.floatbank8_b_level  \\\n",
       "0                               -499.919735   \n",
       "1                               -499.778182   \n",
       "2                               -499.764529   \n",
       "3                               -499.211024   \n",
       "4                               -499.504543   \n",
       "\n",
       "   primary_cleaner.state.floatbank8_c_air  \\\n",
       "0                             1400.102998   \n",
       "1                             1396.151033   \n",
       "2                             1398.075709   \n",
       "3                             1400.129303   \n",
       "4                             1402.172226   \n",
       "\n",
       "   primary_cleaner.state.floatbank8_c_level  ...  \\\n",
       "0                               -500.704369  ...   \n",
       "1                               -499.240168  ...   \n",
       "2                               -502.151509  ...   \n",
       "3                               -498.355873  ...   \n",
       "4                               -500.810606  ...   \n",
       "\n",
       "   secondary_cleaner.state.floatbank4_a_air  \\\n",
       "0                                 12.023554   \n",
       "1                                 12.058140   \n",
       "2                                 11.962366   \n",
       "3                                 12.033091   \n",
       "4                                 12.025367   \n",
       "\n",
       "   secondary_cleaner.state.floatbank4_a_level  \\\n",
       "0                                 -497.795834   \n",
       "1                                 -498.695773   \n",
       "2                                 -498.767484   \n",
       "3                                 -498.350935   \n",
       "4                                 -500.786497   \n",
       "\n",
       "   secondary_cleaner.state.floatbank4_b_air  \\\n",
       "0                                  8.016656   \n",
       "1                                  8.130979   \n",
       "2                                  8.096893   \n",
       "3                                  8.074946   \n",
       "4                                  8.054678   \n",
       "\n",
       "   secondary_cleaner.state.floatbank4_b_level  \\\n",
       "0                                 -501.289139   \n",
       "1                                 -499.634209   \n",
       "2                                 -500.827423   \n",
       "3                                 -499.474407   \n",
       "4                                 -500.397500   \n",
       "\n",
       "   secondary_cleaner.state.floatbank5_a_air  \\\n",
       "0                                  7.946562   \n",
       "1                                  7.958270   \n",
       "2                                  8.071056   \n",
       "3                                  7.897085   \n",
       "4                                  8.107890   \n",
       "\n",
       "   secondary_cleaner.state.floatbank5_a_level  \\\n",
       "0                                 -432.317850   \n",
       "1                                 -525.839648   \n",
       "2                                 -500.801673   \n",
       "3                                 -500.868509   \n",
       "4                                 -509.526725   \n",
       "\n",
       "   secondary_cleaner.state.floatbank5_b_air  \\\n",
       "0                                  4.872511   \n",
       "1                                  4.878850   \n",
       "2                                  4.905125   \n",
       "3                                  4.931400   \n",
       "4                                  4.957674   \n",
       "\n",
       "   secondary_cleaner.state.floatbank5_b_level  \\\n",
       "0                                 -500.037437   \n",
       "1                                 -500.162375   \n",
       "2                                 -499.828510   \n",
       "3                                 -499.963623   \n",
       "4                                 -500.360026   \n",
       "\n",
       "   secondary_cleaner.state.floatbank6_a_air  \\\n",
       "0                                 26.705889   \n",
       "1                                 25.019940   \n",
       "2                                 24.994862   \n",
       "3                                 24.948919   \n",
       "4                                 25.003331   \n",
       "\n",
       "   secondary_cleaner.state.floatbank6_a_level  \n",
       "0                                 -499.709414  \n",
       "1                                 -499.819438  \n",
       "2                                 -500.622559  \n",
       "3                                 -498.709987  \n",
       "4                                 -500.856333  \n",
       "\n",
       "[5 rows x 30 columns]"
      ]
     },
     "execution_count": 34,
     "metadata": {},
     "output_type": "execute_result"
    }
   ],
   "source": [
    "# Проверка: вывод первых пяти строк.\n",
    "X_test_2.head()"
   ]
  },
  {
   "cell_type": "markdown",
   "metadata": {},
   "source": [
    "<font color='blue'><b>Комментарий ревьюера: </b></font> ✔️\\\n",
    "<font color='green'> 👍</font>"
   ]
  },
  {
   "cell_type": "markdown",
   "metadata": {},
   "source": [
    "#### Подготовка целевой переменной для моделей"
   ]
  },
  {
   "cell_type": "code",
   "execution_count": 35,
   "metadata": {
    "scrolled": false
   },
   "outputs": [
    {
     "data": {
      "text/html": [
       "<div>\n",
       "<style scoped>\n",
       "    .dataframe tbody tr th:only-of-type {\n",
       "        vertical-align: middle;\n",
       "    }\n",
       "\n",
       "    .dataframe tbody tr th {\n",
       "        vertical-align: top;\n",
       "    }\n",
       "\n",
       "    .dataframe thead th {\n",
       "        text-align: right;\n",
       "    }\n",
       "</style>\n",
       "<table border=\"1\" class=\"dataframe\">\n",
       "  <thead>\n",
       "    <tr style=\"text-align: right;\">\n",
       "      <th></th>\n",
       "      <th>rougher.output.recovery</th>\n",
       "    </tr>\n",
       "  </thead>\n",
       "  <tbody>\n",
       "    <tr>\n",
       "      <th>0</th>\n",
       "      <td>87.107763</td>\n",
       "    </tr>\n",
       "    <tr>\n",
       "      <th>1</th>\n",
       "      <td>86.843261</td>\n",
       "    </tr>\n",
       "    <tr>\n",
       "      <th>2</th>\n",
       "      <td>86.842308</td>\n",
       "    </tr>\n",
       "    <tr>\n",
       "      <th>3</th>\n",
       "      <td>87.226430</td>\n",
       "    </tr>\n",
       "    <tr>\n",
       "      <th>4</th>\n",
       "      <td>86.688794</td>\n",
       "    </tr>\n",
       "  </tbody>\n",
       "</table>\n",
       "</div>"
      ],
      "text/plain": [
       "   rougher.output.recovery\n",
       "0                87.107763\n",
       "1                86.843261\n",
       "2                86.842308\n",
       "3                87.226430\n",
       "4                86.688794"
      ]
     },
     "execution_count": 35,
     "metadata": {},
     "output_type": "execute_result"
    }
   ],
   "source": [
    "# Целевая переменная для обучения первой модели.\n",
    "y_train_1 = df_train_p[['rougher.output.recovery']].copy()\n",
    "\n",
    "# Проверка: вывод первых пяти строк.\n",
    "y_train_1.head()"
   ]
  },
  {
   "cell_type": "code",
   "execution_count": 36,
   "metadata": {},
   "outputs": [
    {
     "data": {
      "text/html": [
       "<div>\n",
       "<style scoped>\n",
       "    .dataframe tbody tr th:only-of-type {\n",
       "        vertical-align: middle;\n",
       "    }\n",
       "\n",
       "    .dataframe tbody tr th {\n",
       "        vertical-align: top;\n",
       "    }\n",
       "\n",
       "    .dataframe thead th {\n",
       "        text-align: right;\n",
       "    }\n",
       "</style>\n",
       "<table border=\"1\" class=\"dataframe\">\n",
       "  <thead>\n",
       "    <tr style=\"text-align: right;\">\n",
       "      <th></th>\n",
       "      <th>rougher.output.recovery</th>\n",
       "    </tr>\n",
       "  </thead>\n",
       "  <tbody>\n",
       "    <tr>\n",
       "      <th>4682</th>\n",
       "      <td>89.993421</td>\n",
       "    </tr>\n",
       "    <tr>\n",
       "      <th>4683</th>\n",
       "      <td>88.089657</td>\n",
       "    </tr>\n",
       "    <tr>\n",
       "      <th>4684</th>\n",
       "      <td>88.412756</td>\n",
       "    </tr>\n",
       "    <tr>\n",
       "      <th>4685</th>\n",
       "      <td>87.360133</td>\n",
       "    </tr>\n",
       "    <tr>\n",
       "      <th>4686</th>\n",
       "      <td>83.236367</td>\n",
       "    </tr>\n",
       "  </tbody>\n",
       "</table>\n",
       "</div>"
      ],
      "text/plain": [
       "      rougher.output.recovery\n",
       "4682                89.993421\n",
       "4683                88.089657\n",
       "4684                88.412756\n",
       "4685                87.360133\n",
       "4686                83.236367"
      ]
     },
     "execution_count": 36,
     "metadata": {},
     "output_type": "execute_result"
    }
   ],
   "source": [
    "# Целевая переменная для валидации первой модели.\n",
    "y_test_1 = df_full.loc[np.isin(df_full['date'], df_test['date']), ['rougher.output.recovery']].copy()\n",
    "\n",
    "# Проверка: вывод первых пяти строк.\n",
    "y_test_1.head()"
   ]
  },
  {
   "cell_type": "markdown",
   "metadata": {},
   "source": [
    "<font color='blue'><b>Комментарий ревьюера: </b></font> ✔️\\\n",
    "<font color='green'> Верно, лучше привязаться ко времени.</font>"
   ]
  },
  {
   "cell_type": "code",
   "execution_count": 37,
   "metadata": {},
   "outputs": [
    {
     "data": {
      "text/html": [
       "<div>\n",
       "<style scoped>\n",
       "    .dataframe tbody tr th:only-of-type {\n",
       "        vertical-align: middle;\n",
       "    }\n",
       "\n",
       "    .dataframe tbody tr th {\n",
       "        vertical-align: top;\n",
       "    }\n",
       "\n",
       "    .dataframe thead th {\n",
       "        text-align: right;\n",
       "    }\n",
       "</style>\n",
       "<table border=\"1\" class=\"dataframe\">\n",
       "  <thead>\n",
       "    <tr style=\"text-align: right;\">\n",
       "      <th></th>\n",
       "      <th>final.output.recovery</th>\n",
       "    </tr>\n",
       "  </thead>\n",
       "  <tbody>\n",
       "    <tr>\n",
       "      <th>0</th>\n",
       "      <td>70.541216</td>\n",
       "    </tr>\n",
       "    <tr>\n",
       "      <th>1</th>\n",
       "      <td>69.266198</td>\n",
       "    </tr>\n",
       "    <tr>\n",
       "      <th>2</th>\n",
       "      <td>68.116445</td>\n",
       "    </tr>\n",
       "    <tr>\n",
       "      <th>3</th>\n",
       "      <td>68.347543</td>\n",
       "    </tr>\n",
       "    <tr>\n",
       "      <th>4</th>\n",
       "      <td>66.927016</td>\n",
       "    </tr>\n",
       "  </tbody>\n",
       "</table>\n",
       "</div>"
      ],
      "text/plain": [
       "   final.output.recovery\n",
       "0              70.541216\n",
       "1              69.266198\n",
       "2              68.116445\n",
       "3              68.347543\n",
       "4              66.927016"
      ]
     },
     "execution_count": 37,
     "metadata": {},
     "output_type": "execute_result"
    }
   ],
   "source": [
    "# Целевая переменная для обучения второй модели.\n",
    "y_train_2 = df_train_p[['final.output.recovery']].copy()\n",
    "\n",
    "# Проверка: вывод первых пяти строк.\n",
    "y_train_2.head()"
   ]
  },
  {
   "cell_type": "code",
   "execution_count": 38,
   "metadata": {},
   "outputs": [
    {
     "data": {
      "text/html": [
       "<div>\n",
       "<style scoped>\n",
       "    .dataframe tbody tr th:only-of-type {\n",
       "        vertical-align: middle;\n",
       "    }\n",
       "\n",
       "    .dataframe tbody tr th {\n",
       "        vertical-align: top;\n",
       "    }\n",
       "\n",
       "    .dataframe thead th {\n",
       "        text-align: right;\n",
       "    }\n",
       "</style>\n",
       "<table border=\"1\" class=\"dataframe\">\n",
       "  <thead>\n",
       "    <tr style=\"text-align: right;\">\n",
       "      <th></th>\n",
       "      <th>final.output.recovery</th>\n",
       "    </tr>\n",
       "  </thead>\n",
       "  <tbody>\n",
       "    <tr>\n",
       "      <th>4682</th>\n",
       "      <td>70.273583</td>\n",
       "    </tr>\n",
       "    <tr>\n",
       "      <th>4683</th>\n",
       "      <td>68.910432</td>\n",
       "    </tr>\n",
       "    <tr>\n",
       "      <th>4684</th>\n",
       "      <td>68.143213</td>\n",
       "    </tr>\n",
       "    <tr>\n",
       "      <th>4685</th>\n",
       "      <td>67.776393</td>\n",
       "    </tr>\n",
       "    <tr>\n",
       "      <th>4686</th>\n",
       "      <td>61.467078</td>\n",
       "    </tr>\n",
       "  </tbody>\n",
       "</table>\n",
       "</div>"
      ],
      "text/plain": [
       "      final.output.recovery\n",
       "4682              70.273583\n",
       "4683              68.910432\n",
       "4684              68.143213\n",
       "4685              67.776393\n",
       "4686              61.467078"
      ]
     },
     "execution_count": 38,
     "metadata": {},
     "output_type": "execute_result"
    }
   ],
   "source": [
    "# Целевая переменная для валидации второй модели.\n",
    "y_test_2 = df_full.loc[np.isin(df_full['date'], df_test['date']), ['final.output.recovery']].copy()\n",
    "\n",
    "# Проверка: вывод первых пяти строк.\n",
    "y_test_2.head()"
   ]
  },
  {
   "cell_type": "markdown",
   "metadata": {},
   "source": [
    "<font color='blue'><b>Комментарий ревьюера: </b></font> ✔️\\\n",
    "<font color='green'> 👍</font>"
   ]
  },
  {
   "cell_type": "markdown",
   "metadata": {},
   "source": [
    "## Анализ данных"
   ]
  },
  {
   "cell_type": "markdown",
   "metadata": {},
   "source": [
    "### Концентрация металлов (Au, Ag, Pb) на различных этапах очистки"
   ]
  },
  {
   "cell_type": "markdown",
   "metadata": {},
   "source": [
    "#### Золото Au"
   ]
  },
  {
   "cell_type": "code",
   "execution_count": 39,
   "metadata": {},
   "outputs": [
    {
     "data": {
      "text/html": [
       "<div>\n",
       "<style scoped>\n",
       "    .dataframe tbody tr th:only-of-type {\n",
       "        vertical-align: middle;\n",
       "    }\n",
       "\n",
       "    .dataframe tbody tr th {\n",
       "        vertical-align: top;\n",
       "    }\n",
       "\n",
       "    .dataframe thead th {\n",
       "        text-align: right;\n",
       "    }\n",
       "</style>\n",
       "<table border=\"1\" class=\"dataframe\">\n",
       "  <thead>\n",
       "    <tr style=\"text-align: right;\">\n",
       "      <th></th>\n",
       "      <th>count</th>\n",
       "      <th>mean</th>\n",
       "      <th>std</th>\n",
       "      <th>min</th>\n",
       "      <th>25%</th>\n",
       "      <th>50%</th>\n",
       "      <th>75%</th>\n",
       "      <th>max</th>\n",
       "    </tr>\n",
       "  </thead>\n",
       "  <tbody>\n",
       "    <tr>\n",
       "      <th>rougher.input.feed_au</th>\n",
       "      <td>19439.0</td>\n",
       "      <td>8.266097</td>\n",
       "      <td>1.955092</td>\n",
       "      <td>0.01</td>\n",
       "      <td>6.854384</td>\n",
       "      <td>8.125839</td>\n",
       "      <td>9.769917</td>\n",
       "      <td>13.731330</td>\n",
       "    </tr>\n",
       "    <tr>\n",
       "      <th>rougher.output.concentrate_au</th>\n",
       "      <td>19439.0</td>\n",
       "      <td>19.772000</td>\n",
       "      <td>3.753600</td>\n",
       "      <td>0.00</td>\n",
       "      <td>18.802523</td>\n",
       "      <td>20.280214</td>\n",
       "      <td>21.717843</td>\n",
       "      <td>28.824507</td>\n",
       "    </tr>\n",
       "    <tr>\n",
       "      <th>primary_cleaner.output.concentrate_au</th>\n",
       "      <td>19439.0</td>\n",
       "      <td>32.119400</td>\n",
       "      <td>5.627611</td>\n",
       "      <td>0.00</td>\n",
       "      <td>30.463140</td>\n",
       "      <td>32.841295</td>\n",
       "      <td>35.048006</td>\n",
       "      <td>45.933934</td>\n",
       "    </tr>\n",
       "    <tr>\n",
       "      <th>final.output.concentrate_au</th>\n",
       "      <td>19439.0</td>\n",
       "      <td>44.076513</td>\n",
       "      <td>5.129784</td>\n",
       "      <td>0.00</td>\n",
       "      <td>43.402215</td>\n",
       "      <td>45.011244</td>\n",
       "      <td>46.275313</td>\n",
       "      <td>52.756638</td>\n",
       "    </tr>\n",
       "  </tbody>\n",
       "</table>\n",
       "</div>"
      ],
      "text/plain": [
       "                                         count       mean       std   min  \\\n",
       "rougher.input.feed_au                  19439.0   8.266097  1.955092  0.01   \n",
       "rougher.output.concentrate_au          19439.0  19.772000  3.753600  0.00   \n",
       "primary_cleaner.output.concentrate_au  19439.0  32.119400  5.627611  0.00   \n",
       "final.output.concentrate_au            19439.0  44.076513  5.129784  0.00   \n",
       "\n",
       "                                             25%        50%        75%  \\\n",
       "rougher.input.feed_au                   6.854384   8.125839   9.769917   \n",
       "rougher.output.concentrate_au          18.802523  20.280214  21.717843   \n",
       "primary_cleaner.output.concentrate_au  30.463140  32.841295  35.048006   \n",
       "final.output.concentrate_au            43.402215  45.011244  46.275313   \n",
       "\n",
       "                                             max  \n",
       "rougher.input.feed_au                  13.731330  \n",
       "rougher.output.concentrate_au          28.824507  \n",
       "primary_cleaner.output.concentrate_au  45.933934  \n",
       "final.output.concentrate_au            52.756638  "
      ]
     },
     "execution_count": 39,
     "metadata": {},
     "output_type": "execute_result"
    }
   ],
   "source": [
    "# Вывод основных характеристик концентрации золота на различных этапах очистки.\n",
    "df_full[['rougher.input.feed_au',\n",
    "         'rougher.output.concentrate_au',\n",
    "         'primary_cleaner.output.concentrate_au',\n",
    "         'final.output.concentrate_au']].describe().T"
   ]
  },
  {
   "cell_type": "code",
   "execution_count": 40,
   "metadata": {
    "scrolled": false
   },
   "outputs": [
    {
     "data": {
      "text/plain": [
       "<Figure size 1440x1440 with 0 Axes>"
      ]
     },
     "metadata": {},
     "output_type": "display_data"
    },
    {
     "data": {
      "image/png": "[encoded data removed]",
      "text/plain": [
       "<Figure size 953.125x360 with 1 Axes>"
      ]
     },
     "metadata": {
      "needs_background": "light"
     },
     "output_type": "display_data"
    }
   ],
   "source": [
    "# Визуализация концентрации золота на различных этапах очистки.\n",
    "plt.figure(figsize=(20, 20))\n",
    "\n",
    "sns.displot(data=[df_full['rougher.input.feed_au'],\n",
    "                  df_full['rougher.output.concentrate_au'],\n",
    "                  df_full['primary_cleaner.output.concentrate_au'],\n",
    "                  df_full['final.output.concentrate_au']],\n",
    "            height=5,\n",
    "            aspect=2)\n",
    "\n",
    "plt.title('Концентрация золота на различных этапах очистки', fontdict={'size': 16})\n",
    "plt.xlabel('Доля золота', fontdict={'size': 14})\n",
    "plt.ylabel('Количество объектов', fontdict={'size': 14});"
   ]
  },
  {
   "cell_type": "code",
   "execution_count": 41,
   "metadata": {},
   "outputs": [
    {
     "data": {
      "text/plain": [
       "Ttest_indResult(statistic=-254.49062256741, pvalue=0.0)"
      ]
     },
     "execution_count": 41,
     "metadata": {},
     "output_type": "execute_result"
    }
   ],
   "source": [
    "# Тестирование выборок Флотации и Первого этапа очистки.\n",
    "st.ttest_ind(a=df_full['rougher.output.concentrate_au'],\n",
    "             b=df_full['primary_cleaner.output.concentrate_au'],\n",
    "             equal_var=False,\n",
    "             random_state=RANDOM_STATE_GLOBAL,\n",
    "             alternative='less')"
   ]
  },
  {
   "cell_type": "code",
   "execution_count": 42,
   "metadata": {},
   "outputs": [
    {
     "data": {
      "text/plain": [
       "Ttest_indResult(statistic=-218.93067454340317, pvalue=0.0)"
      ]
     },
     "execution_count": 42,
     "metadata": {},
     "output_type": "execute_result"
    }
   ],
   "source": [
    "# Тестирование выборок Первого этапа очистки и Второго этапа очистки.\n",
    "st.ttest_ind(a=df_full['primary_cleaner.output.concentrate_au'],\n",
    "             b=df_full['final.output.concentrate_au'],\n",
    "             equal_var=True,\n",
    "             random_state=RANDOM_STATE_GLOBAL,\n",
    "             alternative='less')"
   ]
  },
  {
   "cell_type": "markdown",
   "metadata": {},
   "source": [
    "Анализ основных характеристик, графиков распределения, а также результатов тестирования выборок показывает, что **с каждым этапом обработки концентрация золота увеличивается**."
   ]
  },
  {
   "cell_type": "markdown",
   "metadata": {},
   "source": [
    "#### Серебро Ag"
   ]
  },
  {
   "cell_type": "code",
   "execution_count": 43,
   "metadata": {},
   "outputs": [
    {
     "data": {
      "text/html": [
       "<div>\n",
       "<style scoped>\n",
       "    .dataframe tbody tr th:only-of-type {\n",
       "        vertical-align: middle;\n",
       "    }\n",
       "\n",
       "    .dataframe tbody tr th {\n",
       "        vertical-align: top;\n",
       "    }\n",
       "\n",
       "    .dataframe thead th {\n",
       "        text-align: right;\n",
       "    }\n",
       "</style>\n",
       "<table border=\"1\" class=\"dataframe\">\n",
       "  <thead>\n",
       "    <tr style=\"text-align: right;\">\n",
       "      <th></th>\n",
       "      <th>count</th>\n",
       "      <th>mean</th>\n",
       "      <th>std</th>\n",
       "      <th>min</th>\n",
       "      <th>25%</th>\n",
       "      <th>50%</th>\n",
       "      <th>75%</th>\n",
       "      <th>max</th>\n",
       "    </tr>\n",
       "  </thead>\n",
       "  <tbody>\n",
       "    <tr>\n",
       "      <th>rougher.input.feed_ag</th>\n",
       "      <td>19439.0</td>\n",
       "      <td>8.794927</td>\n",
       "      <td>1.936847</td>\n",
       "      <td>0.01</td>\n",
       "      <td>7.237967</td>\n",
       "      <td>8.593574</td>\n",
       "      <td>10.213771</td>\n",
       "      <td>14.596026</td>\n",
       "    </tr>\n",
       "    <tr>\n",
       "      <th>rougher.output.concentrate_ag</th>\n",
       "      <td>19439.0</td>\n",
       "      <td>11.994759</td>\n",
       "      <td>2.733862</td>\n",
       "      <td>0.00</td>\n",
       "      <td>10.628337</td>\n",
       "      <td>12.098115</td>\n",
       "      <td>13.736996</td>\n",
       "      <td>24.480271</td>\n",
       "    </tr>\n",
       "    <tr>\n",
       "      <th>primary_cleaner.output.concentrate_ag</th>\n",
       "      <td>19439.0</td>\n",
       "      <td>8.442408</td>\n",
       "      <td>2.054465</td>\n",
       "      <td>0.00</td>\n",
       "      <td>7.263288</td>\n",
       "      <td>8.507298</td>\n",
       "      <td>9.809001</td>\n",
       "      <td>16.081632</td>\n",
       "    </tr>\n",
       "    <tr>\n",
       "      <th>final.output.concentrate_ag</th>\n",
       "      <td>19438.0</td>\n",
       "      <td>5.168470</td>\n",
       "      <td>1.372348</td>\n",
       "      <td>0.00</td>\n",
       "      <td>4.251240</td>\n",
       "      <td>5.066094</td>\n",
       "      <td>5.895527</td>\n",
       "      <td>16.001945</td>\n",
       "    </tr>\n",
       "  </tbody>\n",
       "</table>\n",
       "</div>"
      ],
      "text/plain": [
       "                                         count       mean       std   min  \\\n",
       "rougher.input.feed_ag                  19439.0   8.794927  1.936847  0.01   \n",
       "rougher.output.concentrate_ag          19439.0  11.994759  2.733862  0.00   \n",
       "primary_cleaner.output.concentrate_ag  19439.0   8.442408  2.054465  0.00   \n",
       "final.output.concentrate_ag            19438.0   5.168470  1.372348  0.00   \n",
       "\n",
       "                                             25%        50%        75%  \\\n",
       "rougher.input.feed_ag                   7.237967   8.593574  10.213771   \n",
       "rougher.output.concentrate_ag          10.628337  12.098115  13.736996   \n",
       "primary_cleaner.output.concentrate_ag   7.263288   8.507298   9.809001   \n",
       "final.output.concentrate_ag             4.251240   5.066094   5.895527   \n",
       "\n",
       "                                             max  \n",
       "rougher.input.feed_ag                  14.596026  \n",
       "rougher.output.concentrate_ag          24.480271  \n",
       "primary_cleaner.output.concentrate_ag  16.081632  \n",
       "final.output.concentrate_ag            16.001945  "
      ]
     },
     "execution_count": 43,
     "metadata": {},
     "output_type": "execute_result"
    }
   ],
   "source": [
    "# Вывод основных характеристик концентрации серебра на различных этапах очистки.\n",
    "df_full[['rougher.input.feed_ag',\n",
    "         'rougher.output.concentrate_ag',\n",
    "         'primary_cleaner.output.concentrate_ag',\n",
    "         'final.output.concentrate_ag']].describe().T"
   ]
  },
  {
   "cell_type": "code",
   "execution_count": 44,
   "metadata": {
    "scrolled": false
   },
   "outputs": [
    {
     "data": {
      "text/plain": [
       "<Figure size 1440x1440 with 0 Axes>"
      ]
     },
     "metadata": {},
     "output_type": "display_data"
    },
    {
     "data": {
      "image/png": "[encoded data removed]",
      "text/plain": [
       "<Figure size 953.125x360 with 1 Axes>"
      ]
     },
     "metadata": {
      "needs_background": "light"
     },
     "output_type": "display_data"
    }
   ],
   "source": [
    "# Визуализация концентрации серебра на различных этапах очистки.\n",
    "plt.figure(figsize=(20, 20))\n",
    "\n",
    "sns.displot(data=[df_full['rougher.input.feed_ag'],\n",
    "                  df_full['rougher.output.concentrate_ag'],\n",
    "                  df_full['primary_cleaner.output.concentrate_ag'],\n",
    "                  df_full['final.output.concentrate_ag']],\n",
    "            height=5,\n",
    "            aspect=2)\n",
    "\n",
    "plt.title('Концентрация серебра на различных этапах очистки', fontdict={'size': 16})\n",
    "plt.xlabel('Доля серебра', fontdict={'size': 14})\n",
    "plt.ylabel('Количество объектов', fontdict={'size': 14});"
   ]
  },
  {
   "cell_type": "code",
   "execution_count": 45,
   "metadata": {},
   "outputs": [
    {
     "data": {
      "text/plain": [
       "Ttest_indResult(statistic=144.82914863886174, pvalue=0.0)"
      ]
     },
     "execution_count": 45,
     "metadata": {},
     "output_type": "execute_result"
    }
   ],
   "source": [
    "# Тестирование выборок Флотации и Первого этапа очистки.\n",
    "st.ttest_ind(a=df_full['rougher.output.concentrate_ag'],\n",
    "             b=df_full['primary_cleaner.output.concentrate_ag'],\n",
    "             equal_var=False,\n",
    "             random_state=RANDOM_STATE_GLOBAL,\n",
    "             alternative='greater')"
   ]
  },
  {
   "cell_type": "code",
   "execution_count": 46,
   "metadata": {},
   "outputs": [
    {
     "data": {
      "text/plain": [
       "Ttest_indResult(statistic=184.7527173607449, pvalue=0.0)"
      ]
     },
     "execution_count": 46,
     "metadata": {},
     "output_type": "execute_result"
    }
   ],
   "source": [
    "# Тестирование выборок Первого этапа очистки и Второго этапа очистки.\n",
    "st.ttest_ind(a=df_full['primary_cleaner.output.concentrate_ag'],\n",
    "             b=df_full['final.output.concentrate_ag'],\n",
    "             equal_var=False,\n",
    "             nan_policy='omit',\n",
    "             random_state=RANDOM_STATE_GLOBAL,\n",
    "             alternative='greater')"
   ]
  },
  {
   "cell_type": "markdown",
   "metadata": {},
   "source": [
    "Ситуация с концентрацией серебра отличается от золота: основные статистики, графики и реузльтаты тестов сигнализируют что **после флотации, с каждым следующим этапом концентрация серебра уменьшается**."
   ]
  },
  {
   "cell_type": "markdown",
   "metadata": {},
   "source": [
    "#### Свинец Pb"
   ]
  },
  {
   "cell_type": "code",
   "execution_count": 47,
   "metadata": {},
   "outputs": [
    {
     "data": {
      "text/html": [
       "<div>\n",
       "<style scoped>\n",
       "    .dataframe tbody tr th:only-of-type {\n",
       "        vertical-align: middle;\n",
       "    }\n",
       "\n",
       "    .dataframe tbody tr th {\n",
       "        vertical-align: top;\n",
       "    }\n",
       "\n",
       "    .dataframe thead th {\n",
       "        text-align: right;\n",
       "    }\n",
       "</style>\n",
       "<table border=\"1\" class=\"dataframe\">\n",
       "  <thead>\n",
       "    <tr style=\"text-align: right;\">\n",
       "      <th></th>\n",
       "      <th>count</th>\n",
       "      <th>mean</th>\n",
       "      <th>std</th>\n",
       "      <th>min</th>\n",
       "      <th>25%</th>\n",
       "      <th>50%</th>\n",
       "      <th>75%</th>\n",
       "      <th>max</th>\n",
       "    </tr>\n",
       "  </thead>\n",
       "  <tbody>\n",
       "    <tr>\n",
       "      <th>rougher.input.feed_pb</th>\n",
       "      <td>19339.0</td>\n",
       "      <td>3.598085</td>\n",
       "      <td>1.049486</td>\n",
       "      <td>0.01</td>\n",
       "      <td>2.887280</td>\n",
       "      <td>3.534895</td>\n",
       "      <td>4.244161</td>\n",
       "      <td>7.142594</td>\n",
       "    </tr>\n",
       "    <tr>\n",
       "      <th>rougher.output.concentrate_pb</th>\n",
       "      <td>19439.0</td>\n",
       "      <td>7.606272</td>\n",
       "      <td>1.796757</td>\n",
       "      <td>0.00</td>\n",
       "      <td>6.725987</td>\n",
       "      <td>7.742580</td>\n",
       "      <td>8.565199</td>\n",
       "      <td>13.617072</td>\n",
       "    </tr>\n",
       "    <tr>\n",
       "      <th>primary_cleaner.output.concentrate_pb</th>\n",
       "      <td>19323.0</td>\n",
       "      <td>9.829530</td>\n",
       "      <td>2.556843</td>\n",
       "      <td>0.00</td>\n",
       "      <td>8.702328</td>\n",
       "      <td>10.152433</td>\n",
       "      <td>11.424971</td>\n",
       "      <td>17.081278</td>\n",
       "    </tr>\n",
       "    <tr>\n",
       "      <th>final.output.concentrate_pb</th>\n",
       "      <td>19438.0</td>\n",
       "      <td>9.978895</td>\n",
       "      <td>1.669240</td>\n",
       "      <td>0.00</td>\n",
       "      <td>9.137262</td>\n",
       "      <td>10.102433</td>\n",
       "      <td>11.035769</td>\n",
       "      <td>17.031899</td>\n",
       "    </tr>\n",
       "  </tbody>\n",
       "</table>\n",
       "</div>"
      ],
      "text/plain": [
       "                                         count      mean       std   min  \\\n",
       "rougher.input.feed_pb                  19339.0  3.598085  1.049486  0.01   \n",
       "rougher.output.concentrate_pb          19439.0  7.606272  1.796757  0.00   \n",
       "primary_cleaner.output.concentrate_pb  19323.0  9.829530  2.556843  0.00   \n",
       "final.output.concentrate_pb            19438.0  9.978895  1.669240  0.00   \n",
       "\n",
       "                                            25%        50%        75%  \\\n",
       "rougher.input.feed_pb                  2.887280   3.534895   4.244161   \n",
       "rougher.output.concentrate_pb          6.725987   7.742580   8.565199   \n",
       "primary_cleaner.output.concentrate_pb  8.702328  10.152433  11.424971   \n",
       "final.output.concentrate_pb            9.137262  10.102433  11.035769   \n",
       "\n",
       "                                             max  \n",
       "rougher.input.feed_pb                   7.142594  \n",
       "rougher.output.concentrate_pb          13.617072  \n",
       "primary_cleaner.output.concentrate_pb  17.081278  \n",
       "final.output.concentrate_pb            17.031899  "
      ]
     },
     "execution_count": 47,
     "metadata": {},
     "output_type": "execute_result"
    }
   ],
   "source": [
    "# Вывод основных характеристик концентрации свинца на различных этапах очистки.\n",
    "df_full[['rougher.input.feed_pb',\n",
    "         'rougher.output.concentrate_pb',\n",
    "         'primary_cleaner.output.concentrate_pb',\n",
    "         'final.output.concentrate_pb']].describe().T"
   ]
  },
  {
   "cell_type": "code",
   "execution_count": 48,
   "metadata": {
    "scrolled": false
   },
   "outputs": [
    {
     "data": {
      "text/plain": [
       "<Figure size 1440x1440 with 0 Axes>"
      ]
     },
     "metadata": {},
     "output_type": "display_data"
    },
    {
     "data": {
      "image/png": "[encoded data removed]",
      "text/plain": [
       "<Figure size 953.125x360 with 1 Axes>"
      ]
     },
     "metadata": {
      "needs_background": "light"
     },
     "output_type": "display_data"
    }
   ],
   "source": [
    "# Визуализация концентрации свинца на различных этапах очистки.\n",
    "plt.figure(figsize=(20, 20))\n",
    "\n",
    "sns.displot(data=[df_full['rougher.input.feed_pb'],\n",
    "                  df_full['rougher.output.concentrate_pb'],\n",
    "                  df_full['primary_cleaner.output.concentrate_pb'],\n",
    "                  df_full['final.output.concentrate_pb']],\n",
    "            height=5,\n",
    "            aspect=2)\n",
    "\n",
    "plt.title('Концентрация свинца на различных этапах очистки', fontdict={'size': 16})\n",
    "plt.xlabel('Доля свинца', fontdict={'size': 14})\n",
    "plt.ylabel('Количество объектов', fontdict={'size': 14});"
   ]
  },
  {
   "cell_type": "code",
   "execution_count": 49,
   "metadata": {},
   "outputs": [
    {
     "data": {
      "text/plain": [
       "Ttest_indResult(statistic=-98.99251152882415, pvalue=0.0)"
      ]
     },
     "execution_count": 49,
     "metadata": {},
     "output_type": "execute_result"
    }
   ],
   "source": [
    "# Тестирование выборок Флотации и Первого этапа очистки.\n",
    "st.ttest_ind(a=df_full['rougher.output.concentrate_pb'],\n",
    "             b=df_full['primary_cleaner.output.concentrate_pb'],\n",
    "             equal_var=False,\n",
    "             nan_policy='omit',\n",
    "             random_state=RANDOM_STATE_GLOBAL,\n",
    "             alternative='less')"
   ]
  },
  {
   "cell_type": "code",
   "execution_count": 50,
   "metadata": {},
   "outputs": [
    {
     "data": {
      "text/plain": [
       "Ttest_indResult(statistic=-6.8057210347967905, pvalue=1.0224917284557995e-11)"
      ]
     },
     "execution_count": 50,
     "metadata": {},
     "output_type": "execute_result"
    }
   ],
   "source": [
    "# Тестирование выборок Первого этапа очистки и Второго этапа очистки.\n",
    "st.ttest_ind(a=df_full['primary_cleaner.output.concentrate_pb'],\n",
    "             b=df_full['final.output.concentrate_pb'],\n",
    "             equal_var=False,\n",
    "             nan_policy='omit',\n",
    "             random_state=RANDOM_STATE_GLOBAL,\n",
    "             alternative='two-sided')"
   ]
  },
  {
   "cell_type": "markdown",
   "metadata": {},
   "source": [
    "Графики, статистики и тесты показывают, что **после Флотации и Первого этапа очистки концентрация свинца увеличивается**. При этом разница между Первым этапом очистки и Вторым этапом менее заметка: основные характеристики схожи, а значительные доли площадей графиков перекрывают друг друга. Однако тестирование подтверждает различие в выборках, позволяя установить совместно со средними двух выборок, что **концентрация свинца незначительно увеличивается после Второго этапа очистки**."
   ]
  },
  {
   "cell_type": "markdown",
   "metadata": {},
   "source": [
    "<font color='blue'><b>Комментарий ревьюера: </b></font> ⚠️\\\n",
    "<font color='darkorange'> Можно ещё посмотреть начальные концентрации `rougher.input.feed_{металл}`</font>"
   ]
  },
  {
   "cell_type": "markdown",
   "metadata": {},
   "source": [
    "<div class=\"alert alert-info\">\n",
    "<b>Комментарий студента:</b>\n",
    "<br>Добавил начальные концентрации!\n",
    "</div>"
   ]
  },
  {
   "cell_type": "markdown",
   "metadata": {},
   "source": [
    "### Сравнение распределений размеров гранул сырья на обучающей и тестовой выборках"
   ]
  },
  {
   "cell_type": "code",
   "execution_count": 51,
   "metadata": {},
   "outputs": [],
   "source": [
    "# Гранулы сырья на обучающей выборке.\n",
    "feed_size_train = df_train['rougher.input.feed_size'].copy()\n",
    "feed_size_train = feed_size_train.rename('feed_size_train')\n",
    "# feed_size_train.columns = ['feed_size_train']"
   ]
  },
  {
   "cell_type": "code",
   "execution_count": 52,
   "metadata": {},
   "outputs": [],
   "source": [
    "# Гранулы сырья на тестовой выборке.\n",
    "feed_size_test = df_test['rougher.input.feed_size'].copy()\n",
    "feed_size_test = feed_size_test.rename('feed_size_test')\n",
    "# feed_size_test.columns = ['feed_size_test']"
   ]
  },
  {
   "cell_type": "code",
   "execution_count": 53,
   "metadata": {},
   "outputs": [
    {
     "data": {
      "text/html": [
       "<div>\n",
       "<style scoped>\n",
       "    .dataframe tbody tr th:only-of-type {\n",
       "        vertical-align: middle;\n",
       "    }\n",
       "\n",
       "    .dataframe tbody tr th {\n",
       "        vertical-align: top;\n",
       "    }\n",
       "\n",
       "    .dataframe thead th {\n",
       "        text-align: right;\n",
       "    }\n",
       "</style>\n",
       "<table border=\"1\" class=\"dataframe\">\n",
       "  <thead>\n",
       "    <tr style=\"text-align: right;\">\n",
       "      <th></th>\n",
       "      <th>count</th>\n",
       "      <th>mean</th>\n",
       "      <th>std</th>\n",
       "      <th>min</th>\n",
       "      <th>25%</th>\n",
       "      <th>50%</th>\n",
       "      <th>75%</th>\n",
       "      <th>max</th>\n",
       "    </tr>\n",
       "  </thead>\n",
       "  <tbody>\n",
       "    <tr>\n",
       "      <th>feed_size_train</th>\n",
       "      <td>14005.0</td>\n",
       "      <td>60.110518</td>\n",
       "      <td>22.418485</td>\n",
       "      <td>9.659576</td>\n",
       "      <td>48.973027</td>\n",
       "      <td>55.373885</td>\n",
       "      <td>66.080172</td>\n",
       "      <td>484.967466</td>\n",
       "    </tr>\n",
       "    <tr>\n",
       "      <th>feed_size_test</th>\n",
       "      <td>5289.0</td>\n",
       "      <td>55.951097</td>\n",
       "      <td>19.081758</td>\n",
       "      <td>0.046369</td>\n",
       "      <td>43.906347</td>\n",
       "      <td>50.841029</td>\n",
       "      <td>62.431047</td>\n",
       "      <td>392.494040</td>\n",
       "    </tr>\n",
       "  </tbody>\n",
       "</table>\n",
       "</div>"
      ],
      "text/plain": [
       "                   count       mean        std       min        25%  \\\n",
       "feed_size_train  14005.0  60.110518  22.418485  9.659576  48.973027   \n",
       "feed_size_test    5289.0  55.951097  19.081758  0.046369  43.906347   \n",
       "\n",
       "                       50%        75%         max  \n",
       "feed_size_train  55.373885  66.080172  484.967466  \n",
       "feed_size_test   50.841029  62.431047  392.494040  "
      ]
     },
     "execution_count": 53,
     "metadata": {},
     "output_type": "execute_result"
    }
   ],
   "source": [
    "# Вывод основных характеристик размеров гранул сырья на обучающей и тестовой выборках.\n",
    "pd.concat([feed_size_train.describe(), feed_size_test.describe()], axis=1).T"
   ]
  },
  {
   "cell_type": "code",
   "execution_count": 54,
   "metadata": {},
   "outputs": [
    {
     "data": {
      "text/plain": [
       "<Figure size 1440x1440 with 0 Axes>"
      ]
     },
     "metadata": {},
     "output_type": "display_data"
    },
    {
     "data": {
      "image/png": "[encoded data removed]",
      "text/plain": [
       "<Figure size 831x360 with 1 Axes>"
      ]
     },
     "metadata": {
      "needs_background": "light"
     },
     "output_type": "display_data"
    }
   ],
   "source": [
    "# Визуализация распределений размеров гранул сырья на обучающей и тестовой выборках.\n",
    "plt.figure(figsize=(20, 20))\n",
    "\n",
    "sns.displot(data=[feed_size_train, feed_size_test],\n",
    "            kind='kde',\n",
    "            height=5,\n",
    "            aspect=2)\n",
    "\n",
    "plt.title('Распределения размеров гранул сырья на обучающей и тестовой выборках', fontdict={'size': 16})\n",
    "plt.xlabel('Размер гранул сырья', fontdict={'size': 14})\n",
    "plt.ylabel('Доля выборки', fontdict={'size': 14});"
   ]
  },
  {
   "cell_type": "code",
   "execution_count": 55,
   "metadata": {},
   "outputs": [
    {
     "data": {
      "text/plain": [
       "Ttest_indResult(statistic=12.852792510809403, pvalue=1.5360283753498916e-37)"
      ]
     },
     "execution_count": 55,
     "metadata": {},
     "output_type": "execute_result"
    }
   ],
   "source": [
    "# Тестирование распределений размеров гранул сырья на обучающей и тестовой выборках.\n",
    "st.ttest_ind(a=feed_size_train,\n",
    "             b=feed_size_test,\n",
    "             equal_var=False,\n",
    "             nan_policy='omit',\n",
    "             random_state=RANDOM_STATE_GLOBAL,\n",
    "             alternative='two-sided')"
   ]
  },
  {
   "cell_type": "markdown",
   "metadata": {},
   "source": [
    "Тестирование и анализ основных характеристик распределений размеров гранул сырья на обучающей и тестовой выборках показали наличие различий. Однако обучающая выборка больше тестовой и, как видно на графике, обучающая выборка полностью покрывает тестовую.\n",
    "\n",
    "Таким образом, **среди распределений размеров гранул есть отличия, но не критичные для построения моделей**, так как в обучающей выборке присутствуют объекты, схожие с объектами в тестовой выборке, на которых модель может обучиться."
   ]
  },
  {
   "cell_type": "markdown",
   "metadata": {},
   "source": [
    "<font color='blue'><b>Комментарий ревьюера: </b></font> ✔️\\\n",
    "<font color='green'> Вывод верный!</font> "
   ]
  },
  {
   "cell_type": "markdown",
   "metadata": {},
   "source": [
    "### Исследование суммарной концентрации всех веществ на разных стадиях"
   ]
  },
  {
   "cell_type": "code",
   "execution_count": 56,
   "metadata": {},
   "outputs": [
    {
     "data": {
      "text/html": [
       "<div>\n",
       "<style scoped>\n",
       "    .dataframe tbody tr th:only-of-type {\n",
       "        vertical-align: middle;\n",
       "    }\n",
       "\n",
       "    .dataframe tbody tr th {\n",
       "        vertical-align: top;\n",
       "    }\n",
       "\n",
       "    .dataframe thead th {\n",
       "        text-align: right;\n",
       "    }\n",
       "</style>\n",
       "<table border=\"1\" class=\"dataframe\">\n",
       "  <thead>\n",
       "    <tr style=\"text-align: right;\">\n",
       "      <th></th>\n",
       "      <th>raw</th>\n",
       "      <th>rough</th>\n",
       "      <th>final</th>\n",
       "    </tr>\n",
       "  </thead>\n",
       "  <tbody>\n",
       "    <tr>\n",
       "      <th>0</th>\n",
       "      <td>51.680034</td>\n",
       "      <td>66.424950</td>\n",
       "      <td>63.644396</td>\n",
       "    </tr>\n",
       "    <tr>\n",
       "      <th>1</th>\n",
       "      <td>50.659114</td>\n",
       "      <td>67.012710</td>\n",
       "      <td>63.957723</td>\n",
       "    </tr>\n",
       "    <tr>\n",
       "      <th>2</th>\n",
       "      <td>50.609929</td>\n",
       "      <td>66.103793</td>\n",
       "      <td>64.311180</td>\n",
       "    </tr>\n",
       "    <tr>\n",
       "      <th>3</th>\n",
       "      <td>51.061546</td>\n",
       "      <td>65.752751</td>\n",
       "      <td>63.573449</td>\n",
       "    </tr>\n",
       "    <tr>\n",
       "      <th>4</th>\n",
       "      <td>47.859163</td>\n",
       "      <td>65.908382</td>\n",
       "      <td>64.004667</td>\n",
       "    </tr>\n",
       "  </tbody>\n",
       "</table>\n",
       "</div>"
      ],
      "text/plain": [
       "         raw      rough      final\n",
       "0  51.680034  66.424950  63.644396\n",
       "1  50.659114  67.012710  63.957723\n",
       "2  50.609929  66.103793  64.311180\n",
       "3  51.061546  65.752751  63.573449\n",
       "4  47.859163  65.908382  64.004667"
      ]
     },
     "execution_count": 56,
     "metadata": {},
     "output_type": "execute_result"
    }
   ],
   "source": [
    "# Вычисление суммарной концентрации всех веществ на разных стадиях.\n",
    "df_concentrate = pd.DataFrame(data=[df_full[['rougher.input.feed_ag',\n",
    "                                             'rougher.input.feed_pb',\n",
    "                                             'rougher.input.feed_sol',\n",
    "                                             'rougher.input.feed_au']].sum(axis=1),\n",
    "                                    df_full[['rougher.output.concentrate_ag',\n",
    "                                             'rougher.output.concentrate_pb',\n",
    "                                             'rougher.output.concentrate_sol',\n",
    "                                             'rougher.output.concentrate_au']].sum(axis=1),\n",
    "                                    df_full[['final.output.concentrate_ag',\n",
    "                                             'final.output.concentrate_pb',\n",
    "                                             'final.output.concentrate_sol',\n",
    "                                             'final.output.concentrate_au']].sum(axis=1)]).T\n",
    "\n",
    "# Именование стадий.\n",
    "df_concentrate.columns = ['raw', 'rough', 'final']\n",
    "\n",
    "# Проверка: вывод первых пяти строк.\n",
    "df_concentrate.head()"
   ]
  },
  {
   "cell_type": "code",
   "execution_count": 57,
   "metadata": {
    "scrolled": true
   },
   "outputs": [
    {
     "data": {
      "text/html": [
       "<div>\n",
       "<style scoped>\n",
       "    .dataframe tbody tr th:only-of-type {\n",
       "        vertical-align: middle;\n",
       "    }\n",
       "\n",
       "    .dataframe tbody tr th {\n",
       "        vertical-align: top;\n",
       "    }\n",
       "\n",
       "    .dataframe thead th {\n",
       "        text-align: right;\n",
       "    }\n",
       "</style>\n",
       "<table border=\"1\" class=\"dataframe\">\n",
       "  <thead>\n",
       "    <tr style=\"text-align: right;\">\n",
       "      <th></th>\n",
       "      <th>count</th>\n",
       "      <th>mean</th>\n",
       "      <th>std</th>\n",
       "      <th>min</th>\n",
       "      <th>25%</th>\n",
       "      <th>50%</th>\n",
       "      <th>75%</th>\n",
       "      <th>max</th>\n",
       "    </tr>\n",
       "  </thead>\n",
       "  <tbody>\n",
       "    <tr>\n",
       "      <th>raw</th>\n",
       "      <td>19439.0</td>\n",
       "      <td>57.148832</td>\n",
       "      <td>7.712767</td>\n",
       "      <td>0.04</td>\n",
       "      <td>53.507961</td>\n",
       "      <td>57.577384</td>\n",
       "      <td>61.951075</td>\n",
       "      <td>76.978947</td>\n",
       "    </tr>\n",
       "    <tr>\n",
       "      <th>rough</th>\n",
       "      <td>19439.0</td>\n",
       "      <td>68.144520</td>\n",
       "      <td>12.540021</td>\n",
       "      <td>0.00</td>\n",
       "      <td>66.003784</td>\n",
       "      <td>70.177013</td>\n",
       "      <td>74.356904</td>\n",
       "      <td>88.140119</td>\n",
       "    </tr>\n",
       "    <tr>\n",
       "      <th>final</th>\n",
       "      <td>19439.0</td>\n",
       "      <td>68.621192</td>\n",
       "      <td>7.461966</td>\n",
       "      <td>0.00</td>\n",
       "      <td>67.928471</td>\n",
       "      <td>69.598046</td>\n",
       "      <td>71.368472</td>\n",
       "      <td>80.210644</td>\n",
       "    </tr>\n",
       "  </tbody>\n",
       "</table>\n",
       "</div>"
      ],
      "text/plain": [
       "         count       mean        std   min        25%        50%        75%  \\\n",
       "raw    19439.0  57.148832   7.712767  0.04  53.507961  57.577384  61.951075   \n",
       "rough  19439.0  68.144520  12.540021  0.00  66.003784  70.177013  74.356904   \n",
       "final  19439.0  68.621192   7.461966  0.00  67.928471  69.598046  71.368472   \n",
       "\n",
       "             max  \n",
       "raw    76.978947  \n",
       "rough  88.140119  \n",
       "final  80.210644  "
      ]
     },
     "execution_count": 57,
     "metadata": {},
     "output_type": "execute_result"
    }
   ],
   "source": [
    "# Вывод основных характеристик суммарной концентрации всех веществ на разных стадиях.\n",
    "df_concentrate.describe().T"
   ]
  },
  {
   "cell_type": "code",
   "execution_count": 58,
   "metadata": {},
   "outputs": [
    {
     "data": {
      "text/plain": [
       "<Figure size 1440x1440 with 0 Axes>"
      ]
     },
     "metadata": {},
     "output_type": "display_data"
    },
    {
     "data": {
      "image/png": "[encoded data removed]",
      "text/plain": [
       "<Figure size 785x360 with 1 Axes>"
      ]
     },
     "metadata": {
      "needs_background": "light"
     },
     "output_type": "display_data"
    }
   ],
   "source": [
    "# Визуализация суммарной концентрации всех веществ на разных стадиях.\n",
    "plt.figure(figsize=(20, 20))\n",
    "\n",
    "sns.displot(data=df_concentrate,\n",
    "            height=5,\n",
    "            aspect=2)\n",
    "\n",
    "plt.title('Исследование суммарной концентрации всех веществ на разных стадиях', fontdict={'size': 16})\n",
    "plt.xlabel('Суммарная концентрация', fontdict={'size': 14})\n",
    "plt.ylabel('Количество объектов', fontdict={'size': 14});"
   ]
  },
  {
   "cell_type": "markdown",
   "metadata": {},
   "source": [
    "Анализ основных характеристик и графиков показывает наличие нулевых значений в данных. Скорее всего, обруженные аномалии появились из-за ошибок работы оборудования или обработки данных.\n",
    "\n",
    "**Нулевые значения должны быть исключены из выборки, чтобы избежать дальнейшего искажения природы данных.**"
   ]
  },
  {
   "cell_type": "code",
   "execution_count": 59,
   "metadata": {},
   "outputs": [],
   "source": [
    "# Исключение аномальных значений из данных.\n",
    "df_concentrate = df_concentrate.query('(raw > 0) and (rough > 0) and (final > 0)')"
   ]
  },
  {
   "cell_type": "code",
   "execution_count": 60,
   "metadata": {
    "scrolled": true
   },
   "outputs": [
    {
     "data": {
      "text/html": [
       "<div>\n",
       "<style scoped>\n",
       "    .dataframe tbody tr th:only-of-type {\n",
       "        vertical-align: middle;\n",
       "    }\n",
       "\n",
       "    .dataframe tbody tr th {\n",
       "        vertical-align: top;\n",
       "    }\n",
       "\n",
       "    .dataframe thead th {\n",
       "        text-align: right;\n",
       "    }\n",
       "</style>\n",
       "<table border=\"1\" class=\"dataframe\">\n",
       "  <thead>\n",
       "    <tr style=\"text-align: right;\">\n",
       "      <th></th>\n",
       "      <th>count</th>\n",
       "      <th>mean</th>\n",
       "      <th>std</th>\n",
       "      <th>min</th>\n",
       "      <th>25%</th>\n",
       "      <th>50%</th>\n",
       "      <th>75%</th>\n",
       "      <th>max</th>\n",
       "    </tr>\n",
       "  </thead>\n",
       "  <tbody>\n",
       "    <tr>\n",
       "      <th>raw</th>\n",
       "      <td>18949.0</td>\n",
       "      <td>57.158136</td>\n",
       "      <td>7.670555</td>\n",
       "      <td>0.04</td>\n",
       "      <td>53.482481</td>\n",
       "      <td>57.586982</td>\n",
       "      <td>61.961797</td>\n",
       "      <td>76.978947</td>\n",
       "    </tr>\n",
       "    <tr>\n",
       "      <th>rough</th>\n",
       "      <td>18949.0</td>\n",
       "      <td>69.551035</td>\n",
       "      <td>7.860060</td>\n",
       "      <td>0.04</td>\n",
       "      <td>66.321377</td>\n",
       "      <td>70.322267</td>\n",
       "      <td>74.446687</td>\n",
       "      <td>88.140119</td>\n",
       "    </tr>\n",
       "    <tr>\n",
       "      <th>final</th>\n",
       "      <td>18949.0</td>\n",
       "      <td>68.967541</td>\n",
       "      <td>5.621550</td>\n",
       "      <td>0.04</td>\n",
       "      <td>67.940961</td>\n",
       "      <td>69.600445</td>\n",
       "      <td>71.373371</td>\n",
       "      <td>80.210644</td>\n",
       "    </tr>\n",
       "  </tbody>\n",
       "</table>\n",
       "</div>"
      ],
      "text/plain": [
       "         count       mean       std   min        25%        50%        75%  \\\n",
       "raw    18949.0  57.158136  7.670555  0.04  53.482481  57.586982  61.961797   \n",
       "rough  18949.0  69.551035  7.860060  0.04  66.321377  70.322267  74.446687   \n",
       "final  18949.0  68.967541  5.621550  0.04  67.940961  69.600445  71.373371   \n",
       "\n",
       "             max  \n",
       "raw    76.978947  \n",
       "rough  88.140119  \n",
       "final  80.210644  "
      ]
     },
     "execution_count": 60,
     "metadata": {},
     "output_type": "execute_result"
    }
   ],
   "source": [
    "# Вывод основных характеристик суммарной концентрации всех веществ на разных стадиях.\n",
    "df_concentrate.describe().T"
   ]
  },
  {
   "cell_type": "code",
   "execution_count": 61,
   "metadata": {},
   "outputs": [
    {
     "data": {
      "text/plain": [
       "<Figure size 1440x1440 with 0 Axes>"
      ]
     },
     "metadata": {},
     "output_type": "display_data"
    },
    {
     "data": {
      "image/png": "[encoded data removed]",
      "text/plain": [
       "<Figure size 785x360 with 1 Axes>"
      ]
     },
     "metadata": {
      "needs_background": "light"
     },
     "output_type": "display_data"
    }
   ],
   "source": [
    "# Визуализация суммарной концентрации всех веществ на разных стадиях.\n",
    "plt.figure(figsize=(20, 20))\n",
    "\n",
    "sns.displot(data=df_concentrate,\n",
    "            height=5,\n",
    "            aspect=2)\n",
    "\n",
    "plt.title('Исследование суммарной концентрации всех веществ на разных стадиях', fontdict={'size': 16})\n",
    "plt.xlabel('Суммарная концентрация', fontdict={'size': 14})\n",
    "plt.ylabel('Количество объектов', fontdict={'size': 14});"
   ]
  },
  {
   "cell_type": "code",
   "execution_count": 62,
   "metadata": {},
   "outputs": [
    {
     "data": {
      "text/plain": [
       "Ttest_indResult(statistic=-155.331695954954, pvalue=0.0)"
      ]
     },
     "execution_count": 62,
     "metadata": {},
     "output_type": "execute_result"
    }
   ],
   "source": [
    "# Тестирование суммарной концентрации всех веществ в сырье и в черновом концентратах.\n",
    "st.ttest_ind(a=df_concentrate['raw'],\n",
    "             b=df_concentrate['rough'],\n",
    "             equal_var=False,\n",
    "             nan_policy='omit',\n",
    "             random_state=RANDOM_STATE_GLOBAL,\n",
    "             alternative='less')"
   ]
  },
  {
   "cell_type": "code",
   "execution_count": 63,
   "metadata": {
    "scrolled": true
   },
   "outputs": [
    {
     "data": {
      "text/plain": [
       "Ttest_indResult(statistic=8.311836678959033, pvalue=9.765968598498264e-17)"
      ]
     },
     "execution_count": 63,
     "metadata": {},
     "output_type": "execute_result"
    }
   ],
   "source": [
    "# Тестирование суммарной концентрации всех веществ в черновом и финальном концентратах.\n",
    "st.ttest_ind(a=df_concentrate['rough'],\n",
    "             b=df_concentrate['final'],\n",
    "             equal_var=False,\n",
    "             nan_policy='omit',\n",
    "             random_state=RANDOM_STATE_GLOBAL,\n",
    "             alternative='two-sided')"
   ]
  },
  {
   "cell_type": "markdown",
   "metadata": {},
   "source": [
    "Согласно основным характеристикам, тестированию и графикам:\n",
    "- суммарная концентрация всех веществ в сырье меньше, чем на других стадиях. Среднее выборки находится в районе ~57.1% со стандартным отклонением ~7.7%;\n",
    "- после флотации, на этапе чернового концентрата, сосредоточение веществ увеличивается: среднее находится в области ~68.1%, но при этом выборка становится менее сгруппированной, стандартное отклонение увеличивается до ~12.5%;\n",
    "- финальный концентрат имеет схожее среднее выборки, что и черновой концентрат, ~68.6%. Однако наблюдается большее постоянство концентрации всех веществ: данная выборка обладает наименьшей дисперсией, чем все остальные выборки - ~7.5%.\n",
    "\n",
    "Согласно проведённому исследованию, можно установить, что **с каждой стадией суммарная концентрация всех веществ увеличивается, а финальный концентрат демонстрирует наиболее стабильные показатели суммарной концентрации**."
   ]
  },
  {
   "cell_type": "markdown",
   "metadata": {},
   "source": [
    "<font color='blue'><b>Комментарий ревьюера: </b></font> ❌\\\n",
    "<font color='red'> Всё таки нулевые и около нулевые значения концентраций это явная аномалия. Скорее всего это связано со сбоем измерительного оборудования. Такие наблюдения нужно удалить из данных.\\\n",
    "Модель планируется использовать для подбора параметров оборудования, поэтому примеры со сбоями не интересные для моделирования.</font>"
   ]
  },
  {
   "cell_type": "markdown",
   "metadata": {},
   "source": [
    "<div class=\"alert alert-info\">\n",
    "<b>Комментарий студента:</b>\n",
    "<br>Убрал аномальные нулевые значения из данных. Теперь графики выглядят более правдоподобно.\n",
    "</div>"
   ]
  },
  {
   "cell_type": "markdown",
   "metadata": {},
   "source": [
    "## Модель"
   ]
  },
  {
   "cell_type": "markdown",
   "metadata": {},
   "source": [
    "### Функция для вычисления метрики sMAPE"
   ]
  },
  {
   "cell_type": "code",
   "execution_count": 64,
   "metadata": {},
   "outputs": [],
   "source": [
    "# Определение функции для расчёта метрики sMAPE,\n",
    "# на вход принимает следующие параметры:\n",
    "# y_true — массив истинных целевых переменных;\n",
    "# y_pred — массив предсказанных целевых переменных;\n",
    "# n_round — опциональный атрибут, количество знаков после запятой.\n",
    "# Возвращает метрику sMAPE.\n",
    "def metric_smape(y_true, y_pred, n_round=2):\n",
    "    if type(y_true) == pd.DataFrame:\n",
    "        y_true = y_true.values[:, 0]\n",
    "    \n",
    "    if type(y_pred) == pd.DataFrame:\n",
    "        y_pred = y_pred.values[:, 0]\n",
    "    \n",
    "    df = pd.DataFrame(data=[y_true, y_pred]).T\n",
    "    df.columns = ['y_true', 'y_pred']\n",
    "    \n",
    "    df['y_true_abs'] = np.abs(df['y_true'])\n",
    "    df['y_pred_abs'] = np.abs(df['y_pred'])\n",
    "    df['difference_abs'] = np.abs(df['y_true'] - df['y_pred'])\n",
    "    \n",
    "    df['sMAPE'] = df['difference_abs'] / ((df['y_true_abs'] + df['y_pred_abs'] + 1e-9) / 2) * 100\n",
    "    \n",
    "    return np.round(df['sMAPE'].mean(), n_round)"
   ]
  },
  {
   "cell_type": "markdown",
   "metadata": {},
   "source": [
    "<font color='blue'><b>Комментарий ревьюера: </b></font> ✔️\\\n",
    "<font color='green'> `metric_smape` расчитана верно.</font>"
   ]
  },
  {
   "cell_type": "code",
   "execution_count": 65,
   "metadata": {},
   "outputs": [
    {
     "data": {
      "text/plain": [
       "0.0"
      ]
     },
     "execution_count": 65,
     "metadata": {},
     "output_type": "execute_result"
    }
   ],
   "source": [
    "# Проверка: идеальный прогноз.\n",
    "metric_smape([1, 1, 1], [1, 1, 1])"
   ]
  },
  {
   "cell_type": "code",
   "execution_count": 66,
   "metadata": {},
   "outputs": [
    {
     "data": {
      "text/plain": [
       "14.09"
      ]
     },
     "execution_count": 66,
     "metadata": {},
     "output_type": "execute_result"
    }
   ],
   "source": [
    "# Проверка: прогноз с погрешностью.\n",
    "metric_smape([1, 1, 1], [1.1, 0.8, 0.9])"
   ]
  },
  {
   "cell_type": "code",
   "execution_count": 67,
   "metadata": {},
   "outputs": [
    {
     "data": {
      "text/plain": [
       "40.74"
      ]
     },
     "execution_count": 67,
     "metadata": {},
     "output_type": "execute_result"
    }
   ],
   "source": [
    "# Проверка: прогноз с сильной погрешностью.\n",
    "metric_smape([1, 1, 1], [1.4, 0.5, 0.8])"
   ]
  },
  {
   "cell_type": "markdown",
   "metadata": {},
   "source": [
    "### Построение моделей"
   ]
  },
  {
   "cell_type": "markdown",
   "metadata": {},
   "source": [
    "### Эффективность обогащения чернового концентрата"
   ]
  },
  {
   "cell_type": "code",
   "execution_count": 68,
   "metadata": {},
   "outputs": [],
   "source": [
    "# Таблица для записи метрик.\n",
    "df_metrics = pd.DataFrame()"
   ]
  },
  {
   "cell_type": "code",
   "execution_count": 69,
   "metadata": {},
   "outputs": [],
   "source": [
    "# Метрика качества для модели.\n",
    "scorer_smape = make_scorer(score_func=metric_smape, greater_is_better=False)"
   ]
  },
  {
   "cell_type": "markdown",
   "metadata": {},
   "source": [
    "<font color='blue'><b>Комментарий ревьюера : </b></font> ✔️ <br>\n",
    "<font color='green'>Верно, что не забываешь указать greater_is_better=False, Это пригодится для SearchCV. SMAPE — ошибка, её минимизируем.</font>"
   ]
  },
  {
   "cell_type": "markdown",
   "metadata": {},
   "source": [
    "#### LinearRegression"
   ]
  },
  {
   "cell_type": "code",
   "execution_count": 70,
   "metadata": {},
   "outputs": [],
   "source": [
    "# Смещение.\n",
    "X_train_1_p = X_train_1.copy()\n",
    "X_train_1_p['bias'] = 1\n",
    "\n",
    "# Стандартизация признаков для линейной модели.\n",
    "ss_1 = StandardScaler()\n",
    "X_train_1_p = ss_1.fit_transform(X_train_1_p)"
   ]
  },
  {
   "cell_type": "markdown",
   "metadata": {},
   "source": [
    "<font color='blue'><b>Комментарий ревьюера: </b></font> ✔️\\\n",
    "<font color='green'>Отлично, что scaler был обучен только на тренировочной части данных!</font>"
   ]
  },
  {
   "cell_type": "code",
   "execution_count": 71,
   "metadata": {},
   "outputs": [
    {
     "name": "stdout",
     "output_type": "stream",
     "text": [
      "CPU times: user 1.29 s, sys: 409 ms, total: 1.7 s\n",
      "Wall time: 1.71 s\n"
     ]
    }
   ],
   "source": [
    "%%time\n",
    "\n",
    "# Построение и кросс-валидация линейной модели.\n",
    "model_lr_1 = LinearRegression(n_jobs=-1)\n",
    "\n",
    "scores = cross_val_score(estimator=model_lr_1,\n",
    "                         X=X_train_1_p,\n",
    "                         y=y_train_1,\n",
    "                         scoring=scorer_smape)\n",
    "\n",
    "df_metrics.loc['LinearRegression', 'rougher'] = np.abs(scores.mean())"
   ]
  },
  {
   "cell_type": "markdown",
   "metadata": {},
   "source": [
    "<font color='blue'><b>Комментарий ревьюера: </b></font> ✔️\\\n",
    "<font color='green'> Кроссвалидация проведена верно!</font>"
   ]
  },
  {
   "cell_type": "markdown",
   "metadata": {},
   "source": [
    "#### DecisionTreeRegressor"
   ]
  },
  {
   "cell_type": "code",
   "execution_count": 72,
   "metadata": {
    "scrolled": true
   },
   "outputs": [
    {
     "name": "stdout",
     "output_type": "stream",
     "text": [
      "CPU times: user 843 ms, sys: 2.41 ms, total: 845 ms\n",
      "Wall time: 851 ms\n"
     ]
    }
   ],
   "source": [
    "%%time\n",
    "\n",
    "# Построение и кросс-валидация дерева решений.\n",
    "model_dtc_1 = DecisionTreeRegressor(max_depth=3,\n",
    "                                    min_samples_split=2000,\n",
    "                                    min_samples_leaf=10,\n",
    "                                    random_state=RANDOM_STATE_GLOBAL)\n",
    "\n",
    "scores = cross_val_score(estimator=model_dtc_1,\n",
    "                         X=X_train_1,\n",
    "                         y=y_train_1,\n",
    "                         scoring=scorer_smape)\n",
    "\n",
    "df_metrics.loc['DecisionTreeRegressor', 'rougher'] = np.abs(scores.mean())"
   ]
  },
  {
   "cell_type": "markdown",
   "metadata": {},
   "source": [
    "#### RandomForestRegressor"
   ]
  },
  {
   "cell_type": "code",
   "execution_count": 73,
   "metadata": {
    "scrolled": true
   },
   "outputs": [
    {
     "name": "stdout",
     "output_type": "stream",
     "text": [
      "CPU times: user 1min 35s, sys: 221 ms, total: 1min 35s\n",
      "Wall time: 1min 35s\n"
     ]
    },
    {
     "data": {
      "text/plain": [
       "GridSearchCV(cv=3, estimator=RandomForestRegressor(), n_jobs=-1,\n",
       "             param_grid={'max_depth': [6, 8, 10], 'random_state': [0]},\n",
       "             scoring=make_scorer(metric_smape, greater_is_better=False))"
      ]
     },
     "execution_count": 73,
     "metadata": {},
     "output_type": "execute_result"
    }
   ],
   "source": [
    "%%time\n",
    "\n",
    "# Сетка гиперпараметров для перебора.\n",
    "params_rfr_1 = {'max_depth': [6, 8, 10],\n",
    "#                 'min_samples_split': [1000, 1500, 2000],\n",
    "#                 'min_samples_leaf': [10, 15, 20, 25, 30],\n",
    "                'random_state': [RANDOM_STATE_GLOBAL]}\n",
    "\n",
    "# Инициализация инструмента для подбора гиперпараметров.\n",
    "gs_rfr_1 = GridSearchCV(estimator=RandomForestRegressor(),\n",
    "                        param_grid=params_rfr_1,\n",
    "                        scoring=scorer_smape,\n",
    "                        n_jobs=-1,\n",
    "#                         cv=5,\n",
    "                        cv=3)\n",
    "\n",
    "# Подбор гиперпараметров.\n",
    "gs_rfr_1.fit(X=X_train_1, y=y_train_1.values[:, 0])"
   ]
  },
  {
   "cell_type": "code",
   "execution_count": 74,
   "metadata": {},
   "outputs": [
    {
     "data": {
      "text/plain": [
       "RandomForestRegressor(max_depth=6, random_state=0)"
      ]
     },
     "execution_count": 74,
     "metadata": {},
     "output_type": "execute_result"
    }
   ],
   "source": [
    "# Вывод лучшей модели.\n",
    "gs_rfr_1.best_estimator_"
   ]
  },
  {
   "cell_type": "code",
   "execution_count": 75,
   "metadata": {
    "scrolled": false
   },
   "outputs": [
    {
     "name": "stdout",
     "output_type": "stream",
     "text": [
      "CPU times: user 7.61 s, sys: 11.2 ms, total: 7.62 s\n",
      "Wall time: 8.54 s\n"
     ]
    }
   ],
   "source": [
    "%%time\n",
    "\n",
    "# Построение и кросс-валидация случайного леса.\n",
    "model_rfr_1 = RandomForestRegressor(n_estimators=20,\n",
    "                                    max_depth=8,\n",
    "                                    min_samples_split=1500,\n",
    "                                    min_samples_leaf=20,\n",
    "                                    n_jobs=-1,\n",
    "                                    random_state=RANDOM_STATE_GLOBAL)\n",
    "\n",
    "scores = cross_val_score(estimator=model_rfr_1,\n",
    "                         X=X_train_1,\n",
    "                         y=y_train_1.values[:, 0],\n",
    "                         scoring=scorer_smape)\n",
    "\n",
    "df_metrics.loc['RandomForestRegressor', 'rougher'] = np.abs(scores.mean())"
   ]
  },
  {
   "cell_type": "markdown",
   "metadata": {},
   "source": [
    "#### Оценка результатов и выбор лучшей модели"
   ]
  },
  {
   "cell_type": "code",
   "execution_count": 76,
   "metadata": {
    "scrolled": false
   },
   "outputs": [
    {
     "data": {
      "text/html": [
       "<div>\n",
       "<style scoped>\n",
       "    .dataframe tbody tr th:only-of-type {\n",
       "        vertical-align: middle;\n",
       "    }\n",
       "\n",
       "    .dataframe tbody tr th {\n",
       "        vertical-align: top;\n",
       "    }\n",
       "\n",
       "    .dataframe thead th {\n",
       "        text-align: right;\n",
       "    }\n",
       "</style>\n",
       "<table border=\"1\" class=\"dataframe\">\n",
       "  <thead>\n",
       "    <tr style=\"text-align: right;\">\n",
       "      <th></th>\n",
       "      <th>rougher</th>\n",
       "    </tr>\n",
       "  </thead>\n",
       "  <tbody>\n",
       "    <tr>\n",
       "      <th>LinearRegression</th>\n",
       "      <td>12.472</td>\n",
       "    </tr>\n",
       "    <tr>\n",
       "      <th>DecisionTreeRegressor</th>\n",
       "      <td>12.010</td>\n",
       "    </tr>\n",
       "    <tr>\n",
       "      <th>RandomForestRegressor</th>\n",
       "      <td>11.204</td>\n",
       "    </tr>\n",
       "  </tbody>\n",
       "</table>\n",
       "</div>"
      ],
      "text/plain": [
       "                       rougher\n",
       "LinearRegression        12.472\n",
       "DecisionTreeRegressor   12.010\n",
       "RandomForestRegressor   11.204"
      ]
     },
     "execution_count": 76,
     "metadata": {},
     "output_type": "execute_result"
    }
   ],
   "source": [
    "# Вывод результатов.\n",
    "df_metrics"
   ]
  },
  {
   "cell_type": "markdown",
   "metadata": {},
   "source": [
    "Кросс-валидация показала, что наилучшую среднюю метрику sMAPE на пяти разбиениях имеет композиция Случайный лес. На втором месте находится Дерево решений. Наихудшее качество продемонстрировала линейная регрессия без регуляризации.\n",
    "\n",
    "Таким образом, **будет выбран Случайный лес**."
   ]
  },
  {
   "cell_type": "markdown",
   "metadata": {},
   "source": [
    "<font color='blue'><b>Комментарий ревьюера 2: </b></font> ❌\\\n",
    "<font color='red'> Нам нужно сделать подбор гиперпараметров хотябы одной модели по кросс-валидации.\\\n",
    "Для этого можно использовать `GridSearchCV` или написать цикл где будут перебираться параметры модели (например, `'max_depth'` для `RandomForestRegressor`), оцениваться средняя метрика по кроссвалидации и сохраняться параметры дающие лучшую метрику.</font>"
   ]
  },
  {
   "cell_type": "markdown",
   "metadata": {},
   "source": [
    "<div class=\"alert alert-info\">\n",
    "<b>Комментарий студента:</b>\n",
    "<br>Подбирал гиперпараметры в черновике. Добавил подбор с небольшим числом гиперпараметров, чтоб код выполнялся не слишком долго.\n",
    "</div>"
   ]
  },
  {
   "cell_type": "markdown",
   "metadata": {},
   "source": [
    "### Эффективность обогащения финального концентрата"
   ]
  },
  {
   "cell_type": "markdown",
   "metadata": {},
   "source": [
    "#### LinearRegression"
   ]
  },
  {
   "cell_type": "code",
   "execution_count": 77,
   "metadata": {},
   "outputs": [],
   "source": [
    "# Смещение.\n",
    "X_train_2_p = X_train_2.copy()\n",
    "X_train_2_p['bias'] = 1\n",
    "\n",
    "# Стандартизация признаков для линейной модели.\n",
    "ss_2 = StandardScaler()\n",
    "X_train_2_p = ss_2.fit_transform(X_train_2_p)"
   ]
  },
  {
   "cell_type": "code",
   "execution_count": 78,
   "metadata": {},
   "outputs": [
    {
     "name": "stdout",
     "output_type": "stream",
     "text": [
      "CPU times: user 1.37 s, sys: 600 ms, total: 1.97 s\n",
      "Wall time: 1.98 s\n"
     ]
    }
   ],
   "source": [
    "%%time\n",
    "\n",
    "# Построение и кросс-валидация линейной модели.\n",
    "model_lr_2 = LinearRegression(n_jobs=-1)\n",
    "\n",
    "scores = cross_val_score(estimator=model_lr_2,\n",
    "                         X=X_train_2_p,\n",
    "                         y=y_train_2,\n",
    "                         scoring=scorer_smape)\n",
    "\n",
    "df_metrics.loc['LinearRegression', 'final'] = np.abs(scores.mean())"
   ]
  },
  {
   "cell_type": "markdown",
   "metadata": {},
   "source": [
    "#### Lasso"
   ]
  },
  {
   "cell_type": "code",
   "execution_count": 79,
   "metadata": {},
   "outputs": [
    {
     "name": "stdout",
     "output_type": "stream",
     "text": [
      "CPU times: user 1.14 s, sys: 802 ms, total: 1.95 s\n",
      "Wall time: 1.96 s\n"
     ]
    }
   ],
   "source": [
    "%%time\n",
    "\n",
    "# Построение и кросс-валидация линейной модели.\n",
    "model_lasso_2 = Lasso(alpha=0.9, random_state=RANDOM_STATE_GLOBAL)\n",
    "\n",
    "scores = cross_val_score(estimator=model_lasso_2,\n",
    "                         X=X_train_2_p,\n",
    "                         y=y_train_2,\n",
    "                         scoring=scorer_smape)\n",
    "\n",
    "df_metrics.loc['Lasso', 'final'] = np.abs(scores.mean())"
   ]
  },
  {
   "cell_type": "markdown",
   "metadata": {},
   "source": [
    "#### Ridge"
   ]
  },
  {
   "cell_type": "code",
   "execution_count": 80,
   "metadata": {},
   "outputs": [
    {
     "name": "stdout",
     "output_type": "stream",
     "text": [
      "CPU times: user 1.43 s, sys: 608 ms, total: 2.04 s\n",
      "Wall time: 2.52 s\n"
     ]
    }
   ],
   "source": [
    "%%time\n",
    "\n",
    "# Построение и кросс-валидация линейной модели.\n",
    "model_ridge_2 = LinearRegression(n_jobs=-1)\n",
    "\n",
    "scores = cross_val_score(estimator=model_ridge_2,\n",
    "                         X=X_train_2_p,\n",
    "                         y=y_train_2,\n",
    "                         scoring=scorer_smape)\n",
    "\n",
    "df_metrics.loc['Ridge', 'final'] = np.abs(scores.mean())"
   ]
  },
  {
   "cell_type": "markdown",
   "metadata": {},
   "source": [
    "#### DecisionTreeRegressor"
   ]
  },
  {
   "cell_type": "code",
   "execution_count": 81,
   "metadata": {},
   "outputs": [
    {
     "name": "stdout",
     "output_type": "stream",
     "text": [
      "CPU times: user 1.18 s, sys: 3.64 ms, total: 1.18 s\n",
      "Wall time: 1.69 s\n"
     ]
    }
   ],
   "source": [
    "%%time\n",
    "\n",
    "# Построение и кросс-валидация дерева решений.\n",
    "model_dtc_2 = DecisionTreeRegressor(max_depth=7,\n",
    "                                    min_samples_split=2000,\n",
    "                                    min_samples_leaf=50,\n",
    "                                    random_state=RANDOM_STATE_GLOBAL)\n",
    "\n",
    "scores = cross_val_score(estimator=model_dtc_2,\n",
    "                         X=X_train_2,\n",
    "                         y=y_train_2,\n",
    "                         scoring=scorer_smape)\n",
    "\n",
    "df_metrics.loc['DecisionTreeRegressor', 'final'] = np.abs(scores.mean())"
   ]
  },
  {
   "cell_type": "markdown",
   "metadata": {},
   "source": [
    "#### RandomForestRegressor"
   ]
  },
  {
   "cell_type": "code",
   "execution_count": 82,
   "metadata": {
    "scrolled": false
   },
   "outputs": [
    {
     "name": "stdout",
     "output_type": "stream",
     "text": [
      "CPU times: user 8.52 s, sys: 18.4 ms, total: 8.54 s\n",
      "Wall time: 8.55 s\n"
     ]
    }
   ],
   "source": [
    "%%time\n",
    "\n",
    "# Построение и кросс-валидация случайного леса.\n",
    "model_rfr_2 = RandomForestRegressor(n_estimators=20,\n",
    "                                    max_depth=8,\n",
    "                                    min_samples_split=1500,\n",
    "                                    min_samples_leaf=50,\n",
    "                                    n_jobs=-1,\n",
    "                                    random_state=RANDOM_STATE_GLOBAL)\n",
    "\n",
    "scores = cross_val_score(estimator=model_rfr_2,\n",
    "                         X=X_train_2,\n",
    "                         y=y_train_2.values[:, 0],\n",
    "                         scoring=scorer_smape)\n",
    "\n",
    "df_metrics.loc['RandomForestRegressor', 'final'] = np.abs(scores.mean())"
   ]
  },
  {
   "cell_type": "markdown",
   "metadata": {},
   "source": [
    "#### Оценка результатов и выбор лучшей модели"
   ]
  },
  {
   "cell_type": "code",
   "execution_count": 83,
   "metadata": {
    "scrolled": true
   },
   "outputs": [
    {
     "data": {
      "text/html": [
       "<div>\n",
       "<style scoped>\n",
       "    .dataframe tbody tr th:only-of-type {\n",
       "        vertical-align: middle;\n",
       "    }\n",
       "\n",
       "    .dataframe tbody tr th {\n",
       "        vertical-align: top;\n",
       "    }\n",
       "\n",
       "    .dataframe thead th {\n",
       "        text-align: right;\n",
       "    }\n",
       "</style>\n",
       "<table border=\"1\" class=\"dataframe\">\n",
       "  <thead>\n",
       "    <tr style=\"text-align: right;\">\n",
       "      <th></th>\n",
       "      <th>rougher</th>\n",
       "      <th>final</th>\n",
       "    </tr>\n",
       "  </thead>\n",
       "  <tbody>\n",
       "    <tr>\n",
       "      <th>LinearRegression</th>\n",
       "      <td>12.472</td>\n",
       "      <td>10.766</td>\n",
       "    </tr>\n",
       "    <tr>\n",
       "      <th>DecisionTreeRegressor</th>\n",
       "      <td>12.010</td>\n",
       "      <td>11.486</td>\n",
       "    </tr>\n",
       "    <tr>\n",
       "      <th>RandomForestRegressor</th>\n",
       "      <td>11.204</td>\n",
       "      <td>11.060</td>\n",
       "    </tr>\n",
       "    <tr>\n",
       "      <th>Lasso</th>\n",
       "      <td>NaN</td>\n",
       "      <td>10.462</td>\n",
       "    </tr>\n",
       "    <tr>\n",
       "      <th>Ridge</th>\n",
       "      <td>NaN</td>\n",
       "      <td>10.766</td>\n",
       "    </tr>\n",
       "  </tbody>\n",
       "</table>\n",
       "</div>"
      ],
      "text/plain": [
       "                       rougher   final\n",
       "LinearRegression        12.472  10.766\n",
       "DecisionTreeRegressor   12.010  11.486\n",
       "RandomForestRegressor   11.204  11.060\n",
       "Lasso                      NaN  10.462\n",
       "Ridge                      NaN  10.766"
      ]
     },
     "execution_count": 83,
     "metadata": {},
     "output_type": "execute_result"
    }
   ],
   "source": [
    "# Вывод результатов.\n",
    "df_metrics"
   ]
  },
  {
   "cell_type": "markdown",
   "metadata": {},
   "source": [
    "При построении и кросс-валидации моделей для прогноза эффективности обогащения финального концентрата наилучшие метрики качества продемонстрировали линейные модели, а именно:\n",
    "- модели LinearRegression и Ridge показали сопоставимое качество;\n",
    "- модель Lasso оказалась лучшей с точки зрения метрики sMAPE.\n",
    "\n",
    "Резюмируя, **будет выбрана модель Lasso**."
   ]
  },
  {
   "cell_type": "markdown",
   "metadata": {},
   "source": [
    "### Выбор лучшей модели и проверка на тестовой выборке"
   ]
  },
  {
   "cell_type": "code",
   "execution_count": 84,
   "metadata": {},
   "outputs": [],
   "source": [
    "# Таблица для записи метрик.\n",
    "df_metrics_test = pd.DataFrame()"
   ]
  },
  {
   "cell_type": "markdown",
   "metadata": {},
   "source": [
    "#### Эффективность обогащения чернового концентрата"
   ]
  },
  {
   "cell_type": "code",
   "execution_count": 85,
   "metadata": {},
   "outputs": [
    {
     "name": "stdout",
     "output_type": "stream",
     "text": [
      "CPU times: user 2.12 s, sys: 3.6 ms, total: 2.12 s\n",
      "Wall time: 2.13 s\n"
     ]
    },
    {
     "data": {
      "text/html": [
       "<div>\n",
       "<style scoped>\n",
       "    .dataframe tbody tr th:only-of-type {\n",
       "        vertical-align: middle;\n",
       "    }\n",
       "\n",
       "    .dataframe tbody tr th {\n",
       "        vertical-align: top;\n",
       "    }\n",
       "\n",
       "    .dataframe thead th {\n",
       "        text-align: right;\n",
       "    }\n",
       "</style>\n",
       "<table border=\"1\" class=\"dataframe\">\n",
       "  <thead>\n",
       "    <tr style=\"text-align: right;\">\n",
       "      <th></th>\n",
       "      <th>sMAPE_model</th>\n",
       "    </tr>\n",
       "  </thead>\n",
       "  <tbody>\n",
       "    <tr>\n",
       "      <th>rougher</th>\n",
       "      <td>9.04</td>\n",
       "    </tr>\n",
       "  </tbody>\n",
       "</table>\n",
       "</div>"
      ],
      "text/plain": [
       "         sMAPE_model\n",
       "rougher         9.04"
      ]
     },
     "execution_count": 85,
     "metadata": {},
     "output_type": "execute_result"
    }
   ],
   "source": [
    "%%time\n",
    "\n",
    "# Инициализация лучшей модели.\n",
    "model_rfr_1 = RandomForestRegressor(n_estimators=20,\n",
    "                                    max_depth=8,\n",
    "                                    min_samples_split=1500,\n",
    "                                    min_samples_leaf=20,\n",
    "                                    n_jobs=-1,\n",
    "                                    random_state=RANDOM_STATE_GLOBAL)\n",
    "\n",
    "# Обучение.\n",
    "model_rfr_1.fit(X_train_1, y_train_1.values[:, 0])\n",
    "\n",
    "# Прогноз.\n",
    "y_pred_1 = model_rfr_1.predict(X_test_1)\n",
    "\n",
    "# Вычисление метрики качества.\n",
    "df_metrics_test.loc['rougher', 'sMAPE_model'] = metric_smape(y_test_1, y_pred_1)\n",
    "\n",
    "# Проверка: вывод метрики.\n",
    "df_metrics_test"
   ]
  },
  {
   "cell_type": "markdown",
   "metadata": {},
   "source": [
    "<font color='blue'><b>Комментарий ревьюера: </b></font> ✔️\\\n",
    "<font color='green'>Тестирование проведено верно.</font> "
   ]
  },
  {
   "cell_type": "markdown",
   "metadata": {},
   "source": [
    "На тестовой выборке Случайный лес справился с задачей лучше, чем на обучающей."
   ]
  },
  {
   "cell_type": "markdown",
   "metadata": {},
   "source": [
    "#### Эффективность обогащения финального концентрата"
   ]
  },
  {
   "cell_type": "code",
   "execution_count": 86,
   "metadata": {},
   "outputs": [],
   "source": [
    "# Смещение.\n",
    "X_test_2_p = X_test_2.copy()\n",
    "X_test_2_p['bias'] = 1\n",
    "\n",
    "# Стандартизация признаков для линейной модели.\n",
    "X_test_2_p = ss_2.transform(X_test_2_p)"
   ]
  },
  {
   "cell_type": "code",
   "execution_count": 87,
   "metadata": {},
   "outputs": [
    {
     "name": "stdout",
     "output_type": "stream",
     "text": [
      "CPU times: user 594 ms, sys: 568 ms, total: 1.16 s\n",
      "Wall time: 1.17 s\n"
     ]
    },
    {
     "data": {
      "text/html": [
       "<div>\n",
       "<style scoped>\n",
       "    .dataframe tbody tr th:only-of-type {\n",
       "        vertical-align: middle;\n",
       "    }\n",
       "\n",
       "    .dataframe tbody tr th {\n",
       "        vertical-align: top;\n",
       "    }\n",
       "\n",
       "    .dataframe thead th {\n",
       "        text-align: right;\n",
       "    }\n",
       "</style>\n",
       "<table border=\"1\" class=\"dataframe\">\n",
       "  <thead>\n",
       "    <tr style=\"text-align: right;\">\n",
       "      <th></th>\n",
       "      <th>sMAPE_model</th>\n",
       "    </tr>\n",
       "  </thead>\n",
       "  <tbody>\n",
       "    <tr>\n",
       "      <th>rougher</th>\n",
       "      <td>9.04</td>\n",
       "    </tr>\n",
       "    <tr>\n",
       "      <th>final</th>\n",
       "      <td>8.94</td>\n",
       "    </tr>\n",
       "  </tbody>\n",
       "</table>\n",
       "</div>"
      ],
      "text/plain": [
       "         sMAPE_model\n",
       "rougher         9.04\n",
       "final           8.94"
      ]
     },
     "execution_count": 87,
     "metadata": {},
     "output_type": "execute_result"
    }
   ],
   "source": [
    "%%time\n",
    "\n",
    "# Инициализация лучшей модели.\n",
    "model_lasso_2 = Lasso(alpha=0.9, random_state=RANDOM_STATE_GLOBAL)\n",
    "\n",
    "# Обучение.\n",
    "model_lasso_2.fit(X_train_2_p, y_train_2.values[:, 0])\n",
    "\n",
    "# Прогноз.\n",
    "y_pred_2 = model_lasso_2.predict(X_test_2_p)\n",
    "\n",
    "# Вычисление метрики качества.\n",
    "df_metrics_test.loc['final', 'sMAPE_model'] = metric_smape(y_test_2, y_pred_2)\n",
    "\n",
    "# Проверка: вывод метрики.\n",
    "df_metrics_test"
   ]
  },
  {
   "cell_type": "markdown",
   "metadata": {},
   "source": [
    "Модель Lasso также демонстрирует более лучшую метрику качества на тестовой выборке, чем на обучающей."
   ]
  },
  {
   "cell_type": "markdown",
   "metadata": {},
   "source": [
    "#### Расчёт финальной метрики и выводы"
   ]
  },
  {
   "cell_type": "code",
   "execution_count": 88,
   "metadata": {},
   "outputs": [
    {
     "data": {
      "text/html": [
       "<div>\n",
       "<style scoped>\n",
       "    .dataframe tbody tr th:only-of-type {\n",
       "        vertical-align: middle;\n",
       "    }\n",
       "\n",
       "    .dataframe tbody tr th {\n",
       "        vertical-align: top;\n",
       "    }\n",
       "\n",
       "    .dataframe thead th {\n",
       "        text-align: right;\n",
       "    }\n",
       "</style>\n",
       "<table border=\"1\" class=\"dataframe\">\n",
       "  <thead>\n",
       "    <tr style=\"text-align: right;\">\n",
       "      <th></th>\n",
       "      <th>sMAPE_model</th>\n",
       "    </tr>\n",
       "  </thead>\n",
       "  <tbody>\n",
       "    <tr>\n",
       "      <th>rougher</th>\n",
       "      <td>9.04</td>\n",
       "    </tr>\n",
       "    <tr>\n",
       "      <th>final</th>\n",
       "      <td>8.94</td>\n",
       "    </tr>\n",
       "    <tr>\n",
       "      <th>result</th>\n",
       "      <td>8.96</td>\n",
       "    </tr>\n",
       "  </tbody>\n",
       "</table>\n",
       "</div>"
      ],
      "text/plain": [
       "         sMAPE_model\n",
       "rougher         9.04\n",
       "final           8.94\n",
       "result          8.96"
      ]
     },
     "execution_count": 88,
     "metadata": {},
     "output_type": "execute_result"
    }
   ],
   "source": [
    "# Расчёт финальной метрики.\n",
    "df_metrics_test.loc['result', 'sMAPE_model'] = np.round(0.25 * df_metrics_test.loc['rougher', 'sMAPE_model']\n",
    "                                                  + 0.75 * df_metrics_test.loc['final', 'sMAPE_model'], 2)\n",
    "\n",
    "# Проверка: вывод метрик.\n",
    "df_metrics_test"
   ]
  },
  {
   "cell_type": "markdown",
   "metadata": {},
   "source": [
    "<font color='blue'><b>Комментарий ревьюера: </b></font> ❌\\\n",
    "<font color='red'> Нужно сравнить с константной моделью, например с `DummyRegressor`, из одного значения метрики не ясно насколько адекватно предсказание моделей. )</font>"
   ]
  },
  {
   "cell_type": "markdown",
   "metadata": {},
   "source": [
    "<div class=\"alert alert-info\">\n",
    "<b>Комментарий студента:</b>\n",
    "<br>Добавил новый пункт \"Константная модель\".\n",
    "</div>"
   ]
  },
  {
   "cell_type": "markdown",
   "metadata": {},
   "source": [
    "#### Константная модель "
   ]
  },
  {
   "cell_type": "code",
   "execution_count": 89,
   "metadata": {},
   "outputs": [],
   "source": [
    "# Инициализация константной модели для прогноза эффективности обогащения чернового концентрата.\n",
    "dr_1 = DummyRegressor()\n",
    "\n",
    "# Обучение.\n",
    "dr_1.fit(X_train_1, y_train_1)\n",
    "\n",
    "# Прогноз.\n",
    "y_pred_dr_1 = dr_1.predict(X_test_1)\n",
    "\n",
    "# Вычисление метрики качества.\n",
    "df_metrics_test.loc['rougher', 'sMAPE_dummy'] = metric_smape(y_test_1, y_pred_dr_1)"
   ]
  },
  {
   "cell_type": "code",
   "execution_count": 90,
   "metadata": {},
   "outputs": [],
   "source": [
    "# Инициализация константной модели для прогноза эффективности обогащения финального концентрата.\n",
    "dr_2 = DummyRegressor()\n",
    "\n",
    "# Обучение.\n",
    "dr_1.fit(X_train_1, y_train_1)\n",
    "\n",
    "# Прогноз.\n",
    "y_pred_dr_1 = dr_1.predict(X_test_1)\n",
    "\n",
    "# Вычисление метрики качества.\n",
    "df_metrics_test.loc['final', 'sMAPE_dummy'] = metric_smape(y_test_1, y_pred_dr_1)"
   ]
  },
  {
   "cell_type": "code",
   "execution_count": 91,
   "metadata": {},
   "outputs": [
    {
     "data": {
      "text/html": [
       "<div>\n",
       "<style scoped>\n",
       "    .dataframe tbody tr th:only-of-type {\n",
       "        vertical-align: middle;\n",
       "    }\n",
       "\n",
       "    .dataframe tbody tr th {\n",
       "        vertical-align: top;\n",
       "    }\n",
       "\n",
       "    .dataframe thead th {\n",
       "        text-align: right;\n",
       "    }\n",
       "</style>\n",
       "<table border=\"1\" class=\"dataframe\">\n",
       "  <thead>\n",
       "    <tr style=\"text-align: right;\">\n",
       "      <th></th>\n",
       "      <th>sMAPE_model</th>\n",
       "      <th>sMAPE_dummy</th>\n",
       "    </tr>\n",
       "  </thead>\n",
       "  <tbody>\n",
       "    <tr>\n",
       "      <th>rougher</th>\n",
       "      <td>9.04</td>\n",
       "      <td>10.38</td>\n",
       "    </tr>\n",
       "    <tr>\n",
       "      <th>final</th>\n",
       "      <td>8.94</td>\n",
       "      <td>10.38</td>\n",
       "    </tr>\n",
       "    <tr>\n",
       "      <th>result</th>\n",
       "      <td>8.96</td>\n",
       "      <td>10.38</td>\n",
       "    </tr>\n",
       "  </tbody>\n",
       "</table>\n",
       "</div>"
      ],
      "text/plain": [
       "         sMAPE_model  sMAPE_dummy\n",
       "rougher         9.04        10.38\n",
       "final           8.94        10.38\n",
       "result          8.96        10.38"
      ]
     },
     "execution_count": 91,
     "metadata": {},
     "output_type": "execute_result"
    }
   ],
   "source": [
    "# Расчёт финальной метрики.\n",
    "df_metrics_test.loc['result', 'sMAPE_dummy'] = np.round(0.25 * df_metrics_test.loc['rougher', 'sMAPE_dummy']\n",
    "                                                  + 0.75 * df_metrics_test.loc['final', 'sMAPE_dummy'], 2)\n",
    "\n",
    "# Проверка: вывод метрик.\n",
    "df_metrics_test"
   ]
  },
  {
   "cell_type": "markdown",
   "metadata": {},
   "source": [
    "#### Выводы"
   ]
  },
  {
   "cell_type": "markdown",
   "metadata": {},
   "source": [
    "Модели показали лучшую результативность на тестовой выборке, чем на обучающей. Данное явление может быть объяснено тем, что обучающая выборка представляла собой более сложные данные, чем тестовая. Также в обучающей выборке были данные, полностью покрывающие данные тестовой выборки, что позволило моделям хорошо подготовиться к предстоящему заданию.\n",
    "\n",
    "Построенные модели позволили получить лучший результат, чем при использовании константной модели со стратегией \"среднее\"."
   ]
  },
  {
   "cell_type": "markdown",
   "metadata": {},
   "source": [
    "<font color='blue'><b>Комментарий ревьюера: </b></font> ✔️\\\n",
    "<font color='green'> Очень приятно видеть вывод в конце проекта!\\\n",
    "Приведены ответы на главные вопросы проекта.</font>"
   ]
  },
  {
   "cell_type": "markdown",
   "metadata": {},
   "source": [
    "<font color='blue'><b>Итоговый комментарий ревьюера</b></font>\\\n",
    "<font color='green'>Сергей, хороший проект получился!\n",
    "Большое спасибо за проделанную работу. Видно, что приложено много усилий.\n",
    "</font>\n",
    "\n",
    "<font color='blue'>Что нужно исправить:</font>\n",
    "<ul><font color='red'>Попробуй обучить модели на очищенных от выбросов данных.</font></ul>\n",
    "<ul><font color='red'>Подобери гиперпараметры по целевой метрике.</font></ul>\n",
    "<ul><font color='red'>Добавь тест константной модели для оценки адекватности работы моделей.</font></ul>\n",
    "\n",
    "<font color='blue'>Что можно сделать лучше:</font>\n",
    "<font color='orange'>В работе я оставил несколько советов. Буду рад, если ты учтешь их.</font></ul>\n",
    "\n",
    "<font color='blue'><b>Жду новую версию проекта :)</b></font>"
   ]
  },
  {
   "cell_type": "markdown",
   "metadata": {},
   "source": [
    "<div class=\"alert alert-info\">\n",
    "<b>Комментарий студента:</b>\n",
    "<br>Исправления:\n",
    "<br>1. Очистил данные от выбросов в пункте \"2.4.2  Подготовка обучающих выборок для моделей\".\n",
    "<br>2. Добавил подбор гиперпараметров в пункте \"4.3.3  RandomForestRegressor\". В тренажёре подбор выполняется крайне долго, поэтому при настройке моделей гиперпараметры подбирались локально в черновике при помощи <code>sklearn.model_selection.RandomizedSearchCV</code>. \n",
    "<br>3. Добавил тест константной модели в пункте \"4.5.4  Константная модель\".\n",
    "</div>"
   ]
  },
  {
   "cell_type": "markdown",
   "metadata": {},
   "source": [
    "## Чек-лист готовности проекта"
   ]
  },
  {
   "cell_type": "markdown",
   "metadata": {},
   "source": [
    "- [x]  Jupyter Notebook открыт\n",
    "- [x]  Весь код выполняется без ошибок\n",
    "- [x]  Ячейки с кодом расположены в порядке выполнения\n",
    "- [x]  Выполнен шаг 1: данные подготовлены\n",
    "    - [x]  Проверена формула вычисления эффективности обогащения\n",
    "    - [x]  Проанализированы признаки, недоступные в тестовой выборке\n",
    "    - [x]  Проведена предобработка данных\n",
    "- [x]  Выполнен шаг 2: данные проанализированы\n",
    "    - [x]  Исследовано изменение концентрации элементов на каждом этапе\n",
    "    - [x]  Проанализированы распределения размеров гранул на обучающей и тестовой выборках\n",
    "    - [x]  Исследованы суммарные концентрации\n",
    "- [x]  Выполнен шаг 3: построена модель прогнозирования\n",
    "    - [x]  Написана функция для вычисления итогового *sMAPE*\n",
    "    - [x]  Обучено и проверено несколько моделей\n",
    "    - [x]  Выбрана лучшая модель, её качество проверено на тестовой выборке"
   ]
  },
  {
   "cell_type": "code",
   "execution_count": null,
   "metadata": {},
   "outputs": [],
   "source": []
  }
 ],
 "metadata": {
  "ExecuteTimeLog": [
   {
    "duration": 446,
    "start_time": "2022-05-12T18:21:15.071Z"
   },
   {
    "duration": 3,
    "start_time": "2022-05-12T18:24:14.412Z"
   },
   {
    "duration": 1495,
    "start_time": "2022-05-12T18:34:35.419Z"
   },
   {
    "duration": 31,
    "start_time": "2022-05-12T18:34:46.040Z"
   },
   {
    "duration": 29,
    "start_time": "2022-05-12T18:35:01.044Z"
   },
   {
    "duration": 21,
    "start_time": "2022-05-12T18:35:08.072Z"
   },
   {
    "duration": 9,
    "start_time": "2022-05-12T18:47:10.725Z"
   },
   {
    "duration": 8,
    "start_time": "2022-05-12T18:47:40.068Z"
   },
   {
    "duration": 8,
    "start_time": "2022-05-12T18:47:51.084Z"
   },
   {
    "duration": 13,
    "start_time": "2022-05-12T18:48:26.356Z"
   },
   {
    "duration": 4,
    "start_time": "2022-05-12T18:48:42.963Z"
   },
   {
    "duration": 144,
    "start_time": "2022-05-12T18:49:41.283Z"
   },
   {
    "duration": 155,
    "start_time": "2022-05-12T18:49:46.635Z"
   },
   {
    "duration": 69,
    "start_time": "2022-05-12T18:49:58.819Z"
   },
   {
    "duration": 231,
    "start_time": "2022-05-12T18:50:04.210Z"
   },
   {
    "duration": 11,
    "start_time": "2022-05-12T18:50:20.355Z"
   },
   {
    "duration": 9,
    "start_time": "2022-05-12T18:50:37.555Z"
   },
   {
    "duration": 10,
    "start_time": "2022-05-12T18:50:46.987Z"
   },
   {
    "duration": 14,
    "start_time": "2022-05-12T18:50:54.875Z"
   },
   {
    "duration": 15,
    "start_time": "2022-05-12T18:50:59.291Z"
   },
   {
    "duration": 11,
    "start_time": "2022-05-12T18:51:03.602Z"
   },
   {
    "duration": 10,
    "start_time": "2022-05-12T18:51:08.755Z"
   },
   {
    "duration": 10,
    "start_time": "2022-05-12T18:51:13.842Z"
   },
   {
    "duration": 12,
    "start_time": "2022-05-12T18:51:18.690Z"
   },
   {
    "duration": 10,
    "start_time": "2022-05-12T18:51:24.658Z"
   },
   {
    "duration": 11,
    "start_time": "2022-05-12T18:51:29.511Z"
   },
   {
    "duration": 10,
    "start_time": "2022-05-12T18:51:32.579Z"
   },
   {
    "duration": 12,
    "start_time": "2022-05-12T18:51:35.778Z"
   },
   {
    "duration": 12,
    "start_time": "2022-05-12T18:51:46.826Z"
   },
   {
    "duration": 12,
    "start_time": "2022-05-12T18:51:50.442Z"
   },
   {
    "duration": 153,
    "start_time": "2022-05-12T18:54:10.665Z"
   },
   {
    "duration": 25,
    "start_time": "2022-05-12T18:54:13.523Z"
   },
   {
    "duration": 10,
    "start_time": "2022-05-12T18:54:28.754Z"
   },
   {
    "duration": 677,
    "start_time": "2022-05-12T18:55:24.306Z"
   },
   {
    "duration": 22,
    "start_time": "2022-05-12T18:55:37.002Z"
   },
   {
    "duration": 16,
    "start_time": "2022-05-12T18:55:44.353Z"
   },
   {
    "duration": 430,
    "start_time": "2022-05-14T18:13:29.087Z"
   },
   {
    "duration": 2,
    "start_time": "2022-05-14T18:13:29.519Z"
   },
   {
    "duration": 286,
    "start_time": "2022-05-14T18:13:29.523Z"
   },
   {
    "duration": 29,
    "start_time": "2022-05-14T18:13:29.810Z"
   },
   {
    "duration": 12,
    "start_time": "2022-05-14T18:13:29.840Z"
   },
   {
    "duration": 90,
    "start_time": "2022-05-14T18:13:29.854Z"
   },
   {
    "duration": 22,
    "start_time": "2022-05-14T18:13:29.945Z"
   },
   {
    "duration": 9,
    "start_time": "2022-05-14T18:13:29.969Z"
   },
   {
    "duration": 369,
    "start_time": "2022-05-14T18:13:29.979Z"
   },
   {
    "duration": 20,
    "start_time": "2022-05-14T18:13:30.350Z"
   },
   {
    "duration": 20,
    "start_time": "2022-05-14T18:13:30.372Z"
   },
   {
    "duration": 5,
    "start_time": "2022-05-14T18:15:06.605Z"
   },
   {
    "duration": 5,
    "start_time": "2022-05-14T18:20:18.147Z"
   },
   {
    "duration": 4,
    "start_time": "2022-05-14T18:20:40.731Z"
   },
   {
    "duration": 4,
    "start_time": "2022-05-14T18:21:29.778Z"
   },
   {
    "duration": 5,
    "start_time": "2022-05-14T18:21:43.914Z"
   },
   {
    "duration": 4,
    "start_time": "2022-05-14T18:21:47.867Z"
   },
   {
    "duration": 5,
    "start_time": "2022-05-14T18:22:08.034Z"
   },
   {
    "duration": 6,
    "start_time": "2022-05-14T18:22:28.081Z"
   },
   {
    "duration": 5,
    "start_time": "2022-05-14T18:27:23.009Z"
   },
   {
    "duration": 4,
    "start_time": "2022-05-14T18:27:30.912Z"
   },
   {
    "duration": 5,
    "start_time": "2022-05-14T18:27:56.720Z"
   },
   {
    "duration": 5,
    "start_time": "2022-05-14T18:28:23.040Z"
   },
   {
    "duration": 5,
    "start_time": "2022-05-14T18:28:27.577Z"
   },
   {
    "duration": 4,
    "start_time": "2022-05-14T18:28:31.440Z"
   },
   {
    "duration": 5,
    "start_time": "2022-05-14T18:28:39.976Z"
   },
   {
    "duration": 4,
    "start_time": "2022-05-14T18:28:53.584Z"
   },
   {
    "duration": 5,
    "start_time": "2022-05-14T18:36:36.377Z"
   },
   {
    "duration": 5,
    "start_time": "2022-05-14T18:37:16.106Z"
   },
   {
    "duration": 4,
    "start_time": "2022-05-14T18:37:29.514Z"
   },
   {
    "duration": 5,
    "start_time": "2022-05-14T18:37:35.145Z"
   },
   {
    "duration": 3,
    "start_time": "2022-05-14T18:37:43.920Z"
   },
   {
    "duration": 4,
    "start_time": "2022-05-14T18:55:42.100Z"
   },
   {
    "duration": 434,
    "start_time": "2022-05-15T09:07:10.006Z"
   },
   {
    "duration": 3,
    "start_time": "2022-05-15T09:07:10.443Z"
   },
   {
    "duration": 272,
    "start_time": "2022-05-15T09:07:10.448Z"
   },
   {
    "duration": 30,
    "start_time": "2022-05-15T09:07:10.722Z"
   },
   {
    "duration": 13,
    "start_time": "2022-05-15T09:07:10.755Z"
   },
   {
    "duration": 92,
    "start_time": "2022-05-15T09:07:10.770Z"
   },
   {
    "duration": 22,
    "start_time": "2022-05-15T09:07:10.864Z"
   },
   {
    "duration": 26,
    "start_time": "2022-05-15T09:07:10.888Z"
   },
   {
    "duration": 349,
    "start_time": "2022-05-15T09:07:10.916Z"
   },
   {
    "duration": 21,
    "start_time": "2022-05-15T09:07:11.267Z"
   },
   {
    "duration": 21,
    "start_time": "2022-05-15T09:07:11.290Z"
   },
   {
    "duration": 4,
    "start_time": "2022-05-15T09:07:11.313Z"
   },
   {
    "duration": 5,
    "start_time": "2022-05-15T09:07:11.318Z"
   },
   {
    "duration": 4,
    "start_time": "2022-05-15T09:25:34.516Z"
   },
   {
    "duration": 3,
    "start_time": "2022-05-15T09:26:01.744Z"
   },
   {
    "duration": 3,
    "start_time": "2022-05-15T09:26:25.563Z"
   },
   {
    "duration": 3,
    "start_time": "2022-05-15T09:34:36.269Z"
   },
   {
    "duration": 245,
    "start_time": "2022-05-15T09:42:50.706Z"
   },
   {
    "duration": 5,
    "start_time": "2022-05-15T09:42:59.619Z"
   },
   {
    "duration": 3,
    "start_time": "2022-05-15T09:44:43.146Z"
   },
   {
    "duration": 6,
    "start_time": "2022-05-15T09:48:06.897Z"
   },
   {
    "duration": 6,
    "start_time": "2022-05-15T09:48:39.249Z"
   },
   {
    "duration": 3,
    "start_time": "2022-05-15T09:48:48.290Z"
   },
   {
    "duration": 246,
    "start_time": "2022-05-15T09:48:49.177Z"
   },
   {
    "duration": 5,
    "start_time": "2022-05-15T09:48:49.633Z"
   },
   {
    "duration": 5,
    "start_time": "2022-05-15T09:48:53.585Z"
   },
   {
    "duration": 4,
    "start_time": "2022-05-15T10:06:44.556Z"
   },
   {
    "duration": 4,
    "start_time": "2022-05-15T10:07:07.540Z"
   },
   {
    "duration": 28,
    "start_time": "2022-05-15T10:08:32.804Z"
   },
   {
    "duration": 15,
    "start_time": "2022-05-15T10:08:43.010Z"
   },
   {
    "duration": 13,
    "start_time": "2022-05-15T10:09:25.476Z"
   },
   {
    "duration": 5,
    "start_time": "2022-05-15T10:48:17.064Z"
   },
   {
    "duration": 4,
    "start_time": "2022-05-15T10:48:53.987Z"
   },
   {
    "duration": 5,
    "start_time": "2022-05-15T10:49:39.458Z"
   },
   {
    "duration": 5,
    "start_time": "2022-05-15T10:49:48.875Z"
   },
   {
    "duration": 6,
    "start_time": "2022-05-15T10:50:26.931Z"
   },
   {
    "duration": 97,
    "start_time": "2022-05-15T10:52:17.578Z"
   },
   {
    "duration": 67,
    "start_time": "2022-05-15T10:52:38.714Z"
   },
   {
    "duration": 4,
    "start_time": "2022-05-15T10:52:53.457Z"
   },
   {
    "duration": 8,
    "start_time": "2022-05-15T10:53:01.177Z"
   },
   {
    "duration": 3,
    "start_time": "2022-05-15T10:53:41.161Z"
   },
   {
    "duration": 4,
    "start_time": "2022-05-15T10:54:01.049Z"
   },
   {
    "duration": 4,
    "start_time": "2022-05-15T10:54:28.137Z"
   },
   {
    "duration": 5,
    "start_time": "2022-05-15T10:56:17.761Z"
   },
   {
    "duration": 6,
    "start_time": "2022-05-15T10:56:48.888Z"
   },
   {
    "duration": 22,
    "start_time": "2022-05-15T10:56:58.007Z"
   },
   {
    "duration": 21,
    "start_time": "2022-05-15T10:58:55.268Z"
   },
   {
    "duration": 5,
    "start_time": "2022-05-15T11:02:30.235Z"
   },
   {
    "duration": 22,
    "start_time": "2022-05-15T11:06:28.108Z"
   },
   {
    "duration": 16,
    "start_time": "2022-05-15T11:06:40.698Z"
   },
   {
    "duration": 25,
    "start_time": "2022-05-15T11:06:46.363Z"
   },
   {
    "duration": 10,
    "start_time": "2022-05-15T11:06:50.677Z"
   },
   {
    "duration": 8,
    "start_time": "2022-05-15T11:06:53.924Z"
   },
   {
    "duration": 9,
    "start_time": "2022-05-15T11:08:04.395Z"
   },
   {
    "duration": 5,
    "start_time": "2022-05-15T11:09:38.435Z"
   },
   {
    "duration": 5,
    "start_time": "2022-05-15T11:09:39.195Z"
   },
   {
    "duration": 8,
    "start_time": "2022-05-15T11:10:36.218Z"
   },
   {
    "duration": 7,
    "start_time": "2022-05-15T11:13:42.913Z"
   },
   {
    "duration": 4,
    "start_time": "2022-05-15T11:13:45.665Z"
   },
   {
    "duration": 21,
    "start_time": "2022-05-15T11:13:46.465Z"
   },
   {
    "duration": 5,
    "start_time": "2022-05-15T11:15:00.761Z"
   },
   {
    "duration": 22,
    "start_time": "2022-05-15T11:15:01.162Z"
   },
   {
    "duration": 14,
    "start_time": "2022-05-15T11:15:32.409Z"
   },
   {
    "duration": 10,
    "start_time": "2022-05-15T11:20:24.692Z"
   },
   {
    "duration": 4,
    "start_time": "2022-05-15T11:20:24.895Z"
   },
   {
    "duration": 21,
    "start_time": "2022-05-15T11:20:25.087Z"
   },
   {
    "duration": 4,
    "start_time": "2022-05-15T11:20:25.271Z"
   },
   {
    "duration": 21,
    "start_time": "2022-05-15T11:20:25.711Z"
   },
   {
    "duration": 7,
    "start_time": "2022-05-15T11:22:01.748Z"
   },
   {
    "duration": 28,
    "start_time": "2022-05-15T11:22:01.959Z"
   },
   {
    "duration": 4,
    "start_time": "2022-05-15T11:22:14.015Z"
   },
   {
    "duration": 33,
    "start_time": "2022-05-15T11:22:14.335Z"
   },
   {
    "duration": 5,
    "start_time": "2022-05-15T11:22:59.471Z"
   },
   {
    "duration": 21,
    "start_time": "2022-05-15T11:23:00.006Z"
   },
   {
    "duration": 8,
    "start_time": "2022-05-15T11:28:35.908Z"
   },
   {
    "duration": 12,
    "start_time": "2022-05-15T11:29:56.331Z"
   },
   {
    "duration": 9,
    "start_time": "2022-05-15T11:30:08.077Z"
   },
   {
    "duration": 9,
    "start_time": "2022-05-15T11:30:16.372Z"
   },
   {
    "duration": 6,
    "start_time": "2022-05-15T11:30:19.932Z"
   },
   {
    "duration": 8,
    "start_time": "2022-05-15T11:30:37.092Z"
   },
   {
    "duration": 10,
    "start_time": "2022-05-15T11:32:05.370Z"
   },
   {
    "duration": 8,
    "start_time": "2022-05-15T11:32:06.044Z"
   },
   {
    "duration": 9,
    "start_time": "2022-05-15T11:40:20.313Z"
   },
   {
    "duration": 4,
    "start_time": "2022-05-15T11:40:43.864Z"
   },
   {
    "duration": 4,
    "start_time": "2022-05-15T11:40:54.536Z"
   },
   {
    "duration": 13,
    "start_time": "2022-05-15T11:43:50.440Z"
   },
   {
    "duration": 5,
    "start_time": "2022-05-15T11:44:37.559Z"
   },
   {
    "duration": 9,
    "start_time": "2022-05-15T11:45:00.935Z"
   },
   {
    "duration": 1968,
    "start_time": "2022-05-15T11:45:31.007Z"
   },
   {
    "duration": 4,
    "start_time": "2022-05-15T11:45:40.407Z"
   },
   {
    "duration": 3,
    "start_time": "2022-05-15T11:45:40.792Z"
   },
   {
    "duration": 2069,
    "start_time": "2022-05-15T11:48:12.611Z"
   },
   {
    "duration": 1426,
    "start_time": "2022-05-16T17:29:15.685Z"
   },
   {
    "duration": 3,
    "start_time": "2022-05-16T17:29:17.114Z"
   },
   {
    "duration": 318,
    "start_time": "2022-05-16T17:29:17.119Z"
   },
   {
    "duration": 46,
    "start_time": "2022-05-16T17:29:17.440Z"
   },
   {
    "duration": 18,
    "start_time": "2022-05-16T17:29:17.488Z"
   },
   {
    "duration": 99,
    "start_time": "2022-05-16T17:29:17.508Z"
   },
   {
    "duration": 31,
    "start_time": "2022-05-16T17:29:17.609Z"
   },
   {
    "duration": 12,
    "start_time": "2022-05-16T17:29:17.651Z"
   },
   {
    "duration": 412,
    "start_time": "2022-05-16T17:29:17.665Z"
   },
   {
    "duration": 32,
    "start_time": "2022-05-16T17:29:18.082Z"
   },
   {
    "duration": 40,
    "start_time": "2022-05-16T17:29:18.117Z"
   },
   {
    "duration": 4,
    "start_time": "2022-05-16T17:29:18.160Z"
   },
   {
    "duration": 8,
    "start_time": "2022-05-16T17:29:18.166Z"
   },
   {
    "duration": 9,
    "start_time": "2022-05-16T17:29:18.176Z"
   },
   {
    "duration": 6,
    "start_time": "2022-05-16T17:29:18.187Z"
   },
   {
    "duration": 433,
    "start_time": "2022-05-16T17:29:18.195Z"
   },
   {
    "duration": 7,
    "start_time": "2022-05-16T17:29:18.630Z"
   },
   {
    "duration": 7,
    "start_time": "2022-05-16T17:29:18.651Z"
   },
   {
    "duration": 21,
    "start_time": "2022-05-16T17:29:18.661Z"
   },
   {
    "duration": 15,
    "start_time": "2022-05-16T17:29:18.684Z"
   },
   {
    "duration": 9,
    "start_time": "2022-05-16T17:29:18.702Z"
   },
   {
    "duration": 8,
    "start_time": "2022-05-16T17:29:18.753Z"
   },
   {
    "duration": 13,
    "start_time": "2022-05-16T17:29:18.763Z"
   },
   {
    "duration": 10,
    "start_time": "2022-05-16T17:29:18.778Z"
   },
   {
    "duration": 6,
    "start_time": "2022-05-16T17:29:18.791Z"
   },
   {
    "duration": 65,
    "start_time": "2022-05-16T17:29:18.799Z"
   },
   {
    "duration": 6,
    "start_time": "2022-05-16T17:29:18.866Z"
   },
   {
    "duration": 31,
    "start_time": "2022-05-16T17:29:18.877Z"
   },
   {
    "duration": 6,
    "start_time": "2022-05-16T17:29:18.910Z"
   },
   {
    "duration": 60,
    "start_time": "2022-05-16T17:29:18.918Z"
   },
   {
    "duration": 6,
    "start_time": "2022-05-16T17:29:18.980Z"
   },
   {
    "duration": 36,
    "start_time": "2022-05-16T17:29:18.988Z"
   },
   {
    "duration": 35,
    "start_time": "2022-05-16T17:29:19.026Z"
   },
   {
    "duration": 2252,
    "start_time": "2022-05-16T17:29:19.064Z"
   },
   {
    "duration": 11,
    "start_time": "2022-05-16T17:29:21.318Z"
   },
   {
    "duration": 2261,
    "start_time": "2022-05-16T17:29:21.332Z"
   },
   {
    "duration": 6,
    "start_time": "2022-05-16T17:41:00.635Z"
   },
   {
    "duration": 8,
    "start_time": "2022-05-16T17:45:39.737Z"
   },
   {
    "duration": 9,
    "start_time": "2022-05-16T17:46:22.218Z"
   },
   {
    "duration": 7,
    "start_time": "2022-05-16T17:46:27.530Z"
   },
   {
    "duration": 7,
    "start_time": "2022-05-16T17:46:31.337Z"
   },
   {
    "duration": 7,
    "start_time": "2022-05-16T17:47:13.528Z"
   },
   {
    "duration": 545,
    "start_time": "2022-05-16T17:47:42.754Z"
   },
   {
    "duration": 85,
    "start_time": "2022-05-16T17:48:00.817Z"
   },
   {
    "duration": 741,
    "start_time": "2022-05-16T17:48:44.288Z"
   },
   {
    "duration": 1165,
    "start_time": "2022-05-16T17:49:26.241Z"
   },
   {
    "duration": 1082,
    "start_time": "2022-05-16T17:49:50.072Z"
   },
   {
    "duration": 1145,
    "start_time": "2022-05-16T17:51:55.326Z"
   },
   {
    "duration": 1329,
    "start_time": "2022-05-16T17:52:11.175Z"
   },
   {
    "duration": 1159,
    "start_time": "2022-05-16T17:52:37.030Z"
   },
   {
    "duration": 1153,
    "start_time": "2022-05-16T17:52:44.302Z"
   },
   {
    "duration": 1325,
    "start_time": "2022-05-16T17:52:47.230Z"
   },
   {
    "duration": 1174,
    "start_time": "2022-05-16T17:52:51.838Z"
   },
   {
    "duration": 1371,
    "start_time": "2022-05-16T17:54:38.118Z"
   },
   {
    "duration": 1219,
    "start_time": "2022-05-16T17:54:50.150Z"
   },
   {
    "duration": 1269,
    "start_time": "2022-05-16T17:54:54.789Z"
   },
   {
    "duration": 1606,
    "start_time": "2022-05-16T17:55:07.630Z"
   },
   {
    "duration": 1190,
    "start_time": "2022-05-16T17:55:28.238Z"
   },
   {
    "duration": 1335,
    "start_time": "2022-05-16T17:55:35.861Z"
   },
   {
    "duration": 1156,
    "start_time": "2022-05-16T17:55:54.630Z"
   },
   {
    "duration": 1175,
    "start_time": "2022-05-16T17:56:11.885Z"
   },
   {
    "duration": 27,
    "start_time": "2022-05-16T17:57:17.021Z"
   },
   {
    "duration": 32,
    "start_time": "2022-05-16T17:57:24.267Z"
   },
   {
    "duration": 1145,
    "start_time": "2022-05-16T18:00:39.084Z"
   },
   {
    "duration": 1277,
    "start_time": "2022-05-16T18:02:31.539Z"
   },
   {
    "duration": 32,
    "start_time": "2022-05-16T18:04:25.232Z"
   },
   {
    "duration": 4,
    "start_time": "2022-05-16T18:09:20.488Z"
   },
   {
    "duration": 4,
    "start_time": "2022-05-16T18:12:09.006Z"
   },
   {
    "duration": 8,
    "start_time": "2022-05-16T18:12:50.654Z"
   },
   {
    "duration": 8,
    "start_time": "2022-05-16T18:13:41.967Z"
   },
   {
    "duration": 8,
    "start_time": "2022-05-16T18:15:14.111Z"
   },
   {
    "duration": 34,
    "start_time": "2022-05-16T18:20:43.009Z"
   },
   {
    "duration": 1528,
    "start_time": "2022-05-16T18:20:56.675Z"
   },
   {
    "duration": 1593,
    "start_time": "2022-05-16T18:21:27.628Z"
   },
   {
    "duration": 7,
    "start_time": "2022-05-16T18:21:52.443Z"
   },
   {
    "duration": 6,
    "start_time": "2022-05-16T18:21:55.108Z"
   },
   {
    "duration": 9,
    "start_time": "2022-05-16T18:22:05.187Z"
   },
   {
    "duration": 9,
    "start_time": "2022-05-16T18:22:06.355Z"
   },
   {
    "duration": 8,
    "start_time": "2022-05-16T18:22:25.578Z"
   },
   {
    "duration": 7,
    "start_time": "2022-05-16T18:24:24.962Z"
   },
   {
    "duration": 8,
    "start_time": "2022-05-16T18:24:35.698Z"
   },
   {
    "duration": 7,
    "start_time": "2022-05-16T18:24:47.265Z"
   },
   {
    "duration": 8,
    "start_time": "2022-05-16T18:24:58.913Z"
   },
   {
    "duration": 9,
    "start_time": "2022-05-16T18:25:26.450Z"
   },
   {
    "duration": 8,
    "start_time": "2022-05-16T18:25:32.209Z"
   },
   {
    "duration": 8,
    "start_time": "2022-05-16T18:25:42.961Z"
   },
   {
    "duration": 7,
    "start_time": "2022-05-16T18:26:04.834Z"
   },
   {
    "duration": 8,
    "start_time": "2022-05-16T18:26:08.425Z"
   },
   {
    "duration": 8,
    "start_time": "2022-05-16T18:26:20.145Z"
   },
   {
    "duration": 8,
    "start_time": "2022-05-16T18:26:27.657Z"
   },
   {
    "duration": 8,
    "start_time": "2022-05-16T18:28:24.473Z"
   },
   {
    "duration": 34,
    "start_time": "2022-05-16T18:32:21.629Z"
   },
   {
    "duration": 34,
    "start_time": "2022-05-16T18:32:34.616Z"
   },
   {
    "duration": 2051,
    "start_time": "2022-05-16T18:33:57.926Z"
   },
   {
    "duration": 7,
    "start_time": "2022-05-16T18:35:06.015Z"
   },
   {
    "duration": 13,
    "start_time": "2022-05-16T18:35:18.711Z"
   },
   {
    "duration": 9,
    "start_time": "2022-05-16T18:35:31.430Z"
   },
   {
    "duration": 10,
    "start_time": "2022-05-16T18:35:37.253Z"
   },
   {
    "duration": 1503,
    "start_time": "2022-05-18T18:31:30.660Z"
   },
   {
    "duration": 5,
    "start_time": "2022-05-18T18:31:32.165Z"
   },
   {
    "duration": 9,
    "start_time": "2022-05-18T18:31:32.171Z"
   },
   {
    "duration": 811,
    "start_time": "2022-05-18T18:31:32.182Z"
   },
   {
    "duration": 26,
    "start_time": "2022-05-18T18:31:32.995Z"
   },
   {
    "duration": 11,
    "start_time": "2022-05-18T18:31:33.023Z"
   },
   {
    "duration": 128,
    "start_time": "2022-05-18T18:31:33.035Z"
   },
   {
    "duration": 21,
    "start_time": "2022-05-18T18:31:33.164Z"
   },
   {
    "duration": 11,
    "start_time": "2022-05-18T18:31:33.187Z"
   },
   {
    "duration": 578,
    "start_time": "2022-05-18T18:31:33.202Z"
   },
   {
    "duration": 26,
    "start_time": "2022-05-18T18:31:33.782Z"
   },
   {
    "duration": 12,
    "start_time": "2022-05-18T18:31:33.810Z"
   },
   {
    "duration": 4,
    "start_time": "2022-05-18T18:31:33.823Z"
   },
   {
    "duration": 8,
    "start_time": "2022-05-18T18:31:33.828Z"
   },
   {
    "duration": 30,
    "start_time": "2022-05-18T18:31:33.837Z"
   },
   {
    "duration": 7,
    "start_time": "2022-05-18T18:31:33.869Z"
   },
   {
    "duration": 303,
    "start_time": "2022-05-18T18:31:33.878Z"
   },
   {
    "duration": 6,
    "start_time": "2022-05-18T18:31:34.183Z"
   },
   {
    "duration": 11,
    "start_time": "2022-05-18T18:31:34.190Z"
   },
   {
    "duration": 20,
    "start_time": "2022-05-18T18:31:34.202Z"
   },
   {
    "duration": 15,
    "start_time": "2022-05-18T18:31:34.223Z"
   },
   {
    "duration": 27,
    "start_time": "2022-05-18T18:31:34.240Z"
   },
   {
    "duration": 5,
    "start_time": "2022-05-18T18:31:34.269Z"
   },
   {
    "duration": 9,
    "start_time": "2022-05-18T18:31:34.276Z"
   },
   {
    "duration": 9,
    "start_time": "2022-05-18T18:31:34.286Z"
   },
   {
    "duration": 6,
    "start_time": "2022-05-18T18:31:34.296Z"
   },
   {
    "duration": 23,
    "start_time": "2022-05-18T18:31:34.303Z"
   },
   {
    "duration": 38,
    "start_time": "2022-05-18T18:31:34.330Z"
   },
   {
    "duration": 23,
    "start_time": "2022-05-18T18:31:34.370Z"
   },
   {
    "duration": 7,
    "start_time": "2022-05-18T18:31:34.395Z"
   },
   {
    "duration": 28,
    "start_time": "2022-05-18T18:31:34.404Z"
   },
   {
    "duration": 8,
    "start_time": "2022-05-18T18:31:34.433Z"
   },
   {
    "duration": 45,
    "start_time": "2022-05-18T18:31:34.442Z"
   },
   {
    "duration": 9,
    "start_time": "2022-05-18T18:31:34.488Z"
   },
   {
    "duration": 2071,
    "start_time": "2022-05-18T18:31:34.498Z"
   },
   {
    "duration": 9,
    "start_time": "2022-05-18T18:31:36.572Z"
   },
   {
    "duration": 2082,
    "start_time": "2022-05-18T18:31:36.583Z"
   },
   {
    "duration": 26,
    "start_time": "2022-05-18T18:31:38.667Z"
   },
   {
    "duration": 1031,
    "start_time": "2022-05-18T18:31:38.695Z"
   },
   {
    "duration": 6,
    "start_time": "2022-05-18T18:31:39.727Z"
   },
   {
    "duration": 24,
    "start_time": "2022-05-18T18:31:39.735Z"
   },
   {
    "duration": 54,
    "start_time": "2022-05-18T18:31:39.761Z"
   },
   {
    "duration": 1357,
    "start_time": "2022-05-18T18:31:39.817Z"
   },
   {
    "duration": 7,
    "start_time": "2022-05-18T18:31:41.179Z"
   },
   {
    "duration": 23,
    "start_time": "2022-05-18T18:31:41.187Z"
   },
   {
    "duration": 57,
    "start_time": "2022-05-18T18:31:41.211Z"
   },
   {
    "duration": 1650,
    "start_time": "2022-05-18T18:31:41.271Z"
   },
   {
    "duration": 8,
    "start_time": "2022-05-18T18:31:42.924Z"
   },
   {
    "duration": 22,
    "start_time": "2022-05-18T18:31:42.934Z"
   },
   {
    "duration": 11,
    "start_time": "2022-05-18T18:31:42.960Z"
   },
   {
    "duration": 16,
    "start_time": "2022-05-18T18:31:42.974Z"
   },
   {
    "duration": 34,
    "start_time": "2022-05-18T18:31:42.992Z"
   },
   {
    "duration": 896,
    "start_time": "2022-05-18T18:31:43.029Z"
   },
   {
    "duration": 8,
    "start_time": "2022-05-18T18:31:43.928Z"
   },
   {
    "duration": 413,
    "start_time": "2022-05-18T18:31:43.938Z"
   },
   {
    "duration": 31,
    "start_time": "2022-05-18T18:31:44.353Z"
   },
   {
    "duration": 2057,
    "start_time": "2022-05-18T18:31:44.386Z"
   },
   {
    "duration": 5,
    "start_time": "2022-05-18T18:31:46.445Z"
   },
   {
    "duration": 14,
    "start_time": "2022-05-18T18:31:46.452Z"
   },
   {
    "duration": 407,
    "start_time": "2022-05-18T18:34:46.987Z"
   },
   {
    "duration": 32,
    "start_time": "2022-05-18T18:34:49.225Z"
   },
   {
    "duration": 1719,
    "start_time": "2022-05-18T18:34:53.642Z"
   },
   {
    "duration": 386,
    "start_time": "2022-05-18T18:41:11.954Z"
   },
   {
    "duration": 35,
    "start_time": "2022-05-18T18:41:12.642Z"
   },
   {
    "duration": 2064,
    "start_time": "2022-05-18T18:41:14.482Z"
   },
   {
    "duration": 9,
    "start_time": "2022-05-18T18:41:46.868Z"
   },
   {
    "duration": 8,
    "start_time": "2022-05-18T18:42:08.134Z"
   },
   {
    "duration": 6,
    "start_time": "2022-05-18T19:16:11.709Z"
   },
   {
    "duration": 17,
    "start_time": "2022-05-18T19:17:03.606Z"
   },
   {
    "duration": 8,
    "start_time": "2022-05-18T19:17:45.543Z"
   },
   {
    "duration": 19,
    "start_time": "2022-05-18T19:17:46.134Z"
   },
   {
    "duration": 17,
    "start_time": "2022-05-18T19:18:15.014Z"
   },
   {
    "duration": 10,
    "start_time": "2022-05-18T19:23:09.380Z"
   },
   {
    "duration": 20,
    "start_time": "2022-05-18T19:23:38.460Z"
   },
   {
    "duration": 11,
    "start_time": "2022-05-18T19:24:29.651Z"
   },
   {
    "duration": 1575,
    "start_time": "2022-05-18T19:24:47.319Z"
   },
   {
    "duration": 9,
    "start_time": "2022-05-18T19:24:48.897Z"
   },
   {
    "duration": 181,
    "start_time": "2022-05-18T19:24:48.909Z"
   },
   {
    "duration": 524,
    "start_time": "2022-05-18T19:24:49.097Z"
   },
   {
    "duration": 35,
    "start_time": "2022-05-18T19:24:49.624Z"
   },
   {
    "duration": 22,
    "start_time": "2022-05-18T19:24:49.664Z"
   },
   {
    "duration": 117,
    "start_time": "2022-05-18T19:24:49.690Z"
   },
   {
    "duration": 43,
    "start_time": "2022-05-18T19:24:49.812Z"
   },
   {
    "duration": 17,
    "start_time": "2022-05-18T19:24:49.857Z"
   },
   {
    "duration": 670,
    "start_time": "2022-05-18T19:24:49.878Z"
   },
   {
    "duration": 37,
    "start_time": "2022-05-18T19:24:50.555Z"
   },
   {
    "duration": 82,
    "start_time": "2022-05-18T19:24:50.594Z"
   },
   {
    "duration": 87,
    "start_time": "2022-05-18T19:24:50.681Z"
   },
   {
    "duration": 78,
    "start_time": "2022-05-18T19:24:50.770Z"
   },
   {
    "duration": 83,
    "start_time": "2022-05-18T19:24:50.851Z"
   },
   {
    "duration": 21,
    "start_time": "2022-05-18T19:24:50.937Z"
   },
   {
    "duration": 482,
    "start_time": "2022-05-18T19:24:50.960Z"
   },
   {
    "duration": 6,
    "start_time": "2022-05-18T19:24:51.444Z"
   },
   {
    "duration": 85,
    "start_time": "2022-05-18T19:24:51.452Z"
   },
   {
    "duration": 42,
    "start_time": "2022-05-18T19:24:51.539Z"
   },
   {
    "duration": 63,
    "start_time": "2022-05-18T19:24:51.585Z"
   },
   {
    "duration": 9,
    "start_time": "2022-05-18T19:24:51.651Z"
   },
   {
    "duration": 51,
    "start_time": "2022-05-18T19:24:51.662Z"
   },
   {
    "duration": 14,
    "start_time": "2022-05-18T19:24:51.715Z"
   },
   {
    "duration": 9,
    "start_time": "2022-05-18T19:24:51.732Z"
   },
   {
    "duration": 8,
    "start_time": "2022-05-18T19:24:51.743Z"
   },
   {
    "duration": 41,
    "start_time": "2022-05-18T19:24:51.753Z"
   },
   {
    "duration": 32,
    "start_time": "2022-05-18T19:24:51.800Z"
   },
   {
    "duration": 41,
    "start_time": "2022-05-18T19:24:51.834Z"
   },
   {
    "duration": 46,
    "start_time": "2022-05-18T19:24:51.877Z"
   },
   {
    "duration": 32,
    "start_time": "2022-05-18T19:24:51.925Z"
   },
   {
    "duration": 60,
    "start_time": "2022-05-18T19:24:51.959Z"
   },
   {
    "duration": 39,
    "start_time": "2022-05-18T19:24:52.021Z"
   },
   {
    "duration": 62,
    "start_time": "2022-05-18T19:24:52.062Z"
   },
   {
    "duration": 3211,
    "start_time": "2022-05-18T19:24:52.126Z"
   },
   {
    "duration": 11,
    "start_time": "2022-05-18T19:24:55.343Z"
   },
   {
    "duration": 3574,
    "start_time": "2022-05-18T19:24:55.356Z"
   },
   {
    "duration": 44,
    "start_time": "2022-05-18T19:24:58.933Z"
   },
   {
    "duration": 1561,
    "start_time": "2022-05-18T19:24:58.979Z"
   },
   {
    "duration": 8,
    "start_time": "2022-05-18T19:25:00.548Z"
   },
   {
    "duration": 139,
    "start_time": "2022-05-18T19:25:00.558Z"
   },
   {
    "duration": 158,
    "start_time": "2022-05-18T19:25:00.700Z"
   },
   {
    "duration": 2223,
    "start_time": "2022-05-18T19:25:00.860Z"
   },
   {
    "duration": 10,
    "start_time": "2022-05-18T19:25:03.091Z"
   },
   {
    "duration": 157,
    "start_time": "2022-05-18T19:25:03.108Z"
   },
   {
    "duration": 164,
    "start_time": "2022-05-18T19:25:03.276Z"
   },
   {
    "duration": 2624,
    "start_time": "2022-05-18T19:25:03.456Z"
   },
   {
    "duration": 12,
    "start_time": "2022-05-18T19:25:06.084Z"
   },
   {
    "duration": 121,
    "start_time": "2022-05-18T19:25:06.102Z"
   },
   {
    "duration": 171,
    "start_time": "2022-05-18T19:25:06.228Z"
   },
   {
    "duration": 46,
    "start_time": "2022-05-18T19:25:06.404Z"
   },
   {
    "duration": 106,
    "start_time": "2022-05-18T19:25:06.457Z"
   },
   {
    "duration": 1046,
    "start_time": "2022-05-18T19:25:06.565Z"
   },
   {
    "duration": 11,
    "start_time": "2022-05-18T19:25:07.614Z"
   },
   {
    "duration": 216,
    "start_time": "2022-05-18T19:25:07.628Z"
   },
   {
    "duration": 0,
    "start_time": "2022-05-18T19:25:07.846Z"
   },
   {
    "duration": 0,
    "start_time": "2022-05-18T19:25:07.848Z"
   },
   {
    "duration": 0,
    "start_time": "2022-05-18T19:25:07.850Z"
   },
   {
    "duration": 0,
    "start_time": "2022-05-18T19:25:07.852Z"
   },
   {
    "duration": 0,
    "start_time": "2022-05-18T19:25:07.853Z"
   },
   {
    "duration": 0,
    "start_time": "2022-05-18T19:25:07.854Z"
   },
   {
    "duration": 0,
    "start_time": "2022-05-18T19:25:07.855Z"
   },
   {
    "duration": 0,
    "start_time": "2022-05-18T19:25:07.857Z"
   },
   {
    "duration": 0,
    "start_time": "2022-05-18T19:25:07.858Z"
   },
   {
    "duration": 1722,
    "start_time": "2022-05-18T19:25:55.057Z"
   },
   {
    "duration": 3,
    "start_time": "2022-05-18T19:25:56.781Z"
   },
   {
    "duration": 43,
    "start_time": "2022-05-18T19:25:56.786Z"
   },
   {
    "duration": 419,
    "start_time": "2022-05-18T19:25:56.835Z"
   },
   {
    "duration": 38,
    "start_time": "2022-05-18T19:25:57.256Z"
   },
   {
    "duration": 37,
    "start_time": "2022-05-18T19:25:57.296Z"
   },
   {
    "duration": 124,
    "start_time": "2022-05-18T19:25:57.335Z"
   },
   {
    "duration": 42,
    "start_time": "2022-05-18T19:25:57.462Z"
   },
   {
    "duration": 42,
    "start_time": "2022-05-18T19:25:57.506Z"
   },
   {
    "duration": 514,
    "start_time": "2022-05-18T19:25:57.552Z"
   },
   {
    "duration": 40,
    "start_time": "2022-05-18T19:25:58.068Z"
   },
   {
    "duration": 26,
    "start_time": "2022-05-18T19:25:58.110Z"
   },
   {
    "duration": 4,
    "start_time": "2022-05-18T19:25:58.138Z"
   },
   {
    "duration": 10,
    "start_time": "2022-05-18T19:25:58.144Z"
   },
   {
    "duration": 55,
    "start_time": "2022-05-18T19:25:58.169Z"
   },
   {
    "duration": 16,
    "start_time": "2022-05-18T19:25:58.227Z"
   },
   {
    "duration": 431,
    "start_time": "2022-05-18T19:25:58.245Z"
   },
   {
    "duration": 8,
    "start_time": "2022-05-18T19:25:58.678Z"
   },
   {
    "duration": 44,
    "start_time": "2022-05-18T19:25:58.688Z"
   },
   {
    "duration": 25,
    "start_time": "2022-05-18T19:25:58.735Z"
   },
   {
    "duration": 33,
    "start_time": "2022-05-18T19:25:58.763Z"
   },
   {
    "duration": 50,
    "start_time": "2022-05-18T19:25:58.798Z"
   },
   {
    "duration": 11,
    "start_time": "2022-05-18T19:25:58.850Z"
   },
   {
    "duration": 34,
    "start_time": "2022-05-18T19:25:58.863Z"
   },
   {
    "duration": 31,
    "start_time": "2022-05-18T19:25:58.899Z"
   },
   {
    "duration": 94,
    "start_time": "2022-05-18T19:25:58.933Z"
   },
   {
    "duration": 42,
    "start_time": "2022-05-18T19:25:59.029Z"
   },
   {
    "duration": 16,
    "start_time": "2022-05-18T19:25:59.082Z"
   },
   {
    "duration": 97,
    "start_time": "2022-05-18T19:25:59.104Z"
   },
   {
    "duration": 80,
    "start_time": "2022-05-18T19:25:59.209Z"
   },
   {
    "duration": 94,
    "start_time": "2022-05-18T19:25:59.296Z"
   },
   {
    "duration": 8,
    "start_time": "2022-05-18T19:25:59.392Z"
   },
   {
    "duration": 98,
    "start_time": "2022-05-18T19:25:59.402Z"
   },
   {
    "duration": 59,
    "start_time": "2022-05-18T19:25:59.503Z"
   },
   {
    "duration": 3380,
    "start_time": "2022-05-18T19:25:59.564Z"
   },
   {
    "duration": 15,
    "start_time": "2022-05-18T19:26:02.952Z"
   },
   {
    "duration": 3283,
    "start_time": "2022-05-18T19:26:02.969Z"
   },
   {
    "duration": 55,
    "start_time": "2022-05-18T19:26:06.254Z"
   },
   {
    "duration": 1333,
    "start_time": "2022-05-18T19:26:06.312Z"
   },
   {
    "duration": 6,
    "start_time": "2022-05-18T19:26:07.647Z"
   },
   {
    "duration": 27,
    "start_time": "2022-05-18T19:26:07.654Z"
   },
   {
    "duration": 114,
    "start_time": "2022-05-18T19:26:07.687Z"
   },
   {
    "duration": 1984,
    "start_time": "2022-05-18T19:26:07.807Z"
   },
   {
    "duration": 11,
    "start_time": "2022-05-18T19:26:09.797Z"
   },
   {
    "duration": 142,
    "start_time": "2022-05-18T19:26:09.815Z"
   },
   {
    "duration": 219,
    "start_time": "2022-05-18T19:26:09.968Z"
   },
   {
    "duration": 2315,
    "start_time": "2022-05-18T19:26:10.193Z"
   },
   {
    "duration": 15,
    "start_time": "2022-05-18T19:26:12.516Z"
   },
   {
    "duration": 57,
    "start_time": "2022-05-18T19:26:12.536Z"
   },
   {
    "duration": 161,
    "start_time": "2022-05-18T19:26:12.609Z"
   },
   {
    "duration": 68,
    "start_time": "2022-05-18T19:26:12.779Z"
   },
   {
    "duration": 158,
    "start_time": "2022-05-18T19:26:12.851Z"
   },
   {
    "duration": 993,
    "start_time": "2022-05-18T19:26:13.015Z"
   },
   {
    "duration": 26,
    "start_time": "2022-05-18T19:26:14.010Z"
   },
   {
    "duration": 940,
    "start_time": "2022-05-18T19:26:14.038Z"
   },
   {
    "duration": 39,
    "start_time": "2022-05-18T19:26:14.980Z"
   },
   {
    "duration": 3524,
    "start_time": "2022-05-18T19:26:15.022Z"
   },
   {
    "duration": 23,
    "start_time": "2022-05-18T19:26:18.549Z"
   },
   {
    "duration": 80,
    "start_time": "2022-05-18T19:26:18.574Z"
   },
   {
    "duration": 8,
    "start_time": "2022-05-18T19:26:18.656Z"
   },
   {
    "duration": 69,
    "start_time": "2022-05-18T19:26:18.671Z"
   },
   {
    "duration": 34,
    "start_time": "2022-05-18T19:26:18.742Z"
   },
   {
    "duration": 56,
    "start_time": "2022-05-18T19:26:18.778Z"
   },
   {
    "duration": 7,
    "start_time": "2022-05-18T19:47:28.455Z"
   },
   {
    "duration": 267,
    "start_time": "2022-05-18T19:47:29.117Z"
   },
   {
    "duration": 7,
    "start_time": "2022-05-18T19:49:02.423Z"
   },
   {
    "duration": 18,
    "start_time": "2022-05-18T19:49:02.995Z"
   },
   {
    "duration": 21,
    "start_time": "2022-05-18T19:49:03.628Z"
   },
   {
    "duration": 12,
    "start_time": "2022-05-18T19:49:04.046Z"
   },
   {
    "duration": 1940,
    "start_time": "2022-05-18T19:49:16.333Z"
   },
   {
    "duration": 8,
    "start_time": "2022-05-18T19:49:18.277Z"
   },
   {
    "duration": 62,
    "start_time": "2022-05-18T19:49:18.291Z"
   },
   {
    "duration": 463,
    "start_time": "2022-05-18T19:49:18.356Z"
   },
   {
    "duration": 35,
    "start_time": "2022-05-18T19:49:18.821Z"
   },
   {
    "duration": 32,
    "start_time": "2022-05-18T19:49:18.864Z"
   },
   {
    "duration": 357,
    "start_time": "2022-05-18T19:49:18.902Z"
   },
   {
    "duration": 49,
    "start_time": "2022-05-18T19:49:19.261Z"
   },
   {
    "duration": 54,
    "start_time": "2022-05-18T19:49:19.313Z"
   },
   {
    "duration": 611,
    "start_time": "2022-05-18T19:49:19.371Z"
   },
   {
    "duration": 33,
    "start_time": "2022-05-18T19:49:19.987Z"
   },
   {
    "duration": 53,
    "start_time": "2022-05-18T19:49:20.022Z"
   },
   {
    "duration": 84,
    "start_time": "2022-05-18T19:49:20.077Z"
   },
   {
    "duration": 108,
    "start_time": "2022-05-18T19:49:20.163Z"
   },
   {
    "duration": 109,
    "start_time": "2022-05-18T19:49:20.275Z"
   },
   {
    "duration": 62,
    "start_time": "2022-05-18T19:49:20.386Z"
   },
   {
    "duration": 511,
    "start_time": "2022-05-18T19:49:20.450Z"
   },
   {
    "duration": 9,
    "start_time": "2022-05-18T19:49:20.967Z"
   },
   {
    "duration": 75,
    "start_time": "2022-05-18T19:49:20.981Z"
   },
   {
    "duration": 157,
    "start_time": "2022-05-18T19:49:21.061Z"
   },
   {
    "duration": 65,
    "start_time": "2022-05-18T19:49:21.226Z"
   },
   {
    "duration": 29,
    "start_time": "2022-05-18T19:49:21.303Z"
   },
   {
    "duration": 23,
    "start_time": "2022-05-18T19:49:21.340Z"
   },
   {
    "duration": 87,
    "start_time": "2022-05-18T19:49:21.370Z"
   },
   {
    "duration": 114,
    "start_time": "2022-05-18T19:49:21.462Z"
   },
   {
    "duration": 101,
    "start_time": "2022-05-18T19:49:21.591Z"
   },
   {
    "duration": 161,
    "start_time": "2022-05-18T19:49:21.700Z"
   },
   {
    "duration": 53,
    "start_time": "2022-05-18T19:49:21.872Z"
   },
   {
    "duration": 56,
    "start_time": "2022-05-18T19:49:21.934Z"
   },
   {
    "duration": 73,
    "start_time": "2022-05-18T19:49:21.997Z"
   },
   {
    "duration": 138,
    "start_time": "2022-05-18T19:49:22.080Z"
   },
   {
    "duration": 89,
    "start_time": "2022-05-18T19:49:22.220Z"
   },
   {
    "duration": 200,
    "start_time": "2022-05-18T19:49:22.316Z"
   },
   {
    "duration": 82,
    "start_time": "2022-05-18T19:49:22.526Z"
   },
   {
    "duration": 4020,
    "start_time": "2022-05-18T19:49:22.617Z"
   },
   {
    "duration": 18,
    "start_time": "2022-05-18T19:49:26.644Z"
   },
   {
    "duration": 3859,
    "start_time": "2022-05-18T19:49:26.669Z"
   },
   {
    "duration": 48,
    "start_time": "2022-05-18T19:49:30.536Z"
   },
   {
    "duration": 1652,
    "start_time": "2022-05-18T19:49:30.593Z"
   },
   {
    "duration": 14,
    "start_time": "2022-05-18T19:49:32.251Z"
   },
   {
    "duration": 181,
    "start_time": "2022-05-18T19:49:32.271Z"
   },
   {
    "duration": 167,
    "start_time": "2022-05-18T19:49:32.459Z"
   },
   {
    "duration": 1956,
    "start_time": "2022-05-18T19:49:32.631Z"
   },
   {
    "duration": 9,
    "start_time": "2022-05-18T19:49:34.591Z"
   },
   {
    "duration": 15,
    "start_time": "2022-05-18T19:49:34.620Z"
   },
   {
    "duration": 163,
    "start_time": "2022-05-18T19:49:34.646Z"
   },
   {
    "duration": 2487,
    "start_time": "2022-05-18T19:49:34.811Z"
   },
   {
    "duration": 17,
    "start_time": "2022-05-18T19:49:37.306Z"
   },
   {
    "duration": 75,
    "start_time": "2022-05-18T19:49:37.330Z"
   },
   {
    "duration": 147,
    "start_time": "2022-05-18T19:49:37.412Z"
   },
   {
    "duration": 115,
    "start_time": "2022-05-18T19:49:37.567Z"
   },
   {
    "duration": 172,
    "start_time": "2022-05-18T19:49:37.694Z"
   },
   {
    "duration": 1609,
    "start_time": "2022-05-18T19:49:37.874Z"
   },
   {
    "duration": 10,
    "start_time": "2022-05-18T19:49:39.491Z"
   },
   {
    "duration": 919,
    "start_time": "2022-05-18T19:49:39.503Z"
   },
   {
    "duration": 47,
    "start_time": "2022-05-18T19:49:40.425Z"
   },
   {
    "duration": 3183,
    "start_time": "2022-05-18T19:49:40.479Z"
   },
   {
    "duration": 20,
    "start_time": "2022-05-18T19:49:43.669Z"
   },
   {
    "duration": 241,
    "start_time": "2022-05-18T19:49:43.696Z"
   },
   {
    "duration": 193,
    "start_time": "2022-05-18T19:49:43.944Z"
   },
   {
    "duration": 188,
    "start_time": "2022-05-18T19:49:44.153Z"
   },
   {
    "duration": 169,
    "start_time": "2022-05-18T19:49:44.347Z"
   },
   {
    "duration": 142,
    "start_time": "2022-05-18T19:49:44.528Z"
   },
   {
    "duration": 1629,
    "start_time": "2022-05-19T17:43:44.431Z"
   },
   {
    "duration": 6,
    "start_time": "2022-05-19T17:43:46.063Z"
   },
   {
    "duration": 21,
    "start_time": "2022-05-19T17:43:46.073Z"
   },
   {
    "duration": 1054,
    "start_time": "2022-05-19T17:43:46.096Z"
   },
   {
    "duration": 40,
    "start_time": "2022-05-19T17:43:47.152Z"
   },
   {
    "duration": 14,
    "start_time": "2022-05-19T17:43:47.194Z"
   },
   {
    "duration": 145,
    "start_time": "2022-05-19T17:43:47.210Z"
   },
   {
    "duration": 33,
    "start_time": "2022-05-19T17:43:47.357Z"
   },
   {
    "duration": 16,
    "start_time": "2022-05-19T17:43:47.392Z"
   },
   {
    "duration": 740,
    "start_time": "2022-05-19T17:43:47.414Z"
   },
   {
    "duration": 29,
    "start_time": "2022-05-19T17:43:48.155Z"
   },
   {
    "duration": 14,
    "start_time": "2022-05-19T17:43:48.187Z"
   },
   {
    "duration": 4,
    "start_time": "2022-05-19T17:43:48.203Z"
   },
   {
    "duration": 6,
    "start_time": "2022-05-19T17:43:48.209Z"
   },
   {
    "duration": 6,
    "start_time": "2022-05-19T17:43:48.216Z"
   },
   {
    "duration": 7,
    "start_time": "2022-05-19T17:43:48.224Z"
   },
   {
    "duration": 302,
    "start_time": "2022-05-19T17:43:48.233Z"
   },
   {
    "duration": 5,
    "start_time": "2022-05-19T17:43:48.538Z"
   },
   {
    "duration": 28,
    "start_time": "2022-05-19T17:43:48.545Z"
   },
   {
    "duration": 44,
    "start_time": "2022-05-19T17:43:48.575Z"
   },
   {
    "duration": 16,
    "start_time": "2022-05-19T17:43:48.622Z"
   },
   {
    "duration": 12,
    "start_time": "2022-05-19T17:43:48.641Z"
   },
   {
    "duration": 11,
    "start_time": "2022-05-19T17:43:48.655Z"
   },
   {
    "duration": 22,
    "start_time": "2022-05-19T17:43:48.667Z"
   },
   {
    "duration": 25,
    "start_time": "2022-05-19T17:43:48.693Z"
   },
   {
    "duration": 5,
    "start_time": "2022-05-19T17:43:48.721Z"
   },
   {
    "duration": 27,
    "start_time": "2022-05-19T17:43:48.728Z"
   },
   {
    "duration": 7,
    "start_time": "2022-05-19T17:43:48.760Z"
   },
   {
    "duration": 43,
    "start_time": "2022-05-19T17:43:48.768Z"
   },
   {
    "duration": 6,
    "start_time": "2022-05-19T17:43:48.813Z"
   },
   {
    "duration": 27,
    "start_time": "2022-05-19T17:43:48.821Z"
   },
   {
    "duration": 14,
    "start_time": "2022-05-19T17:43:48.850Z"
   },
   {
    "duration": 55,
    "start_time": "2022-05-19T17:43:48.866Z"
   },
   {
    "duration": 15,
    "start_time": "2022-05-19T17:43:48.924Z"
   },
   {
    "duration": 2119,
    "start_time": "2022-05-19T17:43:48.941Z"
   },
   {
    "duration": 19,
    "start_time": "2022-05-19T17:43:51.066Z"
   },
   {
    "duration": 2065,
    "start_time": "2022-05-19T17:43:51.087Z"
   },
   {
    "duration": 35,
    "start_time": "2022-05-19T17:43:53.155Z"
   },
   {
    "duration": 1029,
    "start_time": "2022-05-19T17:43:53.192Z"
   },
   {
    "duration": 7,
    "start_time": "2022-05-19T17:43:54.223Z"
   },
   {
    "duration": 27,
    "start_time": "2022-05-19T17:43:54.232Z"
   },
   {
    "duration": 39,
    "start_time": "2022-05-19T17:43:54.261Z"
   },
   {
    "duration": 1283,
    "start_time": "2022-05-19T17:43:54.302Z"
   },
   {
    "duration": 6,
    "start_time": "2022-05-19T17:43:55.587Z"
   },
   {
    "duration": 11,
    "start_time": "2022-05-19T17:43:55.595Z"
   },
   {
    "duration": 33,
    "start_time": "2022-05-19T17:43:55.609Z"
   },
   {
    "duration": 1567,
    "start_time": "2022-05-19T17:43:55.643Z"
   },
   {
    "duration": 9,
    "start_time": "2022-05-19T17:43:57.212Z"
   },
   {
    "duration": 8,
    "start_time": "2022-05-19T17:43:57.223Z"
   },
   {
    "duration": 8,
    "start_time": "2022-05-19T17:43:57.233Z"
   },
   {
    "duration": 3,
    "start_time": "2022-05-19T17:43:57.264Z"
   },
   {
    "duration": 37,
    "start_time": "2022-05-19T17:43:57.271Z"
   },
   {
    "duration": 930,
    "start_time": "2022-05-19T17:43:57.311Z"
   },
   {
    "duration": 9,
    "start_time": "2022-05-19T17:43:58.243Z"
   },
   {
    "duration": 445,
    "start_time": "2022-05-19T17:43:58.265Z"
   },
   {
    "duration": 24,
    "start_time": "2022-05-19T17:43:58.712Z"
   },
   {
    "duration": 2071,
    "start_time": "2022-05-19T17:43:58.738Z"
   },
   {
    "duration": 8,
    "start_time": "2022-05-19T17:44:00.811Z"
   },
   {
    "duration": 34,
    "start_time": "2022-05-19T17:44:00.821Z"
   },
   {
    "duration": 33,
    "start_time": "2022-05-19T17:44:00.857Z"
   },
   {
    "duration": 63,
    "start_time": "2022-05-19T17:44:00.892Z"
   },
   {
    "duration": 58,
    "start_time": "2022-05-19T17:44:00.958Z"
   },
   {
    "duration": 36,
    "start_time": "2022-05-19T17:44:01.018Z"
   },
   {
    "duration": 128,
    "start_time": "2022-05-19T17:50:04.028Z"
   },
   {
    "duration": 11,
    "start_time": "2022-05-19T17:50:24.292Z"
   },
   {
    "duration": 4,
    "start_time": "2022-05-19T17:51:11.427Z"
   },
   {
    "duration": 1072,
    "start_time": "2022-05-19T18:00:34.896Z"
   },
   {
    "duration": 4,
    "start_time": "2022-05-19T18:01:43.441Z"
   },
   {
    "duration": 4,
    "start_time": "2022-05-19T18:01:57.295Z"
   },
   {
    "duration": 983,
    "start_time": "2022-05-19T18:03:29.000Z"
   },
   {
    "duration": 868,
    "start_time": "2022-05-19T18:03:41.807Z"
   },
   {
    "duration": 775,
    "start_time": "2022-05-19T18:04:10.799Z"
   },
   {
    "duration": 38,
    "start_time": "2022-05-19T18:04:39.081Z"
   },
   {
    "duration": 9,
    "start_time": "2022-05-19T18:04:45.078Z"
   },
   {
    "duration": 35,
    "start_time": "2022-05-19T18:06:28.279Z"
   },
   {
    "duration": 34,
    "start_time": "2022-05-19T18:06:30.978Z"
   },
   {
    "duration": 931,
    "start_time": "2022-05-19T18:06:39.934Z"
   },
   {
    "duration": 772,
    "start_time": "2022-05-19T18:06:53.094Z"
   },
   {
    "duration": 16,
    "start_time": "2022-05-19T18:07:58.125Z"
   },
   {
    "duration": 3,
    "start_time": "2022-05-19T18:09:06.372Z"
   },
   {
    "duration": 5,
    "start_time": "2022-05-19T18:09:19.246Z"
   },
   {
    "duration": 5,
    "start_time": "2022-05-19T18:09:25.643Z"
   },
   {
    "duration": 4,
    "start_time": "2022-05-19T18:09:33.749Z"
   },
   {
    "duration": 10,
    "start_time": "2022-05-19T18:10:14.771Z"
   },
   {
    "duration": 6,
    "start_time": "2022-05-19T18:10:17.219Z"
   },
   {
    "duration": 5,
    "start_time": "2022-05-19T18:10:44.283Z"
   },
   {
    "duration": 5,
    "start_time": "2022-05-19T18:10:51.787Z"
   },
   {
    "duration": 5,
    "start_time": "2022-05-19T18:10:56.091Z"
   },
   {
    "duration": 4,
    "start_time": "2022-05-19T18:11:05.859Z"
   },
   {
    "duration": 5,
    "start_time": "2022-05-19T18:11:54.619Z"
   },
   {
    "duration": 9,
    "start_time": "2022-05-19T18:11:55.179Z"
   },
   {
    "duration": 10,
    "start_time": "2022-05-19T18:11:55.943Z"
   },
   {
    "duration": 9,
    "start_time": "2022-05-19T18:11:56.473Z"
   },
   {
    "duration": 404,
    "start_time": "2022-05-19T18:12:00.439Z"
   },
   {
    "duration": 2074,
    "start_time": "2022-05-19T18:12:17.316Z"
   },
   {
    "duration": 2087,
    "start_time": "2022-05-19T18:19:24.544Z"
   },
   {
    "duration": 49,
    "start_time": "2022-05-19T18:20:44.159Z"
   },
   {
    "duration": 2634,
    "start_time": "2022-05-19T18:21:02.486Z"
   },
   {
    "duration": 9,
    "start_time": "2022-05-19T18:28:25.173Z"
   },
   {
    "duration": 1727,
    "start_time": "2022-05-19T18:28:54.101Z"
   },
   {
    "duration": 2514,
    "start_time": "2022-05-19T18:28:55.830Z"
   },
   {
    "duration": 122737,
    "start_time": "2022-05-19T18:28:58.346Z"
   },
   {
    "duration": 6,
    "start_time": "2022-05-19T18:31:01.085Z"
   },
   {
    "duration": 10,
    "start_time": "2022-05-19T18:32:37.746Z"
   },
   {
    "duration": 9,
    "start_time": "2022-05-19T18:32:46.978Z"
   },
   {
    "duration": 9,
    "start_time": "2022-05-19T18:32:50.956Z"
   },
   {
    "duration": 14,
    "start_time": "2022-05-19T18:33:10.097Z"
   },
   {
    "duration": 32124,
    "start_time": "2022-05-19T18:33:18.988Z"
   },
   {
    "duration": 31891,
    "start_time": "2022-05-19T18:34:06.609Z"
   },
   {
    "duration": 9,
    "start_time": "2022-05-19T18:34:38.502Z"
   },
   {
    "duration": 6,
    "start_time": "2022-05-19T18:34:47.752Z"
   },
   {
    "duration": 126605,
    "start_time": "2022-05-19T18:35:57.311Z"
   },
   {
    "duration": 8,
    "start_time": "2022-05-19T18:38:03.918Z"
   },
   {
    "duration": 1628,
    "start_time": "2022-05-19T18:39:28.191Z"
   },
   {
    "duration": 9,
    "start_time": "2022-05-19T18:39:32.051Z"
   },
   {
    "duration": 1253,
    "start_time": "2022-05-19T18:39:37.494Z"
   },
   {
    "duration": 9,
    "start_time": "2022-05-19T18:39:41.174Z"
   },
   {
    "duration": 1229,
    "start_time": "2022-05-19T18:39:46.585Z"
   },
   {
    "duration": 7,
    "start_time": "2022-05-19T18:39:48.740Z"
   },
   {
    "duration": 1104,
    "start_time": "2022-05-19T18:39:53.295Z"
   },
   {
    "duration": 7,
    "start_time": "2022-05-19T18:39:55.343Z"
   },
   {
    "duration": 1218,
    "start_time": "2022-05-19T18:40:00.080Z"
   },
   {
    "duration": 10,
    "start_time": "2022-05-19T18:40:02.461Z"
   },
   {
    "duration": 943,
    "start_time": "2022-05-19T18:40:05.379Z"
   },
   {
    "duration": 8,
    "start_time": "2022-05-19T18:40:07.125Z"
   },
   {
    "duration": 811,
    "start_time": "2022-05-19T18:40:10.662Z"
   },
   {
    "duration": 9,
    "start_time": "2022-05-19T18:40:12.508Z"
   },
   {
    "duration": 1126,
    "start_time": "2022-05-19T18:40:15.882Z"
   },
   {
    "duration": 9,
    "start_time": "2022-05-19T18:40:17.982Z"
   },
   {
    "duration": 1031,
    "start_time": "2022-05-19T18:40:28.063Z"
   },
   {
    "duration": 10,
    "start_time": "2022-05-19T18:40:30.062Z"
   },
   {
    "duration": 956,
    "start_time": "2022-05-19T18:40:36.303Z"
   },
   {
    "duration": 8,
    "start_time": "2022-05-19T18:40:38.245Z"
   },
   {
    "duration": 979,
    "start_time": "2022-05-19T18:40:42.518Z"
   },
   {
    "duration": 8,
    "start_time": "2022-05-19T18:40:45.788Z"
   },
   {
    "duration": 1018,
    "start_time": "2022-05-19T18:40:53.286Z"
   },
   {
    "duration": 8,
    "start_time": "2022-05-19T18:40:55.397Z"
   },
   {
    "duration": 946,
    "start_time": "2022-05-19T18:40:59.589Z"
   },
   {
    "duration": 8,
    "start_time": "2022-05-19T18:41:01.382Z"
   },
   {
    "duration": 963,
    "start_time": "2022-05-19T18:41:05.247Z"
   },
   {
    "duration": 7,
    "start_time": "2022-05-19T18:41:07.182Z"
   },
   {
    "duration": 896,
    "start_time": "2022-05-19T18:41:19.055Z"
   },
   {
    "duration": 8,
    "start_time": "2022-05-19T18:41:20.766Z"
   },
   {
    "duration": 935,
    "start_time": "2022-05-19T18:41:29.485Z"
   },
   {
    "duration": 8,
    "start_time": "2022-05-19T18:41:31.253Z"
   },
   {
    "duration": 943,
    "start_time": "2022-05-19T18:41:36.678Z"
   },
   {
    "duration": 7,
    "start_time": "2022-05-19T18:41:38.649Z"
   },
   {
    "duration": 942,
    "start_time": "2022-05-19T18:41:41.567Z"
   },
   {
    "duration": 10,
    "start_time": "2022-05-19T18:41:43.364Z"
   },
   {
    "duration": 933,
    "start_time": "2022-05-19T18:41:47.390Z"
   },
   {
    "duration": 12,
    "start_time": "2022-05-19T18:41:49.125Z"
   },
   {
    "duration": 976,
    "start_time": "2022-05-19T18:41:52.517Z"
   },
   {
    "duration": 8,
    "start_time": "2022-05-19T18:41:54.643Z"
   },
   {
    "duration": 971,
    "start_time": "2022-05-19T18:41:57.855Z"
   },
   {
    "duration": 7,
    "start_time": "2022-05-19T18:41:59.758Z"
   },
   {
    "duration": 970,
    "start_time": "2022-05-19T18:42:04.082Z"
   },
   {
    "duration": 7,
    "start_time": "2022-05-19T18:42:06.049Z"
   },
   {
    "duration": 883,
    "start_time": "2022-05-19T18:42:11.957Z"
   },
   {
    "duration": 7,
    "start_time": "2022-05-19T18:42:13.749Z"
   },
   {
    "duration": 1024,
    "start_time": "2022-05-19T18:42:18.622Z"
   },
   {
    "duration": 9,
    "start_time": "2022-05-19T18:42:20.756Z"
   },
   {
    "duration": 1147,
    "start_time": "2022-05-19T18:43:10.247Z"
   },
   {
    "duration": 7,
    "start_time": "2022-05-19T18:43:12.021Z"
   },
   {
    "duration": 1204,
    "start_time": "2022-05-19T18:43:17.320Z"
   },
   {
    "duration": 7,
    "start_time": "2022-05-19T18:43:18.804Z"
   },
   {
    "duration": 1092,
    "start_time": "2022-05-19T18:43:27.146Z"
   },
   {
    "duration": 21,
    "start_time": "2022-05-19T18:43:29.062Z"
   },
   {
    "duration": 922,
    "start_time": "2022-05-19T18:43:39.508Z"
   },
   {
    "duration": 7,
    "start_time": "2022-05-19T18:43:41.852Z"
   },
   {
    "duration": 965,
    "start_time": "2022-05-19T18:43:46.843Z"
   },
   {
    "duration": 7,
    "start_time": "2022-05-19T18:43:48.844Z"
   },
   {
    "duration": 1042,
    "start_time": "2022-05-19T18:43:55.052Z"
   },
   {
    "duration": 9,
    "start_time": "2022-05-19T18:43:57.087Z"
   },
   {
    "duration": 1031,
    "start_time": "2022-05-19T18:44:00.910Z"
   },
   {
    "duration": 12,
    "start_time": "2022-05-19T18:44:02.918Z"
   },
   {
    "duration": 985,
    "start_time": "2022-05-19T18:44:09.891Z"
   },
   {
    "duration": 8,
    "start_time": "2022-05-19T18:44:12.012Z"
   },
   {
    "duration": 23256,
    "start_time": "2022-05-19T18:45:33.900Z"
   },
   {
    "duration": 8,
    "start_time": "2022-05-19T18:45:57.158Z"
   },
   {
    "duration": 4095,
    "start_time": "2022-05-19T18:46:51.534Z"
   },
   {
    "duration": 7,
    "start_time": "2022-05-19T18:46:55.631Z"
   },
   {
    "duration": 7281,
    "start_time": "2022-05-19T18:47:07.619Z"
   },
   {
    "duration": 7,
    "start_time": "2022-05-19T18:47:14.902Z"
   },
   {
    "duration": 6894,
    "start_time": "2022-05-19T18:47:34.315Z"
   },
   {
    "duration": 7,
    "start_time": "2022-05-19T18:47:41.212Z"
   },
   {
    "duration": 7938,
    "start_time": "2022-05-19T18:47:48.916Z"
   },
   {
    "duration": 13,
    "start_time": "2022-05-19T18:47:56.856Z"
   },
   {
    "duration": 7874,
    "start_time": "2022-05-19T18:48:11.211Z"
   },
   {
    "duration": 17,
    "start_time": "2022-05-19T18:48:19.088Z"
   },
   {
    "duration": 8909,
    "start_time": "2022-05-19T18:48:23.749Z"
   },
   {
    "duration": 9,
    "start_time": "2022-05-19T18:48:32.660Z"
   },
   {
    "duration": 9191,
    "start_time": "2022-05-19T18:48:38.763Z"
   },
   {
    "duration": 18,
    "start_time": "2022-05-19T18:48:47.957Z"
   },
   {
    "duration": 9007,
    "start_time": "2022-05-19T18:48:52.187Z"
   },
   {
    "duration": 10,
    "start_time": "2022-05-19T18:49:01.196Z"
   },
   {
    "duration": 9174,
    "start_time": "2022-05-19T18:49:06.722Z"
   },
   {
    "duration": 9,
    "start_time": "2022-05-19T18:49:15.900Z"
   },
   {
    "duration": 8583,
    "start_time": "2022-05-19T18:49:19.984Z"
   },
   {
    "duration": 14,
    "start_time": "2022-05-19T18:49:28.570Z"
   },
   {
    "duration": 7305,
    "start_time": "2022-05-19T18:49:43.222Z"
   },
   {
    "duration": 8,
    "start_time": "2022-05-19T18:49:50.529Z"
   },
   {
    "duration": 9776,
    "start_time": "2022-05-19T18:49:56.380Z"
   },
   {
    "duration": 15,
    "start_time": "2022-05-19T18:50:06.159Z"
   },
   {
    "duration": 8769,
    "start_time": "2022-05-19T18:50:34.345Z"
   },
   {
    "duration": 10,
    "start_time": "2022-05-19T18:50:43.116Z"
   },
   {
    "duration": 11179,
    "start_time": "2022-05-19T18:50:48.122Z"
   },
   {
    "duration": 10,
    "start_time": "2022-05-19T18:50:59.311Z"
   },
   {
    "duration": 9188,
    "start_time": "2022-05-19T18:51:05.774Z"
   },
   {
    "duration": 11,
    "start_time": "2022-05-19T18:51:14.965Z"
   },
   {
    "duration": 9625,
    "start_time": "2022-05-19T18:51:51.370Z"
   },
   {
    "duration": 9,
    "start_time": "2022-05-19T18:52:01.007Z"
   },
   {
    "duration": 9471,
    "start_time": "2022-05-19T18:52:05.905Z"
   },
   {
    "duration": 7,
    "start_time": "2022-05-19T18:52:15.380Z"
   },
   {
    "duration": 9522,
    "start_time": "2022-05-19T18:52:21.938Z"
   },
   {
    "duration": 12,
    "start_time": "2022-05-19T18:52:31.463Z"
   },
   {
    "duration": 9278,
    "start_time": "2022-05-19T18:52:35.361Z"
   },
   {
    "duration": 9,
    "start_time": "2022-05-19T18:52:44.642Z"
   },
   {
    "duration": 5,
    "start_time": "2022-05-19T18:57:54.698Z"
   },
   {
    "duration": 24,
    "start_time": "2022-05-19T18:58:10.454Z"
   },
   {
    "duration": 2525,
    "start_time": "2022-05-19T19:05:52.753Z"
   },
   {
    "duration": 1011,
    "start_time": "2022-05-19T19:05:55.280Z"
   },
   {
    "duration": 9351,
    "start_time": "2022-05-19T19:05:56.293Z"
   },
   {
    "duration": 8,
    "start_time": "2022-05-19T19:06:05.646Z"
   },
   {
    "duration": 4,
    "start_time": "2022-05-19T19:07:39.498Z"
   },
   {
    "duration": 2359,
    "start_time": "2022-05-19T19:10:21.262Z"
   },
   {
    "duration": 50,
    "start_time": "2022-05-19T19:10:43.678Z"
   },
   {
    "duration": 4994,
    "start_time": "2022-05-19T19:11:38.343Z"
   },
   {
    "duration": 11,
    "start_time": "2022-05-19T19:11:47.452Z"
   },
   {
    "duration": 4,
    "start_time": "2022-05-19T19:12:56.981Z"
   },
   {
    "duration": 12,
    "start_time": "2022-05-19T19:14:14.820Z"
   },
   {
    "duration": 2484,
    "start_time": "2022-05-19T19:14:24.508Z"
   },
   {
    "duration": 13,
    "start_time": "2022-05-19T19:14:31.459Z"
   },
   {
    "duration": 13,
    "start_time": "2022-05-19T19:15:17.884Z"
   },
   {
    "duration": 2408,
    "start_time": "2022-05-19T19:15:22.381Z"
   },
   {
    "duration": 2501,
    "start_time": "2022-05-19T19:15:27.563Z"
   },
   {
    "duration": 2757,
    "start_time": "2022-05-19T19:15:31.108Z"
   },
   {
    "duration": 13,
    "start_time": "2022-05-19T19:15:37.613Z"
   },
   {
    "duration": 1450,
    "start_time": "2022-05-19T19:17:41.892Z"
   },
   {
    "duration": 9,
    "start_time": "2022-05-19T19:17:49.298Z"
   },
   {
    "duration": 1460,
    "start_time": "2022-05-19T19:18:18.082Z"
   },
   {
    "duration": 11,
    "start_time": "2022-05-19T19:18:20.351Z"
   },
   {
    "duration": 1342,
    "start_time": "2022-05-19T19:18:34.218Z"
   },
   {
    "duration": 9,
    "start_time": "2022-05-19T19:18:37.320Z"
   },
   {
    "duration": 1425,
    "start_time": "2022-05-19T19:19:01.098Z"
   },
   {
    "duration": 8,
    "start_time": "2022-05-19T19:19:03.448Z"
   },
   {
    "duration": 9500,
    "start_time": "2022-05-19T19:19:28.989Z"
   },
   {
    "duration": 12,
    "start_time": "2022-05-19T19:19:38.492Z"
   },
   {
    "duration": 11469,
    "start_time": "2022-05-19T19:20:02.018Z"
   },
   {
    "duration": 10,
    "start_time": "2022-05-19T19:20:13.490Z"
   },
   {
    "duration": 9714,
    "start_time": "2022-05-19T19:20:29.889Z"
   },
   {
    "duration": 10,
    "start_time": "2022-05-19T19:20:39.606Z"
   },
   {
    "duration": 9544,
    "start_time": "2022-05-19T19:20:49.004Z"
   },
   {
    "duration": 15,
    "start_time": "2022-05-19T19:20:58.550Z"
   },
   {
    "duration": 9588,
    "start_time": "2022-05-19T19:21:06.283Z"
   },
   {
    "duration": 11,
    "start_time": "2022-05-19T19:21:15.874Z"
   },
   {
    "duration": 9691,
    "start_time": "2022-05-19T19:21:24.258Z"
   },
   {
    "duration": 16,
    "start_time": "2022-05-19T19:21:33.951Z"
   },
   {
    "duration": 11,
    "start_time": "2022-05-19T19:21:58.127Z"
   },
   {
    "duration": 4945,
    "start_time": "2022-05-19T19:22:34.223Z"
   },
   {
    "duration": 11,
    "start_time": "2022-05-19T19:22:39.173Z"
   },
   {
    "duration": 3174,
    "start_time": "2022-05-19T19:22:45.255Z"
   },
   {
    "duration": 10,
    "start_time": "2022-05-19T19:22:48.431Z"
   },
   {
    "duration": 5217,
    "start_time": "2022-05-19T19:22:53.454Z"
   },
   {
    "duration": 15,
    "start_time": "2022-05-19T19:22:58.673Z"
   },
   {
    "duration": 1903,
    "start_time": "2022-05-19T19:23:04.904Z"
   },
   {
    "duration": 9,
    "start_time": "2022-05-19T19:23:06.809Z"
   },
   {
    "duration": 2261,
    "start_time": "2022-05-19T19:23:47.551Z"
   },
   {
    "duration": 13,
    "start_time": "2022-05-19T19:23:49.816Z"
   },
   {
    "duration": 3919,
    "start_time": "2022-05-19T19:23:59.873Z"
   },
   {
    "duration": 10,
    "start_time": "2022-05-19T19:24:03.795Z"
   },
   {
    "duration": 1821,
    "start_time": "2022-05-19T19:24:45.983Z"
   },
   {
    "duration": 11,
    "start_time": "2022-05-19T19:24:47.807Z"
   },
   {
    "duration": 5627,
    "start_time": "2022-05-19T19:24:57.039Z"
   },
   {
    "duration": 12,
    "start_time": "2022-05-19T19:25:08.938Z"
   },
   {
    "duration": 9,
    "start_time": "2022-05-19T19:25:11.654Z"
   },
   {
    "duration": 1869,
    "start_time": "2022-05-19T19:26:58.411Z"
   },
   {
    "duration": 3,
    "start_time": "2022-05-19T19:27:00.283Z"
   },
   {
    "duration": 30,
    "start_time": "2022-05-19T19:27:00.288Z"
   },
   {
    "duration": 1234,
    "start_time": "2022-05-19T19:27:00.321Z"
   },
   {
    "duration": 44,
    "start_time": "2022-05-19T19:27:01.558Z"
   },
   {
    "duration": 14,
    "start_time": "2022-05-19T19:27:01.607Z"
   },
   {
    "duration": 190,
    "start_time": "2022-05-19T19:27:01.623Z"
   },
   {
    "duration": 33,
    "start_time": "2022-05-19T19:27:01.818Z"
   },
   {
    "duration": 62,
    "start_time": "2022-05-19T19:27:01.853Z"
   },
   {
    "duration": 1390,
    "start_time": "2022-05-19T19:27:01.920Z"
   },
   {
    "duration": 44,
    "start_time": "2022-05-19T19:27:03.312Z"
   },
   {
    "duration": 64,
    "start_time": "2022-05-19T19:27:03.359Z"
   },
   {
    "duration": 8,
    "start_time": "2022-05-19T19:27:03.428Z"
   },
   {
    "duration": 38,
    "start_time": "2022-05-19T19:27:03.439Z"
   },
   {
    "duration": 37,
    "start_time": "2022-05-19T19:27:03.479Z"
   },
   {
    "duration": 14,
    "start_time": "2022-05-19T19:27:03.520Z"
   },
   {
    "duration": 467,
    "start_time": "2022-05-19T19:27:03.537Z"
   },
   {
    "duration": 7,
    "start_time": "2022-05-19T19:27:04.007Z"
   },
   {
    "duration": 42,
    "start_time": "2022-05-19T19:27:04.016Z"
   },
   {
    "duration": 96,
    "start_time": "2022-05-19T19:27:04.060Z"
   },
   {
    "duration": 69,
    "start_time": "2022-05-19T19:27:04.159Z"
   },
   {
    "duration": 35,
    "start_time": "2022-05-19T19:27:04.230Z"
   },
   {
    "duration": 52,
    "start_time": "2022-05-19T19:27:04.269Z"
   },
   {
    "duration": 26,
    "start_time": "2022-05-19T19:27:04.324Z"
   },
   {
    "duration": 55,
    "start_time": "2022-05-19T19:27:04.352Z"
   },
   {
    "duration": 24,
    "start_time": "2022-05-19T19:27:04.409Z"
   },
   {
    "duration": 61,
    "start_time": "2022-05-19T19:27:04.436Z"
   },
   {
    "duration": 8,
    "start_time": "2022-05-19T19:27:04.508Z"
   },
   {
    "duration": 31,
    "start_time": "2022-05-19T19:27:04.518Z"
   },
   {
    "duration": 55,
    "start_time": "2022-05-19T19:27:04.570Z"
   },
   {
    "duration": 45,
    "start_time": "2022-05-19T19:27:04.631Z"
   },
   {
    "duration": 16,
    "start_time": "2022-05-19T19:27:04.678Z"
   },
   {
    "duration": 42,
    "start_time": "2022-05-19T19:27:04.701Z"
   },
   {
    "duration": 27,
    "start_time": "2022-05-19T19:27:04.745Z"
   },
   {
    "duration": 2728,
    "start_time": "2022-05-19T19:27:04.775Z"
   },
   {
    "duration": 11,
    "start_time": "2022-05-19T19:27:07.507Z"
   },
   {
    "duration": 2902,
    "start_time": "2022-05-19T19:27:07.523Z"
   },
   {
    "duration": 50,
    "start_time": "2022-05-19T19:27:10.427Z"
   },
   {
    "duration": 1260,
    "start_time": "2022-05-19T19:27:10.480Z"
   },
   {
    "duration": 11,
    "start_time": "2022-05-19T19:27:11.743Z"
   },
   {
    "duration": 59,
    "start_time": "2022-05-19T19:27:11.756Z"
   },
   {
    "duration": 44,
    "start_time": "2022-05-19T19:27:11.817Z"
   },
   {
    "duration": 1670,
    "start_time": "2022-05-19T19:27:11.863Z"
   },
   {
    "duration": 8,
    "start_time": "2022-05-19T19:27:13.535Z"
   },
   {
    "duration": 59,
    "start_time": "2022-05-19T19:27:13.545Z"
   },
   {
    "duration": 71,
    "start_time": "2022-05-19T19:27:13.607Z"
   },
   {
    "duration": 1869,
    "start_time": "2022-05-19T19:27:13.680Z"
   },
   {
    "duration": 22,
    "start_time": "2022-05-19T19:27:15.551Z"
   },
   {
    "duration": 42,
    "start_time": "2022-05-19T19:27:15.578Z"
   },
   {
    "duration": 14,
    "start_time": "2022-05-19T19:27:15.622Z"
   },
   {
    "duration": 9,
    "start_time": "2022-05-19T19:27:15.638Z"
   },
   {
    "duration": 47,
    "start_time": "2022-05-19T19:27:15.649Z"
   },
   {
    "duration": 914,
    "start_time": "2022-05-19T19:27:15.700Z"
   },
   {
    "duration": 9,
    "start_time": "2022-05-19T19:27:16.619Z"
   },
   {
    "duration": 604,
    "start_time": "2022-05-19T19:27:16.631Z"
   },
   {
    "duration": 38,
    "start_time": "2022-05-19T19:27:17.237Z"
   },
   {
    "duration": 2604,
    "start_time": "2022-05-19T19:27:17.277Z"
   },
   {
    "duration": 17,
    "start_time": "2022-05-19T19:27:19.886Z"
   },
   {
    "duration": 10,
    "start_time": "2022-05-19T19:27:19.905Z"
   },
   {
    "duration": 6,
    "start_time": "2022-05-19T19:27:19.918Z"
   },
   {
    "duration": 8,
    "start_time": "2022-05-19T19:27:19.927Z"
   },
   {
    "duration": 11,
    "start_time": "2022-05-19T19:27:19.937Z"
   },
   {
    "duration": 20,
    "start_time": "2022-05-19T19:27:19.950Z"
   },
   {
    "duration": 34,
    "start_time": "2022-05-19T19:27:19.974Z"
   },
   {
    "duration": 21,
    "start_time": "2022-05-19T19:27:20.010Z"
   },
   {
    "duration": 26,
    "start_time": "2022-05-19T19:27:20.033Z"
   },
   {
    "duration": 44,
    "start_time": "2022-05-19T19:27:20.061Z"
   },
   {
    "duration": 12,
    "start_time": "2022-05-19T19:27:20.107Z"
   },
   {
    "duration": 173,
    "start_time": "2022-05-19T19:27:20.121Z"
   },
   {
    "duration": 0,
    "start_time": "2022-05-19T19:27:20.296Z"
   },
   {
    "duration": 0,
    "start_time": "2022-05-19T19:27:20.299Z"
   },
   {
    "duration": 0,
    "start_time": "2022-05-19T19:27:20.305Z"
   },
   {
    "duration": 0,
    "start_time": "2022-05-19T19:27:20.306Z"
   },
   {
    "duration": 0,
    "start_time": "2022-05-19T19:27:20.308Z"
   },
   {
    "duration": 0,
    "start_time": "2022-05-19T19:27:20.310Z"
   },
   {
    "duration": 0,
    "start_time": "2022-05-19T19:27:20.311Z"
   },
   {
    "duration": 0,
    "start_time": "2022-05-19T19:27:20.313Z"
   },
   {
    "duration": 0,
    "start_time": "2022-05-19T19:27:20.315Z"
   },
   {
    "duration": 1,
    "start_time": "2022-05-19T19:27:20.315Z"
   },
   {
    "duration": 0,
    "start_time": "2022-05-19T19:27:20.317Z"
   },
   {
    "duration": 1620,
    "start_time": "2022-05-19T19:30:31.415Z"
   },
   {
    "duration": 4,
    "start_time": "2022-05-19T19:30:33.038Z"
   },
   {
    "duration": 6,
    "start_time": "2022-05-19T19:30:33.044Z"
   },
   {
    "duration": 376,
    "start_time": "2022-05-19T19:30:33.053Z"
   },
   {
    "duration": 49,
    "start_time": "2022-05-19T19:30:33.431Z"
   },
   {
    "duration": 18,
    "start_time": "2022-05-19T19:30:33.482Z"
   },
   {
    "duration": 98,
    "start_time": "2022-05-19T19:30:33.505Z"
   },
   {
    "duration": 26,
    "start_time": "2022-05-19T19:30:33.605Z"
   },
   {
    "duration": 13,
    "start_time": "2022-05-19T19:30:33.633Z"
   },
   {
    "duration": 500,
    "start_time": "2022-05-19T19:30:33.650Z"
   },
   {
    "duration": 41,
    "start_time": "2022-05-19T19:30:34.152Z"
   },
   {
    "duration": 42,
    "start_time": "2022-05-19T19:30:34.199Z"
   },
   {
    "duration": 17,
    "start_time": "2022-05-19T19:30:34.243Z"
   },
   {
    "duration": 47,
    "start_time": "2022-05-19T19:30:34.262Z"
   },
   {
    "duration": 33,
    "start_time": "2022-05-19T19:30:34.311Z"
   },
   {
    "duration": 53,
    "start_time": "2022-05-19T19:30:34.347Z"
   },
   {
    "duration": 411,
    "start_time": "2022-05-19T19:30:34.402Z"
   },
   {
    "duration": 6,
    "start_time": "2022-05-19T19:30:34.815Z"
   },
   {
    "duration": 22,
    "start_time": "2022-05-19T19:30:34.823Z"
   },
   {
    "duration": 39,
    "start_time": "2022-05-19T19:30:34.847Z"
   },
   {
    "duration": 61,
    "start_time": "2022-05-19T19:30:34.891Z"
   },
   {
    "duration": 9,
    "start_time": "2022-05-19T19:30:34.954Z"
   },
   {
    "duration": 57,
    "start_time": "2022-05-19T19:30:34.965Z"
   },
   {
    "duration": 13,
    "start_time": "2022-05-19T19:30:35.024Z"
   },
   {
    "duration": 8,
    "start_time": "2022-05-19T19:30:35.039Z"
   },
   {
    "duration": 6,
    "start_time": "2022-05-19T19:30:35.050Z"
   },
   {
    "duration": 40,
    "start_time": "2022-05-19T19:30:35.058Z"
   },
   {
    "duration": 12,
    "start_time": "2022-05-19T19:30:35.106Z"
   },
   {
    "duration": 24,
    "start_time": "2022-05-19T19:30:35.120Z"
   },
   {
    "duration": 9,
    "start_time": "2022-05-19T19:30:35.146Z"
   },
   {
    "duration": 65,
    "start_time": "2022-05-19T19:30:35.156Z"
   },
   {
    "duration": 6,
    "start_time": "2022-05-19T19:30:35.222Z"
   },
   {
    "duration": 40,
    "start_time": "2022-05-19T19:30:35.229Z"
   },
   {
    "duration": 54,
    "start_time": "2022-05-19T19:30:35.270Z"
   },
   {
    "duration": 2634,
    "start_time": "2022-05-19T19:30:35.326Z"
   },
   {
    "duration": 11,
    "start_time": "2022-05-19T19:30:37.962Z"
   },
   {
    "duration": 2777,
    "start_time": "2022-05-19T19:30:37.975Z"
   },
   {
    "duration": 48,
    "start_time": "2022-05-19T19:30:40.755Z"
   },
   {
    "duration": 1080,
    "start_time": "2022-05-19T19:30:40.812Z"
   },
   {
    "duration": 14,
    "start_time": "2022-05-19T19:30:41.896Z"
   },
   {
    "duration": 17,
    "start_time": "2022-05-19T19:30:41.912Z"
   },
   {
    "duration": 26,
    "start_time": "2022-05-19T19:30:41.931Z"
   },
   {
    "duration": 1388,
    "start_time": "2022-05-19T19:30:41.959Z"
   },
   {
    "duration": 7,
    "start_time": "2022-05-19T19:30:43.350Z"
   },
   {
    "duration": 40,
    "start_time": "2022-05-19T19:30:43.365Z"
   },
   {
    "duration": 31,
    "start_time": "2022-05-19T19:30:43.407Z"
   },
   {
    "duration": 1585,
    "start_time": "2022-05-19T19:30:43.440Z"
   },
   {
    "duration": 9,
    "start_time": "2022-05-19T19:30:45.027Z"
   },
   {
    "duration": 14,
    "start_time": "2022-05-19T19:30:45.037Z"
   },
   {
    "duration": 62,
    "start_time": "2022-05-19T19:30:45.052Z"
   },
   {
    "duration": 17,
    "start_time": "2022-05-19T19:30:45.117Z"
   },
   {
    "duration": 22,
    "start_time": "2022-05-19T19:30:45.136Z"
   },
   {
    "duration": 926,
    "start_time": "2022-05-19T19:30:45.160Z"
   },
   {
    "duration": 9,
    "start_time": "2022-05-19T19:30:46.088Z"
   },
   {
    "duration": 462,
    "start_time": "2022-05-19T19:30:46.098Z"
   },
   {
    "duration": 31,
    "start_time": "2022-05-19T19:30:46.565Z"
   },
   {
    "duration": 2118,
    "start_time": "2022-05-19T19:30:46.598Z"
   },
   {
    "duration": 11,
    "start_time": "2022-05-19T19:30:48.718Z"
   },
   {
    "duration": 19,
    "start_time": "2022-05-19T19:30:48.731Z"
   },
   {
    "duration": 37,
    "start_time": "2022-05-19T19:30:48.751Z"
   },
   {
    "duration": 11,
    "start_time": "2022-05-19T19:30:48.798Z"
   },
   {
    "duration": 18,
    "start_time": "2022-05-19T19:30:48.811Z"
   },
   {
    "duration": 5,
    "start_time": "2022-05-19T19:30:48.831Z"
   },
   {
    "duration": 15,
    "start_time": "2022-05-19T19:30:48.838Z"
   },
   {
    "duration": 15,
    "start_time": "2022-05-19T19:30:48.855Z"
   },
   {
    "duration": 82,
    "start_time": "2022-05-19T19:30:48.872Z"
   },
   {
    "duration": 6,
    "start_time": "2022-05-19T19:30:48.957Z"
   },
   {
    "duration": 59,
    "start_time": "2022-05-19T19:30:48.969Z"
   },
   {
    "duration": 31,
    "start_time": "2022-05-19T19:30:49.030Z"
   },
   {
    "duration": 2220,
    "start_time": "2022-05-19T19:30:49.064Z"
   },
   {
    "duration": 1088,
    "start_time": "2022-05-19T19:30:51.293Z"
   },
   {
    "duration": 9956,
    "start_time": "2022-05-19T19:30:52.383Z"
   },
   {
    "duration": 19,
    "start_time": "2022-05-19T19:31:02.342Z"
   },
   {
    "duration": 95,
    "start_time": "2022-05-19T19:31:02.374Z"
   },
   {
    "duration": 3774,
    "start_time": "2022-05-19T19:31:02.478Z"
   },
   {
    "duration": 9093,
    "start_time": "2022-05-19T19:31:06.254Z"
   },
   {
    "duration": 3361,
    "start_time": "2022-05-19T19:31:15.350Z"
   },
   {
    "duration": 1604,
    "start_time": "2022-05-19T19:31:18.713Z"
   },
   {
    "duration": 10434,
    "start_time": "2022-05-19T19:31:20.319Z"
   },
   {
    "duration": 27,
    "start_time": "2022-05-19T19:31:30.755Z"
   },
   {
    "duration": 1926,
    "start_time": "2022-05-19T19:38:13.107Z"
   },
   {
    "duration": 5,
    "start_time": "2022-05-19T19:38:15.036Z"
   },
   {
    "duration": 25,
    "start_time": "2022-05-19T19:38:15.044Z"
   },
   {
    "duration": 505,
    "start_time": "2022-05-19T19:38:15.076Z"
   },
   {
    "duration": 44,
    "start_time": "2022-05-19T19:38:15.588Z"
   },
   {
    "duration": 17,
    "start_time": "2022-05-19T19:38:15.635Z"
   },
   {
    "duration": 125,
    "start_time": "2022-05-19T19:38:15.654Z"
   },
   {
    "duration": 33,
    "start_time": "2022-05-19T19:38:15.785Z"
   },
   {
    "duration": 13,
    "start_time": "2022-05-19T19:38:15.821Z"
   },
   {
    "duration": 539,
    "start_time": "2022-05-19T19:38:15.838Z"
   },
   {
    "duration": 27,
    "start_time": "2022-05-19T19:38:16.379Z"
   },
   {
    "duration": 11,
    "start_time": "2022-05-19T19:38:16.408Z"
   },
   {
    "duration": 4,
    "start_time": "2022-05-19T19:38:16.421Z"
   },
   {
    "duration": 9,
    "start_time": "2022-05-19T19:38:16.427Z"
   },
   {
    "duration": 51,
    "start_time": "2022-05-19T19:38:16.437Z"
   },
   {
    "duration": 9,
    "start_time": "2022-05-19T19:38:16.491Z"
   },
   {
    "duration": 290,
    "start_time": "2022-05-19T19:38:16.502Z"
   },
   {
    "duration": 6,
    "start_time": "2022-05-19T19:38:16.794Z"
   },
   {
    "duration": 12,
    "start_time": "2022-05-19T19:38:16.802Z"
   },
   {
    "duration": 18,
    "start_time": "2022-05-19T19:38:16.816Z"
   },
   {
    "duration": 36,
    "start_time": "2022-05-19T19:38:16.836Z"
   },
   {
    "duration": 11,
    "start_time": "2022-05-19T19:38:16.881Z"
   },
   {
    "duration": 7,
    "start_time": "2022-05-19T19:38:16.895Z"
   },
   {
    "duration": 7,
    "start_time": "2022-05-19T19:38:16.905Z"
   },
   {
    "duration": 8,
    "start_time": "2022-05-19T19:38:16.914Z"
   },
   {
    "duration": 6,
    "start_time": "2022-05-19T19:38:16.924Z"
   },
   {
    "duration": 57,
    "start_time": "2022-05-19T19:38:16.932Z"
   },
   {
    "duration": 7,
    "start_time": "2022-05-19T19:38:16.994Z"
   },
   {
    "duration": 24,
    "start_time": "2022-05-19T19:38:17.003Z"
   },
   {
    "duration": 6,
    "start_time": "2022-05-19T19:38:17.028Z"
   },
   {
    "duration": 51,
    "start_time": "2022-05-19T19:38:17.036Z"
   },
   {
    "duration": 6,
    "start_time": "2022-05-19T19:38:17.089Z"
   },
   {
    "duration": 26,
    "start_time": "2022-05-19T19:38:17.097Z"
   },
   {
    "duration": 10,
    "start_time": "2022-05-19T19:38:17.125Z"
   },
   {
    "duration": 2288,
    "start_time": "2022-05-19T19:38:17.137Z"
   },
   {
    "duration": 9,
    "start_time": "2022-05-19T19:38:19.428Z"
   },
   {
    "duration": 2095,
    "start_time": "2022-05-19T19:38:19.439Z"
   },
   {
    "duration": 53,
    "start_time": "2022-05-19T19:38:21.535Z"
   },
   {
    "duration": 1048,
    "start_time": "2022-05-19T19:38:21.590Z"
   },
   {
    "duration": 6,
    "start_time": "2022-05-19T19:38:22.639Z"
   },
   {
    "duration": 34,
    "start_time": "2022-05-19T19:38:22.647Z"
   },
   {
    "duration": 37,
    "start_time": "2022-05-19T19:38:22.684Z"
   },
   {
    "duration": 1250,
    "start_time": "2022-05-19T19:38:22.724Z"
   },
   {
    "duration": 9,
    "start_time": "2022-05-19T19:38:23.976Z"
   },
   {
    "duration": 17,
    "start_time": "2022-05-19T19:38:23.987Z"
   },
   {
    "duration": 27,
    "start_time": "2022-05-19T19:38:24.006Z"
   },
   {
    "duration": 1586,
    "start_time": "2022-05-19T19:38:24.035Z"
   },
   {
    "duration": 8,
    "start_time": "2022-05-19T19:38:25.623Z"
   },
   {
    "duration": 9,
    "start_time": "2022-05-19T19:38:25.633Z"
   },
   {
    "duration": 37,
    "start_time": "2022-05-19T19:38:25.644Z"
   },
   {
    "duration": 9,
    "start_time": "2022-05-19T19:38:25.683Z"
   },
   {
    "duration": 31,
    "start_time": "2022-05-19T19:38:25.694Z"
   },
   {
    "duration": 901,
    "start_time": "2022-05-19T19:38:25.727Z"
   },
   {
    "duration": 7,
    "start_time": "2022-05-19T19:38:26.630Z"
   },
   {
    "duration": 467,
    "start_time": "2022-05-19T19:38:26.639Z"
   },
   {
    "duration": 24,
    "start_time": "2022-05-19T19:38:27.107Z"
   },
   {
    "duration": 2211,
    "start_time": "2022-05-19T19:38:27.132Z"
   },
   {
    "duration": 8,
    "start_time": "2022-05-19T19:38:29.346Z"
   },
   {
    "duration": 48,
    "start_time": "2022-05-19T19:38:29.356Z"
   },
   {
    "duration": 7,
    "start_time": "2022-05-19T19:38:29.407Z"
   },
   {
    "duration": 19,
    "start_time": "2022-05-19T19:38:29.417Z"
   },
   {
    "duration": 18,
    "start_time": "2022-05-19T19:38:29.439Z"
   },
   {
    "duration": 37,
    "start_time": "2022-05-19T19:38:29.459Z"
   },
   {
    "duration": 13,
    "start_time": "2022-05-19T19:38:29.498Z"
   },
   {
    "duration": 21,
    "start_time": "2022-05-19T19:38:29.512Z"
   },
   {
    "duration": 11,
    "start_time": "2022-05-19T19:38:29.535Z"
   },
   {
    "duration": 4,
    "start_time": "2022-05-19T19:38:29.548Z"
   },
   {
    "duration": 8,
    "start_time": "2022-05-19T19:38:29.554Z"
   },
   {
    "duration": 46,
    "start_time": "2022-05-19T19:38:29.564Z"
   },
   {
    "duration": 2613,
    "start_time": "2022-05-19T19:38:29.612Z"
   },
   {
    "duration": 1051,
    "start_time": "2022-05-19T19:38:32.226Z"
   },
   {
    "duration": 9831,
    "start_time": "2022-05-19T19:38:33.286Z"
   },
   {
    "duration": 10,
    "start_time": "2022-05-19T19:38:43.120Z"
   },
   {
    "duration": 39,
    "start_time": "2022-05-19T19:38:43.132Z"
   },
   {
    "duration": 3029,
    "start_time": "2022-05-19T19:38:43.173Z"
   },
   {
    "duration": 2942,
    "start_time": "2022-05-19T19:38:46.210Z"
   },
   {
    "duration": 2988,
    "start_time": "2022-05-19T19:38:49.155Z"
   },
   {
    "duration": 1449,
    "start_time": "2022-05-19T19:38:52.145Z"
   },
   {
    "duration": 10657,
    "start_time": "2022-05-19T19:38:53.603Z"
   },
   {
    "duration": 12,
    "start_time": "2022-05-19T19:39:04.262Z"
   },
   {
    "duration": 1502,
    "start_time": "2022-05-20T17:58:22.146Z"
   },
   {
    "duration": 3,
    "start_time": "2022-05-20T17:58:23.650Z"
   },
   {
    "duration": 10,
    "start_time": "2022-05-20T17:58:23.655Z"
   },
   {
    "duration": 844,
    "start_time": "2022-05-20T17:58:23.667Z"
   },
   {
    "duration": 22,
    "start_time": "2022-05-20T17:58:24.512Z"
   },
   {
    "duration": 11,
    "start_time": "2022-05-20T17:58:24.536Z"
   },
   {
    "duration": 117,
    "start_time": "2022-05-20T17:58:24.549Z"
   },
   {
    "duration": 20,
    "start_time": "2022-05-20T17:58:24.668Z"
   },
   {
    "duration": 11,
    "start_time": "2022-05-20T17:58:24.690Z"
   },
   {
    "duration": 563,
    "start_time": "2022-05-20T17:58:24.703Z"
   },
   {
    "duration": 26,
    "start_time": "2022-05-20T17:58:25.267Z"
   },
   {
    "duration": 19,
    "start_time": "2022-05-20T17:58:25.294Z"
   },
   {
    "duration": 3,
    "start_time": "2022-05-20T17:58:25.315Z"
   },
   {
    "duration": 13,
    "start_time": "2022-05-20T17:58:25.320Z"
   },
   {
    "duration": 9,
    "start_time": "2022-05-20T17:58:25.335Z"
   },
   {
    "duration": 15,
    "start_time": "2022-05-20T17:58:25.346Z"
   },
   {
    "duration": 257,
    "start_time": "2022-05-20T17:58:25.362Z"
   },
   {
    "duration": 5,
    "start_time": "2022-05-20T17:58:25.621Z"
   },
   {
    "duration": 6,
    "start_time": "2022-05-20T17:58:25.628Z"
   },
   {
    "duration": 19,
    "start_time": "2022-05-20T17:58:25.636Z"
   },
   {
    "duration": 13,
    "start_time": "2022-05-20T17:58:25.657Z"
   },
   {
    "duration": 8,
    "start_time": "2022-05-20T17:58:25.672Z"
   },
   {
    "duration": 9,
    "start_time": "2022-05-20T17:58:25.681Z"
   },
   {
    "duration": 8,
    "start_time": "2022-05-20T17:58:25.692Z"
   },
   {
    "duration": 8,
    "start_time": "2022-05-20T17:58:25.727Z"
   },
   {
    "duration": 6,
    "start_time": "2022-05-20T17:58:25.737Z"
   },
   {
    "duration": 21,
    "start_time": "2022-05-20T17:58:25.745Z"
   },
   {
    "duration": 5,
    "start_time": "2022-05-20T17:58:25.770Z"
   },
   {
    "duration": 20,
    "start_time": "2022-05-20T17:58:25.776Z"
   },
   {
    "duration": 7,
    "start_time": "2022-05-20T17:58:25.798Z"
   },
   {
    "duration": 37,
    "start_time": "2022-05-20T17:58:25.806Z"
   },
   {
    "duration": 6,
    "start_time": "2022-05-20T17:58:25.844Z"
   },
   {
    "duration": 24,
    "start_time": "2022-05-20T17:58:25.851Z"
   },
   {
    "duration": 10,
    "start_time": "2022-05-20T17:58:25.876Z"
   },
   {
    "duration": 1706,
    "start_time": "2022-05-20T17:58:25.887Z"
   },
   {
    "duration": 6,
    "start_time": "2022-05-20T17:58:27.595Z"
   },
   {
    "duration": 1619,
    "start_time": "2022-05-20T17:58:27.603Z"
   },
   {
    "duration": 25,
    "start_time": "2022-05-20T17:58:29.224Z"
   },
   {
    "duration": 886,
    "start_time": "2022-05-20T17:58:29.251Z"
   },
   {
    "duration": 5,
    "start_time": "2022-05-20T17:58:30.139Z"
   },
   {
    "duration": 17,
    "start_time": "2022-05-20T17:58:30.146Z"
   },
   {
    "duration": 41,
    "start_time": "2022-05-20T17:58:30.165Z"
   },
   {
    "duration": 996,
    "start_time": "2022-05-20T17:58:30.208Z"
   },
   {
    "duration": 5,
    "start_time": "2022-05-20T17:58:31.205Z"
   },
   {
    "duration": 25,
    "start_time": "2022-05-20T17:58:31.212Z"
   },
   {
    "duration": 72,
    "start_time": "2022-05-20T17:58:31.239Z"
   },
   {
    "duration": 1367,
    "start_time": "2022-05-20T17:58:31.312Z"
   },
   {
    "duration": 7,
    "start_time": "2022-05-20T17:58:32.681Z"
   },
   {
    "duration": 9,
    "start_time": "2022-05-20T17:58:32.690Z"
   },
   {
    "duration": 8,
    "start_time": "2022-05-20T17:58:32.701Z"
   },
   {
    "duration": 19,
    "start_time": "2022-05-20T17:58:32.710Z"
   },
   {
    "duration": 39,
    "start_time": "2022-05-20T17:58:32.731Z"
   },
   {
    "duration": 734,
    "start_time": "2022-05-20T17:58:32.771Z"
   },
   {
    "duration": 6,
    "start_time": "2022-05-20T17:58:33.507Z"
   },
   {
    "duration": 337,
    "start_time": "2022-05-20T17:58:33.527Z"
   },
   {
    "duration": 27,
    "start_time": "2022-05-20T17:58:33.866Z"
   },
   {
    "duration": 1657,
    "start_time": "2022-05-20T17:58:33.895Z"
   },
   {
    "duration": 5,
    "start_time": "2022-05-20T17:58:35.554Z"
   },
   {
    "duration": 12,
    "start_time": "2022-05-20T17:58:35.561Z"
   },
   {
    "duration": 12,
    "start_time": "2022-05-20T17:58:35.575Z"
   },
   {
    "duration": 7,
    "start_time": "2022-05-20T17:58:35.588Z"
   },
   {
    "duration": 8,
    "start_time": "2022-05-20T17:58:35.597Z"
   },
   {
    "duration": 16,
    "start_time": "2022-05-20T17:58:35.606Z"
   },
   {
    "duration": 17,
    "start_time": "2022-05-20T17:58:35.628Z"
   },
   {
    "duration": 15,
    "start_time": "2022-05-20T17:58:35.647Z"
   },
   {
    "duration": 14,
    "start_time": "2022-05-20T17:58:35.664Z"
   },
   {
    "duration": 5,
    "start_time": "2022-05-20T17:58:35.679Z"
   },
   {
    "duration": 11,
    "start_time": "2022-05-20T17:58:35.685Z"
   },
   {
    "duration": 23,
    "start_time": "2022-05-20T17:58:35.698Z"
   },
   {
    "duration": 1876,
    "start_time": "2022-05-20T17:58:35.723Z"
   },
   {
    "duration": 782,
    "start_time": "2022-05-20T17:58:37.601Z"
   },
   {
    "duration": 7218,
    "start_time": "2022-05-20T17:58:38.385Z"
   },
   {
    "duration": 6,
    "start_time": "2022-05-20T17:58:45.605Z"
   },
   {
    "duration": 36,
    "start_time": "2022-05-20T17:58:45.612Z"
   },
   {
    "duration": 2492,
    "start_time": "2022-05-20T17:58:45.650Z"
   },
   {
    "duration": 1934,
    "start_time": "2022-05-20T17:58:48.144Z"
   },
   {
    "duration": 2269,
    "start_time": "2022-05-20T17:58:50.080Z"
   },
   {
    "duration": 1058,
    "start_time": "2022-05-20T17:58:52.351Z"
   },
   {
    "duration": 7769,
    "start_time": "2022-05-20T17:58:53.411Z"
   },
   {
    "duration": 7,
    "start_time": "2022-05-20T17:59:01.182Z"
   },
   {
    "duration": 1859,
    "start_time": "2022-05-20T18:03:43.438Z"
   },
   {
    "duration": 28,
    "start_time": "2022-05-20T18:04:23.563Z"
   },
   {
    "duration": 8,
    "start_time": "2022-05-20T18:04:27.599Z"
   },
   {
    "duration": 4,
    "start_time": "2022-05-20T18:04:37.192Z"
   },
   {
    "duration": 4,
    "start_time": "2022-05-20T18:04:40.976Z"
   },
   {
    "duration": 3,
    "start_time": "2022-05-20T18:05:34.511Z"
   },
   {
    "duration": 3,
    "start_time": "2022-05-20T18:05:51.003Z"
   },
   {
    "duration": 140,
    "start_time": "2022-05-20T18:07:14.918Z"
   },
   {
    "duration": 25,
    "start_time": "2022-05-20T18:07:42.102Z"
   },
   {
    "duration": 20,
    "start_time": "2022-05-20T18:07:49.182Z"
   },
   {
    "duration": 10,
    "start_time": "2022-05-20T18:07:54.053Z"
   },
   {
    "duration": 12,
    "start_time": "2022-05-20T18:07:59.405Z"
   },
   {
    "duration": 5,
    "start_time": "2022-05-20T18:08:03.629Z"
   },
   {
    "duration": 6,
    "start_time": "2022-05-20T18:08:08.053Z"
   },
   {
    "duration": 1967,
    "start_time": "2022-05-20T18:08:19.334Z"
   },
   {
    "duration": 1932,
    "start_time": "2022-05-20T18:19:27.180Z"
   },
   {
    "duration": 7,
    "start_time": "2022-05-20T18:22:59.562Z"
   },
   {
    "duration": 426,
    "start_time": "2022-05-20T18:24:20.129Z"
   },
   {
    "duration": 57,
    "start_time": "2022-05-20T18:26:00.568Z"
   },
   {
    "duration": 466,
    "start_time": "2022-05-20T18:26:26.977Z"
   },
   {
    "duration": 339,
    "start_time": "2022-05-20T18:27:47.896Z"
   },
   {
    "duration": 343,
    "start_time": "2022-05-20T18:28:11.912Z"
   },
   {
    "duration": 396,
    "start_time": "2022-05-20T18:28:20.632Z"
   },
   {
    "duration": 493,
    "start_time": "2022-05-20T18:28:29.271Z"
   },
   {
    "duration": 2335,
    "start_time": "2022-05-20T18:28:56.039Z"
   },
   {
    "duration": 399,
    "start_time": "2022-05-20T18:29:07.688Z"
   },
   {
    "duration": 575,
    "start_time": "2022-05-20T18:29:15.949Z"
   },
   {
    "duration": 8,
    "start_time": "2022-05-20T18:31:30.253Z"
   },
   {
    "duration": 8,
    "start_time": "2022-05-20T18:33:49.028Z"
   },
   {
    "duration": 8,
    "start_time": "2022-05-20T18:34:59.027Z"
   },
   {
    "duration": 1208,
    "start_time": "2022-05-20T19:04:27.644Z"
   },
   {
    "duration": 3,
    "start_time": "2022-05-20T19:04:28.853Z"
   },
   {
    "duration": 12,
    "start_time": "2022-05-20T19:04:28.857Z"
   },
   {
    "duration": 288,
    "start_time": "2022-05-20T19:04:28.871Z"
   },
   {
    "duration": 23,
    "start_time": "2022-05-20T19:04:29.160Z"
   },
   {
    "duration": 10,
    "start_time": "2022-05-20T19:04:29.185Z"
   },
   {
    "duration": 88,
    "start_time": "2022-05-20T19:04:29.196Z"
   },
   {
    "duration": 19,
    "start_time": "2022-05-20T19:04:29.286Z"
   },
   {
    "duration": 20,
    "start_time": "2022-05-20T19:04:29.307Z"
   },
   {
    "duration": 336,
    "start_time": "2022-05-20T19:04:29.330Z"
   },
   {
    "duration": 19,
    "start_time": "2022-05-20T19:04:29.668Z"
   },
   {
    "duration": 13,
    "start_time": "2022-05-20T19:04:29.689Z"
   },
   {
    "duration": 3,
    "start_time": "2022-05-20T19:04:29.704Z"
   },
   {
    "duration": 21,
    "start_time": "2022-05-20T19:04:29.709Z"
   },
   {
    "duration": 6,
    "start_time": "2022-05-20T19:04:29.731Z"
   },
   {
    "duration": 6,
    "start_time": "2022-05-20T19:04:29.738Z"
   },
   {
    "duration": 255,
    "start_time": "2022-05-20T19:04:29.746Z"
   },
   {
    "duration": 5,
    "start_time": "2022-05-20T19:04:30.003Z"
   },
   {
    "duration": 11,
    "start_time": "2022-05-20T19:04:30.009Z"
   },
   {
    "duration": 26,
    "start_time": "2022-05-20T19:04:30.026Z"
   },
   {
    "duration": 13,
    "start_time": "2022-05-20T19:04:30.053Z"
   },
   {
    "duration": 7,
    "start_time": "2022-05-20T19:04:30.068Z"
   },
   {
    "duration": 11,
    "start_time": "2022-05-20T19:04:30.077Z"
   },
   {
    "duration": 10,
    "start_time": "2022-05-20T19:04:30.089Z"
   },
   {
    "duration": 12,
    "start_time": "2022-05-20T19:04:30.101Z"
   },
   {
    "duration": 13,
    "start_time": "2022-05-20T19:04:30.115Z"
   },
   {
    "duration": 32,
    "start_time": "2022-05-20T19:04:30.130Z"
   },
   {
    "duration": 4,
    "start_time": "2022-05-20T19:04:30.167Z"
   },
   {
    "duration": 23,
    "start_time": "2022-05-20T19:04:30.173Z"
   },
   {
    "duration": 10,
    "start_time": "2022-05-20T19:04:30.198Z"
   },
   {
    "duration": 25,
    "start_time": "2022-05-20T19:04:30.210Z"
   },
   {
    "duration": 11,
    "start_time": "2022-05-20T19:04:30.237Z"
   },
   {
    "duration": 39,
    "start_time": "2022-05-20T19:04:30.250Z"
   },
   {
    "duration": 13,
    "start_time": "2022-05-20T19:04:30.291Z"
   },
   {
    "duration": 1659,
    "start_time": "2022-05-20T19:04:30.306Z"
   },
   {
    "duration": 9,
    "start_time": "2022-05-20T19:04:31.966Z"
   },
   {
    "duration": 1652,
    "start_time": "2022-05-20T19:04:31.976Z"
   },
   {
    "duration": 23,
    "start_time": "2022-05-20T19:04:33.630Z"
   },
   {
    "duration": 860,
    "start_time": "2022-05-20T19:04:33.655Z"
   },
   {
    "duration": 12,
    "start_time": "2022-05-20T19:04:34.516Z"
   },
   {
    "duration": 13,
    "start_time": "2022-05-20T19:04:34.529Z"
   },
   {
    "duration": 37,
    "start_time": "2022-05-20T19:04:34.544Z"
   },
   {
    "duration": 1048,
    "start_time": "2022-05-20T19:04:34.582Z"
   },
   {
    "duration": 5,
    "start_time": "2022-05-20T19:04:35.632Z"
   },
   {
    "duration": 26,
    "start_time": "2022-05-20T19:04:35.638Z"
   },
   {
    "duration": 27,
    "start_time": "2022-05-20T19:04:35.666Z"
   },
   {
    "duration": 1782,
    "start_time": "2022-05-20T19:04:35.694Z"
   },
   {
    "duration": 7,
    "start_time": "2022-05-20T19:04:37.477Z"
   },
   {
    "duration": 8,
    "start_time": "2022-05-20T19:04:37.485Z"
   },
   {
    "duration": 9,
    "start_time": "2022-05-20T19:04:37.495Z"
   },
   {
    "duration": 15,
    "start_time": "2022-05-20T19:04:37.506Z"
   },
   {
    "duration": 27,
    "start_time": "2022-05-20T19:04:37.523Z"
   },
   {
    "duration": 778,
    "start_time": "2022-05-20T19:04:37.551Z"
   },
   {
    "duration": 6,
    "start_time": "2022-05-20T19:04:38.331Z"
   },
   {
    "duration": 329,
    "start_time": "2022-05-20T19:04:38.338Z"
   },
   {
    "duration": 21,
    "start_time": "2022-05-20T19:04:38.669Z"
   },
   {
    "duration": 1633,
    "start_time": "2022-05-20T19:04:38.691Z"
   },
   {
    "duration": 7,
    "start_time": "2022-05-20T19:04:40.325Z"
   },
   {
    "duration": 10,
    "start_time": "2022-05-20T19:04:40.333Z"
   },
   {
    "duration": 6,
    "start_time": "2022-05-20T19:04:40.344Z"
   },
   {
    "duration": 12,
    "start_time": "2022-05-20T19:04:40.352Z"
   },
   {
    "duration": 12,
    "start_time": "2022-05-20T19:04:40.366Z"
   },
   {
    "duration": 13,
    "start_time": "2022-05-20T19:04:40.379Z"
   },
   {
    "duration": 5,
    "start_time": "2022-05-20T19:04:40.394Z"
   },
   {
    "duration": 26,
    "start_time": "2022-05-20T19:04:40.401Z"
   },
   {
    "duration": 16,
    "start_time": "2022-05-20T19:04:40.428Z"
   },
   {
    "duration": 1517,
    "start_time": "2022-05-20T19:04:40.446Z"
   },
   {
    "duration": 773,
    "start_time": "2022-05-20T19:04:41.965Z"
   },
   {
    "duration": 7095,
    "start_time": "2022-05-20T19:04:42.739Z"
   },
   {
    "duration": 6,
    "start_time": "2022-05-20T19:04:49.836Z"
   },
   {
    "duration": 24,
    "start_time": "2022-05-20T19:04:49.844Z"
   },
   {
    "duration": 1832,
    "start_time": "2022-05-20T19:04:49.870Z"
   },
   {
    "duration": 1748,
    "start_time": "2022-05-20T19:04:51.703Z"
   },
   {
    "duration": 1715,
    "start_time": "2022-05-20T19:04:53.453Z"
   },
   {
    "duration": 1067,
    "start_time": "2022-05-20T19:04:55.170Z"
   },
   {
    "duration": 7813,
    "start_time": "2022-05-20T19:04:56.240Z"
   },
   {
    "duration": 7,
    "start_time": "2022-05-20T19:05:04.054Z"
   },
   {
    "duration": 24,
    "start_time": "2022-05-20T19:05:04.063Z"
   },
   {
    "duration": 2028,
    "start_time": "2022-05-20T19:05:04.089Z"
   },
   {
    "duration": 12,
    "start_time": "2022-05-20T19:05:06.120Z"
   },
   {
    "duration": 482,
    "start_time": "2022-05-20T19:05:06.134Z"
   },
   {
    "duration": 9,
    "start_time": "2022-05-20T19:05:06.621Z"
   },
   {
    "duration": 1873,
    "start_time": "2022-05-22T11:05:46.378Z"
   },
   {
    "duration": 3,
    "start_time": "2022-05-22T11:05:48.253Z"
   },
   {
    "duration": 6,
    "start_time": "2022-05-22T11:05:48.258Z"
   },
   {
    "duration": 818,
    "start_time": "2022-05-22T11:05:48.266Z"
   },
   {
    "duration": 25,
    "start_time": "2022-05-22T11:05:49.085Z"
   },
   {
    "duration": 12,
    "start_time": "2022-05-22T11:05:49.111Z"
   },
   {
    "duration": 124,
    "start_time": "2022-05-22T11:05:49.125Z"
   },
   {
    "duration": 25,
    "start_time": "2022-05-22T11:05:49.251Z"
   },
   {
    "duration": 14,
    "start_time": "2022-05-22T11:05:49.278Z"
   },
   {
    "duration": 505,
    "start_time": "2022-05-22T11:05:49.296Z"
   },
   {
    "duration": 21,
    "start_time": "2022-05-22T11:05:49.802Z"
   },
   {
    "duration": 10,
    "start_time": "2022-05-22T11:05:49.824Z"
   },
   {
    "duration": 3,
    "start_time": "2022-05-22T11:05:49.836Z"
   },
   {
    "duration": 5,
    "start_time": "2022-05-22T11:05:49.841Z"
   },
   {
    "duration": 7,
    "start_time": "2022-05-22T11:05:49.847Z"
   },
   {
    "duration": 7,
    "start_time": "2022-05-22T11:05:49.855Z"
   },
   {
    "duration": 283,
    "start_time": "2022-05-22T11:05:49.863Z"
   },
   {
    "duration": 4,
    "start_time": "2022-05-22T11:05:50.147Z"
   },
   {
    "duration": 8,
    "start_time": "2022-05-22T11:05:50.153Z"
   },
   {
    "duration": 16,
    "start_time": "2022-05-22T11:05:50.162Z"
   },
   {
    "duration": 14,
    "start_time": "2022-05-22T11:05:50.180Z"
   },
   {
    "duration": 28,
    "start_time": "2022-05-22T11:05:50.196Z"
   },
   {
    "duration": 6,
    "start_time": "2022-05-22T11:05:50.226Z"
   },
   {
    "duration": 11,
    "start_time": "2022-05-22T11:05:50.233Z"
   },
   {
    "duration": 8,
    "start_time": "2022-05-22T11:05:50.246Z"
   },
   {
    "duration": 5,
    "start_time": "2022-05-22T11:05:50.255Z"
   },
   {
    "duration": 23,
    "start_time": "2022-05-22T11:05:50.261Z"
   },
   {
    "duration": 36,
    "start_time": "2022-05-22T11:05:50.287Z"
   },
   {
    "duration": 20,
    "start_time": "2022-05-22T11:05:50.324Z"
   },
   {
    "duration": 6,
    "start_time": "2022-05-22T11:05:50.346Z"
   },
   {
    "duration": 22,
    "start_time": "2022-05-22T11:05:50.353Z"
   },
   {
    "duration": 6,
    "start_time": "2022-05-22T11:05:50.377Z"
   },
   {
    "duration": 40,
    "start_time": "2022-05-22T11:05:50.385Z"
   },
   {
    "duration": 12,
    "start_time": "2022-05-22T11:05:50.427Z"
   },
   {
    "duration": 1699,
    "start_time": "2022-05-22T11:05:50.441Z"
   },
   {
    "duration": 9,
    "start_time": "2022-05-22T11:05:52.142Z"
   },
   {
    "duration": 1815,
    "start_time": "2022-05-22T11:05:52.153Z"
   },
   {
    "duration": 25,
    "start_time": "2022-05-22T11:06:28.184Z"
   },
   {
    "duration": 1245,
    "start_time": "2022-05-22T11:06:52.085Z"
   },
   {
    "duration": 29,
    "start_time": "2022-05-22T11:08:13.318Z"
   },
   {
    "duration": 1622,
    "start_time": "2022-05-22T11:08:34.894Z"
   },
   {
    "duration": 29,
    "start_time": "2022-05-22T11:11:34.298Z"
   },
   {
    "duration": 1285,
    "start_time": "2022-05-22T11:11:51.992Z"
   },
   {
    "duration": 118,
    "start_time": "2022-05-22T11:25:30.920Z"
   },
   {
    "duration": 364,
    "start_time": "2022-05-22T11:25:38.714Z"
   },
   {
    "duration": 434,
    "start_time": "2022-05-22T11:25:40.666Z"
   },
   {
    "duration": 23,
    "start_time": "2022-05-22T11:25:41.701Z"
   },
   {
    "duration": 1701,
    "start_time": "2022-05-22T11:25:42.218Z"
   },
   {
    "duration": 7,
    "start_time": "2022-05-22T11:25:45.212Z"
   },
   {
    "duration": 23,
    "start_time": "2022-05-22T11:25:47.636Z"
   },
   {
    "duration": 1929,
    "start_time": "2022-05-22T11:26:00.326Z"
   },
   {
    "duration": 5,
    "start_time": "2022-05-22T11:26:06.905Z"
   },
   {
    "duration": 6,
    "start_time": "2022-05-22T11:26:09.453Z"
   },
   {
    "duration": 6,
    "start_time": "2022-05-22T11:32:19.116Z"
   },
   {
    "duration": 13,
    "start_time": "2022-05-22T11:34:52.475Z"
   },
   {
    "duration": 4,
    "start_time": "2022-05-22T11:48:14.170Z"
   },
   {
    "duration": 5,
    "start_time": "2022-05-22T11:48:14.177Z"
   },
   {
    "duration": 5,
    "start_time": "2022-05-22T11:48:14.184Z"
   },
   {
    "duration": 300,
    "start_time": "2022-05-22T11:48:14.190Z"
   },
   {
    "duration": 21,
    "start_time": "2022-05-22T11:48:14.492Z"
   },
   {
    "duration": 18,
    "start_time": "2022-05-22T11:48:14.514Z"
   },
   {
    "duration": 72,
    "start_time": "2022-05-22T11:48:14.534Z"
   },
   {
    "duration": 35,
    "start_time": "2022-05-22T11:48:14.607Z"
   },
   {
    "duration": 10,
    "start_time": "2022-05-22T11:48:14.644Z"
   },
   {
    "duration": 343,
    "start_time": "2022-05-22T11:48:14.656Z"
   },
   {
    "duration": 26,
    "start_time": "2022-05-22T11:48:15.000Z"
   },
   {
    "duration": 29,
    "start_time": "2022-05-22T11:48:15.028Z"
   },
   {
    "duration": 4,
    "start_time": "2022-05-22T11:48:15.058Z"
   },
   {
    "duration": 8,
    "start_time": "2022-05-22T11:48:15.066Z"
   },
   {
    "duration": 9,
    "start_time": "2022-05-22T11:48:15.076Z"
   },
   {
    "duration": 13,
    "start_time": "2022-05-22T11:48:15.086Z"
   },
   {
    "duration": 249,
    "start_time": "2022-05-22T11:48:15.101Z"
   },
   {
    "duration": 5,
    "start_time": "2022-05-22T11:48:15.352Z"
   },
   {
    "duration": 12,
    "start_time": "2022-05-22T11:48:15.359Z"
   },
   {
    "duration": 17,
    "start_time": "2022-05-22T11:48:15.373Z"
   },
   {
    "duration": 14,
    "start_time": "2022-05-22T11:48:15.391Z"
   },
   {
    "duration": 8,
    "start_time": "2022-05-22T11:48:15.423Z"
   },
   {
    "duration": 5,
    "start_time": "2022-05-22T11:48:15.432Z"
   },
   {
    "duration": 5,
    "start_time": "2022-05-22T11:48:15.438Z"
   },
   {
    "duration": 9,
    "start_time": "2022-05-22T11:48:15.445Z"
   },
   {
    "duration": 6,
    "start_time": "2022-05-22T11:48:15.455Z"
   },
   {
    "duration": 22,
    "start_time": "2022-05-22T11:48:15.463Z"
   },
   {
    "duration": 38,
    "start_time": "2022-05-22T11:48:15.487Z"
   },
   {
    "duration": 24,
    "start_time": "2022-05-22T11:48:15.527Z"
   },
   {
    "duration": 5,
    "start_time": "2022-05-22T11:48:15.554Z"
   },
   {
    "duration": 24,
    "start_time": "2022-05-22T11:48:15.560Z"
   },
   {
    "duration": 10,
    "start_time": "2022-05-22T11:48:15.586Z"
   },
   {
    "duration": 37,
    "start_time": "2022-05-22T11:48:15.597Z"
   },
   {
    "duration": 8,
    "start_time": "2022-05-22T11:48:15.635Z"
   },
   {
    "duration": 1685,
    "start_time": "2022-05-22T11:48:15.644Z"
   },
   {
    "duration": 8,
    "start_time": "2022-05-22T11:48:17.330Z"
   },
   {
    "duration": 1780,
    "start_time": "2022-05-22T11:48:17.339Z"
   },
   {
    "duration": 25,
    "start_time": "2022-05-22T11:48:19.122Z"
   },
   {
    "duration": 972,
    "start_time": "2022-05-22T11:48:19.148Z"
   },
   {
    "duration": 7,
    "start_time": "2022-05-22T11:48:20.122Z"
   },
   {
    "duration": 5,
    "start_time": "2022-05-22T11:48:20.133Z"
   },
   {
    "duration": 30,
    "start_time": "2022-05-22T11:48:20.139Z"
   },
   {
    "duration": 1630,
    "start_time": "2022-05-22T11:48:20.171Z"
   },
   {
    "duration": 7,
    "start_time": "2022-05-22T11:48:21.802Z"
   },
   {
    "duration": 13,
    "start_time": "2022-05-22T11:48:21.810Z"
   },
   {
    "duration": 26,
    "start_time": "2022-05-22T11:48:21.826Z"
   },
   {
    "duration": 1295,
    "start_time": "2022-05-22T11:48:21.854Z"
   },
   {
    "duration": 8,
    "start_time": "2022-05-22T11:48:23.151Z"
   },
   {
    "duration": 9,
    "start_time": "2022-05-22T11:48:23.160Z"
   },
   {
    "duration": 4,
    "start_time": "2022-05-22T11:48:23.170Z"
   },
   {
    "duration": 9,
    "start_time": "2022-05-22T11:48:23.175Z"
   },
   {
    "duration": 38,
    "start_time": "2022-05-22T11:48:23.186Z"
   },
   {
    "duration": 730,
    "start_time": "2022-05-22T11:48:23.226Z"
   },
   {
    "duration": 7,
    "start_time": "2022-05-22T11:48:23.958Z"
   },
   {
    "duration": 562,
    "start_time": "2022-05-22T11:48:23.967Z"
   },
   {
    "duration": 25,
    "start_time": "2022-05-22T11:48:24.531Z"
   },
   {
    "duration": 1827,
    "start_time": "2022-05-22T11:48:24.558Z"
   },
   {
    "duration": 7,
    "start_time": "2022-05-22T11:48:26.386Z"
   },
   {
    "duration": 29,
    "start_time": "2022-05-22T11:48:26.395Z"
   },
   {
    "duration": 1925,
    "start_time": "2022-05-22T11:48:26.426Z"
   },
   {
    "duration": 5,
    "start_time": "2022-05-22T11:48:28.353Z"
   },
   {
    "duration": 7,
    "start_time": "2022-05-22T11:48:28.359Z"
   },
   {
    "duration": 5,
    "start_time": "2022-05-22T11:48:28.368Z"
   },
   {
    "duration": 14,
    "start_time": "2022-05-22T11:48:28.374Z"
   },
   {
    "duration": 10,
    "start_time": "2022-05-22T11:48:28.390Z"
   },
   {
    "duration": 28,
    "start_time": "2022-05-22T11:48:28.402Z"
   },
   {
    "duration": 14,
    "start_time": "2022-05-22T11:48:28.432Z"
   },
   {
    "duration": 8,
    "start_time": "2022-05-22T11:48:28.447Z"
   },
   {
    "duration": 18,
    "start_time": "2022-05-22T11:48:28.456Z"
   },
   {
    "duration": 1597,
    "start_time": "2022-05-22T11:48:28.476Z"
   },
   {
    "duration": 819,
    "start_time": "2022-05-22T11:48:30.074Z"
   },
   {
    "duration": 47,
    "start_time": "2022-05-22T11:56:46.380Z"
   },
   {
    "duration": 7627,
    "start_time": "2022-05-22T11:56:46.644Z"
   },
   {
    "duration": 452167,
    "start_time": "2022-05-22T11:58:29.398Z"
   },
   {
    "duration": 94879,
    "start_time": "2022-05-22T12:06:07.308Z"
   },
   {
    "duration": 4,
    "start_time": "2022-05-22T12:08:05.818Z"
   },
   {
    "duration": 5,
    "start_time": "2022-05-22T12:08:21.660Z"
   },
   {
    "duration": 4,
    "start_time": "2022-05-22T12:09:26.194Z"
   },
   {
    "duration": 5,
    "start_time": "2022-05-22T12:09:36.129Z"
   },
   {
    "duration": 5,
    "start_time": "2022-05-22T12:09:52.370Z"
   },
   {
    "duration": 5,
    "start_time": "2022-05-22T12:12:25.909Z"
   },
   {
    "duration": 41,
    "start_time": "2022-05-22T12:15:03.526Z"
   },
   {
    "duration": 10,
    "start_time": "2022-05-22T12:21:54.878Z"
   },
   {
    "duration": 14,
    "start_time": "2022-05-22T12:22:17.086Z"
   },
   {
    "duration": 5,
    "start_time": "2022-05-22T12:42:22.038Z"
   },
   {
    "duration": 3,
    "start_time": "2022-05-22T12:46:44.283Z"
   },
   {
    "duration": 197,
    "start_time": "2022-05-22T12:51:24.408Z"
   },
   {
    "duration": 1419,
    "start_time": "2022-05-22T12:53:17.198Z"
   },
   {
    "duration": 4,
    "start_time": "2022-05-22T12:53:18.619Z"
   },
   {
    "duration": 7,
    "start_time": "2022-05-22T12:53:18.624Z"
   },
   {
    "duration": 267,
    "start_time": "2022-05-22T12:53:18.633Z"
   },
   {
    "duration": 36,
    "start_time": "2022-05-22T12:53:18.902Z"
   },
   {
    "duration": 13,
    "start_time": "2022-05-22T12:53:18.940Z"
   },
   {
    "duration": 112,
    "start_time": "2022-05-22T12:53:18.955Z"
   },
   {
    "duration": 21,
    "start_time": "2022-05-22T12:53:19.069Z"
   },
   {
    "duration": 10,
    "start_time": "2022-05-22T12:53:19.092Z"
   },
   {
    "duration": 385,
    "start_time": "2022-05-22T12:53:19.104Z"
   },
   {
    "duration": 22,
    "start_time": "2022-05-22T12:53:19.491Z"
   },
   {
    "duration": 12,
    "start_time": "2022-05-22T12:53:19.522Z"
   },
   {
    "duration": 3,
    "start_time": "2022-05-22T12:53:19.536Z"
   },
   {
    "duration": 6,
    "start_time": "2022-05-22T12:53:19.541Z"
   },
   {
    "duration": 6,
    "start_time": "2022-05-22T12:53:19.549Z"
   },
   {
    "duration": 8,
    "start_time": "2022-05-22T12:53:19.556Z"
   },
   {
    "duration": 278,
    "start_time": "2022-05-22T12:53:19.565Z"
   },
   {
    "duration": 5,
    "start_time": "2022-05-22T12:53:19.845Z"
   },
   {
    "duration": 9,
    "start_time": "2022-05-22T12:53:19.851Z"
   },
   {
    "duration": 20,
    "start_time": "2022-05-22T12:53:19.862Z"
   },
   {
    "duration": 16,
    "start_time": "2022-05-22T12:53:19.884Z"
   },
   {
    "duration": 25,
    "start_time": "2022-05-22T12:53:19.901Z"
   },
   {
    "duration": 6,
    "start_time": "2022-05-22T12:53:19.927Z"
   },
   {
    "duration": 18,
    "start_time": "2022-05-22T12:53:19.935Z"
   },
   {
    "duration": 20,
    "start_time": "2022-05-22T12:53:19.955Z"
   },
   {
    "duration": 14,
    "start_time": "2022-05-22T12:53:19.977Z"
   },
   {
    "duration": 8,
    "start_time": "2022-05-22T12:53:19.992Z"
   },
   {
    "duration": 37,
    "start_time": "2022-05-22T12:53:20.004Z"
   },
   {
    "duration": 9,
    "start_time": "2022-05-22T12:53:20.043Z"
   },
   {
    "duration": 22,
    "start_time": "2022-05-22T12:53:20.053Z"
   },
   {
    "duration": 6,
    "start_time": "2022-05-22T12:53:20.077Z"
   },
   {
    "duration": 40,
    "start_time": "2022-05-22T12:53:20.085Z"
   },
   {
    "duration": 5,
    "start_time": "2022-05-22T12:53:20.126Z"
   },
   {
    "duration": 30,
    "start_time": "2022-05-22T12:53:20.133Z"
   },
   {
    "duration": 7,
    "start_time": "2022-05-22T12:53:20.164Z"
   },
   {
    "duration": 1784,
    "start_time": "2022-05-22T12:53:20.172Z"
   },
   {
    "duration": 7,
    "start_time": "2022-05-22T12:53:21.958Z"
   },
   {
    "duration": 1771,
    "start_time": "2022-05-22T12:53:21.966Z"
   },
   {
    "duration": 24,
    "start_time": "2022-05-22T12:53:23.738Z"
   },
   {
    "duration": 1001,
    "start_time": "2022-05-22T12:53:23.764Z"
   },
   {
    "duration": 7,
    "start_time": "2022-05-22T12:53:24.767Z"
   },
   {
    "duration": 17,
    "start_time": "2022-05-22T12:53:24.775Z"
   },
   {
    "duration": 33,
    "start_time": "2022-05-22T12:53:24.794Z"
   },
   {
    "duration": 1550,
    "start_time": "2022-05-22T12:53:24.829Z"
   },
   {
    "duration": 6,
    "start_time": "2022-05-22T12:53:26.382Z"
   },
   {
    "duration": 9,
    "start_time": "2022-05-22T12:53:26.389Z"
   },
   {
    "duration": 48,
    "start_time": "2022-05-22T12:53:26.400Z"
   },
   {
    "duration": 1344,
    "start_time": "2022-05-22T12:53:26.451Z"
   },
   {
    "duration": 7,
    "start_time": "2022-05-22T12:53:27.797Z"
   },
   {
    "duration": 21,
    "start_time": "2022-05-22T12:53:27.805Z"
   },
   {
    "duration": 4,
    "start_time": "2022-05-22T12:53:27.828Z"
   },
   {
    "duration": 7,
    "start_time": "2022-05-22T12:53:27.833Z"
   },
   {
    "duration": 21,
    "start_time": "2022-05-22T12:53:27.841Z"
   },
   {
    "duration": 779,
    "start_time": "2022-05-22T12:53:27.864Z"
   },
   {
    "duration": 8,
    "start_time": "2022-05-22T12:53:28.645Z"
   },
   {
    "duration": 378,
    "start_time": "2022-05-22T12:53:28.654Z"
   },
   {
    "duration": 23,
    "start_time": "2022-05-22T12:53:29.034Z"
   },
   {
    "duration": 1876,
    "start_time": "2022-05-22T12:53:29.059Z"
   },
   {
    "duration": 8,
    "start_time": "2022-05-22T12:53:30.938Z"
   },
   {
    "duration": 42,
    "start_time": "2022-05-22T12:53:30.948Z"
   },
   {
    "duration": 1799,
    "start_time": "2022-05-22T12:53:30.992Z"
   },
   {
    "duration": 7,
    "start_time": "2022-05-22T12:53:32.793Z"
   },
   {
    "duration": 22,
    "start_time": "2022-05-22T12:53:32.802Z"
   },
   {
    "duration": 6,
    "start_time": "2022-05-22T12:53:32.825Z"
   },
   {
    "duration": 16,
    "start_time": "2022-05-22T12:53:32.833Z"
   },
   {
    "duration": 16,
    "start_time": "2022-05-22T12:53:32.850Z"
   },
   {
    "duration": 17,
    "start_time": "2022-05-22T12:53:32.868Z"
   },
   {
    "duration": 9,
    "start_time": "2022-05-22T12:53:32.887Z"
   },
   {
    "duration": 15,
    "start_time": "2022-05-22T12:53:32.898Z"
   },
   {
    "duration": 158,
    "start_time": "2022-05-22T12:53:32.915Z"
   },
   {
    "duration": 1712,
    "start_time": "2022-05-22T12:53:33.075Z"
   },
   {
    "duration": 855,
    "start_time": "2022-05-22T12:53:34.789Z"
   },
   {
    "duration": 95646,
    "start_time": "2022-05-22T12:53:35.646Z"
   },
   {
    "duration": 5,
    "start_time": "2022-05-22T12:55:11.294Z"
   },
   {
    "duration": 8553,
    "start_time": "2022-05-22T12:55:11.300Z"
   },
   {
    "duration": 6,
    "start_time": "2022-05-22T12:55:19.855Z"
   },
   {
    "duration": 24,
    "start_time": "2022-05-22T12:55:19.862Z"
   },
   {
    "duration": 1987,
    "start_time": "2022-05-22T12:55:19.887Z"
   },
   {
    "duration": 1961,
    "start_time": "2022-05-22T12:55:21.876Z"
   },
   {
    "duration": 2523,
    "start_time": "2022-05-22T12:55:23.839Z"
   },
   {
    "duration": 1695,
    "start_time": "2022-05-22T12:55:26.363Z"
   },
   {
    "duration": 8558,
    "start_time": "2022-05-22T12:55:28.063Z"
   },
   {
    "duration": 8,
    "start_time": "2022-05-22T12:55:36.622Z"
   },
   {
    "duration": 6,
    "start_time": "2022-05-22T12:55:36.632Z"
   },
   {
    "duration": 2141,
    "start_time": "2022-05-22T12:55:36.640Z"
   },
   {
    "duration": 6,
    "start_time": "2022-05-22T12:55:38.783Z"
   },
   {
    "duration": 1185,
    "start_time": "2022-05-22T12:55:38.791Z"
   },
   {
    "duration": 8,
    "start_time": "2022-05-22T12:55:39.977Z"
   },
   {
    "duration": 172,
    "start_time": "2022-05-22T12:55:39.987Z"
   },
   {
    "duration": 167,
    "start_time": "2022-05-22T12:55:40.161Z"
   },
   {
    "duration": 10,
    "start_time": "2022-05-22T12:55:40.330Z"
   }
  ],
  "kernelspec": {
   "display_name": "Python 3 (ipykernel)",
   "language": "python",
   "name": "python3"
  },
  "language_info": {
   "codemirror_mode": {
    "name": "ipython",
    "version": 3
   },
   "file_extension": ".py",
   "mimetype": "text/x-python",
   "name": "python",
   "nbconvert_exporter": "python",
   "pygments_lexer": "ipython3",
   "version": "3.9.7"
  },
  "toc": {
   "base_numbering": 1,
   "nav_menu": {},
   "number_sections": true,
   "sideBar": true,
   "skip_h1_title": true,
   "title_cell": "Содержание",
   "title_sidebar": "Contents",
   "toc_cell": true,
   "toc_position": {
    "height": "calc(100% - 180px)",
    "left": "10px",
    "top": "150px",
    "width": "305.391px"
   },
   "toc_section_display": true,
   "toc_window_display": true
  }
 },
 "nbformat": 4,
 "nbformat_minor": 2
}
