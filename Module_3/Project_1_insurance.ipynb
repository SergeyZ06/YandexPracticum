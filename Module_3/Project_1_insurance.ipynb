{
 "cells": [
  {
   "cell_type": "markdown",
   "metadata": {},
   "source": [
    "👋 **Приветствую, Сергей!**\n",
    "\n",
    "Меня зовут Арсен Абдулин, и я буду твоим ревьювером по проекту. Предлагаю общаться на «ты», если не против =) Моя цель — не поиск ошибок в твоей работе, а поделиться опытом и помочь успешно завершить проект, чтобы на шаг приблизиться к профессии специалиста по Data Science.\n",
    "\n",
    "Видно, что ты очень старался, выполняя проект. Выполнены почти все ключевые этапы — единственное нужно выполнить теоретическое доказательство, отметил в комментарии что нужно сделать! В остальном я оставил рекомендации =)\n",
    "\n",
    "При проверке работ я делаю следующие комментарии:\n",
    "\n",
    "<div class=\"alert alert-success\">\n",
    "<b>✔️ Зеленым цветом</b> отмечены удачные решения, на которые можно опираться в следующих проектах.</div>\n",
    "\n",
    "<div class=\"alert alert-warning\">\n",
    "<b>⚠️ Желтым цветом</b> я отметил пункты, которые в следующий раз можно сделать по-другому. Одно-два таких замечания в проекте допускается, но если их много — проект следует доработать. </div>\n",
    "\n",
    "<div class=\"alert alert-danger\">\n",
    "<b>🚫 Красным цветом</b> отмечены критические замечания, которые необходимо поправить, чтобы принять проект. </div>\n",
    "\n",
    "Если какие-то моменты в задании для тебя были непонятны и у тебя есть ко мне вопросы — смело спрашивай 😊 Также ты можешь доработать места, где есть желтые комментарии в этом проекте (однако, это не обязательно).\n",
    "\n",
    "Предлагаю работать над проектом в диалоге: если ты решишь что-то поменять по моим рекомендациям — пиши об этом (выбери для своих комментариев определенный цвет — так мне будет легче увидеть изменения). Пожалуйста не перемещай, не изменяй и не удаляй мои комментарии. Все это поможет сделать проверку твоего проекта оперативнее.\n",
    "\n",
    "<div class=\"alert alert-info\"> <b>ℹ️ Комментарий студента: </b> Привет Арсен! </div>"
   ]
  },
  {
   "cell_type": "markdown",
   "metadata": {},
   "source": [
    "<div class=\"alert alert-info\">\n",
    "<b>Комментарий студента:</b>\n",
    "<br>Здравствуйте!\n",
    "<br>Постарался устранить все замечания.\n",
    "</div>"
   ]
  },
  {
   "cell_type": "markdown",
   "metadata": {
    "toc": true
   },
   "source": [
    "<h1>Содержание<span class=\"tocSkip\"></span></h1>\n",
    "<div class=\"toc\"><ul class=\"toc-item\"><li><span><a href=\"#Подготовка\" data-toc-modified-id=\"Подготовка-1\"><span class=\"toc-item-num\">1&nbsp;&nbsp;</span>Подготовка</a></span><ul class=\"toc-item\"><li><span><a href=\"#Загрузка-библиотек\" data-toc-modified-id=\"Загрузка-библиотек-1.1\"><span class=\"toc-item-num\">1.1&nbsp;&nbsp;</span>Загрузка библиотек</a></span></li><li><span><a href=\"#Загрузка-данных\" data-toc-modified-id=\"Загрузка-данных-1.2\"><span class=\"toc-item-num\">1.2&nbsp;&nbsp;</span>Загрузка данных</a></span></li><li><span><a href=\"#Описание-данных\" data-toc-modified-id=\"Описание-данных-1.3\"><span class=\"toc-item-num\">1.3&nbsp;&nbsp;</span>Описание данных</a></span></li><li><span><a href=\"#Глобальные-настройки\" data-toc-modified-id=\"Глобальные-настройки-1.4\"><span class=\"toc-item-num\">1.4&nbsp;&nbsp;</span>Глобальные настройки</a></span></li></ul></li><li><span><a href=\"#Загрузка-данных\" data-toc-modified-id=\"Загрузка-данных-2\"><span class=\"toc-item-num\">2&nbsp;&nbsp;</span>Загрузка данных</a></span><ul class=\"toc-item\"><li><span><a href=\"#Загрузка-и-общий-анализ-данных\" data-toc-modified-id=\"Загрузка-и-общий-анализ-данных-2.1\"><span class=\"toc-item-num\">2.1&nbsp;&nbsp;</span>Загрузка и общий анализ данных</a></span></li><li><span><a href=\"#Анализ-признака-&quot;Пол&quot;\" data-toc-modified-id=\"Анализ-признака-&quot;Пол&quot;-2.2\"><span class=\"toc-item-num\">2.2&nbsp;&nbsp;</span>Анализ признака \"Пол\"</a></span></li><li><span><a href=\"#Анализ-признака-&quot;Возраст&quot;\" data-toc-modified-id=\"Анализ-признака-&quot;Возраст&quot;-2.3\"><span class=\"toc-item-num\">2.3&nbsp;&nbsp;</span>Анализ признака \"Возраст\"</a></span></li><li><span><a href=\"#Анализ-признака-&quot;Зарплата&quot;\" data-toc-modified-id=\"Анализ-признака-&quot;Зарплата&quot;-2.4\"><span class=\"toc-item-num\">2.4&nbsp;&nbsp;</span>Анализ признака \"Зарплата\"</a></span></li><li><span><a href=\"#Анализ-признака-&quot;Члены-семьи&quot;\" data-toc-modified-id=\"Анализ-признака-&quot;Члены-семьи&quot;-2.5\"><span class=\"toc-item-num\">2.5&nbsp;&nbsp;</span>Анализ признака \"Члены семьи\"</a></span></li><li><span><a href=\"#Анализ-целевого-признака-&quot;Страховые-выплаты&quot;\" data-toc-modified-id=\"Анализ-целевого-признака-&quot;Страховые-выплаты&quot;-2.6\"><span class=\"toc-item-num\">2.6&nbsp;&nbsp;</span>Анализ целевого признака \"Страховые выплаты\"</a></span></li><li><span><a href=\"#Выводы\" data-toc-modified-id=\"Выводы-2.7\"><span class=\"toc-item-num\">2.7&nbsp;&nbsp;</span>Выводы</a></span></li></ul></li><li><span><a href=\"#Умножение-матриц\" data-toc-modified-id=\"Умножение-матриц-3\"><span class=\"toc-item-num\">3&nbsp;&nbsp;</span>Умножение матриц</a></span></li><li><span><a href=\"#Алгоритм-преобразования\" data-toc-modified-id=\"Алгоритм-преобразования-4\"><span class=\"toc-item-num\">4&nbsp;&nbsp;</span>Алгоритм преобразования</a></span></li><li><span><a href=\"#Проверка-алгоритма\" data-toc-modified-id=\"Проверка-алгоритма-5\"><span class=\"toc-item-num\">5&nbsp;&nbsp;</span>Проверка алгоритма</a></span><ul class=\"toc-item\"><li><span><a href=\"#Подготовка-исходных-данных\" data-toc-modified-id=\"Подготовка-исходных-данных-5.1\"><span class=\"toc-item-num\">5.1&nbsp;&nbsp;</span>Подготовка исходных данных</a></span></li><li><span><a href=\"#Создание-матрицы-перехода\" data-toc-modified-id=\"Создание-матрицы-перехода-5.2\"><span class=\"toc-item-num\">5.2&nbsp;&nbsp;</span>Создание матрицы перехода</a></span></li><li><span><a href=\"#Преобразование-признаков\" data-toc-modified-id=\"Преобразование-признаков-5.3\"><span class=\"toc-item-num\">5.3&nbsp;&nbsp;</span>Преобразование признаков</a></span></li><li><span><a href=\"#Построение-модели-на-исходных-данных\" data-toc-modified-id=\"Построение-модели-на-исходных-данных-5.4\"><span class=\"toc-item-num\">5.4&nbsp;&nbsp;</span>Построение модели на исходных данных</a></span></li><li><span><a href=\"#Построение-модели-на-преобразованных-данных\" data-toc-modified-id=\"Построение-модели-на-преобразованных-данных-5.5\"><span class=\"toc-item-num\">5.5&nbsp;&nbsp;</span>Построение модели на преобразованных данных</a></span></li><li><span><a href=\"#Выводы\" data-toc-modified-id=\"Выводы-5.6\"><span class=\"toc-item-num\">5.6&nbsp;&nbsp;</span>Выводы</a></span></li></ul></li><li><span><a href=\"#Чек-лист-проверки\" data-toc-modified-id=\"Чек-лист-проверки-6\"><span class=\"toc-item-num\">6&nbsp;&nbsp;</span>Чек-лист проверки</a></span></li></ul></div>"
   ]
  },
  {
   "cell_type": "markdown",
   "metadata": {},
   "source": [
    "# Защита персональных данных клиентов"
   ]
  },
  {
   "cell_type": "markdown",
   "metadata": {},
   "source": [
    "Вам нужно защитить данные клиентов страховой компании «Хоть потоп». Разработайте такой метод преобразования данных, чтобы по ним было сложно восстановить персональную информацию. Обоснуйте корректность его работы.\n",
    "\n",
    "Нужно защитить данные, чтобы при преобразовании качество моделей машинного обучения не ухудшилось. Подбирать наилучшую модель не требуется."
   ]
  },
  {
   "cell_type": "markdown",
   "metadata": {},
   "source": [
    "<div class=\"alert alert-success\">\n",
    "<b>✔️ Комментарий ревьювера:</b> Хорошо, есть содержание и небольшое описание проекта!\n",
    "    \n",
    "</div>"
   ]
  },
  {
   "cell_type": "markdown",
   "metadata": {},
   "source": [
    "## Подготовка"
   ]
  },
  {
   "cell_type": "markdown",
   "metadata": {},
   "source": [
    "### Загрузка библиотек"
   ]
  },
  {
   "cell_type": "code",
   "execution_count": 1,
   "metadata": {},
   "outputs": [],
   "source": [
    "import numpy as np\n",
    "import pandas as pd\n",
    "\n",
    "from matplotlib import pyplot as plt\n",
    "\n",
    "from sklearn.linear_model import LinearRegression\n",
    "\n",
    "from sklearn.metrics import r2_score"
   ]
  },
  {
   "cell_type": "markdown",
   "metadata": {},
   "source": [
    "<div class=\"alert alert-success\">\n",
    "<b>✔️ Комментарий ревьювера:</b> Все необходимые библиотеки импортированы.\n",
    "    \n",
    "</div>"
   ]
  },
  {
   "cell_type": "markdown",
   "metadata": {},
   "source": [
    "### Загрузка данных"
   ]
  },
  {
   "cell_type": "code",
   "execution_count": 2,
   "metadata": {},
   "outputs": [],
   "source": [
    "PATH_DATA_INSURANCE = r'/datasets/insurance.csv'"
   ]
  },
  {
   "cell_type": "markdown",
   "metadata": {},
   "source": [
    "### Описание данных"
   ]
  },
  {
   "cell_type": "markdown",
   "metadata": {},
   "source": [
    "**Признаки:**\n",
    "- пол,\n",
    "- возраст,\n",
    "- зарплата застрахованного,\n",
    "- количество членов его семьи.\n",
    "\n",
    "**Целевой признак:**\n",
    "- количество страховых выплат клиенту за последние 5 лет."
   ]
  },
  {
   "cell_type": "markdown",
   "metadata": {},
   "source": [
    "### Глобальные настройки"
   ]
  },
  {
   "cell_type": "code",
   "execution_count": 3,
   "metadata": {},
   "outputs": [],
   "source": [
    "RANDOM_STATE_GLOBAL = 0"
   ]
  },
  {
   "cell_type": "markdown",
   "metadata": {},
   "source": [
    "## Загрузка данных"
   ]
  },
  {
   "cell_type": "markdown",
   "metadata": {},
   "source": [
    "### Загрузка и общий анализ данных"
   ]
  },
  {
   "cell_type": "code",
   "execution_count": 4,
   "metadata": {},
   "outputs": [],
   "source": [
    "df_insurance = pd.read_csv(PATH_DATA_INSURANCE)"
   ]
  },
  {
   "cell_type": "code",
   "execution_count": 5,
   "metadata": {},
   "outputs": [
    {
     "name": "stdout",
     "output_type": "stream",
     "text": [
      "Первые пять строк таблицы данных о клиентах.\n"
     ]
    },
    {
     "data": {
      "text/html": [
       "<div>\n",
       "<style scoped>\n",
       "    .dataframe tbody tr th:only-of-type {\n",
       "        vertical-align: middle;\n",
       "    }\n",
       "\n",
       "    .dataframe tbody tr th {\n",
       "        vertical-align: top;\n",
       "    }\n",
       "\n",
       "    .dataframe thead th {\n",
       "        text-align: right;\n",
       "    }\n",
       "</style>\n",
       "<table border=\"1\" class=\"dataframe\">\n",
       "  <thead>\n",
       "    <tr style=\"text-align: right;\">\n",
       "      <th></th>\n",
       "      <th>Пол</th>\n",
       "      <th>Возраст</th>\n",
       "      <th>Зарплата</th>\n",
       "      <th>Члены семьи</th>\n",
       "      <th>Страховые выплаты</th>\n",
       "    </tr>\n",
       "  </thead>\n",
       "  <tbody>\n",
       "    <tr>\n",
       "      <th>0</th>\n",
       "      <td>1</td>\n",
       "      <td>41.0</td>\n",
       "      <td>49600.0</td>\n",
       "      <td>1</td>\n",
       "      <td>0</td>\n",
       "    </tr>\n",
       "    <tr>\n",
       "      <th>1</th>\n",
       "      <td>0</td>\n",
       "      <td>46.0</td>\n",
       "      <td>38000.0</td>\n",
       "      <td>1</td>\n",
       "      <td>1</td>\n",
       "    </tr>\n",
       "    <tr>\n",
       "      <th>2</th>\n",
       "      <td>0</td>\n",
       "      <td>29.0</td>\n",
       "      <td>21000.0</td>\n",
       "      <td>0</td>\n",
       "      <td>0</td>\n",
       "    </tr>\n",
       "    <tr>\n",
       "      <th>3</th>\n",
       "      <td>0</td>\n",
       "      <td>21.0</td>\n",
       "      <td>41700.0</td>\n",
       "      <td>2</td>\n",
       "      <td>0</td>\n",
       "    </tr>\n",
       "    <tr>\n",
       "      <th>4</th>\n",
       "      <td>1</td>\n",
       "      <td>28.0</td>\n",
       "      <td>26100.0</td>\n",
       "      <td>0</td>\n",
       "      <td>0</td>\n",
       "    </tr>\n",
       "  </tbody>\n",
       "</table>\n",
       "</div>"
      ],
      "text/plain": [
       "   Пол  Возраст  Зарплата  Члены семьи  Страховые выплаты\n",
       "0    1     41.0   49600.0            1                  0\n",
       "1    0     46.0   38000.0            1                  1\n",
       "2    0     29.0   21000.0            0                  0\n",
       "3    0     21.0   41700.0            2                  0\n",
       "4    1     28.0   26100.0            0                  0"
      ]
     },
     "execution_count": 5,
     "metadata": {},
     "output_type": "execute_result"
    }
   ],
   "source": [
    "print('Первые пять строк таблицы данных о клиентах.')\n",
    "df_insurance.head()"
   ]
  },
  {
   "cell_type": "code",
   "execution_count": 6,
   "metadata": {},
   "outputs": [
    {
     "name": "stdout",
     "output_type": "stream",
     "text": [
      "Основная информация о данных: количество и названия признаков, количество значений и тип данных.\n",
      "\n",
      "<class 'pandas.core.frame.DataFrame'>\n",
      "RangeIndex: 5000 entries, 0 to 4999\n",
      "Data columns (total 5 columns):\n",
      " #   Column             Non-Null Count  Dtype  \n",
      "---  ------             --------------  -----  \n",
      " 0   Пол                5000 non-null   int64  \n",
      " 1   Возраст            5000 non-null   float64\n",
      " 2   Зарплата           5000 non-null   float64\n",
      " 3   Члены семьи        5000 non-null   int64  \n",
      " 4   Страховые выплаты  5000 non-null   int64  \n",
      "dtypes: float64(2), int64(3)\n",
      "memory usage: 195.4 KB\n"
     ]
    }
   ],
   "source": [
    "print('Основная информация о данных: количество и названия признаков, количество значений и тип данных.\\n')\n",
    "df_insurance.info()"
   ]
  },
  {
   "cell_type": "code",
   "execution_count": 7,
   "metadata": {
    "scrolled": true
   },
   "outputs": [
    {
     "name": "stdout",
     "output_type": "stream",
     "text": [
      "Основные статистики данных.\n"
     ]
    },
    {
     "data": {
      "text/html": [
       "<div>\n",
       "<style scoped>\n",
       "    .dataframe tbody tr th:only-of-type {\n",
       "        vertical-align: middle;\n",
       "    }\n",
       "\n",
       "    .dataframe tbody tr th {\n",
       "        vertical-align: top;\n",
       "    }\n",
       "\n",
       "    .dataframe thead th {\n",
       "        text-align: right;\n",
       "    }\n",
       "</style>\n",
       "<table border=\"1\" class=\"dataframe\">\n",
       "  <thead>\n",
       "    <tr style=\"text-align: right;\">\n",
       "      <th></th>\n",
       "      <th>count</th>\n",
       "      <th>mean</th>\n",
       "      <th>std</th>\n",
       "      <th>min</th>\n",
       "      <th>25%</th>\n",
       "      <th>50%</th>\n",
       "      <th>75%</th>\n",
       "      <th>max</th>\n",
       "    </tr>\n",
       "  </thead>\n",
       "  <tbody>\n",
       "    <tr>\n",
       "      <th>Пол</th>\n",
       "      <td>5000.0</td>\n",
       "      <td>0.4990</td>\n",
       "      <td>0.500049</td>\n",
       "      <td>0.0</td>\n",
       "      <td>0.0</td>\n",
       "      <td>0.0</td>\n",
       "      <td>1.0</td>\n",
       "      <td>1.0</td>\n",
       "    </tr>\n",
       "    <tr>\n",
       "      <th>Возраст</th>\n",
       "      <td>5000.0</td>\n",
       "      <td>30.9528</td>\n",
       "      <td>8.440807</td>\n",
       "      <td>18.0</td>\n",
       "      <td>24.0</td>\n",
       "      <td>30.0</td>\n",
       "      <td>37.0</td>\n",
       "      <td>65.0</td>\n",
       "    </tr>\n",
       "    <tr>\n",
       "      <th>Зарплата</th>\n",
       "      <td>5000.0</td>\n",
       "      <td>39916.3600</td>\n",
       "      <td>9900.083569</td>\n",
       "      <td>5300.0</td>\n",
       "      <td>33300.0</td>\n",
       "      <td>40200.0</td>\n",
       "      <td>46600.0</td>\n",
       "      <td>79000.0</td>\n",
       "    </tr>\n",
       "    <tr>\n",
       "      <th>Члены семьи</th>\n",
       "      <td>5000.0</td>\n",
       "      <td>1.1942</td>\n",
       "      <td>1.091387</td>\n",
       "      <td>0.0</td>\n",
       "      <td>0.0</td>\n",
       "      <td>1.0</td>\n",
       "      <td>2.0</td>\n",
       "      <td>6.0</td>\n",
       "    </tr>\n",
       "    <tr>\n",
       "      <th>Страховые выплаты</th>\n",
       "      <td>5000.0</td>\n",
       "      <td>0.1480</td>\n",
       "      <td>0.463183</td>\n",
       "      <td>0.0</td>\n",
       "      <td>0.0</td>\n",
       "      <td>0.0</td>\n",
       "      <td>0.0</td>\n",
       "      <td>5.0</td>\n",
       "    </tr>\n",
       "  </tbody>\n",
       "</table>\n",
       "</div>"
      ],
      "text/plain": [
       "                    count        mean          std     min      25%      50%  \\\n",
       "Пол                5000.0      0.4990     0.500049     0.0      0.0      0.0   \n",
       "Возраст            5000.0     30.9528     8.440807    18.0     24.0     30.0   \n",
       "Зарплата           5000.0  39916.3600  9900.083569  5300.0  33300.0  40200.0   \n",
       "Члены семьи        5000.0      1.1942     1.091387     0.0      0.0      1.0   \n",
       "Страховые выплаты  5000.0      0.1480     0.463183     0.0      0.0      0.0   \n",
       "\n",
       "                       75%      max  \n",
       "Пол                    1.0      1.0  \n",
       "Возраст               37.0     65.0  \n",
       "Зарплата           46600.0  79000.0  \n",
       "Члены семьи            2.0      6.0  \n",
       "Страховые выплаты      0.0      5.0  "
      ]
     },
     "execution_count": 7,
     "metadata": {},
     "output_type": "execute_result"
    }
   ],
   "source": [
    "print('Основные статистики данных.')\n",
    "df_insurance.describe().T"
   ]
  },
  {
   "cell_type": "markdown",
   "metadata": {},
   "source": [
    "### Анализ признака \"Пол\""
   ]
  },
  {
   "cell_type": "code",
   "execution_count": 8,
   "metadata": {
    "scrolled": true
   },
   "outputs": [
    {
     "name": "stdout",
     "output_type": "stream",
     "text": [
      "Вывод долей значений признака \"Пол\".\n"
     ]
    },
    {
     "data": {
      "text/plain": [
       "0    50.10%\n",
       "1    49.90%\n",
       "Name: Пол, dtype: object"
      ]
     },
     "execution_count": 8,
     "metadata": {},
     "output_type": "execute_result"
    }
   ],
   "source": [
    "print('Вывод долей значений признака \"Пол\".')\n",
    "df_insurance['Пол'].value_counts(normalize=True).apply('{:.2%}'.format)"
   ]
  },
  {
   "cell_type": "markdown",
   "metadata": {},
   "source": [
    "### Анализ признака \"Возраст\""
   ]
  },
  {
   "cell_type": "code",
   "execution_count": 9,
   "metadata": {
    "scrolled": true
   },
   "outputs": [
    {
     "data": {
      "image/png": "[encoded data removed]",
      "text/plain": [
       "<Figure size 864x360 with 1 Axes>"
      ]
     },
     "metadata": {
      "needs_background": "light"
     },
     "output_type": "display_data"
    }
   ],
   "source": [
    "df_insurance['Возраст'].hist(figsize=(12, 5), bins=15)\n",
    "\n",
    "plt.xticks(range(0, int(df_insurance['Возраст'].max()) + 10, 10))\n",
    "\n",
    "plt.title('Гистограмма распределения признака \"Возраст\"', fontdict={'fontsize': 16})\n",
    "plt.xlabel('Возраст, в годах', fontdict={'fontsize': 14})\n",
    "plt.ylabel('Количество объектов, шт.', fontdict={'fontsize': 14});"
   ]
  },
  {
   "cell_type": "markdown",
   "metadata": {},
   "source": [
    "### Анализ признака \"Зарплата\""
   ]
  },
  {
   "cell_type": "code",
   "execution_count": 10,
   "metadata": {},
   "outputs": [
    {
     "data": {
      "image/png": "[encoded data removed]",
      "text/plain": [
       "<Figure size 864x360 with 1 Axes>"
      ]
     },
     "metadata": {
      "needs_background": "light"
     },
     "output_type": "display_data"
    }
   ],
   "source": [
    "df_insurance['Зарплата'].hist(figsize=(12, 5), bins=15)\n",
    "\n",
    "plt.xticks(range(0, int(df_insurance['Зарплата'].max() + 1e+4), int(1e+4)))\n",
    "\n",
    "plt.title('Гистограмма распределения признака \"Зарплата\"', fontdict={'fontsize': 16})\n",
    "plt.xlabel('Зарплата, в условных единицах', fontdict={'fontsize': 14})\n",
    "plt.ylabel('Количество объектов, шт.', fontdict={'fontsize': 14});"
   ]
  },
  {
   "cell_type": "markdown",
   "metadata": {},
   "source": [
    "### Анализ признака \"Члены семьи\""
   ]
  },
  {
   "cell_type": "code",
   "execution_count": 11,
   "metadata": {
    "scrolled": true
   },
   "outputs": [
    {
     "name": "stdout",
     "output_type": "stream",
     "text": [
      "Вывод долей значений признака \"Члены семьи\".\n"
     ]
    },
    {
     "data": {
      "text/plain": [
       "1    36.28%\n",
       "0    30.26%\n",
       "2    21.42%\n",
       "3     8.78%\n",
       "4     2.48%\n",
       "5     0.64%\n",
       "6     0.14%\n",
       "Name: Члены семьи, dtype: object"
      ]
     },
     "execution_count": 11,
     "metadata": {},
     "output_type": "execute_result"
    }
   ],
   "source": [
    "print('Вывод долей значений признака \"Члены семьи\".')\n",
    "df_insurance['Члены семьи'].value_counts(normalize=True).apply('{:.2%}'.format)"
   ]
  },
  {
   "cell_type": "code",
   "execution_count": 12,
   "metadata": {},
   "outputs": [
    {
     "data": {
      "image/png": "[encoded data removed]",
      "text/plain": [
       "<Figure size 864x360 with 1 Axes>"
      ]
     },
     "metadata": {
      "needs_background": "light"
     },
     "output_type": "display_data"
    }
   ],
   "source": [
    "df_insurance['Члены семьи'].hist(figsize=(12, 5), bins=df_insurance['Члены семьи'].max() * 2 + 1)\n",
    "\n",
    "plt.xticks(range(0, df_insurance['Члены семьи'].max() + 1, 1))\n",
    "\n",
    "plt.title('Гистограмма распределения признака \"Члены семьи\"', fontdict={'fontsize': 16})\n",
    "plt.xlabel('Количество членов семьи', fontdict={'fontsize': 14})\n",
    "plt.ylabel('Количество объектов, шт.', fontdict={'fontsize': 14});"
   ]
  },
  {
   "cell_type": "markdown",
   "metadata": {},
   "source": [
    "### Анализ целевого признака \"Страховые выплаты\""
   ]
  },
  {
   "cell_type": "code",
   "execution_count": 13,
   "metadata": {
    "scrolled": true
   },
   "outputs": [
    {
     "name": "stdout",
     "output_type": "stream",
     "text": [
      "Вывод долей значений целевого признака \"Страховые выплаты\".\n"
     ]
    },
    {
     "data": {
      "text/plain": [
       "0    88.72%\n",
       "1     8.46%\n",
       "2     2.30%\n",
       "3     0.36%\n",
       "4     0.14%\n",
       "5     0.02%\n",
       "Name: Страховые выплаты, dtype: object"
      ]
     },
     "execution_count": 13,
     "metadata": {},
     "output_type": "execute_result"
    }
   ],
   "source": [
    "print('Вывод долей значений целевого признака \"Страховые выплаты\".')\n",
    "df_insurance['Страховые выплаты'].value_counts(normalize=True).apply('{:.2%}'.format)"
   ]
  },
  {
   "cell_type": "markdown",
   "metadata": {},
   "source": [
    "### Выводы"
   ]
  },
  {
   "cell_type": "markdown",
   "metadata": {},
   "source": [
    "В ходе разведочного анализа данных были установлены следующие особенности:\n",
    "- названия признаков не соответствуют стилю <code>snake_case</code>;\n",
    "- данные не содержат пропусков;\n",
    "- признак <code>Пол</code> дискретный, имеет равномерное распределение между двумя классами, интерпретация классов неизвестна;\n",
    "- признак <code>Возраст</code> непрерывный, имеет распределение схожее с нормальным распределением, но со срезом с левой стороны на значении 18 лет. Данный срез может быть объяснён тем, что среди клиентов могут присутствовать только совершеннолетние граждане. Данный признак может быть приведён к целочисленному типу данных <code>int</code>;\n",
    "- признак <code>Зарплата</code> непрерывный, имеет нормальное распределение. Данный признак может быть приведён к целочисленному типу данных <code>int</code>;\n",
    "- признак <code>Члены семьи</code> дискретный. В выборке преобладают клиенты с одним членом семьи, затем идут клиенты без семьи. С ростом количества членов семьи количество соответствующих представителей клиентов убывает;\n",
    "- целевой признак <code>Страховые выплаты</code> дискретный. Данный признак содержит шесть классов, среди классов наблюдается дисбаланс."
   ]
  },
  {
   "cell_type": "markdown",
   "metadata": {},
   "source": [
    "<div class=\"alert alert-success\">\n",
    "<b>✔️ Комментарий ревьювера:</b> Данные загружены и изучены успешно!\n",
    "    \n",
    "Здорово, что провел подробный анализ.\n",
    "    \n",
    "</div>"
   ]
  },
  {
   "cell_type": "markdown",
   "metadata": {},
   "source": [
    "## Умножение матриц"
   ]
  },
  {
   "cell_type": "markdown",
   "metadata": {},
   "source": [
    "В этом задании вы можете записывать формулы в *Jupyter Notebook.*\n",
    "\n",
    "Чтобы записать формулу внутри текста, окружите её символами доллара \\\\$; если снаружи —  двойными символами \\\\$\\\\$. Эти формулы записываются на языке вёрстки *LaTeX.* \n",
    "\n",
    "Для примера мы записали формулы линейной регрессии. Можете их скопировать и отредактировать, чтобы решить задачу.\n",
    "\n",
    "Работать в *LaTeX* необязательно."
   ]
  },
  {
   "cell_type": "markdown",
   "metadata": {},
   "source": [
    "Обозначения:\n",
    "\n",
    "- $X$ — матрица признаков (нулевой столбец состоит из единиц)\n",
    "\n",
    "- $y$ — вектор целевого признака\n",
    "\n",
    "- $P$ — матрица, на которую умножаются признаки\n",
    "\n",
    "- $w$ — вектор весов линейной регрессии (нулевой элемент равен сдвигу)"
   ]
  },
  {
   "cell_type": "markdown",
   "metadata": {},
   "source": [
    "Предсказания:\n",
    "\n",
    "$$\n",
    "a = Xw\n",
    "$$\n",
    "\n",
    "Задача обучения:\n",
    "\n",
    "$$\n",
    "w = \\arg\\min_w MSE(Xw, y)\n",
    "$$\n",
    "\n",
    "Формула обучения:\n",
    "\n",
    "$$\n",
    "w = (X^T X)^{-1} X^T y\n",
    "$$"
   ]
  },
  {
   "cell_type": "markdown",
   "metadata": {},
   "source": [
    "<div class=\"alert alert-danger\">\n",
    "<b>🚫 Комментарий ревьювера:</b> В проект необходимо добавить теоретическое доказательство, это является обязательным в данной работе.\n",
    "    \n",
    "Нужно доказать, что $a_1 = a$, если $a_1 = X_1 w_1$, где $X_1$ = $XP$.\n",
    "   \n",
    "</div>"
   ]
  },
  {
   "cell_type": "markdown",
   "metadata": {},
   "source": [
    "<div class=\"alert alert-info\">\n",
    "<b>Комментарий студента:</b>\n",
    "<br>Добавил теоретическое доказательство.\n",
    "</div>"
   ]
  },
  {
   "cell_type": "markdown",
   "metadata": {},
   "source": [
    "<div class=\"alert alert-danger\">\n",
    "<b>🚫 Комментарий ревьювера (v2):</b> К сожалению, у тебя в доказательстве допущена небольшая, но принципиальная ошибка:\n",
    "    \n",
    "в выражении $(X^T X)^{-1}$ нельзя раскрывать скобки, т.е. нельзя отдельно записывать $(X^T)^{-1}$ и $X^{-1}$, так как матрицы $X$ и $X^T$ прямоугольные и для них не существует обратных матриц. Поправь пожалуйста доказательство, не раскрывая скобки.\n",
    "    \n",
    "Ничего страшного, многие на этом месте ошибаются =)\n",
    "    \n",
    "</div>"
   ]
  },
  {
   "cell_type": "markdown",
   "metadata": {},
   "source": [
    "<div class=\"alert alert-info\">\n",
    "<b>Комментарий студента:</b>\n",
    "<br>Исправил!\n",
    "</div>"
   ]
  },
  {
   "cell_type": "markdown",
   "metadata": {},
   "source": [
    "<div class=\"alert alert-success\">\n",
    "<b> ✔️ Комментарий ревьювера (v3):</b> Теперь все правильно!\n",
    "</div>"
   ]
  },
  {
   "cell_type": "markdown",
   "metadata": {},
   "source": [
    "Допустим, что $a$ - ответы модели при работе с исходной матрицей признаков $X$, а $a_1$ - ответы другой модели на основе преобразованной матрицы признаков $X_1 = X P$, где $P$ - матрица перехода. Докажем, что матрица перехода $P$ не оказывает влияние на ответы модели $a$, то есть, что следующее равенство справедливо:\n",
    "\n",
    "$$a_1 = a$$\n",
    "\n",
    "Представим ответы в виде матриц признаков, умноженных на веса моделей:\n",
    "\n",
    "$$X_1 w_1 = X w$$\n",
    "\n",
    "Веса каждой модели, полученные в процессе обучения на основе матриц признаков $X$, $X_1$ и вектора целевого признака $y$, можно описать следующими равенствами:\n",
    "\n",
    "$$w = (X^T X)^{-1} X^T y$$\n",
    "\n",
    "$$w_1 = ((X P)^T X P)^{-1} (X P)^T y$$\n",
    "\n",
    "Тогда, заменив веса моделей соответствующими выражениями, а $X_1$ на $X P$ в левой части уравнения, получим следующее:\n",
    "\n",
    "$$(X P) ((X P)^T X P)^{-1} (X P)^T y = X (X^T X)^{-1} X^T y$$\n",
    "\n",
    "Поочерёдно раскроем скобки с обеих сторон уравнения согласно правилам матричных операций:\n",
    "\n",
    "$$X P (P^T X^T X P)^{-1} P^T X^T y = X (X^T X)^{-1} X^T y$$\n",
    "\n",
    "$$X P P^{-1} (X^T X)^{-1} (P^T)^{-1} P^T X^T y = X (X^T X)^{-1} X^T y$$\n",
    "\n",
    "Произведения $P P^{-1}$ и $(P^T)^{-1} P^T$ обернутся единычными матрицами $E$, тогда:\n",
    "\n",
    "$$X E (X^T X)^{-1} E X^T y = X (X^T X)^{-1} X^T y$$\n",
    "\n",
    "Матрица $E$ - единичная матрица с размерностью граней равной размерности вектора признаков клиента матрицы $X$. При умножении $X$ на $E$ получится $X$, аналогично для $X^T$, поэтому получаем:\n",
    "\n",
    "$$X (X^T X)^{-1} X^T y = X (X^T X)^{-1} X^T y$$\n",
    "\n",
    "Равенство справедливо.\n",
    "\n",
    "Таким образом, **матрица перехода $P$ оказывает влияние только на вектор весов $w$, но не на ответы модели $a$**."
   ]
  },
  {
   "cell_type": "markdown",
   "metadata": {},
   "source": [
    "**Ответ:** не изменится.\n",
    "\n",
    "**Обоснование:** для защиты персональных данных их необходимо преобразовать таким образом, чтобы их логическая интерпретация стала невозможна. Однако при этом необходимо сохранить информативность данных для моделей машинного обучения. Данную задачу можно было бы решить даже при помощи нормализации или стандартизации: соотношение признаков было бы сохранено, но при этом их логическая составляющая была бы утрачена. Но данный метод не является достаточно надёжным, поэтому необходимо применить преобразование данных при помощи обратимой матрицы. Данная матрица будет представлять собой матрицу перехода, она переведёт координаты векторов клиентов в другой базис. При этом соотношения векторов клиентов сохранятся, но они уже не смогут быть интерпретированы как персональная информация."
   ]
  },
  {
   "cell_type": "markdown",
   "metadata": {},
   "source": [
    "## Алгоритм преобразования"
   ]
  },
  {
   "cell_type": "markdown",
   "metadata": {},
   "source": [
    "**Алгоритм**\n",
    "\n",
    "$$X_{original}P_{a->b}=X_{new}$$\n",
    "\n",
    "- $X_{original}$ - исходная матрица векторов-признаков клиентов;\n",
    "- $P_{a->b}$ - обратимая матрица перехода для шифрования персональных данных клиентов;\n",
    "- $X_{new}$ - новая матрица векторов-признаков клиентов в новом базисе."
   ]
  },
  {
   "cell_type": "markdown",
   "metadata": {},
   "source": [
    "**Обоснование**\n",
    "\n",
    "При умножении исходной матрицы векторов-признаков клиентов $X_{original}$ на обратимую матрицу перехода $P_{a->b}$ координаты каждого вектора признаков будут переведены из исходного интерпретируемого базиса в новый неинтерпретируемый базис. Получится новая матрица $X_{new}$ с зашифрованными векторами признаков клиентов. При этом вектора клиентов сохранят своё взаимное расположение, что позволит моделям машинного обучения выявить закономерности между векторами и целевой переменной."
   ]
  },
  {
   "cell_type": "markdown",
   "metadata": {},
   "source": [
    "## Проверка алгоритма"
   ]
  },
  {
   "cell_type": "markdown",
   "metadata": {},
   "source": [
    "### Подготовка исходных данных"
   ]
  },
  {
   "cell_type": "code",
   "execution_count": 14,
   "metadata": {},
   "outputs": [
    {
     "data": {
      "text/plain": [
       "(5000, 4)"
      ]
     },
     "execution_count": 14,
     "metadata": {},
     "output_type": "execute_result"
    }
   ],
   "source": [
    "# Получение исходной матрицы признаков клиентов.\n",
    "X = df_insurance.drop(columns=['Страховые выплаты']).values\n",
    "\n",
    "# Проверка: вывод размерности матрицы.\n",
    "X.shape"
   ]
  },
  {
   "cell_type": "code",
   "execution_count": 15,
   "metadata": {},
   "outputs": [
    {
     "data": {
      "text/plain": [
       "(5000,)"
      ]
     },
     "execution_count": 15,
     "metadata": {},
     "output_type": "execute_result"
    }
   ],
   "source": [
    "# Получение вектора целевого признака.\n",
    "y = df_insurance['Страховые выплаты'].values\n",
    "\n",
    "# Проверка: вывод размерности вектора целевого признака.\n",
    "y.shape"
   ]
  },
  {
   "cell_type": "markdown",
   "metadata": {},
   "source": [
    "### Создание матрицы перехода"
   ]
  },
  {
   "cell_type": "code",
   "execution_count": 16,
   "metadata": {},
   "outputs": [
    {
     "data": {
      "text/plain": [
       "array([[ 1.76405235,  0.40015721,  0.97873798,  2.2408932 ],\n",
       "       [ 1.86755799, -0.97727788,  0.95008842, -0.15135721],\n",
       "       [-0.10321885,  0.4105985 ,  0.14404357,  1.45427351],\n",
       "       [ 0.76103773,  0.12167502,  0.44386323,  0.33367433]])"
      ]
     },
     "execution_count": 16,
     "metadata": {},
     "output_type": "execute_result"
    }
   ],
   "source": [
    "# Генерация матрицы перехода на основе нормального распределения размерностью вектора признаков клиента.\n",
    "matrix_p = np.random.RandomState(RANDOM_STATE_GLOBAL).normal(size=(X.shape[1], X.shape[1]))\n",
    "\n",
    "# Проверка: вывод матрицы перехода.\n",
    "matrix_p"
   ]
  },
  {
   "cell_type": "code",
   "execution_count": 17,
   "metadata": {
    "scrolled": true
   },
   "outputs": [
    {
     "data": {
      "text/plain": [
       "array([[ 2.11085143, -0.59820592, -2.74511783, -2.48320948],\n",
       "       [ 0.02821503, -1.00893094, -0.68038028,  2.31819805],\n",
       "       [-4.03395824,  1.21012513,  4.73060099,  7.02254523],\n",
       "       [ 0.54141147,  0.12254136,  0.2163297 , -1.52633955]])"
      ]
     },
     "execution_count": 17,
     "metadata": {},
     "output_type": "execute_result"
    }
   ],
   "source": [
    "# Проверка: матрица перехода не должна быть вырожденной - должна быть обратимой.\n",
    "np.linalg.inv(matrix_p)"
   ]
  },
  {
   "cell_type": "markdown",
   "metadata": {},
   "source": [
    "<div class=\"alert alert-warning\">\n",
    "<b>⚠️ Комментарий ревьювера:</b> Можно использовать вот такую конструкцию, где при создании матрицы проверяется ее обратимость:\n",
    "    \n",
    "    def rnd_matrix(n):\n",
    "        random_matrix = np.random.normal(size=(n, n))\n",
    "        try:\n",
    "            np.linalg.inv(random_matrix) # выполняется операция создания обратной матрицы\n",
    "        except LinAlgError: # если возникает ошибка, т.е. обратной матрицы не существует, выполняется еще одна попытка\n",
    "            rnd_matrix(n)\n",
    "        return random_matrix\n",
    "\n",
    "Хотя вероятность получить необратимую матрицу очень мала.\n",
    "</div>"
   ]
  },
  {
   "cell_type": "markdown",
   "metadata": {},
   "source": [
    "<div class=\"alert alert-info\">\n",
    "<b>Комментарий студента:</b>\n",
    "<br>Решил попробовать реализовать функцию при помощи оператора цикла <code>while</code>.\n",
    "<br>Не получилось использовать генератор псевдослучайных чисел, как делал при реализации техники <code>Bootstrap</code>.\n",
    "</div>"
   ]
  },
  {
   "cell_type": "markdown",
   "metadata": {},
   "source": [
    "<div class=\"alert alert-success\">\n",
    "<b>✔️ Комментарий ревьювера (v2):</b> Хорошая конструкция с оператором while!\n",
    "    \n",
    "</div>"
   ]
  },
  {
   "cell_type": "code",
   "execution_count": 18,
   "metadata": {},
   "outputs": [],
   "source": [
    "# Функция для получения невырожденной матрицы перехода.\n",
    "def get_matrix_p(shape, random_state=0):\n",
    "    # Генератор псевдослучайных чисел для воспроизводимости эксперимента.\n",
    "    state = np.random.RandomState(seed=random_state)\n",
    "    \n",
    "    # Матрица перехода.\n",
    "    matrix_p = None\n",
    "    \n",
    "    \n",
    "    while matrix_p is None:\n",
    "        # Не получается использовать генератор.\n",
    "#         matrix_p = np.random.RandomState(seed=state).normal(size=(shape, shape))\n",
    "        matrix_p = np.random.RandomState().normal(size=(shape, shape))\n",
    "        \n",
    "        try:\n",
    "            np.linalg.inv(matrix_p)\n",
    "        \n",
    "        except np.linalg.LinAlgError:\n",
    "            matrix_p = None\n",
    "    \n",
    "    return matrix_p        "
   ]
  },
  {
   "cell_type": "code",
   "execution_count": 19,
   "metadata": {},
   "outputs": [
    {
     "data": {
      "text/plain": [
       "array([[-0.97758603,  0.49810066, -1.51885772, -1.21207575],\n",
       "       [ 0.0262383 , -0.50939141, -1.26145623,  0.20328077],\n",
       "       [ 0.98482004, -0.30113365,  1.10183644, -1.28416746],\n",
       "       [ 1.55787226, -0.00435132, -0.29532893,  0.62269194]])"
      ]
     },
     "execution_count": 19,
     "metadata": {},
     "output_type": "execute_result"
    }
   ],
   "source": [
    "# Генерация матрицы перехода на основе нормального распределения размерностью вектора признаков клиента.\n",
    "matrix_p = get_matrix_p(X.shape[1], RANDOM_STATE_GLOBAL)\n",
    "\n",
    "# Проверка: вывод матрицы перехода.\n",
    "matrix_p"
   ]
  },
  {
   "cell_type": "code",
   "execution_count": 20,
   "metadata": {
    "scrolled": true
   },
   "outputs": [
    {
     "data": {
      "text/plain": [
       "array([[ 0.07357819, -0.04908288,  0.19657331,  0.56463393],\n",
       "       [ 0.55973189, -1.17910653, -0.40949128,  0.62996118],\n",
       "       [-0.27451047, -0.32391353,  0.0971595 , -0.22822364],\n",
       "       [-0.31036331, -0.03906724, -0.44857482,  0.08947055]])"
      ]
     },
     "execution_count": 20,
     "metadata": {},
     "output_type": "execute_result"
    }
   ],
   "source": [
    "# Проверка: матрица перехода не должна быть вырожденной - должна быть обратимой.\n",
    "np.linalg.inv(matrix_p)"
   ]
  },
  {
   "cell_type": "markdown",
   "metadata": {},
   "source": [
    "### Преобразование признаков"
   ]
  },
  {
   "cell_type": "code",
   "execution_count": 21,
   "metadata": {},
   "outputs": [
    {
     "data": {
      "text/plain": [
       "(5000, 4)"
      ]
     },
     "execution_count": 21,
     "metadata": {},
     "output_type": "execute_result"
    }
   ],
   "source": [
    "# Перевод исходной матрицы признаков в новый базис.\n",
    "X_p = X @ matrix_p\n",
    "\n",
    "# Проверка: вывод размерности преобразованной матрицы.\n",
    "X_p.shape"
   ]
  },
  {
   "cell_type": "code",
   "execution_count": 22,
   "metadata": {},
   "outputs": [
    {
     "data": {
      "text/plain": [
       "0"
      ]
     },
     "execution_count": 22,
     "metadata": {},
     "output_type": "execute_result"
    }
   ],
   "source": [
    "# Проверка: вывод количества идентичных элементов исходной и преобразованной матриц.\n",
    "(X == X_p).sum()"
   ]
  },
  {
   "cell_type": "code",
   "execution_count": 23,
   "metadata": {
    "scrolled": true
   },
   "outputs": [
    {
     "data": {
      "text/html": [
       "<div>\n",
       "<style scoped>\n",
       "    .dataframe tbody tr th:only-of-type {\n",
       "        vertical-align: middle;\n",
       "    }\n",
       "\n",
       "    .dataframe tbody tr th {\n",
       "        vertical-align: top;\n",
       "    }\n",
       "\n",
       "    .dataframe thead th {\n",
       "        text-align: right;\n",
       "    }\n",
       "</style>\n",
       "<table border=\"1\" class=\"dataframe\">\n",
       "  <thead>\n",
       "    <tr style=\"text-align: right;\">\n",
       "      <th></th>\n",
       "      <th>Пол</th>\n",
       "      <th>Возраст</th>\n",
       "      <th>Зарплата</th>\n",
       "      <th>Члены семьи</th>\n",
       "    </tr>\n",
       "  </thead>\n",
       "  <tbody>\n",
       "    <tr>\n",
       "      <th>0</th>\n",
       "      <td>48848.729918</td>\n",
       "      <td>-14956.620250</td>\n",
       "      <td>54597.553371</td>\n",
       "      <td>-63686.961036</td>\n",
       "    </tr>\n",
       "    <tr>\n",
       "      <th>1</th>\n",
       "      <td>37425.926260</td>\n",
       "      <td>-11466.514988</td>\n",
       "      <td>41811.462281</td>\n",
       "      <td>-48788.389986</td>\n",
       "    </tr>\n",
       "    <tr>\n",
       "      <th>2</th>\n",
       "      <td>20681.981699</td>\n",
       "      <td>-6338.578963</td>\n",
       "      <td>23101.982941</td>\n",
       "      <td>-26961.621580</td>\n",
       "    </tr>\n",
       "    <tr>\n",
       "      <th>3</th>\n",
       "      <td>41070.662314</td>\n",
       "      <td>-12567.979053</td>\n",
       "      <td>45919.498174</td>\n",
       "      <td>-53544.268926</td>\n",
       "    </tr>\n",
       "    <tr>\n",
       "      <th>4</th>\n",
       "      <td>25703.560066</td>\n",
       "      <td>-7873.353077</td>\n",
       "      <td>28721.091367</td>\n",
       "      <td>-33512.290998</td>\n",
       "    </tr>\n",
       "  </tbody>\n",
       "</table>\n",
       "</div>"
      ],
      "text/plain": [
       "            Пол       Возраст      Зарплата   Члены семьи\n",
       "0  48848.729918 -14956.620250  54597.553371 -63686.961036\n",
       "1  37425.926260 -11466.514988  41811.462281 -48788.389986\n",
       "2  20681.981699  -6338.578963  23101.982941 -26961.621580\n",
       "3  41070.662314 -12567.979053  45919.498174 -53544.268926\n",
       "4  25703.560066  -7873.353077  28721.091367 -33512.290998"
      ]
     },
     "execution_count": 23,
     "metadata": {},
     "output_type": "execute_result"
    }
   ],
   "source": [
    "# Проверка: вывод первых пяти строк преобразованных признаков клиентов.\n",
    "pd.DataFrame(data=X_p, columns=df_insurance.columns[: -1]).head()"
   ]
  },
  {
   "cell_type": "markdown",
   "metadata": {},
   "source": [
    "<div class=\"alert alert-success\">\n",
    "<b>✔️ Комментарий ревьювера:</b> Здорово, что посмотрел как выглядят зашифрованные признаки.\n",
    "\n",
    "</div>"
   ]
  },
  {
   "cell_type": "markdown",
   "metadata": {},
   "source": [
    "### Построение модели на исходных данных"
   ]
  },
  {
   "cell_type": "code",
   "execution_count": 24,
   "metadata": {},
   "outputs": [],
   "source": [
    "# Инициализация модели.\n",
    "model_original = LinearRegression(n_jobs=-1)\n",
    "\n",
    "# Обучение модели.\n",
    "model_original.fit(X, y)\n",
    "\n",
    "# Прогнозирование.\n",
    "y_pred = model_original.predict(X)\n",
    "\n",
    "# Таблица для метрик.\n",
    "df_metrics = pd.DataFrame()\n",
    "\n",
    "# Оценка качества модели.\n",
    "df_metrics.loc['model_original', 'r2_score'] = r2_score(y, y_pred)"
   ]
  },
  {
   "cell_type": "markdown",
   "metadata": {},
   "source": [
    "### Построение модели на преобразованных данных"
   ]
  },
  {
   "cell_type": "code",
   "execution_count": 25,
   "metadata": {},
   "outputs": [],
   "source": [
    "# Инициализация модели.\n",
    "model_p = LinearRegression(n_jobs=-1)\n",
    "\n",
    "# Обучение модели.\n",
    "model_p.fit(X_p, y)\n",
    "\n",
    "# Прогнозирование.\n",
    "y_pred = model_p.predict(X_p)\n",
    "\n",
    "# Оценка качества модели.\n",
    "df_metrics.loc['model_p', 'r2_score'] = r2_score(y, y_pred)"
   ]
  },
  {
   "cell_type": "markdown",
   "metadata": {},
   "source": [
    "### Выводы"
   ]
  },
  {
   "cell_type": "code",
   "execution_count": 26,
   "metadata": {},
   "outputs": [
    {
     "data": {
      "text/html": [
       "<div>\n",
       "<style scoped>\n",
       "    .dataframe tbody tr th:only-of-type {\n",
       "        vertical-align: middle;\n",
       "    }\n",
       "\n",
       "    .dataframe tbody tr th {\n",
       "        vertical-align: top;\n",
       "    }\n",
       "\n",
       "    .dataframe thead th {\n",
       "        text-align: right;\n",
       "    }\n",
       "</style>\n",
       "<table border=\"1\" class=\"dataframe\">\n",
       "  <thead>\n",
       "    <tr style=\"text-align: right;\">\n",
       "      <th></th>\n",
       "      <th>r2_score</th>\n",
       "    </tr>\n",
       "  </thead>\n",
       "  <tbody>\n",
       "    <tr>\n",
       "      <th>model_original</th>\n",
       "      <td>0.424946</td>\n",
       "    </tr>\n",
       "    <tr>\n",
       "      <th>model_p</th>\n",
       "      <td>0.424946</td>\n",
       "    </tr>\n",
       "  </tbody>\n",
       "</table>\n",
       "</div>"
      ],
      "text/plain": [
       "                r2_score\n",
       "model_original  0.424946\n",
       "model_p         0.424946"
      ]
     },
     "execution_count": 26,
     "metadata": {},
     "output_type": "execute_result"
    }
   ],
   "source": [
    "# Вывод метрик моделей.\n",
    "df_metrics"
   ]
  },
  {
   "cell_type": "markdown",
   "metadata": {},
   "source": [
    "<div class=\"alert alert-success\">\n",
    "<b>✔️ Комментарий ревьювера:</b> Качество предскзазания действительно не изменяется, результат достигнут!\n",
    "    \n",
    "Еще могу порекомендовать вот такой материал:\n",
    "    \n",
    "https://habr.com/ru/post/479398/\n",
    "\n",
    "</div>"
   ]
  },
  {
   "cell_type": "markdown",
   "metadata": {},
   "source": [
    "Анализ признаков клиентов после перехода в другой базис показал, что преобразованные признаки значительно отличаются от исходных. **Интерпретация невозможна - цель шифрования достигнута.**\n",
    "\n",
    "При этом исходные данные клиентов могут быть восстановлены при помощи матрицы, обратной матрице перехода. Данная операция возможна, так как для преобразования была использована невырожденная обратимая матрица перехода.\n",
    "\n",
    "Построение и валидация моделей на исходной и преобразованной матрицах признаков клиентов показали идентичные значения метрики качества <code>r2_score</code>. Таким образом, **шифрование персональных данных клиентов не сказалось на качестве моделей машинного обучения**."
   ]
  },
  {
   "cell_type": "markdown",
   "metadata": {},
   "source": [
    "<font color=blue>\n",
    "<b> ✔️ 👍Заключение ревьювера:</b> Сергей, у тебя хорошая работа, получен положительный результат! \n",
    "   \n",
    "Могу отметить грамотно составленный код, хорошую практическую часть.\n",
    "    \n",
    "В данной работе нужно добавить теоретическое доказательство, я уверен ты легко справишься, а в остальном отметил рекомендации =)\n",
    "    \n",
    "Отправляю работу для ознакомления с ходом проверки, а также если есть вопросы — смело задавай их, я постараюсь тебе помочь 😊\n",
    "\n",
    "Жду твоего ответа!\n",
    "</font>"
   ]
  },
  {
   "cell_type": "markdown",
   "metadata": {},
   "source": [
    "<div class=\"alert alert-info\">\n",
    "<b>Комментарий студента:</b>\n",
    "<br>Спасибо!\n",
    "</div>"
   ]
  },
  {
   "cell_type": "markdown",
   "metadata": {},
   "source": [
    "<div class=\"alert alert-success\">\n",
    "<b> ✔️ Комментарий ревьювера (v3):</b> Успехов в дальнейших проектах!\n",
    "</div>"
   ]
  },
  {
   "cell_type": "markdown",
   "metadata": {},
   "source": [
    "## Чек-лист проверки"
   ]
  },
  {
   "cell_type": "markdown",
   "metadata": {},
   "source": [
    "Поставьте 'x' в выполненных пунктах. Далее нажмите Shift+Enter."
   ]
  },
  {
   "cell_type": "markdown",
   "metadata": {},
   "source": [
    "- [x]  Jupyter Notebook открыт\n",
    "- [x]  Весь код выполняется без ошибок\n",
    "- [x]  Ячейки с кодом расположены в порядке исполнения\n",
    "- [x]  Выполнен шаг 1: данные загружены\n",
    "- [x]  Выполнен шаг 2: получен ответ на вопрос об умножении матриц\n",
    "    - [x]  Указан правильный вариант ответа\n",
    "    - [x]  Вариант обоснован\n",
    "- [x]  Выполнен шаг 3: предложен алгоритм преобразования\n",
    "    - [x]  Алгоритм описан\n",
    "    - [x]  Алгоритм обоснован\n",
    "- [x]  Выполнен шаг 4: алгоритм проверен\n",
    "    - [x]  Алгоритм реализован\n",
    "    - [x]  Проведено сравнение качества моделей до и после преобразования"
   ]
  },
  {
   "cell_type": "code",
   "execution_count": null,
   "metadata": {},
   "outputs": [],
   "source": []
  }
 ],
 "metadata": {
  "ExecuteTimeLog": [
   {
    "duration": 762,
    "start_time": "2022-05-29T09:16:51.967Z"
   },
   {
    "duration": 3,
    "start_time": "2022-05-29T09:18:26.098Z"
   },
   {
    "duration": 2,
    "start_time": "2022-05-29T09:19:18.861Z"
   },
   {
    "duration": 94,
    "start_time": "2022-05-29T09:37:18.546Z"
   },
   {
    "duration": 34,
    "start_time": "2022-05-29T09:37:35.741Z"
   },
   {
    "duration": 21,
    "start_time": "2022-05-29T09:37:56.894Z"
   },
   {
    "duration": 34,
    "start_time": "2022-05-29T09:38:12.292Z"
   },
   {
    "duration": 40,
    "start_time": "2022-05-29T09:38:21.393Z"
   },
   {
    "duration": 30,
    "start_time": "2022-05-29T09:38:32.943Z"
   },
   {
    "duration": 39,
    "start_time": "2022-05-29T09:38:38.880Z"
   },
   {
    "duration": 8,
    "start_time": "2022-05-29T09:53:32.349Z"
   },
   {
    "duration": 389,
    "start_time": "2022-05-29T09:59:49.756Z"
   },
   {
    "duration": 8,
    "start_time": "2022-05-29T10:00:17.019Z"
   },
   {
    "duration": 7,
    "start_time": "2022-05-29T10:00:23.905Z"
   },
   {
    "duration": 10,
    "start_time": "2022-05-29T10:00:47.549Z"
   },
   {
    "duration": 7,
    "start_time": "2022-05-29T10:01:19.356Z"
   },
   {
    "duration": 7,
    "start_time": "2022-05-29T10:01:25.606Z"
   },
   {
    "duration": 9,
    "start_time": "2022-05-29T10:03:03.451Z"
   },
   {
    "duration": 455,
    "start_time": "2022-05-29T11:25:42.567Z"
   },
   {
    "duration": 3,
    "start_time": "2022-05-29T11:25:43.024Z"
   },
   {
    "duration": 6,
    "start_time": "2022-05-29T11:25:43.029Z"
   },
   {
    "duration": 130,
    "start_time": "2022-05-29T11:25:43.037Z"
   },
   {
    "duration": 20,
    "start_time": "2022-05-29T11:25:43.170Z"
   },
   {
    "duration": 12,
    "start_time": "2022-05-29T11:25:43.192Z"
   },
   {
    "duration": 27,
    "start_time": "2022-05-29T11:25:43.206Z"
   },
   {
    "duration": 8,
    "start_time": "2022-05-29T11:25:43.235Z"
   },
   {
    "duration": 628,
    "start_time": "2022-05-29T11:26:13.693Z"
   },
   {
    "duration": 197,
    "start_time": "2022-05-29T11:27:11.009Z"
   },
   {
    "duration": 157,
    "start_time": "2022-05-29T11:27:44.509Z"
   },
   {
    "duration": 3,
    "start_time": "2022-05-29T11:28:54.398Z"
   },
   {
    "duration": 171,
    "start_time": "2022-05-29T11:29:54.248Z"
   },
   {
    "duration": 186,
    "start_time": "2022-05-29T11:30:43.759Z"
   },
   {
    "duration": 224,
    "start_time": "2022-05-29T11:31:02.735Z"
   },
   {
    "duration": 281,
    "start_time": "2022-05-29T11:31:52.812Z"
   },
   {
    "duration": 173,
    "start_time": "2022-05-29T11:32:07.504Z"
   },
   {
    "duration": 184,
    "start_time": "2022-05-29T11:32:18.266Z"
   },
   {
    "duration": 199,
    "start_time": "2022-05-29T11:32:24.773Z"
   },
   {
    "duration": 284,
    "start_time": "2022-05-29T11:32:51.861Z"
   },
   {
    "duration": 215,
    "start_time": "2022-05-29T11:32:59.941Z"
   },
   {
    "duration": 211,
    "start_time": "2022-05-29T11:33:03.822Z"
   },
   {
    "duration": 202,
    "start_time": "2022-05-29T11:33:07.917Z"
   },
   {
    "duration": 23867,
    "start_time": "2022-05-29T11:34:27.179Z"
   },
   {
    "duration": 205,
    "start_time": "2022-05-29T11:34:54.068Z"
   },
   {
    "duration": 213,
    "start_time": "2022-05-29T11:35:23.628Z"
   },
   {
    "duration": 5,
    "start_time": "2022-05-29T11:35:33.910Z"
   },
   {
    "duration": 4,
    "start_time": "2022-05-29T11:35:38.179Z"
   },
   {
    "duration": 203,
    "start_time": "2022-05-29T11:35:58.308Z"
   },
   {
    "duration": 9,
    "start_time": "2022-05-29T11:38:42.025Z"
   },
   {
    "duration": 8,
    "start_time": "2022-05-29T11:40:11.841Z"
   },
   {
    "duration": 333,
    "start_time": "2022-05-29T11:41:19.191Z"
   },
   {
    "duration": 286,
    "start_time": "2022-05-29T11:41:21.840Z"
   },
   {
    "duration": 208,
    "start_time": "2022-05-29T11:41:29.729Z"
   },
   {
    "duration": 212,
    "start_time": "2022-05-29T11:41:53.777Z"
   },
   {
    "duration": 213,
    "start_time": "2022-05-29T11:41:58.971Z"
   },
   {
    "duration": 178,
    "start_time": "2022-05-29T11:42:04.896Z"
   },
   {
    "duration": 191,
    "start_time": "2022-05-29T11:42:12.312Z"
   },
   {
    "duration": 267,
    "start_time": "2022-05-29T11:42:17.839Z"
   },
   {
    "duration": 203,
    "start_time": "2022-05-29T11:42:48.008Z"
   },
   {
    "duration": 4,
    "start_time": "2022-05-29T12:57:47.088Z"
   },
   {
    "duration": 7,
    "start_time": "2022-05-29T12:57:51.792Z"
   },
   {
    "duration": 14,
    "start_time": "2022-05-29T12:59:36.665Z"
   },
   {
    "duration": 9,
    "start_time": "2022-05-29T12:59:44.147Z"
   },
   {
    "duration": 19,
    "start_time": "2022-05-29T13:00:49.120Z"
   },
   {
    "duration": 24,
    "start_time": "2022-05-29T13:00:55.584Z"
   },
   {
    "duration": 16,
    "start_time": "2022-05-29T13:00:58.744Z"
   },
   {
    "duration": 14,
    "start_time": "2022-05-29T13:01:01.748Z"
   },
   {
    "duration": 16,
    "start_time": "2022-05-29T13:01:04.151Z"
   },
   {
    "duration": 17,
    "start_time": "2022-05-29T13:01:07.645Z"
   },
   {
    "duration": 18,
    "start_time": "2022-05-29T13:01:14.286Z"
   },
   {
    "duration": 37,
    "start_time": "2022-05-29T13:01:30.286Z"
   },
   {
    "duration": 50,
    "start_time": "2022-05-29T13:01:35.591Z"
   },
   {
    "duration": 8,
    "start_time": "2022-05-29T13:02:02.270Z"
   },
   {
    "duration": 10,
    "start_time": "2022-05-29T13:02:21.142Z"
   },
   {
    "duration": 10,
    "start_time": "2022-05-29T13:02:43.158Z"
   },
   {
    "duration": 22,
    "start_time": "2022-05-29T13:07:05.818Z"
   },
   {
    "duration": 17,
    "start_time": "2022-05-29T13:09:25.762Z"
   },
   {
    "duration": 7,
    "start_time": "2022-05-29T13:09:31.923Z"
   },
   {
    "duration": 7,
    "start_time": "2022-05-29T13:09:37.740Z"
   },
   {
    "duration": 7,
    "start_time": "2022-05-29T13:10:41.241Z"
   },
   {
    "duration": 7,
    "start_time": "2022-05-29T13:10:43.228Z"
   },
   {
    "duration": 6,
    "start_time": "2022-05-29T13:10:43.753Z"
   },
   {
    "duration": 7,
    "start_time": "2022-05-29T13:10:44.141Z"
   },
   {
    "duration": 6,
    "start_time": "2022-05-29T13:10:44.369Z"
   },
   {
    "duration": 7,
    "start_time": "2022-05-29T13:11:18.314Z"
   },
   {
    "duration": 7,
    "start_time": "2022-05-29T13:11:40.082Z"
   },
   {
    "duration": 7,
    "start_time": "2022-05-29T13:11:43.344Z"
   },
   {
    "duration": 8,
    "start_time": "2022-05-29T13:11:43.781Z"
   },
   {
    "duration": 8,
    "start_time": "2022-05-29T13:12:44.392Z"
   },
   {
    "duration": 17,
    "start_time": "2022-05-29T13:13:20.240Z"
   },
   {
    "duration": 5,
    "start_time": "2022-05-29T13:13:51.848Z"
   },
   {
    "duration": 11,
    "start_time": "2022-05-29T13:18:12.572Z"
   },
   {
    "duration": 5,
    "start_time": "2022-05-29T13:18:19.925Z"
   },
   {
    "duration": 7,
    "start_time": "2022-05-29T13:18:35.166Z"
   },
   {
    "duration": 7,
    "start_time": "2022-05-29T13:19:16.709Z"
   },
   {
    "duration": 3,
    "start_time": "2022-05-29T13:19:43.239Z"
   },
   {
    "duration": 4,
    "start_time": "2022-05-29T13:20:29.220Z"
   },
   {
    "duration": 8,
    "start_time": "2022-05-29T13:21:29.539Z"
   },
   {
    "duration": 5,
    "start_time": "2022-05-29T13:23:28.946Z"
   },
   {
    "duration": 6,
    "start_time": "2022-05-29T13:23:30.018Z"
   },
   {
    "duration": 8,
    "start_time": "2022-05-29T13:24:59.321Z"
   },
   {
    "duration": 8,
    "start_time": "2022-05-29T13:25:44.593Z"
   },
   {
    "duration": 3,
    "start_time": "2022-05-29T13:25:48.953Z"
   },
   {
    "duration": 5,
    "start_time": "2022-05-29T13:26:00.401Z"
   },
   {
    "duration": 5,
    "start_time": "2022-05-29T13:27:01.050Z"
   },
   {
    "duration": 2,
    "start_time": "2022-05-29T13:27:11.639Z"
   },
   {
    "duration": 5,
    "start_time": "2022-05-29T13:27:16.145Z"
   },
   {
    "duration": 5,
    "start_time": "2022-05-29T13:27:27.450Z"
   },
   {
    "duration": 4,
    "start_time": "2022-05-29T13:27:36.090Z"
   },
   {
    "duration": 5,
    "start_time": "2022-05-29T13:28:13.425Z"
   },
   {
    "duration": 19,
    "start_time": "2022-05-29T13:29:19.547Z"
   },
   {
    "duration": 15,
    "start_time": "2022-05-29T13:29:46.044Z"
   },
   {
    "duration": 11,
    "start_time": "2022-05-29T13:30:02.740Z"
   },
   {
    "duration": 10,
    "start_time": "2022-05-29T13:30:14.058Z"
   },
   {
    "duration": 10,
    "start_time": "2022-05-29T13:31:38.458Z"
   },
   {
    "duration": 4,
    "start_time": "2022-05-29T13:32:59.059Z"
   },
   {
    "duration": 42,
    "start_time": "2022-05-29T13:35:54.123Z"
   },
   {
    "duration": 11,
    "start_time": "2022-05-29T13:36:04.861Z"
   },
   {
    "duration": 17,
    "start_time": "2022-05-29T13:37:02.211Z"
   },
   {
    "duration": 7,
    "start_time": "2022-05-29T13:37:12.970Z"
   },
   {
    "duration": 9,
    "start_time": "2022-05-29T13:39:08.858Z"
   },
   {
    "duration": 1122,
    "start_time": "2022-05-29T13:46:52.608Z"
   },
   {
    "duration": 3,
    "start_time": "2022-05-29T13:46:53.732Z"
   },
   {
    "duration": 10,
    "start_time": "2022-05-29T13:46:53.737Z"
   },
   {
    "duration": 33,
    "start_time": "2022-05-29T13:46:53.749Z"
   },
   {
    "duration": 23,
    "start_time": "2022-05-29T13:46:53.784Z"
   },
   {
    "duration": 12,
    "start_time": "2022-05-29T13:46:53.810Z"
   },
   {
    "duration": 30,
    "start_time": "2022-05-29T13:46:53.824Z"
   },
   {
    "duration": 10,
    "start_time": "2022-05-29T13:46:53.856Z"
   },
   {
    "duration": 284,
    "start_time": "2022-05-29T13:46:53.869Z"
   },
   {
    "duration": 183,
    "start_time": "2022-05-29T13:46:54.157Z"
   },
   {
    "duration": 7,
    "start_time": "2022-05-29T13:46:54.342Z"
   },
   {
    "duration": 184,
    "start_time": "2022-05-29T13:46:54.350Z"
   },
   {
    "duration": 6,
    "start_time": "2022-05-29T13:46:54.536Z"
   },
   {
    "duration": 7,
    "start_time": "2022-05-29T13:46:54.544Z"
   },
   {
    "duration": 5,
    "start_time": "2022-05-29T13:46:54.552Z"
   },
   {
    "duration": 4,
    "start_time": "2022-05-29T13:46:54.559Z"
   },
   {
    "duration": 46,
    "start_time": "2022-05-29T13:46:54.565Z"
   },
   {
    "duration": 89,
    "start_time": "2022-05-29T13:46:54.613Z"
   },
   {
    "duration": 11,
    "start_time": "2022-05-29T13:46:54.704Z"
   },
   {
    "duration": 10,
    "start_time": "2022-05-29T13:46:54.716Z"
   },
   {
    "duration": 11,
    "start_time": "2022-05-29T13:46:54.727Z"
   },
   {
    "duration": 175,
    "start_time": "2022-05-29T13:46:54.740Z"
   },
   {
    "duration": 182,
    "start_time": "2022-05-29T13:46:54.917Z"
   },
   {
    "duration": 11,
    "start_time": "2022-05-29T13:48:42.909Z"
   },
   {
    "duration": 11,
    "start_time": "2022-05-29T13:48:57.005Z"
   },
   {
    "duration": 10,
    "start_time": "2022-05-29T13:49:06.310Z"
   },
   {
    "duration": 8,
    "start_time": "2022-05-29T13:58:08.992Z"
   },
   {
    "duration": 1263,
    "start_time": "2022-05-29T13:58:14.994Z"
   },
   {
    "duration": 3,
    "start_time": "2022-05-29T13:58:16.260Z"
   },
   {
    "duration": 9,
    "start_time": "2022-05-29T13:58:16.265Z"
   },
   {
    "duration": 41,
    "start_time": "2022-05-29T13:58:16.276Z"
   },
   {
    "duration": 19,
    "start_time": "2022-05-29T13:58:16.320Z"
   },
   {
    "duration": 16,
    "start_time": "2022-05-29T13:58:16.341Z"
   },
   {
    "duration": 42,
    "start_time": "2022-05-29T13:58:16.359Z"
   },
   {
    "duration": 12,
    "start_time": "2022-05-29T13:58:16.404Z"
   },
   {
    "duration": 299,
    "start_time": "2022-05-29T13:58:16.418Z"
   },
   {
    "duration": 199,
    "start_time": "2022-05-29T13:58:16.719Z"
   },
   {
    "duration": 8,
    "start_time": "2022-05-29T13:58:16.920Z"
   },
   {
    "duration": 211,
    "start_time": "2022-05-29T13:58:16.930Z"
   },
   {
    "duration": 8,
    "start_time": "2022-05-29T13:58:17.143Z"
   },
   {
    "duration": 5,
    "start_time": "2022-05-29T13:58:17.154Z"
   },
   {
    "duration": 6,
    "start_time": "2022-05-29T13:58:17.161Z"
   },
   {
    "duration": 16,
    "start_time": "2022-05-29T13:58:17.200Z"
   },
   {
    "duration": 42,
    "start_time": "2022-05-29T13:58:17.218Z"
   },
   {
    "duration": 45,
    "start_time": "2022-05-29T13:58:17.262Z"
   },
   {
    "duration": 121,
    "start_time": "2022-05-29T13:58:17.309Z"
   },
   {
    "duration": 30,
    "start_time": "2022-05-29T13:58:17.432Z"
   },
   {
    "duration": 48,
    "start_time": "2022-05-29T13:58:17.464Z"
   },
   {
    "duration": 122,
    "start_time": "2022-05-29T13:58:17.517Z"
   },
   {
    "duration": 181,
    "start_time": "2022-05-29T13:58:17.641Z"
   },
   {
    "duration": 1372,
    "start_time": "2022-05-29T16:39:24.900Z"
   },
   {
    "duration": 2,
    "start_time": "2022-05-29T16:39:26.274Z"
   },
   {
    "duration": 17,
    "start_time": "2022-05-29T16:39:26.278Z"
   },
   {
    "duration": 106,
    "start_time": "2022-05-29T16:39:26.298Z"
   },
   {
    "duration": 13,
    "start_time": "2022-05-29T16:39:26.406Z"
   },
   {
    "duration": 40,
    "start_time": "2022-05-29T16:39:26.420Z"
   },
   {
    "duration": 48,
    "start_time": "2022-05-29T16:39:26.462Z"
   },
   {
    "duration": 27,
    "start_time": "2022-05-29T16:39:26.512Z"
   },
   {
    "duration": 308,
    "start_time": "2022-05-29T16:39:26.540Z"
   },
   {
    "duration": 192,
    "start_time": "2022-05-29T16:39:26.851Z"
   },
   {
    "duration": 8,
    "start_time": "2022-05-29T16:39:27.044Z"
   },
   {
    "duration": 197,
    "start_time": "2022-05-29T16:39:27.054Z"
   },
   {
    "duration": 8,
    "start_time": "2022-05-29T16:39:27.253Z"
   },
   {
    "duration": 17,
    "start_time": "2022-05-29T16:39:27.262Z"
   },
   {
    "duration": 6,
    "start_time": "2022-05-29T16:39:27.281Z"
   },
   {
    "duration": 11,
    "start_time": "2022-05-29T16:39:27.289Z"
   },
   {
    "duration": 42,
    "start_time": "2022-05-29T16:39:27.301Z"
   },
   {
    "duration": 90,
    "start_time": "2022-05-29T16:39:27.345Z"
   },
   {
    "duration": 4,
    "start_time": "2022-05-29T16:39:27.437Z"
   },
   {
    "duration": 98,
    "start_time": "2022-05-29T16:39:27.443Z"
   },
   {
    "duration": 24,
    "start_time": "2022-05-29T16:39:27.543Z"
   },
   {
    "duration": 181,
    "start_time": "2022-05-29T16:39:27.569Z"
   },
   {
    "duration": 210,
    "start_time": "2022-05-29T16:39:27.753Z"
   },
   {
    "duration": 82,
    "start_time": "2022-05-29T16:42:03.520Z"
   },
   {
    "duration": 1650,
    "start_time": "2022-05-30T18:24:02.677Z"
   },
   {
    "duration": 1331,
    "start_time": "2022-05-30T18:30:43.578Z"
   },
   {
    "duration": 3,
    "start_time": "2022-05-30T18:30:44.911Z"
   },
   {
    "duration": 11,
    "start_time": "2022-05-30T18:30:44.915Z"
   },
   {
    "duration": 75,
    "start_time": "2022-05-30T18:30:44.930Z"
   },
   {
    "duration": 14,
    "start_time": "2022-05-30T18:30:45.007Z"
   },
   {
    "duration": 34,
    "start_time": "2022-05-30T18:30:45.023Z"
   },
   {
    "duration": 27,
    "start_time": "2022-05-30T18:30:45.059Z"
   },
   {
    "duration": 9,
    "start_time": "2022-05-30T18:30:45.088Z"
   },
   {
    "duration": 295,
    "start_time": "2022-05-30T18:30:45.099Z"
   },
   {
    "duration": 205,
    "start_time": "2022-05-30T18:30:45.398Z"
   },
   {
    "duration": 22,
    "start_time": "2022-05-30T18:30:45.606Z"
   },
   {
    "duration": 215,
    "start_time": "2022-05-30T18:30:45.631Z"
   },
   {
    "duration": 9,
    "start_time": "2022-05-30T18:30:45.849Z"
   },
   {
    "duration": 7,
    "start_time": "2022-05-30T18:30:45.860Z"
   },
   {
    "duration": 10,
    "start_time": "2022-05-30T18:30:45.869Z"
   },
   {
    "duration": 10,
    "start_time": "2022-05-30T18:30:45.881Z"
   },
   {
    "duration": 37,
    "start_time": "2022-05-30T18:30:45.893Z"
   },
   {
    "duration": 229,
    "start_time": "2022-05-30T18:30:45.933Z"
   },
   {
    "duration": 0,
    "start_time": "2022-05-30T18:30:46.164Z"
   },
   {
    "duration": 0,
    "start_time": "2022-05-30T18:30:46.165Z"
   },
   {
    "duration": 0,
    "start_time": "2022-05-30T18:30:46.166Z"
   },
   {
    "duration": 0,
    "start_time": "2022-05-30T18:30:46.168Z"
   },
   {
    "duration": 0,
    "start_time": "2022-05-30T18:30:46.169Z"
   },
   {
    "duration": 0,
    "start_time": "2022-05-30T18:30:46.170Z"
   },
   {
    "duration": 4,
    "start_time": "2022-05-30T18:30:58.665Z"
   },
   {
    "duration": 5,
    "start_time": "2022-05-30T18:44:26.348Z"
   },
   {
    "duration": 338,
    "start_time": "2022-05-30T18:45:08.388Z"
   },
   {
    "duration": 4,
    "start_time": "2022-05-30T18:46:57.036Z"
   },
   {
    "duration": 411,
    "start_time": "2022-05-30T18:46:57.335Z"
   },
   {
    "duration": 4,
    "start_time": "2022-05-30T18:47:07.667Z"
   },
   {
    "duration": 5,
    "start_time": "2022-05-30T18:47:26.084Z"
   },
   {
    "duration": 6,
    "start_time": "2022-05-30T18:47:26.373Z"
   },
   {
    "duration": 7,
    "start_time": "2022-05-30T18:47:28.906Z"
   },
   {
    "duration": 4,
    "start_time": "2022-05-30T18:47:41.563Z"
   },
   {
    "duration": 5,
    "start_time": "2022-05-30T18:48:54.499Z"
   },
   {
    "duration": 392,
    "start_time": "2022-05-30T18:48:54.843Z"
   },
   {
    "duration": 9,
    "start_time": "2022-05-30T18:49:02.057Z"
   },
   {
    "duration": 4,
    "start_time": "2022-05-30T18:54:29.649Z"
   },
   {
    "duration": 9,
    "start_time": "2022-05-30T18:54:30.065Z"
   },
   {
    "duration": 6,
    "start_time": "2022-05-30T18:54:30.649Z"
   },
   {
    "duration": 5,
    "start_time": "2022-05-30T18:54:34.465Z"
   },
   {
    "duration": 7,
    "start_time": "2022-05-30T18:54:34.808Z"
   },
   {
    "duration": 6,
    "start_time": "2022-05-30T18:54:35.408Z"
   },
   {
    "duration": 3,
    "start_time": "2022-05-30T18:56:10.361Z"
   },
   {
    "duration": 341,
    "start_time": "2022-05-30T18:56:10.628Z"
   },
   {
    "duration": 6,
    "start_time": "2022-05-30T18:56:12.303Z"
   },
   {
    "duration": 3,
    "start_time": "2022-05-30T18:59:12.727Z"
   },
   {
    "duration": 6,
    "start_time": "2022-05-30T18:59:13.062Z"
   },
   {
    "duration": 5,
    "start_time": "2022-05-30T18:59:13.374Z"
   },
   {
    "duration": 5,
    "start_time": "2022-05-30T19:02:05.645Z"
   },
   {
    "duration": 1399,
    "start_time": "2022-05-30T19:08:22.437Z"
   },
   {
    "duration": 2,
    "start_time": "2022-05-30T19:08:23.838Z"
   },
   {
    "duration": 5,
    "start_time": "2022-05-30T19:08:23.842Z"
   },
   {
    "duration": 65,
    "start_time": "2022-05-30T19:08:23.849Z"
   },
   {
    "duration": 13,
    "start_time": "2022-05-30T19:08:23.916Z"
   },
   {
    "duration": 10,
    "start_time": "2022-05-30T19:08:23.930Z"
   },
   {
    "duration": 25,
    "start_time": "2022-05-30T19:08:23.942Z"
   },
   {
    "duration": 7,
    "start_time": "2022-05-30T19:08:23.968Z"
   },
   {
    "duration": 282,
    "start_time": "2022-05-30T19:08:23.977Z"
   },
   {
    "duration": 215,
    "start_time": "2022-05-30T19:08:24.263Z"
   },
   {
    "duration": 8,
    "start_time": "2022-05-30T19:08:24.480Z"
   },
   {
    "duration": 206,
    "start_time": "2022-05-30T19:08:24.490Z"
   },
   {
    "duration": 6,
    "start_time": "2022-05-30T19:08:24.698Z"
   },
   {
    "duration": 11,
    "start_time": "2022-05-30T19:08:24.706Z"
   },
   {
    "duration": 4,
    "start_time": "2022-05-30T19:08:24.725Z"
   },
   {
    "duration": 7,
    "start_time": "2022-05-30T19:08:24.730Z"
   },
   {
    "duration": 6,
    "start_time": "2022-05-30T19:08:24.738Z"
   },
   {
    "duration": 10,
    "start_time": "2022-05-30T19:08:24.746Z"
   },
   {
    "duration": 10,
    "start_time": "2022-05-30T19:08:24.827Z"
   },
   {
    "duration": 91,
    "start_time": "2022-05-30T19:08:24.839Z"
   },
   {
    "duration": 7,
    "start_time": "2022-05-30T19:08:24.932Z"
   },
   {
    "duration": 86,
    "start_time": "2022-05-30T19:08:24.941Z"
   },
   {
    "duration": 15,
    "start_time": "2022-05-30T19:08:25.029Z"
   },
   {
    "duration": 18,
    "start_time": "2022-05-30T19:08:25.045Z"
   },
   {
    "duration": 108,
    "start_time": "2022-05-30T19:08:25.128Z"
   },
   {
    "duration": 191,
    "start_time": "2022-05-30T19:08:25.239Z"
   },
   {
    "duration": 1179,
    "start_time": "2022-05-31T04:19:35.919Z"
   },
   {
    "duration": 3,
    "start_time": "2022-05-31T04:19:37.100Z"
   },
   {
    "duration": 12,
    "start_time": "2022-05-31T04:19:37.105Z"
   },
   {
    "duration": 31,
    "start_time": "2022-05-31T04:19:37.120Z"
   },
   {
    "duration": 13,
    "start_time": "2022-05-31T04:19:37.153Z"
   },
   {
    "duration": 11,
    "start_time": "2022-05-31T04:19:37.167Z"
   },
   {
    "duration": 24,
    "start_time": "2022-05-31T04:19:37.180Z"
   },
   {
    "duration": 6,
    "start_time": "2022-05-31T04:19:37.205Z"
   },
   {
    "duration": 232,
    "start_time": "2022-05-31T04:19:37.212Z"
   },
   {
    "duration": 157,
    "start_time": "2022-05-31T04:19:37.447Z"
   },
   {
    "duration": 7,
    "start_time": "2022-05-31T04:19:37.605Z"
   },
   {
    "duration": 155,
    "start_time": "2022-05-31T04:19:37.613Z"
   },
   {
    "duration": 8,
    "start_time": "2022-05-31T04:19:37.769Z"
   },
   {
    "duration": 16,
    "start_time": "2022-05-31T04:19:37.779Z"
   },
   {
    "duration": 8,
    "start_time": "2022-05-31T04:19:37.796Z"
   },
   {
    "duration": 8,
    "start_time": "2022-05-31T04:19:37.805Z"
   },
   {
    "duration": 7,
    "start_time": "2022-05-31T04:19:37.814Z"
   },
   {
    "duration": 71,
    "start_time": "2022-05-31T04:19:37.823Z"
   },
   {
    "duration": 104,
    "start_time": "2022-05-31T04:19:37.896Z"
   },
   {
    "duration": 11,
    "start_time": "2022-05-31T04:19:38.002Z"
   },
   {
    "duration": 86,
    "start_time": "2022-05-31T04:19:38.015Z"
   },
   {
    "duration": 90,
    "start_time": "2022-05-31T04:19:38.103Z"
   },
   {
    "duration": 9,
    "start_time": "2022-05-31T04:19:38.194Z"
   },
   {
    "duration": 88,
    "start_time": "2022-05-31T04:19:38.204Z"
   },
   {
    "duration": 102,
    "start_time": "2022-05-31T04:19:38.294Z"
   },
   {
    "duration": 104,
    "start_time": "2022-05-31T04:19:38.399Z"
   }
  ],
  "kernelspec": {
   "display_name": "Python 3 (ipykernel)",
   "language": "python",
   "name": "python3"
  },
  "language_info": {
   "codemirror_mode": {
    "name": "ipython",
    "version": 3
   },
   "file_extension": ".py",
   "mimetype": "text/x-python",
   "name": "python",
   "nbconvert_exporter": "python",
   "pygments_lexer": "ipython3",
   "version": "3.9.7"
  },
  "toc": {
   "base_numbering": 1,
   "nav_menu": {},
   "number_sections": true,
   "sideBar": true,
   "skip_h1_title": true,
   "title_cell": "Содержание",
   "title_sidebar": "Contents",
   "toc_cell": true,
   "toc_position": {
    "height": "calc(100% - 180px)",
    "left": "10px",
    "top": "150px",
    "width": "261.875px"
   },
   "toc_section_display": true,
   "toc_window_display": true
  }
 },
 "nbformat": 4,
 "nbformat_minor": 2
}
