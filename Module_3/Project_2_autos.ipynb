{
 "cells": [
  {
   "cell_type": "markdown",
   "metadata": {},
   "source": [
    "<div style=\"border:solid Chocolate 2px; padding: 40px\">\n",
    "\n",
    "<b>Сергей,\n",
    "привет!👋</b>\n",
    "\n",
    "Меня зовут Александр Куимов, я буду ревьюером твоего проекта. Ты можешь обращаться ко мне на \"ты\"😏 Надеюсь, тебя также не смутит, если я буду обращаться к тебе на \"ты\", но если это неудобно, обязательно скажи об этом!\n",
    "\n",
    "Пожалуйста, не удаляй мои комментарии, они будут особенно полезны для нашей работы в случае повторной проверки проекта. \n",
    "\n",
    "Ты также можешь реагировать на мои комментарии своими, выделяя их цветами и наиболее понравившимся тебе способом оформления, но явно  отличающимся от моих комментариев. Это нужно, чтобы не создавалась путаница😉\n",
    "\n",
    "Ты можешь найти мои комментарии, обозначенные <font color='green'>зеленым</font>, <font color='gold'>желтым</font> и <font color='red'>красным</font> цветами, например:\n",
    "\n",
    "<br/>\n",
    "\n",
    "<div class=\"alert alert-success\">\n",
    "<h2> Комментарий ревьюера <a class=\"tocSkip\"> </h2>\n",
    "\n",
    "<b>Все отлично!👍:</b> В случае, если решение на отдельном шаге является полностью правильным.\n",
    "</div>\n",
    "\n",
    "<br/>\n",
    "\n",
    "<div class=\"alert alert-warning\">\n",
    "    <h2> Комментарий ревьюера <a class=\"tocSkip\"> </h2>\n",
    "    \n",
    "<b>Некоторые замечания и рекомендации💡:</b> В случае, когда решение на отдельном шаге станет еще лучше, если внести небольшие коррективы.\n",
    "</div>\n",
    "\n",
    "\n",
    "<br/>\n",
    "<div class=\"alert alert-block alert-danger\">\n",
    "<h2> Комментарий ревьюера <a class=\"tocSkip\"></h2>\n",
    "\n",
    "    \n",
    "<b>На доработку🤔:</b>\n",
    " В случае, когда решение на отдельном шаге требует существенной переработки и внесения правок. Напоминаю, что проект не может быть принят с первого раза, если ревью содержит комментарии, рекомендующие доработать шаги.\n",
    "</div>\n",
    "    \n",
    "Увидев у тебя неточность, в первый раз я лишь укажу на ее наличие и дам тебе возможность самому найти и исправить ее. На реальной работе твой руководитель будет поступать также, и я пытаюсь подготовить тебя именно к работе датасаентистом. Но если ты пока не справишься с такой задачей - при следующей проверке я дам более точную подсказку!🤓"
   ]
  },
  {
   "cell_type": "markdown",
   "metadata": {},
   "source": [
    "<div class=\"alert alert-info\">\n",
    "<b>Комментарий студента:</b>\n",
    "<br>Добрый день!\n",
    "<br>Постарался устранить все замечания, спасибо за помощь!\n",
    "</div>"
   ]
  },
  {
   "cell_type": "markdown",
   "metadata": {},
   "source": [
    "<div class=\"alert alert-success\">\n",
    "<h2> Комментарий ревьюера v.2 <a class=\"tocSkip\"> </h2>\n",
    "\n",
    "<b>Все отлично!👍:</b> \n",
    "\n",
    "И вновь, привет! Пожалуйста)"
   ]
  },
  {
   "cell_type": "markdown",
   "metadata": {
    "toc": true
   },
   "source": [
    "<h1>Оглавление<span class=\"tocSkip\"></span></h1>\n",
    "<div class=\"toc\"><ul class=\"toc-item\"><li><span><a href=\"#Подготовка-к-выполнению-проекта\" data-toc-modified-id=\"Подготовка-к-выполнению-проекта-1\"><span class=\"toc-item-num\">1&nbsp;&nbsp;</span>Подготовка к выполнению проекта</a></span><ul class=\"toc-item\"><li><span><a href=\"#Импорт-библиотек\" data-toc-modified-id=\"Импорт-библиотек-1.1\"><span class=\"toc-item-num\">1.1&nbsp;&nbsp;</span>Импорт библиотек</a></span></li><li><span><a href=\"#Глобальные-настройки-проекта\" data-toc-modified-id=\"Глобальные-настройки-проекта-1.2\"><span class=\"toc-item-num\">1.2&nbsp;&nbsp;</span>Глобальные настройки проекта</a></span></li><li><span><a href=\"#Импорт-данных\" data-toc-modified-id=\"Импорт-данных-1.3\"><span class=\"toc-item-num\">1.3&nbsp;&nbsp;</span>Импорт данных</a></span></li><li><span><a href=\"#Описание-данных\" data-toc-modified-id=\"Описание-данных-1.4\"><span class=\"toc-item-num\">1.4&nbsp;&nbsp;</span>Описание данных</a></span></li></ul></li><li><span><a href=\"#Подготовка-данных\" data-toc-modified-id=\"Подготовка-данных-2\"><span class=\"toc-item-num\">2&nbsp;&nbsp;</span>Подготовка данных</a></span><ul class=\"toc-item\"><li><span><a href=\"#Загрузка-и-общий-анализ-данных\" data-toc-modified-id=\"Загрузка-и-общий-анализ-данных-2.1\"><span class=\"toc-item-num\">2.1&nbsp;&nbsp;</span>Загрузка и общий анализ данных</a></span><ul class=\"toc-item\"><li><span><a href=\"#Анализ-признака-&quot;Price&quot;\" data-toc-modified-id=\"Анализ-признака-&quot;Price&quot;-2.1.1\"><span class=\"toc-item-num\">2.1.1&nbsp;&nbsp;</span>Анализ признака \"Price\"</a></span></li><li><span><a href=\"#Анализ-признака-&quot;RegistrationYear&quot;\" data-toc-modified-id=\"Анализ-признака-&quot;RegistrationYear&quot;-2.1.2\"><span class=\"toc-item-num\">2.1.2&nbsp;&nbsp;</span>Анализ признака \"RegistrationYear\"</a></span></li><li><span><a href=\"#Анализ-признака-&quot;Power&quot;\" data-toc-modified-id=\"Анализ-признака-&quot;Power&quot;-2.1.3\"><span class=\"toc-item-num\">2.1.3&nbsp;&nbsp;</span>Анализ признака \"Power\"</a></span></li><li><span><a href=\"#Анализ-признака-&quot;NumberOfPictures&quot;\" data-toc-modified-id=\"Анализ-признака-&quot;NumberOfPictures&quot;-2.1.4\"><span class=\"toc-item-num\">2.1.4&nbsp;&nbsp;</span>Анализ признака \"NumberOfPictures\"</a></span></li><li><span><a href=\"#Анализ-признака-&quot;PostalCode&quot;\" data-toc-modified-id=\"Анализ-признака-&quot;PostalCode&quot;-2.1.5\"><span class=\"toc-item-num\">2.1.5&nbsp;&nbsp;</span>Анализ признака \"PostalCode\"</a></span></li><li><span><a href=\"#Выводы\" data-toc-modified-id=\"Выводы-2.1.6\"><span class=\"toc-item-num\">2.1.6&nbsp;&nbsp;</span>Выводы</a></span></li></ul></li><li><span><a href=\"#Предобработка-данных\" data-toc-modified-id=\"Предобработка-данных-2.2\"><span class=\"toc-item-num\">2.2&nbsp;&nbsp;</span>Предобработка данных</a></span><ul class=\"toc-item\"><li><span><a href=\"#Приведение-названий-признаков-к-стилю-&quot;snake_case&quot;\" data-toc-modified-id=\"Приведение-названий-признаков-к-стилю-&quot;snake_case&quot;-2.2.1\"><span class=\"toc-item-num\">2.2.1&nbsp;&nbsp;</span>Приведение названий признаков к стилю \"snake_case\"</a></span></li><li><span><a href=\"#Обработка-выбросов-признака-&quot;registration_year&quot;\" data-toc-modified-id=\"Обработка-выбросов-признака-&quot;registration_year&quot;-2.2.2\"><span class=\"toc-item-num\">2.2.2&nbsp;&nbsp;</span>Обработка выбросов признака \"registration_year\"</a></span></li><li><span><a href=\"#Расчёт-возраста-автомобиля-в-годах\" data-toc-modified-id=\"Расчёт-возраста-автомобиля-в-годах-2.2.3\"><span class=\"toc-item-num\">2.2.3&nbsp;&nbsp;</span>Расчёт возраста автомобиля в годах</a></span></li><li><span><a href=\"#Расчёт-длительности-продажи-в-днях\" data-toc-modified-id=\"Расчёт-длительности-продажи-в-днях-2.2.4\"><span class=\"toc-item-num\">2.2.4&nbsp;&nbsp;</span>Расчёт длительности продажи в днях</a></span></li><li><span><a href=\"#Удаление-аномальных-объектов-признака-&quot;price&quot;\" data-toc-modified-id=\"Удаление-аномальных-объектов-признака-&quot;price&quot;-2.2.5\"><span class=\"toc-item-num\">2.2.5&nbsp;&nbsp;</span>Удаление аномальных объектов признака \"price\"</a></span></li><li><span><a href=\"#Удаление-аномальных-объектов-признака-&quot;model&quot;\" data-toc-modified-id=\"Удаление-аномальных-объектов-признака-&quot;model&quot;-2.2.6\"><span class=\"toc-item-num\">2.2.6&nbsp;&nbsp;</span>Удаление аномальных объектов признака \"model\"</a></span></li><li><span><a href=\"#Создание-нового-признака-&quot;brand_model&quot;\" data-toc-modified-id=\"Создание-нового-признака-&quot;brand_model&quot;-2.2.7\"><span class=\"toc-item-num\">2.2.7&nbsp;&nbsp;</span>Создание нового признака \"brand_model\"</a></span></li><li><span><a href=\"#Удаление-неинформативных-признаков-&quot;number_of_pictures&quot;,-&quot;postal_code&quot;\" data-toc-modified-id=\"Удаление-неинформативных-признаков-&quot;number_of_pictures&quot;,-&quot;postal_code&quot;-2.2.8\"><span class=\"toc-item-num\">2.2.8&nbsp;&nbsp;</span>Удаление неинформативных признаков \"number_of_pictures\", \"postal_code\"</a></span></li><li><span><a href=\"#Заполнение-пропусков-признака-&quot;vehicle_type&quot;\" data-toc-modified-id=\"Заполнение-пропусков-признака-&quot;vehicle_type&quot;-2.2.9\"><span class=\"toc-item-num\">2.2.9&nbsp;&nbsp;</span>Заполнение пропусков признака \"vehicle_type\"</a></span></li><li><span><a href=\"#Заполнение-пропусков-признака-&quot;fuel_type&quot;\" data-toc-modified-id=\"Заполнение-пропусков-признака-&quot;fuel_type&quot;-2.2.10\"><span class=\"toc-item-num\">2.2.10&nbsp;&nbsp;</span>Заполнение пропусков признака \"fuel_type\"</a></span></li><li><span><a href=\"#Заполнение-пропусков-признака-&quot;gearbox&quot;\" data-toc-modified-id=\"Заполнение-пропусков-признака-&quot;gearbox&quot;-2.2.11\"><span class=\"toc-item-num\">2.2.11&nbsp;&nbsp;</span>Заполнение пропусков признака \"gearbox\"</a></span></li><li><span><a href=\"#Заполнение-пропусков-признака-&quot;not_repaired&quot;\" data-toc-modified-id=\"Заполнение-пропусков-признака-&quot;not_repaired&quot;-2.2.12\"><span class=\"toc-item-num\">2.2.12&nbsp;&nbsp;</span>Заполнение пропусков признака \"not_repaired\"</a></span></li><li><span><a href=\"#Обработка-выбросов-признака-&quot;power&quot;\" data-toc-modified-id=\"Обработка-выбросов-признака-&quot;power&quot;-2.2.13\"><span class=\"toc-item-num\">2.2.13&nbsp;&nbsp;</span>Обработка выбросов признака \"power\"</a></span></li><li><span><a href=\"#Выводы\" data-toc-modified-id=\"Выводы-2.2.14\"><span class=\"toc-item-num\">2.2.14&nbsp;&nbsp;</span>Выводы</a></span></li></ul></li></ul></li><li><span><a href=\"#Обучение-моделей\" data-toc-modified-id=\"Обучение-моделей-3\"><span class=\"toc-item-num\">3&nbsp;&nbsp;</span>Обучение моделей</a></span><ul class=\"toc-item\"><li><span><a href=\"#Подготовка-данных-для-обучения-моделей\" data-toc-modified-id=\"Подготовка-данных-для-обучения-моделей-3.1\"><span class=\"toc-item-num\">3.1&nbsp;&nbsp;</span>Подготовка данных для обучения моделей</a></span><ul class=\"toc-item\"><li><span><a href=\"#Оценка-категориальных-признаков\" data-toc-modified-id=\"Оценка-категориальных-признаков-3.1.1\"><span class=\"toc-item-num\">3.1.1&nbsp;&nbsp;</span>Оценка категориальных признаков</a></span></li><li><span><a href=\"#Подготовка-пайплайна\" data-toc-modified-id=\"Подготовка-пайплайна-3.1.2\"><span class=\"toc-item-num\">3.1.2&nbsp;&nbsp;</span>Подготовка пайплайна</a></span></li><li><span><a href=\"#Разбиение-данных\" data-toc-modified-id=\"Разбиение-данных-3.1.3\"><span class=\"toc-item-num\">3.1.3&nbsp;&nbsp;</span>Разбиение данных</a></span></li></ul></li><li><span><a href=\"#Базовое-решение\" data-toc-modified-id=\"Базовое-решение-3.2\"><span class=\"toc-item-num\">3.2&nbsp;&nbsp;</span>Базовое решение</a></span></li><li><span><a href=\"#Линейная-регрессия\" data-toc-modified-id=\"Линейная-регрессия-3.3\"><span class=\"toc-item-num\">3.3&nbsp;&nbsp;</span>Линейная регрессия</a></span></li><li><span><a href=\"#Линейная-регрессия-Lasso\" data-toc-modified-id=\"Линейная-регрессия-Lasso-3.4\"><span class=\"toc-item-num\">3.4&nbsp;&nbsp;</span>Линейная регрессия Lasso</a></span></li><li><span><a href=\"#Линейная-регрессия-Ridge\" data-toc-modified-id=\"Линейная-регрессия-Ridge-3.5\"><span class=\"toc-item-num\">3.5&nbsp;&nbsp;</span>Линейная регрессия Ridge</a></span></li><li><span><a href=\"#Дерево-решений\" data-toc-modified-id=\"Дерево-решений-3.6\"><span class=\"toc-item-num\">3.6&nbsp;&nbsp;</span>Дерево решений</a></span></li><li><span><a href=\"#Случайный-лес\" data-toc-modified-id=\"Случайный-лес-3.7\"><span class=\"toc-item-num\">3.7&nbsp;&nbsp;</span>Случайный лес</a></span></li><li><span><a href=\"#CatBoostRegressor\" data-toc-modified-id=\"CatBoostRegressor-3.8\"><span class=\"toc-item-num\">3.8&nbsp;&nbsp;</span>CatBoostRegressor</a></span></li><li><span><a href=\"#LGBMRegressor\" data-toc-modified-id=\"LGBMRegressor-3.9\"><span class=\"toc-item-num\">3.9&nbsp;&nbsp;</span>LGBMRegressor</a></span></li></ul></li><li><span><a href=\"#Анализ-моделей\" data-toc-modified-id=\"Анализ-моделей-4\"><span class=\"toc-item-num\">4&nbsp;&nbsp;</span>Анализ моделей</a></span></li><li><span><a href=\"#Чек-лист-проверки\" data-toc-modified-id=\"Чек-лист-проверки-5\"><span class=\"toc-item-num\">5&nbsp;&nbsp;</span>Чек-лист проверки</a></span></li></ul></div>"
   ]
  },
  {
   "cell_type": "markdown",
   "metadata": {},
   "source": [
    "# Определение стоимости автомобилей"
   ]
  },
  {
   "cell_type": "markdown",
   "metadata": {},
   "source": [
    "Сервис по продаже автомобилей с пробегом «Не бит, не крашен» разрабатывает приложение для привлечения новых клиентов. В нём можно быстро узнать рыночную стоимость своего автомобиля. В вашем распоряжении исторические данные: технические характеристики, комплектации и цены автомобилей. Вам нужно построить модель для определения стоимости. \n",
    "\n",
    "Заказчику важны:\n",
    "\n",
    "- качество предсказания;\n",
    "- скорость предсказания;\n",
    "- время обучения."
   ]
  },
  {
   "cell_type": "markdown",
   "metadata": {},
   "source": [
    "<div class=\"alert alert-success\">\n",
    "<h2> Комментарий ревьюера <a class=\"tocSkip\"> </h2>\n",
    "\n",
    "<b>Все отлично!👍:</b> \n",
    "    \n",
    "Вижу твое добавленное описание проекта. Молодец! Я бы посоветовал тебе чуть подробнее раскрыть план своей работы. Это поможет тебе расставлять акценты в выводах."
   ]
  },
  {
   "cell_type": "markdown",
   "metadata": {},
   "source": [
    "**План выполнения работы**\n",
    "\n",
    "Для выполнения работы необходимо выполнить следующие шаги:\n",
    "1. Разведочный анализ данных - изучение, поиск закономерностей, ошибок и выбросов в данных.\n",
    "2. Предобработка данных - устранение выявленных недостатков, подготовка и генерация признаков.\n",
    "3. Подготовка данных для моделей - преобразование, кодирование признаков и разбиение выборки на обучающую и валидационную.\n",
    "4. Построение и улучшение моделей.\n",
    "5. Сравнительный анализ моделей."
   ]
  },
  {
   "cell_type": "markdown",
   "metadata": {},
   "source": [
    "<div class=\"alert alert-info\">\n",
    "<b>Комментарий студента:</b>\n",
    "<br>Добавил план выполнения работы.\n",
    "</div>"
   ]
  },
  {
   "cell_type": "markdown",
   "metadata": {},
   "source": [
    "<div class=\"alert alert-success\">\n",
    "<h2> Комментарий ревьюера v.2 <a class=\"tocSkip\"> </h2>\n",
    "\n",
    "<b>Все отлично!👍:</b> Вижу, хорошо."
   ]
  },
  {
   "cell_type": "markdown",
   "metadata": {},
   "source": [
    "## Подготовка к выполнению проекта"
   ]
  },
  {
   "cell_type": "markdown",
   "metadata": {},
   "source": [
    "### Импорт библиотек"
   ]
  },
  {
   "cell_type": "code",
   "execution_count": 1,
   "metadata": {},
   "outputs": [],
   "source": [
    "import numpy as np\n",
    "import pandas as pd\n",
    "\n",
    "from matplotlib import pyplot as plt\n",
    "import seaborn as sns\n",
    "\n",
    "import re\n",
    "\n",
    "from sklearn.model_selection import train_test_split\n",
    "\n",
    "from sklearn.base import BaseEstimator\n",
    "from sklearn.base import TransformerMixin\n",
    "\n",
    "from sklearn.preprocessing import StandardScaler\n",
    "from sklearn.preprocessing import OneHotEncoder\n",
    "from sklearn.preprocessing import OrdinalEncoder\n",
    "\n",
    "from sklearn.pipeline import Pipeline\n",
    "from sklearn.pipeline import FeatureUnion\n",
    "from sklearn.pipeline import make_pipeline\n",
    "\n",
    "from sklearn.dummy import DummyRegressor\n",
    "\n",
    "from sklearn.linear_model import LinearRegression\n",
    "from sklearn.linear_model import Lasso\n",
    "from sklearn.linear_model import LassoCV\n",
    "from sklearn.linear_model import Ridge\n",
    "from sklearn.linear_model import RidgeCV\n",
    "\n",
    "from sklearn.model_selection import GridSearchCV\n",
    "\n",
    "from sklearn.tree import DecisionTreeRegressor\n",
    "\n",
    "from sklearn.ensemble import RandomForestRegressor\n",
    "\n",
    "from catboost import CatBoostRegressor\n",
    "\n",
    "from lightgbm import LGBMRegressor\n",
    "\n",
    "from sklearn.metrics import mean_squared_error\n",
    "from sklearn.metrics import make_scorer"
   ]
  },
  {
   "cell_type": "markdown",
   "metadata": {},
   "source": [
    "### Глобальные настройки проекта"
   ]
  },
  {
   "cell_type": "code",
   "execution_count": 2,
   "metadata": {},
   "outputs": [],
   "source": [
    "GLOBAL__RANDOM_STATE = 0"
   ]
  },
  {
   "cell_type": "markdown",
   "metadata": {},
   "source": [
    "### Импорт данных"
   ]
  },
  {
   "cell_type": "code",
   "execution_count": 3,
   "metadata": {},
   "outputs": [],
   "source": [
    "PATH_DATA_AUTOS = r'/datasets/autos.csv'"
   ]
  },
  {
   "cell_type": "markdown",
   "metadata": {},
   "source": [
    "### Описание данных"
   ]
  },
  {
   "cell_type": "markdown",
   "metadata": {},
   "source": [
    "**Признаки**\n",
    "\n",
    "- DateCrawled — дата скачивания анкеты из базы\n",
    "- VehicleType — тип автомобильного кузова\n",
    "- RegistrationYear — год регистрации автомобиля\n",
    "- Gearbox — тип коробки передач\n",
    "- Power — мощность (л. с.)\n",
    "- Model — модель автомобиля\n",
    "- Kilometer — пробег (км)\n",
    "- RegistrationMonth — месяц регистрации автомобиля\n",
    "- FuelType — тип топлива\n",
    "- Brand — марка автомобиля\n",
    "- NotRepaired — была машина в ремонте или нет\n",
    "- DateCreated — дата создания анкеты\n",
    "- NumberOfPictures — количество фотографий автомобиля\n",
    "- PostalCode — почтовый индекс владельца анкеты (пользователя)\n",
    "- LastSeen — дата последней активности пользователя\n",
    "\n",
    "**Целевой признак**\n",
    "\n",
    "- Price — цена (евро)"
   ]
  },
  {
   "cell_type": "markdown",
   "metadata": {},
   "source": [
    "## Подготовка данных"
   ]
  },
  {
   "cell_type": "markdown",
   "metadata": {},
   "source": [
    "### Загрузка и общий анализ данных"
   ]
  },
  {
   "cell_type": "code",
   "execution_count": 4,
   "metadata": {},
   "outputs": [
    {
     "name": "stdout",
     "output_type": "stream",
     "text": [
      "Файл был успешно загружен.\n"
     ]
    }
   ],
   "source": [
    "# Загрузка данных.\n",
    "try:\n",
    "    df_autos = pd.read_csv(PATH_DATA_AUTOS)\n",
    "    print(f'Файл был успешно загружен.')\n",
    "except FileNotFoundError:\n",
    "    print(f'Не удалось обнаружить файл по указанному адресу:\\t{PATH_DATA_AUTOS}')"
   ]
  },
  {
   "cell_type": "markdown",
   "metadata": {},
   "source": [
    "<div class=\"alert alert-warning\">\n",
    "    <h2> Комментарий ревьюера <a class=\"tocSkip\"> </h2>\n",
    "    \n",
    "<b>Некоторые замечания и рекомендации💡:</b> \n",
    "        \n",
    "Для подгрузки данных рекомендую использовать конструкцию `try-except`, она поможет избежать потенциальных ошибок при загрузке данных, связанных, например, с некорректным указанием путей.\n",
    "        \n",
    "Подробнее о конструкции по ссылке:\n",
    "        \n",
    "https://pythonworld.ru/tipy-dannyx-v-python/isklyucheniya-v-python-konstrukciya-try-except-dlya-obrabotki-isklyuchenij.html"
   ]
  },
  {
   "cell_type": "markdown",
   "metadata": {},
   "source": [
    "<div class=\"alert alert-info\">\n",
    "<b>Комментарий студента:</b>\n",
    "<br>Добавил обработку ошибок и соответствующие сообщения.\n",
    "</div>"
   ]
  },
  {
   "cell_type": "markdown",
   "metadata": {},
   "source": [
    "<div class=\"alert alert-success\">\n",
    "<h2> Комментарий ревьюера v.2 <a class=\"tocSkip\"> </h2>\n",
    "\n",
    "<b>Все отлично!👍:</b> Молодец!"
   ]
  },
  {
   "cell_type": "code",
   "execution_count": 5,
   "metadata": {},
   "outputs": [
    {
     "data": {
      "text/html": [
       "<div>\n",
       "<style scoped>\n",
       "    .dataframe tbody tr th:only-of-type {\n",
       "        vertical-align: middle;\n",
       "    }\n",
       "\n",
       "    .dataframe tbody tr th {\n",
       "        vertical-align: top;\n",
       "    }\n",
       "\n",
       "    .dataframe thead th {\n",
       "        text-align: right;\n",
       "    }\n",
       "</style>\n",
       "<table border=\"1\" class=\"dataframe\">\n",
       "  <thead>\n",
       "    <tr style=\"text-align: right;\">\n",
       "      <th></th>\n",
       "      <th>DateCrawled</th>\n",
       "      <th>Price</th>\n",
       "      <th>VehicleType</th>\n",
       "      <th>RegistrationYear</th>\n",
       "      <th>Gearbox</th>\n",
       "      <th>Power</th>\n",
       "      <th>Model</th>\n",
       "      <th>Kilometer</th>\n",
       "      <th>RegistrationMonth</th>\n",
       "      <th>FuelType</th>\n",
       "      <th>Brand</th>\n",
       "      <th>NotRepaired</th>\n",
       "      <th>DateCreated</th>\n",
       "      <th>NumberOfPictures</th>\n",
       "      <th>PostalCode</th>\n",
       "      <th>LastSeen</th>\n",
       "    </tr>\n",
       "  </thead>\n",
       "  <tbody>\n",
       "    <tr>\n",
       "      <th>0</th>\n",
       "      <td>2016-03-24 11:52:17</td>\n",
       "      <td>480</td>\n",
       "      <td>NaN</td>\n",
       "      <td>1993</td>\n",
       "      <td>manual</td>\n",
       "      <td>0</td>\n",
       "      <td>golf</td>\n",
       "      <td>150000</td>\n",
       "      <td>0</td>\n",
       "      <td>petrol</td>\n",
       "      <td>volkswagen</td>\n",
       "      <td>NaN</td>\n",
       "      <td>2016-03-24 00:00:00</td>\n",
       "      <td>0</td>\n",
       "      <td>70435</td>\n",
       "      <td>2016-04-07 03:16:57</td>\n",
       "    </tr>\n",
       "    <tr>\n",
       "      <th>1</th>\n",
       "      <td>2016-03-24 10:58:45</td>\n",
       "      <td>18300</td>\n",
       "      <td>coupe</td>\n",
       "      <td>2011</td>\n",
       "      <td>manual</td>\n",
       "      <td>190</td>\n",
       "      <td>NaN</td>\n",
       "      <td>125000</td>\n",
       "      <td>5</td>\n",
       "      <td>gasoline</td>\n",
       "      <td>audi</td>\n",
       "      <td>yes</td>\n",
       "      <td>2016-03-24 00:00:00</td>\n",
       "      <td>0</td>\n",
       "      <td>66954</td>\n",
       "      <td>2016-04-07 01:46:50</td>\n",
       "    </tr>\n",
       "    <tr>\n",
       "      <th>2</th>\n",
       "      <td>2016-03-14 12:52:21</td>\n",
       "      <td>9800</td>\n",
       "      <td>suv</td>\n",
       "      <td>2004</td>\n",
       "      <td>auto</td>\n",
       "      <td>163</td>\n",
       "      <td>grand</td>\n",
       "      <td>125000</td>\n",
       "      <td>8</td>\n",
       "      <td>gasoline</td>\n",
       "      <td>jeep</td>\n",
       "      <td>NaN</td>\n",
       "      <td>2016-03-14 00:00:00</td>\n",
       "      <td>0</td>\n",
       "      <td>90480</td>\n",
       "      <td>2016-04-05 12:47:46</td>\n",
       "    </tr>\n",
       "    <tr>\n",
       "      <th>3</th>\n",
       "      <td>2016-03-17 16:54:04</td>\n",
       "      <td>1500</td>\n",
       "      <td>small</td>\n",
       "      <td>2001</td>\n",
       "      <td>manual</td>\n",
       "      <td>75</td>\n",
       "      <td>golf</td>\n",
       "      <td>150000</td>\n",
       "      <td>6</td>\n",
       "      <td>petrol</td>\n",
       "      <td>volkswagen</td>\n",
       "      <td>no</td>\n",
       "      <td>2016-03-17 00:00:00</td>\n",
       "      <td>0</td>\n",
       "      <td>91074</td>\n",
       "      <td>2016-03-17 17:40:17</td>\n",
       "    </tr>\n",
       "    <tr>\n",
       "      <th>4</th>\n",
       "      <td>2016-03-31 17:25:20</td>\n",
       "      <td>3600</td>\n",
       "      <td>small</td>\n",
       "      <td>2008</td>\n",
       "      <td>manual</td>\n",
       "      <td>69</td>\n",
       "      <td>fabia</td>\n",
       "      <td>90000</td>\n",
       "      <td>7</td>\n",
       "      <td>gasoline</td>\n",
       "      <td>skoda</td>\n",
       "      <td>no</td>\n",
       "      <td>2016-03-31 00:00:00</td>\n",
       "      <td>0</td>\n",
       "      <td>60437</td>\n",
       "      <td>2016-04-06 10:17:21</td>\n",
       "    </tr>\n",
       "  </tbody>\n",
       "</table>\n",
       "</div>"
      ],
      "text/plain": [
       "           DateCrawled  Price VehicleType  RegistrationYear Gearbox  Power  \\\n",
       "0  2016-03-24 11:52:17    480         NaN              1993  manual      0   \n",
       "1  2016-03-24 10:58:45  18300       coupe              2011  manual    190   \n",
       "2  2016-03-14 12:52:21   9800         suv              2004    auto    163   \n",
       "3  2016-03-17 16:54:04   1500       small              2001  manual     75   \n",
       "4  2016-03-31 17:25:20   3600       small              2008  manual     69   \n",
       "\n",
       "   Model  Kilometer  RegistrationMonth  FuelType       Brand NotRepaired  \\\n",
       "0   golf     150000                  0    petrol  volkswagen         NaN   \n",
       "1    NaN     125000                  5  gasoline        audi         yes   \n",
       "2  grand     125000                  8  gasoline        jeep         NaN   \n",
       "3   golf     150000                  6    petrol  volkswagen          no   \n",
       "4  fabia      90000                  7  gasoline       skoda          no   \n",
       "\n",
       "           DateCreated  NumberOfPictures  PostalCode             LastSeen  \n",
       "0  2016-03-24 00:00:00                 0       70435  2016-04-07 03:16:57  \n",
       "1  2016-03-24 00:00:00                 0       66954  2016-04-07 01:46:50  \n",
       "2  2016-03-14 00:00:00                 0       90480  2016-04-05 12:47:46  \n",
       "3  2016-03-17 00:00:00                 0       91074  2016-03-17 17:40:17  \n",
       "4  2016-03-31 00:00:00                 0       60437  2016-04-06 10:17:21  "
      ]
     },
     "execution_count": 5,
     "metadata": {},
     "output_type": "execute_result"
    }
   ],
   "source": [
    "# Проверка: вывод первых пяти строк.\n",
    "df_autos.head()"
   ]
  },
  {
   "cell_type": "code",
   "execution_count": 6,
   "metadata": {},
   "outputs": [
    {
     "data": {
      "text/plain": [
       "(354369, 16)"
      ]
     },
     "execution_count": 6,
     "metadata": {},
     "output_type": "execute_result"
    }
   ],
   "source": [
    "# Размерность исходных данных.\n",
    "df_autos_shape = df_autos.shape\n",
    "\n",
    "df_autos_shape"
   ]
  },
  {
   "cell_type": "code",
   "execution_count": 7,
   "metadata": {},
   "outputs": [
    {
     "data": {
      "text/html": [
       "<div>\n",
       "<style scoped>\n",
       "    .dataframe tbody tr th:only-of-type {\n",
       "        vertical-align: middle;\n",
       "    }\n",
       "\n",
       "    .dataframe tbody tr th {\n",
       "        vertical-align: top;\n",
       "    }\n",
       "\n",
       "    .dataframe thead th {\n",
       "        text-align: right;\n",
       "    }\n",
       "</style>\n",
       "<table border=\"1\" class=\"dataframe\">\n",
       "  <thead>\n",
       "    <tr style=\"text-align: right;\">\n",
       "      <th></th>\n",
       "      <th>count</th>\n",
       "      <th>mean</th>\n",
       "      <th>std</th>\n",
       "      <th>min</th>\n",
       "      <th>25%</th>\n",
       "      <th>50%</th>\n",
       "      <th>75%</th>\n",
       "      <th>max</th>\n",
       "    </tr>\n",
       "  </thead>\n",
       "  <tbody>\n",
       "    <tr>\n",
       "      <th>Price</th>\n",
       "      <td>354369.0</td>\n",
       "      <td>4416.656776</td>\n",
       "      <td>4514.158514</td>\n",
       "      <td>0.0</td>\n",
       "      <td>1050.0</td>\n",
       "      <td>2700.0</td>\n",
       "      <td>6400.0</td>\n",
       "      <td>20000.0</td>\n",
       "    </tr>\n",
       "    <tr>\n",
       "      <th>RegistrationYear</th>\n",
       "      <td>354369.0</td>\n",
       "      <td>2004.234448</td>\n",
       "      <td>90.227958</td>\n",
       "      <td>1000.0</td>\n",
       "      <td>1999.0</td>\n",
       "      <td>2003.0</td>\n",
       "      <td>2008.0</td>\n",
       "      <td>9999.0</td>\n",
       "    </tr>\n",
       "    <tr>\n",
       "      <th>Power</th>\n",
       "      <td>354369.0</td>\n",
       "      <td>110.094337</td>\n",
       "      <td>189.850405</td>\n",
       "      <td>0.0</td>\n",
       "      <td>69.0</td>\n",
       "      <td>105.0</td>\n",
       "      <td>143.0</td>\n",
       "      <td>20000.0</td>\n",
       "    </tr>\n",
       "    <tr>\n",
       "      <th>Kilometer</th>\n",
       "      <td>354369.0</td>\n",
       "      <td>128211.172535</td>\n",
       "      <td>37905.341530</td>\n",
       "      <td>5000.0</td>\n",
       "      <td>125000.0</td>\n",
       "      <td>150000.0</td>\n",
       "      <td>150000.0</td>\n",
       "      <td>150000.0</td>\n",
       "    </tr>\n",
       "    <tr>\n",
       "      <th>RegistrationMonth</th>\n",
       "      <td>354369.0</td>\n",
       "      <td>5.714645</td>\n",
       "      <td>3.726421</td>\n",
       "      <td>0.0</td>\n",
       "      <td>3.0</td>\n",
       "      <td>6.0</td>\n",
       "      <td>9.0</td>\n",
       "      <td>12.0</td>\n",
       "    </tr>\n",
       "    <tr>\n",
       "      <th>NumberOfPictures</th>\n",
       "      <td>354369.0</td>\n",
       "      <td>0.000000</td>\n",
       "      <td>0.000000</td>\n",
       "      <td>0.0</td>\n",
       "      <td>0.0</td>\n",
       "      <td>0.0</td>\n",
       "      <td>0.0</td>\n",
       "      <td>0.0</td>\n",
       "    </tr>\n",
       "    <tr>\n",
       "      <th>PostalCode</th>\n",
       "      <td>354369.0</td>\n",
       "      <td>50508.689087</td>\n",
       "      <td>25783.096248</td>\n",
       "      <td>1067.0</td>\n",
       "      <td>30165.0</td>\n",
       "      <td>49413.0</td>\n",
       "      <td>71083.0</td>\n",
       "      <td>99998.0</td>\n",
       "    </tr>\n",
       "  </tbody>\n",
       "</table>\n",
       "</div>"
      ],
      "text/plain": [
       "                      count           mean           std     min       25%  \\\n",
       "Price              354369.0    4416.656776   4514.158514     0.0    1050.0   \n",
       "RegistrationYear   354369.0    2004.234448     90.227958  1000.0    1999.0   \n",
       "Power              354369.0     110.094337    189.850405     0.0      69.0   \n",
       "Kilometer          354369.0  128211.172535  37905.341530  5000.0  125000.0   \n",
       "RegistrationMonth  354369.0       5.714645      3.726421     0.0       3.0   \n",
       "NumberOfPictures   354369.0       0.000000      0.000000     0.0       0.0   \n",
       "PostalCode         354369.0   50508.689087  25783.096248  1067.0   30165.0   \n",
       "\n",
       "                        50%       75%       max  \n",
       "Price                2700.0    6400.0   20000.0  \n",
       "RegistrationYear     2003.0    2008.0    9999.0  \n",
       "Power                 105.0     143.0   20000.0  \n",
       "Kilometer          150000.0  150000.0  150000.0  \n",
       "RegistrationMonth       6.0       9.0      12.0  \n",
       "NumberOfPictures        0.0       0.0       0.0  \n",
       "PostalCode          49413.0   71083.0   99998.0  "
      ]
     },
     "execution_count": 7,
     "metadata": {},
     "output_type": "execute_result"
    }
   ],
   "source": [
    "# Вывод основных статистик данных.\n",
    "df_autos.describe().T"
   ]
  },
  {
   "cell_type": "code",
   "execution_count": 8,
   "metadata": {},
   "outputs": [
    {
     "name": "stdout",
     "output_type": "stream",
     "text": [
      "<class 'pandas.core.frame.DataFrame'>\n",
      "RangeIndex: 354369 entries, 0 to 354368\n",
      "Data columns (total 16 columns):\n",
      " #   Column             Non-Null Count   Dtype \n",
      "---  ------             --------------   ----- \n",
      " 0   DateCrawled        354369 non-null  object\n",
      " 1   Price              354369 non-null  int64 \n",
      " 2   VehicleType        316879 non-null  object\n",
      " 3   RegistrationYear   354369 non-null  int64 \n",
      " 4   Gearbox            334536 non-null  object\n",
      " 5   Power              354369 non-null  int64 \n",
      " 6   Model              334664 non-null  object\n",
      " 7   Kilometer          354369 non-null  int64 \n",
      " 8   RegistrationMonth  354369 non-null  int64 \n",
      " 9   FuelType           321474 non-null  object\n",
      " 10  Brand              354369 non-null  object\n",
      " 11  NotRepaired        283215 non-null  object\n",
      " 12  DateCreated        354369 non-null  object\n",
      " 13  NumberOfPictures   354369 non-null  int64 \n",
      " 14  PostalCode         354369 non-null  int64 \n",
      " 15  LastSeen           354369 non-null  object\n",
      "dtypes: int64(7), object(9)\n",
      "memory usage: 43.3+ MB\n"
     ]
    }
   ],
   "source": [
    "# Вывод основной информации о данных.\n",
    "df_autos.info()"
   ]
  },
  {
   "cell_type": "code",
   "execution_count": 9,
   "metadata": {},
   "outputs": [
    {
     "data": {
      "text/plain": [
       "NotRepaired          20.08%\n",
       "VehicleType          10.58%\n",
       "FuelType              9.28%\n",
       "Gearbox               5.60%\n",
       "Model                 5.56%\n",
       "DateCrawled           0.00%\n",
       "Price                 0.00%\n",
       "RegistrationYear      0.00%\n",
       "Power                 0.00%\n",
       "Kilometer             0.00%\n",
       "RegistrationMonth     0.00%\n",
       "Brand                 0.00%\n",
       "DateCreated           0.00%\n",
       "NumberOfPictures      0.00%\n",
       "PostalCode            0.00%\n",
       "LastSeen              0.00%\n",
       "dtype: object"
      ]
     },
     "execution_count": 9,
     "metadata": {},
     "output_type": "execute_result"
    }
   ],
   "source": [
    "# Вывод долей пропусков в признаках.\n",
    "df_autos.isna().mean().sort_values(ascending=False).apply(lambda x: f'{x:.2%}')"
   ]
  },
  {
   "cell_type": "markdown",
   "metadata": {},
   "source": [
    "#### Анализ признака \"Price\""
   ]
  },
  {
   "cell_type": "code",
   "execution_count": 10,
   "metadata": {},
   "outputs": [
    {
     "data": {
      "image/png": "[encoded data removed]",
      "text/plain": [
       "<Figure size 720x576 with 1 Axes>"
      ]
     },
     "metadata": {
      "needs_background": "light"
     },
     "output_type": "display_data"
    }
   ],
   "source": [
    "# Гистограмма признака \"Price\".\n",
    "df_autos['Price'].hist(bins=50, figsize=(10, 8))\n",
    "plt.title('Гистограмма признака \"Price\"', font={'size': 16});"
   ]
  },
  {
   "cell_type": "code",
   "execution_count": 11,
   "metadata": {},
   "outputs": [
    {
     "name": "stdout",
     "output_type": "stream",
     "text": [
      "Доля авто дешевле 0 евро:\t3.04%\n",
      "Доля авто дешевле 100 евро:\t4.05%\n",
      "Доля авто дешевле 200 евро:\t5.49%\n",
      "Доля авто дешевле 300 евро:\t7.31%\n",
      "Доля авто дешевле 400 евро:\t9.16%\n",
      "Доля авто дешевле 500 евро:\t11.77%\n",
      "Доля авто дешевле 600 евро:\t14.15%\n",
      "Доля авто дешевле 700 евро:\t16.46%\n",
      "Доля авто дешевле 800 евро:\t19.03%\n",
      "Доля авто дешевле 900 евро:\t21.26%\n",
      "Доля авто дешевле 1000 евро:\t24.83%\n"
     ]
    }
   ],
   "source": [
    "# Анализ перцентилей признака.\n",
    "for i in range(11):\n",
    "    print(f'Доля авто дешевле {i * 100} евро:\\t{df_autos[df_autos[\"Price\"] <= i * 100].shape[0] / df_autos.shape[0]:.2%}')"
   ]
  },
  {
   "cell_type": "code",
   "execution_count": 12,
   "metadata": {},
   "outputs": [
    {
     "data": {
      "text/html": [
       "<div>\n",
       "<style scoped>\n",
       "    .dataframe tbody tr th:only-of-type {\n",
       "        vertical-align: middle;\n",
       "    }\n",
       "\n",
       "    .dataframe tbody tr th {\n",
       "        vertical-align: top;\n",
       "    }\n",
       "\n",
       "    .dataframe thead th {\n",
       "        text-align: right;\n",
       "    }\n",
       "</style>\n",
       "<table border=\"1\" class=\"dataframe\">\n",
       "  <thead>\n",
       "    <tr style=\"text-align: right;\">\n",
       "      <th></th>\n",
       "      <th>DateCrawled</th>\n",
       "      <th>Price</th>\n",
       "      <th>VehicleType</th>\n",
       "      <th>RegistrationYear</th>\n",
       "      <th>Gearbox</th>\n",
       "      <th>Power</th>\n",
       "      <th>Model</th>\n",
       "      <th>Kilometer</th>\n",
       "      <th>RegistrationMonth</th>\n",
       "      <th>FuelType</th>\n",
       "      <th>Brand</th>\n",
       "      <th>NotRepaired</th>\n",
       "      <th>DateCreated</th>\n",
       "      <th>NumberOfPictures</th>\n",
       "      <th>PostalCode</th>\n",
       "      <th>LastSeen</th>\n",
       "    </tr>\n",
       "  </thead>\n",
       "  <tbody>\n",
       "    <tr>\n",
       "      <th>7</th>\n",
       "      <td>2016-03-21 18:54:38</td>\n",
       "      <td>0</td>\n",
       "      <td>sedan</td>\n",
       "      <td>1980</td>\n",
       "      <td>manual</td>\n",
       "      <td>50</td>\n",
       "      <td>other</td>\n",
       "      <td>40000</td>\n",
       "      <td>7</td>\n",
       "      <td>petrol</td>\n",
       "      <td>volkswagen</td>\n",
       "      <td>no</td>\n",
       "      <td>2016-03-21 00:00:00</td>\n",
       "      <td>0</td>\n",
       "      <td>19348</td>\n",
       "      <td>2016-03-25 16:47:58</td>\n",
       "    </tr>\n",
       "    <tr>\n",
       "      <th>40</th>\n",
       "      <td>2016-03-26 22:06:17</td>\n",
       "      <td>0</td>\n",
       "      <td>NaN</td>\n",
       "      <td>1990</td>\n",
       "      <td>NaN</td>\n",
       "      <td>0</td>\n",
       "      <td>corsa</td>\n",
       "      <td>150000</td>\n",
       "      <td>1</td>\n",
       "      <td>petrol</td>\n",
       "      <td>opel</td>\n",
       "      <td>NaN</td>\n",
       "      <td>2016-03-26 00:00:00</td>\n",
       "      <td>0</td>\n",
       "      <td>56412</td>\n",
       "      <td>2016-03-27 17:43:34</td>\n",
       "    </tr>\n",
       "    <tr>\n",
       "      <th>59</th>\n",
       "      <td>2016-03-29 15:48:15</td>\n",
       "      <td>1</td>\n",
       "      <td>suv</td>\n",
       "      <td>1994</td>\n",
       "      <td>manual</td>\n",
       "      <td>286</td>\n",
       "      <td>NaN</td>\n",
       "      <td>150000</td>\n",
       "      <td>11</td>\n",
       "      <td>NaN</td>\n",
       "      <td>sonstige_autos</td>\n",
       "      <td>NaN</td>\n",
       "      <td>2016-03-29 00:00:00</td>\n",
       "      <td>0</td>\n",
       "      <td>53721</td>\n",
       "      <td>2016-04-06 01:44:38</td>\n",
       "    </tr>\n",
       "    <tr>\n",
       "      <th>89</th>\n",
       "      <td>2016-03-28 09:37:01</td>\n",
       "      <td>1</td>\n",
       "      <td>sedan</td>\n",
       "      <td>1995</td>\n",
       "      <td>manual</td>\n",
       "      <td>113</td>\n",
       "      <td>e_klasse</td>\n",
       "      <td>150000</td>\n",
       "      <td>4</td>\n",
       "      <td>gasoline</td>\n",
       "      <td>mercedes_benz</td>\n",
       "      <td>no</td>\n",
       "      <td>2016-03-28 00:00:00</td>\n",
       "      <td>0</td>\n",
       "      <td>40589</td>\n",
       "      <td>2016-04-06 12:15:54</td>\n",
       "    </tr>\n",
       "    <tr>\n",
       "      <th>111</th>\n",
       "      <td>2016-03-19 18:40:12</td>\n",
       "      <td>0</td>\n",
       "      <td>NaN</td>\n",
       "      <td>2017</td>\n",
       "      <td>manual</td>\n",
       "      <td>0</td>\n",
       "      <td>golf</td>\n",
       "      <td>5000</td>\n",
       "      <td>12</td>\n",
       "      <td>petrol</td>\n",
       "      <td>volkswagen</td>\n",
       "      <td>NaN</td>\n",
       "      <td>2016-03-19 00:00:00</td>\n",
       "      <td>0</td>\n",
       "      <td>21698</td>\n",
       "      <td>2016-04-01 08:47:05</td>\n",
       "    </tr>\n",
       "  </tbody>\n",
       "</table>\n",
       "</div>"
      ],
      "text/plain": [
       "             DateCrawled  Price VehicleType  RegistrationYear Gearbox  Power  \\\n",
       "7    2016-03-21 18:54:38      0       sedan              1980  manual     50   \n",
       "40   2016-03-26 22:06:17      0         NaN              1990     NaN      0   \n",
       "59   2016-03-29 15:48:15      1         suv              1994  manual    286   \n",
       "89   2016-03-28 09:37:01      1       sedan              1995  manual    113   \n",
       "111  2016-03-19 18:40:12      0         NaN              2017  manual      0   \n",
       "\n",
       "        Model  Kilometer  RegistrationMonth  FuelType           Brand  \\\n",
       "7       other      40000                  7    petrol      volkswagen   \n",
       "40      corsa     150000                  1    petrol            opel   \n",
       "59        NaN     150000                 11       NaN  sonstige_autos   \n",
       "89   e_klasse     150000                  4  gasoline   mercedes_benz   \n",
       "111      golf       5000                 12    petrol      volkswagen   \n",
       "\n",
       "    NotRepaired          DateCreated  NumberOfPictures  PostalCode  \\\n",
       "7            no  2016-03-21 00:00:00                 0       19348   \n",
       "40          NaN  2016-03-26 00:00:00                 0       56412   \n",
       "59          NaN  2016-03-29 00:00:00                 0       53721   \n",
       "89           no  2016-03-28 00:00:00                 0       40589   \n",
       "111         NaN  2016-03-19 00:00:00                 0       21698   \n",
       "\n",
       "                LastSeen  \n",
       "7    2016-03-25 16:47:58  \n",
       "40   2016-03-27 17:43:34  \n",
       "59   2016-04-06 01:44:38  \n",
       "89   2016-04-06 12:15:54  \n",
       "111  2016-04-01 08:47:05  "
      ]
     },
     "execution_count": 12,
     "metadata": {},
     "output_type": "execute_result"
    }
   ],
   "source": [
    "df_autos[df_autos['Price'] <= 100].head()"
   ]
  },
  {
   "cell_type": "markdown",
   "metadata": {},
   "source": [
    "#### Анализ признака \"RegistrationYear\""
   ]
  },
  {
   "cell_type": "code",
   "execution_count": 13,
   "metadata": {},
   "outputs": [
    {
     "data": {
      "image/png": "[encoded data removed]",
      "text/plain": [
       "<Figure size 1080x72 with 1 Axes>"
      ]
     },
     "metadata": {
      "needs_background": "light"
     },
     "output_type": "display_data"
    }
   ],
   "source": [
    "# Диаграмма размаха признака \"RegistrationYear\".\n",
    "plt.figure(figsize=(15, 1))\n",
    "df_autos[['RegistrationYear']].boxplot(vert=False)\n",
    "plt.title('Диаграмма размаха признака \"RegistrationYear\"', font={'size': 16});"
   ]
  },
  {
   "cell_type": "code",
   "execution_count": 14,
   "metadata": {},
   "outputs": [
    {
     "name": "stdout",
     "output_type": "stream",
     "text": [
      "Нижння граница диаграммы размаха:\t1990\n",
      "Верхняя граница диаграммы размаха:\t2017\n"
     ]
    }
   ],
   "source": [
    "# Границы диаграммы размаха признака \"RegistrationYear\".\n",
    "Q1_RegistrationYear = int(df_autos['RegistrationYear'].quantile(0.25))\n",
    "Q3_RegistrationYear = int(df_autos['RegistrationYear'].quantile(0.75))\n",
    "IQR_RegistrationYear = Q3_RegistrationYear - Q1_RegistrationYear\n",
    "\n",
    "print(\n",
    "    f'Нижння граница диаграммы размаха:\\t{Q1_RegistrationYear - IQR_RegistrationYear}' \\\n",
    "    f'\\nВерхняя граница диаграммы размаха:\\t{Q3_RegistrationYear + IQR_RegistrationYear}'\n",
    ")"
   ]
  },
  {
   "cell_type": "code",
   "execution_count": 15,
   "metadata": {},
   "outputs": [
    {
     "name": "stdout",
     "output_type": "stream",
     "text": [
      "Доля авто до 1990 года регистрации:\t3.52%\n",
      "Доля авто после 2017 года регистрации:\t4.10%\n"
     ]
    }
   ],
   "source": [
    "# Доли выбросов вне диаграммы размаха.\n",
    "print(\n",
    "    f\"Доля авто до {Q1_RegistrationYear - IQR_RegistrationYear} года регистрации:\\t\" \\\n",
    "    f\"{df_autos.query('RegistrationYear <= (@Q1_RegistrationYear - @IQR_RegistrationYear)').shape[0] / df_autos.shape[0]:.2%}\" \\\n",
    "    f\"\\nДоля авто после {Q3_RegistrationYear + IQR_RegistrationYear} года регистрации:\\t\" \\\n",
    "    f\"{df_autos.query('RegistrationYear >= (@Q3_RegistrationYear + @IQR_RegistrationYear)').shape[0] / df_autos.shape[0]:.2%}\" \\\n",
    ")"
   ]
  },
  {
   "cell_type": "markdown",
   "metadata": {},
   "source": [
    "#### Анализ признака \"Power\""
   ]
  },
  {
   "cell_type": "code",
   "execution_count": 16,
   "metadata": {},
   "outputs": [
    {
     "data": {
      "image/png": "[encoded data removed]",
      "text/plain": [
       "<Figure size 1080x72 with 1 Axes>"
      ]
     },
     "metadata": {
      "needs_background": "light"
     },
     "output_type": "display_data"
    }
   ],
   "source": [
    "# Диаграмма размаха признака \"Power\".\n",
    "plt.figure(figsize=(15, 1))\n",
    "df_autos[['Power']].boxplot(vert=False)\n",
    "plt.title('Диаграмма размаха признака \"Power\"', font={'size': 16});"
   ]
  },
  {
   "cell_type": "code",
   "execution_count": 17,
   "metadata": {},
   "outputs": [
    {
     "name": "stdout",
     "output_type": "stream",
     "text": [
      "Нижння граница диаграммы размаха:\t-5\n",
      "Верхняя граница диаграммы размаха:\t217\n"
     ]
    }
   ],
   "source": [
    "# Границы диаграммы размаха признака \"Power\".\n",
    "Q1_Power = int(df_autos['Power'].quantile(0.25))\n",
    "Q3_Power = int(df_autos['Power'].quantile(0.75))\n",
    "IQR_Power = Q3_Power - Q1_Power\n",
    "\n",
    "print(\n",
    "    f'Нижння граница диаграммы размаха:\\t{Q1_Power - IQR_Power}' \\\n",
    "    f'\\nВерхняя граница диаграммы размаха:\\t{Q3_Power + IQR_Power}'\n",
    ")"
   ]
  },
  {
   "cell_type": "code",
   "execution_count": 18,
   "metadata": {
    "scrolled": true
   },
   "outputs": [
    {
     "name": "stdout",
     "output_type": "stream",
     "text": [
      "Доля авто мощностью 0 л.с.:\t\t11.35%\n",
      "Доля авто мощностью более 217 л.с.:\t5.38%\n"
     ]
    }
   ],
   "source": [
    "# Доли выбросов вне диаграммы размаха.\n",
    "print(\n",
    "    f\"Доля авто мощностью {int(0)} л.с.:\\t\\t\" \\\n",
    "    f\"{df_autos.query('Power == 0').shape[0] / df_autos.shape[0]:.2%}\" \\\n",
    "    f\"\\nДоля авто мощностью более {Q3_Power + IQR_Power} л.с.:\\t\" \\\n",
    "    f\"{df_autos.query('Power >= (@Q3_Power + @IQR_Power)').shape[0] / df_autos.shape[0]:.2%}\" \\\n",
    ")"
   ]
  },
  {
   "cell_type": "markdown",
   "metadata": {},
   "source": [
    "#### Анализ признака \"NumberOfPictures\""
   ]
  },
  {
   "cell_type": "code",
   "execution_count": 19,
   "metadata": {},
   "outputs": [
    {
     "data": {
      "text/plain": [
       "0    354369\n",
       "Name: NumberOfPictures, dtype: int64"
      ]
     },
     "execution_count": 19,
     "metadata": {},
     "output_type": "execute_result"
    }
   ],
   "source": [
    "# Вывод уникальных значений и их количеств признака \"NumberOfPictures\".\n",
    "df_autos['NumberOfPictures'].value_counts()"
   ]
  },
  {
   "cell_type": "markdown",
   "metadata": {},
   "source": [
    "#### Анализ признака \"PostalCode\""
   ]
  },
  {
   "cell_type": "code",
   "execution_count": 20,
   "metadata": {},
   "outputs": [
    {
     "data": {
      "text/plain": [
       "8143"
      ]
     },
     "execution_count": 20,
     "metadata": {},
     "output_type": "execute_result"
    }
   ],
   "source": [
    "# Вывод количества уникальных значений признака \"PostalCode\".\n",
    "df_autos['PostalCode'].nunique()"
   ]
  },
  {
   "cell_type": "markdown",
   "metadata": {},
   "source": [
    "#### Выводы"
   ]
  },
  {
   "cell_type": "markdown",
   "metadata": {},
   "source": [
    "В ходе разведочного анализа данных были установлены следующие закономерности:\n",
    "- названия признаков не соответствуют стилю <code>snake_case</code>;\n",
    "- признаки содержат пропуски и выбросы;\n",
    "- признаки <code>DateCrawled</code>, <code>RegistrationYear</code>, <code>RegistrationMonth</code> могут быть использованы для получения возраста автомобиля;\n",
    "- целевой признак цена автомобиля <code>Price</code> содержит аномалии - авто стоимостью менее 100, в том числе 0, евро. Данные объекты следует исключить из выборки, ониче они исказят основные тенденции данных;\n",
    "- тип автомобильного кузова <code>VehicleType</code> содержит пропуски, которые могут быть заполнены значениями других объектов с аналогичными моделью <code>Model</code> и маркой <code>Brand</code> автомобиля;\n",
    "- год регистрации <code>RegistrationYear</code> содержит аномалии, обработать которые можно по аналогичным автомобилям;\n",
    "- тип коробки передач <code>Gearbox</code> содержит аномалии, обработать которые можно по аналогичным автомобилям;\n",
    "- мощность (л. с.) <code>Power</code> содержит выбросы, значения более 600 л.с. требуют обработки;\n",
    "- модель автомобиля <code>Model</code> содержит пропуски, восстановление которых невозможно, поэтому данные необъекты необходимо исключить из дальнейшей обработки;\n",
    "- анализ пробега (км) <code>Kilometer</code> не выявил явного наличия аномалий, однако на основе данного признака можно сгенерировать новые признаки: подлинность пробега можно поставить под сомнение, если авто проезжало менее 5000 км в год;\n",
    "- тип топлива <code>FuelType</code> содержит пропуски, которые можно заполнить на основе аналогичных авто;\n",
    "- модель <code>Model</code> и марка <code>Brand</code> автомобиля могут быть использованы для формирования уникального сочетания, так как модели разных производителей могут совпадать;\n",
    "- признак была машина в ремонте или нет <code>NotRepaired</code> содержит пропуски, которые необходимо вынести в отдельную категорию;\n",
    "- дата создания анкеты <code>DateCreated</code> и дата последней активности пользователя <code>LastSeen</code> могут быть использованы для подсчёта дней существования объявления;\n",
    "- количество фотографий автомобиля <code>NumberOfPictures</code> является константным признаком и не представляет ценности;\n",
    "- почтовый индекс владельца анкеты (пользователя) <code>PostalCode</code> несёт косвенную информацию о месте эксплуатации машины. Однако уникальных значений данного признака слишком много для кодирования, а его информативность не гарантирована (авто может продавать не владелец или авто может эксплуатироваться в другом месте), поэтому данный признак не будет использован в дальнейшем."
   ]
  },
  {
   "cell_type": "markdown",
   "metadata": {},
   "source": [
    "<div class=\"alert alert-success\">\n",
    "<h2> Комментарий ревьюера <a class=\"tocSkip\"> </h2>\n",
    "\n",
    "<b>Все отлично!👍:  </b> \n",
    "    \n",
    "С данными познакомились, первичный аналитический осмотр проведен. Выводы логичны, полученная информация поможет нам в дальнейшем с предобработкой данных. \n",
    "</div>"
   ]
  },
  {
   "cell_type": "markdown",
   "metadata": {},
   "source": [
    "### Предобработка данных"
   ]
  },
  {
   "cell_type": "markdown",
   "metadata": {},
   "source": [
    "#### Приведение названий признаков к стилю \"snake_case\""
   ]
  },
  {
   "cell_type": "code",
   "execution_count": 21,
   "metadata": {},
   "outputs": [
    {
     "data": {
      "text/plain": [
       "{'DateCrawled': 'date_crawled',\n",
       " 'Price': 'price',\n",
       " 'VehicleType': 'vehicle_type',\n",
       " 'RegistrationYear': 'registration_year',\n",
       " 'Gearbox': 'gearbox',\n",
       " 'Power': 'power',\n",
       " 'Model': 'model',\n",
       " 'Kilometer': 'kilometer',\n",
       " 'RegistrationMonth': 'registration_month',\n",
       " 'FuelType': 'fuel_type',\n",
       " 'Brand': 'brand',\n",
       " 'NotRepaired': 'not_repaired',\n",
       " 'DateCreated': 'date_created',\n",
       " 'NumberOfPictures': 'number_of_pictures',\n",
       " 'PostalCode': 'postal_code',\n",
       " 'LastSeen': 'last_seen'}"
      ]
     },
     "execution_count": 21,
     "metadata": {},
     "output_type": "execute_result"
    }
   ],
   "source": [
    "# Функция для приведения \"CamelCase\" к \"snake_case\".\n",
    "def func_to_snake_case(list_columns):\n",
    "    list_columns = [*list_columns]\n",
    "    list_columns_new = list(map(lambda x: re.sub(r'(?<!^)(?=[A-Z])', '_', x).lower(), list_columns))\n",
    "    return dict(zip(list_columns, list_columns_new))\n",
    "\n",
    "\n",
    "# Формирования словаря для переименования признаков.\n",
    "dict_columns = func_to_snake_case(df_autos.columns)\n",
    "\n",
    "# Проверка: вывод словаря.\n",
    "dict_columns"
   ]
  },
  {
   "cell_type": "code",
   "execution_count": 22,
   "metadata": {},
   "outputs": [],
   "source": [
    "# Переименование признаков.\n",
    "df_autos = df_autos.rename(columns=dict_columns)"
   ]
  },
  {
   "cell_type": "code",
   "execution_count": 23,
   "metadata": {
    "scrolled": true
   },
   "outputs": [
    {
     "data": {
      "text/html": [
       "<div>\n",
       "<style scoped>\n",
       "    .dataframe tbody tr th:only-of-type {\n",
       "        vertical-align: middle;\n",
       "    }\n",
       "\n",
       "    .dataframe tbody tr th {\n",
       "        vertical-align: top;\n",
       "    }\n",
       "\n",
       "    .dataframe thead th {\n",
       "        text-align: right;\n",
       "    }\n",
       "</style>\n",
       "<table border=\"1\" class=\"dataframe\">\n",
       "  <thead>\n",
       "    <tr style=\"text-align: right;\">\n",
       "      <th></th>\n",
       "      <th>date_crawled</th>\n",
       "      <th>price</th>\n",
       "      <th>vehicle_type</th>\n",
       "      <th>registration_year</th>\n",
       "      <th>gearbox</th>\n",
       "      <th>power</th>\n",
       "      <th>model</th>\n",
       "      <th>kilometer</th>\n",
       "      <th>registration_month</th>\n",
       "      <th>fuel_type</th>\n",
       "      <th>brand</th>\n",
       "      <th>not_repaired</th>\n",
       "      <th>date_created</th>\n",
       "      <th>number_of_pictures</th>\n",
       "      <th>postal_code</th>\n",
       "      <th>last_seen</th>\n",
       "    </tr>\n",
       "  </thead>\n",
       "  <tbody>\n",
       "    <tr>\n",
       "      <th>0</th>\n",
       "      <td>2016-03-24 11:52:17</td>\n",
       "      <td>480</td>\n",
       "      <td>NaN</td>\n",
       "      <td>1993</td>\n",
       "      <td>manual</td>\n",
       "      <td>0</td>\n",
       "      <td>golf</td>\n",
       "      <td>150000</td>\n",
       "      <td>0</td>\n",
       "      <td>petrol</td>\n",
       "      <td>volkswagen</td>\n",
       "      <td>NaN</td>\n",
       "      <td>2016-03-24 00:00:00</td>\n",
       "      <td>0</td>\n",
       "      <td>70435</td>\n",
       "      <td>2016-04-07 03:16:57</td>\n",
       "    </tr>\n",
       "    <tr>\n",
       "      <th>1</th>\n",
       "      <td>2016-03-24 10:58:45</td>\n",
       "      <td>18300</td>\n",
       "      <td>coupe</td>\n",
       "      <td>2011</td>\n",
       "      <td>manual</td>\n",
       "      <td>190</td>\n",
       "      <td>NaN</td>\n",
       "      <td>125000</td>\n",
       "      <td>5</td>\n",
       "      <td>gasoline</td>\n",
       "      <td>audi</td>\n",
       "      <td>yes</td>\n",
       "      <td>2016-03-24 00:00:00</td>\n",
       "      <td>0</td>\n",
       "      <td>66954</td>\n",
       "      <td>2016-04-07 01:46:50</td>\n",
       "    </tr>\n",
       "  </tbody>\n",
       "</table>\n",
       "</div>"
      ],
      "text/plain": [
       "          date_crawled  price vehicle_type  registration_year gearbox  power  \\\n",
       "0  2016-03-24 11:52:17    480          NaN               1993  manual      0   \n",
       "1  2016-03-24 10:58:45  18300        coupe               2011  manual    190   \n",
       "\n",
       "  model  kilometer  registration_month fuel_type       brand not_repaired  \\\n",
       "0  golf     150000                   0    petrol  volkswagen          NaN   \n",
       "1   NaN     125000                   5  gasoline        audi          yes   \n",
       "\n",
       "          date_created  number_of_pictures  postal_code            last_seen  \n",
       "0  2016-03-24 00:00:00                   0        70435  2016-04-07 03:16:57  \n",
       "1  2016-03-24 00:00:00                   0        66954  2016-04-07 01:46:50  "
      ]
     },
     "execution_count": 23,
     "metadata": {},
     "output_type": "execute_result"
    }
   ],
   "source": [
    "# Проверка: вывод первых двух строк.\n",
    "df_autos.head(2)"
   ]
  },
  {
   "cell_type": "markdown",
   "metadata": {},
   "source": [
    "#### Обработка выбросов признака \"registration_year\""
   ]
  },
  {
   "cell_type": "code",
   "execution_count": 24,
   "metadata": {},
   "outputs": [],
   "source": [
    "# Обработка выбросов.\n",
    "df_autos.loc[df_autos['registration_year'] < 1990, 'registration_year'] = 1990\n",
    "df_autos.loc[df_autos['registration_year'] > 2016, 'registration_year'] = 2016"
   ]
  },
  {
   "cell_type": "code",
   "execution_count": 25,
   "metadata": {
    "scrolled": false
   },
   "outputs": [
    {
     "data": {
      "image/png": "[encoded data removed]",
      "text/plain": [
       "<Figure size 1080x72 with 1 Axes>"
      ]
     },
     "metadata": {
      "needs_background": "light"
     },
     "output_type": "display_data"
    }
   ],
   "source": [
    "# Проверка: диаграмма размаха признака \"registration_year\".\n",
    "plt.figure(figsize=(15, 1))\n",
    "df_autos[['registration_year']].boxplot(vert=False)\n",
    "plt.title('Диаграмма размаха признака \"registration_year\"', font={'size': 16});"
   ]
  },
  {
   "cell_type": "markdown",
   "metadata": {},
   "source": [
    "<div class=\"alert alert-success\">\n",
    "<h2> Комментарий ревьюера <a class=\"tocSkip\"> </h2>\n",
    "\n",
    "<b>Все отлично!👍:</b> \n",
    "        \n",
    "Аномалии обработаны. Желательно было тут удалить их. Советую тебе еще проверить год выгрузки данных и сравнить с верхним диапазоном выбросов."
   ]
  },
  {
   "cell_type": "code",
   "execution_count": 26,
   "metadata": {},
   "outputs": [
    {
     "data": {
      "text/plain": [
       "count    354369.0\n",
       "mean       2016.0\n",
       "std           0.0\n",
       "min        2016.0\n",
       "25%        2016.0\n",
       "50%        2016.0\n",
       "75%        2016.0\n",
       "max        2016.0\n",
       "Name: date_crawled, dtype: float64"
      ]
     },
     "execution_count": 26,
     "metadata": {},
     "output_type": "execute_result"
    }
   ],
   "source": [
    "# Анализ года выгрузки данных.\n",
    "pd.to_datetime(df_autos['date_crawled']).dt.year.describe()"
   ]
  },
  {
   "cell_type": "markdown",
   "metadata": {},
   "source": [
    "Все анкеты были собраны в 2016 году, что не противоречит датам регистрации авто после обработки."
   ]
  },
  {
   "cell_type": "markdown",
   "metadata": {},
   "source": [
    "<div class=\"alert alert-info\">\n",
    "<b>Комментарий студента:</b>\n",
    "<br>Добавил рассмотрение года выгрузки данных.\n",
    "</div>"
   ]
  },
  {
   "cell_type": "markdown",
   "metadata": {},
   "source": [
    "<div class=\"alert alert-success\">\n",
    "<h2> Комментарий ревьюера v.2 <a class=\"tocSkip\"> </h2>\n",
    "\n",
    "<b>Все отлично!👍:</b> Вижу, хорошо."
   ]
  },
  {
   "cell_type": "markdown",
   "metadata": {},
   "source": [
    "#### Расчёт возраста автомобиля в годах"
   ]
  },
  {
   "cell_type": "code",
   "execution_count": 27,
   "metadata": {},
   "outputs": [],
   "source": [
    "# Расчёт возраста.\n",
    "df_autos['car_age_years'] = pd.to_datetime(df_autos['date_crawled']).dt.year - df_autos['registration_year']"
   ]
  },
  {
   "cell_type": "code",
   "execution_count": 28,
   "metadata": {},
   "outputs": [],
   "source": [
    "# Удаление старых признаков.\n",
    "df_autos = df_autos.drop(columns=['date_crawled', 'registration_year', 'registration_month'])"
   ]
  },
  {
   "cell_type": "code",
   "execution_count": 29,
   "metadata": {},
   "outputs": [
    {
     "data": {
      "text/html": [
       "<div>\n",
       "<style scoped>\n",
       "    .dataframe tbody tr th:only-of-type {\n",
       "        vertical-align: middle;\n",
       "    }\n",
       "\n",
       "    .dataframe tbody tr th {\n",
       "        vertical-align: top;\n",
       "    }\n",
       "\n",
       "    .dataframe thead th {\n",
       "        text-align: right;\n",
       "    }\n",
       "</style>\n",
       "<table border=\"1\" class=\"dataframe\">\n",
       "  <thead>\n",
       "    <tr style=\"text-align: right;\">\n",
       "      <th></th>\n",
       "      <th>price</th>\n",
       "      <th>vehicle_type</th>\n",
       "      <th>gearbox</th>\n",
       "      <th>power</th>\n",
       "      <th>model</th>\n",
       "      <th>kilometer</th>\n",
       "      <th>fuel_type</th>\n",
       "      <th>brand</th>\n",
       "      <th>not_repaired</th>\n",
       "      <th>date_created</th>\n",
       "      <th>number_of_pictures</th>\n",
       "      <th>postal_code</th>\n",
       "      <th>last_seen</th>\n",
       "      <th>car_age_years</th>\n",
       "    </tr>\n",
       "  </thead>\n",
       "  <tbody>\n",
       "    <tr>\n",
       "      <th>0</th>\n",
       "      <td>480</td>\n",
       "      <td>NaN</td>\n",
       "      <td>manual</td>\n",
       "      <td>0</td>\n",
       "      <td>golf</td>\n",
       "      <td>150000</td>\n",
       "      <td>petrol</td>\n",
       "      <td>volkswagen</td>\n",
       "      <td>NaN</td>\n",
       "      <td>2016-03-24 00:00:00</td>\n",
       "      <td>0</td>\n",
       "      <td>70435</td>\n",
       "      <td>2016-04-07 03:16:57</td>\n",
       "      <td>23</td>\n",
       "    </tr>\n",
       "    <tr>\n",
       "      <th>1</th>\n",
       "      <td>18300</td>\n",
       "      <td>coupe</td>\n",
       "      <td>manual</td>\n",
       "      <td>190</td>\n",
       "      <td>NaN</td>\n",
       "      <td>125000</td>\n",
       "      <td>gasoline</td>\n",
       "      <td>audi</td>\n",
       "      <td>yes</td>\n",
       "      <td>2016-03-24 00:00:00</td>\n",
       "      <td>0</td>\n",
       "      <td>66954</td>\n",
       "      <td>2016-04-07 01:46:50</td>\n",
       "      <td>5</td>\n",
       "    </tr>\n",
       "  </tbody>\n",
       "</table>\n",
       "</div>"
      ],
      "text/plain": [
       "   price vehicle_type gearbox  power model  kilometer fuel_type       brand  \\\n",
       "0    480          NaN  manual      0  golf     150000    petrol  volkswagen   \n",
       "1  18300        coupe  manual    190   NaN     125000  gasoline        audi   \n",
       "\n",
       "  not_repaired         date_created  number_of_pictures  postal_code  \\\n",
       "0          NaN  2016-03-24 00:00:00                   0        70435   \n",
       "1          yes  2016-03-24 00:00:00                   0        66954   \n",
       "\n",
       "             last_seen  car_age_years  \n",
       "0  2016-04-07 03:16:57             23  \n",
       "1  2016-04-07 01:46:50              5  "
      ]
     },
     "execution_count": 29,
     "metadata": {},
     "output_type": "execute_result"
    }
   ],
   "source": [
    "# Проверка: вывод первых двух строк.\n",
    "df_autos.head(2)"
   ]
  },
  {
   "cell_type": "markdown",
   "metadata": {},
   "source": [
    "#### Расчёт длительности продажи в днях"
   ]
  },
  {
   "cell_type": "code",
   "execution_count": 30,
   "metadata": {},
   "outputs": [],
   "source": [
    "df_autos['sale_days'] = (pd.to_datetime(df_autos['last_seen']) - pd.to_datetime(df_autos['date_created'])).dt.days"
   ]
  },
  {
   "cell_type": "code",
   "execution_count": 31,
   "metadata": {},
   "outputs": [],
   "source": [
    "# Удаление старых признаков.\n",
    "df_autos = df_autos.drop(columns=['date_created', 'last_seen'])"
   ]
  },
  {
   "cell_type": "code",
   "execution_count": 32,
   "metadata": {
    "scrolled": true
   },
   "outputs": [
    {
     "data": {
      "text/html": [
       "<div>\n",
       "<style scoped>\n",
       "    .dataframe tbody tr th:only-of-type {\n",
       "        vertical-align: middle;\n",
       "    }\n",
       "\n",
       "    .dataframe tbody tr th {\n",
       "        vertical-align: top;\n",
       "    }\n",
       "\n",
       "    .dataframe thead th {\n",
       "        text-align: right;\n",
       "    }\n",
       "</style>\n",
       "<table border=\"1\" class=\"dataframe\">\n",
       "  <thead>\n",
       "    <tr style=\"text-align: right;\">\n",
       "      <th></th>\n",
       "      <th>price</th>\n",
       "      <th>vehicle_type</th>\n",
       "      <th>gearbox</th>\n",
       "      <th>power</th>\n",
       "      <th>model</th>\n",
       "      <th>kilometer</th>\n",
       "      <th>fuel_type</th>\n",
       "      <th>brand</th>\n",
       "      <th>not_repaired</th>\n",
       "      <th>number_of_pictures</th>\n",
       "      <th>postal_code</th>\n",
       "      <th>car_age_years</th>\n",
       "      <th>sale_days</th>\n",
       "    </tr>\n",
       "  </thead>\n",
       "  <tbody>\n",
       "    <tr>\n",
       "      <th>0</th>\n",
       "      <td>480</td>\n",
       "      <td>NaN</td>\n",
       "      <td>manual</td>\n",
       "      <td>0</td>\n",
       "      <td>golf</td>\n",
       "      <td>150000</td>\n",
       "      <td>petrol</td>\n",
       "      <td>volkswagen</td>\n",
       "      <td>NaN</td>\n",
       "      <td>0</td>\n",
       "      <td>70435</td>\n",
       "      <td>23</td>\n",
       "      <td>14</td>\n",
       "    </tr>\n",
       "    <tr>\n",
       "      <th>1</th>\n",
       "      <td>18300</td>\n",
       "      <td>coupe</td>\n",
       "      <td>manual</td>\n",
       "      <td>190</td>\n",
       "      <td>NaN</td>\n",
       "      <td>125000</td>\n",
       "      <td>gasoline</td>\n",
       "      <td>audi</td>\n",
       "      <td>yes</td>\n",
       "      <td>0</td>\n",
       "      <td>66954</td>\n",
       "      <td>5</td>\n",
       "      <td>14</td>\n",
       "    </tr>\n",
       "  </tbody>\n",
       "</table>\n",
       "</div>"
      ],
      "text/plain": [
       "   price vehicle_type gearbox  power model  kilometer fuel_type       brand  \\\n",
       "0    480          NaN  manual      0  golf     150000    petrol  volkswagen   \n",
       "1  18300        coupe  manual    190   NaN     125000  gasoline        audi   \n",
       "\n",
       "  not_repaired  number_of_pictures  postal_code  car_age_years  sale_days  \n",
       "0          NaN                   0        70435             23         14  \n",
       "1          yes                   0        66954              5         14  "
      ]
     },
     "execution_count": 32,
     "metadata": {},
     "output_type": "execute_result"
    }
   ],
   "source": [
    "# Проверка: вывод первых двух строк.\n",
    "df_autos.head(2)"
   ]
  },
  {
   "cell_type": "markdown",
   "metadata": {},
   "source": [
    "#### Удаление аномальных объектов признака \"price\""
   ]
  },
  {
   "cell_type": "code",
   "execution_count": 33,
   "metadata": {},
   "outputs": [],
   "source": [
    "# Удаление аномалий.\n",
    "df_autos = df_autos.query('price > 100')"
   ]
  },
  {
   "cell_type": "markdown",
   "metadata": {},
   "source": [
    "<div class=\"alert alert-success\">\n",
    "<h2> Комментарий ревьюера <a class=\"tocSkip\"> </h2>\n",
    "\n",
    "<b>Все отлично!👍:</b> \n",
    "        \n",
    "Согласен с тобой!"
   ]
  },
  {
   "cell_type": "markdown",
   "metadata": {},
   "source": [
    "#### Удаление аномальных объектов признака \"model\""
   ]
  },
  {
   "cell_type": "code",
   "execution_count": 34,
   "metadata": {},
   "outputs": [],
   "source": [
    "# Удаление аномалий.\n",
    "df_autos = df_autos[~df_autos['model'].isna()].copy()"
   ]
  },
  {
   "cell_type": "code",
   "execution_count": 35,
   "metadata": {},
   "outputs": [
    {
     "data": {
      "text/plain": [
       "0"
      ]
     },
     "execution_count": 35,
     "metadata": {},
     "output_type": "execute_result"
    }
   ],
   "source": [
    "# Проверка: количество объектов с ценой менее 100 евро.\n",
    "df_autos[df_autos['model'].isna()].shape[0]"
   ]
  },
  {
   "cell_type": "markdown",
   "metadata": {},
   "source": [
    "#### Создание нового признака \"brand_model\""
   ]
  },
  {
   "cell_type": "code",
   "execution_count": 36,
   "metadata": {},
   "outputs": [],
   "source": [
    "# Создание нового признака \"brand_model\".\n",
    "df_autos['brand_model'] = df_autos['brand'].str.cat(df_autos['model'], sep='__')"
   ]
  },
  {
   "cell_type": "code",
   "execution_count": 37,
   "metadata": {},
   "outputs": [],
   "source": [
    "# Удаление старых признаков.\n",
    "df_autos = df_autos.drop(columns=['brand', 'model'])"
   ]
  },
  {
   "cell_type": "code",
   "execution_count": 38,
   "metadata": {
    "scrolled": true
   },
   "outputs": [
    {
     "data": {
      "text/html": [
       "<div>\n",
       "<style scoped>\n",
       "    .dataframe tbody tr th:only-of-type {\n",
       "        vertical-align: middle;\n",
       "    }\n",
       "\n",
       "    .dataframe tbody tr th {\n",
       "        vertical-align: top;\n",
       "    }\n",
       "\n",
       "    .dataframe thead th {\n",
       "        text-align: right;\n",
       "    }\n",
       "</style>\n",
       "<table border=\"1\" class=\"dataframe\">\n",
       "  <thead>\n",
       "    <tr style=\"text-align: right;\">\n",
       "      <th></th>\n",
       "      <th>price</th>\n",
       "      <th>vehicle_type</th>\n",
       "      <th>gearbox</th>\n",
       "      <th>power</th>\n",
       "      <th>kilometer</th>\n",
       "      <th>fuel_type</th>\n",
       "      <th>not_repaired</th>\n",
       "      <th>number_of_pictures</th>\n",
       "      <th>postal_code</th>\n",
       "      <th>car_age_years</th>\n",
       "      <th>sale_days</th>\n",
       "      <th>brand_model</th>\n",
       "    </tr>\n",
       "  </thead>\n",
       "  <tbody>\n",
       "    <tr>\n",
       "      <th>0</th>\n",
       "      <td>480</td>\n",
       "      <td>NaN</td>\n",
       "      <td>manual</td>\n",
       "      <td>0</td>\n",
       "      <td>150000</td>\n",
       "      <td>petrol</td>\n",
       "      <td>NaN</td>\n",
       "      <td>0</td>\n",
       "      <td>70435</td>\n",
       "      <td>23</td>\n",
       "      <td>14</td>\n",
       "      <td>volkswagen__golf</td>\n",
       "    </tr>\n",
       "    <tr>\n",
       "      <th>2</th>\n",
       "      <td>9800</td>\n",
       "      <td>suv</td>\n",
       "      <td>auto</td>\n",
       "      <td>163</td>\n",
       "      <td>125000</td>\n",
       "      <td>gasoline</td>\n",
       "      <td>NaN</td>\n",
       "      <td>0</td>\n",
       "      <td>90480</td>\n",
       "      <td>12</td>\n",
       "      <td>22</td>\n",
       "      <td>jeep__grand</td>\n",
       "    </tr>\n",
       "  </tbody>\n",
       "</table>\n",
       "</div>"
      ],
      "text/plain": [
       "   price vehicle_type gearbox  power  kilometer fuel_type not_repaired  \\\n",
       "0    480          NaN  manual      0     150000    petrol          NaN   \n",
       "2   9800          suv    auto    163     125000  gasoline          NaN   \n",
       "\n",
       "   number_of_pictures  postal_code  car_age_years  sale_days       brand_model  \n",
       "0                   0        70435             23         14  volkswagen__golf  \n",
       "2                   0        90480             12         22       jeep__grand  "
      ]
     },
     "execution_count": 38,
     "metadata": {},
     "output_type": "execute_result"
    }
   ],
   "source": [
    "# Проверка: вывод первых двух строк.\n",
    "df_autos.head(2)"
   ]
  },
  {
   "cell_type": "markdown",
   "metadata": {},
   "source": [
    "#### Удаление неинформативных признаков \"number_of_pictures\", \"postal_code\""
   ]
  },
  {
   "cell_type": "code",
   "execution_count": 39,
   "metadata": {},
   "outputs": [],
   "source": [
    "# Удаление неинформативных признаков.\n",
    "df_autos = df_autos.drop(columns=['number_of_pictures', 'postal_code'])"
   ]
  },
  {
   "cell_type": "code",
   "execution_count": 40,
   "metadata": {
    "scrolled": true
   },
   "outputs": [
    {
     "data": {
      "text/html": [
       "<div>\n",
       "<style scoped>\n",
       "    .dataframe tbody tr th:only-of-type {\n",
       "        vertical-align: middle;\n",
       "    }\n",
       "\n",
       "    .dataframe tbody tr th {\n",
       "        vertical-align: top;\n",
       "    }\n",
       "\n",
       "    .dataframe thead th {\n",
       "        text-align: right;\n",
       "    }\n",
       "</style>\n",
       "<table border=\"1\" class=\"dataframe\">\n",
       "  <thead>\n",
       "    <tr style=\"text-align: right;\">\n",
       "      <th></th>\n",
       "      <th>price</th>\n",
       "      <th>vehicle_type</th>\n",
       "      <th>gearbox</th>\n",
       "      <th>power</th>\n",
       "      <th>kilometer</th>\n",
       "      <th>fuel_type</th>\n",
       "      <th>not_repaired</th>\n",
       "      <th>car_age_years</th>\n",
       "      <th>sale_days</th>\n",
       "      <th>brand_model</th>\n",
       "    </tr>\n",
       "  </thead>\n",
       "  <tbody>\n",
       "    <tr>\n",
       "      <th>0</th>\n",
       "      <td>480</td>\n",
       "      <td>NaN</td>\n",
       "      <td>manual</td>\n",
       "      <td>0</td>\n",
       "      <td>150000</td>\n",
       "      <td>petrol</td>\n",
       "      <td>NaN</td>\n",
       "      <td>23</td>\n",
       "      <td>14</td>\n",
       "      <td>volkswagen__golf</td>\n",
       "    </tr>\n",
       "    <tr>\n",
       "      <th>2</th>\n",
       "      <td>9800</td>\n",
       "      <td>suv</td>\n",
       "      <td>auto</td>\n",
       "      <td>163</td>\n",
       "      <td>125000</td>\n",
       "      <td>gasoline</td>\n",
       "      <td>NaN</td>\n",
       "      <td>12</td>\n",
       "      <td>22</td>\n",
       "      <td>jeep__grand</td>\n",
       "    </tr>\n",
       "  </tbody>\n",
       "</table>\n",
       "</div>"
      ],
      "text/plain": [
       "   price vehicle_type gearbox  power  kilometer fuel_type not_repaired  \\\n",
       "0    480          NaN  manual      0     150000    petrol          NaN   \n",
       "2   9800          suv    auto    163     125000  gasoline          NaN   \n",
       "\n",
       "   car_age_years  sale_days       brand_model  \n",
       "0             23         14  volkswagen__golf  \n",
       "2             12         22       jeep__grand  "
      ]
     },
     "execution_count": 40,
     "metadata": {},
     "output_type": "execute_result"
    }
   ],
   "source": [
    "# Проверка: вывод первых двух строк.\n",
    "df_autos.head(2)"
   ]
  },
  {
   "cell_type": "markdown",
   "metadata": {},
   "source": [
    "<div class=\"alert alert-success\">\n",
    "<h2> Комментарий ревьюера <a class=\"tocSkip\"> </h2>\n",
    "\n",
    "<b>Все отлично!👍:</b> \n",
    "        \n",
    "Молодец, что замечаешь неважные, константный признаки и удаляешь их."
   ]
  },
  {
   "cell_type": "markdown",
   "metadata": {},
   "source": [
    "#### Заполнение пропусков признака \"vehicle_type\""
   ]
  },
  {
   "cell_type": "code",
   "execution_count": 41,
   "metadata": {},
   "outputs": [
    {
     "data": {
      "text/plain": [
       "27067"
      ]
     },
     "execution_count": 41,
     "metadata": {},
     "output_type": "execute_result"
    }
   ],
   "source": [
    "# Количество пропусков признака \"vehicle_type\".\n",
    "df_autos['vehicle_type'].isna().sum()"
   ]
  },
  {
   "cell_type": "code",
   "execution_count": 42,
   "metadata": {
    "scrolled": true
   },
   "outputs": [
    {
     "data": {
      "text/html": [
       "<div>\n",
       "<style scoped>\n",
       "    .dataframe tbody tr th:only-of-type {\n",
       "        vertical-align: middle;\n",
       "    }\n",
       "\n",
       "    .dataframe tbody tr th {\n",
       "        vertical-align: top;\n",
       "    }\n",
       "\n",
       "    .dataframe thead th {\n",
       "        text-align: right;\n",
       "    }\n",
       "</style>\n",
       "<table border=\"1\" class=\"dataframe\">\n",
       "  <thead>\n",
       "    <tr style=\"text-align: right;\">\n",
       "      <th></th>\n",
       "      <th>brand_model</th>\n",
       "      <th>vehicle_type</th>\n",
       "    </tr>\n",
       "  </thead>\n",
       "  <tbody>\n",
       "    <tr>\n",
       "      <th>0</th>\n",
       "      <td>alfa_romeo__145</td>\n",
       "      <td>small</td>\n",
       "    </tr>\n",
       "    <tr>\n",
       "      <th>1</th>\n",
       "      <td>alfa_romeo__147</td>\n",
       "      <td>sedan</td>\n",
       "    </tr>\n",
       "    <tr>\n",
       "      <th>2</th>\n",
       "      <td>alfa_romeo__156</td>\n",
       "      <td>wagon</td>\n",
       "    </tr>\n",
       "    <tr>\n",
       "      <th>3</th>\n",
       "      <td>alfa_romeo__159</td>\n",
       "      <td>wagon</td>\n",
       "    </tr>\n",
       "    <tr>\n",
       "      <th>4</th>\n",
       "      <td>alfa_romeo__other</td>\n",
       "      <td>sedan</td>\n",
       "    </tr>\n",
       "  </tbody>\n",
       "</table>\n",
       "</div>"
      ],
      "text/plain": [
       "         brand_model vehicle_type\n",
       "0    alfa_romeo__145        small\n",
       "1    alfa_romeo__147        sedan\n",
       "2    alfa_romeo__156        wagon\n",
       "3    alfa_romeo__159        wagon\n",
       "4  alfa_romeo__other        sedan"
      ]
     },
     "execution_count": 42,
     "metadata": {},
     "output_type": "execute_result"
    }
   ],
   "source": [
    "# Формирование справочника для заполнения пропусков.\n",
    "brand_model__vehicle_type = df_autos.groupby('brand_model')[['vehicle_type']].agg(pd.Series.mode).reset_index()\n",
    "\n",
    "# Выбор единственного значения, если в моду попали несколько значений.\n",
    "brand_model__vehicle_type['vehicle_type'] = (\n",
    "    brand_model__vehicle_type['vehicle_type'].apply(lambda x: x[0] if type(x) == np.ndarray else x)\n",
    ")\n",
    "\n",
    "# Проверка: вывод первых пяти строк.\n",
    "brand_model__vehicle_type.head()"
   ]
  },
  {
   "cell_type": "code",
   "execution_count": 43,
   "metadata": {},
   "outputs": [
    {
     "data": {
      "text/html": [
       "<div>\n",
       "<style scoped>\n",
       "    .dataframe tbody tr th:only-of-type {\n",
       "        vertical-align: middle;\n",
       "    }\n",
       "\n",
       "    .dataframe tbody tr th {\n",
       "        vertical-align: top;\n",
       "    }\n",
       "\n",
       "    .dataframe thead th {\n",
       "        text-align: right;\n",
       "    }\n",
       "</style>\n",
       "<table border=\"1\" class=\"dataframe\">\n",
       "  <thead>\n",
       "    <tr style=\"text-align: right;\">\n",
       "      <th></th>\n",
       "      <th>price</th>\n",
       "      <th>vehicle_type</th>\n",
       "      <th>gearbox</th>\n",
       "      <th>power</th>\n",
       "      <th>kilometer</th>\n",
       "      <th>fuel_type</th>\n",
       "      <th>not_repaired</th>\n",
       "      <th>car_age_years</th>\n",
       "      <th>sale_days</th>\n",
       "      <th>brand_model</th>\n",
       "    </tr>\n",
       "  </thead>\n",
       "  <tbody>\n",
       "    <tr>\n",
       "      <th>0</th>\n",
       "      <td>480</td>\n",
       "      <td>sedan</td>\n",
       "      <td>manual</td>\n",
       "      <td>0</td>\n",
       "      <td>150000</td>\n",
       "      <td>petrol</td>\n",
       "      <td>NaN</td>\n",
       "      <td>23</td>\n",
       "      <td>14</td>\n",
       "      <td>volkswagen__golf</td>\n",
       "    </tr>\n",
       "    <tr>\n",
       "      <th>1</th>\n",
       "      <td>9800</td>\n",
       "      <td>suv</td>\n",
       "      <td>auto</td>\n",
       "      <td>163</td>\n",
       "      <td>125000</td>\n",
       "      <td>gasoline</td>\n",
       "      <td>NaN</td>\n",
       "      <td>12</td>\n",
       "      <td>22</td>\n",
       "      <td>jeep__grand</td>\n",
       "    </tr>\n",
       "    <tr>\n",
       "      <th>2</th>\n",
       "      <td>1500</td>\n",
       "      <td>small</td>\n",
       "      <td>manual</td>\n",
       "      <td>75</td>\n",
       "      <td>150000</td>\n",
       "      <td>petrol</td>\n",
       "      <td>no</td>\n",
       "      <td>15</td>\n",
       "      <td>0</td>\n",
       "      <td>volkswagen__golf</td>\n",
       "    </tr>\n",
       "    <tr>\n",
       "      <th>3</th>\n",
       "      <td>3600</td>\n",
       "      <td>small</td>\n",
       "      <td>manual</td>\n",
       "      <td>69</td>\n",
       "      <td>90000</td>\n",
       "      <td>gasoline</td>\n",
       "      <td>no</td>\n",
       "      <td>8</td>\n",
       "      <td>6</td>\n",
       "      <td>skoda__fabia</td>\n",
       "    </tr>\n",
       "    <tr>\n",
       "      <th>4</th>\n",
       "      <td>650</td>\n",
       "      <td>sedan</td>\n",
       "      <td>manual</td>\n",
       "      <td>102</td>\n",
       "      <td>150000</td>\n",
       "      <td>petrol</td>\n",
       "      <td>yes</td>\n",
       "      <td>21</td>\n",
       "      <td>2</td>\n",
       "      <td>bmw__3er</td>\n",
       "    </tr>\n",
       "  </tbody>\n",
       "</table>\n",
       "</div>"
      ],
      "text/plain": [
       "   price vehicle_type gearbox  power  kilometer fuel_type not_repaired  \\\n",
       "0    480        sedan  manual      0     150000    petrol          NaN   \n",
       "1   9800          suv    auto    163     125000  gasoline          NaN   \n",
       "2   1500        small  manual     75     150000    petrol           no   \n",
       "3   3600        small  manual     69      90000  gasoline           no   \n",
       "4    650        sedan  manual    102     150000    petrol          yes   \n",
       "\n",
       "   car_age_years  sale_days       brand_model  \n",
       "0             23         14  volkswagen__golf  \n",
       "1             12         22       jeep__grand  \n",
       "2             15          0  volkswagen__golf  \n",
       "3              8          6      skoda__fabia  \n",
       "4             21          2          bmw__3er  "
      ]
     },
     "execution_count": 43,
     "metadata": {},
     "output_type": "execute_result"
    }
   ],
   "source": [
    "# Присоединение справочника для заполнения пропусков.\n",
    "df_autos = df_autos.merge(brand_model__vehicle_type, how='left', on='brand_model', suffixes=('', '__fill'))\n",
    "\n",
    "# Заполнение пропусков.\n",
    "df_autos['vehicle_type'] = df_autos['vehicle_type'].fillna(df_autos['vehicle_type__fill'])\n",
    "\n",
    "# Удаление справочника.\n",
    "df_autos = df_autos.drop(columns=['vehicle_type__fill'])\n",
    "\n",
    "# Проверка: вывод первых пяти строк.\n",
    "df_autos.head()"
   ]
  },
  {
   "cell_type": "code",
   "execution_count": 44,
   "metadata": {
    "scrolled": false
   },
   "outputs": [
    {
     "data": {
      "text/plain": [
       "0"
      ]
     },
     "execution_count": 44,
     "metadata": {},
     "output_type": "execute_result"
    }
   ],
   "source": [
    "# Количество пропусков признака \"vehicle_type\".\n",
    "df_autos['vehicle_type'].isna().sum()"
   ]
  },
  {
   "cell_type": "markdown",
   "metadata": {},
   "source": [
    "<div class=\"alert alert-success\">\n",
    "<h2> Комментарий ревьюера <a class=\"tocSkip\"> </h2>\n",
    "\n",
    "<b>Все отлично!👍:</b> \n",
    "        \n",
    "Допустимый способ заполнения пропусков)"
   ]
  },
  {
   "cell_type": "markdown",
   "metadata": {},
   "source": [
    "#### Заполнение пропусков признака \"fuel_type\""
   ]
  },
  {
   "cell_type": "code",
   "execution_count": 45,
   "metadata": {},
   "outputs": [
    {
     "data": {
      "text/plain": [
       "22531"
      ]
     },
     "execution_count": 45,
     "metadata": {},
     "output_type": "execute_result"
    }
   ],
   "source": [
    "# Количество пропусков признака \"fuel_type\".\n",
    "df_autos['fuel_type'].isna().sum()"
   ]
  },
  {
   "cell_type": "code",
   "execution_count": 46,
   "metadata": {},
   "outputs": [
    {
     "data": {
      "text/html": [
       "<div>\n",
       "<style scoped>\n",
       "    .dataframe tbody tr th:only-of-type {\n",
       "        vertical-align: middle;\n",
       "    }\n",
       "\n",
       "    .dataframe tbody tr th {\n",
       "        vertical-align: top;\n",
       "    }\n",
       "\n",
       "    .dataframe thead th {\n",
       "        text-align: right;\n",
       "    }\n",
       "</style>\n",
       "<table border=\"1\" class=\"dataframe\">\n",
       "  <thead>\n",
       "    <tr style=\"text-align: right;\">\n",
       "      <th></th>\n",
       "      <th>brand_model</th>\n",
       "      <th>fuel_type</th>\n",
       "    </tr>\n",
       "  </thead>\n",
       "  <tbody>\n",
       "    <tr>\n",
       "      <th>0</th>\n",
       "      <td>alfa_romeo__145</td>\n",
       "      <td>petrol</td>\n",
       "    </tr>\n",
       "    <tr>\n",
       "      <th>1</th>\n",
       "      <td>alfa_romeo__147</td>\n",
       "      <td>petrol</td>\n",
       "    </tr>\n",
       "    <tr>\n",
       "      <th>2</th>\n",
       "      <td>alfa_romeo__156</td>\n",
       "      <td>petrol</td>\n",
       "    </tr>\n",
       "    <tr>\n",
       "      <th>3</th>\n",
       "      <td>alfa_romeo__159</td>\n",
       "      <td>gasoline</td>\n",
       "    </tr>\n",
       "    <tr>\n",
       "      <th>4</th>\n",
       "      <td>alfa_romeo__other</td>\n",
       "      <td>petrol</td>\n",
       "    </tr>\n",
       "  </tbody>\n",
       "</table>\n",
       "</div>"
      ],
      "text/plain": [
       "         brand_model fuel_type\n",
       "0    alfa_romeo__145    petrol\n",
       "1    alfa_romeo__147    petrol\n",
       "2    alfa_romeo__156    petrol\n",
       "3    alfa_romeo__159  gasoline\n",
       "4  alfa_romeo__other    petrol"
      ]
     },
     "execution_count": 46,
     "metadata": {},
     "output_type": "execute_result"
    }
   ],
   "source": [
    "# Формирование справочника для заполнения пропусков.\n",
    "brand_model__fuel_type = df_autos.groupby('brand_model')[['fuel_type']].agg(pd.Series.mode).reset_index()\n",
    "\n",
    "# Выбор единственного значения, если в моду попали несколько значений.\n",
    "brand_model__fuel_type['fuel_type'] = (\n",
    "    brand_model__fuel_type['fuel_type'].apply(lambda x: x[0] if type(x) == np.ndarray else x)\n",
    ")\n",
    "\n",
    "# Проверка: вывод первых пяти строк.\n",
    "brand_model__fuel_type.head()"
   ]
  },
  {
   "cell_type": "code",
   "execution_count": 47,
   "metadata": {},
   "outputs": [
    {
     "data": {
      "text/html": [
       "<div>\n",
       "<style scoped>\n",
       "    .dataframe tbody tr th:only-of-type {\n",
       "        vertical-align: middle;\n",
       "    }\n",
       "\n",
       "    .dataframe tbody tr th {\n",
       "        vertical-align: top;\n",
       "    }\n",
       "\n",
       "    .dataframe thead th {\n",
       "        text-align: right;\n",
       "    }\n",
       "</style>\n",
       "<table border=\"1\" class=\"dataframe\">\n",
       "  <thead>\n",
       "    <tr style=\"text-align: right;\">\n",
       "      <th></th>\n",
       "      <th>price</th>\n",
       "      <th>vehicle_type</th>\n",
       "      <th>gearbox</th>\n",
       "      <th>power</th>\n",
       "      <th>kilometer</th>\n",
       "      <th>fuel_type</th>\n",
       "      <th>not_repaired</th>\n",
       "      <th>car_age_years</th>\n",
       "      <th>sale_days</th>\n",
       "      <th>brand_model</th>\n",
       "    </tr>\n",
       "  </thead>\n",
       "  <tbody>\n",
       "    <tr>\n",
       "      <th>0</th>\n",
       "      <td>480</td>\n",
       "      <td>sedan</td>\n",
       "      <td>manual</td>\n",
       "      <td>0</td>\n",
       "      <td>150000</td>\n",
       "      <td>petrol</td>\n",
       "      <td>NaN</td>\n",
       "      <td>23</td>\n",
       "      <td>14</td>\n",
       "      <td>volkswagen__golf</td>\n",
       "    </tr>\n",
       "    <tr>\n",
       "      <th>1</th>\n",
       "      <td>9800</td>\n",
       "      <td>suv</td>\n",
       "      <td>auto</td>\n",
       "      <td>163</td>\n",
       "      <td>125000</td>\n",
       "      <td>gasoline</td>\n",
       "      <td>NaN</td>\n",
       "      <td>12</td>\n",
       "      <td>22</td>\n",
       "      <td>jeep__grand</td>\n",
       "    </tr>\n",
       "    <tr>\n",
       "      <th>2</th>\n",
       "      <td>1500</td>\n",
       "      <td>small</td>\n",
       "      <td>manual</td>\n",
       "      <td>75</td>\n",
       "      <td>150000</td>\n",
       "      <td>petrol</td>\n",
       "      <td>no</td>\n",
       "      <td>15</td>\n",
       "      <td>0</td>\n",
       "      <td>volkswagen__golf</td>\n",
       "    </tr>\n",
       "    <tr>\n",
       "      <th>3</th>\n",
       "      <td>3600</td>\n",
       "      <td>small</td>\n",
       "      <td>manual</td>\n",
       "      <td>69</td>\n",
       "      <td>90000</td>\n",
       "      <td>gasoline</td>\n",
       "      <td>no</td>\n",
       "      <td>8</td>\n",
       "      <td>6</td>\n",
       "      <td>skoda__fabia</td>\n",
       "    </tr>\n",
       "    <tr>\n",
       "      <th>4</th>\n",
       "      <td>650</td>\n",
       "      <td>sedan</td>\n",
       "      <td>manual</td>\n",
       "      <td>102</td>\n",
       "      <td>150000</td>\n",
       "      <td>petrol</td>\n",
       "      <td>yes</td>\n",
       "      <td>21</td>\n",
       "      <td>2</td>\n",
       "      <td>bmw__3er</td>\n",
       "    </tr>\n",
       "  </tbody>\n",
       "</table>\n",
       "</div>"
      ],
      "text/plain": [
       "   price vehicle_type gearbox  power  kilometer fuel_type not_repaired  \\\n",
       "0    480        sedan  manual      0     150000    petrol          NaN   \n",
       "1   9800          suv    auto    163     125000  gasoline          NaN   \n",
       "2   1500        small  manual     75     150000    petrol           no   \n",
       "3   3600        small  manual     69      90000  gasoline           no   \n",
       "4    650        sedan  manual    102     150000    petrol          yes   \n",
       "\n",
       "   car_age_years  sale_days       brand_model  \n",
       "0             23         14  volkswagen__golf  \n",
       "1             12         22       jeep__grand  \n",
       "2             15          0  volkswagen__golf  \n",
       "3              8          6      skoda__fabia  \n",
       "4             21          2          bmw__3er  "
      ]
     },
     "execution_count": 47,
     "metadata": {},
     "output_type": "execute_result"
    }
   ],
   "source": [
    "# Присоединение справочника для заполнения пропусков.\n",
    "df_autos = df_autos.merge(brand_model__fuel_type, how='left', on='brand_model', suffixes=('', '__fill'))\n",
    "\n",
    "# Заполнение пропусков.\n",
    "df_autos['fuel_type'] = df_autos['fuel_type'].fillna(df_autos['fuel_type__fill'])\n",
    "\n",
    "# Удаление справочника.\n",
    "df_autos = df_autos.drop(columns=['fuel_type__fill'])\n",
    "\n",
    "# Проверка: вывод первых пяти строк.\n",
    "df_autos.head()"
   ]
  },
  {
   "cell_type": "code",
   "execution_count": 48,
   "metadata": {
    "scrolled": false
   },
   "outputs": [
    {
     "data": {
      "text/plain": [
       "0"
      ]
     },
     "execution_count": 48,
     "metadata": {},
     "output_type": "execute_result"
    }
   ],
   "source": [
    "# Количество пропусков признака \"vehicle_type\".\n",
    "df_autos['fuel_type'].isna().sum()"
   ]
  },
  {
   "cell_type": "markdown",
   "metadata": {},
   "source": [
    "#### Заполнение пропусков признака \"gearbox\""
   ]
  },
  {
   "cell_type": "code",
   "execution_count": 49,
   "metadata": {},
   "outputs": [
    {
     "data": {
      "text/plain": [
       "13381"
      ]
     },
     "execution_count": 49,
     "metadata": {},
     "output_type": "execute_result"
    }
   ],
   "source": [
    "# Количество пропусков признака \"gearbox\".\n",
    "df_autos['gearbox'].isna().sum()"
   ]
  },
  {
   "cell_type": "code",
   "execution_count": 50,
   "metadata": {
    "scrolled": true
   },
   "outputs": [
    {
     "data": {
      "text/html": [
       "<div>\n",
       "<style scoped>\n",
       "    .dataframe tbody tr th:only-of-type {\n",
       "        vertical-align: middle;\n",
       "    }\n",
       "\n",
       "    .dataframe tbody tr th {\n",
       "        vertical-align: top;\n",
       "    }\n",
       "\n",
       "    .dataframe thead th {\n",
       "        text-align: right;\n",
       "    }\n",
       "</style>\n",
       "<table border=\"1\" class=\"dataframe\">\n",
       "  <thead>\n",
       "    <tr style=\"text-align: right;\">\n",
       "      <th></th>\n",
       "      <th>brand_model</th>\n",
       "      <th>gearbox</th>\n",
       "    </tr>\n",
       "  </thead>\n",
       "  <tbody>\n",
       "    <tr>\n",
       "      <th>0</th>\n",
       "      <td>alfa_romeo__145</td>\n",
       "      <td>manual</td>\n",
       "    </tr>\n",
       "    <tr>\n",
       "      <th>1</th>\n",
       "      <td>alfa_romeo__147</td>\n",
       "      <td>manual</td>\n",
       "    </tr>\n",
       "    <tr>\n",
       "      <th>2</th>\n",
       "      <td>alfa_romeo__156</td>\n",
       "      <td>manual</td>\n",
       "    </tr>\n",
       "    <tr>\n",
       "      <th>3</th>\n",
       "      <td>alfa_romeo__159</td>\n",
       "      <td>manual</td>\n",
       "    </tr>\n",
       "    <tr>\n",
       "      <th>4</th>\n",
       "      <td>alfa_romeo__other</td>\n",
       "      <td>manual</td>\n",
       "    </tr>\n",
       "  </tbody>\n",
       "</table>\n",
       "</div>"
      ],
      "text/plain": [
       "         brand_model gearbox\n",
       "0    alfa_romeo__145  manual\n",
       "1    alfa_romeo__147  manual\n",
       "2    alfa_romeo__156  manual\n",
       "3    alfa_romeo__159  manual\n",
       "4  alfa_romeo__other  manual"
      ]
     },
     "execution_count": 50,
     "metadata": {},
     "output_type": "execute_result"
    }
   ],
   "source": [
    "# Формирование справочника для заполнения пропусков.\n",
    "brand_model__gearbox = df_autos.groupby('brand_model')[['gearbox']].agg(pd.Series.mode).reset_index()\n",
    "\n",
    "# Проверка: вывод первых пяти строк.\n",
    "brand_model__gearbox.head()"
   ]
  },
  {
   "cell_type": "code",
   "execution_count": 51,
   "metadata": {},
   "outputs": [
    {
     "data": {
      "text/html": [
       "<div>\n",
       "<style scoped>\n",
       "    .dataframe tbody tr th:only-of-type {\n",
       "        vertical-align: middle;\n",
       "    }\n",
       "\n",
       "    .dataframe tbody tr th {\n",
       "        vertical-align: top;\n",
       "    }\n",
       "\n",
       "    .dataframe thead th {\n",
       "        text-align: right;\n",
       "    }\n",
       "</style>\n",
       "<table border=\"1\" class=\"dataframe\">\n",
       "  <thead>\n",
       "    <tr style=\"text-align: right;\">\n",
       "      <th></th>\n",
       "      <th>price</th>\n",
       "      <th>vehicle_type</th>\n",
       "      <th>gearbox</th>\n",
       "      <th>power</th>\n",
       "      <th>kilometer</th>\n",
       "      <th>fuel_type</th>\n",
       "      <th>not_repaired</th>\n",
       "      <th>car_age_years</th>\n",
       "      <th>sale_days</th>\n",
       "      <th>brand_model</th>\n",
       "    </tr>\n",
       "  </thead>\n",
       "  <tbody>\n",
       "    <tr>\n",
       "      <th>0</th>\n",
       "      <td>480</td>\n",
       "      <td>sedan</td>\n",
       "      <td>manual</td>\n",
       "      <td>0</td>\n",
       "      <td>150000</td>\n",
       "      <td>petrol</td>\n",
       "      <td>NaN</td>\n",
       "      <td>23</td>\n",
       "      <td>14</td>\n",
       "      <td>volkswagen__golf</td>\n",
       "    </tr>\n",
       "    <tr>\n",
       "      <th>1</th>\n",
       "      <td>9800</td>\n",
       "      <td>suv</td>\n",
       "      <td>auto</td>\n",
       "      <td>163</td>\n",
       "      <td>125000</td>\n",
       "      <td>gasoline</td>\n",
       "      <td>NaN</td>\n",
       "      <td>12</td>\n",
       "      <td>22</td>\n",
       "      <td>jeep__grand</td>\n",
       "    </tr>\n",
       "    <tr>\n",
       "      <th>2</th>\n",
       "      <td>1500</td>\n",
       "      <td>small</td>\n",
       "      <td>manual</td>\n",
       "      <td>75</td>\n",
       "      <td>150000</td>\n",
       "      <td>petrol</td>\n",
       "      <td>no</td>\n",
       "      <td>15</td>\n",
       "      <td>0</td>\n",
       "      <td>volkswagen__golf</td>\n",
       "    </tr>\n",
       "    <tr>\n",
       "      <th>3</th>\n",
       "      <td>3600</td>\n",
       "      <td>small</td>\n",
       "      <td>manual</td>\n",
       "      <td>69</td>\n",
       "      <td>90000</td>\n",
       "      <td>gasoline</td>\n",
       "      <td>no</td>\n",
       "      <td>8</td>\n",
       "      <td>6</td>\n",
       "      <td>skoda__fabia</td>\n",
       "    </tr>\n",
       "    <tr>\n",
       "      <th>4</th>\n",
       "      <td>650</td>\n",
       "      <td>sedan</td>\n",
       "      <td>manual</td>\n",
       "      <td>102</td>\n",
       "      <td>150000</td>\n",
       "      <td>petrol</td>\n",
       "      <td>yes</td>\n",
       "      <td>21</td>\n",
       "      <td>2</td>\n",
       "      <td>bmw__3er</td>\n",
       "    </tr>\n",
       "  </tbody>\n",
       "</table>\n",
       "</div>"
      ],
      "text/plain": [
       "   price vehicle_type gearbox  power  kilometer fuel_type not_repaired  \\\n",
       "0    480        sedan  manual      0     150000    petrol          NaN   \n",
       "1   9800          suv    auto    163     125000  gasoline          NaN   \n",
       "2   1500        small  manual     75     150000    petrol           no   \n",
       "3   3600        small  manual     69      90000  gasoline           no   \n",
       "4    650        sedan  manual    102     150000    petrol          yes   \n",
       "\n",
       "   car_age_years  sale_days       brand_model  \n",
       "0             23         14  volkswagen__golf  \n",
       "1             12         22       jeep__grand  \n",
       "2             15          0  volkswagen__golf  \n",
       "3              8          6      skoda__fabia  \n",
       "4             21          2          bmw__3er  "
      ]
     },
     "execution_count": 51,
     "metadata": {},
     "output_type": "execute_result"
    }
   ],
   "source": [
    "# Присоединение справочника для заполнения пропусков.\n",
    "df_autos = df_autos.merge(brand_model__gearbox, how='left', on='brand_model', suffixes=('', '__fill'))\n",
    "\n",
    "# Заполнение пропусков.\n",
    "df_autos['gearbox'] = df_autos['gearbox'].fillna(df_autos['gearbox__fill'])\n",
    "\n",
    "# Удаление справочника.\n",
    "df_autos = df_autos.drop(columns=['gearbox__fill'])\n",
    "\n",
    "# Проверка: вывод первых пяти строк.\n",
    "df_autos.head()"
   ]
  },
  {
   "cell_type": "code",
   "execution_count": 52,
   "metadata": {
    "scrolled": false
   },
   "outputs": [
    {
     "data": {
      "text/plain": [
       "0"
      ]
     },
     "execution_count": 52,
     "metadata": {},
     "output_type": "execute_result"
    }
   ],
   "source": [
    "# Количество пропусков признака \"vehicle_type\".\n",
    "df_autos['gearbox'].isna().sum()"
   ]
  },
  {
   "cell_type": "markdown",
   "metadata": {},
   "source": [
    "#### Заполнение пропусков признака \"not_repaired\""
   ]
  },
  {
   "cell_type": "code",
   "execution_count": 53,
   "metadata": {},
   "outputs": [
    {
     "data": {
      "text/plain": [
       "56766"
      ]
     },
     "execution_count": 53,
     "metadata": {},
     "output_type": "execute_result"
    }
   ],
   "source": [
    "# Количество пропусков признака \"gearbox\".\n",
    "df_autos['not_repaired'].isna().sum()"
   ]
  },
  {
   "cell_type": "code",
   "execution_count": 54,
   "metadata": {},
   "outputs": [],
   "source": [
    "# Заполнение пропусков.\n",
    "df_autos['not_repaired'] = df_autos['not_repaired'].fillna('unknown')"
   ]
  },
  {
   "cell_type": "code",
   "execution_count": 55,
   "metadata": {
    "scrolled": false
   },
   "outputs": [
    {
     "data": {
      "text/plain": [
       "0"
      ]
     },
     "execution_count": 55,
     "metadata": {},
     "output_type": "execute_result"
    }
   ],
   "source": [
    "# Количество пропусков признака \"gearbox\".\n",
    "df_autos['not_repaired'].isna().sum()"
   ]
  },
  {
   "cell_type": "markdown",
   "metadata": {},
   "source": [
    "<div class=\"alert alert-success\">\n",
    "<h2> Комментарий ревьюера <a class=\"tocSkip\"> </h2>\n",
    "\n",
    "<b>Все отлично!👍:</b> \n",
    "        \n",
    "Молодец, что используешь заглушку типа `unknown` и заполняешь ей пропуски."
   ]
  },
  {
   "cell_type": "markdown",
   "metadata": {},
   "source": [
    "#### Обработка выбросов признака \"power\""
   ]
  },
  {
   "cell_type": "code",
   "execution_count": 56,
   "metadata": {},
   "outputs": [
    {
     "data": {
      "image/png": "[encoded data removed]",
      "text/plain": [
       "<Figure size 1080x72 with 1 Axes>"
      ]
     },
     "metadata": {
      "needs_background": "light"
     },
     "output_type": "display_data"
    }
   ],
   "source": [
    "# Проверка: диаграмма размаха признака \"power\".\n",
    "plt.figure(figsize=(15, 1))\n",
    "df_autos[['power']].boxplot(vert=False)\n",
    "plt.xlim(0, 600)\n",
    "plt.title('Диаграмма размаха признака \"power\"', font={'size': 16});"
   ]
  },
  {
   "cell_type": "code",
   "execution_count": 57,
   "metadata": {},
   "outputs": [
    {
     "data": {
      "text/html": [
       "<div>\n",
       "<style scoped>\n",
       "    .dataframe tbody tr th:only-of-type {\n",
       "        vertical-align: middle;\n",
       "    }\n",
       "\n",
       "    .dataframe tbody tr th {\n",
       "        vertical-align: top;\n",
       "    }\n",
       "\n",
       "    .dataframe thead th {\n",
       "        text-align: right;\n",
       "    }\n",
       "</style>\n",
       "<table border=\"1\" class=\"dataframe\">\n",
       "  <thead>\n",
       "    <tr style=\"text-align: right;\">\n",
       "      <th></th>\n",
       "      <th>price</th>\n",
       "      <th>vehicle_type</th>\n",
       "      <th>gearbox</th>\n",
       "      <th>power</th>\n",
       "      <th>kilometer</th>\n",
       "      <th>fuel_type</th>\n",
       "      <th>not_repaired</th>\n",
       "      <th>car_age_years</th>\n",
       "      <th>sale_days</th>\n",
       "      <th>brand_model</th>\n",
       "    </tr>\n",
       "  </thead>\n",
       "  <tbody>\n",
       "    <tr>\n",
       "      <th>1666</th>\n",
       "      <td>3200</td>\n",
       "      <td>small</td>\n",
       "      <td>manual</td>\n",
       "      <td>1398</td>\n",
       "      <td>5000</td>\n",
       "      <td>petrol</td>\n",
       "      <td>no</td>\n",
       "      <td>12</td>\n",
       "      <td>0</td>\n",
       "      <td>toyota__corolla</td>\n",
       "    </tr>\n",
       "    <tr>\n",
       "      <th>3710</th>\n",
       "      <td>3100</td>\n",
       "      <td>sedan</td>\n",
       "      <td>manual</td>\n",
       "      <td>953</td>\n",
       "      <td>150000</td>\n",
       "      <td>gasoline</td>\n",
       "      <td>no</td>\n",
       "      <td>11</td>\n",
       "      <td>4</td>\n",
       "      <td>mitsubishi__colt</td>\n",
       "    </tr>\n",
       "    <tr>\n",
       "      <th>4874</th>\n",
       "      <td>500</td>\n",
       "      <td>wagon</td>\n",
       "      <td>manual</td>\n",
       "      <td>1001</td>\n",
       "      <td>150000</td>\n",
       "      <td>petrol</td>\n",
       "      <td>unknown</td>\n",
       "      <td>17</td>\n",
       "      <td>8</td>\n",
       "      <td>opel__astra</td>\n",
       "    </tr>\n",
       "    <tr>\n",
       "      <th>5764</th>\n",
       "      <td>599</td>\n",
       "      <td>small</td>\n",
       "      <td>manual</td>\n",
       "      <td>603</td>\n",
       "      <td>5000</td>\n",
       "      <td>petrol</td>\n",
       "      <td>yes</td>\n",
       "      <td>14</td>\n",
       "      <td>1</td>\n",
       "      <td>chevrolet__matiz</td>\n",
       "    </tr>\n",
       "    <tr>\n",
       "      <th>5955</th>\n",
       "      <td>3000</td>\n",
       "      <td>small</td>\n",
       "      <td>manual</td>\n",
       "      <td>771</td>\n",
       "      <td>125000</td>\n",
       "      <td>petrol</td>\n",
       "      <td>unknown</td>\n",
       "      <td>7</td>\n",
       "      <td>0</td>\n",
       "      <td>fiat__punto</td>\n",
       "    </tr>\n",
       "  </tbody>\n",
       "</table>\n",
       "</div>"
      ],
      "text/plain": [
       "      price vehicle_type gearbox  power  kilometer fuel_type not_repaired  \\\n",
       "1666   3200        small  manual   1398       5000    petrol           no   \n",
       "3710   3100        sedan  manual    953     150000  gasoline           no   \n",
       "4874    500        wagon  manual   1001     150000    petrol      unknown   \n",
       "5764    599        small  manual    603       5000    petrol          yes   \n",
       "5955   3000        small  manual    771     125000    petrol      unknown   \n",
       "\n",
       "      car_age_years  sale_days       brand_model  \n",
       "1666             12          0   toyota__corolla  \n",
       "3710             11          4  mitsubishi__colt  \n",
       "4874             17          8       opel__astra  \n",
       "5764             14          1  chevrolet__matiz  \n",
       "5955              7          0       fiat__punto  "
      ]
     },
     "execution_count": 57,
     "metadata": {},
     "output_type": "execute_result"
    }
   ],
   "source": [
    "# Вывод первых пяти строк объектов с аномальными значениями признака \"power\".\n",
    "df_autos[df_autos['power'] > 600].head()"
   ]
  },
  {
   "cell_type": "code",
   "execution_count": 58,
   "metadata": {},
   "outputs": [],
   "source": [
    "# Формирование сравнительной таблицы можностей авто с нормальными и аномальными значениями.\n",
    "df_autos_power = pd.merge(left=df_autos[df_autos['power'] <= 600].groupby(by='brand_model')[['power']].mean(),\n",
    "                          right=df_autos[df_autos['power'] > 600].groupby(by='brand_model')[['power']].mean(),\n",
    "                          how='inner',\n",
    "                          left_index=True,\n",
    "                          right_index=True,\n",
    "                          suffixes=['', '_outlier'])"
   ]
  },
  {
   "cell_type": "code",
   "execution_count": 59,
   "metadata": {},
   "outputs": [
    {
     "data": {
      "text/html": [
       "<div>\n",
       "<style scoped>\n",
       "    .dataframe tbody tr th:only-of-type {\n",
       "        vertical-align: middle;\n",
       "    }\n",
       "\n",
       "    .dataframe tbody tr th {\n",
       "        vertical-align: top;\n",
       "    }\n",
       "\n",
       "    .dataframe thead th {\n",
       "        text-align: right;\n",
       "    }\n",
       "</style>\n",
       "<table border=\"1\" class=\"dataframe\">\n",
       "  <thead>\n",
       "    <tr style=\"text-align: right;\">\n",
       "      <th></th>\n",
       "      <th>power</th>\n",
       "      <th>power_outlier</th>\n",
       "    </tr>\n",
       "    <tr>\n",
       "      <th>brand_model</th>\n",
       "      <th></th>\n",
       "      <th></th>\n",
       "    </tr>\n",
       "  </thead>\n",
       "  <tbody>\n",
       "    <tr>\n",
       "      <th>alfa_romeo__147</th>\n",
       "      <td>113.264286</td>\n",
       "      <td>15020.000000</td>\n",
       "    </tr>\n",
       "    <tr>\n",
       "      <th>alfa_romeo__other</th>\n",
       "      <td>139.094567</td>\n",
       "      <td>15033.000000</td>\n",
       "    </tr>\n",
       "    <tr>\n",
       "      <th>audi__80</th>\n",
       "      <td>95.575656</td>\n",
       "      <td>9984.666667</td>\n",
       "    </tr>\n",
       "    <tr>\n",
       "      <th>audi__a3</th>\n",
       "      <td>120.346103</td>\n",
       "      <td>7218.500000</td>\n",
       "    </tr>\n",
       "    <tr>\n",
       "      <th>audi__a4</th>\n",
       "      <td>138.753259</td>\n",
       "      <td>5559.000000</td>\n",
       "    </tr>\n",
       "  </tbody>\n",
       "</table>\n",
       "</div>"
      ],
      "text/plain": [
       "                        power  power_outlier\n",
       "brand_model                                 \n",
       "alfa_romeo__147    113.264286   15020.000000\n",
       "alfa_romeo__other  139.094567   15033.000000\n",
       "audi__80            95.575656    9984.666667\n",
       "audi__a3           120.346103    7218.500000\n",
       "audi__a4           138.753259    5559.000000"
      ]
     },
     "execution_count": 59,
     "metadata": {},
     "output_type": "execute_result"
    }
   ],
   "source": [
    "# Вывод первых пяти строк сравнительной таблицы.\n",
    "df_autos_power.head()"
   ]
  },
  {
   "cell_type": "markdown",
   "metadata": {},
   "source": [
    "Диаграмма размаха показывает, что авто мощностью более 217 лошадиных сил являются аномалиями. Однако это не всегда так, а диаграмма размаха была сформирована таким образом из-за большинства бюджетных авто с небольшой мощностью в выборке.\n",
    "\n",
    "Разбиение выборки по порогу мощности авто 600 лошадиных сил показывает, что для одних и тех же моделей авто встречаются как ожидаемые значения, так и аномальные.\n",
    "\n",
    "Авто мощностью до 600 лошадиных сил действительно встречаются в продаже, это могут люксовые или спортивные автомобили. Авто с большой мощностью либо пренебрежимо редко встречаются, либо являются аномалиями."
   ]
  },
  {
   "cell_type": "code",
   "execution_count": 60,
   "metadata": {},
   "outputs": [],
   "source": [
    "# Обнуление аномальных значений.\n",
    "df_autos.loc[df_autos['power'] == 0, 'power'] = None\n",
    "df_autos.loc[df_autos['power'] > 600, 'power'] = None"
   ]
  },
  {
   "cell_type": "code",
   "execution_count": 61,
   "metadata": {},
   "outputs": [
    {
     "data": {
      "text/plain": [
       "30372"
      ]
     },
     "execution_count": 61,
     "metadata": {},
     "output_type": "execute_result"
    }
   ],
   "source": [
    "# Количество пропусков признака \"power\".\n",
    "df_autos['power'].isna().sum()"
   ]
  },
  {
   "cell_type": "markdown",
   "metadata": {},
   "source": [
    "<div class=\"alert alert-block alert-danger\">\n",
    "<h2> Комментарий ревьюера <a class=\"tocSkip\"></h2>\n",
    "\n",
    "<b>На доработку🤔:</b>\n",
    "\n",
    "Здесь не понятно, на основании чего выбран порог для отсечения аномалий. Прошу тебя еще раз построить ящики с усами для корректного отсечения аномалий по моему примеру: \n",
    "    \n",
    " Код ревьюера:\n",
    "```python\n",
    "sns.boxplot(data['Power'])\n",
    "plt.xlim(0, 600)\n",
    "```    \n",
    "Исправь, пожалуйста.\n",
    "    \n",
    "\n",
    "</div>"
   ]
  },
  {
   "cell_type": "markdown",
   "metadata": {},
   "source": [
    "<div class=\"alert alert-info\">\n",
    "<b>Комментарий студента:</b>\n",
    "<br>Добавил диаграмму размаха, согласно которой авто мощностью более 217 лошадиных сил являются аномальными.\n",
    "<br>В данном случае порог отсечения был выбран мной на основании изучения авто с аномально большими значениями признака. Авто, мощностью до 600 лошадиных сил, действительно встречаются достаточно часто у разных производителей. Анализ авто вне этого порога показал ошибки: значения либо были увеличены на порядок, либо, вероятно, был указан объём двигателя.\n",
    "</div>"
   ]
  },
  {
   "cell_type": "markdown",
   "metadata": {},
   "source": [
    "<div class=\"alert alert-success\">\n",
    "<h2> Комментарий ревьюера v.2 <a class=\"tocSkip\"> </h2>\n",
    "\n",
    "<b>Все отлично!👍:</b> \n",
    "\n",
    "Теперь все понятно! Аргументация логична.    "
   ]
  },
  {
   "cell_type": "code",
   "execution_count": 62,
   "metadata": {},
   "outputs": [],
   "source": [
    "# Заполнение пропусков.\n",
    "df_autos['power'] = df_autos['power'].fillna(\n",
    "    df_autos.groupby('brand_model')['power'].transform('median')\n",
    ")"
   ]
  },
  {
   "cell_type": "code",
   "execution_count": 63,
   "metadata": {},
   "outputs": [
    {
     "data": {
      "text/plain": [
       "1"
      ]
     },
     "execution_count": 63,
     "metadata": {},
     "output_type": "execute_result"
    }
   ],
   "source": [
    "# Количество пропусков признака \"power\".\n",
    "df_autos['power'].isna().sum()"
   ]
  },
  {
   "cell_type": "code",
   "execution_count": 64,
   "metadata": {},
   "outputs": [
    {
     "data": {
      "text/html": [
       "<div>\n",
       "<style scoped>\n",
       "    .dataframe tbody tr th:only-of-type {\n",
       "        vertical-align: middle;\n",
       "    }\n",
       "\n",
       "    .dataframe tbody tr th {\n",
       "        vertical-align: top;\n",
       "    }\n",
       "\n",
       "    .dataframe thead th {\n",
       "        text-align: right;\n",
       "    }\n",
       "</style>\n",
       "<table border=\"1\" class=\"dataframe\">\n",
       "  <thead>\n",
       "    <tr style=\"text-align: right;\">\n",
       "      <th></th>\n",
       "      <th>price</th>\n",
       "      <th>vehicle_type</th>\n",
       "      <th>gearbox</th>\n",
       "      <th>power</th>\n",
       "      <th>kilometer</th>\n",
       "      <th>fuel_type</th>\n",
       "      <th>not_repaired</th>\n",
       "      <th>car_age_years</th>\n",
       "      <th>sale_days</th>\n",
       "      <th>brand_model</th>\n",
       "    </tr>\n",
       "  </thead>\n",
       "  <tbody>\n",
       "    <tr>\n",
       "      <th>213455</th>\n",
       "      <td>3800</td>\n",
       "      <td>wagon</td>\n",
       "      <td>manual</td>\n",
       "      <td>NaN</td>\n",
       "      <td>30000</td>\n",
       "      <td>gasoline</td>\n",
       "      <td>unknown</td>\n",
       "      <td>26</td>\n",
       "      <td>0</td>\n",
       "      <td>land_rover__serie_1</td>\n",
       "    </tr>\n",
       "  </tbody>\n",
       "</table>\n",
       "</div>"
      ],
      "text/plain": [
       "        price vehicle_type gearbox  power  kilometer fuel_type not_repaired  \\\n",
       "213455   3800        wagon  manual    NaN      30000  gasoline      unknown   \n",
       "\n",
       "        car_age_years  sale_days          brand_model  \n",
       "213455             26          0  land_rover__serie_1  "
      ]
     },
     "execution_count": 64,
     "metadata": {},
     "output_type": "execute_result"
    }
   ],
   "source": [
    "# Вывод объектов, для которых не удалось заполнить пропуски.\n",
    "df_autos[df_autos['power'].isna()]"
   ]
  },
  {
   "cell_type": "code",
   "execution_count": 65,
   "metadata": {},
   "outputs": [],
   "source": [
    "# Удаление объектов, для которых не удалось заполнить пропуски.\n",
    "df_autos = df_autos[~df_autos['power'].isna()].copy()"
   ]
  },
  {
   "cell_type": "code",
   "execution_count": 66,
   "metadata": {},
   "outputs": [
    {
     "data": {
      "text/plain": [
       "0"
      ]
     },
     "execution_count": 66,
     "metadata": {},
     "output_type": "execute_result"
    }
   ],
   "source": [
    "# Количество пропусков признака \"power\".\n",
    "df_autos['power'].isna().sum()"
   ]
  },
  {
   "cell_type": "code",
   "execution_count": 67,
   "metadata": {},
   "outputs": [],
   "source": [
    "# Приведение типа данных.\n",
    "df_autos['power'] = df_autos['power'].astype('int')"
   ]
  },
  {
   "cell_type": "code",
   "execution_count": 68,
   "metadata": {},
   "outputs": [
    {
     "data": {
      "text/html": [
       "<div>\n",
       "<style scoped>\n",
       "    .dataframe tbody tr th:only-of-type {\n",
       "        vertical-align: middle;\n",
       "    }\n",
       "\n",
       "    .dataframe tbody tr th {\n",
       "        vertical-align: top;\n",
       "    }\n",
       "\n",
       "    .dataframe thead th {\n",
       "        text-align: right;\n",
       "    }\n",
       "</style>\n",
       "<table border=\"1\" class=\"dataframe\">\n",
       "  <thead>\n",
       "    <tr style=\"text-align: right;\">\n",
       "      <th></th>\n",
       "      <th>price</th>\n",
       "      <th>vehicle_type</th>\n",
       "      <th>gearbox</th>\n",
       "      <th>power</th>\n",
       "      <th>kilometer</th>\n",
       "      <th>fuel_type</th>\n",
       "      <th>not_repaired</th>\n",
       "      <th>car_age_years</th>\n",
       "      <th>sale_days</th>\n",
       "      <th>brand_model</th>\n",
       "    </tr>\n",
       "  </thead>\n",
       "  <tbody>\n",
       "    <tr>\n",
       "      <th>0</th>\n",
       "      <td>480</td>\n",
       "      <td>sedan</td>\n",
       "      <td>manual</td>\n",
       "      <td>101</td>\n",
       "      <td>150000</td>\n",
       "      <td>petrol</td>\n",
       "      <td>unknown</td>\n",
       "      <td>23</td>\n",
       "      <td>14</td>\n",
       "      <td>volkswagen__golf</td>\n",
       "    </tr>\n",
       "    <tr>\n",
       "      <th>1</th>\n",
       "      <td>9800</td>\n",
       "      <td>suv</td>\n",
       "      <td>auto</td>\n",
       "      <td>163</td>\n",
       "      <td>125000</td>\n",
       "      <td>gasoline</td>\n",
       "      <td>unknown</td>\n",
       "      <td>12</td>\n",
       "      <td>22</td>\n",
       "      <td>jeep__grand</td>\n",
       "    </tr>\n",
       "    <tr>\n",
       "      <th>2</th>\n",
       "      <td>1500</td>\n",
       "      <td>small</td>\n",
       "      <td>manual</td>\n",
       "      <td>75</td>\n",
       "      <td>150000</td>\n",
       "      <td>petrol</td>\n",
       "      <td>no</td>\n",
       "      <td>15</td>\n",
       "      <td>0</td>\n",
       "      <td>volkswagen__golf</td>\n",
       "    </tr>\n",
       "    <tr>\n",
       "      <th>3</th>\n",
       "      <td>3600</td>\n",
       "      <td>small</td>\n",
       "      <td>manual</td>\n",
       "      <td>69</td>\n",
       "      <td>90000</td>\n",
       "      <td>gasoline</td>\n",
       "      <td>no</td>\n",
       "      <td>8</td>\n",
       "      <td>6</td>\n",
       "      <td>skoda__fabia</td>\n",
       "    </tr>\n",
       "    <tr>\n",
       "      <th>4</th>\n",
       "      <td>650</td>\n",
       "      <td>sedan</td>\n",
       "      <td>manual</td>\n",
       "      <td>102</td>\n",
       "      <td>150000</td>\n",
       "      <td>petrol</td>\n",
       "      <td>yes</td>\n",
       "      <td>21</td>\n",
       "      <td>2</td>\n",
       "      <td>bmw__3er</td>\n",
       "    </tr>\n",
       "  </tbody>\n",
       "</table>\n",
       "</div>"
      ],
      "text/plain": [
       "   price vehicle_type gearbox  power  kilometer fuel_type not_repaired  \\\n",
       "0    480        sedan  manual    101     150000    petrol      unknown   \n",
       "1   9800          suv    auto    163     125000  gasoline      unknown   \n",
       "2   1500        small  manual     75     150000    petrol           no   \n",
       "3   3600        small  manual     69      90000  gasoline           no   \n",
       "4    650        sedan  manual    102     150000    petrol          yes   \n",
       "\n",
       "   car_age_years  sale_days       brand_model  \n",
       "0             23         14  volkswagen__golf  \n",
       "1             12         22       jeep__grand  \n",
       "2             15          0  volkswagen__golf  \n",
       "3              8          6      skoda__fabia  \n",
       "4             21          2          bmw__3er  "
      ]
     },
     "execution_count": 68,
     "metadata": {},
     "output_type": "execute_result"
    }
   ],
   "source": [
    "# Проверка: вывод первых пяти строк.\n",
    "df_autos.head()"
   ]
  },
  {
   "cell_type": "markdown",
   "metadata": {},
   "source": [
    "#### Выводы"
   ]
  },
  {
   "cell_type": "code",
   "execution_count": 69,
   "metadata": {},
   "outputs": [
    {
     "name": "stdout",
     "output_type": "stream",
     "text": [
      "Сокращение объектов датасета:\t8.81%\n"
     ]
    }
   ],
   "source": [
    "print(f'Сокращение объектов датасета:\\t{(df_autos_shape[0] - df_autos.shape[0]) / df_autos_shape[0]:.2%}')"
   ]
  },
  {
   "cell_type": "markdown",
   "metadata": {},
   "source": [
    "В результате предобработки данных были выполнены следующие шаги:\n",
    "1. Названия признаков были приведены к типу <code>snake_case</code>.\n",
    "2. Были исключены аномальные объекты, обработка которых невозможна.\n",
    "3. Были обработаны выбросы с использованием интерквартильного размаха или при помощи схожих объектов.\n",
    "4. Были обработаны пропуски при помощи схожих объектов.\n",
    "5. Были сгенерированы новые признаки на основе исходных.\n",
    "6. Были удалены неинформативные признаки."
   ]
  },
  {
   "cell_type": "markdown",
   "metadata": {},
   "source": [
    "<div class=\"alert alert-success\">\n",
    "<h2> Комментарий ревьюера <a class=\"tocSkip\"> </h2>\n",
    "\n",
    "<b>Все отлично!👍:</b> \n",
    "    \n",
    "Детальный анализ провели и подготовили данные. Переходим к обучению моделей."
   ]
  },
  {
   "cell_type": "markdown",
   "metadata": {},
   "source": [
    "## Обучение моделей"
   ]
  },
  {
   "cell_type": "markdown",
   "metadata": {},
   "source": [
    "### Подготовка данных для обучения моделей"
   ]
  },
  {
   "cell_type": "markdown",
   "metadata": {},
   "source": [
    "#### Оценка категориальных признаков"
   ]
  },
  {
   "cell_type": "code",
   "execution_count": 70,
   "metadata": {
    "scrolled": true
   },
   "outputs": [
    {
     "data": {
      "text/plain": [
       "296"
      ]
     },
     "execution_count": 70,
     "metadata": {},
     "output_type": "execute_result"
    }
   ],
   "source": [
    "# Вывод количества уникальных значений признака \"brand_model\".\n",
    "df_autos['brand_model'].nunique()"
   ]
  },
  {
   "cell_type": "markdown",
   "metadata": {},
   "source": [
    "~~Признак <code>brand_model</code> является категориальным и обладает большим количеством уникальных значений, что делает его кодирование затруднительным.~~\n",
    "\n",
    "~~Не все модели способны работать с категориальными переменными, поэтому данный признак не будет использован, чтобы объективно сравнить метрики качества разных моделей.~~"
   ]
  },
  {
   "cell_type": "markdown",
   "metadata": {},
   "source": [
    "Признак <code>brand_model</code> является категориальным и обладает большим количеством уникальных значений. Его кодирование приведёт к значительному увеличению датасета."
   ]
  },
  {
   "cell_type": "markdown",
   "metadata": {},
   "source": [
    "<div class=\"alert alert-warning\">\n",
    "    <h2> Комментарий ревьюера <a class=\"tocSkip\"> </h2>\n",
    "    \n",
    "<b>Некоторые замечания и рекомендации💡:</b> \n",
    "        \n",
    "Прежде, чем делать такой вывод, можно было попробовать его закодировать и сравнить метрику качества модели."
   ]
  },
  {
   "cell_type": "markdown",
   "metadata": {},
   "source": [
    "<div class=\"alert alert-info\">\n",
    "<b>Комментарий студента:</b>\n",
    "<br>Провёл несколько экспериментов и решил не удалять данный признак, так как он позитивно сказывается на качестве моделей.\n",
    "</div>"
   ]
  },
  {
   "cell_type": "markdown",
   "metadata": {},
   "source": [
    "<div class=\"alert alert-success\">\n",
    "<h2> Комментарий ревьюера v.2 <a class=\"tocSkip\"> </h2>\n",
    "\n",
    "<b>Все отлично!👍:</b>  Хорошо)    "
   ]
  },
  {
   "cell_type": "code",
   "execution_count": 71,
   "metadata": {
    "scrolled": false
   },
   "outputs": [
    {
     "data": {
      "text/plain": [
       "8"
      ]
     },
     "execution_count": 71,
     "metadata": {},
     "output_type": "execute_result"
    }
   ],
   "source": [
    "# Вывод количества уникальных значений признака \"vehicle_type\".\n",
    "df_autos['vehicle_type'].nunique()"
   ]
  },
  {
   "cell_type": "code",
   "execution_count": 72,
   "metadata": {},
   "outputs": [
    {
     "data": {
      "text/plain": [
       "2"
      ]
     },
     "execution_count": 72,
     "metadata": {},
     "output_type": "execute_result"
    }
   ],
   "source": [
    "# Вывод количества уникальных значений признака \"gearbox\".\n",
    "df_autos['gearbox'].nunique()"
   ]
  },
  {
   "cell_type": "code",
   "execution_count": 73,
   "metadata": {},
   "outputs": [
    {
     "data": {
      "text/plain": [
       "7"
      ]
     },
     "execution_count": 73,
     "metadata": {},
     "output_type": "execute_result"
    }
   ],
   "source": [
    "# Вывод количества уникальных значений признака \"fuel_type\".\n",
    "df_autos['fuel_type'].nunique()"
   ]
  },
  {
   "cell_type": "code",
   "execution_count": 74,
   "metadata": {},
   "outputs": [
    {
     "data": {
      "text/plain": [
       "3"
      ]
     },
     "execution_count": 74,
     "metadata": {},
     "output_type": "execute_result"
    }
   ],
   "source": [
    "# Вывод количества уникальных значений признака \"not_repaired\".\n",
    "df_autos['not_repaired'].nunique()"
   ]
  },
  {
   "cell_type": "markdown",
   "metadata": {},
   "source": [
    "Остальные категориальные признаки не так диверсифецированы и пригодны для кодирования."
   ]
  },
  {
   "cell_type": "markdown",
   "metadata": {},
   "source": [
    "#### Подготовка пайплайна"
   ]
  },
  {
   "cell_type": "markdown",
   "metadata": {},
   "source": [
    "Также реализуем идентичную подготовку данных, чтобы все модели имели одинаковые шансы."
   ]
  },
  {
   "cell_type": "code",
   "execution_count": 75,
   "metadata": {},
   "outputs": [],
   "source": [
    "# Класс для отбора признаков.\n",
    "class ColumnSelector(BaseEstimator, TransformerMixin):\n",
    "    def __init__(self, columns):\n",
    "        self.columns = columns\n",
    "    \n",
    "    def fit(self, X, y=None):\n",
    "        return self\n",
    "    \n",
    "    def transform(self, X, y=None):\n",
    "        return X[self.columns]"
   ]
  },
  {
   "cell_type": "code",
   "execution_count": 76,
   "metadata": {},
   "outputs": [],
   "source": [
    "# Список непрерывных признаков.\n",
    "features_numerical = ['power', 'kilometer', 'car_age_years', 'sale_days']\n",
    "\n",
    "# Список категориальных признаков.\n",
    "# features_categorical = ['vehicle_type', 'gearbox', 'fuel_type', 'not_repaired']\n",
    "features_categorical = ['vehicle_type', 'gearbox', 'fuel_type', 'not_repaired', 'brand_model']\n",
    "\n",
    "# Обработка непрерывных признаков.\n",
    "pipe_numerical = Pipeline([\n",
    "    ('ColumnSelector_numerical', ColumnSelector(features_numerical)),\n",
    "    ('StandardScaler', StandardScaler())\n",
    "])\n",
    "\n",
    "# Обработка категориальных признаков для линейных моделей.\n",
    "pipe_categorical_ohe = Pipeline([\n",
    "    ('ColumnSelector_categorical', ColumnSelector(features_categorical)),\n",
    "#     ('OneHotEncoder', OneHotEncoder(drop='first', handle_unknown='ignore'))\n",
    "    ('OneHotEncoder', OneHotEncoder(handle_unknown='ignore'))\n",
    "])\n",
    "\n",
    "# Пайплайн подготовки признаков для линейных моделей.\n",
    "pipe_processing_ohe = FeatureUnion([\n",
    "    ('pipe_numerical', pipe_numerical),\n",
    "    ('pipe_categorical_ohe', pipe_categorical_ohe)\n",
    "], n_jobs=-1)\n",
    "\n",
    "\n",
    "# Обработка категориальных признаков для моделей деревьев.\n",
    "pipe_categorical_oe = Pipeline([\n",
    "    ('ColumnSelector_categorical', ColumnSelector(features_categorical)),\n",
    "    ('', OrdinalEncoder(handle_unknown='use_encoded_value', unknown_value=-1))\n",
    "])\n",
    "\n",
    "# Пайплайн подготовки признаков для моделей деревьев.\n",
    "pipe_processing_oe = FeatureUnion([\n",
    "    ('pipe_numerical', pipe_numerical),\n",
    "    ('pipe_categorical_oe', pipe_categorical_oe)\n",
    "], n_jobs=-1)"
   ]
  },
  {
   "cell_type": "markdown",
   "metadata": {},
   "source": [
    "<div class=\"alert alert-success\">\n",
    "<h2> Комментарий ревьюера <a class=\"tocSkip\"> </h2>\n",
    "\n",
    "<b>Все отлично!👍:</b> \n",
    "    \n",
    "Кодирование категориальных признаков проведено. Для численных моделей можно было еще применить смешанный тип кодирования: OHE+OE, чтобы не раздувать сильно признаковое пространство."
   ]
  },
  {
   "cell_type": "markdown",
   "metadata": {},
   "source": [
    "<div class=\"alert alert-info\">\n",
    "<b>Комментарий студента:</b>\n",
    "<br>Добавил OE кодирование для моделей, основанных на деревьях.\n",
    "<br>Не совсем понимаю, какой смысл от одновременного применения OHE и OE кодирования? Или это значит, что часть признаков можно закодировать OHE, а другую часть - OE?\n",
    "</div>"
   ]
  },
  {
   "cell_type": "markdown",
   "metadata": {},
   "source": [
    "<div class=\"alert alert-success\">\n",
    "<h2> Комментарий ревьюера v.2 <a class=\"tocSkip\"> </h2>\n",
    "\n",
    "<b>Все отлично!👍:</b> Да, я имел ввиду, что часть признаков можно закодировать OHE, а другую часть - OE. Для признаков с большим числом уникальных значений применяют OE (например, 'brand_model'), для остальных - OHE, для лучшей сходимости численных моделей."
   ]
  },
  {
   "cell_type": "markdown",
   "metadata": {},
   "source": [
    "#### Разбиение данных"
   ]
  },
  {
   "cell_type": "code",
   "execution_count": 77,
   "metadata": {},
   "outputs": [],
   "source": [
    "# Определение признаков и целевой переменной.\n",
    "# X = df_autos.drop(columns=['price', 'brand_model'])\n",
    "X = df_autos.drop(columns=['price'])\n",
    "y = df_autos['price']\n",
    "\n",
    "# Разбиение данных.\n",
    "X_train, X_test, y_train, y_test = train_test_split(X, y, test_size=0.25, random_state=GLOBAL__RANDOM_STATE)"
   ]
  },
  {
   "cell_type": "markdown",
   "metadata": {},
   "source": [
    "<div class=\"alert alert-success\">\n",
    "<h2> Комментарий ревьюера <a class=\"tocSkip\"> </h2>\n",
    "\n",
    "<b>Все отлично!👍:</b> \n",
    "\n",
    "Хорошо, разбиение на выборки корректное."
   ]
  },
  {
   "cell_type": "markdown",
   "metadata": {},
   "source": [
    "### Базовое решение"
   ]
  },
  {
   "cell_type": "markdown",
   "metadata": {},
   "source": [
    "В качестве базового решения для оценки адекватности моделей будем использовать модель <code>DummyRegressor</code> со стратегией <code>strategy='mean'</code>."
   ]
  },
  {
   "cell_type": "code",
   "execution_count": 78,
   "metadata": {},
   "outputs": [],
   "source": [
    "# Инициализация базовой модели.\n",
    "model_dr = DummyRegressor(strategy='mean')"
   ]
  },
  {
   "cell_type": "code",
   "execution_count": 79,
   "metadata": {},
   "outputs": [],
   "source": [
    "# Пайплайн с моделью.\n",
    "pipe_dr = Pipeline([\n",
    "    ('pipe_processing_ohe', pipe_processing_ohe),\n",
    "    ('model_dr', model_dr)\n",
    "])"
   ]
  },
  {
   "cell_type": "code",
   "execution_count": 80,
   "metadata": {
    "scrolled": false
   },
   "outputs": [
    {
     "name": "stdout",
     "output_type": "stream",
     "text": [
      "CPU times: user 449 ms, sys: 56.9 ms, total: 506 ms\n",
      "Wall time: 1.02 s\n"
     ]
    },
    {
     "data": {
      "text/plain": [
       "Pipeline(steps=[('pipe_processing_ohe',\n",
       "                 FeatureUnion(n_jobs=-1,\n",
       "                              transformer_list=[('pipe_numerical',\n",
       "                                                 Pipeline(steps=[('ColumnSelector_numerical',\n",
       "                                                                  ColumnSelector(columns=['power',\n",
       "                                                                                          'kilometer',\n",
       "                                                                                          'car_age_years',\n",
       "                                                                                          'sale_days'])),\n",
       "                                                                 ('StandardScaler',\n",
       "                                                                  StandardScaler())])),\n",
       "                                                ('pipe_categorical_ohe',\n",
       "                                                 Pipeline(steps=[('ColumnSelector_categorical',\n",
       "                                                                  ColumnSelector(columns=['vehicle_type',\n",
       "                                                                                          'gearbox',\n",
       "                                                                                          'fuel_type',\n",
       "                                                                                          'not_repaired',\n",
       "                                                                                          'brand_model'])),\n",
       "                                                                 ('OneHotEncoder',\n",
       "                                                                  OneHotEncoder(handle_unknown='ignore'))]))])),\n",
       "                ('model_dr', DummyRegressor())])"
      ]
     },
     "execution_count": 80,
     "metadata": {},
     "output_type": "execute_result"
    }
   ],
   "source": [
    "%%time\n",
    "\n",
    "# Обучение модели.\n",
    "pipe_dr.fit(X_train, y_train)"
   ]
  },
  {
   "cell_type": "code",
   "execution_count": 81,
   "metadata": {},
   "outputs": [
    {
     "name": "stdout",
     "output_type": "stream",
     "text": [
      "CPU times: user 347 ms, sys: 113 ms, total: 460 ms\n",
      "Wall time: 912 ms\n"
     ]
    }
   ],
   "source": [
    "%%time\n",
    "\n",
    "# Прогноз.\n",
    "y_pred_train = pipe_dr.predict(X_train)"
   ]
  },
  {
   "cell_type": "code",
   "execution_count": 82,
   "metadata": {},
   "outputs": [
    {
     "name": "stdout",
     "output_type": "stream",
     "text": [
      "CPU times: user 125 ms, sys: 18.4 ms, total: 143 ms\n",
      "Wall time: 301 ms\n"
     ]
    }
   ],
   "source": [
    "%%time\n",
    "\n",
    "# Прогноз.\n",
    "y_pred_test = pipe_dr.predict(X_test)"
   ]
  },
  {
   "cell_type": "code",
   "execution_count": 83,
   "metadata": {},
   "outputs": [],
   "source": [
    "# Таблица метрик.\n",
    "df_metrics = pd.DataFrame()"
   ]
  },
  {
   "cell_type": "code",
   "execution_count": 84,
   "metadata": {},
   "outputs": [
    {
     "data": {
      "text/html": [
       "<div>\n",
       "<style scoped>\n",
       "    .dataframe tbody tr th:only-of-type {\n",
       "        vertical-align: middle;\n",
       "    }\n",
       "\n",
       "    .dataframe tbody tr th {\n",
       "        vertical-align: top;\n",
       "    }\n",
       "\n",
       "    .dataframe thead th {\n",
       "        text-align: right;\n",
       "    }\n",
       "</style>\n",
       "<table border=\"1\" class=\"dataframe\">\n",
       "  <thead>\n",
       "    <tr style=\"text-align: right;\">\n",
       "      <th></th>\n",
       "      <th>RMSE_train</th>\n",
       "      <th>RMSE_test</th>\n",
       "      <th>time_fit</th>\n",
       "      <th>time_predict</th>\n",
       "    </tr>\n",
       "  </thead>\n",
       "  <tbody>\n",
       "    <tr>\n",
       "      <th>DummyRegressor</th>\n",
       "      <td>4535.09</td>\n",
       "      <td>4514.79</td>\n",
       "      <td>541 ms</td>\n",
       "      <td>157 ms</td>\n",
       "    </tr>\n",
       "  </tbody>\n",
       "</table>\n",
       "</div>"
      ],
      "text/plain": [
       "                RMSE_train  RMSE_test time_fit time_predict\n",
       "DummyRegressor     4535.09    4514.79   541 ms       157 ms"
      ]
     },
     "execution_count": 84,
     "metadata": {},
     "output_type": "execute_result"
    }
   ],
   "source": [
    "# Расчёт метрики \"RMSE\".\n",
    "df_metrics.loc['DummyRegressor', 'RMSE_train'] = np.round(mean_squared_error(y_train, y_pred_train, squared=False), 2)\n",
    "df_metrics.loc['DummyRegressor', 'RMSE_test'] = np.round(mean_squared_error(y_test, y_pred_test, squared=False), 2)\n",
    "df_metrics.loc['DummyRegressor', 'time_fit'] = '541 ms'\n",
    "df_metrics.loc['DummyRegressor', 'time_predict'] = '157 ms'\n",
    "\n",
    "# Вывод метрик.\n",
    "df_metrics"
   ]
  },
  {
   "cell_type": "markdown",
   "metadata": {},
   "source": [
    "<div class=\"alert alert-success\">\n",
    "<h2> Комментарий ревьюера v.2 <a class=\"tocSkip\"> </h2>\n",
    "\n",
    "<b>Все отлично!👍:</b> \n",
    "    \n",
    "Чтобы не вводить время вручную для таблицы, можно воспользоваться модулем `time`:\n",
    "    \n",
    "Код ревьюера:\n",
    "```python\n",
    "start = time.time()\n",
    "lgbm_predict = lgbm_model.predict(features_test)\n",
    "end = time.time()\n",
    "lgbm_predict_time = end - start\n",
    "```"
   ]
  },
  {
   "cell_type": "markdown",
   "metadata": {},
   "source": [
    "Согласно заданию, необходимо получить прогноз со значением метрики <code>RMSE</code> не более 2500 единиц целевой переменной.\n",
    "\n",
    "Базовая модель, предсказывающая среднее для всех объектов, превысила установленную планку почти в два раза.\n",
    "\n",
    "В дальнейшем будем использовать данный порог качества для оценки адекватности построенных моделей."
   ]
  },
  {
   "cell_type": "markdown",
   "metadata": {},
   "source": [
    "<div class=\"alert alert-success\">\n",
    "<h2> Комментарий ревьюера <a class=\"tocSkip\"> </h2>\n",
    "\n",
    "<b>Все отлично!👍:</b> \n",
    "        \n",
    "Молодец, что проводишь сравнение своей модели с константной дамми моделью. В каждом проекте при оценке качества модели, имеет смысл проводить такую проверку на адекватность."
   ]
  },
  {
   "cell_type": "markdown",
   "metadata": {},
   "source": [
    "### Линейная регрессия"
   ]
  },
  {
   "cell_type": "code",
   "execution_count": 85,
   "metadata": {},
   "outputs": [],
   "source": [
    "# Инициализация линейной регрессии.\n",
    "model_lr = LinearRegression(n_jobs=-1)"
   ]
  },
  {
   "cell_type": "code",
   "execution_count": 86,
   "metadata": {},
   "outputs": [],
   "source": [
    "# Пайплайн с моделью.\n",
    "pipe_lr = Pipeline([\n",
    "    ('pipe_processing_ohe', pipe_processing_ohe),\n",
    "    ('model_lr', model_lr)\n",
    "])"
   ]
  },
  {
   "cell_type": "code",
   "execution_count": 87,
   "metadata": {
    "scrolled": false
   },
   "outputs": [
    {
     "name": "stdout",
     "output_type": "stream",
     "text": [
      "CPU times: user 5.21 s, sys: 7.06 s, total: 12.3 s\n",
      "Wall time: 21.2 s\n"
     ]
    },
    {
     "data": {
      "text/plain": [
       "Pipeline(steps=[('pipe_processing_ohe',\n",
       "                 FeatureUnion(n_jobs=-1,\n",
       "                              transformer_list=[('pipe_numerical',\n",
       "                                                 Pipeline(steps=[('ColumnSelector_numerical',\n",
       "                                                                  ColumnSelector(columns=['power',\n",
       "                                                                                          'kilometer',\n",
       "                                                                                          'car_age_years',\n",
       "                                                                                          'sale_days'])),\n",
       "                                                                 ('StandardScaler',\n",
       "                                                                  StandardScaler())])),\n",
       "                                                ('pipe_categorical_ohe',\n",
       "                                                 Pipeline(steps=[('ColumnSelector_categorical',\n",
       "                                                                  ColumnSelector(columns=['vehicle_type',\n",
       "                                                                                          'gearbox',\n",
       "                                                                                          'fuel_type',\n",
       "                                                                                          'not_repaired',\n",
       "                                                                                          'brand_model'])),\n",
       "                                                                 ('OneHotEncoder',\n",
       "                                                                  OneHotEncoder(handle_unknown='ignore'))]))])),\n",
       "                ('model_lr', LinearRegression(n_jobs=-1))])"
      ]
     },
     "execution_count": 87,
     "metadata": {},
     "output_type": "execute_result"
    }
   ],
   "source": [
    "%%time\n",
    "\n",
    "# Обучение модели.\n",
    "pipe_lr.fit(X_train, y_train)"
   ]
  },
  {
   "cell_type": "code",
   "execution_count": 88,
   "metadata": {},
   "outputs": [
    {
     "name": "stdout",
     "output_type": "stream",
     "text": [
      "CPU times: user 571 ms, sys: 32 ms, total: 603 ms\n",
      "Wall time: 5.31 s\n"
     ]
    }
   ],
   "source": [
    "%%time\n",
    "\n",
    "# Прогноз.\n",
    "y_pred_train = pipe_lr.predict(X_train)"
   ]
  },
  {
   "cell_type": "code",
   "execution_count": 89,
   "metadata": {},
   "outputs": [
    {
     "name": "stdout",
     "output_type": "stream",
     "text": [
      "CPU times: user 119 ms, sys: 19.8 ms, total: 139 ms\n",
      "Wall time: 304 ms\n"
     ]
    }
   ],
   "source": [
    "%%time\n",
    "\n",
    "# Прогноз.\n",
    "y_pred_test = pipe_lr.predict(X_test)"
   ]
  },
  {
   "cell_type": "code",
   "execution_count": 90,
   "metadata": {},
   "outputs": [
    {
     "data": {
      "text/html": [
       "<div>\n",
       "<style scoped>\n",
       "    .dataframe tbody tr th:only-of-type {\n",
       "        vertical-align: middle;\n",
       "    }\n",
       "\n",
       "    .dataframe tbody tr th {\n",
       "        vertical-align: top;\n",
       "    }\n",
       "\n",
       "    .dataframe thead th {\n",
       "        text-align: right;\n",
       "    }\n",
       "</style>\n",
       "<table border=\"1\" class=\"dataframe\">\n",
       "  <thead>\n",
       "    <tr style=\"text-align: right;\">\n",
       "      <th></th>\n",
       "      <th>RMSE_train</th>\n",
       "      <th>RMSE_test</th>\n",
       "      <th>time_fit</th>\n",
       "      <th>time_predict</th>\n",
       "    </tr>\n",
       "  </thead>\n",
       "  <tbody>\n",
       "    <tr>\n",
       "      <th>DummyRegressor</th>\n",
       "      <td>4535.09</td>\n",
       "      <td>4514.79</td>\n",
       "      <td>541 ms</td>\n",
       "      <td>157 ms</td>\n",
       "    </tr>\n",
       "    <tr>\n",
       "      <th>LinearRegression</th>\n",
       "      <td>2574.01</td>\n",
       "      <td>2570.77</td>\n",
       "      <td>27.7 s</td>\n",
       "      <td>159 ms</td>\n",
       "    </tr>\n",
       "  </tbody>\n",
       "</table>\n",
       "</div>"
      ],
      "text/plain": [
       "                  RMSE_train  RMSE_test time_fit time_predict\n",
       "DummyRegressor       4535.09    4514.79   541 ms       157 ms\n",
       "LinearRegression     2574.01    2570.77   27.7 s       159 ms"
      ]
     },
     "execution_count": 90,
     "metadata": {},
     "output_type": "execute_result"
    }
   ],
   "source": [
    "# Расчёт метрики \"RMSE\".\n",
    "df_metrics.loc['LinearRegression', 'RMSE_train'] = np.round(mean_squared_error(y_train, y_pred_train, squared=False), 2)\n",
    "df_metrics.loc['LinearRegression', 'RMSE_test'] = np.round(mean_squared_error(y_test, y_pred_test, squared=False), 2)\n",
    "df_metrics.loc['LinearRegression', 'time_fit'] = '27.7 s'\n",
    "df_metrics.loc['LinearRegression', 'time_predict'] = '159 ms'\n",
    "\n",
    "# Вывод метрик.\n",
    "df_metrics"
   ]
  },
  {
   "cell_type": "markdown",
   "metadata": {},
   "source": [
    "Линейная регрессия демонстрирует значительное лучшее качество метрики <code>RMSE</code>, чем базовая модель, но не достигает установленного порога 2500 единиц целевой переменной."
   ]
  },
  {
   "cell_type": "markdown",
   "metadata": {},
   "source": [
    "### Линейная регрессия Lasso"
   ]
  },
  {
   "cell_type": "code",
   "execution_count": 91,
   "metadata": {},
   "outputs": [],
   "source": [
    "# Инициализация линейной регрессии Lasso.\n",
    "model_lrl = Lasso(random_state=GLOBAL__RANDOM_STATE)"
   ]
  },
  {
   "cell_type": "code",
   "execution_count": 92,
   "metadata": {},
   "outputs": [],
   "source": [
    "# Пайплайн с моделью.\n",
    "pipe_lrl = Pipeline([\n",
    "    ('pipe_processing_ohe', pipe_processing_ohe),\n",
    "    ('model_lrl', model_lrl)\n",
    "])"
   ]
  },
  {
   "cell_type": "code",
   "execution_count": 93,
   "metadata": {},
   "outputs": [
    {
     "name": "stdout",
     "output_type": "stream",
     "text": [
      "CPU times: user 25.6 s, sys: 242 ms, total: 25.8 s\n",
      "Wall time: 51.9 s\n"
     ]
    },
    {
     "data": {
      "text/plain": [
       "Pipeline(steps=[('pipe_processing_ohe',\n",
       "                 FeatureUnion(n_jobs=-1,\n",
       "                              transformer_list=[('pipe_numerical',\n",
       "                                                 Pipeline(steps=[('ColumnSelector_numerical',\n",
       "                                                                  ColumnSelector(columns=['power',\n",
       "                                                                                          'kilometer',\n",
       "                                                                                          'car_age_years',\n",
       "                                                                                          'sale_days'])),\n",
       "                                                                 ('StandardScaler',\n",
       "                                                                  StandardScaler())])),\n",
       "                                                ('pipe_categorical_ohe',\n",
       "                                                 Pipeline(steps=[('ColumnSelector_categorical',\n",
       "                                                                  ColumnSelector(columns=['vehicle_type',\n",
       "                                                                                          'gearbox',\n",
       "                                                                                          'fuel_type',\n",
       "                                                                                          'not_repaired',\n",
       "                                                                                          'brand_model'])),\n",
       "                                                                 ('OneHotEncoder',\n",
       "                                                                  OneHotEncoder(handle_unknown='ignore'))]))])),\n",
       "                ('model_lrl', Lasso(random_state=0))])"
      ]
     },
     "execution_count": 93,
     "metadata": {},
     "output_type": "execute_result"
    }
   ],
   "source": [
    "%%time\n",
    "\n",
    "# Обучение модели.\n",
    "pipe_lrl.fit(X_train, y_train)"
   ]
  },
  {
   "cell_type": "code",
   "execution_count": 94,
   "metadata": {},
   "outputs": [
    {
     "name": "stdout",
     "output_type": "stream",
     "text": [
      "CPU times: user 413 ms, sys: 35.7 ms, total: 449 ms\n",
      "Wall time: 926 ms\n"
     ]
    }
   ],
   "source": [
    "%%time\n",
    "\n",
    "# Прогноз.\n",
    "y_pred_train = pipe_lrl.predict(X_train)"
   ]
  },
  {
   "cell_type": "code",
   "execution_count": 95,
   "metadata": {},
   "outputs": [
    {
     "name": "stdout",
     "output_type": "stream",
     "text": [
      "CPU times: user 149 ms, sys: 16.2 ms, total: 165 ms\n",
      "Wall time: 319 ms\n"
     ]
    }
   ],
   "source": [
    "%%time\n",
    "\n",
    "# Прогноз.\n",
    "y_pred_test = pipe_lrl.predict(X_test)"
   ]
  },
  {
   "cell_type": "code",
   "execution_count": 96,
   "metadata": {},
   "outputs": [
    {
     "data": {
      "text/html": [
       "<div>\n",
       "<style scoped>\n",
       "    .dataframe tbody tr th:only-of-type {\n",
       "        vertical-align: middle;\n",
       "    }\n",
       "\n",
       "    .dataframe tbody tr th {\n",
       "        vertical-align: top;\n",
       "    }\n",
       "\n",
       "    .dataframe thead th {\n",
       "        text-align: right;\n",
       "    }\n",
       "</style>\n",
       "<table border=\"1\" class=\"dataframe\">\n",
       "  <thead>\n",
       "    <tr style=\"text-align: right;\">\n",
       "      <th></th>\n",
       "      <th>RMSE_train</th>\n",
       "      <th>RMSE_test</th>\n",
       "      <th>time_fit</th>\n",
       "      <th>time_predict</th>\n",
       "    </tr>\n",
       "  </thead>\n",
       "  <tbody>\n",
       "    <tr>\n",
       "      <th>DummyRegressor</th>\n",
       "      <td>4535.09</td>\n",
       "      <td>4514.79</td>\n",
       "      <td>541 ms</td>\n",
       "      <td>157 ms</td>\n",
       "    </tr>\n",
       "    <tr>\n",
       "      <th>LinearRegression</th>\n",
       "      <td>2574.01</td>\n",
       "      <td>2570.77</td>\n",
       "      <td>27.7 s</td>\n",
       "      <td>159 ms</td>\n",
       "    </tr>\n",
       "    <tr>\n",
       "      <th>Lasso</th>\n",
       "      <td>2608.01</td>\n",
       "      <td>2602.82</td>\n",
       "      <td>28.1 s</td>\n",
       "      <td>154 ms</td>\n",
       "    </tr>\n",
       "  </tbody>\n",
       "</table>\n",
       "</div>"
      ],
      "text/plain": [
       "                  RMSE_train  RMSE_test time_fit time_predict\n",
       "DummyRegressor       4535.09    4514.79   541 ms       157 ms\n",
       "LinearRegression     2574.01    2570.77   27.7 s       159 ms\n",
       "Lasso                2608.01    2602.82   28.1 s       154 ms"
      ]
     },
     "execution_count": 96,
     "metadata": {},
     "output_type": "execute_result"
    }
   ],
   "source": [
    "# Расчёт метрики \"RMSE\".\n",
    "df_metrics.loc['Lasso', 'RMSE_train'] = np.round(mean_squared_error(y_train, y_pred_train, squared=False), 2)\n",
    "df_metrics.loc['Lasso', 'RMSE_test'] = np.round(mean_squared_error(y_test, y_pred_test, squared=False), 2)\n",
    "df_metrics.loc['Lasso', 'time_fit'] = '28.1 s'\n",
    "df_metrics.loc['Lasso', 'time_predict'] = '154 ms'\n",
    "\n",
    "# Вывод метрик.\n",
    "df_metrics"
   ]
  },
  {
   "cell_type": "markdown",
   "metadata": {},
   "source": [
    "Стандартная модель <code>Lasso</code> не демонстрирует улучшения качества в сравнении с линейной регрессией.\n",
    "\n",
    "Попробуем использовать <code>LassoCV</code> для перебора параметров."
   ]
  },
  {
   "cell_type": "code",
   "execution_count": 97,
   "metadata": {},
   "outputs": [],
   "source": [
    "# Инициализация линейной регрессии LassoCV.\n",
    "model_lrlcv = LassoCV(alphas=[1, 10, 100], max_iter=200, n_jobs=-1, cv=3, random_state=GLOBAL__RANDOM_STATE)"
   ]
  },
  {
   "cell_type": "code",
   "execution_count": 98,
   "metadata": {},
   "outputs": [],
   "source": [
    "# Пайплайн с моделью.\n",
    "pipe_lrlcv = Pipeline([\n",
    "    ('pipe_processing_ohe', pipe_processing_ohe),\n",
    "    ('model_lrlcv', model_lrlcv)\n",
    "])"
   ]
  },
  {
   "cell_type": "code",
   "execution_count": 99,
   "metadata": {},
   "outputs": [
    {
     "name": "stdout",
     "output_type": "stream",
     "text": [
      "CPU times: user 1min 20s, sys: 1.92 s, total: 1min 21s\n",
      "Wall time: 2min 41s\n"
     ]
    },
    {
     "data": {
      "text/plain": [
       "Pipeline(steps=[('pipe_processing_ohe',\n",
       "                 FeatureUnion(n_jobs=-1,\n",
       "                              transformer_list=[('pipe_numerical',\n",
       "                                                 Pipeline(steps=[('ColumnSelector_numerical',\n",
       "                                                                  ColumnSelector(columns=['power',\n",
       "                                                                                          'kilometer',\n",
       "                                                                                          'car_age_years',\n",
       "                                                                                          'sale_days'])),\n",
       "                                                                 ('StandardScaler',\n",
       "                                                                  StandardScaler())])),\n",
       "                                                ('pipe_categorical_ohe',\n",
       "                                                 Pipeline(steps=[('ColumnSelector_categorical',\n",
       "                                                                  ColumnSelector(columns=['vehicle_type',\n",
       "                                                                                          'gearbox',\n",
       "                                                                                          'fuel_type',\n",
       "                                                                                          'not_repaired',\n",
       "                                                                                          'brand_model'])),\n",
       "                                                                 ('OneHotEncoder',\n",
       "                                                                  OneHotEncoder(handle_unknown='ignore'))]))])),\n",
       "                ('model_lrlcv',\n",
       "                 LassoCV(alphas=[1, 10, 100], cv=3, max_iter=200, n_jobs=-1,\n",
       "                         random_state=0))])"
      ]
     },
     "execution_count": 99,
     "metadata": {},
     "output_type": "execute_result"
    }
   ],
   "source": [
    "%%time\n",
    "\n",
    "# Обучение модели.\n",
    "pipe_lrlcv.fit(X_train, y_train)"
   ]
  },
  {
   "cell_type": "code",
   "execution_count": 100,
   "metadata": {},
   "outputs": [
    {
     "name": "stdout",
     "output_type": "stream",
     "text": [
      "CPU times: user 356 ms, sys: 34.7 ms, total: 390 ms\n",
      "Wall time: 798 ms\n"
     ]
    }
   ],
   "source": [
    "%%time\n",
    "\n",
    "# Прогноз.\n",
    "y_pred_train = pipe_lrlcv.predict(X_train)"
   ]
  },
  {
   "cell_type": "code",
   "execution_count": 101,
   "metadata": {},
   "outputs": [
    {
     "name": "stdout",
     "output_type": "stream",
     "text": [
      "CPU times: user 118 ms, sys: 11.5 ms, total: 129 ms\n",
      "Wall time: 232 ms\n"
     ]
    }
   ],
   "source": [
    "%%time\n",
    "\n",
    "# Прогноз.\n",
    "y_pred_test = pipe_lrlcv.predict(X_test)"
   ]
  },
  {
   "cell_type": "code",
   "execution_count": 102,
   "metadata": {},
   "outputs": [
    {
     "data": {
      "text/html": [
       "<div>\n",
       "<style scoped>\n",
       "    .dataframe tbody tr th:only-of-type {\n",
       "        vertical-align: middle;\n",
       "    }\n",
       "\n",
       "    .dataframe tbody tr th {\n",
       "        vertical-align: top;\n",
       "    }\n",
       "\n",
       "    .dataframe thead th {\n",
       "        text-align: right;\n",
       "    }\n",
       "</style>\n",
       "<table border=\"1\" class=\"dataframe\">\n",
       "  <thead>\n",
       "    <tr style=\"text-align: right;\">\n",
       "      <th></th>\n",
       "      <th>RMSE_train</th>\n",
       "      <th>RMSE_test</th>\n",
       "      <th>time_fit</th>\n",
       "      <th>time_predict</th>\n",
       "    </tr>\n",
       "  </thead>\n",
       "  <tbody>\n",
       "    <tr>\n",
       "      <th>DummyRegressor</th>\n",
       "      <td>4535.09</td>\n",
       "      <td>4514.79</td>\n",
       "      <td>541 ms</td>\n",
       "      <td>157 ms</td>\n",
       "    </tr>\n",
       "    <tr>\n",
       "      <th>LinearRegression</th>\n",
       "      <td>2574.01</td>\n",
       "      <td>2570.77</td>\n",
       "      <td>27.7 s</td>\n",
       "      <td>159 ms</td>\n",
       "    </tr>\n",
       "    <tr>\n",
       "      <th>Lasso</th>\n",
       "      <td>2608.01</td>\n",
       "      <td>2602.82</td>\n",
       "      <td>28.1 s</td>\n",
       "      <td>154 ms</td>\n",
       "    </tr>\n",
       "    <tr>\n",
       "      <th>LassoCV</th>\n",
       "      <td>2608.01</td>\n",
       "      <td>2602.82</td>\n",
       "      <td>1min 28s</td>\n",
       "      <td>192 ms</td>\n",
       "    </tr>\n",
       "  </tbody>\n",
       "</table>\n",
       "</div>"
      ],
      "text/plain": [
       "                  RMSE_train  RMSE_test  time_fit time_predict\n",
       "DummyRegressor       4535.09    4514.79    541 ms       157 ms\n",
       "LinearRegression     2574.01    2570.77    27.7 s       159 ms\n",
       "Lasso                2608.01    2602.82    28.1 s       154 ms\n",
       "LassoCV              2608.01    2602.82  1min 28s       192 ms"
      ]
     },
     "execution_count": 102,
     "metadata": {},
     "output_type": "execute_result"
    }
   ],
   "source": [
    "# Расчёт метрики \"RMSE\".\n",
    "df_metrics.loc['LassoCV', 'RMSE_train'] = np.round(mean_squared_error(y_train, y_pred_train, squared=False), 2)\n",
    "df_metrics.loc['LassoCV', 'RMSE_test'] = np.round(mean_squared_error(y_test, y_pred_test, squared=False), 2)\n",
    "df_metrics.loc['LassoCV', 'time_fit'] = '1min 28s'\n",
    "df_metrics.loc['LassoCV', 'time_predict'] = '192 ms'\n",
    "\n",
    "# Вывод метрик.\n",
    "df_metrics"
   ]
  },
  {
   "cell_type": "markdown",
   "metadata": {},
   "source": [
    "Перебор коэффициентов регуляризации не дал результатов."
   ]
  },
  {
   "cell_type": "markdown",
   "metadata": {},
   "source": [
    "### Линейная регрессия Ridge"
   ]
  },
  {
   "cell_type": "code",
   "execution_count": 103,
   "metadata": {},
   "outputs": [],
   "source": [
    "# Инициализация линейной регрессии Ridge.\n",
    "model_lrr = Ridge(random_state=GLOBAL__RANDOM_STATE)"
   ]
  },
  {
   "cell_type": "code",
   "execution_count": 104,
   "metadata": {},
   "outputs": [],
   "source": [
    "# Пайплайн с моделью.\n",
    "pipe_lrr = Pipeline([\n",
    "    ('pipe_processing_ohe', pipe_processing_ohe),\n",
    "    ('model_lrr', model_lrr)\n",
    "])"
   ]
  },
  {
   "cell_type": "code",
   "execution_count": 105,
   "metadata": {},
   "outputs": [
    {
     "name": "stdout",
     "output_type": "stream",
     "text": [
      "CPU times: user 724 ms, sys: 27.3 ms, total: 751 ms\n",
      "Wall time: 1.51 s\n"
     ]
    },
    {
     "data": {
      "text/plain": [
       "Pipeline(steps=[('pipe_processing_ohe',\n",
       "                 FeatureUnion(n_jobs=-1,\n",
       "                              transformer_list=[('pipe_numerical',\n",
       "                                                 Pipeline(steps=[('ColumnSelector_numerical',\n",
       "                                                                  ColumnSelector(columns=['power',\n",
       "                                                                                          'kilometer',\n",
       "                                                                                          'car_age_years',\n",
       "                                                                                          'sale_days'])),\n",
       "                                                                 ('StandardScaler',\n",
       "                                                                  StandardScaler())])),\n",
       "                                                ('pipe_categorical_ohe',\n",
       "                                                 Pipeline(steps=[('ColumnSelector_categorical',\n",
       "                                                                  ColumnSelector(columns=['vehicle_type',\n",
       "                                                                                          'gearbox',\n",
       "                                                                                          'fuel_type',\n",
       "                                                                                          'not_repaired',\n",
       "                                                                                          'brand_model'])),\n",
       "                                                                 ('OneHotEncoder',\n",
       "                                                                  OneHotEncoder(handle_unknown='ignore'))]))])),\n",
       "                ('model_lrr', Ridge(random_state=0))])"
      ]
     },
     "execution_count": 105,
     "metadata": {},
     "output_type": "execute_result"
    }
   ],
   "source": [
    "%%time\n",
    "\n",
    "# Обучение модели.\n",
    "pipe_lrr.fit(X_train, y_train)"
   ]
  },
  {
   "cell_type": "code",
   "execution_count": 106,
   "metadata": {},
   "outputs": [
    {
     "name": "stdout",
     "output_type": "stream",
     "text": [
      "CPU times: user 357 ms, sys: 34.5 ms, total: 391 ms\n",
      "Wall time: 795 ms\n"
     ]
    }
   ],
   "source": [
    "%%time\n",
    "\n",
    "# Прогноз.\n",
    "y_pred_train = pipe_lrr.predict(X_train)"
   ]
  },
  {
   "cell_type": "code",
   "execution_count": 107,
   "metadata": {},
   "outputs": [
    {
     "name": "stdout",
     "output_type": "stream",
     "text": [
      "CPU times: user 129 ms, sys: 7.91 ms, total: 137 ms\n",
      "Wall time: 290 ms\n"
     ]
    }
   ],
   "source": [
    "%%time\n",
    "\n",
    "# Прогноз.\n",
    "y_pred_test = pipe_lrr.predict(X_test)"
   ]
  },
  {
   "cell_type": "code",
   "execution_count": 108,
   "metadata": {},
   "outputs": [
    {
     "data": {
      "text/html": [
       "<div>\n",
       "<style scoped>\n",
       "    .dataframe tbody tr th:only-of-type {\n",
       "        vertical-align: middle;\n",
       "    }\n",
       "\n",
       "    .dataframe tbody tr th {\n",
       "        vertical-align: top;\n",
       "    }\n",
       "\n",
       "    .dataframe thead th {\n",
       "        text-align: right;\n",
       "    }\n",
       "</style>\n",
       "<table border=\"1\" class=\"dataframe\">\n",
       "  <thead>\n",
       "    <tr style=\"text-align: right;\">\n",
       "      <th></th>\n",
       "      <th>RMSE_train</th>\n",
       "      <th>RMSE_test</th>\n",
       "      <th>time_fit</th>\n",
       "      <th>time_predict</th>\n",
       "    </tr>\n",
       "  </thead>\n",
       "  <tbody>\n",
       "    <tr>\n",
       "      <th>DummyRegressor</th>\n",
       "      <td>4535.09</td>\n",
       "      <td>4514.79</td>\n",
       "      <td>541 ms</td>\n",
       "      <td>157 ms</td>\n",
       "    </tr>\n",
       "    <tr>\n",
       "      <th>LinearRegression</th>\n",
       "      <td>2574.01</td>\n",
       "      <td>2570.77</td>\n",
       "      <td>27.7 s</td>\n",
       "      <td>159 ms</td>\n",
       "    </tr>\n",
       "    <tr>\n",
       "      <th>Lasso</th>\n",
       "      <td>2608.01</td>\n",
       "      <td>2602.82</td>\n",
       "      <td>28.1 s</td>\n",
       "      <td>154 ms</td>\n",
       "    </tr>\n",
       "    <tr>\n",
       "      <th>LassoCV</th>\n",
       "      <td>2608.01</td>\n",
       "      <td>2602.82</td>\n",
       "      <td>1min 28s</td>\n",
       "      <td>192 ms</td>\n",
       "    </tr>\n",
       "    <tr>\n",
       "      <th>Ridge</th>\n",
       "      <td>2575.73</td>\n",
       "      <td>2572.89</td>\n",
       "      <td>1.04 s</td>\n",
       "      <td>178 ms</td>\n",
       "    </tr>\n",
       "  </tbody>\n",
       "</table>\n",
       "</div>"
      ],
      "text/plain": [
       "                  RMSE_train  RMSE_test  time_fit time_predict\n",
       "DummyRegressor       4535.09    4514.79    541 ms       157 ms\n",
       "LinearRegression     2574.01    2570.77    27.7 s       159 ms\n",
       "Lasso                2608.01    2602.82    28.1 s       154 ms\n",
       "LassoCV              2608.01    2602.82  1min 28s       192 ms\n",
       "Ridge                2575.73    2572.89    1.04 s       178 ms"
      ]
     },
     "execution_count": 108,
     "metadata": {},
     "output_type": "execute_result"
    }
   ],
   "source": [
    "# Расчёт метрики \"RMSE\".\n",
    "df_metrics.loc['Ridge', 'RMSE_train'] = np.round(mean_squared_error(y_train, y_pred_train, squared=False), 2)\n",
    "df_metrics.loc['Ridge', 'RMSE_test'] = np.round(mean_squared_error(y_test, y_pred_test, squared=False), 2)\n",
    "df_metrics.loc['Ridge', 'time_fit'] = '1.04 s'\n",
    "df_metrics.loc['Ridge', 'time_predict'] = '178 ms'\n",
    "\n",
    "# Вывод метрик.\n",
    "df_metrics"
   ]
  },
  {
   "cell_type": "markdown",
   "metadata": {},
   "source": [
    "Попробуем применить перебор коэффициентов регуляризации."
   ]
  },
  {
   "cell_type": "code",
   "execution_count": 109,
   "metadata": {},
   "outputs": [],
   "source": [
    "# Инициализация линейной регрессии RidgeCV.\n",
    "model_lrrcv = RidgeCV(cv=3)"
   ]
  },
  {
   "cell_type": "code",
   "execution_count": 110,
   "metadata": {},
   "outputs": [],
   "source": [
    "# Пайплайн с моделью.\n",
    "pipe_lrrcv = Pipeline([\n",
    "    ('pipe_processing_ohe', pipe_processing_ohe),\n",
    "    ('model_lrrcv', model_lrrcv)\n",
    "])"
   ]
  },
  {
   "cell_type": "code",
   "execution_count": 111,
   "metadata": {},
   "outputs": [
    {
     "name": "stdout",
     "output_type": "stream",
     "text": [
      "CPU times: user 2.4 s, sys: 20.4 ms, total: 2.42 s\n",
      "Wall time: 4.83 s\n"
     ]
    },
    {
     "data": {
      "text/plain": [
       "Pipeline(steps=[('pipe_processing_ohe',\n",
       "                 FeatureUnion(n_jobs=-1,\n",
       "                              transformer_list=[('pipe_numerical',\n",
       "                                                 Pipeline(steps=[('ColumnSelector_numerical',\n",
       "                                                                  ColumnSelector(columns=['power',\n",
       "                                                                                          'kilometer',\n",
       "                                                                                          'car_age_years',\n",
       "                                                                                          'sale_days'])),\n",
       "                                                                 ('StandardScaler',\n",
       "                                                                  StandardScaler())])),\n",
       "                                                ('pipe_categorical_ohe',\n",
       "                                                 Pipeline(steps=[('ColumnSelector_categorical',\n",
       "                                                                  ColumnSelector(columns=['vehicle_type',\n",
       "                                                                                          'gearbox',\n",
       "                                                                                          'fuel_type',\n",
       "                                                                                          'not_repaired',\n",
       "                                                                                          'brand_model'])),\n",
       "                                                                 ('OneHotEncoder',\n",
       "                                                                  OneHotEncoder(handle_unknown='ignore'))]))])),\n",
       "                ('model_lrrcv',\n",
       "                 RidgeCV(alphas=array([ 0.1,  1. , 10. ]), cv=3))])"
      ]
     },
     "execution_count": 111,
     "metadata": {},
     "output_type": "execute_result"
    }
   ],
   "source": [
    "%%time\n",
    "\n",
    "# Обучение модели.\n",
    "pipe_lrrcv.fit(X_train, y_train)"
   ]
  },
  {
   "cell_type": "code",
   "execution_count": 112,
   "metadata": {
    "scrolled": true
   },
   "outputs": [
    {
     "name": "stdout",
     "output_type": "stream",
     "text": [
      "CPU times: user 361 ms, sys: 31.1 ms, total: 393 ms\n",
      "Wall time: 742 ms\n"
     ]
    }
   ],
   "source": [
    "%%time\n",
    "\n",
    "# Прогноз.\n",
    "y_pred_train = pipe_lrrcv.predict(X_train)"
   ]
  },
  {
   "cell_type": "code",
   "execution_count": 113,
   "metadata": {},
   "outputs": [
    {
     "name": "stdout",
     "output_type": "stream",
     "text": [
      "CPU times: user 108 ms, sys: 22.7 ms, total: 131 ms\n",
      "Wall time: 230 ms\n"
     ]
    }
   ],
   "source": [
    "%%time\n",
    "\n",
    "# Прогноз.\n",
    "y_pred_test = pipe_lrrcv.predict(X_test)"
   ]
  },
  {
   "cell_type": "code",
   "execution_count": 114,
   "metadata": {},
   "outputs": [
    {
     "data": {
      "text/html": [
       "<div>\n",
       "<style scoped>\n",
       "    .dataframe tbody tr th:only-of-type {\n",
       "        vertical-align: middle;\n",
       "    }\n",
       "\n",
       "    .dataframe tbody tr th {\n",
       "        vertical-align: top;\n",
       "    }\n",
       "\n",
       "    .dataframe thead th {\n",
       "        text-align: right;\n",
       "    }\n",
       "</style>\n",
       "<table border=\"1\" class=\"dataframe\">\n",
       "  <thead>\n",
       "    <tr style=\"text-align: right;\">\n",
       "      <th></th>\n",
       "      <th>RMSE_train</th>\n",
       "      <th>RMSE_test</th>\n",
       "      <th>time_fit</th>\n",
       "      <th>time_predict</th>\n",
       "    </tr>\n",
       "  </thead>\n",
       "  <tbody>\n",
       "    <tr>\n",
       "      <th>DummyRegressor</th>\n",
       "      <td>4535.09</td>\n",
       "      <td>4514.79</td>\n",
       "      <td>541 ms</td>\n",
       "      <td>157 ms</td>\n",
       "    </tr>\n",
       "    <tr>\n",
       "      <th>LinearRegression</th>\n",
       "      <td>2574.01</td>\n",
       "      <td>2570.77</td>\n",
       "      <td>27.7 s</td>\n",
       "      <td>159 ms</td>\n",
       "    </tr>\n",
       "    <tr>\n",
       "      <th>Lasso</th>\n",
       "      <td>2608.01</td>\n",
       "      <td>2602.82</td>\n",
       "      <td>28.1 s</td>\n",
       "      <td>154 ms</td>\n",
       "    </tr>\n",
       "    <tr>\n",
       "      <th>LassoCV</th>\n",
       "      <td>2608.01</td>\n",
       "      <td>2602.82</td>\n",
       "      <td>1min 28s</td>\n",
       "      <td>192 ms</td>\n",
       "    </tr>\n",
       "    <tr>\n",
       "      <th>Ridge</th>\n",
       "      <td>2575.73</td>\n",
       "      <td>2572.89</td>\n",
       "      <td>1.04 s</td>\n",
       "      <td>178 ms</td>\n",
       "    </tr>\n",
       "    <tr>\n",
       "      <th>RidgeCV</th>\n",
       "      <td>2575.98</td>\n",
       "      <td>2573.18</td>\n",
       "      <td>3.86 s</td>\n",
       "      <td>161 ms</td>\n",
       "    </tr>\n",
       "  </tbody>\n",
       "</table>\n",
       "</div>"
      ],
      "text/plain": [
       "                  RMSE_train  RMSE_test  time_fit time_predict\n",
       "DummyRegressor       4535.09    4514.79    541 ms       157 ms\n",
       "LinearRegression     2574.01    2570.77    27.7 s       159 ms\n",
       "Lasso                2608.01    2602.82    28.1 s       154 ms\n",
       "LassoCV              2608.01    2602.82  1min 28s       192 ms\n",
       "Ridge                2575.73    2572.89    1.04 s       178 ms\n",
       "RidgeCV              2575.98    2573.18    3.86 s       161 ms"
      ]
     },
     "execution_count": 114,
     "metadata": {},
     "output_type": "execute_result"
    }
   ],
   "source": [
    "# Расчёт метрики \"RMSE\".\n",
    "df_metrics.loc['RidgeCV', 'RMSE_train'] = np.round(mean_squared_error(y_train, y_pred_train, squared=False), 2)\n",
    "df_metrics.loc['RidgeCV', 'RMSE_test'] = np.round(mean_squared_error(y_test, y_pred_test, squared=False), 2)\n",
    "df_metrics.loc['RidgeCV', 'time_fit'] = '3.86 s'\n",
    "df_metrics.loc['RidgeCV', 'time_predict'] = '161 ms'\n",
    "\n",
    "# Вывод метрик.\n",
    "df_metrics"
   ]
  },
  {
   "cell_type": "markdown",
   "metadata": {},
   "source": [
    "Перебор коэффициентов регуляризации для регрессии <code>Ridge</code> так же не дал результатов."
   ]
  },
  {
   "cell_type": "markdown",
   "metadata": {},
   "source": [
    "<div class=\"alert alert-success\">\n",
    "<h2> Комментарий ревьюера <a class=\"tocSkip\"> </h2>\n",
    "\n",
    "<b>Все отлично!👍:</b> \n",
    "\n",
    "С линейными моделями все понятно."
   ]
  },
  {
   "cell_type": "markdown",
   "metadata": {},
   "source": [
    "### Дерево решений"
   ]
  },
  {
   "cell_type": "code",
   "execution_count": 115,
   "metadata": {},
   "outputs": [],
   "source": [
    "# Инициализация модели дерева решений.\n",
    "model_dtr = DecisionTreeRegressor(random_state=GLOBAL__RANDOM_STATE)"
   ]
  },
  {
   "cell_type": "code",
   "execution_count": 116,
   "metadata": {},
   "outputs": [],
   "source": [
    "# Пайплайн с моделью.\n",
    "pipe_dtr = Pipeline([\n",
    "    ('pipe_processing_oe', pipe_processing_oe),\n",
    "    ('model_dtr', model_dtr)\n",
    "])"
   ]
  },
  {
   "cell_type": "code",
   "execution_count": 117,
   "metadata": {
    "scrolled": false
   },
   "outputs": [
    {
     "name": "stdout",
     "output_type": "stream",
     "text": [
      "CPU times: user 1.33 s, sys: 4 ms, total: 1.33 s\n",
      "Wall time: 2.69 s\n"
     ]
    },
    {
     "data": {
      "text/plain": [
       "Pipeline(steps=[('pipe_processing_oe',\n",
       "                 FeatureUnion(n_jobs=-1,\n",
       "                              transformer_list=[('pipe_numerical',\n",
       "                                                 Pipeline(steps=[('ColumnSelector_numerical',\n",
       "                                                                  ColumnSelector(columns=['power',\n",
       "                                                                                          'kilometer',\n",
       "                                                                                          'car_age_years',\n",
       "                                                                                          'sale_days'])),\n",
       "                                                                 ('StandardScaler',\n",
       "                                                                  StandardScaler())])),\n",
       "                                                ('pipe_categorical_oe',\n",
       "                                                 Pipeline(steps=[('ColumnSelector_categorical',\n",
       "                                                                  ColumnSelector(columns=['vehicle_type',\n",
       "                                                                                          'gearbox',\n",
       "                                                                                          'fuel_type',\n",
       "                                                                                          'not_repaired',\n",
       "                                                                                          'brand_model'])),\n",
       "                                                                 ('',\n",
       "                                                                  OrdinalEncoder(handle_unknown='use_encoded_value',\n",
       "                                                                                 unknown_value=-1))]))])),\n",
       "                ('model_dtr', DecisionTreeRegressor(random_state=0))])"
      ]
     },
     "execution_count": 117,
     "metadata": {},
     "output_type": "execute_result"
    }
   ],
   "source": [
    "%%time\n",
    "\n",
    "# Обучение модели.\n",
    "pipe_dtr.fit(X_train, y_train)"
   ]
  },
  {
   "cell_type": "markdown",
   "metadata": {},
   "source": [
    "<div class=\"alert alert-block alert-danger\">\n",
    "<h2> Комментарий ревьюера <a class=\"tocSkip\"></h2>\n",
    "\n",
    "<b>На доработку🤔:</b>\n",
    "\n",
    "Если используешь модели на основе деревьев, то в данном случае категориальные признаки следует кодировать методом OE.\n",
    "</div>"
   ]
  },
  {
   "cell_type": "markdown",
   "metadata": {},
   "source": [
    "<div class=\"alert alert-info\">\n",
    "<b>Комментарий студента:</b>\n",
    "<br>Реализовал OE кодирование для моделей, основанных на деревьях.\n",
    "</div>"
   ]
  },
  {
   "cell_type": "markdown",
   "metadata": {},
   "source": [
    "<div class=\"alert alert-success\">\n",
    "<h2> Комментарий ревьюера v.2 <a class=\"tocSkip\"> </h2>\n",
    "\n",
    "<b>Все отлично!👍:</b> Молодец)"
   ]
  },
  {
   "cell_type": "code",
   "execution_count": 118,
   "metadata": {
    "scrolled": true
   },
   "outputs": [
    {
     "name": "stdout",
     "output_type": "stream",
     "text": [
      "CPU times: user 450 ms, sys: 4.31 ms, total: 454 ms\n",
      "Wall time: 905 ms\n"
     ]
    }
   ],
   "source": [
    "%%time\n",
    "\n",
    "# Прогноз.\n",
    "y_pred_train = pipe_dtr.predict(X_train)"
   ]
  },
  {
   "cell_type": "code",
   "execution_count": 119,
   "metadata": {},
   "outputs": [
    {
     "name": "stdout",
     "output_type": "stream",
     "text": [
      "CPU times: user 159 ms, sys: 0 ns, total: 159 ms\n",
      "Wall time: 312 ms\n"
     ]
    }
   ],
   "source": [
    "%%time\n",
    "\n",
    "# Прогноз.\n",
    "y_pred_test = pipe_dtr.predict(X_test)"
   ]
  },
  {
   "cell_type": "code",
   "execution_count": 120,
   "metadata": {},
   "outputs": [
    {
     "data": {
      "text/html": [
       "<div>\n",
       "<style scoped>\n",
       "    .dataframe tbody tr th:only-of-type {\n",
       "        vertical-align: middle;\n",
       "    }\n",
       "\n",
       "    .dataframe tbody tr th {\n",
       "        vertical-align: top;\n",
       "    }\n",
       "\n",
       "    .dataframe thead th {\n",
       "        text-align: right;\n",
       "    }\n",
       "</style>\n",
       "<table border=\"1\" class=\"dataframe\">\n",
       "  <thead>\n",
       "    <tr style=\"text-align: right;\">\n",
       "      <th></th>\n",
       "      <th>RMSE_train</th>\n",
       "      <th>RMSE_test</th>\n",
       "      <th>time_fit</th>\n",
       "      <th>time_predict</th>\n",
       "    </tr>\n",
       "  </thead>\n",
       "  <tbody>\n",
       "    <tr>\n",
       "      <th>DummyRegressor</th>\n",
       "      <td>4535.09</td>\n",
       "      <td>4514.79</td>\n",
       "      <td>541 ms</td>\n",
       "      <td>157 ms</td>\n",
       "    </tr>\n",
       "    <tr>\n",
       "      <th>LinearRegression</th>\n",
       "      <td>2574.01</td>\n",
       "      <td>2570.77</td>\n",
       "      <td>27.7 s</td>\n",
       "      <td>159 ms</td>\n",
       "    </tr>\n",
       "    <tr>\n",
       "      <th>Lasso</th>\n",
       "      <td>2608.01</td>\n",
       "      <td>2602.82</td>\n",
       "      <td>28.1 s</td>\n",
       "      <td>154 ms</td>\n",
       "    </tr>\n",
       "    <tr>\n",
       "      <th>LassoCV</th>\n",
       "      <td>2608.01</td>\n",
       "      <td>2602.82</td>\n",
       "      <td>1min 28s</td>\n",
       "      <td>192 ms</td>\n",
       "    </tr>\n",
       "    <tr>\n",
       "      <th>Ridge</th>\n",
       "      <td>2575.73</td>\n",
       "      <td>2572.89</td>\n",
       "      <td>1.04 s</td>\n",
       "      <td>178 ms</td>\n",
       "    </tr>\n",
       "    <tr>\n",
       "      <th>RidgeCV</th>\n",
       "      <td>2575.98</td>\n",
       "      <td>2573.18</td>\n",
       "      <td>3.86 s</td>\n",
       "      <td>161 ms</td>\n",
       "    </tr>\n",
       "    <tr>\n",
       "      <th>DecisionTreeRegressor</th>\n",
       "      <td>427.37</td>\n",
       "      <td>2142.37</td>\n",
       "      <td>1.53 s</td>\n",
       "      <td>181 ms</td>\n",
       "    </tr>\n",
       "  </tbody>\n",
       "</table>\n",
       "</div>"
      ],
      "text/plain": [
       "                       RMSE_train  RMSE_test  time_fit time_predict\n",
       "DummyRegressor            4535.09    4514.79    541 ms       157 ms\n",
       "LinearRegression          2574.01    2570.77    27.7 s       159 ms\n",
       "Lasso                     2608.01    2602.82    28.1 s       154 ms\n",
       "LassoCV                   2608.01    2602.82  1min 28s       192 ms\n",
       "Ridge                     2575.73    2572.89    1.04 s       178 ms\n",
       "RidgeCV                   2575.98    2573.18    3.86 s       161 ms\n",
       "DecisionTreeRegressor      427.37    2142.37    1.53 s       181 ms"
      ]
     },
     "execution_count": 120,
     "metadata": {},
     "output_type": "execute_result"
    }
   ],
   "source": [
    "# Расчёт метрики \"RMSE\".\n",
    "df_metrics.loc['DecisionTreeRegressor', 'RMSE_train'] = np.round(mean_squared_error(y_train, y_pred_train, squared=False), 2)\n",
    "df_metrics.loc['DecisionTreeRegressor', 'RMSE_test'] = np.round(mean_squared_error(y_test, y_pred_test, squared=False), 2)\n",
    "df_metrics.loc['DecisionTreeRegressor', 'time_fit'] = '1.53 s'\n",
    "df_metrics.loc['DecisionTreeRegressor', 'time_predict'] = '181 ms'\n",
    "\n",
    "# Вывод метрик.\n",
    "df_metrics"
   ]
  },
  {
   "cell_type": "markdown",
   "metadata": {},
   "source": [
    "Дерево решений справилось с задачей лучше всех линейных моделей, однако наблюдается переобучение.\n",
    "\n",
    "Попробуем выполнить подбор гиперпараметров для улучшения качества модели."
   ]
  },
  {
   "cell_type": "code",
   "execution_count": 121,
   "metadata": {},
   "outputs": [],
   "source": [
    "# Набор параметров для перебора.\n",
    "params_dtr = {\n",
    "    'max_depth': [5, 10, 15],\n",
    "    'min_samples_leaf': [50, 100, 150],\n",
    "    'random_state': [GLOBAL__RANDOM_STATE]\n",
    "}"
   ]
  },
  {
   "cell_type": "markdown",
   "metadata": {},
   "source": [
    "<div class=\"alert alert-warning\">\n",
    "    <h2> Комментарий ревьюера <a class=\"tocSkip\"> </h2>\n",
    "    \n",
    "<b>Некоторые замечания и рекомендации💡:</b> \n",
    "\n",
    "Неперебираемые гиперпараметры следует вынести, как константы внутрь самой модели."
   ]
  },
  {
   "cell_type": "markdown",
   "metadata": {},
   "source": [
    "<div class=\"alert alert-info\">\n",
    "<b>Комментарий студента:</b>\n",
    "<br>Никак не могу согласиться. Все гиперпараметры удобнее настраивать в одном месте - это позволит избежать путаницы и ошибок. Также данный метод настройки не сказывается на быстродействии.\n",
    "</div>"
   ]
  },
  {
   "cell_type": "markdown",
   "metadata": {},
   "source": [
    "<div class=\"alert alert-success\">\n",
    "<h2> Комментарий ревьюера v.2 <a class=\"tocSkip\"> </h2>\n",
    "\n",
    "<b>Все отлично!👍:</b> Понял тебя, на твое усмотрение."
   ]
  },
  {
   "cell_type": "code",
   "execution_count": 122,
   "metadata": {},
   "outputs": [],
   "source": [
    "# Метрика качества для перебора.\n",
    "# rmse = make_scorer(mean_squared_error, greater_is_better=False)"
   ]
  },
  {
   "cell_type": "code",
   "execution_count": 123,
   "metadata": {},
   "outputs": [],
   "source": [
    "# Инициализация инструмента для перебора параметров.\n",
    "pipe_dtr_gs = make_pipeline(pipe_processing_oe,\n",
    "                            GridSearchCV(estimator=DecisionTreeRegressor(),\n",
    "                                         param_grid=params_dtr,\n",
    "#                                          scoring=rmse,\n",
    "                                         scoring='neg_root_mean_squared_error',\n",
    "                                         n_jobs=-1,\n",
    "                                         cv=3))"
   ]
  },
  {
   "cell_type": "code",
   "execution_count": 124,
   "metadata": {
    "scrolled": false
   },
   "outputs": [
    {
     "name": "stdout",
     "output_type": "stream",
     "text": [
      "CPU times: user 8.68 s, sys: 13.1 ms, total: 8.69 s\n",
      "Wall time: 17.4 s\n"
     ]
    },
    {
     "data": {
      "text/plain": [
       "Pipeline(steps=[('featureunion',\n",
       "                 FeatureUnion(n_jobs=-1,\n",
       "                              transformer_list=[('pipe_numerical',\n",
       "                                                 Pipeline(steps=[('ColumnSelector_numerical',\n",
       "                                                                  ColumnSelector(columns=['power',\n",
       "                                                                                          'kilometer',\n",
       "                                                                                          'car_age_years',\n",
       "                                                                                          'sale_days'])),\n",
       "                                                                 ('StandardScaler',\n",
       "                                                                  StandardScaler())])),\n",
       "                                                ('pipe_categorical_oe',\n",
       "                                                 Pipeline(steps=[('ColumnSelector_categorical',\n",
       "                                                                  ColumnSelector(columns=['vehicle_type',\n",
       "                                                                                          'gearbox',\n",
       "                                                                                          'fuel_type',\n",
       "                                                                                          'not_repaired',\n",
       "                                                                                          'brand_model'])),\n",
       "                                                                 ('',\n",
       "                                                                  OrdinalEncoder(handle_unknown='use_encoded_value',\n",
       "                                                                                 unknown_value=-1))]))])),\n",
       "                ('gridsearchcv',\n",
       "                 GridSearchCV(cv=3, estimator=DecisionTreeRegressor(),\n",
       "                              n_jobs=-1,\n",
       "                              param_grid={'max_depth': [5, 10, 15],\n",
       "                                          'min_samples_leaf': [50, 100, 150],\n",
       "                                          'random_state': [0]},\n",
       "                              scoring='neg_root_mean_squared_error'))])"
      ]
     },
     "execution_count": 124,
     "metadata": {},
     "output_type": "execute_result"
    }
   ],
   "source": [
    "%%time\n",
    "\n",
    "# Обучение модели с подбором параметров.\n",
    "pipe_dtr_gs.fit(X_train, y_train)"
   ]
  },
  {
   "cell_type": "code",
   "execution_count": 125,
   "metadata": {
    "scrolled": true
   },
   "outputs": [
    {
     "data": {
      "text/plain": [
       "DecisionTreeRegressor(max_depth=15, min_samples_leaf=50, random_state=0)"
      ]
     },
     "execution_count": 125,
     "metadata": {},
     "output_type": "execute_result"
    }
   ],
   "source": [
    "# Вывод параметров лучшей модели.\n",
    "pipe_dtr_gs['gridsearchcv'].best_estimator_"
   ]
  },
  {
   "cell_type": "code",
   "execution_count": 126,
   "metadata": {},
   "outputs": [
    {
     "name": "stdout",
     "output_type": "stream",
     "text": [
      "CPU times: user 349 ms, sys: 395 µs, total: 349 ms\n",
      "Wall time: 703 ms\n"
     ]
    }
   ],
   "source": [
    "%%time\n",
    "\n",
    "# Прогноз.\n",
    "y_pred_train = pipe_dtr_gs.predict(X_train)"
   ]
  },
  {
   "cell_type": "code",
   "execution_count": 127,
   "metadata": {},
   "outputs": [
    {
     "name": "stdout",
     "output_type": "stream",
     "text": [
      "CPU times: user 126 ms, sys: 13 µs, total: 126 ms\n",
      "Wall time: 287 ms\n"
     ]
    }
   ],
   "source": [
    "%%time\n",
    "\n",
    "# Прогноз.\n",
    "y_pred_test = pipe_dtr_gs.predict(X_test)"
   ]
  },
  {
   "cell_type": "code",
   "execution_count": 128,
   "metadata": {},
   "outputs": [
    {
     "data": {
      "text/html": [
       "<div>\n",
       "<style scoped>\n",
       "    .dataframe tbody tr th:only-of-type {\n",
       "        vertical-align: middle;\n",
       "    }\n",
       "\n",
       "    .dataframe tbody tr th {\n",
       "        vertical-align: top;\n",
       "    }\n",
       "\n",
       "    .dataframe thead th {\n",
       "        text-align: right;\n",
       "    }\n",
       "</style>\n",
       "<table border=\"1\" class=\"dataframe\">\n",
       "  <thead>\n",
       "    <tr style=\"text-align: right;\">\n",
       "      <th></th>\n",
       "      <th>RMSE_train</th>\n",
       "      <th>RMSE_test</th>\n",
       "      <th>time_fit</th>\n",
       "      <th>time_predict</th>\n",
       "    </tr>\n",
       "  </thead>\n",
       "  <tbody>\n",
       "    <tr>\n",
       "      <th>DummyRegressor</th>\n",
       "      <td>4535.09</td>\n",
       "      <td>4514.79</td>\n",
       "      <td>541 ms</td>\n",
       "      <td>157 ms</td>\n",
       "    </tr>\n",
       "    <tr>\n",
       "      <th>LinearRegression</th>\n",
       "      <td>2574.01</td>\n",
       "      <td>2570.77</td>\n",
       "      <td>27.7 s</td>\n",
       "      <td>159 ms</td>\n",
       "    </tr>\n",
       "    <tr>\n",
       "      <th>Lasso</th>\n",
       "      <td>2608.01</td>\n",
       "      <td>2602.82</td>\n",
       "      <td>28.1 s</td>\n",
       "      <td>154 ms</td>\n",
       "    </tr>\n",
       "    <tr>\n",
       "      <th>LassoCV</th>\n",
       "      <td>2608.01</td>\n",
       "      <td>2602.82</td>\n",
       "      <td>1min 28s</td>\n",
       "      <td>192 ms</td>\n",
       "    </tr>\n",
       "    <tr>\n",
       "      <th>Ridge</th>\n",
       "      <td>2575.73</td>\n",
       "      <td>2572.89</td>\n",
       "      <td>1.04 s</td>\n",
       "      <td>178 ms</td>\n",
       "    </tr>\n",
       "    <tr>\n",
       "      <th>RidgeCV</th>\n",
       "      <td>2575.98</td>\n",
       "      <td>2573.18</td>\n",
       "      <td>3.86 s</td>\n",
       "      <td>161 ms</td>\n",
       "    </tr>\n",
       "    <tr>\n",
       "      <th>DecisionTreeRegressor</th>\n",
       "      <td>427.37</td>\n",
       "      <td>2142.37</td>\n",
       "      <td>1.53 s</td>\n",
       "      <td>181 ms</td>\n",
       "    </tr>\n",
       "    <tr>\n",
       "      <th>DecisionTreeRegressorCV</th>\n",
       "      <td>1798.55</td>\n",
       "      <td>1881.01</td>\n",
       "      <td>10.1 s</td>\n",
       "      <td>163 ms</td>\n",
       "    </tr>\n",
       "  </tbody>\n",
       "</table>\n",
       "</div>"
      ],
      "text/plain": [
       "                         RMSE_train  RMSE_test  time_fit time_predict\n",
       "DummyRegressor              4535.09    4514.79    541 ms       157 ms\n",
       "LinearRegression            2574.01    2570.77    27.7 s       159 ms\n",
       "Lasso                       2608.01    2602.82    28.1 s       154 ms\n",
       "LassoCV                     2608.01    2602.82  1min 28s       192 ms\n",
       "Ridge                       2575.73    2572.89    1.04 s       178 ms\n",
       "RidgeCV                     2575.98    2573.18    3.86 s       161 ms\n",
       "DecisionTreeRegressor        427.37    2142.37    1.53 s       181 ms\n",
       "DecisionTreeRegressorCV     1798.55    1881.01    10.1 s       163 ms"
      ]
     },
     "execution_count": 128,
     "metadata": {},
     "output_type": "execute_result"
    }
   ],
   "source": [
    "# Расчёт метрики \"RMSE\".\n",
    "df_metrics.loc['DecisionTreeRegressorCV', 'RMSE_train'] = np.round(mean_squared_error(y_train, y_pred_train, squared=False), 2)\n",
    "df_metrics.loc['DecisionTreeRegressorCV', 'RMSE_test'] = np.round(mean_squared_error(y_test, y_pred_test, squared=False), 2)\n",
    "df_metrics.loc['DecisionTreeRegressorCV', 'time_fit'] = '10.1 s'\n",
    "df_metrics.loc['DecisionTreeRegressorCV', 'time_predict'] = '163 ms'\n",
    "\n",
    "# Вывод метрик.\n",
    "df_metrics"
   ]
  },
  {
   "cell_type": "markdown",
   "metadata": {},
   "source": [
    "Перебор параметров занял больше времени при построении модели, но при этом точность модели, согласно метрике <code>RMSE</code>, возросла.\n",
    "\n",
    "Также можно наблюдать, что эффект переобучения был практически устранён."
   ]
  },
  {
   "cell_type": "markdown",
   "metadata": {},
   "source": [
    "### Случайный лес"
   ]
  },
  {
   "cell_type": "code",
   "execution_count": 129,
   "metadata": {},
   "outputs": [],
   "source": [
    "# Инициализация модели случайного леса.\n",
    "model_rfr = RandomForestRegressor(n_estimators=5, random_state=GLOBAL__RANDOM_STATE)"
   ]
  },
  {
   "cell_type": "code",
   "execution_count": 130,
   "metadata": {},
   "outputs": [],
   "source": [
    "# Пайплайн с моделью.\n",
    "pipe_rfr = Pipeline([\n",
    "    ('pipe_processing_oe', pipe_processing_oe),\n",
    "    ('model_rfr', model_rfr)\n",
    "])"
   ]
  },
  {
   "cell_type": "code",
   "execution_count": 131,
   "metadata": {
    "scrolled": false
   },
   "outputs": [
    {
     "name": "stdout",
     "output_type": "stream",
     "text": [
      "CPU times: user 3.6 s, sys: 39.6 ms, total: 3.63 s\n",
      "Wall time: 7.23 s\n"
     ]
    },
    {
     "data": {
      "text/plain": [
       "Pipeline(steps=[('pipe_processing_oe',\n",
       "                 FeatureUnion(n_jobs=-1,\n",
       "                              transformer_list=[('pipe_numerical',\n",
       "                                                 Pipeline(steps=[('ColumnSelector_numerical',\n",
       "                                                                  ColumnSelector(columns=['power',\n",
       "                                                                                          'kilometer',\n",
       "                                                                                          'car_age_years',\n",
       "                                                                                          'sale_days'])),\n",
       "                                                                 ('StandardScaler',\n",
       "                                                                  StandardScaler())])),\n",
       "                                                ('pipe_categorical_oe',\n",
       "                                                 Pipeline(steps=[('ColumnSelector_categorical',\n",
       "                                                                  ColumnSelector(columns=['vehicle_type',\n",
       "                                                                                          'gearbox',\n",
       "                                                                                          'fuel_type',\n",
       "                                                                                          'not_repaired',\n",
       "                                                                                          'brand_model'])),\n",
       "                                                                 ('',\n",
       "                                                                  OrdinalEncoder(handle_unknown='use_encoded_value',\n",
       "                                                                                 unknown_value=-1))]))])),\n",
       "                ('model_rfr',\n",
       "                 RandomForestRegressor(n_estimators=5, random_state=0))])"
      ]
     },
     "execution_count": 131,
     "metadata": {},
     "output_type": "execute_result"
    }
   ],
   "source": [
    "%%time\n",
    "\n",
    "# Обучение модели.\n",
    "pipe_rfr.fit(X_train, y_train)"
   ]
  },
  {
   "cell_type": "code",
   "execution_count": 132,
   "metadata": {
    "scrolled": true
   },
   "outputs": [
    {
     "name": "stdout",
     "output_type": "stream",
     "text": [
      "CPU times: user 873 ms, sys: 15.5 ms, total: 889 ms\n",
      "Wall time: 1.8 s\n"
     ]
    }
   ],
   "source": [
    "%%time\n",
    "\n",
    "# Прогноз.\n",
    "y_pred_train = pipe_rfr.predict(X_train)"
   ]
  },
  {
   "cell_type": "code",
   "execution_count": 133,
   "metadata": {
    "scrolled": true
   },
   "outputs": [
    {
     "name": "stdout",
     "output_type": "stream",
     "text": [
      "CPU times: user 298 ms, sys: 0 ns, total: 298 ms\n",
      "Wall time: 598 ms\n"
     ]
    }
   ],
   "source": [
    "%%time\n",
    "\n",
    "# Прогноз.\n",
    "y_pred_test = pipe_rfr.predict(X_test)"
   ]
  },
  {
   "cell_type": "code",
   "execution_count": 134,
   "metadata": {},
   "outputs": [
    {
     "data": {
      "text/html": [
       "<div>\n",
       "<style scoped>\n",
       "    .dataframe tbody tr th:only-of-type {\n",
       "        vertical-align: middle;\n",
       "    }\n",
       "\n",
       "    .dataframe tbody tr th {\n",
       "        vertical-align: top;\n",
       "    }\n",
       "\n",
       "    .dataframe thead th {\n",
       "        text-align: right;\n",
       "    }\n",
       "</style>\n",
       "<table border=\"1\" class=\"dataframe\">\n",
       "  <thead>\n",
       "    <tr style=\"text-align: right;\">\n",
       "      <th></th>\n",
       "      <th>RMSE_train</th>\n",
       "      <th>RMSE_test</th>\n",
       "      <th>time_fit</th>\n",
       "      <th>time_predict</th>\n",
       "    </tr>\n",
       "  </thead>\n",
       "  <tbody>\n",
       "    <tr>\n",
       "      <th>DummyRegressor</th>\n",
       "      <td>4535.09</td>\n",
       "      <td>4514.79</td>\n",
       "      <td>541 ms</td>\n",
       "      <td>157 ms</td>\n",
       "    </tr>\n",
       "    <tr>\n",
       "      <th>LinearRegression</th>\n",
       "      <td>2574.01</td>\n",
       "      <td>2570.77</td>\n",
       "      <td>27.7 s</td>\n",
       "      <td>159 ms</td>\n",
       "    </tr>\n",
       "    <tr>\n",
       "      <th>Lasso</th>\n",
       "      <td>2608.01</td>\n",
       "      <td>2602.82</td>\n",
       "      <td>28.1 s</td>\n",
       "      <td>154 ms</td>\n",
       "    </tr>\n",
       "    <tr>\n",
       "      <th>LassoCV</th>\n",
       "      <td>2608.01</td>\n",
       "      <td>2602.82</td>\n",
       "      <td>1min 28s</td>\n",
       "      <td>192 ms</td>\n",
       "    </tr>\n",
       "    <tr>\n",
       "      <th>Ridge</th>\n",
       "      <td>2575.73</td>\n",
       "      <td>2572.89</td>\n",
       "      <td>1.04 s</td>\n",
       "      <td>178 ms</td>\n",
       "    </tr>\n",
       "    <tr>\n",
       "      <th>RidgeCV</th>\n",
       "      <td>2575.98</td>\n",
       "      <td>2573.18</td>\n",
       "      <td>3.86 s</td>\n",
       "      <td>161 ms</td>\n",
       "    </tr>\n",
       "    <tr>\n",
       "      <th>DecisionTreeRegressor</th>\n",
       "      <td>427.37</td>\n",
       "      <td>2142.37</td>\n",
       "      <td>1.53 s</td>\n",
       "      <td>181 ms</td>\n",
       "    </tr>\n",
       "    <tr>\n",
       "      <th>DecisionTreeRegressorCV</th>\n",
       "      <td>1798.55</td>\n",
       "      <td>1881.01</td>\n",
       "      <td>10.1 s</td>\n",
       "      <td>163 ms</td>\n",
       "    </tr>\n",
       "    <tr>\n",
       "      <th>RandomForestRegressor</th>\n",
       "      <td>881.34</td>\n",
       "      <td>1764.52</td>\n",
       "      <td>4.26 s</td>\n",
       "      <td>351  ms</td>\n",
       "    </tr>\n",
       "  </tbody>\n",
       "</table>\n",
       "</div>"
      ],
      "text/plain": [
       "                         RMSE_train  RMSE_test  time_fit time_predict\n",
       "DummyRegressor              4535.09    4514.79    541 ms       157 ms\n",
       "LinearRegression            2574.01    2570.77    27.7 s       159 ms\n",
       "Lasso                       2608.01    2602.82    28.1 s       154 ms\n",
       "LassoCV                     2608.01    2602.82  1min 28s       192 ms\n",
       "Ridge                       2575.73    2572.89    1.04 s       178 ms\n",
       "RidgeCV                     2575.98    2573.18    3.86 s       161 ms\n",
       "DecisionTreeRegressor        427.37    2142.37    1.53 s       181 ms\n",
       "DecisionTreeRegressorCV     1798.55    1881.01    10.1 s       163 ms\n",
       "RandomForestRegressor        881.34    1764.52    4.26 s      351  ms"
      ]
     },
     "execution_count": 134,
     "metadata": {},
     "output_type": "execute_result"
    }
   ],
   "source": [
    "# Расчёт метрики \"RMSE\".\n",
    "df_metrics.loc['RandomForestRegressor', 'RMSE_train'] = np.round(mean_squared_error(y_train, y_pred_train, squared=False), 2)\n",
    "df_metrics.loc['RandomForestRegressor', 'RMSE_test'] = np.round(mean_squared_error(y_test, y_pred_test, squared=False), 2)\n",
    "df_metrics.loc['RandomForestRegressor', 'time_fit'] = '4.26 s'\n",
    "df_metrics.loc['RandomForestRegressor', 'time_predict'] = '351  ms'\n",
    "\n",
    "# Вывод метрик.\n",
    "df_metrics"
   ]
  },
  {
   "cell_type": "markdown",
   "metadata": {},
   "source": [
    "Как и дерево решений, случайный лес склонен к переобучению. При этом можно наблюдать более лучшее качество данной модели.\n",
    "\n",
    "При помощи подбора гиперпараметров попробуем минимизировать переобучение, а также время построение ансамбля - оно больше, чем у остальных моделей."
   ]
  },
  {
   "cell_type": "code",
   "execution_count": 135,
   "metadata": {},
   "outputs": [],
   "source": [
    "# Набор параметров для перебора.\n",
    "params_rfr = {\n",
    "    'n_estimators': [5],\n",
    "    'max_depth': [20],\n",
    "    'min_samples_leaf': [50],\n",
    "    'random_state': [GLOBAL__RANDOM_STATE]\n",
    "}"
   ]
  },
  {
   "cell_type": "code",
   "execution_count": 136,
   "metadata": {},
   "outputs": [],
   "source": [
    "# Инициализация инструмента для перебора параметров.\n",
    "pipe_rfr_gs = make_pipeline(pipe_processing_oe,\n",
    "                            GridSearchCV(estimator=RandomForestRegressor(),\n",
    "                                         param_grid=params_rfr,\n",
    "                                         scoring='neg_root_mean_squared_error',\n",
    "                                         n_jobs=-1,\n",
    "                                         cv=3))"
   ]
  },
  {
   "cell_type": "code",
   "execution_count": 137,
   "metadata": {
    "scrolled": false
   },
   "outputs": [
    {
     "name": "stdout",
     "output_type": "stream",
     "text": [
      "CPU times: user 6.02 s, sys: 5.47 ms, total: 6.02 s\n",
      "Wall time: 12 s\n"
     ]
    },
    {
     "data": {
      "text/plain": [
       "Pipeline(steps=[('featureunion',\n",
       "                 FeatureUnion(n_jobs=-1,\n",
       "                              transformer_list=[('pipe_numerical',\n",
       "                                                 Pipeline(steps=[('ColumnSelector_numerical',\n",
       "                                                                  ColumnSelector(columns=['power',\n",
       "                                                                                          'kilometer',\n",
       "                                                                                          'car_age_years',\n",
       "                                                                                          'sale_days'])),\n",
       "                                                                 ('StandardScaler',\n",
       "                                                                  StandardScaler())])),\n",
       "                                                ('pipe_categorical_oe',\n",
       "                                                 Pipeline(steps=[('ColumnSelector_categorical',\n",
       "                                                                  ColumnSelector(columns=['vehicle_type',\n",
       "                                                                                          'gearbox',\n",
       "                                                                                          'fuel_type',\n",
       "                                                                                          'not_repaired',\n",
       "                                                                                          'brand_model'])),\n",
       "                                                                 ('',\n",
       "                                                                  OrdinalEncoder(handle_unknown='use_encoded_value',\n",
       "                                                                                 unknown_value=-1))]))])),\n",
       "                ('gridsearchcv',\n",
       "                 GridSearchCV(cv=3, estimator=RandomForestRegressor(),\n",
       "                              n_jobs=-1,\n",
       "                              param_grid={'max_depth': [20],\n",
       "                                          'min_samples_leaf': [50],\n",
       "                                          'n_estimators': [5],\n",
       "                                          'random_state': [0]},\n",
       "                              scoring='neg_root_mean_squared_error'))])"
      ]
     },
     "execution_count": 137,
     "metadata": {},
     "output_type": "execute_result"
    }
   ],
   "source": [
    "%%time\n",
    "\n",
    "# Обучение модели с подбором параметров.\n",
    "pipe_rfr_gs.fit(X_train, y_train)"
   ]
  },
  {
   "cell_type": "code",
   "execution_count": 138,
   "metadata": {},
   "outputs": [
    {
     "data": {
      "text/plain": [
       "RandomForestRegressor(max_depth=20, min_samples_leaf=50, n_estimators=5,\n",
       "                      random_state=0)"
      ]
     },
     "execution_count": 138,
     "metadata": {},
     "output_type": "execute_result"
    }
   ],
   "source": [
    "# Вывод параметров лучшей модели.\n",
    "pipe_rfr_gs['gridsearchcv'].best_estimator_"
   ]
  },
  {
   "cell_type": "code",
   "execution_count": 139,
   "metadata": {},
   "outputs": [
    {
     "name": "stdout",
     "output_type": "stream",
     "text": [
      "CPU times: user 476 ms, sys: 3.7 ms, total: 480 ms\n",
      "Wall time: 976 ms\n"
     ]
    }
   ],
   "source": [
    "%%time\n",
    "\n",
    "# Прогноз.\n",
    "y_pred_train = pipe_rfr_gs.predict(X_train)"
   ]
  },
  {
   "cell_type": "code",
   "execution_count": 140,
   "metadata": {},
   "outputs": [
    {
     "name": "stdout",
     "output_type": "stream",
     "text": [
      "CPU times: user 160 ms, sys: 139 µs, total: 160 ms\n",
      "Wall time: 313 ms\n"
     ]
    }
   ],
   "source": [
    "%%time\n",
    "\n",
    "# Прогноз.\n",
    "y_pred_test = pipe_rfr_gs.predict(X_test)"
   ]
  },
  {
   "cell_type": "code",
   "execution_count": 141,
   "metadata": {
    "scrolled": true
   },
   "outputs": [
    {
     "data": {
      "text/html": [
       "<div>\n",
       "<style scoped>\n",
       "    .dataframe tbody tr th:only-of-type {\n",
       "        vertical-align: middle;\n",
       "    }\n",
       "\n",
       "    .dataframe tbody tr th {\n",
       "        vertical-align: top;\n",
       "    }\n",
       "\n",
       "    .dataframe thead th {\n",
       "        text-align: right;\n",
       "    }\n",
       "</style>\n",
       "<table border=\"1\" class=\"dataframe\">\n",
       "  <thead>\n",
       "    <tr style=\"text-align: right;\">\n",
       "      <th></th>\n",
       "      <th>RMSE_train</th>\n",
       "      <th>RMSE_test</th>\n",
       "      <th>time_fit</th>\n",
       "      <th>time_predict</th>\n",
       "    </tr>\n",
       "  </thead>\n",
       "  <tbody>\n",
       "    <tr>\n",
       "      <th>DummyRegressor</th>\n",
       "      <td>4535.09</td>\n",
       "      <td>4514.79</td>\n",
       "      <td>541 ms</td>\n",
       "      <td>157 ms</td>\n",
       "    </tr>\n",
       "    <tr>\n",
       "      <th>LinearRegression</th>\n",
       "      <td>2574.01</td>\n",
       "      <td>2570.77</td>\n",
       "      <td>27.7 s</td>\n",
       "      <td>159 ms</td>\n",
       "    </tr>\n",
       "    <tr>\n",
       "      <th>Lasso</th>\n",
       "      <td>2608.01</td>\n",
       "      <td>2602.82</td>\n",
       "      <td>28.1 s</td>\n",
       "      <td>154 ms</td>\n",
       "    </tr>\n",
       "    <tr>\n",
       "      <th>LassoCV</th>\n",
       "      <td>2608.01</td>\n",
       "      <td>2602.82</td>\n",
       "      <td>1min 28s</td>\n",
       "      <td>192 ms</td>\n",
       "    </tr>\n",
       "    <tr>\n",
       "      <th>Ridge</th>\n",
       "      <td>2575.73</td>\n",
       "      <td>2572.89</td>\n",
       "      <td>1.04 s</td>\n",
       "      <td>178 ms</td>\n",
       "    </tr>\n",
       "    <tr>\n",
       "      <th>RidgeCV</th>\n",
       "      <td>2575.98</td>\n",
       "      <td>2573.18</td>\n",
       "      <td>3.86 s</td>\n",
       "      <td>161 ms</td>\n",
       "    </tr>\n",
       "    <tr>\n",
       "      <th>DecisionTreeRegressor</th>\n",
       "      <td>427.37</td>\n",
       "      <td>2142.37</td>\n",
       "      <td>1.53 s</td>\n",
       "      <td>181 ms</td>\n",
       "    </tr>\n",
       "    <tr>\n",
       "      <th>DecisionTreeRegressorCV</th>\n",
       "      <td>1798.55</td>\n",
       "      <td>1881.01</td>\n",
       "      <td>10.1 s</td>\n",
       "      <td>163 ms</td>\n",
       "    </tr>\n",
       "    <tr>\n",
       "      <th>RandomForestRegressor</th>\n",
       "      <td>881.34</td>\n",
       "      <td>1764.52</td>\n",
       "      <td>4.26 s</td>\n",
       "      <td>351  ms</td>\n",
       "    </tr>\n",
       "    <tr>\n",
       "      <th>RandomForestRegressorCV</th>\n",
       "      <td>1779.93</td>\n",
       "      <td>1835.62</td>\n",
       "      <td>6.96 s</td>\n",
       "      <td>187 ms</td>\n",
       "    </tr>\n",
       "  </tbody>\n",
       "</table>\n",
       "</div>"
      ],
      "text/plain": [
       "                         RMSE_train  RMSE_test  time_fit time_predict\n",
       "DummyRegressor              4535.09    4514.79    541 ms       157 ms\n",
       "LinearRegression            2574.01    2570.77    27.7 s       159 ms\n",
       "Lasso                       2608.01    2602.82    28.1 s       154 ms\n",
       "LassoCV                     2608.01    2602.82  1min 28s       192 ms\n",
       "Ridge                       2575.73    2572.89    1.04 s       178 ms\n",
       "RidgeCV                     2575.98    2573.18    3.86 s       161 ms\n",
       "DecisionTreeRegressor        427.37    2142.37    1.53 s       181 ms\n",
       "DecisionTreeRegressorCV     1798.55    1881.01    10.1 s       163 ms\n",
       "RandomForestRegressor        881.34    1764.52    4.26 s      351  ms\n",
       "RandomForestRegressorCV     1779.93    1835.62    6.96 s       187 ms"
      ]
     },
     "execution_count": 141,
     "metadata": {},
     "output_type": "execute_result"
    }
   ],
   "source": [
    "# Расчёт метрики \"RMSE\".\n",
    "df_metrics.loc['RandomForestRegressorCV', 'RMSE_train'] = np.round(mean_squared_error(y_train, y_pred_train, squared=False), 2)\n",
    "df_metrics.loc['RandomForestRegressorCV', 'RMSE_test'] = np.round(mean_squared_error(y_test, y_pred_test, squared=False), 2)\n",
    "df_metrics.loc['RandomForestRegressorCV', 'time_fit'] = '6.96 s'\n",
    "df_metrics.loc['RandomForestRegressorCV', 'time_predict'] = '187 ms'\n",
    "\n",
    "# Вывод метрик.\n",
    "df_metrics"
   ]
  },
  {
   "cell_type": "markdown",
   "metadata": {},
   "source": [
    "Настройка гиперпараметров модели случайного леса помогла минимизировать переобучение и сократить время построения модели."
   ]
  },
  {
   "cell_type": "markdown",
   "metadata": {},
   "source": [
    "### CatBoostRegressor"
   ]
  },
  {
   "cell_type": "code",
   "execution_count": 142,
   "metadata": {},
   "outputs": [],
   "source": [
    "# Инициализация модели CatBoostRegressor.\n",
    "model_cbr = CatBoostRegressor(verbose=100, random_state=GLOBAL__RANDOM_STATE)"
   ]
  },
  {
   "cell_type": "code",
   "execution_count": 143,
   "metadata": {},
   "outputs": [],
   "source": [
    "# Пайплайн с моделью.\n",
    "pipe_cbr = Pipeline([\n",
    "    ('pipe_processing_oe', pipe_processing_oe),\n",
    "    ('model_cbr', model_cbr)\n",
    "])"
   ]
  },
  {
   "cell_type": "code",
   "execution_count": 144,
   "metadata": {
    "scrolled": false
   },
   "outputs": [
    {
     "name": "stdout",
     "output_type": "stream",
     "text": [
      "Learning rate set to 0.097481\n",
      "0:\tlearn: 4252.1743455\ttotal: 95.8ms\tremaining: 1m 35s\n",
      "100:\tlearn: 1809.0117324\ttotal: 5.86s\tremaining: 52.1s\n",
      "200:\tlearn: 1714.9706633\ttotal: 12s\tremaining: 47.5s\n",
      "300:\tlearn: 1666.8994419\ttotal: 18.3s\tremaining: 42.6s\n",
      "400:\tlearn: 1635.2014416\ttotal: 25s\tremaining: 37.3s\n",
      "500:\tlearn: 1610.7427877\ttotal: 31.1s\tremaining: 31s\n",
      "600:\tlearn: 1591.6321644\ttotal: 37s\tremaining: 24.6s\n",
      "700:\tlearn: 1575.5180074\ttotal: 42.4s\tremaining: 18.1s\n",
      "800:\tlearn: 1562.7733646\ttotal: 46.5s\tremaining: 11.6s\n",
      "900:\tlearn: 1551.2212777\ttotal: 49.7s\tremaining: 5.46s\n",
      "999:\tlearn: 1540.3737410\ttotal: 52.4s\tremaining: 0us\n",
      "CPU times: user 31.2 s, sys: 240 ms, total: 31.5 s\n",
      "Wall time: 57.7 s\n"
     ]
    },
    {
     "data": {
      "text/plain": [
       "Pipeline(steps=[('pipe_processing_oe',\n",
       "                 FeatureUnion(n_jobs=-1,\n",
       "                              transformer_list=[('pipe_numerical',\n",
       "                                                 Pipeline(steps=[('ColumnSelector_numerical',\n",
       "                                                                  ColumnSelector(columns=['power',\n",
       "                                                                                          'kilometer',\n",
       "                                                                                          'car_age_years',\n",
       "                                                                                          'sale_days'])),\n",
       "                                                                 ('StandardScaler',\n",
       "                                                                  StandardScaler())])),\n",
       "                                                ('pipe_categorical_oe',\n",
       "                                                 Pipeline(steps=[('ColumnSelector_categorical',\n",
       "                                                                  ColumnSelector(columns=['vehicle_type',\n",
       "                                                                                          'gearbox',\n",
       "                                                                                          'fuel_type',\n",
       "                                                                                          'not_repaired',\n",
       "                                                                                          'brand_model'])),\n",
       "                                                                 ('',\n",
       "                                                                  OrdinalEncoder(handle_unknown='use_encoded_value',\n",
       "                                                                                 unknown_value=-1))]))])),\n",
       "                ('model_cbr',\n",
       "                 <catboost.core.CatBoostRegressor object at 0x7f30414ecdf0>)])"
      ]
     },
     "execution_count": 144,
     "metadata": {},
     "output_type": "execute_result"
    }
   ],
   "source": [
    "%%time\n",
    "\n",
    "# Обучение модели.\n",
    "pipe_cbr.fit(X_train, y_train)"
   ]
  },
  {
   "cell_type": "code",
   "execution_count": 145,
   "metadata": {
    "scrolled": true
   },
   "outputs": [
    {
     "name": "stdout",
     "output_type": "stream",
     "text": [
      "CPU times: user 930 ms, sys: 2.35 ms, total: 932 ms\n",
      "Wall time: 933 ms\n"
     ]
    }
   ],
   "source": [
    "%%time\n",
    "\n",
    "# Прогноз.\n",
    "y_pred_train = pipe_cbr.predict(X_train)"
   ]
  },
  {
   "cell_type": "code",
   "execution_count": 146,
   "metadata": {
    "scrolled": true
   },
   "outputs": [
    {
     "name": "stdout",
     "output_type": "stream",
     "text": [
      "CPU times: user 337 ms, sys: 709 µs, total: 338 ms\n",
      "Wall time: 342 ms\n"
     ]
    }
   ],
   "source": [
    "%%time\n",
    "\n",
    "# Прогноз.\n",
    "y_pred_test = pipe_cbr.predict(X_test)"
   ]
  },
  {
   "cell_type": "code",
   "execution_count": 147,
   "metadata": {},
   "outputs": [
    {
     "data": {
      "text/html": [
       "<div>\n",
       "<style scoped>\n",
       "    .dataframe tbody tr th:only-of-type {\n",
       "        vertical-align: middle;\n",
       "    }\n",
       "\n",
       "    .dataframe tbody tr th {\n",
       "        vertical-align: top;\n",
       "    }\n",
       "\n",
       "    .dataframe thead th {\n",
       "        text-align: right;\n",
       "    }\n",
       "</style>\n",
       "<table border=\"1\" class=\"dataframe\">\n",
       "  <thead>\n",
       "    <tr style=\"text-align: right;\">\n",
       "      <th></th>\n",
       "      <th>RMSE_train</th>\n",
       "      <th>RMSE_test</th>\n",
       "      <th>time_fit</th>\n",
       "      <th>time_predict</th>\n",
       "    </tr>\n",
       "  </thead>\n",
       "  <tbody>\n",
       "    <tr>\n",
       "      <th>DummyRegressor</th>\n",
       "      <td>4535.09</td>\n",
       "      <td>4514.79</td>\n",
       "      <td>541 ms</td>\n",
       "      <td>157 ms</td>\n",
       "    </tr>\n",
       "    <tr>\n",
       "      <th>LinearRegression</th>\n",
       "      <td>2574.01</td>\n",
       "      <td>2570.77</td>\n",
       "      <td>27.7 s</td>\n",
       "      <td>159 ms</td>\n",
       "    </tr>\n",
       "    <tr>\n",
       "      <th>Lasso</th>\n",
       "      <td>2608.01</td>\n",
       "      <td>2602.82</td>\n",
       "      <td>28.1 s</td>\n",
       "      <td>154 ms</td>\n",
       "    </tr>\n",
       "    <tr>\n",
       "      <th>LassoCV</th>\n",
       "      <td>2608.01</td>\n",
       "      <td>2602.82</td>\n",
       "      <td>1min 28s</td>\n",
       "      <td>192 ms</td>\n",
       "    </tr>\n",
       "    <tr>\n",
       "      <th>Ridge</th>\n",
       "      <td>2575.73</td>\n",
       "      <td>2572.89</td>\n",
       "      <td>1.04 s</td>\n",
       "      <td>178 ms</td>\n",
       "    </tr>\n",
       "    <tr>\n",
       "      <th>RidgeCV</th>\n",
       "      <td>2575.98</td>\n",
       "      <td>2573.18</td>\n",
       "      <td>3.86 s</td>\n",
       "      <td>161 ms</td>\n",
       "    </tr>\n",
       "    <tr>\n",
       "      <th>DecisionTreeRegressor</th>\n",
       "      <td>427.37</td>\n",
       "      <td>2142.37</td>\n",
       "      <td>1.53 s</td>\n",
       "      <td>181 ms</td>\n",
       "    </tr>\n",
       "    <tr>\n",
       "      <th>DecisionTreeRegressorCV</th>\n",
       "      <td>1798.55</td>\n",
       "      <td>1881.01</td>\n",
       "      <td>10.1 s</td>\n",
       "      <td>163 ms</td>\n",
       "    </tr>\n",
       "    <tr>\n",
       "      <th>RandomForestRegressor</th>\n",
       "      <td>881.34</td>\n",
       "      <td>1764.52</td>\n",
       "      <td>4.26 s</td>\n",
       "      <td>351  ms</td>\n",
       "    </tr>\n",
       "    <tr>\n",
       "      <th>RandomForestRegressorCV</th>\n",
       "      <td>1779.93</td>\n",
       "      <td>1835.62</td>\n",
       "      <td>6.96 s</td>\n",
       "      <td>187 ms</td>\n",
       "    </tr>\n",
       "    <tr>\n",
       "      <th>CatBoostRegressor</th>\n",
       "      <td>1540.37</td>\n",
       "      <td>1604.34</td>\n",
       "      <td>37.3 s</td>\n",
       "      <td>361 ms</td>\n",
       "    </tr>\n",
       "  </tbody>\n",
       "</table>\n",
       "</div>"
      ],
      "text/plain": [
       "                         RMSE_train  RMSE_test  time_fit time_predict\n",
       "DummyRegressor              4535.09    4514.79    541 ms       157 ms\n",
       "LinearRegression            2574.01    2570.77    27.7 s       159 ms\n",
       "Lasso                       2608.01    2602.82    28.1 s       154 ms\n",
       "LassoCV                     2608.01    2602.82  1min 28s       192 ms\n",
       "Ridge                       2575.73    2572.89    1.04 s       178 ms\n",
       "RidgeCV                     2575.98    2573.18    3.86 s       161 ms\n",
       "DecisionTreeRegressor        427.37    2142.37    1.53 s       181 ms\n",
       "DecisionTreeRegressorCV     1798.55    1881.01    10.1 s       163 ms\n",
       "RandomForestRegressor        881.34    1764.52    4.26 s      351  ms\n",
       "RandomForestRegressorCV     1779.93    1835.62    6.96 s       187 ms\n",
       "CatBoostRegressor           1540.37    1604.34    37.3 s       361 ms"
      ]
     },
     "execution_count": 147,
     "metadata": {},
     "output_type": "execute_result"
    }
   ],
   "source": [
    "# Расчёт метрики \"RMSE\".\n",
    "df_metrics.loc['CatBoostRegressor', 'RMSE_train'] = np.round(mean_squared_error(y_train, y_pred_train, squared=False), 2)\n",
    "df_metrics.loc['CatBoostRegressor', 'RMSE_test'] = np.round(mean_squared_error(y_test, y_pred_test, squared=False), 2)\n",
    "df_metrics.loc['CatBoostRegressor', 'time_fit'] = '37.3 s'\n",
    "df_metrics.loc['CatBoostRegressor', 'time_predict'] = '361 ms'\n",
    "\n",
    "# Вывод метрик.\n",
    "df_metrics"
   ]
  },
  {
   "cell_type": "markdown",
   "metadata": {},
   "source": [
    "Модель <code>CatBoostRegressor</code> со стандартной настройкой гиперпараметров демонстрирует лучшее качество среди всех моделей и удовлетворительное время построения.\n",
    "\n",
    "Попробуем выполнить подбор гиперпараметров."
   ]
  },
  {
   "cell_type": "code",
   "execution_count": 148,
   "metadata": {},
   "outputs": [],
   "source": [
    "# Набор параметров для перебора.\n",
    "params_cbr = {\n",
    "    'n_estimators': [50],\n",
    "    'max_depth': [4, 6, 8, 10],\n",
    "    'min_data_in_leaf': [50, 75],\n",
    "    'verbose': [False],\n",
    "    'random_state': [GLOBAL__RANDOM_STATE]\n",
    "}"
   ]
  },
  {
   "cell_type": "code",
   "execution_count": 149,
   "metadata": {},
   "outputs": [],
   "source": [
    "# Инициализация инструмента для перебора параметров.\n",
    "pipe_cbr_gs = make_pipeline(pipe_processing_oe,\n",
    "                            GridSearchCV(estimator=CatBoostRegressor(),\n",
    "                                         param_grid=params_cbr,\n",
    "                                         scoring='neg_root_mean_squared_error',\n",
    "                                         n_jobs=-1,\n",
    "                                         cv=3))"
   ]
  },
  {
   "cell_type": "code",
   "execution_count": 150,
   "metadata": {
    "scrolled": false
   },
   "outputs": [
    {
     "name": "stdout",
     "output_type": "stream",
     "text": [
      "CPU times: user 45.1 s, sys: 282 ms, total: 45.4 s\n",
      "Wall time: 1min 7s\n"
     ]
    },
    {
     "data": {
      "text/plain": [
       "Pipeline(steps=[('featureunion',\n",
       "                 FeatureUnion(n_jobs=-1,\n",
       "                              transformer_list=[('pipe_numerical',\n",
       "                                                 Pipeline(steps=[('ColumnSelector_numerical',\n",
       "                                                                  ColumnSelector(columns=['power',\n",
       "                                                                                          'kilometer',\n",
       "                                                                                          'car_age_years',\n",
       "                                                                                          'sale_days'])),\n",
       "                                                                 ('StandardScaler',\n",
       "                                                                  StandardScaler())])),\n",
       "                                                ('pipe_categorical_oe',\n",
       "                                                 Pipeline(steps=[('ColumnSelector_categorical',\n",
       "                                                                  ColumnSelector(columns=['vehicle...\n",
       "                                                                 ('',\n",
       "                                                                  OrdinalEncoder(handle_unknown='use_encoded_value',\n",
       "                                                                                 unknown_value=-1))]))])),\n",
       "                ('gridsearchcv',\n",
       "                 GridSearchCV(cv=3,\n",
       "                              estimator=<catboost.core.CatBoostRegressor object at 0x7f30414e1a00>,\n",
       "                              n_jobs=-1,\n",
       "                              param_grid={'max_depth': [4, 6, 8, 10],\n",
       "                                          'min_data_in_leaf': [50, 75],\n",
       "                                          'n_estimators': [50],\n",
       "                                          'random_state': [0],\n",
       "                                          'verbose': [False]},\n",
       "                              scoring='neg_root_mean_squared_error'))])"
      ]
     },
     "execution_count": 150,
     "metadata": {},
     "output_type": "execute_result"
    }
   ],
   "source": [
    "%%time\n",
    "\n",
    "# Обучение модели с подбором параметров.\n",
    "pipe_cbr_gs.fit(X_train, y_train)"
   ]
  },
  {
   "cell_type": "code",
   "execution_count": 151,
   "metadata": {},
   "outputs": [
    {
     "data": {
      "text/plain": [
       "<catboost.core.CatBoostRegressor at 0x7f304176e730>"
      ]
     },
     "execution_count": 151,
     "metadata": {},
     "output_type": "execute_result"
    }
   ],
   "source": [
    "# Вывод параметров лучшей модели.\n",
    "pipe_cbr_gs['gridsearchcv'].best_estimator_"
   ]
  },
  {
   "cell_type": "code",
   "execution_count": 152,
   "metadata": {},
   "outputs": [
    {
     "name": "stdout",
     "output_type": "stream",
     "text": [
      "CPU times: user 752 ms, sys: 1.29 ms, total: 753 ms\n",
      "Wall time: 759 ms\n"
     ]
    }
   ],
   "source": [
    "%%time\n",
    "\n",
    "# Прогноз.\n",
    "y_pred_train = pipe_cbr_gs.predict(X_train)"
   ]
  },
  {
   "cell_type": "code",
   "execution_count": 153,
   "metadata": {},
   "outputs": [
    {
     "name": "stdout",
     "output_type": "stream",
     "text": [
      "CPU times: user 268 ms, sys: 4.15 ms, total: 273 ms\n",
      "Wall time: 277 ms\n"
     ]
    }
   ],
   "source": [
    "%%time\n",
    "\n",
    "# Прогноз.\n",
    "y_pred_test = pipe_cbr_gs.predict(X_test)"
   ]
  },
  {
   "cell_type": "code",
   "execution_count": 154,
   "metadata": {
    "scrolled": false
   },
   "outputs": [
    {
     "data": {
      "text/html": [
       "<div>\n",
       "<style scoped>\n",
       "    .dataframe tbody tr th:only-of-type {\n",
       "        vertical-align: middle;\n",
       "    }\n",
       "\n",
       "    .dataframe tbody tr th {\n",
       "        vertical-align: top;\n",
       "    }\n",
       "\n",
       "    .dataframe thead th {\n",
       "        text-align: right;\n",
       "    }\n",
       "</style>\n",
       "<table border=\"1\" class=\"dataframe\">\n",
       "  <thead>\n",
       "    <tr style=\"text-align: right;\">\n",
       "      <th></th>\n",
       "      <th>RMSE_train</th>\n",
       "      <th>RMSE_test</th>\n",
       "      <th>time_fit</th>\n",
       "      <th>time_predict</th>\n",
       "    </tr>\n",
       "  </thead>\n",
       "  <tbody>\n",
       "    <tr>\n",
       "      <th>DummyRegressor</th>\n",
       "      <td>4535.09</td>\n",
       "      <td>4514.79</td>\n",
       "      <td>541 ms</td>\n",
       "      <td>157 ms</td>\n",
       "    </tr>\n",
       "    <tr>\n",
       "      <th>LinearRegression</th>\n",
       "      <td>2574.01</td>\n",
       "      <td>2570.77</td>\n",
       "      <td>27.7 s</td>\n",
       "      <td>159 ms</td>\n",
       "    </tr>\n",
       "    <tr>\n",
       "      <th>Lasso</th>\n",
       "      <td>2608.01</td>\n",
       "      <td>2602.82</td>\n",
       "      <td>28.1 s</td>\n",
       "      <td>154 ms</td>\n",
       "    </tr>\n",
       "    <tr>\n",
       "      <th>LassoCV</th>\n",
       "      <td>2608.01</td>\n",
       "      <td>2602.82</td>\n",
       "      <td>1min 28s</td>\n",
       "      <td>192 ms</td>\n",
       "    </tr>\n",
       "    <tr>\n",
       "      <th>Ridge</th>\n",
       "      <td>2575.73</td>\n",
       "      <td>2572.89</td>\n",
       "      <td>1.04 s</td>\n",
       "      <td>178 ms</td>\n",
       "    </tr>\n",
       "    <tr>\n",
       "      <th>RidgeCV</th>\n",
       "      <td>2575.98</td>\n",
       "      <td>2573.18</td>\n",
       "      <td>3.86 s</td>\n",
       "      <td>161 ms</td>\n",
       "    </tr>\n",
       "    <tr>\n",
       "      <th>DecisionTreeRegressor</th>\n",
       "      <td>427.37</td>\n",
       "      <td>2142.37</td>\n",
       "      <td>1.53 s</td>\n",
       "      <td>181 ms</td>\n",
       "    </tr>\n",
       "    <tr>\n",
       "      <th>DecisionTreeRegressorCV</th>\n",
       "      <td>1798.55</td>\n",
       "      <td>1881.01</td>\n",
       "      <td>10.1 s</td>\n",
       "      <td>163 ms</td>\n",
       "    </tr>\n",
       "    <tr>\n",
       "      <th>RandomForestRegressor</th>\n",
       "      <td>881.34</td>\n",
       "      <td>1764.52</td>\n",
       "      <td>4.26 s</td>\n",
       "      <td>351  ms</td>\n",
       "    </tr>\n",
       "    <tr>\n",
       "      <th>RandomForestRegressorCV</th>\n",
       "      <td>1779.93</td>\n",
       "      <td>1835.62</td>\n",
       "      <td>6.96 s</td>\n",
       "      <td>187 ms</td>\n",
       "    </tr>\n",
       "    <tr>\n",
       "      <th>CatBoostRegressor</th>\n",
       "      <td>1540.37</td>\n",
       "      <td>1604.34</td>\n",
       "      <td>37.3 s</td>\n",
       "      <td>361 ms</td>\n",
       "    </tr>\n",
       "    <tr>\n",
       "      <th>CatBoostRegressorCV</th>\n",
       "      <td>1563.81</td>\n",
       "      <td>1648.00</td>\n",
       "      <td>1min</td>\n",
       "      <td>299 ms</td>\n",
       "    </tr>\n",
       "  </tbody>\n",
       "</table>\n",
       "</div>"
      ],
      "text/plain": [
       "                         RMSE_train  RMSE_test  time_fit time_predict\n",
       "DummyRegressor              4535.09    4514.79    541 ms       157 ms\n",
       "LinearRegression            2574.01    2570.77    27.7 s       159 ms\n",
       "Lasso                       2608.01    2602.82    28.1 s       154 ms\n",
       "LassoCV                     2608.01    2602.82  1min 28s       192 ms\n",
       "Ridge                       2575.73    2572.89    1.04 s       178 ms\n",
       "RidgeCV                     2575.98    2573.18    3.86 s       161 ms\n",
       "DecisionTreeRegressor        427.37    2142.37    1.53 s       181 ms\n",
       "DecisionTreeRegressorCV     1798.55    1881.01    10.1 s       163 ms\n",
       "RandomForestRegressor        881.34    1764.52    4.26 s      351  ms\n",
       "RandomForestRegressorCV     1779.93    1835.62    6.96 s       187 ms\n",
       "CatBoostRegressor           1540.37    1604.34    37.3 s       361 ms\n",
       "CatBoostRegressorCV         1563.81    1648.00      1min       299 ms"
      ]
     },
     "execution_count": 154,
     "metadata": {},
     "output_type": "execute_result"
    }
   ],
   "source": [
    "# Расчёт метрики \"RMSE\".\n",
    "df_metrics.loc['CatBoostRegressorCV', 'RMSE_train'] = np.round(mean_squared_error(y_train, y_pred_train, squared=False), 2)\n",
    "df_metrics.loc['CatBoostRegressorCV', 'RMSE_test'] = np.round(mean_squared_error(y_test, y_pred_test, squared=False), 2)\n",
    "df_metrics.loc['CatBoostRegressorCV', 'time_fit'] = '1min'\n",
    "df_metrics.loc['CatBoostRegressorCV', 'time_predict'] = '299 ms'\n",
    "\n",
    "# Вывод метрик.\n",
    "df_metrics"
   ]
  },
  {
   "cell_type": "markdown",
   "metadata": {},
   "source": [
    "Подбор гиперпараметров ухудшил показатели модели, так как модель способна сама подбирать оптимальные настройки в процессе построения.\n",
    "\n",
    "Также рассмотрим применение модели без подготовки данных."
   ]
  },
  {
   "cell_type": "code",
   "execution_count": 155,
   "metadata": {},
   "outputs": [],
   "source": [
    "# Инициализация модели CatBoostRegressor.\n",
    "model_cbr_0 = CatBoostRegressor(cat_features=features_categorical,\n",
    "                                random_state=GLOBAL__RANDOM_STATE,\n",
    "                                verbose=100)"
   ]
  },
  {
   "cell_type": "code",
   "execution_count": 156,
   "metadata": {
    "scrolled": false
   },
   "outputs": [
    {
     "name": "stdout",
     "output_type": "stream",
     "text": [
      "Learning rate set to 0.097481\n",
      "0:\tlearn: 4258.4090898\ttotal: 236ms\tremaining: 3m 55s\n",
      "100:\tlearn: 1796.1707797\ttotal: 15.8s\tremaining: 2m 20s\n",
      "200:\tlearn: 1720.2439387\ttotal: 31.1s\tremaining: 2m 3s\n",
      "300:\tlearn: 1678.4070762\ttotal: 46.7s\tremaining: 1m 48s\n",
      "400:\tlearn: 1651.7229754\ttotal: 1m 1s\tremaining: 1m 32s\n",
      "500:\tlearn: 1632.4262284\ttotal: 1m 17s\tremaining: 1m 17s\n",
      "600:\tlearn: 1614.3417863\ttotal: 1m 34s\tremaining: 1m 2s\n",
      "700:\tlearn: 1600.6901490\ttotal: 1m 50s\tremaining: 47s\n",
      "800:\tlearn: 1589.5859422\ttotal: 2m 5s\tremaining: 31.3s\n",
      "900:\tlearn: 1579.6949183\ttotal: 2m 22s\tremaining: 15.7s\n",
      "999:\tlearn: 1569.4681632\ttotal: 2m 40s\tremaining: 0us\n",
      "CPU times: user 2min 39s, sys: 940 ms, total: 2min 40s\n",
      "Wall time: 2min 43s\n"
     ]
    },
    {
     "data": {
      "text/plain": [
       "<catboost.core.CatBoostRegressor at 0x7f30414eca00>"
      ]
     },
     "execution_count": 156,
     "metadata": {},
     "output_type": "execute_result"
    }
   ],
   "source": [
    "%%time\n",
    "\n",
    "# Обучение модели.\n",
    "model_cbr_0.fit(X_train, y_train)"
   ]
  },
  {
   "cell_type": "code",
   "execution_count": 157,
   "metadata": {
    "scrolled": true
   },
   "outputs": [
    {
     "name": "stdout",
     "output_type": "stream",
     "text": [
      "CPU times: user 1.71 s, sys: 8.94 ms, total: 1.72 s\n",
      "Wall time: 1.73 s\n"
     ]
    }
   ],
   "source": [
    "%%time\n",
    "\n",
    "# Прогноз.\n",
    "y_pred_train = model_cbr_0.predict(X_train)"
   ]
  },
  {
   "cell_type": "code",
   "execution_count": 158,
   "metadata": {
    "scrolled": true
   },
   "outputs": [
    {
     "name": "stdout",
     "output_type": "stream",
     "text": [
      "CPU times: user 537 ms, sys: 208 µs, total: 537 ms\n",
      "Wall time: 546 ms\n"
     ]
    }
   ],
   "source": [
    "%%time\n",
    "\n",
    "# Прогноз.\n",
    "y_pred_test = model_cbr_0.predict(X_test)"
   ]
  },
  {
   "cell_type": "code",
   "execution_count": 159,
   "metadata": {},
   "outputs": [
    {
     "data": {
      "text/html": [
       "<div>\n",
       "<style scoped>\n",
       "    .dataframe tbody tr th:only-of-type {\n",
       "        vertical-align: middle;\n",
       "    }\n",
       "\n",
       "    .dataframe tbody tr th {\n",
       "        vertical-align: top;\n",
       "    }\n",
       "\n",
       "    .dataframe thead th {\n",
       "        text-align: right;\n",
       "    }\n",
       "</style>\n",
       "<table border=\"1\" class=\"dataframe\">\n",
       "  <thead>\n",
       "    <tr style=\"text-align: right;\">\n",
       "      <th></th>\n",
       "      <th>RMSE_train</th>\n",
       "      <th>RMSE_test</th>\n",
       "      <th>time_fit</th>\n",
       "      <th>time_predict</th>\n",
       "    </tr>\n",
       "  </thead>\n",
       "  <tbody>\n",
       "    <tr>\n",
       "      <th>DummyRegressor</th>\n",
       "      <td>4535.09</td>\n",
       "      <td>4514.79</td>\n",
       "      <td>541 ms</td>\n",
       "      <td>157 ms</td>\n",
       "    </tr>\n",
       "    <tr>\n",
       "      <th>LinearRegression</th>\n",
       "      <td>2574.01</td>\n",
       "      <td>2570.77</td>\n",
       "      <td>27.7 s</td>\n",
       "      <td>159 ms</td>\n",
       "    </tr>\n",
       "    <tr>\n",
       "      <th>Lasso</th>\n",
       "      <td>2608.01</td>\n",
       "      <td>2602.82</td>\n",
       "      <td>28.1 s</td>\n",
       "      <td>154 ms</td>\n",
       "    </tr>\n",
       "    <tr>\n",
       "      <th>LassoCV</th>\n",
       "      <td>2608.01</td>\n",
       "      <td>2602.82</td>\n",
       "      <td>1min 28s</td>\n",
       "      <td>192 ms</td>\n",
       "    </tr>\n",
       "    <tr>\n",
       "      <th>Ridge</th>\n",
       "      <td>2575.73</td>\n",
       "      <td>2572.89</td>\n",
       "      <td>1.04 s</td>\n",
       "      <td>178 ms</td>\n",
       "    </tr>\n",
       "    <tr>\n",
       "      <th>RidgeCV</th>\n",
       "      <td>2575.98</td>\n",
       "      <td>2573.18</td>\n",
       "      <td>3.86 s</td>\n",
       "      <td>161 ms</td>\n",
       "    </tr>\n",
       "    <tr>\n",
       "      <th>DecisionTreeRegressor</th>\n",
       "      <td>427.37</td>\n",
       "      <td>2142.37</td>\n",
       "      <td>1.53 s</td>\n",
       "      <td>181 ms</td>\n",
       "    </tr>\n",
       "    <tr>\n",
       "      <th>DecisionTreeRegressorCV</th>\n",
       "      <td>1798.55</td>\n",
       "      <td>1881.01</td>\n",
       "      <td>10.1 s</td>\n",
       "      <td>163 ms</td>\n",
       "    </tr>\n",
       "    <tr>\n",
       "      <th>RandomForestRegressor</th>\n",
       "      <td>881.34</td>\n",
       "      <td>1764.52</td>\n",
       "      <td>4.26 s</td>\n",
       "      <td>351  ms</td>\n",
       "    </tr>\n",
       "    <tr>\n",
       "      <th>RandomForestRegressorCV</th>\n",
       "      <td>1779.93</td>\n",
       "      <td>1835.62</td>\n",
       "      <td>6.96 s</td>\n",
       "      <td>187 ms</td>\n",
       "    </tr>\n",
       "    <tr>\n",
       "      <th>CatBoostRegressor</th>\n",
       "      <td>1540.37</td>\n",
       "      <td>1604.34</td>\n",
       "      <td>37.3 s</td>\n",
       "      <td>361 ms</td>\n",
       "    </tr>\n",
       "    <tr>\n",
       "      <th>CatBoostRegressorCV</th>\n",
       "      <td>1563.81</td>\n",
       "      <td>1648.00</td>\n",
       "      <td>1min</td>\n",
       "      <td>299 ms</td>\n",
       "    </tr>\n",
       "    <tr>\n",
       "      <th>CatBoostRegressor_0</th>\n",
       "      <td>1566.77</td>\n",
       "      <td>1623.86</td>\n",
       "      <td>3min 22s</td>\n",
       "      <td>779 ms</td>\n",
       "    </tr>\n",
       "  </tbody>\n",
       "</table>\n",
       "</div>"
      ],
      "text/plain": [
       "                         RMSE_train  RMSE_test  time_fit time_predict\n",
       "DummyRegressor              4535.09    4514.79    541 ms       157 ms\n",
       "LinearRegression            2574.01    2570.77    27.7 s       159 ms\n",
       "Lasso                       2608.01    2602.82    28.1 s       154 ms\n",
       "LassoCV                     2608.01    2602.82  1min 28s       192 ms\n",
       "Ridge                       2575.73    2572.89    1.04 s       178 ms\n",
       "RidgeCV                     2575.98    2573.18    3.86 s       161 ms\n",
       "DecisionTreeRegressor        427.37    2142.37    1.53 s       181 ms\n",
       "DecisionTreeRegressorCV     1798.55    1881.01    10.1 s       163 ms\n",
       "RandomForestRegressor        881.34    1764.52    4.26 s      351  ms\n",
       "RandomForestRegressorCV     1779.93    1835.62    6.96 s       187 ms\n",
       "CatBoostRegressor           1540.37    1604.34    37.3 s       361 ms\n",
       "CatBoostRegressorCV         1563.81    1648.00      1min       299 ms\n",
       "CatBoostRegressor_0         1566.77    1623.86  3min 22s       779 ms"
      ]
     },
     "execution_count": 159,
     "metadata": {},
     "output_type": "execute_result"
    }
   ],
   "source": [
    "# Расчёт метрики \"RMSE\".\n",
    "df_metrics.loc['CatBoostRegressor_0', 'RMSE_train'] = np.round(mean_squared_error(y_train, y_pred_train, squared=False), 2)\n",
    "df_metrics.loc['CatBoostRegressor_0', 'RMSE_test'] = np.round(mean_squared_error(y_test, y_pred_test, squared=False), 2)\n",
    "df_metrics.loc['CatBoostRegressor_0', 'time_fit'] = '3min 22s'\n",
    "df_metrics.loc['CatBoostRegressor_0', 'time_predict'] = '779 ms'\n",
    "\n",
    "# Вывод метрик.\n",
    "df_metrics"
   ]
  },
  {
   "cell_type": "markdown",
   "metadata": {},
   "source": [
    "Модель <code>CatBoostRegressor_0</code> без подготовки данных показала чуть более худший результат, чем с подготовкой."
   ]
  },
  {
   "cell_type": "markdown",
   "metadata": {},
   "source": [
    "### LGBMRegressor"
   ]
  },
  {
   "cell_type": "code",
   "execution_count": 160,
   "metadata": {},
   "outputs": [],
   "source": [
    "# Инициализация модели CatBoostRegressor.\n",
    "model_gbm = LGBMRegressor(random_state=GLOBAL__RANDOM_STATE)"
   ]
  },
  {
   "cell_type": "code",
   "execution_count": 161,
   "metadata": {},
   "outputs": [],
   "source": [
    "# Пайплайн с моделью.\n",
    "pipe_gbm = Pipeline([\n",
    "    ('pipe_processing_oe', pipe_processing_oe),\n",
    "    ('model_gbm', model_gbm)\n",
    "])"
   ]
  },
  {
   "cell_type": "code",
   "execution_count": 162,
   "metadata": {
    "scrolled": false
   },
   "outputs": [
    {
     "name": "stdout",
     "output_type": "stream",
     "text": [
      "CPU times: user 37.8 s, sys: 264 ms, total: 38 s\n",
      "Wall time: 38.7 s\n"
     ]
    },
    {
     "data": {
      "text/plain": [
       "Pipeline(steps=[('pipe_processing_oe',\n",
       "                 FeatureUnion(n_jobs=-1,\n",
       "                              transformer_list=[('pipe_numerical',\n",
       "                                                 Pipeline(steps=[('ColumnSelector_numerical',\n",
       "                                                                  ColumnSelector(columns=['power',\n",
       "                                                                                          'kilometer',\n",
       "                                                                                          'car_age_years',\n",
       "                                                                                          'sale_days'])),\n",
       "                                                                 ('StandardScaler',\n",
       "                                                                  StandardScaler())])),\n",
       "                                                ('pipe_categorical_oe',\n",
       "                                                 Pipeline(steps=[('ColumnSelector_categorical',\n",
       "                                                                  ColumnSelector(columns=['vehicle_type',\n",
       "                                                                                          'gearbox',\n",
       "                                                                                          'fuel_type',\n",
       "                                                                                          'not_repaired',\n",
       "                                                                                          'brand_model'])),\n",
       "                                                                 ('',\n",
       "                                                                  OrdinalEncoder(handle_unknown='use_encoded_value',\n",
       "                                                                                 unknown_value=-1))]))])),\n",
       "                ('model_gbm', LGBMRegressor(random_state=0))])"
      ]
     },
     "execution_count": 162,
     "metadata": {},
     "output_type": "execute_result"
    }
   ],
   "source": [
    "%%time\n",
    "\n",
    "# Обучение модели.\n",
    "pipe_gbm.fit(X_train, y_train)"
   ]
  },
  {
   "cell_type": "code",
   "execution_count": 163,
   "metadata": {
    "scrolled": true
   },
   "outputs": [
    {
     "name": "stdout",
     "output_type": "stream",
     "text": [
      "CPU times: user 2.16 s, sys: 8.1 ms, total: 2.16 s\n",
      "Wall time: 2.12 s\n"
     ]
    }
   ],
   "source": [
    "%%time\n",
    "\n",
    "# Прогноз.\n",
    "y_pred_train = pipe_gbm.predict(X_train)"
   ]
  },
  {
   "cell_type": "code",
   "execution_count": 164,
   "metadata": {
    "scrolled": false
   },
   "outputs": [
    {
     "name": "stdout",
     "output_type": "stream",
     "text": [
      "CPU times: user 686 ms, sys: 0 ns, total: 686 ms\n",
      "Wall time: 621 ms\n"
     ]
    }
   ],
   "source": [
    "%%time\n",
    "\n",
    "# Прогноз.\n",
    "y_pred_test = pipe_gbm.predict(X_test)"
   ]
  },
  {
   "cell_type": "code",
   "execution_count": 165,
   "metadata": {},
   "outputs": [
    {
     "data": {
      "text/html": [
       "<div>\n",
       "<style scoped>\n",
       "    .dataframe tbody tr th:only-of-type {\n",
       "        vertical-align: middle;\n",
       "    }\n",
       "\n",
       "    .dataframe tbody tr th {\n",
       "        vertical-align: top;\n",
       "    }\n",
       "\n",
       "    .dataframe thead th {\n",
       "        text-align: right;\n",
       "    }\n",
       "</style>\n",
       "<table border=\"1\" class=\"dataframe\">\n",
       "  <thead>\n",
       "    <tr style=\"text-align: right;\">\n",
       "      <th></th>\n",
       "      <th>RMSE_train</th>\n",
       "      <th>RMSE_test</th>\n",
       "      <th>time_fit</th>\n",
       "      <th>time_predict</th>\n",
       "    </tr>\n",
       "  </thead>\n",
       "  <tbody>\n",
       "    <tr>\n",
       "      <th>DummyRegressor</th>\n",
       "      <td>4535.09</td>\n",
       "      <td>4514.79</td>\n",
       "      <td>541 ms</td>\n",
       "      <td>157 ms</td>\n",
       "    </tr>\n",
       "    <tr>\n",
       "      <th>LinearRegression</th>\n",
       "      <td>2574.01</td>\n",
       "      <td>2570.77</td>\n",
       "      <td>27.7 s</td>\n",
       "      <td>159 ms</td>\n",
       "    </tr>\n",
       "    <tr>\n",
       "      <th>Lasso</th>\n",
       "      <td>2608.01</td>\n",
       "      <td>2602.82</td>\n",
       "      <td>28.1 s</td>\n",
       "      <td>154 ms</td>\n",
       "    </tr>\n",
       "    <tr>\n",
       "      <th>LassoCV</th>\n",
       "      <td>2608.01</td>\n",
       "      <td>2602.82</td>\n",
       "      <td>1min 28s</td>\n",
       "      <td>192 ms</td>\n",
       "    </tr>\n",
       "    <tr>\n",
       "      <th>Ridge</th>\n",
       "      <td>2575.73</td>\n",
       "      <td>2572.89</td>\n",
       "      <td>1.04 s</td>\n",
       "      <td>178 ms</td>\n",
       "    </tr>\n",
       "    <tr>\n",
       "      <th>RidgeCV</th>\n",
       "      <td>2575.98</td>\n",
       "      <td>2573.18</td>\n",
       "      <td>3.86 s</td>\n",
       "      <td>161 ms</td>\n",
       "    </tr>\n",
       "    <tr>\n",
       "      <th>DecisionTreeRegressor</th>\n",
       "      <td>427.37</td>\n",
       "      <td>2142.37</td>\n",
       "      <td>1.53 s</td>\n",
       "      <td>181 ms</td>\n",
       "    </tr>\n",
       "    <tr>\n",
       "      <th>DecisionTreeRegressorCV</th>\n",
       "      <td>1798.55</td>\n",
       "      <td>1881.01</td>\n",
       "      <td>10.1 s</td>\n",
       "      <td>163 ms</td>\n",
       "    </tr>\n",
       "    <tr>\n",
       "      <th>RandomForestRegressor</th>\n",
       "      <td>881.34</td>\n",
       "      <td>1764.52</td>\n",
       "      <td>4.26 s</td>\n",
       "      <td>351  ms</td>\n",
       "    </tr>\n",
       "    <tr>\n",
       "      <th>RandomForestRegressorCV</th>\n",
       "      <td>1779.93</td>\n",
       "      <td>1835.62</td>\n",
       "      <td>6.96 s</td>\n",
       "      <td>187 ms</td>\n",
       "    </tr>\n",
       "    <tr>\n",
       "      <th>CatBoostRegressor</th>\n",
       "      <td>1540.37</td>\n",
       "      <td>1604.34</td>\n",
       "      <td>37.3 s</td>\n",
       "      <td>361 ms</td>\n",
       "    </tr>\n",
       "    <tr>\n",
       "      <th>CatBoostRegressorCV</th>\n",
       "      <td>1563.81</td>\n",
       "      <td>1648.00</td>\n",
       "      <td>1min</td>\n",
       "      <td>299 ms</td>\n",
       "    </tr>\n",
       "    <tr>\n",
       "      <th>CatBoostRegressor_0</th>\n",
       "      <td>1566.77</td>\n",
       "      <td>1623.86</td>\n",
       "      <td>3min 22s</td>\n",
       "      <td>779 ms</td>\n",
       "    </tr>\n",
       "    <tr>\n",
       "      <th>LGBMRegressor</th>\n",
       "      <td>1674.72</td>\n",
       "      <td>1701.98</td>\n",
       "      <td>7min 46s</td>\n",
       "      <td>824 ms</td>\n",
       "    </tr>\n",
       "  </tbody>\n",
       "</table>\n",
       "</div>"
      ],
      "text/plain": [
       "                         RMSE_train  RMSE_test  time_fit time_predict\n",
       "DummyRegressor              4535.09    4514.79    541 ms       157 ms\n",
       "LinearRegression            2574.01    2570.77    27.7 s       159 ms\n",
       "Lasso                       2608.01    2602.82    28.1 s       154 ms\n",
       "LassoCV                     2608.01    2602.82  1min 28s       192 ms\n",
       "Ridge                       2575.73    2572.89    1.04 s       178 ms\n",
       "RidgeCV                     2575.98    2573.18    3.86 s       161 ms\n",
       "DecisionTreeRegressor        427.37    2142.37    1.53 s       181 ms\n",
       "DecisionTreeRegressorCV     1798.55    1881.01    10.1 s       163 ms\n",
       "RandomForestRegressor        881.34    1764.52    4.26 s      351  ms\n",
       "RandomForestRegressorCV     1779.93    1835.62    6.96 s       187 ms\n",
       "CatBoostRegressor           1540.37    1604.34    37.3 s       361 ms\n",
       "CatBoostRegressorCV         1563.81    1648.00      1min       299 ms\n",
       "CatBoostRegressor_0         1566.77    1623.86  3min 22s       779 ms\n",
       "LGBMRegressor               1674.72    1701.98  7min 46s       824 ms"
      ]
     },
     "execution_count": 165,
     "metadata": {},
     "output_type": "execute_result"
    }
   ],
   "source": [
    "# Расчёт метрики \"RMSE\".\n",
    "df_metrics.loc['LGBMRegressor', 'RMSE_train'] = np.round(mean_squared_error(y_train, y_pred_train, squared=False), 2)\n",
    "df_metrics.loc['LGBMRegressor', 'RMSE_test'] = np.round(mean_squared_error(y_test, y_pred_test, squared=False), 2)\n",
    "df_metrics.loc['LGBMRegressor', 'time_fit'] = '7min 46s'\n",
    "df_metrics.loc['LGBMRegressor', 'time_predict'] = '824 ms'\n",
    "\n",
    "# Вывод метрик.\n",
    "df_metrics"
   ]
  },
  {
   "cell_type": "markdown",
   "metadata": {},
   "source": [
    "Модель <code>LGBMRegressor</code> обучилась практически без переобучения. Время обучения превысило аналогичный показатель у других моделей в несколько раз.\n",
    "\n",
    "Попробуем применить подбор гиперпараметров."
   ]
  },
  {
   "cell_type": "code",
   "execution_count": 166,
   "metadata": {},
   "outputs": [],
   "source": [
    "# Набор параметров для перебора.\n",
    "params_gbm = {\n",
    "    'n_estimators': [20],\n",
    "    'max_depth': [10],\n",
    "#     'min_child_samples': [50],\n",
    "    'random_state': [GLOBAL__RANDOM_STATE]\n",
    "}"
   ]
  },
  {
   "cell_type": "code",
   "execution_count": 167,
   "metadata": {},
   "outputs": [],
   "source": [
    "# Инициализация инструмента для перебора параметров.\n",
    "pipe_gbm_gs = make_pipeline(pipe_processing_oe,\n",
    "                            GridSearchCV(estimator=LGBMRegressor(),\n",
    "                                         param_grid=params_gbm,\n",
    "                                         scoring='neg_root_mean_squared_error',\n",
    "                                         n_jobs=-1,\n",
    "                                         cv=3))"
   ]
  },
  {
   "cell_type": "code",
   "execution_count": 168,
   "metadata": {
    "scrolled": false
   },
   "outputs": [
    {
     "name": "stdout",
     "output_type": "stream",
     "text": [
      "CPU times: user 5.8 s, sys: 0 ns, total: 5.8 s\n",
      "Wall time: 5.86 s\n"
     ]
    },
    {
     "data": {
      "text/plain": [
       "Pipeline(steps=[('featureunion',\n",
       "                 FeatureUnion(n_jobs=-1,\n",
       "                              transformer_list=[('pipe_numerical',\n",
       "                                                 Pipeline(steps=[('ColumnSelector_numerical',\n",
       "                                                                  ColumnSelector(columns=['power',\n",
       "                                                                                          'kilometer',\n",
       "                                                                                          'car_age_years',\n",
       "                                                                                          'sale_days'])),\n",
       "                                                                 ('StandardScaler',\n",
       "                                                                  StandardScaler())])),\n",
       "                                                ('pipe_categorical_oe',\n",
       "                                                 Pipeline(steps=[('ColumnSelector_categorical',\n",
       "                                                                  ColumnSelector(columns=['vehicle_type',\n",
       "                                                                                          'gearbox',\n",
       "                                                                                          'fuel_type',\n",
       "                                                                                          'not_repaired',\n",
       "                                                                                          'brand_model'])),\n",
       "                                                                 ('',\n",
       "                                                                  OrdinalEncoder(handle_unknown='use_encoded_value',\n",
       "                                                                                 unknown_value=-1))]))])),\n",
       "                ('gridsearchcv',\n",
       "                 GridSearchCV(cv=3, estimator=LGBMRegressor(), n_jobs=-1,\n",
       "                              param_grid={'max_depth': [10],\n",
       "                                          'n_estimators': [20],\n",
       "                                          'random_state': [0]},\n",
       "                              scoring='neg_root_mean_squared_error'))])"
      ]
     },
     "execution_count": 168,
     "metadata": {},
     "output_type": "execute_result"
    }
   ],
   "source": [
    "%%time\n",
    "\n",
    "# Обучение модели с подбором параметров.\n",
    "pipe_gbm_gs.fit(X_train, y_train)"
   ]
  },
  {
   "cell_type": "code",
   "execution_count": 169,
   "metadata": {},
   "outputs": [
    {
     "data": {
      "text/plain": [
       "LGBMRegressor(max_depth=10, n_estimators=20, random_state=0)"
      ]
     },
     "execution_count": 169,
     "metadata": {},
     "output_type": "execute_result"
    }
   ],
   "source": [
    "# Вывод параметров лучшей модели.\n",
    "pipe_gbm_gs['gridsearchcv'].best_estimator_"
   ]
  },
  {
   "cell_type": "code",
   "execution_count": 170,
   "metadata": {},
   "outputs": [
    {
     "name": "stdout",
     "output_type": "stream",
     "text": [
      "CPU times: user 674 ms, sys: 0 ns, total: 674 ms\n",
      "Wall time: 675 ms\n"
     ]
    }
   ],
   "source": [
    "%%time\n",
    "\n",
    "# Прогноз.\n",
    "y_pred_train = pipe_gbm_gs.predict(X_train)"
   ]
  },
  {
   "cell_type": "code",
   "execution_count": 171,
   "metadata": {},
   "outputs": [
    {
     "name": "stdout",
     "output_type": "stream",
     "text": [
      "CPU times: user 283 ms, sys: 3.98 ms, total: 287 ms\n",
      "Wall time: 297 ms\n"
     ]
    }
   ],
   "source": [
    "%%time\n",
    "\n",
    "# Прогноз.\n",
    "y_pred_test = pipe_gbm_gs.predict(X_test)"
   ]
  },
  {
   "cell_type": "code",
   "execution_count": 172,
   "metadata": {
    "scrolled": false
   },
   "outputs": [
    {
     "data": {
      "text/html": [
       "<div>\n",
       "<style scoped>\n",
       "    .dataframe tbody tr th:only-of-type {\n",
       "        vertical-align: middle;\n",
       "    }\n",
       "\n",
       "    .dataframe tbody tr th {\n",
       "        vertical-align: top;\n",
       "    }\n",
       "\n",
       "    .dataframe thead th {\n",
       "        text-align: right;\n",
       "    }\n",
       "</style>\n",
       "<table border=\"1\" class=\"dataframe\">\n",
       "  <thead>\n",
       "    <tr style=\"text-align: right;\">\n",
       "      <th></th>\n",
       "      <th>RMSE_train</th>\n",
       "      <th>RMSE_test</th>\n",
       "      <th>time_fit</th>\n",
       "      <th>time_predict</th>\n",
       "    </tr>\n",
       "  </thead>\n",
       "  <tbody>\n",
       "    <tr>\n",
       "      <th>DummyRegressor</th>\n",
       "      <td>4535.09</td>\n",
       "      <td>4514.79</td>\n",
       "      <td>541 ms</td>\n",
       "      <td>157 ms</td>\n",
       "    </tr>\n",
       "    <tr>\n",
       "      <th>LinearRegression</th>\n",
       "      <td>2574.01</td>\n",
       "      <td>2570.77</td>\n",
       "      <td>27.7 s</td>\n",
       "      <td>159 ms</td>\n",
       "    </tr>\n",
       "    <tr>\n",
       "      <th>Lasso</th>\n",
       "      <td>2608.01</td>\n",
       "      <td>2602.82</td>\n",
       "      <td>28.1 s</td>\n",
       "      <td>154 ms</td>\n",
       "    </tr>\n",
       "    <tr>\n",
       "      <th>LassoCV</th>\n",
       "      <td>2608.01</td>\n",
       "      <td>2602.82</td>\n",
       "      <td>1min 28s</td>\n",
       "      <td>192 ms</td>\n",
       "    </tr>\n",
       "    <tr>\n",
       "      <th>Ridge</th>\n",
       "      <td>2575.73</td>\n",
       "      <td>2572.89</td>\n",
       "      <td>1.04 s</td>\n",
       "      <td>178 ms</td>\n",
       "    </tr>\n",
       "    <tr>\n",
       "      <th>RidgeCV</th>\n",
       "      <td>2575.98</td>\n",
       "      <td>2573.18</td>\n",
       "      <td>3.86 s</td>\n",
       "      <td>161 ms</td>\n",
       "    </tr>\n",
       "    <tr>\n",
       "      <th>DecisionTreeRegressor</th>\n",
       "      <td>427.37</td>\n",
       "      <td>2142.37</td>\n",
       "      <td>1.53 s</td>\n",
       "      <td>181 ms</td>\n",
       "    </tr>\n",
       "    <tr>\n",
       "      <th>DecisionTreeRegressorCV</th>\n",
       "      <td>1798.55</td>\n",
       "      <td>1881.01</td>\n",
       "      <td>10.1 s</td>\n",
       "      <td>163 ms</td>\n",
       "    </tr>\n",
       "    <tr>\n",
       "      <th>RandomForestRegressor</th>\n",
       "      <td>881.34</td>\n",
       "      <td>1764.52</td>\n",
       "      <td>4.26 s</td>\n",
       "      <td>351  ms</td>\n",
       "    </tr>\n",
       "    <tr>\n",
       "      <th>RandomForestRegressorCV</th>\n",
       "      <td>1779.93</td>\n",
       "      <td>1835.62</td>\n",
       "      <td>6.96 s</td>\n",
       "      <td>187 ms</td>\n",
       "    </tr>\n",
       "    <tr>\n",
       "      <th>CatBoostRegressor</th>\n",
       "      <td>1540.37</td>\n",
       "      <td>1604.34</td>\n",
       "      <td>37.3 s</td>\n",
       "      <td>361 ms</td>\n",
       "    </tr>\n",
       "    <tr>\n",
       "      <th>CatBoostRegressorCV</th>\n",
       "      <td>1563.81</td>\n",
       "      <td>1648.00</td>\n",
       "      <td>1min</td>\n",
       "      <td>299 ms</td>\n",
       "    </tr>\n",
       "    <tr>\n",
       "      <th>CatBoostRegressor_0</th>\n",
       "      <td>1566.77</td>\n",
       "      <td>1623.86</td>\n",
       "      <td>3min 22s</td>\n",
       "      <td>779 ms</td>\n",
       "    </tr>\n",
       "    <tr>\n",
       "      <th>LGBMRegressor</th>\n",
       "      <td>1674.72</td>\n",
       "      <td>1701.98</td>\n",
       "      <td>7min 46s</td>\n",
       "      <td>824 ms</td>\n",
       "    </tr>\n",
       "    <tr>\n",
       "      <th>LGBMRegressorCV</th>\n",
       "      <td>2109.21</td>\n",
       "      <td>2114.23</td>\n",
       "      <td>5min 28s</td>\n",
       "      <td>282 ms</td>\n",
       "    </tr>\n",
       "  </tbody>\n",
       "</table>\n",
       "</div>"
      ],
      "text/plain": [
       "                         RMSE_train  RMSE_test  time_fit time_predict\n",
       "DummyRegressor              4535.09    4514.79    541 ms       157 ms\n",
       "LinearRegression            2574.01    2570.77    27.7 s       159 ms\n",
       "Lasso                       2608.01    2602.82    28.1 s       154 ms\n",
       "LassoCV                     2608.01    2602.82  1min 28s       192 ms\n",
       "Ridge                       2575.73    2572.89    1.04 s       178 ms\n",
       "RidgeCV                     2575.98    2573.18    3.86 s       161 ms\n",
       "DecisionTreeRegressor        427.37    2142.37    1.53 s       181 ms\n",
       "DecisionTreeRegressorCV     1798.55    1881.01    10.1 s       163 ms\n",
       "RandomForestRegressor        881.34    1764.52    4.26 s      351  ms\n",
       "RandomForestRegressorCV     1779.93    1835.62    6.96 s       187 ms\n",
       "CatBoostRegressor           1540.37    1604.34    37.3 s       361 ms\n",
       "CatBoostRegressorCV         1563.81    1648.00      1min       299 ms\n",
       "CatBoostRegressor_0         1566.77    1623.86  3min 22s       779 ms\n",
       "LGBMRegressor               1674.72    1701.98  7min 46s       824 ms\n",
       "LGBMRegressorCV             2109.21    2114.23  5min 28s       282 ms"
      ]
     },
     "execution_count": 172,
     "metadata": {},
     "output_type": "execute_result"
    }
   ],
   "source": [
    "# Расчёт метрики \"RMSE\".\n",
    "df_metrics.loc['LGBMRegressorCV', 'RMSE_train'] = np.round(mean_squared_error(y_train, y_pred_train, squared=False), 2)\n",
    "df_metrics.loc['LGBMRegressorCV', 'RMSE_test'] = np.round(mean_squared_error(y_test, y_pred_test, squared=False), 2)\n",
    "df_metrics.loc['LGBMRegressorCV', 'time_fit'] = '5min 28s'\n",
    "df_metrics.loc['LGBMRegressorCV', 'time_predict'] = '282 ms'\n",
    "\n",
    "# Вывод метрик.\n",
    "df_metrics"
   ]
  },
  {
   "cell_type": "markdown",
   "metadata": {},
   "source": [
    "Подбор гиперпараметров позволил сократить время построения модели, но при этом ухудшилось качество прогнозирования.\n",
    "\n",
    "Также рассмотрим применение модели без подготовки данных."
   ]
  },
  {
   "cell_type": "code",
   "execution_count": 173,
   "metadata": {},
   "outputs": [],
   "source": [
    "# Инициализация модели LGBMRegressor.\n",
    "model_gbm_0 = LGBMRegressor(random_state=GLOBAL__RANDOM_STATE)"
   ]
  },
  {
   "cell_type": "code",
   "execution_count": 174,
   "metadata": {
    "scrolled": false
   },
   "outputs": [
    {
     "name": "stdout",
     "output_type": "stream",
     "text": [
      "CPU times: user 9 s, sys: 28.3 ms, total: 9.03 s\n",
      "Wall time: 9.05 s\n"
     ]
    },
    {
     "data": {
      "text/plain": [
       "LGBMRegressor(random_state=0)"
      ]
     },
     "execution_count": 174,
     "metadata": {},
     "output_type": "execute_result"
    }
   ],
   "source": [
    "%%time\n",
    "\n",
    "# Подготовка данных.\n",
    "X_train_0 = X_train.copy()\n",
    "X_train_0[features_categorical] = X_train_0[features_categorical].astype('category')\n",
    "\n",
    "# Обучение модели.\n",
    "model_gbm_0.fit(X_train_0, y_train)"
   ]
  },
  {
   "cell_type": "code",
   "execution_count": 175,
   "metadata": {
    "scrolled": true
   },
   "outputs": [
    {
     "name": "stdout",
     "output_type": "stream",
     "text": [
      "CPU times: user 2.16 s, sys: 0 ns, total: 2.16 s\n",
      "Wall time: 2.21 s\n"
     ]
    }
   ],
   "source": [
    "%%time\n",
    "\n",
    "# Прогноз.\n",
    "y_pred_train = model_gbm_0.predict(X_train_0)"
   ]
  },
  {
   "cell_type": "code",
   "execution_count": 176,
   "metadata": {
    "scrolled": true
   },
   "outputs": [
    {
     "name": "stdout",
     "output_type": "stream",
     "text": [
      "CPU times: user 780 ms, sys: 0 ns, total: 780 ms\n",
      "Wall time: 787 ms\n"
     ]
    }
   ],
   "source": [
    "%%time\n",
    "\n",
    "# Подготовка данных.\n",
    "X_test_0 = X_test.copy()\n",
    "X_test_0[features_categorical] = X_test_0[features_categorical].astype('category')\n",
    "\n",
    "# Прогноз.\n",
    "y_pred_test = model_gbm_0.predict(X_test_0)"
   ]
  },
  {
   "cell_type": "code",
   "execution_count": 177,
   "metadata": {},
   "outputs": [
    {
     "data": {
      "text/html": [
       "<div>\n",
       "<style scoped>\n",
       "    .dataframe tbody tr th:only-of-type {\n",
       "        vertical-align: middle;\n",
       "    }\n",
       "\n",
       "    .dataframe tbody tr th {\n",
       "        vertical-align: top;\n",
       "    }\n",
       "\n",
       "    .dataframe thead th {\n",
       "        text-align: right;\n",
       "    }\n",
       "</style>\n",
       "<table border=\"1\" class=\"dataframe\">\n",
       "  <thead>\n",
       "    <tr style=\"text-align: right;\">\n",
       "      <th></th>\n",
       "      <th>RMSE_train</th>\n",
       "      <th>RMSE_test</th>\n",
       "      <th>time_fit</th>\n",
       "      <th>time_predict</th>\n",
       "    </tr>\n",
       "  </thead>\n",
       "  <tbody>\n",
       "    <tr>\n",
       "      <th>DummyRegressor</th>\n",
       "      <td>4535.09</td>\n",
       "      <td>4514.79</td>\n",
       "      <td>541 ms</td>\n",
       "      <td>157 ms</td>\n",
       "    </tr>\n",
       "    <tr>\n",
       "      <th>LinearRegression</th>\n",
       "      <td>2574.01</td>\n",
       "      <td>2570.77</td>\n",
       "      <td>27.7 s</td>\n",
       "      <td>159 ms</td>\n",
       "    </tr>\n",
       "    <tr>\n",
       "      <th>Lasso</th>\n",
       "      <td>2608.01</td>\n",
       "      <td>2602.82</td>\n",
       "      <td>28.1 s</td>\n",
       "      <td>154 ms</td>\n",
       "    </tr>\n",
       "    <tr>\n",
       "      <th>LassoCV</th>\n",
       "      <td>2608.01</td>\n",
       "      <td>2602.82</td>\n",
       "      <td>1min 28s</td>\n",
       "      <td>192 ms</td>\n",
       "    </tr>\n",
       "    <tr>\n",
       "      <th>Ridge</th>\n",
       "      <td>2575.73</td>\n",
       "      <td>2572.89</td>\n",
       "      <td>1.04 s</td>\n",
       "      <td>178 ms</td>\n",
       "    </tr>\n",
       "    <tr>\n",
       "      <th>RidgeCV</th>\n",
       "      <td>2575.98</td>\n",
       "      <td>2573.18</td>\n",
       "      <td>3.86 s</td>\n",
       "      <td>161 ms</td>\n",
       "    </tr>\n",
       "    <tr>\n",
       "      <th>DecisionTreeRegressor</th>\n",
       "      <td>427.37</td>\n",
       "      <td>2142.37</td>\n",
       "      <td>1.53 s</td>\n",
       "      <td>181 ms</td>\n",
       "    </tr>\n",
       "    <tr>\n",
       "      <th>DecisionTreeRegressorCV</th>\n",
       "      <td>1798.55</td>\n",
       "      <td>1881.01</td>\n",
       "      <td>10.1 s</td>\n",
       "      <td>163 ms</td>\n",
       "    </tr>\n",
       "    <tr>\n",
       "      <th>RandomForestRegressor</th>\n",
       "      <td>881.34</td>\n",
       "      <td>1764.52</td>\n",
       "      <td>4.26 s</td>\n",
       "      <td>351  ms</td>\n",
       "    </tr>\n",
       "    <tr>\n",
       "      <th>RandomForestRegressorCV</th>\n",
       "      <td>1779.93</td>\n",
       "      <td>1835.62</td>\n",
       "      <td>6.96 s</td>\n",
       "      <td>187 ms</td>\n",
       "    </tr>\n",
       "    <tr>\n",
       "      <th>CatBoostRegressor</th>\n",
       "      <td>1540.37</td>\n",
       "      <td>1604.34</td>\n",
       "      <td>37.3 s</td>\n",
       "      <td>361 ms</td>\n",
       "    </tr>\n",
       "    <tr>\n",
       "      <th>CatBoostRegressorCV</th>\n",
       "      <td>1563.81</td>\n",
       "      <td>1648.00</td>\n",
       "      <td>1min</td>\n",
       "      <td>299 ms</td>\n",
       "    </tr>\n",
       "    <tr>\n",
       "      <th>CatBoostRegressor_0</th>\n",
       "      <td>1566.77</td>\n",
       "      <td>1623.86</td>\n",
       "      <td>3min 22s</td>\n",
       "      <td>779 ms</td>\n",
       "    </tr>\n",
       "    <tr>\n",
       "      <th>LGBMRegressor</th>\n",
       "      <td>1674.72</td>\n",
       "      <td>1701.98</td>\n",
       "      <td>7min 46s</td>\n",
       "      <td>824 ms</td>\n",
       "    </tr>\n",
       "    <tr>\n",
       "      <th>LGBMRegressorCV</th>\n",
       "      <td>2109.21</td>\n",
       "      <td>2114.23</td>\n",
       "      <td>5min 28s</td>\n",
       "      <td>282 ms</td>\n",
       "    </tr>\n",
       "    <tr>\n",
       "      <th>LGBMRegressor_0</th>\n",
       "      <td>1559.85</td>\n",
       "      <td>1615.88</td>\n",
       "      <td>6min 15s</td>\n",
       "      <td>904 ms</td>\n",
       "    </tr>\n",
       "  </tbody>\n",
       "</table>\n",
       "</div>"
      ],
      "text/plain": [
       "                         RMSE_train  RMSE_test  time_fit time_predict\n",
       "DummyRegressor              4535.09    4514.79    541 ms       157 ms\n",
       "LinearRegression            2574.01    2570.77    27.7 s       159 ms\n",
       "Lasso                       2608.01    2602.82    28.1 s       154 ms\n",
       "LassoCV                     2608.01    2602.82  1min 28s       192 ms\n",
       "Ridge                       2575.73    2572.89    1.04 s       178 ms\n",
       "RidgeCV                     2575.98    2573.18    3.86 s       161 ms\n",
       "DecisionTreeRegressor        427.37    2142.37    1.53 s       181 ms\n",
       "DecisionTreeRegressorCV     1798.55    1881.01    10.1 s       163 ms\n",
       "RandomForestRegressor        881.34    1764.52    4.26 s      351  ms\n",
       "RandomForestRegressorCV     1779.93    1835.62    6.96 s       187 ms\n",
       "CatBoostRegressor           1540.37    1604.34    37.3 s       361 ms\n",
       "CatBoostRegressorCV         1563.81    1648.00      1min       299 ms\n",
       "CatBoostRegressor_0         1566.77    1623.86  3min 22s       779 ms\n",
       "LGBMRegressor               1674.72    1701.98  7min 46s       824 ms\n",
       "LGBMRegressorCV             2109.21    2114.23  5min 28s       282 ms\n",
       "LGBMRegressor_0             1559.85    1615.88  6min 15s       904 ms"
      ]
     },
     "execution_count": 177,
     "metadata": {},
     "output_type": "execute_result"
    }
   ],
   "source": [
    "# Расчёт метрики \"RMSE\".\n",
    "df_metrics.loc['LGBMRegressor_0', 'RMSE_train'] = np.round(mean_squared_error(y_train, y_pred_train, squared=False), 2)\n",
    "df_metrics.loc['LGBMRegressor_0', 'RMSE_test'] = np.round(mean_squared_error(y_test, y_pred_test, squared=False), 2)\n",
    "df_metrics.loc['LGBMRegressor_0', 'time_fit'] = '6min 15s'\n",
    "df_metrics.loc['LGBMRegressor_0', 'time_predict'] = '904 ms'\n",
    "\n",
    "# Вывод метрик.\n",
    "df_metrics"
   ]
  },
  {
   "cell_type": "markdown",
   "metadata": {},
   "source": [
    "Модель <code>LGBMRegressor_0</code> достигла лучшего результата без подготовки данных."
   ]
  },
  {
   "cell_type": "markdown",
   "metadata": {},
   "source": [
    "<div class=\"alert alert-warning\">\n",
    "    <h2> Комментарий ревьюера <a class=\"tocSkip\"> </h2>\n",
    "    \n",
    "<b>Некоторые замечания и рекомендации💡:</b> \n",
    "\n",
    "Есть такой момент: в помощь датасаентистам модели CatBoost и LightGBM умеют работать с данными как есть, сырые данные для них можно не категоризовать. И в этом спринте есть возможность отработать и попробовать этот способ. Также можно потом сравнить такую модель с аналогичной бустинговой моделью, обученной на OE-признаках. Привожу пример ниже:\n",
    "        \n",
    "Код ревьюера:\n",
    "```python\n",
    "cat_features = ['VehicleType', 'Gearbox', 'Model', 'FuelType', 'NotRepaired', 'Brand']  \n",
    "#(нужно их перевести в category)\n",
    "\n",
    "LGBM_model = LGBMRegressor(...)\n",
    "LGBM_model.fit(X_train, y_train, cat_features=cat_features, verbose=False)\n",
    "\n",
    "```\n"
   ]
  },
  {
   "cell_type": "markdown",
   "metadata": {},
   "source": [
    "<div class=\"alert alert-info\">\n",
    "<b>Комментарий студента:</b>\n",
    "<br>Реализовал построение моделей на сырых данных без подготовки.\n",
    "</div>"
   ]
  },
  {
   "cell_type": "markdown",
   "metadata": {},
   "source": [
    "<div class=\"alert alert-success\">\n",
    "<h2> Комментарий ревьюера v.2 <a class=\"tocSkip\"> </h2>\n",
    "\n",
    "<b>Все отлично!👍:</b> Супер!"
   ]
  },
  {
   "cell_type": "markdown",
   "metadata": {},
   "source": [
    "## Анализ моделей"
   ]
  },
  {
   "cell_type": "code",
   "execution_count": 178,
   "metadata": {},
   "outputs": [
    {
     "data": {
      "text/html": [
       "<div>\n",
       "<style scoped>\n",
       "    .dataframe tbody tr th:only-of-type {\n",
       "        vertical-align: middle;\n",
       "    }\n",
       "\n",
       "    .dataframe tbody tr th {\n",
       "        vertical-align: top;\n",
       "    }\n",
       "\n",
       "    .dataframe thead th {\n",
       "        text-align: right;\n",
       "    }\n",
       "</style>\n",
       "<table border=\"1\" class=\"dataframe\">\n",
       "  <thead>\n",
       "    <tr style=\"text-align: right;\">\n",
       "      <th></th>\n",
       "      <th>RMSE_train</th>\n",
       "      <th>RMSE_test</th>\n",
       "      <th>time_fit</th>\n",
       "      <th>time_predict</th>\n",
       "    </tr>\n",
       "  </thead>\n",
       "  <tbody>\n",
       "    <tr>\n",
       "      <th>CatBoostRegressor</th>\n",
       "      <td>1540.37</td>\n",
       "      <td>1604.34</td>\n",
       "      <td>37.3 s</td>\n",
       "      <td>361 ms</td>\n",
       "    </tr>\n",
       "    <tr>\n",
       "      <th>LGBMRegressor_0</th>\n",
       "      <td>1559.85</td>\n",
       "      <td>1615.88</td>\n",
       "      <td>6min 15s</td>\n",
       "      <td>904 ms</td>\n",
       "    </tr>\n",
       "    <tr>\n",
       "      <th>CatBoostRegressor_0</th>\n",
       "      <td>1566.77</td>\n",
       "      <td>1623.86</td>\n",
       "      <td>3min 22s</td>\n",
       "      <td>779 ms</td>\n",
       "    </tr>\n",
       "    <tr>\n",
       "      <th>CatBoostRegressorCV</th>\n",
       "      <td>1563.81</td>\n",
       "      <td>1648.00</td>\n",
       "      <td>1min</td>\n",
       "      <td>299 ms</td>\n",
       "    </tr>\n",
       "    <tr>\n",
       "      <th>LGBMRegressor</th>\n",
       "      <td>1674.72</td>\n",
       "      <td>1701.98</td>\n",
       "      <td>7min 46s</td>\n",
       "      <td>824 ms</td>\n",
       "    </tr>\n",
       "    <tr>\n",
       "      <th>RandomForestRegressor</th>\n",
       "      <td>881.34</td>\n",
       "      <td>1764.52</td>\n",
       "      <td>4.26 s</td>\n",
       "      <td>351  ms</td>\n",
       "    </tr>\n",
       "    <tr>\n",
       "      <th>RandomForestRegressorCV</th>\n",
       "      <td>1779.93</td>\n",
       "      <td>1835.62</td>\n",
       "      <td>6.96 s</td>\n",
       "      <td>187 ms</td>\n",
       "    </tr>\n",
       "    <tr>\n",
       "      <th>DecisionTreeRegressorCV</th>\n",
       "      <td>1798.55</td>\n",
       "      <td>1881.01</td>\n",
       "      <td>10.1 s</td>\n",
       "      <td>163 ms</td>\n",
       "    </tr>\n",
       "    <tr>\n",
       "      <th>LGBMRegressorCV</th>\n",
       "      <td>2109.21</td>\n",
       "      <td>2114.23</td>\n",
       "      <td>5min 28s</td>\n",
       "      <td>282 ms</td>\n",
       "    </tr>\n",
       "    <tr>\n",
       "      <th>DecisionTreeRegressor</th>\n",
       "      <td>427.37</td>\n",
       "      <td>2142.37</td>\n",
       "      <td>1.53 s</td>\n",
       "      <td>181 ms</td>\n",
       "    </tr>\n",
       "    <tr>\n",
       "      <th>LinearRegression</th>\n",
       "      <td>2574.01</td>\n",
       "      <td>2570.77</td>\n",
       "      <td>27.7 s</td>\n",
       "      <td>159 ms</td>\n",
       "    </tr>\n",
       "    <tr>\n",
       "      <th>Ridge</th>\n",
       "      <td>2575.73</td>\n",
       "      <td>2572.89</td>\n",
       "      <td>1.04 s</td>\n",
       "      <td>178 ms</td>\n",
       "    </tr>\n",
       "    <tr>\n",
       "      <th>RidgeCV</th>\n",
       "      <td>2575.98</td>\n",
       "      <td>2573.18</td>\n",
       "      <td>3.86 s</td>\n",
       "      <td>161 ms</td>\n",
       "    </tr>\n",
       "    <tr>\n",
       "      <th>Lasso</th>\n",
       "      <td>2608.01</td>\n",
       "      <td>2602.82</td>\n",
       "      <td>28.1 s</td>\n",
       "      <td>154 ms</td>\n",
       "    </tr>\n",
       "    <tr>\n",
       "      <th>LassoCV</th>\n",
       "      <td>2608.01</td>\n",
       "      <td>2602.82</td>\n",
       "      <td>1min 28s</td>\n",
       "      <td>192 ms</td>\n",
       "    </tr>\n",
       "    <tr>\n",
       "      <th>DummyRegressor</th>\n",
       "      <td>4535.09</td>\n",
       "      <td>4514.79</td>\n",
       "      <td>541 ms</td>\n",
       "      <td>157 ms</td>\n",
       "    </tr>\n",
       "  </tbody>\n",
       "</table>\n",
       "</div>"
      ],
      "text/plain": [
       "                         RMSE_train  RMSE_test  time_fit time_predict\n",
       "CatBoostRegressor           1540.37    1604.34    37.3 s       361 ms\n",
       "LGBMRegressor_0             1559.85    1615.88  6min 15s       904 ms\n",
       "CatBoostRegressor_0         1566.77    1623.86  3min 22s       779 ms\n",
       "CatBoostRegressorCV         1563.81    1648.00      1min       299 ms\n",
       "LGBMRegressor               1674.72    1701.98  7min 46s       824 ms\n",
       "RandomForestRegressor        881.34    1764.52    4.26 s      351  ms\n",
       "RandomForestRegressorCV     1779.93    1835.62    6.96 s       187 ms\n",
       "DecisionTreeRegressorCV     1798.55    1881.01    10.1 s       163 ms\n",
       "LGBMRegressorCV             2109.21    2114.23  5min 28s       282 ms\n",
       "DecisionTreeRegressor        427.37    2142.37    1.53 s       181 ms\n",
       "LinearRegression            2574.01    2570.77    27.7 s       159 ms\n",
       "Ridge                       2575.73    2572.89    1.04 s       178 ms\n",
       "RidgeCV                     2575.98    2573.18    3.86 s       161 ms\n",
       "Lasso                       2608.01    2602.82    28.1 s       154 ms\n",
       "LassoCV                     2608.01    2602.82  1min 28s       192 ms\n",
       "DummyRegressor              4535.09    4514.79    541 ms       157 ms"
      ]
     },
     "execution_count": 178,
     "metadata": {},
     "output_type": "execute_result"
    }
   ],
   "source": [
    "# Вывод метрик в порядке убывания качества.\n",
    "df_metrics.sort_values(by='RMSE_test')"
   ]
  },
  {
   "cell_type": "code",
   "execution_count": 179,
   "metadata": {},
   "outputs": [
    {
     "data": {
      "image/png": "[encoded data removed]",
      "text/plain": [
       "<Figure size 720x432 with 1 Axes>"
      ]
     },
     "metadata": {
      "needs_background": "light"
     },
     "output_type": "display_data"
    }
   ],
   "source": [
    "# Важность признаков модели \"DecisionTreeRegressor\"\n",
    "plt.figure(figsize=(10, 6))\n",
    "\n",
    "df_features = pd.DataFrame(data=pipe_dtr['model_dtr'].feature_importances_, columns=['Importance'])\n",
    "df_features['Feature'] = X_train.columns \n",
    "df_features = df_features.sort_values(by=['Importance'], ascending=False)\n",
    "\n",
    "sns.barplot(x=df_features['Importance'], y=df_features['Feature'])\n",
    "plt.title('Важность признаков модели \"DecisionTreeRegressor\"', font={'size': 16});"
   ]
  },
  {
   "cell_type": "code",
   "execution_count": 180,
   "metadata": {},
   "outputs": [
    {
     "data": {
      "image/png": "[encoded data removed]",
      "text/plain": [
       "<Figure size 720x432 with 1 Axes>"
      ]
     },
     "metadata": {
      "needs_background": "light"
     },
     "output_type": "display_data"
    }
   ],
   "source": [
    "# Важность признаков модели \"RandomForestRegressor\"\n",
    "plt.figure(figsize=(10, 6))\n",
    "\n",
    "df_features = pd.DataFrame(data=pipe_rfr['model_rfr'].feature_importances_, columns=['Importance'])\n",
    "df_features['Feature'] = X_train.columns \n",
    "df_features = df_features.sort_values(by=['Importance'], ascending=False)\n",
    "\n",
    "sns.barplot(x=df_features['Importance'], y=df_features['Feature'])\n",
    "plt.title('Важность признаков модели \"RandomForestRegressor\"', font={'size': 16});"
   ]
  },
  {
   "cell_type": "code",
   "execution_count": 181,
   "metadata": {},
   "outputs": [
    {
     "data": {
      "image/png": "[encoded data removed]",
      "text/plain": [
       "<Figure size 720x432 with 1 Axes>"
      ]
     },
     "metadata": {
      "needs_background": "light"
     },
     "output_type": "display_data"
    }
   ],
   "source": [
    "# Важность признаков модели \"CatBoostRegressor\"\n",
    "plt.figure(figsize=(10, 6))\n",
    "\n",
    "df_features = pd.DataFrame(data=model_cbr_0.feature_importances_, columns=['Importance'])\n",
    "df_features['Feature'] = X_train.columns \n",
    "df_features = df_features.sort_values(by=['Importance'], ascending=False)\n",
    "\n",
    "sns.barplot(x=df_features['Importance'], y=df_features['Feature'])\n",
    "plt.title('Важность признаков модели \"CatBoostRegressor\"', font={'size': 16});"
   ]
  },
  {
   "cell_type": "code",
   "execution_count": 182,
   "metadata": {},
   "outputs": [
    {
     "data": {
      "image/png": "[encoded data removed]",
      "text/plain": [
       "<Figure size 720x432 with 1 Axes>"
      ]
     },
     "metadata": {
      "needs_background": "light"
     },
     "output_type": "display_data"
    }
   ],
   "source": [
    "# Важность признаков модели \"LGBMRegressor\"\n",
    "plt.figure(figsize=(10, 6))\n",
    "\n",
    "df_features = pd.DataFrame(data=model_gbm_0.feature_importances_, columns=['Importance'])\n",
    "df_features['Feature'] = X_train.columns \n",
    "df_features = df_features.sort_values(by=['Importance'], ascending=False)\n",
    "\n",
    "sns.barplot(x=df_features['Importance'], y=df_features['Feature'])\n",
    "plt.title('Важность признаков модели \"LGBMRegressor\"', font={'size': 16});"
   ]
  },
  {
   "cell_type": "markdown",
   "metadata": {},
   "source": [
    "Исследование различных моделей машинного обучения позволило установить следующие особенности:\n",
    "- построение и валидация моделей на идентично подготовленных данных показало, что различные алгоритмы имеют разную эффективность;\n",
    "- все рассмотренные модели прошли проверку на адекватность - показали качество лучшее, чем у базовой модели;\n",
    "- семейство линейных моделей показали схожее качество с друг другом и не смогли преодолеть установленный порог;\n",
    "- более сложные модели, основанные на деревьях решений, справились с задачей даже без подбора гиперпараметров;\n",
    "- деревья решений и их модификации склонны к переобучению, что удалось нивелировать подбором гиперпараметров;\n",
    "- деревья решений и их модификации показали значительно более лучшее качество, чем семейство линейных моделей;\n",
    "- наилучшее качество показала модель <code>CatBoostRegressor</code>, она же оказалась одной из самых быстрых моделей;\n",
    "- наибольшее время построения заняло у модели <code>LGBMRegressor</code>, которая незначительно уступила модели <code>CatBoostRegressor</code> в показателе качества прогнозирования;\n",
    "- модели <code>CatBoostRegressor</code> и <code>LGBMRegressor</code> имеют встроенные инструменты настройки гиперпараметров. Также данные модели являются сложными алгоритмами градиентного бустинга, что затрудняет эффективный подбор гиперпараметров;\n",
    "- наиболее важными признаками для моделей дерево решений и случайный лес оказались мощность авто <code>power</code> и тип кузова <code>vehicle_type</code>;\n",
    "- модель <code>CatBoostRegressor</code> в первую очередь оценивала стоимость автомобиля по его возрасту <code>car_age_years</code>, мощности <code>power</code> и пробегу <code>kilometer</code>;\n",
    "- модель <code>LGBMRegressor</code> опиралась на марку авто <code>brand_model</code>, возраст <code>car_age_years</code> и мощность <code>power</code>."
   ]
  },
  {
   "cell_type": "markdown",
   "metadata": {},
   "source": [
    "<div class=\"alert alert-success\">\n",
    "<h2> Комментарий ревьюера v.2 <a class=\"tocSkip\"> </h2>\n",
    "\n",
    "<b>Все отлично!👍:</b> \n",
    "    \n",
    "Анализ моделей проведен корректно!"
   ]
  },
  {
   "cell_type": "markdown",
   "metadata": {},
   "source": [
    "\n",
    "\n",
    "<div class=\"alert alert-warning\">\n",
    "    <h2> Комментарий ревьюера <a class=\"tocSkip\"> </h2>\n",
    "    \n",
    "<b>Некоторые замечания и рекомендации💡:</b> \n",
    "\n",
    "Будет очень здорово, если ты найдёшь возможность сделать график важности факторов. Это важная вещь для финальной части любой модельной работы. Пример ниже.\n",
    "        \n",
    "\n",
    "        \n",
    "Код ревьюера:\n",
    "```python\n",
    "feature_names = X_train.columns \n",
    "model = RandomForestRegressor(n_estimators=10, random_state=12345)\n",
    "model.fit(X_train, y_train)\n",
    "pred = model.predict(X_test)\n",
    "importances = model.feature_importances_\n",
    "model_importances = pd.Series(importances, index=feature_names)\n",
    "\n",
    "std = np.std([model.feature_importances_ for tree in str(1000)], axis=0)\n",
    "\n",
    "fig, ax = plt.subplots(figsize=(10,7))\n",
    "model_importances.plot.bar(yerr=std, ax=ax)\n",
    "ax.set_title(\"Feature importances\")\n",
    "ax.set_ylabel(\"Mean decrease in impurity\")\n",
    "fig.tight_layout()\n",
    "\n",
    "```\n"
   ]
  },
  {
   "cell_type": "markdown",
   "metadata": {},
   "source": [
    "<div class=\"alert alert-info\">\n",
    "<b>Комментарий студента:</b>\n",
    "<br>Добавил графики для моделей, где признаки сохранили интерпретируемость.\n",
    "</div>"
   ]
  },
  {
   "cell_type": "markdown",
   "metadata": {},
   "source": [
    "<div class=\"alert alert-success\">\n",
    "<h2> Комментарий ревьюера v.2 <a class=\"tocSkip\"> </h2>\n",
    "\n",
    "<b>Все отлично!👍:</b> Молодец)"
   ]
  },
  {
   "cell_type": "markdown",
   "metadata": {},
   "source": [
    "<div class=\"alert alert-success\">\n",
    "<h2> Комментарий ревьюера v.2 <a class=\"tocSkip\"> </h2>\n",
    "\n",
    "<b>Все отлично!👍:</b> \n",
    "\n",
    "Если хочешь лучше разобраться в спринте, то могу посоветовать тебе учебник по ML от ШАД: https://ml-handbook.ru/chapters/grad_boost/intro\n",
    "    \n",
    "статью на Хабре: https://habr.com/ru/company/ods/blog/327250/\n",
    "    \n",
    "и видео: https://www.youtube.com/watch?v=xl1fwCza9C8\n",
    "    \n",
    "а также статью про подбор гиперпараметров с Optuna: https://www.kaggle.com/code/hamzaghanmi/lgbm-hyperparameter-tuning-using-optuna/notebook"
   ]
  },
  {
   "cell_type": "markdown",
   "metadata": {},
   "source": [
    "## Чек-лист проверки"
   ]
  },
  {
   "cell_type": "markdown",
   "metadata": {},
   "source": [
    "Поставьте 'x' в выполненных пунктах. Далее нажмите Shift+Enter."
   ]
  },
  {
   "cell_type": "markdown",
   "metadata": {},
   "source": [
    "- [x]  Jupyter Notebook открыт\n",
    "- [x]  Весь код выполняется без ошибок\n",
    "- [x]  Ячейки с кодом расположены в порядке исполнения\n",
    "- [x]  Выполнена загрузка и подготовка данных\n",
    "- [x]  Выполнено обучение моделей\n",
    "- [x]  Есть анализ скорости работы и качества моделей"
   ]
  },
  {
   "cell_type": "markdown",
   "metadata": {},
   "source": [
    "<div style=\"border:solid Chocolate 2px; padding: 40px\">\n",
    "\n",
    "\n",
    "<h2> Итоговый комментарий ревьюера v.1 <a class=\"tocSkip\"> </h2>    \n",
    "    \n",
    "  \n",
    "Сергей,    \n",
    "у меня сложилось хорошее общее впечатление о проекте, тебе удалось неплохо справиться с таким сложным проектом. Молодец! Подготовлены данные для анализа и проанализированы, изучен каждый параметр. Построено несколько моделей регрессии, оценены их качество и скорость работы. Осмысленная аналитика и дельная модельная работа - многое удалось как надо)\n",
    "    \n",
    "Отмечу отдельные положительные моменты проекта🙂:\n",
    "    \n",
    "- используется OHE тип кодирования категориальных признаков;\n",
    "- при обучении моделей использованы `Pipeline`, кросс-валидация и поиск гиперпараметров с GridSearchCV.\n",
    "- есть интересные визуализации в проекте.\n",
    "    \n",
    "\n",
    "    \n",
    "Есть несколько моментов всего, на которые стоит ещё раз взглянуть. \n",
    "Предлагаю тебе доработать проект по моим комментариям, чтобы довести его до совершенства:\n",
    "\n",
    "- Не понятно, на основании чего выбран порог для отсечения аномалий в Power.\n",
    "- Если используешь модели на основе деревьев, то в данном случае категориальные признаки следует кодировать методом OE.\n",
    "- Исправь выводы при необходимости.\n",
    "    \n",
    "Если будут вопросы, обращайся, с удовольствием на них отвечу.  \n",
    "</div>"
   ]
  },
  {
   "cell_type": "markdown",
   "metadata": {},
   "source": [
    "<div style=\"border:solid Chocolate 2px; padding: 40px\">\n",
    "\n",
    "\n",
    "<h2> Итоговый комментарий ревьюера v.2 <a class=\"tocSkip\"> </h2>    \n",
    "    \n",
    "     \n",
    "  \n",
    "Сергей, теперь почти идеально, молодец! Принимаю твой проект)\n",
    "    \n",
    "    \n",
    "В этом проекте много шагов отработано. С интересом читал твои размышления, код и выводы. Что ещё для дальнейшего улучшения качества/скорости моделирования возможно сделать?\n",
    "    \n",
    "Опишу здесь некоторые идеи:\n",
    "    \n",
    "1. Качество данных на входе: ещё раз оценить аномалии, пропуски, проверить согласованность временных признаков.\n",
    "2. Генерация новых полезных признаков (features engineering), например категории возраста автомобиля (ретро, супер-ретро, ...) и т.д.  \n",
    "3. Оптимизация подбора гиперпараметров (OptunaSearchCV, RandomizedSearchCV, BayesSearchCV и т.д.)\n",
    "4. Изменение типов данных признаков для ускорения вычислений.\n",
    "5. Анализ остатков (разницы между прогнозом и фактом): выявить, в каких случаях чаще всего ошибается, а в каких выдает наиболее точный результат... \n",
    "    \n",
    "Но цель нашего проекта достигнута: пройдены основные этапы построения модели с учетом ее качества и скорости работы.\n",
    "    \n",
    "Рад был тебе помочь)\n",
    "\n",
    "Преподаватель в Slack будет рад помочь, если у тебя появятся вопросы. Удачи в следующем спринте!\n",
    "  \n",
    "</div>"
   ]
  },
  {
   "cell_type": "markdown",
   "metadata": {},
   "source": []
  }
 ],
 "metadata": {
  "ExecuteTimeLog": [
   {
    "duration": 419,
    "start_time": "2022-06-13T13:01:49.351Z"
   },
   {
    "duration": 3,
    "start_time": "2022-06-13T13:02:14.411Z"
   },
   {
    "duration": 3,
    "start_time": "2022-06-13T13:04:17.212Z"
   },
   {
    "duration": 2879,
    "start_time": "2022-06-13T13:07:02.803Z"
   },
   {
    "duration": 17,
    "start_time": "2022-06-13T13:07:13.977Z"
   },
   {
    "duration": 83,
    "start_time": "2022-06-13T13:09:55.434Z"
   },
   {
    "duration": 870,
    "start_time": "2022-06-13T13:10:11.241Z"
   },
   {
    "duration": 111,
    "start_time": "2022-06-13T13:11:10.239Z"
   },
   {
    "duration": 102,
    "start_time": "2022-06-13T13:11:52.495Z"
   },
   {
    "duration": 98,
    "start_time": "2022-06-13T13:11:58.693Z"
   },
   {
    "duration": 91,
    "start_time": "2022-06-13T13:12:11.559Z"
   },
   {
    "duration": 91,
    "start_time": "2022-06-13T13:12:55.239Z"
   },
   {
    "duration": 91,
    "start_time": "2022-06-13T13:13:05.471Z"
   },
   {
    "duration": 148,
    "start_time": "2022-06-13T13:13:24.118Z"
   },
   {
    "duration": 92,
    "start_time": "2022-06-13T13:13:41.990Z"
   },
   {
    "duration": 79,
    "start_time": "2022-06-13T13:14:20.854Z"
   },
   {
    "duration": 531,
    "start_time": "2022-06-13T13:34:57.720Z"
   },
   {
    "duration": 144,
    "start_time": "2022-06-13T13:35:32.533Z"
   },
   {
    "duration": 264,
    "start_time": "2022-06-13T13:37:27.756Z"
   },
   {
    "duration": 177,
    "start_time": "2022-06-13T13:37:36.661Z"
   },
   {
    "duration": 40,
    "start_time": "2022-06-13T13:38:26.564Z"
   },
   {
    "duration": 2,
    "start_time": "2022-06-13T13:38:30.884Z"
   },
   {
    "duration": 420,
    "start_time": "2022-06-13T13:38:57.130Z"
   },
   {
    "duration": 178,
    "start_time": "2022-06-13T13:39:04.996Z"
   },
   {
    "duration": 228,
    "start_time": "2022-06-13T13:39:34.391Z"
   },
   {
    "duration": 27,
    "start_time": "2022-06-13T13:40:19.275Z"
   },
   {
    "duration": 12,
    "start_time": "2022-06-13T13:40:25.139Z"
   },
   {
    "duration": 13,
    "start_time": "2022-06-13T13:40:35.963Z"
   },
   {
    "duration": 29,
    "start_time": "2022-06-13T13:41:45.824Z"
   },
   {
    "duration": 129,
    "start_time": "2022-06-13T13:42:00.106Z"
   },
   {
    "duration": 129,
    "start_time": "2022-06-13T13:42:30.235Z"
   },
   {
    "duration": 116,
    "start_time": "2022-06-13T13:42:48.338Z"
   },
   {
    "duration": 136,
    "start_time": "2022-06-13T13:43:34.866Z"
   },
   {
    "duration": 109,
    "start_time": "2022-06-13T13:43:43.890Z"
   },
   {
    "duration": 25,
    "start_time": "2022-06-13T13:44:13.154Z"
   },
   {
    "duration": 131,
    "start_time": "2022-06-13T13:45:39.761Z"
   },
   {
    "duration": 22,
    "start_time": "2022-06-13T13:46:22.362Z"
   },
   {
    "duration": 20,
    "start_time": "2022-06-13T13:51:59.463Z"
   },
   {
    "duration": 179,
    "start_time": "2022-06-13T13:53:13.831Z"
   },
   {
    "duration": 11,
    "start_time": "2022-06-13T13:54:15.470Z"
   },
   {
    "duration": 427,
    "start_time": "2022-06-13T13:54:21.999Z"
   },
   {
    "duration": 328,
    "start_time": "2022-06-13T13:55:13.094Z"
   },
   {
    "duration": 367,
    "start_time": "2022-06-13T13:56:15.509Z"
   },
   {
    "duration": 372,
    "start_time": "2022-06-13T13:56:19.181Z"
   },
   {
    "duration": 388,
    "start_time": "2022-06-13T13:56:22.581Z"
   },
   {
    "duration": 358,
    "start_time": "2022-06-13T13:56:25.741Z"
   },
   {
    "duration": 345,
    "start_time": "2022-06-13T13:56:30.925Z"
   },
   {
    "duration": 359,
    "start_time": "2022-06-13T13:59:18.948Z"
   },
   {
    "duration": 397,
    "start_time": "2022-06-13T14:00:23.027Z"
   },
   {
    "duration": 379,
    "start_time": "2022-06-13T14:00:59.956Z"
   },
   {
    "duration": 383,
    "start_time": "2022-06-13T14:01:03.043Z"
   },
   {
    "duration": 97,
    "start_time": "2022-06-13T14:01:35.756Z"
   },
   {
    "duration": 89,
    "start_time": "2022-06-13T14:02:11.418Z"
   },
   {
    "duration": 92,
    "start_time": "2022-06-13T14:03:34.311Z"
   },
   {
    "duration": 346,
    "start_time": "2022-06-13T14:04:12.810Z"
   },
   {
    "duration": 452,
    "start_time": "2022-06-13T14:05:05.462Z"
   },
   {
    "duration": 410,
    "start_time": "2022-06-13T14:05:13.081Z"
   },
   {
    "duration": 94,
    "start_time": "2022-06-13T14:06:13.599Z"
   },
   {
    "duration": 106,
    "start_time": "2022-06-13T14:06:24.849Z"
   },
   {
    "duration": 90,
    "start_time": "2022-06-13T14:07:07.024Z"
   },
   {
    "duration": 111,
    "start_time": "2022-06-13T14:07:10.046Z"
   },
   {
    "duration": 104,
    "start_time": "2022-06-13T14:07:12.044Z"
   },
   {
    "duration": 94,
    "start_time": "2022-06-13T14:08:20.424Z"
   },
   {
    "duration": 368,
    "start_time": "2022-06-13T14:09:50.192Z"
   },
   {
    "duration": 400,
    "start_time": "2022-06-13T14:10:07.255Z"
   },
   {
    "duration": 818,
    "start_time": "2022-06-13T14:10:09.312Z"
   },
   {
    "duration": 423,
    "start_time": "2022-06-13T14:10:33.639Z"
   },
   {
    "duration": 20,
    "start_time": "2022-06-13T14:17:11.389Z"
   },
   {
    "duration": 13,
    "start_time": "2022-06-13T14:17:20.932Z"
   },
   {
    "duration": 15,
    "start_time": "2022-06-13T14:17:26.268Z"
   },
   {
    "duration": 14,
    "start_time": "2022-06-13T14:17:51.613Z"
   },
   {
    "duration": 13,
    "start_time": "2022-06-13T14:18:09.149Z"
   },
   {
    "duration": 13,
    "start_time": "2022-06-13T14:20:47.548Z"
   },
   {
    "duration": 14,
    "start_time": "2022-06-13T14:20:54.954Z"
   },
   {
    "duration": 13,
    "start_time": "2022-06-13T14:21:04.027Z"
   },
   {
    "duration": 13,
    "start_time": "2022-06-13T14:21:51.299Z"
   },
   {
    "duration": 286,
    "start_time": "2022-06-13T14:22:40.179Z"
   },
   {
    "duration": 13,
    "start_time": "2022-06-13T14:23:11.242Z"
   },
   {
    "duration": 14,
    "start_time": "2022-06-13T14:23:43.610Z"
   },
   {
    "duration": 22,
    "start_time": "2022-06-13T14:24:53.417Z"
   },
   {
    "duration": 6,
    "start_time": "2022-06-13T14:24:56.849Z"
   },
   {
    "duration": 9,
    "start_time": "2022-06-13T14:25:02.769Z"
   },
   {
    "duration": 96,
    "start_time": "2022-06-13T14:28:58.664Z"
   },
   {
    "duration": 13,
    "start_time": "2022-06-13T14:29:05.447Z"
   },
   {
    "duration": 12,
    "start_time": "2022-06-13T14:29:08.868Z"
   },
   {
    "duration": 41,
    "start_time": "2022-06-13T14:39:09.921Z"
   },
   {
    "duration": 13,
    "start_time": "2022-06-13T14:39:35.026Z"
   },
   {
    "duration": 11,
    "start_time": "2022-06-13T14:40:54.596Z"
   },
   {
    "duration": 29,
    "start_time": "2022-06-13T14:41:09.651Z"
   },
   {
    "duration": 21,
    "start_time": "2022-06-13T14:41:54.235Z"
   },
   {
    "duration": 20,
    "start_time": "2022-06-13T14:41:58.851Z"
   },
   {
    "duration": 16,
    "start_time": "2022-06-13T14:42:03.747Z"
   },
   {
    "duration": 17,
    "start_time": "2022-06-13T14:42:08.499Z"
   },
   {
    "duration": 32,
    "start_time": "2022-06-13T14:42:09.200Z"
   },
   {
    "duration": 20,
    "start_time": "2022-06-13T14:42:24.324Z"
   },
   {
    "duration": 13,
    "start_time": "2022-06-13T14:42:37.307Z"
   },
   {
    "duration": 19,
    "start_time": "2022-06-13T14:42:57.882Z"
   },
   {
    "duration": 32,
    "start_time": "2022-06-13T14:44:07.010Z"
   },
   {
    "duration": 24,
    "start_time": "2022-06-13T14:44:36.522Z"
   },
   {
    "duration": 16,
    "start_time": "2022-06-13T14:44:39.059Z"
   },
   {
    "duration": 17,
    "start_time": "2022-06-13T14:44:47.194Z"
   },
   {
    "duration": 67,
    "start_time": "2022-06-13T14:45:26.122Z"
   },
   {
    "duration": 63,
    "start_time": "2022-06-13T14:45:36.906Z"
   },
   {
    "duration": 27,
    "start_time": "2022-06-13T14:45:44.688Z"
   },
   {
    "duration": 14,
    "start_time": "2022-06-13T14:46:13.001Z"
   },
   {
    "duration": 13,
    "start_time": "2022-06-13T14:46:20.073Z"
   },
   {
    "duration": 29,
    "start_time": "2022-06-13T14:46:54.312Z"
   },
   {
    "duration": 35,
    "start_time": "2022-06-13T14:47:08.648Z"
   },
   {
    "duration": 35,
    "start_time": "2022-06-13T14:47:33.953Z"
   },
   {
    "duration": 40,
    "start_time": "2022-06-13T14:47:37.400Z"
   },
   {
    "duration": 47,
    "start_time": "2022-06-13T14:47:48.361Z"
   },
   {
    "duration": 19,
    "start_time": "2022-06-13T14:47:51.969Z"
   },
   {
    "duration": 29,
    "start_time": "2022-06-13T14:48:01.265Z"
   },
   {
    "duration": 29,
    "start_time": "2022-06-13T14:48:16.407Z"
   },
   {
    "duration": 71,
    "start_time": "2022-06-13T14:49:34.676Z"
   },
   {
    "duration": 30,
    "start_time": "2022-06-13T14:49:56.671Z"
   },
   {
    "duration": 33,
    "start_time": "2022-06-13T14:50:05.031Z"
   },
   {
    "duration": 4,
    "start_time": "2022-06-13T14:58:46.723Z"
   },
   {
    "duration": 13,
    "start_time": "2022-06-13T14:58:52.907Z"
   },
   {
    "duration": 30,
    "start_time": "2022-06-13T14:59:04.804Z"
   },
   {
    "duration": 29,
    "start_time": "2022-06-13T14:59:21.043Z"
   },
   {
    "duration": 29,
    "start_time": "2022-06-13T14:59:30.963Z"
   },
   {
    "duration": 37,
    "start_time": "2022-06-13T14:59:42.028Z"
   },
   {
    "duration": 31,
    "start_time": "2022-06-13T14:59:47.347Z"
   },
   {
    "duration": 15,
    "start_time": "2022-06-13T14:59:51.827Z"
   },
   {
    "duration": 23,
    "start_time": "2022-06-13T14:59:54.499Z"
   },
   {
    "duration": 31,
    "start_time": "2022-06-13T14:59:57.970Z"
   },
   {
    "duration": 31,
    "start_time": "2022-06-13T15:00:06.539Z"
   },
   {
    "duration": 27,
    "start_time": "2022-06-13T15:00:18.715Z"
   },
   {
    "duration": 45,
    "start_time": "2022-06-13T15:00:22.891Z"
   },
   {
    "duration": 30,
    "start_time": "2022-06-13T15:05:09.729Z"
   },
   {
    "duration": 26,
    "start_time": "2022-06-13T15:05:45.828Z"
   },
   {
    "duration": 30,
    "start_time": "2022-06-13T15:06:10.745Z"
   },
   {
    "duration": 22,
    "start_time": "2022-06-13T15:06:33.472Z"
   },
   {
    "duration": 21,
    "start_time": "2022-06-13T15:07:03.376Z"
   },
   {
    "duration": 9,
    "start_time": "2022-06-13T15:22:22.905Z"
   },
   {
    "duration": 8,
    "start_time": "2022-06-13T15:22:50.082Z"
   },
   {
    "duration": 4,
    "start_time": "2022-06-13T15:28:47.801Z"
   },
   {
    "duration": 3,
    "start_time": "2022-06-13T15:31:36.186Z"
   },
   {
    "duration": 3,
    "start_time": "2022-06-13T15:32:04.589Z"
   },
   {
    "duration": 4,
    "start_time": "2022-06-13T15:32:14.285Z"
   },
   {
    "duration": 4,
    "start_time": "2022-06-13T15:33:58.393Z"
   },
   {
    "duration": 5,
    "start_time": "2022-06-13T15:34:06.812Z"
   },
   {
    "duration": 5,
    "start_time": "2022-06-13T15:34:18.484Z"
   },
   {
    "duration": 8,
    "start_time": "2022-06-13T15:35:03.403Z"
   },
   {
    "duration": 11,
    "start_time": "2022-06-13T15:35:18.238Z"
   },
   {
    "duration": 5,
    "start_time": "2022-06-13T15:37:50.210Z"
   },
   {
    "duration": 4,
    "start_time": "2022-06-13T15:38:53.986Z"
   },
   {
    "duration": 916,
    "start_time": "2022-06-13T15:39:55.337Z"
   },
   {
    "duration": 22,
    "start_time": "2022-06-13T15:40:13.889Z"
   },
   {
    "duration": 17,
    "start_time": "2022-06-13T15:40:31.761Z"
   },
   {
    "duration": 12,
    "start_time": "2022-06-13T15:40:37.998Z"
   },
   {
    "duration": 15,
    "start_time": "2022-06-13T15:40:43.281Z"
   },
   {
    "duration": 9,
    "start_time": "2022-06-13T15:43:38.456Z"
   },
   {
    "duration": 9,
    "start_time": "2022-06-13T15:43:41.512Z"
   },
   {
    "duration": 13,
    "start_time": "2022-06-13T15:43:53.528Z"
   },
   {
    "duration": 11,
    "start_time": "2022-06-13T15:44:01.775Z"
   },
   {
    "duration": 23,
    "start_time": "2022-06-13T15:45:09.507Z"
   },
   {
    "duration": 49,
    "start_time": "2022-06-13T15:45:21.191Z"
   },
   {
    "duration": 45,
    "start_time": "2022-06-13T15:46:05.286Z"
   },
   {
    "duration": 71,
    "start_time": "2022-06-13T15:46:58.710Z"
   },
   {
    "duration": 69,
    "start_time": "2022-06-13T15:50:13.187Z"
   },
   {
    "duration": 71,
    "start_time": "2022-06-13T15:50:25.436Z"
   },
   {
    "duration": 4,
    "start_time": "2022-06-13T15:50:40.236Z"
   },
   {
    "duration": 5,
    "start_time": "2022-06-13T15:50:47.667Z"
   },
   {
    "duration": 6,
    "start_time": "2022-06-13T15:50:55.209Z"
   },
   {
    "duration": 7,
    "start_time": "2022-06-13T15:50:57.101Z"
   },
   {
    "duration": 77,
    "start_time": "2022-06-13T15:52:22.172Z"
   },
   {
    "duration": 69,
    "start_time": "2022-06-13T15:53:34.266Z"
   },
   {
    "duration": 12,
    "start_time": "2022-06-13T15:53:45.147Z"
   },
   {
    "duration": 36,
    "start_time": "2022-06-13T15:55:43.041Z"
   },
   {
    "duration": 12,
    "start_time": "2022-06-13T15:55:43.587Z"
   },
   {
    "duration": 11,
    "start_time": "2022-06-13T16:00:04.905Z"
   },
   {
    "duration": 130,
    "start_time": "2022-06-13T16:00:20.810Z"
   },
   {
    "duration": 18,
    "start_time": "2022-06-13T16:00:22.275Z"
   },
   {
    "duration": 38,
    "start_time": "2022-06-13T16:01:12.607Z"
   },
   {
    "duration": 10,
    "start_time": "2022-06-13T16:01:13.105Z"
   },
   {
    "duration": 33,
    "start_time": "2022-06-13T16:07:14.372Z"
   },
   {
    "duration": 10,
    "start_time": "2022-06-13T16:07:25.662Z"
   },
   {
    "duration": 7,
    "start_time": "2022-06-13T16:07:32.563Z"
   },
   {
    "duration": 9,
    "start_time": "2022-06-13T16:08:04.591Z"
   },
   {
    "duration": 5,
    "start_time": "2022-06-13T16:10:49.506Z"
   },
   {
    "duration": 22,
    "start_time": "2022-06-13T16:10:57.478Z"
   },
   {
    "duration": 2146,
    "start_time": "2022-06-13T16:11:17.453Z"
   },
   {
    "duration": 2033,
    "start_time": "2022-06-13T16:12:05.710Z"
   },
   {
    "duration": 61,
    "start_time": "2022-06-13T16:12:44.149Z"
   },
   {
    "duration": 90,
    "start_time": "2022-06-13T16:12:52.676Z"
   },
   {
    "duration": 15,
    "start_time": "2022-06-13T16:14:32.988Z"
   },
   {
    "duration": 14,
    "start_time": "2022-06-13T16:14:42.276Z"
   },
   {
    "duration": 20,
    "start_time": "2022-06-13T16:14:58.540Z"
   },
   {
    "duration": 28,
    "start_time": "2022-06-13T16:15:05.684Z"
   },
   {
    "duration": 15,
    "start_time": "2022-06-13T16:15:06.179Z"
   },
   {
    "duration": 118,
    "start_time": "2022-06-13T16:15:11.820Z"
   },
   {
    "duration": 88,
    "start_time": "2022-06-13T16:15:43.648Z"
   },
   {
    "duration": 89,
    "start_time": "2022-06-13T16:15:59.156Z"
   },
   {
    "duration": 99,
    "start_time": "2022-06-13T16:16:06.586Z"
   },
   {
    "duration": 13,
    "start_time": "2022-06-13T16:16:06.947Z"
   },
   {
    "duration": 105,
    "start_time": "2022-06-13T16:16:07.907Z"
   },
   {
    "duration": 16,
    "start_time": "2022-06-13T16:16:24.419Z"
   },
   {
    "duration": 10,
    "start_time": "2022-06-13T16:16:30.603Z"
   },
   {
    "duration": 10,
    "start_time": "2022-06-13T16:17:41.177Z"
   },
   {
    "duration": 16,
    "start_time": "2022-06-13T16:17:49.365Z"
   },
   {
    "duration": 10,
    "start_time": "2022-06-13T16:17:52.226Z"
   },
   {
    "duration": 13,
    "start_time": "2022-06-13T16:21:35.135Z"
   },
   {
    "duration": 13,
    "start_time": "2022-06-13T16:21:45.209Z"
   },
   {
    "duration": 127,
    "start_time": "2022-06-13T16:23:27.134Z"
   },
   {
    "duration": 15,
    "start_time": "2022-06-13T16:23:32.120Z"
   },
   {
    "duration": 14,
    "start_time": "2022-06-13T16:24:02.064Z"
   },
   {
    "duration": 129,
    "start_time": "2022-06-13T16:24:11.632Z"
   },
   {
    "duration": 13,
    "start_time": "2022-06-13T16:24:12.520Z"
   },
   {
    "duration": 41,
    "start_time": "2022-06-13T16:25:03.968Z"
   },
   {
    "duration": 118,
    "start_time": "2022-06-13T16:25:52.495Z"
   },
   {
    "duration": 89,
    "start_time": "2022-06-13T16:26:02.224Z"
   },
   {
    "duration": 81,
    "start_time": "2022-06-13T16:27:03.955Z"
   },
   {
    "duration": 129,
    "start_time": "2022-06-13T16:27:16.407Z"
   },
   {
    "duration": 13,
    "start_time": "2022-06-13T16:27:16.695Z"
   },
   {
    "duration": 204,
    "start_time": "2022-06-13T16:31:16.206Z"
   },
   {
    "duration": 14,
    "start_time": "2022-06-13T16:31:17.006Z"
   },
   {
    "duration": 14,
    "start_time": "2022-06-13T16:31:58.869Z"
   },
   {
    "duration": 581,
    "start_time": "2022-06-13T16:32:43.203Z"
   },
   {
    "duration": 2,
    "start_time": "2022-06-13T16:32:43.786Z"
   },
   {
    "duration": 7,
    "start_time": "2022-06-13T16:32:43.790Z"
   },
   {
    "duration": 738,
    "start_time": "2022-06-13T16:32:43.799Z"
   },
   {
    "duration": 16,
    "start_time": "2022-06-13T16:32:44.538Z"
   },
   {
    "duration": 101,
    "start_time": "2022-06-13T16:32:44.556Z"
   },
   {
    "duration": 105,
    "start_time": "2022-06-13T16:32:44.658Z"
   },
   {
    "duration": 104,
    "start_time": "2022-06-13T16:32:44.764Z"
   },
   {
    "duration": 243,
    "start_time": "2022-06-13T16:32:44.870Z"
   },
   {
    "duration": 170,
    "start_time": "2022-06-13T16:32:45.115Z"
   },
   {
    "duration": 21,
    "start_time": "2022-06-13T16:32:45.286Z"
   },
   {
    "duration": 351,
    "start_time": "2022-06-13T16:32:45.309Z"
   },
   {
    "duration": 17,
    "start_time": "2022-06-13T16:32:45.661Z"
   },
   {
    "duration": 31,
    "start_time": "2022-06-13T16:32:45.680Z"
   },
   {
    "duration": 290,
    "start_time": "2022-06-13T16:32:45.712Z"
   },
   {
    "duration": 12,
    "start_time": "2022-06-13T16:32:46.004Z"
   },
   {
    "duration": 33,
    "start_time": "2022-06-13T16:32:46.018Z"
   },
   {
    "duration": 26,
    "start_time": "2022-06-13T16:32:46.053Z"
   },
   {
    "duration": 7,
    "start_time": "2022-06-13T16:32:46.080Z"
   },
   {
    "duration": 5,
    "start_time": "2022-06-13T16:32:46.089Z"
   },
   {
    "duration": 53,
    "start_time": "2022-06-13T16:32:46.095Z"
   },
   {
    "duration": 35,
    "start_time": "2022-06-13T16:32:46.149Z"
   },
   {
    "duration": 86,
    "start_time": "2022-06-13T16:32:46.186Z"
   },
   {
    "duration": 50,
    "start_time": "2022-06-13T16:32:46.273Z"
   },
   {
    "duration": 10,
    "start_time": "2022-06-13T16:32:46.325Z"
   },
   {
    "duration": 121,
    "start_time": "2022-06-13T16:32:46.336Z"
   },
   {
    "duration": 45,
    "start_time": "2022-06-13T16:32:46.459Z"
   },
   {
    "duration": 10,
    "start_time": "2022-06-13T16:32:46.507Z"
   },
   {
    "duration": 30,
    "start_time": "2022-06-13T16:32:46.518Z"
   },
   {
    "duration": 7,
    "start_time": "2022-06-13T16:32:46.549Z"
   },
   {
    "duration": 69,
    "start_time": "2022-06-13T16:32:46.578Z"
   },
   {
    "duration": 12,
    "start_time": "2022-06-13T16:32:46.648Z"
   },
   {
    "duration": 113,
    "start_time": "2022-06-13T16:32:46.661Z"
   },
   {
    "duration": 45,
    "start_time": "2022-06-13T16:32:46.776Z"
   },
   {
    "duration": 9,
    "start_time": "2022-06-13T16:32:46.823Z"
   },
   {
    "duration": 28,
    "start_time": "2022-06-13T16:32:46.833Z"
   },
   {
    "duration": 21,
    "start_time": "2022-06-13T16:32:46.863Z"
   },
   {
    "duration": 17,
    "start_time": "2022-06-13T16:32:46.886Z"
   },
   {
    "duration": 141,
    "start_time": "2022-06-13T16:32:46.904Z"
   },
   {
    "duration": 13,
    "start_time": "2022-06-13T16:32:47.046Z"
   },
   {
    "duration": 131,
    "start_time": "2022-06-13T16:33:09.490Z"
   },
   {
    "duration": 62,
    "start_time": "2022-06-13T16:33:55.241Z"
   },
   {
    "duration": 121,
    "start_time": "2022-06-13T16:34:29.462Z"
   },
   {
    "duration": 127,
    "start_time": "2022-06-13T16:34:30.065Z"
   },
   {
    "duration": 120,
    "start_time": "2022-06-13T16:34:30.786Z"
   },
   {
    "duration": 169,
    "start_time": "2022-06-13T16:34:31.497Z"
   },
   {
    "duration": 120,
    "start_time": "2022-06-13T16:34:32.233Z"
   },
   {
    "duration": 93,
    "start_time": "2022-06-13T16:36:17.344Z"
   },
   {
    "duration": 298,
    "start_time": "2022-06-13T16:39:36.630Z"
   },
   {
    "duration": 16,
    "start_time": "2022-06-13T16:39:37.830Z"
   },
   {
    "duration": 11,
    "start_time": "2022-06-13T16:39:50.006Z"
   },
   {
    "duration": 76,
    "start_time": "2022-06-13T16:42:46.134Z"
   },
   {
    "duration": 138,
    "start_time": "2022-06-13T16:42:57.444Z"
   },
   {
    "duration": 127,
    "start_time": "2022-06-13T16:42:58.494Z"
   },
   {
    "duration": 506,
    "start_time": "2022-06-13T16:43:12.827Z"
   },
   {
    "duration": 3,
    "start_time": "2022-06-13T16:43:13.335Z"
   },
   {
    "duration": 7,
    "start_time": "2022-06-13T16:43:13.339Z"
   },
   {
    "duration": 709,
    "start_time": "2022-06-13T16:43:13.347Z"
   },
   {
    "duration": 15,
    "start_time": "2022-06-13T16:43:14.057Z"
   },
   {
    "duration": 82,
    "start_time": "2022-06-13T16:43:14.078Z"
   },
   {
    "duration": 105,
    "start_time": "2022-06-13T16:43:14.162Z"
   },
   {
    "duration": 98,
    "start_time": "2022-06-13T16:43:14.269Z"
   },
   {
    "duration": 205,
    "start_time": "2022-06-13T16:43:14.369Z"
   },
   {
    "duration": 147,
    "start_time": "2022-06-13T16:43:14.577Z"
   },
   {
    "duration": 21,
    "start_time": "2022-06-13T16:43:14.725Z"
   },
   {
    "duration": 324,
    "start_time": "2022-06-13T16:43:14.748Z"
   },
   {
    "duration": 14,
    "start_time": "2022-06-13T16:43:15.074Z"
   },
   {
    "duration": 26,
    "start_time": "2022-06-13T16:43:15.090Z"
   },
   {
    "duration": 320,
    "start_time": "2022-06-13T16:43:15.118Z"
   },
   {
    "duration": 16,
    "start_time": "2022-06-13T16:43:15.439Z"
   },
   {
    "duration": 46,
    "start_time": "2022-06-13T16:43:15.457Z"
   },
   {
    "duration": 7,
    "start_time": "2022-06-13T16:43:15.504Z"
   },
   {
    "duration": 8,
    "start_time": "2022-06-13T16:43:15.512Z"
   },
   {
    "duration": 5,
    "start_time": "2022-06-13T16:43:15.522Z"
   },
   {
    "duration": 76,
    "start_time": "2022-06-13T16:43:15.528Z"
   },
   {
    "duration": 11,
    "start_time": "2022-06-13T16:43:15.606Z"
   },
   {
    "duration": 118,
    "start_time": "2022-06-13T16:43:15.619Z"
   },
   {
    "duration": 63,
    "start_time": "2022-06-13T16:43:15.738Z"
   },
   {
    "duration": 11,
    "start_time": "2022-06-13T16:43:15.803Z"
   },
   {
    "duration": 116,
    "start_time": "2022-06-13T16:43:15.815Z"
   },
   {
    "duration": 45,
    "start_time": "2022-06-13T16:43:15.933Z"
   },
   {
    "duration": 11,
    "start_time": "2022-06-13T16:43:15.982Z"
   },
   {
    "duration": 40,
    "start_time": "2022-06-13T16:43:15.995Z"
   },
   {
    "duration": 7,
    "start_time": "2022-06-13T16:43:16.036Z"
   },
   {
    "duration": 81,
    "start_time": "2022-06-13T16:43:16.044Z"
   },
   {
    "duration": 12,
    "start_time": "2022-06-13T16:43:16.126Z"
   },
   {
    "duration": 94,
    "start_time": "2022-06-13T16:43:16.139Z"
   },
   {
    "duration": 49,
    "start_time": "2022-06-13T16:43:16.234Z"
   },
   {
    "duration": 9,
    "start_time": "2022-06-13T16:43:16.285Z"
   },
   {
    "duration": 17,
    "start_time": "2022-06-13T16:43:16.295Z"
   },
   {
    "duration": 9,
    "start_time": "2022-06-13T16:43:16.313Z"
   },
   {
    "duration": 16,
    "start_time": "2022-06-13T16:43:16.323Z"
   },
   {
    "duration": 142,
    "start_time": "2022-06-13T16:43:16.340Z"
   },
   {
    "duration": 76,
    "start_time": "2022-06-13T16:43:16.483Z"
   },
   {
    "duration": 19,
    "start_time": "2022-06-13T16:43:16.560Z"
   },
   {
    "duration": 21,
    "start_time": "2022-06-13T16:43:42.247Z"
   },
   {
    "duration": 91,
    "start_time": "2022-06-13T16:43:57.373Z"
   },
   {
    "duration": 9,
    "start_time": "2022-06-13T16:44:03.504Z"
   },
   {
    "duration": 95,
    "start_time": "2022-06-13T16:44:46.325Z"
   },
   {
    "duration": 98,
    "start_time": "2022-06-13T16:45:19.668Z"
   },
   {
    "duration": 88,
    "start_time": "2022-06-13T16:45:35.930Z"
   },
   {
    "duration": 118,
    "start_time": "2022-06-13T16:46:02.428Z"
   },
   {
    "duration": 109,
    "start_time": "2022-06-13T16:48:21.153Z"
   },
   {
    "duration": 134,
    "start_time": "2022-06-13T16:50:41.984Z"
   },
   {
    "duration": 159,
    "start_time": "2022-06-13T16:50:56.601Z"
   },
   {
    "duration": 226,
    "start_time": "2022-06-13T16:51:09.682Z"
   },
   {
    "duration": 240,
    "start_time": "2022-06-13T16:52:07.616Z"
   },
   {
    "duration": 296,
    "start_time": "2022-06-13T16:52:46.657Z"
   },
   {
    "duration": 258,
    "start_time": "2022-06-13T16:54:36.113Z"
   },
   {
    "duration": 177,
    "start_time": "2022-06-13T16:54:51.145Z"
   },
   {
    "duration": 531,
    "start_time": "2022-06-13T16:55:24.608Z"
   },
   {
    "duration": 2,
    "start_time": "2022-06-13T16:55:25.141Z"
   },
   {
    "duration": 12,
    "start_time": "2022-06-13T16:55:25.144Z"
   },
   {
    "duration": 738,
    "start_time": "2022-06-13T16:55:25.157Z"
   },
   {
    "duration": 14,
    "start_time": "2022-06-13T16:55:25.897Z"
   },
   {
    "duration": 97,
    "start_time": "2022-06-13T16:55:25.913Z"
   },
   {
    "duration": 111,
    "start_time": "2022-06-13T16:55:26.012Z"
   },
   {
    "duration": 107,
    "start_time": "2022-06-13T16:55:26.125Z"
   },
   {
    "duration": 221,
    "start_time": "2022-06-13T16:55:26.233Z"
   },
   {
    "duration": 158,
    "start_time": "2022-06-13T16:55:26.456Z"
   },
   {
    "duration": 20,
    "start_time": "2022-06-13T16:55:26.616Z"
   },
   {
    "duration": 341,
    "start_time": "2022-06-13T16:55:26.637Z"
   },
   {
    "duration": 18,
    "start_time": "2022-06-13T16:55:26.983Z"
   },
   {
    "duration": 26,
    "start_time": "2022-06-13T16:55:27.003Z"
   },
   {
    "duration": 308,
    "start_time": "2022-06-13T16:55:27.030Z"
   },
   {
    "duration": 12,
    "start_time": "2022-06-13T16:55:27.340Z"
   },
   {
    "duration": 57,
    "start_time": "2022-06-13T16:55:27.354Z"
   },
   {
    "duration": 7,
    "start_time": "2022-06-13T16:55:27.413Z"
   },
   {
    "duration": 12,
    "start_time": "2022-06-13T16:55:27.421Z"
   },
   {
    "duration": 6,
    "start_time": "2022-06-13T16:55:27.434Z"
   },
   {
    "duration": 61,
    "start_time": "2022-06-13T16:55:27.442Z"
   },
   {
    "duration": 11,
    "start_time": "2022-06-13T16:55:27.504Z"
   },
   {
    "duration": 93,
    "start_time": "2022-06-13T16:55:27.517Z"
   },
   {
    "duration": 52,
    "start_time": "2022-06-13T16:55:27.611Z"
   },
   {
    "duration": 28,
    "start_time": "2022-06-13T16:55:27.665Z"
   },
   {
    "duration": 112,
    "start_time": "2022-06-13T16:55:27.694Z"
   },
   {
    "duration": 39,
    "start_time": "2022-06-13T16:55:27.807Z"
   },
   {
    "duration": 10,
    "start_time": "2022-06-13T16:55:27.847Z"
   },
   {
    "duration": 43,
    "start_time": "2022-06-13T16:55:27.858Z"
   },
   {
    "duration": 7,
    "start_time": "2022-06-13T16:55:27.903Z"
   },
   {
    "duration": 93,
    "start_time": "2022-06-13T16:55:27.912Z"
   },
   {
    "duration": 13,
    "start_time": "2022-06-13T16:55:28.006Z"
   },
   {
    "duration": 103,
    "start_time": "2022-06-13T16:55:28.020Z"
   },
   {
    "duration": 57,
    "start_time": "2022-06-13T16:55:28.125Z"
   },
   {
    "duration": 22,
    "start_time": "2022-06-13T16:55:28.184Z"
   },
   {
    "duration": 16,
    "start_time": "2022-06-13T16:55:28.208Z"
   },
   {
    "duration": 14,
    "start_time": "2022-06-13T16:55:28.226Z"
   },
   {
    "duration": 31,
    "start_time": "2022-06-13T16:55:28.242Z"
   },
   {
    "duration": 166,
    "start_time": "2022-06-13T16:55:28.275Z"
   },
   {
    "duration": 119,
    "start_time": "2022-06-13T16:55:28.444Z"
   },
   {
    "duration": 128,
    "start_time": "2022-06-13T16:55:28.566Z"
   },
   {
    "duration": 134,
    "start_time": "2022-06-13T16:55:28.695Z"
   },
   {
    "duration": 11,
    "start_time": "2022-06-13T16:55:28.831Z"
   },
   {
    "duration": 32,
    "start_time": "2022-06-13T16:55:45.369Z"
   },
   {
    "duration": 37,
    "start_time": "2022-06-13T16:55:56.569Z"
   },
   {
    "duration": 16,
    "start_time": "2022-06-13T16:55:58.196Z"
   },
   {
    "duration": 222,
    "start_time": "2022-06-13T16:59:10.525Z"
   },
   {
    "duration": 543,
    "start_time": "2022-06-13T16:59:16.706Z"
   },
   {
    "duration": 2,
    "start_time": "2022-06-13T16:59:17.251Z"
   },
   {
    "duration": 10,
    "start_time": "2022-06-13T16:59:17.254Z"
   },
   {
    "duration": 809,
    "start_time": "2022-06-13T16:59:17.266Z"
   },
   {
    "duration": 21,
    "start_time": "2022-06-13T16:59:18.076Z"
   },
   {
    "duration": 102,
    "start_time": "2022-06-13T16:59:18.098Z"
   },
   {
    "duration": 126,
    "start_time": "2022-06-13T16:59:18.201Z"
   },
   {
    "duration": 105,
    "start_time": "2022-06-13T16:59:18.329Z"
   },
   {
    "duration": 217,
    "start_time": "2022-06-13T16:59:18.436Z"
   },
   {
    "duration": 169,
    "start_time": "2022-06-13T16:59:18.656Z"
   },
   {
    "duration": 21,
    "start_time": "2022-06-13T16:59:18.827Z"
   },
   {
    "duration": 352,
    "start_time": "2022-06-13T16:59:18.850Z"
   },
   {
    "duration": 16,
    "start_time": "2022-06-13T16:59:19.204Z"
   },
   {
    "duration": 27,
    "start_time": "2022-06-13T16:59:19.221Z"
   },
   {
    "duration": 319,
    "start_time": "2022-06-13T16:59:19.251Z"
   },
   {
    "duration": 20,
    "start_time": "2022-06-13T16:59:19.572Z"
   },
   {
    "duration": 32,
    "start_time": "2022-06-13T16:59:19.593Z"
   },
   {
    "duration": 7,
    "start_time": "2022-06-13T16:59:19.627Z"
   },
   {
    "duration": 9,
    "start_time": "2022-06-13T16:59:19.635Z"
   },
   {
    "duration": 5,
    "start_time": "2022-06-13T16:59:19.645Z"
   },
   {
    "duration": 81,
    "start_time": "2022-06-13T16:59:19.652Z"
   },
   {
    "duration": 13,
    "start_time": "2022-06-13T16:59:19.734Z"
   },
   {
    "duration": 97,
    "start_time": "2022-06-13T16:59:19.748Z"
   },
   {
    "duration": 59,
    "start_time": "2022-06-13T16:59:19.847Z"
   },
   {
    "duration": 11,
    "start_time": "2022-06-13T16:59:19.908Z"
   },
   {
    "duration": 132,
    "start_time": "2022-06-13T16:59:19.920Z"
   },
   {
    "duration": 40,
    "start_time": "2022-06-13T16:59:20.054Z"
   },
   {
    "duration": 10,
    "start_time": "2022-06-13T16:59:20.097Z"
   },
   {
    "duration": 33,
    "start_time": "2022-06-13T16:59:20.108Z"
   },
   {
    "duration": 7,
    "start_time": "2022-06-13T16:59:20.143Z"
   },
   {
    "duration": 88,
    "start_time": "2022-06-13T16:59:20.151Z"
   },
   {
    "duration": 14,
    "start_time": "2022-06-13T16:59:20.241Z"
   },
   {
    "duration": 109,
    "start_time": "2022-06-13T16:59:20.257Z"
   },
   {
    "duration": 43,
    "start_time": "2022-06-13T16:59:20.368Z"
   },
   {
    "duration": 10,
    "start_time": "2022-06-13T16:59:20.412Z"
   },
   {
    "duration": 17,
    "start_time": "2022-06-13T16:59:20.423Z"
   },
   {
    "duration": 8,
    "start_time": "2022-06-13T16:59:20.442Z"
   },
   {
    "duration": 33,
    "start_time": "2022-06-13T16:59:20.452Z"
   },
   {
    "duration": 109,
    "start_time": "2022-06-13T16:59:20.490Z"
   },
   {
    "duration": 221,
    "start_time": "2022-06-13T16:59:20.600Z"
   },
   {
    "duration": 13,
    "start_time": "2022-06-13T16:59:20.823Z"
   },
   {
    "duration": 13,
    "start_time": "2022-06-13T17:01:23.534Z"
   },
   {
    "duration": 13,
    "start_time": "2022-06-13T17:01:35.734Z"
   },
   {
    "duration": 114,
    "start_time": "2022-06-13T17:01:52.478Z"
   },
   {
    "duration": 185,
    "start_time": "2022-06-13T17:02:26.406Z"
   },
   {
    "duration": 13,
    "start_time": "2022-06-13T17:02:30.237Z"
   },
   {
    "duration": 211,
    "start_time": "2022-06-13T17:02:38.581Z"
   },
   {
    "duration": 23,
    "start_time": "2022-06-13T17:02:39.669Z"
   },
   {
    "duration": 16,
    "start_time": "2022-06-13T17:03:27.829Z"
   },
   {
    "duration": 100,
    "start_time": "2022-06-13T17:03:39.935Z"
   },
   {
    "duration": 200,
    "start_time": "2022-06-13T17:04:12.206Z"
   },
   {
    "duration": 13,
    "start_time": "2022-06-13T17:04:15.549Z"
   },
   {
    "duration": 15,
    "start_time": "2022-06-13T17:05:14.964Z"
   },
   {
    "duration": 25,
    "start_time": "2022-06-13T17:05:40.668Z"
   },
   {
    "duration": 13,
    "start_time": "2022-06-13T17:05:42.252Z"
   },
   {
    "duration": 77,
    "start_time": "2022-06-13T17:08:39.835Z"
   },
   {
    "duration": 14,
    "start_time": "2022-06-13T17:08:50.188Z"
   },
   {
    "duration": 595,
    "start_time": "2022-06-13T17:10:59.596Z"
   },
   {
    "duration": 4,
    "start_time": "2022-06-13T17:11:00.196Z"
   },
   {
    "duration": 84,
    "start_time": "2022-06-13T17:11:00.204Z"
   },
   {
    "duration": 820,
    "start_time": "2022-06-13T17:11:00.290Z"
   },
   {
    "duration": 15,
    "start_time": "2022-06-13T17:11:01.111Z"
   },
   {
    "duration": 129,
    "start_time": "2022-06-13T17:11:01.127Z"
   },
   {
    "duration": 120,
    "start_time": "2022-06-13T17:11:01.258Z"
   },
   {
    "duration": 101,
    "start_time": "2022-06-13T17:11:01.390Z"
   },
   {
    "duration": 221,
    "start_time": "2022-06-13T17:11:01.494Z"
   },
   {
    "duration": 172,
    "start_time": "2022-06-13T17:11:01.716Z"
   },
   {
    "duration": 23,
    "start_time": "2022-06-13T17:11:01.890Z"
   },
   {
    "duration": 412,
    "start_time": "2022-06-13T17:11:01.914Z"
   },
   {
    "duration": 14,
    "start_time": "2022-06-13T17:11:02.327Z"
   },
   {
    "duration": 45,
    "start_time": "2022-06-13T17:11:02.342Z"
   },
   {
    "duration": 284,
    "start_time": "2022-06-13T17:11:02.389Z"
   },
   {
    "duration": 17,
    "start_time": "2022-06-13T17:11:02.675Z"
   },
   {
    "duration": 42,
    "start_time": "2022-06-13T17:11:02.694Z"
   },
   {
    "duration": 7,
    "start_time": "2022-06-13T17:11:02.737Z"
   },
   {
    "duration": 19,
    "start_time": "2022-06-13T17:11:02.746Z"
   },
   {
    "duration": 7,
    "start_time": "2022-06-13T17:11:02.766Z"
   },
   {
    "duration": 88,
    "start_time": "2022-06-13T17:11:02.778Z"
   },
   {
    "duration": 11,
    "start_time": "2022-06-13T17:11:02.868Z"
   },
   {
    "duration": 33,
    "start_time": "2022-06-13T17:11:02.887Z"
   },
   {
    "duration": 32,
    "start_time": "2022-06-13T17:11:02.922Z"
   },
   {
    "duration": 342,
    "start_time": "2022-06-13T17:11:02.955Z"
   },
   {
    "duration": 104,
    "start_time": "2022-06-13T17:11:03.298Z"
   },
   {
    "duration": 54,
    "start_time": "2022-06-13T17:11:03.406Z"
   },
   {
    "duration": 27,
    "start_time": "2022-06-13T17:11:03.462Z"
   },
   {
    "duration": 122,
    "start_time": "2022-06-13T17:11:03.492Z"
   },
   {
    "duration": 38,
    "start_time": "2022-06-13T17:11:03.615Z"
   },
   {
    "duration": 10,
    "start_time": "2022-06-13T17:11:03.655Z"
   },
   {
    "duration": 91,
    "start_time": "2022-06-13T17:11:03.666Z"
   },
   {
    "duration": 25,
    "start_time": "2022-06-13T17:11:03.758Z"
   },
   {
    "duration": 69,
    "start_time": "2022-06-13T17:11:03.792Z"
   },
   {
    "duration": 12,
    "start_time": "2022-06-13T17:11:03.863Z"
   },
   {
    "duration": 99,
    "start_time": "2022-06-13T17:11:03.876Z"
   },
   {
    "duration": 45,
    "start_time": "2022-06-13T17:11:03.977Z"
   },
   {
    "duration": 11,
    "start_time": "2022-06-13T17:11:04.023Z"
   },
   {
    "duration": 21,
    "start_time": "2022-06-13T17:11:04.036Z"
   },
   {
    "duration": 35,
    "start_time": "2022-06-13T17:11:04.058Z"
   },
   {
    "duration": 17,
    "start_time": "2022-06-13T17:11:04.095Z"
   },
   {
    "duration": 119,
    "start_time": "2022-06-13T17:11:04.113Z"
   },
   {
    "duration": 211,
    "start_time": "2022-06-13T17:11:04.233Z"
   },
   {
    "duration": 12,
    "start_time": "2022-06-13T17:11:04.445Z"
   },
   {
    "duration": 34,
    "start_time": "2022-06-13T17:11:04.459Z"
   },
   {
    "duration": 120,
    "start_time": "2022-06-13T17:11:04.494Z"
   },
   {
    "duration": 180,
    "start_time": "2022-06-13T17:11:04.615Z"
   },
   {
    "duration": 13,
    "start_time": "2022-06-13T17:11:04.797Z"
   },
   {
    "duration": 22,
    "start_time": "2022-06-13T17:11:04.811Z"
   },
   {
    "duration": 245,
    "start_time": "2022-06-13T17:11:04.835Z"
   },
   {
    "duration": 405,
    "start_time": "2022-06-13T17:11:05.092Z"
   },
   {
    "duration": 13,
    "start_time": "2022-06-13T17:11:05.498Z"
   },
   {
    "duration": 75,
    "start_time": "2022-06-13T17:11:05.513Z"
   },
   {
    "duration": 17,
    "start_time": "2022-06-13T17:11:05.592Z"
   },
   {
    "duration": 23,
    "start_time": "2022-06-13T17:11:05.610Z"
   },
   {
    "duration": 10,
    "start_time": "2022-06-13T17:16:02.413Z"
   },
   {
    "duration": 4,
    "start_time": "2022-06-13T17:16:24.309Z"
   },
   {
    "duration": 86,
    "start_time": "2022-06-13T17:16:29.339Z"
   },
   {
    "duration": 12,
    "start_time": "2022-06-13T17:16:47.925Z"
   },
   {
    "duration": 10,
    "start_time": "2022-06-13T17:16:49.644Z"
   },
   {
    "duration": 5,
    "start_time": "2022-06-13T17:17:53.364Z"
   },
   {
    "duration": 42,
    "start_time": "2022-06-13T17:19:40.155Z"
   },
   {
    "duration": 6,
    "start_time": "2022-06-13T17:19:44.067Z"
   },
   {
    "duration": 12,
    "start_time": "2022-06-13T17:20:19.617Z"
   },
   {
    "duration": 34,
    "start_time": "2022-06-13T17:21:13.034Z"
   },
   {
    "duration": 5,
    "start_time": "2022-06-13T17:21:16.602Z"
   },
   {
    "duration": 59,
    "start_time": "2022-06-13T17:22:25.978Z"
   },
   {
    "duration": 4,
    "start_time": "2022-06-13T17:24:01.809Z"
   },
   {
    "duration": 544,
    "start_time": "2022-06-13T17:24:16.725Z"
   },
   {
    "duration": 21,
    "start_time": "2022-06-13T17:24:17.270Z"
   },
   {
    "duration": 6,
    "start_time": "2022-06-13T17:24:17.293Z"
   },
   {
    "duration": 795,
    "start_time": "2022-06-13T17:24:17.301Z"
   },
   {
    "duration": 18,
    "start_time": "2022-06-13T17:24:18.098Z"
   },
   {
    "duration": 5,
    "start_time": "2022-06-13T17:24:18.118Z"
   },
   {
    "duration": 125,
    "start_time": "2022-06-13T17:24:18.124Z"
   },
   {
    "duration": 242,
    "start_time": "2022-06-13T17:24:18.250Z"
   },
   {
    "duration": 213,
    "start_time": "2022-06-13T17:24:18.495Z"
   },
   {
    "duration": 498,
    "start_time": "2022-06-13T17:24:18.711Z"
   },
   {
    "duration": 372,
    "start_time": "2022-06-13T17:24:19.210Z"
   },
   {
    "duration": 23,
    "start_time": "2022-06-13T17:24:19.585Z"
   },
   {
    "duration": 700,
    "start_time": "2022-06-13T17:24:19.609Z"
   },
   {
    "duration": 15,
    "start_time": "2022-06-13T17:24:20.310Z"
   },
   {
    "duration": 32,
    "start_time": "2022-06-13T17:24:20.327Z"
   },
   {
    "duration": 307,
    "start_time": "2022-06-13T17:24:20.360Z"
   },
   {
    "duration": 24,
    "start_time": "2022-06-13T17:24:20.668Z"
   },
   {
    "duration": 35,
    "start_time": "2022-06-13T17:24:20.694Z"
   },
   {
    "duration": 6,
    "start_time": "2022-06-13T17:24:20.731Z"
   },
   {
    "duration": 10,
    "start_time": "2022-06-13T17:24:20.738Z"
   },
   {
    "duration": 6,
    "start_time": "2022-06-13T17:24:20.750Z"
   },
   {
    "duration": 74,
    "start_time": "2022-06-13T17:24:20.757Z"
   },
   {
    "duration": 11,
    "start_time": "2022-06-13T17:24:20.832Z"
   },
   {
    "duration": 17,
    "start_time": "2022-06-13T17:24:20.845Z"
   },
   {
    "duration": 419,
    "start_time": "2022-06-13T17:24:20.864Z"
   },
   {
    "duration": 98,
    "start_time": "2022-06-13T17:24:21.284Z"
   },
   {
    "duration": 56,
    "start_time": "2022-06-13T17:24:21.385Z"
   },
   {
    "duration": 15,
    "start_time": "2022-06-13T17:24:21.445Z"
   },
   {
    "duration": 126,
    "start_time": "2022-06-13T17:24:21.478Z"
   },
   {
    "duration": 40,
    "start_time": "2022-06-13T17:24:21.606Z"
   },
   {
    "duration": 10,
    "start_time": "2022-06-13T17:24:21.647Z"
   },
   {
    "duration": 97,
    "start_time": "2022-06-13T17:24:21.658Z"
   },
   {
    "duration": 7,
    "start_time": "2022-06-13T17:24:21.757Z"
   },
   {
    "duration": 83,
    "start_time": "2022-06-13T17:24:21.765Z"
   },
   {
    "duration": 13,
    "start_time": "2022-06-13T17:24:21.850Z"
   },
   {
    "duration": 107,
    "start_time": "2022-06-13T17:24:21.865Z"
   },
   {
    "duration": 42,
    "start_time": "2022-06-13T17:24:21.974Z"
   },
   {
    "duration": 9,
    "start_time": "2022-06-13T17:24:22.017Z"
   },
   {
    "duration": 20,
    "start_time": "2022-06-13T17:24:22.028Z"
   },
   {
    "duration": 8,
    "start_time": "2022-06-13T17:24:22.050Z"
   },
   {
    "duration": 33,
    "start_time": "2022-06-13T17:24:22.060Z"
   },
   {
    "duration": 118,
    "start_time": "2022-06-13T17:24:22.094Z"
   },
   {
    "duration": 215,
    "start_time": "2022-06-13T17:24:22.213Z"
   },
   {
    "duration": 13,
    "start_time": "2022-06-13T17:24:22.429Z"
   },
   {
    "duration": 16,
    "start_time": "2022-06-13T17:24:22.443Z"
   },
   {
    "duration": 111,
    "start_time": "2022-06-13T17:24:22.460Z"
   },
   {
    "duration": 184,
    "start_time": "2022-06-13T17:24:22.578Z"
   },
   {
    "duration": 23,
    "start_time": "2022-06-13T17:24:22.764Z"
   },
   {
    "duration": 14,
    "start_time": "2022-06-13T17:24:22.789Z"
   },
   {
    "duration": 106,
    "start_time": "2022-06-13T17:24:22.805Z"
   },
   {
    "duration": 206,
    "start_time": "2022-06-13T17:24:22.913Z"
   },
   {
    "duration": 13,
    "start_time": "2022-06-13T17:24:23.120Z"
   },
   {
    "duration": 16,
    "start_time": "2022-06-13T17:24:23.135Z"
   },
   {
    "duration": 40,
    "start_time": "2022-06-13T17:24:23.152Z"
   },
   {
    "duration": 13,
    "start_time": "2022-06-13T17:24:23.194Z"
   },
   {
    "duration": 11,
    "start_time": "2022-06-13T17:24:23.208Z"
   },
   {
    "duration": 4,
    "start_time": "2022-06-13T17:24:23.221Z"
   },
   {
    "duration": 34,
    "start_time": "2022-06-13T17:24:23.226Z"
   },
   {
    "duration": 18,
    "start_time": "2022-06-13T17:24:23.261Z"
   },
   {
    "duration": 15,
    "start_time": "2022-06-13T17:24:23.281Z"
   },
   {
    "duration": 36,
    "start_time": "2022-06-13T17:24:23.298Z"
   },
   {
    "duration": 5,
    "start_time": "2022-06-13T17:24:23.336Z"
   },
   {
    "duration": 6,
    "start_time": "2022-06-13T17:24:23.342Z"
   },
   {
    "duration": 4,
    "start_time": "2022-06-13T17:24:57.793Z"
   },
   {
    "duration": 4,
    "start_time": "2022-06-13T17:26:20.832Z"
   },
   {
    "duration": 3,
    "start_time": "2022-06-13T17:26:29.160Z"
   },
   {
    "duration": 10,
    "start_time": "2022-06-13T17:29:09.815Z"
   },
   {
    "duration": 3,
    "start_time": "2022-06-13T17:30:08.182Z"
   },
   {
    "duration": 5,
    "start_time": "2022-06-13T17:31:33.742Z"
   },
   {
    "duration": 10,
    "start_time": "2022-06-13T17:31:34.687Z"
   },
   {
    "duration": 527,
    "start_time": "2022-06-13T17:34:06.102Z"
   },
   {
    "duration": 3,
    "start_time": "2022-06-13T17:34:06.630Z"
   },
   {
    "duration": 4,
    "start_time": "2022-06-13T17:34:06.636Z"
   },
   {
    "duration": 788,
    "start_time": "2022-06-13T17:34:06.642Z"
   },
   {
    "duration": 18,
    "start_time": "2022-06-13T17:34:07.432Z"
   },
   {
    "duration": 6,
    "start_time": "2022-06-13T17:34:07.452Z"
   },
   {
    "duration": 103,
    "start_time": "2022-06-13T17:34:07.459Z"
   },
   {
    "duration": 129,
    "start_time": "2022-06-13T17:34:07.563Z"
   },
   {
    "duration": 137,
    "start_time": "2022-06-13T17:34:07.696Z"
   },
   {
    "duration": 209,
    "start_time": "2022-06-13T17:34:07.835Z"
   },
   {
    "duration": 149,
    "start_time": "2022-06-13T17:34:08.045Z"
   },
   {
    "duration": 25,
    "start_time": "2022-06-13T17:34:08.196Z"
   },
   {
    "duration": 341,
    "start_time": "2022-06-13T17:34:08.224Z"
   },
   {
    "duration": 20,
    "start_time": "2022-06-13T17:34:08.567Z"
   },
   {
    "duration": 27,
    "start_time": "2022-06-13T17:34:08.588Z"
   },
   {
    "duration": 281,
    "start_time": "2022-06-13T17:34:08.616Z"
   },
   {
    "duration": 12,
    "start_time": "2022-06-13T17:34:08.899Z"
   },
   {
    "duration": 30,
    "start_time": "2022-06-13T17:34:08.912Z"
   },
   {
    "duration": 6,
    "start_time": "2022-06-13T17:34:08.944Z"
   },
   {
    "duration": 31,
    "start_time": "2022-06-13T17:34:08.951Z"
   },
   {
    "duration": 5,
    "start_time": "2022-06-13T17:34:08.983Z"
   },
   {
    "duration": 54,
    "start_time": "2022-06-13T17:34:08.991Z"
   },
   {
    "duration": 12,
    "start_time": "2022-06-13T17:34:09.047Z"
   },
   {
    "duration": 8,
    "start_time": "2022-06-13T17:34:09.078Z"
   },
   {
    "duration": 343,
    "start_time": "2022-06-13T17:34:09.088Z"
   },
   {
    "duration": 84,
    "start_time": "2022-06-13T17:34:09.432Z"
   },
   {
    "duration": 60,
    "start_time": "2022-06-13T17:34:09.520Z"
   },
   {
    "duration": 11,
    "start_time": "2022-06-13T17:34:09.582Z"
   },
   {
    "duration": 113,
    "start_time": "2022-06-13T17:34:09.594Z"
   },
   {
    "duration": 91,
    "start_time": "2022-06-13T17:34:09.709Z"
   },
   {
    "duration": 9,
    "start_time": "2022-06-13T17:34:09.802Z"
   },
   {
    "duration": 27,
    "start_time": "2022-06-13T17:34:09.813Z"
   },
   {
    "duration": 7,
    "start_time": "2022-06-13T17:34:09.841Z"
   },
   {
    "duration": 80,
    "start_time": "2022-06-13T17:34:09.849Z"
   },
   {
    "duration": 14,
    "start_time": "2022-06-13T17:34:09.930Z"
   },
   {
    "duration": 98,
    "start_time": "2022-06-13T17:34:09.946Z"
   },
   {
    "duration": 43,
    "start_time": "2022-06-13T17:34:10.046Z"
   },
   {
    "duration": 9,
    "start_time": "2022-06-13T17:34:10.091Z"
   },
   {
    "duration": 25,
    "start_time": "2022-06-13T17:34:10.102Z"
   },
   {
    "duration": 10,
    "start_time": "2022-06-13T17:34:10.128Z"
   },
   {
    "duration": 16,
    "start_time": "2022-06-13T17:34:10.139Z"
   },
   {
    "duration": 116,
    "start_time": "2022-06-13T17:34:10.156Z"
   },
   {
    "duration": 204,
    "start_time": "2022-06-13T17:34:10.274Z"
   },
   {
    "duration": 12,
    "start_time": "2022-06-13T17:34:10.479Z"
   },
   {
    "duration": 15,
    "start_time": "2022-06-13T17:34:10.492Z"
   },
   {
    "duration": 104,
    "start_time": "2022-06-13T17:34:10.508Z"
   },
   {
    "duration": 168,
    "start_time": "2022-06-13T17:34:10.614Z"
   },
   {
    "duration": 14,
    "start_time": "2022-06-13T17:34:10.785Z"
   },
   {
    "duration": 13,
    "start_time": "2022-06-13T17:34:10.800Z"
   },
   {
    "duration": 105,
    "start_time": "2022-06-13T17:34:10.814Z"
   },
   {
    "duration": 189,
    "start_time": "2022-06-13T17:34:10.920Z"
   },
   {
    "duration": 12,
    "start_time": "2022-06-13T17:34:11.111Z"
   },
   {
    "duration": 21,
    "start_time": "2022-06-13T17:34:11.124Z"
   },
   {
    "duration": 15,
    "start_time": "2022-06-13T17:34:11.146Z"
   },
   {
    "duration": 22,
    "start_time": "2022-06-13T17:34:11.163Z"
   },
   {
    "duration": 12,
    "start_time": "2022-06-13T17:34:11.186Z"
   },
   {
    "duration": 4,
    "start_time": "2022-06-13T17:34:11.199Z"
   },
   {
    "duration": 36,
    "start_time": "2022-06-13T17:34:11.205Z"
   },
   {
    "duration": 5,
    "start_time": "2022-06-13T17:34:11.242Z"
   },
   {
    "duration": 31,
    "start_time": "2022-06-13T17:34:11.248Z"
   },
   {
    "duration": 35,
    "start_time": "2022-06-13T17:34:11.280Z"
   },
   {
    "duration": 6,
    "start_time": "2022-06-13T17:34:11.317Z"
   },
   {
    "duration": 9,
    "start_time": "2022-06-13T17:34:11.325Z"
   },
   {
    "duration": 15,
    "start_time": "2022-06-13T17:34:11.336Z"
   },
   {
    "duration": 10,
    "start_time": "2022-06-13T17:34:11.352Z"
   },
   {
    "duration": 783,
    "start_time": "2022-06-14T17:39:29.446Z"
   },
   {
    "duration": 3,
    "start_time": "2022-06-14T17:39:30.232Z"
   },
   {
    "duration": 18,
    "start_time": "2022-06-14T17:39:30.236Z"
   },
   {
    "duration": 1138,
    "start_time": "2022-06-14T17:39:30.256Z"
   },
   {
    "duration": 17,
    "start_time": "2022-06-14T17:39:31.395Z"
   },
   {
    "duration": 16,
    "start_time": "2022-06-14T17:39:31.414Z"
   },
   {
    "duration": 111,
    "start_time": "2022-06-14T17:39:31.432Z"
   },
   {
    "duration": 131,
    "start_time": "2022-06-14T17:39:31.545Z"
   },
   {
    "duration": 132,
    "start_time": "2022-06-14T17:39:31.678Z"
   },
   {
    "duration": 262,
    "start_time": "2022-06-14T17:39:31.813Z"
   },
   {
    "duration": 145,
    "start_time": "2022-06-14T17:39:32.077Z"
   },
   {
    "duration": 21,
    "start_time": "2022-06-14T17:39:32.224Z"
   },
   {
    "duration": 408,
    "start_time": "2022-06-14T17:39:32.246Z"
   },
   {
    "duration": 18,
    "start_time": "2022-06-14T17:39:32.656Z"
   },
   {
    "duration": 29,
    "start_time": "2022-06-14T17:39:32.676Z"
   },
   {
    "duration": 383,
    "start_time": "2022-06-14T17:39:32.706Z"
   },
   {
    "duration": 16,
    "start_time": "2022-06-14T17:39:33.092Z"
   },
   {
    "duration": 39,
    "start_time": "2022-06-14T17:39:33.111Z"
   },
   {
    "duration": 21,
    "start_time": "2022-06-14T17:39:33.151Z"
   },
   {
    "duration": 13,
    "start_time": "2022-06-14T17:39:33.174Z"
   },
   {
    "duration": 6,
    "start_time": "2022-06-14T17:39:33.189Z"
   },
   {
    "duration": 75,
    "start_time": "2022-06-14T17:39:33.196Z"
   },
   {
    "duration": 12,
    "start_time": "2022-06-14T17:39:33.273Z"
   },
   {
    "duration": 12,
    "start_time": "2022-06-14T17:39:33.287Z"
   },
   {
    "duration": 435,
    "start_time": "2022-06-14T17:39:33.301Z"
   },
   {
    "duration": 91,
    "start_time": "2022-06-14T17:39:33.738Z"
   },
   {
    "duration": 69,
    "start_time": "2022-06-14T17:39:33.830Z"
   },
   {
    "duration": 12,
    "start_time": "2022-06-14T17:39:33.903Z"
   },
   {
    "duration": 159,
    "start_time": "2022-06-14T17:39:33.920Z"
   },
   {
    "duration": 41,
    "start_time": "2022-06-14T17:39:34.081Z"
   },
   {
    "duration": 70,
    "start_time": "2022-06-14T17:39:34.123Z"
   },
   {
    "duration": 31,
    "start_time": "2022-06-14T17:39:34.195Z"
   },
   {
    "duration": 7,
    "start_time": "2022-06-14T17:39:34.228Z"
   },
   {
    "duration": 100,
    "start_time": "2022-06-14T17:39:34.237Z"
   },
   {
    "duration": 18,
    "start_time": "2022-06-14T17:39:34.338Z"
   },
   {
    "duration": 103,
    "start_time": "2022-06-14T17:39:34.364Z"
   },
   {
    "duration": 43,
    "start_time": "2022-06-14T17:39:34.469Z"
   },
   {
    "duration": 10,
    "start_time": "2022-06-14T17:39:34.513Z"
   },
   {
    "duration": 18,
    "start_time": "2022-06-14T17:39:34.525Z"
   },
   {
    "duration": 29,
    "start_time": "2022-06-14T17:39:34.544Z"
   },
   {
    "duration": 19,
    "start_time": "2022-06-14T17:39:34.575Z"
   },
   {
    "duration": 122,
    "start_time": "2022-06-14T17:39:34.595Z"
   },
   {
    "duration": 231,
    "start_time": "2022-06-14T17:39:34.718Z"
   },
   {
    "duration": 18,
    "start_time": "2022-06-14T17:39:34.951Z"
   },
   {
    "duration": 18,
    "start_time": "2022-06-14T17:39:34.971Z"
   },
   {
    "duration": 129,
    "start_time": "2022-06-14T17:39:34.991Z"
   },
   {
    "duration": 223,
    "start_time": "2022-06-14T17:39:35.121Z"
   },
   {
    "duration": 21,
    "start_time": "2022-06-14T17:39:35.346Z"
   },
   {
    "duration": 16,
    "start_time": "2022-06-14T17:39:35.369Z"
   },
   {
    "duration": 130,
    "start_time": "2022-06-14T17:39:35.387Z"
   },
   {
    "duration": 202,
    "start_time": "2022-06-14T17:39:35.519Z"
   },
   {
    "duration": 15,
    "start_time": "2022-06-14T17:39:35.723Z"
   },
   {
    "duration": 28,
    "start_time": "2022-06-14T17:39:35.739Z"
   },
   {
    "duration": 20,
    "start_time": "2022-06-14T17:39:35.769Z"
   },
   {
    "duration": 17,
    "start_time": "2022-06-14T17:39:35.791Z"
   },
   {
    "duration": 14,
    "start_time": "2022-06-14T17:39:35.810Z"
   },
   {
    "duration": 18,
    "start_time": "2022-06-14T17:39:35.826Z"
   },
   {
    "duration": 51,
    "start_time": "2022-06-14T17:39:35.846Z"
   },
   {
    "duration": 5,
    "start_time": "2022-06-14T17:39:35.898Z"
   },
   {
    "duration": 14,
    "start_time": "2022-06-14T17:39:35.904Z"
   },
   {
    "duration": 57,
    "start_time": "2022-06-14T17:39:35.919Z"
   },
   {
    "duration": 6,
    "start_time": "2022-06-14T17:39:35.977Z"
   },
   {
    "duration": 12,
    "start_time": "2022-06-14T17:39:35.985Z"
   },
   {
    "duration": 10,
    "start_time": "2022-06-14T17:39:35.998Z"
   },
   {
    "duration": 8,
    "start_time": "2022-06-14T17:39:36.010Z"
   },
   {
    "duration": 3,
    "start_time": "2022-06-14T17:41:23.045Z"
   },
   {
    "duration": 3,
    "start_time": "2022-06-14T17:43:38.739Z"
   },
   {
    "duration": 5,
    "start_time": "2022-06-14T17:45:05.609Z"
   },
   {
    "duration": 4,
    "start_time": "2022-06-14T17:47:04.586Z"
   },
   {
    "duration": 111,
    "start_time": "2022-06-14T17:48:05.190Z"
   },
   {
    "duration": 58,
    "start_time": "2022-06-14T17:48:07.218Z"
   },
   {
    "duration": 225,
    "start_time": "2022-06-14T17:51:48.488Z"
   },
   {
    "duration": 193,
    "start_time": "2022-06-14T17:52:04.845Z"
   },
   {
    "duration": 171,
    "start_time": "2022-06-14T17:52:19.735Z"
   },
   {
    "duration": 5,
    "start_time": "2022-06-14T17:52:23.082Z"
   },
   {
    "duration": 169,
    "start_time": "2022-06-14T17:52:41.720Z"
   },
   {
    "duration": 17,
    "start_time": "2022-06-14T17:53:01.248Z"
   },
   {
    "duration": 5,
    "start_time": "2022-06-14T17:53:10.840Z"
   },
   {
    "duration": 5,
    "start_time": "2022-06-14T17:53:28.472Z"
   },
   {
    "duration": 50,
    "start_time": "2022-06-14T17:53:30.823Z"
   },
   {
    "duration": 10,
    "start_time": "2022-06-14T17:56:22.341Z"
   },
   {
    "duration": 4,
    "start_time": "2022-06-14T17:56:31.086Z"
   },
   {
    "duration": 5,
    "start_time": "2022-06-14T17:56:42.126Z"
   },
   {
    "duration": 5,
    "start_time": "2022-06-14T17:57:38.325Z"
   },
   {
    "duration": 4,
    "start_time": "2022-06-14T17:59:25.021Z"
   },
   {
    "duration": 10,
    "start_time": "2022-06-14T18:00:00.065Z"
   },
   {
    "duration": 5,
    "start_time": "2022-06-14T18:00:03.093Z"
   },
   {
    "duration": 283,
    "start_time": "2022-06-14T18:01:01.035Z"
   },
   {
    "duration": 126,
    "start_time": "2022-06-14T18:01:44.508Z"
   },
   {
    "duration": 11,
    "start_time": "2022-06-14T18:02:57.315Z"
   },
   {
    "duration": 129,
    "start_time": "2022-06-14T18:03:02.533Z"
   },
   {
    "duration": 6,
    "start_time": "2022-06-14T18:05:43.423Z"
   },
   {
    "duration": 5,
    "start_time": "2022-06-14T18:06:17.839Z"
   },
   {
    "duration": 7,
    "start_time": "2022-06-14T18:06:23.940Z"
   },
   {
    "duration": 16,
    "start_time": "2022-06-14T18:06:32.882Z"
   },
   {
    "duration": 8,
    "start_time": "2022-06-14T18:06:40.153Z"
   },
   {
    "duration": 6,
    "start_time": "2022-06-14T18:07:13.025Z"
   },
   {
    "duration": 7,
    "start_time": "2022-06-14T18:07:56.177Z"
   },
   {
    "duration": 418,
    "start_time": "2022-06-14T18:09:00.334Z"
   },
   {
    "duration": 1405,
    "start_time": "2022-06-14T18:09:29.548Z"
   },
   {
    "duration": 3,
    "start_time": "2022-06-14T18:09:30.956Z"
   },
   {
    "duration": 37,
    "start_time": "2022-06-14T18:09:30.961Z"
   },
   {
    "duration": 972,
    "start_time": "2022-06-14T18:09:31.001Z"
   },
   {
    "duration": 22,
    "start_time": "2022-06-14T18:09:31.976Z"
   },
   {
    "duration": 17,
    "start_time": "2022-06-14T18:09:32.000Z"
   },
   {
    "duration": 111,
    "start_time": "2022-06-14T18:09:32.019Z"
   },
   {
    "duration": 134,
    "start_time": "2022-06-14T18:09:32.131Z"
   },
   {
    "duration": 138,
    "start_time": "2022-06-14T18:09:32.267Z"
   },
   {
    "duration": 241,
    "start_time": "2022-06-14T18:09:32.408Z"
   },
   {
    "duration": 150,
    "start_time": "2022-06-14T18:09:32.650Z"
   },
   {
    "duration": 22,
    "start_time": "2022-06-14T18:09:32.802Z"
   },
   {
    "duration": 434,
    "start_time": "2022-06-14T18:09:32.826Z"
   },
   {
    "duration": 14,
    "start_time": "2022-06-14T18:09:33.265Z"
   },
   {
    "duration": 42,
    "start_time": "2022-06-14T18:09:33.280Z"
   },
   {
    "duration": 364,
    "start_time": "2022-06-14T18:09:33.324Z"
   },
   {
    "duration": 17,
    "start_time": "2022-06-14T18:09:33.690Z"
   },
   {
    "duration": 56,
    "start_time": "2022-06-14T18:09:33.709Z"
   },
   {
    "duration": 10,
    "start_time": "2022-06-14T18:09:33.767Z"
   },
   {
    "duration": 11,
    "start_time": "2022-06-14T18:09:33.779Z"
   },
   {
    "duration": 7,
    "start_time": "2022-06-14T18:09:33.791Z"
   },
   {
    "duration": 76,
    "start_time": "2022-06-14T18:09:33.800Z"
   },
   {
    "duration": 17,
    "start_time": "2022-06-14T18:09:33.878Z"
   },
   {
    "duration": 14,
    "start_time": "2022-06-14T18:09:33.898Z"
   },
   {
    "duration": 450,
    "start_time": "2022-06-14T18:09:33.915Z"
   },
   {
    "duration": 83,
    "start_time": "2022-06-14T18:09:34.367Z"
   },
   {
    "duration": 60,
    "start_time": "2022-06-14T18:09:34.452Z"
   },
   {
    "duration": 12,
    "start_time": "2022-06-14T18:09:34.516Z"
   },
   {
    "duration": 152,
    "start_time": "2022-06-14T18:09:34.529Z"
   },
   {
    "duration": 39,
    "start_time": "2022-06-14T18:09:34.683Z"
   },
   {
    "duration": 11,
    "start_time": "2022-06-14T18:09:34.724Z"
   },
   {
    "duration": 52,
    "start_time": "2022-06-14T18:09:34.737Z"
   },
   {
    "duration": 7,
    "start_time": "2022-06-14T18:09:34.791Z"
   },
   {
    "duration": 96,
    "start_time": "2022-06-14T18:09:34.800Z"
   },
   {
    "duration": 17,
    "start_time": "2022-06-14T18:09:34.898Z"
   },
   {
    "duration": 124,
    "start_time": "2022-06-14T18:09:34.917Z"
   },
   {
    "duration": 51,
    "start_time": "2022-06-14T18:09:35.042Z"
   },
   {
    "duration": 11,
    "start_time": "2022-06-14T18:09:35.094Z"
   },
   {
    "duration": 30,
    "start_time": "2022-06-14T18:09:35.107Z"
   },
   {
    "duration": 26,
    "start_time": "2022-06-14T18:09:35.139Z"
   },
   {
    "duration": 46,
    "start_time": "2022-06-14T18:09:35.168Z"
   },
   {
    "duration": 138,
    "start_time": "2022-06-14T18:09:35.216Z"
   },
   {
    "duration": 230,
    "start_time": "2022-06-14T18:09:35.357Z"
   },
   {
    "duration": 16,
    "start_time": "2022-06-14T18:09:35.589Z"
   },
   {
    "duration": 36,
    "start_time": "2022-06-14T18:09:35.607Z"
   },
   {
    "duration": 105,
    "start_time": "2022-06-14T18:09:35.664Z"
   },
   {
    "duration": 199,
    "start_time": "2022-06-14T18:09:35.771Z"
   },
   {
    "duration": 18,
    "start_time": "2022-06-14T18:09:35.972Z"
   },
   {
    "duration": 33,
    "start_time": "2022-06-14T18:09:35.992Z"
   },
   {
    "duration": 128,
    "start_time": "2022-06-14T18:09:36.027Z"
   },
   {
    "duration": 215,
    "start_time": "2022-06-14T18:09:36.157Z"
   },
   {
    "duration": 15,
    "start_time": "2022-06-14T18:09:36.374Z"
   },
   {
    "duration": 32,
    "start_time": "2022-06-14T18:09:36.390Z"
   },
   {
    "duration": 30,
    "start_time": "2022-06-14T18:09:36.424Z"
   },
   {
    "duration": 22,
    "start_time": "2022-06-14T18:09:36.456Z"
   },
   {
    "duration": 31,
    "start_time": "2022-06-14T18:09:36.480Z"
   },
   {
    "duration": 22,
    "start_time": "2022-06-14T18:09:36.513Z"
   },
   {
    "duration": 52,
    "start_time": "2022-06-14T18:09:36.536Z"
   },
   {
    "duration": 5,
    "start_time": "2022-06-14T18:09:36.590Z"
   },
   {
    "duration": 23,
    "start_time": "2022-06-14T18:09:36.597Z"
   },
   {
    "duration": 52,
    "start_time": "2022-06-14T18:09:36.622Z"
   },
   {
    "duration": 5,
    "start_time": "2022-06-14T18:09:36.676Z"
   },
   {
    "duration": 16,
    "start_time": "2022-06-14T18:09:36.682Z"
   },
   {
    "duration": 26,
    "start_time": "2022-06-14T18:09:36.699Z"
   },
   {
    "duration": 31,
    "start_time": "2022-06-14T18:09:36.727Z"
   },
   {
    "duration": 57,
    "start_time": "2022-06-14T18:09:36.760Z"
   },
   {
    "duration": 139,
    "start_time": "2022-06-14T18:09:36.819Z"
   },
   {
    "duration": 0,
    "start_time": "2022-06-14T18:09:36.960Z"
   },
   {
    "duration": 40,
    "start_time": "2022-06-14T18:09:45.747Z"
   },
   {
    "duration": 1435,
    "start_time": "2022-06-14T18:10:17.169Z"
   },
   {
    "duration": 2,
    "start_time": "2022-06-14T18:10:18.607Z"
   },
   {
    "duration": 17,
    "start_time": "2022-06-14T18:10:18.611Z"
   },
   {
    "duration": 894,
    "start_time": "2022-06-14T18:10:18.630Z"
   },
   {
    "duration": 24,
    "start_time": "2022-06-14T18:10:19.527Z"
   },
   {
    "duration": 5,
    "start_time": "2022-06-14T18:10:19.553Z"
   },
   {
    "duration": 113,
    "start_time": "2022-06-14T18:10:19.565Z"
   },
   {
    "duration": 188,
    "start_time": "2022-06-14T18:10:19.680Z"
   },
   {
    "duration": 229,
    "start_time": "2022-06-14T18:10:19.870Z"
   },
   {
    "duration": 262,
    "start_time": "2022-06-14T18:10:20.101Z"
   },
   {
    "duration": 149,
    "start_time": "2022-06-14T18:10:20.375Z"
   },
   {
    "duration": 20,
    "start_time": "2022-06-14T18:10:20.526Z"
   },
   {
    "duration": 470,
    "start_time": "2022-06-14T18:10:20.548Z"
   },
   {
    "duration": 16,
    "start_time": "2022-06-14T18:10:21.022Z"
   },
   {
    "duration": 55,
    "start_time": "2022-06-14T18:10:21.040Z"
   },
   {
    "duration": 372,
    "start_time": "2022-06-14T18:10:21.097Z"
   },
   {
    "duration": 19,
    "start_time": "2022-06-14T18:10:21.472Z"
   },
   {
    "duration": 30,
    "start_time": "2022-06-14T18:10:21.493Z"
   },
   {
    "duration": 7,
    "start_time": "2022-06-14T18:10:21.525Z"
   },
   {
    "duration": 9,
    "start_time": "2022-06-14T18:10:21.564Z"
   },
   {
    "duration": 14,
    "start_time": "2022-06-14T18:10:21.575Z"
   },
   {
    "duration": 81,
    "start_time": "2022-06-14T18:10:21.591Z"
   },
   {
    "duration": 16,
    "start_time": "2022-06-14T18:10:21.674Z"
   },
   {
    "duration": 16,
    "start_time": "2022-06-14T18:10:21.692Z"
   },
   {
    "duration": 499,
    "start_time": "2022-06-14T18:10:21.710Z"
   },
   {
    "duration": 111,
    "start_time": "2022-06-14T18:10:22.213Z"
   },
   {
    "duration": 67,
    "start_time": "2022-06-14T18:10:22.326Z"
   },
   {
    "duration": 12,
    "start_time": "2022-06-14T18:10:22.395Z"
   },
   {
    "duration": 136,
    "start_time": "2022-06-14T18:10:22.409Z"
   },
   {
    "duration": 50,
    "start_time": "2022-06-14T18:10:22.547Z"
   },
   {
    "duration": 13,
    "start_time": "2022-06-14T18:10:22.599Z"
   },
   {
    "duration": 38,
    "start_time": "2022-06-14T18:10:22.613Z"
   },
   {
    "duration": 9,
    "start_time": "2022-06-14T18:10:22.664Z"
   },
   {
    "duration": 110,
    "start_time": "2022-06-14T18:10:22.675Z"
   },
   {
    "duration": 17,
    "start_time": "2022-06-14T18:10:22.787Z"
   },
   {
    "duration": 123,
    "start_time": "2022-06-14T18:10:22.806Z"
   },
   {
    "duration": 55,
    "start_time": "2022-06-14T18:10:22.931Z"
   },
   {
    "duration": 12,
    "start_time": "2022-06-14T18:10:22.988Z"
   },
   {
    "duration": 19,
    "start_time": "2022-06-14T18:10:23.002Z"
   },
   {
    "duration": 10,
    "start_time": "2022-06-14T18:10:23.022Z"
   },
   {
    "duration": 39,
    "start_time": "2022-06-14T18:10:23.036Z"
   },
   {
    "duration": 131,
    "start_time": "2022-06-14T18:10:23.077Z"
   },
   {
    "duration": 116,
    "start_time": "2022-06-14T18:10:23.209Z"
   },
   {
    "duration": 0,
    "start_time": "2022-06-14T18:10:23.327Z"
   },
   {
    "duration": 0,
    "start_time": "2022-06-14T18:10:23.328Z"
   },
   {
    "duration": 0,
    "start_time": "2022-06-14T18:10:23.329Z"
   },
   {
    "duration": 0,
    "start_time": "2022-06-14T18:10:23.330Z"
   },
   {
    "duration": 0,
    "start_time": "2022-06-14T18:10:23.335Z"
   },
   {
    "duration": 0,
    "start_time": "2022-06-14T18:10:23.336Z"
   },
   {
    "duration": 0,
    "start_time": "2022-06-14T18:10:23.337Z"
   },
   {
    "duration": 0,
    "start_time": "2022-06-14T18:10:23.339Z"
   },
   {
    "duration": 0,
    "start_time": "2022-06-14T18:10:23.365Z"
   },
   {
    "duration": 0,
    "start_time": "2022-06-14T18:10:23.366Z"
   },
   {
    "duration": 0,
    "start_time": "2022-06-14T18:10:23.367Z"
   },
   {
    "duration": 0,
    "start_time": "2022-06-14T18:10:23.368Z"
   },
   {
    "duration": 0,
    "start_time": "2022-06-14T18:10:23.369Z"
   },
   {
    "duration": 0,
    "start_time": "2022-06-14T18:10:23.371Z"
   },
   {
    "duration": 0,
    "start_time": "2022-06-14T18:10:23.372Z"
   },
   {
    "duration": 0,
    "start_time": "2022-06-14T18:10:23.374Z"
   },
   {
    "duration": 0,
    "start_time": "2022-06-14T18:10:23.375Z"
   },
   {
    "duration": 0,
    "start_time": "2022-06-14T18:10:23.376Z"
   },
   {
    "duration": 0,
    "start_time": "2022-06-14T18:10:23.377Z"
   },
   {
    "duration": 0,
    "start_time": "2022-06-14T18:10:23.379Z"
   },
   {
    "duration": 0,
    "start_time": "2022-06-14T18:10:23.380Z"
   },
   {
    "duration": 0,
    "start_time": "2022-06-14T18:10:23.380Z"
   },
   {
    "duration": 0,
    "start_time": "2022-06-14T18:10:23.382Z"
   },
   {
    "duration": 0,
    "start_time": "2022-06-14T18:10:23.383Z"
   },
   {
    "duration": 0,
    "start_time": "2022-06-14T18:10:23.384Z"
   },
   {
    "duration": 1271,
    "start_time": "2022-06-14T18:11:49.663Z"
   },
   {
    "duration": 5,
    "start_time": "2022-06-14T18:11:50.936Z"
   },
   {
    "duration": 5,
    "start_time": "2022-06-14T18:11:50.945Z"
   },
   {
    "duration": 886,
    "start_time": "2022-06-14T18:11:50.952Z"
   },
   {
    "duration": 34,
    "start_time": "2022-06-14T18:11:51.840Z"
   },
   {
    "duration": 5,
    "start_time": "2022-06-14T18:11:51.876Z"
   },
   {
    "duration": 123,
    "start_time": "2022-06-14T18:11:51.883Z"
   },
   {
    "duration": 158,
    "start_time": "2022-06-14T18:11:52.007Z"
   },
   {
    "duration": 130,
    "start_time": "2022-06-14T18:11:52.167Z"
   },
   {
    "duration": 289,
    "start_time": "2022-06-14T18:11:52.298Z"
   },
   {
    "duration": 185,
    "start_time": "2022-06-14T18:11:52.589Z"
   },
   {
    "duration": 25,
    "start_time": "2022-06-14T18:11:52.776Z"
   },
   {
    "duration": 461,
    "start_time": "2022-06-14T18:11:52.805Z"
   },
   {
    "duration": 15,
    "start_time": "2022-06-14T18:11:53.267Z"
   },
   {
    "duration": 27,
    "start_time": "2022-06-14T18:11:53.284Z"
   },
   {
    "duration": 399,
    "start_time": "2022-06-14T18:11:53.313Z"
   },
   {
    "duration": 14,
    "start_time": "2022-06-14T18:11:53.714Z"
   },
   {
    "duration": 48,
    "start_time": "2022-06-14T18:11:53.730Z"
   },
   {
    "duration": 8,
    "start_time": "2022-06-14T18:11:53.780Z"
   },
   {
    "duration": 14,
    "start_time": "2022-06-14T18:11:53.790Z"
   },
   {
    "duration": 7,
    "start_time": "2022-06-14T18:11:53.806Z"
   },
   {
    "duration": 90,
    "start_time": "2022-06-14T18:11:53.814Z"
   },
   {
    "duration": 11,
    "start_time": "2022-06-14T18:11:53.906Z"
   },
   {
    "duration": 19,
    "start_time": "2022-06-14T18:11:53.919Z"
   },
   {
    "duration": 416,
    "start_time": "2022-06-14T18:11:53.940Z"
   },
   {
    "duration": 98,
    "start_time": "2022-06-14T18:11:54.358Z"
   },
   {
    "duration": 53,
    "start_time": "2022-06-14T18:11:54.464Z"
   },
   {
    "duration": 12,
    "start_time": "2022-06-14T18:11:54.519Z"
   },
   {
    "duration": 193,
    "start_time": "2022-06-14T18:11:54.533Z"
   },
   {
    "duration": 58,
    "start_time": "2022-06-14T18:11:54.728Z"
   },
   {
    "duration": 14,
    "start_time": "2022-06-14T18:11:54.788Z"
   },
   {
    "duration": 43,
    "start_time": "2022-06-14T18:11:54.804Z"
   },
   {
    "duration": 24,
    "start_time": "2022-06-14T18:11:54.848Z"
   },
   {
    "duration": 90,
    "start_time": "2022-06-14T18:11:54.875Z"
   },
   {
    "duration": 20,
    "start_time": "2022-06-14T18:11:54.967Z"
   },
   {
    "duration": 113,
    "start_time": "2022-06-14T18:11:54.989Z"
   },
   {
    "duration": 62,
    "start_time": "2022-06-14T18:11:55.105Z"
   },
   {
    "duration": 13,
    "start_time": "2022-06-14T18:11:55.169Z"
   },
   {
    "duration": 20,
    "start_time": "2022-06-14T18:11:55.184Z"
   },
   {
    "duration": 10,
    "start_time": "2022-06-14T18:11:55.209Z"
   },
   {
    "duration": 46,
    "start_time": "2022-06-14T18:11:55.220Z"
   },
   {
    "duration": 123,
    "start_time": "2022-06-14T18:11:55.268Z"
   },
   {
    "duration": 237,
    "start_time": "2022-06-14T18:11:55.393Z"
   },
   {
    "duration": 36,
    "start_time": "2022-06-14T18:11:55.632Z"
   },
   {
    "duration": 23,
    "start_time": "2022-06-14T18:11:55.670Z"
   },
   {
    "duration": 139,
    "start_time": "2022-06-14T18:11:55.696Z"
   },
   {
    "duration": 242,
    "start_time": "2022-06-14T18:11:55.837Z"
   },
   {
    "duration": 15,
    "start_time": "2022-06-14T18:11:56.081Z"
   },
   {
    "duration": 15,
    "start_time": "2022-06-14T18:11:56.099Z"
   },
   {
    "duration": 128,
    "start_time": "2022-06-14T18:11:56.116Z"
   },
   {
    "duration": 181,
    "start_time": "2022-06-14T18:11:56.246Z"
   },
   {
    "duration": 17,
    "start_time": "2022-06-14T18:11:56.429Z"
   },
   {
    "duration": 33,
    "start_time": "2022-06-14T18:11:56.447Z"
   },
   {
    "duration": 22,
    "start_time": "2022-06-14T18:11:56.483Z"
   },
   {
    "duration": 26,
    "start_time": "2022-06-14T18:11:56.508Z"
   },
   {
    "duration": 32,
    "start_time": "2022-06-14T18:11:56.536Z"
   },
   {
    "duration": 6,
    "start_time": "2022-06-14T18:11:56.570Z"
   },
   {
    "duration": 53,
    "start_time": "2022-06-14T18:11:56.578Z"
   },
   {
    "duration": 7,
    "start_time": "2022-06-14T18:11:56.633Z"
   },
   {
    "duration": 28,
    "start_time": "2022-06-14T18:11:56.642Z"
   },
   {
    "duration": 50,
    "start_time": "2022-06-14T18:11:56.672Z"
   },
   {
    "duration": 5,
    "start_time": "2022-06-14T18:11:56.724Z"
   },
   {
    "duration": 8,
    "start_time": "2022-06-14T18:11:56.731Z"
   },
   {
    "duration": 33,
    "start_time": "2022-06-14T18:11:56.742Z"
   },
   {
    "duration": 8,
    "start_time": "2022-06-14T18:11:56.777Z"
   },
   {
    "duration": 52,
    "start_time": "2022-06-14T18:11:56.786Z"
   },
   {
    "duration": 38,
    "start_time": "2022-06-14T18:11:56.840Z"
   },
   {
    "duration": 47,
    "start_time": "2022-06-14T18:11:56.880Z"
   },
   {
    "duration": 2670,
    "start_time": "2022-06-14T18:14:39.395Z"
   },
   {
    "duration": 4,
    "start_time": "2022-06-14T18:14:42.067Z"
   },
   {
    "duration": 24,
    "start_time": "2022-06-14T18:14:42.073Z"
   },
   {
    "duration": 936,
    "start_time": "2022-06-14T18:14:42.099Z"
   },
   {
    "duration": 16,
    "start_time": "2022-06-14T18:14:43.037Z"
   },
   {
    "duration": 5,
    "start_time": "2022-06-14T18:14:43.065Z"
   },
   {
    "duration": 124,
    "start_time": "2022-06-14T18:14:43.072Z"
   },
   {
    "duration": 186,
    "start_time": "2022-06-14T18:14:43.199Z"
   },
   {
    "duration": 153,
    "start_time": "2022-06-14T18:14:43.387Z"
   },
   {
    "duration": 276,
    "start_time": "2022-06-14T18:14:43.543Z"
   },
   {
    "duration": 184,
    "start_time": "2022-06-14T18:14:43.821Z"
   },
   {
    "duration": 23,
    "start_time": "2022-06-14T18:14:44.007Z"
   },
   {
    "duration": 500,
    "start_time": "2022-06-14T18:14:44.032Z"
   },
   {
    "duration": 14,
    "start_time": "2022-06-14T18:14:44.534Z"
   },
   {
    "duration": 44,
    "start_time": "2022-06-14T18:14:44.551Z"
   },
   {
    "duration": 448,
    "start_time": "2022-06-14T18:14:44.598Z"
   },
   {
    "duration": 29,
    "start_time": "2022-06-14T18:14:45.048Z"
   },
   {
    "duration": 53,
    "start_time": "2022-06-14T18:14:45.078Z"
   },
   {
    "duration": 10,
    "start_time": "2022-06-14T18:14:45.133Z"
   },
   {
    "duration": 34,
    "start_time": "2022-06-14T18:14:45.145Z"
   },
   {
    "duration": 8,
    "start_time": "2022-06-14T18:14:45.181Z"
   },
   {
    "duration": 66,
    "start_time": "2022-06-14T18:14:45.191Z"
   },
   {
    "duration": 21,
    "start_time": "2022-06-14T18:14:45.266Z"
   },
   {
    "duration": 14,
    "start_time": "2022-06-14T18:14:45.289Z"
   },
   {
    "duration": 481,
    "start_time": "2022-06-14T18:14:45.305Z"
   },
   {
    "duration": 103,
    "start_time": "2022-06-14T18:14:45.788Z"
   },
   {
    "duration": 55,
    "start_time": "2022-06-14T18:14:45.892Z"
   },
   {
    "duration": 28,
    "start_time": "2022-06-14T18:14:45.951Z"
   },
   {
    "duration": 150,
    "start_time": "2022-06-14T18:14:45.981Z"
   },
   {
    "duration": 57,
    "start_time": "2022-06-14T18:14:46.134Z"
   },
   {
    "duration": 11,
    "start_time": "2022-06-14T18:14:46.193Z"
   },
   {
    "duration": 33,
    "start_time": "2022-06-14T18:14:46.205Z"
   },
   {
    "duration": 26,
    "start_time": "2022-06-14T18:14:46.240Z"
   },
   {
    "duration": 92,
    "start_time": "2022-06-14T18:14:46.268Z"
   },
   {
    "duration": 29,
    "start_time": "2022-06-14T18:14:46.362Z"
   },
   {
    "duration": 124,
    "start_time": "2022-06-14T18:14:46.393Z"
   },
   {
    "duration": 46,
    "start_time": "2022-06-14T18:14:46.519Z"
   },
   {
    "duration": 21,
    "start_time": "2022-06-14T18:14:46.567Z"
   },
   {
    "duration": 19,
    "start_time": "2022-06-14T18:14:46.591Z"
   },
   {
    "duration": 24,
    "start_time": "2022-06-14T18:14:46.612Z"
   },
   {
    "duration": 41,
    "start_time": "2022-06-14T18:14:46.637Z"
   },
   {
    "duration": 156,
    "start_time": "2022-06-14T18:14:46.680Z"
   },
   {
    "duration": 247,
    "start_time": "2022-06-14T18:14:46.838Z"
   },
   {
    "duration": 17,
    "start_time": "2022-06-14T18:14:47.087Z"
   },
   {
    "duration": 21,
    "start_time": "2022-06-14T18:14:47.106Z"
   },
   {
    "duration": 153,
    "start_time": "2022-06-14T18:14:47.129Z"
   },
   {
    "duration": 219,
    "start_time": "2022-06-14T18:14:47.284Z"
   },
   {
    "duration": 18,
    "start_time": "2022-06-14T18:14:47.506Z"
   },
   {
    "duration": 45,
    "start_time": "2022-06-14T18:14:47.527Z"
   },
   {
    "duration": 142,
    "start_time": "2022-06-14T18:14:47.574Z"
   },
   {
    "duration": 250,
    "start_time": "2022-06-14T18:14:47.718Z"
   },
   {
    "duration": 25,
    "start_time": "2022-06-14T18:14:47.971Z"
   },
   {
    "duration": 34,
    "start_time": "2022-06-14T18:14:47.998Z"
   },
   {
    "duration": 38,
    "start_time": "2022-06-14T18:14:48.034Z"
   },
   {
    "duration": 30,
    "start_time": "2022-06-14T18:14:48.074Z"
   },
   {
    "duration": 14,
    "start_time": "2022-06-14T18:14:48.107Z"
   },
   {
    "duration": 6,
    "start_time": "2022-06-14T18:14:48.123Z"
   },
   {
    "duration": 71,
    "start_time": "2022-06-14T18:14:48.131Z"
   },
   {
    "duration": 6,
    "start_time": "2022-06-14T18:14:48.204Z"
   },
   {
    "duration": 18,
    "start_time": "2022-06-14T18:14:48.212Z"
   },
   {
    "duration": 64,
    "start_time": "2022-06-14T18:14:48.233Z"
   },
   {
    "duration": 6,
    "start_time": "2022-06-14T18:14:48.299Z"
   },
   {
    "duration": 7,
    "start_time": "2022-06-14T18:14:48.307Z"
   },
   {
    "duration": 12,
    "start_time": "2022-06-14T18:14:48.315Z"
   },
   {
    "duration": 5,
    "start_time": "2022-06-14T18:14:48.329Z"
   },
   {
    "duration": 92,
    "start_time": "2022-06-14T18:14:48.336Z"
   },
   {
    "duration": 62,
    "start_time": "2022-06-14T18:14:48.430Z"
   },
   {
    "duration": 35,
    "start_time": "2022-06-14T18:14:48.494Z"
   },
   {
    "duration": 35,
    "start_time": "2022-06-14T18:15:17.092Z"
   },
   {
    "duration": 159,
    "start_time": "2022-06-14T18:15:31.634Z"
   },
   {
    "duration": 11,
    "start_time": "2022-06-14T18:15:49.996Z"
   },
   {
    "duration": 234,
    "start_time": "2022-06-14T18:15:58.109Z"
   },
   {
    "duration": 1358,
    "start_time": "2022-06-14T18:16:48.858Z"
   },
   {
    "duration": 3,
    "start_time": "2022-06-14T18:16:50.221Z"
   },
   {
    "duration": 11,
    "start_time": "2022-06-14T18:16:50.226Z"
   },
   {
    "duration": 905,
    "start_time": "2022-06-14T18:16:50.240Z"
   },
   {
    "duration": 23,
    "start_time": "2022-06-14T18:16:51.147Z"
   },
   {
    "duration": 4,
    "start_time": "2022-06-14T18:16:51.172Z"
   },
   {
    "duration": 114,
    "start_time": "2022-06-14T18:16:51.178Z"
   },
   {
    "duration": 153,
    "start_time": "2022-06-14T18:16:51.293Z"
   },
   {
    "duration": 141,
    "start_time": "2022-06-14T18:16:51.448Z"
   },
   {
    "duration": 259,
    "start_time": "2022-06-14T18:16:51.592Z"
   },
   {
    "duration": 168,
    "start_time": "2022-06-14T18:16:51.852Z"
   },
   {
    "duration": 24,
    "start_time": "2022-06-14T18:16:52.022Z"
   },
   {
    "duration": 458,
    "start_time": "2022-06-14T18:16:52.048Z"
   },
   {
    "duration": 16,
    "start_time": "2022-06-14T18:16:52.508Z"
   },
   {
    "duration": 57,
    "start_time": "2022-06-14T18:16:52.526Z"
   },
   {
    "duration": 383,
    "start_time": "2022-06-14T18:16:52.586Z"
   },
   {
    "duration": 14,
    "start_time": "2022-06-14T18:16:52.970Z"
   },
   {
    "duration": 44,
    "start_time": "2022-06-14T18:16:52.986Z"
   },
   {
    "duration": 9,
    "start_time": "2022-06-14T18:16:53.032Z"
   },
   {
    "duration": 31,
    "start_time": "2022-06-14T18:16:53.043Z"
   },
   {
    "duration": 7,
    "start_time": "2022-06-14T18:16:53.077Z"
   },
   {
    "duration": 80,
    "start_time": "2022-06-14T18:16:53.086Z"
   },
   {
    "duration": 14,
    "start_time": "2022-06-14T18:16:53.168Z"
   },
   {
    "duration": 33,
    "start_time": "2022-06-14T18:16:53.184Z"
   },
   {
    "duration": 561,
    "start_time": "2022-06-14T18:16:53.219Z"
   },
   {
    "duration": 100,
    "start_time": "2022-06-14T18:16:53.782Z"
   },
   {
    "duration": 53,
    "start_time": "2022-06-14T18:16:53.884Z"
   },
   {
    "duration": 28,
    "start_time": "2022-06-14T18:16:53.942Z"
   },
   {
    "duration": 138,
    "start_time": "2022-06-14T18:16:53.972Z"
   },
   {
    "duration": 40,
    "start_time": "2022-06-14T18:16:54.112Z"
   },
   {
    "duration": 12,
    "start_time": "2022-06-14T18:16:54.164Z"
   },
   {
    "duration": 35,
    "start_time": "2022-06-14T18:16:54.178Z"
   },
   {
    "duration": 9,
    "start_time": "2022-06-14T18:16:54.215Z"
   },
   {
    "duration": 102,
    "start_time": "2022-06-14T18:16:54.225Z"
   },
   {
    "duration": 18,
    "start_time": "2022-06-14T18:16:54.329Z"
   },
   {
    "duration": 137,
    "start_time": "2022-06-14T18:16:54.349Z"
   },
   {
    "duration": 43,
    "start_time": "2022-06-14T18:16:54.487Z"
   },
   {
    "duration": 11,
    "start_time": "2022-06-14T18:16:54.532Z"
   },
   {
    "duration": 32,
    "start_time": "2022-06-14T18:16:54.545Z"
   },
   {
    "duration": 10,
    "start_time": "2022-06-14T18:16:54.580Z"
   },
   {
    "duration": 25,
    "start_time": "2022-06-14T18:16:54.592Z"
   },
   {
    "duration": 153,
    "start_time": "2022-06-14T18:16:54.619Z"
   },
   {
    "duration": 267,
    "start_time": "2022-06-14T18:16:54.773Z"
   },
   {
    "duration": 24,
    "start_time": "2022-06-14T18:16:55.043Z"
   },
   {
    "duration": 27,
    "start_time": "2022-06-14T18:16:55.069Z"
   },
   {
    "duration": 133,
    "start_time": "2022-06-14T18:16:55.099Z"
   },
   {
    "duration": 207,
    "start_time": "2022-06-14T18:16:55.235Z"
   },
   {
    "duration": 24,
    "start_time": "2022-06-14T18:16:55.444Z"
   },
   {
    "duration": 20,
    "start_time": "2022-06-14T18:16:55.470Z"
   },
   {
    "duration": 129,
    "start_time": "2022-06-14T18:16:55.492Z"
   },
   {
    "duration": 247,
    "start_time": "2022-06-14T18:16:55.623Z"
   },
   {
    "duration": 15,
    "start_time": "2022-06-14T18:16:55.872Z"
   },
   {
    "duration": 19,
    "start_time": "2022-06-14T18:16:55.889Z"
   },
   {
    "duration": 35,
    "start_time": "2022-06-14T18:16:55.910Z"
   },
   {
    "duration": 22,
    "start_time": "2022-06-14T18:16:55.947Z"
   },
   {
    "duration": 16,
    "start_time": "2022-06-14T18:16:55.971Z"
   },
   {
    "duration": 5,
    "start_time": "2022-06-14T18:16:55.989Z"
   },
   {
    "duration": 41,
    "start_time": "2022-06-14T18:16:55.996Z"
   },
   {
    "duration": 29,
    "start_time": "2022-06-14T18:16:56.039Z"
   },
   {
    "duration": 20,
    "start_time": "2022-06-14T18:16:56.070Z"
   },
   {
    "duration": 40,
    "start_time": "2022-06-14T18:16:56.092Z"
   },
   {
    "duration": 6,
    "start_time": "2022-06-14T18:16:56.133Z"
   },
   {
    "duration": 29,
    "start_time": "2022-06-14T18:16:56.140Z"
   },
   {
    "duration": 24,
    "start_time": "2022-06-14T18:16:56.171Z"
   },
   {
    "duration": 5,
    "start_time": "2022-06-14T18:16:56.197Z"
   },
   {
    "duration": 44,
    "start_time": "2022-06-14T18:16:56.203Z"
   },
   {
    "duration": 50,
    "start_time": "2022-06-14T18:16:56.248Z"
   },
   {
    "duration": 38,
    "start_time": "2022-06-14T18:16:56.300Z"
   },
   {
    "duration": 45,
    "start_time": "2022-06-14T18:16:56.340Z"
   },
   {
    "duration": 31,
    "start_time": "2022-06-14T18:16:56.387Z"
   },
   {
    "duration": 33,
    "start_time": "2022-06-14T18:17:23.784Z"
   },
   {
    "duration": 4,
    "start_time": "2022-06-14T18:22:02.966Z"
   },
   {
    "duration": 5,
    "start_time": "2022-06-14T18:24:27.139Z"
   },
   {
    "duration": 5,
    "start_time": "2022-06-14T18:24:41.766Z"
   },
   {
    "duration": 10,
    "start_time": "2022-06-14T18:25:44.748Z"
   },
   {
    "duration": 102,
    "start_time": "2022-06-14T18:36:29.846Z"
   },
   {
    "duration": 4,
    "start_time": "2022-06-14T18:37:41.005Z"
   },
   {
    "duration": 4,
    "start_time": "2022-06-14T18:37:41.760Z"
   },
   {
    "duration": 70,
    "start_time": "2022-06-14T18:41:01.540Z"
   },
   {
    "duration": 4,
    "start_time": "2022-06-14T18:44:22.160Z"
   },
   {
    "duration": 3,
    "start_time": "2022-06-14T18:45:27.422Z"
   },
   {
    "duration": 34,
    "start_time": "2022-06-14T18:45:56.387Z"
   },
   {
    "duration": 5,
    "start_time": "2022-06-14T18:46:13.686Z"
   },
   {
    "duration": 4,
    "start_time": "2022-06-14T18:46:14.289Z"
   },
   {
    "duration": 3,
    "start_time": "2022-06-14T18:46:22.622Z"
   },
   {
    "duration": 64,
    "start_time": "2022-06-14T18:46:23.182Z"
   },
   {
    "duration": 5,
    "start_time": "2022-06-14T18:47:01.577Z"
   },
   {
    "duration": 3,
    "start_time": "2022-06-14T18:47:04.846Z"
   },
   {
    "duration": 344,
    "start_time": "2022-06-14T18:47:05.325Z"
   },
   {
    "duration": 371,
    "start_time": "2022-06-14T18:47:41.046Z"
   },
   {
    "duration": 127,
    "start_time": "2022-06-14T18:48:13.918Z"
   },
   {
    "duration": 4,
    "start_time": "2022-06-14T18:49:15.893Z"
   },
   {
    "duration": 10,
    "start_time": "2022-06-14T18:51:32.831Z"
   },
   {
    "duration": 8,
    "start_time": "2022-06-14T18:51:52.748Z"
   },
   {
    "duration": 14,
    "start_time": "2022-06-14T18:52:06.293Z"
   },
   {
    "duration": 11,
    "start_time": "2022-06-14T18:52:14.504Z"
   },
   {
    "duration": 16,
    "start_time": "2022-06-14T18:52:25.163Z"
   },
   {
    "duration": 12,
    "start_time": "2022-06-14T18:52:39.316Z"
   },
   {
    "duration": 1359,
    "start_time": "2022-06-14T18:56:31.552Z"
   },
   {
    "duration": 3,
    "start_time": "2022-06-14T18:56:32.914Z"
   },
   {
    "duration": 9,
    "start_time": "2022-06-14T18:56:32.919Z"
   },
   {
    "duration": 939,
    "start_time": "2022-06-14T18:56:32.930Z"
   },
   {
    "duration": 20,
    "start_time": "2022-06-14T18:56:33.871Z"
   },
   {
    "duration": 7,
    "start_time": "2022-06-14T18:56:33.893Z"
   },
   {
    "duration": 128,
    "start_time": "2022-06-14T18:56:33.902Z"
   },
   {
    "duration": 155,
    "start_time": "2022-06-14T18:56:34.032Z"
   },
   {
    "duration": 145,
    "start_time": "2022-06-14T18:56:34.189Z"
   },
   {
    "duration": 265,
    "start_time": "2022-06-14T18:56:34.337Z"
   },
   {
    "duration": 196,
    "start_time": "2022-06-14T18:56:34.605Z"
   },
   {
    "duration": 23,
    "start_time": "2022-06-14T18:56:34.805Z"
   },
   {
    "duration": 474,
    "start_time": "2022-06-14T18:56:34.830Z"
   },
   {
    "duration": 15,
    "start_time": "2022-06-14T18:56:35.306Z"
   },
   {
    "duration": 60,
    "start_time": "2022-06-14T18:56:35.322Z"
   },
   {
    "duration": 379,
    "start_time": "2022-06-14T18:56:35.384Z"
   },
   {
    "duration": 17,
    "start_time": "2022-06-14T18:56:35.765Z"
   },
   {
    "duration": 61,
    "start_time": "2022-06-14T18:56:35.786Z"
   },
   {
    "duration": 6,
    "start_time": "2022-06-14T18:56:35.849Z"
   },
   {
    "duration": 11,
    "start_time": "2022-06-14T18:56:35.857Z"
   },
   {
    "duration": 36,
    "start_time": "2022-06-14T18:56:35.871Z"
   },
   {
    "duration": 55,
    "start_time": "2022-06-14T18:56:35.908Z"
   },
   {
    "duration": 23,
    "start_time": "2022-06-14T18:56:35.964Z"
   },
   {
    "duration": 24,
    "start_time": "2022-06-14T18:56:35.990Z"
   },
   {
    "duration": 496,
    "start_time": "2022-06-14T18:56:36.016Z"
   },
   {
    "duration": 110,
    "start_time": "2022-06-14T18:56:36.513Z"
   },
   {
    "duration": 80,
    "start_time": "2022-06-14T18:56:36.625Z"
   },
   {
    "duration": 12,
    "start_time": "2022-06-14T18:56:36.710Z"
   },
   {
    "duration": 153,
    "start_time": "2022-06-14T18:56:36.724Z"
   },
   {
    "duration": 44,
    "start_time": "2022-06-14T18:56:36.880Z"
   },
   {
    "duration": 9,
    "start_time": "2022-06-14T18:56:36.926Z"
   },
   {
    "duration": 52,
    "start_time": "2022-06-14T18:56:36.937Z"
   },
   {
    "duration": 9,
    "start_time": "2022-06-14T18:56:36.991Z"
   },
   {
    "duration": 100,
    "start_time": "2022-06-14T18:56:37.002Z"
   },
   {
    "duration": 16,
    "start_time": "2022-06-14T18:56:37.104Z"
   },
   {
    "duration": 139,
    "start_time": "2022-06-14T18:56:37.121Z"
   },
   {
    "duration": 58,
    "start_time": "2022-06-14T18:56:37.261Z"
   },
   {
    "duration": 10,
    "start_time": "2022-06-14T18:56:37.320Z"
   },
   {
    "duration": 34,
    "start_time": "2022-06-14T18:56:37.332Z"
   },
   {
    "duration": 29,
    "start_time": "2022-06-14T18:56:37.369Z"
   },
   {
    "duration": 23,
    "start_time": "2022-06-14T18:56:37.400Z"
   },
   {
    "duration": 131,
    "start_time": "2022-06-14T18:56:37.425Z"
   },
   {
    "duration": 276,
    "start_time": "2022-06-14T18:56:37.558Z"
   },
   {
    "duration": 16,
    "start_time": "2022-06-14T18:56:37.836Z"
   },
   {
    "duration": 34,
    "start_time": "2022-06-14T18:56:37.877Z"
   },
   {
    "duration": 142,
    "start_time": "2022-06-14T18:56:37.913Z"
   },
   {
    "duration": 225,
    "start_time": "2022-06-14T18:56:38.056Z"
   },
   {
    "duration": 24,
    "start_time": "2022-06-14T18:56:38.283Z"
   },
   {
    "duration": 17,
    "start_time": "2022-06-14T18:56:38.309Z"
   },
   {
    "duration": 143,
    "start_time": "2022-06-14T18:56:38.328Z"
   },
   {
    "duration": 249,
    "start_time": "2022-06-14T18:56:38.473Z"
   },
   {
    "duration": 16,
    "start_time": "2022-06-14T18:56:38.724Z"
   },
   {
    "duration": 32,
    "start_time": "2022-06-14T18:56:38.742Z"
   },
   {
    "duration": 47,
    "start_time": "2022-06-14T18:56:38.776Z"
   },
   {
    "duration": 19,
    "start_time": "2022-06-14T18:56:38.825Z"
   },
   {
    "duration": 78,
    "start_time": "2022-06-14T18:56:38.846Z"
   },
   {
    "duration": 10,
    "start_time": "2022-06-14T18:56:38.926Z"
   },
   {
    "duration": 71,
    "start_time": "2022-06-14T18:56:38.938Z"
   },
   {
    "duration": 8,
    "start_time": "2022-06-14T18:56:39.014Z"
   },
   {
    "duration": 14,
    "start_time": "2022-06-14T18:56:39.025Z"
   },
   {
    "duration": 50,
    "start_time": "2022-06-14T18:56:39.041Z"
   },
   {
    "duration": 10,
    "start_time": "2022-06-14T18:56:39.094Z"
   },
   {
    "duration": 25,
    "start_time": "2022-06-14T18:56:39.107Z"
   },
   {
    "duration": 38,
    "start_time": "2022-06-14T18:56:39.134Z"
   },
   {
    "duration": 35,
    "start_time": "2022-06-14T18:56:39.174Z"
   },
   {
    "duration": 72,
    "start_time": "2022-06-14T18:56:39.212Z"
   },
   {
    "duration": 46,
    "start_time": "2022-06-14T18:56:39.287Z"
   },
   {
    "duration": 69,
    "start_time": "2022-06-14T18:56:39.335Z"
   },
   {
    "duration": 33,
    "start_time": "2022-06-14T18:56:39.406Z"
   },
   {
    "duration": 54,
    "start_time": "2022-06-14T18:56:39.441Z"
   },
   {
    "duration": 4,
    "start_time": "2022-06-14T18:56:39.496Z"
   },
   {
    "duration": 10,
    "start_time": "2022-06-14T18:56:39.501Z"
   },
   {
    "duration": 97,
    "start_time": "2022-06-14T18:56:39.512Z"
   },
   {
    "duration": 2,
    "start_time": "2022-06-14T18:56:39.611Z"
   },
   {
    "duration": 11,
    "start_time": "2022-06-14T18:56:39.614Z"
   },
   {
    "duration": 402,
    "start_time": "2022-06-14T18:56:39.626Z"
   },
   {
    "duration": 122,
    "start_time": "2022-06-14T18:56:40.029Z"
   },
   {
    "duration": 3,
    "start_time": "2022-06-14T18:56:40.153Z"
   },
   {
    "duration": 33,
    "start_time": "2022-06-14T18:56:40.170Z"
   },
   {
    "duration": 503,
    "start_time": "2022-06-15T17:01:52.428Z"
   },
   {
    "duration": 1393,
    "start_time": "2022-06-15T17:02:01.269Z"
   },
   {
    "duration": 3,
    "start_time": "2022-06-15T17:02:02.664Z"
   },
   {
    "duration": 12,
    "start_time": "2022-06-15T17:02:02.670Z"
   },
   {
    "duration": 1239,
    "start_time": "2022-06-15T17:02:02.683Z"
   },
   {
    "duration": 18,
    "start_time": "2022-06-15T17:02:03.924Z"
   },
   {
    "duration": 26,
    "start_time": "2022-06-15T17:02:03.944Z"
   },
   {
    "duration": 160,
    "start_time": "2022-06-15T17:02:03.972Z"
   },
   {
    "duration": 143,
    "start_time": "2022-06-15T17:02:04.133Z"
   },
   {
    "duration": 142,
    "start_time": "2022-06-15T17:02:04.279Z"
   },
   {
    "duration": 250,
    "start_time": "2022-06-15T17:02:04.422Z"
   },
   {
    "duration": 191,
    "start_time": "2022-06-15T17:02:04.674Z"
   },
   {
    "duration": 33,
    "start_time": "2022-06-15T17:02:04.867Z"
   },
   {
    "duration": 419,
    "start_time": "2022-06-15T17:02:04.902Z"
   },
   {
    "duration": 15,
    "start_time": "2022-06-15T17:02:05.323Z"
   },
   {
    "duration": 33,
    "start_time": "2022-06-15T17:02:05.340Z"
   },
   {
    "duration": 343,
    "start_time": "2022-06-15T17:02:05.394Z"
   },
   {
    "duration": 14,
    "start_time": "2022-06-15T17:02:05.738Z"
   },
   {
    "duration": 51,
    "start_time": "2022-06-15T17:02:05.754Z"
   },
   {
    "duration": 7,
    "start_time": "2022-06-15T17:02:05.807Z"
   },
   {
    "duration": 23,
    "start_time": "2022-06-15T17:02:05.815Z"
   },
   {
    "duration": 17,
    "start_time": "2022-06-15T17:02:05.840Z"
   },
   {
    "duration": 73,
    "start_time": "2022-06-15T17:02:05.858Z"
   },
   {
    "duration": 11,
    "start_time": "2022-06-15T17:02:05.933Z"
   },
   {
    "duration": 18,
    "start_time": "2022-06-15T17:02:05.946Z"
   },
   {
    "duration": 453,
    "start_time": "2022-06-15T17:02:05.966Z"
   },
   {
    "duration": 94,
    "start_time": "2022-06-15T17:02:06.421Z"
   },
   {
    "duration": 139,
    "start_time": "2022-06-15T17:02:06.519Z"
   },
   {
    "duration": 12,
    "start_time": "2022-06-15T17:02:06.660Z"
   },
   {
    "duration": 133,
    "start_time": "2022-06-15T17:02:06.673Z"
   },
   {
    "duration": 44,
    "start_time": "2022-06-15T17:02:06.808Z"
   },
   {
    "duration": 11,
    "start_time": "2022-06-15T17:02:06.853Z"
   },
   {
    "duration": 50,
    "start_time": "2022-06-15T17:02:06.866Z"
   },
   {
    "duration": 9,
    "start_time": "2022-06-15T17:02:06.918Z"
   },
   {
    "duration": 98,
    "start_time": "2022-06-15T17:02:06.929Z"
   },
   {
    "duration": 17,
    "start_time": "2022-06-15T17:02:07.028Z"
   },
   {
    "duration": 120,
    "start_time": "2022-06-15T17:02:07.047Z"
   },
   {
    "duration": 56,
    "start_time": "2022-06-15T17:02:07.169Z"
   },
   {
    "duration": 11,
    "start_time": "2022-06-15T17:02:07.227Z"
   },
   {
    "duration": 25,
    "start_time": "2022-06-15T17:02:07.240Z"
   },
   {
    "duration": 9,
    "start_time": "2022-06-15T17:02:07.267Z"
   },
   {
    "duration": 25,
    "start_time": "2022-06-15T17:02:07.278Z"
   },
   {
    "duration": 129,
    "start_time": "2022-06-15T17:02:07.305Z"
   },
   {
    "duration": 247,
    "start_time": "2022-06-15T17:02:07.436Z"
   },
   {
    "duration": 18,
    "start_time": "2022-06-15T17:02:07.684Z"
   },
   {
    "duration": 18,
    "start_time": "2022-06-15T17:02:07.703Z"
   },
   {
    "duration": 122,
    "start_time": "2022-06-15T17:02:07.723Z"
   },
   {
    "duration": 215,
    "start_time": "2022-06-15T17:02:07.847Z"
   },
   {
    "duration": 16,
    "start_time": "2022-06-15T17:02:08.063Z"
   },
   {
    "duration": 23,
    "start_time": "2022-06-15T17:02:08.081Z"
   },
   {
    "duration": 119,
    "start_time": "2022-06-15T17:02:08.106Z"
   },
   {
    "duration": 250,
    "start_time": "2022-06-15T17:02:08.227Z"
   },
   {
    "duration": 20,
    "start_time": "2022-06-15T17:02:08.478Z"
   },
   {
    "duration": 18,
    "start_time": "2022-06-15T17:02:08.499Z"
   },
   {
    "duration": 23,
    "start_time": "2022-06-15T17:02:08.519Z"
   },
   {
    "duration": 15,
    "start_time": "2022-06-15T17:02:08.544Z"
   },
   {
    "duration": 40,
    "start_time": "2022-06-15T17:02:08.561Z"
   },
   {
    "duration": 5,
    "start_time": "2022-06-15T17:02:08.603Z"
   },
   {
    "duration": 48,
    "start_time": "2022-06-15T17:02:08.610Z"
   },
   {
    "duration": 6,
    "start_time": "2022-06-15T17:02:08.660Z"
   },
   {
    "duration": 35,
    "start_time": "2022-06-15T17:02:08.667Z"
   },
   {
    "duration": 60,
    "start_time": "2022-06-15T17:02:08.704Z"
   },
   {
    "duration": 5,
    "start_time": "2022-06-15T17:02:08.766Z"
   },
   {
    "duration": 23,
    "start_time": "2022-06-15T17:02:08.773Z"
   },
   {
    "duration": 15,
    "start_time": "2022-06-15T17:02:08.798Z"
   },
   {
    "duration": 5,
    "start_time": "2022-06-15T17:02:08.815Z"
   },
   {
    "duration": 54,
    "start_time": "2022-06-15T17:02:08.822Z"
   },
   {
    "duration": 51,
    "start_time": "2022-06-15T17:02:08.877Z"
   },
   {
    "duration": 45,
    "start_time": "2022-06-15T17:02:08.930Z"
   },
   {
    "duration": 47,
    "start_time": "2022-06-15T17:02:08.995Z"
   },
   {
    "duration": 58,
    "start_time": "2022-06-15T17:02:09.044Z"
   },
   {
    "duration": 34,
    "start_time": "2022-06-15T17:02:09.105Z"
   },
   {
    "duration": 10,
    "start_time": "2022-06-15T17:02:09.142Z"
   },
   {
    "duration": 111,
    "start_time": "2022-06-15T17:02:09.155Z"
   },
   {
    "duration": 3,
    "start_time": "2022-06-15T17:02:09.268Z"
   },
   {
    "duration": 17,
    "start_time": "2022-06-15T17:02:09.273Z"
   },
   {
    "duration": 358,
    "start_time": "2022-06-15T17:02:09.292Z"
   },
   {
    "duration": 112,
    "start_time": "2022-06-15T17:02:09.652Z"
   },
   {
    "duration": 3,
    "start_time": "2022-06-15T17:02:09.766Z"
   },
   {
    "duration": 24,
    "start_time": "2022-06-15T17:02:09.771Z"
   },
   {
    "duration": 3,
    "start_time": "2022-06-15T17:03:16.612Z"
   },
   {
    "duration": 3,
    "start_time": "2022-06-15T17:03:26.668Z"
   },
   {
    "duration": 3,
    "start_time": "2022-06-15T17:03:48.964Z"
   },
   {
    "duration": 3796,
    "start_time": "2022-06-15T17:04:08.116Z"
   },
   {
    "duration": 100,
    "start_time": "2022-06-15T17:04:32.545Z"
   },
   {
    "duration": 11,
    "start_time": "2022-06-15T17:04:59.646Z"
   },
   {
    "duration": 3,
    "start_time": "2022-06-15T17:05:58.042Z"
   },
   {
    "duration": 5,
    "start_time": "2022-06-15T17:10:05.786Z"
   },
   {
    "duration": 3,
    "start_time": "2022-06-15T17:11:01.049Z"
   },
   {
    "duration": 3,
    "start_time": "2022-06-15T17:14:50.957Z"
   },
   {
    "duration": 6984,
    "start_time": "2022-06-15T17:15:20.624Z"
   },
   {
    "duration": 108,
    "start_time": "2022-06-15T17:15:48.656Z"
   },
   {
    "duration": 11,
    "start_time": "2022-06-15T17:16:09.839Z"
   },
   {
    "duration": 3,
    "start_time": "2022-06-15T17:18:44.309Z"
   },
   {
    "duration": 3,
    "start_time": "2022-06-15T17:18:58.645Z"
   },
   {
    "duration": 3,
    "start_time": "2022-06-15T17:19:14.030Z"
   },
   {
    "duration": 3,
    "start_time": "2022-06-15T17:19:58.716Z"
   },
   {
    "duration": 3,
    "start_time": "2022-06-15T17:19:59.190Z"
   },
   {
    "duration": 506,
    "start_time": "2022-06-15T17:20:11.477Z"
   },
   {
    "duration": 3,
    "start_time": "2022-06-15T17:20:25.229Z"
   },
   {
    "duration": 4,
    "start_time": "2022-06-15T17:20:26.005Z"
   },
   {
    "duration": 92548,
    "start_time": "2022-06-15T17:20:26.573Z"
   },
   {
    "duration": 94,
    "start_time": "2022-06-15T17:22:50.517Z"
   },
   {
    "duration": 10,
    "start_time": "2022-06-15T17:23:13.163Z"
   },
   {
    "duration": 3,
    "start_time": "2022-06-15T17:27:29.487Z"
   },
   {
    "duration": 3,
    "start_time": "2022-06-15T17:27:30.458Z"
   },
   {
    "duration": 1303,
    "start_time": "2022-06-15T17:30:39.059Z"
   },
   {
    "duration": 2,
    "start_time": "2022-06-15T17:30:40.364Z"
   },
   {
    "duration": 10,
    "start_time": "2022-06-15T17:30:40.368Z"
   },
   {
    "duration": 908,
    "start_time": "2022-06-15T17:30:40.380Z"
   },
   {
    "duration": 27,
    "start_time": "2022-06-15T17:30:41.290Z"
   },
   {
    "duration": 8,
    "start_time": "2022-06-15T17:30:41.318Z"
   },
   {
    "duration": 140,
    "start_time": "2022-06-15T17:30:41.328Z"
   },
   {
    "duration": 158,
    "start_time": "2022-06-15T17:30:41.470Z"
   },
   {
    "duration": 134,
    "start_time": "2022-06-15T17:30:41.630Z"
   },
   {
    "duration": 247,
    "start_time": "2022-06-15T17:30:41.766Z"
   },
   {
    "duration": 184,
    "start_time": "2022-06-15T17:30:42.015Z"
   },
   {
    "duration": 28,
    "start_time": "2022-06-15T17:30:42.201Z"
   },
   {
    "duration": 441,
    "start_time": "2022-06-15T17:30:42.230Z"
   },
   {
    "duration": 21,
    "start_time": "2022-06-15T17:30:42.673Z"
   },
   {
    "duration": 32,
    "start_time": "2022-06-15T17:30:42.705Z"
   },
   {
    "duration": 388,
    "start_time": "2022-06-15T17:30:42.739Z"
   },
   {
    "duration": 15,
    "start_time": "2022-06-15T17:30:43.129Z"
   },
   {
    "duration": 60,
    "start_time": "2022-06-15T17:30:43.147Z"
   },
   {
    "duration": 9,
    "start_time": "2022-06-15T17:30:43.209Z"
   },
   {
    "duration": 10,
    "start_time": "2022-06-15T17:30:43.221Z"
   },
   {
    "duration": 6,
    "start_time": "2022-06-15T17:30:43.233Z"
   },
   {
    "duration": 78,
    "start_time": "2022-06-15T17:30:43.240Z"
   },
   {
    "duration": 12,
    "start_time": "2022-06-15T17:30:43.320Z"
   },
   {
    "duration": 14,
    "start_time": "2022-06-15T17:30:43.334Z"
   },
   {
    "duration": 452,
    "start_time": "2022-06-15T17:30:43.350Z"
   },
   {
    "duration": 106,
    "start_time": "2022-06-15T17:30:43.803Z"
   },
   {
    "duration": 57,
    "start_time": "2022-06-15T17:30:43.911Z"
   },
   {
    "duration": 101,
    "start_time": "2022-06-15T17:30:43.973Z"
   },
   {
    "duration": 152,
    "start_time": "2022-06-15T17:30:44.075Z"
   },
   {
    "duration": 43,
    "start_time": "2022-06-15T17:30:44.229Z"
   },
   {
    "duration": 25,
    "start_time": "2022-06-15T17:30:44.274Z"
   },
   {
    "duration": 44,
    "start_time": "2022-06-15T17:30:44.300Z"
   },
   {
    "duration": 8,
    "start_time": "2022-06-15T17:30:44.346Z"
   },
   {
    "duration": 96,
    "start_time": "2022-06-15T17:30:44.356Z"
   },
   {
    "duration": 17,
    "start_time": "2022-06-15T17:30:44.453Z"
   },
   {
    "duration": 119,
    "start_time": "2022-06-15T17:30:44.472Z"
   },
   {
    "duration": 49,
    "start_time": "2022-06-15T17:30:44.593Z"
   },
   {
    "duration": 9,
    "start_time": "2022-06-15T17:30:44.644Z"
   },
   {
    "duration": 24,
    "start_time": "2022-06-15T17:30:44.655Z"
   },
   {
    "duration": 28,
    "start_time": "2022-06-15T17:30:44.681Z"
   },
   {
    "duration": 18,
    "start_time": "2022-06-15T17:30:44.711Z"
   },
   {
    "duration": 130,
    "start_time": "2022-06-15T17:30:44.731Z"
   },
   {
    "duration": 261,
    "start_time": "2022-06-15T17:30:44.863Z"
   },
   {
    "duration": 16,
    "start_time": "2022-06-15T17:30:45.125Z"
   },
   {
    "duration": 17,
    "start_time": "2022-06-15T17:30:45.142Z"
   },
   {
    "duration": 141,
    "start_time": "2022-06-15T17:30:45.161Z"
   },
   {
    "duration": 236,
    "start_time": "2022-06-15T17:30:45.304Z"
   },
   {
    "duration": 18,
    "start_time": "2022-06-15T17:30:45.542Z"
   },
   {
    "duration": 35,
    "start_time": "2022-06-15T17:30:45.563Z"
   },
   {
    "duration": 128,
    "start_time": "2022-06-15T17:30:45.601Z"
   },
   {
    "duration": 259,
    "start_time": "2022-06-15T17:30:45.731Z"
   },
   {
    "duration": 17,
    "start_time": "2022-06-15T17:30:45.993Z"
   },
   {
    "duration": 22,
    "start_time": "2022-06-15T17:30:46.012Z"
   },
   {
    "duration": 24,
    "start_time": "2022-06-15T17:30:46.036Z"
   },
   {
    "duration": 46,
    "start_time": "2022-06-15T17:30:46.062Z"
   },
   {
    "duration": 13,
    "start_time": "2022-06-15T17:30:46.110Z"
   },
   {
    "duration": 5,
    "start_time": "2022-06-15T17:30:46.125Z"
   },
   {
    "duration": 47,
    "start_time": "2022-06-15T17:30:46.131Z"
   },
   {
    "duration": 26,
    "start_time": "2022-06-15T17:30:46.180Z"
   },
   {
    "duration": 15,
    "start_time": "2022-06-15T17:30:46.209Z"
   },
   {
    "duration": 37,
    "start_time": "2022-06-15T17:30:46.226Z"
   },
   {
    "duration": 5,
    "start_time": "2022-06-15T17:30:46.265Z"
   },
   {
    "duration": 7,
    "start_time": "2022-06-15T17:30:46.271Z"
   },
   {
    "duration": 12,
    "start_time": "2022-06-15T17:30:46.305Z"
   },
   {
    "duration": 5,
    "start_time": "2022-06-15T17:30:46.319Z"
   },
   {
    "duration": 51,
    "start_time": "2022-06-15T17:30:46.325Z"
   },
   {
    "duration": 48,
    "start_time": "2022-06-15T17:30:46.378Z"
   },
   {
    "duration": 32,
    "start_time": "2022-06-15T17:30:46.427Z"
   },
   {
    "duration": 60,
    "start_time": "2022-06-15T17:30:46.461Z"
   },
   {
    "duration": 32,
    "start_time": "2022-06-15T17:30:46.523Z"
   },
   {
    "duration": 4,
    "start_time": "2022-06-15T17:30:46.557Z"
   },
   {
    "duration": 8,
    "start_time": "2022-06-15T17:30:46.563Z"
   },
   {
    "duration": 98,
    "start_time": "2022-06-15T17:30:46.573Z"
   },
   {
    "duration": 3,
    "start_time": "2022-06-15T17:30:46.672Z"
   },
   {
    "duration": 9,
    "start_time": "2022-06-15T17:30:46.676Z"
   },
   {
    "duration": 384,
    "start_time": "2022-06-15T17:30:46.686Z"
   },
   {
    "duration": 130,
    "start_time": "2022-06-15T17:30:47.071Z"
   },
   {
    "duration": 3,
    "start_time": "2022-06-15T17:30:47.211Z"
   },
   {
    "duration": 13,
    "start_time": "2022-06-15T17:30:47.216Z"
   },
   {
    "duration": 3,
    "start_time": "2022-06-15T17:30:47.230Z"
   },
   {
    "duration": 11,
    "start_time": "2022-06-15T17:30:47.234Z"
   },
   {
    "duration": 3153,
    "start_time": "2022-06-15T17:30:47.250Z"
   },
   {
    "duration": 116,
    "start_time": "2022-06-15T17:30:50.405Z"
   },
   {
    "duration": 10,
    "start_time": "2022-06-15T17:30:50.522Z"
   },
   {
    "duration": 12,
    "start_time": "2022-06-15T17:30:50.534Z"
   },
   {
    "duration": 13,
    "start_time": "2022-06-15T17:30:50.548Z"
   },
   {
    "duration": 6544,
    "start_time": "2022-06-15T17:30:50.562Z"
   },
   {
    "duration": 117,
    "start_time": "2022-06-15T17:30:57.108Z"
   },
   {
    "duration": 10,
    "start_time": "2022-06-15T17:30:57.227Z"
   },
   {
    "duration": 3,
    "start_time": "2022-06-15T17:30:57.238Z"
   },
   {
    "duration": 8,
    "start_time": "2022-06-15T17:30:57.242Z"
   },
   {
    "duration": 265446,
    "start_time": "2022-06-15T17:30:57.251Z"
   },
   {
    "duration": 135,
    "start_time": "2022-06-15T17:35:22.701Z"
   },
   {
    "duration": 10,
    "start_time": "2022-06-15T17:35:22.838Z"
   },
   {
    "duration": 3,
    "start_time": "2022-06-15T17:36:06.907Z"
   },
   {
    "duration": 3,
    "start_time": "2022-06-15T17:36:08.769Z"
   },
   {
    "duration": 52834,
    "start_time": "2022-06-15T17:36:10.082Z"
   },
   {
    "duration": 117,
    "start_time": "2022-06-15T17:37:02.995Z"
   },
   {
    "duration": 8,
    "start_time": "2022-06-15T17:37:03.114Z"
   },
   {
    "duration": 3,
    "start_time": "2022-06-15T17:38:05.761Z"
   },
   {
    "duration": 2,
    "start_time": "2022-06-15T17:38:06.113Z"
   },
   {
    "duration": 9275,
    "start_time": "2022-06-15T17:38:06.529Z"
   },
   {
    "duration": 110,
    "start_time": "2022-06-15T17:38:15.806Z"
   },
   {
    "duration": 9,
    "start_time": "2022-06-15T17:38:15.917Z"
   },
   {
    "duration": 4,
    "start_time": "2022-06-15T17:38:28.305Z"
   },
   {
    "duration": 3,
    "start_time": "2022-06-15T17:38:28.560Z"
   },
   {
    "duration": 10302,
    "start_time": "2022-06-15T17:38:28.792Z"
   },
   {
    "duration": 138,
    "start_time": "2022-06-15T17:38:39.105Z"
   },
   {
    "duration": 11,
    "start_time": "2022-06-15T17:38:39.246Z"
   },
   {
    "duration": 3,
    "start_time": "2022-06-15T17:38:59.728Z"
   },
   {
    "duration": 4,
    "start_time": "2022-06-15T17:38:59.937Z"
   },
   {
    "duration": 16153,
    "start_time": "2022-06-15T17:39:00.160Z"
   },
   {
    "duration": 193,
    "start_time": "2022-06-15T17:39:16.316Z"
   },
   {
    "duration": 9,
    "start_time": "2022-06-15T17:39:16.511Z"
   },
   {
    "duration": 111,
    "start_time": "2022-06-15T17:42:08.886Z"
   },
   {
    "duration": 2,
    "start_time": "2022-06-15T17:42:14.849Z"
   },
   {
    "duration": 3,
    "start_time": "2022-06-15T17:42:15.113Z"
   },
   {
    "duration": 485,
    "start_time": "2022-06-15T17:42:25.984Z"
   },
   {
    "duration": 112,
    "start_time": "2022-06-15T17:42:45.160Z"
   },
   {
    "duration": 11,
    "start_time": "2022-06-15T17:43:09.640Z"
   },
   {
    "duration": 2,
    "start_time": "2022-06-15T17:47:52.959Z"
   },
   {
    "duration": 3,
    "start_time": "2022-06-15T17:48:14.253Z"
   },
   {
    "duration": 1234,
    "start_time": "2022-06-15T17:48:26.208Z"
   },
   {
    "duration": 1256,
    "start_time": "2022-06-15T17:49:23.906Z"
   },
   {
    "duration": 3,
    "start_time": "2022-06-15T17:49:39.126Z"
   },
   {
    "duration": 2,
    "start_time": "2022-06-15T17:49:39.558Z"
   },
   {
    "duration": 1202,
    "start_time": "2022-06-15T17:49:39.846Z"
   },
   {
    "duration": 128,
    "start_time": "2022-06-15T17:50:01.108Z"
   },
   {
    "duration": 11,
    "start_time": "2022-06-15T17:50:24.262Z"
   },
   {
    "duration": 4,
    "start_time": "2022-06-15T17:52:19.510Z"
   },
   {
    "duration": 2,
    "start_time": "2022-06-15T17:54:13.477Z"
   },
   {
    "duration": 3,
    "start_time": "2022-06-15T17:54:33.067Z"
   },
   {
    "duration": 58766,
    "start_time": "2022-06-15T17:55:09.436Z"
   },
   {
    "duration": 3,
    "start_time": "2022-06-15T17:56:32.436Z"
   },
   {
    "duration": 4,
    "start_time": "2022-06-15T17:56:32.866Z"
   },
   {
    "duration": 59274,
    "start_time": "2022-06-15T17:56:33.100Z"
   },
   {
    "duration": 169,
    "start_time": "2022-06-15T17:57:32.376Z"
   },
   {
    "duration": 9,
    "start_time": "2022-06-15T17:57:32.547Z"
   },
   {
    "duration": 1410,
    "start_time": "2022-06-16T19:14:48.230Z"
   },
   {
    "duration": 2,
    "start_time": "2022-06-16T19:14:49.642Z"
   },
   {
    "duration": 11,
    "start_time": "2022-06-16T19:14:49.645Z"
   },
   {
    "duration": 1069,
    "start_time": "2022-06-16T19:14:49.658Z"
   },
   {
    "duration": 16,
    "start_time": "2022-06-16T19:14:50.728Z"
   },
   {
    "duration": 8,
    "start_time": "2022-06-16T19:14:50.746Z"
   },
   {
    "duration": 177,
    "start_time": "2022-06-16T19:14:50.755Z"
   },
   {
    "duration": 143,
    "start_time": "2022-06-16T19:14:50.934Z"
   },
   {
    "duration": 124,
    "start_time": "2022-06-16T19:14:51.079Z"
   },
   {
    "duration": 240,
    "start_time": "2022-06-16T19:14:51.206Z"
   },
   {
    "duration": 179,
    "start_time": "2022-06-16T19:14:51.448Z"
   },
   {
    "duration": 24,
    "start_time": "2022-06-16T19:14:51.629Z"
   },
   {
    "duration": 415,
    "start_time": "2022-06-16T19:14:51.655Z"
   },
   {
    "duration": 15,
    "start_time": "2022-06-16T19:14:52.071Z"
   },
   {
    "duration": 44,
    "start_time": "2022-06-16T19:14:52.088Z"
   },
   {
    "duration": 369,
    "start_time": "2022-06-16T19:14:52.134Z"
   },
   {
    "duration": 22,
    "start_time": "2022-06-16T19:14:52.506Z"
   },
   {
    "duration": 60,
    "start_time": "2022-06-16T19:14:52.532Z"
   },
   {
    "duration": 9,
    "start_time": "2022-06-16T19:14:52.594Z"
   },
   {
    "duration": 22,
    "start_time": "2022-06-16T19:14:52.605Z"
   },
   {
    "duration": 14,
    "start_time": "2022-06-16T19:14:52.630Z"
   },
   {
    "duration": 74,
    "start_time": "2022-06-16T19:14:52.646Z"
   },
   {
    "duration": 13,
    "start_time": "2022-06-16T19:14:52.722Z"
   },
   {
    "duration": 19,
    "start_time": "2022-06-16T19:14:52.737Z"
   },
   {
    "duration": 533,
    "start_time": "2022-06-16T19:14:52.759Z"
   },
   {
    "duration": 88,
    "start_time": "2022-06-16T19:14:53.294Z"
   },
   {
    "duration": 65,
    "start_time": "2022-06-16T19:14:53.384Z"
   },
   {
    "duration": 89,
    "start_time": "2022-06-16T19:14:53.453Z"
   },
   {
    "duration": 134,
    "start_time": "2022-06-16T19:14:53.544Z"
   },
   {
    "duration": 50,
    "start_time": "2022-06-16T19:14:53.680Z"
   },
   {
    "duration": 10,
    "start_time": "2022-06-16T19:14:53.732Z"
   },
   {
    "duration": 34,
    "start_time": "2022-06-16T19:14:53.744Z"
   },
   {
    "duration": 9,
    "start_time": "2022-06-16T19:14:53.780Z"
   },
   {
    "duration": 107,
    "start_time": "2022-06-16T19:14:53.790Z"
   },
   {
    "duration": 26,
    "start_time": "2022-06-16T19:14:53.899Z"
   },
   {
    "duration": 122,
    "start_time": "2022-06-16T19:14:53.927Z"
   },
   {
    "duration": 47,
    "start_time": "2022-06-16T19:14:54.051Z"
   },
   {
    "duration": 10,
    "start_time": "2022-06-16T19:14:54.100Z"
   },
   {
    "duration": 16,
    "start_time": "2022-06-16T19:14:54.125Z"
   },
   {
    "duration": 26,
    "start_time": "2022-06-16T19:14:54.143Z"
   },
   {
    "duration": 27,
    "start_time": "2022-06-16T19:14:54.170Z"
   },
   {
    "duration": 142,
    "start_time": "2022-06-16T19:14:54.199Z"
   },
   {
    "duration": 259,
    "start_time": "2022-06-16T19:14:54.342Z"
   },
   {
    "duration": 25,
    "start_time": "2022-06-16T19:14:54.603Z"
   },
   {
    "duration": 24,
    "start_time": "2022-06-16T19:14:54.630Z"
   },
   {
    "duration": 129,
    "start_time": "2022-06-16T19:14:54.656Z"
   },
   {
    "duration": 252,
    "start_time": "2022-06-16T19:14:54.787Z"
   },
   {
    "duration": 18,
    "start_time": "2022-06-16T19:14:55.041Z"
   },
   {
    "duration": 31,
    "start_time": "2022-06-16T19:14:55.061Z"
   },
   {
    "duration": 126,
    "start_time": "2022-06-16T19:14:55.094Z"
   },
   {
    "duration": 243,
    "start_time": "2022-06-16T19:14:55.222Z"
   },
   {
    "duration": 15,
    "start_time": "2022-06-16T19:14:55.467Z"
   },
   {
    "duration": 22,
    "start_time": "2022-06-16T19:14:55.483Z"
   },
   {
    "duration": 45,
    "start_time": "2022-06-16T19:14:55.507Z"
   },
   {
    "duration": 15,
    "start_time": "2022-06-16T19:14:55.554Z"
   },
   {
    "duration": 17,
    "start_time": "2022-06-16T19:14:55.571Z"
   },
   {
    "duration": 5,
    "start_time": "2022-06-16T19:14:55.589Z"
   },
   {
    "duration": 83,
    "start_time": "2022-06-16T19:14:55.596Z"
   },
   {
    "duration": 5,
    "start_time": "2022-06-16T19:14:55.681Z"
   },
   {
    "duration": 14,
    "start_time": "2022-06-16T19:14:55.688Z"
   },
   {
    "duration": 54,
    "start_time": "2022-06-16T19:14:55.703Z"
   },
   {
    "duration": 6,
    "start_time": "2022-06-16T19:14:55.760Z"
   },
   {
    "duration": 8,
    "start_time": "2022-06-16T19:14:55.768Z"
   },
   {
    "duration": 11,
    "start_time": "2022-06-16T19:14:55.778Z"
   },
   {
    "duration": 20,
    "start_time": "2022-06-16T19:14:55.791Z"
   },
   {
    "duration": 77,
    "start_time": "2022-06-16T19:14:55.823Z"
   },
   {
    "duration": 42,
    "start_time": "2022-06-16T19:14:55.902Z"
   },
   {
    "duration": 38,
    "start_time": "2022-06-16T19:14:55.946Z"
   },
   {
    "duration": 49,
    "start_time": "2022-06-16T19:14:55.986Z"
   },
   {
    "duration": 32,
    "start_time": "2022-06-16T19:14:56.036Z"
   },
   {
    "duration": 4,
    "start_time": "2022-06-16T19:14:56.069Z"
   },
   {
    "duration": 9,
    "start_time": "2022-06-16T19:14:56.074Z"
   },
   {
    "duration": 99,
    "start_time": "2022-06-16T19:14:56.084Z"
   },
   {
    "duration": 3,
    "start_time": "2022-06-16T19:14:56.185Z"
   },
   {
    "duration": 7,
    "start_time": "2022-06-16T19:14:56.190Z"
   },
   {
    "duration": 355,
    "start_time": "2022-06-16T19:14:56.199Z"
   },
   {
    "duration": 120,
    "start_time": "2022-06-16T19:14:56.555Z"
   },
   {
    "duration": 3,
    "start_time": "2022-06-16T19:14:56.676Z"
   },
   {
    "duration": 16,
    "start_time": "2022-06-16T19:14:56.680Z"
   },
   {
    "duration": 2,
    "start_time": "2022-06-16T19:14:56.697Z"
   },
   {
    "duration": 8,
    "start_time": "2022-06-16T19:14:56.701Z"
   },
   {
    "duration": 2813,
    "start_time": "2022-06-16T19:14:56.728Z"
   },
   {
    "duration": 113,
    "start_time": "2022-06-16T19:14:59.543Z"
   },
   {
    "duration": 10,
    "start_time": "2022-06-16T19:14:59.657Z"
   },
   {
    "duration": 3,
    "start_time": "2022-06-16T19:14:59.668Z"
   },
   {
    "duration": 5,
    "start_time": "2022-06-16T19:14:59.672Z"
   },
   {
    "duration": 6353,
    "start_time": "2022-06-16T19:14:59.678Z"
   },
   {
    "duration": 115,
    "start_time": "2022-06-16T19:15:06.033Z"
   },
   {
    "duration": 10,
    "start_time": "2022-06-16T19:15:06.150Z"
   },
   {
    "duration": 4,
    "start_time": "2022-06-16T19:15:06.161Z"
   },
   {
    "duration": 5,
    "start_time": "2022-06-16T19:15:06.167Z"
   },
   {
    "duration": 15964,
    "start_time": "2022-06-16T19:15:06.174Z"
   },
   {
    "duration": 141,
    "start_time": "2022-06-16T19:15:22.140Z"
   },
   {
    "duration": 10,
    "start_time": "2022-06-16T19:15:22.283Z"
   },
   {
    "duration": 15,
    "start_time": "2022-06-16T19:15:22.295Z"
   },
   {
    "duration": 25,
    "start_time": "2022-06-16T19:15:22.311Z"
   },
   {
    "duration": 500,
    "start_time": "2022-06-16T19:15:22.338Z"
   },
   {
    "duration": 114,
    "start_time": "2022-06-16T19:15:22.840Z"
   },
   {
    "duration": 11,
    "start_time": "2022-06-16T19:15:22.956Z"
   },
   {
    "duration": 15,
    "start_time": "2022-06-16T19:15:22.968Z"
   },
   {
    "duration": 30,
    "start_time": "2022-06-16T19:15:22.984Z"
   },
   {
    "duration": 1176,
    "start_time": "2022-06-16T19:15:23.016Z"
   },
   {
    "duration": 112,
    "start_time": "2022-06-16T19:15:24.194Z"
   },
   {
    "duration": 8,
    "start_time": "2022-06-16T19:15:24.308Z"
   },
   {
    "duration": 9,
    "start_time": "2022-06-16T19:15:24.323Z"
   },
   {
    "duration": 20,
    "start_time": "2022-06-16T19:15:24.334Z"
   },
   {
    "duration": 58046,
    "start_time": "2022-06-16T19:15:24.355Z"
   },
   {
    "duration": 183,
    "start_time": "2022-06-16T19:16:22.403Z"
   },
   {
    "duration": 13,
    "start_time": "2022-06-16T19:16:22.589Z"
   },
   {
    "duration": 21,
    "start_time": "2022-06-16T19:16:22.605Z"
   },
   {
    "duration": 3,
    "start_time": "2022-06-16T19:20:52.000Z"
   },
   {
    "duration": 5,
    "start_time": "2022-06-16T19:23:31.325Z"
   },
   {
    "duration": 106,
    "start_time": "2022-06-16T19:24:31.060Z"
   },
   {
    "duration": 15,
    "start_time": "2022-06-16T19:24:42.572Z"
   },
   {
    "duration": 3,
    "start_time": "2022-06-16T19:24:50.192Z"
   },
   {
    "duration": 4,
    "start_time": "2022-06-16T19:27:39.004Z"
   },
   {
    "duration": 3,
    "start_time": "2022-06-16T19:28:00.131Z"
   },
   {
    "duration": 28,
    "start_time": "2022-06-16T19:29:53.296Z"
   },
   {
    "duration": 10,
    "start_time": "2022-06-16T19:31:53.914Z"
   },
   {
    "duration": 9,
    "start_time": "2022-06-16T19:32:14.369Z"
   },
   {
    "duration": 15,
    "start_time": "2022-06-16T19:32:19.769Z"
   },
   {
    "duration": 5,
    "start_time": "2022-06-16T19:36:10.306Z"
   },
   {
    "duration": 4,
    "start_time": "2022-06-16T19:38:14.759Z"
   },
   {
    "duration": 10,
    "start_time": "2022-06-16T19:38:33.063Z"
   },
   {
    "duration": 4,
    "start_time": "2022-06-16T19:40:18.124Z"
   },
   {
    "duration": 2,
    "start_time": "2022-06-16T19:40:18.510Z"
   },
   {
    "duration": 4,
    "start_time": "2022-06-16T19:40:19.055Z"
   },
   {
    "duration": 411,
    "start_time": "2022-06-16T19:40:19.689Z"
   },
   {
    "duration": 3,
    "start_time": "2022-06-16T19:41:34.126Z"
   },
   {
    "duration": 3,
    "start_time": "2022-06-16T19:41:34.525Z"
   },
   {
    "duration": 3,
    "start_time": "2022-06-16T19:41:34.828Z"
   },
   {
    "duration": 334,
    "start_time": "2022-06-16T19:41:35.326Z"
   },
   {
    "duration": 3,
    "start_time": "2022-06-16T19:49:04.325Z"
   },
   {
    "duration": 3,
    "start_time": "2022-06-16T19:49:04.810Z"
   },
   {
    "duration": 23,
    "start_time": "2022-06-16T19:49:05.657Z"
   },
   {
    "duration": 21,
    "start_time": "2022-06-16T19:51:01.904Z"
   },
   {
    "duration": 3,
    "start_time": "2022-06-16T19:51:05.128Z"
   },
   {
    "duration": 3,
    "start_time": "2022-06-16T19:51:06.352Z"
   },
   {
    "duration": 19,
    "start_time": "2022-06-16T19:51:06.905Z"
   },
   {
    "duration": 350,
    "start_time": "2022-06-16T19:51:15.009Z"
   },
   {
    "duration": 19,
    "start_time": "2022-06-16T19:52:51.328Z"
   },
   {
    "duration": 4,
    "start_time": "2022-06-16T19:53:22.392Z"
   },
   {
    "duration": 4872,
    "start_time": "2022-06-16T19:53:25.591Z"
   },
   {
    "duration": 4,
    "start_time": "2022-06-16T19:54:41.508Z"
   },
   {
    "duration": 4809,
    "start_time": "2022-06-16T19:54:43.038Z"
   },
   {
    "duration": 146,
    "start_time": "2022-06-16T19:54:59.246Z"
   },
   {
    "duration": 3,
    "start_time": "2022-06-16T19:55:38.504Z"
   },
   {
    "duration": 4854,
    "start_time": "2022-06-16T19:55:39.166Z"
   },
   {
    "duration": 105,
    "start_time": "2022-06-16T19:55:46.391Z"
   },
   {
    "duration": 3,
    "start_time": "2022-06-16T19:56:04.350Z"
   },
   {
    "duration": 4966,
    "start_time": "2022-06-16T19:56:04.630Z"
   },
   {
    "duration": 115,
    "start_time": "2022-06-16T19:56:09.598Z"
   },
   {
    "duration": 4,
    "start_time": "2022-06-16T20:00:11.915Z"
   },
   {
    "duration": 3,
    "start_time": "2022-06-16T20:00:12.621Z"
   },
   {
    "duration": 3,
    "start_time": "2022-06-16T20:00:13.899Z"
   },
   {
    "duration": 13497,
    "start_time": "2022-06-16T20:00:17.387Z"
   },
   {
    "duration": 109,
    "start_time": "2022-06-16T20:00:30.885Z"
   },
   {
    "duration": 6263,
    "start_time": "2022-06-16T20:05:35.754Z"
   },
   {
    "duration": 11,
    "start_time": "2022-06-16T20:06:24.866Z"
   },
   {
    "duration": 6181,
    "start_time": "2022-06-16T20:06:25.409Z"
   },
   {
    "duration": 13131,
    "start_time": "2022-06-16T20:06:46.867Z"
   },
   {
    "duration": 168,
    "start_time": "2022-06-16T20:07:00.000Z"
   },
   {
    "duration": 3,
    "start_time": "2022-06-16T20:07:15.201Z"
   },
   {
    "duration": 3,
    "start_time": "2022-06-16T20:08:14.849Z"
   },
   {
    "duration": 14152,
    "start_time": "2022-06-16T20:08:16.609Z"
   },
   {
    "duration": 137,
    "start_time": "2022-06-16T20:08:30.764Z"
   },
   {
    "duration": 4,
    "start_time": "2022-06-16T20:14:42.323Z"
   },
   {
    "duration": 24,
    "start_time": "2022-06-16T20:14:43.646Z"
   },
   {
    "duration": 3,
    "start_time": "2022-06-16T20:14:52.894Z"
   },
   {
    "duration": 3,
    "start_time": "2022-06-16T20:14:56.173Z"
   },
   {
    "duration": 4,
    "start_time": "2022-06-16T20:14:56.887Z"
   },
   {
    "duration": 1007,
    "start_time": "2022-06-16T20:14:57.446Z"
   },
   {
    "duration": 110,
    "start_time": "2022-06-16T20:14:58.455Z"
   },
   {
    "duration": 3,
    "start_time": "2022-06-16T20:15:36.164Z"
   },
   {
    "duration": 2,
    "start_time": "2022-06-16T20:15:36.508Z"
   },
   {
    "duration": 5,
    "start_time": "2022-06-16T20:15:36.805Z"
   },
   {
    "duration": 13675,
    "start_time": "2022-06-16T20:15:37.277Z"
   },
   {
    "duration": 136,
    "start_time": "2022-06-16T20:15:50.954Z"
   },
   {
    "duration": 19,
    "start_time": "2022-06-16T20:16:29.421Z"
   },
   {
    "duration": 4,
    "start_time": "2022-06-16T20:17:36.829Z"
   },
   {
    "duration": 18,
    "start_time": "2022-06-16T20:18:08.262Z"
   },
   {
    "duration": 92,
    "start_time": "2022-06-16T20:20:39.444Z"
   },
   {
    "duration": 11,
    "start_time": "2022-06-16T20:21:18.972Z"
   },
   {
    "duration": 4,
    "start_time": "2022-06-16T20:21:34.131Z"
   },
   {
    "duration": 3,
    "start_time": "2022-06-16T20:21:34.451Z"
   },
   {
    "duration": 3,
    "start_time": "2022-06-16T20:21:34.795Z"
   },
   {
    "duration": 13217,
    "start_time": "2022-06-16T20:21:35.427Z"
   },
   {
    "duration": 105,
    "start_time": "2022-06-16T20:21:48.646Z"
   },
   {
    "duration": 9,
    "start_time": "2022-06-16T20:21:48.752Z"
   },
   {
    "duration": 4,
    "start_time": "2022-06-16T20:22:12.891Z"
   },
   {
    "duration": 2,
    "start_time": "2022-06-16T20:22:37.155Z"
   },
   {
    "duration": 4,
    "start_time": "2022-06-16T20:22:37.602Z"
   },
   {
    "duration": 13246,
    "start_time": "2022-06-16T20:22:37.970Z"
   },
   {
    "duration": 118,
    "start_time": "2022-06-16T20:22:51.217Z"
   },
   {
    "duration": 8,
    "start_time": "2022-06-16T20:22:51.337Z"
   },
   {
    "duration": 3,
    "start_time": "2022-06-16T20:23:11.899Z"
   },
   {
    "duration": 3,
    "start_time": "2022-06-16T20:23:12.171Z"
   },
   {
    "duration": 14114,
    "start_time": "2022-06-16T20:23:12.436Z"
   },
   {
    "duration": 109,
    "start_time": "2022-06-16T20:23:26.551Z"
   },
   {
    "duration": 9,
    "start_time": "2022-06-16T20:23:26.662Z"
   },
   {
    "duration": 4,
    "start_time": "2022-06-16T20:23:35.642Z"
   },
   {
    "duration": 13912,
    "start_time": "2022-06-16T20:23:35.907Z"
   },
   {
    "duration": 112,
    "start_time": "2022-06-16T20:23:49.821Z"
   },
   {
    "duration": 9,
    "start_time": "2022-06-16T20:23:49.937Z"
   },
   {
    "duration": 3,
    "start_time": "2022-06-16T20:26:51.509Z"
   },
   {
    "duration": 3,
    "start_time": "2022-06-16T20:26:51.788Z"
   },
   {
    "duration": 4,
    "start_time": "2022-06-16T20:26:52.176Z"
   },
   {
    "duration": 5015,
    "start_time": "2022-06-16T20:26:52.617Z"
   },
   {
    "duration": 100,
    "start_time": "2022-06-16T20:26:57.634Z"
   },
   {
    "duration": 8,
    "start_time": "2022-06-16T20:26:57.736Z"
   },
   {
    "duration": 3,
    "start_time": "2022-06-16T20:31:03.373Z"
   },
   {
    "duration": 3,
    "start_time": "2022-06-16T20:31:04.263Z"
   },
   {
    "duration": 4,
    "start_time": "2022-06-16T20:31:04.497Z"
   },
   {
    "duration": 14280,
    "start_time": "2022-06-16T20:31:05.471Z"
   },
   {
    "duration": 111,
    "start_time": "2022-06-16T20:31:19.752Z"
   },
   {
    "duration": 9,
    "start_time": "2022-06-16T20:31:19.864Z"
   },
   {
    "duration": 3,
    "start_time": "2022-06-16T20:32:20.629Z"
   },
   {
    "duration": 3,
    "start_time": "2022-06-16T20:32:21.118Z"
   },
   {
    "duration": 3,
    "start_time": "2022-06-16T20:32:21.375Z"
   },
   {
    "duration": 4966,
    "start_time": "2022-06-16T20:32:21.815Z"
   },
   {
    "duration": 105,
    "start_time": "2022-06-16T20:32:26.783Z"
   },
   {
    "duration": 9,
    "start_time": "2022-06-16T20:32:26.890Z"
   },
   {
    "duration": 1728,
    "start_time": "2022-06-18T10:28:24.736Z"
   },
   {
    "duration": 3,
    "start_time": "2022-06-18T10:28:26.468Z"
   },
   {
    "duration": 10,
    "start_time": "2022-06-18T10:28:26.473Z"
   },
   {
    "duration": 1236,
    "start_time": "2022-06-18T10:28:26.485Z"
   },
   {
    "duration": 18,
    "start_time": "2022-06-18T10:28:27.724Z"
   },
   {
    "duration": 5,
    "start_time": "2022-06-18T10:28:27.744Z"
   },
   {
    "duration": 181,
    "start_time": "2022-06-18T10:28:27.750Z"
   },
   {
    "duration": 135,
    "start_time": "2022-06-18T10:28:27.933Z"
   },
   {
    "duration": 161,
    "start_time": "2022-06-18T10:28:28.070Z"
   },
   {
    "duration": 330,
    "start_time": "2022-06-18T10:28:28.235Z"
   },
   {
    "duration": 167,
    "start_time": "2022-06-18T10:28:28.570Z"
   },
   {
    "duration": 32,
    "start_time": "2022-06-18T10:28:28.739Z"
   },
   {
    "duration": 471,
    "start_time": "2022-06-18T10:28:28.773Z"
   },
   {
    "duration": 27,
    "start_time": "2022-06-18T10:28:29.246Z"
   },
   {
    "duration": 44,
    "start_time": "2022-06-18T10:28:29.275Z"
   },
   {
    "duration": 370,
    "start_time": "2022-06-18T10:28:29.321Z"
   },
   {
    "duration": 18,
    "start_time": "2022-06-18T10:28:29.693Z"
   },
   {
    "duration": 59,
    "start_time": "2022-06-18T10:28:29.714Z"
   },
   {
    "duration": 11,
    "start_time": "2022-06-18T10:28:29.775Z"
   },
   {
    "duration": 13,
    "start_time": "2022-06-18T10:28:29.788Z"
   },
   {
    "duration": 15,
    "start_time": "2022-06-18T10:28:29.806Z"
   },
   {
    "duration": 85,
    "start_time": "2022-06-18T10:28:29.824Z"
   },
   {
    "duration": 26,
    "start_time": "2022-06-18T10:28:29.911Z"
   },
   {
    "duration": 22,
    "start_time": "2022-06-18T10:28:29.952Z"
   },
   {
    "duration": 485,
    "start_time": "2022-06-18T10:28:29.978Z"
   },
   {
    "duration": 101,
    "start_time": "2022-06-18T10:28:30.469Z"
   },
   {
    "duration": 64,
    "start_time": "2022-06-18T10:28:30.572Z"
   },
   {
    "duration": 95,
    "start_time": "2022-06-18T10:28:30.640Z"
   },
   {
    "duration": 164,
    "start_time": "2022-06-18T10:28:30.737Z"
   },
   {
    "duration": 41,
    "start_time": "2022-06-18T10:28:30.903Z"
   },
   {
    "duration": 24,
    "start_time": "2022-06-18T10:28:30.946Z"
   },
   {
    "duration": 45,
    "start_time": "2022-06-18T10:28:30.972Z"
   },
   {
    "duration": 9,
    "start_time": "2022-06-18T10:28:31.019Z"
   },
   {
    "duration": 129,
    "start_time": "2022-06-18T10:28:31.029Z"
   },
   {
    "duration": 17,
    "start_time": "2022-06-18T10:28:31.167Z"
   },
   {
    "duration": 113,
    "start_time": "2022-06-18T10:28:31.186Z"
   },
   {
    "duration": 53,
    "start_time": "2022-06-18T10:28:31.301Z"
   },
   {
    "duration": 25,
    "start_time": "2022-06-18T10:28:31.357Z"
   },
   {
    "duration": 42,
    "start_time": "2022-06-18T10:28:31.383Z"
   },
   {
    "duration": 15,
    "start_time": "2022-06-18T10:28:31.427Z"
   },
   {
    "duration": 29,
    "start_time": "2022-06-18T10:28:31.444Z"
   },
   {
    "duration": 139,
    "start_time": "2022-06-18T10:28:31.475Z"
   },
   {
    "duration": 262,
    "start_time": "2022-06-18T10:28:31.616Z"
   },
   {
    "duration": 16,
    "start_time": "2022-06-18T10:28:31.880Z"
   },
   {
    "duration": 20,
    "start_time": "2022-06-18T10:28:31.898Z"
   },
   {
    "duration": 151,
    "start_time": "2022-06-18T10:28:31.920Z"
   },
   {
    "duration": 213,
    "start_time": "2022-06-18T10:28:32.073Z"
   },
   {
    "duration": 26,
    "start_time": "2022-06-18T10:28:32.288Z"
   },
   {
    "duration": 97,
    "start_time": "2022-06-18T10:28:32.318Z"
   },
   {
    "duration": 192,
    "start_time": "2022-06-18T10:28:32.416Z"
   },
   {
    "duration": 242,
    "start_time": "2022-06-18T10:28:32.611Z"
   },
   {
    "duration": 14,
    "start_time": "2022-06-18T10:28:32.866Z"
   },
   {
    "duration": 17,
    "start_time": "2022-06-18T10:28:32.882Z"
   },
   {
    "duration": 22,
    "start_time": "2022-06-18T10:28:32.901Z"
   },
   {
    "duration": 16,
    "start_time": "2022-06-18T10:28:32.925Z"
   },
   {
    "duration": 23,
    "start_time": "2022-06-18T10:28:32.943Z"
   },
   {
    "duration": 11,
    "start_time": "2022-06-18T10:28:32.968Z"
   },
   {
    "duration": 50,
    "start_time": "2022-06-18T10:28:32.981Z"
   },
   {
    "duration": 37,
    "start_time": "2022-06-18T10:28:33.032Z"
   },
   {
    "duration": 17,
    "start_time": "2022-06-18T10:28:33.072Z"
   },
   {
    "duration": 36,
    "start_time": "2022-06-18T10:28:33.090Z"
   },
   {
    "duration": 6,
    "start_time": "2022-06-18T10:28:33.128Z"
   },
   {
    "duration": 25,
    "start_time": "2022-06-18T10:28:33.137Z"
   },
   {
    "duration": 19,
    "start_time": "2022-06-18T10:28:33.164Z"
   },
   {
    "duration": 6,
    "start_time": "2022-06-18T10:28:33.185Z"
   },
   {
    "duration": 116,
    "start_time": "2022-06-18T10:28:33.194Z"
   },
   {
    "duration": 53,
    "start_time": "2022-06-18T10:28:33.312Z"
   },
   {
    "duration": 32,
    "start_time": "2022-06-18T10:28:33.368Z"
   },
   {
    "duration": 32,
    "start_time": "2022-06-18T10:28:33.402Z"
   },
   {
    "duration": 63,
    "start_time": "2022-06-18T10:28:33.436Z"
   },
   {
    "duration": 6,
    "start_time": "2022-06-18T10:28:33.502Z"
   },
   {
    "duration": 6,
    "start_time": "2022-06-18T10:28:33.511Z"
   },
   {
    "duration": 110,
    "start_time": "2022-06-18T10:28:33.519Z"
   },
   {
    "duration": 2,
    "start_time": "2022-06-18T10:28:33.631Z"
   },
   {
    "duration": 12,
    "start_time": "2022-06-18T10:28:33.636Z"
   },
   {
    "duration": 389,
    "start_time": "2022-06-18T10:28:33.652Z"
   },
   {
    "duration": 122,
    "start_time": "2022-06-18T10:28:34.042Z"
   },
   {
    "duration": 3,
    "start_time": "2022-06-18T10:28:34.170Z"
   },
   {
    "duration": 14,
    "start_time": "2022-06-18T10:28:34.174Z"
   },
   {
    "duration": 3,
    "start_time": "2022-06-18T10:28:34.190Z"
   },
   {
    "duration": 7,
    "start_time": "2022-06-18T10:28:34.195Z"
   },
   {
    "duration": 2454,
    "start_time": "2022-06-18T10:28:34.208Z"
   },
   {
    "duration": 111,
    "start_time": "2022-06-18T10:28:36.664Z"
   },
   {
    "duration": 10,
    "start_time": "2022-06-18T10:28:36.777Z"
   },
   {
    "duration": 4,
    "start_time": "2022-06-18T10:28:36.789Z"
   },
   {
    "duration": 6,
    "start_time": "2022-06-18T10:28:36.794Z"
   },
   {
    "duration": 6655,
    "start_time": "2022-06-18T10:28:36.803Z"
   },
   {
    "duration": 110,
    "start_time": "2022-06-18T10:28:43.460Z"
   },
   {
    "duration": 10,
    "start_time": "2022-06-18T10:28:43.572Z"
   },
   {
    "duration": 7,
    "start_time": "2022-06-18T10:28:43.584Z"
   },
   {
    "duration": 6,
    "start_time": "2022-06-18T10:28:43.593Z"
   },
   {
    "duration": 17360,
    "start_time": "2022-06-18T10:28:43.602Z"
   },
   {
    "duration": 103,
    "start_time": "2022-06-18T10:29:00.970Z"
   },
   {
    "duration": 10,
    "start_time": "2022-06-18T10:29:01.075Z"
   },
   {
    "duration": 9,
    "start_time": "2022-06-18T10:29:01.087Z"
   },
   {
    "duration": 13,
    "start_time": "2022-06-18T10:29:01.097Z"
   },
   {
    "duration": 461,
    "start_time": "2022-06-18T10:29:01.112Z"
   },
   {
    "duration": 113,
    "start_time": "2022-06-18T10:29:01.575Z"
   },
   {
    "duration": 12,
    "start_time": "2022-06-18T10:29:01.691Z"
   },
   {
    "duration": 3,
    "start_time": "2022-06-18T10:29:01.705Z"
   },
   {
    "duration": 26,
    "start_time": "2022-06-18T10:29:01.710Z"
   },
   {
    "duration": 1261,
    "start_time": "2022-06-18T10:29:01.738Z"
   },
   {
    "duration": 115,
    "start_time": "2022-06-18T10:29:03.001Z"
   },
   {
    "duration": 9,
    "start_time": "2022-06-18T10:29:03.117Z"
   },
   {
    "duration": 6,
    "start_time": "2022-06-18T10:29:03.128Z"
   },
   {
    "duration": 18,
    "start_time": "2022-06-18T10:29:03.136Z"
   },
   {
    "duration": 43233,
    "start_time": "2022-06-18T10:29:03.172Z"
   },
   {
    "duration": 164,
    "start_time": "2022-06-18T10:29:46.406Z"
   },
   {
    "duration": 10,
    "start_time": "2022-06-18T10:29:46.572Z"
   },
   {
    "duration": 3,
    "start_time": "2022-06-18T10:29:46.583Z"
   },
   {
    "duration": 7,
    "start_time": "2022-06-18T10:29:46.588Z"
   },
   {
    "duration": 8,
    "start_time": "2022-06-18T10:29:46.596Z"
   },
   {
    "duration": 5179,
    "start_time": "2022-06-18T10:29:46.606Z"
   },
   {
    "duration": 159,
    "start_time": "2022-06-18T10:29:51.787Z"
   },
   {
    "duration": 24,
    "start_time": "2022-06-18T10:29:51.948Z"
   },
   {
    "duration": 19,
    "start_time": "2022-06-18T10:33:18.664Z"
   },
   {
    "duration": 4,
    "start_time": "2022-06-18T10:33:28.193Z"
   },
   {
    "duration": 4,
    "start_time": "2022-06-18T10:33:32.154Z"
   },
   {
    "duration": 6,
    "start_time": "2022-06-18T10:33:44.490Z"
   },
   {
    "duration": 5,
    "start_time": "2022-06-18T10:33:52.394Z"
   },
   {
    "duration": 4,
    "start_time": "2022-06-18T10:34:16.857Z"
   },
   {
    "duration": 7,
    "start_time": "2022-06-18T10:35:04.945Z"
   },
   {
    "duration": 6,
    "start_time": "2022-06-18T10:35:11.210Z"
   },
   {
    "duration": 7,
    "start_time": "2022-06-18T10:35:24.753Z"
   },
   {
    "duration": 2379,
    "start_time": "2022-06-18T10:35:29.609Z"
   },
   {
    "duration": 4,
    "start_time": "2022-06-18T10:36:08.713Z"
   },
   {
    "duration": 6,
    "start_time": "2022-06-18T10:36:19.041Z"
   },
   {
    "duration": 5,
    "start_time": "2022-06-18T10:36:21.424Z"
   },
   {
    "duration": 5,
    "start_time": "2022-06-18T10:36:21.854Z"
   },
   {
    "duration": 5,
    "start_time": "2022-06-18T10:36:22.079Z"
   },
   {
    "duration": 5,
    "start_time": "2022-06-18T10:36:22.454Z"
   },
   {
    "duration": 4,
    "start_time": "2022-06-18T10:36:22.710Z"
   },
   {
    "duration": 5,
    "start_time": "2022-06-18T10:36:23.248Z"
   },
   {
    "duration": 6,
    "start_time": "2022-06-18T10:36:24.887Z"
   },
   {
    "duration": 7,
    "start_time": "2022-06-18T10:36:25.313Z"
   },
   {
    "duration": 6,
    "start_time": "2022-06-18T10:36:25.583Z"
   },
   {
    "duration": 7,
    "start_time": "2022-06-18T10:36:25.910Z"
   },
   {
    "duration": 6,
    "start_time": "2022-06-18T10:36:26.150Z"
   },
   {
    "duration": 6,
    "start_time": "2022-06-18T10:36:26.759Z"
   },
   {
    "duration": 329,
    "start_time": "2022-06-18T10:37:04.039Z"
   },
   {
    "duration": 338,
    "start_time": "2022-06-18T10:37:23.121Z"
   },
   {
    "duration": 340,
    "start_time": "2022-06-18T10:37:43.491Z"
   },
   {
    "duration": 376,
    "start_time": "2022-06-18T10:38:26.230Z"
   },
   {
    "duration": 100,
    "start_time": "2022-06-18T10:38:28.392Z"
   },
   {
    "duration": 14,
    "start_time": "2022-06-18T10:39:06.155Z"
   },
   {
    "duration": 4,
    "start_time": "2022-06-18T10:39:18.168Z"
   },
   {
    "duration": 4,
    "start_time": "2022-06-18T10:39:42.902Z"
   },
   {
    "duration": 3,
    "start_time": "2022-06-18T10:39:50.238Z"
   },
   {
    "duration": 5,
    "start_time": "2022-06-18T10:39:53.071Z"
   },
   {
    "duration": 5,
    "start_time": "2022-06-18T10:40:03.958Z"
   },
   {
    "duration": 342,
    "start_time": "2022-06-18T10:41:13.967Z"
   },
   {
    "duration": 3,
    "start_time": "2022-06-18T10:41:20.615Z"
   },
   {
    "duration": 5,
    "start_time": "2022-06-18T10:41:25.343Z"
   },
   {
    "duration": 384,
    "start_time": "2022-06-18T10:41:39.175Z"
   },
   {
    "duration": 101,
    "start_time": "2022-06-18T10:42:10.630Z"
   },
   {
    "duration": 379,
    "start_time": "2022-06-18T10:42:31.942Z"
   },
   {
    "duration": 340,
    "start_time": "2022-06-18T10:42:47.773Z"
   },
   {
    "duration": 95,
    "start_time": "2022-06-18T10:42:49.774Z"
   },
   {
    "duration": 3,
    "start_time": "2022-06-18T10:42:51.325Z"
   },
   {
    "duration": 16,
    "start_time": "2022-06-18T10:42:52.015Z"
   },
   {
    "duration": 10,
    "start_time": "2022-06-18T10:43:46.599Z"
   },
   {
    "duration": 11,
    "start_time": "2022-06-18T10:44:20.692Z"
   },
   {
    "duration": 11,
    "start_time": "2022-06-18T10:44:30.798Z"
   },
   {
    "duration": 11,
    "start_time": "2022-06-18T10:44:34.590Z"
   },
   {
    "duration": 12,
    "start_time": "2022-06-18T10:45:04.065Z"
   },
   {
    "duration": 22,
    "start_time": "2022-06-18T10:45:34.964Z"
   },
   {
    "duration": 15,
    "start_time": "2022-06-18T10:46:44.621Z"
   },
   {
    "duration": 17,
    "start_time": "2022-06-18T10:47:11.785Z"
   },
   {
    "duration": 15,
    "start_time": "2022-06-18T10:47:17.397Z"
   },
   {
    "duration": 12,
    "start_time": "2022-06-18T10:47:20.925Z"
   },
   {
    "duration": 16,
    "start_time": "2022-06-18T10:47:24.879Z"
   },
   {
    "duration": 21,
    "start_time": "2022-06-18T10:48:15.582Z"
   },
   {
    "duration": 8,
    "start_time": "2022-06-18T10:49:12.491Z"
   },
   {
    "duration": 117,
    "start_time": "2022-06-18T10:49:36.885Z"
   },
   {
    "duration": 6,
    "start_time": "2022-06-18T10:49:45.490Z"
   },
   {
    "duration": 6,
    "start_time": "2022-06-18T10:50:17.546Z"
   },
   {
    "duration": 9,
    "start_time": "2022-06-18T10:51:42.584Z"
   },
   {
    "duration": 3,
    "start_time": "2022-06-18T10:51:43.298Z"
   },
   {
    "duration": 4,
    "start_time": "2022-06-18T10:51:43.780Z"
   },
   {
    "duration": 57601,
    "start_time": "2022-06-18T10:51:44.665Z"
   },
   {
    "duration": 5,
    "start_time": "2022-06-18T10:52:42.272Z"
   },
   {
    "duration": 115,
    "start_time": "2022-06-18T10:52:42.278Z"
   },
   {
    "duration": 11,
    "start_time": "2022-06-18T10:52:42.396Z"
   },
   {
    "duration": 3,
    "start_time": "2022-06-18T10:54:23.489Z"
   },
   {
    "duration": 2,
    "start_time": "2022-06-18T10:54:23.896Z"
   },
   {
    "duration": 5,
    "start_time": "2022-06-18T10:54:24.143Z"
   },
   {
    "duration": 80672,
    "start_time": "2022-06-18T10:54:24.497Z"
   },
   {
    "duration": 4,
    "start_time": "2022-06-18T10:55:45.173Z"
   },
   {
    "duration": 169,
    "start_time": "2022-06-18T10:55:45.179Z"
   },
   {
    "duration": 15,
    "start_time": "2022-06-18T10:55:45.353Z"
   },
   {
    "duration": 6,
    "start_time": "2022-06-18T10:59:37.816Z"
   },
   {
    "duration": 3,
    "start_time": "2022-06-18T10:59:38.056Z"
   },
   {
    "duration": 5,
    "start_time": "2022-06-18T10:59:38.271Z"
   },
   {
    "duration": 9501,
    "start_time": "2022-06-18T10:59:38.479Z"
   },
   {
    "duration": 4,
    "start_time": "2022-06-18T10:59:47.982Z"
   },
   {
    "duration": 124,
    "start_time": "2022-06-18T10:59:47.988Z"
   },
   {
    "duration": 13,
    "start_time": "2022-06-18T10:59:48.115Z"
   },
   {
    "duration": 3,
    "start_time": "2022-06-18T11:00:07.240Z"
   },
   {
    "duration": 3,
    "start_time": "2022-06-18T11:00:07.464Z"
   },
   {
    "duration": 4,
    "start_time": "2022-06-18T11:00:07.654Z"
   },
   {
    "duration": 16414,
    "start_time": "2022-06-18T11:00:07.863Z"
   },
   {
    "duration": 5,
    "start_time": "2022-06-18T11:00:24.279Z"
   },
   {
    "duration": 117,
    "start_time": "2022-06-18T11:00:24.285Z"
   },
   {
    "duration": 12,
    "start_time": "2022-06-18T11:00:24.404Z"
   },
   {
    "duration": 3,
    "start_time": "2022-06-18T11:00:32.399Z"
   },
   {
    "duration": 3,
    "start_time": "2022-06-18T11:00:32.630Z"
   },
   {
    "duration": 5,
    "start_time": "2022-06-18T11:00:32.838Z"
   },
   {
    "duration": 18028,
    "start_time": "2022-06-18T11:00:33.070Z"
   },
   {
    "duration": 5,
    "start_time": "2022-06-18T11:00:51.100Z"
   },
   {
    "duration": 142,
    "start_time": "2022-06-18T11:00:51.108Z"
   },
   {
    "duration": 19,
    "start_time": "2022-06-18T11:00:51.252Z"
   },
   {
    "duration": 4,
    "start_time": "2022-06-18T11:01:13.327Z"
   },
   {
    "duration": 2,
    "start_time": "2022-06-18T11:01:13.517Z"
   },
   {
    "duration": 4,
    "start_time": "2022-06-18T11:01:13.711Z"
   },
   {
    "duration": 56947,
    "start_time": "2022-06-18T11:01:13.918Z"
   },
   {
    "duration": 5,
    "start_time": "2022-06-18T11:02:10.868Z"
   },
   {
    "duration": 140,
    "start_time": "2022-06-18T11:02:10.875Z"
   },
   {
    "duration": 16,
    "start_time": "2022-06-18T11:02:11.018Z"
   },
   {
    "duration": 12,
    "start_time": "2022-06-18T11:02:47.959Z"
   },
   {
    "duration": 4,
    "start_time": "2022-06-18T11:09:23.667Z"
   },
   {
    "duration": 12,
    "start_time": "2022-06-18T11:09:24.019Z"
   },
   {
    "duration": 336,
    "start_time": "2022-06-18T11:09:27.787Z"
   },
   {
    "duration": 112,
    "start_time": "2022-06-18T11:09:28.125Z"
   },
   {
    "duration": 3,
    "start_time": "2022-06-18T11:09:28.386Z"
   },
   {
    "duration": 16,
    "start_time": "2022-06-18T11:09:29.396Z"
   },
   {
    "duration": 307,
    "start_time": "2022-06-18T11:10:37.219Z"
   },
   {
    "duration": 104,
    "start_time": "2022-06-18T11:10:37.528Z"
   },
   {
    "duration": 15,
    "start_time": "2022-06-18T11:10:38.091Z"
   },
   {
    "duration": 287,
    "start_time": "2022-06-18T11:11:15.612Z"
   },
   {
    "duration": 94,
    "start_time": "2022-06-18T11:11:15.987Z"
   },
   {
    "duration": 13,
    "start_time": "2022-06-18T11:11:16.380Z"
   },
   {
    "duration": 308,
    "start_time": "2022-06-18T11:12:01.780Z"
   },
   {
    "duration": 121,
    "start_time": "2022-06-18T11:12:02.089Z"
   },
   {
    "duration": 14,
    "start_time": "2022-06-18T11:12:02.394Z"
   },
   {
    "duration": 277,
    "start_time": "2022-06-18T11:12:05.627Z"
   },
   {
    "duration": 95,
    "start_time": "2022-06-18T11:12:05.913Z"
   },
   {
    "duration": 13,
    "start_time": "2022-06-18T11:12:06.219Z"
   },
   {
    "duration": 269,
    "start_time": "2022-06-18T11:12:24.603Z"
   },
   {
    "duration": 118,
    "start_time": "2022-06-18T11:12:24.875Z"
   },
   {
    "duration": 15,
    "start_time": "2022-06-18T11:12:25.073Z"
   },
   {
    "duration": 64,
    "start_time": "2022-06-18T11:12:46.468Z"
   },
   {
    "duration": 303,
    "start_time": "2022-06-18T11:12:53.074Z"
   },
   {
    "duration": 112,
    "start_time": "2022-06-18T11:12:53.379Z"
   },
   {
    "duration": 14,
    "start_time": "2022-06-18T11:12:53.527Z"
   },
   {
    "duration": 344,
    "start_time": "2022-06-18T11:13:40.186Z"
   },
   {
    "duration": 108,
    "start_time": "2022-06-18T11:13:40.619Z"
   },
   {
    "duration": 15,
    "start_time": "2022-06-18T11:13:41.195Z"
   },
   {
    "duration": 279,
    "start_time": "2022-06-18T11:15:29.212Z"
   },
   {
    "duration": 103,
    "start_time": "2022-06-18T11:15:29.609Z"
   },
   {
    "duration": 29,
    "start_time": "2022-06-18T11:15:30.145Z"
   },
   {
    "duration": 275,
    "start_time": "2022-06-18T11:16:05.672Z"
   },
   {
    "duration": 112,
    "start_time": "2022-06-18T11:16:06.433Z"
   },
   {
    "duration": 15,
    "start_time": "2022-06-18T11:16:08.321Z"
   },
   {
    "duration": 435,
    "start_time": "2022-06-18T11:17:09.897Z"
   },
   {
    "duration": 161,
    "start_time": "2022-06-18T11:17:10.335Z"
   },
   {
    "duration": 16,
    "start_time": "2022-06-18T11:17:10.897Z"
   },
   {
    "duration": 332,
    "start_time": "2022-06-18T11:18:12.375Z"
   },
   {
    "duration": 135,
    "start_time": "2022-06-18T11:18:15.297Z"
   },
   {
    "duration": 16,
    "start_time": "2022-06-18T11:18:25.586Z"
   },
   {
    "duration": 3,
    "start_time": "2022-06-18T11:23:26.375Z"
   },
   {
    "duration": 3,
    "start_time": "2022-06-18T11:23:26.693Z"
   },
   {
    "duration": 618120,
    "start_time": "2022-06-18T11:23:27.015Z"
   },
   {
    "duration": 0,
    "start_time": "2022-06-18T11:33:45.137Z"
   },
   {
    "duration": 0,
    "start_time": "2022-06-18T11:33:45.138Z"
   },
   {
    "duration": 1,
    "start_time": "2022-06-18T11:33:45.139Z"
   },
   {
    "duration": 3,
    "start_time": "2022-06-18T11:34:46.276Z"
   },
   {
    "duration": 3,
    "start_time": "2022-06-18T11:34:46.669Z"
   },
   {
    "duration": 28761,
    "start_time": "2022-06-18T11:34:47.004Z"
   },
   {
    "duration": 415,
    "start_time": "2022-06-18T11:35:15.771Z"
   },
   {
    "duration": 142,
    "start_time": "2022-06-18T11:35:16.188Z"
   },
   {
    "duration": 42,
    "start_time": "2022-06-18T11:35:16.332Z"
   },
   {
    "duration": 3,
    "start_time": "2022-06-18T11:35:52.379Z"
   },
   {
    "duration": 4,
    "start_time": "2022-06-18T11:35:52.675Z"
   },
   {
    "duration": 143259,
    "start_time": "2022-06-18T11:35:52.963Z"
   },
   {
    "duration": 760,
    "start_time": "2022-06-18T11:38:16.224Z"
   },
   {
    "duration": 278,
    "start_time": "2022-06-18T11:38:16.986Z"
   },
   {
    "duration": 14,
    "start_time": "2022-06-18T11:38:17.266Z"
   },
   {
    "duration": 15,
    "start_time": "2022-06-18T11:38:57.907Z"
   },
   {
    "duration": 4,
    "start_time": "2022-06-18T11:49:26.436Z"
   },
   {
    "duration": 4,
    "start_time": "2022-06-18T11:49:27.812Z"
   },
   {
    "duration": 152825,
    "start_time": "2022-06-18T11:50:02.756Z"
   },
   {
    "duration": 3,
    "start_time": "2022-06-18T11:52:48.322Z"
   },
   {
    "duration": 4,
    "start_time": "2022-06-18T11:52:48.826Z"
   },
   {
    "duration": 82831,
    "start_time": "2022-06-18T11:52:49.379Z"
   },
   {
    "duration": 10,
    "start_time": "2022-06-18T11:54:12.212Z"
   },
   {
    "duration": 0,
    "start_time": "2022-06-18T11:54:12.224Z"
   },
   {
    "duration": 0,
    "start_time": "2022-06-18T11:54:12.225Z"
   },
   {
    "duration": 0,
    "start_time": "2022-06-18T11:54:12.226Z"
   },
   {
    "duration": 4,
    "start_time": "2022-06-18T11:54:19.505Z"
   },
   {
    "duration": 3,
    "start_time": "2022-06-18T11:54:19.923Z"
   },
   {
    "duration": 17419,
    "start_time": "2022-06-18T11:54:20.532Z"
   },
   {
    "duration": 5,
    "start_time": "2022-06-18T11:54:37.963Z"
   },
   {
    "duration": 400,
    "start_time": "2022-06-18T11:54:37.970Z"
   },
   {
    "duration": 119,
    "start_time": "2022-06-18T11:54:38.373Z"
   },
   {
    "duration": 18,
    "start_time": "2022-06-18T11:54:38.494Z"
   },
   {
    "duration": 11,
    "start_time": "2022-06-18T11:54:57.063Z"
   },
   {
    "duration": 6,
    "start_time": "2022-06-18T11:54:57.371Z"
   },
   {
    "duration": 81408,
    "start_time": "2022-06-18T11:54:57.626Z"
   },
   {
    "duration": 5,
    "start_time": "2022-06-18T11:56:19.037Z"
   },
   {
    "duration": 438,
    "start_time": "2022-06-18T11:56:19.052Z"
   },
   {
    "duration": 138,
    "start_time": "2022-06-18T11:56:19.497Z"
   },
   {
    "duration": 26,
    "start_time": "2022-06-18T11:56:19.637Z"
   },
   {
    "duration": 3,
    "start_time": "2022-06-18T11:57:25.953Z"
   },
   {
    "duration": 5,
    "start_time": "2022-06-18T11:57:26.190Z"
   },
   {
    "duration": 97441,
    "start_time": "2022-06-18T11:57:26.393Z"
   },
   {
    "duration": 4,
    "start_time": "2022-06-18T11:59:03.836Z"
   },
   {
    "duration": 556,
    "start_time": "2022-06-18T11:59:03.842Z"
   },
   {
    "duration": 150,
    "start_time": "2022-06-18T11:59:04.400Z"
   },
   {
    "duration": 19,
    "start_time": "2022-06-18T11:59:04.557Z"
   },
   {
    "duration": 2,
    "start_time": "2022-06-18T11:59:31.752Z"
   },
   {
    "duration": 3,
    "start_time": "2022-06-18T11:59:32.024Z"
   },
   {
    "duration": 69816,
    "start_time": "2022-06-18T11:59:32.274Z"
   },
   {
    "duration": 5,
    "start_time": "2022-06-18T12:00:42.092Z"
   },
   {
    "duration": 480,
    "start_time": "2022-06-18T12:00:42.098Z"
   },
   {
    "duration": 204,
    "start_time": "2022-06-18T12:00:42.581Z"
   },
   {
    "duration": 16,
    "start_time": "2022-06-18T12:00:42.787Z"
   },
   {
    "duration": 4,
    "start_time": "2022-06-18T12:01:25.215Z"
   },
   {
    "duration": 5,
    "start_time": "2022-06-18T12:01:25.439Z"
   },
   {
    "duration": 59658,
    "start_time": "2022-06-18T12:01:25.666Z"
   },
   {
    "duration": 5,
    "start_time": "2022-06-18T12:02:25.326Z"
   },
   {
    "duration": 496,
    "start_time": "2022-06-18T12:02:25.333Z"
   },
   {
    "duration": 157,
    "start_time": "2022-06-18T12:02:25.831Z"
   },
   {
    "duration": 15,
    "start_time": "2022-06-18T12:02:25.990Z"
   },
   {
    "duration": 5,
    "start_time": "2022-06-18T12:03:15.550Z"
   },
   {
    "duration": 4,
    "start_time": "2022-06-18T12:03:15.783Z"
   },
   {
    "duration": 71791,
    "start_time": "2022-06-18T12:03:15.989Z"
   },
   {
    "duration": 5,
    "start_time": "2022-06-18T12:04:27.782Z"
   },
   {
    "duration": 446,
    "start_time": "2022-06-18T12:04:27.789Z"
   },
   {
    "duration": 174,
    "start_time": "2022-06-18T12:04:28.237Z"
   },
   {
    "duration": 23,
    "start_time": "2022-06-18T12:04:28.413Z"
   },
   {
    "duration": 21,
    "start_time": "2022-06-18T12:05:01.740Z"
   },
   {
    "duration": 6,
    "start_time": "2022-06-18T12:09:00.340Z"
   },
   {
    "duration": 4,
    "start_time": "2022-06-18T12:10:24.286Z"
   },
   {
    "duration": 3,
    "start_time": "2022-06-18T12:10:29.429Z"
   },
   {
    "duration": 2,
    "start_time": "2022-06-18T12:10:39.522Z"
   },
   {
    "duration": 4,
    "start_time": "2022-06-18T12:10:45.851Z"
   },
   {
    "duration": 4,
    "start_time": "2022-06-18T12:10:57.004Z"
   },
   {
    "duration": 3,
    "start_time": "2022-06-18T12:12:26.301Z"
   },
   {
    "duration": 4,
    "start_time": "2022-06-18T12:12:26.579Z"
   },
   {
    "duration": 37860,
    "start_time": "2022-06-18T12:12:26.875Z"
   },
   {
    "duration": 716,
    "start_time": "2022-06-18T12:13:04.737Z"
   },
   {
    "duration": 283,
    "start_time": "2022-06-18T12:13:05.461Z"
   },
   {
    "duration": 23,
    "start_time": "2022-06-18T12:13:05.747Z"
   },
   {
    "duration": 15,
    "start_time": "2022-06-18T12:15:18.578Z"
   },
   {
    "duration": 4,
    "start_time": "2022-06-18T12:24:38.473Z"
   },
   {
    "duration": 4,
    "start_time": "2022-06-18T12:24:38.778Z"
   },
   {
    "duration": 2232,
    "start_time": "2022-06-18T12:24:39.239Z"
   },
   {
    "duration": 4,
    "start_time": "2022-06-18T12:24:41.478Z"
   },
   {
    "duration": 410,
    "start_time": "2022-06-18T12:24:41.484Z"
   },
   {
    "duration": 141,
    "start_time": "2022-06-18T12:24:41.896Z"
   },
   {
    "duration": 29,
    "start_time": "2022-06-18T12:24:42.039Z"
   },
   {
    "duration": 3,
    "start_time": "2022-06-18T12:25:08.391Z"
   },
   {
    "duration": 4,
    "start_time": "2022-06-18T12:25:08.630Z"
   },
   {
    "duration": 2906,
    "start_time": "2022-06-18T12:25:08.868Z"
   },
   {
    "duration": 8,
    "start_time": "2022-06-18T12:25:11.778Z"
   },
   {
    "duration": 453,
    "start_time": "2022-06-18T12:25:11.789Z"
   },
   {
    "duration": 165,
    "start_time": "2022-06-18T12:25:12.244Z"
   },
   {
    "duration": 17,
    "start_time": "2022-06-18T12:25:12.411Z"
   },
   {
    "duration": 3,
    "start_time": "2022-06-18T12:25:35.095Z"
   },
   {
    "duration": 4,
    "start_time": "2022-06-18T12:25:35.344Z"
   },
   {
    "duration": 1235,
    "start_time": "2022-06-18T12:25:35.571Z"
   },
   {
    "duration": 4,
    "start_time": "2022-06-18T12:25:36.807Z"
   },
   {
    "duration": 296,
    "start_time": "2022-06-18T12:25:36.813Z"
   },
   {
    "duration": 129,
    "start_time": "2022-06-18T12:25:37.111Z"
   },
   {
    "duration": 26,
    "start_time": "2022-06-18T12:25:37.242Z"
   },
   {
    "duration": 3,
    "start_time": "2022-06-18T12:25:55.677Z"
   },
   {
    "duration": 4,
    "start_time": "2022-06-18T12:25:55.947Z"
   },
   {
    "duration": 1128,
    "start_time": "2022-06-18T12:25:56.390Z"
   },
   {
    "duration": 3,
    "start_time": "2022-06-18T12:26:23.310Z"
   },
   {
    "duration": 5,
    "start_time": "2022-06-18T12:26:23.550Z"
   },
   {
    "duration": 1221,
    "start_time": "2022-06-18T12:26:23.822Z"
   },
   {
    "duration": 5,
    "start_time": "2022-06-18T12:26:25.044Z"
   },
   {
    "duration": 4,
    "start_time": "2022-06-18T12:27:45.405Z"
   },
   {
    "duration": 6,
    "start_time": "2022-06-18T12:27:45.749Z"
   },
   {
    "duration": 2335,
    "start_time": "2022-06-18T12:27:46.280Z"
   },
   {
    "duration": 4,
    "start_time": "2022-06-18T12:27:48.617Z"
   },
   {
    "duration": 438,
    "start_time": "2022-06-18T12:27:48.622Z"
   },
   {
    "duration": 148,
    "start_time": "2022-06-18T12:27:49.062Z"
   },
   {
    "duration": 15,
    "start_time": "2022-06-18T12:27:49.212Z"
   },
   {
    "duration": 4,
    "start_time": "2022-06-18T12:27:59.333Z"
   },
   {
    "duration": 5,
    "start_time": "2022-06-18T12:27:59.585Z"
   },
   {
    "duration": 1331,
    "start_time": "2022-06-18T12:27:59.797Z"
   },
   {
    "duration": 4,
    "start_time": "2022-06-18T12:28:01.130Z"
   },
   {
    "duration": 348,
    "start_time": "2022-06-18T12:28:01.136Z"
   },
   {
    "duration": 122,
    "start_time": "2022-06-18T12:28:01.487Z"
   },
   {
    "duration": 15,
    "start_time": "2022-06-18T12:28:01.611Z"
   },
   {
    "duration": 4,
    "start_time": "2022-06-18T12:29:48.427Z"
   },
   {
    "duration": 3,
    "start_time": "2022-06-18T12:29:48.741Z"
   },
   {
    "duration": 54381,
    "start_time": "2022-06-18T12:29:49.080Z"
   },
   {
    "duration": 17,
    "start_time": "2022-06-18T12:30:43.469Z"
   },
   {
    "duration": 501,
    "start_time": "2022-06-18T12:30:43.491Z"
   },
   {
    "duration": 159,
    "start_time": "2022-06-18T12:30:43.994Z"
   },
   {
    "duration": 29,
    "start_time": "2022-06-18T12:30:44.156Z"
   },
   {
    "duration": 38,
    "start_time": "2022-06-18T12:32:23.783Z"
   },
   {
    "duration": 4,
    "start_time": "2022-06-18T12:32:24.027Z"
   },
   {
    "duration": 3,
    "start_time": "2022-06-18T12:32:30.412Z"
   },
   {
    "duration": 4,
    "start_time": "2022-06-18T12:32:30.707Z"
   },
   {
    "duration": 22112,
    "start_time": "2022-06-18T12:32:31.019Z"
   },
   {
    "duration": 5,
    "start_time": "2022-06-18T12:32:53.134Z"
   },
   {
    "duration": 590,
    "start_time": "2022-06-18T12:32:53.141Z"
   },
   {
    "duration": 184,
    "start_time": "2022-06-18T12:32:53.734Z"
   },
   {
    "duration": 17,
    "start_time": "2022-06-18T12:32:53.920Z"
   },
   {
    "duration": 11,
    "start_time": "2022-06-18T12:33:51.051Z"
   },
   {
    "duration": 9,
    "start_time": "2022-06-18T12:33:51.378Z"
   },
   {
    "duration": 20815,
    "start_time": "2022-06-18T12:33:51.678Z"
   },
   {
    "duration": 5,
    "start_time": "2022-06-18T12:34:12.495Z"
   },
   {
    "duration": 488,
    "start_time": "2022-06-18T12:34:12.503Z"
   },
   {
    "duration": 140,
    "start_time": "2022-06-18T12:34:12.994Z"
   },
   {
    "duration": 22,
    "start_time": "2022-06-18T12:34:13.137Z"
   },
   {
    "duration": 4,
    "start_time": "2022-06-18T12:34:19.419Z"
   },
   {
    "duration": 5,
    "start_time": "2022-06-18T12:34:19.691Z"
   },
   {
    "duration": 44563,
    "start_time": "2022-06-18T12:34:19.985Z"
   },
   {
    "duration": 11,
    "start_time": "2022-06-18T12:35:04.550Z"
   },
   {
    "duration": 413,
    "start_time": "2022-06-18T12:35:04.569Z"
   },
   {
    "duration": 141,
    "start_time": "2022-06-18T12:35:04.984Z"
   },
   {
    "duration": 40,
    "start_time": "2022-06-18T12:35:05.127Z"
   },
   {
    "duration": 14,
    "start_time": "2022-06-18T12:35:42.075Z"
   },
   {
    "duration": 3,
    "start_time": "2022-06-18T12:35:56.090Z"
   },
   {
    "duration": 4,
    "start_time": "2022-06-18T12:35:56.491Z"
   },
   {
    "duration": 26121,
    "start_time": "2022-06-18T12:35:56.802Z"
   },
   {
    "duration": 13,
    "start_time": "2022-06-18T12:36:22.925Z"
   },
   {
    "duration": 0,
    "start_time": "2022-06-18T12:36:22.941Z"
   },
   {
    "duration": 0,
    "start_time": "2022-06-18T12:36:22.942Z"
   },
   {
    "duration": 0,
    "start_time": "2022-06-18T12:36:22.944Z"
   },
   {
    "duration": 11,
    "start_time": "2022-06-18T12:36:31.051Z"
   },
   {
    "duration": 3,
    "start_time": "2022-06-18T12:36:31.287Z"
   },
   {
    "duration": 33386,
    "start_time": "2022-06-18T12:36:31.507Z"
   },
   {
    "duration": 5,
    "start_time": "2022-06-18T12:37:04.896Z"
   },
   {
    "duration": 502,
    "start_time": "2022-06-18T12:37:04.903Z"
   },
   {
    "duration": 200,
    "start_time": "2022-06-18T12:37:05.409Z"
   },
   {
    "duration": 21,
    "start_time": "2022-06-18T12:37:05.611Z"
   },
   {
    "duration": 4,
    "start_time": "2022-06-18T12:37:43.706Z"
   },
   {
    "duration": 3,
    "start_time": "2022-06-18T12:37:43.930Z"
   },
   {
    "duration": 25274,
    "start_time": "2022-06-18T12:37:44.225Z"
   },
   {
    "duration": 5,
    "start_time": "2022-06-18T12:38:09.502Z"
   },
   {
    "duration": 463,
    "start_time": "2022-06-18T12:38:09.508Z"
   },
   {
    "duration": 155,
    "start_time": "2022-06-18T12:38:09.973Z"
   },
   {
    "duration": 31,
    "start_time": "2022-06-18T12:38:10.130Z"
   },
   {
    "duration": 4,
    "start_time": "2022-06-18T12:38:46.234Z"
   },
   {
    "duration": 5,
    "start_time": "2022-06-18T12:38:46.441Z"
   },
   {
    "duration": 46498,
    "start_time": "2022-06-18T12:38:46.649Z"
   },
   {
    "duration": 13,
    "start_time": "2022-06-18T12:39:33.149Z"
   },
   {
    "duration": 572,
    "start_time": "2022-06-18T12:39:33.167Z"
   },
   {
    "duration": 168,
    "start_time": "2022-06-18T12:39:33.742Z"
   },
   {
    "duration": 16,
    "start_time": "2022-06-18T12:39:33.912Z"
   },
   {
    "duration": 15,
    "start_time": "2022-06-18T12:40:03.378Z"
   },
   {
    "duration": 4,
    "start_time": "2022-06-18T13:08:51.807Z"
   },
   {
    "duration": 11,
    "start_time": "2022-06-18T13:08:55.783Z"
   },
   {
    "duration": 4,
    "start_time": "2022-06-18T13:13:14.296Z"
   },
   {
    "duration": 3,
    "start_time": "2022-06-18T13:13:25.823Z"
   },
   {
    "duration": 3,
    "start_time": "2022-06-18T13:14:18.692Z"
   },
   {
    "duration": 4,
    "start_time": "2022-06-18T13:14:19.491Z"
   },
   {
    "duration": 381702,
    "start_time": "2022-06-18T13:14:20.703Z"
   },
   {
    "duration": 2092,
    "start_time": "2022-06-18T13:20:42.408Z"
   },
   {
    "duration": 816,
    "start_time": "2022-06-18T13:20:44.502Z"
   },
   {
    "duration": 26,
    "start_time": "2022-06-18T13:21:11.451Z"
   },
   {
    "duration": 5,
    "start_time": "2022-06-18T13:26:08.473Z"
   },
   {
    "duration": 4,
    "start_time": "2022-06-18T13:26:09.919Z"
   },
   {
    "duration": 162072,
    "start_time": "2022-06-18T13:26:17.336Z"
   },
   {
    "duration": 10,
    "start_time": "2022-06-18T13:28:59.415Z"
   },
   {
    "duration": 551,
    "start_time": "2022-06-18T13:28:59.428Z"
   },
   {
    "duration": 266,
    "start_time": "2022-06-18T13:28:59.987Z"
   },
   {
    "duration": 37,
    "start_time": "2022-06-18T13:29:00.265Z"
   },
   {
    "duration": 4,
    "start_time": "2022-06-18T13:29:55.998Z"
   },
   {
    "duration": 5,
    "start_time": "2022-06-18T13:29:56.717Z"
   },
   {
    "duration": 180931,
    "start_time": "2022-06-18T13:29:56.982Z"
   },
   {
    "duration": 48,
    "start_time": "2022-06-18T13:32:57.917Z"
   },
   {
    "duration": 538,
    "start_time": "2022-06-18T13:32:57.970Z"
   },
   {
    "duration": 257,
    "start_time": "2022-06-18T13:32:58.511Z"
   },
   {
    "duration": 28,
    "start_time": "2022-06-18T13:32:58.773Z"
   },
   {
    "duration": 4,
    "start_time": "2022-06-18T13:33:27.037Z"
   },
   {
    "duration": 5,
    "start_time": "2022-06-18T13:33:27.300Z"
   },
   {
    "duration": 336444,
    "start_time": "2022-06-18T13:33:27.680Z"
   },
   {
    "duration": 11,
    "start_time": "2022-06-18T13:39:04.126Z"
   },
   {
    "duration": 733,
    "start_time": "2022-06-18T13:39:04.139Z"
   },
   {
    "duration": 344,
    "start_time": "2022-06-18T13:39:04.877Z"
   },
   {
    "duration": 57,
    "start_time": "2022-06-18T13:39:05.223Z"
   },
   {
    "duration": 24,
    "start_time": "2022-06-18T13:39:38.537Z"
   },
   {
    "duration": 15,
    "start_time": "2022-06-18T13:45:43.982Z"
   },
   {
    "duration": 1504,
    "start_time": "2022-06-18T14:07:16.633Z"
   },
   {
    "duration": 2,
    "start_time": "2022-06-18T14:07:18.140Z"
   },
   {
    "duration": 23,
    "start_time": "2022-06-18T14:07:18.144Z"
   },
   {
    "duration": 1352,
    "start_time": "2022-06-18T14:07:18.172Z"
   },
   {
    "duration": 16,
    "start_time": "2022-06-18T14:07:19.526Z"
   },
   {
    "duration": 6,
    "start_time": "2022-06-18T14:07:19.544Z"
   },
   {
    "duration": 120,
    "start_time": "2022-06-18T14:07:19.551Z"
   },
   {
    "duration": 130,
    "start_time": "2022-06-18T14:07:19.673Z"
   },
   {
    "duration": 121,
    "start_time": "2022-06-18T14:07:19.805Z"
   },
   {
    "duration": 266,
    "start_time": "2022-06-18T14:07:19.930Z"
   },
   {
    "duration": 174,
    "start_time": "2022-06-18T14:07:20.198Z"
   },
   {
    "duration": 25,
    "start_time": "2022-06-18T14:07:20.373Z"
   },
   {
    "duration": 444,
    "start_time": "2022-06-18T14:07:20.401Z"
   },
   {
    "duration": 20,
    "start_time": "2022-06-18T14:07:20.846Z"
   },
   {
    "duration": 47,
    "start_time": "2022-06-18T14:07:20.869Z"
   },
   {
    "duration": 356,
    "start_time": "2022-06-18T14:07:20.918Z"
   },
   {
    "duration": 14,
    "start_time": "2022-06-18T14:07:21.276Z"
   },
   {
    "duration": 34,
    "start_time": "2022-06-18T14:07:21.292Z"
   },
   {
    "duration": 25,
    "start_time": "2022-06-18T14:07:21.328Z"
   },
   {
    "duration": 14,
    "start_time": "2022-06-18T14:07:21.354Z"
   },
   {
    "duration": 23,
    "start_time": "2022-06-18T14:07:21.371Z"
   },
   {
    "duration": 65,
    "start_time": "2022-06-18T14:07:21.396Z"
   },
   {
    "duration": 16,
    "start_time": "2022-06-18T14:07:21.463Z"
   },
   {
    "duration": 9,
    "start_time": "2022-06-18T14:07:21.480Z"
   },
   {
    "duration": 537,
    "start_time": "2022-06-18T14:07:21.491Z"
   },
   {
    "duration": 142,
    "start_time": "2022-06-18T14:07:22.031Z"
   },
   {
    "duration": 68,
    "start_time": "2022-06-18T14:07:22.177Z"
   },
   {
    "duration": 23,
    "start_time": "2022-06-18T14:07:22.251Z"
   },
   {
    "duration": 135,
    "start_time": "2022-06-18T14:07:22.276Z"
   },
   {
    "duration": 45,
    "start_time": "2022-06-18T14:07:22.413Z"
   },
   {
    "duration": 15,
    "start_time": "2022-06-18T14:07:22.460Z"
   },
   {
    "duration": 44,
    "start_time": "2022-06-18T14:07:22.477Z"
   },
   {
    "duration": 9,
    "start_time": "2022-06-18T14:07:22.524Z"
   },
   {
    "duration": 124,
    "start_time": "2022-06-18T14:07:22.535Z"
   },
   {
    "duration": 23,
    "start_time": "2022-06-18T14:07:22.661Z"
   },
   {
    "duration": 108,
    "start_time": "2022-06-18T14:07:22.686Z"
   },
   {
    "duration": 46,
    "start_time": "2022-06-18T14:07:22.796Z"
   },
   {
    "duration": 25,
    "start_time": "2022-06-18T14:07:22.844Z"
   },
   {
    "duration": 49,
    "start_time": "2022-06-18T14:07:22.871Z"
   },
   {
    "duration": 28,
    "start_time": "2022-06-18T14:07:22.922Z"
   },
   {
    "duration": 50,
    "start_time": "2022-06-18T14:07:22.952Z"
   },
   {
    "duration": 147,
    "start_time": "2022-06-18T14:07:23.004Z"
   },
   {
    "duration": 262,
    "start_time": "2022-06-18T14:07:23.155Z"
   },
   {
    "duration": 13,
    "start_time": "2022-06-18T14:07:23.419Z"
   },
   {
    "duration": 43,
    "start_time": "2022-06-18T14:07:23.434Z"
   },
   {
    "duration": 140,
    "start_time": "2022-06-18T14:07:23.481Z"
   },
   {
    "duration": 192,
    "start_time": "2022-06-18T14:07:23.622Z"
   },
   {
    "duration": 19,
    "start_time": "2022-06-18T14:07:23.817Z"
   },
   {
    "duration": 44,
    "start_time": "2022-06-18T14:07:23.838Z"
   },
   {
    "duration": 112,
    "start_time": "2022-06-18T14:07:23.884Z"
   },
   {
    "duration": 223,
    "start_time": "2022-06-18T14:07:23.998Z"
   },
   {
    "duration": 15,
    "start_time": "2022-06-18T14:07:24.223Z"
   },
   {
    "duration": 22,
    "start_time": "2022-06-18T14:07:24.251Z"
   },
   {
    "duration": 26,
    "start_time": "2022-06-18T14:07:24.275Z"
   },
   {
    "duration": 17,
    "start_time": "2022-06-18T14:07:24.303Z"
   },
   {
    "duration": 22,
    "start_time": "2022-06-18T14:07:24.322Z"
   },
   {
    "duration": 8,
    "start_time": "2022-06-18T14:07:24.346Z"
   },
   {
    "duration": 58,
    "start_time": "2022-06-18T14:07:24.356Z"
   },
   {
    "duration": 6,
    "start_time": "2022-06-18T14:07:24.416Z"
   },
   {
    "duration": 14,
    "start_time": "2022-06-18T14:07:24.423Z"
   },
   {
    "duration": 49,
    "start_time": "2022-06-18T14:07:24.440Z"
   },
   {
    "duration": 6,
    "start_time": "2022-06-18T14:07:24.491Z"
   },
   {
    "duration": 9,
    "start_time": "2022-06-18T14:07:24.499Z"
   },
   {
    "duration": 19,
    "start_time": "2022-06-18T14:07:24.510Z"
   },
   {
    "duration": 29,
    "start_time": "2022-06-18T14:07:24.531Z"
   },
   {
    "duration": 65,
    "start_time": "2022-06-18T14:07:24.563Z"
   },
   {
    "duration": 43,
    "start_time": "2022-06-18T14:07:24.630Z"
   },
   {
    "duration": 44,
    "start_time": "2022-06-18T14:07:24.675Z"
   },
   {
    "duration": 55,
    "start_time": "2022-06-18T14:07:24.721Z"
   },
   {
    "duration": 30,
    "start_time": "2022-06-18T14:07:24.778Z"
   },
   {
    "duration": 4,
    "start_time": "2022-06-18T14:07:24.809Z"
   },
   {
    "duration": 8,
    "start_time": "2022-06-18T14:07:24.815Z"
   },
   {
    "duration": 93,
    "start_time": "2022-06-18T14:07:24.824Z"
   },
   {
    "duration": 3,
    "start_time": "2022-06-18T14:07:24.918Z"
   },
   {
    "duration": 8,
    "start_time": "2022-06-18T14:07:24.922Z"
   },
   {
    "duration": 389,
    "start_time": "2022-06-18T14:07:24.932Z"
   },
   {
    "duration": 345,
    "start_time": "2022-06-18T14:07:25.323Z"
   },
   {
    "duration": 117,
    "start_time": "2022-06-18T14:07:25.678Z"
   },
   {
    "duration": 4,
    "start_time": "2022-06-18T14:07:25.796Z"
   },
   {
    "duration": 20,
    "start_time": "2022-06-18T14:07:25.802Z"
   },
   {
    "duration": 137,
    "start_time": "2022-06-18T14:07:25.824Z"
   },
   {
    "duration": 0,
    "start_time": "2022-06-18T14:07:25.965Z"
   },
   {
    "duration": 0,
    "start_time": "2022-06-18T14:07:25.966Z"
   },
   {
    "duration": 0,
    "start_time": "2022-06-18T14:07:25.968Z"
   },
   {
    "duration": 0,
    "start_time": "2022-06-18T14:07:25.969Z"
   },
   {
    "duration": 0,
    "start_time": "2022-06-18T14:07:25.971Z"
   },
   {
    "duration": 0,
    "start_time": "2022-06-18T14:07:25.973Z"
   },
   {
    "duration": 0,
    "start_time": "2022-06-18T14:07:25.974Z"
   },
   {
    "duration": 0,
    "start_time": "2022-06-18T14:07:25.976Z"
   },
   {
    "duration": 0,
    "start_time": "2022-06-18T14:07:25.977Z"
   },
   {
    "duration": 0,
    "start_time": "2022-06-18T14:07:25.978Z"
   },
   {
    "duration": 0,
    "start_time": "2022-06-18T14:07:25.979Z"
   },
   {
    "duration": 0,
    "start_time": "2022-06-18T14:07:25.980Z"
   },
   {
    "duration": 0,
    "start_time": "2022-06-18T14:07:25.981Z"
   },
   {
    "duration": 0,
    "start_time": "2022-06-18T14:07:25.982Z"
   },
   {
    "duration": 0,
    "start_time": "2022-06-18T14:07:25.984Z"
   },
   {
    "duration": 0,
    "start_time": "2022-06-18T14:07:25.985Z"
   },
   {
    "duration": 0,
    "start_time": "2022-06-18T14:07:25.986Z"
   },
   {
    "duration": 0,
    "start_time": "2022-06-18T14:07:25.987Z"
   },
   {
    "duration": 0,
    "start_time": "2022-06-18T14:07:25.988Z"
   },
   {
    "duration": 0,
    "start_time": "2022-06-18T14:07:25.989Z"
   },
   {
    "duration": 0,
    "start_time": "2022-06-18T14:07:25.990Z"
   },
   {
    "duration": 0,
    "start_time": "2022-06-18T14:07:25.992Z"
   },
   {
    "duration": 0,
    "start_time": "2022-06-18T14:07:25.993Z"
   },
   {
    "duration": 0,
    "start_time": "2022-06-18T14:07:25.994Z"
   },
   {
    "duration": 0,
    "start_time": "2022-06-18T14:07:25.995Z"
   },
   {
    "duration": 0,
    "start_time": "2022-06-18T14:07:25.996Z"
   },
   {
    "duration": 0,
    "start_time": "2022-06-18T14:07:25.997Z"
   },
   {
    "duration": 0,
    "start_time": "2022-06-18T14:07:25.999Z"
   },
   {
    "duration": 0,
    "start_time": "2022-06-18T14:07:26.001Z"
   },
   {
    "duration": 0,
    "start_time": "2022-06-18T14:07:26.002Z"
   },
   {
    "duration": 0,
    "start_time": "2022-06-18T14:07:26.004Z"
   },
   {
    "duration": 0,
    "start_time": "2022-06-18T14:07:26.005Z"
   },
   {
    "duration": 0,
    "start_time": "2022-06-18T14:07:26.052Z"
   },
   {
    "duration": 0,
    "start_time": "2022-06-18T14:07:26.053Z"
   },
   {
    "duration": 0,
    "start_time": "2022-06-18T14:07:26.054Z"
   },
   {
    "duration": 0,
    "start_time": "2022-06-18T14:07:26.054Z"
   },
   {
    "duration": 0,
    "start_time": "2022-06-18T14:07:26.055Z"
   },
   {
    "duration": 0,
    "start_time": "2022-06-18T14:07:26.056Z"
   },
   {
    "duration": 0,
    "start_time": "2022-06-18T14:07:26.057Z"
   },
   {
    "duration": 0,
    "start_time": "2022-06-18T14:07:26.058Z"
   },
   {
    "duration": 0,
    "start_time": "2022-06-18T14:07:26.059Z"
   },
   {
    "duration": 0,
    "start_time": "2022-06-18T14:07:26.060Z"
   },
   {
    "duration": 0,
    "start_time": "2022-06-18T14:07:26.061Z"
   },
   {
    "duration": 0,
    "start_time": "2022-06-18T14:07:26.063Z"
   },
   {
    "duration": 0,
    "start_time": "2022-06-18T14:07:26.064Z"
   },
   {
    "duration": 0,
    "start_time": "2022-06-18T14:07:26.064Z"
   },
   {
    "duration": 0,
    "start_time": "2022-06-18T14:07:26.066Z"
   },
   {
    "duration": 0,
    "start_time": "2022-06-18T14:07:26.068Z"
   },
   {
    "duration": 0,
    "start_time": "2022-06-18T14:07:26.071Z"
   },
   {
    "duration": 0,
    "start_time": "2022-06-18T14:07:26.075Z"
   },
   {
    "duration": 0,
    "start_time": "2022-06-18T14:07:26.076Z"
   },
   {
    "duration": 0,
    "start_time": "2022-06-18T14:07:26.078Z"
   },
   {
    "duration": 0,
    "start_time": "2022-06-18T14:07:26.079Z"
   },
   {
    "duration": 0,
    "start_time": "2022-06-18T14:07:26.080Z"
   },
   {
    "duration": 0,
    "start_time": "2022-06-18T14:07:26.082Z"
   },
   {
    "duration": 0,
    "start_time": "2022-06-18T14:07:26.084Z"
   },
   {
    "duration": 0,
    "start_time": "2022-06-18T14:07:26.085Z"
   },
   {
    "duration": 0,
    "start_time": "2022-06-18T14:07:26.086Z"
   },
   {
    "duration": 0,
    "start_time": "2022-06-18T14:07:26.088Z"
   },
   {
    "duration": 0,
    "start_time": "2022-06-18T14:07:26.090Z"
   },
   {
    "duration": 0,
    "start_time": "2022-06-18T14:07:26.091Z"
   },
   {
    "duration": 0,
    "start_time": "2022-06-18T14:07:26.092Z"
   },
   {
    "duration": 0,
    "start_time": "2022-06-18T14:07:26.094Z"
   },
   {
    "duration": 0,
    "start_time": "2022-06-18T14:07:26.157Z"
   },
   {
    "duration": 0,
    "start_time": "2022-06-18T14:07:26.159Z"
   },
   {
    "duration": 0,
    "start_time": "2022-06-18T14:07:26.160Z"
   },
   {
    "duration": 0,
    "start_time": "2022-06-18T14:07:26.161Z"
   },
   {
    "duration": 0,
    "start_time": "2022-06-18T14:07:26.163Z"
   },
   {
    "duration": 0,
    "start_time": "2022-06-18T14:07:26.165Z"
   },
   {
    "duration": 0,
    "start_time": "2022-06-18T14:07:26.167Z"
   },
   {
    "duration": 0,
    "start_time": "2022-06-18T14:07:26.168Z"
   },
   {
    "duration": 0,
    "start_time": "2022-06-18T14:07:26.169Z"
   },
   {
    "duration": 0,
    "start_time": "2022-06-18T14:07:26.171Z"
   },
   {
    "duration": 0,
    "start_time": "2022-06-18T14:07:26.172Z"
   },
   {
    "duration": 0,
    "start_time": "2022-06-18T14:07:26.173Z"
   },
   {
    "duration": 0,
    "start_time": "2022-06-18T14:07:26.174Z"
   },
   {
    "duration": 0,
    "start_time": "2022-06-18T14:07:26.176Z"
   },
   {
    "duration": 0,
    "start_time": "2022-06-18T14:07:26.177Z"
   },
   {
    "duration": 0,
    "start_time": "2022-06-18T14:07:26.178Z"
   },
   {
    "duration": 0,
    "start_time": "2022-06-18T14:07:26.179Z"
   },
   {
    "duration": 0,
    "start_time": "2022-06-18T14:07:26.183Z"
   },
   {
    "duration": 0,
    "start_time": "2022-06-18T14:07:26.184Z"
   },
   {
    "duration": 0,
    "start_time": "2022-06-18T14:07:26.185Z"
   },
   {
    "duration": 0,
    "start_time": "2022-06-18T14:07:26.186Z"
   },
   {
    "duration": 1427,
    "start_time": "2022-06-18T14:08:32.388Z"
   },
   {
    "duration": 3,
    "start_time": "2022-06-18T14:08:33.818Z"
   },
   {
    "duration": 10,
    "start_time": "2022-06-18T14:08:33.825Z"
   },
   {
    "duration": 912,
    "start_time": "2022-06-18T14:08:33.837Z"
   },
   {
    "duration": 30,
    "start_time": "2022-06-18T14:08:34.751Z"
   },
   {
    "duration": 4,
    "start_time": "2022-06-18T14:08:34.783Z"
   },
   {
    "duration": 109,
    "start_time": "2022-06-18T14:08:34.789Z"
   },
   {
    "duration": 122,
    "start_time": "2022-06-18T14:08:34.900Z"
   },
   {
    "duration": 120,
    "start_time": "2022-06-18T14:08:35.025Z"
   },
   {
    "duration": 340,
    "start_time": "2022-06-18T14:08:35.159Z"
   },
   {
    "duration": 182,
    "start_time": "2022-06-18T14:08:35.501Z"
   },
   {
    "duration": 23,
    "start_time": "2022-06-18T14:08:35.685Z"
   },
   {
    "duration": 466,
    "start_time": "2022-06-18T14:08:35.710Z"
   },
   {
    "duration": 18,
    "start_time": "2022-06-18T14:08:36.178Z"
   },
   {
    "duration": 35,
    "start_time": "2022-06-18T14:08:36.199Z"
   },
   {
    "duration": 358,
    "start_time": "2022-06-18T14:08:36.235Z"
   },
   {
    "duration": 14,
    "start_time": "2022-06-18T14:08:36.595Z"
   },
   {
    "duration": 53,
    "start_time": "2022-06-18T14:08:36.610Z"
   },
   {
    "duration": 9,
    "start_time": "2022-06-18T14:08:36.664Z"
   },
   {
    "duration": 9,
    "start_time": "2022-06-18T14:08:36.675Z"
   },
   {
    "duration": 6,
    "start_time": "2022-06-18T14:08:36.685Z"
   },
   {
    "duration": 80,
    "start_time": "2022-06-18T14:08:36.692Z"
   },
   {
    "duration": 13,
    "start_time": "2022-06-18T14:08:36.774Z"
   },
   {
    "duration": 16,
    "start_time": "2022-06-18T14:08:36.788Z"
   },
   {
    "duration": 494,
    "start_time": "2022-06-18T14:08:36.806Z"
   },
   {
    "duration": 95,
    "start_time": "2022-06-18T14:08:37.302Z"
   },
   {
    "duration": 65,
    "start_time": "2022-06-18T14:08:37.401Z"
   },
   {
    "duration": 11,
    "start_time": "2022-06-18T14:08:37.468Z"
   },
   {
    "duration": 140,
    "start_time": "2022-06-18T14:08:37.481Z"
   },
   {
    "duration": 49,
    "start_time": "2022-06-18T14:08:37.622Z"
   },
   {
    "duration": 11,
    "start_time": "2022-06-18T14:08:37.673Z"
   },
   {
    "duration": 40,
    "start_time": "2022-06-18T14:08:37.685Z"
   },
   {
    "duration": 7,
    "start_time": "2022-06-18T14:08:37.727Z"
   },
   {
    "duration": 88,
    "start_time": "2022-06-18T14:08:37.736Z"
   },
   {
    "duration": 14,
    "start_time": "2022-06-18T14:08:37.825Z"
   },
   {
    "duration": 109,
    "start_time": "2022-06-18T14:08:37.852Z"
   },
   {
    "duration": 46,
    "start_time": "2022-06-18T14:08:37.971Z"
   },
   {
    "duration": 10,
    "start_time": "2022-06-18T14:08:38.019Z"
   },
   {
    "duration": 33,
    "start_time": "2022-06-18T14:08:38.031Z"
   },
   {
    "duration": 10,
    "start_time": "2022-06-18T14:08:38.066Z"
   },
   {
    "duration": 17,
    "start_time": "2022-06-18T14:08:38.078Z"
   },
   {
    "duration": 134,
    "start_time": "2022-06-18T14:08:38.097Z"
   },
   {
    "duration": 241,
    "start_time": "2022-06-18T14:08:38.233Z"
   },
   {
    "duration": 13,
    "start_time": "2022-06-18T14:08:38.476Z"
   },
   {
    "duration": 15,
    "start_time": "2022-06-18T14:08:38.490Z"
   },
   {
    "duration": 134,
    "start_time": "2022-06-18T14:08:38.507Z"
   },
   {
    "duration": 204,
    "start_time": "2022-06-18T14:08:38.643Z"
   },
   {
    "duration": 28,
    "start_time": "2022-06-18T14:08:38.852Z"
   },
   {
    "duration": 18,
    "start_time": "2022-06-18T14:08:38.881Z"
   },
   {
    "duration": 138,
    "start_time": "2022-06-18T14:08:38.902Z"
   },
   {
    "duration": 237,
    "start_time": "2022-06-18T14:08:39.042Z"
   },
   {
    "duration": 13,
    "start_time": "2022-06-18T14:08:39.280Z"
   },
   {
    "duration": 15,
    "start_time": "2022-06-18T14:08:39.295Z"
   },
   {
    "duration": 21,
    "start_time": "2022-06-18T14:08:39.311Z"
   },
   {
    "duration": 35,
    "start_time": "2022-06-18T14:08:39.333Z"
   },
   {
    "duration": 13,
    "start_time": "2022-06-18T14:08:39.370Z"
   },
   {
    "duration": 5,
    "start_time": "2022-06-18T14:08:39.384Z"
   },
   {
    "duration": 42,
    "start_time": "2022-06-18T14:08:39.390Z"
   },
   {
    "duration": 21,
    "start_time": "2022-06-18T14:08:39.434Z"
   },
   {
    "duration": 12,
    "start_time": "2022-06-18T14:08:39.456Z"
   },
   {
    "duration": 36,
    "start_time": "2022-06-18T14:08:39.470Z"
   },
   {
    "duration": 5,
    "start_time": "2022-06-18T14:08:39.508Z"
   },
   {
    "duration": 9,
    "start_time": "2022-06-18T14:08:39.514Z"
   },
   {
    "duration": 37,
    "start_time": "2022-06-18T14:08:39.524Z"
   },
   {
    "duration": 4,
    "start_time": "2022-06-18T14:08:39.566Z"
   },
   {
    "duration": 43,
    "start_time": "2022-06-18T14:08:39.572Z"
   },
   {
    "duration": 50,
    "start_time": "2022-06-18T14:08:39.617Z"
   },
   {
    "duration": 29,
    "start_time": "2022-06-18T14:08:39.669Z"
   },
   {
    "duration": 29,
    "start_time": "2022-06-18T14:08:39.700Z"
   },
   {
    "duration": 43,
    "start_time": "2022-06-18T14:08:39.730Z"
   },
   {
    "duration": 3,
    "start_time": "2022-06-18T14:08:39.775Z"
   },
   {
    "duration": 6,
    "start_time": "2022-06-18T14:08:39.780Z"
   },
   {
    "duration": 81,
    "start_time": "2022-06-18T14:08:39.788Z"
   },
   {
    "duration": 3,
    "start_time": "2022-06-18T14:08:39.870Z"
   },
   {
    "duration": 6,
    "start_time": "2022-06-18T14:08:39.875Z"
   },
   {
    "duration": 367,
    "start_time": "2022-06-18T14:08:39.882Z"
   },
   {
    "duration": 278,
    "start_time": "2022-06-18T14:08:40.252Z"
   },
   {
    "duration": 111,
    "start_time": "2022-06-18T14:08:40.531Z"
   },
   {
    "duration": 14,
    "start_time": "2022-06-18T14:08:40.644Z"
   },
   {
    "duration": 26,
    "start_time": "2022-06-18T14:08:40.660Z"
   },
   {
    "duration": 2,
    "start_time": "2022-06-18T14:08:40.693Z"
   },
   {
    "duration": 8,
    "start_time": "2022-06-18T14:08:40.697Z"
   },
   {
    "duration": 1569,
    "start_time": "2022-06-18T14:08:40.707Z"
   },
   {
    "duration": 305,
    "start_time": "2022-06-18T14:08:42.354Z"
   },
   {
    "duration": 105,
    "start_time": "2022-06-18T14:08:42.666Z"
   },
   {
    "duration": 15,
    "start_time": "2022-06-18T14:08:42.773Z"
   },
   {
    "duration": 2,
    "start_time": "2022-06-18T14:08:42.790Z"
   },
   {
    "duration": 5,
    "start_time": "2022-06-18T14:08:42.794Z"
   },
   {
    "duration": 6469,
    "start_time": "2022-06-18T14:08:42.800Z"
   },
   {
    "duration": 362,
    "start_time": "2022-06-18T14:08:49.274Z"
   },
   {
    "duration": 113,
    "start_time": "2022-06-18T14:08:49.638Z"
   },
   {
    "duration": 16,
    "start_time": "2022-06-18T14:08:49.760Z"
   },
   {
    "duration": 11,
    "start_time": "2022-06-18T14:08:49.777Z"
   },
   {
    "duration": 5,
    "start_time": "2022-06-18T14:08:49.790Z"
   },
   {
    "duration": 16066,
    "start_time": "2022-06-18T14:08:49.797Z"
   },
   {
    "duration": 309,
    "start_time": "2022-06-18T14:09:05.866Z"
   },
   {
    "duration": 100,
    "start_time": "2022-06-18T14:09:06.179Z"
   },
   {
    "duration": 13,
    "start_time": "2022-06-18T14:09:06.281Z"
   },
   {
    "duration": 3,
    "start_time": "2022-06-18T14:09:06.296Z"
   },
   {
    "duration": 10,
    "start_time": "2022-06-18T14:09:06.300Z"
   },
   {
    "duration": 461,
    "start_time": "2022-06-18T14:09:06.312Z"
   },
   {
    "duration": 288,
    "start_time": "2022-06-18T14:09:06.775Z"
   },
   {
    "duration": 121,
    "start_time": "2022-06-18T14:09:07.071Z"
   },
   {
    "duration": 16,
    "start_time": "2022-06-18T14:09:07.194Z"
   },
   {
    "duration": 4,
    "start_time": "2022-06-18T14:09:07.212Z"
   },
   {
    "duration": 8,
    "start_time": "2022-06-18T14:09:07.218Z"
   },
   {
    "duration": 1203,
    "start_time": "2022-06-18T14:09:07.228Z"
   },
   {
    "duration": 304,
    "start_time": "2022-06-18T14:09:08.433Z"
   },
   {
    "duration": 109,
    "start_time": "2022-06-18T14:09:08.738Z"
   },
   {
    "duration": 20,
    "start_time": "2022-06-18T14:09:08.852Z"
   },
   {
    "duration": 7,
    "start_time": "2022-06-18T14:09:08.873Z"
   },
   {
    "duration": 7,
    "start_time": "2022-06-18T14:09:08.881Z"
   },
   {
    "duration": 40024,
    "start_time": "2022-06-18T14:09:08.889Z"
   },
   {
    "duration": 405,
    "start_time": "2022-06-18T14:09:48.915Z"
   },
   {
    "duration": 148,
    "start_time": "2022-06-18T14:09:49.322Z"
   },
   {
    "duration": 15,
    "start_time": "2022-06-18T14:09:49.471Z"
   },
   {
    "duration": 3,
    "start_time": "2022-06-18T14:09:49.488Z"
   },
   {
    "duration": 9,
    "start_time": "2022-06-18T14:09:49.493Z"
   },
   {
    "duration": 10,
    "start_time": "2022-06-18T14:09:49.504Z"
   },
   {
    "duration": 53978,
    "start_time": "2022-06-18T14:09:49.515Z"
   },
   {
    "duration": 5,
    "start_time": "2022-06-18T14:10:43.495Z"
   },
   {
    "duration": 403,
    "start_time": "2022-06-18T14:10:43.502Z"
   },
   {
    "duration": 118,
    "start_time": "2022-06-18T14:10:43.907Z"
   },
   {
    "duration": 15,
    "start_time": "2022-06-18T14:10:44.027Z"
   },
   {
    "duration": 12,
    "start_time": "2022-06-18T14:10:44.054Z"
   },
   {
    "duration": 22,
    "start_time": "2022-06-18T14:10:44.067Z"
   },
   {
    "duration": 144767,
    "start_time": "2022-06-18T14:10:44.091Z"
   },
   {
    "duration": 832,
    "start_time": "2022-06-18T14:13:08.860Z"
   },
   {
    "duration": 286,
    "start_time": "2022-06-18T14:13:09.694Z"
   },
   {
    "duration": 16,
    "start_time": "2022-06-18T14:13:09.982Z"
   },
   {
    "duration": 2,
    "start_time": "2022-06-18T14:13:10.000Z"
   },
   {
    "duration": 8,
    "start_time": "2022-06-18T14:13:10.004Z"
   },
   {
    "duration": 67623,
    "start_time": "2022-06-18T14:13:10.013Z"
   },
   {
    "duration": 4,
    "start_time": "2022-06-18T14:14:17.638Z"
   },
   {
    "duration": 430,
    "start_time": "2022-06-18T14:14:17.651Z"
   },
   {
    "duration": 158,
    "start_time": "2022-06-18T14:14:18.083Z"
   },
   {
    "duration": 25,
    "start_time": "2022-06-18T14:14:18.243Z"
   },
   {
    "duration": 6,
    "start_time": "2022-06-18T14:14:18.270Z"
   },
   {
    "duration": 5,
    "start_time": "2022-06-18T14:14:18.277Z"
   },
   {
    "duration": 34263,
    "start_time": "2022-06-18T14:14:18.284Z"
   },
   {
    "duration": 720,
    "start_time": "2022-06-18T14:14:52.548Z"
   },
   {
    "duration": 237,
    "start_time": "2022-06-18T14:14:53.270Z"
   },
   {
    "duration": 20,
    "start_time": "2022-06-18T14:14:53.509Z"
   },
   {
    "duration": 3,
    "start_time": "2022-06-18T14:14:53.531Z"
   },
   {
    "duration": 6,
    "start_time": "2022-06-18T14:14:53.551Z"
   },
   {
    "duration": 48662,
    "start_time": "2022-06-18T14:14:53.562Z"
   },
   {
    "duration": 5,
    "start_time": "2022-06-18T14:15:42.227Z"
   },
   {
    "duration": 487,
    "start_time": "2022-06-18T14:15:42.233Z"
   },
   {
    "duration": 198,
    "start_time": "2022-06-18T14:15:42.722Z"
   },
   {
    "duration": 15,
    "start_time": "2022-06-18T14:15:42.922Z"
   },
   {
    "duration": 11,
    "start_time": "2022-06-18T14:15:42.958Z"
   },
   {
    "duration": 15,
    "start_time": "2022-06-18T14:15:42.976Z"
   },
   {
    "duration": 479671,
    "start_time": "2022-06-18T14:15:42.993Z"
   },
   {
    "duration": 1998,
    "start_time": "2022-06-18T14:23:42.667Z"
   },
   {
    "duration": 685,
    "start_time": "2022-06-18T14:23:44.668Z"
   },
   {
    "duration": 20,
    "start_time": "2022-06-18T14:23:45.355Z"
   },
   {
    "duration": 3,
    "start_time": "2022-06-18T14:23:45.378Z"
   },
   {
    "duration": 16,
    "start_time": "2022-06-18T14:23:45.382Z"
   },
   {
    "duration": 317999,
    "start_time": "2022-06-18T14:23:45.400Z"
   },
   {
    "duration": 4,
    "start_time": "2022-06-18T14:29:03.401Z"
   },
   {
    "duration": 669,
    "start_time": "2022-06-18T14:29:03.407Z"
   },
   {
    "duration": 286,
    "start_time": "2022-06-18T14:29:04.078Z"
   },
   {
    "duration": 22,
    "start_time": "2022-06-18T14:29:04.366Z"
   },
   {
    "duration": 19,
    "start_time": "2022-06-18T14:29:04.390Z"
   },
   {
    "duration": 1476,
    "start_time": "2022-06-19T09:12:26.193Z"
   },
   {
    "duration": 2,
    "start_time": "2022-06-19T09:12:27.672Z"
   },
   {
    "duration": 2,
    "start_time": "2022-06-19T09:12:29.144Z"
   },
   {
    "duration": 1111,
    "start_time": "2022-06-19T09:12:34.344Z"
   },
   {
    "duration": 16,
    "start_time": "2022-06-19T09:12:35.458Z"
   },
   {
    "duration": 4,
    "start_time": "2022-06-19T09:12:35.610Z"
   },
   {
    "duration": 103,
    "start_time": "2022-06-19T09:12:36.447Z"
   },
   {
    "duration": 120,
    "start_time": "2022-06-19T09:12:38.993Z"
   },
   {
    "duration": 123,
    "start_time": "2022-06-19T09:12:39.413Z"
   },
   {
    "duration": 233,
    "start_time": "2022-06-19T09:12:41.081Z"
   },
   {
    "duration": 142,
    "start_time": "2022-06-19T09:12:50.847Z"
   },
   {
    "duration": 22,
    "start_time": "2022-06-19T09:12:53.088Z"
   },
   {
    "duration": 440,
    "start_time": "2022-06-19T09:12:57.217Z"
   },
   {
    "duration": 15,
    "start_time": "2022-06-19T09:12:58.049Z"
   },
   {
    "duration": 26,
    "start_time": "2022-06-19T09:12:58.560Z"
   },
   {
    "duration": 330,
    "start_time": "2022-06-19T09:13:00.584Z"
   },
   {
    "duration": 14,
    "start_time": "2022-06-19T09:13:02.544Z"
   },
   {
    "duration": 31,
    "start_time": "2022-06-19T09:13:04.191Z"
   },
   {
    "duration": 8,
    "start_time": "2022-06-19T09:13:05.352Z"
   },
   {
    "duration": 10,
    "start_time": "2022-06-19T09:13:05.716Z"
   },
   {
    "duration": 5,
    "start_time": "2022-06-19T09:13:10.601Z"
   },
   {
    "duration": 51,
    "start_time": "2022-06-19T09:13:11.509Z"
   },
   {
    "duration": 12,
    "start_time": "2022-06-19T09:13:11.905Z"
   },
   {
    "duration": 9,
    "start_time": "2022-06-19T09:13:13.849Z"
   },
   {
    "duration": 511,
    "start_time": "2022-06-19T09:13:13.993Z"
   },
   {
    "duration": 94,
    "start_time": "2022-06-19T09:13:14.800Z"
   },
   {
    "duration": 54,
    "start_time": "2022-06-19T09:13:14.968Z"
   },
   {
    "duration": 13,
    "start_time": "2022-06-19T09:13:15.108Z"
   },
   {
    "duration": 126,
    "start_time": "2022-06-19T09:13:15.372Z"
   },
   {
    "duration": 39,
    "start_time": "2022-06-19T09:13:16.041Z"
   },
   {
    "duration": 11,
    "start_time": "2022-06-19T09:13:16.616Z"
   },
   {
    "duration": 30,
    "start_time": "2022-06-19T09:13:17.005Z"
   },
   {
    "duration": 8,
    "start_time": "2022-06-19T09:13:17.392Z"
   },
   {
    "duration": 75,
    "start_time": "2022-06-19T09:13:17.844Z"
   },
   {
    "duration": 16,
    "start_time": "2022-06-19T09:13:18.472Z"
   },
   {
    "duration": 100,
    "start_time": "2022-06-19T09:13:19.040Z"
   },
   {
    "duration": 42,
    "start_time": "2022-06-19T09:13:19.340Z"
   },
   {
    "duration": 10,
    "start_time": "2022-06-19T09:13:19.476Z"
   },
   {
    "duration": 16,
    "start_time": "2022-06-19T09:13:19.788Z"
   },
   {
    "duration": 9,
    "start_time": "2022-06-19T09:13:19.936Z"
   },
   {
    "duration": 16,
    "start_time": "2022-06-19T09:13:20.716Z"
   },
   {
    "duration": 119,
    "start_time": "2022-06-19T09:13:20.961Z"
   },
   {
    "duration": 222,
    "start_time": "2022-06-19T09:13:21.246Z"
   },
   {
    "duration": 29,
    "start_time": "2022-06-19T09:13:21.496Z"
   },
   {
    "duration": 18,
    "start_time": "2022-06-19T09:13:21.652Z"
   },
   {
    "duration": 117,
    "start_time": "2022-06-19T09:13:22.365Z"
   },
   {
    "duration": 179,
    "start_time": "2022-06-19T09:13:22.860Z"
   },
   {
    "duration": 16,
    "start_time": "2022-06-19T09:13:23.200Z"
   },
   {
    "duration": 17,
    "start_time": "2022-06-19T09:13:25.761Z"
   },
   {
    "duration": 118,
    "start_time": "2022-06-19T09:13:27.209Z"
   },
   {
    "duration": 215,
    "start_time": "2022-06-19T09:13:27.817Z"
   },
   {
    "duration": 26,
    "start_time": "2022-06-19T09:13:28.813Z"
   },
   {
    "duration": 25,
    "start_time": "2022-06-19T09:13:29.673Z"
   },
   {
    "duration": 20,
    "start_time": "2022-06-19T09:13:29.840Z"
   },
   {
    "duration": 16,
    "start_time": "2022-06-19T09:13:30.072Z"
   },
   {
    "duration": 11,
    "start_time": "2022-06-19T09:13:30.575Z"
   },
   {
    "duration": 18,
    "start_time": "2022-06-19T09:13:30.717Z"
   },
   {
    "duration": 40,
    "start_time": "2022-06-19T09:13:30.852Z"
   },
   {
    "duration": 5,
    "start_time": "2022-06-19T09:13:31.089Z"
   },
   {
    "duration": 21,
    "start_time": "2022-06-19T09:13:31.253Z"
   },
   {
    "duration": 32,
    "start_time": "2022-06-19T09:13:31.360Z"
   },
   {
    "duration": 5,
    "start_time": "2022-06-19T09:13:31.500Z"
   },
   {
    "duration": 4,
    "start_time": "2022-06-19T09:13:31.656Z"
   },
   {
    "duration": 13,
    "start_time": "2022-06-19T09:13:31.781Z"
   },
   {
    "duration": 3,
    "start_time": "2022-06-19T09:13:32.975Z"
   },
   {
    "duration": 44,
    "start_time": "2022-06-19T09:13:35.316Z"
   },
   {
    "duration": 49,
    "start_time": "2022-06-19T09:13:36.470Z"
   },
   {
    "duration": 31,
    "start_time": "2022-06-19T09:13:38.747Z"
   },
   {
    "duration": 32,
    "start_time": "2022-06-19T09:13:41.172Z"
   },
   {
    "duration": 31,
    "start_time": "2022-06-19T09:13:42.666Z"
   },
   {
    "duration": 4,
    "start_time": "2022-06-19T09:13:45.026Z"
   },
   {
    "duration": 5,
    "start_time": "2022-06-19T09:13:45.872Z"
   },
   {
    "duration": 68,
    "start_time": "2022-06-19T09:13:46.580Z"
   },
   {
    "duration": 3,
    "start_time": "2022-06-19T09:13:48.473Z"
   },
   {
    "duration": 3,
    "start_time": "2022-06-19T09:13:54.601Z"
   },
   {
    "duration": 337,
    "start_time": "2022-06-19T09:13:54.985Z"
   },
   {
    "duration": 285,
    "start_time": "2022-06-19T09:13:56.744Z"
   },
   {
    "duration": 106,
    "start_time": "2022-06-19T09:13:57.594Z"
   },
   {
    "duration": 3,
    "start_time": "2022-06-19T09:13:58.405Z"
   },
   {
    "duration": 20,
    "start_time": "2022-06-19T09:14:02.513Z"
   },
   {
    "duration": 3,
    "start_time": "2022-06-19T09:14:05.972Z"
   },
   {
    "duration": 3,
    "start_time": "2022-06-19T09:14:07.416Z"
   },
   {
    "duration": 3084,
    "start_time": "2022-06-19T09:14:09.473Z"
   },
   {
    "duration": 296,
    "start_time": "2022-06-19T09:14:12.673Z"
   },
   {
    "duration": 103,
    "start_time": "2022-06-19T09:14:19.317Z"
   },
   {
    "duration": 14,
    "start_time": "2022-06-19T09:14:19.450Z"
   },
   {
    "duration": 3,
    "start_time": "2022-06-19T09:14:30.238Z"
   },
   {
    "duration": 4,
    "start_time": "2022-06-19T09:14:30.447Z"
   },
   {
    "duration": 6378,
    "start_time": "2022-06-19T09:14:30.651Z"
   },
   {
    "duration": 303,
    "start_time": "2022-06-19T09:14:37.031Z"
   },
   {
    "duration": 113,
    "start_time": "2022-06-19T09:14:37.336Z"
   },
   {
    "duration": 15,
    "start_time": "2022-06-19T09:14:37.451Z"
   },
   {
    "duration": 3,
    "start_time": "2022-06-19T09:14:37.467Z"
   },
   {
    "duration": 8,
    "start_time": "2022-06-19T09:14:37.471Z"
   },
   {
    "duration": 15656,
    "start_time": "2022-06-19T09:14:37.481Z"
   },
   {
    "duration": 299,
    "start_time": "2022-06-19T09:14:53.138Z"
   },
   {
    "duration": 109,
    "start_time": "2022-06-19T09:14:53.439Z"
   },
   {
    "duration": 18,
    "start_time": "2022-06-19T09:14:53.551Z"
   },
   {
    "duration": 5,
    "start_time": "2022-06-19T09:14:53.571Z"
   },
   {
    "duration": 7,
    "start_time": "2022-06-19T09:14:53.578Z"
   },
   {
    "duration": 474,
    "start_time": "2022-06-19T09:14:53.586Z"
   },
   {
    "duration": 291,
    "start_time": "2022-06-19T09:14:54.062Z"
   },
   {
    "duration": 118,
    "start_time": "2022-06-19T09:14:54.355Z"
   },
   {
    "duration": 14,
    "start_time": "2022-06-19T09:14:54.475Z"
   },
   {
    "duration": 3,
    "start_time": "2022-06-19T09:14:54.490Z"
   },
   {
    "duration": 9,
    "start_time": "2022-06-19T09:14:54.494Z"
   },
   {
    "duration": 1074,
    "start_time": "2022-06-19T09:14:54.505Z"
   },
   {
    "duration": 284,
    "start_time": "2022-06-19T09:14:55.580Z"
   },
   {
    "duration": 120,
    "start_time": "2022-06-19T09:14:55.866Z"
   },
   {
    "duration": 15,
    "start_time": "2022-06-19T09:14:55.988Z"
   },
   {
    "duration": 3,
    "start_time": "2022-06-19T09:14:56.005Z"
   },
   {
    "duration": 20,
    "start_time": "2022-06-19T09:14:56.010Z"
   },
   {
    "duration": 58867,
    "start_time": "2022-06-19T09:14:56.032Z"
   },
   {
    "duration": 389,
    "start_time": "2022-06-19T09:15:54.901Z"
   },
   {
    "duration": 143,
    "start_time": "2022-06-19T09:15:55.292Z"
   },
   {
    "duration": 15,
    "start_time": "2022-06-19T09:15:55.437Z"
   },
   {
    "duration": 3,
    "start_time": "2022-06-19T09:31:09.796Z"
   },
   {
    "duration": 15,
    "start_time": "2022-06-19T09:31:09.804Z"
   },
   {
    "duration": 17,
    "start_time": "2022-06-19T09:31:09.821Z"
   },
   {
    "duration": 59435,
    "start_time": "2022-06-19T09:31:09.842Z"
   },
   {
    "duration": 4,
    "start_time": "2022-06-19T09:32:09.279Z"
   },
   {
    "duration": 349,
    "start_time": "2022-06-19T09:32:09.285Z"
   },
   {
    "duration": 108,
    "start_time": "2022-06-19T09:32:09.637Z"
   },
   {
    "duration": 15,
    "start_time": "2022-06-19T09:32:09.747Z"
   },
   {
    "duration": 7,
    "start_time": "2022-06-19T09:32:09.764Z"
   },
   {
    "duration": 7,
    "start_time": "2022-06-19T09:32:09.772Z"
   },
   {
    "duration": 213452,
    "start_time": "2022-06-19T09:32:09.781Z"
   },
   {
    "duration": 848,
    "start_time": "2022-06-19T09:35:43.235Z"
   },
   {
    "duration": 294,
    "start_time": "2022-06-19T09:35:44.087Z"
   },
   {
    "duration": 20,
    "start_time": "2022-06-19T09:35:44.383Z"
   },
   {
    "duration": 3,
    "start_time": "2022-06-19T09:35:44.405Z"
   },
   {
    "duration": 9,
    "start_time": "2022-06-19T09:35:44.428Z"
   },
   {
    "duration": 71128,
    "start_time": "2022-06-19T09:35:44.438Z"
   },
   {
    "duration": 5,
    "start_time": "2022-06-19T09:36:55.567Z"
   },
   {
    "duration": 418,
    "start_time": "2022-06-19T09:36:55.574Z"
   },
   {
    "duration": 155,
    "start_time": "2022-06-19T09:36:55.993Z"
   },
   {
    "duration": 17,
    "start_time": "2022-06-19T09:36:56.150Z"
   },
   {
    "duration": 3,
    "start_time": "2022-06-19T09:36:56.169Z"
   },
   {
    "duration": 5,
    "start_time": "2022-06-19T09:36:56.174Z"
   },
   {
    "duration": 32882,
    "start_time": "2022-06-19T09:36:56.180Z"
   },
   {
    "duration": 611,
    "start_time": "2022-06-19T09:37:29.063Z"
   },
   {
    "duration": 207,
    "start_time": "2022-06-19T09:37:29.676Z"
   },
   {
    "duration": 15,
    "start_time": "2022-06-19T09:37:29.885Z"
   },
   {
    "duration": 3,
    "start_time": "2022-06-19T09:37:29.902Z"
   },
   {
    "duration": 21,
    "start_time": "2022-06-19T09:37:29.906Z"
   },
   {
    "duration": 42832,
    "start_time": "2022-06-19T09:37:29.928Z"
   },
   {
    "duration": 4,
    "start_time": "2022-06-19T09:38:12.763Z"
   },
   {
    "duration": 420,
    "start_time": "2022-06-19T09:38:12.769Z"
   },
   {
    "duration": 161,
    "start_time": "2022-06-19T09:38:13.191Z"
   },
   {
    "duration": 14,
    "start_time": "2022-06-19T09:38:13.354Z"
   },
   {
    "duration": 2,
    "start_time": "2022-06-19T09:38:13.369Z"
   },
   {
    "duration": 4,
    "start_time": "2022-06-19T09:38:13.373Z"
   },
   {
    "duration": 14152,
    "start_time": "2022-06-19T09:38:13.378Z"
   },
   {
    "duration": 1903,
    "start_time": "2022-06-19T09:38:27.532Z"
   },
   {
    "duration": 695,
    "start_time": "2022-06-19T09:38:29.437Z"
   },
   {
    "duration": 20,
    "start_time": "2022-06-19T09:38:30.134Z"
   },
   {
    "duration": 3,
    "start_time": "2022-06-19T09:38:30.156Z"
   },
   {
    "duration": 15,
    "start_time": "2022-06-19T09:38:30.162Z"
   },
   {
    "duration": 24662,
    "start_time": "2022-06-19T09:38:30.179Z"
   },
   {
    "duration": 7,
    "start_time": "2022-06-19T09:38:54.843Z"
   },
   {
    "duration": 591,
    "start_time": "2022-06-19T09:38:54.852Z"
   },
   {
    "duration": 282,
    "start_time": "2022-06-19T09:38:55.445Z"
   },
   {
    "duration": 16,
    "start_time": "2022-06-19T09:38:55.729Z"
   },
   {
    "duration": 11,
    "start_time": "2022-06-19T09:38:55.746Z"
   },
   {
    "duration": 10,
    "start_time": "2022-06-19T15:25:50.702Z"
   },
   {
    "duration": 4,
    "start_time": "2022-06-19T15:26:00.761Z"
   },
   {
    "duration": 1551,
    "start_time": "2022-06-19T15:27:39.059Z"
   },
   {
    "duration": 3,
    "start_time": "2022-06-19T15:27:40.612Z"
   },
   {
    "duration": 11,
    "start_time": "2022-06-19T15:27:40.616Z"
   },
   {
    "duration": 119,
    "start_time": "2022-06-19T15:27:45.195Z"
   },
   {
    "duration": 16,
    "start_time": "2022-06-19T15:28:50.331Z"
   },
   {
    "duration": 11,
    "start_time": "2022-06-19T15:29:25.201Z"
   },
   {
    "duration": 17,
    "start_time": "2022-06-19T15:29:38.966Z"
   },
   {
    "duration": 13,
    "start_time": "2022-06-19T15:29:50.226Z"
   },
   {
    "duration": 6,
    "start_time": "2022-06-19T15:29:58.064Z"
   },
   {
    "duration": 10,
    "start_time": "2022-06-19T15:29:58.072Z"
   },
   {
    "duration": 6,
    "start_time": "2022-06-19T15:29:58.085Z"
   },
   {
    "duration": 1132,
    "start_time": "2022-06-19T15:30:02.307Z"
   },
   {
    "duration": 30,
    "start_time": "2022-06-19T15:32:30.471Z"
   },
   {
    "duration": 5,
    "start_time": "2022-06-19T16:02:29.678Z"
   },
   {
    "duration": 18,
    "start_time": "2022-06-19T16:02:29.685Z"
   },
   {
    "duration": 14,
    "start_time": "2022-06-19T16:02:29.705Z"
   },
   {
    "duration": 841,
    "start_time": "2022-06-19T16:02:29.721Z"
   },
   {
    "duration": 17,
    "start_time": "2022-06-19T16:02:30.564Z"
   },
   {
    "duration": 4,
    "start_time": "2022-06-19T16:02:30.595Z"
   },
   {
    "duration": 112,
    "start_time": "2022-06-19T16:02:30.601Z"
   },
   {
    "duration": 140,
    "start_time": "2022-06-19T16:02:30.715Z"
   },
   {
    "duration": 141,
    "start_time": "2022-06-19T16:02:30.857Z"
   },
   {
    "duration": 258,
    "start_time": "2022-06-19T16:02:31.000Z"
   },
   {
    "duration": 152,
    "start_time": "2022-06-19T16:02:31.260Z"
   },
   {
    "duration": 24,
    "start_time": "2022-06-19T16:02:31.414Z"
   },
   {
    "duration": 451,
    "start_time": "2022-06-19T16:02:31.441Z"
   },
   {
    "duration": 16,
    "start_time": "2022-06-19T16:02:31.896Z"
   },
   {
    "duration": 30,
    "start_time": "2022-06-19T16:02:31.913Z"
   },
   {
    "duration": 381,
    "start_time": "2022-06-19T16:02:31.945Z"
   },
   {
    "duration": 13,
    "start_time": "2022-06-19T16:02:32.328Z"
   },
   {
    "duration": 31,
    "start_time": "2022-06-19T16:02:32.342Z"
   },
   {
    "duration": 24,
    "start_time": "2022-06-19T16:02:32.375Z"
   },
   {
    "duration": 8,
    "start_time": "2022-06-19T16:02:32.401Z"
   },
   {
    "duration": 6,
    "start_time": "2022-06-19T16:02:32.411Z"
   },
   {
    "duration": 78,
    "start_time": "2022-06-19T16:02:32.418Z"
   },
   {
    "duration": 12,
    "start_time": "2022-06-19T16:02:32.498Z"
   },
   {
    "duration": 19,
    "start_time": "2022-06-19T16:02:32.512Z"
   },
   {
    "duration": 426,
    "start_time": "2022-06-19T16:02:32.533Z"
   },
   {
    "duration": 6,
    "start_time": "2022-06-19T16:03:45.631Z"
   },
   {
    "duration": 16,
    "start_time": "2022-06-19T16:03:57.432Z"
   },
   {
    "duration": 14,
    "start_time": "2022-06-19T16:04:05.068Z"
   },
   {
    "duration": 8,
    "start_time": "2022-06-19T16:04:09.028Z"
   },
   {
    "duration": 61,
    "start_time": "2022-06-19T16:04:20.577Z"
   },
   {
    "duration": 67,
    "start_time": "2022-06-19T16:04:31.536Z"
   },
   {
    "duration": 81,
    "start_time": "2022-06-19T16:04:37.047Z"
   },
   {
    "duration": 105,
    "start_time": "2022-06-19T16:04:44.760Z"
   },
   {
    "duration": 85,
    "start_time": "2022-06-19T16:05:39.724Z"
   },
   {
    "duration": 16,
    "start_time": "2022-06-19T16:05:46.641Z"
   },
   {
    "duration": 93,
    "start_time": "2022-06-19T16:05:57.172Z"
   },
   {
    "duration": 87,
    "start_time": "2022-06-19T16:05:59.316Z"
   },
   {
    "duration": 8,
    "start_time": "2022-06-19T16:06:11.780Z"
   },
   {
    "duration": 411,
    "start_time": "2022-06-19T16:06:12.110Z"
   },
   {
    "duration": 95,
    "start_time": "2022-06-19T16:06:38.592Z"
   },
   {
    "duration": 330,
    "start_time": "2022-06-19T16:10:53.264Z"
   },
   {
    "duration": 321,
    "start_time": "2022-06-19T16:11:26.501Z"
   },
   {
    "duration": 328,
    "start_time": "2022-06-19T16:11:59.979Z"
   },
   {
    "duration": 333,
    "start_time": "2022-06-19T16:12:05.109Z"
   },
   {
    "duration": 14,
    "start_time": "2022-06-19T16:14:17.087Z"
   },
   {
    "duration": 5,
    "start_time": "2022-06-19T16:14:49.668Z"
   },
   {
    "duration": 10,
    "start_time": "2022-06-19T16:14:49.674Z"
   },
   {
    "duration": 3,
    "start_time": "2022-06-19T16:14:49.702Z"
   },
   {
    "duration": 783,
    "start_time": "2022-06-19T16:14:49.707Z"
   },
   {
    "duration": 13,
    "start_time": "2022-06-19T16:14:50.494Z"
   },
   {
    "duration": 9,
    "start_time": "2022-06-19T16:14:50.509Z"
   },
   {
    "duration": 101,
    "start_time": "2022-06-19T16:14:50.520Z"
   },
   {
    "duration": 144,
    "start_time": "2022-06-19T16:14:50.623Z"
   },
   {
    "duration": 134,
    "start_time": "2022-06-19T16:14:50.768Z"
   },
   {
    "duration": 223,
    "start_time": "2022-06-19T16:14:50.904Z"
   },
   {
    "duration": 146,
    "start_time": "2022-06-19T16:14:51.128Z"
   },
   {
    "duration": 31,
    "start_time": "2022-06-19T16:14:51.276Z"
   },
   {
    "duration": 392,
    "start_time": "2022-06-19T16:14:51.309Z"
   },
   {
    "duration": 14,
    "start_time": "2022-06-19T16:14:51.703Z"
   },
   {
    "duration": 26,
    "start_time": "2022-06-19T16:14:51.718Z"
   },
   {
    "duration": 351,
    "start_time": "2022-06-19T16:14:51.747Z"
   },
   {
    "duration": 14,
    "start_time": "2022-06-19T16:14:52.100Z"
   },
   {
    "duration": 35,
    "start_time": "2022-06-19T16:14:52.115Z"
   },
   {
    "duration": 8,
    "start_time": "2022-06-19T16:14:52.151Z"
   },
   {
    "duration": 37,
    "start_time": "2022-06-19T16:14:52.160Z"
   },
   {
    "duration": 6,
    "start_time": "2022-06-19T16:14:52.198Z"
   },
   {
    "duration": 51,
    "start_time": "2022-06-19T16:14:52.205Z"
   },
   {
    "duration": 13,
    "start_time": "2022-06-19T16:14:52.258Z"
   },
   {
    "duration": 28,
    "start_time": "2022-06-19T16:14:52.272Z"
   },
   {
    "duration": 443,
    "start_time": "2022-06-19T16:14:52.302Z"
   },
   {
    "duration": 103,
    "start_time": "2022-06-19T16:14:52.746Z"
   },
   {
    "duration": 82,
    "start_time": "2022-06-19T16:14:52.850Z"
   },
   {
    "duration": 61,
    "start_time": "2022-06-19T16:14:52.934Z"
   },
   {
    "duration": 11,
    "start_time": "2022-06-19T16:14:52.996Z"
   },
   {
    "duration": 130,
    "start_time": "2022-06-19T16:14:53.009Z"
   },
   {
    "duration": 35,
    "start_time": "2022-06-19T16:14:53.141Z"
   },
   {
    "duration": 22,
    "start_time": "2022-06-19T16:14:53.179Z"
   },
   {
    "duration": 50,
    "start_time": "2022-06-19T16:14:53.203Z"
   },
   {
    "duration": 72,
    "start_time": "2022-06-19T16:14:53.255Z"
   },
   {
    "duration": 16,
    "start_time": "2022-06-19T16:14:53.329Z"
   },
   {
    "duration": 110,
    "start_time": "2022-06-19T16:14:53.347Z"
   },
   {
    "duration": 62,
    "start_time": "2022-06-19T16:14:53.459Z"
   },
   {
    "duration": 11,
    "start_time": "2022-06-19T16:14:53.523Z"
   },
   {
    "duration": 27,
    "start_time": "2022-06-19T16:14:53.536Z"
   },
   {
    "duration": 10,
    "start_time": "2022-06-19T16:14:53.565Z"
   },
   {
    "duration": 27,
    "start_time": "2022-06-19T16:14:53.577Z"
   },
   {
    "duration": 125,
    "start_time": "2022-06-19T16:14:53.606Z"
   },
   {
    "duration": 239,
    "start_time": "2022-06-19T16:14:53.736Z"
   },
   {
    "duration": 19,
    "start_time": "2022-06-19T16:14:53.976Z"
   },
   {
    "duration": 19,
    "start_time": "2022-06-19T16:14:53.996Z"
   },
   {
    "duration": 141,
    "start_time": "2022-06-19T16:14:54.017Z"
   },
   {
    "duration": 215,
    "start_time": "2022-06-19T16:14:54.160Z"
   },
   {
    "duration": 23,
    "start_time": "2022-06-19T16:14:54.377Z"
   },
   {
    "duration": 19,
    "start_time": "2022-06-19T16:14:54.402Z"
   },
   {
    "duration": 129,
    "start_time": "2022-06-19T16:14:54.423Z"
   },
   {
    "duration": 219,
    "start_time": "2022-06-19T16:14:54.553Z"
   },
   {
    "duration": 22,
    "start_time": "2022-06-19T16:14:54.774Z"
   },
   {
    "duration": 18,
    "start_time": "2022-06-19T16:14:54.798Z"
   },
   {
    "duration": 20,
    "start_time": "2022-06-19T16:14:54.818Z"
   },
   {
    "duration": 16,
    "start_time": "2022-06-19T16:14:54.840Z"
   },
   {
    "duration": 337,
    "start_time": "2022-06-19T16:14:54.857Z"
   },
   {
    "duration": 13,
    "start_time": "2022-06-19T16:14:58.019Z"
   },
   {
    "duration": 29,
    "start_time": "2022-06-19T16:16:59.936Z"
   },
   {
    "duration": 54,
    "start_time": "2022-06-19T16:17:16.322Z"
   },
   {
    "duration": 32,
    "start_time": "2022-06-19T16:17:41.810Z"
   },
   {
    "duration": 68,
    "start_time": "2022-06-19T16:18:36.794Z"
   },
   {
    "duration": 62,
    "start_time": "2022-06-19T16:18:59.426Z"
   },
   {
    "duration": 60,
    "start_time": "2022-06-19T16:21:29.169Z"
   },
   {
    "duration": 6,
    "start_time": "2022-06-19T16:21:32.663Z"
   },
   {
    "duration": 62,
    "start_time": "2022-06-19T16:21:45.216Z"
   },
   {
    "duration": 9,
    "start_time": "2022-06-19T16:21:45.623Z"
   },
   {
    "duration": 62,
    "start_time": "2022-06-19T16:21:59.396Z"
   },
   {
    "duration": 9,
    "start_time": "2022-06-19T16:22:00.203Z"
   },
   {
    "duration": 63,
    "start_time": "2022-06-19T16:22:50.216Z"
   },
   {
    "duration": 13,
    "start_time": "2022-06-19T16:22:50.608Z"
   },
   {
    "duration": 64,
    "start_time": "2022-06-19T16:23:02.211Z"
   },
   {
    "duration": 11,
    "start_time": "2022-06-19T16:23:02.721Z"
   },
   {
    "duration": 59,
    "start_time": "2022-06-19T16:25:31.014Z"
   },
   {
    "duration": 11,
    "start_time": "2022-06-19T16:25:31.401Z"
   },
   {
    "duration": 8,
    "start_time": "2022-06-19T16:25:38.081Z"
   },
   {
    "duration": 340,
    "start_time": "2022-06-19T16:26:07.463Z"
   },
   {
    "duration": 3,
    "start_time": "2022-06-19T16:38:27.304Z"
   },
   {
    "duration": 5,
    "start_time": "2022-06-19T16:39:33.295Z"
   },
   {
    "duration": 5,
    "start_time": "2022-06-19T16:39:40.554Z"
   },
   {
    "duration": 9,
    "start_time": "2022-06-19T16:39:40.561Z"
   },
   {
    "duration": 7,
    "start_time": "2022-06-19T16:39:40.571Z"
   },
   {
    "duration": 767,
    "start_time": "2022-06-19T16:39:40.579Z"
   },
   {
    "duration": 13,
    "start_time": "2022-06-19T16:39:41.349Z"
   },
   {
    "duration": 9,
    "start_time": "2022-06-19T16:39:41.364Z"
   },
   {
    "duration": 104,
    "start_time": "2022-06-19T16:39:41.374Z"
   },
   {
    "duration": 144,
    "start_time": "2022-06-19T16:39:41.479Z"
   },
   {
    "duration": 132,
    "start_time": "2022-06-19T16:39:41.625Z"
   },
   {
    "duration": 231,
    "start_time": "2022-06-19T16:39:41.758Z"
   },
   {
    "duration": 156,
    "start_time": "2022-06-19T16:39:41.991Z"
   },
   {
    "duration": 22,
    "start_time": "2022-06-19T16:39:42.148Z"
   },
   {
    "duration": 431,
    "start_time": "2022-06-19T16:39:42.172Z"
   },
   {
    "duration": 14,
    "start_time": "2022-06-19T16:39:42.605Z"
   },
   {
    "duration": 30,
    "start_time": "2022-06-19T16:39:42.621Z"
   },
   {
    "duration": 349,
    "start_time": "2022-06-19T16:39:42.653Z"
   },
   {
    "duration": 13,
    "start_time": "2022-06-19T16:39:43.004Z"
   },
   {
    "duration": 33,
    "start_time": "2022-06-19T16:39:43.019Z"
   },
   {
    "duration": 7,
    "start_time": "2022-06-19T16:39:43.054Z"
   },
   {
    "duration": 33,
    "start_time": "2022-06-19T16:39:43.062Z"
   },
   {
    "duration": 11,
    "start_time": "2022-06-19T16:39:43.097Z"
   },
   {
    "duration": 26,
    "start_time": "2022-06-19T16:39:43.110Z"
   },
   {
    "duration": 13,
    "start_time": "2022-06-19T16:39:43.137Z"
   },
   {
    "duration": 14,
    "start_time": "2022-06-19T16:39:43.152Z"
   },
   {
    "duration": 410,
    "start_time": "2022-06-19T16:39:43.168Z"
   },
   {
    "duration": 95,
    "start_time": "2022-06-19T16:39:43.579Z"
   },
   {
    "duration": 85,
    "start_time": "2022-06-19T16:39:43.676Z"
   },
   {
    "duration": 58,
    "start_time": "2022-06-19T16:39:43.762Z"
   },
   {
    "duration": 11,
    "start_time": "2022-06-19T16:39:43.821Z"
   },
   {
    "duration": 135,
    "start_time": "2022-06-19T16:39:43.833Z"
   },
   {
    "duration": 44,
    "start_time": "2022-06-19T16:39:43.970Z"
   },
   {
    "duration": 12,
    "start_time": "2022-06-19T16:39:44.017Z"
   },
   {
    "duration": 39,
    "start_time": "2022-06-19T16:39:44.031Z"
   },
   {
    "duration": 91,
    "start_time": "2022-06-19T16:39:44.072Z"
   },
   {
    "duration": 16,
    "start_time": "2022-06-19T16:39:44.165Z"
   },
   {
    "duration": 116,
    "start_time": "2022-06-19T16:39:44.194Z"
   },
   {
    "duration": 47,
    "start_time": "2022-06-19T16:39:44.315Z"
   },
   {
    "duration": 9,
    "start_time": "2022-06-19T16:39:44.364Z"
   },
   {
    "duration": 34,
    "start_time": "2022-06-19T16:39:44.375Z"
   },
   {
    "duration": 10,
    "start_time": "2022-06-19T16:39:44.411Z"
   },
   {
    "duration": 22,
    "start_time": "2022-06-19T16:39:44.423Z"
   },
   {
    "duration": 124,
    "start_time": "2022-06-19T16:39:44.446Z"
   },
   {
    "duration": 240,
    "start_time": "2022-06-19T16:39:44.572Z"
   },
   {
    "duration": 15,
    "start_time": "2022-06-19T16:39:44.814Z"
   },
   {
    "duration": 25,
    "start_time": "2022-06-19T16:39:44.831Z"
   },
   {
    "duration": 144,
    "start_time": "2022-06-19T16:39:44.857Z"
   },
   {
    "duration": 243,
    "start_time": "2022-06-19T16:39:45.004Z"
   },
   {
    "duration": 16,
    "start_time": "2022-06-19T16:39:45.248Z"
   },
   {
    "duration": 30,
    "start_time": "2022-06-19T16:39:45.265Z"
   },
   {
    "duration": 112,
    "start_time": "2022-06-19T16:39:45.297Z"
   },
   {
    "duration": 220,
    "start_time": "2022-06-19T16:39:45.410Z"
   },
   {
    "duration": 15,
    "start_time": "2022-06-19T16:39:45.632Z"
   },
   {
    "duration": 20,
    "start_time": "2022-06-19T16:39:45.649Z"
   },
   {
    "duration": 32,
    "start_time": "2022-06-19T16:39:45.671Z"
   },
   {
    "duration": 16,
    "start_time": "2022-06-19T16:39:45.705Z"
   },
   {
    "duration": 320,
    "start_time": "2022-06-19T16:39:45.723Z"
   },
   {
    "duration": 15,
    "start_time": "2022-06-19T16:39:46.045Z"
   },
   {
    "duration": 68,
    "start_time": "2022-06-19T16:39:46.062Z"
   },
   {
    "duration": 7,
    "start_time": "2022-06-19T16:39:46.132Z"
   },
   {
    "duration": 16,
    "start_time": "2022-06-19T16:39:46.141Z"
   },
   {
    "duration": 4,
    "start_time": "2022-06-19T16:39:46.159Z"
   },
   {
    "duration": 58,
    "start_time": "2022-06-19T16:39:46.165Z"
   },
   {
    "duration": 5,
    "start_time": "2022-06-19T16:39:46.225Z"
   },
   {
    "duration": 14,
    "start_time": "2022-06-19T16:39:46.231Z"
   },
   {
    "duration": 48,
    "start_time": "2022-06-19T16:39:46.247Z"
   },
   {
    "duration": 5,
    "start_time": "2022-06-19T16:39:46.297Z"
   },
   {
    "duration": 10,
    "start_time": "2022-06-19T16:39:46.304Z"
   },
   {
    "duration": 10,
    "start_time": "2022-06-19T16:39:46.315Z"
   },
   {
    "duration": 7,
    "start_time": "2022-06-19T16:39:46.326Z"
   },
   {
    "duration": 62,
    "start_time": "2022-06-19T16:39:46.334Z"
   },
   {
    "duration": 32,
    "start_time": "2022-06-19T16:39:46.397Z"
   },
   {
    "duration": 32,
    "start_time": "2022-06-19T16:39:46.430Z"
   },
   {
    "duration": 51,
    "start_time": "2022-06-19T16:39:46.463Z"
   },
   {
    "duration": 30,
    "start_time": "2022-06-19T16:39:46.516Z"
   },
   {
    "duration": 4,
    "start_time": "2022-06-19T16:39:46.547Z"
   },
   {
    "duration": 3,
    "start_time": "2022-06-19T16:39:48.754Z"
   },
   {
    "duration": 4,
    "start_time": "2022-06-19T16:39:49.560Z"
   },
   {
    "duration": 4,
    "start_time": "2022-06-19T16:41:08.759Z"
   },
   {
    "duration": 2,
    "start_time": "2022-06-19T16:41:46.646Z"
   },
   {
    "duration": 2,
    "start_time": "2022-06-19T16:41:47.095Z"
   },
   {
    "duration": 3,
    "start_time": "2022-06-19T16:41:53.767Z"
   },
   {
    "duration": 3,
    "start_time": "2022-06-19T16:41:54.222Z"
   },
   {
    "duration": 26,
    "start_time": "2022-06-19T16:41:55.443Z"
   },
   {
    "duration": 5,
    "start_time": "2022-06-19T16:42:21.609Z"
   },
   {
    "duration": 8,
    "start_time": "2022-06-19T16:42:21.616Z"
   },
   {
    "duration": 10,
    "start_time": "2022-06-19T16:42:21.626Z"
   },
   {
    "duration": 768,
    "start_time": "2022-06-19T16:42:21.638Z"
   },
   {
    "duration": 12,
    "start_time": "2022-06-19T16:42:22.408Z"
   },
   {
    "duration": 8,
    "start_time": "2022-06-19T16:42:22.421Z"
   },
   {
    "duration": 119,
    "start_time": "2022-06-19T16:42:22.430Z"
   },
   {
    "duration": 126,
    "start_time": "2022-06-19T16:42:22.550Z"
   },
   {
    "duration": 132,
    "start_time": "2022-06-19T16:42:22.679Z"
   },
   {
    "duration": 224,
    "start_time": "2022-06-19T16:42:22.813Z"
   },
   {
    "duration": 148,
    "start_time": "2022-06-19T16:42:23.039Z"
   },
   {
    "duration": 26,
    "start_time": "2022-06-19T16:42:23.189Z"
   },
   {
    "duration": 405,
    "start_time": "2022-06-19T16:42:23.219Z"
   },
   {
    "duration": 14,
    "start_time": "2022-06-19T16:42:23.626Z"
   },
   {
    "duration": 25,
    "start_time": "2022-06-19T16:42:23.641Z"
   },
   {
    "duration": 385,
    "start_time": "2022-06-19T16:42:23.668Z"
   },
   {
    "duration": 15,
    "start_time": "2022-06-19T16:42:24.055Z"
   },
   {
    "duration": 47,
    "start_time": "2022-06-19T16:42:24.072Z"
   },
   {
    "duration": 7,
    "start_time": "2022-06-19T16:42:24.121Z"
   },
   {
    "duration": 10,
    "start_time": "2022-06-19T16:42:24.129Z"
   },
   {
    "duration": 5,
    "start_time": "2022-06-19T16:42:24.140Z"
   },
   {
    "duration": 71,
    "start_time": "2022-06-19T16:42:24.147Z"
   },
   {
    "duration": 13,
    "start_time": "2022-06-19T16:42:24.222Z"
   },
   {
    "duration": 15,
    "start_time": "2022-06-19T16:42:24.237Z"
   },
   {
    "duration": 446,
    "start_time": "2022-06-19T16:42:24.254Z"
   },
   {
    "duration": 109,
    "start_time": "2022-06-19T16:42:24.702Z"
   },
   {
    "duration": 83,
    "start_time": "2022-06-19T16:42:24.813Z"
   },
   {
    "duration": 43,
    "start_time": "2022-06-19T16:42:24.898Z"
   },
   {
    "duration": 10,
    "start_time": "2022-06-19T16:42:24.943Z"
   },
   {
    "duration": 140,
    "start_time": "2022-06-19T16:42:24.955Z"
   },
   {
    "duration": 35,
    "start_time": "2022-06-19T16:42:25.097Z"
   },
   {
    "duration": 11,
    "start_time": "2022-06-19T16:42:25.134Z"
   },
   {
    "duration": 49,
    "start_time": "2022-06-19T16:42:25.146Z"
   },
   {
    "duration": 78,
    "start_time": "2022-06-19T16:42:25.197Z"
   },
   {
    "duration": 27,
    "start_time": "2022-06-19T16:42:25.277Z"
   },
   {
    "duration": 112,
    "start_time": "2022-06-19T16:42:25.306Z"
   },
   {
    "duration": 45,
    "start_time": "2022-06-19T16:42:25.420Z"
   },
   {
    "duration": 10,
    "start_time": "2022-06-19T16:42:25.467Z"
   },
   {
    "duration": 43,
    "start_time": "2022-06-19T16:42:25.479Z"
   },
   {
    "duration": 13,
    "start_time": "2022-06-19T16:42:25.524Z"
   },
   {
    "duration": 19,
    "start_time": "2022-06-19T16:42:25.539Z"
   },
   {
    "duration": 131,
    "start_time": "2022-06-19T16:42:25.560Z"
   },
   {
    "duration": 240,
    "start_time": "2022-06-19T16:42:25.694Z"
   },
   {
    "duration": 16,
    "start_time": "2022-06-19T16:42:25.936Z"
   },
   {
    "duration": 21,
    "start_time": "2022-06-19T16:42:25.955Z"
   },
   {
    "duration": 141,
    "start_time": "2022-06-19T16:42:25.978Z"
   },
   {
    "duration": 239,
    "start_time": "2022-06-19T16:42:26.121Z"
   },
   {
    "duration": 34,
    "start_time": "2022-06-19T16:42:26.362Z"
   },
   {
    "duration": 37,
    "start_time": "2022-06-19T16:42:26.398Z"
   },
   {
    "duration": 113,
    "start_time": "2022-06-19T16:42:26.437Z"
   },
   {
    "duration": 214,
    "start_time": "2022-06-19T16:42:26.552Z"
   },
   {
    "duration": 34,
    "start_time": "2022-06-19T16:42:26.769Z"
   },
   {
    "duration": 31,
    "start_time": "2022-06-19T16:42:26.804Z"
   },
   {
    "duration": 26,
    "start_time": "2022-06-19T16:42:26.837Z"
   },
   {
    "duration": 30,
    "start_time": "2022-06-19T16:42:26.865Z"
   },
   {
    "duration": 340,
    "start_time": "2022-06-19T16:42:26.896Z"
   },
   {
    "duration": 13,
    "start_time": "2022-06-19T16:42:27.238Z"
   },
   {
    "duration": 73,
    "start_time": "2022-06-19T16:42:27.253Z"
   },
   {
    "duration": 8,
    "start_time": "2022-06-19T16:42:27.328Z"
   },
   {
    "duration": 19,
    "start_time": "2022-06-19T16:42:27.338Z"
   },
   {
    "duration": 6,
    "start_time": "2022-06-19T16:42:27.358Z"
   },
   {
    "duration": 61,
    "start_time": "2022-06-19T16:42:27.366Z"
   },
   {
    "duration": 5,
    "start_time": "2022-06-19T16:42:27.429Z"
   },
   {
    "duration": 12,
    "start_time": "2022-06-19T16:42:27.436Z"
   },
   {
    "duration": 56,
    "start_time": "2022-06-19T16:42:27.453Z"
   },
   {
    "duration": 5,
    "start_time": "2022-06-19T16:42:27.511Z"
   },
   {
    "duration": 13,
    "start_time": "2022-06-19T16:42:27.518Z"
   },
   {
    "duration": 16,
    "start_time": "2022-06-19T16:42:27.533Z"
   },
   {
    "duration": 6,
    "start_time": "2022-06-19T16:42:27.551Z"
   },
   {
    "duration": 58,
    "start_time": "2022-06-19T16:42:27.558Z"
   },
   {
    "duration": 31,
    "start_time": "2022-06-19T16:42:27.617Z"
   },
   {
    "duration": 45,
    "start_time": "2022-06-19T16:42:27.650Z"
   },
   {
    "duration": 34,
    "start_time": "2022-06-19T16:42:27.696Z"
   },
   {
    "duration": 33,
    "start_time": "2022-06-19T16:42:27.732Z"
   },
   {
    "duration": 4,
    "start_time": "2022-06-19T16:42:27.767Z"
   },
   {
    "duration": 6,
    "start_time": "2022-06-19T16:42:27.793Z"
   },
   {
    "duration": 83,
    "start_time": "2022-06-19T16:42:27.801Z"
   },
   {
    "duration": 3,
    "start_time": "2022-06-19T16:42:27.893Z"
   },
   {
    "duration": 10,
    "start_time": "2022-06-19T16:42:27.897Z"
   },
   {
    "duration": 98,
    "start_time": "2022-06-19T16:42:27.908Z"
   },
   {
    "duration": 55,
    "start_time": "2022-06-19T16:42:28.008Z"
   },
   {
    "duration": 43,
    "start_time": "2022-06-19T16:42:28.065Z"
   },
   {
    "duration": 3,
    "start_time": "2022-06-19T16:42:28.110Z"
   },
   {
    "duration": 19,
    "start_time": "2022-06-19T16:42:28.114Z"
   },
   {
    "duration": 0,
    "start_time": "2022-06-19T16:42:28.135Z"
   },
   {
    "duration": 0,
    "start_time": "2022-06-19T16:42:28.136Z"
   },
   {
    "duration": 0,
    "start_time": "2022-06-19T16:42:28.137Z"
   },
   {
    "duration": 5,
    "start_time": "2022-06-19T16:43:25.897Z"
   },
   {
    "duration": 7,
    "start_time": "2022-06-19T16:43:25.904Z"
   },
   {
    "duration": 5,
    "start_time": "2022-06-19T16:43:25.912Z"
   },
   {
    "duration": 786,
    "start_time": "2022-06-19T16:43:25.919Z"
   },
   {
    "duration": 13,
    "start_time": "2022-06-19T16:43:26.707Z"
   },
   {
    "duration": 7,
    "start_time": "2022-06-19T16:43:26.722Z"
   },
   {
    "duration": 105,
    "start_time": "2022-06-19T16:43:26.731Z"
   },
   {
    "duration": 125,
    "start_time": "2022-06-19T16:43:26.838Z"
   },
   {
    "duration": 130,
    "start_time": "2022-06-19T16:43:26.965Z"
   },
   {
    "duration": 234,
    "start_time": "2022-06-19T16:43:27.097Z"
   },
   {
    "duration": 152,
    "start_time": "2022-06-19T16:43:27.332Z"
   },
   {
    "duration": 28,
    "start_time": "2022-06-19T16:43:27.486Z"
   },
   {
    "duration": 392,
    "start_time": "2022-06-19T16:43:27.516Z"
   },
   {
    "duration": 14,
    "start_time": "2022-06-19T16:43:27.910Z"
   },
   {
    "duration": 25,
    "start_time": "2022-06-19T16:43:27.926Z"
   },
   {
    "duration": 378,
    "start_time": "2022-06-19T16:43:27.953Z"
   },
   {
    "duration": 14,
    "start_time": "2022-06-19T16:43:28.333Z"
   },
   {
    "duration": 45,
    "start_time": "2022-06-19T16:43:28.349Z"
   },
   {
    "duration": 7,
    "start_time": "2022-06-19T16:43:28.395Z"
   },
   {
    "duration": 8,
    "start_time": "2022-06-19T16:43:28.404Z"
   },
   {
    "duration": 5,
    "start_time": "2022-06-19T16:43:28.413Z"
   },
   {
    "duration": 23,
    "start_time": "2022-06-19T16:43:28.420Z"
   },
   {
    "duration": 12,
    "start_time": "2022-06-19T16:43:28.445Z"
   },
   {
    "duration": 40,
    "start_time": "2022-06-19T16:43:28.461Z"
   },
   {
    "duration": 448,
    "start_time": "2022-06-19T16:43:28.503Z"
   },
   {
    "duration": 128,
    "start_time": "2022-06-19T16:43:28.953Z"
   },
   {
    "duration": 120,
    "start_time": "2022-06-19T16:43:29.083Z"
   },
   {
    "duration": 51,
    "start_time": "2022-06-19T16:43:29.205Z"
   },
   {
    "duration": 14,
    "start_time": "2022-06-19T16:43:29.258Z"
   },
   {
    "duration": 139,
    "start_time": "2022-06-19T16:43:29.274Z"
   },
   {
    "duration": 37,
    "start_time": "2022-06-19T16:43:29.415Z"
   },
   {
    "duration": 11,
    "start_time": "2022-06-19T16:43:29.454Z"
   },
   {
    "duration": 72,
    "start_time": "2022-06-19T16:43:29.466Z"
   },
   {
    "duration": 76,
    "start_time": "2022-06-19T16:43:29.540Z"
   },
   {
    "duration": 17,
    "start_time": "2022-06-19T16:43:29.618Z"
   },
   {
    "duration": 115,
    "start_time": "2022-06-19T16:43:29.637Z"
   },
   {
    "duration": 48,
    "start_time": "2022-06-19T16:43:29.754Z"
   },
   {
    "duration": 10,
    "start_time": "2022-06-19T16:43:29.804Z"
   },
   {
    "duration": 28,
    "start_time": "2022-06-19T16:43:29.815Z"
   },
   {
    "duration": 12,
    "start_time": "2022-06-19T16:43:29.845Z"
   },
   {
    "duration": 37,
    "start_time": "2022-06-19T16:43:29.858Z"
   },
   {
    "duration": 111,
    "start_time": "2022-06-19T16:43:29.897Z"
   },
   {
    "duration": 255,
    "start_time": "2022-06-19T16:43:30.010Z"
   },
   {
    "duration": 28,
    "start_time": "2022-06-19T16:43:30.267Z"
   },
   {
    "duration": 22,
    "start_time": "2022-06-19T16:43:30.297Z"
   },
   {
    "duration": 131,
    "start_time": "2022-06-19T16:43:30.321Z"
   },
   {
    "duration": 227,
    "start_time": "2022-06-19T16:43:30.454Z"
   },
   {
    "duration": 24,
    "start_time": "2022-06-19T16:43:30.683Z"
   },
   {
    "duration": 28,
    "start_time": "2022-06-19T16:43:30.709Z"
   },
   {
    "duration": 128,
    "start_time": "2022-06-19T16:43:30.739Z"
   },
   {
    "duration": 238,
    "start_time": "2022-06-19T16:43:30.868Z"
   },
   {
    "duration": 17,
    "start_time": "2022-06-19T16:43:31.108Z"
   },
   {
    "duration": 24,
    "start_time": "2022-06-19T16:43:31.126Z"
   },
   {
    "duration": 44,
    "start_time": "2022-06-19T16:43:31.152Z"
   },
   {
    "duration": 42,
    "start_time": "2022-06-19T16:43:31.199Z"
   },
   {
    "duration": 328,
    "start_time": "2022-06-19T16:43:31.243Z"
   },
   {
    "duration": 22,
    "start_time": "2022-06-19T16:43:31.573Z"
   },
   {
    "duration": 72,
    "start_time": "2022-06-19T16:43:31.597Z"
   },
   {
    "duration": 8,
    "start_time": "2022-06-19T16:43:31.671Z"
   },
   {
    "duration": 31,
    "start_time": "2022-06-19T16:43:31.681Z"
   },
   {
    "duration": 15,
    "start_time": "2022-06-19T16:43:31.714Z"
   },
   {
    "duration": 52,
    "start_time": "2022-06-19T16:43:31.730Z"
   },
   {
    "duration": 5,
    "start_time": "2022-06-19T16:43:31.783Z"
   },
   {
    "duration": 15,
    "start_time": "2022-06-19T16:43:31.790Z"
   },
   {
    "duration": 36,
    "start_time": "2022-06-19T16:43:31.806Z"
   },
   {
    "duration": 5,
    "start_time": "2022-06-19T16:43:31.844Z"
   },
   {
    "duration": 12,
    "start_time": "2022-06-19T16:43:31.850Z"
   },
   {
    "duration": 11,
    "start_time": "2022-06-19T16:43:31.863Z"
   },
   {
    "duration": 23,
    "start_time": "2022-06-19T16:43:31.879Z"
   },
   {
    "duration": 59,
    "start_time": "2022-06-19T16:43:31.903Z"
   },
   {
    "duration": 35,
    "start_time": "2022-06-19T16:43:31.964Z"
   },
   {
    "duration": 51,
    "start_time": "2022-06-19T16:43:32.001Z"
   },
   {
    "duration": 53,
    "start_time": "2022-06-19T16:43:32.054Z"
   },
   {
    "duration": 37,
    "start_time": "2022-06-19T16:43:32.109Z"
   },
   {
    "duration": 3,
    "start_time": "2022-06-19T16:43:32.148Z"
   },
   {
    "duration": 7,
    "start_time": "2022-06-19T16:43:32.153Z"
   },
   {
    "duration": 131,
    "start_time": "2022-06-19T16:43:32.162Z"
   },
   {
    "duration": 3,
    "start_time": "2022-06-19T16:43:32.295Z"
   },
   {
    "duration": 9,
    "start_time": "2022-06-19T16:43:32.300Z"
   },
   {
    "duration": 578,
    "start_time": "2022-06-19T16:43:32.311Z"
   },
   {
    "duration": 414,
    "start_time": "2022-06-19T16:43:32.893Z"
   },
   {
    "duration": 148,
    "start_time": "2022-06-19T16:43:33.309Z"
   },
   {
    "duration": 3,
    "start_time": "2022-06-19T16:43:33.459Z"
   },
   {
    "duration": 30,
    "start_time": "2022-06-19T16:43:33.464Z"
   },
   {
    "duration": 3,
    "start_time": "2022-06-19T16:43:33.496Z"
   },
   {
    "duration": 6,
    "start_time": "2022-06-19T16:43:33.500Z"
   },
   {
    "duration": 25194,
    "start_time": "2022-06-19T16:43:33.508Z"
   },
   {
    "duration": 493,
    "start_time": "2022-06-19T16:43:58.704Z"
   },
   {
    "duration": 136,
    "start_time": "2022-06-19T16:44:11.425Z"
   },
   {
    "duration": 6,
    "start_time": "2022-06-19T16:44:21.350Z"
   },
   {
    "duration": 5,
    "start_time": "2022-06-19T16:44:27.901Z"
   },
   {
    "duration": 5,
    "start_time": "2022-06-19T16:52:55.344Z"
   },
   {
    "duration": 5,
    "start_time": "2022-06-19T16:58:32.529Z"
   },
   {
    "duration": 4,
    "start_time": "2022-06-19T17:11:43.738Z"
   },
   {
    "duration": 3,
    "start_time": "2022-06-19T17:11:50.209Z"
   },
   {
    "duration": 10398,
    "start_time": "2022-06-19T17:11:55.298Z"
   },
   {
    "duration": 3,
    "start_time": "2022-06-19T17:12:35.821Z"
   },
   {
    "duration": 185950,
    "start_time": "2022-06-19T17:12:40.385Z"
   },
   {
    "duration": 1698,
    "start_time": "2022-06-19T17:15:46.367Z"
   },
   {
    "duration": 572,
    "start_time": "2022-06-19T17:15:48.067Z"
   },
   {
    "duration": 14,
    "start_time": "2022-06-19T17:15:48.641Z"
   },
   {
    "duration": 15,
    "start_time": "2022-06-19T17:16:32.896Z"
   },
   {
    "duration": 2,
    "start_time": "2022-06-19T17:20:14.675Z"
   },
   {
    "duration": 37,
    "start_time": "2022-06-19T17:20:20.205Z"
   },
   {
    "duration": 4,
    "start_time": "2022-06-19T17:22:22.973Z"
   },
   {
    "duration": 35,
    "start_time": "2022-06-19T17:22:25.352Z"
   },
   {
    "duration": 29,
    "start_time": "2022-06-19T17:29:48.968Z"
   },
   {
    "duration": 185,
    "start_time": "2022-06-19T17:30:03.832Z"
   },
   {
    "duration": 80,
    "start_time": "2022-06-19T17:30:22.281Z"
   },
   {
    "duration": 245,
    "start_time": "2022-06-19T17:31:12.432Z"
   },
   {
    "duration": 34662,
    "start_time": "2022-06-19T17:31:20.480Z"
   },
   {
    "duration": 3,
    "start_time": "2022-06-19T17:32:30.956Z"
   },
   {
    "duration": 3,
    "start_time": "2022-06-19T17:33:12.773Z"
   },
   {
    "duration": 380447,
    "start_time": "2022-06-19T17:33:13.060Z"
   },
   {
    "duration": 2433,
    "start_time": "2022-06-19T17:39:33.679Z"
   },
   {
    "duration": 990,
    "start_time": "2022-06-19T17:39:36.114Z"
   },
   {
    "duration": 15,
    "start_time": "2022-06-19T17:39:37.106Z"
   },
   {
    "duration": 14,
    "start_time": "2022-06-19T18:00:00.128Z"
   },
   {
    "duration": 87,
    "start_time": "2022-06-19T18:03:42.269Z"
   },
   {
    "duration": 3393,
    "start_time": "2022-06-19T18:04:19.692Z"
   },
   {
    "duration": 3832,
    "start_time": "2022-06-19T18:04:53.100Z"
   },
   {
    "duration": 31,
    "start_time": "2022-06-19T18:06:38.210Z"
   },
   {
    "duration": 43,
    "start_time": "2022-06-19T18:07:43.257Z"
   },
   {
    "duration": 154,
    "start_time": "2022-06-19T18:08:17.419Z"
   },
   {
    "duration": 146,
    "start_time": "2022-06-19T18:08:24.202Z"
   },
   {
    "duration": 174,
    "start_time": "2022-06-19T18:08:52.594Z"
   },
   {
    "duration": 5,
    "start_time": "2022-06-19T18:10:14.698Z"
   },
   {
    "duration": 178,
    "start_time": "2022-06-19T18:10:18.392Z"
   },
   {
    "duration": 182,
    "start_time": "2022-06-19T18:10:53.275Z"
   },
   {
    "duration": 176,
    "start_time": "2022-06-19T18:12:01.505Z"
   },
   {
    "duration": 174,
    "start_time": "2022-06-19T18:12:28.520Z"
   },
   {
    "duration": 1383,
    "start_time": "2022-06-19T18:14:26.246Z"
   },
   {
    "duration": 3,
    "start_time": "2022-06-19T18:14:27.630Z"
   },
   {
    "duration": 7,
    "start_time": "2022-06-19T18:14:27.636Z"
   },
   {
    "duration": 875,
    "start_time": "2022-06-19T18:14:27.646Z"
   },
   {
    "duration": 21,
    "start_time": "2022-06-19T18:14:28.523Z"
   },
   {
    "duration": 10,
    "start_time": "2022-06-19T18:14:28.546Z"
   },
   {
    "duration": 156,
    "start_time": "2022-06-19T18:14:28.558Z"
   },
   {
    "duration": 133,
    "start_time": "2022-06-19T18:14:28.716Z"
   },
   {
    "duration": 256,
    "start_time": "2022-06-19T18:14:28.850Z"
   },
   {
    "duration": 284,
    "start_time": "2022-06-19T18:14:29.110Z"
   },
   {
    "duration": 201,
    "start_time": "2022-06-19T18:14:29.396Z"
   },
   {
    "duration": 23,
    "start_time": "2022-06-19T18:14:29.599Z"
   },
   {
    "duration": 464,
    "start_time": "2022-06-19T18:14:29.623Z"
   },
   {
    "duration": 18,
    "start_time": "2022-06-19T18:14:30.089Z"
   },
   {
    "duration": 32,
    "start_time": "2022-06-19T18:14:30.109Z"
   },
   {
    "duration": 475,
    "start_time": "2022-06-19T18:14:30.142Z"
   },
   {
    "duration": 15,
    "start_time": "2022-06-19T18:14:30.619Z"
   },
   {
    "duration": 59,
    "start_time": "2022-06-19T18:14:30.637Z"
   },
   {
    "duration": 9,
    "start_time": "2022-06-19T18:14:30.698Z"
   },
   {
    "duration": 15,
    "start_time": "2022-06-19T18:14:30.709Z"
   },
   {
    "duration": 10,
    "start_time": "2022-06-19T18:14:30.726Z"
   },
   {
    "duration": 87,
    "start_time": "2022-06-19T18:14:30.738Z"
   },
   {
    "duration": 14,
    "start_time": "2022-06-19T18:14:30.827Z"
   },
   {
    "duration": 19,
    "start_time": "2022-06-19T18:14:30.843Z"
   },
   {
    "duration": 484,
    "start_time": "2022-06-19T18:14:30.864Z"
   },
   {
    "duration": 114,
    "start_time": "2022-06-19T18:14:31.350Z"
   },
   {
    "duration": 103,
    "start_time": "2022-06-19T18:14:31.465Z"
   },
   {
    "duration": 70,
    "start_time": "2022-06-19T18:14:31.573Z"
   },
   {
    "duration": 12,
    "start_time": "2022-06-19T18:14:31.645Z"
   },
   {
    "duration": 152,
    "start_time": "2022-06-19T18:14:31.659Z"
   },
   {
    "duration": 46,
    "start_time": "2022-06-19T18:14:31.813Z"
   },
   {
    "duration": 13,
    "start_time": "2022-06-19T18:14:31.861Z"
   },
   {
    "duration": 33,
    "start_time": "2022-06-19T18:14:31.894Z"
   },
   {
    "duration": 98,
    "start_time": "2022-06-19T18:14:31.929Z"
   },
   {
    "duration": 18,
    "start_time": "2022-06-19T18:14:32.029Z"
   },
   {
    "duration": 122,
    "start_time": "2022-06-19T18:14:32.049Z"
   },
   {
    "duration": 57,
    "start_time": "2022-06-19T18:14:32.173Z"
   },
   {
    "duration": 14,
    "start_time": "2022-06-19T18:14:32.232Z"
   },
   {
    "duration": 24,
    "start_time": "2022-06-19T18:14:32.247Z"
   },
   {
    "duration": 25,
    "start_time": "2022-06-19T18:14:32.273Z"
   },
   {
    "duration": 23,
    "start_time": "2022-06-19T18:14:32.300Z"
   },
   {
    "duration": 146,
    "start_time": "2022-06-19T18:14:32.325Z"
   },
   {
    "duration": 262,
    "start_time": "2022-06-19T18:14:32.473Z"
   },
   {
    "duration": 18,
    "start_time": "2022-06-19T18:14:32.737Z"
   },
   {
    "duration": 19,
    "start_time": "2022-06-19T18:14:32.757Z"
   },
   {
    "duration": 145,
    "start_time": "2022-06-19T18:14:32.777Z"
   },
   {
    "duration": 217,
    "start_time": "2022-06-19T18:14:32.923Z"
   },
   {
    "duration": 17,
    "start_time": "2022-06-19T18:14:33.142Z"
   },
   {
    "duration": 19,
    "start_time": "2022-06-19T18:14:33.160Z"
   },
   {
    "duration": 134,
    "start_time": "2022-06-19T18:14:33.181Z"
   },
   {
    "duration": 265,
    "start_time": "2022-06-19T18:14:33.318Z"
   },
   {
    "duration": 23,
    "start_time": "2022-06-19T18:14:33.585Z"
   },
   {
    "duration": 32,
    "start_time": "2022-06-19T18:14:33.610Z"
   },
   {
    "duration": 33,
    "start_time": "2022-06-19T18:14:33.644Z"
   },
   {
    "duration": 33,
    "start_time": "2022-06-19T18:14:33.678Z"
   },
   {
    "duration": 326,
    "start_time": "2022-06-19T18:14:33.713Z"
   },
   {
    "duration": 13,
    "start_time": "2022-06-19T18:14:34.041Z"
   },
   {
    "duration": 77,
    "start_time": "2022-06-19T18:14:34.055Z"
   },
   {
    "duration": 8,
    "start_time": "2022-06-19T18:14:34.134Z"
   },
   {
    "duration": 15,
    "start_time": "2022-06-19T18:14:34.144Z"
   },
   {
    "duration": 5,
    "start_time": "2022-06-19T18:14:34.161Z"
   },
   {
    "duration": 59,
    "start_time": "2022-06-19T18:14:34.167Z"
   },
   {
    "duration": 5,
    "start_time": "2022-06-19T18:14:34.228Z"
   },
   {
    "duration": 13,
    "start_time": "2022-06-19T18:14:34.234Z"
   },
   {
    "duration": 55,
    "start_time": "2022-06-19T18:14:34.249Z"
   },
   {
    "duration": 5,
    "start_time": "2022-06-19T18:14:34.306Z"
   },
   {
    "duration": 13,
    "start_time": "2022-06-19T18:14:34.313Z"
   },
   {
    "duration": 11,
    "start_time": "2022-06-19T18:14:34.327Z"
   },
   {
    "duration": 7,
    "start_time": "2022-06-19T18:14:34.340Z"
   },
   {
    "duration": 64,
    "start_time": "2022-06-19T18:14:34.349Z"
   },
   {
    "duration": 35,
    "start_time": "2022-06-19T18:14:34.415Z"
   },
   {
    "duration": 53,
    "start_time": "2022-06-19T18:14:34.452Z"
   },
   {
    "duration": 35,
    "start_time": "2022-06-19T18:14:34.507Z"
   },
   {
    "duration": 51,
    "start_time": "2022-06-19T18:14:34.543Z"
   },
   {
    "duration": 4,
    "start_time": "2022-06-19T18:14:34.596Z"
   },
   {
    "duration": 7,
    "start_time": "2022-06-19T18:14:34.602Z"
   },
   {
    "duration": 133,
    "start_time": "2022-06-19T18:14:34.610Z"
   },
   {
    "duration": 3,
    "start_time": "2022-06-19T18:14:34.745Z"
   },
   {
    "duration": 6,
    "start_time": "2022-06-19T18:14:34.750Z"
   },
   {
    "duration": 568,
    "start_time": "2022-06-19T18:14:34.757Z"
   },
   {
    "duration": 446,
    "start_time": "2022-06-19T18:14:35.327Z"
   },
   {
    "duration": 161,
    "start_time": "2022-06-19T18:14:35.780Z"
   },
   {
    "duration": 4,
    "start_time": "2022-06-19T18:14:35.943Z"
   },
   {
    "duration": 38,
    "start_time": "2022-06-19T18:14:35.948Z"
   },
   {
    "duration": 2,
    "start_time": "2022-06-19T18:14:35.988Z"
   },
   {
    "duration": 10,
    "start_time": "2022-06-19T18:14:35.991Z"
   },
   {
    "duration": 27902,
    "start_time": "2022-06-19T18:14:36.002Z"
   },
   {
    "duration": 522,
    "start_time": "2022-06-19T18:15:03.905Z"
   },
   {
    "duration": 165,
    "start_time": "2022-06-19T18:15:04.429Z"
   },
   {
    "duration": 17,
    "start_time": "2022-06-19T18:15:04.596Z"
   },
   {
    "duration": 12,
    "start_time": "2022-06-19T18:15:04.615Z"
   },
   {
    "duration": 10,
    "start_time": "2022-06-19T18:15:04.629Z"
   },
   {
    "duration": 28258,
    "start_time": "2022-06-19T18:15:04.640Z"
   },
   {
    "duration": 467,
    "start_time": "2022-06-19T18:15:32.899Z"
   },
   {
    "duration": 158,
    "start_time": "2022-06-19T18:15:33.367Z"
   },
   {
    "duration": 15,
    "start_time": "2022-06-19T18:15:33.526Z"
   },
   {
    "duration": 3,
    "start_time": "2022-06-19T18:15:33.542Z"
   },
   {
    "duration": 11,
    "start_time": "2022-06-19T18:15:33.546Z"
   },
   {
    "duration": 88748,
    "start_time": "2022-06-19T18:15:33.558Z"
   },
   {
    "duration": 510,
    "start_time": "2022-06-19T18:17:02.308Z"
   },
   {
    "duration": 197,
    "start_time": "2022-06-19T18:17:02.820Z"
   },
   {
    "duration": 21,
    "start_time": "2022-06-19T18:17:03.019Z"
   },
   {
    "duration": 3,
    "start_time": "2022-06-19T18:17:03.042Z"
   },
   {
    "duration": 7,
    "start_time": "2022-06-19T18:17:03.047Z"
   },
   {
    "duration": 1069,
    "start_time": "2022-06-19T18:17:03.056Z"
   },
   {
    "duration": 487,
    "start_time": "2022-06-19T18:17:04.127Z"
   },
   {
    "duration": 183,
    "start_time": "2022-06-19T18:17:04.616Z"
   },
   {
    "duration": 18,
    "start_time": "2022-06-19T18:17:04.800Z"
   },
   {
    "duration": 7,
    "start_time": "2022-06-19T18:17:04.820Z"
   },
   {
    "duration": 8,
    "start_time": "2022-06-19T18:17:04.829Z"
   },
   {
    "duration": 3890,
    "start_time": "2022-06-19T18:17:04.840Z"
   },
   {
    "duration": 528,
    "start_time": "2022-06-19T18:17:08.732Z"
   },
   {
    "duration": 165,
    "start_time": "2022-06-19T18:17:09.262Z"
   },
   {
    "duration": 15,
    "start_time": "2022-06-19T18:17:09.429Z"
   },
   {
    "duration": 2,
    "start_time": "2022-06-19T18:17:09.446Z"
   },
   {
    "duration": 7,
    "start_time": "2022-06-19T18:17:09.450Z"
   },
   {
    "duration": 1556,
    "start_time": "2022-06-19T18:17:09.458Z"
   },
   {
    "duration": 510,
    "start_time": "2022-06-19T18:17:11.015Z"
   },
   {
    "duration": 185,
    "start_time": "2022-06-19T18:17:11.527Z"
   },
   {
    "duration": 17,
    "start_time": "2022-06-19T18:17:11.714Z"
   },
   {
    "duration": 3,
    "start_time": "2022-06-19T18:17:11.733Z"
   },
   {
    "duration": 7,
    "start_time": "2022-06-19T18:17:11.738Z"
   },
   {
    "duration": 14,
    "start_time": "2022-06-19T18:17:11.746Z"
   },
   {
    "duration": 10139,
    "start_time": "2022-06-19T18:17:11.763Z"
   },
   {
    "duration": 4,
    "start_time": "2022-06-19T18:17:21.903Z"
   },
   {
    "duration": 424,
    "start_time": "2022-06-19T18:17:21.908Z"
   },
   {
    "duration": 167,
    "start_time": "2022-06-19T18:17:22.334Z"
   },
   {
    "duration": 16,
    "start_time": "2022-06-19T18:17:22.503Z"
   },
   {
    "duration": 4,
    "start_time": "2022-06-19T18:17:22.520Z"
   },
   {
    "duration": 7,
    "start_time": "2022-06-19T18:17:22.527Z"
   },
   {
    "duration": 4283,
    "start_time": "2022-06-19T18:17:22.536Z"
   },
   {
    "duration": 1021,
    "start_time": "2022-06-19T18:17:26.821Z"
   },
   {
    "duration": 354,
    "start_time": "2022-06-19T18:17:27.844Z"
   },
   {
    "duration": 16,
    "start_time": "2022-06-19T18:17:28.200Z"
   },
   {
    "duration": 4,
    "start_time": "2022-06-19T18:17:28.217Z"
   },
   {
    "duration": 7,
    "start_time": "2022-06-19T18:17:28.222Z"
   },
   {
    "duration": 6982,
    "start_time": "2022-06-19T18:17:28.231Z"
   },
   {
    "duration": 4,
    "start_time": "2022-06-19T18:17:35.215Z"
   },
   {
    "duration": 553,
    "start_time": "2022-06-19T18:17:35.221Z"
   },
   {
    "duration": 190,
    "start_time": "2022-06-19T18:17:35.776Z"
   },
   {
    "duration": 27,
    "start_time": "2022-06-19T18:17:35.969Z"
   },
   {
    "duration": 4,
    "start_time": "2022-06-19T18:17:35.998Z"
   },
   {
    "duration": 17,
    "start_time": "2022-06-19T18:17:36.005Z"
   },
   {
    "duration": 37293,
    "start_time": "2022-06-19T18:17:36.024Z"
   },
   {
    "duration": 1095,
    "start_time": "2022-06-19T18:18:13.319Z"
   },
   {
    "duration": 366,
    "start_time": "2022-06-19T18:18:14.416Z"
   },
   {
    "duration": 19,
    "start_time": "2022-06-19T18:18:14.783Z"
   },
   {
    "duration": 3,
    "start_time": "2022-06-19T18:18:14.804Z"
   },
   {
    "duration": 7,
    "start_time": "2022-06-19T18:18:14.809Z"
   },
   {
    "duration": 60482,
    "start_time": "2022-06-19T18:18:14.818Z"
   },
   {
    "duration": 5,
    "start_time": "2022-06-19T18:19:15.301Z"
   },
   {
    "duration": 902,
    "start_time": "2022-06-19T18:19:15.308Z"
   },
   {
    "duration": 302,
    "start_time": "2022-06-19T18:19:16.212Z"
   },
   {
    "duration": 21,
    "start_time": "2022-06-19T18:19:16.516Z"
   },
   {
    "duration": 3,
    "start_time": "2022-06-19T18:19:16.539Z"
   },
   {
    "duration": 202253,
    "start_time": "2022-06-19T18:19:16.544Z"
   },
   {
    "duration": 2247,
    "start_time": "2022-06-19T18:22:38.799Z"
   },
   {
    "duration": 784,
    "start_time": "2022-06-19T18:22:41.049Z"
   },
   {
    "duration": 31,
    "start_time": "2022-06-19T18:22:41.835Z"
   },
   {
    "duration": 11,
    "start_time": "2022-06-19T18:22:41.869Z"
   },
   {
    "duration": 16,
    "start_time": "2022-06-19T18:22:41.883Z"
   },
   {
    "duration": 466749,
    "start_time": "2022-06-19T18:22:41.901Z"
   },
   {
    "duration": 2547,
    "start_time": "2022-06-19T18:30:28.652Z"
   },
   {
    "duration": 830,
    "start_time": "2022-06-19T18:30:31.201Z"
   },
   {
    "duration": 23,
    "start_time": "2022-06-19T18:30:32.103Z"
   },
   {
    "duration": 3,
    "start_time": "2022-06-19T18:30:32.128Z"
   },
   {
    "duration": 10,
    "start_time": "2022-06-19T18:30:32.134Z"
   },
   {
    "duration": 328583,
    "start_time": "2022-06-19T18:30:32.146Z"
   },
   {
    "duration": 4,
    "start_time": "2022-06-19T18:36:00.731Z"
   },
   {
    "duration": 797,
    "start_time": "2022-06-19T18:36:00.737Z"
   },
   {
    "duration": 287,
    "start_time": "2022-06-19T18:36:01.536Z"
   },
   {
    "duration": 89,
    "start_time": "2022-06-19T18:36:01.825Z"
   },
   {
    "duration": 48,
    "start_time": "2022-06-19T18:36:01.920Z"
   },
   {
    "duration": 375238,
    "start_time": "2022-06-19T18:36:01.970Z"
   },
   {
    "duration": 2391,
    "start_time": "2022-06-19T18:42:17.211Z"
   },
   {
    "duration": 909,
    "start_time": "2022-06-19T18:42:19.604Z"
   },
   {
    "duration": 21,
    "start_time": "2022-06-19T18:42:20.514Z"
   },
   {
    "duration": 11,
    "start_time": "2022-06-19T18:42:20.537Z"
   },
   {
    "duration": 259,
    "start_time": "2022-06-19T18:42:20.549Z"
   },
   {
    "duration": 207,
    "start_time": "2022-06-19T18:42:20.816Z"
   },
   {
    "duration": 193,
    "start_time": "2022-06-19T18:42:21.025Z"
   },
   {
    "duration": 191,
    "start_time": "2022-06-19T18:54:16.457Z"
   },
   {
    "duration": 235,
    "start_time": "2022-06-19T18:54:29.468Z"
   },
   {
    "duration": 209,
    "start_time": "2022-06-19T18:55:08.048Z"
   },
   {
    "duration": 252,
    "start_time": "2022-06-19T18:55:19.103Z"
   },
   {
    "duration": 11,
    "start_time": "2022-06-19T18:58:30.174Z"
   },
   {
    "duration": 13,
    "start_time": "2022-06-19T19:07:33.110Z"
   },
   {
    "duration": 12,
    "start_time": "2022-06-19T19:17:55.162Z"
   },
   {
    "duration": 1607,
    "start_time": "2022-06-19T19:28:13.432Z"
   },
   {
    "duration": 3,
    "start_time": "2022-06-19T19:28:15.042Z"
   },
   {
    "duration": 10,
    "start_time": "2022-06-19T19:28:15.047Z"
   },
   {
    "duration": 959,
    "start_time": "2022-06-19T19:28:15.060Z"
   },
   {
    "duration": 18,
    "start_time": "2022-06-19T19:28:16.020Z"
   },
   {
    "duration": 7,
    "start_time": "2022-06-19T19:28:16.039Z"
   },
   {
    "duration": 169,
    "start_time": "2022-06-19T19:28:16.047Z"
   },
   {
    "duration": 148,
    "start_time": "2022-06-19T19:28:16.218Z"
   },
   {
    "duration": 140,
    "start_time": "2022-06-19T19:28:16.368Z"
   },
   {
    "duration": 264,
    "start_time": "2022-06-19T19:28:16.510Z"
   },
   {
    "duration": 204,
    "start_time": "2022-06-19T19:28:16.776Z"
   },
   {
    "duration": 34,
    "start_time": "2022-06-19T19:28:16.982Z"
   },
   {
    "duration": 463,
    "start_time": "2022-06-19T19:28:17.017Z"
   },
   {
    "duration": 29,
    "start_time": "2022-06-19T19:28:17.482Z"
   },
   {
    "duration": 36,
    "start_time": "2022-06-19T19:28:17.514Z"
   },
   {
    "duration": 469,
    "start_time": "2022-06-19T19:28:17.552Z"
   },
   {
    "duration": 15,
    "start_time": "2022-06-19T19:28:18.023Z"
   },
   {
    "duration": 37,
    "start_time": "2022-06-19T19:28:18.040Z"
   },
   {
    "duration": 12,
    "start_time": "2022-06-19T19:28:18.094Z"
   },
   {
    "duration": 15,
    "start_time": "2022-06-19T19:28:18.108Z"
   },
   {
    "duration": 7,
    "start_time": "2022-06-19T19:28:18.124Z"
   },
   {
    "duration": 82,
    "start_time": "2022-06-19T19:28:18.132Z"
   },
   {
    "duration": 13,
    "start_time": "2022-06-19T19:28:18.216Z"
   },
   {
    "duration": 19,
    "start_time": "2022-06-19T19:28:18.231Z"
   },
   {
    "duration": 512,
    "start_time": "2022-06-19T19:28:18.252Z"
   },
   {
    "duration": 164,
    "start_time": "2022-06-19T19:28:18.766Z"
   },
   {
    "duration": 150,
    "start_time": "2022-06-19T19:28:18.932Z"
   },
   {
    "duration": 68,
    "start_time": "2022-06-19T19:28:19.088Z"
   },
   {
    "duration": 18,
    "start_time": "2022-06-19T19:28:19.161Z"
   },
   {
    "duration": 227,
    "start_time": "2022-06-19T19:28:19.196Z"
   },
   {
    "duration": 45,
    "start_time": "2022-06-19T19:28:19.424Z"
   },
   {
    "duration": 11,
    "start_time": "2022-06-19T19:28:19.471Z"
   },
   {
    "duration": 64,
    "start_time": "2022-06-19T19:28:19.484Z"
   },
   {
    "duration": 93,
    "start_time": "2022-06-19T19:28:19.550Z"
   },
   {
    "duration": 17,
    "start_time": "2022-06-19T19:28:19.645Z"
   },
   {
    "duration": 133,
    "start_time": "2022-06-19T19:28:19.664Z"
   },
   {
    "duration": 55,
    "start_time": "2022-06-19T19:28:19.806Z"
   },
   {
    "duration": 14,
    "start_time": "2022-06-19T19:28:19.863Z"
   },
   {
    "duration": 32,
    "start_time": "2022-06-19T19:28:19.879Z"
   },
   {
    "duration": 15,
    "start_time": "2022-06-19T19:28:19.913Z"
   },
   {
    "duration": 19,
    "start_time": "2022-06-19T19:28:19.930Z"
   },
   {
    "duration": 174,
    "start_time": "2022-06-19T19:28:19.952Z"
   },
   {
    "duration": 264,
    "start_time": "2022-06-19T19:28:20.127Z"
   },
   {
    "duration": 24,
    "start_time": "2022-06-19T19:28:20.398Z"
   },
   {
    "duration": 19,
    "start_time": "2022-06-19T19:28:20.424Z"
   },
   {
    "duration": 172,
    "start_time": "2022-06-19T19:28:20.444Z"
   },
   {
    "duration": 251,
    "start_time": "2022-06-19T19:28:20.617Z"
   },
   {
    "duration": 36,
    "start_time": "2022-06-19T19:28:20.870Z"
   },
   {
    "duration": 24,
    "start_time": "2022-06-19T19:28:20.911Z"
   },
   {
    "duration": 124,
    "start_time": "2022-06-19T19:28:20.937Z"
   },
   {
    "duration": 271,
    "start_time": "2022-06-19T19:28:21.062Z"
   },
   {
    "duration": 20,
    "start_time": "2022-06-19T19:28:21.334Z"
   },
   {
    "duration": 44,
    "start_time": "2022-06-19T19:28:21.355Z"
   },
   {
    "duration": 24,
    "start_time": "2022-06-19T19:28:21.404Z"
   },
   {
    "duration": 21,
    "start_time": "2022-06-19T19:28:21.430Z"
   },
   {
    "duration": 329,
    "start_time": "2022-06-19T19:28:21.453Z"
   },
   {
    "duration": 25,
    "start_time": "2022-06-19T19:28:21.784Z"
   },
   {
    "duration": 67,
    "start_time": "2022-06-19T19:28:21.811Z"
   },
   {
    "duration": 8,
    "start_time": "2022-06-19T19:28:21.879Z"
   },
   {
    "duration": 18,
    "start_time": "2022-06-19T19:28:21.898Z"
   },
   {
    "duration": 5,
    "start_time": "2022-06-19T19:28:21.918Z"
   },
   {
    "duration": 46,
    "start_time": "2022-06-19T19:28:21.925Z"
   },
   {
    "duration": 23,
    "start_time": "2022-06-19T19:28:21.973Z"
   },
   {
    "duration": 12,
    "start_time": "2022-06-19T19:28:22.004Z"
   },
   {
    "duration": 41,
    "start_time": "2022-06-19T19:28:22.017Z"
   },
   {
    "duration": 5,
    "start_time": "2022-06-19T19:28:22.060Z"
   },
   {
    "duration": 8,
    "start_time": "2022-06-19T19:28:22.067Z"
   },
   {
    "duration": 27,
    "start_time": "2022-06-19T19:28:22.077Z"
   },
   {
    "duration": 4,
    "start_time": "2022-06-19T19:28:22.108Z"
   },
   {
    "duration": 64,
    "start_time": "2022-06-19T19:28:22.114Z"
   },
   {
    "duration": 54,
    "start_time": "2022-06-19T19:28:22.181Z"
   },
   {
    "duration": 67,
    "start_time": "2022-06-19T19:28:22.236Z"
   },
   {
    "duration": 34,
    "start_time": "2022-06-19T19:28:22.310Z"
   },
   {
    "duration": 56,
    "start_time": "2022-06-19T19:28:22.346Z"
   },
   {
    "duration": 8,
    "start_time": "2022-06-19T19:28:22.404Z"
   },
   {
    "duration": 12,
    "start_time": "2022-06-19T19:28:22.414Z"
   },
   {
    "duration": 145,
    "start_time": "2022-06-19T19:28:22.428Z"
   },
   {
    "duration": 3,
    "start_time": "2022-06-19T19:28:22.574Z"
   },
   {
    "duration": 6,
    "start_time": "2022-06-19T19:28:22.580Z"
   },
   {
    "duration": 623,
    "start_time": "2022-06-19T19:28:22.595Z"
   },
   {
    "duration": 561,
    "start_time": "2022-06-19T19:28:23.221Z"
   },
   {
    "duration": 172,
    "start_time": "2022-06-19T19:28:23.800Z"
   },
   {
    "duration": 4,
    "start_time": "2022-06-19T19:28:23.973Z"
   },
   {
    "duration": 38,
    "start_time": "2022-06-19T19:28:23.978Z"
   },
   {
    "duration": 3,
    "start_time": "2022-06-19T19:28:24.018Z"
   },
   {
    "duration": 6,
    "start_time": "2022-06-19T19:28:24.023Z"
   },
   {
    "duration": 22808,
    "start_time": "2022-06-19T19:28:24.031Z"
   },
   {
    "duration": 579,
    "start_time": "2022-06-19T19:28:46.841Z"
   },
   {
    "duration": 153,
    "start_time": "2022-06-19T19:28:47.424Z"
   },
   {
    "duration": 33,
    "start_time": "2022-06-19T19:28:47.579Z"
   },
   {
    "duration": 2,
    "start_time": "2022-06-19T19:28:47.616Z"
   },
   {
    "duration": 12,
    "start_time": "2022-06-19T19:28:47.621Z"
   },
   {
    "duration": 27678,
    "start_time": "2022-06-19T19:28:47.634Z"
   },
   {
    "duration": 475,
    "start_time": "2022-06-19T19:29:15.399Z"
   },
   {
    "duration": 191,
    "start_time": "2022-06-19T19:29:15.875Z"
   },
   {
    "duration": 30,
    "start_time": "2022-06-19T19:29:16.069Z"
   },
   {
    "duration": 8,
    "start_time": "2022-06-19T19:29:16.106Z"
   },
   {
    "duration": 9,
    "start_time": "2022-06-19T19:29:16.116Z"
   },
   {
    "duration": 88691,
    "start_time": "2022-06-19T19:29:16.127Z"
   },
   {
    "duration": 520,
    "start_time": "2022-06-19T19:30:44.821Z"
   },
   {
    "duration": 179,
    "start_time": "2022-06-19T19:30:45.343Z"
   },
   {
    "duration": 17,
    "start_time": "2022-06-19T19:30:45.524Z"
   },
   {
    "duration": 4,
    "start_time": "2022-06-19T19:30:45.542Z"
   },
   {
    "duration": 7,
    "start_time": "2022-06-19T19:30:45.548Z"
   },
   {
    "duration": 1038,
    "start_time": "2022-06-19T19:30:45.557Z"
   },
   {
    "duration": 540,
    "start_time": "2022-06-19T19:30:46.599Z"
   },
   {
    "duration": 189,
    "start_time": "2022-06-19T19:30:47.142Z"
   },
   {
    "duration": 16,
    "start_time": "2022-06-19T19:30:47.334Z"
   },
   {
    "duration": 3,
    "start_time": "2022-06-19T19:30:47.352Z"
   },
   {
    "duration": 6,
    "start_time": "2022-06-19T19:30:47.357Z"
   },
   {
    "duration": 3489,
    "start_time": "2022-06-19T19:30:47.365Z"
   },
   {
    "duration": 495,
    "start_time": "2022-06-19T19:30:50.856Z"
   },
   {
    "duration": 183,
    "start_time": "2022-06-19T19:30:51.353Z"
   },
   {
    "duration": 15,
    "start_time": "2022-06-19T19:30:51.538Z"
   },
   {
    "duration": 3,
    "start_time": "2022-06-19T19:30:51.554Z"
   },
   {
    "duration": 6,
    "start_time": "2022-06-19T19:30:51.558Z"
   },
   {
    "duration": 1711,
    "start_time": "2022-06-19T19:30:51.565Z"
   },
   {
    "duration": 584,
    "start_time": "2022-06-19T19:30:53.278Z"
   },
   {
    "duration": 218,
    "start_time": "2022-06-19T19:30:53.864Z"
   },
   {
    "duration": 22,
    "start_time": "2022-06-19T19:30:54.084Z"
   },
   {
    "duration": 19,
    "start_time": "2022-06-19T19:30:54.109Z"
   },
   {
    "duration": 8,
    "start_time": "2022-06-19T19:30:54.131Z"
   },
   {
    "duration": 10,
    "start_time": "2022-06-19T19:30:54.141Z"
   },
   {
    "duration": 9861,
    "start_time": "2022-06-19T19:30:54.153Z"
   },
   {
    "duration": 4,
    "start_time": "2022-06-19T19:31:04.016Z"
   },
   {
    "duration": 463,
    "start_time": "2022-06-19T19:31:04.021Z"
   },
   {
    "duration": 160,
    "start_time": "2022-06-19T19:31:04.485Z"
   },
   {
    "duration": 16,
    "start_time": "2022-06-19T19:31:04.647Z"
   },
   {
    "duration": 9,
    "start_time": "2022-06-19T19:31:04.665Z"
   },
   {
    "duration": 10,
    "start_time": "2022-06-19T19:31:04.676Z"
   },
   {
    "duration": 4067,
    "start_time": "2022-06-19T19:31:04.696Z"
   },
   {
    "duration": 1104,
    "start_time": "2022-06-19T19:31:08.766Z"
   },
   {
    "duration": 367,
    "start_time": "2022-06-19T19:31:09.872Z"
   },
   {
    "duration": 15,
    "start_time": "2022-06-19T19:31:10.241Z"
   },
   {
    "duration": 3,
    "start_time": "2022-06-19T19:31:10.258Z"
   },
   {
    "duration": 8,
    "start_time": "2022-06-19T19:31:10.262Z"
   },
   {
    "duration": 7070,
    "start_time": "2022-06-19T19:31:10.272Z"
   },
   {
    "duration": 4,
    "start_time": "2022-06-19T19:31:17.344Z"
   },
   {
    "duration": 581,
    "start_time": "2022-06-19T19:31:17.350Z"
   },
   {
    "duration": 207,
    "start_time": "2022-06-19T19:31:17.933Z"
   },
   {
    "duration": 16,
    "start_time": "2022-06-19T19:31:18.143Z"
   },
   {
    "duration": 3,
    "start_time": "2022-06-19T19:31:18.161Z"
   },
   {
    "duration": 5,
    "start_time": "2022-06-19T19:31:18.166Z"
   },
   {
    "duration": 43884,
    "start_time": "2022-06-19T19:31:18.173Z"
   },
   {
    "duration": 1219,
    "start_time": "2022-06-19T19:32:02.059Z"
   },
   {
    "duration": 438,
    "start_time": "2022-06-19T19:32:03.280Z"
   },
   {
    "duration": 16,
    "start_time": "2022-06-19T19:32:03.720Z"
   },
   {
    "duration": 4,
    "start_time": "2022-06-19T19:32:03.738Z"
   },
   {
    "duration": 6,
    "start_time": "2022-06-19T19:32:03.744Z"
   },
   {
    "duration": 65807,
    "start_time": "2022-06-19T19:32:03.752Z"
   },
   {
    "duration": 5,
    "start_time": "2022-06-19T19:33:09.561Z"
   },
   {
    "duration": 1051,
    "start_time": "2022-06-19T19:33:09.568Z"
   },
   {
    "duration": 372,
    "start_time": "2022-06-19T19:33:10.621Z"
   },
   {
    "duration": 27,
    "start_time": "2022-06-19T19:33:10.997Z"
   },
   {
    "duration": 18,
    "start_time": "2022-06-19T19:33:11.028Z"
   },
   {
    "duration": 202225,
    "start_time": "2022-06-19T19:33:11.049Z"
   },
   {
    "duration": 2062,
    "start_time": "2022-06-19T19:36:33.276Z"
   },
   {
    "duration": 665,
    "start_time": "2022-06-19T19:36:35.340Z"
   },
   {
    "duration": 16,
    "start_time": "2022-06-19T19:36:36.012Z"
   },
   {
    "duration": 3,
    "start_time": "2022-06-19T19:36:36.030Z"
   },
   {
    "duration": 6,
    "start_time": "2022-06-19T19:36:36.034Z"
   },
   {
    "duration": 367684,
    "start_time": "2022-06-19T19:36:36.042Z"
   },
   {
    "duration": 2306,
    "start_time": "2022-06-19T19:42:43.727Z"
   },
   {
    "duration": 873,
    "start_time": "2022-06-19T19:42:46.035Z"
   },
   {
    "duration": 17,
    "start_time": "2022-06-19T19:42:46.910Z"
   },
   {
    "duration": 3,
    "start_time": "2022-06-19T19:42:46.929Z"
   },
   {
    "duration": 6,
    "start_time": "2022-06-19T19:42:46.933Z"
   },
   {
    "duration": 320575,
    "start_time": "2022-06-19T19:42:46.941Z"
   },
   {
    "duration": 5,
    "start_time": "2022-06-19T19:48:07.518Z"
   },
   {
    "duration": 789,
    "start_time": "2022-06-19T19:48:07.524Z"
   },
   {
    "duration": 300,
    "start_time": "2022-06-19T19:48:08.315Z"
   },
   {
    "duration": 22,
    "start_time": "2022-06-19T19:48:08.618Z"
   },
   {
    "duration": 3,
    "start_time": "2022-06-19T19:48:08.641Z"
   },
   {
    "duration": 367274,
    "start_time": "2022-06-19T19:48:08.645Z"
   },
   {
    "duration": 2575,
    "start_time": "2022-06-19T19:54:15.921Z"
   },
   {
    "duration": 915,
    "start_time": "2022-06-19T19:54:18.498Z"
   },
   {
    "duration": 18,
    "start_time": "2022-06-19T19:54:19.415Z"
   },
   {
    "duration": 59,
    "start_time": "2022-06-19T19:54:19.434Z"
   },
   {
    "duration": 189,
    "start_time": "2022-06-19T19:54:19.502Z"
   },
   {
    "duration": 187,
    "start_time": "2022-06-19T19:54:19.694Z"
   },
   {
    "duration": 227,
    "start_time": "2022-06-19T19:54:19.882Z"
   },
   {
    "duration": 198,
    "start_time": "2022-06-19T19:54:20.113Z"
   },
   {
    "duration": 2228,
    "start_time": "2022-06-20T12:23:39.648Z"
   },
   {
    "duration": 3,
    "start_time": "2022-06-20T12:23:41.929Z"
   },
   {
    "duration": 19,
    "start_time": "2022-06-20T12:23:41.933Z"
   },
   {
    "duration": 1379,
    "start_time": "2022-06-20T12:23:41.954Z"
   },
   {
    "duration": 15,
    "start_time": "2022-06-20T12:23:43.334Z"
   },
   {
    "duration": 3,
    "start_time": "2022-06-20T12:23:43.351Z"
   },
   {
    "duration": 206,
    "start_time": "2022-06-20T12:23:43.355Z"
   },
   {
    "duration": 267,
    "start_time": "2022-06-20T12:23:43.562Z"
   },
   {
    "duration": 206,
    "start_time": "2022-06-20T12:23:43.831Z"
   },
   {
    "duration": 435,
    "start_time": "2022-06-20T12:23:44.040Z"
   },
   {
    "duration": 235,
    "start_time": "2022-06-20T12:23:44.529Z"
   },
   {
    "duration": 70,
    "start_time": "2022-06-20T12:23:44.766Z"
   },
   {
    "duration": 724,
    "start_time": "2022-06-20T12:23:44.837Z"
   },
   {
    "duration": 67,
    "start_time": "2022-06-20T12:23:45.562Z"
   },
   {
    "duration": 22,
    "start_time": "2022-06-20T12:23:45.631Z"
   },
   {
    "duration": 775,
    "start_time": "2022-06-20T12:23:45.654Z"
   },
   {
    "duration": 13,
    "start_time": "2022-06-20T12:23:46.431Z"
   },
   {
    "duration": 85,
    "start_time": "2022-06-20T12:23:46.445Z"
   },
   {
    "duration": 9,
    "start_time": "2022-06-20T12:23:46.532Z"
   },
   {
    "duration": 8,
    "start_time": "2022-06-20T12:23:46.542Z"
   },
   {
    "duration": 6,
    "start_time": "2022-06-20T12:23:46.551Z"
   },
   {
    "duration": 175,
    "start_time": "2022-06-20T12:23:46.558Z"
   },
   {
    "duration": 11,
    "start_time": "2022-06-20T12:23:46.735Z"
   },
   {
    "duration": 95,
    "start_time": "2022-06-20T12:23:46.747Z"
   },
   {
    "duration": 721,
    "start_time": "2022-06-20T12:23:46.844Z"
   },
   {
    "duration": 190,
    "start_time": "2022-06-20T12:23:47.566Z"
   },
   {
    "duration": 178,
    "start_time": "2022-06-20T12:23:47.758Z"
   },
   {
    "duration": 107,
    "start_time": "2022-06-20T12:23:47.939Z"
   },
   {
    "duration": 11,
    "start_time": "2022-06-20T12:23:48.048Z"
   },
   {
    "duration": 278,
    "start_time": "2022-06-20T12:23:48.061Z"
   },
   {
    "duration": 90,
    "start_time": "2022-06-20T12:23:48.341Z"
   },
   {
    "duration": 10,
    "start_time": "2022-06-20T12:23:48.433Z"
   },
   {
    "duration": 88,
    "start_time": "2022-06-20T12:23:48.444Z"
   },
   {
    "duration": 119,
    "start_time": "2022-06-20T12:23:48.533Z"
   },
   {
    "duration": 13,
    "start_time": "2022-06-20T12:23:48.653Z"
   },
   {
    "duration": 185,
    "start_time": "2022-06-20T12:23:48.668Z"
   },
   {
    "duration": 93,
    "start_time": "2022-06-20T12:23:48.855Z"
   },
   {
    "duration": 13,
    "start_time": "2022-06-20T12:23:48.950Z"
   },
   {
    "duration": 80,
    "start_time": "2022-06-20T12:23:48.965Z"
   },
   {
    "duration": 17,
    "start_time": "2022-06-20T12:23:49.047Z"
   },
   {
    "duration": 69,
    "start_time": "2022-06-20T12:23:49.066Z"
   },
   {
    "duration": 226,
    "start_time": "2022-06-20T12:23:49.137Z"
   },
   {
    "duration": 405,
    "start_time": "2022-06-20T12:23:49.364Z"
   },
   {
    "duration": 68,
    "start_time": "2022-06-20T12:23:49.770Z"
   },
   {
    "duration": 13,
    "start_time": "2022-06-20T12:23:49.840Z"
   },
   {
    "duration": 218,
    "start_time": "2022-06-20T12:23:49.855Z"
   },
   {
    "duration": 376,
    "start_time": "2022-06-20T12:23:50.074Z"
   },
   {
    "duration": 12,
    "start_time": "2022-06-20T12:23:50.452Z"
   },
   {
    "duration": 74,
    "start_time": "2022-06-20T12:23:50.466Z"
   },
   {
    "duration": 204,
    "start_time": "2022-06-20T12:23:50.542Z"
   },
   {
    "duration": 408,
    "start_time": "2022-06-20T12:23:50.748Z"
   },
   {
    "duration": 14,
    "start_time": "2022-06-20T12:23:51.158Z"
   },
   {
    "duration": 76,
    "start_time": "2022-06-20T12:23:51.174Z"
   },
   {
    "duration": 79,
    "start_time": "2022-06-20T12:23:51.252Z"
   },
   {
    "duration": 19,
    "start_time": "2022-06-20T12:23:51.333Z"
   },
   {
    "duration": 587,
    "start_time": "2022-06-20T12:23:51.353Z"
   },
   {
    "duration": 11,
    "start_time": "2022-06-20T12:23:51.942Z"
   },
   {
    "duration": 117,
    "start_time": "2022-06-20T12:23:51.955Z"
   },
   {
    "duration": 62,
    "start_time": "2022-06-20T12:23:52.073Z"
   },
   {
    "duration": 19,
    "start_time": "2022-06-20T12:23:52.137Z"
   },
   {
    "duration": 4,
    "start_time": "2022-06-20T12:23:52.158Z"
   },
   {
    "duration": 91,
    "start_time": "2022-06-20T12:23:52.163Z"
   },
   {
    "duration": 4,
    "start_time": "2022-06-20T12:23:52.255Z"
   },
   {
    "duration": 72,
    "start_time": "2022-06-20T12:23:52.261Z"
   },
   {
    "duration": 30,
    "start_time": "2022-06-20T12:23:52.334Z"
   },
   {
    "duration": 4,
    "start_time": "2022-06-20T12:23:52.366Z"
   },
   {
    "duration": 4,
    "start_time": "2022-06-20T12:23:52.429Z"
   },
   {
    "duration": 12,
    "start_time": "2022-06-20T12:23:52.435Z"
   },
   {
    "duration": 6,
    "start_time": "2022-06-20T12:23:52.448Z"
   },
   {
    "duration": 102,
    "start_time": "2022-06-20T12:23:52.455Z"
   },
   {
    "duration": 88,
    "start_time": "2022-06-20T12:23:52.559Z"
   },
   {
    "duration": 102,
    "start_time": "2022-06-20T12:23:52.649Z"
   },
   {
    "duration": 85,
    "start_time": "2022-06-20T12:23:52.753Z"
   },
   {
    "duration": 98,
    "start_time": "2022-06-20T12:23:52.840Z"
   },
   {
    "duration": 3,
    "start_time": "2022-06-20T12:23:52.940Z"
   },
   {
    "duration": 11,
    "start_time": "2022-06-20T12:23:52.946Z"
   },
   {
    "duration": 212,
    "start_time": "2022-06-20T12:23:52.958Z"
   },
   {
    "duration": 58,
    "start_time": "2022-06-20T12:23:53.172Z"
   },
   {
    "duration": 7,
    "start_time": "2022-06-20T12:23:53.231Z"
   },
   {
    "duration": 1098,
    "start_time": "2022-06-20T12:23:53.240Z"
   },
   {
    "duration": 917,
    "start_time": "2022-06-20T12:23:54.340Z"
   },
   {
    "duration": 305,
    "start_time": "2022-06-20T12:23:55.264Z"
   },
   {
    "duration": 3,
    "start_time": "2022-06-20T12:23:55.571Z"
   },
   {
    "duration": 16,
    "start_time": "2022-06-20T12:23:55.629Z"
   },
   {
    "duration": 3,
    "start_time": "2022-06-20T12:23:55.646Z"
   },
   {
    "duration": 10,
    "start_time": "2022-06-20T12:23:55.650Z"
   },
   {
    "duration": 21566,
    "start_time": "2022-06-20T12:23:55.662Z"
   },
   {
    "duration": 5407,
    "start_time": "2022-06-20T12:24:17.234Z"
   },
   {
    "duration": 308,
    "start_time": "2022-06-20T12:24:22.643Z"
   },
   {
    "duration": 12,
    "start_time": "2022-06-20T12:24:22.952Z"
   },
   {
    "duration": 2,
    "start_time": "2022-06-20T12:24:22.966Z"
   },
   {
    "duration": 60,
    "start_time": "2022-06-20T12:24:22.969Z"
   },
   {
    "duration": 52015,
    "start_time": "2022-06-20T12:24:23.031Z"
   },
   {
    "duration": 981,
    "start_time": "2022-06-20T12:25:15.048Z"
   },
   {
    "duration": 323,
    "start_time": "2022-06-20T12:25:16.031Z"
   },
   {
    "duration": 15,
    "start_time": "2022-06-20T12:25:16.356Z"
   },
   {
    "duration": 58,
    "start_time": "2022-06-20T12:25:16.372Z"
   },
   {
    "duration": 11,
    "start_time": "2022-06-20T12:25:16.432Z"
   },
   {
    "duration": 162186,
    "start_time": "2022-06-20T12:25:16.445Z"
   },
   {
    "duration": 803,
    "start_time": "2022-06-20T12:27:58.633Z"
   },
   {
    "duration": 236,
    "start_time": "2022-06-20T12:27:59.437Z"
   },
   {
    "duration": 64,
    "start_time": "2022-06-20T12:27:59.675Z"
   },
   {
    "duration": 2,
    "start_time": "2022-06-20T12:27:59.741Z"
   },
   {
    "duration": 8,
    "start_time": "2022-06-20T12:27:59.744Z"
   },
   {
    "duration": 1587,
    "start_time": "2022-06-20T12:27:59.754Z"
   },
   {
    "duration": 799,
    "start_time": "2022-06-20T12:28:01.343Z"
   },
   {
    "duration": 294,
    "start_time": "2022-06-20T12:28:02.144Z"
   },
   {
    "duration": 13,
    "start_time": "2022-06-20T12:28:02.440Z"
   },
   {
    "duration": 8,
    "start_time": "2022-06-20T12:28:02.455Z"
   },
   {
    "duration": 10,
    "start_time": "2022-06-20T12:28:02.464Z"
   },
   {
    "duration": 4903,
    "start_time": "2022-06-20T12:28:02.529Z"
   },
   {
    "duration": 796,
    "start_time": "2022-06-20T12:28:07.434Z"
   },
   {
    "duration": 233,
    "start_time": "2022-06-20T12:28:08.231Z"
   },
   {
    "duration": 72,
    "start_time": "2022-06-20T12:28:08.466Z"
   },
   {
    "duration": 3,
    "start_time": "2022-06-20T12:28:08.540Z"
   },
   {
    "duration": 11,
    "start_time": "2022-06-20T12:28:08.545Z"
   },
   {
    "duration": 2717,
    "start_time": "2022-06-20T12:28:08.557Z"
   },
   {
    "duration": 909,
    "start_time": "2022-06-20T12:28:11.329Z"
   },
   {
    "duration": 316,
    "start_time": "2022-06-20T12:28:12.240Z"
   },
   {
    "duration": 73,
    "start_time": "2022-06-20T12:28:12.557Z"
   },
   {
    "duration": 4,
    "start_time": "2022-06-20T12:28:12.632Z"
   },
   {
    "duration": 14,
    "start_time": "2022-06-20T12:28:12.637Z"
   },
   {
    "duration": 11,
    "start_time": "2022-06-20T12:28:12.653Z"
   },
   {
    "duration": 17482,
    "start_time": "2022-06-20T12:28:12.666Z"
   },
   {
    "duration": 5,
    "start_time": "2022-06-20T12:28:30.150Z"
   },
   {
    "duration": 712,
    "start_time": "2022-06-20T12:28:30.156Z"
   },
   {
    "duration": 290,
    "start_time": "2022-06-20T12:28:30.870Z"
   },
   {
    "duration": 74,
    "start_time": "2022-06-20T12:28:31.162Z"
   },
   {
    "duration": 11,
    "start_time": "2022-06-20T12:28:31.237Z"
   },
   {
    "duration": 38,
    "start_time": "2022-06-20T12:28:31.249Z"
   },
   {
    "duration": 7345,
    "start_time": "2022-06-20T12:28:31.289Z"
   },
   {
    "duration": 1802,
    "start_time": "2022-06-20T12:28:38.635Z"
   },
   {
    "duration": 602,
    "start_time": "2022-06-20T12:28:40.439Z"
   },
   {
    "duration": 17,
    "start_time": "2022-06-20T12:28:41.043Z"
   },
   {
    "duration": 4,
    "start_time": "2022-06-20T12:28:41.062Z"
   },
   {
    "duration": 3,
    "start_time": "2022-06-20T12:28:41.131Z"
   },
   {
    "duration": 12108,
    "start_time": "2022-06-20T12:28:41.136Z"
   },
   {
    "duration": 4,
    "start_time": "2022-06-20T12:28:53.245Z"
   },
   {
    "duration": 997,
    "start_time": "2022-06-20T12:28:53.251Z"
   },
   {
    "duration": 317,
    "start_time": "2022-06-20T12:28:54.250Z"
   },
   {
    "duration": 71,
    "start_time": "2022-06-20T12:28:54.569Z"
   },
   {
    "duration": 3,
    "start_time": "2022-06-20T12:28:54.641Z"
   },
   {
    "duration": 4,
    "start_time": "2022-06-20T12:28:54.646Z"
   },
   {
    "duration": 57750,
    "start_time": "2022-06-20T12:28:54.652Z"
   },
   {
    "duration": 936,
    "start_time": "2022-06-20T12:29:52.403Z"
   },
   {
    "duration": 346,
    "start_time": "2022-06-20T12:29:53.340Z"
   },
   {
    "duration": 15,
    "start_time": "2022-06-20T12:29:53.687Z"
   },
   {
    "duration": 4,
    "start_time": "2022-06-20T12:29:53.703Z"
   },
   {
    "duration": 3,
    "start_time": "2022-06-20T12:29:53.730Z"
   },
   {
    "duration": 67114,
    "start_time": "2022-06-20T12:29:53.734Z"
   },
   {
    "duration": 3,
    "start_time": "2022-06-20T12:31:00.850Z"
   },
   {
    "duration": 769,
    "start_time": "2022-06-20T12:31:00.854Z"
   },
   {
    "duration": 281,
    "start_time": "2022-06-20T12:31:01.628Z"
   },
   {
    "duration": 21,
    "start_time": "2022-06-20T12:31:01.910Z"
   },
   {
    "duration": 2,
    "start_time": "2022-06-20T12:31:01.933Z"
   },
   {
    "duration": 163372,
    "start_time": "2022-06-20T12:31:01.937Z"
   },
   {
    "duration": 1733,
    "start_time": "2022-06-20T12:33:45.310Z"
   },
   {
    "duration": 549,
    "start_time": "2022-06-20T12:33:47.045Z"
   },
   {
    "duration": 14,
    "start_time": "2022-06-20T12:33:47.595Z"
   },
   {
    "duration": 2,
    "start_time": "2022-06-20T12:33:47.611Z"
   },
   {
    "duration": 16,
    "start_time": "2022-06-20T12:33:47.614Z"
   },
   {
    "duration": 38798,
    "start_time": "2022-06-20T12:33:47.632Z"
   },
   {
    "duration": 2121,
    "start_time": "2022-06-20T12:34:26.432Z"
   },
   {
    "duration": 775,
    "start_time": "2022-06-20T12:34:28.555Z"
   },
   {
    "duration": 15,
    "start_time": "2022-06-20T12:34:29.332Z"
   },
   {
    "duration": 2,
    "start_time": "2022-06-20T12:34:29.349Z"
   },
   {
    "duration": 6,
    "start_time": "2022-06-20T12:34:29.353Z"
   },
   {
    "duration": 5892,
    "start_time": "2022-06-20T12:34:29.360Z"
   },
   {
    "duration": 4,
    "start_time": "2022-06-20T12:34:35.253Z"
   },
   {
    "duration": 683,
    "start_time": "2022-06-20T12:34:35.258Z"
   },
   {
    "duration": 301,
    "start_time": "2022-06-20T12:34:35.943Z"
   },
   {
    "duration": 91,
    "start_time": "2022-06-20T12:34:36.246Z"
   },
   {
    "duration": 21,
    "start_time": "2022-06-20T12:34:36.339Z"
   },
   {
    "duration": 9078,
    "start_time": "2022-06-20T12:34:36.361Z"
   },
   {
    "duration": 2214,
    "start_time": "2022-06-20T12:34:45.441Z"
   },
   {
    "duration": 791,
    "start_time": "2022-06-20T12:34:47.657Z"
   },
   {
    "duration": 81,
    "start_time": "2022-06-20T12:34:48.450Z"
   },
   {
    "duration": 10,
    "start_time": "2022-06-20T12:34:48.532Z"
   },
   {
    "duration": 163,
    "start_time": "2022-06-20T12:34:48.543Z"
   },
   {
    "duration": 162,
    "start_time": "2022-06-20T12:34:48.707Z"
   },
   {
    "duration": 169,
    "start_time": "2022-06-20T12:34:48.871Z"
   },
   {
    "duration": 154,
    "start_time": "2022-06-20T12:34:49.042Z"
   }
  ],
  "kernelspec": {
   "display_name": "Python 3 (ipykernel)",
   "language": "python",
   "name": "python3"
  },
  "language_info": {
   "codemirror_mode": {
    "name": "ipython",
    "version": 3
   },
   "file_extension": ".py",
   "mimetype": "text/x-python",
   "name": "python",
   "nbconvert_exporter": "python",
   "pygments_lexer": "ipython3",
   "version": "3.9.5"
  },
  "toc": {
   "base_numbering": 1,
   "nav_menu": {},
   "number_sections": true,
   "sideBar": true,
   "skip_h1_title": true,
   "title_cell": "Оглавление",
   "title_sidebar": "Contents",
   "toc_cell": true,
   "toc_position": {
    "height": "calc(100% - 180px)",
    "left": "10px",
    "top": "150px",
    "width": "318.391px"
   },
   "toc_section_display": true,
   "toc_window_display": true
  }
 },
 "nbformat": 4,
 "nbformat_minor": 2
}
