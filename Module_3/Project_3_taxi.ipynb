{
 "cells": [
  {
   "cell_type": "markdown",
   "metadata": {},
   "source": [
    " <div class=\"alert alert-success\" style=\"border-color: green; border-radius: 5px\">\n",
    "    <font color='green'> <b><u>КОММЕНТАРИЙ РЕВЬЮЕРА</u></b>\n",
    "\n",
    "Сергей, доброго дня! рад приветствовать тебя) <br />\n",
    "<br />\n",
    "Меня зовут Николай Шавлюго. <br />И на этом этапе твоего движения к новой профессии от меня будут комментарии по написанному коду. <br />Чтобы меньше \"мусорить эфир\" и чтобы максимально наглядно отделяться от основного кода, есть предложение условиться в некоторых обозначениях:<br /> <br />\n",
    "<div class=\"alert alert-success\" style=\"border-color: green; border-radius: 5px\">\n",
    "    <p><u><b>✅ КОММЕНТАРИЙ РЕВЬЮЕРА</b></u></p>\n",
    "    <p>Всё хорошо.</p>\n",
    "</div>\n",
    "\n",
    "<div class=\"alert alert-warning\" style=\"border-color: darkorange; border-radius: 5px\">\n",
    "    <p><u><b>⚠️ КОММЕНТАРИЙ РЕВЬЮЕРА</b></u></p>\n",
    "    <p>Обрати внимание, есть потенциал</p>\n",
    "</div>\n",
    "\n",
    "<div class=\"alert alert-danger\" style=\"border-color: darkred; border-radius: 5px\">\n",
    "    <p><u><b>❌ КОММЕНТАРИЙ РЕВЬЮЕРА</b></u></p>\n",
    "    <p>Нужно ещё раз глянуть</p>\n",
    "</div>\n",
    "</font><br /><br />\n",
    "<font color='green'>Моей целью является не \"уличить\" в не знании, а просто высказать сверху твоих знаний - свой опыт, что бы тебе использовать его для своего дальнейшего успеха) И очень здорово будет, если удастся задавать вопросы, да и вообще - всячески доставать меня, если я по каким-то причинам не приму проект:) При этом, из своего опыта скажу, хорошо и важно, когда переписка ревьюера и студента - сохраняется на следующие проекты и даже на будущую практическую деятельность.<br>\n",
    "<br> Я сразу же начал общаться на ты:) но если это не очень удобно, то дай знать)) <BR> В ПУТЬ!<br></div>"
   ]
  },
  {
   "cell_type": "markdown",
   "metadata": {},
   "source": [
    "<div class=\"alert alert-info\">\n",
    "<b>Комментарий студента:</b>\n",
    "<br>Добрый день!\n",
    "<br>Спасибо за советы, теперь понимаю, куда двигаться дальше, если придётся разбираться с временными рядами. Этим мне нравится формат обучения, что здесь подскажут как правильно начать и дадут дальнейшие ориентиры.\n",
    "<br>Постарался устранить все замечания.\n",
    "</div>"
   ]
  },
  {
   "cell_type": "markdown",
   "metadata": {},
   "source": [
    "<div class=\"alert alert-success\" style=\"border-color: green; border-radius: 5px\">\n",
    "    <p><u><b>✅ КОММЕНТАРИЙ РЕВЬЮЕРА 2</b></u></p>\n",
    "Привет, Сергей!<br>\n",
    "CПАСИБО з аотклик. РАД, если смог помочь подразобраться с этой темой!!<br>\n",
    "ОК, пошёл вниз..."
   ]
  },
  {
   "cell_type": "markdown",
   "metadata": {
    "toc": true
   },
   "source": [
    "<h1>Содержание<span class=\"tocSkip\"></span></h1>\n",
    "<div class=\"toc\"><ul class=\"toc-item\"><li><span><a href=\"#Подготовка\" data-toc-modified-id=\"Подготовка-1\"><span class=\"toc-item-num\">1&nbsp;&nbsp;</span>Подготовка</a></span><ul class=\"toc-item\"><li><span><a href=\"#Импорт-библиотек\" data-toc-modified-id=\"Импорт-библиотек-1.1\"><span class=\"toc-item-num\">1.1&nbsp;&nbsp;</span>Импорт библиотек</a></span></li><li><span><a href=\"#Импорт-данных\" data-toc-modified-id=\"Импорт-данных-1.2\"><span class=\"toc-item-num\">1.2&nbsp;&nbsp;</span>Импорт данных</a></span></li><li><span><a href=\"#Описание-данных\" data-toc-modified-id=\"Описание-данных-1.3\"><span class=\"toc-item-num\">1.3&nbsp;&nbsp;</span>Описание данных</a></span></li><li><span><a href=\"#Глобальные-настройки-проекта\" data-toc-modified-id=\"Глобальные-настройки-проекта-1.4\"><span class=\"toc-item-num\">1.4&nbsp;&nbsp;</span>Глобальные настройки проекта</a></span></li><li><span><a href=\"#План-выполнения-проекта\" data-toc-modified-id=\"План-выполнения-проекта-1.5\"><span class=\"toc-item-num\">1.5&nbsp;&nbsp;</span>План выполнения проекта</a></span></li><li><span><a href=\"#Загрузка-и-изучение-данных\" data-toc-modified-id=\"Загрузка-и-изучение-данных-1.6\"><span class=\"toc-item-num\">1.6&nbsp;&nbsp;</span>Загрузка и изучение данных</a></span><ul class=\"toc-item\"><li><span><a href=\"#Загрузка-данных\" data-toc-modified-id=\"Загрузка-данных-1.6.1\"><span class=\"toc-item-num\">1.6.1&nbsp;&nbsp;</span>Загрузка данных</a></span></li><li><span><a href=\"#Изучение-данных\" data-toc-modified-id=\"Изучение-данных-1.6.2\"><span class=\"toc-item-num\">1.6.2&nbsp;&nbsp;</span>Изучение данных</a></span><ul class=\"toc-item\"><li><span><a href=\"#Изучение-признака-&quot;datetime&quot;.\" data-toc-modified-id=\"Изучение-признака-&quot;datetime&quot;.-1.6.2.1\"><span class=\"toc-item-num\">1.6.2.1&nbsp;&nbsp;</span>Изучение признака \"datetime\".</a></span></li><li><span><a href=\"#Изучение-признака-&quot;num_orders&quot;.\" data-toc-modified-id=\"Изучение-признака-&quot;num_orders&quot;.-1.6.2.2\"><span class=\"toc-item-num\">1.6.2.2&nbsp;&nbsp;</span>Изучение признака \"num_orders\".</a></span></li><li><span><a href=\"#Выводы\" data-toc-modified-id=\"Выводы-1.6.2.3\"><span class=\"toc-item-num\">1.6.2.3&nbsp;&nbsp;</span>Выводы</a></span></li></ul></li><li><span><a href=\"#Предобработка-данных\" data-toc-modified-id=\"Предобработка-данных-1.6.3\"><span class=\"toc-item-num\">1.6.3&nbsp;&nbsp;</span>Предобработка данных</a></span><ul class=\"toc-item\"><li><span><a href=\"#Приведение-типа-данных-признака-&quot;datetime&quot;-к-типу-&quot;datetime64&quot;\" data-toc-modified-id=\"Приведение-типа-данных-признака-&quot;datetime&quot;-к-типу-&quot;datetime64&quot;-1.6.3.1\"><span class=\"toc-item-num\">1.6.3.1&nbsp;&nbsp;</span>Приведение типа данных признака \"datetime\" к типу \"datetime64\"</a></span></li><li><span><a href=\"#Использование-в-качестве-индекса-значения-признака-&quot;datetime&quot;\" data-toc-modified-id=\"Использование-в-качестве-индекса-значения-признака-&quot;datetime&quot;-1.6.3.2\"><span class=\"toc-item-num\">1.6.3.2&nbsp;&nbsp;</span>Использование в качестве индекса значения признака \"datetime\"</a></span></li><li><span><a href=\"#Ресемплирование-данных-по-одному-часу.\" data-toc-modified-id=\"Ресемплирование-данных-по-одному-часу.-1.6.3.3\"><span class=\"toc-item-num\">1.6.3.3&nbsp;&nbsp;</span>Ресемплирование данных по одному часу.</a></span></li><li><span><a href=\"#Выводы\" data-toc-modified-id=\"Выводы-1.6.3.4\"><span class=\"toc-item-num\">1.6.3.4&nbsp;&nbsp;</span>Выводы</a></span></li></ul></li></ul></li></ul></li><li><span><a href=\"#Анализ\" data-toc-modified-id=\"Анализ-2\"><span class=\"toc-item-num\">2&nbsp;&nbsp;</span>Анализ</a></span><ul class=\"toc-item\"><li><span><a href=\"#Построение-графиков-целевой-переменной\" data-toc-modified-id=\"Построение-графиков-целевой-переменной-2.1\"><span class=\"toc-item-num\">2.1&nbsp;&nbsp;</span>Построение графиков целевой переменной</a></span></li><li><span><a href=\"#Декомпозиция-временного-ряда\" data-toc-modified-id=\"Декомпозиция-временного-ряда-2.2\"><span class=\"toc-item-num\">2.2&nbsp;&nbsp;</span>Декомпозиция временного ряда</a></span></li><li><span><a href=\"#Разности-временного-ряда\" data-toc-modified-id=\"Разности-временного-ряда-2.3\"><span class=\"toc-item-num\">2.3&nbsp;&nbsp;</span>Разности временного ряда</a></span></li></ul></li><li><span><a href=\"#Обучение\" data-toc-modified-id=\"Обучение-3\"><span class=\"toc-item-num\">3&nbsp;&nbsp;</span>Обучение</a></span><ul class=\"toc-item\"><li><span><a href=\"#Генерация-признаков\" data-toc-modified-id=\"Генерация-признаков-3.1\"><span class=\"toc-item-num\">3.1&nbsp;&nbsp;</span>Генерация признаков</a></span></li><li><span><a href=\"#Разбиение-данных-на-обучающую-и-тестовую-выборки\" data-toc-modified-id=\"Разбиение-данных-на-обучающую-и-тестовую-выборки-3.2\"><span class=\"toc-item-num\">3.2&nbsp;&nbsp;</span>Разбиение данных на обучающую и тестовую выборки</a></span></li><li><span><a href=\"#Базовая-модель\" data-toc-modified-id=\"Базовая-модель-3.3\"><span class=\"toc-item-num\">3.3&nbsp;&nbsp;</span>Базовая модель</a></span></li><li><span><a href=\"#Прогноз-при-помощи-предыдущих-значений\" data-toc-modified-id=\"Прогноз-при-помощи-предыдущих-значений-3.4\"><span class=\"toc-item-num\">3.4&nbsp;&nbsp;</span>Прогноз при помощи предыдущих значений</a></span></li><li><span><a href=\"#Линейная-регрессия\" data-toc-modified-id=\"Линейная-регрессия-3.5\"><span class=\"toc-item-num\">3.5&nbsp;&nbsp;</span>Линейная регрессия</a></span></li><li><span><a href=\"#Дерево-решений\" data-toc-modified-id=\"Дерево-решений-3.6\"><span class=\"toc-item-num\">3.6&nbsp;&nbsp;</span>Дерево решений</a></span></li><li><span><a href=\"#Случайный-лес-решений\" data-toc-modified-id=\"Случайный-лес-решений-3.7\"><span class=\"toc-item-num\">3.7&nbsp;&nbsp;</span>Случайный лес решений</a></span></li></ul></li><li><span><a href=\"#Тестирование\" data-toc-modified-id=\"Тестирование-4\"><span class=\"toc-item-num\">4&nbsp;&nbsp;</span>Тестирование</a></span></li><li><span><a href=\"#Чек-лист-проверки\" data-toc-modified-id=\"Чек-лист-проверки-5\"><span class=\"toc-item-num\">5&nbsp;&nbsp;</span>Чек-лист проверки</a></span></li></ul></div>"
   ]
  },
  {
   "cell_type": "markdown",
   "metadata": {},
   "source": [
    "#  Прогнозирование заказов такси"
   ]
  },
  {
   "cell_type": "markdown",
   "metadata": {},
   "source": [
    "Компания «Чётенькое такси» собрала исторические данные о заказах такси в аэропортах. Чтобы привлекать больше водителей в период пиковой нагрузки, нужно спрогнозировать количество заказов такси на следующий час. Постройте модель для такого предсказания.\n",
    "\n",
    "Значение метрики *RMSE* на тестовой выборке должно быть не больше 48.\n",
    "\n",
    "Вам нужно:\n",
    "\n",
    "1. Загрузить данные и выполнить их ресемплирование по одному часу.\n",
    "2. Проанализировать данные.\n",
    "3. Обучить разные модели с различными гиперпараметрами. Сделать тестовую выборку размером 10% от исходных данных.\n",
    "4. Проверить данные на тестовой выборке и сделать выводы.\n",
    "\n",
    "\n",
    "Данные лежат в файле `taxi.csv`. Количество заказов находится в столбце `num_orders` (от англ. *number of orders*, «число заказов»)."
   ]
  },
  {
   "cell_type": "markdown",
   "metadata": {},
   "source": [
    "## Подготовка"
   ]
  },
  {
   "cell_type": "markdown",
   "metadata": {},
   "source": [
    "### Импорт библиотек"
   ]
  },
  {
   "cell_type": "code",
   "execution_count": 1,
   "metadata": {},
   "outputs": [],
   "source": [
    "import numpy as np\n",
    "import pandas as pd\n",
    "\n",
    "from matplotlib import pyplot as plt\n",
    "import seaborn as sns\n",
    "\n",
    "from statsmodels.tsa.seasonal import seasonal_decompose\n",
    "\n",
    "from sklearn.model_selection import train_test_split\n",
    "\n",
    "from sklearn.preprocessing import OneHotEncoder\n",
    "from sklearn.preprocessing import StandardScaler\n",
    "\n",
    "from sklearn.dummy import DummyRegressor\n",
    "\n",
    "from sklearn.linear_model import LinearRegression\n",
    "\n",
    "from sklearn.tree import DecisionTreeRegressor\n",
    "\n",
    "from sklearn.ensemble import RandomForestRegressor\n",
    "\n",
    "from sklearn.base import BaseEstimator\n",
    "from sklearn.base import TransformerMixin\n",
    "\n",
    "from sklearn.pipeline import make_pipeline\n",
    "from sklearn.pipeline import make_union\n",
    "\n",
    "from sklearn.metrics import mean_squared_error"
   ]
  },
  {
   "cell_type": "markdown",
   "metadata": {},
   "source": [
    "### Импорт данных"
   ]
  },
  {
   "cell_type": "code",
   "execution_count": 2,
   "metadata": {},
   "outputs": [],
   "source": [
    "PATH_DATA_TAXI = r'/datasets/taxi.csv'"
   ]
  },
  {
   "cell_type": "markdown",
   "metadata": {},
   "source": [
    "### Описание данных"
   ]
  },
  {
   "cell_type": "markdown",
   "metadata": {},
   "source": [
    "Количество заказов находится в столбце <code>num_orders</code> (от англ. number of orders, «число заказов»)."
   ]
  },
  {
   "cell_type": "markdown",
   "metadata": {},
   "source": [
    "### Глобальные настройки проекта"
   ]
  },
  {
   "cell_type": "code",
   "execution_count": 3,
   "metadata": {},
   "outputs": [],
   "source": [
    "GLOBAL__RANDOM_STATE = 0"
   ]
  },
  {
   "cell_type": "markdown",
   "metadata": {},
   "source": [
    "### План выполнения проекта"
   ]
  },
  {
   "cell_type": "markdown",
   "metadata": {},
   "source": [
    "1. Загрузить и изучить данные.\n",
    "2. Предобработать данные.\n",
    "3. Выполнить анализ временного ряда.\n",
    "3. Подготовить данные для моделей машинного обучения.\n",
    "4. Построить несколько моделей.\n",
    "5. Оценить качество прогнозов и проанализировать результаты."
   ]
  },
  {
   "cell_type": "markdown",
   "metadata": {},
   "source": [
    "### Загрузка и изучение данных"
   ]
  },
  {
   "cell_type": "markdown",
   "metadata": {},
   "source": [
    "#### Загрузка данных"
   ]
  },
  {
   "cell_type": "code",
   "execution_count": 4,
   "metadata": {},
   "outputs": [],
   "source": [
    "# Функция для безопасной загрузки данных.\n",
    "def func_load_data(path_data):\n",
    "    try:\n",
    "        df = pd.read_csv(path_data)\n",
    "        print(f'Data has been successfully loaded.')\n",
    "        return df\n",
    "    except FileNotFoundError:\n",
    "        print(f'Data hasn\\'t been found at following path:\\n\\t{path_data}')"
   ]
  },
  {
   "cell_type": "code",
   "execution_count": 5,
   "metadata": {},
   "outputs": [
    {
     "name": "stdout",
     "output_type": "stream",
     "text": [
      "Data has been successfully loaded.\n"
     ]
    }
   ],
   "source": [
    "# Загрузка данных.\n",
    "df_taxi = func_load_data(PATH_DATA_TAXI)"
   ]
  },
  {
   "cell_type": "markdown",
   "metadata": {},
   "source": [
    "#### Изучение данных"
   ]
  },
  {
   "cell_type": "code",
   "execution_count": 6,
   "metadata": {},
   "outputs": [
    {
     "data": {
      "text/html": [
       "<div>\n",
       "<style scoped>\n",
       "    .dataframe tbody tr th:only-of-type {\n",
       "        vertical-align: middle;\n",
       "    }\n",
       "\n",
       "    .dataframe tbody tr th {\n",
       "        vertical-align: top;\n",
       "    }\n",
       "\n",
       "    .dataframe thead th {\n",
       "        text-align: right;\n",
       "    }\n",
       "</style>\n",
       "<table border=\"1\" class=\"dataframe\">\n",
       "  <thead>\n",
       "    <tr style=\"text-align: right;\">\n",
       "      <th></th>\n",
       "      <th>datetime</th>\n",
       "      <th>num_orders</th>\n",
       "    </tr>\n",
       "  </thead>\n",
       "  <tbody>\n",
       "    <tr>\n",
       "      <th>0</th>\n",
       "      <td>2018-03-01 00:00:00</td>\n",
       "      <td>9</td>\n",
       "    </tr>\n",
       "    <tr>\n",
       "      <th>1</th>\n",
       "      <td>2018-03-01 00:10:00</td>\n",
       "      <td>14</td>\n",
       "    </tr>\n",
       "    <tr>\n",
       "      <th>2</th>\n",
       "      <td>2018-03-01 00:20:00</td>\n",
       "      <td>28</td>\n",
       "    </tr>\n",
       "    <tr>\n",
       "      <th>3</th>\n",
       "      <td>2018-03-01 00:30:00</td>\n",
       "      <td>20</td>\n",
       "    </tr>\n",
       "    <tr>\n",
       "      <th>4</th>\n",
       "      <td>2018-03-01 00:40:00</td>\n",
       "      <td>32</td>\n",
       "    </tr>\n",
       "  </tbody>\n",
       "</table>\n",
       "</div>"
      ],
      "text/plain": [
       "              datetime  num_orders\n",
       "0  2018-03-01 00:00:00           9\n",
       "1  2018-03-01 00:10:00          14\n",
       "2  2018-03-01 00:20:00          28\n",
       "3  2018-03-01 00:30:00          20\n",
       "4  2018-03-01 00:40:00          32"
      ]
     },
     "execution_count": 6,
     "metadata": {},
     "output_type": "execute_result"
    }
   ],
   "source": [
    "# Проверка: вывод первых пяти строк таблицы.\n",
    "df_taxi.head()"
   ]
  },
  {
   "cell_type": "code",
   "execution_count": 7,
   "metadata": {},
   "outputs": [
    {
     "name": "stdout",
     "output_type": "stream",
     "text": [
      "<class 'pandas.core.frame.DataFrame'>\n",
      "RangeIndex: 26496 entries, 0 to 26495\n",
      "Data columns (total 2 columns):\n",
      " #   Column      Non-Null Count  Dtype \n",
      "---  ------      --------------  ----- \n",
      " 0   datetime    26496 non-null  object\n",
      " 1   num_orders  26496 non-null  int64 \n",
      "dtypes: int64(1), object(1)\n",
      "memory usage: 414.1+ KB\n"
     ]
    }
   ],
   "source": [
    "# Вывод основной информации о данных.\n",
    "df_taxi.info()"
   ]
  },
  {
   "cell_type": "code",
   "execution_count": 8,
   "metadata": {},
   "outputs": [
    {
     "data": {
      "text/plain": [
       "datetime      0.00%\n",
       "num_orders    0.00%\n",
       "dtype: object"
      ]
     },
     "execution_count": 8,
     "metadata": {},
     "output_type": "execute_result"
    }
   ],
   "source": [
    "# Проверка: вывод долей пропусков признаков.\n",
    "df_taxi.isna().mean().apply(lambda x: f'{x:.2%}')"
   ]
  },
  {
   "cell_type": "code",
   "execution_count": 9,
   "metadata": {
    "scrolled": true
   },
   "outputs": [
    {
     "data": {
      "text/html": [
       "<div>\n",
       "<style scoped>\n",
       "    .dataframe tbody tr th:only-of-type {\n",
       "        vertical-align: middle;\n",
       "    }\n",
       "\n",
       "    .dataframe tbody tr th {\n",
       "        vertical-align: top;\n",
       "    }\n",
       "\n",
       "    .dataframe thead th {\n",
       "        text-align: right;\n",
       "    }\n",
       "</style>\n",
       "<table border=\"1\" class=\"dataframe\">\n",
       "  <thead>\n",
       "    <tr style=\"text-align: right;\">\n",
       "      <th></th>\n",
       "      <th>count</th>\n",
       "      <th>mean</th>\n",
       "      <th>std</th>\n",
       "      <th>min</th>\n",
       "      <th>25%</th>\n",
       "      <th>50%</th>\n",
       "      <th>75%</th>\n",
       "      <th>max</th>\n",
       "    </tr>\n",
       "  </thead>\n",
       "  <tbody>\n",
       "    <tr>\n",
       "      <th>num_orders</th>\n",
       "      <td>26496.0</td>\n",
       "      <td>14.070463</td>\n",
       "      <td>9.21133</td>\n",
       "      <td>0.0</td>\n",
       "      <td>8.0</td>\n",
       "      <td>13.0</td>\n",
       "      <td>19.0</td>\n",
       "      <td>119.0</td>\n",
       "    </tr>\n",
       "  </tbody>\n",
       "</table>\n",
       "</div>"
      ],
      "text/plain": [
       "              count       mean      std  min  25%   50%   75%    max\n",
       "num_orders  26496.0  14.070463  9.21133  0.0  8.0  13.0  19.0  119.0"
      ]
     },
     "execution_count": 9,
     "metadata": {},
     "output_type": "execute_result"
    }
   ],
   "source": [
    "# Вывод основных статистик данных.\n",
    "df_taxi.describe().T"
   ]
  },
  {
   "cell_type": "markdown",
   "metadata": {},
   "source": [
    "##### Изучение признака \"datetime\"."
   ]
  },
  {
   "cell_type": "code",
   "execution_count": 10,
   "metadata": {},
   "outputs": [
    {
     "data": {
      "text/plain": [
       "True"
      ]
     },
     "execution_count": 10,
     "metadata": {},
     "output_type": "execute_result"
    }
   ],
   "source": [
    "# Проверка: расположены ли данные в хронологическом порядке?\n",
    "df_taxi['datetime'].is_monotonic"
   ]
  },
  {
   "cell_type": "code",
   "execution_count": 11,
   "metadata": {},
   "outputs": [
    {
     "data": {
      "text/plain": [
       "0 days 00:10:00    26495\n",
       "Name: datetime, dtype: int64"
      ]
     },
     "execution_count": 11,
     "metadata": {},
     "output_type": "execute_result"
    }
   ],
   "source": [
    "# Проверка: расположены ли данные с идентичным временным интервалом?\n",
    "(pd.to_datetime(df_taxi['datetime']) - pd.to_datetime(df_taxi['datetime'].shift())).value_counts()"
   ]
  },
  {
   "cell_type": "code",
   "execution_count": 12,
   "metadata": {},
   "outputs": [
    {
     "data": {
      "text/plain": [
       "True"
      ]
     },
     "execution_count": 12,
     "metadata": {},
     "output_type": "execute_result"
    }
   ],
   "source": [
    "# Проверка: уникальны ли значения признака \"datetime\"?\n",
    "df_taxi['datetime'].nunique() == df_taxi.shape[0]"
   ]
  },
  {
   "cell_type": "markdown",
   "metadata": {},
   "source": [
    "##### Изучение признака \"num_orders\"."
   ]
  },
  {
   "cell_type": "code",
   "execution_count": 13,
   "metadata": {
    "scrolled": false
   },
   "outputs": [
    {
     "data": {
      "image/png": "[encoded data removed]",
      "text/plain": [
       "<Figure size 1152x576 with 1 Axes>"
      ]
     },
     "metadata": {
      "needs_background": "light"
     },
     "output_type": "display_data"
    }
   ],
   "source": [
    "# Проверка: визуализация распределения признака \"num_orders\".\n",
    "plt.figure(figsize=(16, 8))\n",
    "sns.lineplot(x=pd.to_datetime(df_taxi['datetime']),\n",
    "             y=df_taxi['num_orders'])\n",
    "\n",
    "plt.grid()\n",
    "\n",
    "plt.title('График заказов в зависимости от времени', fontdict={'size': 16})\n",
    "plt.xlabel('Хронология заказов', fontdict={'size': 14})\n",
    "plt.ylabel('Количество заказов', fontdict={'size': 14});"
   ]
  },
  {
   "cell_type": "code",
   "execution_count": 14,
   "metadata": {
    "scrolled": false
   },
   "outputs": [
    {
     "data": {
      "image/png": "[encoded data removed]",
      "text/plain": [
       "<Figure size 1152x576 with 1 Axes>"
      ]
     },
     "metadata": {
      "needs_background": "light"
     },
     "output_type": "display_data"
    }
   ],
   "source": [
    "# Проверка: визуализация распределения признака \"num_orders\".\n",
    "plt.figure(figsize=(16, 8))\n",
    "sns.histplot(x=pd.to_datetime(df_taxi['datetime']),\n",
    "             y=df_taxi['num_orders'])\n",
    "\n",
    "plt.grid()\n",
    "\n",
    "plt.title('Гистограмма распределения заказов в зависимости от времени', fontdict={'size': 16})\n",
    "plt.xlabel('Хронология заказов', fontdict={'size': 14})\n",
    "plt.ylabel('Количество заказов', fontdict={'size': 14});"
   ]
  },
  {
   "cell_type": "markdown",
   "metadata": {},
   "source": [
    "##### Выводы"
   ]
  },
  {
   "cell_type": "markdown",
   "metadata": {},
   "source": [
    "В ходе разведочного анализа данных были установлены следующие особенности:\n",
    "1. Данные соответствуют сопроводительной документации.\n",
    "2. Название данных соответствует стилю <code>snake_case</code>.\n",
    "3. Данные не содержат пропусков.\n",
    "4. Признак <code>datetime</code> имеет тип данных <code>object</code> и может быть приведён к типу данных <code>datetime64</code>.\n",
    "5. Признак <code>datetime</code> содержит только уникальные значения и может быть использован в качестве индекса таблицы.\n",
    "6. Согласно признаку <code>datetime</code>, данные расположены в хронологическом порядке.\n",
    "7. Согласно признаку <code>datetime</code>, данные расположены с интервалом в 10 минут.\n",
    "8. В некоторых случаях наблюдаются аномально большие значения признака <code>num_orders</code>, частота таких наблюдений увеличивается ближе к концу временного ряда. На основании имеющейся информации невозможно установить, являются ли данные объекты выбросами или нет."
   ]
  },
  {
   "cell_type": "markdown",
   "metadata": {},
   "source": [
    "<div class=\"alert alert-success\" style=\"border-color: green; border-radius: 5px\">\n",
    "    <p><u><b>✅ КОММЕНТАРИЙ РЕВЬЮЕРА</b></u></p>\n",
    "ОК, данные на базе)"
   ]
  },
  {
   "cell_type": "markdown",
   "metadata": {},
   "source": [
    "#### Предобработка данных"
   ]
  },
  {
   "cell_type": "markdown",
   "metadata": {},
   "source": [
    "##### Приведение типа данных признака \"datetime\" к типу \"datetime64\""
   ]
  },
  {
   "cell_type": "code",
   "execution_count": 15,
   "metadata": {},
   "outputs": [],
   "source": [
    "# Приведение типа данных признака \"datetime\" к типу \"datetime64\".\n",
    "df_taxi['datetime'] = pd.to_datetime(df_taxi['datetime'])"
   ]
  },
  {
   "cell_type": "code",
   "execution_count": 16,
   "metadata": {},
   "outputs": [
    {
     "name": "stdout",
     "output_type": "stream",
     "text": [
      "<class 'pandas.core.frame.DataFrame'>\n",
      "RangeIndex: 26496 entries, 0 to 26495\n",
      "Data columns (total 2 columns):\n",
      " #   Column      Non-Null Count  Dtype         \n",
      "---  ------      --------------  -----         \n",
      " 0   datetime    26496 non-null  datetime64[ns]\n",
      " 1   num_orders  26496 non-null  int64         \n",
      "dtypes: datetime64[ns](1), int64(1)\n",
      "memory usage: 414.1 KB\n"
     ]
    }
   ],
   "source": [
    "# Проверка: вывод типов данных таблицы.\n",
    "df_taxi.info()"
   ]
  },
  {
   "cell_type": "markdown",
   "metadata": {},
   "source": [
    "##### Использование в качестве индекса значения признака \"datetime\""
   ]
  },
  {
   "cell_type": "code",
   "execution_count": 17,
   "metadata": {},
   "outputs": [],
   "source": [
    "# Установка нового индекса.\n",
    "df_taxi = df_taxi.set_index(df_taxi['datetime'])\n",
    "\n",
    "# Удаление признака \"datetime\", так как он используется в качестве индекса.\n",
    "df_taxi = df_taxi.drop(columns=['datetime'])"
   ]
  },
  {
   "cell_type": "code",
   "execution_count": 18,
   "metadata": {
    "scrolled": true
   },
   "outputs": [
    {
     "data": {
      "text/html": [
       "<div>\n",
       "<style scoped>\n",
       "    .dataframe tbody tr th:only-of-type {\n",
       "        vertical-align: middle;\n",
       "    }\n",
       "\n",
       "    .dataframe tbody tr th {\n",
       "        vertical-align: top;\n",
       "    }\n",
       "\n",
       "    .dataframe thead th {\n",
       "        text-align: right;\n",
       "    }\n",
       "</style>\n",
       "<table border=\"1\" class=\"dataframe\">\n",
       "  <thead>\n",
       "    <tr style=\"text-align: right;\">\n",
       "      <th></th>\n",
       "      <th>num_orders</th>\n",
       "    </tr>\n",
       "    <tr>\n",
       "      <th>datetime</th>\n",
       "      <th></th>\n",
       "    </tr>\n",
       "  </thead>\n",
       "  <tbody>\n",
       "    <tr>\n",
       "      <th>2018-03-01 00:00:00</th>\n",
       "      <td>9</td>\n",
       "    </tr>\n",
       "    <tr>\n",
       "      <th>2018-03-01 00:10:00</th>\n",
       "      <td>14</td>\n",
       "    </tr>\n",
       "    <tr>\n",
       "      <th>2018-03-01 00:20:00</th>\n",
       "      <td>28</td>\n",
       "    </tr>\n",
       "    <tr>\n",
       "      <th>2018-03-01 00:30:00</th>\n",
       "      <td>20</td>\n",
       "    </tr>\n",
       "    <tr>\n",
       "      <th>2018-03-01 00:40:00</th>\n",
       "      <td>32</td>\n",
       "    </tr>\n",
       "  </tbody>\n",
       "</table>\n",
       "</div>"
      ],
      "text/plain": [
       "                     num_orders\n",
       "datetime                       \n",
       "2018-03-01 00:00:00           9\n",
       "2018-03-01 00:10:00          14\n",
       "2018-03-01 00:20:00          28\n",
       "2018-03-01 00:30:00          20\n",
       "2018-03-01 00:40:00          32"
      ]
     },
     "execution_count": 18,
     "metadata": {},
     "output_type": "execute_result"
    }
   ],
   "source": [
    "# Проверка: вывод первых пяти строк таблицы.\n",
    "df_taxi.head()"
   ]
  },
  {
   "cell_type": "code",
   "execution_count": 19,
   "metadata": {},
   "outputs": [
    {
     "name": "stdout",
     "output_type": "stream",
     "text": [
      "<class 'pandas.core.frame.DataFrame'>\n",
      "DatetimeIndex: 26496 entries, 2018-03-01 00:00:00 to 2018-08-31 23:50:00\n",
      "Data columns (total 1 columns):\n",
      " #   Column      Non-Null Count  Dtype\n",
      "---  ------      --------------  -----\n",
      " 0   num_orders  26496 non-null  int64\n",
      "dtypes: int64(1)\n",
      "memory usage: 414.0 KB\n"
     ]
    }
   ],
   "source": [
    "# Проверка: вывод информации об индексе таблицы.\n",
    "df_taxi.info()"
   ]
  },
  {
   "cell_type": "markdown",
   "metadata": {},
   "source": [
    "##### Ресемплирование данных по одному часу."
   ]
  },
  {
   "cell_type": "code",
   "execution_count": 20,
   "metadata": {},
   "outputs": [
    {
     "data": {
      "text/plain": [
       "372811"
      ]
     },
     "execution_count": 20,
     "metadata": {},
     "output_type": "execute_result"
    }
   ],
   "source": [
    "# Суммирование всех заказов для дальнейшей проверки.\n",
    "num_orders_sum = df_taxi['num_orders'].sum()\n",
    "\n",
    "# Вывод суммы всех заказов.\n",
    "num_orders_sum"
   ]
  },
  {
   "cell_type": "code",
   "execution_count": 21,
   "metadata": {},
   "outputs": [],
   "source": [
    "# Ресемплирование данных по одному часу.\n",
    "df_taxi = df_taxi.resample('1H').sum()"
   ]
  },
  {
   "cell_type": "code",
   "execution_count": 22,
   "metadata": {},
   "outputs": [
    {
     "data": {
      "text/html": [
       "<div>\n",
       "<style scoped>\n",
       "    .dataframe tbody tr th:only-of-type {\n",
       "        vertical-align: middle;\n",
       "    }\n",
       "\n",
       "    .dataframe tbody tr th {\n",
       "        vertical-align: top;\n",
       "    }\n",
       "\n",
       "    .dataframe thead th {\n",
       "        text-align: right;\n",
       "    }\n",
       "</style>\n",
       "<table border=\"1\" class=\"dataframe\">\n",
       "  <thead>\n",
       "    <tr style=\"text-align: right;\">\n",
       "      <th></th>\n",
       "      <th>num_orders</th>\n",
       "    </tr>\n",
       "    <tr>\n",
       "      <th>datetime</th>\n",
       "      <th></th>\n",
       "    </tr>\n",
       "  </thead>\n",
       "  <tbody>\n",
       "    <tr>\n",
       "      <th>2018-03-01 00:00:00</th>\n",
       "      <td>124</td>\n",
       "    </tr>\n",
       "    <tr>\n",
       "      <th>2018-03-01 01:00:00</th>\n",
       "      <td>85</td>\n",
       "    </tr>\n",
       "    <tr>\n",
       "      <th>2018-03-01 02:00:00</th>\n",
       "      <td>71</td>\n",
       "    </tr>\n",
       "    <tr>\n",
       "      <th>2018-03-01 03:00:00</th>\n",
       "      <td>66</td>\n",
       "    </tr>\n",
       "    <tr>\n",
       "      <th>2018-03-01 04:00:00</th>\n",
       "      <td>43</td>\n",
       "    </tr>\n",
       "  </tbody>\n",
       "</table>\n",
       "</div>"
      ],
      "text/plain": [
       "                     num_orders\n",
       "datetime                       \n",
       "2018-03-01 00:00:00         124\n",
       "2018-03-01 01:00:00          85\n",
       "2018-03-01 02:00:00          71\n",
       "2018-03-01 03:00:00          66\n",
       "2018-03-01 04:00:00          43"
      ]
     },
     "execution_count": 22,
     "metadata": {},
     "output_type": "execute_result"
    }
   ],
   "source": [
    "# Проверка: вывод первых пяти строк таблицы.\n",
    "df_taxi.head()"
   ]
  },
  {
   "cell_type": "code",
   "execution_count": 23,
   "metadata": {},
   "outputs": [
    {
     "name": "stdout",
     "output_type": "stream",
     "text": [
      "<class 'pandas.core.frame.DataFrame'>\n",
      "DatetimeIndex: 4416 entries, 2018-03-01 00:00:00 to 2018-08-31 23:00:00\n",
      "Freq: H\n",
      "Data columns (total 1 columns):\n",
      " #   Column      Non-Null Count  Dtype\n",
      "---  ------      --------------  -----\n",
      " 0   num_orders  4416 non-null   int64\n",
      "dtypes: int64(1)\n",
      "memory usage: 69.0 KB\n"
     ]
    }
   ],
   "source": [
    "# Проверка: вывод информации об индексе таблицы.\n",
    "df_taxi.info()"
   ]
  },
  {
   "cell_type": "code",
   "execution_count": 24,
   "metadata": {},
   "outputs": [
    {
     "data": {
      "text/plain": [
       "True"
      ]
     },
     "execution_count": 24,
     "metadata": {},
     "output_type": "execute_result"
    }
   ],
   "source": [
    "# Проверка: сохранилась ли сумма заказов за всё время?\n",
    "df_taxi['num_orders'].sum() == num_orders_sum"
   ]
  },
  {
   "cell_type": "code",
   "execution_count": 25,
   "metadata": {},
   "outputs": [
    {
     "data": {
      "text/plain": [
       "True"
      ]
     },
     "execution_count": 25,
     "metadata": {},
     "output_type": "execute_result"
    }
   ],
   "source": [
    "# Проверка: расположены ли данные в хронологическом порядке?\n",
    "df_taxi.index.is_monotonic"
   ]
  },
  {
   "cell_type": "markdown",
   "metadata": {},
   "source": [
    "##### Выводы"
   ]
  },
  {
   "cell_type": "markdown",
   "metadata": {},
   "source": [
    "В ходе предобработки данных были выполнены следующие операции:\n",
    "1. Признак <code>datetime</code> был приведён к типу данных <code>datetime64</code>.\n",
    "2. Признак <code>datetime</code> был настроен как индекс таблицы.\n",
    "3. Было выполнено ресемплирование данных из интервала 10 минут в интервал 1 час с суммированием значений признака <code>num_orders</code>."
   ]
  },
  {
   "cell_type": "markdown",
   "metadata": {},
   "source": [
    "<div class=\"alert alert-success\" style=\"border-color: green; border-radius: 5px\">\n",
    "    <p><u><b>✅ КОММЕНТАРИЙ РЕВЬЮЕРА</b></u></p>\n",
    "ок, принято)"
   ]
  },
  {
   "cell_type": "markdown",
   "metadata": {},
   "source": [
    "## Анализ"
   ]
  },
  {
   "cell_type": "markdown",
   "metadata": {},
   "source": [
    "### Построение графиков целевой переменной"
   ]
  },
  {
   "cell_type": "markdown",
   "metadata": {},
   "source": [
    "Рассмотрим распределение признака <code>num_orders</code> после предобработки данных."
   ]
  },
  {
   "cell_type": "code",
   "execution_count": 26,
   "metadata": {},
   "outputs": [
    {
     "data": {
      "image/png": "[encoded data removed]",
      "text/plain": [
       "<Figure size 1152x576 with 1 Axes>"
      ]
     },
     "metadata": {
      "needs_background": "light"
     },
     "output_type": "display_data"
    }
   ],
   "source": [
    "# Проверка: визуализация распределения признака \"num_orders\".\n",
    "plt.figure(figsize=(16, 8))\n",
    "sns.lineplot(x=df_taxi.index,\n",
    "             y=df_taxi['num_orders'])\n",
    "\n",
    "plt.grid()\n",
    "\n",
    "plt.title('График заказов в зависимости от времени', fontdict={'size': 16})\n",
    "plt.xlabel('Хронология заказов', fontdict={'size': 14})\n",
    "plt.ylabel('Количество заказов', fontdict={'size': 14});"
   ]
  },
  {
   "cell_type": "code",
   "execution_count": 27,
   "metadata": {},
   "outputs": [
    {
     "data": {
      "image/png": "[encoded data removed]",
      "text/plain": [
       "<Figure size 1152x576 with 1 Axes>"
      ]
     },
     "metadata": {
      "needs_background": "light"
     },
     "output_type": "display_data"
    }
   ],
   "source": [
    "# Проверка: визуализация распределения признака \"num_orders\".\n",
    "plt.figure(figsize=(16, 8))\n",
    "sns.histplot(x=df_taxi.index,\n",
    "             y=df_taxi['num_orders'],\n",
    "             bins=int(np.round(df_taxi.shape[0] / 100)))\n",
    "\n",
    "plt.grid()\n",
    "\n",
    "plt.title('Гистограмма распределения заказов в зависимости от времени', fontdict={'size': 16})\n",
    "plt.xlabel('Хронология заказов', fontdict={'size': 14})\n",
    "plt.ylabel('Количество заказов', fontdict={'size': 14});"
   ]
  },
  {
   "cell_type": "markdown",
   "metadata": {},
   "source": [
    "На построенных графиках можно наблюдать, что среднее количество заказов имеет тенденцию к плавному увеличению с течением времени.\n",
    "\n",
    "Для проверки данной гипотезы выполним декомпозицию временного ряда."
   ]
  },
  {
   "cell_type": "markdown",
   "metadata": {},
   "source": [
    "### Декомпозиция временного ряда"
   ]
  },
  {
   "cell_type": "code",
   "execution_count": 28,
   "metadata": {},
   "outputs": [],
   "source": [
    "# Декомпозиция временного ряда.\n",
    "decomposed = seasonal_decompose(df_taxi.resample('1D').sum())\n",
    "\n",
    "# Фомирования таблицы декомпозиции.\n",
    "df_decomposed = pd.concat([decomposed.trend, decomposed.seasonal, decomposed.resid], axis=1)"
   ]
  },
  {
   "cell_type": "code",
   "execution_count": 29,
   "metadata": {},
   "outputs": [
    {
     "data": {
      "text/html": [
       "<div>\n",
       "<style scoped>\n",
       "    .dataframe tbody tr th:only-of-type {\n",
       "        vertical-align: middle;\n",
       "    }\n",
       "\n",
       "    .dataframe tbody tr th {\n",
       "        vertical-align: top;\n",
       "    }\n",
       "\n",
       "    .dataframe thead th {\n",
       "        text-align: right;\n",
       "    }\n",
       "</style>\n",
       "<table border=\"1\" class=\"dataframe\">\n",
       "  <thead>\n",
       "    <tr style=\"text-align: right;\">\n",
       "      <th></th>\n",
       "      <th>trend</th>\n",
       "      <th>seasonal</th>\n",
       "      <th>resid</th>\n",
       "    </tr>\n",
       "    <tr>\n",
       "      <th>datetime</th>\n",
       "      <th></th>\n",
       "      <th></th>\n",
       "      <th></th>\n",
       "    </tr>\n",
       "  </thead>\n",
       "  <tbody>\n",
       "    <tr>\n",
       "      <th>2018-03-01</th>\n",
       "      <td>NaN</td>\n",
       "      <td>13.568634</td>\n",
       "      <td>NaN</td>\n",
       "    </tr>\n",
       "    <tr>\n",
       "      <th>2018-03-02</th>\n",
       "      <td>NaN</td>\n",
       "      <td>137.511491</td>\n",
       "      <td>NaN</td>\n",
       "    </tr>\n",
       "    <tr>\n",
       "      <th>2018-03-03</th>\n",
       "      <td>NaN</td>\n",
       "      <td>24.505777</td>\n",
       "      <td>NaN</td>\n",
       "    </tr>\n",
       "    <tr>\n",
       "      <th>2018-03-04</th>\n",
       "      <td>1301.428571</td>\n",
       "      <td>-106.092025</td>\n",
       "      <td>-54.336546</td>\n",
       "    </tr>\n",
       "    <tr>\n",
       "      <th>2018-03-05</th>\n",
       "      <td>1343.571429</td>\n",
       "      <td>149.045338</td>\n",
       "      <td>-233.616766</td>\n",
       "    </tr>\n",
       "  </tbody>\n",
       "</table>\n",
       "</div>"
      ],
      "text/plain": [
       "                  trend    seasonal       resid\n",
       "datetime                                       \n",
       "2018-03-01          NaN   13.568634         NaN\n",
       "2018-03-02          NaN  137.511491         NaN\n",
       "2018-03-03          NaN   24.505777         NaN\n",
       "2018-03-04  1301.428571 -106.092025  -54.336546\n",
       "2018-03-05  1343.571429  149.045338 -233.616766"
      ]
     },
     "execution_count": 29,
     "metadata": {},
     "output_type": "execute_result"
    }
   ],
   "source": [
    "# Проверка: вывод первых пяти строк.\n",
    "df_decomposed.head()"
   ]
  },
  {
   "cell_type": "code",
   "execution_count": 30,
   "metadata": {
    "scrolled": false
   },
   "outputs": [
    {
     "data": {
      "image/png": "[encoded data removed]",
      "text/plain": [
       "<Figure size 1152x576 with 1 Axes>"
      ]
     },
     "metadata": {
      "needs_background": "light"
     },
     "output_type": "display_data"
    }
   ],
   "source": [
    "# Визуализация декомпозиции временного ряда.\n",
    "df_decomposed.plot(figsize=(16, 8))\n",
    "\n",
    "plt.grid()\n",
    "\n",
    "plt.title('Декомпозиция временного ряда', fontdict={'size': 16})\n",
    "plt.xlabel('Хронология заказов', fontdict={'size': 14})\n",
    "plt.ylabel('Количество заказов', fontdict={'size': 14});"
   ]
  },
  {
   "cell_type": "markdown",
   "metadata": {},
   "source": [
    "Гипотеза подтвердилась: при относительно стабильной сезонности наблюдается тренд к увеличению числа ежесуточных заказов.\n",
    "\n",
    "Также рассмотрим разности временного ряда."
   ]
  },
  {
   "cell_type": "markdown",
   "metadata": {},
   "source": [
    "<div class=\"alert alert-success\" style=\"border-color: green; border-radius: 5px\">\n",
    "    <p><u><b>✅ КОММЕНТАРИЙ РЕВЬЮЕРА</b></u></p>\n",
    "    <p>\n",
    "Исследование - понятно.<br>\n",
    "Инструмент декомпозиции в частности, а графический анализ временных рядов как в принципе - важный этап моделирования рядов.<br> Позволяет увидеть продажи визуально, а это помогает сделать предвариетльные выводы<br>\n",
    "    \n",
    "Хочу озвучить ещё такой момент<br>\n",
    "В реальности бизнеса есть все три вида сезонности:<br>\n",
    "1) дневная сезонность -  данные собраны по дням, т.е. будни и выходные имеют разные продажи<br>\n",
    "2) внутрисуточная сезонность: когда продажи утром отличаются от продаж вечером <br>\n",
    "3) месячная сезонность: когда продажи лета и осени - разные.<br><br>\n",
    "И если строить прогноз на длительный период времени, то без учёта всех видов сезонности  - не обойтись<br>\n",
    "Например: есть в данных восходящий тренд. Но вопрос такой возникает: <br>\n",
    "этот подъём действительно за счёт роста компании (чаще всего тренд - это отражение роста компании) или есть ещё влияние месячной сезнности? (летом - продаж в рост, например, и именно этот момент мы наблюдаем в данных)<br>\n",
    "Ответ на вопрос - не протой на имеющихся данных - у нас данных меньше года. А это означает, что месячную сезонность нам не просто вычислить адекватно - т.е. не внести в модель корректтировки месяцев(<br>\n",
    "Поэтому, я бы дал такой совет:<br>\n",
    "на горизонте прогнозирования - несколько часов или дней - можно предположить что у нас тренд.<br>\n",
    "А если строить прогноз на несколько недель - вот тут утверждать наличие тренда надо с большой осторожностью))))<br><br>\n",
    "Ну, а если вернуться к постановке задаче - построить прогноз на час (очень маленький горизонт), то двух сезонности часовой и дневной - должно хватить."
   ]
  },
  {
   "cell_type": "markdown",
   "metadata": {},
   "source": [
    "<div class=\"alert alert-info\">\n",
    "<b>Комментарий студента:</b>\n",
    "<br>Уверен, что тренд здесь точно есть! И обосновать можно - летний сезон.\n",
    "<br>Изначально пробовал рассчитать сезонность по часам, не получилось:\n",
    "</div>"
   ]
  },
  {
   "cell_type": "markdown",
   "metadata": {},
   "source": []
  },
  {
   "attachments": {
    "image.png": {
     "image/png": "[encoded data removed]"
    }
   },
   "cell_type": "markdown",
   "metadata": {},
   "source": [
    "![image.png](attachment:image.png)"
   ]
  },
  {
   "cell_type": "markdown",
   "metadata": {},
   "source": [
    "### Разности временного ряда"
   ]
  },
  {
   "cell_type": "code",
   "execution_count": 31,
   "metadata": {},
   "outputs": [],
   "source": [
    "# Вычисление разности временного ряда.\n",
    "df_difference = df_taxi.resample('1D').sum()\n",
    "df_difference = df_difference - df_difference.shift()\n",
    "\n",
    "df_difference['mean'] = df_difference['num_orders'].rolling(15, center=True).mean()\n",
    "df_difference['std'] = df_difference['num_orders'].rolling(15, center=True).std()"
   ]
  },
  {
   "cell_type": "code",
   "execution_count": 32,
   "metadata": {
    "scrolled": false
   },
   "outputs": [
    {
     "data": {
      "image/png": "[encoded data removed]",
      "text/plain": [
       "<Figure size 1152x576 with 1 Axes>"
      ]
     },
     "metadata": {
      "needs_background": "light"
     },
     "output_type": "display_data"
    }
   ],
   "source": [
    "# Визуализация разности временного ряда.\n",
    "df_difference.plot(figsize=(16, 8))\n",
    "\n",
    "plt.grid()\n",
    "\n",
    "plt.title('Разности временного ряда', fontdict={'size': 16})\n",
    "plt.xlabel('Хронология заказов', fontdict={'size': 14})\n",
    "plt.ylabel('Количество заказов', fontdict={'size': 14});"
   ]
  },
  {
   "cell_type": "markdown",
   "metadata": {},
   "source": [
    "График разностей временного ряда также подтверждает, что ближе к концу временного ряда наблюдаются более разнообразные количества заказов."
   ]
  },
  {
   "cell_type": "markdown",
   "metadata": {},
   "source": [
    "## Обучение"
   ]
  },
  {
   "cell_type": "markdown",
   "metadata": {},
   "source": [
    "Для построения моделей машинного обучения необходимо выполнить генерацию признаков."
   ]
  },
  {
   "cell_type": "markdown",
   "metadata": {},
   "source": [
    "<div class=\"alert alert-success\" style=\"border-color: green; border-radius: 5px\">\n",
    "    <p><u><b>✅ КОММЕНТАРИЙ РЕВЬЮЕРА</b></u></p>\n",
    "ОК, есть три вида нестационарности: тренд, сезонность, непостоянство дисперсии)<br>\n",
    "Стационарный ряд - это когда ничего из перечисленного в ряде не наблюдается (очистили его). Нужно это для одного из методов прогрнозироваия АРИМА, например. Для нашегго метода прогнозирования (регрессия) это понятие можно не использовать.</div>"
   ]
  },
  {
   "cell_type": "markdown",
   "metadata": {},
   "source": [
    "<div class=\"alert alert-info\">\n",
    "<b>Комментарий студента:</b>\n",
    "<br>Интересно!\n",
    "</div>"
   ]
  },
  {
   "cell_type": "markdown",
   "metadata": {},
   "source": [
    "### Генерация признаков"
   ]
  },
  {
   "cell_type": "markdown",
   "metadata": {},
   "source": [
    "Так как все имеющиеся данные датированы 2018 годом, не имеет смысла кодировать признак \"Год\" - он будет идентичным для всех объектов.\n",
    "\n",
    "Также реализуем расчёт отстающих значений и скользящего среднего."
   ]
  },
  {
   "cell_type": "code",
   "execution_count": 33,
   "metadata": {},
   "outputs": [],
   "source": [
    "# Функция для генерации новых признаков.\n",
    "def make_features(data, max_lag, rolling_mean_size):\n",
    "#     data['month'] = data.index.month\n",
    "#     data['day'] = data.index.day\n",
    "    data['hour'] = data.index.hour\n",
    "    data['dayofweek'] = data.index.dayofweek\n",
    "    \n",
    "    for lag in range(1, max_lag + 1):\n",
    "        data['lag_{}'.format(lag)] = data['num_orders'].shift(lag)\n",
    "    \n",
    "    data['rolling_mean'] = data['num_orders'].shift().rolling(rolling_mean_size).mean()"
   ]
  },
  {
   "cell_type": "markdown",
   "metadata": {},
   "source": [
    "<div class=\"alert alert-danger\" style=\"border-color: darkred; border-radius: 5px\">\n",
    "    <p><u><b>❌ КОММЕНТАРИЙ РЕВЬЮЕРА</b></u></p>\n",
    "На мой взгляд: не все факторы подходят, чисто логически. Выскажу свою позицию:<br><br>\n",
    "\n",
    "1) Фактор год: НЕТ, однозначно не подходит. У нас данных меньше года. Поэтому будет просто константа. ХОРОШО, ЧТО НЕ ИСПОЛЬЗУЕШЬ.<br>\n",
    "2) Фактор месяц: НЕТ, аналогично году, у нас в истории всего один март, май.... Да и горизоно прогноза - часы. Поэтому сезонность времени года будет просто в тренде уже заложена.<br>\n",
    "3) Фактор день: НЕТ, также не подходит, будет просто последовательность чисел<br>\n",
    "4) Фактор день недели: ДА, т.к. у нас есть недельная сезонность<br>\n",
    "5) Фактор час: ДА, т.к. есть часовая (суточная) сезонность.<br>\n",
    "6) Факто lag: ДА, это параметр авторегрессии - учёт влияния вчерашних событий на сегодняшние.<br>\n",
    "7) Фактор rolling: ДА, это аналог тренда. Чем больше окно сглаживания, тем ровнее линия тренда <br>\n",
    "\n",
    "Как ты думаешь?</div>"
   ]
  },
  {
   "cell_type": "markdown",
   "metadata": {},
   "source": [
    "<div class=\"alert alert-info\">\n",
    "<b>Комментарий студента:</b>\n",
    "<br>Используя свойство, что линейная регрессия умеет занулять неифнормативные признаки при большом числе признаков, я решил дать ей возможность попробовать получить информацию из таких признаков как месяц и день. Сейчас задумался и решил, что действительно месяц и день вред ли принесут пользу.\n",
    "<br>Убрал признаки <code>month</code> и <code>day</code>.\n",
    "</div>"
   ]
  },
  {
   "cell_type": "markdown",
   "metadata": {},
   "source": [
    "<div class=\"alert alert-success\" style=\"border-color: green; border-radius: 5px\">\n",
    "    <p><u><b>✅ КОММЕНТАРИЙ РЕВЬЮЕРА 2</b></u></p>\n",
    "    <p>👍👍</p>\n",
    "</div>"
   ]
  },
  {
   "cell_type": "markdown",
   "metadata": {},
   "source": [
    "<div class=\"alert alert-success\" style=\"border-color: green; border-radius: 5px\">\n",
    "    <p><u><b>✅ КОММЕНТАРИЙ РЕВЬЮЕРА</b></u></p> Сразу пару строк о факторе месяц:<br>\n",
    "Если нам брать горизонт прогноза месяц или два , то фактор месяц - очень важне  это факт. А если брать горизонт прогноза несколько часов, то фактор времени года - на таком отрезке времени и не заметен. К тому же, он уже присутствует в тренде (скользящем среднем). Т.е. его участие локально как бы и есть.<br>\n",
    "\n",
    "То, что сейчас месяц может увеличивать точность - это случайно. Он ведь представлен как числа от 1 до 8 и ещё есть тренд, как раз. Т.е. произошло наложение тренда и номера месяца. А вот если продажи буду уходить вниз (или перестанут расти), а мы будем продолжать пользовться моделью, то модель будет предсказывать рост на сентябрь (цифра 9), на октябпрь (цифра 10)... т.е. чиссто числовая тенденция)<br>\n",
    "    \n",
    "Поэтому, рекомендация для будущих проетов на эту тему:<br>\n",
    "Учитывать горизонт прогноза: если задача стоит среднесрочного и долгосрочного прогноза, то месяц нам в помощь (при этом данных должно быть не меннее 2-х / 3-х лет). Если задача краткосрочного прогнозирования - месяц не надо использовать, он уже в тренде заложен.</div>"
   ]
  },
  {
   "cell_type": "markdown",
   "metadata": {},
   "source": [
    "<div class=\"alert alert-info\">\n",
    "<b>Комментарий студента:</b>\n",
    "<br>Очень интересно, спасибо!\n",
    "<br>Сейчас обратил внимание, что в постановке задачи проекта была подсказка: сделать прогноз на следующий час.\n",
    "</div>"
   ]
  },
  {
   "cell_type": "code",
   "execution_count": 34,
   "metadata": {
    "scrolled": true
   },
   "outputs": [],
   "source": [
    "# Генерация новых признаков:\n",
    "# 20 отстающих значений;\n",
    "# скользящее среднее с окном в 24 объектов.\n",
    "# make_features(df_taxi, 20, 10)\n",
    "make_features(df_taxi, 24, 24)"
   ]
  },
  {
   "cell_type": "markdown",
   "metadata": {},
   "source": [
    "<div class=\"alert alert-success\" style=\"border-color: green; border-radius: 5px\">\n",
    "    <p><u><b>✅ КОММЕНТАРИЙ РЕВЬЮЕРА</b></u></p>Пару строк по фактору лаг и скользящее среднее:<br>\n",
    "Lag: его называют ещё параметром авторегрессии. На бытовом уровне его можно понять так: допустим вчера мы собрались с друзьями и не много закусили.... повлияет ли это на сегодняшний настрой на жизнь? Скорее да)))) Так вот с авторегрессией также. Допустим lag=1 - учитывает (для удобства будем считать, что продажи собраны по дням) как вчерашние продажи - вчерашние события - воалияли на сегоняшние.Lag=2: учитывает как позавчерашние продажи влияютна сегодняшние.....<br>\n",
    "    \n",
    "По скользящему среднего:<br>\n",
    "Предположим rolling=10 - скользящее среднее. По сути, ищем среднее по 10 точкам, потом следующие 10 точек, и т.д. - это некое подобие тренда будет - средней линии. Т.е. - сглаживание колебаний/выбросов. Это легко увидеть на пределе: допустим длина ряда 100 дней. rolling(100) - это просто одно число - среднее всего ряда. <br>\n",
    "    \n",
    "Поэтому, если выставить сезонности - hour и деньНедели, то дополнительные факторы могут быть такие: лаг =1 (максимум 2), а скользящее среднее = 24 (среднее за сутки). Т.е. начинать с этого. В итоге модель будет приемлемая по точности и не много факторов.. а это значит и для бизнеса будет легче доносить решение)</div>"
   ]
  },
  {
   "cell_type": "markdown",
   "metadata": {},
   "source": [
    "<div class=\"alert alert-info\">\n",
    "<b>Комментарий студента:</b>\n",
    "<br>К сожалению, при использовании только нескольких отстающих значений модель обучается значительно хуже.\n",
    "<br>Скорректировал скользящее вреднее с учётом последних суток.\n",
    "</div>"
   ]
  },
  {
   "cell_type": "markdown",
   "metadata": {},
   "source": [
    "<div class=\"alert alert-success\" style=\"border-color: green; border-radius: 5px\">\n",
    "    <p><u><b>✅ КОММЕНТАРИЙ РЕВЬЮЕРА 2</b></u></p>\n",
    "    <p>Хорошо. Тут нет единственно верного решения. Могут подойти нескольок решений.</p>\n",
    "</div>"
   ]
  },
  {
   "cell_type": "code",
   "execution_count": 35,
   "metadata": {},
   "outputs": [],
   "source": [
    "# Исключение объектов с пропусками.\n",
    "df_taxi = df_taxi.dropna()"
   ]
  },
  {
   "cell_type": "code",
   "execution_count": 36,
   "metadata": {},
   "outputs": [
    {
     "data": {
      "text/html": [
       "<div>\n",
       "<style scoped>\n",
       "    .dataframe tbody tr th:only-of-type {\n",
       "        vertical-align: middle;\n",
       "    }\n",
       "\n",
       "    .dataframe tbody tr th {\n",
       "        vertical-align: top;\n",
       "    }\n",
       "\n",
       "    .dataframe thead th {\n",
       "        text-align: right;\n",
       "    }\n",
       "</style>\n",
       "<table border=\"1\" class=\"dataframe\">\n",
       "  <thead>\n",
       "    <tr style=\"text-align: right;\">\n",
       "      <th></th>\n",
       "      <th>num_orders</th>\n",
       "      <th>hour</th>\n",
       "      <th>dayofweek</th>\n",
       "      <th>lag_1</th>\n",
       "      <th>lag_2</th>\n",
       "      <th>lag_3</th>\n",
       "      <th>lag_4</th>\n",
       "      <th>lag_5</th>\n",
       "      <th>lag_6</th>\n",
       "      <th>lag_7</th>\n",
       "      <th>...</th>\n",
       "      <th>lag_16</th>\n",
       "      <th>lag_17</th>\n",
       "      <th>lag_18</th>\n",
       "      <th>lag_19</th>\n",
       "      <th>lag_20</th>\n",
       "      <th>lag_21</th>\n",
       "      <th>lag_22</th>\n",
       "      <th>lag_23</th>\n",
       "      <th>lag_24</th>\n",
       "      <th>rolling_mean</th>\n",
       "    </tr>\n",
       "    <tr>\n",
       "      <th>datetime</th>\n",
       "      <th></th>\n",
       "      <th></th>\n",
       "      <th></th>\n",
       "      <th></th>\n",
       "      <th></th>\n",
       "      <th></th>\n",
       "      <th></th>\n",
       "      <th></th>\n",
       "      <th></th>\n",
       "      <th></th>\n",
       "      <th></th>\n",
       "      <th></th>\n",
       "      <th></th>\n",
       "      <th></th>\n",
       "      <th></th>\n",
       "      <th></th>\n",
       "      <th></th>\n",
       "      <th></th>\n",
       "      <th></th>\n",
       "      <th></th>\n",
       "      <th></th>\n",
       "    </tr>\n",
       "  </thead>\n",
       "  <tbody>\n",
       "    <tr>\n",
       "      <th>2018-03-02 00:00:00</th>\n",
       "      <td>90</td>\n",
       "      <td>0</td>\n",
       "      <td>4</td>\n",
       "      <td>58.0</td>\n",
       "      <td>113.0</td>\n",
       "      <td>66.0</td>\n",
       "      <td>61.0</td>\n",
       "      <td>45.0</td>\n",
       "      <td>73.0</td>\n",
       "      <td>44.0</td>\n",
       "      <td>...</td>\n",
       "      <td>34.0</td>\n",
       "      <td>15.0</td>\n",
       "      <td>12.0</td>\n",
       "      <td>6.0</td>\n",
       "      <td>43.0</td>\n",
       "      <td>66.0</td>\n",
       "      <td>71.0</td>\n",
       "      <td>85.0</td>\n",
       "      <td>124.0</td>\n",
       "      <td>56.833333</td>\n",
       "    </tr>\n",
       "    <tr>\n",
       "      <th>2018-03-02 01:00:00</th>\n",
       "      <td>120</td>\n",
       "      <td>1</td>\n",
       "      <td>4</td>\n",
       "      <td>90.0</td>\n",
       "      <td>58.0</td>\n",
       "      <td>113.0</td>\n",
       "      <td>66.0</td>\n",
       "      <td>61.0</td>\n",
       "      <td>45.0</td>\n",
       "      <td>73.0</td>\n",
       "      <td>...</td>\n",
       "      <td>69.0</td>\n",
       "      <td>34.0</td>\n",
       "      <td>15.0</td>\n",
       "      <td>12.0</td>\n",
       "      <td>6.0</td>\n",
       "      <td>43.0</td>\n",
       "      <td>66.0</td>\n",
       "      <td>71.0</td>\n",
       "      <td>85.0</td>\n",
       "      <td>55.416667</td>\n",
       "    </tr>\n",
       "    <tr>\n",
       "      <th>2018-03-02 02:00:00</th>\n",
       "      <td>75</td>\n",
       "      <td>2</td>\n",
       "      <td>4</td>\n",
       "      <td>120.0</td>\n",
       "      <td>90.0</td>\n",
       "      <td>58.0</td>\n",
       "      <td>113.0</td>\n",
       "      <td>66.0</td>\n",
       "      <td>61.0</td>\n",
       "      <td>45.0</td>\n",
       "      <td>...</td>\n",
       "      <td>64.0</td>\n",
       "      <td>69.0</td>\n",
       "      <td>34.0</td>\n",
       "      <td>15.0</td>\n",
       "      <td>12.0</td>\n",
       "      <td>6.0</td>\n",
       "      <td>43.0</td>\n",
       "      <td>66.0</td>\n",
       "      <td>71.0</td>\n",
       "      <td>56.875000</td>\n",
       "    </tr>\n",
       "    <tr>\n",
       "      <th>2018-03-02 03:00:00</th>\n",
       "      <td>64</td>\n",
       "      <td>3</td>\n",
       "      <td>4</td>\n",
       "      <td>75.0</td>\n",
       "      <td>120.0</td>\n",
       "      <td>90.0</td>\n",
       "      <td>58.0</td>\n",
       "      <td>113.0</td>\n",
       "      <td>66.0</td>\n",
       "      <td>61.0</td>\n",
       "      <td>...</td>\n",
       "      <td>96.0</td>\n",
       "      <td>64.0</td>\n",
       "      <td>69.0</td>\n",
       "      <td>34.0</td>\n",
       "      <td>15.0</td>\n",
       "      <td>12.0</td>\n",
       "      <td>6.0</td>\n",
       "      <td>43.0</td>\n",
       "      <td>66.0</td>\n",
       "      <td>57.041667</td>\n",
       "    </tr>\n",
       "    <tr>\n",
       "      <th>2018-03-02 04:00:00</th>\n",
       "      <td>20</td>\n",
       "      <td>4</td>\n",
       "      <td>4</td>\n",
       "      <td>64.0</td>\n",
       "      <td>75.0</td>\n",
       "      <td>120.0</td>\n",
       "      <td>90.0</td>\n",
       "      <td>58.0</td>\n",
       "      <td>113.0</td>\n",
       "      <td>66.0</td>\n",
       "      <td>...</td>\n",
       "      <td>30.0</td>\n",
       "      <td>96.0</td>\n",
       "      <td>64.0</td>\n",
       "      <td>69.0</td>\n",
       "      <td>34.0</td>\n",
       "      <td>15.0</td>\n",
       "      <td>12.0</td>\n",
       "      <td>6.0</td>\n",
       "      <td>43.0</td>\n",
       "      <td>56.958333</td>\n",
       "    </tr>\n",
       "  </tbody>\n",
       "</table>\n",
       "<p>5 rows × 28 columns</p>\n",
       "</div>"
      ],
      "text/plain": [
       "                     num_orders  hour  dayofweek  lag_1  lag_2  lag_3  lag_4  \\\n",
       "datetime                                                                       \n",
       "2018-03-02 00:00:00          90     0          4   58.0  113.0   66.0   61.0   \n",
       "2018-03-02 01:00:00         120     1          4   90.0   58.0  113.0   66.0   \n",
       "2018-03-02 02:00:00          75     2          4  120.0   90.0   58.0  113.0   \n",
       "2018-03-02 03:00:00          64     3          4   75.0  120.0   90.0   58.0   \n",
       "2018-03-02 04:00:00          20     4          4   64.0   75.0  120.0   90.0   \n",
       "\n",
       "                     lag_5  lag_6  lag_7  ...  lag_16  lag_17  lag_18  lag_19  \\\n",
       "datetime                                  ...                                   \n",
       "2018-03-02 00:00:00   45.0   73.0   44.0  ...    34.0    15.0    12.0     6.0   \n",
       "2018-03-02 01:00:00   61.0   45.0   73.0  ...    69.0    34.0    15.0    12.0   \n",
       "2018-03-02 02:00:00   66.0   61.0   45.0  ...    64.0    69.0    34.0    15.0   \n",
       "2018-03-02 03:00:00  113.0   66.0   61.0  ...    96.0    64.0    69.0    34.0   \n",
       "2018-03-02 04:00:00   58.0  113.0   66.0  ...    30.0    96.0    64.0    69.0   \n",
       "\n",
       "                     lag_20  lag_21  lag_22  lag_23  lag_24  rolling_mean  \n",
       "datetime                                                                   \n",
       "2018-03-02 00:00:00    43.0    66.0    71.0    85.0   124.0     56.833333  \n",
       "2018-03-02 01:00:00     6.0    43.0    66.0    71.0    85.0     55.416667  \n",
       "2018-03-02 02:00:00    12.0     6.0    43.0    66.0    71.0     56.875000  \n",
       "2018-03-02 03:00:00    15.0    12.0     6.0    43.0    66.0     57.041667  \n",
       "2018-03-02 04:00:00    34.0    15.0    12.0     6.0    43.0     56.958333  \n",
       "\n",
       "[5 rows x 28 columns]"
      ]
     },
     "execution_count": 36,
     "metadata": {},
     "output_type": "execute_result"
    }
   ],
   "source": [
    "# Проверка: вывод первых пяти строк.\n",
    "df_taxi.head()"
   ]
  },
  {
   "cell_type": "markdown",
   "metadata": {},
   "source": [
    "В результате генерации новых признаков были исключены 24 объекта в начале временного ряда. Для данных объектов было невозможности рассчитать отстающие значения и скользящее среднее, поэтому они не имели пользы для построения модели."
   ]
  },
  {
   "cell_type": "markdown",
   "metadata": {},
   "source": [
    "### Разбиение данных на обучающую и тестовую выборки"
   ]
  },
  {
   "cell_type": "code",
   "execution_count": 37,
   "metadata": {},
   "outputs": [
    {
     "data": {
      "text/plain": [
       "((3952, 27), (440, 27), (3952, 1), (440, 1))"
      ]
     },
     "execution_count": 37,
     "metadata": {},
     "output_type": "execute_result"
    }
   ],
   "source": [
    "# Определение признаков и целевой переменной.\n",
    "X = df_taxi.drop(columns=['num_orders']).copy()\n",
    "y = df_taxi[['num_orders']].copy()\n",
    "\n",
    "# Разбиение данных на обучающую и тестовую выборки.\n",
    "X_train, X_test, y_train, y_test = train_test_split(X, y, test_size=0.1, shuffle=False)\n",
    "\n",
    "# Проверка: вывод размерностей.\n",
    "X_train.shape, X_test.shape, y_train.shape, y_test.shape"
   ]
  },
  {
   "cell_type": "markdown",
   "metadata": {},
   "source": [
    "<div class=\"alert alert-success\" style=\"border-color: green; border-radius: 5px\">\n",
    "    <p><u><b>✅ КОММЕНТАРИЙ РЕВЬЮЕРА</b></u></p>ОК</div>"
   ]
  },
  {
   "cell_type": "markdown",
   "metadata": {},
   "source": [
    "### Базовая модель"
   ]
  },
  {
   "cell_type": "markdown",
   "metadata": {},
   "source": [
    "Реализуем прогноз при помощи базовой модели, которая использует среднее значение для прогноза."
   ]
  },
  {
   "cell_type": "code",
   "execution_count": 38,
   "metadata": {},
   "outputs": [],
   "source": [
    "# Иницализация базовой модели.\n",
    "model_base = DummyRegressor()"
   ]
  },
  {
   "cell_type": "code",
   "execution_count": 39,
   "metadata": {},
   "outputs": [
    {
     "data": {
      "text/plain": [
       "DummyRegressor()"
      ]
     },
     "execution_count": 39,
     "metadata": {},
     "output_type": "execute_result"
    }
   ],
   "source": [
    "# Обучение базовой модели.\n",
    "model_base.fit(X_train, y_train)"
   ]
  },
  {
   "cell_type": "code",
   "execution_count": 40,
   "metadata": {},
   "outputs": [
    {
     "name": "stdout",
     "output_type": "stream",
     "text": [
      "CPU times: user 247 µs, sys: 42 µs, total: 289 µs\n",
      "Wall time: 226 µs\n"
     ]
    }
   ],
   "source": [
    "%%time\n",
    "\n",
    "# Прогноз на обучающей выборке.\n",
    "y_pred = model_base.predict(X_train)"
   ]
  },
  {
   "cell_type": "code",
   "execution_count": 41,
   "metadata": {},
   "outputs": [],
   "source": [
    "# Округление результатов прогноза.\n",
    "y_pred = np.round(y_pred)"
   ]
  },
  {
   "cell_type": "code",
   "execution_count": 42,
   "metadata": {},
   "outputs": [],
   "source": [
    "# Инициализация таблицы метрик.\n",
    "df_metrics = pd.DataFrame()"
   ]
  },
  {
   "cell_type": "code",
   "execution_count": 43,
   "metadata": {},
   "outputs": [],
   "source": [
    "# Вычисление метрики на обучающей выборке.\n",
    "df_metrics.loc['DummyRegressor', 'RMSE_train'] = np.round(mean_squared_error(y_train, y_pred, squared=False), 2)"
   ]
  },
  {
   "cell_type": "code",
   "execution_count": 44,
   "metadata": {},
   "outputs": [
    {
     "name": "stdout",
     "output_type": "stream",
     "text": [
      "CPU times: user 109 µs, sys: 19 µs, total: 128 µs\n",
      "Wall time: 106 µs\n"
     ]
    }
   ],
   "source": [
    "%%time\n",
    "\n",
    "# Прогноз на тестовой выборке.\n",
    "y_pred = model_base.predict(X_test)"
   ]
  },
  {
   "cell_type": "code",
   "execution_count": 45,
   "metadata": {},
   "outputs": [],
   "source": [
    "# Округление результатов прогноза.\n",
    "y_pred = np.round(y_pred)"
   ]
  },
  {
   "cell_type": "code",
   "execution_count": 46,
   "metadata": {},
   "outputs": [],
   "source": [
    "# Вычисление метрики на тестовой выборке.\n",
    "df_metrics.loc['DummyRegressor', 'RMSE_test'] = np.round(mean_squared_error(y_test, y_pred, squared=False), 2)"
   ]
  },
  {
   "cell_type": "code",
   "execution_count": 47,
   "metadata": {
    "scrolled": true
   },
   "outputs": [
    {
     "data": {
      "text/html": [
       "<div>\n",
       "<style scoped>\n",
       "    .dataframe tbody tr th:only-of-type {\n",
       "        vertical-align: middle;\n",
       "    }\n",
       "\n",
       "    .dataframe tbody tr th {\n",
       "        vertical-align: top;\n",
       "    }\n",
       "\n",
       "    .dataframe thead th {\n",
       "        text-align: right;\n",
       "    }\n",
       "</style>\n",
       "<table border=\"1\" class=\"dataframe\">\n",
       "  <thead>\n",
       "    <tr style=\"text-align: right;\">\n",
       "      <th></th>\n",
       "      <th>RMSE_train</th>\n",
       "      <th>RMSE_test</th>\n",
       "    </tr>\n",
       "  </thead>\n",
       "  <tbody>\n",
       "    <tr>\n",
       "      <th>DummyRegressor</th>\n",
       "      <td>38.71</td>\n",
       "      <td>85.01</td>\n",
       "    </tr>\n",
       "  </tbody>\n",
       "</table>\n",
       "</div>"
      ],
      "text/plain": [
       "                RMSE_train  RMSE_test\n",
       "DummyRegressor       38.71      85.01"
      ]
     },
     "execution_count": 47,
     "metadata": {},
     "output_type": "execute_result"
    }
   ],
   "source": [
    "# Вывод метрик.\n",
    "df_metrics"
   ]
  },
  {
   "cell_type": "markdown",
   "metadata": {},
   "source": [
    "### Прогноз при помощи предыдущих значений"
   ]
  },
  {
   "cell_type": "code",
   "execution_count": 48,
   "metadata": {},
   "outputs": [],
   "source": [
    "# Прогноз на обучающей выборке.\n",
    "y_pred = y_train.shift(fill_value=y_train.iloc[0, 0])"
   ]
  },
  {
   "cell_type": "code",
   "execution_count": 49,
   "metadata": {},
   "outputs": [],
   "source": [
    "# Вычисление метрики на обучающей выборке.\n",
    "df_metrics.loc['PreviousValue', 'RMSE_train'] = np.round(mean_squared_error(y_train, y_pred, squared=False), 2)"
   ]
  },
  {
   "cell_type": "code",
   "execution_count": 50,
   "metadata": {},
   "outputs": [],
   "source": [
    "# Прогноз на тестовой выборке.\n",
    "y_pred = y_test.shift(fill_value=y_train.iloc[-1, 0])"
   ]
  },
  {
   "cell_type": "code",
   "execution_count": 51,
   "metadata": {},
   "outputs": [],
   "source": [
    "# Вычисление метрики на тестовой выборке.\n",
    "df_metrics.loc['PreviousValue', 'RMSE_test'] = np.round(mean_squared_error(y_test, y_pred, squared=False), 2)"
   ]
  },
  {
   "cell_type": "code",
   "execution_count": 52,
   "metadata": {
    "scrolled": true
   },
   "outputs": [
    {
     "data": {
      "text/html": [
       "<div>\n",
       "<style scoped>\n",
       "    .dataframe tbody tr th:only-of-type {\n",
       "        vertical-align: middle;\n",
       "    }\n",
       "\n",
       "    .dataframe tbody tr th {\n",
       "        vertical-align: top;\n",
       "    }\n",
       "\n",
       "    .dataframe thead th {\n",
       "        text-align: right;\n",
       "    }\n",
       "</style>\n",
       "<table border=\"1\" class=\"dataframe\">\n",
       "  <thead>\n",
       "    <tr style=\"text-align: right;\">\n",
       "      <th></th>\n",
       "      <th>RMSE_train</th>\n",
       "      <th>RMSE_test</th>\n",
       "    </tr>\n",
       "  </thead>\n",
       "  <tbody>\n",
       "    <tr>\n",
       "      <th>DummyRegressor</th>\n",
       "      <td>38.71</td>\n",
       "      <td>85.01</td>\n",
       "    </tr>\n",
       "    <tr>\n",
       "      <th>PreviousValue</th>\n",
       "      <td>36.19</td>\n",
       "      <td>58.88</td>\n",
       "    </tr>\n",
       "  </tbody>\n",
       "</table>\n",
       "</div>"
      ],
      "text/plain": [
       "                RMSE_train  RMSE_test\n",
       "DummyRegressor       38.71      85.01\n",
       "PreviousValue        36.19      58.88"
      ]
     },
     "execution_count": 52,
     "metadata": {},
     "output_type": "execute_result"
    }
   ],
   "source": [
    "# Вывод метрик.\n",
    "df_metrics"
   ]
  },
  {
   "cell_type": "markdown",
   "metadata": {},
   "source": [
    "### Линейная регрессия"
   ]
  },
  {
   "cell_type": "markdown",
   "metadata": {},
   "source": [
    "Для обучения линейной регрессии необходимо представить признаки ~~<code>month</code>~~, ~~<code>day</code>,~~ <code>hour</code>, <code>dayofweek</code> как категориальные, а также стандартизировать вещественные признаки и добавить новый признак <code>bias</code>."
   ]
  },
  {
   "cell_type": "code",
   "execution_count": 53,
   "metadata": {},
   "outputs": [],
   "source": [
    "# Инструмент выбора признаков.\n",
    "class column_selector(BaseEstimator, TransformerMixin):\n",
    "    def __init__(self, list_columns):\n",
    "        self.list_columns = list_columns\n",
    "    \n",
    "    def fit(self, X, y=None):\n",
    "        return self\n",
    "    \n",
    "    def transform(self, X, y=None):\n",
    "        return X[self.list_columns]"
   ]
  },
  {
   "cell_type": "code",
   "execution_count": 54,
   "metadata": {},
   "outputs": [],
   "source": [
    "# Инструмент для создания перехвата для линейных моделей.\n",
    "class bias_maker(BaseEstimator, TransformerMixin):\n",
    "    def __init__(self, bias_name='bias'):\n",
    "        self.bias_name = bias_name\n",
    "    \n",
    "    def fit(self, X, y=None):\n",
    "        return self\n",
    "    \n",
    "    def transform(self, X, y=None):\n",
    "        X = X.copy()\n",
    "        X[self.bias_name] = 1\n",
    "        return X[[self.bias_name]]"
   ]
  },
  {
   "cell_type": "code",
   "execution_count": 55,
   "metadata": {},
   "outputs": [],
   "source": [
    "# Список категориальных признаков.\n",
    "# features_categorical = ['month', 'day', 'hour', 'dayofweek']\n",
    "features_categorical = ['hour', 'dayofweek']\n",
    "\n",
    "# Пайплайн для обработки категориальных признаков.\n",
    "pipe_categorical = make_pipeline(\n",
    "    column_selector(features_categorical),\n",
    "    OneHotEncoder(handle_unknown='ignore')\n",
    ")"
   ]
  },
  {
   "cell_type": "code",
   "execution_count": 56,
   "metadata": {},
   "outputs": [],
   "source": [
    "# Список вещественных признаков.\n",
    "features_numerical = [feature for feature in X_train.columns if 'lag_' in feature]\n",
    "\n",
    "# Пайплайн для обработки вещественных признаков.\n",
    "pipe_numerical = make_pipeline(\n",
    "    column_selector(features_numerical),\n",
    "    StandardScaler()\n",
    ")"
   ]
  },
  {
   "cell_type": "code",
   "execution_count": 57,
   "metadata": {},
   "outputs": [],
   "source": [
    "# Пайплайн для подготовки данных для линейной модели.\n",
    "pipe_processing = make_union(\n",
    "    pipe_categorical,\n",
    "    pipe_numerical,\n",
    "    bias_maker(),\n",
    "    n_jobs=-1\n",
    ")"
   ]
  },
  {
   "cell_type": "code",
   "execution_count": 58,
   "metadata": {},
   "outputs": [],
   "source": [
    "# Пайплайн с линейной моделью.\n",
    "pipe_model = make_pipeline(\n",
    "    pipe_processing,\n",
    "    LinearRegression(n_jobs=-1)\n",
    ")"
   ]
  },
  {
   "cell_type": "code",
   "execution_count": 59,
   "metadata": {
    "scrolled": false
   },
   "outputs": [
    {
     "name": "stdout",
     "output_type": "stream",
     "text": [
      "CPU times: user 37.1 ms, sys: 151 µs, total: 37.3 ms\n",
      "Wall time: 37.4 ms\n"
     ]
    },
    {
     "data": {
      "text/plain": [
       "Pipeline(steps=[('featureunion',\n",
       "                 FeatureUnion(n_jobs=-1,\n",
       "                              transformer_list=[('pipeline-1',\n",
       "                                                 Pipeline(steps=[('column_selector',\n",
       "                                                                  column_selector(list_columns=['hour',\n",
       "                                                                                                'dayofweek'])),\n",
       "                                                                 ('onehotencoder',\n",
       "                                                                  OneHotEncoder(handle_unknown='ignore'))])),\n",
       "                                                ('pipeline-2',\n",
       "                                                 Pipeline(steps=[('column_selector',\n",
       "                                                                  column_selector(list_columns=['lag_1',\n",
       "                                                                                                'lag_2',\n",
       "                                                                                                'lag_3',\n",
       "                                                                                                'lag_4',\n",
       "                                                                                                'lag_5',\n",
       "                                                                                                'lag_6',\n",
       "                                                                                                'lag_7',\n",
       "                                                                                                'lag_8',\n",
       "                                                                                                'lag_9',\n",
       "                                                                                                'lag_10',\n",
       "                                                                                                'lag_11',\n",
       "                                                                                                'lag_12',\n",
       "                                                                                                'lag_13',\n",
       "                                                                                                'lag_14',\n",
       "                                                                                                'lag_15',\n",
       "                                                                                                'lag_16',\n",
       "                                                                                                'lag_17',\n",
       "                                                                                                'lag_18',\n",
       "                                                                                                'lag_19',\n",
       "                                                                                                'lag_20',\n",
       "                                                                                                'lag_21',\n",
       "                                                                                                'lag_22',\n",
       "                                                                                                'lag_23',\n",
       "                                                                                                'lag_24'])),\n",
       "                                                                 ('standardscaler',\n",
       "                                                                  StandardScaler())])),\n",
       "                                                ('bias_maker', bias_maker())])),\n",
       "                ('linearregression', LinearRegression(n_jobs=-1))])"
      ]
     },
     "execution_count": 59,
     "metadata": {},
     "output_type": "execute_result"
    }
   ],
   "source": [
    "%%time\n",
    "\n",
    "# Построение линейной модели.\n",
    "pipe_model.fit(X_train, y_train)"
   ]
  },
  {
   "cell_type": "code",
   "execution_count": 60,
   "metadata": {},
   "outputs": [
    {
     "name": "stdout",
     "output_type": "stream",
     "text": [
      "CPU times: user 11.9 ms, sys: 130 µs, total: 12 ms\n",
      "Wall time: 10.8 ms\n"
     ]
    }
   ],
   "source": [
    "%%time\n",
    "\n",
    "# Прогноз на обучающей выборке.\n",
    "y_pred = pipe_model.predict(X_train)"
   ]
  },
  {
   "cell_type": "code",
   "execution_count": 61,
   "metadata": {},
   "outputs": [],
   "source": [
    "# Округление результатов прогноза.\n",
    "y_pred = np.round(y_pred)"
   ]
  },
  {
   "cell_type": "code",
   "execution_count": 62,
   "metadata": {},
   "outputs": [],
   "source": [
    "# Вычисление метрики на обучающей выборке.\n",
    "df_metrics.loc['LinearRegression', 'RMSE_train'] = np.round(mean_squared_error(y_train, y_pred, squared=False), 2)"
   ]
  },
  {
   "cell_type": "code",
   "execution_count": 63,
   "metadata": {},
   "outputs": [
    {
     "name": "stdout",
     "output_type": "stream",
     "text": [
      "CPU times: user 6.27 ms, sys: 0 ns, total: 6.27 ms\n",
      "Wall time: 5.92 ms\n"
     ]
    }
   ],
   "source": [
    "%%time\n",
    "\n",
    "# Прогноз на тестовой выборке.\n",
    "y_pred = pipe_model.predict(X_test)"
   ]
  },
  {
   "cell_type": "code",
   "execution_count": 64,
   "metadata": {},
   "outputs": [],
   "source": [
    "# Округление результатов прогноза.\n",
    "y_pred = np.round(y_pred)"
   ]
  },
  {
   "cell_type": "code",
   "execution_count": 65,
   "metadata": {},
   "outputs": [],
   "source": [
    "# Вычисление метрики на тестовой выборке.\n",
    "df_metrics.loc['LinearRegression', 'RMSE_test'] = np.round(mean_squared_error(y_test, y_pred, squared=False), 2)"
   ]
  },
  {
   "cell_type": "code",
   "execution_count": 66,
   "metadata": {
    "scrolled": true
   },
   "outputs": [
    {
     "data": {
      "text/html": [
       "<div>\n",
       "<style scoped>\n",
       "    .dataframe tbody tr th:only-of-type {\n",
       "        vertical-align: middle;\n",
       "    }\n",
       "\n",
       "    .dataframe tbody tr th {\n",
       "        vertical-align: top;\n",
       "    }\n",
       "\n",
       "    .dataframe thead th {\n",
       "        text-align: right;\n",
       "    }\n",
       "</style>\n",
       "<table border=\"1\" class=\"dataframe\">\n",
       "  <thead>\n",
       "    <tr style=\"text-align: right;\">\n",
       "      <th></th>\n",
       "      <th>RMSE_train</th>\n",
       "      <th>RMSE_test</th>\n",
       "    </tr>\n",
       "  </thead>\n",
       "  <tbody>\n",
       "    <tr>\n",
       "      <th>DummyRegressor</th>\n",
       "      <td>38.71</td>\n",
       "      <td>85.01</td>\n",
       "    </tr>\n",
       "    <tr>\n",
       "      <th>PreviousValue</th>\n",
       "      <td>36.19</td>\n",
       "      <td>58.88</td>\n",
       "    </tr>\n",
       "    <tr>\n",
       "      <th>LinearRegression</th>\n",
       "      <td>22.93</td>\n",
       "      <td>41.92</td>\n",
       "    </tr>\n",
       "  </tbody>\n",
       "</table>\n",
       "</div>"
      ],
      "text/plain": [
       "                  RMSE_train  RMSE_test\n",
       "DummyRegressor         38.71      85.01\n",
       "PreviousValue          36.19      58.88\n",
       "LinearRegression       22.93      41.92"
      ]
     },
     "execution_count": 66,
     "metadata": {},
     "output_type": "execute_result"
    }
   ],
   "source": [
    "# Вывод метрик.\n",
    "df_metrics"
   ]
  },
  {
   "cell_type": "markdown",
   "metadata": {},
   "source": [
    "### Дерево решений"
   ]
  },
  {
   "cell_type": "markdown",
   "metadata": {},
   "source": [
    "Дерево решений способно работать с категориальными признаками <code>month</code>, <code>day</code>, <code>hour</code>, <code>dayofweek</code>, которые уже закодированы по алгоритму <code>OrdinalEncoder</code>. Также для деревьев не требуется стандартизация вещественных признаков."
   ]
  },
  {
   "cell_type": "code",
   "execution_count": 67,
   "metadata": {},
   "outputs": [],
   "source": [
    "# Инициализация модели.\n",
    "model_dtr = DecisionTreeRegressor(random_state=GLOBAL__RANDOM_STATE)"
   ]
  },
  {
   "cell_type": "code",
   "execution_count": 68,
   "metadata": {},
   "outputs": [
    {
     "name": "stdout",
     "output_type": "stream",
     "text": [
      "CPU times: user 69.8 ms, sys: 225 µs, total: 70 ms\n",
      "Wall time: 69.7 ms\n"
     ]
    },
    {
     "data": {
      "text/plain": [
       "DecisionTreeRegressor(random_state=0)"
      ]
     },
     "execution_count": 68,
     "metadata": {},
     "output_type": "execute_result"
    }
   ],
   "source": [
    "%%time\n",
    "\n",
    "# Обучение модели.\n",
    "model_dtr.fit(X_train, y_train)"
   ]
  },
  {
   "cell_type": "code",
   "execution_count": 69,
   "metadata": {},
   "outputs": [
    {
     "name": "stdout",
     "output_type": "stream",
     "text": [
      "CPU times: user 3.56 ms, sys: 180 µs, total: 3.74 ms\n",
      "Wall time: 2.82 ms\n"
     ]
    }
   ],
   "source": [
    "%%time\n",
    "\n",
    "# Прогноз на обучающей выборке.\n",
    "y_pred = model_dtr.predict(X_train)"
   ]
  },
  {
   "cell_type": "code",
   "execution_count": 70,
   "metadata": {},
   "outputs": [],
   "source": [
    "# Округление результатов прогноза.\n",
    "y_pred = np.round(y_pred)"
   ]
  },
  {
   "cell_type": "code",
   "execution_count": 71,
   "metadata": {},
   "outputs": [],
   "source": [
    "# Вычисление метрики на обучающей выборке.\n",
    "df_metrics.loc['DecisionTreeRegressor', 'RMSE_train'] = np.round(mean_squared_error(y_train, y_pred, squared=False), 2)"
   ]
  },
  {
   "cell_type": "code",
   "execution_count": 72,
   "metadata": {
    "scrolled": true
   },
   "outputs": [
    {
     "name": "stdout",
     "output_type": "stream",
     "text": [
      "CPU times: user 2.48 ms, sys: 0 ns, total: 2.48 ms\n",
      "Wall time: 2.23 ms\n"
     ]
    }
   ],
   "source": [
    "%%time\n",
    "\n",
    "# Прогноз на тестовой выборке.\n",
    "y_pred = model_dtr.predict(X_test)"
   ]
  },
  {
   "cell_type": "code",
   "execution_count": 73,
   "metadata": {},
   "outputs": [],
   "source": [
    "# Округление результатов прогноза.\n",
    "y_pred = np.round(y_pred)"
   ]
  },
  {
   "cell_type": "code",
   "execution_count": 74,
   "metadata": {},
   "outputs": [],
   "source": [
    "# Вычисление метрики на тестовой выборке.\n",
    "df_metrics.loc['DecisionTreeRegressor', 'RMSE_test'] = np.round(mean_squared_error(y_test, y_pred, squared=False), 2)"
   ]
  },
  {
   "cell_type": "code",
   "execution_count": 75,
   "metadata": {
    "scrolled": true
   },
   "outputs": [
    {
     "data": {
      "text/html": [
       "<div>\n",
       "<style scoped>\n",
       "    .dataframe tbody tr th:only-of-type {\n",
       "        vertical-align: middle;\n",
       "    }\n",
       "\n",
       "    .dataframe tbody tr th {\n",
       "        vertical-align: top;\n",
       "    }\n",
       "\n",
       "    .dataframe thead th {\n",
       "        text-align: right;\n",
       "    }\n",
       "</style>\n",
       "<table border=\"1\" class=\"dataframe\">\n",
       "  <thead>\n",
       "    <tr style=\"text-align: right;\">\n",
       "      <th></th>\n",
       "      <th>RMSE_train</th>\n",
       "      <th>RMSE_test</th>\n",
       "    </tr>\n",
       "  </thead>\n",
       "  <tbody>\n",
       "    <tr>\n",
       "      <th>DummyRegressor</th>\n",
       "      <td>38.71</td>\n",
       "      <td>85.01</td>\n",
       "    </tr>\n",
       "    <tr>\n",
       "      <th>PreviousValue</th>\n",
       "      <td>36.19</td>\n",
       "      <td>58.88</td>\n",
       "    </tr>\n",
       "    <tr>\n",
       "      <th>LinearRegression</th>\n",
       "      <td>22.93</td>\n",
       "      <td>41.92</td>\n",
       "    </tr>\n",
       "    <tr>\n",
       "      <th>DecisionTreeRegressor</th>\n",
       "      <td>0.00</td>\n",
       "      <td>56.27</td>\n",
       "    </tr>\n",
       "  </tbody>\n",
       "</table>\n",
       "</div>"
      ],
      "text/plain": [
       "                       RMSE_train  RMSE_test\n",
       "DummyRegressor              38.71      85.01\n",
       "PreviousValue               36.19      58.88\n",
       "LinearRegression            22.93      41.92\n",
       "DecisionTreeRegressor        0.00      56.27"
      ]
     },
     "execution_count": 75,
     "metadata": {},
     "output_type": "execute_result"
    }
   ],
   "source": [
    "# Вывод метрик.\n",
    "df_metrics"
   ]
  },
  {
   "cell_type": "markdown",
   "metadata": {},
   "source": [
    "Из-за склонности дерева решений переобучаться, оно идеально заполнило тенденции обучающей выборки и не справилось с тестовой. Более, модель не смогла пройти проверку на адекватность показав результаты на тестовой выборке хуже, чем метод прогноза <code>PreviousValue</code>.\n",
    "\n",
    "Попробуем нивелировать переобучение модели при помощи настройки гиперпараметров."
   ]
  },
  {
   "cell_type": "code",
   "execution_count": 76,
   "metadata": {},
   "outputs": [],
   "source": [
    "# Инициализация модели.\n",
    "model_dtr = DecisionTreeRegressor(max_depth=10,\n",
    "                                  min_samples_split=70,\n",
    "                                  min_samples_leaf=50,\n",
    "                                  random_state=GLOBAL__RANDOM_STATE)"
   ]
  },
  {
   "cell_type": "code",
   "execution_count": 77,
   "metadata": {},
   "outputs": [
    {
     "name": "stdout",
     "output_type": "stream",
     "text": [
      "CPU times: user 32.2 ms, sys: 0 ns, total: 32.2 ms\n",
      "Wall time: 31.7 ms\n"
     ]
    },
    {
     "data": {
      "text/plain": [
       "DecisionTreeRegressor(max_depth=10, min_samples_leaf=50, min_samples_split=70,\n",
       "                      random_state=0)"
      ]
     },
     "execution_count": 77,
     "metadata": {},
     "output_type": "execute_result"
    }
   ],
   "source": [
    "%%time\n",
    "\n",
    "# Обучение модели.\n",
    "model_dtr.fit(X_train, y_train)"
   ]
  },
  {
   "cell_type": "code",
   "execution_count": 78,
   "metadata": {},
   "outputs": [
    {
     "name": "stdout",
     "output_type": "stream",
     "text": [
      "CPU times: user 3.44 ms, sys: 0 ns, total: 3.44 ms\n",
      "Wall time: 2.54 ms\n"
     ]
    }
   ],
   "source": [
    "%%time\n",
    "\n",
    "# Прогноз на обучающей выборке.\n",
    "y_pred = model_dtr.predict(X_train)"
   ]
  },
  {
   "cell_type": "code",
   "execution_count": 79,
   "metadata": {},
   "outputs": [],
   "source": [
    "# Округление результатов прогноза.\n",
    "y_pred = np.round(y_pred)"
   ]
  },
  {
   "cell_type": "code",
   "execution_count": 80,
   "metadata": {},
   "outputs": [],
   "source": [
    "# Вычисление метрики на обучающей выборке.\n",
    "df_metrics.loc['DecisionTreeRegressor_2', 'RMSE_train'] = np.round(mean_squared_error(y_train, y_pred, squared=False), 2)"
   ]
  },
  {
   "cell_type": "code",
   "execution_count": 81,
   "metadata": {},
   "outputs": [
    {
     "name": "stdout",
     "output_type": "stream",
     "text": [
      "CPU times: user 0 ns, sys: 1.62 ms, total: 1.62 ms\n",
      "Wall time: 1.4 ms\n"
     ]
    }
   ],
   "source": [
    "%%time\n",
    "\n",
    "# Прогноз на тестовой выборке.\n",
    "y_pred = model_dtr.predict(X_test)"
   ]
  },
  {
   "cell_type": "code",
   "execution_count": 82,
   "metadata": {},
   "outputs": [],
   "source": [
    "# Округление результатов прогноза.\n",
    "y_pred = np.round(y_pred)"
   ]
  },
  {
   "cell_type": "code",
   "execution_count": 83,
   "metadata": {},
   "outputs": [],
   "source": [
    "# Вычисление метрики на тестовой выборке.\n",
    "df_metrics.loc['DecisionTreeRegressor_2', 'RMSE_test'] = np.round(mean_squared_error(y_test, y_pred, squared=False), 2)"
   ]
  },
  {
   "cell_type": "code",
   "execution_count": 84,
   "metadata": {
    "scrolled": true
   },
   "outputs": [
    {
     "data": {
      "text/html": [
       "<div>\n",
       "<style scoped>\n",
       "    .dataframe tbody tr th:only-of-type {\n",
       "        vertical-align: middle;\n",
       "    }\n",
       "\n",
       "    .dataframe tbody tr th {\n",
       "        vertical-align: top;\n",
       "    }\n",
       "\n",
       "    .dataframe thead th {\n",
       "        text-align: right;\n",
       "    }\n",
       "</style>\n",
       "<table border=\"1\" class=\"dataframe\">\n",
       "  <thead>\n",
       "    <tr style=\"text-align: right;\">\n",
       "      <th></th>\n",
       "      <th>RMSE_train</th>\n",
       "      <th>RMSE_test</th>\n",
       "    </tr>\n",
       "  </thead>\n",
       "  <tbody>\n",
       "    <tr>\n",
       "      <th>DummyRegressor</th>\n",
       "      <td>38.71</td>\n",
       "      <td>85.01</td>\n",
       "    </tr>\n",
       "    <tr>\n",
       "      <th>PreviousValue</th>\n",
       "      <td>36.19</td>\n",
       "      <td>58.88</td>\n",
       "    </tr>\n",
       "    <tr>\n",
       "      <th>LinearRegression</th>\n",
       "      <td>22.93</td>\n",
       "      <td>41.92</td>\n",
       "    </tr>\n",
       "    <tr>\n",
       "      <th>DecisionTreeRegressor</th>\n",
       "      <td>0.00</td>\n",
       "      <td>56.27</td>\n",
       "    </tr>\n",
       "    <tr>\n",
       "      <th>DecisionTreeRegressor_2</th>\n",
       "      <td>23.99</td>\n",
       "      <td>51.94</td>\n",
       "    </tr>\n",
       "  </tbody>\n",
       "</table>\n",
       "</div>"
      ],
      "text/plain": [
       "                         RMSE_train  RMSE_test\n",
       "DummyRegressor                38.71      85.01\n",
       "PreviousValue                 36.19      58.88\n",
       "LinearRegression              22.93      41.92\n",
       "DecisionTreeRegressor          0.00      56.27\n",
       "DecisionTreeRegressor_2       23.99      51.94"
      ]
     },
     "execution_count": 84,
     "metadata": {},
     "output_type": "execute_result"
    }
   ],
   "source": [
    "# Вывод метрик.\n",
    "df_metrics"
   ]
  },
  {
   "cell_type": "markdown",
   "metadata": {},
   "source": [
    "Перебор гиперпараметров позволил уменьшить эффект переобучения модели и пройти проверку на адекватность."
   ]
  },
  {
   "cell_type": "markdown",
   "metadata": {},
   "source": [
    "### Случайный лес решений"
   ]
  },
  {
   "cell_type": "markdown",
   "metadata": {},
   "source": [
    "Сперва обучим случайный лес без настройки гиперпараметров."
   ]
  },
  {
   "cell_type": "code",
   "execution_count": 85,
   "metadata": {},
   "outputs": [],
   "source": [
    "# Инициализация модели.\n",
    "model_rfr = RandomForestRegressor(random_state=GLOBAL__RANDOM_STATE)"
   ]
  },
  {
   "cell_type": "code",
   "execution_count": 86,
   "metadata": {},
   "outputs": [
    {
     "name": "stdout",
     "output_type": "stream",
     "text": [
      "CPU times: user 4.17 s, sys: 16.4 ms, total: 4.19 s\n",
      "Wall time: 4.19 s\n"
     ]
    },
    {
     "data": {
      "text/plain": [
       "RandomForestRegressor(random_state=0)"
      ]
     },
     "execution_count": 86,
     "metadata": {},
     "output_type": "execute_result"
    }
   ],
   "source": [
    "%%time\n",
    "\n",
    "# Обучение модели.\n",
    "model_rfr.fit(X_train, y_train['num_orders'])"
   ]
  },
  {
   "cell_type": "code",
   "execution_count": 87,
   "metadata": {},
   "outputs": [
    {
     "name": "stdout",
     "output_type": "stream",
     "text": [
      "CPU times: user 72.8 ms, sys: 41 µs, total: 72.8 ms\n",
      "Wall time: 77.2 ms\n"
     ]
    }
   ],
   "source": [
    "%%time\n",
    "\n",
    "# Прогноз на обучающей выборке.\n",
    "y_pred = model_rfr.predict(X_train)"
   ]
  },
  {
   "cell_type": "code",
   "execution_count": 88,
   "metadata": {},
   "outputs": [],
   "source": [
    "# Округление результатов прогноза.\n",
    "y_pred = np.round(y_pred)"
   ]
  },
  {
   "cell_type": "code",
   "execution_count": 89,
   "metadata": {},
   "outputs": [],
   "source": [
    "# Вычисление метрики на обучающей выборке.\n",
    "df_metrics.loc['RandomForestRegressor', 'RMSE_train'] = np.round(mean_squared_error(y_train, y_pred, squared=False), 2)"
   ]
  },
  {
   "cell_type": "code",
   "execution_count": 90,
   "metadata": {},
   "outputs": [
    {
     "name": "stdout",
     "output_type": "stream",
     "text": [
      "CPU times: user 20.3 ms, sys: 22 µs, total: 20.4 ms\n",
      "Wall time: 25.7 ms\n"
     ]
    }
   ],
   "source": [
    "%%time\n",
    "\n",
    "# Прогноз на тестовой выборке.\n",
    "y_pred = model_rfr.predict(X_test)"
   ]
  },
  {
   "cell_type": "code",
   "execution_count": 91,
   "metadata": {},
   "outputs": [],
   "source": [
    "# Округление результатов прогноза.\n",
    "y_pred = np.round(y_pred)"
   ]
  },
  {
   "cell_type": "code",
   "execution_count": 92,
   "metadata": {},
   "outputs": [],
   "source": [
    "# Вычисление метрики на тестовой выборке.\n",
    "df_metrics.loc['RandomForestRegressor', 'RMSE_test'] = np.round(mean_squared_error(y_test, y_pred, squared=False), 2)"
   ]
  },
  {
   "cell_type": "code",
   "execution_count": 93,
   "metadata": {
    "scrolled": true
   },
   "outputs": [
    {
     "data": {
      "text/html": [
       "<div>\n",
       "<style scoped>\n",
       "    .dataframe tbody tr th:only-of-type {\n",
       "        vertical-align: middle;\n",
       "    }\n",
       "\n",
       "    .dataframe tbody tr th {\n",
       "        vertical-align: top;\n",
       "    }\n",
       "\n",
       "    .dataframe thead th {\n",
       "        text-align: right;\n",
       "    }\n",
       "</style>\n",
       "<table border=\"1\" class=\"dataframe\">\n",
       "  <thead>\n",
       "    <tr style=\"text-align: right;\">\n",
       "      <th></th>\n",
       "      <th>RMSE_train</th>\n",
       "      <th>RMSE_test</th>\n",
       "    </tr>\n",
       "  </thead>\n",
       "  <tbody>\n",
       "    <tr>\n",
       "      <th>DummyRegressor</th>\n",
       "      <td>38.71</td>\n",
       "      <td>85.01</td>\n",
       "    </tr>\n",
       "    <tr>\n",
       "      <th>PreviousValue</th>\n",
       "      <td>36.19</td>\n",
       "      <td>58.88</td>\n",
       "    </tr>\n",
       "    <tr>\n",
       "      <th>LinearRegression</th>\n",
       "      <td>22.93</td>\n",
       "      <td>41.92</td>\n",
       "    </tr>\n",
       "    <tr>\n",
       "      <th>DecisionTreeRegressor</th>\n",
       "      <td>0.00</td>\n",
       "      <td>56.27</td>\n",
       "    </tr>\n",
       "    <tr>\n",
       "      <th>DecisionTreeRegressor_2</th>\n",
       "      <td>23.99</td>\n",
       "      <td>51.94</td>\n",
       "    </tr>\n",
       "    <tr>\n",
       "      <th>RandomForestRegressor</th>\n",
       "      <td>8.52</td>\n",
       "      <td>43.43</td>\n",
       "    </tr>\n",
       "  </tbody>\n",
       "</table>\n",
       "</div>"
      ],
      "text/plain": [
       "                         RMSE_train  RMSE_test\n",
       "DummyRegressor                38.71      85.01\n",
       "PreviousValue                 36.19      58.88\n",
       "LinearRegression              22.93      41.92\n",
       "DecisionTreeRegressor          0.00      56.27\n",
       "DecisionTreeRegressor_2       23.99      51.94\n",
       "RandomForestRegressor          8.52      43.43"
      ]
     },
     "execution_count": 93,
     "metadata": {},
     "output_type": "execute_result"
    }
   ],
   "source": [
    "# Вывод метрик.\n",
    "df_metrics"
   ]
  },
  {
   "cell_type": "markdown",
   "metadata": {},
   "source": [
    "Случайный лес справился с задачей лучше, чем все предыдущие модели, но так же переобучился."
   ]
  },
  {
   "cell_type": "code",
   "execution_count": 94,
   "metadata": {},
   "outputs": [],
   "source": [
    "# Инициализация модели.\n",
    "model_rfr = RandomForestRegressor(max_depth=30,\n",
    "                                  n_estimators=10,\n",
    "                                  min_samples_split=3,\n",
    "                                  min_samples_leaf=3,\n",
    "                                  random_state=GLOBAL__RANDOM_STATE)"
   ]
  },
  {
   "cell_type": "code",
   "execution_count": 95,
   "metadata": {},
   "outputs": [
    {
     "name": "stdout",
     "output_type": "stream",
     "text": [
      "CPU times: user 353 ms, sys: 0 ns, total: 353 ms\n",
      "Wall time: 352 ms\n"
     ]
    },
    {
     "data": {
      "text/plain": [
       "RandomForestRegressor(max_depth=30, min_samples_leaf=3, min_samples_split=3,\n",
       "                      n_estimators=10, random_state=0)"
      ]
     },
     "execution_count": 95,
     "metadata": {},
     "output_type": "execute_result"
    }
   ],
   "source": [
    "%%time\n",
    "\n",
    "# Обучение модели.\n",
    "model_rfr.fit(X_train, y_train['num_orders'])"
   ]
  },
  {
   "cell_type": "code",
   "execution_count": 96,
   "metadata": {},
   "outputs": [
    {
     "name": "stdout",
     "output_type": "stream",
     "text": [
      "CPU times: user 8.8 ms, sys: 0 ns, total: 8.8 ms\n",
      "Wall time: 7.81 ms\n"
     ]
    }
   ],
   "source": [
    "%%time\n",
    "\n",
    "# Прогноз на обучающей выборке.\n",
    "y_pred = model_rfr.predict(X_train)"
   ]
  },
  {
   "cell_type": "code",
   "execution_count": 97,
   "metadata": {},
   "outputs": [],
   "source": [
    "# Округление результатов прогноза.\n",
    "y_pred = np.round(y_pred)"
   ]
  },
  {
   "cell_type": "code",
   "execution_count": 98,
   "metadata": {},
   "outputs": [],
   "source": [
    "# Вычисление метрики на обучающей выборке.\n",
    "df_metrics.loc['RandomForestRegressor_2', 'RMSE_train'] = np.round(mean_squared_error(y_train, y_pred, squared=False), 2)"
   ]
  },
  {
   "cell_type": "code",
   "execution_count": 99,
   "metadata": {},
   "outputs": [
    {
     "name": "stdout",
     "output_type": "stream",
     "text": [
      "CPU times: user 0 ns, sys: 3.1 ms, total: 3.1 ms\n",
      "Wall time: 2.88 ms\n"
     ]
    }
   ],
   "source": [
    "%%time\n",
    "\n",
    "# Прогноз на тестовой выборке.\n",
    "y_pred = model_rfr.predict(X_test)"
   ]
  },
  {
   "cell_type": "code",
   "execution_count": 100,
   "metadata": {},
   "outputs": [],
   "source": [
    "# Округление результатов прогноза.\n",
    "y_pred = np.round(y_pred)"
   ]
  },
  {
   "cell_type": "code",
   "execution_count": 101,
   "metadata": {},
   "outputs": [],
   "source": [
    "# Вычисление метрики на тестовой выборке.\n",
    "df_metrics.loc['RandomForestRegressor_2', 'RMSE_test'] = np.round(mean_squared_error(y_test, y_pred, squared=False), 2)"
   ]
  },
  {
   "cell_type": "code",
   "execution_count": 102,
   "metadata": {
    "scrolled": true
   },
   "outputs": [
    {
     "data": {
      "text/html": [
       "<div>\n",
       "<style scoped>\n",
       "    .dataframe tbody tr th:only-of-type {\n",
       "        vertical-align: middle;\n",
       "    }\n",
       "\n",
       "    .dataframe tbody tr th {\n",
       "        vertical-align: top;\n",
       "    }\n",
       "\n",
       "    .dataframe thead th {\n",
       "        text-align: right;\n",
       "    }\n",
       "</style>\n",
       "<table border=\"1\" class=\"dataframe\">\n",
       "  <thead>\n",
       "    <tr style=\"text-align: right;\">\n",
       "      <th></th>\n",
       "      <th>RMSE_train</th>\n",
       "      <th>RMSE_test</th>\n",
       "    </tr>\n",
       "  </thead>\n",
       "  <tbody>\n",
       "    <tr>\n",
       "      <th>DummyRegressor</th>\n",
       "      <td>38.71</td>\n",
       "      <td>85.01</td>\n",
       "    </tr>\n",
       "    <tr>\n",
       "      <th>PreviousValue</th>\n",
       "      <td>36.19</td>\n",
       "      <td>58.88</td>\n",
       "    </tr>\n",
       "    <tr>\n",
       "      <th>LinearRegression</th>\n",
       "      <td>22.93</td>\n",
       "      <td>41.92</td>\n",
       "    </tr>\n",
       "    <tr>\n",
       "      <th>DecisionTreeRegressor</th>\n",
       "      <td>0.00</td>\n",
       "      <td>56.27</td>\n",
       "    </tr>\n",
       "    <tr>\n",
       "      <th>DecisionTreeRegressor_2</th>\n",
       "      <td>23.99</td>\n",
       "      <td>51.94</td>\n",
       "    </tr>\n",
       "    <tr>\n",
       "      <th>RandomForestRegressor</th>\n",
       "      <td>8.52</td>\n",
       "      <td>43.43</td>\n",
       "    </tr>\n",
       "    <tr>\n",
       "      <th>RandomForestRegressor_2</th>\n",
       "      <td>12.46</td>\n",
       "      <td>43.66</td>\n",
       "    </tr>\n",
       "  </tbody>\n",
       "</table>\n",
       "</div>"
      ],
      "text/plain": [
       "                         RMSE_train  RMSE_test\n",
       "DummyRegressor                38.71      85.01\n",
       "PreviousValue                 36.19      58.88\n",
       "LinearRegression              22.93      41.92\n",
       "DecisionTreeRegressor          0.00      56.27\n",
       "DecisionTreeRegressor_2       23.99      51.94\n",
       "RandomForestRegressor          8.52      43.43\n",
       "RandomForestRegressor_2       12.46      43.66"
      ]
     },
     "execution_count": 102,
     "metadata": {},
     "output_type": "execute_result"
    }
   ],
   "source": [
    "# Вывод метрик.\n",
    "df_metrics"
   ]
  },
  {
   "cell_type": "markdown",
   "metadata": {},
   "source": [
    "Перебор гиперпараметров показал, что лучшее качество показывает модель, которая максимально подгоняется под обучающую выборку. Уменьшение эффекта переобучения приводит к снижение качества прогноза на тестовой выборке."
   ]
  },
  {
   "cell_type": "markdown",
   "metadata": {},
   "source": [
    "## Тестирование"
   ]
  },
  {
   "cell_type": "code",
   "execution_count": 103,
   "metadata": {},
   "outputs": [
    {
     "data": {
      "text/html": [
       "<div>\n",
       "<style scoped>\n",
       "    .dataframe tbody tr th:only-of-type {\n",
       "        vertical-align: middle;\n",
       "    }\n",
       "\n",
       "    .dataframe tbody tr th {\n",
       "        vertical-align: top;\n",
       "    }\n",
       "\n",
       "    .dataframe thead th {\n",
       "        text-align: right;\n",
       "    }\n",
       "</style>\n",
       "<table border=\"1\" class=\"dataframe\">\n",
       "  <thead>\n",
       "    <tr style=\"text-align: right;\">\n",
       "      <th></th>\n",
       "      <th>RMSE_train</th>\n",
       "      <th>RMSE_test</th>\n",
       "    </tr>\n",
       "  </thead>\n",
       "  <tbody>\n",
       "    <tr>\n",
       "      <th>LinearRegression</th>\n",
       "      <td>22.93</td>\n",
       "      <td>41.92</td>\n",
       "    </tr>\n",
       "    <tr>\n",
       "      <th>RandomForestRegressor</th>\n",
       "      <td>8.52</td>\n",
       "      <td>43.43</td>\n",
       "    </tr>\n",
       "    <tr>\n",
       "      <th>RandomForestRegressor_2</th>\n",
       "      <td>12.46</td>\n",
       "      <td>43.66</td>\n",
       "    </tr>\n",
       "    <tr>\n",
       "      <th>DecisionTreeRegressor_2</th>\n",
       "      <td>23.99</td>\n",
       "      <td>51.94</td>\n",
       "    </tr>\n",
       "    <tr>\n",
       "      <th>DecisionTreeRegressor</th>\n",
       "      <td>0.00</td>\n",
       "      <td>56.27</td>\n",
       "    </tr>\n",
       "    <tr>\n",
       "      <th>PreviousValue</th>\n",
       "      <td>36.19</td>\n",
       "      <td>58.88</td>\n",
       "    </tr>\n",
       "    <tr>\n",
       "      <th>DummyRegressor</th>\n",
       "      <td>38.71</td>\n",
       "      <td>85.01</td>\n",
       "    </tr>\n",
       "  </tbody>\n",
       "</table>\n",
       "</div>"
      ],
      "text/plain": [
       "                         RMSE_train  RMSE_test\n",
       "LinearRegression              22.93      41.92\n",
       "RandomForestRegressor          8.52      43.43\n",
       "RandomForestRegressor_2       12.46      43.66\n",
       "DecisionTreeRegressor_2       23.99      51.94\n",
       "DecisionTreeRegressor          0.00      56.27\n",
       "PreviousValue                 36.19      58.88\n",
       "DummyRegressor                38.71      85.01"
      ]
     },
     "execution_count": 103,
     "metadata": {},
     "output_type": "execute_result"
    }
   ],
   "source": [
    "df_metrics.sort_values(by='RMSE_test')"
   ]
  },
  {
   "cell_type": "markdown",
   "metadata": {},
   "source": [
    "Анализ метрик показывает, что лучшее качество прогноза демонстрирует линейная регрессия.\n",
    "\n",
    "Далее идут две модели случайного леса без настройки гиперпараметров и с настройкой на втором и третьем местах соответственно.\n",
    "\n",
    "Дерево решений справилось с задачей хуже всех. Без настройки гиперпараметров данная модель едва прошла проверку на адекватность и не смогла преодолеть установленный порог в 48 единиц целевой переменной.\n",
    "\n",
    "Выполним прогноз при помощи лучшей модели ещё раз и сравним распределение спрогнозированных данных с фактическими."
   ]
  },
  {
   "cell_type": "code",
   "execution_count": 104,
   "metadata": {},
   "outputs": [
    {
     "name": "stdout",
     "output_type": "stream",
     "text": [
      "CPU times: user 6.8 ms, sys: 0 ns, total: 6.8 ms\n",
      "Wall time: 6.5 ms\n"
     ]
    }
   ],
   "source": [
    "%%time\n",
    "\n",
    "# Прогноз на тестовой выборке.\n",
    "y_pred = pipe_model.predict(X_test)"
   ]
  },
  {
   "cell_type": "code",
   "execution_count": 105,
   "metadata": {},
   "outputs": [],
   "source": [
    "# Округление результатов прогноза.\n",
    "y_pred = np.round(y_pred)"
   ]
  },
  {
   "cell_type": "code",
   "execution_count": 106,
   "metadata": {},
   "outputs": [],
   "source": [
    "# Добавление результатов прогноза модели.\n",
    "y_test = y_test.copy()\n",
    "y_test['num_orders_pred'] = y_pred"
   ]
  },
  {
   "cell_type": "code",
   "execution_count": 107,
   "metadata": {},
   "outputs": [
    {
     "data": {
      "text/html": [
       "<div>\n",
       "<style scoped>\n",
       "    .dataframe tbody tr th:only-of-type {\n",
       "        vertical-align: middle;\n",
       "    }\n",
       "\n",
       "    .dataframe tbody tr th {\n",
       "        vertical-align: top;\n",
       "    }\n",
       "\n",
       "    .dataframe thead th {\n",
       "        text-align: right;\n",
       "    }\n",
       "</style>\n",
       "<table border=\"1\" class=\"dataframe\">\n",
       "  <thead>\n",
       "    <tr style=\"text-align: right;\">\n",
       "      <th></th>\n",
       "      <th>num_orders</th>\n",
       "      <th>num_orders_pred</th>\n",
       "    </tr>\n",
       "    <tr>\n",
       "      <th>datetime</th>\n",
       "      <th></th>\n",
       "      <th></th>\n",
       "    </tr>\n",
       "  </thead>\n",
       "  <tbody>\n",
       "    <tr>\n",
       "      <th>2018-08-13 16:00:00</th>\n",
       "      <td>144</td>\n",
       "      <td>151.0</td>\n",
       "    </tr>\n",
       "    <tr>\n",
       "      <th>2018-08-13 17:00:00</th>\n",
       "      <td>152</td>\n",
       "      <td>113.0</td>\n",
       "    </tr>\n",
       "    <tr>\n",
       "      <th>2018-08-13 18:00:00</th>\n",
       "      <td>104</td>\n",
       "      <td>107.0</td>\n",
       "    </tr>\n",
       "    <tr>\n",
       "      <th>2018-08-13 19:00:00</th>\n",
       "      <td>91</td>\n",
       "      <td>115.0</td>\n",
       "    </tr>\n",
       "    <tr>\n",
       "      <th>2018-08-13 20:00:00</th>\n",
       "      <td>82</td>\n",
       "      <td>103.0</td>\n",
       "    </tr>\n",
       "  </tbody>\n",
       "</table>\n",
       "</div>"
      ],
      "text/plain": [
       "                     num_orders  num_orders_pred\n",
       "datetime                                        \n",
       "2018-08-13 16:00:00         144            151.0\n",
       "2018-08-13 17:00:00         152            113.0\n",
       "2018-08-13 18:00:00         104            107.0\n",
       "2018-08-13 19:00:00          91            115.0\n",
       "2018-08-13 20:00:00          82            103.0"
      ]
     },
     "execution_count": 107,
     "metadata": {},
     "output_type": "execute_result"
    }
   ],
   "source": [
    "# Проверка: вывод первых пяти строк.\n",
    "y_test.head()"
   ]
  },
  {
   "cell_type": "code",
   "execution_count": 108,
   "metadata": {
    "scrolled": false
   },
   "outputs": [
    {
     "data": {
      "text/plain": [
       "<Figure size 1152x576 with 0 Axes>"
      ]
     },
     "metadata": {},
     "output_type": "display_data"
    },
    {
     "data": {
      "image/png": "[encoded data removed]",
      "text/plain": [
       "<Figure size 1152x576 with 1 Axes>"
      ]
     },
     "metadata": {
      "needs_background": "light"
     },
     "output_type": "display_data"
    }
   ],
   "source": [
    "# Визуализация графика целевой переменной \"num_orders\" и её прогноза \"num_orders_pred\".\n",
    "plt.figure(figsize=(16, 8))\n",
    "\n",
    "y_test.plot(figsize=(16, 8))\n",
    "\n",
    "plt.grid()\n",
    "\n",
    "plt.title('График заказов в зависимости от времени', fontdict={'size': 16})\n",
    "plt.xlabel('Хронология заказов', fontdict={'size': 14})\n",
    "plt.ylabel('Количество заказов', fontdict={'size': 14});"
   ]
  },
  {
   "cell_type": "markdown",
   "metadata": {},
   "source": [
    "<div class=\"alert alert-success\" style=\"border-color: green; border-radius: 5px\">\n",
    "    <p><u><b>✅ КОММЕНТАРИЙ РЕВЬЮЕРА</b></u></p>\n",
    "ОК, глядя на график, а также добавляя отдельный анализ остатков, можно будет хорошо порабоать над улучшением модели..<br>"
   ]
  },
  {
   "cell_type": "markdown",
   "metadata": {},
   "source": [
    "Как можно наблюдать на графике, модель в целом хорошо уловила тенденцию целевой переменной: скачки и падения часто совпадают.\n",
    "\n",
    "Однако модель не смогла спрогнозировать величины больших и некоторых средних скачков.\n",
    "\n",
    "Анализ целевой переменной показал тенденцию, согласно которой в течении временного ряда наблюдается рост количества заказов. наиболее резкий рост начинается в конце временного ряда. Модель обучалась на данных, где был более умеренный спрос, поэтому не смогла спрогнозировать большие скачки целевой переменной."
   ]
  },
  {
   "cell_type": "markdown",
   "metadata": {},
   "source": [
    "<div class=\"alert alert-success\" style=\"border-color: green; border-radius: 5px\">\n",
    "    <p><u><b>✅ КОММЕНТАРИЙ РЕВЬЮЕРА</b></u></p>\n",
    "ОК, Сергей, с модельной частью тебе удалось справиться хорошо!<br>\n",
    "Видно, что этот скил уже достаточно сильный.<br>\n",
    "    \n",
    "И если сутейно рассуждать, то временные ряды стоят особняком во всём курсе, я бы сказал. Тут чуть иная модельная философия. Имменно поэтому позволял себе оставлять большие рассуждения, чтобы как-то раскрыть её особенности.<br>\n",
    "        \n",
    "Оставил несколько комментариев в тексте - готов буду ответить на твои вопросы!<br>\n",
    "  \n",
    "<font color='green'>\n",
    "Спасибо)<BR>\n",
    "БУДУ ЖДАТЬ КОММЕНТАРИЕВ</div> "
   ]
  },
  {
   "cell_type": "markdown",
   "metadata": {},
   "source": [
    "<div class=\"alert alert-info\">\n",
    "<b>Комментарий студента:</b>\n",
    "<br>Конкретно по данному проекту всё понятно.\n",
    "<br>Полагаю, разбираться с особенностями временных рядом предстоит ещё долго и самостоятельно. Но теперь есть понимание основ, спасибо!\n",
    "</div>"
   ]
  },
  {
   "cell_type": "markdown",
   "metadata": {},
   "source": [
    "<div class=\"alert alert-success\" style=\"border-color: green; border-radius: 5px\">\n",
    "    <p><u><b>✅ КОММЕНТАРИЙ РЕВЬЮЕРА 2</b></u></p>\n",
    "ОК, Сергей, принято.<br>\n",
    "Ты прав, тут много ещё что можно сказать по самой теме...<br>\n",
    "Если будет возможность тебе однозначно интересно посмотреть разные практические истории вот здесь:<br>\n",
    "https://ibf.org/knowledge - заморский институт бизнес-прогнозирования.<br>\n",
    "Там и статьи можно накопать, и методы посмомтерть...<br>\n",
    "\n",
    "Есть классический труд (он НЕ ML, а исключительно на эксель). Но для понимания сути временных рядов - то, что надо:<br>\n",
    "УИЧЕРН \"Бизнес-прогнозирование\"<br>\n",
    "\n",
    "Идеологически по системе прогнозирования, интересно почитать<br>\n",
    "ТОМАС УОЛЛАС, Р. СТАЛЬ \"планирование продаж и операций\" SO&P<br><br>     \n",
    "\n",
    "Спасибо за проект и за отклик)<br>\n",
    "УСПЕШНОГО ДАЛЬНЕЙШЕГО ОБЧЕНИЯ!</div>"
   ]
  },
  {
   "cell_type": "markdown",
   "metadata": {},
   "source": [
    "## Чек-лист проверки"
   ]
  },
  {
   "cell_type": "markdown",
   "metadata": {},
   "source": [
    "- [x]  Jupyter Notebook открыт\n",
    "- [x]  Весь код выполняется без ошибок\n",
    "- [x]  Ячейки с кодом расположены в порядке исполнения\n",
    "- [x]  Данные загружены и подготовлены\n",
    "- [x]  Данные проанализированы\n",
    "- [x]  Модель обучена, гиперпараметры подобраны\n",
    "- [x]  Качество моделей проверено, выводы сделаны\n",
    "- [x]  Значение *RMSE* на тестовой выборке не больше 48"
   ]
  },
  {
   "cell_type": "markdown",
   "metadata": {},
   "source": [
    "<div class=\"alert alert-success\" style=\"border-color: green; border-radius: 5px\">\n",
    "    <p><u><b>✅ КОММЕНТАРИЙ РЕВЬЮЕРА</b></u></p>\n",
    "Хотел бы оставить несколько идей для твоих будущих проектов в этой обоасти<br>\n",
    "\n",
    "На мой взгляд, в этой теме (временные ряды) главное - необходимо чувствовать исходный ряд продаж, с точки зрения бизнеса, и уже только потом подбирать к нему модели. Каждое колебание временного ряда - это деньги для бизнеса (если говорим что заказчик бизнесовый) и за \"трепетами\" данных прячутся разные семейства причин. И именно знание их помогут строить хорошие прогнозы..<br>.\n",
    "Леса, бустинги, регрессии.... могут подобрать хорошие модели на старых данных. Но иногда, как прогноз эти, модели могут оказаться пустышками - не интересными бизнесу. <br>  <br>\n",
    "Поэтому, от себя позволю добавить несколько идей:<br>\n",
    "Очень часто ищут \"волшебную таблетку\" или \"кнопку\". Нажал и само всё построилось с высокой точностью<br>\n",
    "Но такого никогода не будет)))<br>\n",
    "И причиной тому: модели нужно подсказать причины, по которым происходит колебания продаж (временного ряда): понимать причины колебаний треда, понимать аномалии, учитывать акционные продажи, видеть действия конкурентов , закладывать их в модель и т.д. <br><br>\n",
    "В общем, всё как обычно - три группы факторов: <br>\n",
    "1)внешние факторы (например выручка такси-компании зависит от количества машин на линии),<br>\n",
    "2)есть факторы внутри самих данных (Вы использовали как раз поняти лаг, сезонности), <br>\n",
    "3)есть параметры самих моделей (то, что обычно используется при моделировании леса или деревьев).<br><br>\n",
    "\n",
    "Ещё важно иметь ввиду горизонт прогноза: на кокой период строить прогноз нужно  - на час вперёд, на неделю, на месяц.<br>\n",
    "Это также накладывает ограничения на подбор моделей<br>\n",
    "Я бы рекомендовал Вам составить для себя матрицу  в разрезе: <br>\n",
    "а)есть тренд/нет тренда; <br>\n",
    "б)еть сезоннотсь/нет сезонности; <br>\n",
    "в)какой горизонт прогноза требуется; <br>\n",
    "г) есть ли у нас дополнительные факторы для модей<br>\n",
    "На пересечении знаний о моделях легко будет подобрать адкватную модель.\n",
    "Не все задачи прогнозирования временных рядов можно хорошо решить лесом и еже с ним на основе знаний только факторов ряда... Они хорошо подойдут для коротких горизонтов прогнозирования.... А если горизонт чуть больше: недели, месяцы... то тут надо подключать понимания фаткоров продаж самого бизнеса.</div> "
   ]
  },
  {
   "cell_type": "markdown",
   "metadata": {},
   "source": [
    "<div class=\"alert alert-info\">\n",
    "<b>Комментарий студента:</b>\n",
    "<br>Интересно!\n",
    "<br>У были мысли попробовать предсказать отдельно тренд и сезонность разными моделями, а потом сложить, но решил не усложнять проект.\n",
    "</div>"
   ]
  },
  {
   "cell_type": "markdown",
   "metadata": {},
   "source": [
    "<div class=\"alert alert-success\" style=\"border-color: green; border-radius: 5px\">\n",
    "    <p><u><b>✅ КОММЕНТАРИЙ РЕВЬЮЕРА 2</b></u></p>\n",
    "    <p>Можно и таким путём идти, как предлагаешь. Иногда даже точнее получается)</p>\n",
    "</div>"
   ]
  },
  {
   "cell_type": "code",
   "execution_count": null,
   "metadata": {},
   "outputs": [],
   "source": []
  }
 ],
 "metadata": {
  "ExecuteTimeLog": [
   {
    "duration": 401,
    "start_time": "2022-06-25T11:49:24.337Z"
   },
   {
    "duration": 2,
    "start_time": "2022-06-25T11:50:12.512Z"
   },
   {
    "duration": 2,
    "start_time": "2022-06-25T11:52:00.889Z"
   },
   {
    "duration": 3,
    "start_time": "2022-06-25T11:59:25.999Z"
   },
   {
    "duration": 25,
    "start_time": "2022-06-25T11:59:47.547Z"
   },
   {
    "duration": 3,
    "start_time": "2022-06-25T11:59:52.939Z"
   },
   {
    "duration": 2,
    "start_time": "2022-06-25T11:59:58.459Z"
   },
   {
    "duration": 194,
    "start_time": "2022-06-25T12:00:31.376Z"
   },
   {
    "duration": 47,
    "start_time": "2022-06-25T12:00:36.843Z"
   },
   {
    "duration": 7,
    "start_time": "2022-06-25T12:01:08.042Z"
   },
   {
    "duration": 10,
    "start_time": "2022-06-25T12:02:01.786Z"
   },
   {
    "duration": 13,
    "start_time": "2022-06-25T12:02:37.688Z"
   },
   {
    "duration": 16,
    "start_time": "2022-06-25T12:02:40.886Z"
   },
   {
    "duration": 29,
    "start_time": "2022-06-25T12:03:49.018Z"
   },
   {
    "duration": 6,
    "start_time": "2022-06-25T12:04:04.609Z"
   },
   {
    "duration": 7,
    "start_time": "2022-06-25T12:04:25.781Z"
   },
   {
    "duration": 55,
    "start_time": "2022-06-25T12:05:43.379Z"
   },
   {
    "duration": 6,
    "start_time": "2022-06-25T12:05:48.432Z"
   },
   {
    "duration": 14,
    "start_time": "2022-06-25T12:08:19.665Z"
   },
   {
    "duration": 20,
    "start_time": "2022-06-25T12:08:31.802Z"
   },
   {
    "duration": 20,
    "start_time": "2022-06-25T12:08:37.359Z"
   },
   {
    "duration": 13,
    "start_time": "2022-06-25T12:08:51.998Z"
   },
   {
    "duration": 489,
    "start_time": "2022-06-25T12:09:53.277Z"
   },
   {
    "duration": 386,
    "start_time": "2022-06-25T12:10:53.790Z"
   },
   {
    "duration": 388,
    "start_time": "2022-06-25T12:11:12.764Z"
   },
   {
    "duration": 670,
    "start_time": "2022-06-25T12:11:18.888Z"
   },
   {
    "duration": 364,
    "start_time": "2022-06-25T12:12:03.982Z"
   },
   {
    "duration": 390,
    "start_time": "2022-06-25T12:12:13.030Z"
   },
   {
    "duration": 431,
    "start_time": "2022-06-25T12:12:18.931Z"
   },
   {
    "duration": 853,
    "start_time": "2022-06-25T12:12:24.793Z"
   },
   {
    "duration": 405,
    "start_time": "2022-06-25T12:12:30.438Z"
   },
   {
    "duration": 422,
    "start_time": "2022-06-25T12:12:39.989Z"
   },
   {
    "duration": 33724,
    "start_time": "2022-06-25T12:13:21.246Z"
   },
   {
    "duration": 257,
    "start_time": "2022-06-25T12:14:08.180Z"
   },
   {
    "duration": 210,
    "start_time": "2022-06-25T12:14:53.706Z"
   },
   {
    "duration": 4,
    "start_time": "2022-06-25T12:15:45.333Z"
   },
   {
    "duration": 4,
    "start_time": "2022-06-25T12:15:49.188Z"
   },
   {
    "duration": 4,
    "start_time": "2022-06-25T12:15:56.045Z"
   },
   {
    "duration": 288,
    "start_time": "2022-06-25T12:16:04.306Z"
   },
   {
    "duration": 237,
    "start_time": "2022-06-25T12:16:37.888Z"
   },
   {
    "duration": 217,
    "start_time": "2022-06-25T12:16:42.891Z"
   },
   {
    "duration": 6,
    "start_time": "2022-06-25T12:17:06.828Z"
   },
   {
    "duration": 7,
    "start_time": "2022-06-25T12:17:15.420Z"
   },
   {
    "duration": 6,
    "start_time": "2022-06-25T12:18:54.787Z"
   },
   {
    "duration": 19,
    "start_time": "2022-06-25T12:19:14.379Z"
   },
   {
    "duration": 15,
    "start_time": "2022-06-25T12:19:28.100Z"
   },
   {
    "duration": 6,
    "start_time": "2022-06-25T12:21:53.459Z"
   },
   {
    "duration": 20,
    "start_time": "2022-06-25T12:22:31.322Z"
   },
   {
    "duration": 252,
    "start_time": "2022-06-25T12:25:13.346Z"
   },
   {
    "duration": 208,
    "start_time": "2022-06-25T12:25:36.026Z"
   },
   {
    "duration": 219,
    "start_time": "2022-06-25T12:25:40.712Z"
   },
   {
    "duration": 216,
    "start_time": "2022-06-25T12:25:43.594Z"
   },
   {
    "duration": 9,
    "start_time": "2022-06-25T12:31:34.592Z"
   },
   {
    "duration": 7,
    "start_time": "2022-06-25T12:31:59.535Z"
   },
   {
    "duration": 7,
    "start_time": "2022-06-25T12:32:27.406Z"
   },
   {
    "duration": 14,
    "start_time": "2022-06-25T12:42:20.982Z"
   },
   {
    "duration": 10,
    "start_time": "2022-06-25T12:48:04.187Z"
   },
   {
    "duration": 14,
    "start_time": "2022-06-25T12:48:11.490Z"
   },
   {
    "duration": 309,
    "start_time": "2022-06-25T12:48:44.425Z"
   },
   {
    "duration": 10,
    "start_time": "2022-06-25T12:48:58.890Z"
   },
   {
    "duration": 9,
    "start_time": "2022-06-25T12:49:15.337Z"
   },
   {
    "duration": 6,
    "start_time": "2022-06-25T12:50:54.926Z"
   },
   {
    "duration": 9,
    "start_time": "2022-06-25T12:51:01.918Z"
   },
   {
    "duration": 3,
    "start_time": "2022-06-25T12:52:40.308Z"
   },
   {
    "duration": 10,
    "start_time": "2022-06-25T12:52:40.631Z"
   },
   {
    "duration": 36,
    "start_time": "2022-06-25T12:52:49.110Z"
   },
   {
    "duration": 6,
    "start_time": "2022-06-25T12:52:52.135Z"
   },
   {
    "duration": 5,
    "start_time": "2022-06-25T12:52:55.922Z"
   },
   {
    "duration": 6,
    "start_time": "2022-06-25T12:52:56.375Z"
   },
   {
    "duration": 3,
    "start_time": "2022-06-25T12:53:06.506Z"
   },
   {
    "duration": 38,
    "start_time": "2022-06-25T12:53:06.799Z"
   },
   {
    "duration": 4,
    "start_time": "2022-06-25T12:53:09.787Z"
   },
   {
    "duration": 7,
    "start_time": "2022-06-25T12:53:10.095Z"
   },
   {
    "duration": 5,
    "start_time": "2022-06-25T12:54:08.983Z"
   },
   {
    "duration": 6,
    "start_time": "2022-06-25T12:54:09.387Z"
   },
   {
    "duration": 35,
    "start_time": "2022-06-25T12:54:36.045Z"
   },
   {
    "duration": 6,
    "start_time": "2022-06-25T12:54:39.375Z"
   },
   {
    "duration": 7,
    "start_time": "2022-06-25T12:54:39.690Z"
   },
   {
    "duration": 20,
    "start_time": "2022-06-25T12:54:52.262Z"
   },
   {
    "duration": 8,
    "start_time": "2022-06-25T12:55:02.622Z"
   },
   {
    "duration": 8,
    "start_time": "2022-06-25T12:55:59.012Z"
   },
   {
    "duration": 6,
    "start_time": "2022-06-25T12:56:32.503Z"
   },
   {
    "duration": 12,
    "start_time": "2022-06-25T12:56:48.591Z"
   },
   {
    "duration": 5,
    "start_time": "2022-06-25T12:58:34.118Z"
   },
   {
    "duration": 6,
    "start_time": "2022-06-25T12:59:12.398Z"
   },
   {
    "duration": 19,
    "start_time": "2022-06-25T12:59:29.333Z"
   },
   {
    "duration": 1061,
    "start_time": "2022-06-25T13:00:11.423Z"
   },
   {
    "duration": 3,
    "start_time": "2022-06-25T13:00:12.486Z"
   },
   {
    "duration": 6,
    "start_time": "2022-06-25T13:00:12.490Z"
   },
   {
    "duration": 3,
    "start_time": "2022-06-25T13:00:12.498Z"
   },
   {
    "duration": 44,
    "start_time": "2022-06-25T13:00:12.503Z"
   },
   {
    "duration": 9,
    "start_time": "2022-06-25T13:00:12.548Z"
   },
   {
    "duration": 11,
    "start_time": "2022-06-25T13:00:12.559Z"
   },
   {
    "duration": 6,
    "start_time": "2022-06-25T13:00:12.572Z"
   },
   {
    "duration": 17,
    "start_time": "2022-06-25T13:00:12.579Z"
   },
   {
    "duration": 5,
    "start_time": "2022-06-25T13:00:12.598Z"
   },
   {
    "duration": 46,
    "start_time": "2022-06-25T13:00:12.605Z"
   },
   {
    "duration": 315,
    "start_time": "2022-06-25T13:00:12.652Z"
   },
   {
    "duration": 10,
    "start_time": "2022-06-25T13:00:12.969Z"
   },
   {
    "duration": 11,
    "start_time": "2022-06-25T13:00:12.981Z"
   },
   {
    "duration": 5,
    "start_time": "2022-06-25T13:00:12.994Z"
   },
   {
    "duration": 11,
    "start_time": "2022-06-25T13:00:13.000Z"
   },
   {
    "duration": 40,
    "start_time": "2022-06-25T13:00:13.012Z"
   },
   {
    "duration": 5,
    "start_time": "2022-06-25T13:00:13.055Z"
   },
   {
    "duration": 9,
    "start_time": "2022-06-25T13:00:13.062Z"
   },
   {
    "duration": 18,
    "start_time": "2022-06-25T13:00:34.744Z"
   },
   {
    "duration": 5,
    "start_time": "2022-06-25T13:00:48.937Z"
   },
   {
    "duration": 7,
    "start_time": "2022-06-25T13:00:58.640Z"
   },
   {
    "duration": 10,
    "start_time": "2022-06-25T13:01:09.076Z"
   },
   {
    "duration": 7,
    "start_time": "2022-06-25T13:01:29.447Z"
   },
   {
    "duration": 4,
    "start_time": "2022-06-25T13:01:36.975Z"
   },
   {
    "duration": 4,
    "start_time": "2022-06-25T13:08:01.380Z"
   },
   {
    "duration": 868,
    "start_time": "2022-06-25T13:08:22.061Z"
   },
   {
    "duration": 871,
    "start_time": "2022-06-25T13:08:33.317Z"
   },
   {
    "duration": 1071,
    "start_time": "2022-06-25T13:08:52.241Z"
   },
   {
    "duration": 4,
    "start_time": "2022-06-25T13:08:53.314Z"
   },
   {
    "duration": 6,
    "start_time": "2022-06-25T13:08:53.319Z"
   },
   {
    "duration": 5,
    "start_time": "2022-06-25T13:08:53.328Z"
   },
   {
    "duration": 41,
    "start_time": "2022-06-25T13:08:53.350Z"
   },
   {
    "duration": 13,
    "start_time": "2022-06-25T13:08:53.393Z"
   },
   {
    "duration": 16,
    "start_time": "2022-06-25T13:08:53.408Z"
   },
   {
    "duration": 7,
    "start_time": "2022-06-25T13:08:53.426Z"
   },
   {
    "duration": 38,
    "start_time": "2022-06-25T13:08:53.435Z"
   },
   {
    "duration": 12,
    "start_time": "2022-06-25T13:08:53.475Z"
   },
   {
    "duration": 28,
    "start_time": "2022-06-25T13:08:53.489Z"
   },
   {
    "duration": 323,
    "start_time": "2022-06-25T13:08:53.519Z"
   },
   {
    "duration": 23,
    "start_time": "2022-06-25T13:08:53.845Z"
   },
   {
    "duration": 12,
    "start_time": "2022-06-25T13:08:53.871Z"
   },
   {
    "duration": 4,
    "start_time": "2022-06-25T13:08:53.885Z"
   },
   {
    "duration": 10,
    "start_time": "2022-06-25T13:08:53.891Z"
   },
   {
    "duration": 14,
    "start_time": "2022-06-25T13:08:53.903Z"
   },
   {
    "duration": 5,
    "start_time": "2022-06-25T13:08:53.919Z"
   },
   {
    "duration": 38,
    "start_time": "2022-06-25T13:08:53.925Z"
   },
   {
    "duration": 7,
    "start_time": "2022-06-25T13:08:53.965Z"
   },
   {
    "duration": 14,
    "start_time": "2022-06-25T13:08:53.973Z"
   },
   {
    "duration": 7,
    "start_time": "2022-06-25T13:08:53.989Z"
   },
   {
    "duration": 4,
    "start_time": "2022-06-25T13:09:48.887Z"
   },
   {
    "duration": 5,
    "start_time": "2022-06-25T13:13:34.550Z"
   },
   {
    "duration": 11,
    "start_time": "2022-06-25T13:13:34.557Z"
   },
   {
    "duration": 23,
    "start_time": "2022-06-25T13:13:34.570Z"
   },
   {
    "duration": 34,
    "start_time": "2022-06-25T13:13:34.595Z"
   },
   {
    "duration": 57,
    "start_time": "2022-06-25T13:13:34.633Z"
   },
   {
    "duration": 8,
    "start_time": "2022-06-25T13:13:34.692Z"
   },
   {
    "duration": 36,
    "start_time": "2022-06-25T13:13:34.702Z"
   },
   {
    "duration": 44,
    "start_time": "2022-06-25T13:13:34.739Z"
   },
   {
    "duration": 38,
    "start_time": "2022-06-25T13:13:34.785Z"
   },
   {
    "duration": 6,
    "start_time": "2022-06-25T13:13:34.825Z"
   },
   {
    "duration": 29,
    "start_time": "2022-06-25T13:13:34.833Z"
   },
   {
    "duration": 14,
    "start_time": "2022-06-25T13:13:38.359Z"
   },
   {
    "duration": 15,
    "start_time": "2022-06-25T13:14:02.834Z"
   },
   {
    "duration": 12,
    "start_time": "2022-06-25T13:14:29.457Z"
   },
   {
    "duration": 1031,
    "start_time": "2022-06-25T13:16:30.498Z"
   },
   {
    "duration": 3,
    "start_time": "2022-06-25T13:16:31.531Z"
   },
   {
    "duration": 8,
    "start_time": "2022-06-25T13:16:31.535Z"
   },
   {
    "duration": 7,
    "start_time": "2022-06-25T13:16:31.545Z"
   },
   {
    "duration": 45,
    "start_time": "2022-06-25T13:16:31.553Z"
   },
   {
    "duration": 10,
    "start_time": "2022-06-25T13:16:31.600Z"
   },
   {
    "duration": 20,
    "start_time": "2022-06-25T13:16:31.611Z"
   },
   {
    "duration": 7,
    "start_time": "2022-06-25T13:16:31.633Z"
   },
   {
    "duration": 17,
    "start_time": "2022-06-25T13:16:31.642Z"
   },
   {
    "duration": 7,
    "start_time": "2022-06-25T13:16:31.661Z"
   },
   {
    "duration": 17,
    "start_time": "2022-06-25T13:16:31.669Z"
   },
   {
    "duration": 17,
    "start_time": "2022-06-25T13:16:31.687Z"
   },
   {
    "duration": 297,
    "start_time": "2022-06-25T13:16:31.705Z"
   },
   {
    "duration": 7,
    "start_time": "2022-06-25T13:16:32.003Z"
   },
   {
    "duration": 14,
    "start_time": "2022-06-25T13:16:32.012Z"
   },
   {
    "duration": 15,
    "start_time": "2022-06-25T13:16:32.028Z"
   },
   {
    "duration": 6,
    "start_time": "2022-06-25T13:16:32.050Z"
   },
   {
    "duration": 11,
    "start_time": "2022-06-25T13:16:32.057Z"
   },
   {
    "duration": 6,
    "start_time": "2022-06-25T13:16:32.070Z"
   },
   {
    "duration": 11,
    "start_time": "2022-06-25T13:16:32.078Z"
   },
   {
    "duration": 8,
    "start_time": "2022-06-25T13:16:32.090Z"
   },
   {
    "duration": 13,
    "start_time": "2022-06-25T13:16:32.100Z"
   },
   {
    "duration": 8,
    "start_time": "2022-06-25T13:16:32.114Z"
   },
   {
    "duration": 29,
    "start_time": "2022-06-25T13:16:32.123Z"
   },
   {
    "duration": 296,
    "start_time": "2022-06-25T13:17:40.081Z"
   },
   {
    "duration": 48,
    "start_time": "2022-06-25T13:17:51.527Z"
   },
   {
    "duration": 199,
    "start_time": "2022-06-25T13:17:55.734Z"
   },
   {
    "duration": 249,
    "start_time": "2022-06-25T13:18:12.888Z"
   },
   {
    "duration": 87,
    "start_time": "2022-06-25T13:25:53.385Z"
   },
   {
    "duration": 8,
    "start_time": "2022-06-25T13:26:00.468Z"
   },
   {
    "duration": 26,
    "start_time": "2022-06-25T13:26:13.819Z"
   },
   {
    "duration": 3,
    "start_time": "2022-06-25T13:26:25.670Z"
   },
   {
    "duration": 6,
    "start_time": "2022-06-25T13:35:27.816Z"
   },
   {
    "duration": 3,
    "start_time": "2022-06-25T13:35:30.865Z"
   },
   {
    "duration": 12,
    "start_time": "2022-06-25T13:35:36.528Z"
   },
   {
    "duration": 5,
    "start_time": "2022-06-25T13:35:41.320Z"
   },
   {
    "duration": 6,
    "start_time": "2022-06-25T13:35:58.776Z"
   },
   {
    "duration": 5,
    "start_time": "2022-06-25T13:36:11.344Z"
   },
   {
    "duration": 6,
    "start_time": "2022-06-25T13:36:21.773Z"
   },
   {
    "duration": 6,
    "start_time": "2022-06-25T13:36:22.223Z"
   },
   {
    "duration": 6,
    "start_time": "2022-06-25T13:36:22.772Z"
   },
   {
    "duration": 5,
    "start_time": "2022-06-25T13:36:23.376Z"
   },
   {
    "duration": 4,
    "start_time": "2022-06-25T13:36:41.816Z"
   },
   {
    "duration": 5,
    "start_time": "2022-06-25T13:36:45.408Z"
   },
   {
    "duration": 5,
    "start_time": "2022-06-25T13:36:48.964Z"
   },
   {
    "duration": 193,
    "start_time": "2022-06-25T13:45:16.868Z"
   },
   {
    "duration": 273,
    "start_time": "2022-06-25T13:46:08.933Z"
   },
   {
    "duration": 8,
    "start_time": "2022-06-25T13:46:31.916Z"
   },
   {
    "duration": 8,
    "start_time": "2022-06-25T13:46:41.380Z"
   },
   {
    "duration": 212,
    "start_time": "2022-06-25T13:47:28.724Z"
   },
   {
    "duration": 225,
    "start_time": "2022-06-25T13:48:01.699Z"
   },
   {
    "duration": 290,
    "start_time": "2022-06-25T13:48:05.536Z"
   },
   {
    "duration": 184,
    "start_time": "2022-06-25T13:48:09.280Z"
   },
   {
    "duration": 5,
    "start_time": "2022-06-25T13:49:10.849Z"
   },
   {
    "duration": 9,
    "start_time": "2022-06-25T13:49:51.874Z"
   },
   {
    "duration": 166,
    "start_time": "2022-06-25T13:49:52.277Z"
   },
   {
    "duration": 6,
    "start_time": "2022-06-25T13:50:15.577Z"
   },
   {
    "duration": 6,
    "start_time": "2022-06-25T13:50:28.539Z"
   },
   {
    "duration": 5,
    "start_time": "2022-06-25T13:50:38.338Z"
   },
   {
    "duration": 5,
    "start_time": "2022-06-25T13:50:45.520Z"
   },
   {
    "duration": 5,
    "start_time": "2022-06-25T13:50:51.181Z"
   },
   {
    "duration": 5,
    "start_time": "2022-06-25T13:50:56.619Z"
   },
   {
    "duration": 218,
    "start_time": "2022-06-25T13:52:31.330Z"
   },
   {
    "duration": 219,
    "start_time": "2022-06-25T13:52:38.078Z"
   },
   {
    "duration": 217,
    "start_time": "2022-06-25T13:52:55.391Z"
   },
   {
    "duration": 4,
    "start_time": "2022-06-25T13:53:48.882Z"
   },
   {
    "duration": 7,
    "start_time": "2022-06-25T13:53:48.887Z"
   },
   {
    "duration": 6,
    "start_time": "2022-06-25T13:53:48.895Z"
   },
   {
    "duration": 5,
    "start_time": "2022-06-25T13:53:48.902Z"
   },
   {
    "duration": 39,
    "start_time": "2022-06-25T13:53:48.909Z"
   },
   {
    "duration": 6,
    "start_time": "2022-06-25T13:53:48.950Z"
   },
   {
    "duration": 23,
    "start_time": "2022-06-25T13:53:48.957Z"
   },
   {
    "duration": 9,
    "start_time": "2022-06-25T13:53:48.982Z"
   },
   {
    "duration": 21,
    "start_time": "2022-06-25T13:53:48.993Z"
   },
   {
    "duration": 7,
    "start_time": "2022-06-25T13:53:49.015Z"
   },
   {
    "duration": 40,
    "start_time": "2022-06-25T13:53:49.023Z"
   },
   {
    "duration": 13,
    "start_time": "2022-06-25T13:53:49.066Z"
   },
   {
    "duration": 17,
    "start_time": "2022-06-25T13:53:49.081Z"
   },
   {
    "duration": 493,
    "start_time": "2022-06-25T13:54:19.994Z"
   },
   {
    "duration": 961,
    "start_time": "2022-06-25T13:54:59.283Z"
   },
   {
    "duration": 917,
    "start_time": "2022-06-25T13:55:41.885Z"
   },
   {
    "duration": 48,
    "start_time": "2022-06-25T13:56:08.234Z"
   },
   {
    "duration": 184,
    "start_time": "2022-06-25T13:56:16.929Z"
   },
   {
    "duration": 973,
    "start_time": "2022-06-25T13:56:29.305Z"
   },
   {
    "duration": 297,
    "start_time": "2022-06-25T13:56:44.016Z"
   },
   {
    "duration": 1143,
    "start_time": "2022-06-25T13:57:29.592Z"
   },
   {
    "duration": 1045,
    "start_time": "2022-06-25T13:57:51.873Z"
   },
   {
    "duration": 3,
    "start_time": "2022-06-25T13:57:52.920Z"
   },
   {
    "duration": 7,
    "start_time": "2022-06-25T13:57:52.924Z"
   },
   {
    "duration": 6,
    "start_time": "2022-06-25T13:57:52.932Z"
   },
   {
    "duration": 47,
    "start_time": "2022-06-25T13:57:52.940Z"
   },
   {
    "duration": 10,
    "start_time": "2022-06-25T13:57:52.989Z"
   },
   {
    "duration": 11,
    "start_time": "2022-06-25T13:57:53.000Z"
   },
   {
    "duration": 6,
    "start_time": "2022-06-25T13:57:53.012Z"
   },
   {
    "duration": 16,
    "start_time": "2022-06-25T13:57:53.019Z"
   },
   {
    "duration": 5,
    "start_time": "2022-06-25T13:57:53.050Z"
   },
   {
    "duration": 15,
    "start_time": "2022-06-25T13:57:53.056Z"
   },
   {
    "duration": 10,
    "start_time": "2022-06-25T13:57:53.072Z"
   },
   {
    "duration": 1027,
    "start_time": "2022-06-25T13:57:53.084Z"
   },
   {
    "duration": 224,
    "start_time": "2022-06-25T13:57:54.114Z"
   },
   {
    "duration": 6,
    "start_time": "2022-06-25T13:57:54.340Z"
   },
   {
    "duration": 11,
    "start_time": "2022-06-25T13:57:54.351Z"
   },
   {
    "duration": 4,
    "start_time": "2022-06-25T13:57:54.363Z"
   },
   {
    "duration": 6,
    "start_time": "2022-06-25T13:57:54.368Z"
   },
   {
    "duration": 12,
    "start_time": "2022-06-25T13:57:54.375Z"
   },
   {
    "duration": 11,
    "start_time": "2022-06-25T13:57:54.389Z"
   },
   {
    "duration": 18,
    "start_time": "2022-06-25T13:57:54.403Z"
   },
   {
    "duration": 30,
    "start_time": "2022-06-25T13:57:54.423Z"
   },
   {
    "duration": 22,
    "start_time": "2022-06-25T13:57:54.455Z"
   },
   {
    "duration": 8,
    "start_time": "2022-06-25T13:57:54.478Z"
   },
   {
    "duration": 10,
    "start_time": "2022-06-25T13:57:54.487Z"
   },
   {
    "duration": 569,
    "start_time": "2022-06-25T13:57:54.500Z"
   },
   {
    "duration": 180,
    "start_time": "2022-06-25T13:57:55.071Z"
   },
   {
    "duration": 7,
    "start_time": "2022-06-25T13:57:55.254Z"
   },
   {
    "duration": 8,
    "start_time": "2022-06-25T13:57:55.263Z"
   },
   {
    "duration": 7,
    "start_time": "2022-06-25T13:57:55.272Z"
   },
   {
    "duration": 6,
    "start_time": "2022-06-25T13:57:55.281Z"
   },
   {
    "duration": 215,
    "start_time": "2022-06-25T13:57:55.288Z"
   },
   {
    "duration": 205,
    "start_time": "2022-06-25T13:57:55.505Z"
   },
   {
    "duration": 242,
    "start_time": "2022-06-25T13:57:55.712Z"
   },
   {
    "duration": 6,
    "start_time": "2022-06-25T13:57:55.956Z"
   },
   {
    "duration": 19,
    "start_time": "2022-06-25T13:57:55.963Z"
   },
   {
    "duration": 225,
    "start_time": "2022-06-25T13:58:16.936Z"
   },
   {
    "duration": 112,
    "start_time": "2022-06-25T14:00:46.226Z"
   },
   {
    "duration": 22,
    "start_time": "2022-06-25T14:01:29.122Z"
   },
   {
    "duration": 4,
    "start_time": "2022-06-25T14:01:43.745Z"
   },
   {
    "duration": 8,
    "start_time": "2022-06-25T14:01:49.825Z"
   },
   {
    "duration": 4,
    "start_time": "2022-06-25T14:01:54.704Z"
   },
   {
    "duration": 5,
    "start_time": "2022-06-25T14:02:03.234Z"
   },
   {
    "duration": 5,
    "start_time": "2022-06-25T14:02:12.449Z"
   },
   {
    "duration": 28,
    "start_time": "2022-06-25T14:02:25.237Z"
   },
   {
    "duration": 20,
    "start_time": "2022-06-25T14:02:56.598Z"
   },
   {
    "duration": 13,
    "start_time": "2022-06-25T14:03:50.218Z"
   },
   {
    "duration": 8,
    "start_time": "2022-06-25T14:03:50.448Z"
   },
   {
    "duration": 18,
    "start_time": "2022-06-25T14:04:20.164Z"
   },
   {
    "duration": 14,
    "start_time": "2022-06-25T14:05:02.496Z"
   },
   {
    "duration": 12,
    "start_time": "2022-06-25T14:06:14.782Z"
   },
   {
    "duration": 7,
    "start_time": "2022-06-25T14:06:15.447Z"
   },
   {
    "duration": 10,
    "start_time": "2022-06-25T14:06:26.542Z"
   },
   {
    "duration": 15,
    "start_time": "2022-06-25T14:06:26.881Z"
   },
   {
    "duration": 10,
    "start_time": "2022-06-25T14:06:35.224Z"
   },
   {
    "duration": 23,
    "start_time": "2022-06-25T14:07:28.616Z"
   },
   {
    "duration": 25,
    "start_time": "2022-06-25T14:07:39.598Z"
   },
   {
    "duration": 267,
    "start_time": "2022-06-25T14:07:51.502Z"
   },
   {
    "duration": 14,
    "start_time": "2022-06-25T14:08:18.222Z"
   },
   {
    "duration": 25,
    "start_time": "2022-06-25T14:08:22.630Z"
   },
   {
    "duration": 199,
    "start_time": "2022-06-25T14:08:41.797Z"
   },
   {
    "duration": 270,
    "start_time": "2022-06-25T14:09:05.488Z"
   },
   {
    "duration": 285,
    "start_time": "2022-06-25T14:09:25.726Z"
   },
   {
    "duration": 11,
    "start_time": "2022-06-25T14:10:35.531Z"
   },
   {
    "duration": 235,
    "start_time": "2022-06-25T14:10:58.654Z"
   },
   {
    "duration": 223,
    "start_time": "2022-06-25T14:11:12.013Z"
   },
   {
    "duration": 242,
    "start_time": "2022-06-25T14:15:58.075Z"
   },
   {
    "duration": 228,
    "start_time": "2022-06-25T14:16:07.626Z"
   },
   {
    "duration": 1039,
    "start_time": "2022-06-25T14:24:16.208Z"
   },
   {
    "duration": 235,
    "start_time": "2022-06-25T14:24:28.151Z"
   },
   {
    "duration": 18,
    "start_time": "2022-06-25T14:24:44.415Z"
   },
   {
    "duration": 10,
    "start_time": "2022-06-25T14:27:15.478Z"
   },
   {
    "duration": 8,
    "start_time": "2022-06-25T14:27:19.869Z"
   },
   {
    "duration": 9,
    "start_time": "2022-06-25T14:27:27.966Z"
   },
   {
    "duration": 9,
    "start_time": "2022-06-25T14:27:48.214Z"
   },
   {
    "duration": 9,
    "start_time": "2022-06-25T14:27:48.663Z"
   },
   {
    "duration": 10,
    "start_time": "2022-06-25T14:27:53.725Z"
   },
   {
    "duration": 261,
    "start_time": "2022-06-25T14:28:31.125Z"
   },
   {
    "duration": 12,
    "start_time": "2022-06-25T14:29:38.237Z"
   },
   {
    "duration": 269,
    "start_time": "2022-06-25T14:29:38.462Z"
   },
   {
    "duration": 12,
    "start_time": "2022-06-25T14:30:14.613Z"
   },
   {
    "duration": 251,
    "start_time": "2022-06-25T14:30:14.973Z"
   },
   {
    "duration": 531,
    "start_time": "2022-06-25T14:34:53.572Z"
   },
   {
    "duration": 194,
    "start_time": "2022-06-25T14:35:02.210Z"
   },
   {
    "duration": 256,
    "start_time": "2022-06-25T14:35:07.650Z"
   },
   {
    "duration": 258,
    "start_time": "2022-06-25T14:35:12.866Z"
   },
   {
    "duration": 4,
    "start_time": "2022-06-25T14:40:59.345Z"
   },
   {
    "duration": 4,
    "start_time": "2022-06-25T14:41:06.017Z"
   },
   {
    "duration": 4,
    "start_time": "2022-06-25T14:41:50.721Z"
   },
   {
    "duration": 3,
    "start_time": "2022-06-25T14:41:50.945Z"
   },
   {
    "duration": 4,
    "start_time": "2022-06-25T14:41:51.257Z"
   },
   {
    "duration": 9,
    "start_time": "2022-06-25T14:41:55.536Z"
   },
   {
    "duration": 7,
    "start_time": "2022-06-25T14:48:43.927Z"
   },
   {
    "duration": 13,
    "start_time": "2022-06-25T14:49:28.952Z"
   },
   {
    "duration": 19,
    "start_time": "2022-06-25T14:49:34.758Z"
   },
   {
    "duration": 13,
    "start_time": "2022-06-25T14:49:39.326Z"
   },
   {
    "duration": 18,
    "start_time": "2022-06-25T14:49:46.246Z"
   },
   {
    "duration": 42,
    "start_time": "2022-06-25T14:49:54.653Z"
   },
   {
    "duration": 40,
    "start_time": "2022-06-25T14:50:12.959Z"
   },
   {
    "duration": 11,
    "start_time": "2022-06-25T14:50:21.358Z"
   },
   {
    "duration": 36,
    "start_time": "2022-06-25T14:50:21.839Z"
   },
   {
    "duration": 21,
    "start_time": "2022-06-25T14:50:26.678Z"
   },
   {
    "duration": 20,
    "start_time": "2022-06-25T14:52:26.290Z"
   },
   {
    "duration": 22,
    "start_time": "2022-06-25T15:03:43.606Z"
   },
   {
    "duration": 5,
    "start_time": "2022-06-25T15:03:54.457Z"
   },
   {
    "duration": 5,
    "start_time": "2022-06-25T15:06:31.593Z"
   },
   {
    "duration": 12,
    "start_time": "2022-06-25T15:10:00.474Z"
   },
   {
    "duration": 30,
    "start_time": "2022-06-25T15:11:34.871Z"
   },
   {
    "duration": 4,
    "start_time": "2022-06-25T15:13:23.110Z"
   },
   {
    "duration": 6,
    "start_time": "2022-06-25T15:15:11.221Z"
   },
   {
    "duration": 4,
    "start_time": "2022-06-25T15:19:26.321Z"
   },
   {
    "duration": 4,
    "start_time": "2022-06-25T15:19:43.632Z"
   },
   {
    "duration": 23,
    "start_time": "2022-06-25T15:22:16.663Z"
   },
   {
    "duration": 4,
    "start_time": "2022-06-25T15:23:56.325Z"
   },
   {
    "duration": 6,
    "start_time": "2022-06-25T15:24:00.510Z"
   },
   {
    "duration": 47,
    "start_time": "2022-06-25T15:26:28.005Z"
   },
   {
    "duration": 11,
    "start_time": "2022-06-25T15:27:02.541Z"
   },
   {
    "duration": 7,
    "start_time": "2022-06-25T15:27:10.141Z"
   },
   {
    "duration": 5,
    "start_time": "2022-06-25T15:27:18.437Z"
   },
   {
    "duration": 3,
    "start_time": "2022-06-25T15:31:35.282Z"
   },
   {
    "duration": 4,
    "start_time": "2022-06-25T15:32:34.670Z"
   },
   {
    "duration": 24,
    "start_time": "2022-06-25T15:33:52.467Z"
   },
   {
    "duration": 4,
    "start_time": "2022-06-25T15:34:04.322Z"
   },
   {
    "duration": 29,
    "start_time": "2022-06-25T15:34:08.594Z"
   },
   {
    "duration": 7,
    "start_time": "2022-06-25T15:34:25.794Z"
   },
   {
    "duration": 4,
    "start_time": "2022-06-25T15:34:36.898Z"
   },
   {
    "duration": 12,
    "start_time": "2022-06-25T15:34:37.217Z"
   },
   {
    "duration": 4,
    "start_time": "2022-06-25T15:35:39.417Z"
   },
   {
    "duration": 5,
    "start_time": "2022-06-25T15:35:39.736Z"
   },
   {
    "duration": 3,
    "start_time": "2022-06-25T15:35:40.057Z"
   },
   {
    "duration": 4,
    "start_time": "2022-06-25T15:36:45.610Z"
   },
   {
    "duration": 3,
    "start_time": "2022-06-25T15:36:53.057Z"
   },
   {
    "duration": 3,
    "start_time": "2022-06-25T15:38:34.205Z"
   },
   {
    "duration": 118,
    "start_time": "2022-06-25T15:39:14.264Z"
   },
   {
    "duration": 3,
    "start_time": "2022-06-25T15:39:49.800Z"
   },
   {
    "duration": 31,
    "start_time": "2022-06-25T15:40:06.168Z"
   },
   {
    "duration": 4,
    "start_time": "2022-06-25T15:40:32.578Z"
   },
   {
    "duration": 29,
    "start_time": "2022-06-25T15:40:36.021Z"
   },
   {
    "duration": 101,
    "start_time": "2022-06-25T15:40:42.719Z"
   },
   {
    "duration": 3,
    "start_time": "2022-06-25T15:41:02.335Z"
   },
   {
    "duration": 67,
    "start_time": "2022-06-25T15:41:02.712Z"
   },
   {
    "duration": 4,
    "start_time": "2022-06-25T15:41:28.551Z"
   },
   {
    "duration": 88,
    "start_time": "2022-06-25T15:41:29.823Z"
   },
   {
    "duration": 7,
    "start_time": "2022-06-25T15:43:28.815Z"
   },
   {
    "duration": 6,
    "start_time": "2022-06-25T15:44:04.622Z"
   },
   {
    "duration": 6,
    "start_time": "2022-06-25T15:44:23.778Z"
   },
   {
    "duration": 89,
    "start_time": "2022-06-25T15:45:53.782Z"
   },
   {
    "duration": 4,
    "start_time": "2022-06-25T15:46:19.525Z"
   },
   {
    "duration": 62,
    "start_time": "2022-06-25T15:46:20.102Z"
   },
   {
    "duration": 5,
    "start_time": "2022-06-25T15:46:50.429Z"
   },
   {
    "duration": 4,
    "start_time": "2022-06-25T15:46:53.414Z"
   },
   {
    "duration": 99,
    "start_time": "2022-06-25T15:46:53.733Z"
   },
   {
    "duration": 4,
    "start_time": "2022-06-25T15:47:02.342Z"
   },
   {
    "duration": 4,
    "start_time": "2022-06-25T15:47:04.854Z"
   },
   {
    "duration": 81,
    "start_time": "2022-06-25T15:47:07.197Z"
   },
   {
    "duration": 4,
    "start_time": "2022-06-25T15:47:17.925Z"
   },
   {
    "duration": 4,
    "start_time": "2022-06-25T15:47:21.190Z"
   },
   {
    "duration": 81,
    "start_time": "2022-06-25T15:47:21.477Z"
   },
   {
    "duration": 4,
    "start_time": "2022-06-25T15:47:26.485Z"
   },
   {
    "duration": 4,
    "start_time": "2022-06-25T15:47:29.380Z"
   },
   {
    "duration": 72,
    "start_time": "2022-06-25T15:47:29.709Z"
   },
   {
    "duration": 5,
    "start_time": "2022-06-25T15:47:46.646Z"
   },
   {
    "duration": 69,
    "start_time": "2022-06-25T15:47:49.174Z"
   },
   {
    "duration": 3,
    "start_time": "2022-06-25T15:47:50.337Z"
   },
   {
    "duration": 82,
    "start_time": "2022-06-25T15:47:50.629Z"
   },
   {
    "duration": 5,
    "start_time": "2022-06-25T15:48:03.036Z"
   },
   {
    "duration": 95,
    "start_time": "2022-06-25T15:48:05.766Z"
   },
   {
    "duration": 4,
    "start_time": "2022-06-25T15:48:07.079Z"
   },
   {
    "duration": 95,
    "start_time": "2022-06-25T15:48:07.341Z"
   },
   {
    "duration": 3,
    "start_time": "2022-06-25T15:48:39.686Z"
   },
   {
    "duration": 45,
    "start_time": "2022-06-25T15:48:40.087Z"
   },
   {
    "duration": 5,
    "start_time": "2022-06-25T15:48:54.429Z"
   },
   {
    "duration": 100,
    "start_time": "2022-06-25T15:48:55.157Z"
   },
   {
    "duration": 17,
    "start_time": "2022-06-25T15:49:53.413Z"
   },
   {
    "duration": 6,
    "start_time": "2022-06-25T15:50:01.388Z"
   },
   {
    "duration": 9,
    "start_time": "2022-06-25T15:50:04.892Z"
   },
   {
    "duration": 3,
    "start_time": "2022-06-25T15:50:09.741Z"
   },
   {
    "duration": 95,
    "start_time": "2022-06-25T15:50:10.061Z"
   },
   {
    "duration": 4,
    "start_time": "2022-06-25T15:53:04.365Z"
   },
   {
    "duration": 3,
    "start_time": "2022-06-25T15:53:11.051Z"
   },
   {
    "duration": 47,
    "start_time": "2022-06-25T15:53:11.437Z"
   },
   {
    "duration": 30,
    "start_time": "2022-06-25T15:53:27.562Z"
   },
   {
    "duration": 11,
    "start_time": "2022-06-25T15:54:18.974Z"
   },
   {
    "duration": 11,
    "start_time": "2022-06-25T15:54:27.242Z"
   },
   {
    "duration": 30,
    "start_time": "2022-06-25T15:54:32.698Z"
   },
   {
    "duration": 31,
    "start_time": "2022-06-25T15:54:37.898Z"
   },
   {
    "duration": 17,
    "start_time": "2022-06-25T15:54:49.051Z"
   },
   {
    "duration": 31,
    "start_time": "2022-06-25T15:54:52.905Z"
   },
   {
    "duration": 38,
    "start_time": "2022-06-25T15:55:47.562Z"
   },
   {
    "duration": 5,
    "start_time": "2022-06-25T15:56:05.489Z"
   },
   {
    "duration": 5,
    "start_time": "2022-06-25T15:56:11.665Z"
   },
   {
    "duration": 6,
    "start_time": "2022-06-25T15:56:54.182Z"
   },
   {
    "duration": 7,
    "start_time": "2022-06-25T15:56:56.314Z"
   },
   {
    "duration": 4,
    "start_time": "2022-06-25T15:57:51.802Z"
   },
   {
    "duration": 30,
    "start_time": "2022-06-25T15:57:59.336Z"
   },
   {
    "duration": 29,
    "start_time": "2022-06-25T15:58:08.625Z"
   },
   {
    "duration": 4,
    "start_time": "2022-06-25T15:58:52.417Z"
   },
   {
    "duration": 19,
    "start_time": "2022-06-25T15:59:02.461Z"
   },
   {
    "duration": 5,
    "start_time": "2022-06-25T15:59:23.424Z"
   },
   {
    "duration": 30,
    "start_time": "2022-06-25T15:59:27.319Z"
   },
   {
    "duration": 33,
    "start_time": "2022-06-25T15:59:29.946Z"
   },
   {
    "duration": 27,
    "start_time": "2022-06-25T15:59:39.131Z"
   },
   {
    "duration": 5,
    "start_time": "2022-06-25T16:04:38.031Z"
   },
   {
    "duration": 108,
    "start_time": "2022-06-25T16:04:50.903Z"
   },
   {
    "duration": 4,
    "start_time": "2022-06-25T16:04:51.230Z"
   },
   {
    "duration": 123,
    "start_time": "2022-06-25T16:05:02.918Z"
   },
   {
    "duration": 5,
    "start_time": "2022-06-25T16:05:10.678Z"
   },
   {
    "duration": 5,
    "start_time": "2022-06-25T16:06:22.583Z"
   },
   {
    "duration": 124,
    "start_time": "2022-06-25T16:06:23.286Z"
   },
   {
    "duration": 12,
    "start_time": "2022-06-25T16:06:31.325Z"
   },
   {
    "duration": 90,
    "start_time": "2022-06-25T16:06:31.622Z"
   },
   {
    "duration": 15,
    "start_time": "2022-06-25T16:06:48.006Z"
   },
   {
    "duration": 124,
    "start_time": "2022-06-25T16:06:48.480Z"
   },
   {
    "duration": 80,
    "start_time": "2022-06-25T16:07:01.053Z"
   },
   {
    "duration": 118,
    "start_time": "2022-06-25T16:07:01.384Z"
   },
   {
    "duration": 51,
    "start_time": "2022-06-25T16:07:15.459Z"
   },
   {
    "duration": 139,
    "start_time": "2022-06-25T16:07:16.589Z"
   },
   {
    "duration": 4,
    "start_time": "2022-06-25T16:07:23.454Z"
   },
   {
    "duration": 5,
    "start_time": "2022-06-25T16:07:24.726Z"
   },
   {
    "duration": 43,
    "start_time": "2022-06-25T16:07:25.229Z"
   },
   {
    "duration": 15,
    "start_time": "2022-06-25T16:07:52.175Z"
   },
   {
    "duration": 14,
    "start_time": "2022-06-25T16:07:57.830Z"
   },
   {
    "duration": 14,
    "start_time": "2022-06-25T16:08:02.925Z"
   },
   {
    "duration": 34,
    "start_time": "2022-06-25T16:08:08.221Z"
   },
   {
    "duration": 4,
    "start_time": "2022-06-25T16:08:46.342Z"
   },
   {
    "duration": 5,
    "start_time": "2022-06-25T16:08:54.237Z"
   },
   {
    "duration": 41,
    "start_time": "2022-06-25T16:08:55.068Z"
   },
   {
    "duration": 40,
    "start_time": "2022-06-25T16:08:55.989Z"
   },
   {
    "duration": 4,
    "start_time": "2022-06-25T16:10:05.981Z"
   },
   {
    "duration": 28,
    "start_time": "2022-06-25T16:10:08.933Z"
   },
   {
    "duration": 4,
    "start_time": "2022-06-25T16:10:17.148Z"
   },
   {
    "duration": 3,
    "start_time": "2022-06-25T16:10:22.452Z"
   },
   {
    "duration": 51,
    "start_time": "2022-06-25T16:10:23.614Z"
   },
   {
    "duration": 20,
    "start_time": "2022-06-25T16:10:24.189Z"
   },
   {
    "duration": 6,
    "start_time": "2022-06-25T16:13:37.340Z"
   },
   {
    "duration": 6,
    "start_time": "2022-06-25T16:14:09.091Z"
   },
   {
    "duration": 13,
    "start_time": "2022-06-25T16:14:49.363Z"
   },
   {
    "duration": 32,
    "start_time": "2022-06-25T16:14:53.826Z"
   },
   {
    "duration": 6,
    "start_time": "2022-06-25T16:15:15.195Z"
   },
   {
    "duration": 31,
    "start_time": "2022-06-25T16:15:19.272Z"
   },
   {
    "duration": 12,
    "start_time": "2022-06-25T16:15:24.338Z"
   },
   {
    "duration": 54,
    "start_time": "2022-06-25T16:16:54.314Z"
   },
   {
    "duration": 4,
    "start_time": "2022-06-25T16:16:58.034Z"
   },
   {
    "duration": 5,
    "start_time": "2022-06-25T16:17:01.874Z"
   },
   {
    "duration": 93,
    "start_time": "2022-06-25T16:17:02.802Z"
   },
   {
    "duration": 4,
    "start_time": "2022-06-25T16:17:16.202Z"
   },
   {
    "duration": 12,
    "start_time": "2022-06-25T16:17:48.017Z"
   },
   {
    "duration": 21,
    "start_time": "2022-06-25T16:17:54.969Z"
   },
   {
    "duration": 4,
    "start_time": "2022-06-25T16:18:22.217Z"
   },
   {
    "duration": 4,
    "start_time": "2022-06-25T16:18:22.881Z"
   },
   {
    "duration": 21,
    "start_time": "2022-06-25T16:18:26.913Z"
   },
   {
    "duration": 2104,
    "start_time": "2022-06-25T16:19:43.856Z"
   },
   {
    "duration": 9,
    "start_time": "2022-06-25T16:19:45.963Z"
   },
   {
    "duration": 22,
    "start_time": "2022-06-25T16:19:45.974Z"
   },
   {
    "duration": 8,
    "start_time": "2022-06-25T16:19:46.001Z"
   },
   {
    "duration": 61,
    "start_time": "2022-06-25T16:19:46.014Z"
   },
   {
    "duration": 16,
    "start_time": "2022-06-25T16:19:46.078Z"
   },
   {
    "duration": 30,
    "start_time": "2022-06-25T16:19:46.098Z"
   },
   {
    "duration": 27,
    "start_time": "2022-06-25T16:19:46.131Z"
   },
   {
    "duration": 31,
    "start_time": "2022-06-25T16:19:46.161Z"
   },
   {
    "duration": 10,
    "start_time": "2022-06-25T16:19:46.195Z"
   },
   {
    "duration": 56,
    "start_time": "2022-06-25T16:19:46.207Z"
   },
   {
    "duration": 16,
    "start_time": "2022-06-25T16:19:46.266Z"
   },
   {
    "duration": 1823,
    "start_time": "2022-06-25T16:19:46.286Z"
   },
   {
    "duration": 377,
    "start_time": "2022-06-25T16:19:48.116Z"
   },
   {
    "duration": 11,
    "start_time": "2022-06-25T16:19:48.495Z"
   },
   {
    "duration": 33,
    "start_time": "2022-06-25T16:19:48.508Z"
   },
   {
    "duration": 23,
    "start_time": "2022-06-25T16:19:48.543Z"
   },
   {
    "duration": 24,
    "start_time": "2022-06-25T16:19:48.569Z"
   },
   {
    "duration": 26,
    "start_time": "2022-06-25T16:19:48.596Z"
   },
   {
    "duration": 17,
    "start_time": "2022-06-25T16:19:48.624Z"
   },
   {
    "duration": 35,
    "start_time": "2022-06-25T16:19:48.644Z"
   },
   {
    "duration": 17,
    "start_time": "2022-06-25T16:19:48.681Z"
   },
   {
    "duration": 27,
    "start_time": "2022-06-25T16:19:48.700Z"
   },
   {
    "duration": 30,
    "start_time": "2022-06-25T16:19:48.730Z"
   },
   {
    "duration": 15,
    "start_time": "2022-06-25T16:19:48.762Z"
   },
   {
    "duration": 730,
    "start_time": "2022-06-25T16:19:48.779Z"
   },
   {
    "duration": 312,
    "start_time": "2022-06-25T16:19:49.512Z"
   },
   {
    "duration": 24,
    "start_time": "2022-06-25T16:19:49.827Z"
   },
   {
    "duration": 17,
    "start_time": "2022-06-25T16:19:49.853Z"
   },
   {
    "duration": 416,
    "start_time": "2022-06-25T16:19:49.872Z"
   },
   {
    "duration": 15,
    "start_time": "2022-06-25T16:19:50.290Z"
   },
   {
    "duration": 409,
    "start_time": "2022-06-25T16:19:50.308Z"
   },
   {
    "duration": 7,
    "start_time": "2022-06-25T16:19:50.719Z"
   },
   {
    "duration": 36,
    "start_time": "2022-06-25T16:19:50.728Z"
   },
   {
    "duration": 9,
    "start_time": "2022-06-25T16:19:50.766Z"
   },
   {
    "duration": 25,
    "start_time": "2022-06-25T16:19:50.777Z"
   },
   {
    "duration": 47,
    "start_time": "2022-06-25T16:19:50.805Z"
   },
   {
    "duration": 5,
    "start_time": "2022-06-25T16:19:50.855Z"
   },
   {
    "duration": 13,
    "start_time": "2022-06-25T16:19:50.863Z"
   },
   {
    "duration": 6,
    "start_time": "2022-06-25T16:19:50.879Z"
   },
   {
    "duration": 5,
    "start_time": "2022-06-25T16:19:50.890Z"
   },
   {
    "duration": 8,
    "start_time": "2022-06-25T16:19:50.898Z"
   },
   {
    "duration": 11,
    "start_time": "2022-06-25T16:19:50.908Z"
   },
   {
    "duration": 130,
    "start_time": "2022-06-25T16:19:50.921Z"
   },
   {
    "duration": 22,
    "start_time": "2022-06-25T16:21:25.163Z"
   },
   {
    "duration": 26,
    "start_time": "2022-06-25T16:21:39.108Z"
   },
   {
    "duration": 17,
    "start_time": "2022-06-25T16:23:24.218Z"
   },
   {
    "duration": 5,
    "start_time": "2022-06-25T16:23:24.890Z"
   },
   {
    "duration": 8,
    "start_time": "2022-06-25T16:23:25.211Z"
   },
   {
    "duration": 7,
    "start_time": "2022-06-25T16:23:28.810Z"
   },
   {
    "duration": 14,
    "start_time": "2022-06-25T16:24:22.905Z"
   },
   {
    "duration": 5,
    "start_time": "2022-06-25T16:24:38.034Z"
   },
   {
    "duration": 7,
    "start_time": "2022-06-25T16:24:38.445Z"
   },
   {
    "duration": 9,
    "start_time": "2022-06-25T16:26:13.398Z"
   },
   {
    "duration": 1613,
    "start_time": "2022-06-25T16:26:33.826Z"
   },
   {
    "duration": 2,
    "start_time": "2022-06-25T16:26:35.441Z"
   },
   {
    "duration": 27,
    "start_time": "2022-06-25T16:26:35.452Z"
   },
   {
    "duration": 22,
    "start_time": "2022-06-25T16:26:35.481Z"
   },
   {
    "duration": 65,
    "start_time": "2022-06-25T16:26:35.505Z"
   },
   {
    "duration": 11,
    "start_time": "2022-06-25T16:26:35.572Z"
   },
   {
    "duration": 24,
    "start_time": "2022-06-25T16:26:35.585Z"
   },
   {
    "duration": 26,
    "start_time": "2022-06-25T16:26:35.610Z"
   },
   {
    "duration": 31,
    "start_time": "2022-06-25T16:26:35.640Z"
   },
   {
    "duration": 13,
    "start_time": "2022-06-25T16:26:35.672Z"
   },
   {
    "duration": 37,
    "start_time": "2022-06-25T16:26:35.687Z"
   },
   {
    "duration": 22,
    "start_time": "2022-06-25T16:26:35.726Z"
   },
   {
    "duration": 1322,
    "start_time": "2022-06-25T16:26:35.749Z"
   },
   {
    "duration": 283,
    "start_time": "2022-06-25T16:26:37.073Z"
   },
   {
    "duration": 9,
    "start_time": "2022-06-25T16:26:37.358Z"
   },
   {
    "duration": 32,
    "start_time": "2022-06-25T16:26:37.368Z"
   },
   {
    "duration": 25,
    "start_time": "2022-06-25T16:26:37.402Z"
   },
   {
    "duration": 29,
    "start_time": "2022-06-25T16:26:37.429Z"
   },
   {
    "duration": 43,
    "start_time": "2022-06-25T16:26:37.459Z"
   },
   {
    "duration": 27,
    "start_time": "2022-06-25T16:26:37.504Z"
   },
   {
    "duration": 40,
    "start_time": "2022-06-25T16:26:37.533Z"
   },
   {
    "duration": 19,
    "start_time": "2022-06-25T16:26:37.575Z"
   },
   {
    "duration": 42,
    "start_time": "2022-06-25T16:26:37.595Z"
   },
   {
    "duration": 35,
    "start_time": "2022-06-25T16:26:37.639Z"
   },
   {
    "duration": 22,
    "start_time": "2022-06-25T16:26:37.676Z"
   },
   {
    "duration": 614,
    "start_time": "2022-06-25T16:26:37.700Z"
   },
   {
    "duration": 257,
    "start_time": "2022-06-25T16:26:38.318Z"
   },
   {
    "duration": 11,
    "start_time": "2022-06-25T16:26:38.578Z"
   },
   {
    "duration": 38,
    "start_time": "2022-06-25T16:26:38.591Z"
   },
   {
    "duration": 314,
    "start_time": "2022-06-25T16:26:38.630Z"
   },
   {
    "duration": 14,
    "start_time": "2022-06-25T16:26:38.946Z"
   },
   {
    "duration": 355,
    "start_time": "2022-06-25T16:26:38.962Z"
   },
   {
    "duration": 5,
    "start_time": "2022-06-25T16:26:39.319Z"
   },
   {
    "duration": 31,
    "start_time": "2022-06-25T16:26:39.325Z"
   },
   {
    "duration": 9,
    "start_time": "2022-06-25T16:26:39.359Z"
   },
   {
    "duration": 37,
    "start_time": "2022-06-25T16:26:39.370Z"
   },
   {
    "duration": 21,
    "start_time": "2022-06-25T16:26:39.409Z"
   },
   {
    "duration": 21,
    "start_time": "2022-06-25T16:26:39.432Z"
   },
   {
    "duration": 17,
    "start_time": "2022-06-25T16:26:39.455Z"
   },
   {
    "duration": 36,
    "start_time": "2022-06-25T16:26:39.474Z"
   },
   {
    "duration": 11,
    "start_time": "2022-06-25T16:26:39.512Z"
   },
   {
    "duration": 22,
    "start_time": "2022-06-25T16:26:39.525Z"
   },
   {
    "duration": 30,
    "start_time": "2022-06-25T16:26:39.548Z"
   },
   {
    "duration": 74,
    "start_time": "2022-06-25T16:26:39.580Z"
   },
   {
    "duration": 15,
    "start_time": "2022-06-25T16:26:39.657Z"
   },
   {
    "duration": 11,
    "start_time": "2022-06-25T16:26:39.674Z"
   },
   {
    "duration": 24,
    "start_time": "2022-06-25T16:26:39.686Z"
   },
   {
    "duration": 48,
    "start_time": "2022-06-25T16:26:39.711Z"
   },
   {
    "duration": 12,
    "start_time": "2022-06-25T16:26:39.761Z"
   },
   {
    "duration": 33,
    "start_time": "2022-06-25T16:26:39.775Z"
   },
   {
    "duration": 28,
    "start_time": "2022-06-25T16:26:51.917Z"
   },
   {
    "duration": 8,
    "start_time": "2022-06-25T16:51:39.124Z"
   },
   {
    "duration": 1647,
    "start_time": "2022-06-25T16:52:46.316Z"
   },
   {
    "duration": 3,
    "start_time": "2022-06-25T16:52:47.966Z"
   },
   {
    "duration": 8,
    "start_time": "2022-06-25T16:52:47.971Z"
   },
   {
    "duration": 6,
    "start_time": "2022-06-25T16:52:47.981Z"
   },
   {
    "duration": 48,
    "start_time": "2022-06-25T16:52:47.989Z"
   },
   {
    "duration": 12,
    "start_time": "2022-06-25T16:52:48.039Z"
   },
   {
    "duration": 14,
    "start_time": "2022-06-25T16:52:48.053Z"
   },
   {
    "duration": 9,
    "start_time": "2022-06-25T16:52:48.068Z"
   },
   {
    "duration": 22,
    "start_time": "2022-06-25T16:52:48.079Z"
   },
   {
    "duration": 6,
    "start_time": "2022-06-25T16:52:48.104Z"
   },
   {
    "duration": 50,
    "start_time": "2022-06-25T16:52:48.112Z"
   },
   {
    "duration": 12,
    "start_time": "2022-06-25T16:52:48.164Z"
   },
   {
    "duration": 1455,
    "start_time": "2022-06-25T16:52:48.178Z"
   },
   {
    "duration": 298,
    "start_time": "2022-06-25T16:52:49.635Z"
   },
   {
    "duration": 17,
    "start_time": "2022-06-25T16:52:49.935Z"
   },
   {
    "duration": 13,
    "start_time": "2022-06-25T16:52:49.954Z"
   },
   {
    "duration": 10,
    "start_time": "2022-06-25T16:52:49.969Z"
   },
   {
    "duration": 10,
    "start_time": "2022-06-25T16:52:49.981Z"
   },
   {
    "duration": 13,
    "start_time": "2022-06-25T16:52:49.993Z"
   },
   {
    "duration": 8,
    "start_time": "2022-06-25T16:52:50.009Z"
   },
   {
    "duration": 37,
    "start_time": "2022-06-25T16:52:50.018Z"
   },
   {
    "duration": 9,
    "start_time": "2022-06-25T16:52:50.057Z"
   },
   {
    "duration": 13,
    "start_time": "2022-06-25T16:52:50.068Z"
   },
   {
    "duration": 5,
    "start_time": "2022-06-25T16:52:50.083Z"
   },
   {
    "duration": 6,
    "start_time": "2022-06-25T16:52:50.090Z"
   },
   {
    "duration": 760,
    "start_time": "2022-06-25T16:52:50.098Z"
   },
   {
    "duration": 261,
    "start_time": "2022-06-25T16:52:50.860Z"
   },
   {
    "duration": 13,
    "start_time": "2022-06-25T16:52:51.125Z"
   },
   {
    "duration": 19,
    "start_time": "2022-06-25T16:52:51.140Z"
   },
   {
    "duration": 355,
    "start_time": "2022-06-25T16:52:51.162Z"
   },
   {
    "duration": 14,
    "start_time": "2022-06-25T16:52:51.519Z"
   },
   {
    "duration": 357,
    "start_time": "2022-06-25T16:52:51.535Z"
   },
   {
    "duration": 6,
    "start_time": "2022-06-25T16:52:51.895Z"
   },
   {
    "duration": 28,
    "start_time": "2022-06-25T16:52:51.903Z"
   },
   {
    "duration": 24,
    "start_time": "2022-06-25T16:52:51.933Z"
   },
   {
    "duration": 27,
    "start_time": "2022-06-25T16:52:51.959Z"
   },
   {
    "duration": 14,
    "start_time": "2022-06-25T16:52:51.989Z"
   },
   {
    "duration": 4,
    "start_time": "2022-06-25T16:52:52.005Z"
   },
   {
    "duration": 40,
    "start_time": "2022-06-25T16:52:52.011Z"
   },
   {
    "duration": 4,
    "start_time": "2022-06-25T16:52:52.053Z"
   },
   {
    "duration": 7,
    "start_time": "2022-06-25T16:52:52.059Z"
   },
   {
    "duration": 8,
    "start_time": "2022-06-25T16:52:52.068Z"
   },
   {
    "duration": 5,
    "start_time": "2022-06-25T16:52:52.078Z"
   },
   {
    "duration": 94,
    "start_time": "2022-06-25T16:52:52.085Z"
   },
   {
    "duration": 20,
    "start_time": "2022-06-25T16:52:52.181Z"
   },
   {
    "duration": 3,
    "start_time": "2022-06-25T16:52:52.203Z"
   },
   {
    "duration": 10,
    "start_time": "2022-06-25T16:52:52.208Z"
   },
   {
    "duration": 42,
    "start_time": "2022-06-25T16:52:52.220Z"
   },
   {
    "duration": 6,
    "start_time": "2022-06-25T16:52:52.264Z"
   },
   {
    "duration": 11,
    "start_time": "2022-06-25T16:52:52.272Z"
   },
   {
    "duration": 3,
    "start_time": "2022-06-25T16:57:38.771Z"
   },
   {
    "duration": 95,
    "start_time": "2022-06-25T16:58:08.980Z"
   },
   {
    "duration": 8,
    "start_time": "2022-06-25T16:58:27.259Z"
   },
   {
    "duration": 6,
    "start_time": "2022-06-25T16:58:49.043Z"
   },
   {
    "duration": 7,
    "start_time": "2022-06-25T16:59:16.651Z"
   },
   {
    "duration": 5,
    "start_time": "2022-06-25T16:59:19.554Z"
   },
   {
    "duration": 9,
    "start_time": "2022-06-25T16:59:19.960Z"
   },
   {
    "duration": 4,
    "start_time": "2022-06-25T17:01:49.393Z"
   },
   {
    "duration": 7,
    "start_time": "2022-06-25T17:05:01.737Z"
   },
   {
    "duration": 4,
    "start_time": "2022-06-25T17:05:07.153Z"
   },
   {
    "duration": 3,
    "start_time": "2022-06-25T17:05:09.833Z"
   },
   {
    "duration": 7,
    "start_time": "2022-06-25T17:05:26.712Z"
   },
   {
    "duration": 4,
    "start_time": "2022-06-25T17:05:27.055Z"
   },
   {
    "duration": 7,
    "start_time": "2022-06-25T17:05:27.708Z"
   },
   {
    "duration": 8,
    "start_time": "2022-06-25T17:05:28.052Z"
   },
   {
    "duration": 1441,
    "start_time": "2022-06-25T17:08:29.403Z"
   },
   {
    "duration": 20,
    "start_time": "2022-06-25T17:08:38.005Z"
   },
   {
    "duration": 5,
    "start_time": "2022-06-25T17:08:44.111Z"
   },
   {
    "duration": 3,
    "start_time": "2022-06-25T17:08:58.318Z"
   },
   {
    "duration": 5,
    "start_time": "2022-06-25T17:09:08.870Z"
   },
   {
    "duration": 10,
    "start_time": "2022-06-25T17:09:12.855Z"
   },
   {
    "duration": 6,
    "start_time": "2022-06-25T17:09:25.158Z"
   },
   {
    "duration": 5,
    "start_time": "2022-06-25T17:09:32.301Z"
   },
   {
    "duration": 13,
    "start_time": "2022-06-25T17:09:53.919Z"
   },
   {
    "duration": 10,
    "start_time": "2022-06-25T17:10:21.812Z"
   },
   {
    "duration": 4,
    "start_time": "2022-06-25T17:10:54.061Z"
   },
   {
    "duration": 9,
    "start_time": "2022-06-25T17:11:08.807Z"
   },
   {
    "duration": 10,
    "start_time": "2022-06-25T17:11:09.142Z"
   },
   {
    "duration": 1970,
    "start_time": "2022-06-25T17:11:30.635Z"
   },
   {
    "duration": 3,
    "start_time": "2022-06-25T17:11:32.608Z"
   },
   {
    "duration": 5,
    "start_time": "2022-06-25T17:11:32.613Z"
   },
   {
    "duration": 9,
    "start_time": "2022-06-25T17:11:32.620Z"
   },
   {
    "duration": 59,
    "start_time": "2022-06-25T17:11:32.632Z"
   },
   {
    "duration": 17,
    "start_time": "2022-06-25T17:11:32.694Z"
   },
   {
    "duration": 22,
    "start_time": "2022-06-25T17:11:32.714Z"
   },
   {
    "duration": 48,
    "start_time": "2022-06-25T17:11:32.738Z"
   },
   {
    "duration": 43,
    "start_time": "2022-06-25T17:11:32.793Z"
   },
   {
    "duration": 9,
    "start_time": "2022-06-25T17:11:32.839Z"
   },
   {
    "duration": 35,
    "start_time": "2022-06-25T17:11:32.850Z"
   },
   {
    "duration": 29,
    "start_time": "2022-06-25T17:11:32.887Z"
   },
   {
    "duration": 1761,
    "start_time": "2022-06-25T17:11:32.919Z"
   },
   {
    "duration": 338,
    "start_time": "2022-06-25T17:11:34.684Z"
   },
   {
    "duration": 9,
    "start_time": "2022-06-25T17:11:35.024Z"
   },
   {
    "duration": 27,
    "start_time": "2022-06-25T17:11:35.035Z"
   },
   {
    "duration": 8,
    "start_time": "2022-06-25T17:11:35.063Z"
   },
   {
    "duration": 11,
    "start_time": "2022-06-25T17:11:35.073Z"
   },
   {
    "duration": 20,
    "start_time": "2022-06-25T17:11:35.086Z"
   },
   {
    "duration": 6,
    "start_time": "2022-06-25T17:11:35.108Z"
   },
   {
    "duration": 50,
    "start_time": "2022-06-25T17:11:35.117Z"
   },
   {
    "duration": 9,
    "start_time": "2022-06-25T17:11:35.170Z"
   },
   {
    "duration": 12,
    "start_time": "2022-06-25T17:11:35.181Z"
   },
   {
    "duration": 6,
    "start_time": "2022-06-25T17:11:35.196Z"
   },
   {
    "duration": 10,
    "start_time": "2022-06-25T17:11:35.204Z"
   },
   {
    "duration": 662,
    "start_time": "2022-06-25T17:11:35.216Z"
   },
   {
    "duration": 237,
    "start_time": "2022-06-25T17:11:35.880Z"
   },
   {
    "duration": 14,
    "start_time": "2022-06-25T17:11:36.120Z"
   },
   {
    "duration": 19,
    "start_time": "2022-06-25T17:11:36.136Z"
   },
   {
    "duration": 328,
    "start_time": "2022-06-25T17:11:36.157Z"
   },
   {
    "duration": 13,
    "start_time": "2022-06-25T17:11:36.487Z"
   },
   {
    "duration": 327,
    "start_time": "2022-06-25T17:11:36.502Z"
   },
   {
    "duration": 4,
    "start_time": "2022-06-25T17:11:36.831Z"
   },
   {
    "duration": 50,
    "start_time": "2022-06-25T17:11:36.837Z"
   },
   {
    "duration": 9,
    "start_time": "2022-06-25T17:11:36.888Z"
   },
   {
    "duration": 30,
    "start_time": "2022-06-25T17:11:36.898Z"
   },
   {
    "duration": 19,
    "start_time": "2022-06-25T17:11:36.930Z"
   },
   {
    "duration": 8,
    "start_time": "2022-06-25T17:11:36.950Z"
   },
   {
    "duration": 17,
    "start_time": "2022-06-25T17:11:36.959Z"
   },
   {
    "duration": 17,
    "start_time": "2022-06-25T17:11:36.977Z"
   },
   {
    "duration": 9,
    "start_time": "2022-06-25T17:11:36.999Z"
   },
   {
    "duration": 17,
    "start_time": "2022-06-25T17:11:37.010Z"
   },
   {
    "duration": 21,
    "start_time": "2022-06-25T17:11:37.029Z"
   },
   {
    "duration": 22,
    "start_time": "2022-06-25T17:11:37.052Z"
   },
   {
    "duration": 15,
    "start_time": "2022-06-25T17:11:37.076Z"
   },
   {
    "duration": 11,
    "start_time": "2022-06-25T17:11:37.093Z"
   },
   {
    "duration": 14,
    "start_time": "2022-06-25T17:11:37.107Z"
   },
   {
    "duration": 21,
    "start_time": "2022-06-25T17:11:37.123Z"
   },
   {
    "duration": 10,
    "start_time": "2022-06-25T17:11:37.145Z"
   },
   {
    "duration": 18,
    "start_time": "2022-06-25T17:11:37.157Z"
   },
   {
    "duration": 21,
    "start_time": "2022-06-25T17:11:37.177Z"
   },
   {
    "duration": 11,
    "start_time": "2022-06-25T17:11:37.199Z"
   },
   {
    "duration": 13,
    "start_time": "2022-06-25T17:11:37.211Z"
   },
   {
    "duration": 18,
    "start_time": "2022-06-25T17:11:37.226Z"
   },
   {
    "duration": 15,
    "start_time": "2022-06-25T17:11:37.245Z"
   },
   {
    "duration": 20,
    "start_time": "2022-06-25T17:11:37.262Z"
   },
   {
    "duration": 81,
    "start_time": "2022-06-25T17:11:37.284Z"
   },
   {
    "duration": 23,
    "start_time": "2022-06-25T17:11:37.367Z"
   },
   {
    "duration": 7,
    "start_time": "2022-06-25T17:11:37.393Z"
   },
   {
    "duration": 24,
    "start_time": "2022-06-25T17:11:37.402Z"
   },
   {
    "duration": 26,
    "start_time": "2022-06-25T17:11:37.428Z"
   },
   {
    "duration": 12,
    "start_time": "2022-06-25T17:11:37.456Z"
   },
   {
    "duration": 3,
    "start_time": "2022-06-25T17:11:37.472Z"
   },
   {
    "duration": 95,
    "start_time": "2022-06-25T17:11:37.477Z"
   },
   {
    "duration": 7,
    "start_time": "2022-06-25T17:11:37.573Z"
   },
   {
    "duration": 11,
    "start_time": "2022-06-25T17:11:37.582Z"
   },
   {
    "duration": 12,
    "start_time": "2022-06-25T17:11:37.594Z"
   },
   {
    "duration": 9,
    "start_time": "2022-06-25T17:11:37.607Z"
   },
   {
    "duration": 14,
    "start_time": "2022-06-25T17:11:37.617Z"
   },
   {
    "duration": 5,
    "start_time": "2022-06-25T17:15:58.758Z"
   },
   {
    "duration": 56,
    "start_time": "2022-06-25T17:15:59.030Z"
   },
   {
    "duration": 8,
    "start_time": "2022-06-25T17:15:59.305Z"
   },
   {
    "duration": 8,
    "start_time": "2022-06-25T17:15:59.638Z"
   },
   {
    "duration": 10,
    "start_time": "2022-06-25T17:16:00.006Z"
   },
   {
    "duration": 7,
    "start_time": "2022-06-25T17:16:00.422Z"
   },
   {
    "duration": 11,
    "start_time": "2022-06-25T17:16:01.628Z"
   },
   {
    "duration": 5,
    "start_time": "2022-06-25T17:16:34.158Z"
   },
   {
    "duration": 49,
    "start_time": "2022-06-25T17:16:34.366Z"
   },
   {
    "duration": 10,
    "start_time": "2022-06-25T17:16:34.607Z"
   },
   {
    "duration": 6,
    "start_time": "2022-06-25T17:16:34.800Z"
   },
   {
    "duration": 7,
    "start_time": "2022-06-25T17:16:35.009Z"
   },
   {
    "duration": 6,
    "start_time": "2022-06-25T17:16:35.389Z"
   },
   {
    "duration": 9,
    "start_time": "2022-06-25T17:16:36.438Z"
   },
   {
    "duration": 3,
    "start_time": "2022-06-25T17:16:48.182Z"
   },
   {
    "duration": 38,
    "start_time": "2022-06-25T17:16:48.407Z"
   },
   {
    "duration": 7,
    "start_time": "2022-06-25T17:16:48.603Z"
   },
   {
    "duration": 6,
    "start_time": "2022-06-25T17:16:48.782Z"
   },
   {
    "duration": 8,
    "start_time": "2022-06-25T17:16:49.009Z"
   },
   {
    "duration": 6,
    "start_time": "2022-06-25T17:16:49.229Z"
   },
   {
    "duration": 9,
    "start_time": "2022-06-25T17:16:49.705Z"
   },
   {
    "duration": 3,
    "start_time": "2022-06-25T17:16:57.007Z"
   },
   {
    "duration": 64,
    "start_time": "2022-06-25T17:16:57.221Z"
   },
   {
    "duration": 8,
    "start_time": "2022-06-25T17:16:57.405Z"
   },
   {
    "duration": 7,
    "start_time": "2022-06-25T17:16:57.599Z"
   },
   {
    "duration": 7,
    "start_time": "2022-06-25T17:16:57.757Z"
   },
   {
    "duration": 7,
    "start_time": "2022-06-25T17:16:58.053Z"
   },
   {
    "duration": 11,
    "start_time": "2022-06-25T17:16:59.655Z"
   },
   {
    "duration": 7,
    "start_time": "2022-06-25T17:17:04.510Z"
   },
   {
    "duration": 55,
    "start_time": "2022-06-25T17:17:04.711Z"
   },
   {
    "duration": 9,
    "start_time": "2022-06-25T17:17:04.892Z"
   },
   {
    "duration": 6,
    "start_time": "2022-06-25T17:17:05.045Z"
   },
   {
    "duration": 7,
    "start_time": "2022-06-25T17:17:05.229Z"
   },
   {
    "duration": 5,
    "start_time": "2022-06-25T17:17:05.437Z"
   },
   {
    "duration": 9,
    "start_time": "2022-06-25T17:17:05.801Z"
   },
   {
    "duration": 3,
    "start_time": "2022-06-25T17:17:51.401Z"
   },
   {
    "duration": 56,
    "start_time": "2022-06-25T17:17:53.437Z"
   },
   {
    "duration": 7,
    "start_time": "2022-06-25T17:17:53.645Z"
   },
   {
    "duration": 6,
    "start_time": "2022-06-25T17:17:53.845Z"
   },
   {
    "duration": 8,
    "start_time": "2022-06-25T17:17:54.037Z"
   },
   {
    "duration": 7,
    "start_time": "2022-06-25T17:17:54.236Z"
   },
   {
    "duration": 13,
    "start_time": "2022-06-25T17:17:54.456Z"
   },
   {
    "duration": 8,
    "start_time": "2022-06-25T17:18:17.565Z"
   },
   {
    "duration": 49,
    "start_time": "2022-06-25T17:18:17.882Z"
   },
   {
    "duration": 8,
    "start_time": "2022-06-25T17:18:18.101Z"
   },
   {
    "duration": 8,
    "start_time": "2022-06-25T17:18:18.864Z"
   },
   {
    "duration": 7,
    "start_time": "2022-06-25T17:18:19.141Z"
   },
   {
    "duration": 7,
    "start_time": "2022-06-25T17:18:19.447Z"
   },
   {
    "duration": 11,
    "start_time": "2022-06-25T17:18:20.413Z"
   },
   {
    "duration": 4,
    "start_time": "2022-06-25T17:18:26.629Z"
   },
   {
    "duration": 61,
    "start_time": "2022-06-25T17:18:26.822Z"
   },
   {
    "duration": 8,
    "start_time": "2022-06-25T17:18:27.004Z"
   },
   {
    "duration": 6,
    "start_time": "2022-06-25T17:18:27.165Z"
   },
   {
    "duration": 8,
    "start_time": "2022-06-25T17:18:27.348Z"
   },
   {
    "duration": 7,
    "start_time": "2022-06-25T17:18:27.533Z"
   },
   {
    "duration": 9,
    "start_time": "2022-06-25T17:18:27.757Z"
   },
   {
    "duration": 4,
    "start_time": "2022-06-25T17:21:06.972Z"
   },
   {
    "duration": 5374,
    "start_time": "2022-06-25T17:21:09.780Z"
   },
   {
    "duration": 5619,
    "start_time": "2022-06-25T17:21:28.580Z"
   },
   {
    "duration": 95,
    "start_time": "2022-06-25T17:21:37.908Z"
   },
   {
    "duration": 8,
    "start_time": "2022-06-25T17:21:38.284Z"
   },
   {
    "duration": 24,
    "start_time": "2022-06-25T17:21:38.723Z"
   },
   {
    "duration": 7,
    "start_time": "2022-06-25T17:21:39.107Z"
   },
   {
    "duration": 10,
    "start_time": "2022-06-25T17:21:39.459Z"
   },
   {
    "duration": 4,
    "start_time": "2022-06-25T17:23:16.843Z"
   },
   {
    "duration": 2363,
    "start_time": "2022-06-25T17:23:17.089Z"
   },
   {
    "duration": 47,
    "start_time": "2022-06-25T17:23:19.455Z"
   },
   {
    "duration": 2374,
    "start_time": "2022-06-25T17:23:33.753Z"
   },
   {
    "duration": 39,
    "start_time": "2022-06-25T17:23:39.122Z"
   },
   {
    "duration": 7,
    "start_time": "2022-06-25T17:23:39.590Z"
   },
   {
    "duration": 20,
    "start_time": "2022-06-25T17:23:39.899Z"
   },
   {
    "duration": 8,
    "start_time": "2022-06-25T17:23:41.923Z"
   },
   {
    "duration": 12,
    "start_time": "2022-06-25T17:23:42.256Z"
   },
   {
    "duration": 4,
    "start_time": "2022-06-25T17:24:07.502Z"
   },
   {
    "duration": 2312,
    "start_time": "2022-06-25T17:24:07.715Z"
   },
   {
    "duration": 50,
    "start_time": "2022-06-25T17:24:10.030Z"
   },
   {
    "duration": 7,
    "start_time": "2022-06-25T17:24:10.082Z"
   },
   {
    "duration": 25,
    "start_time": "2022-06-25T17:24:10.092Z"
   },
   {
    "duration": 8,
    "start_time": "2022-06-25T17:24:10.119Z"
   },
   {
    "duration": 13,
    "start_time": "2022-06-25T17:24:10.242Z"
   },
   {
    "duration": 3,
    "start_time": "2022-06-25T17:24:17.043Z"
   },
   {
    "duration": 5378,
    "start_time": "2022-06-25T17:24:17.243Z"
   },
   {
    "duration": 108,
    "start_time": "2022-06-25T17:24:22.623Z"
   },
   {
    "duration": 9,
    "start_time": "2022-06-25T17:24:22.733Z"
   },
   {
    "duration": 33,
    "start_time": "2022-06-25T17:24:22.751Z"
   },
   {
    "duration": 6,
    "start_time": "2022-06-25T17:24:22.786Z"
   },
   {
    "duration": 14,
    "start_time": "2022-06-25T17:24:22.795Z"
   },
   {
    "duration": 7,
    "start_time": "2022-06-25T17:24:34.487Z"
   },
   {
    "duration": 5,
    "start_time": "2022-06-25T17:25:07.305Z"
   },
   {
    "duration": 3,
    "start_time": "2022-06-25T17:26:43.546Z"
   },
   {
    "duration": 4211,
    "start_time": "2022-06-25T17:26:43.850Z"
   },
   {
    "duration": 68,
    "start_time": "2022-06-25T17:26:48.063Z"
   },
   {
    "duration": 23,
    "start_time": "2022-06-25T17:26:48.134Z"
   },
   {
    "duration": 32,
    "start_time": "2022-06-25T17:26:48.161Z"
   },
   {
    "duration": 7,
    "start_time": "2022-06-25T17:26:48.196Z"
   },
   {
    "duration": 16,
    "start_time": "2022-06-25T17:26:48.206Z"
   },
   {
    "duration": 3,
    "start_time": "2022-06-25T17:27:07.587Z"
   },
   {
    "duration": 4224,
    "start_time": "2022-06-25T17:27:08.168Z"
   },
   {
    "duration": 84,
    "start_time": "2022-06-25T17:27:12.395Z"
   },
   {
    "duration": 6,
    "start_time": "2022-06-25T17:27:12.481Z"
   },
   {
    "duration": 28,
    "start_time": "2022-06-25T17:27:12.490Z"
   },
   {
    "duration": 7,
    "start_time": "2022-06-25T17:27:12.521Z"
   },
   {
    "duration": 45,
    "start_time": "2022-06-25T17:27:12.552Z"
   },
   {
    "duration": 4,
    "start_time": "2022-06-25T17:27:23.810Z"
   },
   {
    "duration": 4304,
    "start_time": "2022-06-25T17:27:24.040Z"
   },
   {
    "duration": 68,
    "start_time": "2022-06-25T17:27:28.351Z"
   },
   {
    "duration": 9,
    "start_time": "2022-06-25T17:27:28.421Z"
   },
   {
    "duration": 31,
    "start_time": "2022-06-25T17:27:28.450Z"
   },
   {
    "duration": 8,
    "start_time": "2022-06-25T17:27:28.484Z"
   },
   {
    "duration": 16,
    "start_time": "2022-06-25T17:27:28.495Z"
   },
   {
    "duration": 4,
    "start_time": "2022-06-25T17:27:38.290Z"
   },
   {
    "duration": 4696,
    "start_time": "2022-06-25T17:27:38.474Z"
   },
   {
    "duration": 85,
    "start_time": "2022-06-25T17:27:43.173Z"
   },
   {
    "duration": 7,
    "start_time": "2022-06-25T17:27:43.260Z"
   },
   {
    "duration": 34,
    "start_time": "2022-06-25T17:27:43.270Z"
   },
   {
    "duration": 6,
    "start_time": "2022-06-25T17:27:43.306Z"
   },
   {
    "duration": 15,
    "start_time": "2022-06-25T17:27:43.314Z"
   },
   {
    "duration": 3,
    "start_time": "2022-06-25T17:27:53.394Z"
   },
   {
    "duration": 5619,
    "start_time": "2022-06-25T17:27:53.611Z"
   },
   {
    "duration": 101,
    "start_time": "2022-06-25T17:27:59.233Z"
   },
   {
    "duration": 16,
    "start_time": "2022-06-25T17:27:59.336Z"
   },
   {
    "duration": 41,
    "start_time": "2022-06-25T17:27:59.358Z"
   },
   {
    "duration": 6,
    "start_time": "2022-06-25T17:27:59.401Z"
   },
   {
    "duration": 11,
    "start_time": "2022-06-25T17:27:59.409Z"
   },
   {
    "duration": 4,
    "start_time": "2022-06-25T17:28:06.277Z"
   },
   {
    "duration": 5706,
    "start_time": "2022-06-25T17:28:06.457Z"
   },
   {
    "duration": 105,
    "start_time": "2022-06-25T17:28:12.167Z"
   },
   {
    "duration": 8,
    "start_time": "2022-06-25T17:28:12.275Z"
   },
   {
    "duration": 26,
    "start_time": "2022-06-25T17:28:12.285Z"
   },
   {
    "duration": 6,
    "start_time": "2022-06-25T17:28:12.313Z"
   },
   {
    "duration": 39,
    "start_time": "2022-06-25T17:28:12.322Z"
   },
   {
    "duration": 4,
    "start_time": "2022-06-25T17:28:18.514Z"
   },
   {
    "duration": 6000,
    "start_time": "2022-06-25T17:28:18.713Z"
   },
   {
    "duration": 127,
    "start_time": "2022-06-25T17:28:24.717Z"
   },
   {
    "duration": 8,
    "start_time": "2022-06-25T17:28:24.852Z"
   },
   {
    "duration": 35,
    "start_time": "2022-06-25T17:28:24.864Z"
   },
   {
    "duration": 8,
    "start_time": "2022-06-25T17:28:24.902Z"
   },
   {
    "duration": 48,
    "start_time": "2022-06-25T17:28:24.912Z"
   },
   {
    "duration": 4,
    "start_time": "2022-06-25T17:28:31.642Z"
   },
   {
    "duration": 5164,
    "start_time": "2022-06-25T17:28:31.850Z"
   },
   {
    "duration": 96,
    "start_time": "2022-06-25T17:28:37.016Z"
   },
   {
    "duration": 6,
    "start_time": "2022-06-25T17:28:37.114Z"
   },
   {
    "duration": 37,
    "start_time": "2022-06-25T17:28:37.123Z"
   },
   {
    "duration": 8,
    "start_time": "2022-06-25T17:28:37.163Z"
   },
   {
    "duration": 16,
    "start_time": "2022-06-25T17:28:37.173Z"
   },
   {
    "duration": 3,
    "start_time": "2022-06-25T17:28:46.585Z"
   },
   {
    "duration": 3665,
    "start_time": "2022-06-25T17:28:46.799Z"
   },
   {
    "duration": 57,
    "start_time": "2022-06-25T17:28:50.466Z"
   },
   {
    "duration": 6,
    "start_time": "2022-06-25T17:28:50.525Z"
   },
   {
    "duration": 39,
    "start_time": "2022-06-25T17:28:50.534Z"
   },
   {
    "duration": 8,
    "start_time": "2022-06-25T17:28:50.577Z"
   },
   {
    "duration": 13,
    "start_time": "2022-06-25T17:28:50.587Z"
   },
   {
    "duration": 4,
    "start_time": "2022-06-25T17:29:03.099Z"
   },
   {
    "duration": 5548,
    "start_time": "2022-06-25T17:29:03.322Z"
   },
   {
    "duration": 116,
    "start_time": "2022-06-25T17:29:08.874Z"
   },
   {
    "duration": 7,
    "start_time": "2022-06-25T17:29:08.993Z"
   },
   {
    "duration": 40,
    "start_time": "2022-06-25T17:29:09.003Z"
   },
   {
    "duration": 11,
    "start_time": "2022-06-25T17:29:09.046Z"
   },
   {
    "duration": 36,
    "start_time": "2022-06-25T17:29:09.059Z"
   },
   {
    "duration": 4,
    "start_time": "2022-06-25T17:29:21.722Z"
   },
   {
    "duration": 4845,
    "start_time": "2022-06-25T17:29:21.963Z"
   },
   {
    "duration": 86,
    "start_time": "2022-06-25T17:29:26.811Z"
   },
   {
    "duration": 6,
    "start_time": "2022-06-25T17:29:26.899Z"
   },
   {
    "duration": 27,
    "start_time": "2022-06-25T17:29:26.907Z"
   },
   {
    "duration": 7,
    "start_time": "2022-06-25T17:29:26.951Z"
   },
   {
    "duration": 29,
    "start_time": "2022-06-25T17:29:26.960Z"
   },
   {
    "duration": 4,
    "start_time": "2022-06-25T17:29:37.146Z"
   },
   {
    "duration": 3737,
    "start_time": "2022-06-25T17:29:37.401Z"
   },
   {
    "duration": 72,
    "start_time": "2022-06-25T17:29:41.141Z"
   },
   {
    "duration": 7,
    "start_time": "2022-06-25T17:29:41.216Z"
   },
   {
    "duration": 46,
    "start_time": "2022-06-25T17:29:41.227Z"
   },
   {
    "duration": 16,
    "start_time": "2022-06-25T17:29:41.276Z"
   },
   {
    "duration": 21,
    "start_time": "2022-06-25T17:29:41.294Z"
   },
   {
    "duration": 3,
    "start_time": "2022-06-25T17:29:51.026Z"
   },
   {
    "duration": 1889,
    "start_time": "2022-06-25T17:29:51.209Z"
   },
   {
    "duration": 33,
    "start_time": "2022-06-25T17:29:53.100Z"
   },
   {
    "duration": 22,
    "start_time": "2022-06-25T17:29:53.136Z"
   },
   {
    "duration": 30,
    "start_time": "2022-06-25T17:29:53.162Z"
   },
   {
    "duration": 6,
    "start_time": "2022-06-25T17:29:53.194Z"
   },
   {
    "duration": 13,
    "start_time": "2022-06-25T17:29:53.203Z"
   },
   {
    "duration": 5,
    "start_time": "2022-06-25T17:30:04.934Z"
   },
   {
    "duration": 4831,
    "start_time": "2022-06-25T17:30:05.121Z"
   },
   {
    "duration": 77,
    "start_time": "2022-06-25T17:30:09.955Z"
   },
   {
    "duration": 31,
    "start_time": "2022-06-25T17:30:10.035Z"
   },
   {
    "duration": 32,
    "start_time": "2022-06-25T17:30:10.069Z"
   },
   {
    "duration": 7,
    "start_time": "2022-06-25T17:30:10.103Z"
   },
   {
    "duration": 10,
    "start_time": "2022-06-25T17:30:10.115Z"
   },
   {
    "duration": 4,
    "start_time": "2022-06-25T17:30:16.833Z"
   },
   {
    "duration": 4651,
    "start_time": "2022-06-25T17:30:17.025Z"
   },
   {
    "duration": 86,
    "start_time": "2022-06-25T17:30:21.680Z"
   },
   {
    "duration": 7,
    "start_time": "2022-06-25T17:30:21.768Z"
   },
   {
    "duration": 25,
    "start_time": "2022-06-25T17:30:21.778Z"
   },
   {
    "duration": 6,
    "start_time": "2022-06-25T17:30:21.805Z"
   },
   {
    "duration": 14,
    "start_time": "2022-06-25T17:30:21.813Z"
   },
   {
    "duration": 5,
    "start_time": "2022-06-25T17:31:21.241Z"
   },
   {
    "duration": 4577,
    "start_time": "2022-06-25T17:31:21.465Z"
   },
   {
    "duration": 78,
    "start_time": "2022-06-25T17:31:26.045Z"
   },
   {
    "duration": 6,
    "start_time": "2022-06-25T17:31:26.125Z"
   },
   {
    "duration": 39,
    "start_time": "2022-06-25T17:31:26.134Z"
   },
   {
    "duration": 7,
    "start_time": "2022-06-25T17:31:26.176Z"
   },
   {
    "duration": 12,
    "start_time": "2022-06-25T17:31:26.187Z"
   },
   {
    "duration": 4,
    "start_time": "2022-06-25T17:31:31.113Z"
   },
   {
    "duration": 2273,
    "start_time": "2022-06-25T17:31:31.305Z"
   },
   {
    "duration": 96,
    "start_time": "2022-06-25T17:31:33.582Z"
   },
   {
    "duration": 6,
    "start_time": "2022-06-25T17:31:33.680Z"
   },
   {
    "duration": 78,
    "start_time": "2022-06-25T17:31:33.689Z"
   },
   {
    "duration": 10,
    "start_time": "2022-06-25T17:31:33.770Z"
   },
   {
    "duration": 14,
    "start_time": "2022-06-25T17:31:33.782Z"
   },
   {
    "duration": 4,
    "start_time": "2022-06-25T17:31:39.754Z"
   },
   {
    "duration": 499,
    "start_time": "2022-06-25T17:31:39.936Z"
   },
   {
    "duration": 21,
    "start_time": "2022-06-25T17:31:40.438Z"
   },
   {
    "duration": 10,
    "start_time": "2022-06-25T17:31:40.461Z"
   },
   {
    "duration": 9,
    "start_time": "2022-06-25T17:31:40.479Z"
   },
   {
    "duration": 6,
    "start_time": "2022-06-25T17:31:40.704Z"
   },
   {
    "duration": 9,
    "start_time": "2022-06-25T17:31:41.337Z"
   },
   {
    "duration": 5,
    "start_time": "2022-06-25T17:31:57.346Z"
   },
   {
    "duration": 435,
    "start_time": "2022-06-25T17:31:57.538Z"
   },
   {
    "duration": 14,
    "start_time": "2022-06-25T17:31:57.975Z"
   },
   {
    "duration": 6,
    "start_time": "2022-06-25T17:31:57.991Z"
   },
   {
    "duration": 10,
    "start_time": "2022-06-25T17:31:58.081Z"
   },
   {
    "duration": 7,
    "start_time": "2022-06-25T17:31:58.289Z"
   },
   {
    "duration": 11,
    "start_time": "2022-06-25T17:31:58.785Z"
   },
   {
    "duration": 3,
    "start_time": "2022-06-25T17:32:05.569Z"
   },
   {
    "duration": 564,
    "start_time": "2022-06-25T17:32:05.777Z"
   },
   {
    "duration": 26,
    "start_time": "2022-06-25T17:32:06.344Z"
   },
   {
    "duration": 13,
    "start_time": "2022-06-25T17:32:06.374Z"
   },
   {
    "duration": 11,
    "start_time": "2022-06-25T17:32:06.390Z"
   },
   {
    "duration": 6,
    "start_time": "2022-06-25T17:32:06.497Z"
   },
   {
    "duration": 10,
    "start_time": "2022-06-25T17:32:06.706Z"
   },
   {
    "duration": 3,
    "start_time": "2022-06-25T17:32:12.987Z"
   },
   {
    "duration": 460,
    "start_time": "2022-06-25T17:32:13.179Z"
   },
   {
    "duration": 23,
    "start_time": "2022-06-25T17:32:13.641Z"
   },
   {
    "duration": 10,
    "start_time": "2022-06-25T17:32:13.667Z"
   },
   {
    "duration": 10,
    "start_time": "2022-06-25T17:32:13.719Z"
   },
   {
    "duration": 5,
    "start_time": "2022-06-25T17:32:13.905Z"
   },
   {
    "duration": 8,
    "start_time": "2022-06-25T17:32:14.121Z"
   },
   {
    "duration": 5,
    "start_time": "2022-06-25T17:32:22.553Z"
   },
   {
    "duration": 6851,
    "start_time": "2022-06-25T17:32:22.753Z"
   },
   {
    "duration": 116,
    "start_time": "2022-06-25T17:32:29.606Z"
   },
   {
    "duration": 6,
    "start_time": "2022-06-25T17:32:29.724Z"
   },
   {
    "duration": 44,
    "start_time": "2022-06-25T17:32:29.732Z"
   },
   {
    "duration": 6,
    "start_time": "2022-06-25T17:32:29.778Z"
   },
   {
    "duration": 13,
    "start_time": "2022-06-25T17:32:29.786Z"
   },
   {
    "duration": 3,
    "start_time": "2022-06-25T17:32:39.274Z"
   },
   {
    "duration": 463,
    "start_time": "2022-06-25T17:32:39.489Z"
   },
   {
    "duration": 16,
    "start_time": "2022-06-25T17:32:39.955Z"
   },
   {
    "duration": 10,
    "start_time": "2022-06-25T17:32:39.974Z"
   },
   {
    "duration": 12,
    "start_time": "2022-06-25T17:32:40.072Z"
   },
   {
    "duration": 7,
    "start_time": "2022-06-25T17:32:40.305Z"
   },
   {
    "duration": 13,
    "start_time": "2022-06-25T17:32:40.993Z"
   },
   {
    "duration": 4,
    "start_time": "2022-06-25T17:32:47.879Z"
   },
   {
    "duration": 452,
    "start_time": "2022-06-25T17:32:48.090Z"
   },
   {
    "duration": 17,
    "start_time": "2022-06-25T17:32:48.551Z"
   },
   {
    "duration": 6,
    "start_time": "2022-06-25T17:32:48.571Z"
   },
   {
    "duration": 8,
    "start_time": "2022-06-25T17:32:48.687Z"
   },
   {
    "duration": 6,
    "start_time": "2022-06-25T17:32:48.905Z"
   },
   {
    "duration": 9,
    "start_time": "2022-06-25T17:32:49.097Z"
   },
   {
    "duration": 3,
    "start_time": "2022-06-25T17:32:56.787Z"
   },
   {
    "duration": 460,
    "start_time": "2022-06-25T17:32:56.992Z"
   },
   {
    "duration": 17,
    "start_time": "2022-06-25T17:32:57.454Z"
   },
   {
    "duration": 29,
    "start_time": "2022-06-25T17:32:57.475Z"
   },
   {
    "duration": 10,
    "start_time": "2022-06-25T17:32:57.518Z"
   },
   {
    "duration": 5,
    "start_time": "2022-06-25T17:32:57.713Z"
   },
   {
    "duration": 10,
    "start_time": "2022-06-25T17:32:57.945Z"
   },
   {
    "duration": 4,
    "start_time": "2022-06-25T17:33:02.784Z"
   },
   {
    "duration": 461,
    "start_time": "2022-06-25T17:33:02.962Z"
   },
   {
    "duration": 27,
    "start_time": "2022-06-25T17:33:03.425Z"
   },
   {
    "duration": 8,
    "start_time": "2022-06-25T17:33:03.455Z"
   },
   {
    "duration": 10,
    "start_time": "2022-06-25T17:33:03.503Z"
   },
   {
    "duration": 5,
    "start_time": "2022-06-25T17:33:03.689Z"
   },
   {
    "duration": 9,
    "start_time": "2022-06-25T17:33:03.896Z"
   },
   {
    "duration": 10,
    "start_time": "2022-06-25T17:35:02.800Z"
   },
   {
    "duration": 4,
    "start_time": "2022-06-25T17:39:57.328Z"
   },
   {
    "duration": 7951,
    "start_time": "2022-06-25T17:39:57.703Z"
   },
   {
    "duration": 66,
    "start_time": "2022-06-25T17:40:05.658Z"
   },
   {
    "duration": 24,
    "start_time": "2022-06-25T17:40:11.379Z"
   },
   {
    "duration": 11,
    "start_time": "2022-06-25T17:41:01.896Z"
   },
   {
    "duration": 8,
    "start_time": "2022-06-25T17:41:05.391Z"
   },
   {
    "duration": 346,
    "start_time": "2022-06-25T17:41:35.394Z"
   },
   {
    "duration": 348,
    "start_time": "2022-06-25T17:42:25.359Z"
   },
   {
    "duration": 485,
    "start_time": "2022-06-25T17:42:44.194Z"
   },
   {
    "duration": 452,
    "start_time": "2022-06-25T17:42:51.871Z"
   },
   {
    "duration": 299,
    "start_time": "2022-06-25T17:42:58.790Z"
   },
   {
    "duration": 10,
    "start_time": "2022-06-25T17:43:54.593Z"
   },
   {
    "duration": 11,
    "start_time": "2022-06-25T17:44:00.141Z"
   },
   {
    "duration": 6,
    "start_time": "2022-06-25T17:44:14.501Z"
   },
   {
    "duration": 13,
    "start_time": "2022-06-25T17:44:23.932Z"
   },
   {
    "duration": 10,
    "start_time": "2022-06-25T17:44:53.297Z"
   },
   {
    "duration": 34,
    "start_time": "2022-06-25T17:45:18.341Z"
   },
   {
    "duration": 286,
    "start_time": "2022-06-25T17:45:32.542Z"
   },
   {
    "duration": 345,
    "start_time": "2022-06-25T17:45:39.605Z"
   },
   {
    "duration": 4,
    "start_time": "2022-06-25T17:46:39.141Z"
   },
   {
    "duration": 5,
    "start_time": "2022-06-25T17:47:26.244Z"
   },
   {
    "duration": 4,
    "start_time": "2022-06-25T17:47:28.628Z"
   },
   {
    "duration": 10,
    "start_time": "2022-06-25T17:47:49.809Z"
   },
   {
    "duration": 389,
    "start_time": "2022-06-25T17:48:35.116Z"
   },
   {
    "duration": 2746,
    "start_time": "2022-06-25T17:52:48.329Z"
   },
   {
    "duration": 4,
    "start_time": "2022-06-25T17:52:51.077Z"
   },
   {
    "duration": 14,
    "start_time": "2022-06-25T17:52:51.083Z"
   },
   {
    "duration": 7,
    "start_time": "2022-06-25T17:52:51.098Z"
   },
   {
    "duration": 167,
    "start_time": "2022-06-25T17:52:51.108Z"
   },
   {
    "duration": 12,
    "start_time": "2022-06-25T17:52:51.277Z"
   },
   {
    "duration": 12,
    "start_time": "2022-06-25T17:52:51.290Z"
   },
   {
    "duration": 8,
    "start_time": "2022-06-25T17:52:51.303Z"
   },
   {
    "duration": 17,
    "start_time": "2022-06-25T17:52:51.313Z"
   },
   {
    "duration": 24,
    "start_time": "2022-06-25T17:52:51.332Z"
   },
   {
    "duration": 20,
    "start_time": "2022-06-25T17:52:51.361Z"
   },
   {
    "duration": 15,
    "start_time": "2022-06-25T17:52:51.382Z"
   },
   {
    "duration": 1402,
    "start_time": "2022-06-25T17:52:51.398Z"
   },
   {
    "duration": 307,
    "start_time": "2022-06-25T17:52:52.803Z"
   },
   {
    "duration": 7,
    "start_time": "2022-06-25T17:52:53.112Z"
   },
   {
    "duration": 12,
    "start_time": "2022-06-25T17:52:53.121Z"
   },
   {
    "duration": 19,
    "start_time": "2022-06-25T17:52:53.135Z"
   },
   {
    "duration": 8,
    "start_time": "2022-06-25T17:52:53.162Z"
   },
   {
    "duration": 11,
    "start_time": "2022-06-25T17:52:53.171Z"
   },
   {
    "duration": 4,
    "start_time": "2022-06-25T17:52:53.183Z"
   },
   {
    "duration": 15,
    "start_time": "2022-06-25T17:52:53.189Z"
   },
   {
    "duration": 6,
    "start_time": "2022-06-25T17:52:53.205Z"
   },
   {
    "duration": 11,
    "start_time": "2022-06-25T17:52:53.212Z"
   },
   {
    "duration": 28,
    "start_time": "2022-06-25T17:52:53.225Z"
   },
   {
    "duration": 7,
    "start_time": "2022-06-25T17:52:53.265Z"
   },
   {
    "duration": 590,
    "start_time": "2022-06-25T17:52:53.273Z"
   },
   {
    "duration": 245,
    "start_time": "2022-06-25T17:52:53.865Z"
   },
   {
    "duration": 11,
    "start_time": "2022-06-25T17:52:54.112Z"
   },
   {
    "duration": 14,
    "start_time": "2022-06-25T17:52:54.124Z"
   },
   {
    "duration": 337,
    "start_time": "2022-06-25T17:52:54.140Z"
   },
   {
    "duration": 13,
    "start_time": "2022-06-25T17:52:54.479Z"
   },
   {
    "duration": 406,
    "start_time": "2022-06-25T17:52:54.494Z"
   },
   {
    "duration": 5,
    "start_time": "2022-06-25T17:52:54.902Z"
   },
   {
    "duration": 26,
    "start_time": "2022-06-25T17:52:54.909Z"
   },
   {
    "duration": 29,
    "start_time": "2022-06-25T17:52:54.937Z"
   },
   {
    "duration": 24,
    "start_time": "2022-06-25T17:52:54.968Z"
   },
   {
    "duration": 10,
    "start_time": "2022-06-25T17:52:54.994Z"
   },
   {
    "duration": 2,
    "start_time": "2022-06-25T17:52:55.006Z"
   },
   {
    "duration": 10,
    "start_time": "2022-06-25T17:52:55.010Z"
   },
   {
    "duration": 44,
    "start_time": "2022-06-25T17:52:55.022Z"
   },
   {
    "duration": 129,
    "start_time": "2022-06-25T17:52:55.072Z"
   },
   {
    "duration": 0,
    "start_time": "2022-06-25T17:52:55.202Z"
   },
   {
    "duration": 0,
    "start_time": "2022-06-25T17:52:55.204Z"
   },
   {
    "duration": 0,
    "start_time": "2022-06-25T17:52:55.205Z"
   },
   {
    "duration": 0,
    "start_time": "2022-06-25T17:52:55.206Z"
   },
   {
    "duration": 0,
    "start_time": "2022-06-25T17:52:55.207Z"
   },
   {
    "duration": 0,
    "start_time": "2022-06-25T17:52:55.208Z"
   },
   {
    "duration": 0,
    "start_time": "2022-06-25T17:52:55.209Z"
   },
   {
    "duration": 0,
    "start_time": "2022-06-25T17:52:55.211Z"
   },
   {
    "duration": 0,
    "start_time": "2022-06-25T17:52:55.212Z"
   },
   {
    "duration": 0,
    "start_time": "2022-06-25T17:52:55.213Z"
   },
   {
    "duration": 0,
    "start_time": "2022-06-25T17:52:55.214Z"
   },
   {
    "duration": 0,
    "start_time": "2022-06-25T17:52:55.215Z"
   },
   {
    "duration": 0,
    "start_time": "2022-06-25T17:52:55.216Z"
   },
   {
    "duration": 0,
    "start_time": "2022-06-25T17:52:55.217Z"
   },
   {
    "duration": 0,
    "start_time": "2022-06-25T17:52:55.218Z"
   },
   {
    "duration": 0,
    "start_time": "2022-06-25T17:52:55.253Z"
   },
   {
    "duration": 0,
    "start_time": "2022-06-25T17:52:55.258Z"
   },
   {
    "duration": 0,
    "start_time": "2022-06-25T17:52:55.258Z"
   },
   {
    "duration": 0,
    "start_time": "2022-06-25T17:52:55.259Z"
   },
   {
    "duration": 0,
    "start_time": "2022-06-25T17:52:55.260Z"
   },
   {
    "duration": 0,
    "start_time": "2022-06-25T17:52:55.261Z"
   },
   {
    "duration": 0,
    "start_time": "2022-06-25T17:52:55.261Z"
   },
   {
    "duration": 0,
    "start_time": "2022-06-25T17:52:55.264Z"
   },
   {
    "duration": 0,
    "start_time": "2022-06-25T17:52:55.265Z"
   },
   {
    "duration": 0,
    "start_time": "2022-06-25T17:52:55.266Z"
   },
   {
    "duration": 0,
    "start_time": "2022-06-25T17:52:55.266Z"
   },
   {
    "duration": 0,
    "start_time": "2022-06-25T17:52:55.267Z"
   },
   {
    "duration": 0,
    "start_time": "2022-06-25T17:52:55.268Z"
   },
   {
    "duration": 0,
    "start_time": "2022-06-25T17:52:55.268Z"
   },
   {
    "duration": 0,
    "start_time": "2022-06-25T17:52:55.269Z"
   },
   {
    "duration": 0,
    "start_time": "2022-06-25T17:52:55.270Z"
   },
   {
    "duration": 0,
    "start_time": "2022-06-25T17:52:55.270Z"
   },
   {
    "duration": 0,
    "start_time": "2022-06-25T17:52:55.273Z"
   },
   {
    "duration": 0,
    "start_time": "2022-06-25T17:52:55.275Z"
   },
   {
    "duration": 0,
    "start_time": "2022-06-25T17:52:55.277Z"
   },
   {
    "duration": 0,
    "start_time": "2022-06-25T17:52:55.278Z"
   },
   {
    "duration": 0,
    "start_time": "2022-06-25T17:52:55.278Z"
   },
   {
    "duration": 0,
    "start_time": "2022-06-25T17:52:55.280Z"
   },
   {
    "duration": 0,
    "start_time": "2022-06-25T17:52:55.281Z"
   },
   {
    "duration": 0,
    "start_time": "2022-06-25T17:52:55.282Z"
   },
   {
    "duration": 0,
    "start_time": "2022-06-25T17:52:55.283Z"
   },
   {
    "duration": 0,
    "start_time": "2022-06-25T17:52:55.284Z"
   },
   {
    "duration": 0,
    "start_time": "2022-06-25T17:52:55.285Z"
   },
   {
    "duration": 0,
    "start_time": "2022-06-25T17:52:55.286Z"
   },
   {
    "duration": 0,
    "start_time": "2022-06-25T17:52:55.287Z"
   },
   {
    "duration": 0,
    "start_time": "2022-06-25T17:52:55.289Z"
   },
   {
    "duration": 0,
    "start_time": "2022-06-25T17:52:55.290Z"
   },
   {
    "duration": 0,
    "start_time": "2022-06-25T17:52:55.292Z"
   },
   {
    "duration": 0,
    "start_time": "2022-06-25T17:52:55.293Z"
   },
   {
    "duration": 0,
    "start_time": "2022-06-25T17:52:55.354Z"
   },
   {
    "duration": 0,
    "start_time": "2022-06-25T17:52:55.357Z"
   },
   {
    "duration": 0,
    "start_time": "2022-06-25T17:52:55.358Z"
   },
   {
    "duration": 1,
    "start_time": "2022-06-25T17:52:55.358Z"
   },
   {
    "duration": 0,
    "start_time": "2022-06-25T17:52:55.359Z"
   },
   {
    "duration": 0,
    "start_time": "2022-06-25T17:52:55.360Z"
   },
   {
    "duration": 0,
    "start_time": "2022-06-25T17:52:55.361Z"
   },
   {
    "duration": 0,
    "start_time": "2022-06-25T17:52:55.361Z"
   },
   {
    "duration": 0,
    "start_time": "2022-06-25T17:52:55.362Z"
   },
   {
    "duration": 0,
    "start_time": "2022-06-25T17:52:55.362Z"
   },
   {
    "duration": 0,
    "start_time": "2022-06-25T17:52:55.363Z"
   },
   {
    "duration": 0,
    "start_time": "2022-06-25T17:52:55.364Z"
   },
   {
    "duration": 0,
    "start_time": "2022-06-25T17:52:55.365Z"
   },
   {
    "duration": 0,
    "start_time": "2022-06-25T17:52:55.366Z"
   },
   {
    "duration": 0,
    "start_time": "2022-06-25T17:52:55.367Z"
   },
   {
    "duration": 0,
    "start_time": "2022-06-25T17:52:55.367Z"
   },
   {
    "duration": 0,
    "start_time": "2022-06-25T17:52:55.372Z"
   },
   {
    "duration": 0,
    "start_time": "2022-06-25T17:52:55.373Z"
   },
   {
    "duration": 0,
    "start_time": "2022-06-25T17:52:55.374Z"
   },
   {
    "duration": 0,
    "start_time": "2022-06-25T17:52:55.375Z"
   },
   {
    "duration": 4,
    "start_time": "2022-06-25T17:53:18.336Z"
   },
   {
    "duration": 5,
    "start_time": "2022-06-25T17:53:32.014Z"
   },
   {
    "duration": 16,
    "start_time": "2022-06-25T17:53:39.915Z"
   },
   {
    "duration": 9,
    "start_time": "2022-06-25T17:53:42.612Z"
   },
   {
    "duration": 23,
    "start_time": "2022-06-25T17:53:45.047Z"
   },
   {
    "duration": 4,
    "start_time": "2022-06-25T17:53:49.413Z"
   },
   {
    "duration": 9,
    "start_time": "2022-06-25T17:53:53.005Z"
   },
   {
    "duration": 19,
    "start_time": "2022-06-25T17:54:15.639Z"
   },
   {
    "duration": 5,
    "start_time": "2022-06-25T17:54:30.014Z"
   },
   {
    "duration": 4,
    "start_time": "2022-06-25T17:54:49.801Z"
   },
   {
    "duration": 11,
    "start_time": "2022-06-25T17:54:59.104Z"
   },
   {
    "duration": 1738,
    "start_time": "2022-06-25T17:55:14.268Z"
   },
   {
    "duration": 4,
    "start_time": "2022-06-25T17:55:16.008Z"
   },
   {
    "duration": 12,
    "start_time": "2022-06-25T17:55:16.013Z"
   },
   {
    "duration": 45,
    "start_time": "2022-06-25T17:55:16.027Z"
   },
   {
    "duration": 66,
    "start_time": "2022-06-25T17:55:16.074Z"
   },
   {
    "duration": 23,
    "start_time": "2022-06-25T17:55:16.142Z"
   },
   {
    "duration": 26,
    "start_time": "2022-06-25T17:55:16.167Z"
   },
   {
    "duration": 13,
    "start_time": "2022-06-25T17:55:16.195Z"
   },
   {
    "duration": 39,
    "start_time": "2022-06-25T17:55:16.210Z"
   },
   {
    "duration": 9,
    "start_time": "2022-06-25T17:55:16.261Z"
   },
   {
    "duration": 32,
    "start_time": "2022-06-25T17:55:16.272Z"
   },
   {
    "duration": 26,
    "start_time": "2022-06-25T17:55:16.306Z"
   },
   {
    "duration": 1545,
    "start_time": "2022-06-25T17:55:16.335Z"
   },
   {
    "duration": 322,
    "start_time": "2022-06-25T17:55:17.883Z"
   },
   {
    "duration": 9,
    "start_time": "2022-06-25T17:55:18.207Z"
   },
   {
    "duration": 28,
    "start_time": "2022-06-25T17:55:18.218Z"
   },
   {
    "duration": 37,
    "start_time": "2022-06-25T17:55:18.248Z"
   },
   {
    "duration": 26,
    "start_time": "2022-06-25T17:55:18.287Z"
   },
   {
    "duration": 15,
    "start_time": "2022-06-25T17:55:18.316Z"
   },
   {
    "duration": 7,
    "start_time": "2022-06-25T17:55:18.333Z"
   },
   {
    "duration": 14,
    "start_time": "2022-06-25T17:55:18.341Z"
   },
   {
    "duration": 16,
    "start_time": "2022-06-25T17:55:18.359Z"
   },
   {
    "duration": 12,
    "start_time": "2022-06-25T17:55:18.377Z"
   },
   {
    "duration": 6,
    "start_time": "2022-06-25T17:55:18.392Z"
   },
   {
    "duration": 7,
    "start_time": "2022-06-25T17:55:18.400Z"
   },
   {
    "duration": 718,
    "start_time": "2022-06-25T17:55:18.408Z"
   },
   {
    "duration": 273,
    "start_time": "2022-06-25T17:55:19.129Z"
   },
   {
    "duration": 12,
    "start_time": "2022-06-25T17:55:19.404Z"
   },
   {
    "duration": 13,
    "start_time": "2022-06-25T17:55:19.418Z"
   },
   {
    "duration": 360,
    "start_time": "2022-06-25T17:55:19.433Z"
   },
   {
    "duration": 12,
    "start_time": "2022-06-25T17:55:19.795Z"
   },
   {
    "duration": 390,
    "start_time": "2022-06-25T17:55:19.809Z"
   },
   {
    "duration": 5,
    "start_time": "2022-06-25T17:55:20.201Z"
   },
   {
    "duration": 48,
    "start_time": "2022-06-25T17:55:20.208Z"
   },
   {
    "duration": 13,
    "start_time": "2022-06-25T17:55:20.258Z"
   },
   {
    "duration": 32,
    "start_time": "2022-06-25T17:55:20.274Z"
   },
   {
    "duration": 13,
    "start_time": "2022-06-25T17:55:20.308Z"
   },
   {
    "duration": 28,
    "start_time": "2022-06-25T17:55:20.326Z"
   },
   {
    "duration": 26,
    "start_time": "2022-06-25T17:55:20.357Z"
   },
   {
    "duration": 6,
    "start_time": "2022-06-25T17:55:20.386Z"
   },
   {
    "duration": 3,
    "start_time": "2022-06-25T17:55:20.401Z"
   },
   {
    "duration": 6,
    "start_time": "2022-06-25T17:55:20.406Z"
   },
   {
    "duration": 9,
    "start_time": "2022-06-25T17:55:20.414Z"
   },
   {
    "duration": 37,
    "start_time": "2022-06-25T17:55:20.425Z"
   },
   {
    "duration": 143,
    "start_time": "2022-06-25T17:55:20.466Z"
   },
   {
    "duration": 0,
    "start_time": "2022-06-25T17:55:20.611Z"
   },
   {
    "duration": 0,
    "start_time": "2022-06-25T17:55:20.612Z"
   },
   {
    "duration": 0,
    "start_time": "2022-06-25T17:55:20.613Z"
   },
   {
    "duration": 0,
    "start_time": "2022-06-25T17:55:20.614Z"
   },
   {
    "duration": 0,
    "start_time": "2022-06-25T17:55:20.615Z"
   },
   {
    "duration": 0,
    "start_time": "2022-06-25T17:55:20.617Z"
   },
   {
    "duration": 0,
    "start_time": "2022-06-25T17:55:20.618Z"
   },
   {
    "duration": 0,
    "start_time": "2022-06-25T17:55:20.619Z"
   },
   {
    "duration": 0,
    "start_time": "2022-06-25T17:55:20.620Z"
   },
   {
    "duration": 0,
    "start_time": "2022-06-25T17:55:20.622Z"
   },
   {
    "duration": 0,
    "start_time": "2022-06-25T17:55:20.623Z"
   },
   {
    "duration": 0,
    "start_time": "2022-06-25T17:55:20.624Z"
   },
   {
    "duration": 0,
    "start_time": "2022-06-25T17:55:20.625Z"
   },
   {
    "duration": 0,
    "start_time": "2022-06-25T17:55:20.651Z"
   },
   {
    "duration": 0,
    "start_time": "2022-06-25T17:55:20.654Z"
   },
   {
    "duration": 0,
    "start_time": "2022-06-25T17:55:20.655Z"
   },
   {
    "duration": 0,
    "start_time": "2022-06-25T17:55:20.656Z"
   },
   {
    "duration": 0,
    "start_time": "2022-06-25T17:55:20.656Z"
   },
   {
    "duration": 0,
    "start_time": "2022-06-25T17:55:20.660Z"
   },
   {
    "duration": 0,
    "start_time": "2022-06-25T17:55:20.661Z"
   },
   {
    "duration": 0,
    "start_time": "2022-06-25T17:55:20.661Z"
   },
   {
    "duration": 0,
    "start_time": "2022-06-25T17:55:20.662Z"
   },
   {
    "duration": 0,
    "start_time": "2022-06-25T17:55:20.663Z"
   },
   {
    "duration": 0,
    "start_time": "2022-06-25T17:55:20.664Z"
   },
   {
    "duration": 0,
    "start_time": "2022-06-25T17:55:20.665Z"
   },
   {
    "duration": 0,
    "start_time": "2022-06-25T17:55:20.665Z"
   },
   {
    "duration": 0,
    "start_time": "2022-06-25T17:55:20.666Z"
   },
   {
    "duration": 0,
    "start_time": "2022-06-25T17:55:20.667Z"
   },
   {
    "duration": 0,
    "start_time": "2022-06-25T17:55:20.668Z"
   },
   {
    "duration": 0,
    "start_time": "2022-06-25T17:55:20.670Z"
   },
   {
    "duration": 0,
    "start_time": "2022-06-25T17:55:20.673Z"
   },
   {
    "duration": 0,
    "start_time": "2022-06-25T17:55:20.674Z"
   },
   {
    "duration": 0,
    "start_time": "2022-06-25T17:55:20.676Z"
   },
   {
    "duration": 0,
    "start_time": "2022-06-25T17:55:20.677Z"
   },
   {
    "duration": 0,
    "start_time": "2022-06-25T17:55:20.678Z"
   },
   {
    "duration": 1,
    "start_time": "2022-06-25T17:55:20.679Z"
   },
   {
    "duration": 0,
    "start_time": "2022-06-25T17:55:20.681Z"
   },
   {
    "duration": 0,
    "start_time": "2022-06-25T17:55:20.682Z"
   },
   {
    "duration": 0,
    "start_time": "2022-06-25T17:55:20.683Z"
   },
   {
    "duration": 0,
    "start_time": "2022-06-25T17:55:20.684Z"
   },
   {
    "duration": 0,
    "start_time": "2022-06-25T17:55:20.686Z"
   },
   {
    "duration": 0,
    "start_time": "2022-06-25T17:55:20.686Z"
   },
   {
    "duration": 0,
    "start_time": "2022-06-25T17:55:20.688Z"
   },
   {
    "duration": 0,
    "start_time": "2022-06-25T17:55:20.689Z"
   },
   {
    "duration": 0,
    "start_time": "2022-06-25T17:55:20.690Z"
   },
   {
    "duration": 0,
    "start_time": "2022-06-25T17:55:20.691Z"
   },
   {
    "duration": 0,
    "start_time": "2022-06-25T17:55:20.693Z"
   },
   {
    "duration": 0,
    "start_time": "2022-06-25T17:55:20.695Z"
   },
   {
    "duration": 0,
    "start_time": "2022-06-25T17:55:20.755Z"
   },
   {
    "duration": 0,
    "start_time": "2022-06-25T17:55:20.767Z"
   },
   {
    "duration": 0,
    "start_time": "2022-06-25T17:55:20.768Z"
   },
   {
    "duration": 0,
    "start_time": "2022-06-25T17:55:20.770Z"
   },
   {
    "duration": 0,
    "start_time": "2022-06-25T17:55:20.771Z"
   },
   {
    "duration": 0,
    "start_time": "2022-06-25T17:55:20.773Z"
   },
   {
    "duration": 0,
    "start_time": "2022-06-25T17:55:20.774Z"
   },
   {
    "duration": 0,
    "start_time": "2022-06-25T17:55:20.775Z"
   },
   {
    "duration": 0,
    "start_time": "2022-06-25T17:55:20.776Z"
   },
   {
    "duration": 0,
    "start_time": "2022-06-25T17:55:20.777Z"
   },
   {
    "duration": 0,
    "start_time": "2022-06-25T17:55:20.778Z"
   },
   {
    "duration": 0,
    "start_time": "2022-06-25T17:55:20.779Z"
   },
   {
    "duration": 0,
    "start_time": "2022-06-25T17:55:20.781Z"
   },
   {
    "duration": 0,
    "start_time": "2022-06-25T17:55:20.782Z"
   },
   {
    "duration": 0,
    "start_time": "2022-06-25T17:55:20.783Z"
   },
   {
    "duration": 0,
    "start_time": "2022-06-25T17:55:20.784Z"
   },
   {
    "duration": 1,
    "start_time": "2022-06-25T17:55:20.785Z"
   },
   {
    "duration": 1731,
    "start_time": "2022-06-25T17:55:48.250Z"
   },
   {
    "duration": 4,
    "start_time": "2022-06-25T17:55:49.983Z"
   },
   {
    "duration": 6,
    "start_time": "2022-06-25T17:55:49.989Z"
   },
   {
    "duration": 9,
    "start_time": "2022-06-25T17:55:49.999Z"
   },
   {
    "duration": 67,
    "start_time": "2022-06-25T17:55:50.011Z"
   },
   {
    "duration": 13,
    "start_time": "2022-06-25T17:55:50.080Z"
   },
   {
    "duration": 14,
    "start_time": "2022-06-25T17:55:50.095Z"
   },
   {
    "duration": 10,
    "start_time": "2022-06-25T17:55:50.110Z"
   },
   {
    "duration": 58,
    "start_time": "2022-06-25T17:55:50.122Z"
   },
   {
    "duration": 9,
    "start_time": "2022-06-25T17:55:50.184Z"
   },
   {
    "duration": 25,
    "start_time": "2022-06-25T17:55:50.195Z"
   },
   {
    "duration": 40,
    "start_time": "2022-06-25T17:55:50.222Z"
   },
   {
    "duration": 1606,
    "start_time": "2022-06-25T17:55:50.266Z"
   },
   {
    "duration": 338,
    "start_time": "2022-06-25T17:55:51.874Z"
   },
   {
    "duration": 9,
    "start_time": "2022-06-25T17:55:52.215Z"
   },
   {
    "duration": 39,
    "start_time": "2022-06-25T17:55:52.226Z"
   },
   {
    "duration": 7,
    "start_time": "2022-06-25T17:55:52.268Z"
   },
   {
    "duration": 9,
    "start_time": "2022-06-25T17:55:52.277Z"
   },
   {
    "duration": 13,
    "start_time": "2022-06-25T17:55:52.289Z"
   },
   {
    "duration": 6,
    "start_time": "2022-06-25T17:55:52.304Z"
   },
   {
    "duration": 42,
    "start_time": "2022-06-25T17:55:52.312Z"
   },
   {
    "duration": 12,
    "start_time": "2022-06-25T17:55:52.356Z"
   },
   {
    "duration": 16,
    "start_time": "2022-06-25T17:55:52.370Z"
   },
   {
    "duration": 9,
    "start_time": "2022-06-25T17:55:52.388Z"
   },
   {
    "duration": 4,
    "start_time": "2022-06-25T17:55:52.399Z"
   },
   {
    "duration": 729,
    "start_time": "2022-06-25T17:55:52.405Z"
   },
   {
    "duration": 277,
    "start_time": "2022-06-25T17:55:53.136Z"
   },
   {
    "duration": 14,
    "start_time": "2022-06-25T17:55:53.420Z"
   },
   {
    "duration": 26,
    "start_time": "2022-06-25T17:55:53.454Z"
   },
   {
    "duration": 352,
    "start_time": "2022-06-25T17:55:53.482Z"
   },
   {
    "duration": 20,
    "start_time": "2022-06-25T17:55:53.836Z"
   },
   {
    "duration": 381,
    "start_time": "2022-06-25T17:55:53.862Z"
   },
   {
    "duration": 15,
    "start_time": "2022-06-25T17:55:54.245Z"
   },
   {
    "duration": 35,
    "start_time": "2022-06-25T17:55:54.266Z"
   },
   {
    "duration": 10,
    "start_time": "2022-06-25T17:55:54.303Z"
   },
   {
    "duration": 56,
    "start_time": "2022-06-25T17:55:54.315Z"
   },
   {
    "duration": 17,
    "start_time": "2022-06-25T17:55:54.373Z"
   },
   {
    "duration": 9,
    "start_time": "2022-06-25T17:55:54.393Z"
   },
   {
    "duration": 33,
    "start_time": "2022-06-25T17:55:54.405Z"
   },
   {
    "duration": 19,
    "start_time": "2022-06-25T17:55:54.440Z"
   },
   {
    "duration": 18,
    "start_time": "2022-06-25T17:55:54.469Z"
   },
   {
    "duration": 11,
    "start_time": "2022-06-25T17:55:54.490Z"
   },
   {
    "duration": 19,
    "start_time": "2022-06-25T17:55:54.504Z"
   },
   {
    "duration": 17,
    "start_time": "2022-06-25T17:55:54.526Z"
   },
   {
    "duration": 32,
    "start_time": "2022-06-25T17:55:54.546Z"
   },
   {
    "duration": 20,
    "start_time": "2022-06-25T17:55:54.581Z"
   },
   {
    "duration": 12,
    "start_time": "2022-06-25T17:55:54.604Z"
   },
   {
    "duration": 7,
    "start_time": "2022-06-25T17:55:54.619Z"
   },
   {
    "duration": 14,
    "start_time": "2022-06-25T17:55:54.629Z"
   },
   {
    "duration": 9,
    "start_time": "2022-06-25T17:55:54.646Z"
   },
   {
    "duration": 26,
    "start_time": "2022-06-25T17:55:54.659Z"
   },
   {
    "duration": 17,
    "start_time": "2022-06-25T17:55:54.688Z"
   },
   {
    "duration": 11,
    "start_time": "2022-06-25T17:55:54.708Z"
   },
   {
    "duration": 9,
    "start_time": "2022-06-25T17:55:54.722Z"
   },
   {
    "duration": 9,
    "start_time": "2022-06-25T17:55:54.734Z"
   },
   {
    "duration": 26,
    "start_time": "2022-06-25T17:55:54.745Z"
   },
   {
    "duration": 15,
    "start_time": "2022-06-25T17:55:54.774Z"
   },
   {
    "duration": 12,
    "start_time": "2022-06-25T17:55:54.791Z"
   },
   {
    "duration": 95,
    "start_time": "2022-06-25T17:55:54.805Z"
   },
   {
    "duration": 20,
    "start_time": "2022-06-25T17:55:54.902Z"
   },
   {
    "duration": 158,
    "start_time": "2022-06-25T17:55:54.924Z"
   },
   {
    "duration": 0,
    "start_time": "2022-06-25T17:55:55.085Z"
   },
   {
    "duration": 0,
    "start_time": "2022-06-25T17:55:55.087Z"
   },
   {
    "duration": 1,
    "start_time": "2022-06-25T17:55:55.088Z"
   },
   {
    "duration": 0,
    "start_time": "2022-06-25T17:55:55.090Z"
   },
   {
    "duration": 1,
    "start_time": "2022-06-25T17:55:55.092Z"
   },
   {
    "duration": 0,
    "start_time": "2022-06-25T17:55:55.094Z"
   },
   {
    "duration": 0,
    "start_time": "2022-06-25T17:55:55.095Z"
   },
   {
    "duration": 0,
    "start_time": "2022-06-25T17:55:55.097Z"
   },
   {
    "duration": 0,
    "start_time": "2022-06-25T17:55:55.098Z"
   },
   {
    "duration": 0,
    "start_time": "2022-06-25T17:55:55.099Z"
   },
   {
    "duration": 0,
    "start_time": "2022-06-25T17:55:55.100Z"
   },
   {
    "duration": 0,
    "start_time": "2022-06-25T17:55:55.102Z"
   },
   {
    "duration": 0,
    "start_time": "2022-06-25T17:55:55.103Z"
   },
   {
    "duration": 0,
    "start_time": "2022-06-25T17:55:55.104Z"
   },
   {
    "duration": 0,
    "start_time": "2022-06-25T17:55:55.106Z"
   },
   {
    "duration": 0,
    "start_time": "2022-06-25T17:55:55.107Z"
   },
   {
    "duration": 0,
    "start_time": "2022-06-25T17:55:55.109Z"
   },
   {
    "duration": 0,
    "start_time": "2022-06-25T17:55:55.111Z"
   },
   {
    "duration": 0,
    "start_time": "2022-06-25T17:55:55.158Z"
   },
   {
    "duration": 0,
    "start_time": "2022-06-25T17:55:55.159Z"
   },
   {
    "duration": 0,
    "start_time": "2022-06-25T17:55:55.160Z"
   },
   {
    "duration": 0,
    "start_time": "2022-06-25T17:55:55.161Z"
   },
   {
    "duration": 0,
    "start_time": "2022-06-25T17:55:55.162Z"
   },
   {
    "duration": 0,
    "start_time": "2022-06-25T17:55:55.164Z"
   },
   {
    "duration": 0,
    "start_time": "2022-06-25T17:55:55.165Z"
   },
   {
    "duration": 0,
    "start_time": "2022-06-25T17:55:55.166Z"
   },
   {
    "duration": 0,
    "start_time": "2022-06-25T17:55:55.167Z"
   },
   {
    "duration": 0,
    "start_time": "2022-06-25T17:55:55.170Z"
   },
   {
    "duration": 0,
    "start_time": "2022-06-25T17:55:55.173Z"
   },
   {
    "duration": 0,
    "start_time": "2022-06-25T17:55:55.175Z"
   },
   {
    "duration": 0,
    "start_time": "2022-06-25T17:55:55.177Z"
   },
   {
    "duration": 1,
    "start_time": "2022-06-25T17:55:55.178Z"
   },
   {
    "duration": 0,
    "start_time": "2022-06-25T17:55:55.180Z"
   },
   {
    "duration": 0,
    "start_time": "2022-06-25T17:55:55.182Z"
   },
   {
    "duration": 0,
    "start_time": "2022-06-25T17:55:55.185Z"
   },
   {
    "duration": 0,
    "start_time": "2022-06-25T17:55:55.186Z"
   },
   {
    "duration": 0,
    "start_time": "2022-06-25T17:55:55.187Z"
   },
   {
    "duration": 0,
    "start_time": "2022-06-25T17:55:55.188Z"
   },
   {
    "duration": 0,
    "start_time": "2022-06-25T17:55:55.189Z"
   },
   {
    "duration": 0,
    "start_time": "2022-06-25T17:55:55.191Z"
   },
   {
    "duration": 0,
    "start_time": "2022-06-25T17:55:55.193Z"
   },
   {
    "duration": 0,
    "start_time": "2022-06-25T17:55:55.194Z"
   },
   {
    "duration": 0,
    "start_time": "2022-06-25T17:55:55.196Z"
   },
   {
    "duration": 0,
    "start_time": "2022-06-25T17:55:55.260Z"
   },
   {
    "duration": 0,
    "start_time": "2022-06-25T17:55:55.261Z"
   },
   {
    "duration": 0,
    "start_time": "2022-06-25T17:55:55.264Z"
   },
   {
    "duration": 0,
    "start_time": "2022-06-25T17:55:55.265Z"
   },
   {
    "duration": 0,
    "start_time": "2022-06-25T17:55:55.266Z"
   },
   {
    "duration": 0,
    "start_time": "2022-06-25T17:55:55.267Z"
   },
   {
    "duration": 3,
    "start_time": "2022-06-25T17:56:21.224Z"
   },
   {
    "duration": 3,
    "start_time": "2022-06-25T17:56:29.434Z"
   },
   {
    "duration": 11,
    "start_time": "2022-06-25T17:56:29.648Z"
   },
   {
    "duration": 17,
    "start_time": "2022-06-25T17:56:29.840Z"
   },
   {
    "duration": 14,
    "start_time": "2022-06-25T17:56:30.049Z"
   },
   {
    "duration": 8,
    "start_time": "2022-06-25T17:56:30.218Z"
   },
   {
    "duration": 9,
    "start_time": "2022-06-25T17:56:30.416Z"
   },
   {
    "duration": 3,
    "start_time": "2022-06-25T17:56:33.232Z"
   },
   {
    "duration": 10,
    "start_time": "2022-06-25T17:56:33.512Z"
   },
   {
    "duration": 8,
    "start_time": "2022-06-25T17:56:33.769Z"
   },
   {
    "duration": 3,
    "start_time": "2022-06-25T17:56:36.376Z"
   },
   {
    "duration": 103,
    "start_time": "2022-06-25T17:56:36.613Z"
   },
   {
    "duration": 8,
    "start_time": "2022-06-25T17:56:36.928Z"
   },
   {
    "duration": 12,
    "start_time": "2022-06-25T17:56:40.063Z"
   },
   {
    "duration": 6,
    "start_time": "2022-06-25T17:56:42.665Z"
   },
   {
    "duration": 1704,
    "start_time": "2022-06-25T17:57:28.147Z"
   },
   {
    "duration": 3,
    "start_time": "2022-06-25T17:57:29.854Z"
   },
   {
    "duration": 7,
    "start_time": "2022-06-25T17:57:29.859Z"
   },
   {
    "duration": 5,
    "start_time": "2022-06-25T17:57:29.869Z"
   },
   {
    "duration": 48,
    "start_time": "2022-06-25T17:57:29.878Z"
   },
   {
    "duration": 12,
    "start_time": "2022-06-25T17:57:29.928Z"
   },
   {
    "duration": 17,
    "start_time": "2022-06-25T17:57:29.952Z"
   },
   {
    "duration": 9,
    "start_time": "2022-06-25T17:57:29.972Z"
   },
   {
    "duration": 26,
    "start_time": "2022-06-25T17:57:29.983Z"
   },
   {
    "duration": 7,
    "start_time": "2022-06-25T17:57:30.011Z"
   },
   {
    "duration": 22,
    "start_time": "2022-06-25T17:57:30.051Z"
   },
   {
    "duration": 16,
    "start_time": "2022-06-25T17:57:30.075Z"
   },
   {
    "duration": 1676,
    "start_time": "2022-06-25T17:57:30.094Z"
   },
   {
    "duration": 314,
    "start_time": "2022-06-25T17:57:31.774Z"
   },
   {
    "duration": 9,
    "start_time": "2022-06-25T17:57:32.090Z"
   },
   {
    "duration": 19,
    "start_time": "2022-06-25T17:57:32.102Z"
   },
   {
    "duration": 28,
    "start_time": "2022-06-25T17:57:32.123Z"
   },
   {
    "duration": 10,
    "start_time": "2022-06-25T17:57:32.153Z"
   },
   {
    "duration": 23,
    "start_time": "2022-06-25T17:57:32.165Z"
   },
   {
    "duration": 7,
    "start_time": "2022-06-25T17:57:32.190Z"
   },
   {
    "duration": 18,
    "start_time": "2022-06-25T17:57:32.200Z"
   },
   {
    "duration": 33,
    "start_time": "2022-06-25T17:57:32.220Z"
   },
   {
    "duration": 23,
    "start_time": "2022-06-25T17:57:32.256Z"
   },
   {
    "duration": 7,
    "start_time": "2022-06-25T17:57:32.281Z"
   },
   {
    "duration": 7,
    "start_time": "2022-06-25T17:57:32.290Z"
   },
   {
    "duration": 747,
    "start_time": "2022-06-25T17:57:32.299Z"
   },
   {
    "duration": 336,
    "start_time": "2022-06-25T17:57:33.049Z"
   },
   {
    "duration": 15,
    "start_time": "2022-06-25T17:57:33.387Z"
   },
   {
    "duration": 13,
    "start_time": "2022-06-25T17:57:33.404Z"
   },
   {
    "duration": 578,
    "start_time": "2022-06-25T17:57:33.418Z"
   },
   {
    "duration": 12,
    "start_time": "2022-06-25T17:57:33.998Z"
   },
   {
    "duration": 478,
    "start_time": "2022-06-25T17:57:34.013Z"
   },
   {
    "duration": 6,
    "start_time": "2022-06-25T17:57:34.494Z"
   },
   {
    "duration": 59,
    "start_time": "2022-06-25T17:57:34.502Z"
   },
   {
    "duration": 23,
    "start_time": "2022-06-25T17:57:34.564Z"
   },
   {
    "duration": 44,
    "start_time": "2022-06-25T17:57:34.590Z"
   },
   {
    "duration": 26,
    "start_time": "2022-06-25T17:57:34.637Z"
   },
   {
    "duration": 4,
    "start_time": "2022-06-25T17:57:34.668Z"
   },
   {
    "duration": 27,
    "start_time": "2022-06-25T17:57:34.679Z"
   },
   {
    "duration": 13,
    "start_time": "2022-06-25T17:57:34.709Z"
   },
   {
    "duration": 3,
    "start_time": "2022-06-25T17:57:34.732Z"
   },
   {
    "duration": 17,
    "start_time": "2022-06-25T17:57:34.738Z"
   },
   {
    "duration": 46,
    "start_time": "2022-06-25T17:57:34.759Z"
   },
   {
    "duration": 12,
    "start_time": "2022-06-25T17:57:34.808Z"
   },
   {
    "duration": 11,
    "start_time": "2022-06-25T17:57:34.822Z"
   },
   {
    "duration": 33,
    "start_time": "2022-06-25T17:57:34.837Z"
   },
   {
    "duration": 27,
    "start_time": "2022-06-25T17:57:34.872Z"
   },
   {
    "duration": 21,
    "start_time": "2022-06-25T17:57:34.901Z"
   },
   {
    "duration": 13,
    "start_time": "2022-06-25T17:57:34.925Z"
   },
   {
    "duration": 8,
    "start_time": "2022-06-25T17:57:34.939Z"
   },
   {
    "duration": 29,
    "start_time": "2022-06-25T17:57:34.949Z"
   },
   {
    "duration": 11,
    "start_time": "2022-06-25T17:57:34.980Z"
   },
   {
    "duration": 6,
    "start_time": "2022-06-25T17:57:34.993Z"
   },
   {
    "duration": 7,
    "start_time": "2022-06-25T17:57:35.001Z"
   },
   {
    "duration": 5,
    "start_time": "2022-06-25T17:57:35.010Z"
   },
   {
    "duration": 6,
    "start_time": "2022-06-25T17:57:35.018Z"
   },
   {
    "duration": 9,
    "start_time": "2022-06-25T17:57:35.025Z"
   },
   {
    "duration": 17,
    "start_time": "2022-06-25T17:57:35.036Z"
   },
   {
    "duration": 97,
    "start_time": "2022-06-25T17:57:35.055Z"
   },
   {
    "duration": 24,
    "start_time": "2022-06-25T17:57:35.161Z"
   },
   {
    "duration": 3,
    "start_time": "2022-06-25T17:57:35.187Z"
   },
   {
    "duration": 11,
    "start_time": "2022-06-25T17:57:35.192Z"
   },
   {
    "duration": 20,
    "start_time": "2022-06-25T17:57:35.205Z"
   },
   {
    "duration": 4,
    "start_time": "2022-06-25T17:57:35.227Z"
   },
   {
    "duration": 16,
    "start_time": "2022-06-25T17:57:35.251Z"
   },
   {
    "duration": 13,
    "start_time": "2022-06-25T17:57:35.269Z"
   },
   {
    "duration": 7,
    "start_time": "2022-06-25T17:57:35.284Z"
   },
   {
    "duration": 124,
    "start_time": "2022-06-25T17:57:35.294Z"
   },
   {
    "duration": 8,
    "start_time": "2022-06-25T17:57:35.420Z"
   },
   {
    "duration": 26,
    "start_time": "2022-06-25T17:57:35.430Z"
   },
   {
    "duration": 19,
    "start_time": "2022-06-25T17:57:35.458Z"
   },
   {
    "duration": 20,
    "start_time": "2022-06-25T17:57:35.479Z"
   },
   {
    "duration": 11,
    "start_time": "2022-06-25T17:57:35.501Z"
   },
   {
    "duration": 10,
    "start_time": "2022-06-25T17:57:35.514Z"
   },
   {
    "duration": 32,
    "start_time": "2022-06-25T17:57:35.527Z"
   },
   {
    "duration": 27,
    "start_time": "2022-06-25T17:57:35.562Z"
   },
   {
    "duration": 69,
    "start_time": "2022-06-25T17:57:35.591Z"
   },
   {
    "duration": 9,
    "start_time": "2022-06-25T17:57:35.663Z"
   },
   {
    "duration": 6,
    "start_time": "2022-06-25T17:57:35.675Z"
   },
   {
    "duration": 10,
    "start_time": "2022-06-25T17:57:35.684Z"
   },
   {
    "duration": 10,
    "start_time": "2022-06-25T17:57:35.697Z"
   },
   {
    "duration": 11,
    "start_time": "2022-06-25T17:57:35.710Z"
   },
   {
    "duration": 11,
    "start_time": "2022-06-25T17:57:35.751Z"
   },
   {
    "duration": 27,
    "start_time": "2022-06-25T17:57:35.764Z"
   },
   {
    "duration": 9,
    "start_time": "2022-06-25T17:57:35.794Z"
   },
   {
    "duration": 5704,
    "start_time": "2022-06-25T17:57:35.805Z"
   },
   {
    "duration": 109,
    "start_time": "2022-06-25T17:57:41.512Z"
   },
   {
    "duration": 4,
    "start_time": "2022-06-25T17:57:41.623Z"
   },
   {
    "duration": 27,
    "start_time": "2022-06-25T17:57:41.630Z"
   },
   {
    "duration": 31,
    "start_time": "2022-06-25T17:57:41.659Z"
   },
   {
    "duration": 4,
    "start_time": "2022-06-25T17:57:41.692Z"
   },
   {
    "duration": 11,
    "start_time": "2022-06-25T17:57:41.698Z"
   },
   {
    "duration": 12,
    "start_time": "2022-06-25T17:57:41.711Z"
   },
   {
    "duration": 36,
    "start_time": "2022-06-25T17:57:41.725Z"
   },
   {
    "duration": 461,
    "start_time": "2022-06-25T17:57:41.763Z"
   },
   {
    "duration": 14,
    "start_time": "2022-06-25T17:57:42.226Z"
   },
   {
    "duration": 9,
    "start_time": "2022-06-25T17:57:42.257Z"
   },
   {
    "duration": 11,
    "start_time": "2022-06-25T17:57:42.274Z"
   },
   {
    "duration": 20,
    "start_time": "2022-06-25T17:57:42.287Z"
   },
   {
    "duration": 5,
    "start_time": "2022-06-25T17:57:42.309Z"
   },
   {
    "duration": 8,
    "start_time": "2022-06-25T17:57:42.316Z"
   },
   {
    "duration": 12,
    "start_time": "2022-06-25T17:57:42.326Z"
   },
   {
    "duration": 11,
    "start_time": "2022-06-25T17:57:42.361Z"
   },
   {
    "duration": 19,
    "start_time": "2022-06-25T17:57:42.374Z"
   },
   {
    "duration": 5840,
    "start_time": "2022-06-25T17:57:42.395Z"
   },
   {
    "duration": 37,
    "start_time": "2022-06-25T17:57:48.238Z"
   },
   {
    "duration": 15,
    "start_time": "2022-06-25T17:57:48.282Z"
   },
   {
    "duration": 30,
    "start_time": "2022-06-25T17:57:48.300Z"
   },
   {
    "duration": 41,
    "start_time": "2022-06-25T17:57:48.332Z"
   },
   {
    "duration": 498,
    "start_time": "2022-06-25T17:57:48.378Z"
   },
   {
    "duration": 1699,
    "start_time": "2022-06-25T18:09:30.548Z"
   },
   {
    "duration": 17,
    "start_time": "2022-06-25T18:09:32.250Z"
   },
   {
    "duration": 4,
    "start_time": "2022-06-25T18:09:32.269Z"
   },
   {
    "duration": 6,
    "start_time": "2022-06-25T18:09:32.276Z"
   },
   {
    "duration": 56,
    "start_time": "2022-06-25T18:09:32.284Z"
   },
   {
    "duration": 23,
    "start_time": "2022-06-25T18:09:32.343Z"
   },
   {
    "duration": 16,
    "start_time": "2022-06-25T18:09:32.368Z"
   },
   {
    "duration": 9,
    "start_time": "2022-06-25T18:09:32.386Z"
   },
   {
    "duration": 21,
    "start_time": "2022-06-25T18:09:32.396Z"
   },
   {
    "duration": 7,
    "start_time": "2022-06-25T18:09:32.420Z"
   },
   {
    "duration": 44,
    "start_time": "2022-06-25T18:09:32.429Z"
   },
   {
    "duration": 13,
    "start_time": "2022-06-25T18:09:32.475Z"
   },
   {
    "duration": 1699,
    "start_time": "2022-06-25T18:09:32.490Z"
   },
   {
    "duration": 341,
    "start_time": "2022-06-25T18:09:34.192Z"
   },
   {
    "duration": 22,
    "start_time": "2022-06-25T18:09:34.536Z"
   },
   {
    "duration": 31,
    "start_time": "2022-06-25T18:09:34.563Z"
   },
   {
    "duration": 20,
    "start_time": "2022-06-25T18:09:34.597Z"
   },
   {
    "duration": 18,
    "start_time": "2022-06-25T18:09:34.620Z"
   },
   {
    "duration": 34,
    "start_time": "2022-06-25T18:09:34.641Z"
   },
   {
    "duration": 6,
    "start_time": "2022-06-25T18:09:34.678Z"
   },
   {
    "duration": 15,
    "start_time": "2022-06-25T18:09:34.686Z"
   },
   {
    "duration": 12,
    "start_time": "2022-06-25T18:09:34.703Z"
   },
   {
    "duration": 26,
    "start_time": "2022-06-25T18:09:34.718Z"
   },
   {
    "duration": 26,
    "start_time": "2022-06-25T18:09:34.750Z"
   },
   {
    "duration": 12,
    "start_time": "2022-06-25T18:09:34.778Z"
   },
   {
    "duration": 697,
    "start_time": "2022-06-25T18:09:34.793Z"
   },
   {
    "duration": 273,
    "start_time": "2022-06-25T18:09:35.492Z"
   },
   {
    "duration": 11,
    "start_time": "2022-06-25T18:09:35.773Z"
   },
   {
    "duration": 11,
    "start_time": "2022-06-25T18:09:35.787Z"
   },
   {
    "duration": 358,
    "start_time": "2022-06-25T18:09:35.800Z"
   },
   {
    "duration": 12,
    "start_time": "2022-06-25T18:09:36.160Z"
   },
   {
    "duration": 397,
    "start_time": "2022-06-25T18:09:36.175Z"
   },
   {
    "duration": 5,
    "start_time": "2022-06-25T18:09:36.574Z"
   },
   {
    "duration": 25,
    "start_time": "2022-06-25T18:09:36.580Z"
   },
   {
    "duration": 10,
    "start_time": "2022-06-25T18:09:36.607Z"
   },
   {
    "duration": 69,
    "start_time": "2022-06-25T18:09:36.619Z"
   },
   {
    "duration": 12,
    "start_time": "2022-06-25T18:09:36.690Z"
   },
   {
    "duration": 5,
    "start_time": "2022-06-25T18:09:36.704Z"
   },
   {
    "duration": 9,
    "start_time": "2022-06-25T18:09:36.711Z"
   },
   {
    "duration": 30,
    "start_time": "2022-06-25T18:09:36.722Z"
   },
   {
    "duration": 16,
    "start_time": "2022-06-25T18:09:36.753Z"
   },
   {
    "duration": 7,
    "start_time": "2022-06-25T18:09:36.772Z"
   },
   {
    "duration": 9,
    "start_time": "2022-06-25T18:09:36.781Z"
   },
   {
    "duration": 10,
    "start_time": "2022-06-25T18:09:36.792Z"
   },
   {
    "duration": 5,
    "start_time": "2022-06-25T18:09:36.804Z"
   },
   {
    "duration": 10,
    "start_time": "2022-06-25T18:09:36.811Z"
   },
   {
    "duration": 32,
    "start_time": "2022-06-25T18:09:36.823Z"
   },
   {
    "duration": 6,
    "start_time": "2022-06-25T18:09:36.857Z"
   },
   {
    "duration": 13,
    "start_time": "2022-06-25T18:09:36.867Z"
   },
   {
    "duration": 7,
    "start_time": "2022-06-25T18:09:36.882Z"
   },
   {
    "duration": 11,
    "start_time": "2022-06-25T18:09:36.891Z"
   },
   {
    "duration": 10,
    "start_time": "2022-06-25T18:09:36.905Z"
   },
   {
    "duration": 6,
    "start_time": "2022-06-25T18:09:36.917Z"
   },
   {
    "duration": 36,
    "start_time": "2022-06-25T18:09:36.926Z"
   },
   {
    "duration": 6,
    "start_time": "2022-06-25T18:09:36.965Z"
   },
   {
    "duration": 5,
    "start_time": "2022-06-25T18:09:36.974Z"
   },
   {
    "duration": 6,
    "start_time": "2022-06-25T18:09:36.981Z"
   },
   {
    "duration": 6,
    "start_time": "2022-06-25T18:09:36.989Z"
   },
   {
    "duration": 113,
    "start_time": "2022-06-25T18:09:36.997Z"
   },
   {
    "duration": 19,
    "start_time": "2022-06-25T18:09:37.113Z"
   },
   {
    "duration": 32,
    "start_time": "2022-06-25T18:09:37.134Z"
   },
   {
    "duration": 10,
    "start_time": "2022-06-25T18:09:37.168Z"
   },
   {
    "duration": 14,
    "start_time": "2022-06-25T18:09:37.180Z"
   },
   {
    "duration": 3,
    "start_time": "2022-06-25T18:09:37.196Z"
   },
   {
    "duration": 10,
    "start_time": "2022-06-25T18:09:37.201Z"
   },
   {
    "duration": 12,
    "start_time": "2022-06-25T18:09:37.213Z"
   },
   {
    "duration": 29,
    "start_time": "2022-06-25T18:09:37.227Z"
   },
   {
    "duration": 100,
    "start_time": "2022-06-25T18:09:37.265Z"
   },
   {
    "duration": 7,
    "start_time": "2022-06-25T18:09:37.369Z"
   },
   {
    "duration": 6,
    "start_time": "2022-06-25T18:09:37.378Z"
   },
   {
    "duration": 9,
    "start_time": "2022-06-25T18:09:37.386Z"
   },
   {
    "duration": 8,
    "start_time": "2022-06-25T18:09:37.397Z"
   },
   {
    "duration": 6,
    "start_time": "2022-06-25T18:09:37.407Z"
   },
   {
    "duration": 44,
    "start_time": "2022-06-25T18:09:37.415Z"
   },
   {
    "duration": 11,
    "start_time": "2022-06-25T18:09:37.462Z"
   },
   {
    "duration": 8,
    "start_time": "2022-06-25T18:09:37.475Z"
   },
   {
    "duration": 70,
    "start_time": "2022-06-25T18:09:37.486Z"
   },
   {
    "duration": 14,
    "start_time": "2022-06-25T18:09:37.560Z"
   },
   {
    "duration": 6,
    "start_time": "2022-06-25T18:09:37.577Z"
   },
   {
    "duration": 9,
    "start_time": "2022-06-25T18:09:37.585Z"
   },
   {
    "duration": 11,
    "start_time": "2022-06-25T18:09:37.596Z"
   },
   {
    "duration": 4,
    "start_time": "2022-06-25T18:09:37.615Z"
   },
   {
    "duration": 33,
    "start_time": "2022-06-25T18:09:37.621Z"
   },
   {
    "duration": 17,
    "start_time": "2022-06-25T18:09:37.665Z"
   },
   {
    "duration": 5,
    "start_time": "2022-06-25T18:09:37.685Z"
   },
   {
    "duration": 5406,
    "start_time": "2022-06-25T18:09:37.692Z"
   },
   {
    "duration": 119,
    "start_time": "2022-06-25T18:09:43.101Z"
   },
   {
    "duration": 3,
    "start_time": "2022-06-25T18:09:43.222Z"
   },
   {
    "duration": 11,
    "start_time": "2022-06-25T18:09:43.227Z"
   },
   {
    "duration": 42,
    "start_time": "2022-06-25T18:09:43.257Z"
   },
   {
    "duration": 3,
    "start_time": "2022-06-25T18:09:43.301Z"
   },
   {
    "duration": 9,
    "start_time": "2022-06-25T18:09:43.306Z"
   },
   {
    "duration": 10,
    "start_time": "2022-06-25T18:09:43.319Z"
   },
   {
    "duration": 7,
    "start_time": "2022-06-25T18:09:43.331Z"
   },
   {
    "duration": 464,
    "start_time": "2022-06-25T18:09:43.339Z"
   },
   {
    "duration": 14,
    "start_time": "2022-06-25T18:09:43.805Z"
   },
   {
    "duration": 3,
    "start_time": "2022-06-25T18:09:43.821Z"
   },
   {
    "duration": 46,
    "start_time": "2022-06-25T18:09:43.825Z"
   },
   {
    "duration": 10,
    "start_time": "2022-06-25T18:09:43.873Z"
   },
   {
    "duration": 4,
    "start_time": "2022-06-25T18:09:43.884Z"
   },
   {
    "duration": 9,
    "start_time": "2022-06-25T18:09:43.890Z"
   },
   {
    "duration": 10,
    "start_time": "2022-06-25T18:09:43.901Z"
   },
   {
    "duration": 11,
    "start_time": "2022-06-25T18:09:43.913Z"
   },
   {
    "duration": 36,
    "start_time": "2022-06-25T18:09:43.926Z"
   },
   {
    "duration": 5474,
    "start_time": "2022-06-25T18:09:43.966Z"
   },
   {
    "duration": 33,
    "start_time": "2022-06-25T18:09:49.442Z"
   },
   {
    "duration": 3,
    "start_time": "2022-06-25T18:09:49.478Z"
   },
   {
    "duration": 18,
    "start_time": "2022-06-25T18:09:49.483Z"
   },
   {
    "duration": 11,
    "start_time": "2022-06-25T18:09:49.504Z"
   },
   {
    "duration": 471,
    "start_time": "2022-06-25T18:09:49.517Z"
   },
   {
    "duration": 2952,
    "start_time": "2022-06-26T14:59:16.398Z"
   },
   {
    "duration": 2,
    "start_time": "2022-06-26T14:59:19.352Z"
   },
   {
    "duration": 3,
    "start_time": "2022-06-26T14:59:25.318Z"
   },
   {
    "duration": 3,
    "start_time": "2022-06-26T14:59:27.003Z"
   },
   {
    "duration": 42,
    "start_time": "2022-06-26T14:59:27.703Z"
   },
   {
    "duration": 9,
    "start_time": "2022-06-26T14:59:29.539Z"
   },
   {
    "duration": 11,
    "start_time": "2022-06-26T14:59:29.735Z"
   },
   {
    "duration": 7,
    "start_time": "2022-06-26T14:59:29.947Z"
   },
   {
    "duration": 16,
    "start_time": "2022-06-26T14:59:30.325Z"
   },
   {
    "duration": 5,
    "start_time": "2022-06-26T14:59:30.936Z"
   },
   {
    "duration": 14,
    "start_time": "2022-06-26T14:59:31.315Z"
   },
   {
    "duration": 10,
    "start_time": "2022-06-26T14:59:31.539Z"
   },
   {
    "duration": 1116,
    "start_time": "2022-06-26T14:59:32.925Z"
   },
   {
    "duration": 239,
    "start_time": "2022-06-26T14:59:34.043Z"
   },
   {
    "duration": 7,
    "start_time": "2022-06-26T15:00:47.736Z"
   },
   {
    "duration": 10,
    "start_time": "2022-06-26T15:00:48.437Z"
   },
   {
    "duration": 4,
    "start_time": "2022-06-26T15:00:49.716Z"
   },
   {
    "duration": 7,
    "start_time": "2022-06-26T15:00:51.650Z"
   },
   {
    "duration": 8,
    "start_time": "2022-06-26T15:00:52.490Z"
   },
   {
    "duration": 5,
    "start_time": "2022-06-26T15:01:04.301Z"
   },
   {
    "duration": 7,
    "start_time": "2022-06-26T15:01:04.936Z"
   },
   {
    "duration": 6,
    "start_time": "2022-06-26T15:01:07.899Z"
   },
   {
    "duration": 9,
    "start_time": "2022-06-26T15:01:08.925Z"
   },
   {
    "duration": 4,
    "start_time": "2022-06-26T15:01:09.757Z"
   },
   {
    "duration": 4,
    "start_time": "2022-06-26T15:01:11.347Z"
   },
   {
    "duration": 458,
    "start_time": "2022-06-26T15:01:59.050Z"
   },
   {
    "duration": 207,
    "start_time": "2022-06-26T15:01:59.846Z"
   },
   {
    "duration": 11,
    "start_time": "2022-06-26T15:02:02.646Z"
   },
   {
    "duration": 7,
    "start_time": "2022-06-26T15:02:02.880Z"
   },
   {
    "duration": 240,
    "start_time": "2022-06-26T15:02:03.633Z"
   },
   {
    "duration": 12,
    "start_time": "2022-06-26T15:02:06.888Z"
   },
   {
    "duration": 268,
    "start_time": "2022-06-26T15:02:07.452Z"
   },
   {
    "duration": 40,
    "start_time": "2022-06-27T05:52:52.058Z"
   },
   {
    "duration": 1389,
    "start_time": "2022-06-27T06:17:09.951Z"
   },
   {
    "duration": 2,
    "start_time": "2022-06-27T06:17:11.342Z"
   },
   {
    "duration": 17,
    "start_time": "2022-06-27T06:17:11.346Z"
   },
   {
    "duration": 10,
    "start_time": "2022-06-27T06:17:11.365Z"
   },
   {
    "duration": 102,
    "start_time": "2022-06-27T06:17:11.376Z"
   },
   {
    "duration": 9,
    "start_time": "2022-06-27T06:17:11.480Z"
   },
   {
    "duration": 19,
    "start_time": "2022-06-27T06:17:11.490Z"
   },
   {
    "duration": 17,
    "start_time": "2022-06-27T06:17:11.511Z"
   },
   {
    "duration": 19,
    "start_time": "2022-06-27T06:17:11.530Z"
   },
   {
    "duration": 16,
    "start_time": "2022-06-27T06:17:11.551Z"
   },
   {
    "duration": 28,
    "start_time": "2022-06-27T06:17:11.568Z"
   },
   {
    "duration": 24,
    "start_time": "2022-06-27T06:17:11.597Z"
   },
   {
    "duration": 1067,
    "start_time": "2022-06-27T06:17:11.622Z"
   },
   {
    "duration": 213,
    "start_time": "2022-06-27T06:17:12.690Z"
   },
   {
    "duration": 7,
    "start_time": "2022-06-27T06:17:12.904Z"
   },
   {
    "duration": 21,
    "start_time": "2022-06-27T06:17:12.912Z"
   },
   {
    "duration": 3,
    "start_time": "2022-06-27T06:17:12.935Z"
   },
   {
    "duration": 23,
    "start_time": "2022-06-27T06:17:12.939Z"
   },
   {
    "duration": 18,
    "start_time": "2022-06-27T06:17:12.963Z"
   },
   {
    "duration": 20,
    "start_time": "2022-06-27T06:17:12.982Z"
   },
   {
    "duration": 22,
    "start_time": "2022-06-27T06:17:13.004Z"
   },
   {
    "duration": 14,
    "start_time": "2022-06-27T06:17:13.027Z"
   },
   {
    "duration": 30,
    "start_time": "2022-06-27T06:17:13.042Z"
   },
   {
    "duration": 6,
    "start_time": "2022-06-27T06:17:13.073Z"
   },
   {
    "duration": 22,
    "start_time": "2022-06-27T06:17:13.080Z"
   },
   {
    "duration": 486,
    "start_time": "2022-06-27T06:17:13.103Z"
   },
   {
    "duration": 181,
    "start_time": "2022-06-27T06:17:13.591Z"
   },
   {
    "duration": 9,
    "start_time": "2022-06-27T06:17:13.776Z"
   },
   {
    "duration": 18,
    "start_time": "2022-06-27T06:17:13.786Z"
   },
   {
    "duration": 246,
    "start_time": "2022-06-27T06:17:13.805Z"
   },
   {
    "duration": 9,
    "start_time": "2022-06-27T06:17:14.052Z"
   },
   {
    "duration": 266,
    "start_time": "2022-06-27T06:17:14.063Z"
   },
   {
    "duration": 3,
    "start_time": "2022-06-27T06:17:14.331Z"
   },
   {
    "duration": 27,
    "start_time": "2022-06-27T06:17:14.335Z"
   },
   {
    "duration": 6,
    "start_time": "2022-06-27T06:17:14.364Z"
   },
   {
    "duration": 28,
    "start_time": "2022-06-27T06:17:14.371Z"
   },
   {
    "duration": 10,
    "start_time": "2022-06-27T06:17:14.400Z"
   },
   {
    "duration": 2,
    "start_time": "2022-06-27T06:17:14.412Z"
   },
   {
    "duration": 11,
    "start_time": "2022-06-27T06:17:14.415Z"
   },
   {
    "duration": 4,
    "start_time": "2022-06-27T06:17:14.451Z"
   },
   {
    "duration": 14,
    "start_time": "2022-06-27T06:17:14.457Z"
   },
   {
    "duration": 10,
    "start_time": "2022-06-27T06:17:14.472Z"
   },
   {
    "duration": 13,
    "start_time": "2022-06-27T06:17:14.484Z"
   },
   {
    "duration": 11,
    "start_time": "2022-06-27T06:17:14.499Z"
   },
   {
    "duration": 11,
    "start_time": "2022-06-27T06:17:14.512Z"
   },
   {
    "duration": 10,
    "start_time": "2022-06-27T06:17:14.525Z"
   },
   {
    "duration": 16,
    "start_time": "2022-06-27T06:17:14.537Z"
   },
   {
    "duration": 10,
    "start_time": "2022-06-27T06:17:14.555Z"
   },
   {
    "duration": 11,
    "start_time": "2022-06-27T06:17:14.567Z"
   },
   {
    "duration": 5,
    "start_time": "2022-06-27T06:17:14.579Z"
   },
   {
    "duration": 8,
    "start_time": "2022-06-27T06:17:14.585Z"
   },
   {
    "duration": 8,
    "start_time": "2022-06-27T06:17:14.594Z"
   },
   {
    "duration": 3,
    "start_time": "2022-06-27T06:17:14.604Z"
   },
   {
    "duration": 6,
    "start_time": "2022-06-27T06:17:14.608Z"
   },
   {
    "duration": 4,
    "start_time": "2022-06-27T06:17:14.615Z"
   },
   {
    "duration": 5,
    "start_time": "2022-06-27T06:17:14.621Z"
   },
   {
    "duration": 6,
    "start_time": "2022-06-27T06:17:14.627Z"
   },
   {
    "duration": 5,
    "start_time": "2022-06-27T06:17:14.634Z"
   },
   {
    "duration": 56,
    "start_time": "2022-06-27T06:17:14.650Z"
   },
   {
    "duration": 13,
    "start_time": "2022-06-27T06:17:14.707Z"
   },
   {
    "duration": 2,
    "start_time": "2022-06-27T06:17:14.722Z"
   },
   {
    "duration": 24,
    "start_time": "2022-06-27T06:17:14.726Z"
   },
   {
    "duration": 10,
    "start_time": "2022-06-27T06:17:14.752Z"
   },
   {
    "duration": 4,
    "start_time": "2022-06-27T06:17:14.763Z"
   },
   {
    "duration": 6,
    "start_time": "2022-06-27T06:17:14.768Z"
   },
   {
    "duration": 8,
    "start_time": "2022-06-27T06:17:14.775Z"
   },
   {
    "duration": 4,
    "start_time": "2022-06-27T06:17:14.784Z"
   },
   {
    "duration": 93,
    "start_time": "2022-06-27T06:17:14.789Z"
   },
   {
    "duration": 6,
    "start_time": "2022-06-27T06:17:14.884Z"
   },
   {
    "duration": 3,
    "start_time": "2022-06-27T06:17:14.892Z"
   },
   {
    "duration": 8,
    "start_time": "2022-06-27T06:17:14.897Z"
   },
   {
    "duration": 7,
    "start_time": "2022-06-27T06:17:14.906Z"
   },
   {
    "duration": 3,
    "start_time": "2022-06-27T06:17:14.914Z"
   },
   {
    "duration": 38,
    "start_time": "2022-06-27T06:17:14.919Z"
   },
   {
    "duration": 14,
    "start_time": "2022-06-27T06:17:14.959Z"
   },
   {
    "duration": 7,
    "start_time": "2022-06-27T06:17:14.974Z"
   },
   {
    "duration": 40,
    "start_time": "2022-06-27T06:17:14.982Z"
   },
   {
    "duration": 5,
    "start_time": "2022-06-27T06:17:15.023Z"
   },
   {
    "duration": 9,
    "start_time": "2022-06-27T06:17:15.030Z"
   },
   {
    "duration": 12,
    "start_time": "2022-06-27T06:17:15.040Z"
   },
   {
    "duration": 6,
    "start_time": "2022-06-27T06:17:15.053Z"
   },
   {
    "duration": 2,
    "start_time": "2022-06-27T06:17:15.064Z"
   },
   {
    "duration": 7,
    "start_time": "2022-06-27T06:17:15.068Z"
   },
   {
    "duration": 11,
    "start_time": "2022-06-27T06:17:15.076Z"
   },
   {
    "duration": 20,
    "start_time": "2022-06-27T06:17:15.089Z"
   },
   {
    "duration": 4173,
    "start_time": "2022-06-27T06:17:15.111Z"
   },
   {
    "duration": 84,
    "start_time": "2022-06-27T06:17:19.286Z"
   },
   {
    "duration": 3,
    "start_time": "2022-06-27T06:17:19.372Z"
   },
   {
    "duration": 10,
    "start_time": "2022-06-27T06:17:19.377Z"
   },
   {
    "duration": 27,
    "start_time": "2022-06-27T06:17:19.389Z"
   },
   {
    "duration": 3,
    "start_time": "2022-06-27T06:17:19.417Z"
   },
   {
    "duration": 23,
    "start_time": "2022-06-27T06:17:19.421Z"
   },
   {
    "duration": 8,
    "start_time": "2022-06-27T06:17:19.445Z"
   },
   {
    "duration": 4,
    "start_time": "2022-06-27T06:17:19.455Z"
   },
   {
    "duration": 367,
    "start_time": "2022-06-27T06:17:19.460Z"
   },
   {
    "duration": 11,
    "start_time": "2022-06-27T06:17:19.828Z"
   },
   {
    "duration": 10,
    "start_time": "2022-06-27T06:17:19.840Z"
   },
   {
    "duration": 7,
    "start_time": "2022-06-27T06:17:19.852Z"
   },
   {
    "duration": 7,
    "start_time": "2022-06-27T06:17:19.861Z"
   },
   {
    "duration": 4,
    "start_time": "2022-06-27T06:17:19.869Z"
   },
   {
    "duration": 5,
    "start_time": "2022-06-27T06:17:19.875Z"
   },
   {
    "duration": 8,
    "start_time": "2022-06-27T06:17:19.881Z"
   },
   {
    "duration": 8,
    "start_time": "2022-06-27T06:17:19.890Z"
   },
   {
    "duration": 5,
    "start_time": "2022-06-27T06:17:19.899Z"
   },
   {
    "duration": 4245,
    "start_time": "2022-06-27T06:17:19.906Z"
   },
   {
    "duration": 19,
    "start_time": "2022-06-27T06:17:24.153Z"
   },
   {
    "duration": 2,
    "start_time": "2022-06-27T06:17:24.173Z"
   },
   {
    "duration": 6,
    "start_time": "2022-06-27T06:17:24.177Z"
   },
   {
    "duration": 11,
    "start_time": "2022-06-27T06:17:24.184Z"
   },
   {
    "duration": 350,
    "start_time": "2022-06-27T06:17:24.196Z"
   },
   {
    "duration": 1254,
    "start_time": "2022-06-27T06:22:58.174Z"
   },
   {
    "duration": 2,
    "start_time": "2022-06-27T06:22:59.430Z"
   },
   {
    "duration": 5,
    "start_time": "2022-06-27T06:22:59.435Z"
   },
   {
    "duration": 8,
    "start_time": "2022-06-27T06:22:59.442Z"
   },
   {
    "duration": 40,
    "start_time": "2022-06-27T06:22:59.452Z"
   },
   {
    "duration": 9,
    "start_time": "2022-06-27T06:22:59.493Z"
   },
   {
    "duration": 14,
    "start_time": "2022-06-27T06:22:59.503Z"
   },
   {
    "duration": 6,
    "start_time": "2022-06-27T06:22:59.518Z"
   },
   {
    "duration": 16,
    "start_time": "2022-06-27T06:22:59.525Z"
   },
   {
    "duration": 10,
    "start_time": "2022-06-27T06:22:59.542Z"
   },
   {
    "duration": 17,
    "start_time": "2022-06-27T06:22:59.554Z"
   },
   {
    "duration": 13,
    "start_time": "2022-06-27T06:22:59.572Z"
   },
   {
    "duration": 1103,
    "start_time": "2022-06-27T06:22:59.587Z"
   },
   {
    "duration": 223,
    "start_time": "2022-06-27T06:23:00.692Z"
   },
   {
    "duration": 7,
    "start_time": "2022-06-27T06:23:00.916Z"
   },
   {
    "duration": 21,
    "start_time": "2022-06-27T06:23:00.924Z"
   },
   {
    "duration": 20,
    "start_time": "2022-06-27T06:23:00.946Z"
   },
   {
    "duration": 21,
    "start_time": "2022-06-27T06:23:00.968Z"
   },
   {
    "duration": 22,
    "start_time": "2022-06-27T06:23:00.990Z"
   },
   {
    "duration": 9,
    "start_time": "2022-06-27T06:23:01.014Z"
   },
   {
    "duration": 22,
    "start_time": "2022-06-27T06:23:01.025Z"
   },
   {
    "duration": 10,
    "start_time": "2022-06-27T06:23:01.048Z"
   },
   {
    "duration": 29,
    "start_time": "2022-06-27T06:23:01.060Z"
   },
   {
    "duration": 15,
    "start_time": "2022-06-27T06:23:01.090Z"
   },
   {
    "duration": 12,
    "start_time": "2022-06-27T06:23:01.107Z"
   },
   {
    "duration": 485,
    "start_time": "2022-06-27T06:23:01.121Z"
   },
   {
    "duration": 186,
    "start_time": "2022-06-27T06:23:01.607Z"
   },
   {
    "duration": 9,
    "start_time": "2022-06-27T06:23:01.794Z"
   },
   {
    "duration": 30,
    "start_time": "2022-06-27T06:23:01.805Z"
   },
   {
    "duration": 257,
    "start_time": "2022-06-27T06:23:01.836Z"
   },
   {
    "duration": 9,
    "start_time": "2022-06-27T06:23:02.095Z"
   },
   {
    "duration": 271,
    "start_time": "2022-06-27T06:23:02.105Z"
   },
   {
    "duration": 3,
    "start_time": "2022-06-27T06:23:02.378Z"
   },
   {
    "duration": 24,
    "start_time": "2022-06-27T06:23:02.382Z"
   },
   {
    "duration": 7,
    "start_time": "2022-06-27T06:23:02.407Z"
   },
   {
    "duration": 25,
    "start_time": "2022-06-27T06:23:02.415Z"
   },
   {
    "duration": 8,
    "start_time": "2022-06-27T06:23:02.451Z"
   },
   {
    "duration": 6,
    "start_time": "2022-06-27T06:23:02.460Z"
   },
   {
    "duration": 8,
    "start_time": "2022-06-27T06:23:02.468Z"
   },
   {
    "duration": 4,
    "start_time": "2022-06-27T06:23:02.480Z"
   },
   {
    "duration": 6,
    "start_time": "2022-06-27T06:23:02.485Z"
   },
   {
    "duration": 7,
    "start_time": "2022-06-27T06:23:02.493Z"
   },
   {
    "duration": 13,
    "start_time": "2022-06-27T06:23:02.502Z"
   },
   {
    "duration": 9,
    "start_time": "2022-06-27T06:23:02.516Z"
   },
   {
    "duration": 9,
    "start_time": "2022-06-27T06:23:02.526Z"
   },
   {
    "duration": 9,
    "start_time": "2022-06-27T06:23:02.537Z"
   },
   {
    "duration": 8,
    "start_time": "2022-06-27T06:23:02.550Z"
   },
   {
    "duration": 11,
    "start_time": "2022-06-27T06:23:02.559Z"
   },
   {
    "duration": 12,
    "start_time": "2022-06-27T06:23:02.571Z"
   },
   {
    "duration": 7,
    "start_time": "2022-06-27T06:23:02.585Z"
   },
   {
    "duration": 10,
    "start_time": "2022-06-27T06:23:02.593Z"
   },
   {
    "duration": 13,
    "start_time": "2022-06-27T06:23:02.604Z"
   },
   {
    "duration": 24,
    "start_time": "2022-06-27T06:23:02.619Z"
   },
   {
    "duration": 8,
    "start_time": "2022-06-27T06:23:02.644Z"
   },
   {
    "duration": 8,
    "start_time": "2022-06-27T06:23:02.653Z"
   },
   {
    "duration": 6,
    "start_time": "2022-06-27T06:23:02.662Z"
   },
   {
    "duration": 15,
    "start_time": "2022-06-27T06:23:02.669Z"
   },
   {
    "duration": 11,
    "start_time": "2022-06-27T06:23:02.685Z"
   },
   {
    "duration": 60,
    "start_time": "2022-06-27T06:23:02.698Z"
   },
   {
    "duration": 14,
    "start_time": "2022-06-27T06:23:02.759Z"
   },
   {
    "duration": 2,
    "start_time": "2022-06-27T06:23:02.774Z"
   },
   {
    "duration": 10,
    "start_time": "2022-06-27T06:23:02.777Z"
   },
   {
    "duration": 14,
    "start_time": "2022-06-27T06:23:02.788Z"
   },
   {
    "duration": 3,
    "start_time": "2022-06-27T06:23:02.803Z"
   },
   {
    "duration": 10,
    "start_time": "2022-06-27T06:23:02.807Z"
   },
   {
    "duration": 11,
    "start_time": "2022-06-27T06:23:02.818Z"
   },
   {
    "duration": 6,
    "start_time": "2022-06-27T06:23:02.830Z"
   },
   {
    "duration": 85,
    "start_time": "2022-06-27T06:23:02.837Z"
   },
   {
    "duration": 5,
    "start_time": "2022-06-27T06:23:02.924Z"
   },
   {
    "duration": 7,
    "start_time": "2022-06-27T06:23:02.930Z"
   },
   {
    "duration": 13,
    "start_time": "2022-06-27T06:23:02.938Z"
   },
   {
    "duration": 5,
    "start_time": "2022-06-27T06:23:02.953Z"
   },
   {
    "duration": 5,
    "start_time": "2022-06-27T06:23:02.960Z"
   },
   {
    "duration": 9,
    "start_time": "2022-06-27T06:23:02.966Z"
   },
   {
    "duration": 10,
    "start_time": "2022-06-27T06:23:02.977Z"
   },
   {
    "duration": 6,
    "start_time": "2022-06-27T06:23:02.988Z"
   },
   {
    "duration": 39,
    "start_time": "2022-06-27T06:23:02.995Z"
   },
   {
    "duration": 20,
    "start_time": "2022-06-27T06:23:03.035Z"
   },
   {
    "duration": 6,
    "start_time": "2022-06-27T06:23:03.057Z"
   },
   {
    "duration": 11,
    "start_time": "2022-06-27T06:23:03.065Z"
   },
   {
    "duration": 8,
    "start_time": "2022-06-27T06:23:03.077Z"
   },
   {
    "duration": 5,
    "start_time": "2022-06-27T06:23:03.087Z"
   },
   {
    "duration": 7,
    "start_time": "2022-06-27T06:23:03.093Z"
   },
   {
    "duration": 13,
    "start_time": "2022-06-27T06:23:03.101Z"
   },
   {
    "duration": 5,
    "start_time": "2022-06-27T06:23:03.115Z"
   },
   {
    "duration": 4200,
    "start_time": "2022-06-27T06:23:03.121Z"
   },
   {
    "duration": 81,
    "start_time": "2022-06-27T06:23:07.323Z"
   },
   {
    "duration": 3,
    "start_time": "2022-06-27T06:23:07.405Z"
   },
   {
    "duration": 10,
    "start_time": "2022-06-27T06:23:07.410Z"
   },
   {
    "duration": 35,
    "start_time": "2022-06-27T06:23:07.421Z"
   },
   {
    "duration": 3,
    "start_time": "2022-06-27T06:23:07.458Z"
   },
   {
    "duration": 11,
    "start_time": "2022-06-27T06:23:07.462Z"
   },
   {
    "duration": 20,
    "start_time": "2022-06-27T06:23:07.474Z"
   },
   {
    "duration": 8,
    "start_time": "2022-06-27T06:23:07.496Z"
   },
   {
    "duration": 367,
    "start_time": "2022-06-27T06:23:07.505Z"
   },
   {
    "duration": 11,
    "start_time": "2022-06-27T06:23:07.873Z"
   },
   {
    "duration": 2,
    "start_time": "2022-06-27T06:23:07.886Z"
   },
   {
    "duration": 10,
    "start_time": "2022-06-27T06:23:07.890Z"
   },
   {
    "duration": 13,
    "start_time": "2022-06-27T06:23:07.902Z"
   },
   {
    "duration": 4,
    "start_time": "2022-06-27T06:23:07.917Z"
   },
   {
    "duration": 11,
    "start_time": "2022-06-27T06:23:07.922Z"
   },
   {
    "duration": 18,
    "start_time": "2022-06-27T06:23:07.934Z"
   },
   {
    "duration": 8,
    "start_time": "2022-06-27T06:23:07.953Z"
   },
   {
    "duration": 14,
    "start_time": "2022-06-27T06:23:07.962Z"
   },
   {
    "duration": 2,
    "start_time": "2022-06-27T06:23:07.977Z"
   },
   {
    "duration": 5,
    "start_time": "2022-06-27T06:23:07.981Z"
   },
   {
    "duration": 9,
    "start_time": "2022-06-27T06:23:07.988Z"
   },
   {
    "duration": 332,
    "start_time": "2022-06-27T06:23:07.998Z"
   }
  ],
  "kernelspec": {
   "display_name": "Python 3 (ipykernel)",
   "language": "python",
   "name": "python3"
  },
  "language_info": {
   "codemirror_mode": {
    "name": "ipython",
    "version": 3
   },
   "file_extension": ".py",
   "mimetype": "text/x-python",
   "name": "python",
   "nbconvert_exporter": "python",
   "pygments_lexer": "ipython3",
   "version": "3.9.5"
  },
  "toc": {
   "base_numbering": 1,
   "nav_menu": {},
   "number_sections": true,
   "sideBar": true,
   "skip_h1_title": true,
   "title_cell": "Содержание",
   "title_sidebar": "Contents",
   "toc_cell": true,
   "toc_position": {
    "height": "calc(100% - 180px)",
    "left": "10px",
    "top": "150px",
    "width": "347.391px"
   },
   "toc_section_display": true,
   "toc_window_display": true
  }
 },
 "nbformat": 4,
 "nbformat_minor": 2
}
