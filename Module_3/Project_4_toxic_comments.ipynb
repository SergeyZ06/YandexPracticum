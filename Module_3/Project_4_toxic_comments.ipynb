{
 "cells": [
  {
   "cell_type": "markdown",
   "metadata": {},
   "source": [
    "<div style=\"border:solid Chocolate 2px; padding: 40px\">\n",
    "\n",
    "<b>Привет!👋</b>\n",
    "\n",
    "Меня зовут Роман Абрамов, я буду ревьюером твоего проекта. Ты можешь обращаться ко мне на \"ты\"😏 Надеюсь, тебя также не смутит, если я буду обращаться к тебе на \"ты\", но если это неудобно, обязательно скажи об этом!\n",
    "\n",
    "Пожалуйста, не удаляй мои комментарии, они будут особенно полезны для нашей работы в случае повторной проверки проекта.\n",
    "\n",
    "Ты также можешь реагировать на мои комментарии своими, выделяя их цветами и наиболее понравившимся тебе способом оформления, но явно  отличающимся от моих комментариев. Это нужно, чтобы не создавалась путаница😉\n",
    "\n",
    "Ты можешь найти мои комментарии, обозначенные <font color='green'>зеленым</font>, <font color='gold'>желтым</font> и <font color='red'>красным</font> цветами, например:\n",
    "\n",
    "<br/>\n",
    "\n",
    "<div class=\"alert alert-success\">\n",
    "<h2> Комментарий ревьюера <a class=\"tocSkip\"> </h2>\n",
    "\n",
    "<b>Все отлично!👍:</b> В случае, если решение на отдельном шаге является полностью правильным.\n",
    "</div>\n",
    "\n",
    "<br/>\n",
    "\n",
    "<div class=\"alert alert-warning\">\n",
    "    <h2> Комментарий ревьюера <a class=\"tocSkip\"> </h2>\n",
    "\n",
    "<b>Некоторые замечания и рекомендации💡:</b> В случае, когда решение на отдельном шаге станет еще лучше, если внести небольшие коррективы. Желтые замечания и рекомендации необязательны к исправлению - на то это и рекомендации. Они больше ориентированы на улучшение твоих навыков\n",
    "</div>\n",
    "\n",
    "\n",
    "<br/>\n",
    "<div class=\"alert alert-block alert-danger\">\n",
    "<h2> Комментарий ревьюера <a class=\"tocSkip\"></h2>\n",
    "\n",
    "\n",
    "<b>На доработку🤔:</b>\n",
    " В случае, когда решение на отдельном шаге требует существенной переработки и внесения правок. Напоминаю, что проект не может быть принят с первого раза, если ревью содержит комментарии, рекомендующие доработать шаги.\n",
    "</div>\n",
    "\n",
    "Увидев у тебя неточность, в первый раз я лишь укажу на ее наличие и дам тебе возможность самому найти и исправить ее. На реальной работе твой руководитель будет поступать также. Но если ты пока не справишься с такой задачей - при следующей проверке я дам более точную подсказку!🤓"
   ]
  },
  {
   "cell_type": "markdown",
   "metadata": {
    "toc": true
   },
   "source": [
    "<h1>Содержание<span class=\"tocSkip\"></span></h1>\n",
    "<div class=\"toc\"><ul class=\"toc-item\"><li><span><a href=\"#Подготовка\" data-toc-modified-id=\"Подготовка-1\"><span class=\"toc-item-num\">1&nbsp;&nbsp;</span>Подготовка</a></span><ul class=\"toc-item\"><li><span><a href=\"#Подготовка-к-выполнению-проекта\" data-toc-modified-id=\"Подготовка-к-выполнению-проекта-1.1\"><span class=\"toc-item-num\">1.1&nbsp;&nbsp;</span>Подготовка к выполнению проекта</a></span><ul class=\"toc-item\"><li><span><a href=\"#Импорт-библиотек\" data-toc-modified-id=\"Импорт-библиотек-1.1.1\"><span class=\"toc-item-num\">1.1.1&nbsp;&nbsp;</span>Импорт библиотек</a></span></li><li><span><a href=\"#Импорт-данных\" data-toc-modified-id=\"Импорт-данных-1.1.2\"><span class=\"toc-item-num\">1.1.2&nbsp;&nbsp;</span>Импорт данных</a></span></li><li><span><a href=\"#Глобальные-настройки-проекта\" data-toc-modified-id=\"Глобальные-настройки-проекта-1.1.3\"><span class=\"toc-item-num\">1.1.3&nbsp;&nbsp;</span>Глобальные настройки проекта</a></span></li></ul></li><li><span><a href=\"#Загрузка-и-изучение-данных\" data-toc-modified-id=\"Загрузка-и-изучение-данных-1.2\"><span class=\"toc-item-num\">1.2&nbsp;&nbsp;</span>Загрузка и изучение данных</a></span><ul class=\"toc-item\"><li><span><a href=\"#Выводы\" data-toc-modified-id=\"Выводы-1.2.1\"><span class=\"toc-item-num\">1.2.1&nbsp;&nbsp;</span>Выводы</a></span></li></ul></li><li><span><a href=\"#Подготовка-данных\" data-toc-modified-id=\"Подготовка-данных-1.3\"><span class=\"toc-item-num\">1.3&nbsp;&nbsp;</span>Подготовка данных</a></span><ul class=\"toc-item\"><li><span><a href=\"#Класс-для-получения-эмбеддингов\" data-toc-modified-id=\"Класс-для-получения-эмбеддингов-1.3.1\"><span class=\"toc-item-num\">1.3.1&nbsp;&nbsp;</span>Класс для получения эмбеддингов</a></span></li><li><span><a href=\"#Подготовка-признаков\" data-toc-modified-id=\"Подготовка-признаков-1.3.2\"><span class=\"toc-item-num\">1.3.2&nbsp;&nbsp;</span>Подготовка признаков</a></span></li><li><span><a href=\"#Разбиение-данных\" data-toc-modified-id=\"Разбиение-данных-1.3.3\"><span class=\"toc-item-num\">1.3.3&nbsp;&nbsp;</span>Разбиение данных</a></span></li></ul></li></ul></li><li><span><a href=\"#Обучение\" data-toc-modified-id=\"Обучение-2\"><span class=\"toc-item-num\">2&nbsp;&nbsp;</span>Обучение</a></span><ul class=\"toc-item\"><li><span><a href=\"#Обучение-базовой-модели-для-оценки-адекватности\" data-toc-modified-id=\"Обучение-базовой-модели-для-оценки-адекватности-2.1\"><span class=\"toc-item-num\">2.1&nbsp;&nbsp;</span>Обучение базовой модели для оценки адекватности</a></span></li><li><span><a href=\"#Логистическая-регрессия\" data-toc-modified-id=\"Логистическая-регрессия-2.2\"><span class=\"toc-item-num\">2.2&nbsp;&nbsp;</span>Логистическая регрессия</a></span></li><li><span><a href=\"#Дерево-решений\" data-toc-modified-id=\"Дерево-решений-2.3\"><span class=\"toc-item-num\">2.3&nbsp;&nbsp;</span>Дерево решений</a></span></li><li><span><a href=\"#Случайный-лес\" data-toc-modified-id=\"Случайный-лес-2.4\"><span class=\"toc-item-num\">2.4&nbsp;&nbsp;</span>Случайный лес</a></span></li><li><span><a href=\"#Градиентный-бустинг\" data-toc-modified-id=\"Градиентный-бустинг-2.5\"><span class=\"toc-item-num\">2.5&nbsp;&nbsp;</span>Градиентный бустинг</a></span></li><li><span><a href=\"#Сравнение\" data-toc-modified-id=\"Сравнение-2.6\"><span class=\"toc-item-num\">2.6&nbsp;&nbsp;</span>Сравнение</a></span></li></ul></li><li><span><a href=\"#Выводы\" data-toc-modified-id=\"Выводы-3\"><span class=\"toc-item-num\">3&nbsp;&nbsp;</span>Выводы</a></span></li><li><span><a href=\"#Чек-лист-проверки\" data-toc-modified-id=\"Чек-лист-проверки-4\"><span class=\"toc-item-num\">4&nbsp;&nbsp;</span>Чек-лист проверки</a></span></li></ul></div>"
   ]
  },
  {
   "cell_type": "markdown",
   "metadata": {},
   "source": [
    "# Проект для «Викишоп» с BERT"
   ]
  },
  {
   "cell_type": "markdown",
   "metadata": {},
   "source": [
    "Интернет-магазин «Викишоп» запускает новый сервис. Теперь пользователи могут редактировать и дополнять описания товаров, как в вики-сообществах. То есть клиенты предлагают свои правки и комментируют изменения других. Магазину нужен инструмент, который будет искать токсичные комментарии и отправлять их на модерацию. \n",
    "\n",
    "Обучите модель классифицировать комментарии на позитивные и негативные. В вашем распоряжении набор данных с разметкой о токсичности правок.\n",
    "\n",
    "Постройте модель со значением метрики качества *F1* не меньше 0.75. \n",
    "\n",
    "**Инструкция по выполнению проекта**\n",
    "\n",
    "1. Загрузите и подготовьте данные.\n",
    "2. Обучите разные модели. \n",
    "3. Сделайте выводы.\n",
    "\n",
    "Для выполнения проекта применять *BERT* необязательно, но вы можете попробовать.\n",
    "\n",
    "**Описание данных**\n",
    "\n",
    "Данные находятся в файле `toxic_comments.csv`. Столбец *text* в нём содержит текст комментария, а *toxic* — целевой признак."
   ]
  },
  {
   "cell_type": "markdown",
   "metadata": {},
   "source": [
    "## Подготовка"
   ]
  },
  {
   "cell_type": "markdown",
   "metadata": {},
   "source": [
    "### Подготовка к выполнению проекта"
   ]
  },
  {
   "cell_type": "markdown",
   "metadata": {},
   "source": [
    "#### Импорт библиотек"
   ]
  },
  {
   "cell_type": "code",
   "execution_count": 1,
   "metadata": {},
   "outputs": [],
   "source": [
    "import numpy as np\n",
    "import pandas as pd\n",
    "\n",
    "import tensorflow as tf\n",
    "import tensorflow_hub as hub\n",
    "import tensorflow_text as text\n",
    "\n",
    "from sklearn.model_selection import train_test_split\n",
    "\n",
    "from sklearn.dummy import DummyClassifier\n",
    "\n",
    "from sklearn.linear_model import LogisticRegression\n",
    "\n",
    "from sklearn.tree import DecisionTreeClassifier\n",
    "\n",
    "from sklearn.ensemble import RandomForestClassifier\n",
    "\n",
    "from catboost import CatBoostClassifier\n",
    "\n",
    "from sklearn.metrics import f1_score\n",
    "from sklearn.metrics import classification_report"
   ]
  },
  {
   "cell_type": "markdown",
   "metadata": {},
   "source": [
    "#### Импорт данных"
   ]
  },
  {
   "cell_type": "code",
   "execution_count": 2,
   "metadata": {},
   "outputs": [],
   "source": [
    "# Путь к данным.\n",
    "PATH_DATA_TOXIC_COMMENTS = r'toxic_comments.csv'\n",
    "\n",
    "# bert_en_uncased_preprocess - 262.2KB\n",
    "PATH_BERT_PREPROCESS = 'https://tfhub.dev/tensorflow/bert_en_uncased_preprocess/3'\n",
    "\n",
    "# small_bert/bert_en_uncased_L-8_H-256_A-4 - 51.58MB\n",
    "PATH_BERT_ENCODER = 'https://tfhub.dev/tensorflow/small_bert/bert_en_uncased_L-8_H-256_A-4/1'\n",
    "\n",
    "# Путь к признакам.\n",
    "PATH_DATA_FEATURES = r'df_features.csv'\n",
    "PATH_DATA_FEATURES_CLS = r'df_features_cls.csv'"
   ]
  },
  {
   "cell_type": "markdown",
   "metadata": {},
   "source": [
    "<div class=\"alert alert-success\">\n",
    "<h2> Комментарий ревьюера <a class=\"tocSkip\"> </h2>\n",
    "\n",
    "<b>Все отлично!👍:</b> \n",
    "\n",
    "Хорошая структуризация импортов и чтения данных - плюс. Использование констант - отличная практика"
   ]
  },
  {
   "cell_type": "markdown",
   "metadata": {},
   "source": [
    "#### Глобальные настройки проекта"
   ]
  },
  {
   "cell_type": "code",
   "execution_count": 3,
   "metadata": {},
   "outputs": [],
   "source": [
    "# Глобальные настройки случайного зерна.\n",
    "GLOBAL__RANDOM_STATE = 0"
   ]
  },
  {
   "cell_type": "markdown",
   "metadata": {},
   "source": [
    "### Загрузка и изучение данных"
   ]
  },
  {
   "cell_type": "code",
   "execution_count": 4,
   "metadata": {},
   "outputs": [],
   "source": [
    "# Загрузка данных.\n",
    "df_toxic_comments = pd.read_csv(PATH_DATA_TOXIC_COMMENTS)"
   ]
  },
  {
   "cell_type": "code",
   "execution_count": 5,
   "metadata": {},
   "outputs": [
    {
     "data": {
      "text/html": [
       "<div>\n",
       "<style scoped>\n",
       "    .dataframe tbody tr th:only-of-type {\n",
       "        vertical-align: middle;\n",
       "    }\n",
       "\n",
       "    .dataframe tbody tr th {\n",
       "        vertical-align: top;\n",
       "    }\n",
       "\n",
       "    .dataframe thead th {\n",
       "        text-align: right;\n",
       "    }\n",
       "</style>\n",
       "<table border=\"1\" class=\"dataframe\">\n",
       "  <thead>\n",
       "    <tr style=\"text-align: right;\">\n",
       "      <th></th>\n",
       "      <th>text</th>\n",
       "      <th>toxic</th>\n",
       "    </tr>\n",
       "  </thead>\n",
       "  <tbody>\n",
       "    <tr>\n",
       "      <th>0</th>\n",
       "      <td>Explanation\\nWhy the edits made under my usern...</td>\n",
       "      <td>0</td>\n",
       "    </tr>\n",
       "    <tr>\n",
       "      <th>1</th>\n",
       "      <td>D'aww! He matches this background colour I'm s...</td>\n",
       "      <td>0</td>\n",
       "    </tr>\n",
       "    <tr>\n",
       "      <th>2</th>\n",
       "      <td>Hey man, I'm really not trying to edit war. It...</td>\n",
       "      <td>0</td>\n",
       "    </tr>\n",
       "    <tr>\n",
       "      <th>3</th>\n",
       "      <td>\"\\nMore\\nI can't make any real suggestions on ...</td>\n",
       "      <td>0</td>\n",
       "    </tr>\n",
       "    <tr>\n",
       "      <th>4</th>\n",
       "      <td>You, sir, are my hero. Any chance you remember...</td>\n",
       "      <td>0</td>\n",
       "    </tr>\n",
       "  </tbody>\n",
       "</table>\n",
       "</div>"
      ],
      "text/plain": [
       "                                                text  toxic\n",
       "0  Explanation\\nWhy the edits made under my usern...      0\n",
       "1  D'aww! He matches this background colour I'm s...      0\n",
       "2  Hey man, I'm really not trying to edit war. It...      0\n",
       "3  \"\\nMore\\nI can't make any real suggestions on ...      0\n",
       "4  You, sir, are my hero. Any chance you remember...      0"
      ]
     },
     "execution_count": 5,
     "metadata": {},
     "output_type": "execute_result"
    }
   ],
   "source": [
    "# Проверка: вывод первых пяти строк.\n",
    "df_toxic_comments.head()"
   ]
  },
  {
   "cell_type": "code",
   "execution_count": 6,
   "metadata": {},
   "outputs": [
    {
     "name": "stdout",
     "output_type": "stream",
     "text": [
      "<class 'pandas.core.frame.DataFrame'>\n",
      "RangeIndex: 159571 entries, 0 to 159570\n",
      "Data columns (total 2 columns):\n",
      " #   Column  Non-Null Count   Dtype \n",
      "---  ------  --------------   ----- \n",
      " 0   text    159571 non-null  object\n",
      " 1   toxic   159571 non-null  int64 \n",
      "dtypes: int64(1), object(1)\n",
      "memory usage: 2.4+ MB\n"
     ]
    }
   ],
   "source": [
    "# Вывод основной информации о данных.\n",
    "df_toxic_comments.info()"
   ]
  },
  {
   "cell_type": "code",
   "execution_count": 7,
   "metadata": {},
   "outputs": [
    {
     "data": {
      "text/plain": [
       "toxic\n",
       "0        89.83%\n",
       "1        10.17%\n",
       "dtype: object"
      ]
     },
     "execution_count": 7,
     "metadata": {},
     "output_type": "execute_result"
    }
   ],
   "source": [
    "# Вывод распределения целевой переменной.\n",
    "df_toxic_comments[['toxic']].value_counts(normalize=True).apply(lambda x: f'{x:.2%}')"
   ]
  },
  {
   "cell_type": "code",
   "execution_count": 8,
   "metadata": {},
   "outputs": [
    {
     "data": {
      "text/html": [
       "<div>\n",
       "<style scoped>\n",
       "    .dataframe tbody tr th:only-of-type {\n",
       "        vertical-align: middle;\n",
       "    }\n",
       "\n",
       "    .dataframe tbody tr th {\n",
       "        vertical-align: top;\n",
       "    }\n",
       "\n",
       "    .dataframe thead th {\n",
       "        text-align: right;\n",
       "    }\n",
       "</style>\n",
       "<table border=\"1\" class=\"dataframe\">\n",
       "  <thead>\n",
       "    <tr style=\"text-align: right;\">\n",
       "      <th></th>\n",
       "      <th>text</th>\n",
       "      <th>toxic</th>\n",
       "    </tr>\n",
       "  </thead>\n",
       "  <tbody>\n",
       "    <tr>\n",
       "      <th>129434</th>\n",
       "      <td>capitalism\\nHey, if you ever get the chance yo...</td>\n",
       "      <td>0</td>\n",
       "    </tr>\n",
       "  </tbody>\n",
       "</table>\n",
       "</div>"
      ],
      "text/plain": [
       "                                                     text  toxic\n",
       "129434  capitalism\\nHey, if you ever get the chance yo...      0"
      ]
     },
     "execution_count": 8,
     "metadata": {},
     "output_type": "execute_result"
    }
   ],
   "source": [
    "# Вывод случайного объекта данных.\n",
    "df_toxic_comments.sample()"
   ]
  },
  {
   "cell_type": "markdown",
   "metadata": {},
   "source": [
    "#### Выводы"
   ]
  },
  {
   "cell_type": "markdown",
   "metadata": {},
   "source": [
    "Изучение данных показало следующие особенности:\n",
    "- данные не содержат пропусков;\n",
    "- признаки представляют собой тип данных <code>object</code> со строками комментариев;\n",
    "- признаки содержат латинские символы, а также спец. символы <code>\\n</code> и другие;\n",
    "- символы находятся как в нижнем, так и в верхнем регистрах;\n",
    "- наблюдается дисбаланс классов целевой переменной."
   ]
  },
  {
   "cell_type": "markdown",
   "metadata": {},
   "source": [
    "<div class=\"alert alert-success\">\n",
    "<h2> Комментарий ревьюера <a class=\"tocSkip\"> </h2>\n",
    "\n",
    "<b>Все отлично!👍:</b> \n",
    "    \n",
    "Молодец, что пишешь выводы явно"
   ]
  },
  {
   "cell_type": "markdown",
   "metadata": {},
   "source": [
    "### Подготовка данных"
   ]
  },
  {
   "cell_type": "markdown",
   "metadata": {},
   "source": [
    "#### Класс для получения эмбеддингов"
   ]
  },
  {
   "cell_type": "markdown",
   "metadata": {},
   "source": [
    "Для получения эмбеддингов комментариев используем обученную модель BERT. Данная модель имеет собственный токенайзер, который эффективно очищает и подготавливает текст для модели BERT. Сама модель представит текст в виде набора векторов каждого слова или как единый вектор для всего текста. Будем использовать единый вектор для всего комментария."
   ]
  },
  {
   "cell_type": "code",
   "execution_count": 9,
   "metadata": {},
   "outputs": [],
   "source": [
    "# Класс для получения эмбеддингов.\n",
    "class bert_embedding():\n",
    "    def __init__(self, path_preprocess, path_encoder):\n",
    "        # Токенайзер.\n",
    "        self.bert_preprocess = hub.load(path_preprocess)\n",
    "        # Энкодер.\n",
    "        self.bert_encoder = hub.load(path_encoder)\n",
    "    \n",
    "    def encode(self, text):\n",
    "        # Очищение, лемматизация и токенизация текста.\n",
    "        text_preprocessed = self.bert_preprocess(text)\n",
    "        # Кодирование токенов.\n",
    "        text_encoded = self.bert_encoder(text_preprocessed)\n",
    "        # Возвращение единого вектора текста.\n",
    "        return text_encoded['pooled_output'].numpy(), text_encoded['encoder_outputs'][0][:, 0, :].numpy()\n",
    "#         return text_encoded['pooled_output'].numpy()"
   ]
  },
  {
   "cell_type": "markdown",
   "metadata": {},
   "source": [
    "<div class=\"alert alert-success\">\n",
    "<h2> Комментарий ревьюера <a class=\"tocSkip\"> </h2>\n",
    "\n",
    "<b>Все отлично!👍:</b> \n",
    "    \n",
    "Супер, что используешь классы!"
   ]
  },
  {
   "cell_type": "code",
   "execution_count": 10,
   "metadata": {
    "scrolled": false
   },
   "outputs": [
    {
     "name": "stdout",
     "output_type": "stream",
     "text": [
      "Wall time: 7.15 s\n"
     ]
    }
   ],
   "source": [
    "%%time\n",
    "\n",
    "# Инициализация класса, загрузка моделей.\n",
    "be = bert_embedding(PATH_BERT_PREPROCESS, PATH_BERT_ENCODER)"
   ]
  },
  {
   "cell_type": "code",
   "execution_count": 11,
   "metadata": {
    "scrolled": false
   },
   "outputs": [
    {
     "name": "stdout",
     "output_type": "stream",
     "text": [
      "Длина вектора:\t256\n",
      "Wall time: 413 ms\n"
     ]
    },
    {
     "data": {
      "text/plain": [
       "array([[-0.7943537 ,  0.86479706, -0.6583351 , -0.00288389,  0.9258293 ,\n",
       "         0.9823265 , -0.9928344 ,  0.05126569, -0.9673    ,  0.07958307,\n",
       "        -0.99967307,  0.3132495 ,  0.9017235 , -0.8565986 ,  0.09979086,\n",
       "         0.27282682, -0.00346116,  0.13443808,  0.0705334 ,  0.92051035,\n",
       "         0.98818207, -0.9901382 ,  0.10263323,  0.7461774 , -0.04846362,\n",
       "         0.91912735,  0.30026686, -0.9957612 ,  0.42528042, -0.17609943,\n",
       "         0.15645759,  0.14605689, -0.7933106 , -0.24691544,  0.97390723,\n",
       "         0.04036585,  0.95970184,  0.01445618,  0.07132357, -0.8527322 ,\n",
       "         0.99781305, -0.52695   ,  0.22249135, -0.6596025 , -0.26060742,\n",
       "        -0.9054969 , -0.9131252 , -0.9127318 ,  0.26247454, -0.0899414 ,\n",
       "        -0.97738534, -0.59667385, -0.30422008,  0.32407534, -0.6190277 ,\n",
       "         0.3787456 , -0.92353904,  0.9527519 ,  0.99712294,  0.5526417 ,\n",
       "         0.771467  ,  0.9644601 ,  0.12387764, -0.0475676 ,  0.97932106,\n",
       "        -0.9309139 ,  0.27264047,  0.00296778,  0.7811705 , -0.9938352 ,\n",
       "        -0.03056584,  0.15560293, -0.9548184 , -0.05462198, -0.01176791,\n",
       "        -0.13175753,  0.51071477,  0.82094115, -0.37454438,  0.30820757,\n",
       "        -0.99847746,  0.07774886,  0.3634145 ,  0.10175487,  0.9922549 ,\n",
       "        -0.792285  ,  0.99906224,  0.8118401 ,  0.11639426, -0.9929121 ,\n",
       "        -0.9950415 ,  0.46518257, -0.4612905 , -0.9940577 ,  0.97595274,\n",
       "        -0.8786665 , -0.9715112 ,  0.08002633,  0.38697642, -0.7737171 ,\n",
       "        -0.76377004, -0.99289453,  0.96714526,  0.19930081,  0.14950024,\n",
       "        -0.13754286,  0.9978754 ,  0.9990075 ,  0.91084236,  0.09895161,\n",
       "         0.04009336, -0.09303861,  0.78061223,  0.9776275 , -0.8455224 ,\n",
       "         0.99548316, -0.11032376,  0.58611596, -0.11831284,  0.32579717,\n",
       "         0.92108154, -0.9698088 , -0.38791043, -0.85760105, -0.9967942 ,\n",
       "         0.999101  , -0.05432267,  0.02982524,  0.3441708 , -0.21086036,\n",
       "        -0.93319947,  0.8786463 ,  0.99990165, -0.03429452, -0.20005049,\n",
       "         0.17088026,  0.27874684,  0.9374864 , -0.31092715, -0.6278788 ,\n",
       "         0.9842112 ,  0.826541  , -0.26670763,  0.94590616, -0.28857684,\n",
       "         0.19062495, -0.10189638, -0.10467486, -0.03823552, -0.9191697 ,\n",
       "         0.00859616, -0.90491515,  0.93577546,  0.21479803, -0.52108896,\n",
       "        -0.9972147 ,  0.9929672 , -0.98180383,  0.7098922 , -0.87857926,\n",
       "         0.18858033,  0.6747984 , -0.96174246,  0.15320092, -0.02302555,\n",
       "         0.9823276 ,  0.3371064 , -0.36386114, -0.9974928 , -0.6819369 ,\n",
       "         0.9671016 , -0.18632597, -0.20566732, -0.17501849,  0.963377  ,\n",
       "        -0.02473669,  0.99794084, -0.40260953,  0.98619735,  0.10699458,\n",
       "        -0.07927812, -0.99034333, -0.99568075,  0.6335331 , -0.9993768 ,\n",
       "         0.00924286, -0.88860273, -0.6207659 , -0.23151787,  0.5957047 ,\n",
       "         0.9305582 , -0.9995902 , -0.37541962, -0.991756  ,  0.36923194,\n",
       "        -0.33415967,  0.8091311 , -0.34072787,  0.25473544, -0.98436904,\n",
       "        -0.909791  ,  0.05699675, -0.8667323 , -0.92659205,  0.51387215,\n",
       "        -0.80995923, -0.27835432,  0.9318755 , -0.9900819 , -0.98472875,\n",
       "         0.99962056,  0.9837737 ,  0.7559965 ,  0.12860611, -0.98303246,\n",
       "        -0.96282005,  0.93487936,  0.5531684 , -0.9002588 ,  0.992506  ,\n",
       "         0.95383894,  0.8894355 ,  0.15722492,  0.47399762, -0.00191192,\n",
       "         0.3538815 ,  0.9903861 ,  0.3778974 , -0.99211943, -0.16815703,\n",
       "         0.99990374, -0.8703306 ,  0.402948  ,  0.8425367 ,  0.9756885 ,\n",
       "        -0.54866856,  0.42410997, -0.98854905, -0.34826288, -0.99172837,\n",
       "        -0.7138047 ,  0.9591153 , -0.9985901 ,  0.6684642 ,  0.9798575 ,\n",
       "         0.9885822 , -0.83045185, -0.4403228 , -0.09536645, -0.08699705,\n",
       "         0.12327942,  0.31815824, -0.8043054 ,  0.13197035, -0.25313595,\n",
       "         0.99706966]], dtype=float32)"
      ]
     },
     "execution_count": 11,
     "metadata": {},
     "output_type": "execute_result"
    }
   ],
   "source": [
    "%%time\n",
    "\n",
    "# Проверка: результат кодирования первого объекта.\n",
    "test, _ = be.encode(df_toxic_comments['text'].head(1))\n",
    "\n",
    "# Вывод информации о длине вектора.\n",
    "print(f'Длина вектора:\\t{len(test[0])}')\n",
    "\n",
    "# Вывод вектора.\n",
    "test"
   ]
  },
  {
   "cell_type": "markdown",
   "metadata": {},
   "source": [
    "#### Подготовка признаков"
   ]
  },
  {
   "cell_type": "markdown",
   "metadata": {},
   "source": [
    "Так как кодирование текста занимает значительное время, данные вычисления будут выполнены один раз, затем будут использованы сохранённые результаты кодирования."
   ]
  },
  {
   "cell_type": "code",
   "execution_count": 12,
   "metadata": {
    "scrolled": true
   },
   "outputs": [],
   "source": [
    "# %%time\n",
    "\n",
    "# # Список эмбеддингов \"pooled_output\".\n",
    "# embeddings = []\n",
    "\n",
    "# # Список эмбеддингов токена CLS из \"encoder_outputs\".\n",
    "# embeddings_cls = []\n",
    "\n",
    "# # Размер батча.\n",
    "# batch_size = 1000\n",
    "# batch_count = df_toxic_comments.shape[0] // batch_size + 1\n",
    "\n",
    "# for i in range(batch_count):\n",
    "#     print(f'Batch number:\\t{i} of {batch_count}')\n",
    "#     embedding, embedding_cls = be.encode(df_toxic_comments.iloc[i * batch_size : (i + 1) * batch_size, 0])\n",
    "#     embeddings.append(embedding)    \n",
    "#     embeddings_cls.append(embedding_cls)    "
   ]
  },
  {
   "attachments": {
    "image.png": {
     "image/png": "[encoded data removed]"
    }
   },
   "cell_type": "markdown",
   "metadata": {},
   "source": [
    "Кодирование заняло около получаса.\n",
    "***\n",
    "![image.png](attachment:image.png)"
   ]
  },
  {
   "cell_type": "code",
   "execution_count": 13,
   "metadata": {},
   "outputs": [],
   "source": [
    "# # Проверка: вывод длинны списка эмбеддингов.\n",
    "# len(embeddings)"
   ]
  },
  {
   "attachments": {
    "image.png": {
     "image/png": "[encoded data removed]"
    }
   },
   "cell_type": "markdown",
   "metadata": {},
   "source": [
    "Скриншот результатов работы ячейки:\n",
    "***\n",
    "![image.png](attachment:image.png)"
   ]
  },
  {
   "cell_type": "code",
   "execution_count": 14,
   "metadata": {
    "scrolled": true
   },
   "outputs": [],
   "source": [
    "# # Проверка: вывод размерности первого эмбеддинга.\n",
    "# embeddings[0].shape"
   ]
  },
  {
   "attachments": {
    "image.png": {
     "image/png": "[encoded data removed]"
    }
   },
   "cell_type": "markdown",
   "metadata": {},
   "source": [
    "Скриншот результатов работы ячейки:\n",
    "***\n",
    "![image.png](attachment:image.png)"
   ]
  },
  {
   "cell_type": "code",
   "execution_count": 15,
   "metadata": {
    "scrolled": true
   },
   "outputs": [],
   "source": [
    "# # Преобразование списка эмбеддингов в массив.\n",
    "# embeddings_all = np.concatenate(embeddings)\n",
    "\n",
    "# # Проверка: вывод размерности.\n",
    "# embeddings_all.shape"
   ]
  },
  {
   "attachments": {
    "image.png": {
     "image/png": "[encoded data removed]"
    }
   },
   "cell_type": "markdown",
   "metadata": {},
   "source": [
    "Скриншот результатов работы ячейки:\n",
    "***\n",
    "![image.png](attachment:image.png)"
   ]
  },
  {
   "cell_type": "code",
   "execution_count": 16,
   "metadata": {},
   "outputs": [
    {
     "data": {
      "text/html": [
       "<div>\n",
       "<style scoped>\n",
       "    .dataframe tbody tr th:only-of-type {\n",
       "        vertical-align: middle;\n",
       "    }\n",
       "\n",
       "    .dataframe tbody tr th {\n",
       "        vertical-align: top;\n",
       "    }\n",
       "\n",
       "    .dataframe thead th {\n",
       "        text-align: right;\n",
       "    }\n",
       "</style>\n",
       "<table border=\"1\" class=\"dataframe\">\n",
       "  <thead>\n",
       "    <tr style=\"text-align: right;\">\n",
       "      <th></th>\n",
       "      <th>feature_0</th>\n",
       "      <th>feature_1</th>\n",
       "      <th>feature_2</th>\n",
       "      <th>feature_3</th>\n",
       "      <th>feature_4</th>\n",
       "      <th>feature_5</th>\n",
       "      <th>feature_6</th>\n",
       "      <th>feature_7</th>\n",
       "      <th>feature_8</th>\n",
       "      <th>feature_9</th>\n",
       "      <th>...</th>\n",
       "      <th>feature_246</th>\n",
       "      <th>feature_247</th>\n",
       "      <th>feature_248</th>\n",
       "      <th>feature_249</th>\n",
       "      <th>feature_250</th>\n",
       "      <th>feature_251</th>\n",
       "      <th>feature_252</th>\n",
       "      <th>feature_253</th>\n",
       "      <th>feature_254</th>\n",
       "      <th>feature_255</th>\n",
       "    </tr>\n",
       "  </thead>\n",
       "  <tbody>\n",
       "    <tr>\n",
       "      <th>0</th>\n",
       "      <td>-0.794354</td>\n",
       "      <td>0.864797</td>\n",
       "      <td>-0.658335</td>\n",
       "      <td>-0.002884</td>\n",
       "      <td>0.925829</td>\n",
       "      <td>0.982326</td>\n",
       "      <td>-0.992834</td>\n",
       "      <td>0.051266</td>\n",
       "      <td>-0.967300</td>\n",
       "      <td>0.079583</td>\n",
       "      <td>...</td>\n",
       "      <td>-0.830452</td>\n",
       "      <td>-0.440323</td>\n",
       "      <td>-0.095366</td>\n",
       "      <td>-0.086997</td>\n",
       "      <td>0.123280</td>\n",
       "      <td>0.318158</td>\n",
       "      <td>-0.804305</td>\n",
       "      <td>0.131970</td>\n",
       "      <td>-0.253136</td>\n",
       "      <td>0.997070</td>\n",
       "    </tr>\n",
       "    <tr>\n",
       "      <th>1</th>\n",
       "      <td>-0.711260</td>\n",
       "      <td>-0.566401</td>\n",
       "      <td>-0.239028</td>\n",
       "      <td>-0.022783</td>\n",
       "      <td>0.991796</td>\n",
       "      <td>0.899956</td>\n",
       "      <td>-0.634679</td>\n",
       "      <td>-0.107519</td>\n",
       "      <td>-0.370345</td>\n",
       "      <td>0.446268</td>\n",
       "      <td>...</td>\n",
       "      <td>-0.873168</td>\n",
       "      <td>-0.941804</td>\n",
       "      <td>-0.031883</td>\n",
       "      <td>0.211979</td>\n",
       "      <td>0.372920</td>\n",
       "      <td>0.074893</td>\n",
       "      <td>-0.824727</td>\n",
       "      <td>0.105654</td>\n",
       "      <td>-0.048598</td>\n",
       "      <td>0.925711</td>\n",
       "    </tr>\n",
       "    <tr>\n",
       "      <th>2</th>\n",
       "      <td>-0.999200</td>\n",
       "      <td>0.990793</td>\n",
       "      <td>-0.690806</td>\n",
       "      <td>0.271829</td>\n",
       "      <td>0.996262</td>\n",
       "      <td>0.994121</td>\n",
       "      <td>-0.950075</td>\n",
       "      <td>-0.130968</td>\n",
       "      <td>-0.990139</td>\n",
       "      <td>0.134253</td>\n",
       "      <td>...</td>\n",
       "      <td>0.520818</td>\n",
       "      <td>-0.999585</td>\n",
       "      <td>0.099403</td>\n",
       "      <td>0.046288</td>\n",
       "      <td>0.209209</td>\n",
       "      <td>0.140214</td>\n",
       "      <td>-0.026017</td>\n",
       "      <td>-0.023940</td>\n",
       "      <td>-0.151710</td>\n",
       "      <td>0.969802</td>\n",
       "    </tr>\n",
       "    <tr>\n",
       "      <th>3</th>\n",
       "      <td>-0.997387</td>\n",
       "      <td>0.983409</td>\n",
       "      <td>-0.514714</td>\n",
       "      <td>0.298630</td>\n",
       "      <td>0.954211</td>\n",
       "      <td>0.995175</td>\n",
       "      <td>-0.998363</td>\n",
       "      <td>-0.363785</td>\n",
       "      <td>-0.900788</td>\n",
       "      <td>-0.032405</td>\n",
       "      <td>...</td>\n",
       "      <td>-0.891326</td>\n",
       "      <td>-0.966156</td>\n",
       "      <td>-0.097868</td>\n",
       "      <td>0.075003</td>\n",
       "      <td>0.258986</td>\n",
       "      <td>0.095114</td>\n",
       "      <td>-0.748393</td>\n",
       "      <td>0.259161</td>\n",
       "      <td>-0.144020</td>\n",
       "      <td>0.999169</td>\n",
       "    </tr>\n",
       "    <tr>\n",
       "      <th>4</th>\n",
       "      <td>-0.998777</td>\n",
       "      <td>0.997990</td>\n",
       "      <td>-0.908081</td>\n",
       "      <td>-0.001170</td>\n",
       "      <td>0.986270</td>\n",
       "      <td>0.851642</td>\n",
       "      <td>-0.660773</td>\n",
       "      <td>-0.202206</td>\n",
       "      <td>-0.971165</td>\n",
       "      <td>0.114267</td>\n",
       "      <td>...</td>\n",
       "      <td>-0.947315</td>\n",
       "      <td>-0.976995</td>\n",
       "      <td>0.194615</td>\n",
       "      <td>0.113600</td>\n",
       "      <td>0.327005</td>\n",
       "      <td>-0.012761</td>\n",
       "      <td>-0.998342</td>\n",
       "      <td>-0.060539</td>\n",
       "      <td>-0.031899</td>\n",
       "      <td>0.941307</td>\n",
       "    </tr>\n",
       "  </tbody>\n",
       "</table>\n",
       "<p>5 rows × 256 columns</p>\n",
       "</div>"
      ],
      "text/plain": [
       "   feature_0  feature_1  feature_2  feature_3  feature_4  feature_5  \\\n",
       "0  -0.794354   0.864797  -0.658335  -0.002884   0.925829   0.982326   \n",
       "1  -0.711260  -0.566401  -0.239028  -0.022783   0.991796   0.899956   \n",
       "2  -0.999200   0.990793  -0.690806   0.271829   0.996262   0.994121   \n",
       "3  -0.997387   0.983409  -0.514714   0.298630   0.954211   0.995175   \n",
       "4  -0.998777   0.997990  -0.908081  -0.001170   0.986270   0.851642   \n",
       "\n",
       "   feature_6  feature_7  feature_8  feature_9  ...  feature_246  feature_247  \\\n",
       "0  -0.992834   0.051266  -0.967300   0.079583  ...    -0.830452    -0.440323   \n",
       "1  -0.634679  -0.107519  -0.370345   0.446268  ...    -0.873168    -0.941804   \n",
       "2  -0.950075  -0.130968  -0.990139   0.134253  ...     0.520818    -0.999585   \n",
       "3  -0.998363  -0.363785  -0.900788  -0.032405  ...    -0.891326    -0.966156   \n",
       "4  -0.660773  -0.202206  -0.971165   0.114267  ...    -0.947315    -0.976995   \n",
       "\n",
       "   feature_248  feature_249  feature_250  feature_251  feature_252  \\\n",
       "0    -0.095366    -0.086997     0.123280     0.318158    -0.804305   \n",
       "1    -0.031883     0.211979     0.372920     0.074893    -0.824727   \n",
       "2     0.099403     0.046288     0.209209     0.140214    -0.026017   \n",
       "3    -0.097868     0.075003     0.258986     0.095114    -0.748393   \n",
       "4     0.194615     0.113600     0.327005    -0.012761    -0.998342   \n",
       "\n",
       "   feature_253  feature_254  feature_255  \n",
       "0     0.131970    -0.253136     0.997070  \n",
       "1     0.105654    -0.048598     0.925711  \n",
       "2    -0.023940    -0.151710     0.969802  \n",
       "3     0.259161    -0.144020     0.999169  \n",
       "4    -0.060539    -0.031899     0.941307  \n",
       "\n",
       "[5 rows x 256 columns]"
      ]
     },
     "execution_count": 16,
     "metadata": {},
     "output_type": "execute_result"
    }
   ],
   "source": [
    "# Формирование таблицы эмбеддингов.\n",
    "# df_features = pd.DataFrame(embeddings_all, columns=[f'feature_{i}' for i in range(embeddings_all.shape[1])])\n",
    "df_features = pd.read_csv(PATH_DATA_FEATURES, index_col='Unnamed: 0')\n",
    "\n",
    "# Проверка: вывод первых пяти строк таблицы.\n",
    "df_features.head()"
   ]
  },
  {
   "cell_type": "code",
   "execution_count": 17,
   "metadata": {},
   "outputs": [
    {
     "name": "stdout",
     "output_type": "stream",
     "text": [
      "<class 'pandas.core.frame.DataFrame'>\n",
      "Int64Index: 159571 entries, 0 to 159570\n",
      "Columns: 256 entries, feature_0 to feature_255\n",
      "dtypes: float64(256)\n",
      "memory usage: 312.9 MB\n"
     ]
    }
   ],
   "source": [
    "# Вывод основной информации о таблице признаков.\n",
    "df_features.info()"
   ]
  },
  {
   "cell_type": "code",
   "execution_count": 18,
   "metadata": {},
   "outputs": [
    {
     "data": {
      "text/html": [
       "<div>\n",
       "<style scoped>\n",
       "    .dataframe tbody tr th:only-of-type {\n",
       "        vertical-align: middle;\n",
       "    }\n",
       "\n",
       "    .dataframe tbody tr th {\n",
       "        vertical-align: top;\n",
       "    }\n",
       "\n",
       "    .dataframe thead th {\n",
       "        text-align: right;\n",
       "    }\n",
       "</style>\n",
       "<table border=\"1\" class=\"dataframe\">\n",
       "  <thead>\n",
       "    <tr style=\"text-align: right;\">\n",
       "      <th></th>\n",
       "      <th>feature_0</th>\n",
       "      <th>feature_1</th>\n",
       "      <th>feature_2</th>\n",
       "      <th>feature_3</th>\n",
       "      <th>feature_4</th>\n",
       "      <th>feature_5</th>\n",
       "      <th>feature_6</th>\n",
       "      <th>feature_7</th>\n",
       "      <th>feature_8</th>\n",
       "      <th>feature_9</th>\n",
       "      <th>...</th>\n",
       "      <th>feature_246</th>\n",
       "      <th>feature_247</th>\n",
       "      <th>feature_248</th>\n",
       "      <th>feature_249</th>\n",
       "      <th>feature_250</th>\n",
       "      <th>feature_251</th>\n",
       "      <th>feature_252</th>\n",
       "      <th>feature_253</th>\n",
       "      <th>feature_254</th>\n",
       "      <th>feature_255</th>\n",
       "    </tr>\n",
       "  </thead>\n",
       "  <tbody>\n",
       "    <tr>\n",
       "      <th>0</th>\n",
       "      <td>0.259134</td>\n",
       "      <td>0.837580</td>\n",
       "      <td>-0.595118</td>\n",
       "      <td>0.346929</td>\n",
       "      <td>0.137660</td>\n",
       "      <td>-0.180393</td>\n",
       "      <td>0.305244</td>\n",
       "      <td>0.217463</td>\n",
       "      <td>-0.254806</td>\n",
       "      <td>0.127251</td>\n",
       "      <td>...</td>\n",
       "      <td>-0.859205</td>\n",
       "      <td>0.153063</td>\n",
       "      <td>0.521395</td>\n",
       "      <td>-0.075712</td>\n",
       "      <td>-0.310045</td>\n",
       "      <td>-0.013266</td>\n",
       "      <td>-0.272800</td>\n",
       "      <td>0.337240</td>\n",
       "      <td>-0.702220</td>\n",
       "      <td>-0.593885</td>\n",
       "    </tr>\n",
       "    <tr>\n",
       "      <th>1</th>\n",
       "      <td>0.134985</td>\n",
       "      <td>0.814531</td>\n",
       "      <td>-0.658526</td>\n",
       "      <td>0.483968</td>\n",
       "      <td>0.133859</td>\n",
       "      <td>-0.333214</td>\n",
       "      <td>0.238363</td>\n",
       "      <td>0.152147</td>\n",
       "      <td>-0.299563</td>\n",
       "      <td>0.055235</td>\n",
       "      <td>...</td>\n",
       "      <td>-0.839671</td>\n",
       "      <td>0.147762</td>\n",
       "      <td>0.512680</td>\n",
       "      <td>-0.220732</td>\n",
       "      <td>-0.291103</td>\n",
       "      <td>-0.049522</td>\n",
       "      <td>-0.362549</td>\n",
       "      <td>0.250249</td>\n",
       "      <td>-0.607959</td>\n",
       "      <td>-0.614028</td>\n",
       "    </tr>\n",
       "    <tr>\n",
       "      <th>2</th>\n",
       "      <td>0.366217</td>\n",
       "      <td>0.886838</td>\n",
       "      <td>-0.582809</td>\n",
       "      <td>0.344270</td>\n",
       "      <td>0.223686</td>\n",
       "      <td>-0.126195</td>\n",
       "      <td>0.187796</td>\n",
       "      <td>0.231133</td>\n",
       "      <td>-0.314487</td>\n",
       "      <td>0.117047</td>\n",
       "      <td>...</td>\n",
       "      <td>-0.919076</td>\n",
       "      <td>0.167375</td>\n",
       "      <td>0.558960</td>\n",
       "      <td>-0.059136</td>\n",
       "      <td>-0.324154</td>\n",
       "      <td>-0.106222</td>\n",
       "      <td>-0.269916</td>\n",
       "      <td>0.368639</td>\n",
       "      <td>-0.858550</td>\n",
       "      <td>-0.778004</td>\n",
       "    </tr>\n",
       "    <tr>\n",
       "      <th>3</th>\n",
       "      <td>0.385931</td>\n",
       "      <td>0.695180</td>\n",
       "      <td>-0.600323</td>\n",
       "      <td>0.313215</td>\n",
       "      <td>0.267801</td>\n",
       "      <td>-0.131323</td>\n",
       "      <td>0.272893</td>\n",
       "      <td>0.332542</td>\n",
       "      <td>-0.323193</td>\n",
       "      <td>0.201798</td>\n",
       "      <td>...</td>\n",
       "      <td>-0.841988</td>\n",
       "      <td>0.147246</td>\n",
       "      <td>0.578005</td>\n",
       "      <td>-0.015917</td>\n",
       "      <td>-0.258854</td>\n",
       "      <td>-0.051297</td>\n",
       "      <td>-0.352642</td>\n",
       "      <td>0.322789</td>\n",
       "      <td>-0.809309</td>\n",
       "      <td>-0.773132</td>\n",
       "    </tr>\n",
       "    <tr>\n",
       "      <th>4</th>\n",
       "      <td>0.095299</td>\n",
       "      <td>0.824761</td>\n",
       "      <td>-0.453396</td>\n",
       "      <td>0.478300</td>\n",
       "      <td>0.061558</td>\n",
       "      <td>-0.231822</td>\n",
       "      <td>0.105049</td>\n",
       "      <td>0.221084</td>\n",
       "      <td>-0.298888</td>\n",
       "      <td>0.159680</td>\n",
       "      <td>...</td>\n",
       "      <td>-1.073260</td>\n",
       "      <td>0.075716</td>\n",
       "      <td>0.691101</td>\n",
       "      <td>-0.050369</td>\n",
       "      <td>-0.331947</td>\n",
       "      <td>-0.350126</td>\n",
       "      <td>-0.016705</td>\n",
       "      <td>0.576705</td>\n",
       "      <td>-0.716686</td>\n",
       "      <td>-0.575991</td>\n",
       "    </tr>\n",
       "  </tbody>\n",
       "</table>\n",
       "<p>5 rows × 256 columns</p>\n",
       "</div>"
      ],
      "text/plain": [
       "   feature_0  feature_1  feature_2  feature_3  feature_4  feature_5  \\\n",
       "0   0.259134   0.837580  -0.595118   0.346929   0.137660  -0.180393   \n",
       "1   0.134985   0.814531  -0.658526   0.483968   0.133859  -0.333214   \n",
       "2   0.366217   0.886838  -0.582809   0.344270   0.223686  -0.126195   \n",
       "3   0.385931   0.695180  -0.600323   0.313215   0.267801  -0.131323   \n",
       "4   0.095299   0.824761  -0.453396   0.478300   0.061558  -0.231822   \n",
       "\n",
       "   feature_6  feature_7  feature_8  feature_9  ...  feature_246  feature_247  \\\n",
       "0   0.305244   0.217463  -0.254806   0.127251  ...    -0.859205     0.153063   \n",
       "1   0.238363   0.152147  -0.299563   0.055235  ...    -0.839671     0.147762   \n",
       "2   0.187796   0.231133  -0.314487   0.117047  ...    -0.919076     0.167375   \n",
       "3   0.272893   0.332542  -0.323193   0.201798  ...    -0.841988     0.147246   \n",
       "4   0.105049   0.221084  -0.298888   0.159680  ...    -1.073260     0.075716   \n",
       "\n",
       "   feature_248  feature_249  feature_250  feature_251  feature_252  \\\n",
       "0     0.521395    -0.075712    -0.310045    -0.013266    -0.272800   \n",
       "1     0.512680    -0.220732    -0.291103    -0.049522    -0.362549   \n",
       "2     0.558960    -0.059136    -0.324154    -0.106222    -0.269916   \n",
       "3     0.578005    -0.015917    -0.258854    -0.051297    -0.352642   \n",
       "4     0.691101    -0.050369    -0.331947    -0.350126    -0.016705   \n",
       "\n",
       "   feature_253  feature_254  feature_255  \n",
       "0     0.337240    -0.702220    -0.593885  \n",
       "1     0.250249    -0.607959    -0.614028  \n",
       "2     0.368639    -0.858550    -0.778004  \n",
       "3     0.322789    -0.809309    -0.773132  \n",
       "4     0.576705    -0.716686    -0.575991  \n",
       "\n",
       "[5 rows x 256 columns]"
      ]
     },
     "execution_count": 18,
     "metadata": {},
     "output_type": "execute_result"
    }
   ],
   "source": [
    "# Преобразование списка эмбеддингов CLS в массив.\n",
    "# embeddings_all_cls = np.concatenate(embeddings_cls)\n",
    "\n",
    "# Формирование таблицы эмбеддингов CLS.\n",
    "# df_features_cls = pd.DataFrame(embeddings_all_cls, columns=[f'feature_{i}' for i in range(embeddings_all.shape[1])])\n",
    "df_features_cls = pd.read_csv(PATH_DATA_FEATURES_CLS, index_col='Unnamed: 0')\n",
    "\n",
    "# Проверка: вывод первых пяти строк таблицы.\n",
    "df_features_cls.head()"
   ]
  },
  {
   "cell_type": "markdown",
   "metadata": {},
   "source": [
    "<div class=\"alert alert-success\">\n",
    "<h2> Комментарий ревьюера <a class=\"tocSkip\"> </h2>\n",
    "\n",
    "<b>Все отлично!👍:</b> \n",
    "    \n",
    "Супер, что подтверждаешь визуально работу кода - так проще всего найти ошибку."
   ]
  },
  {
   "cell_type": "code",
   "execution_count": 19,
   "metadata": {},
   "outputs": [
    {
     "name": "stdout",
     "output_type": "stream",
     "text": [
      "<class 'pandas.core.frame.DataFrame'>\n",
      "Int64Index: 159571 entries, 0 to 159570\n",
      "Columns: 256 entries, feature_0 to feature_255\n",
      "dtypes: float64(256)\n",
      "memory usage: 312.9 MB\n"
     ]
    }
   ],
   "source": [
    "# Вывод основной информации о таблице признаков CLS.\n",
    "df_features_cls.info()"
   ]
  },
  {
   "cell_type": "code",
   "execution_count": 20,
   "metadata": {},
   "outputs": [],
   "source": [
    "# %%time\n",
    "\n",
    "# # Сохранение эмбеддингов в файл.\n",
    "# df_features.to_csv(PATH_DATA_FEATURES)"
   ]
  },
  {
   "attachments": {
    "image.png": {
     "image/png": "[encoded data removed]"
    }
   },
   "cell_type": "markdown",
   "metadata": {},
   "source": [
    "Скриншот результатов работы ячейки:\n",
    "***\n",
    "![image.png](attachment:image.png)"
   ]
  },
  {
   "cell_type": "code",
   "execution_count": 21,
   "metadata": {},
   "outputs": [],
   "source": [
    "# %%time\n",
    "\n",
    "# # Сохранение эмбеддингов CLS в файл.\n",
    "# df_features_cls.to_csv(PATH_DATA_FEATURES_CLS)"
   ]
  },
  {
   "attachments": {
    "image.png": {
     "image/png": "[encoded data removed]"
    }
   },
   "cell_type": "markdown",
   "metadata": {},
   "source": [
    "Скриншот результатов работы ячейки:\n",
    "***\n",
    "![image.png](attachment:image.png)"
   ]
  },
  {
   "cell_type": "markdown",
   "metadata": {},
   "source": [
    "#### Разбиение данных"
   ]
  },
  {
   "cell_type": "markdown",
   "metadata": {},
   "source": [
    "В качестве признаков будем использовать сперва CLS-токены каждого объекта, затем <code>pooled_output</code>."
   ]
  },
  {
   "cell_type": "code",
   "execution_count": 22,
   "metadata": {},
   "outputs": [
    {
     "data": {
      "text/plain": [
       "((119678, 256), (39893, 256), (119678,), (39893,))"
      ]
     },
     "execution_count": 22,
     "metadata": {},
     "output_type": "execute_result"
    }
   ],
   "source": [
    "# Разбиение на обучающую и тестовую выборки.\n",
    "# X_train, X_test, y_train, y_test = train_test_split(df_features_cls,\n",
    "X_train, X_test, y_train, y_test = train_test_split(df_features,\n",
    "                                                    df_toxic_comments['toxic'],\n",
    "                                                    test_size=0.25,\n",
    "                                                    random_state=GLOBAL__RANDOM_STATE)\n",
    "\n",
    "# Проверка: вывод размерностей выборок.\n",
    "X_train.shape, X_test.shape, y_train.shape, y_test.shape"
   ]
  },
  {
   "cell_type": "markdown",
   "metadata": {},
   "source": [
    "<div class=\"alert alert-success\">\n",
    "<h2> Комментарий ревьюера <a class=\"tocSkip\"> </h2>\n",
    "\n",
    "<b>Все отлично!👍:</b> \n",
    "    \n",
    "Хорошо, можно было бы сократить выборку, чтобы не кодировать все - это занимает много времени."
   ]
  },
  {
   "cell_type": "markdown",
   "metadata": {},
   "source": [
    "## Обучение"
   ]
  },
  {
   "cell_type": "markdown",
   "metadata": {},
   "source": [
    "### Обучение базовой модели для оценки адекватности"
   ]
  },
  {
   "cell_type": "code",
   "execution_count": 23,
   "metadata": {},
   "outputs": [],
   "source": [
    "# Инициализация базовой модели.\n",
    "model_dc = DummyClassifier(strategy='stratified', random_state=GLOBAL__RANDOM_STATE)"
   ]
  },
  {
   "cell_type": "code",
   "execution_count": 24,
   "metadata": {},
   "outputs": [
    {
     "name": "stdout",
     "output_type": "stream",
     "text": [
      "Wall time: 2.99 ms\n"
     ]
    },
    {
     "data": {
      "text/plain": [
       "DummyClassifier(random_state=0, strategy='stratified')"
      ]
     },
     "execution_count": 24,
     "metadata": {},
     "output_type": "execute_result"
    }
   ],
   "source": [
    "%%time\n",
    "\n",
    "# Обучение.\n",
    "model_dc.fit(X_train, y_train)"
   ]
  },
  {
   "cell_type": "code",
   "execution_count": 25,
   "metadata": {},
   "outputs": [
    {
     "name": "stdout",
     "output_type": "stream",
     "text": [
      "Wall time: 3.01 ms\n"
     ]
    }
   ],
   "source": [
    "%%time\n",
    "\n",
    "# Прогноз на обучающей выборке.\n",
    "y_pred_train = model_dc.predict(X_train)"
   ]
  },
  {
   "cell_type": "code",
   "execution_count": 26,
   "metadata": {},
   "outputs": [
    {
     "name": "stdout",
     "output_type": "stream",
     "text": [
      "Wall time: 997 µs\n"
     ]
    }
   ],
   "source": [
    "%%time\n",
    "\n",
    "# Прогноз на тестовой выборке.\n",
    "y_pred_test = model_dc.predict(X_test)"
   ]
  },
  {
   "cell_type": "code",
   "execution_count": 27,
   "metadata": {},
   "outputs": [],
   "source": [
    "# Таблица метрик.\n",
    "df_metrics = pd.DataFrame()"
   ]
  },
  {
   "cell_type": "code",
   "execution_count": 28,
   "metadata": {},
   "outputs": [
    {
     "data": {
      "text/html": [
       "<div>\n",
       "<style scoped>\n",
       "    .dataframe tbody tr th:only-of-type {\n",
       "        vertical-align: middle;\n",
       "    }\n",
       "\n",
       "    .dataframe tbody tr th {\n",
       "        vertical-align: top;\n",
       "    }\n",
       "\n",
       "    .dataframe thead th {\n",
       "        text-align: right;\n",
       "    }\n",
       "</style>\n",
       "<table border=\"1\" class=\"dataframe\">\n",
       "  <thead>\n",
       "    <tr style=\"text-align: right;\">\n",
       "      <th></th>\n",
       "      <th>X_train</th>\n",
       "      <th>X_test</th>\n",
       "    </tr>\n",
       "  </thead>\n",
       "  <tbody>\n",
       "    <tr>\n",
       "      <th>DummyClassifier</th>\n",
       "      <td>0.501785</td>\n",
       "      <td>0.495169</td>\n",
       "    </tr>\n",
       "  </tbody>\n",
       "</table>\n",
       "</div>"
      ],
      "text/plain": [
       "                  X_train    X_test\n",
       "DummyClassifier  0.501785  0.495169"
      ]
     },
     "execution_count": 28,
     "metadata": {},
     "output_type": "execute_result"
    }
   ],
   "source": [
    "# Вычисление метрик.\n",
    "df_metrics.loc['DummyClassifier', 'X_train'] = f1_score(y_train, y_pred_train, average='macro')\n",
    "df_metrics.loc['DummyClassifier', 'X_test'] = f1_score(y_test, y_pred_test, average='macro')\n",
    "\n",
    "# Вывод метрик.\n",
    "df_metrics"
   ]
  },
  {
   "cell_type": "code",
   "execution_count": 29,
   "metadata": {},
   "outputs": [
    {
     "name": "stdout",
     "output_type": "stream",
     "text": [
      "              precision    recall  f1-score   support\n",
      "\n",
      "           0       0.90      0.90      0.90     35789\n",
      "           1       0.09      0.09      0.09      4104\n",
      "\n",
      "    accuracy                           0.81     39893\n",
      "   macro avg       0.50      0.50      0.50     39893\n",
      "weighted avg       0.81      0.81      0.81     39893\n",
      "\n"
     ]
    }
   ],
   "source": [
    "# Вывод отчёта классификации.\n",
    "print(classification_report(y_test, y_pred_test))"
   ]
  },
  {
   "cell_type": "markdown",
   "metadata": {},
   "source": [
    "Базовая модель практически не смогла предсказать объекты наименьшего класса.\n",
    "\n",
    "В дальнейшем будем использовать её метрики для оценки адекватности построенных моделей."
   ]
  },
  {
   "cell_type": "markdown",
   "metadata": {},
   "source": [
    "<div class=\"alert alert-success\">\n",
    "<h2> Комментарий ревьюера <a class=\"tocSkip\"> </h2>\n",
    "\n",
    "<b>Все отлично!👍:</b> \n",
    "    \n",
    "Хорошо, что используешь базовую модель для оценки последующих и проверки на адекватность"
   ]
  },
  {
   "cell_type": "markdown",
   "metadata": {},
   "source": [
    "### Логистическая регрессия"
   ]
  },
  {
   "cell_type": "code",
   "execution_count": 30,
   "metadata": {},
   "outputs": [],
   "source": [
    "# Инициализация модели логистической регрессии.\n",
    "model_lr = LogisticRegression(class_weight='balanced', max_iter=1500, random_state=GLOBAL__RANDOM_STATE)"
   ]
  },
  {
   "cell_type": "code",
   "execution_count": 31,
   "metadata": {},
   "outputs": [
    {
     "name": "stdout",
     "output_type": "stream",
     "text": [
      "Wall time: 24.5 s\n"
     ]
    },
    {
     "data": {
      "text/plain": [
       "LogisticRegression(class_weight='balanced', max_iter=1500, random_state=0)"
      ]
     },
     "execution_count": 31,
     "metadata": {},
     "output_type": "execute_result"
    }
   ],
   "source": [
    "%%time\n",
    "\n",
    "# Обучение.\n",
    "model_lr.fit(X_train, y_train)"
   ]
  },
  {
   "cell_type": "code",
   "execution_count": 32,
   "metadata": {},
   "outputs": [
    {
     "name": "stdout",
     "output_type": "stream",
     "text": [
      "Wall time: 38.9 ms\n"
     ]
    }
   ],
   "source": [
    "%%time\n",
    "\n",
    "# Прогноз на обучающей выборке.\n",
    "y_pred_train = model_lr.predict(X_train)"
   ]
  },
  {
   "cell_type": "code",
   "execution_count": 33,
   "metadata": {},
   "outputs": [
    {
     "name": "stdout",
     "output_type": "stream",
     "text": [
      "Wall time: 15 ms\n"
     ]
    }
   ],
   "source": [
    "%%time\n",
    "\n",
    "# Прогноз на тестовой выборке.\n",
    "y_pred_test = model_lr.predict(X_test)"
   ]
  },
  {
   "cell_type": "code",
   "execution_count": 34,
   "metadata": {},
   "outputs": [
    {
     "data": {
      "text/html": [
       "<div>\n",
       "<style scoped>\n",
       "    .dataframe tbody tr th:only-of-type {\n",
       "        vertical-align: middle;\n",
       "    }\n",
       "\n",
       "    .dataframe tbody tr th {\n",
       "        vertical-align: top;\n",
       "    }\n",
       "\n",
       "    .dataframe thead th {\n",
       "        text-align: right;\n",
       "    }\n",
       "</style>\n",
       "<table border=\"1\" class=\"dataframe\">\n",
       "  <thead>\n",
       "    <tr style=\"text-align: right;\">\n",
       "      <th></th>\n",
       "      <th>X_train</th>\n",
       "      <th>X_test</th>\n",
       "    </tr>\n",
       "  </thead>\n",
       "  <tbody>\n",
       "    <tr>\n",
       "      <th>DummyClassifier</th>\n",
       "      <td>0.501785</td>\n",
       "      <td>0.495169</td>\n",
       "    </tr>\n",
       "    <tr>\n",
       "      <th>LogisticRegression</th>\n",
       "      <td>0.744475</td>\n",
       "      <td>0.746504</td>\n",
       "    </tr>\n",
       "  </tbody>\n",
       "</table>\n",
       "</div>"
      ],
      "text/plain": [
       "                     X_train    X_test\n",
       "DummyClassifier     0.501785  0.495169\n",
       "LogisticRegression  0.744475  0.746504"
      ]
     },
     "execution_count": 34,
     "metadata": {},
     "output_type": "execute_result"
    }
   ],
   "source": [
    "# Вычисление метрик.\n",
    "df_metrics.loc['LogisticRegression', 'X_train'] = f1_score(y_train, y_pred_train, average='macro')\n",
    "df_metrics.loc['LogisticRegression', 'X_test'] = f1_score(y_test, y_pred_test, average='macro')\n",
    "\n",
    "# Вывод метрик.\n",
    "df_metrics"
   ]
  },
  {
   "cell_type": "code",
   "execution_count": 35,
   "metadata": {},
   "outputs": [
    {
     "name": "stdout",
     "output_type": "stream",
     "text": [
      "              precision    recall  f1-score   support\n",
      "\n",
      "           0       0.98      0.87      0.92     35789\n",
      "           1       0.43      0.85      0.57      4104\n",
      "\n",
      "    accuracy                           0.87     39893\n",
      "   macro avg       0.71      0.86      0.75     39893\n",
      "weighted avg       0.92      0.87      0.89     39893\n",
      "\n"
     ]
    }
   ],
   "source": [
    "# Вывод отчёта классификации.\n",
    "print(classification_report(y_test, y_pred_test))"
   ]
  },
  {
   "cell_type": "markdown",
   "metadata": {},
   "source": [
    "Логистическая регрессия справилась с задачей гораздо лучше базовой модели. Она смогла найти почти все объекты наименьшего класса, но менее половины из них были классифицированы корректно."
   ]
  },
  {
   "cell_type": "markdown",
   "metadata": {},
   "source": [
    "### Дерево решений"
   ]
  },
  {
   "cell_type": "code",
   "execution_count": 36,
   "metadata": {},
   "outputs": [],
   "source": [
    "# Инициализация модели дерево решений.\n",
    "model_dt = DecisionTreeClassifier(class_weight='balanced', random_state=GLOBAL__RANDOM_STATE)"
   ]
  },
  {
   "cell_type": "code",
   "execution_count": 37,
   "metadata": {},
   "outputs": [
    {
     "name": "stdout",
     "output_type": "stream",
     "text": [
      "Wall time: 54.5 s\n"
     ]
    },
    {
     "data": {
      "text/plain": [
       "DecisionTreeClassifier(class_weight='balanced', random_state=0)"
      ]
     },
     "execution_count": 37,
     "metadata": {},
     "output_type": "execute_result"
    }
   ],
   "source": [
    "%%time\n",
    "\n",
    "# Обучение.\n",
    "model_dt.fit(X_train, y_train)"
   ]
  },
  {
   "cell_type": "code",
   "execution_count": 38,
   "metadata": {},
   "outputs": [
    {
     "name": "stdout",
     "output_type": "stream",
     "text": [
      "Wall time: 104 ms\n"
     ]
    }
   ],
   "source": [
    "%%time\n",
    "\n",
    "# Прогноз на обучающей выборке.\n",
    "y_pred_train = model_dt.predict(X_train)"
   ]
  },
  {
   "cell_type": "code",
   "execution_count": 39,
   "metadata": {},
   "outputs": [
    {
     "name": "stdout",
     "output_type": "stream",
     "text": [
      "Wall time: 36.9 ms\n"
     ]
    }
   ],
   "source": [
    "%%time\n",
    "\n",
    "# Прогноз на тестовой выборке.\n",
    "y_pred_test = model_dt.predict(X_test)"
   ]
  },
  {
   "cell_type": "code",
   "execution_count": 40,
   "metadata": {},
   "outputs": [
    {
     "data": {
      "text/html": [
       "<div>\n",
       "<style scoped>\n",
       "    .dataframe tbody tr th:only-of-type {\n",
       "        vertical-align: middle;\n",
       "    }\n",
       "\n",
       "    .dataframe tbody tr th {\n",
       "        vertical-align: top;\n",
       "    }\n",
       "\n",
       "    .dataframe thead th {\n",
       "        text-align: right;\n",
       "    }\n",
       "</style>\n",
       "<table border=\"1\" class=\"dataframe\">\n",
       "  <thead>\n",
       "    <tr style=\"text-align: right;\">\n",
       "      <th></th>\n",
       "      <th>X_train</th>\n",
       "      <th>X_test</th>\n",
       "    </tr>\n",
       "  </thead>\n",
       "  <tbody>\n",
       "    <tr>\n",
       "      <th>DummyClassifier</th>\n",
       "      <td>0.501785</td>\n",
       "      <td>0.495169</td>\n",
       "    </tr>\n",
       "    <tr>\n",
       "      <th>LogisticRegression</th>\n",
       "      <td>0.744475</td>\n",
       "      <td>0.746504</td>\n",
       "    </tr>\n",
       "    <tr>\n",
       "      <th>DecisionTreeClassifier</th>\n",
       "      <td>0.999587</td>\n",
       "      <td>0.694034</td>\n",
       "    </tr>\n",
       "  </tbody>\n",
       "</table>\n",
       "</div>"
      ],
      "text/plain": [
       "                         X_train    X_test\n",
       "DummyClassifier         0.501785  0.495169\n",
       "LogisticRegression      0.744475  0.746504\n",
       "DecisionTreeClassifier  0.999587  0.694034"
      ]
     },
     "execution_count": 40,
     "metadata": {},
     "output_type": "execute_result"
    }
   ],
   "source": [
    "# Вычисление метрик.\n",
    "df_metrics.loc['DecisionTreeClassifier', 'X_train'] = f1_score(y_train, y_pred_train, average='macro')\n",
    "df_metrics.loc['DecisionTreeClassifier', 'X_test'] = f1_score(y_test, y_pred_test, average='macro')\n",
    "\n",
    "# Вывод метрик.\n",
    "df_metrics"
   ]
  },
  {
   "cell_type": "code",
   "execution_count": 41,
   "metadata": {},
   "outputs": [
    {
     "name": "stdout",
     "output_type": "stream",
     "text": [
      "              precision    recall  f1-score   support\n",
      "\n",
      "           0       0.94      0.94      0.94     35789\n",
      "           1       0.46      0.44      0.45      4104\n",
      "\n",
      "    accuracy                           0.89     39893\n",
      "   macro avg       0.70      0.69      0.69     39893\n",
      "weighted avg       0.89      0.89      0.89     39893\n",
      "\n"
     ]
    }
   ],
   "source": [
    "# Вывод отчёта классификации.\n",
    "print(classification_report(y_test, y_pred_test))"
   ]
  },
  {
   "cell_type": "markdown",
   "metadata": {},
   "source": [
    "Деревья решений склонны к переобучению. Попробуем нивелировать эффект переобучения при помощи настройки гиперпараметров модели."
   ]
  },
  {
   "cell_type": "code",
   "execution_count": 42,
   "metadata": {},
   "outputs": [],
   "source": [
    "# Инициализация модели дерево решений.\n",
    "model_dt_p = DecisionTreeClassifier(max_depth=30,\n",
    "                                    min_samples_leaf=10,\n",
    "                                    class_weight='balanced',\n",
    "                                    random_state=GLOBAL__RANDOM_STATE)"
   ]
  },
  {
   "cell_type": "code",
   "execution_count": 43,
   "metadata": {},
   "outputs": [
    {
     "name": "stdout",
     "output_type": "stream",
     "text": [
      "Wall time: 40.8 s\n"
     ]
    },
    {
     "data": {
      "text/plain": [
       "DecisionTreeClassifier(class_weight='balanced', max_depth=30,\n",
       "                       min_samples_leaf=10, random_state=0)"
      ]
     },
     "execution_count": 43,
     "metadata": {},
     "output_type": "execute_result"
    }
   ],
   "source": [
    "%%time\n",
    "\n",
    "# Обучение.\n",
    "model_dt_p.fit(X_train, y_train)"
   ]
  },
  {
   "cell_type": "code",
   "execution_count": 44,
   "metadata": {},
   "outputs": [
    {
     "name": "stdout",
     "output_type": "stream",
     "text": [
      "Wall time: 90.8 ms\n"
     ]
    }
   ],
   "source": [
    "%%time\n",
    "\n",
    "# Прогноз на обучающей выборке.\n",
    "y_pred_train = model_dt_p.predict(X_train)"
   ]
  },
  {
   "cell_type": "code",
   "execution_count": 45,
   "metadata": {},
   "outputs": [
    {
     "name": "stdout",
     "output_type": "stream",
     "text": [
      "Wall time: 31.9 ms\n"
     ]
    }
   ],
   "source": [
    "%%time\n",
    "\n",
    "# Прогноз на тестовой выборке.\n",
    "y_pred_test = model_dt_p.predict(X_test)"
   ]
  },
  {
   "cell_type": "code",
   "execution_count": 46,
   "metadata": {},
   "outputs": [
    {
     "data": {
      "text/html": [
       "<div>\n",
       "<style scoped>\n",
       "    .dataframe tbody tr th:only-of-type {\n",
       "        vertical-align: middle;\n",
       "    }\n",
       "\n",
       "    .dataframe tbody tr th {\n",
       "        vertical-align: top;\n",
       "    }\n",
       "\n",
       "    .dataframe thead th {\n",
       "        text-align: right;\n",
       "    }\n",
       "</style>\n",
       "<table border=\"1\" class=\"dataframe\">\n",
       "  <thead>\n",
       "    <tr style=\"text-align: right;\">\n",
       "      <th></th>\n",
       "      <th>X_train</th>\n",
       "      <th>X_test</th>\n",
       "    </tr>\n",
       "  </thead>\n",
       "  <tbody>\n",
       "    <tr>\n",
       "      <th>DummyClassifier</th>\n",
       "      <td>0.501785</td>\n",
       "      <td>0.495169</td>\n",
       "    </tr>\n",
       "    <tr>\n",
       "      <th>LogisticRegression</th>\n",
       "      <td>0.744475</td>\n",
       "      <td>0.746504</td>\n",
       "    </tr>\n",
       "    <tr>\n",
       "      <th>DecisionTreeClassifier</th>\n",
       "      <td>0.999587</td>\n",
       "      <td>0.694034</td>\n",
       "    </tr>\n",
       "    <tr>\n",
       "      <th>DecisionTreeClassifier_p</th>\n",
       "      <td>0.849551</td>\n",
       "      <td>0.691406</td>\n",
       "    </tr>\n",
       "  </tbody>\n",
       "</table>\n",
       "</div>"
      ],
      "text/plain": [
       "                           X_train    X_test\n",
       "DummyClassifier           0.501785  0.495169\n",
       "LogisticRegression        0.744475  0.746504\n",
       "DecisionTreeClassifier    0.999587  0.694034\n",
       "DecisionTreeClassifier_p  0.849551  0.691406"
      ]
     },
     "execution_count": 46,
     "metadata": {},
     "output_type": "execute_result"
    }
   ],
   "source": [
    "# Вычисление метрик.\n",
    "df_metrics.loc['DecisionTreeClassifier_p', 'X_train'] = f1_score(y_train, y_pred_train, average='macro')\n",
    "df_metrics.loc['DecisionTreeClassifier_p', 'X_test'] = f1_score(y_test, y_pred_test, average='macro')\n",
    "\n",
    "# Вывод метрик.\n",
    "df_metrics"
   ]
  },
  {
   "cell_type": "markdown",
   "metadata": {},
   "source": [
    "<div class=\"alert alert-warning\">\n",
    "    <h2> Комментарий ревьюера <a class=\"tocSkip\"> </h2>\n",
    "\n",
    "<b>Некоторые замечания и рекомендации💡:</b>\n",
    "\n",
    "Рекомендовал бы выделить валидационную выборку или сравнивать модели на кросс-валидации. Может получится так, что мы подгоним результаты под тестовую выборку, на которой ты все сравниваешь и её метрики будут не особо объективны и в реальном мире, когда уже встроим модель, реальная метрика из-за этого фактора окажется ниже."
   ]
  },
  {
   "cell_type": "code",
   "execution_count": 47,
   "metadata": {},
   "outputs": [
    {
     "name": "stdout",
     "output_type": "stream",
     "text": [
      "              precision    recall  f1-score   support\n",
      "\n",
      "           0       0.95      0.89      0.92     35789\n",
      "           1       0.38      0.60      0.47      4104\n",
      "\n",
      "    accuracy                           0.86     39893\n",
      "   macro avg       0.66      0.75      0.69     39893\n",
      "weighted avg       0.89      0.86      0.87     39893\n",
      "\n"
     ]
    }
   ],
   "source": [
    "# Вывод отчёта классификации.\n",
    "print(classification_report(y_test, y_pred_test))"
   ]
  },
  {
   "cell_type": "markdown",
   "metadata": {},
   "source": [
    "Настройка гиперпараметров дерева решений позволила снизить эффект переобучения модели. Однако модель уступает логистической регрессии в точности прогноза наименьшего класса."
   ]
  },
  {
   "cell_type": "markdown",
   "metadata": {},
   "source": [
    "### Случайный лес"
   ]
  },
  {
   "cell_type": "code",
   "execution_count": 48,
   "metadata": {},
   "outputs": [],
   "source": [
    "# Инициализация модели случайный лес решений.\n",
    "model_rfc = RandomForestClassifier(n_estimators=50, class_weight='balanced', random_state=GLOBAL__RANDOM_STATE)"
   ]
  },
  {
   "cell_type": "code",
   "execution_count": 49,
   "metadata": {},
   "outputs": [
    {
     "name": "stdout",
     "output_type": "stream",
     "text": [
      "Wall time: 1min 20s\n"
     ]
    },
    {
     "data": {
      "text/plain": [
       "RandomForestClassifier(class_weight='balanced', n_estimators=50, random_state=0)"
      ]
     },
     "execution_count": 49,
     "metadata": {},
     "output_type": "execute_result"
    }
   ],
   "source": [
    "%%time\n",
    "\n",
    "# Обучение.\n",
    "model_rfc.fit(X_train, y_train)"
   ]
  },
  {
   "cell_type": "code",
   "execution_count": 50,
   "metadata": {},
   "outputs": [
    {
     "name": "stdout",
     "output_type": "stream",
     "text": [
      "Wall time: 1.58 s\n"
     ]
    }
   ],
   "source": [
    "%%time\n",
    "\n",
    "# Прогноз на обучающей выборке.\n",
    "y_pred_train = model_rfc.predict(X_train)"
   ]
  },
  {
   "cell_type": "code",
   "execution_count": 51,
   "metadata": {},
   "outputs": [
    {
     "name": "stdout",
     "output_type": "stream",
     "text": [
      "Wall time: 527 ms\n"
     ]
    }
   ],
   "source": [
    "%%time\n",
    "\n",
    "# Прогноз на тестовой выборке.\n",
    "y_pred_test = model_rfc.predict(X_test)"
   ]
  },
  {
   "cell_type": "code",
   "execution_count": 52,
   "metadata": {},
   "outputs": [
    {
     "data": {
      "text/html": [
       "<div>\n",
       "<style scoped>\n",
       "    .dataframe tbody tr th:only-of-type {\n",
       "        vertical-align: middle;\n",
       "    }\n",
       "\n",
       "    .dataframe tbody tr th {\n",
       "        vertical-align: top;\n",
       "    }\n",
       "\n",
       "    .dataframe thead th {\n",
       "        text-align: right;\n",
       "    }\n",
       "</style>\n",
       "<table border=\"1\" class=\"dataframe\">\n",
       "  <thead>\n",
       "    <tr style=\"text-align: right;\">\n",
       "      <th></th>\n",
       "      <th>X_train</th>\n",
       "      <th>X_test</th>\n",
       "    </tr>\n",
       "  </thead>\n",
       "  <tbody>\n",
       "    <tr>\n",
       "      <th>DummyClassifier</th>\n",
       "      <td>0.501785</td>\n",
       "      <td>0.495169</td>\n",
       "    </tr>\n",
       "    <tr>\n",
       "      <th>LogisticRegression</th>\n",
       "      <td>0.744475</td>\n",
       "      <td>0.746504</td>\n",
       "    </tr>\n",
       "    <tr>\n",
       "      <th>DecisionTreeClassifier</th>\n",
       "      <td>0.999587</td>\n",
       "      <td>0.694034</td>\n",
       "    </tr>\n",
       "    <tr>\n",
       "      <th>DecisionTreeClassifier_p</th>\n",
       "      <td>0.849551</td>\n",
       "      <td>0.691406</td>\n",
       "    </tr>\n",
       "    <tr>\n",
       "      <th>RandomForestClassifier</th>\n",
       "      <td>0.998668</td>\n",
       "      <td>0.730579</td>\n",
       "    </tr>\n",
       "  </tbody>\n",
       "</table>\n",
       "</div>"
      ],
      "text/plain": [
       "                           X_train    X_test\n",
       "DummyClassifier           0.501785  0.495169\n",
       "LogisticRegression        0.744475  0.746504\n",
       "DecisionTreeClassifier    0.999587  0.694034\n",
       "DecisionTreeClassifier_p  0.849551  0.691406\n",
       "RandomForestClassifier    0.998668  0.730579"
      ]
     },
     "execution_count": 52,
     "metadata": {},
     "output_type": "execute_result"
    }
   ],
   "source": [
    "# Вычисление метрик.\n",
    "df_metrics.loc['RandomForestClassifier', 'X_train'] = f1_score(y_train, y_pred_train, average='macro')\n",
    "df_metrics.loc['RandomForestClassifier', 'X_test'] = f1_score(y_test, y_pred_test, average='macro')\n",
    "\n",
    "# Вывод метрик.\n",
    "df_metrics"
   ]
  },
  {
   "cell_type": "code",
   "execution_count": 53,
   "metadata": {
    "scrolled": true
   },
   "outputs": [
    {
     "name": "stdout",
     "output_type": "stream",
     "text": [
      "              precision    recall  f1-score   support\n",
      "\n",
      "           0       0.93      0.99      0.96     35789\n",
      "           1       0.85      0.35      0.50      4104\n",
      "\n",
      "    accuracy                           0.93     39893\n",
      "   macro avg       0.89      0.67      0.73     39893\n",
      "weighted avg       0.92      0.93      0.91     39893\n",
      "\n"
     ]
    }
   ],
   "source": [
    "# Вывод отчёта классификации.\n",
    "print(classification_report(y_test, y_pred_test))"
   ]
  },
  {
   "cell_type": "markdown",
   "metadata": {},
   "source": [
    "Аналогично дереву решений, случайный лес демонстрирует склонность к переобучению. Выполним подбор гиперпараметров."
   ]
  },
  {
   "cell_type": "code",
   "execution_count": 54,
   "metadata": {},
   "outputs": [],
   "source": [
    "# Инициализация модели случайный лес решений.\n",
    "model_rfc_p = RandomForestClassifier(n_estimators=30,\n",
    "                                     min_samples_leaf=20,\n",
    "                                     max_depth=50,\n",
    "                                     max_features=32,\n",
    "                                     class_weight='balanced',\n",
    "                                     random_state=GLOBAL__RANDOM_STATE)"
   ]
  },
  {
   "cell_type": "code",
   "execution_count": 55,
   "metadata": {},
   "outputs": [
    {
     "name": "stdout",
     "output_type": "stream",
     "text": [
      "Wall time: 1min 22s\n"
     ]
    },
    {
     "data": {
      "text/plain": [
       "RandomForestClassifier(class_weight='balanced', max_depth=50, max_features=32,\n",
       "                       min_samples_leaf=20, n_estimators=30, random_state=0)"
      ]
     },
     "execution_count": 55,
     "metadata": {},
     "output_type": "execute_result"
    }
   ],
   "source": [
    "%%time\n",
    "\n",
    "# Обучение.\n",
    "model_rfc_p.fit(X_train, y_train)"
   ]
  },
  {
   "cell_type": "code",
   "execution_count": 56,
   "metadata": {},
   "outputs": [
    {
     "name": "stdout",
     "output_type": "stream",
     "text": [
      "Wall time: 744 ms\n"
     ]
    }
   ],
   "source": [
    "%%time\n",
    "\n",
    "# Прогноз на обучающей выборке.\n",
    "y_pred_train = model_rfc_p.predict(X_train)"
   ]
  },
  {
   "cell_type": "code",
   "execution_count": 57,
   "metadata": {},
   "outputs": [
    {
     "name": "stdout",
     "output_type": "stream",
     "text": [
      "Wall time: 242 ms\n"
     ]
    }
   ],
   "source": [
    "%%time\n",
    "\n",
    "# Прогноз на тестовой выборке.\n",
    "y_pred_test = model_rfc_p.predict(X_test)"
   ]
  },
  {
   "cell_type": "code",
   "execution_count": 58,
   "metadata": {},
   "outputs": [
    {
     "data": {
      "text/html": [
       "<div>\n",
       "<style scoped>\n",
       "    .dataframe tbody tr th:only-of-type {\n",
       "        vertical-align: middle;\n",
       "    }\n",
       "\n",
       "    .dataframe tbody tr th {\n",
       "        vertical-align: top;\n",
       "    }\n",
       "\n",
       "    .dataframe thead th {\n",
       "        text-align: right;\n",
       "    }\n",
       "</style>\n",
       "<table border=\"1\" class=\"dataframe\">\n",
       "  <thead>\n",
       "    <tr style=\"text-align: right;\">\n",
       "      <th></th>\n",
       "      <th>X_train</th>\n",
       "      <th>X_test</th>\n",
       "    </tr>\n",
       "  </thead>\n",
       "  <tbody>\n",
       "    <tr>\n",
       "      <th>DummyClassifier</th>\n",
       "      <td>0.501785</td>\n",
       "      <td>0.495169</td>\n",
       "    </tr>\n",
       "    <tr>\n",
       "      <th>LogisticRegression</th>\n",
       "      <td>0.744475</td>\n",
       "      <td>0.746504</td>\n",
       "    </tr>\n",
       "    <tr>\n",
       "      <th>DecisionTreeClassifier</th>\n",
       "      <td>0.999587</td>\n",
       "      <td>0.694034</td>\n",
       "    </tr>\n",
       "    <tr>\n",
       "      <th>DecisionTreeClassifier_p</th>\n",
       "      <td>0.849551</td>\n",
       "      <td>0.691406</td>\n",
       "    </tr>\n",
       "    <tr>\n",
       "      <th>RandomForestClassifier</th>\n",
       "      <td>0.998668</td>\n",
       "      <td>0.730579</td>\n",
       "    </tr>\n",
       "    <tr>\n",
       "      <th>RandomForestClassifier_p</th>\n",
       "      <td>0.879105</td>\n",
       "      <td>0.784830</td>\n",
       "    </tr>\n",
       "  </tbody>\n",
       "</table>\n",
       "</div>"
      ],
      "text/plain": [
       "                           X_train    X_test\n",
       "DummyClassifier           0.501785  0.495169\n",
       "LogisticRegression        0.744475  0.746504\n",
       "DecisionTreeClassifier    0.999587  0.694034\n",
       "DecisionTreeClassifier_p  0.849551  0.691406\n",
       "RandomForestClassifier    0.998668  0.730579\n",
       "RandomForestClassifier_p  0.879105  0.784830"
      ]
     },
     "execution_count": 58,
     "metadata": {},
     "output_type": "execute_result"
    }
   ],
   "source": [
    "# Вычисление метрик.\n",
    "df_metrics.loc['RandomForestClassifier_p', 'X_train'] = f1_score(y_train, y_pred_train, average='macro')\n",
    "df_metrics.loc['RandomForestClassifier_p', 'X_test'] = f1_score(y_test, y_pred_test, average='macro')\n",
    "\n",
    "# Вывод метрик.\n",
    "df_metrics"
   ]
  },
  {
   "cell_type": "code",
   "execution_count": 59,
   "metadata": {
    "scrolled": false
   },
   "outputs": [
    {
     "name": "stdout",
     "output_type": "stream",
     "text": [
      "              precision    recall  f1-score   support\n",
      "\n",
      "           0       0.96      0.94      0.95     35789\n",
      "           1       0.58      0.66      0.62      4104\n",
      "\n",
      "    accuracy                           0.92     39893\n",
      "   macro avg       0.77      0.80      0.78     39893\n",
      "weighted avg       0.92      0.92      0.92     39893\n",
      "\n"
     ]
    }
   ],
   "source": [
    "# Вывод отчёта классификации.\n",
    "print(classification_report(y_test, y_pred_test))"
   ]
  },
  {
   "cell_type": "markdown",
   "metadata": {},
   "source": [
    "Настройка весов позволила снизить эффект переобучения. Однако метрика <code>f1-score</code> оказалась ниже, чем у линейной модели."
   ]
  },
  {
   "cell_type": "markdown",
   "metadata": {},
   "source": [
    "### Градиентный бустинг"
   ]
  },
  {
   "cell_type": "code",
   "execution_count": 60,
   "metadata": {},
   "outputs": [],
   "source": [
    "# Инициализация модели градиентного бустинга.\n",
    "model_cbc = CatBoostClassifier(verbose=100, class_weights=[0.2, 0.8], random_state=GLOBAL__RANDOM_STATE)"
   ]
  },
  {
   "cell_type": "markdown",
   "metadata": {},
   "source": [
    "<div class=\"alert alert-warning\">\n",
    "    <h2> Комментарий ревьюера <a class=\"tocSkip\"> </h2>\n",
    "\n",
    "<b>Некоторые замечания и рекомендации💡:</b>\n",
    "\n",
    "У CatBoost есть параметр auto_class_weights, которые можно выставить в 'balanced', чтобы самому не считать размер дисбаланса в данных"
   ]
  },
  {
   "cell_type": "markdown",
   "metadata": {},
   "source": [
    "<div class=\"alert alert-warning\">\n",
    "<h2> Комментарий ревьюера <a class=\"tocSkip\"> </h2>\n",
    "\n",
    "<b>Некоторые замечания и рекомендации💡:</b>\n",
    "\n",
    "\n",
    "        \n",
    "        \n",
    "Кстати, CatBoost поддерживает работу с текстом \"из коробки\" - можно было попробовать такой метод. Но он работает только с GPU. Если интересно, то тут с примером и сравнение с BERT для похожей задачи.\n",
    "        \n",
    "https://towardsdatascience.com/unconventional-sentiment-analysis-bert-vs-catboost-90645f2437a9\n",
    "\n",
    "Тут очень классный ноутбук\n",
    "\n",
    "https://github.com/catboost/tutorials/blob/master/text_features/text_features_in_catboost.ipynb"
   ]
  },
  {
   "cell_type": "code",
   "execution_count": 61,
   "metadata": {},
   "outputs": [
    {
     "name": "stdout",
     "output_type": "stream",
     "text": [
      "Learning rate set to 0.079478\n",
      "0:\tlearn: 0.6400471\ttotal: 90.4ms\tremaining: 1m 30s\n",
      "100:\tlearn: 0.2977369\ttotal: 3.56s\tremaining: 31.7s\n",
      "200:\tlearn: 0.2679088\ttotal: 6.89s\tremaining: 27.4s\n",
      "300:\tlearn: 0.2456862\ttotal: 10.2s\tremaining: 23.6s\n",
      "400:\tlearn: 0.2276304\ttotal: 13.4s\tremaining: 20.1s\n",
      "500:\tlearn: 0.2125121\ttotal: 16.7s\tremaining: 16.6s\n",
      "600:\tlearn: 0.1989647\ttotal: 19.9s\tremaining: 13.2s\n",
      "700:\tlearn: 0.1865800\ttotal: 23.1s\tremaining: 9.87s\n",
      "800:\tlearn: 0.1753110\ttotal: 26.3s\tremaining: 6.54s\n",
      "900:\tlearn: 0.1653158\ttotal: 29.6s\tremaining: 3.25s\n",
      "999:\tlearn: 0.1560279\ttotal: 32.8s\tremaining: 0us\n",
      "Wall time: 33.4 s\n"
     ]
    },
    {
     "data": {
      "text/plain": [
       "<catboost.core.CatBoostClassifier at 0x24a072473d0>"
      ]
     },
     "execution_count": 61,
     "metadata": {},
     "output_type": "execute_result"
    }
   ],
   "source": [
    "%%time\n",
    "\n",
    "# Обучение.\n",
    "model_cbc.fit(X_train, y_train)"
   ]
  },
  {
   "cell_type": "code",
   "execution_count": 62,
   "metadata": {},
   "outputs": [
    {
     "name": "stdout",
     "output_type": "stream",
     "text": [
      "Wall time: 69.8 ms\n"
     ]
    }
   ],
   "source": [
    "%%time\n",
    "\n",
    "# Прогноз на обучающей выборке.\n",
    "y_pred_train = model_cbc.predict(X_train)"
   ]
  },
  {
   "cell_type": "code",
   "execution_count": 63,
   "metadata": {},
   "outputs": [
    {
     "name": "stdout",
     "output_type": "stream",
     "text": [
      "Wall time: 33.9 ms\n"
     ]
    }
   ],
   "source": [
    "%%time\n",
    "\n",
    "# Прогноз на тестовой выборке.\n",
    "y_pred_test = model_cbc.predict(X_test)"
   ]
  },
  {
   "cell_type": "code",
   "execution_count": 64,
   "metadata": {},
   "outputs": [
    {
     "data": {
      "text/html": [
       "<div>\n",
       "<style scoped>\n",
       "    .dataframe tbody tr th:only-of-type {\n",
       "        vertical-align: middle;\n",
       "    }\n",
       "\n",
       "    .dataframe tbody tr th {\n",
       "        vertical-align: top;\n",
       "    }\n",
       "\n",
       "    .dataframe thead th {\n",
       "        text-align: right;\n",
       "    }\n",
       "</style>\n",
       "<table border=\"1\" class=\"dataframe\">\n",
       "  <thead>\n",
       "    <tr style=\"text-align: right;\">\n",
       "      <th></th>\n",
       "      <th>X_train</th>\n",
       "      <th>X_test</th>\n",
       "    </tr>\n",
       "  </thead>\n",
       "  <tbody>\n",
       "    <tr>\n",
       "      <th>DummyClassifier</th>\n",
       "      <td>0.501785</td>\n",
       "      <td>0.495169</td>\n",
       "    </tr>\n",
       "    <tr>\n",
       "      <th>LogisticRegression</th>\n",
       "      <td>0.744475</td>\n",
       "      <td>0.746504</td>\n",
       "    </tr>\n",
       "    <tr>\n",
       "      <th>DecisionTreeClassifier</th>\n",
       "      <td>0.999587</td>\n",
       "      <td>0.694034</td>\n",
       "    </tr>\n",
       "    <tr>\n",
       "      <th>DecisionTreeClassifier_p</th>\n",
       "      <td>0.849551</td>\n",
       "      <td>0.691406</td>\n",
       "    </tr>\n",
       "    <tr>\n",
       "      <th>RandomForestClassifier</th>\n",
       "      <td>0.998668</td>\n",
       "      <td>0.730579</td>\n",
       "    </tr>\n",
       "    <tr>\n",
       "      <th>RandomForestClassifier_p</th>\n",
       "      <td>0.879105</td>\n",
       "      <td>0.784830</td>\n",
       "    </tr>\n",
       "    <tr>\n",
       "      <th>CatBoostClassifier</th>\n",
       "      <td>0.904912</td>\n",
       "      <td>0.813393</td>\n",
       "    </tr>\n",
       "  </tbody>\n",
       "</table>\n",
       "</div>"
      ],
      "text/plain": [
       "                           X_train    X_test\n",
       "DummyClassifier           0.501785  0.495169\n",
       "LogisticRegression        0.744475  0.746504\n",
       "DecisionTreeClassifier    0.999587  0.694034\n",
       "DecisionTreeClassifier_p  0.849551  0.691406\n",
       "RandomForestClassifier    0.998668  0.730579\n",
       "RandomForestClassifier_p  0.879105  0.784830\n",
       "CatBoostClassifier        0.904912  0.813393"
      ]
     },
     "execution_count": 64,
     "metadata": {},
     "output_type": "execute_result"
    }
   ],
   "source": [
    "# Вычисление метрик.\n",
    "df_metrics.loc['CatBoostClassifier', 'X_train'] = f1_score(y_train, y_pred_train, average='macro')\n",
    "df_metrics.loc['CatBoostClassifier', 'X_test'] = f1_score(y_test, y_pred_test, average='macro')\n",
    "\n",
    "# Вывод метрик.\n",
    "df_metrics"
   ]
  },
  {
   "cell_type": "code",
   "execution_count": 65,
   "metadata": {
    "scrolled": true
   },
   "outputs": [
    {
     "name": "stdout",
     "output_type": "stream",
     "text": [
      "              precision    recall  f1-score   support\n",
      "\n",
      "           0       0.97      0.95      0.96     35789\n",
      "           1       0.64      0.70      0.67      4104\n",
      "\n",
      "    accuracy                           0.93     39893\n",
      "   macro avg       0.80      0.83      0.81     39893\n",
      "weighted avg       0.93      0.93      0.93     39893\n",
      "\n"
     ]
    }
   ],
   "source": [
    "# Вывод отчёта классификации.\n",
    "print(classification_report(y_test, y_pred_test))"
   ]
  },
  {
   "cell_type": "markdown",
   "metadata": {},
   "source": [
    "Настройка весов классов градиентного бустинга позволяет модели лучше определять объекты наименьшего класса."
   ]
  },
  {
   "cell_type": "markdown",
   "metadata": {},
   "source": [
    "### Сравнение"
   ]
  },
  {
   "attachments": {
    "image-2.png": {
     "image/png": "[encoded data removed]"
    },
    "image.png": {
     "image/png": "[encoded data removed]"
    }
   },
   "cell_type": "markdown",
   "metadata": {},
   "source": [
    "Результаты построение моделей на основе CLS-токенов:\n",
    "***\n",
    "![image.png](attachment:image.png)\n",
    "***\n",
    "Результаты построение моделей на основе <code>pooled_output</code>:\n",
    "***\n",
    "![image-2.png](attachment:image-2.png)"
   ]
  },
  {
   "cell_type": "markdown",
   "metadata": {},
   "source": [
    "Использование усреднённой семантики каждого объекта <code>pooled_output</code> позволяет получить более высокие метрики качества."
   ]
  },
  {
   "cell_type": "markdown",
   "metadata": {},
   "source": [
    "## Выводы"
   ]
  },
  {
   "cell_type": "markdown",
   "metadata": {},
   "source": [
    "Было решено выполнить проект с использованием предобученной нейросети <code>BERT</code>, так как такие основные инструменты подготовки данных как очистка, лемматизация, токенизация, взвешивание <code>TF-IDF</code> были рассмотрены в практической части спринта.\n",
    "\n",
    "**Выводы:**\n",
    "1. Построение эмбеддингов текста - ресурсоёмкий процесс. Использование уже обученной нейронной сети потребовало пол часа для получения эмбеддингов всех объектов датасета.\n",
    "\n",
    "\n",
    "2. В результате работы <code>BERT</code> для каждого объекта были получены несколько наборов эмбеддингов:\n",
    "- <code>pooled_output</code>, который содержит обощающую семантику всего текста объекта;\n",
    "- <code>encoder_outputs</code>, который содержит эмбеддинги каждого слова объекта. В данном случае набор признаков представляет собой многомерный тензор, где каждое слово каждого объекта имеет свой собственный вектор;\n",
    "- <code>CLS-токен</code>, который является представлением предложения текста.\n",
    "\n",
    "    При решении данной задачи наибольшую эффективность моделей позволил получить <code>pooled_output</code> эмбеддинг, так как многомерный <code>encoder_outputs</code> сложен для оперирования, а <code>CLS-токен</code> не объективен когда объект состоит из более чем одного предложения.\n",
    "\n",
    "\n",
    "3. Достаточно высокую эффективность показала линейная модель классификации, так как при большом количестве признаков линейная модель лучше находит наиболее информативные признаки.\n",
    "\n",
    "\n",
    "4. Поскольку эмбеддинг текстов даёт больше количество признаков, 256 в данном случае, возможно использовать методы понижения размерности, например <code>PCA</code>. Однако это может привести к снижению информативности признаков.\n",
    "\n",
    "\n",
    "5. Из-за значительного дисбаланса классов целевой переменной, 1 к 9, все модели испытывали сложности с прогнозом объектов наименьшего класса.\n",
    "\n",
    "\n",
    "6. Только две модели смогли преодолеть установленный порог метрики качества F1: случайный лес с настройкой гиперпараметров и градиентный бустинг.\n",
    "\n",
    "\n",
    "7. Наилучший результат показала модель градиентного бустинга <code>CatBoostClassifier</code> со значением метрики F1 = ~0.81."
   ]
  },
  {
   "cell_type": "markdown",
   "metadata": {},
   "source": [
    "<div class=\"alert alert-success\">\n",
    "<h2> Комментарий ревьюера <a class=\"tocSkip\"> </h2>\n",
    "\n",
    "<b>Все отлично!👍:</b> \n",
    "\n",
    "Интересные выводы. Молодец, что пишешь явно ключевые результаты работы."
   ]
  },
  {
   "cell_type": "markdown",
   "metadata": {},
   "source": [
    "<div style=\"border:solid Chocolate 2px; padding: 40px\">\n",
    "\n",
    "**Общий вывод по проекту (комментарий ревьера)**\n",
    "\n",
    "Спасибо за твой проект! Все четко и структурировано.\n",
    "\n",
    "**Отмечу отдельные положительные моменты проекта🙂**:\n",
    "\n",
    "* Отличный и детальный анализ\n",
    "* Проверка множества моделей\n",
    "\n",
    "\n",
    "**На что стоит обратить внимание🤓**:\n",
    "\n",
    "* Рекомендовал бы все же использовать валидационную или кросс-валидационную выборку, чтобы не столкнуться с подгонкой результатов.\n",
    "* Остальные рекомендации ты найдешь в моих комментариях!\n",
    "\n",
    "\n",
    "**Желаю удачи! Твой проект принят.**😉\n"
   ]
  },
  {
   "cell_type": "markdown",
   "metadata": {},
   "source": [
    "## Чек-лист проверки"
   ]
  },
  {
   "cell_type": "markdown",
   "metadata": {},
   "source": [
    "- [x]  Jupyter Notebook открыт\n",
    "- [x]  Весь код выполняется без ошибок\n",
    "- [x]  Ячейки с кодом расположены в порядке исполнения\n",
    "- [x]  Данные загружены и подготовлены\n",
    "- [x]  Модели обучены\n",
    "- [x]  Значение метрики *F1* не меньше 0.75\n",
    "- [x]  Выводы написаны"
   ]
  },
  {
   "cell_type": "code",
   "execution_count": null,
   "metadata": {},
   "outputs": [],
   "source": []
  }
 ],
 "metadata": {
  "kernelspec": {
   "display_name": "Python 3 (ipykernel)",
   "language": "python",
   "name": "python3"
  },
  "language_info": {
   "codemirror_mode": {
    "name": "ipython",
    "version": 3
   },
   "file_extension": ".py",
   "mimetype": "text/x-python",
   "name": "python",
   "nbconvert_exporter": "python",
   "pygments_lexer": "ipython3",
   "version": "3.9.5"
  },
  "toc": {
   "base_numbering": 1,
   "nav_menu": {},
   "number_sections": true,
   "sideBar": true,
   "skip_h1_title": true,
   "title_cell": "Содержание",
   "title_sidebar": "Содержание",
   "toc_cell": true,
   "toc_position": {
    "height": "calc(100% - 180px)",
    "left": "10px",
    "top": "150px",
    "width": "324.391px"
   },
   "toc_section_display": true,
   "toc_window_display": true
  },
  "varInspector": {
   "cols": {
    "lenName": 16,
    "lenType": 16,
    "lenVar": 40
   },
   "kernels_config": {
    "python": {
     "delete_cmd_postfix": "",
     "delete_cmd_prefix": "del ",
     "library": "var_list.py",
     "varRefreshCmd": "print(var_dic_list())"
    },
    "r": {
     "delete_cmd_postfix": ") ",
     "delete_cmd_prefix": "rm(",
     "library": "var_list.r",
     "varRefreshCmd": "cat(var_dic_list()) "
    }
   },
   "types_to_exclude": [
    "module",
    "function",
    "builtin_function_or_method",
    "instance",
    "_Feature"
   ],
   "window_display": false
  }
 },
 "nbformat": 4,
 "nbformat_minor": 2
}
