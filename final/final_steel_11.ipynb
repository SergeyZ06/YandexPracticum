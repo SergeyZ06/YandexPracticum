{
 "cells": [
  {
   "cell_type": "markdown",
   "metadata": {},
   "source": [
    " <div class=\"alert alert-success\" style=\"border-color: green; border-radius: 5px\">\n",
    "    <font color='green'> <b><u>КОММЕНТАРИЙ ТИМЛИДА</u></b>\n",
    "\n",
    "Здравствуй Сергей!<br>\n",
    "Это Николай. И нам повезло - мы делаем интереснейший проект!<br>\n",
    "Далее, я постарюсь прокомментировать сделанные шаги.<br>\n",
    "Вперёд!\n",
    "        \n",
    "Чтобы меньше \"мусорить эфир\" и чтобы максимально наглядно отделяться от основного кода, есть предложение условиться в некоторых обозначениях:<br /> <br />\n",
    "<div class=\"alert alert-success\" style=\"border-color: green; border-radius: 5px\">\n",
    "    <p><u><b>✅ КОММЕНТАРИЙ РЕВЬЮЕРА</b></u></p>\n",
    "    <p>Всё хорошо.</p>\n",
    "</div>\n",
    "\n",
    "<div class=\"alert alert-warning\" style=\"border-color: darkorange; border-radius: 5px\">\n",
    "    <p><u><b>⚠️ КОММЕНТАРИЙ РЕВЬЮЕРА</b></u></p>\n",
    "    <p>Обрати внимание, есть потенциал</p>\n",
    "</div>\n",
    "\n",
    "<div class=\"alert alert-danger\" style=\"border-color: darkred; border-radius: 5px\">\n",
    "    <p><u><b>❌ КОММЕНТАРИЙ РЕВЬЮЕРА</b></u></p>\n",
    "    <p>Нужно ещё раз глянуть</p>\n",
    "</div>\n",
    "        \n",
    "<font color='green'>Как и всегда в спринтах - ставлю своей целью максимально помочь. Поэтому, все мои комментарии - это только способ передать свой опыт для помощи в твоих достижениях."
   ]
  },
  {
   "cell_type": "markdown",
   "metadata": {},
   "source": [
    "# Исследовательский анализ данных"
   ]
  },
  {
   "cell_type": "markdown",
   "metadata": {},
   "source": [
    "## Описание проекта \"Промышленность\""
   ]
  },
  {
   "cell_type": "markdown",
   "metadata": {},
   "source": [
    "### Описание задачи"
   ]
  },
  {
   "cell_type": "markdown",
   "metadata": {},
   "source": [
    "Чтобы оптимизировать производственные расходы, металлургический комбинат ООО «Так закаляем сталь» решил уменьшить потребление электроэнергии на этапе обработки стали. Необходимо построить модель, которая предскажет температуру стали."
   ]
  },
  {
   "cell_type": "markdown",
   "metadata": {},
   "source": [
    "### Описание предметной области"
   ]
  },
  {
   "cell_type": "markdown",
   "metadata": {},
   "source": [
    "**Описание этапа обработки**\n",
    "\n",
    "Сталь обрабатывают в металлическом ковше вместимостью около 100 тонн. Чтобы ковш выдерживал высокие температуры, изнутри его облицовывают огнеупорным кирпичом. Расплавленную сталь заливают в ковш и подогревают до нужной температуры графитовыми электродами. Они установлены в крышке ковша. \n",
    "\n",
    "Из сплава выводится сера (десульфурация), добавлением примесей корректируется химический состав и отбираются пробы. Сталь легируют — изменяют её состав — подавая куски сплава из бункера для сыпучих материалов или проволоку через специальный трайб-аппарат (англ. tribe, «масса»).\n",
    "\n",
    "Перед тем как первый раз ввести легирующие добавки, измеряют температуру стали и производят её химический анализ. Потом температуру на несколько минут повышают, добавляют легирующие материалы и продувают сплав инертным газом. Затем его перемешивают и снова проводят измерения. Такой цикл повторяется до достижения целевого химического состава и оптимальной температуры плавки.\n",
    "\n",
    "Тогда расплавленная сталь отправляется на доводку металла или поступает в машину непрерывной разливки. Оттуда готовый продукт выходит в виде заготовок-слябов (англ. *slab*, «плита»)."
   ]
  },
  {
   "cell_type": "markdown",
   "metadata": {},
   "source": [
    "### Описание данных"
   ]
  },
  {
   "cell_type": "markdown",
   "metadata": {},
   "source": [
    "Данные состоят из файлов, полученных из разных источников:\n",
    "\n",
    "- `data_arc.csv` — данные об электродах;\n",
    "- `data_bulk.csv` — данные о подаче сыпучих материалов (объём);\n",
    "- `data_bulk_time.csv` *—* данные о подаче сыпучих материалов (время);\n",
    "- `data_gas.csv` — данные о продувке сплава газом;\n",
    "- `data_temp.csv` — результаты измерения температуры;\n",
    "- `data_wire.csv` — данные о проволочных материалах (объём);\n",
    "- `data_wire_time.csv` — данные о проволочных материалах (время).\n",
    "\n",
    "Во всех файлах столбец `key` содержит номер партии. В файлах может быть несколько строк с одинаковым значением `key`: они соответствуют разным итерациям обработки."
   ]
  },
  {
   "cell_type": "markdown",
   "metadata": {},
   "source": [
    "<div class=\"alert alert-success\" style=\"border-color: green; border-radius: 5px\">\n",
    "    <p><u><b>✅ КОММЕНТАРИЙ ТИМЛИДА</b></u></p>\n",
    "ок, описание самой проблематики перед её решением - то, что надо!"
   ]
  },
  {
   "cell_type": "markdown",
   "metadata": {},
   "source": [
    "## Подготовка к выполнению проекта"
   ]
  },
  {
   "cell_type": "markdown",
   "metadata": {},
   "source": [
    "### Импорт библиотек"
   ]
  },
  {
   "cell_type": "code",
   "execution_count": 1,
   "metadata": {},
   "outputs": [],
   "source": [
    "import numpy as np\n",
    "import pandas as pd\n",
    "\n",
    "from matplotlib import pyplot as plt\n",
    "import seaborn as sns\n",
    "\n",
    "from sklearn.ensemble import IsolationForest\n",
    "from pyod.models.knn import KNN "
   ]
  },
  {
   "cell_type": "markdown",
   "metadata": {},
   "source": [
    "### Импорт данных"
   ]
  },
  {
   "cell_type": "code",
   "execution_count": 2,
   "metadata": {},
   "outputs": [],
   "source": [
    "# Путь к директории данных.\n",
    "PATH__DATA = r'/datasets/final_steel/'\n",
    "\n",
    "# Полный путь к файлам.\n",
    "DATA_ARC = PATH__DATA + r'data_arc.csv'\n",
    "DATA_BULK = PATH__DATA + r'data_bulk.csv'\n",
    "DATA_BULK_TIME = PATH__DATA + r'data_bulk_time.csv'\n",
    "DATA_GAS = PATH__DATA + r'data_gas.csv'\n",
    "DATA_TEMP = PATH__DATA + r'data_temp.csv'\n",
    "DATA_WIRE = PATH__DATA + r'data_wire.csv'\n",
    "DATA_WIRE_TIME = PATH__DATA + r'data_wire_time.csv'"
   ]
  },
  {
   "cell_type": "markdown",
   "metadata": {},
   "source": [
    "### Настройки проекта"
   ]
  },
  {
   "cell_type": "code",
   "execution_count": 3,
   "metadata": {},
   "outputs": [],
   "source": [
    "# Настройка случайного зерна.\n",
    "GLOBAL__RANDOM_STATE = 29082022"
   ]
  },
  {
   "cell_type": "markdown",
   "metadata": {},
   "source": [
    "<div class=\"alert alert-success\" style=\"border-color: green; border-radius: 5px\">\n",
    "    <p><u><b>✅ КОММЕНТАРИЙ ТИМЛИДА</b></u></p>ОК, данные на базе) Идём дальше."
   ]
  },
  {
   "cell_type": "markdown",
   "metadata": {},
   "source": [
    "## Анализ данных"
   ]
  },
  {
   "cell_type": "markdown",
   "metadata": {},
   "source": [
    "### Данные об электродах"
   ]
  },
  {
   "cell_type": "code",
   "execution_count": 4,
   "metadata": {},
   "outputs": [],
   "source": [
    "# Загрузка данных об электродах.\n",
    "df_arc = pd.read_csv(DATA_ARC)"
   ]
  },
  {
   "cell_type": "code",
   "execution_count": 5,
   "metadata": {
    "scrolled": true
   },
   "outputs": [
    {
     "data": {
      "text/html": [
       "<div>\n",
       "<style scoped>\n",
       "    .dataframe tbody tr th:only-of-type {\n",
       "        vertical-align: middle;\n",
       "    }\n",
       "\n",
       "    .dataframe tbody tr th {\n",
       "        vertical-align: top;\n",
       "    }\n",
       "\n",
       "    .dataframe thead th {\n",
       "        text-align: right;\n",
       "    }\n",
       "</style>\n",
       "<table border=\"1\" class=\"dataframe\">\n",
       "  <thead>\n",
       "    <tr style=\"text-align: right;\">\n",
       "      <th></th>\n",
       "      <th>key</th>\n",
       "      <th>Начало нагрева дугой</th>\n",
       "      <th>Конец нагрева дугой</th>\n",
       "      <th>Активная мощность</th>\n",
       "      <th>Реактивная мощность</th>\n",
       "    </tr>\n",
       "  </thead>\n",
       "  <tbody>\n",
       "    <tr>\n",
       "      <th>0</th>\n",
       "      <td>1</td>\n",
       "      <td>2019-05-03 11:02:14</td>\n",
       "      <td>2019-05-03 11:06:02</td>\n",
       "      <td>0.976059</td>\n",
       "      <td>0.687084</td>\n",
       "    </tr>\n",
       "    <tr>\n",
       "      <th>1</th>\n",
       "      <td>1</td>\n",
       "      <td>2019-05-03 11:07:28</td>\n",
       "      <td>2019-05-03 11:10:33</td>\n",
       "      <td>0.805607</td>\n",
       "      <td>0.520285</td>\n",
       "    </tr>\n",
       "    <tr>\n",
       "      <th>2</th>\n",
       "      <td>1</td>\n",
       "      <td>2019-05-03 11:11:44</td>\n",
       "      <td>2019-05-03 11:14:36</td>\n",
       "      <td>0.744363</td>\n",
       "      <td>0.498805</td>\n",
       "    </tr>\n",
       "    <tr>\n",
       "      <th>3</th>\n",
       "      <td>1</td>\n",
       "      <td>2019-05-03 11:18:14</td>\n",
       "      <td>2019-05-03 11:24:19</td>\n",
       "      <td>1.659363</td>\n",
       "      <td>1.062669</td>\n",
       "    </tr>\n",
       "    <tr>\n",
       "      <th>4</th>\n",
       "      <td>1</td>\n",
       "      <td>2019-05-03 11:26:09</td>\n",
       "      <td>2019-05-03 11:28:37</td>\n",
       "      <td>0.692755</td>\n",
       "      <td>0.414397</td>\n",
       "    </tr>\n",
       "  </tbody>\n",
       "</table>\n",
       "</div>"
      ],
      "text/plain": [
       "   key Начало нагрева дугой  Конец нагрева дугой  Активная мощность  \\\n",
       "0    1  2019-05-03 11:02:14  2019-05-03 11:06:02           0.976059   \n",
       "1    1  2019-05-03 11:07:28  2019-05-03 11:10:33           0.805607   \n",
       "2    1  2019-05-03 11:11:44  2019-05-03 11:14:36           0.744363   \n",
       "3    1  2019-05-03 11:18:14  2019-05-03 11:24:19           1.659363   \n",
       "4    1  2019-05-03 11:26:09  2019-05-03 11:28:37           0.692755   \n",
       "\n",
       "   Реактивная мощность  \n",
       "0             0.687084  \n",
       "1             0.520285  \n",
       "2             0.498805  \n",
       "3             1.062669  \n",
       "4             0.414397  "
      ]
     },
     "execution_count": 5,
     "metadata": {},
     "output_type": "execute_result"
    }
   ],
   "source": [
    "# Проверка: вывод первых пяти строк.\n",
    "df_arc.head()"
   ]
  },
  {
   "cell_type": "code",
   "execution_count": 6,
   "metadata": {},
   "outputs": [
    {
     "name": "stdout",
     "output_type": "stream",
     "text": [
      "<class 'pandas.core.frame.DataFrame'>\n",
      "RangeIndex: 14876 entries, 0 to 14875\n",
      "Data columns (total 5 columns):\n",
      " #   Column                Non-Null Count  Dtype  \n",
      "---  ------                --------------  -----  \n",
      " 0   key                   14876 non-null  int64  \n",
      " 1   Начало нагрева дугой  14876 non-null  object \n",
      " 2   Конец нагрева дугой   14876 non-null  object \n",
      " 3   Активная мощность     14876 non-null  float64\n",
      " 4   Реактивная мощность   14876 non-null  float64\n",
      "dtypes: float64(2), int64(1), object(2)\n",
      "memory usage: 581.2+ KB\n"
     ]
    }
   ],
   "source": [
    "# Вывод общей информации о данных.\n",
    "df_arc.info()"
   ]
  },
  {
   "cell_type": "code",
   "execution_count": 7,
   "metadata": {},
   "outputs": [
    {
     "data": {
      "text/html": [
       "<div>\n",
       "<style scoped>\n",
       "    .dataframe tbody tr th:only-of-type {\n",
       "        vertical-align: middle;\n",
       "    }\n",
       "\n",
       "    .dataframe tbody tr th {\n",
       "        vertical-align: top;\n",
       "    }\n",
       "\n",
       "    .dataframe thead th {\n",
       "        text-align: right;\n",
       "    }\n",
       "</style>\n",
       "<table border=\"1\" class=\"dataframe\">\n",
       "  <thead>\n",
       "    <tr style=\"text-align: right;\">\n",
       "      <th></th>\n",
       "      <th>key</th>\n",
       "      <th>Активная мощность</th>\n",
       "      <th>Реактивная мощность</th>\n",
       "    </tr>\n",
       "  </thead>\n",
       "  <tbody>\n",
       "    <tr>\n",
       "      <th>count</th>\n",
       "      <td>14876.000000</td>\n",
       "      <td>14876.000000</td>\n",
       "      <td>14876.000000</td>\n",
       "    </tr>\n",
       "    <tr>\n",
       "      <th>mean</th>\n",
       "      <td>1615.220422</td>\n",
       "      <td>0.670441</td>\n",
       "      <td>0.452592</td>\n",
       "    </tr>\n",
       "    <tr>\n",
       "      <th>std</th>\n",
       "      <td>934.571502</td>\n",
       "      <td>0.408159</td>\n",
       "      <td>5.878702</td>\n",
       "    </tr>\n",
       "    <tr>\n",
       "      <th>min</th>\n",
       "      <td>1.000000</td>\n",
       "      <td>0.030002</td>\n",
       "      <td>-715.504924</td>\n",
       "    </tr>\n",
       "    <tr>\n",
       "      <th>25%</th>\n",
       "      <td>806.000000</td>\n",
       "      <td>0.395297</td>\n",
       "      <td>0.290991</td>\n",
       "    </tr>\n",
       "    <tr>\n",
       "      <th>50%</th>\n",
       "      <td>1617.000000</td>\n",
       "      <td>0.555517</td>\n",
       "      <td>0.415962</td>\n",
       "    </tr>\n",
       "    <tr>\n",
       "      <th>75%</th>\n",
       "      <td>2429.000000</td>\n",
       "      <td>0.857034</td>\n",
       "      <td>0.637371</td>\n",
       "    </tr>\n",
       "    <tr>\n",
       "      <th>max</th>\n",
       "      <td>3241.000000</td>\n",
       "      <td>3.731596</td>\n",
       "      <td>2.676388</td>\n",
       "    </tr>\n",
       "  </tbody>\n",
       "</table>\n",
       "</div>"
      ],
      "text/plain": [
       "                key  Активная мощность  Реактивная мощность\n",
       "count  14876.000000       14876.000000         14876.000000\n",
       "mean    1615.220422           0.670441             0.452592\n",
       "std      934.571502           0.408159             5.878702\n",
       "min        1.000000           0.030002          -715.504924\n",
       "25%      806.000000           0.395297             0.290991\n",
       "50%     1617.000000           0.555517             0.415962\n",
       "75%     2429.000000           0.857034             0.637371\n",
       "max     3241.000000           3.731596             2.676388"
      ]
     },
     "execution_count": 7,
     "metadata": {},
     "output_type": "execute_result"
    }
   ],
   "source": [
    "# Вывод основных статистик данных.\n",
    "df_arc.describe()"
   ]
  },
  {
   "cell_type": "markdown",
   "metadata": {},
   "source": [
    "#### Признак \"key\""
   ]
  },
  {
   "cell_type": "code",
   "execution_count": 8,
   "metadata": {},
   "outputs": [
    {
     "data": {
      "text/plain": [
       "2108    16\n",
       "1689    15\n",
       "1513    15\n",
       "2567    14\n",
       "46      13\n",
       "322     13\n",
       "1829    12\n",
       "2916    12\n",
       "44      12\n",
       "1958    11\n",
       "Name: key, dtype: int64"
      ]
     },
     "execution_count": 8,
     "metadata": {},
     "output_type": "execute_result"
    }
   ],
   "source": [
    "# Вывод количества записей о партиях.\n",
    "df_arc['key'].value_counts().head(10)"
   ]
  },
  {
   "cell_type": "code",
   "execution_count": 9,
   "metadata": {},
   "outputs": [
    {
     "data": {
      "text/plain": [
       "3214"
      ]
     },
     "execution_count": 9,
     "metadata": {},
     "output_type": "execute_result"
    }
   ],
   "source": [
    "# Вывод количества уникальных партий.\n",
    "df_arc['key'].nunique()"
   ]
  },
  {
   "cell_type": "markdown",
   "metadata": {},
   "source": [
    "#### Признак \"Активная мощность\""
   ]
  },
  {
   "cell_type": "code",
   "execution_count": 10,
   "metadata": {
    "scrolled": true
   },
   "outputs": [
    {
     "data": {
      "image/png": "[encoded data removed]",
      "text/plain": [
       "<Figure size 1080x360 with 1 Axes>"
      ]
     },
     "metadata": {
      "needs_background": "light"
     },
     "output_type": "display_data"
    }
   ],
   "source": [
    "# Диаграмма размаха признака \"Активная мощность\".\n",
    "\n",
    "plt.figure(figsize=(15, 5))\n",
    "\n",
    "sns.boxplot(data=df_arc['Активная мощность'], orient='h')\n",
    "\n",
    "plt.title('Диаграмма размаха признака \"Активная мощность\"', fontdict={'size': 16});"
   ]
  },
  {
   "cell_type": "code",
   "execution_count": 11,
   "metadata": {
    "scrolled": false
   },
   "outputs": [
    {
     "data": {
      "image/png": "[encoded data removed]",
      "text/plain": [
       "<Figure size 861.625x360 with 1 Axes>"
      ]
     },
     "metadata": {
      "needs_background": "light"
     },
     "output_type": "display_data"
    }
   ],
   "source": [
    "# График распределения признака \"Активная мощность\".\n",
    "\n",
    "sns.displot(df_arc[['Активная мощность']], aspect=2)\n",
    "\n",
    "plt.title('График распределения признака \"Активная мощность\"', fontdict={'size': 16})\n",
    "plt.xlabel('Единицы измерения', fontdict={'size': 14})\n",
    "plt.ylabel('Количество объектов', fontdict={'size': 14});"
   ]
  },
  {
   "cell_type": "markdown",
   "metadata": {},
   "source": [
    "<div class=\"alert alert-success\" style=\"border-color: green; border-radius: 5px\">\n",
    "    <p><u><b>✅ КОММЕНТАРИЙ ТИМЛИДА</b></u></p>\n",
    "    <p>👍</p>\n",
    "</div>"
   ]
  },
  {
   "cell_type": "markdown",
   "metadata": {},
   "source": [
    "#### Признак \"Реактивная мощность\""
   ]
  },
  {
   "cell_type": "code",
   "execution_count": 12,
   "metadata": {},
   "outputs": [
    {
     "data": {
      "image/png": "[encoded data removed]",
      "text/plain": [
       "<Figure size 1080x360 with 1 Axes>"
      ]
     },
     "metadata": {
      "needs_background": "light"
     },
     "output_type": "display_data"
    }
   ],
   "source": [
    "# Диаграмма размаха признака \"Реактивная мощность\".\n",
    "\n",
    "plt.figure(figsize=(15, 5))\n",
    "\n",
    "sns.boxplot(data=df_arc['Реактивная мощность'], orient='h')\n",
    "\n",
    "plt.title('Диаграмма размаха признака \"Реактивная мощность\"', fontdict={'size': 16});"
   ]
  },
  {
   "cell_type": "markdown",
   "metadata": {},
   "source": [
    "##### Эксперимент - применение моделей для поиска аномалий"
   ]
  },
  {
   "cell_type": "code",
   "execution_count": 13,
   "metadata": {},
   "outputs": [],
   "source": [
    "# Изоляционный лес для поиска аномалий.\n",
    "outlier_forest = IsolationForest(n_estimators=100, random_state=GLOBAL__RANDOM_STATE) "
   ]
  },
  {
   "cell_type": "code",
   "execution_count": 14,
   "metadata": {},
   "outputs": [],
   "source": [
    "# Поиск аномалий.\n",
    "outlier_predict = outlier_forest.fit_predict(df_arc['Реактивная мощность'].values.reshape(-1, 1))"
   ]
  },
  {
   "cell_type": "code",
   "execution_count": 15,
   "metadata": {},
   "outputs": [
    {
     "data": {
      "image/png": "[encoded data removed]",
      "text/plain": [
       "<Figure size 873x360 with 1 Axes>"
      ]
     },
     "metadata": {
      "needs_background": "light"
     },
     "output_type": "display_data"
    }
   ],
   "source": [
    "# График распределения выбросов признака \"Реактивная мощность\".\n",
    "\n",
    "sns.displot(df_arc[['Реактивная мощность']][(outlier_predict == 1) & (df_arc['Реактивная мощность'] > -700)], aspect=2)\n",
    "\n",
    "plt.title('График распределения выбросов признака \"Реактивная мощность\"', fontdict={'size': 16})\n",
    "plt.xlabel('Единицы измерения', fontdict={'size': 14})\n",
    "plt.ylabel('Количество объектов', fontdict={'size': 14});"
   ]
  },
  {
   "cell_type": "code",
   "execution_count": 16,
   "metadata": {},
   "outputs": [],
   "source": [
    "# Метод ближайших соседей для поиска аномалий.\n",
    "outlier_knn = KNN(n_jobs=-1)"
   ]
  },
  {
   "cell_type": "code",
   "execution_count": 17,
   "metadata": {},
   "outputs": [
    {
     "name": "stderr",
     "output_type": "stream",
     "text": [
      "/opt/conda/lib/python3.9/site-packages/sklearn/utils/deprecation.py:86: FutureWarning: Function fit_predict is deprecated\n",
      "  warnings.warn(msg, category=FutureWarning)\n"
     ]
    }
   ],
   "source": [
    "# Поиск аномалий.\n",
    "outlier_predict = outlier_knn.fit_predict(df_arc['Реактивная мощность'].values.reshape(-1, 1))"
   ]
  },
  {
   "cell_type": "code",
   "execution_count": 18,
   "metadata": {},
   "outputs": [
    {
     "data": {
      "image/png": "[encoded data removed]",
      "text/plain": [
       "<Figure size 873x360 with 1 Axes>"
      ]
     },
     "metadata": {
      "needs_background": "light"
     },
     "output_type": "display_data"
    }
   ],
   "source": [
    "# График распределения выбросов признака \"Реактивная мощность\".\n",
    "\n",
    "sns.displot(df_arc[['Реактивная мощность']][(outlier_predict == 1) & (df_arc['Реактивная мощность'] > -700)], aspect=2)\n",
    "\n",
    "plt.title('График распределения выбросов признака \"Реактивная мощность\"', fontdict={'size': 16})\n",
    "plt.xlabel('Единицы измерения', fontdict={'size': 14})\n",
    "plt.ylabel('Количество объектов', fontdict={'size': 14});"
   ]
  },
  {
   "cell_type": "markdown",
   "metadata": {},
   "source": [
    "***Вывод***\n",
    "\n",
    "Применение моделей машинного обучения для поиска аномалий не показало эффективности, так как большое количество ординарных объектов были помечены как выбросы."
   ]
  },
  {
   "cell_type": "markdown",
   "metadata": {},
   "source": [
    "<div class=\"alert alert-success\" style=\"border-color: green; border-radius: 5px\">\n",
    "    <p><u><b>✅ КОММЕНТАРИЙ ТИМЛИДА</b></u></p>\n",
    "Идея понятна. Но с выбросами тут действительно важный момент. Ведь выброс выбросу рознь) Бывает, что выброс - то реальная бизнес-практика. И если удалить их, то мы получим модель, так скажем, работующую не во всех диапазонах входящих в неё факторов. Т.е. по метрикам модель будет хорошая. А вот по бизнесу - не совсем применимая.<br>А бывают выбросы - точно выбросы - ошибки учёта данных, например.<br>\n",
    "    \n",
    "В самой теории выбросов принято считать, что выбросы в интервале от q_3 + 1.5*irq до q_3 + з*irq - на усмотрение бизнеса. А вот всё, что больше q_3 + 3*irq - уже точно надо работать - на удаление!!!<br>\n",
    "q_3 - верхняя квартиль<br>\n",
    "irq - интерквартильный размах\n",
    "\n",
    "В таких проектах, также лучше использовать такую философию анализа выбросов:<br>\n",
    "Ящик с усами - даёт пищу для размышлений (не более того, не воспринимаем его как сигнал к действию).<br>\n",
    "А потом смотрим то явление, что изучаем. Данные значения - могут быть в реальности или нет?<br>\n",
    "Вот, например, в случае с температурой плавления: по справочнику она у металла = около 1400+-, т.е. 1200 - действиетльно кажется очень странным значением. А 1450 выглядит вполне рабочим. В промышленной аналитике чаще всего выбросы - только ошибки датчкиов или выгрузки. В этом проекте, кроме супервыбросов (реактивная и несколько партий с температурой 1200) я бы ничего не удалял. И тогда модель будет с макисмальным рабочим диапазоном."
   ]
  },
  {
   "cell_type": "code",
   "execution_count": 19,
   "metadata": {},
   "outputs": [
    {
     "data": {
      "image/png": "[encoded data removed]",
      "text/plain": [
       "<Figure size 1080x360 with 1 Axes>"
      ]
     },
     "metadata": {
      "needs_background": "light"
     },
     "output_type": "display_data"
    }
   ],
   "source": [
    "# Диаграмма размаха признака \"Реактивная мощность\" с фильтрацией.\n",
    "\n",
    "plt.figure(figsize=(15, 5))\n",
    "\n",
    "sns.boxplot(data=df_arc[['Реактивная мощность']][df_arc['Реактивная мощность'] > -700], orient='h')\n",
    "\n",
    "plt.title('Диаграмма размаха признака \"Реактивная мощность\"', fontdict={'size': 16});"
   ]
  },
  {
   "cell_type": "code",
   "execution_count": 20,
   "metadata": {},
   "outputs": [
    {
     "data": {
      "image/png": "[encoded data removed]",
      "text/plain": [
       "<Figure size 873x360 with 1 Axes>"
      ]
     },
     "metadata": {
      "needs_background": "light"
     },
     "output_type": "display_data"
    }
   ],
   "source": [
    "# График распределения признака \"Реактивная мощность\".\n",
    "\n",
    "# sns.displot(df_arc[['Реактивная мощность']], aspect=2)\n",
    "sns.displot(df_arc[['Реактивная мощность']][df_arc['Реактивная мощность'] > -700], aspect=2)\n",
    "\n",
    "plt.title('График распределения признака \"Реактивная мощность\"', fontdict={'size': 16})\n",
    "plt.xlabel('Единицы измерения', fontdict={'size': 14})\n",
    "plt.ylabel('Количество объектов', fontdict={'size': 14});"
   ]
  },
  {
   "cell_type": "markdown",
   "metadata": {},
   "source": [
    "#### Генерация разности признаков \"Начало нагрева дугой\" и \"Конец нагрева дугой\""
   ]
  },
  {
   "cell_type": "code",
   "execution_count": 21,
   "metadata": {},
   "outputs": [],
   "source": [
    "# Приведение признака \"Конец нагрева дугой\" к типу данных datetime64.\n",
    "df_arc['Конец нагрева дугой'] = pd.to_datetime(df_arc['Конец нагрева дугой'])"
   ]
  },
  {
   "cell_type": "code",
   "execution_count": 22,
   "metadata": {},
   "outputs": [],
   "source": [
    "# Приведение признака \"Начало нагрева дугой\" к типу данных datetime64.\n",
    "df_arc['Начало нагрева дугой'] = pd.to_datetime(df_arc['Начало нагрева дугой'])"
   ]
  },
  {
   "cell_type": "code",
   "execution_count": 23,
   "metadata": {},
   "outputs": [],
   "source": [
    "# Вычисление разницы признаков.\n",
    "df_arc['time_diff'] = df_arc['Конец нагрева дугой'] - df_arc['Начало нагрева дугой']"
   ]
  },
  {
   "cell_type": "code",
   "execution_count": 24,
   "metadata": {
    "scrolled": true
   },
   "outputs": [
    {
     "data": {
      "text/plain": [
       "0   0 days 00:03:48\n",
       "1   0 days 00:03:05\n",
       "2   0 days 00:02:52\n",
       "3   0 days 00:06:05\n",
       "4   0 days 00:02:28\n",
       "Name: time_diff, dtype: timedelta64[ns]"
      ]
     },
     "execution_count": 24,
     "metadata": {},
     "output_type": "execute_result"
    }
   ],
   "source": [
    "# Проверка: вывод первых пяти строк.\n",
    "df_arc['time_diff'].head()"
   ]
  },
  {
   "cell_type": "code",
   "execution_count": 25,
   "metadata": {},
   "outputs": [],
   "source": [
    "# Перевод разницы признаков в секунды.\n",
    "df_arc['time_diff_seconds'] = df_arc['time_diff'].dt.total_seconds()"
   ]
  },
  {
   "cell_type": "code",
   "execution_count": 26,
   "metadata": {},
   "outputs": [
    {
     "data": {
      "text/plain": [
       "0    228.0\n",
       "1    185.0\n",
       "2    172.0\n",
       "3    365.0\n",
       "4    148.0\n",
       "Name: time_diff_seconds, dtype: float64"
      ]
     },
     "execution_count": 26,
     "metadata": {},
     "output_type": "execute_result"
    }
   ],
   "source": [
    "# Проверка: вывод первых пяти строк.\n",
    "df_arc['time_diff_seconds'].head()"
   ]
  },
  {
   "cell_type": "code",
   "execution_count": 27,
   "metadata": {},
   "outputs": [
    {
     "data": {
      "image/png": "[encoded data removed]",
      "text/plain": [
       "<Figure size 1080x360 with 1 Axes>"
      ]
     },
     "metadata": {
      "needs_background": "light"
     },
     "output_type": "display_data"
    }
   ],
   "source": [
    "# Диаграмма размаха разности признаков.\n",
    "\n",
    "plt.figure(figsize=(15, 5))\n",
    "\n",
    "sns.boxplot(data=df_arc['time_diff_seconds'], orient='h')\n",
    "\n",
    "plt.title('Диаграмма размаха разности признаков \"Конец нагрева дугой\" и \"Начало нагрева дугой\"', fontdict={'size': 16});"
   ]
  },
  {
   "cell_type": "code",
   "execution_count": 28,
   "metadata": {},
   "outputs": [
    {
     "data": {
      "text/plain": [
       "count    14876.000000\n",
       "mean       171.670946\n",
       "std         98.186803\n",
       "min         11.000000\n",
       "25%        107.000000\n",
       "50%        147.000000\n",
       "75%        214.000000\n",
       "max        907.000000\n",
       "Name: time_diff_seconds, dtype: float64"
      ]
     },
     "execution_count": 28,
     "metadata": {},
     "output_type": "execute_result"
    }
   ],
   "source": [
    "# Вывод основных статистик разницы признаков в секундах.\n",
    "df_arc['time_diff_seconds'].describe()"
   ]
  },
  {
   "cell_type": "code",
   "execution_count": 29,
   "metadata": {
    "scrolled": false
   },
   "outputs": [
    {
     "data": {
      "image/png": "[encoded data removed]",
      "text/plain": [
       "<Figure size 720x360 with 1 Axes>"
      ]
     },
     "metadata": {
      "needs_background": "light"
     },
     "output_type": "display_data"
    }
   ],
   "source": [
    "# График распределения разности признаков.\n",
    "\n",
    "sns.displot(df_arc['time_diff_seconds'], aspect=2)\n",
    "\n",
    "plt.xticks(range(0, 1000, 50))\n",
    "\n",
    "plt.title('График распределения разности признаков \"Конец нагрева дугой\" и \"Начало нагрева дугой\"', fontdict={'size': 16})\n",
    "plt.xlabel('Время в секундах', fontdict={'size': 14})\n",
    "plt.ylabel('Количество объектов', fontdict={'size': 14});"
   ]
  },
  {
   "cell_type": "markdown",
   "metadata": {},
   "source": [
    "#### Агрегация данных по партиям"
   ]
  },
  {
   "cell_type": "code",
   "execution_count": 30,
   "metadata": {},
   "outputs": [],
   "source": [
    "# Агрегация данных по партиям.\n",
    "df_arc_agg = df_arc.groupby(by='key').sum()"
   ]
  },
  {
   "cell_type": "code",
   "execution_count": 31,
   "metadata": {
    "scrolled": true
   },
   "outputs": [
    {
     "data": {
      "text/html": [
       "<div>\n",
       "<style scoped>\n",
       "    .dataframe tbody tr th:only-of-type {\n",
       "        vertical-align: middle;\n",
       "    }\n",
       "\n",
       "    .dataframe tbody tr th {\n",
       "        vertical-align: top;\n",
       "    }\n",
       "\n",
       "    .dataframe thead th {\n",
       "        text-align: right;\n",
       "    }\n",
       "</style>\n",
       "<table border=\"1\" class=\"dataframe\">\n",
       "  <thead>\n",
       "    <tr style=\"text-align: right;\">\n",
       "      <th></th>\n",
       "      <th>Активная мощность</th>\n",
       "      <th>Реактивная мощность</th>\n",
       "      <th>time_diff_seconds</th>\n",
       "    </tr>\n",
       "    <tr>\n",
       "      <th>key</th>\n",
       "      <th></th>\n",
       "      <th></th>\n",
       "      <th></th>\n",
       "    </tr>\n",
       "  </thead>\n",
       "  <tbody>\n",
       "    <tr>\n",
       "      <th>1</th>\n",
       "      <td>4.878147</td>\n",
       "      <td>3.183241</td>\n",
       "      <td>1098.0</td>\n",
       "    </tr>\n",
       "    <tr>\n",
       "      <th>2</th>\n",
       "      <td>3.052598</td>\n",
       "      <td>1.998112</td>\n",
       "      <td>811.0</td>\n",
       "    </tr>\n",
       "    <tr>\n",
       "      <th>3</th>\n",
       "      <td>2.525882</td>\n",
       "      <td>1.599076</td>\n",
       "      <td>655.0</td>\n",
       "    </tr>\n",
       "    <tr>\n",
       "      <th>4</th>\n",
       "      <td>3.209250</td>\n",
       "      <td>2.060298</td>\n",
       "      <td>741.0</td>\n",
       "    </tr>\n",
       "    <tr>\n",
       "      <th>5</th>\n",
       "      <td>3.347173</td>\n",
       "      <td>2.252643</td>\n",
       "      <td>869.0</td>\n",
       "    </tr>\n",
       "  </tbody>\n",
       "</table>\n",
       "</div>"
      ],
      "text/plain": [
       "     Активная мощность  Реактивная мощность  time_diff_seconds\n",
       "key                                                           \n",
       "1             4.878147             3.183241             1098.0\n",
       "2             3.052598             1.998112              811.0\n",
       "3             2.525882             1.599076              655.0\n",
       "4             3.209250             2.060298              741.0\n",
       "5             3.347173             2.252643              869.0"
      ]
     },
     "execution_count": 31,
     "metadata": {},
     "output_type": "execute_result"
    }
   ],
   "source": [
    "# Проверка: вывод первых пяти строк.\n",
    "df_arc_agg.head()"
   ]
  },
  {
   "cell_type": "code",
   "execution_count": 32,
   "metadata": {},
   "outputs": [
    {
     "data": {
      "text/html": [
       "<div>\n",
       "<style scoped>\n",
       "    .dataframe tbody tr th:only-of-type {\n",
       "        vertical-align: middle;\n",
       "    }\n",
       "\n",
       "    .dataframe tbody tr th {\n",
       "        vertical-align: top;\n",
       "    }\n",
       "\n",
       "    .dataframe thead th {\n",
       "        text-align: right;\n",
       "    }\n",
       "</style>\n",
       "<table border=\"1\" class=\"dataframe\">\n",
       "  <thead>\n",
       "    <tr style=\"text-align: right;\">\n",
       "      <th></th>\n",
       "      <th>Активная мощность</th>\n",
       "      <th>Реактивная мощность</th>\n",
       "      <th>time_diff_seconds</th>\n",
       "    </tr>\n",
       "  </thead>\n",
       "  <tbody>\n",
       "    <tr>\n",
       "      <th>count</th>\n",
       "      <td>3214.000000</td>\n",
       "      <td>3214.000000</td>\n",
       "      <td>3214.000000</td>\n",
       "    </tr>\n",
       "    <tr>\n",
       "      <th>mean</th>\n",
       "      <td>3.103138</td>\n",
       "      <td>2.094821</td>\n",
       "      <td>794.579029</td>\n",
       "    </tr>\n",
       "    <tr>\n",
       "      <th>std</th>\n",
       "      <td>1.397390</td>\n",
       "      <td>12.689508</td>\n",
       "      <td>332.448622</td>\n",
       "    </tr>\n",
       "    <tr>\n",
       "      <th>min</th>\n",
       "      <td>0.186226</td>\n",
       "      <td>-714.591636</td>\n",
       "      <td>57.000000</td>\n",
       "    </tr>\n",
       "    <tr>\n",
       "      <th>25%</th>\n",
       "      <td>2.126339</td>\n",
       "      <td>1.599018</td>\n",
       "      <td>571.000000</td>\n",
       "    </tr>\n",
       "    <tr>\n",
       "      <th>50%</th>\n",
       "      <td>2.990537</td>\n",
       "      <td>2.229869</td>\n",
       "      <td>770.000000</td>\n",
       "    </tr>\n",
       "    <tr>\n",
       "      <th>75%</th>\n",
       "      <td>3.901147</td>\n",
       "      <td>2.899141</td>\n",
       "      <td>983.000000</td>\n",
       "    </tr>\n",
       "    <tr>\n",
       "      <th>max</th>\n",
       "      <td>17.496497</td>\n",
       "      <td>12.587990</td>\n",
       "      <td>4189.000000</td>\n",
       "    </tr>\n",
       "  </tbody>\n",
       "</table>\n",
       "</div>"
      ],
      "text/plain": [
       "       Активная мощность  Реактивная мощность  time_diff_seconds\n",
       "count        3214.000000          3214.000000        3214.000000\n",
       "mean            3.103138             2.094821         794.579029\n",
       "std             1.397390            12.689508         332.448622\n",
       "min             0.186226          -714.591636          57.000000\n",
       "25%             2.126339             1.599018         571.000000\n",
       "50%             2.990537             2.229869         770.000000\n",
       "75%             3.901147             2.899141         983.000000\n",
       "max            17.496497            12.587990        4189.000000"
      ]
     },
     "execution_count": 32,
     "metadata": {},
     "output_type": "execute_result"
    }
   ],
   "source": [
    "# Вывод основных статистик данных.\n",
    "df_arc_agg.describe()"
   ]
  },
  {
   "cell_type": "code",
   "execution_count": 33,
   "metadata": {},
   "outputs": [
    {
     "data": {
      "image/png": "[encoded data removed]",
      "text/plain": [
       "<Figure size 1080x360 with 1 Axes>"
      ]
     },
     "metadata": {
      "needs_background": "light"
     },
     "output_type": "display_data"
    }
   ],
   "source": [
    "# Диаграмма размаха агрегированного признака \"Активная мощность\".\n",
    "\n",
    "plt.figure(figsize=(15, 5))\n",
    "\n",
    "sns.boxplot(data=df_arc_agg[['Активная мощность']], orient='h')\n",
    "\n",
    "plt.title('Диаграмма размаха агрегированного признака \"Активная мощность\"', fontdict={'size': 16});"
   ]
  },
  {
   "cell_type": "code",
   "execution_count": 34,
   "metadata": {},
   "outputs": [
    {
     "data": {
      "image/png": "[encoded data removed]",
      "text/plain": [
       "<Figure size 861.625x360 with 1 Axes>"
      ]
     },
     "metadata": {
      "needs_background": "light"
     },
     "output_type": "display_data"
    }
   ],
   "source": [
    "# График распределения агрегированного признака \"Активная мощность\".\n",
    "\n",
    "sns.displot(df_arc_agg[['Активная мощность']], aspect=2)\n",
    "\n",
    "plt.title('График распределения агрегированного признака \"Активная мощность\"', fontdict={'size': 16})\n",
    "plt.xlabel('Единицы измерения', fontdict={'size': 14})\n",
    "plt.ylabel('Количество объектов', fontdict={'size': 14});"
   ]
  },
  {
   "cell_type": "code",
   "execution_count": 35,
   "metadata": {},
   "outputs": [
    {
     "data": {
      "image/png": "[encoded data removed]",
      "text/plain": [
       "<Figure size 1080x360 with 1 Axes>"
      ]
     },
     "metadata": {
      "needs_background": "light"
     },
     "output_type": "display_data"
    }
   ],
   "source": [
    "# Диаграмма размаха агрегированного признака \"Реактивная мощность\".\n",
    "\n",
    "plt.figure(figsize=(15, 5))\n",
    "\n",
    "sns.boxplot(data=df_arc_agg[['Реактивная мощность']], orient='h')\n",
    "\n",
    "plt.title('Диаграмма размаха агрегированного признака \"Реактивная мощность\"', fontdict={'size': 16});"
   ]
  },
  {
   "cell_type": "code",
   "execution_count": 36,
   "metadata": {},
   "outputs": [
    {
     "data": {
      "image/png": "[encoded data removed]",
      "text/plain": [
       "<Figure size 1080x360 with 1 Axes>"
      ]
     },
     "metadata": {
      "needs_background": "light"
     },
     "output_type": "display_data"
    }
   ],
   "source": [
    "# Диаграмма размаха агрегированного признака \"Реактивная мощность\" с фильтрацией.\n",
    "\n",
    "plt.figure(figsize=(15, 5))\n",
    "\n",
    "sns.boxplot(data=df_arc_agg[['Реактивная мощность']][df_arc_agg['Реактивная мощность'] > -700], orient='h')\n",
    "\n",
    "plt.title('Диаграмма размаха агрегированного признака \"Реактивная мощность\"', fontdict={'size': 16});"
   ]
  },
  {
   "cell_type": "code",
   "execution_count": 37,
   "metadata": {},
   "outputs": [
    {
     "data": {
      "image/png": "[encoded data removed]",
      "text/plain": [
       "<Figure size 873x360 with 1 Axes>"
      ]
     },
     "metadata": {
      "needs_background": "light"
     },
     "output_type": "display_data"
    }
   ],
   "source": [
    "# График распределения агрегированного признака \"Реактивная мощность\".\n",
    "\n",
    "sns.displot(df_arc_agg[['Реактивная мощность']][df_arc_agg['Реактивная мощность'] > -700], aspect=2)\n",
    "\n",
    "plt.title('График распределения агрегированного признака \"Реактивная мощность\"', fontdict={'size': 16})\n",
    "plt.xlabel('Единицы измерения', fontdict={'size': 14})\n",
    "plt.ylabel('Количество объектов', fontdict={'size': 14});"
   ]
  },
  {
   "cell_type": "code",
   "execution_count": 38,
   "metadata": {},
   "outputs": [
    {
     "data": {
      "image/png": "[encoded data removed]",
      "text/plain": [
       "<Figure size 1080x360 with 1 Axes>"
      ]
     },
     "metadata": {
      "needs_background": "light"
     },
     "output_type": "display_data"
    }
   ],
   "source": [
    "# Диаграмма размаха разности агрегированных признаков.\n",
    "\n",
    "plt.figure(figsize=(15, 5))\n",
    "\n",
    "sns.boxplot(data=df_arc_agg[['time_diff_seconds']], orient='h')\n",
    "\n",
    "plt.title(\n",
    "    'Диаграмма размаха разности агрегированных признаков \"Конец нагрева дугой\" и \"Начало нагрева дугой\"',\n",
    "    fontdict={'size': 16}\n",
    ");"
   ]
  },
  {
   "cell_type": "code",
   "execution_count": 39,
   "metadata": {},
   "outputs": [
    {
     "data": {
      "image/png": "[encoded data removed]",
      "text/plain": [
       "<Figure size 720x360 with 1 Axes>"
      ]
     },
     "metadata": {
      "needs_background": "light"
     },
     "output_type": "display_data"
    }
   ],
   "source": [
    "# График распределения разности агрегированных признаков.\n",
    "\n",
    "sns.displot(df_arc_agg['time_diff_seconds'], aspect=2)\n",
    "\n",
    "plt.xticks(range(0, 5000, 500))\n",
    "\n",
    "plt.title(\n",
    "    'График распределения разности агрегированных признаков \"Конец нагрева дугой\" и \"Начало нагрева дугой\"',\n",
    "    fontdict={'size': 16}\n",
    ")\n",
    "\n",
    "plt.xlabel('Время в секундах', fontdict={'size': 14})\n",
    "plt.ylabel('Количество объектов', fontdict={'size': 14});"
   ]
  },
  {
   "cell_type": "markdown",
   "metadata": {},
   "source": [
    "#### Выводы"
   ]
  },
  {
   "cell_type": "markdown",
   "metadata": {},
   "source": [
    "В ходе анализа данных об электродах `data_arc.csv` было установлено следующее:\n",
    "\n",
    "\n",
    "1. Данные не содержат пропусков.\n",
    "\n",
    "\n",
    "2. Данные могут содержать аномалии. Так, в случае с признаком `Реактивная мощность`, было обнаружено сильно выбивающееся значение < -700, что с высокой вероятностью может быть выбросом. Диаграмма размаха для данного признака также показала наличие выбросов в области значений от 1.2 до 2.7. Однако доподлинно неизвестно, могут ли значения вне границ также быть выбросами.\n",
    "\n",
    "\n",
    "3. Диаграмма размаха значений признака `Активная мощность` также показала наличие выбросов вне верхнего интервала, значения более 1.5. Характер данных не позволяет однозначно определить аномалии это или нет.\n",
    "\n",
    "\n",
    "4. На основе признаков `Конец нагрева дугой` и `Начало нагрева дугой` был сгенерирован новый признак `time_diff_seconds`, который отражает разность признаков в секундах. Согласно диаграмме размаха нового признака, значения более ~380 секунд являются выбивающимися. Большинство значений сгруппировано в интервале от 50 до 250 секунд.\n",
    "\n",
    "\n",
    "5. Из-за итеративной обработки некоторые партии сырья содержат несколько записей об электродах, что позволило выполнить агрегацию по номеру партии `key`.\n",
    "\n",
    "\n",
    "6. Агрегация данных показала наличие партий с суммарной продолжительностью нагрева более 1 часа, что является выбивающимся значением при средней продолжительности нагрева не более получаса. Данная партия с высокой долей вероятности является аномалией.\n",
    "\n",
    "\n",
    "7. Применение моделей машинного обучения для поиска аномалий не показало эффективности, так как большое количество ординарных объектов были помечены как выбросы"
   ]
  },
  {
   "cell_type": "markdown",
   "metadata": {},
   "source": [
    "<div class=\"alert alert-success\" style=\"border-color: green; border-radius: 5px\">\n",
    "    <p><u><b>✅ КОММЕНТАРИЙ ТИМЛИДА</b></u></p>\n",
    "МОЛОДЕЦ, чёткая работа с анализом данных.По выбросам - напиал своё суждение)"
   ]
  },
  {
   "cell_type": "markdown",
   "metadata": {},
   "source": [
    "### Данные о подаче сыпучих материалов (объём)"
   ]
  },
  {
   "cell_type": "code",
   "execution_count": 40,
   "metadata": {},
   "outputs": [],
   "source": [
    "# Загрузка данных о подаче сыпучих материалов (объём).\n",
    "df_bulk = pd.read_csv(DATA_BULK)"
   ]
  },
  {
   "cell_type": "code",
   "execution_count": 41,
   "metadata": {},
   "outputs": [
    {
     "data": {
      "text/html": [
       "<div>\n",
       "<style scoped>\n",
       "    .dataframe tbody tr th:only-of-type {\n",
       "        vertical-align: middle;\n",
       "    }\n",
       "\n",
       "    .dataframe tbody tr th {\n",
       "        vertical-align: top;\n",
       "    }\n",
       "\n",
       "    .dataframe thead th {\n",
       "        text-align: right;\n",
       "    }\n",
       "</style>\n",
       "<table border=\"1\" class=\"dataframe\">\n",
       "  <thead>\n",
       "    <tr style=\"text-align: right;\">\n",
       "      <th></th>\n",
       "      <th>key</th>\n",
       "      <th>Bulk 1</th>\n",
       "      <th>Bulk 2</th>\n",
       "      <th>Bulk 3</th>\n",
       "      <th>Bulk 4</th>\n",
       "      <th>Bulk 5</th>\n",
       "      <th>Bulk 6</th>\n",
       "      <th>Bulk 7</th>\n",
       "      <th>Bulk 8</th>\n",
       "      <th>Bulk 9</th>\n",
       "      <th>Bulk 10</th>\n",
       "      <th>Bulk 11</th>\n",
       "      <th>Bulk 12</th>\n",
       "      <th>Bulk 13</th>\n",
       "      <th>Bulk 14</th>\n",
       "      <th>Bulk 15</th>\n",
       "    </tr>\n",
       "  </thead>\n",
       "  <tbody>\n",
       "    <tr>\n",
       "      <th>0</th>\n",
       "      <td>1</td>\n",
       "      <td>NaN</td>\n",
       "      <td>NaN</td>\n",
       "      <td>NaN</td>\n",
       "      <td>43.0</td>\n",
       "      <td>NaN</td>\n",
       "      <td>NaN</td>\n",
       "      <td>NaN</td>\n",
       "      <td>NaN</td>\n",
       "      <td>NaN</td>\n",
       "      <td>NaN</td>\n",
       "      <td>NaN</td>\n",
       "      <td>206.0</td>\n",
       "      <td>NaN</td>\n",
       "      <td>150.0</td>\n",
       "      <td>154.0</td>\n",
       "    </tr>\n",
       "    <tr>\n",
       "      <th>1</th>\n",
       "      <td>2</td>\n",
       "      <td>NaN</td>\n",
       "      <td>NaN</td>\n",
       "      <td>NaN</td>\n",
       "      <td>73.0</td>\n",
       "      <td>NaN</td>\n",
       "      <td>NaN</td>\n",
       "      <td>NaN</td>\n",
       "      <td>NaN</td>\n",
       "      <td>NaN</td>\n",
       "      <td>NaN</td>\n",
       "      <td>NaN</td>\n",
       "      <td>206.0</td>\n",
       "      <td>NaN</td>\n",
       "      <td>149.0</td>\n",
       "      <td>154.0</td>\n",
       "    </tr>\n",
       "    <tr>\n",
       "      <th>2</th>\n",
       "      <td>3</td>\n",
       "      <td>NaN</td>\n",
       "      <td>NaN</td>\n",
       "      <td>NaN</td>\n",
       "      <td>34.0</td>\n",
       "      <td>NaN</td>\n",
       "      <td>NaN</td>\n",
       "      <td>NaN</td>\n",
       "      <td>NaN</td>\n",
       "      <td>NaN</td>\n",
       "      <td>NaN</td>\n",
       "      <td>NaN</td>\n",
       "      <td>205.0</td>\n",
       "      <td>NaN</td>\n",
       "      <td>152.0</td>\n",
       "      <td>153.0</td>\n",
       "    </tr>\n",
       "    <tr>\n",
       "      <th>3</th>\n",
       "      <td>4</td>\n",
       "      <td>NaN</td>\n",
       "      <td>NaN</td>\n",
       "      <td>NaN</td>\n",
       "      <td>81.0</td>\n",
       "      <td>NaN</td>\n",
       "      <td>NaN</td>\n",
       "      <td>NaN</td>\n",
       "      <td>NaN</td>\n",
       "      <td>NaN</td>\n",
       "      <td>NaN</td>\n",
       "      <td>NaN</td>\n",
       "      <td>207.0</td>\n",
       "      <td>NaN</td>\n",
       "      <td>153.0</td>\n",
       "      <td>154.0</td>\n",
       "    </tr>\n",
       "    <tr>\n",
       "      <th>4</th>\n",
       "      <td>5</td>\n",
       "      <td>NaN</td>\n",
       "      <td>NaN</td>\n",
       "      <td>NaN</td>\n",
       "      <td>78.0</td>\n",
       "      <td>NaN</td>\n",
       "      <td>NaN</td>\n",
       "      <td>NaN</td>\n",
       "      <td>NaN</td>\n",
       "      <td>NaN</td>\n",
       "      <td>NaN</td>\n",
       "      <td>NaN</td>\n",
       "      <td>203.0</td>\n",
       "      <td>NaN</td>\n",
       "      <td>151.0</td>\n",
       "      <td>152.0</td>\n",
       "    </tr>\n",
       "  </tbody>\n",
       "</table>\n",
       "</div>"
      ],
      "text/plain": [
       "   key  Bulk 1  Bulk 2  Bulk 3  Bulk 4  Bulk 5  Bulk 6  Bulk 7  Bulk 8  \\\n",
       "0    1     NaN     NaN     NaN    43.0     NaN     NaN     NaN     NaN   \n",
       "1    2     NaN     NaN     NaN    73.0     NaN     NaN     NaN     NaN   \n",
       "2    3     NaN     NaN     NaN    34.0     NaN     NaN     NaN     NaN   \n",
       "3    4     NaN     NaN     NaN    81.0     NaN     NaN     NaN     NaN   \n",
       "4    5     NaN     NaN     NaN    78.0     NaN     NaN     NaN     NaN   \n",
       "\n",
       "   Bulk 9  Bulk 10  Bulk 11  Bulk 12  Bulk 13  Bulk 14  Bulk 15  \n",
       "0     NaN      NaN      NaN    206.0      NaN    150.0    154.0  \n",
       "1     NaN      NaN      NaN    206.0      NaN    149.0    154.0  \n",
       "2     NaN      NaN      NaN    205.0      NaN    152.0    153.0  \n",
       "3     NaN      NaN      NaN    207.0      NaN    153.0    154.0  \n",
       "4     NaN      NaN      NaN    203.0      NaN    151.0    152.0  "
      ]
     },
     "execution_count": 41,
     "metadata": {},
     "output_type": "execute_result"
    }
   ],
   "source": [
    "# Проверка: вывод первых пяти строк.\n",
    "df_bulk.head()"
   ]
  },
  {
   "cell_type": "code",
   "execution_count": 42,
   "metadata": {},
   "outputs": [
    {
     "name": "stdout",
     "output_type": "stream",
     "text": [
      "<class 'pandas.core.frame.DataFrame'>\n",
      "RangeIndex: 3129 entries, 0 to 3128\n",
      "Data columns (total 16 columns):\n",
      " #   Column   Non-Null Count  Dtype  \n",
      "---  ------   --------------  -----  \n",
      " 0   key      3129 non-null   int64  \n",
      " 1   Bulk 1   252 non-null    float64\n",
      " 2   Bulk 2   22 non-null     float64\n",
      " 3   Bulk 3   1298 non-null   float64\n",
      " 4   Bulk 4   1014 non-null   float64\n",
      " 5   Bulk 5   77 non-null     float64\n",
      " 6   Bulk 6   576 non-null    float64\n",
      " 7   Bulk 7   25 non-null     float64\n",
      " 8   Bulk 8   1 non-null      float64\n",
      " 9   Bulk 9   19 non-null     float64\n",
      " 10  Bulk 10  176 non-null    float64\n",
      " 11  Bulk 11  177 non-null    float64\n",
      " 12  Bulk 12  2450 non-null   float64\n",
      " 13  Bulk 13  18 non-null     float64\n",
      " 14  Bulk 14  2806 non-null   float64\n",
      " 15  Bulk 15  2248 non-null   float64\n",
      "dtypes: float64(15), int64(1)\n",
      "memory usage: 391.2 KB\n"
     ]
    }
   ],
   "source": [
    "# Вывод общей информации о данных.\n",
    "df_bulk.info()"
   ]
  },
  {
   "cell_type": "code",
   "execution_count": 43,
   "metadata": {},
   "outputs": [
    {
     "data": {
      "text/html": [
       "<div>\n",
       "<style scoped>\n",
       "    .dataframe tbody tr th:only-of-type {\n",
       "        vertical-align: middle;\n",
       "    }\n",
       "\n",
       "    .dataframe tbody tr th {\n",
       "        vertical-align: top;\n",
       "    }\n",
       "\n",
       "    .dataframe thead th {\n",
       "        text-align: right;\n",
       "    }\n",
       "</style>\n",
       "<table border=\"1\" class=\"dataframe\">\n",
       "  <thead>\n",
       "    <tr style=\"text-align: right;\">\n",
       "      <th></th>\n",
       "      <th>count</th>\n",
       "      <th>mean</th>\n",
       "      <th>std</th>\n",
       "      <th>min</th>\n",
       "      <th>25%</th>\n",
       "      <th>50%</th>\n",
       "      <th>75%</th>\n",
       "      <th>max</th>\n",
       "    </tr>\n",
       "  </thead>\n",
       "  <tbody>\n",
       "    <tr>\n",
       "      <th>Bulk 1</th>\n",
       "      <td>252.0</td>\n",
       "      <td>39.242063</td>\n",
       "      <td>18.277654</td>\n",
       "      <td>10.0</td>\n",
       "      <td>27.00</td>\n",
       "      <td>31.0</td>\n",
       "      <td>46.00</td>\n",
       "      <td>185.0</td>\n",
       "    </tr>\n",
       "    <tr>\n",
       "      <th>Bulk 2</th>\n",
       "      <td>22.0</td>\n",
       "      <td>253.045455</td>\n",
       "      <td>21.180578</td>\n",
       "      <td>228.0</td>\n",
       "      <td>242.00</td>\n",
       "      <td>251.5</td>\n",
       "      <td>257.75</td>\n",
       "      <td>325.0</td>\n",
       "    </tr>\n",
       "    <tr>\n",
       "      <th>Bulk 3</th>\n",
       "      <td>1298.0</td>\n",
       "      <td>113.879045</td>\n",
       "      <td>75.483494</td>\n",
       "      <td>6.0</td>\n",
       "      <td>58.00</td>\n",
       "      <td>97.5</td>\n",
       "      <td>152.00</td>\n",
       "      <td>454.0</td>\n",
       "    </tr>\n",
       "    <tr>\n",
       "      <th>Bulk 4</th>\n",
       "      <td>1014.0</td>\n",
       "      <td>104.394477</td>\n",
       "      <td>48.184126</td>\n",
       "      <td>12.0</td>\n",
       "      <td>72.00</td>\n",
       "      <td>102.0</td>\n",
       "      <td>133.00</td>\n",
       "      <td>281.0</td>\n",
       "    </tr>\n",
       "    <tr>\n",
       "      <th>Bulk 5</th>\n",
       "      <td>77.0</td>\n",
       "      <td>107.025974</td>\n",
       "      <td>81.790646</td>\n",
       "      <td>11.0</td>\n",
       "      <td>70.00</td>\n",
       "      <td>86.0</td>\n",
       "      <td>132.00</td>\n",
       "      <td>603.0</td>\n",
       "    </tr>\n",
       "    <tr>\n",
       "      <th>Bulk 6</th>\n",
       "      <td>576.0</td>\n",
       "      <td>118.925347</td>\n",
       "      <td>72.057776</td>\n",
       "      <td>17.0</td>\n",
       "      <td>69.75</td>\n",
       "      <td>100.0</td>\n",
       "      <td>157.00</td>\n",
       "      <td>503.0</td>\n",
       "    </tr>\n",
       "    <tr>\n",
       "      <th>Bulk 7</th>\n",
       "      <td>25.0</td>\n",
       "      <td>305.600000</td>\n",
       "      <td>191.022904</td>\n",
       "      <td>47.0</td>\n",
       "      <td>155.00</td>\n",
       "      <td>298.0</td>\n",
       "      <td>406.00</td>\n",
       "      <td>772.0</td>\n",
       "    </tr>\n",
       "    <tr>\n",
       "      <th>Bulk 8</th>\n",
       "      <td>1.0</td>\n",
       "      <td>49.000000</td>\n",
       "      <td>NaN</td>\n",
       "      <td>49.0</td>\n",
       "      <td>49.00</td>\n",
       "      <td>49.0</td>\n",
       "      <td>49.00</td>\n",
       "      <td>49.0</td>\n",
       "    </tr>\n",
       "    <tr>\n",
       "      <th>Bulk 9</th>\n",
       "      <td>19.0</td>\n",
       "      <td>76.315789</td>\n",
       "      <td>21.720581</td>\n",
       "      <td>63.0</td>\n",
       "      <td>66.00</td>\n",
       "      <td>68.0</td>\n",
       "      <td>70.50</td>\n",
       "      <td>147.0</td>\n",
       "    </tr>\n",
       "    <tr>\n",
       "      <th>Bulk 10</th>\n",
       "      <td>176.0</td>\n",
       "      <td>83.284091</td>\n",
       "      <td>26.060347</td>\n",
       "      <td>24.0</td>\n",
       "      <td>64.00</td>\n",
       "      <td>86.5</td>\n",
       "      <td>102.00</td>\n",
       "      <td>159.0</td>\n",
       "    </tr>\n",
       "    <tr>\n",
       "      <th>Bulk 11</th>\n",
       "      <td>177.0</td>\n",
       "      <td>76.819209</td>\n",
       "      <td>59.655365</td>\n",
       "      <td>8.0</td>\n",
       "      <td>25.00</td>\n",
       "      <td>64.0</td>\n",
       "      <td>106.00</td>\n",
       "      <td>313.0</td>\n",
       "    </tr>\n",
       "    <tr>\n",
       "      <th>Bulk 12</th>\n",
       "      <td>2450.0</td>\n",
       "      <td>260.471020</td>\n",
       "      <td>120.649269</td>\n",
       "      <td>53.0</td>\n",
       "      <td>204.00</td>\n",
       "      <td>208.0</td>\n",
       "      <td>316.00</td>\n",
       "      <td>1849.0</td>\n",
       "    </tr>\n",
       "    <tr>\n",
       "      <th>Bulk 13</th>\n",
       "      <td>18.0</td>\n",
       "      <td>181.111111</td>\n",
       "      <td>46.088009</td>\n",
       "      <td>151.0</td>\n",
       "      <td>153.25</td>\n",
       "      <td>155.5</td>\n",
       "      <td>203.50</td>\n",
       "      <td>305.0</td>\n",
       "    </tr>\n",
       "    <tr>\n",
       "      <th>Bulk 14</th>\n",
       "      <td>2806.0</td>\n",
       "      <td>170.284747</td>\n",
       "      <td>65.868652</td>\n",
       "      <td>16.0</td>\n",
       "      <td>119.00</td>\n",
       "      <td>151.0</td>\n",
       "      <td>205.75</td>\n",
       "      <td>636.0</td>\n",
       "    </tr>\n",
       "    <tr>\n",
       "      <th>Bulk 15</th>\n",
       "      <td>2248.0</td>\n",
       "      <td>160.513345</td>\n",
       "      <td>51.765319</td>\n",
       "      <td>1.0</td>\n",
       "      <td>105.00</td>\n",
       "      <td>160.0</td>\n",
       "      <td>205.00</td>\n",
       "      <td>405.0</td>\n",
       "    </tr>\n",
       "  </tbody>\n",
       "</table>\n",
       "</div>"
      ],
      "text/plain": [
       "          count        mean         std    min     25%    50%     75%     max\n",
       "Bulk 1    252.0   39.242063   18.277654   10.0   27.00   31.0   46.00   185.0\n",
       "Bulk 2     22.0  253.045455   21.180578  228.0  242.00  251.5  257.75   325.0\n",
       "Bulk 3   1298.0  113.879045   75.483494    6.0   58.00   97.5  152.00   454.0\n",
       "Bulk 4   1014.0  104.394477   48.184126   12.0   72.00  102.0  133.00   281.0\n",
       "Bulk 5     77.0  107.025974   81.790646   11.0   70.00   86.0  132.00   603.0\n",
       "Bulk 6    576.0  118.925347   72.057776   17.0   69.75  100.0  157.00   503.0\n",
       "Bulk 7     25.0  305.600000  191.022904   47.0  155.00  298.0  406.00   772.0\n",
       "Bulk 8      1.0   49.000000         NaN   49.0   49.00   49.0   49.00    49.0\n",
       "Bulk 9     19.0   76.315789   21.720581   63.0   66.00   68.0   70.50   147.0\n",
       "Bulk 10   176.0   83.284091   26.060347   24.0   64.00   86.5  102.00   159.0\n",
       "Bulk 11   177.0   76.819209   59.655365    8.0   25.00   64.0  106.00   313.0\n",
       "Bulk 12  2450.0  260.471020  120.649269   53.0  204.00  208.0  316.00  1849.0\n",
       "Bulk 13    18.0  181.111111   46.088009  151.0  153.25  155.5  203.50   305.0\n",
       "Bulk 14  2806.0  170.284747   65.868652   16.0  119.00  151.0  205.75   636.0\n",
       "Bulk 15  2248.0  160.513345   51.765319    1.0  105.00  160.0  205.00   405.0"
      ]
     },
     "execution_count": 43,
     "metadata": {},
     "output_type": "execute_result"
    }
   ],
   "source": [
    "# Вывод основных статистик данных.\n",
    "df_bulk[df_bulk.columns[1:]].describe().T"
   ]
  },
  {
   "cell_type": "code",
   "execution_count": 44,
   "metadata": {
    "scrolled": false
   },
   "outputs": [
    {
     "data": {
      "image/png": "[encoded data removed]",
      "text/plain": [
       "<Figure size 1080x720 with 16 Axes>"
      ]
     },
     "metadata": {
      "needs_background": "light"
     },
     "output_type": "display_data"
    }
   ],
   "source": [
    "# Построение графиков распределения значений всех признаков.\n",
    "df_bulk[df_bulk.columns[1:]].hist(figsize=(15, 10));"
   ]
  },
  {
   "cell_type": "code",
   "execution_count": 45,
   "metadata": {},
   "outputs": [
    {
     "data": {
      "image/png": "[encoded data removed]",
      "text/plain": [
       "<Figure size 1080x360 with 1 Axes>"
      ]
     },
     "metadata": {
      "needs_background": "light"
     },
     "output_type": "display_data"
    }
   ],
   "source": [
    "# Диаграмма размаха признака \"Bulk 12\".\n",
    "\n",
    "plt.figure(figsize=(15, 5))\n",
    "\n",
    "sns.boxplot(data=df_bulk['Bulk 12'], orient='h')\n",
    "\n",
    "plt.title('Диаграмма размаха признака \"Bulk 12\"', fontdict={'size': 16});"
   ]
  },
  {
   "cell_type": "markdown",
   "metadata": {},
   "source": [
    "#### Признак \"key\""
   ]
  },
  {
   "cell_type": "code",
   "execution_count": 46,
   "metadata": {},
   "outputs": [
    {
     "data": {
      "text/plain": [
       "2049    1\n",
       "2612    1\n",
       "2588    1\n",
       "541     1\n",
       "2590    1\n",
       "543     1\n",
       "2592    1\n",
       "545     1\n",
       "2594    1\n",
       "547     1\n",
       "Name: key, dtype: int64"
      ]
     },
     "execution_count": 46,
     "metadata": {},
     "output_type": "execute_result"
    }
   ],
   "source": [
    "# Вывод количества записей о партиях.\n",
    "df_bulk['key'].value_counts().head(10)"
   ]
  },
  {
   "cell_type": "markdown",
   "metadata": {},
   "source": [
    "<div class=\"alert alert-success\" style=\"border-color: green; border-radius: 5px\">\n",
    "    <p><u><b>✅ КОММЕНТАРИЙ ТИМЛИДА</b></u></p>\n",
    "это не признак, его в модель не стоит вводить. Это просто набор чисел."
   ]
  },
  {
   "cell_type": "code",
   "execution_count": 47,
   "metadata": {},
   "outputs": [
    {
     "data": {
      "text/plain": [
       "3129"
      ]
     },
     "execution_count": 47,
     "metadata": {},
     "output_type": "execute_result"
    }
   ],
   "source": [
    "# Вывод количества уникальных партий.\n",
    "df_bulk['key'].nunique()"
   ]
  },
  {
   "cell_type": "markdown",
   "metadata": {},
   "source": [
    "#### Пропуски"
   ]
  },
  {
   "cell_type": "code",
   "execution_count": 48,
   "metadata": {},
   "outputs": [
    {
     "data": {
      "text/html": [
       "<div>\n",
       "<style scoped>\n",
       "    .dataframe tbody tr th:only-of-type {\n",
       "        vertical-align: middle;\n",
       "    }\n",
       "\n",
       "    .dataframe tbody tr th {\n",
       "        vertical-align: top;\n",
       "    }\n",
       "\n",
       "    .dataframe thead th {\n",
       "        text-align: right;\n",
       "    }\n",
       "</style>\n",
       "<table border=\"1\" class=\"dataframe\">\n",
       "  <thead>\n",
       "    <tr style=\"text-align: right;\">\n",
       "      <th></th>\n",
       "      <th>Количество объектов</th>\n",
       "      <th>Доля объектов</th>\n",
       "    </tr>\n",
       "  </thead>\n",
       "  <tbody>\n",
       "    <tr>\n",
       "      <th>11</th>\n",
       "      <td>1439</td>\n",
       "      <td>45.99%</td>\n",
       "    </tr>\n",
       "    <tr>\n",
       "      <th>10</th>\n",
       "      <td>510</td>\n",
       "      <td>16.30%</td>\n",
       "    </tr>\n",
       "    <tr>\n",
       "      <th>12</th>\n",
       "      <td>500</td>\n",
       "      <td>15.98%</td>\n",
       "    </tr>\n",
       "    <tr>\n",
       "      <th>13</th>\n",
       "      <td>312</td>\n",
       "      <td>9.97%</td>\n",
       "    </tr>\n",
       "    <tr>\n",
       "      <th>14</th>\n",
       "      <td>296</td>\n",
       "      <td>9.46%</td>\n",
       "    </tr>\n",
       "    <tr>\n",
       "      <th>9</th>\n",
       "      <td>71</td>\n",
       "      <td>2.27%</td>\n",
       "    </tr>\n",
       "    <tr>\n",
       "      <th>8</th>\n",
       "      <td>1</td>\n",
       "      <td>0.03%</td>\n",
       "    </tr>\n",
       "  </tbody>\n",
       "</table>\n",
       "</div>"
      ],
      "text/plain": [
       "    Количество объектов Доля объектов\n",
       "11                 1439        45.99%\n",
       "10                  510        16.30%\n",
       "12                  500        15.98%\n",
       "13                  312         9.97%\n",
       "14                  296         9.46%\n",
       "9                    71         2.27%\n",
       "8                     1         0.03%"
      ]
     },
     "execution_count": 48,
     "metadata": {},
     "output_type": "execute_result"
    }
   ],
   "source": [
    "# Вывод информации об объектах с пропусками.\n",
    "pd.DataFrame(\n",
    "    pd.concat([\n",
    "        df_bulk.isna().sum(1).value_counts(),\n",
    "        df_bulk.isna().sum(1).value_counts(normalize=True).apply(lambda x: f'{x:.2%}')\n",
    "    ], axis=1)\n",
    ").rename(columns={0: 'Количество объектов', 1: 'Доля объектов'})"
   ]
  },
  {
   "cell_type": "code",
   "execution_count": 49,
   "metadata": {},
   "outputs": [
    {
     "data": {
      "image/png": "[encoded data removed]",
      "text/plain": [
       "<Figure size 720x360 with 1 Axes>"
      ]
     },
     "metadata": {
      "needs_background": "light"
     },
     "output_type": "display_data"
    }
   ],
   "source": [
    "# График распределения объектов в зависимости от количества пропусков.\n",
    "plt.figure(figsize=(10, 5))\n",
    "\n",
    "sns.barplot(\n",
    "    x=[*df_bulk.isna().sum(1).value_counts().index],\n",
    "    y=[*df_bulk.isna().sum(1).value_counts().values]\n",
    ")\n",
    "\n",
    "plt.grid(axis='y')\n",
    "\n",
    "plt.title('График распределения объектов в зависимости от количества пропусков', fontdict={'size': 16})\n",
    "plt.xlabel('Количество пропусков', fontdict={'size': 14})\n",
    "plt.ylabel('Количество объектов', fontdict={'size': 14});"
   ]
  },
  {
   "cell_type": "markdown",
   "metadata": {},
   "source": [
    "#### Выводы"
   ]
  },
  {
   "cell_type": "markdown",
   "metadata": {},
   "source": [
    "В ходе анализа данных о подаче сыпучих материалов (объём) `data_bulk.csv` было установлено следующее:\n",
    "\n",
    "\n",
    "1. Данные содержат пропуски. Большинство объектов, чуть менее половины всей выборки, имеют 11 пропусков в 15 признаках. Остальные объекты имеют от 8 до 14 пропусков. Данные пропуски могут быть интерпретированы как отсутствие информации о подаче матриалов. Таким образом, пропуски могут быть заполнены нулевыми значениями.\n",
    "\n",
    "\n",
    "2. Количество уникальных номеров партий `key` равно количеству записей в датасете. Это значит, что каждая партия представлена одной строкой. Также разные партии имеют разное количество итераций подачи сыпучих материалов.\n",
    "\n",
    "\n",
    "3. Количество уникальных номеров партий `key` меньше, чем в данных об электродах. Это значит, что не для всех партий имеются данные о подаче сыпучих материалов.\n",
    "\n",
    "\n",
    "4. Анализ основных статистик и диаграммы размаха признака `df_bulk` позволил установить наличие выброса со значением 1849 единиц, что значительно отличается от основной массы объектов в данных."
   ]
  },
  {
   "cell_type": "markdown",
   "metadata": {},
   "source": [
    "<div class=\"alert alert-success\" style=\"border-color: green; border-radius: 5px\">\n",
    "    <p><u><b>✅ КОММЕНТАРИЙ ТИМЛИДА</b></u></p>\n",
    "С аналитикой понятно. Напомню, что кей - не бизнес-признак, его использовать не надо."
   ]
  },
  {
   "cell_type": "markdown",
   "metadata": {},
   "source": [
    "### Данные о подаче сыпучих материалов (время)"
   ]
  },
  {
   "cell_type": "code",
   "execution_count": 50,
   "metadata": {},
   "outputs": [],
   "source": [
    "# Загрузка данных о подаче сыпучих материалов (время).\n",
    "df_bulk_time = pd.read_csv(DATA_BULK_TIME)"
   ]
  },
  {
   "cell_type": "code",
   "execution_count": 51,
   "metadata": {},
   "outputs": [
    {
     "data": {
      "text/html": [
       "<div>\n",
       "<style scoped>\n",
       "    .dataframe tbody tr th:only-of-type {\n",
       "        vertical-align: middle;\n",
       "    }\n",
       "\n",
       "    .dataframe tbody tr th {\n",
       "        vertical-align: top;\n",
       "    }\n",
       "\n",
       "    .dataframe thead th {\n",
       "        text-align: right;\n",
       "    }\n",
       "</style>\n",
       "<table border=\"1\" class=\"dataframe\">\n",
       "  <thead>\n",
       "    <tr style=\"text-align: right;\">\n",
       "      <th></th>\n",
       "      <th>key</th>\n",
       "      <th>Bulk 1</th>\n",
       "      <th>Bulk 2</th>\n",
       "      <th>Bulk 3</th>\n",
       "      <th>Bulk 4</th>\n",
       "      <th>Bulk 5</th>\n",
       "      <th>Bulk 6</th>\n",
       "      <th>Bulk 7</th>\n",
       "      <th>Bulk 8</th>\n",
       "      <th>Bulk 9</th>\n",
       "      <th>Bulk 10</th>\n",
       "      <th>Bulk 11</th>\n",
       "      <th>Bulk 12</th>\n",
       "      <th>Bulk 13</th>\n",
       "      <th>Bulk 14</th>\n",
       "      <th>Bulk 15</th>\n",
       "    </tr>\n",
       "  </thead>\n",
       "  <tbody>\n",
       "    <tr>\n",
       "      <th>0</th>\n",
       "      <td>1</td>\n",
       "      <td>NaN</td>\n",
       "      <td>NaN</td>\n",
       "      <td>NaN</td>\n",
       "      <td>2019-05-03 11:21:30</td>\n",
       "      <td>NaN</td>\n",
       "      <td>NaN</td>\n",
       "      <td>NaN</td>\n",
       "      <td>NaN</td>\n",
       "      <td>NaN</td>\n",
       "      <td>NaN</td>\n",
       "      <td>NaN</td>\n",
       "      <td>2019-05-03 11:03:52</td>\n",
       "      <td>NaN</td>\n",
       "      <td>2019-05-03 11:03:52</td>\n",
       "      <td>2019-05-03 11:03:52</td>\n",
       "    </tr>\n",
       "    <tr>\n",
       "      <th>1</th>\n",
       "      <td>2</td>\n",
       "      <td>NaN</td>\n",
       "      <td>NaN</td>\n",
       "      <td>NaN</td>\n",
       "      <td>2019-05-03 11:46:38</td>\n",
       "      <td>NaN</td>\n",
       "      <td>NaN</td>\n",
       "      <td>NaN</td>\n",
       "      <td>NaN</td>\n",
       "      <td>NaN</td>\n",
       "      <td>NaN</td>\n",
       "      <td>NaN</td>\n",
       "      <td>2019-05-03 11:40:20</td>\n",
       "      <td>NaN</td>\n",
       "      <td>2019-05-03 11:40:20</td>\n",
       "      <td>2019-05-03 11:40:20</td>\n",
       "    </tr>\n",
       "    <tr>\n",
       "      <th>2</th>\n",
       "      <td>3</td>\n",
       "      <td>NaN</td>\n",
       "      <td>NaN</td>\n",
       "      <td>NaN</td>\n",
       "      <td>2019-05-03 12:31:06</td>\n",
       "      <td>NaN</td>\n",
       "      <td>NaN</td>\n",
       "      <td>NaN</td>\n",
       "      <td>NaN</td>\n",
       "      <td>NaN</td>\n",
       "      <td>NaN</td>\n",
       "      <td>NaN</td>\n",
       "      <td>2019-05-03 12:09:40</td>\n",
       "      <td>NaN</td>\n",
       "      <td>2019-05-03 12:09:40</td>\n",
       "      <td>2019-05-03 12:09:40</td>\n",
       "    </tr>\n",
       "    <tr>\n",
       "      <th>3</th>\n",
       "      <td>4</td>\n",
       "      <td>NaN</td>\n",
       "      <td>NaN</td>\n",
       "      <td>NaN</td>\n",
       "      <td>2019-05-03 12:48:43</td>\n",
       "      <td>NaN</td>\n",
       "      <td>NaN</td>\n",
       "      <td>NaN</td>\n",
       "      <td>NaN</td>\n",
       "      <td>NaN</td>\n",
       "      <td>NaN</td>\n",
       "      <td>NaN</td>\n",
       "      <td>2019-05-03 12:41:24</td>\n",
       "      <td>NaN</td>\n",
       "      <td>2019-05-03 12:41:24</td>\n",
       "      <td>2019-05-03 12:41:24</td>\n",
       "    </tr>\n",
       "    <tr>\n",
       "      <th>4</th>\n",
       "      <td>5</td>\n",
       "      <td>NaN</td>\n",
       "      <td>NaN</td>\n",
       "      <td>NaN</td>\n",
       "      <td>2019-05-03 13:18:50</td>\n",
       "      <td>NaN</td>\n",
       "      <td>NaN</td>\n",
       "      <td>NaN</td>\n",
       "      <td>NaN</td>\n",
       "      <td>NaN</td>\n",
       "      <td>NaN</td>\n",
       "      <td>NaN</td>\n",
       "      <td>2019-05-03 13:12:56</td>\n",
       "      <td>NaN</td>\n",
       "      <td>2019-05-03 13:12:56</td>\n",
       "      <td>2019-05-03 13:12:56</td>\n",
       "    </tr>\n",
       "  </tbody>\n",
       "</table>\n",
       "</div>"
      ],
      "text/plain": [
       "   key Bulk 1 Bulk 2 Bulk 3               Bulk 4 Bulk 5 Bulk 6 Bulk 7 Bulk 8  \\\n",
       "0    1    NaN    NaN    NaN  2019-05-03 11:21:30    NaN    NaN    NaN    NaN   \n",
       "1    2    NaN    NaN    NaN  2019-05-03 11:46:38    NaN    NaN    NaN    NaN   \n",
       "2    3    NaN    NaN    NaN  2019-05-03 12:31:06    NaN    NaN    NaN    NaN   \n",
       "3    4    NaN    NaN    NaN  2019-05-03 12:48:43    NaN    NaN    NaN    NaN   \n",
       "4    5    NaN    NaN    NaN  2019-05-03 13:18:50    NaN    NaN    NaN    NaN   \n",
       "\n",
       "  Bulk 9 Bulk 10 Bulk 11              Bulk 12 Bulk 13              Bulk 14  \\\n",
       "0    NaN     NaN     NaN  2019-05-03 11:03:52     NaN  2019-05-03 11:03:52   \n",
       "1    NaN     NaN     NaN  2019-05-03 11:40:20     NaN  2019-05-03 11:40:20   \n",
       "2    NaN     NaN     NaN  2019-05-03 12:09:40     NaN  2019-05-03 12:09:40   \n",
       "3    NaN     NaN     NaN  2019-05-03 12:41:24     NaN  2019-05-03 12:41:24   \n",
       "4    NaN     NaN     NaN  2019-05-03 13:12:56     NaN  2019-05-03 13:12:56   \n",
       "\n",
       "               Bulk 15  \n",
       "0  2019-05-03 11:03:52  \n",
       "1  2019-05-03 11:40:20  \n",
       "2  2019-05-03 12:09:40  \n",
       "3  2019-05-03 12:41:24  \n",
       "4  2019-05-03 13:12:56  "
      ]
     },
     "execution_count": 51,
     "metadata": {},
     "output_type": "execute_result"
    }
   ],
   "source": [
    "# Проверка: вывод первых пяти строк.\n",
    "df_bulk_time.head()"
   ]
  },
  {
   "cell_type": "code",
   "execution_count": 52,
   "metadata": {},
   "outputs": [],
   "source": [
    "# Приведение типов данных к datetime64.\n",
    "for column in df_bulk_time.columns[1:]:\n",
    "    df_bulk_time[column] = pd.to_datetime(df_bulk_time[column])"
   ]
  },
  {
   "cell_type": "code",
   "execution_count": 53,
   "metadata": {},
   "outputs": [
    {
     "name": "stdout",
     "output_type": "stream",
     "text": [
      "<class 'pandas.core.frame.DataFrame'>\n",
      "RangeIndex: 3129 entries, 0 to 3128\n",
      "Data columns (total 16 columns):\n",
      " #   Column   Non-Null Count  Dtype         \n",
      "---  ------   --------------  -----         \n",
      " 0   key      3129 non-null   int64         \n",
      " 1   Bulk 1   252 non-null    datetime64[ns]\n",
      " 2   Bulk 2   22 non-null     datetime64[ns]\n",
      " 3   Bulk 3   1298 non-null   datetime64[ns]\n",
      " 4   Bulk 4   1014 non-null   datetime64[ns]\n",
      " 5   Bulk 5   77 non-null     datetime64[ns]\n",
      " 6   Bulk 6   576 non-null    datetime64[ns]\n",
      " 7   Bulk 7   25 non-null     datetime64[ns]\n",
      " 8   Bulk 8   1 non-null      datetime64[ns]\n",
      " 9   Bulk 9   19 non-null     datetime64[ns]\n",
      " 10  Bulk 10  176 non-null    datetime64[ns]\n",
      " 11  Bulk 11  177 non-null    datetime64[ns]\n",
      " 12  Bulk 12  2450 non-null   datetime64[ns]\n",
      " 13  Bulk 13  18 non-null     datetime64[ns]\n",
      " 14  Bulk 14  2806 non-null   datetime64[ns]\n",
      " 15  Bulk 15  2248 non-null   datetime64[ns]\n",
      "dtypes: datetime64[ns](15), int64(1)\n",
      "memory usage: 391.2 KB\n"
     ]
    }
   ],
   "source": [
    "# Вывод общей информации о данных.\n",
    "df_bulk_time.info()"
   ]
  },
  {
   "cell_type": "code",
   "execution_count": 54,
   "metadata": {},
   "outputs": [
    {
     "data": {
      "text/plain": [
       "2307"
      ]
     },
     "execution_count": 54,
     "metadata": {},
     "output_type": "execute_result"
    }
   ],
   "source": [
    "# Количество объектов, где время 'Bulk 12' равно времени 'Bulk 14'.\n",
    "(df_bulk_time['Bulk 12'] == df_bulk_time['Bulk 14']).sum()"
   ]
  },
  {
   "cell_type": "code",
   "execution_count": 55,
   "metadata": {},
   "outputs": [
    {
     "data": {
      "text/plain": [
       "2153"
      ]
     },
     "execution_count": 55,
     "metadata": {},
     "output_type": "execute_result"
    }
   ],
   "source": [
    "# Количество объектов, где время 'Bulk 12' равно времени 'Bulk 15'.\n",
    "(df_bulk_time['Bulk 12'] == df_bulk_time['Bulk 15']).sum()"
   ]
  },
  {
   "cell_type": "code",
   "execution_count": 56,
   "metadata": {},
   "outputs": [
    {
     "data": {
      "text/plain": [
       "803"
      ]
     },
     "execution_count": 56,
     "metadata": {},
     "output_type": "execute_result"
    }
   ],
   "source": [
    "# Количество объектов, где время 'Bulk 4' больше времени 'Bulk 12'.\n",
    "(df_bulk_time['Bulk 4'] > df_bulk_time['Bulk 12']).sum()"
   ]
  },
  {
   "cell_type": "markdown",
   "metadata": {},
   "source": [
    "#### Выводы"
   ]
  },
  {
   "cell_type": "markdown",
   "metadata": {},
   "source": [
    "В ходе анализа данных о подаче сыпучих материалов (время) `data_bulk_time.csv` было установлено следующее:\n",
    "\n",
    "\n",
    "1. Данные содержат пропуски.\n",
    "\n",
    "\n",
    "2. Данные противоречивы: существенная часть записей имеет дублирующиеся значения признаков, а в некоторых случаях хронология нарушена.\n",
    "\n",
    "\n",
    "Таким образом, ценность данной ифнормации может быть поставлена под сомнение."
   ]
  },
  {
   "cell_type": "markdown",
   "metadata": {},
   "source": [
    "<div class=\"alert alert-success\" style=\"border-color: green; border-radius: 5px\">\n",
    "    <p><u><b>✅ КОММЕНТАРИЙ ТИМЛИДА</b></u></p>\n",
    "точно)"
   ]
  },
  {
   "cell_type": "markdown",
   "metadata": {},
   "source": [
    "### Данные о продувке сплава газом"
   ]
  },
  {
   "cell_type": "code",
   "execution_count": 57,
   "metadata": {},
   "outputs": [],
   "source": [
    "# Загрузка данных о подаче сыпучих материалов (время).\n",
    "df_gas = pd.read_csv(DATA_GAS)"
   ]
  },
  {
   "cell_type": "code",
   "execution_count": 58,
   "metadata": {},
   "outputs": [
    {
     "data": {
      "text/html": [
       "<div>\n",
       "<style scoped>\n",
       "    .dataframe tbody tr th:only-of-type {\n",
       "        vertical-align: middle;\n",
       "    }\n",
       "\n",
       "    .dataframe tbody tr th {\n",
       "        vertical-align: top;\n",
       "    }\n",
       "\n",
       "    .dataframe thead th {\n",
       "        text-align: right;\n",
       "    }\n",
       "</style>\n",
       "<table border=\"1\" class=\"dataframe\">\n",
       "  <thead>\n",
       "    <tr style=\"text-align: right;\">\n",
       "      <th></th>\n",
       "      <th>key</th>\n",
       "      <th>Газ 1</th>\n",
       "    </tr>\n",
       "  </thead>\n",
       "  <tbody>\n",
       "    <tr>\n",
       "      <th>0</th>\n",
       "      <td>1</td>\n",
       "      <td>29.749986</td>\n",
       "    </tr>\n",
       "    <tr>\n",
       "      <th>1</th>\n",
       "      <td>2</td>\n",
       "      <td>12.555561</td>\n",
       "    </tr>\n",
       "    <tr>\n",
       "      <th>2</th>\n",
       "      <td>3</td>\n",
       "      <td>28.554793</td>\n",
       "    </tr>\n",
       "    <tr>\n",
       "      <th>3</th>\n",
       "      <td>4</td>\n",
       "      <td>18.841219</td>\n",
       "    </tr>\n",
       "    <tr>\n",
       "      <th>4</th>\n",
       "      <td>5</td>\n",
       "      <td>5.413692</td>\n",
       "    </tr>\n",
       "  </tbody>\n",
       "</table>\n",
       "</div>"
      ],
      "text/plain": [
       "   key      Газ 1\n",
       "0    1  29.749986\n",
       "1    2  12.555561\n",
       "2    3  28.554793\n",
       "3    4  18.841219\n",
       "4    5   5.413692"
      ]
     },
     "execution_count": 58,
     "metadata": {},
     "output_type": "execute_result"
    }
   ],
   "source": [
    "# Проверка: вывод первых пяти строк.\n",
    "df_gas.head()"
   ]
  },
  {
   "cell_type": "code",
   "execution_count": 59,
   "metadata": {},
   "outputs": [
    {
     "name": "stdout",
     "output_type": "stream",
     "text": [
      "<class 'pandas.core.frame.DataFrame'>\n",
      "RangeIndex: 3239 entries, 0 to 3238\n",
      "Data columns (total 2 columns):\n",
      " #   Column  Non-Null Count  Dtype  \n",
      "---  ------  --------------  -----  \n",
      " 0   key     3239 non-null   int64  \n",
      " 1   Газ 1   3239 non-null   float64\n",
      "dtypes: float64(1), int64(1)\n",
      "memory usage: 50.7 KB\n"
     ]
    }
   ],
   "source": [
    "# Вывод общей информации о данных.\n",
    "df_gas.info()"
   ]
  },
  {
   "cell_type": "code",
   "execution_count": 60,
   "metadata": {},
   "outputs": [
    {
     "data": {
      "text/html": [
       "<div>\n",
       "<style scoped>\n",
       "    .dataframe tbody tr th:only-of-type {\n",
       "        vertical-align: middle;\n",
       "    }\n",
       "\n",
       "    .dataframe tbody tr th {\n",
       "        vertical-align: top;\n",
       "    }\n",
       "\n",
       "    .dataframe thead th {\n",
       "        text-align: right;\n",
       "    }\n",
       "</style>\n",
       "<table border=\"1\" class=\"dataframe\">\n",
       "  <thead>\n",
       "    <tr style=\"text-align: right;\">\n",
       "      <th></th>\n",
       "      <th>key</th>\n",
       "      <th>Газ 1</th>\n",
       "    </tr>\n",
       "  </thead>\n",
       "  <tbody>\n",
       "    <tr>\n",
       "      <th>count</th>\n",
       "      <td>3239.000000</td>\n",
       "      <td>3239.000000</td>\n",
       "    </tr>\n",
       "    <tr>\n",
       "      <th>mean</th>\n",
       "      <td>1621.861377</td>\n",
       "      <td>11.002062</td>\n",
       "    </tr>\n",
       "    <tr>\n",
       "      <th>std</th>\n",
       "      <td>935.386334</td>\n",
       "      <td>6.220327</td>\n",
       "    </tr>\n",
       "    <tr>\n",
       "      <th>min</th>\n",
       "      <td>1.000000</td>\n",
       "      <td>0.008399</td>\n",
       "    </tr>\n",
       "    <tr>\n",
       "      <th>25%</th>\n",
       "      <td>812.500000</td>\n",
       "      <td>7.043089</td>\n",
       "    </tr>\n",
       "    <tr>\n",
       "      <th>50%</th>\n",
       "      <td>1622.000000</td>\n",
       "      <td>9.836267</td>\n",
       "    </tr>\n",
       "    <tr>\n",
       "      <th>75%</th>\n",
       "      <td>2431.500000</td>\n",
       "      <td>13.769915</td>\n",
       "    </tr>\n",
       "    <tr>\n",
       "      <th>max</th>\n",
       "      <td>3241.000000</td>\n",
       "      <td>77.995040</td>\n",
       "    </tr>\n",
       "  </tbody>\n",
       "</table>\n",
       "</div>"
      ],
      "text/plain": [
       "               key        Газ 1\n",
       "count  3239.000000  3239.000000\n",
       "mean   1621.861377    11.002062\n",
       "std     935.386334     6.220327\n",
       "min       1.000000     0.008399\n",
       "25%     812.500000     7.043089\n",
       "50%    1622.000000     9.836267\n",
       "75%    2431.500000    13.769915\n",
       "max    3241.000000    77.995040"
      ]
     },
     "execution_count": 60,
     "metadata": {},
     "output_type": "execute_result"
    }
   ],
   "source": [
    "# Вывод основных статистик данных.\n",
    "df_gas.describe()"
   ]
  },
  {
   "cell_type": "markdown",
   "metadata": {},
   "source": [
    "#### Признак \"key\""
   ]
  },
  {
   "cell_type": "code",
   "execution_count": 61,
   "metadata": {
    "scrolled": true
   },
   "outputs": [
    {
     "data": {
      "text/plain": [
       "2049    1\n",
       "3135    1\n",
       "3115    1\n",
       "1070    1\n",
       "3119    1\n",
       "1074    1\n",
       "3123    1\n",
       "1078    1\n",
       "3127    1\n",
       "1082    1\n",
       "Name: key, dtype: int64"
      ]
     },
     "execution_count": 61,
     "metadata": {},
     "output_type": "execute_result"
    }
   ],
   "source": [
    "# Вывод количества записей о партиях.\n",
    "df_gas['key'].value_counts().head(10)"
   ]
  },
  {
   "cell_type": "code",
   "execution_count": 62,
   "metadata": {},
   "outputs": [
    {
     "data": {
      "text/plain": [
       "3239"
      ]
     },
     "execution_count": 62,
     "metadata": {},
     "output_type": "execute_result"
    }
   ],
   "source": [
    "# Вывод количества уникальных партий.\n",
    "df_gas['key'].nunique()"
   ]
  },
  {
   "cell_type": "markdown",
   "metadata": {},
   "source": [
    "#### Признак \"Газ 1\""
   ]
  },
  {
   "cell_type": "code",
   "execution_count": 63,
   "metadata": {
    "scrolled": true
   },
   "outputs": [
    {
     "data": {
      "image/png": "[encoded data removed]",
      "text/plain": [
       "<Figure size 1080x360 with 1 Axes>"
      ]
     },
     "metadata": {
      "needs_background": "light"
     },
     "output_type": "display_data"
    }
   ],
   "source": [
    "# Диаграмма размаха признака \"Газ 1\".\n",
    "\n",
    "plt.figure(figsize=(15, 5))\n",
    "\n",
    "sns.boxplot(data=df_gas['Газ 1'], orient='h')\n",
    "\n",
    "plt.title('Диаграмма размаха признака \"Газ 1\"', fontdict={'size': 16});"
   ]
  },
  {
   "cell_type": "code",
   "execution_count": 64,
   "metadata": {
    "scrolled": false
   },
   "outputs": [
    {
     "data": {
      "image/png": "[encoded data removed]",
      "text/plain": [
       "<Figure size 783.125x360 with 1 Axes>"
      ]
     },
     "metadata": {
      "needs_background": "light"
     },
     "output_type": "display_data"
    }
   ],
   "source": [
    "# График распределения признака \"Газ 1\".\n",
    "\n",
    "sns.displot(df_gas[['Газ 1']], aspect=2)\n",
    "\n",
    "plt.title('График распределения признака \"Газ 1\"', fontdict={'size': 16})\n",
    "plt.xlabel('Единицы измерения', fontdict={'size': 14})\n",
    "plt.ylabel('Количество объектов', fontdict={'size': 14});"
   ]
  },
  {
   "cell_type": "markdown",
   "metadata": {},
   "source": [
    "#### Выводы"
   ]
  },
  {
   "cell_type": "markdown",
   "metadata": {},
   "source": [
    "В ходе анализа данных о продувке сплава газом `data_gas.csv` было установлено следующее:\n",
    "\n",
    "\n",
    "1. Данные не содержат пропусков.\n",
    "\n",
    "\n",
    "2. Количество уникальных номеров партий `key` равно количеству записей в датасете. Это значит, что каждая партия представлена одной строкой.\n",
    "\n",
    "\n",
    "3. Количество уникальных номеров партий `key` превосходит аналогичный показатель у данных об электродах и сыпучих материалов. Это значит, что не все партии с газом будут востребованы.\n",
    "\n",
    "\n",
    "4. Диаграмма размаха признака `Газ 1` показала наличие выбросов. При этом вне границ наблюдаются сгруппированные значения до отметки 50 единиц. Данные значения соответствуют тенденции графика плавного убывания количества объектов с ростом единиц измерения. Также присутствуют разрозненные значения в интервале от 50 до 80 единиц измерения, которые малочисленны и сильно контрастируют на фоне основного скопления объектов. Данные значения являются выбросами."
   ]
  },
  {
   "cell_type": "markdown",
   "metadata": {},
   "source": [
    "<div class=\"alert alert-success\" style=\"border-color: green; border-radius: 5px\">\n",
    "    <p><u><b>✅ КОММЕНТАРИЙ ТИМЛИДА</b></u></p>\n",
    "тааааак, принято. (кроме кей))"
   ]
  },
  {
   "cell_type": "markdown",
   "metadata": {},
   "source": [
    "### Данные о проволочных материалах (объём)"
   ]
  },
  {
   "cell_type": "code",
   "execution_count": 65,
   "metadata": {},
   "outputs": [],
   "source": [
    "# Загрузка данных о проволочных материалах (объём).\n",
    "df_wire = pd.read_csv(DATA_WIRE)"
   ]
  },
  {
   "cell_type": "code",
   "execution_count": 66,
   "metadata": {},
   "outputs": [
    {
     "data": {
      "text/html": [
       "<div>\n",
       "<style scoped>\n",
       "    .dataframe tbody tr th:only-of-type {\n",
       "        vertical-align: middle;\n",
       "    }\n",
       "\n",
       "    .dataframe tbody tr th {\n",
       "        vertical-align: top;\n",
       "    }\n",
       "\n",
       "    .dataframe thead th {\n",
       "        text-align: right;\n",
       "    }\n",
       "</style>\n",
       "<table border=\"1\" class=\"dataframe\">\n",
       "  <thead>\n",
       "    <tr style=\"text-align: right;\">\n",
       "      <th></th>\n",
       "      <th>key</th>\n",
       "      <th>Wire 1</th>\n",
       "      <th>Wire 2</th>\n",
       "      <th>Wire 3</th>\n",
       "      <th>Wire 4</th>\n",
       "      <th>Wire 5</th>\n",
       "      <th>Wire 6</th>\n",
       "      <th>Wire 7</th>\n",
       "      <th>Wire 8</th>\n",
       "      <th>Wire 9</th>\n",
       "    </tr>\n",
       "  </thead>\n",
       "  <tbody>\n",
       "    <tr>\n",
       "      <th>0</th>\n",
       "      <td>1</td>\n",
       "      <td>60.059998</td>\n",
       "      <td>NaN</td>\n",
       "      <td>NaN</td>\n",
       "      <td>NaN</td>\n",
       "      <td>NaN</td>\n",
       "      <td>NaN</td>\n",
       "      <td>NaN</td>\n",
       "      <td>NaN</td>\n",
       "      <td>NaN</td>\n",
       "    </tr>\n",
       "    <tr>\n",
       "      <th>1</th>\n",
       "      <td>2</td>\n",
       "      <td>96.052315</td>\n",
       "      <td>NaN</td>\n",
       "      <td>NaN</td>\n",
       "      <td>NaN</td>\n",
       "      <td>NaN</td>\n",
       "      <td>NaN</td>\n",
       "      <td>NaN</td>\n",
       "      <td>NaN</td>\n",
       "      <td>NaN</td>\n",
       "    </tr>\n",
       "    <tr>\n",
       "      <th>2</th>\n",
       "      <td>3</td>\n",
       "      <td>91.160157</td>\n",
       "      <td>NaN</td>\n",
       "      <td>NaN</td>\n",
       "      <td>NaN</td>\n",
       "      <td>NaN</td>\n",
       "      <td>NaN</td>\n",
       "      <td>NaN</td>\n",
       "      <td>NaN</td>\n",
       "      <td>NaN</td>\n",
       "    </tr>\n",
       "    <tr>\n",
       "      <th>3</th>\n",
       "      <td>4</td>\n",
       "      <td>89.063515</td>\n",
       "      <td>NaN</td>\n",
       "      <td>NaN</td>\n",
       "      <td>NaN</td>\n",
       "      <td>NaN</td>\n",
       "      <td>NaN</td>\n",
       "      <td>NaN</td>\n",
       "      <td>NaN</td>\n",
       "      <td>NaN</td>\n",
       "    </tr>\n",
       "    <tr>\n",
       "      <th>4</th>\n",
       "      <td>5</td>\n",
       "      <td>89.238236</td>\n",
       "      <td>9.11456</td>\n",
       "      <td>NaN</td>\n",
       "      <td>NaN</td>\n",
       "      <td>NaN</td>\n",
       "      <td>NaN</td>\n",
       "      <td>NaN</td>\n",
       "      <td>NaN</td>\n",
       "      <td>NaN</td>\n",
       "    </tr>\n",
       "  </tbody>\n",
       "</table>\n",
       "</div>"
      ],
      "text/plain": [
       "   key     Wire 1   Wire 2  Wire 3  Wire 4  Wire 5  Wire 6  Wire 7  Wire 8  \\\n",
       "0    1  60.059998      NaN     NaN     NaN     NaN     NaN     NaN     NaN   \n",
       "1    2  96.052315      NaN     NaN     NaN     NaN     NaN     NaN     NaN   \n",
       "2    3  91.160157      NaN     NaN     NaN     NaN     NaN     NaN     NaN   \n",
       "3    4  89.063515      NaN     NaN     NaN     NaN     NaN     NaN     NaN   \n",
       "4    5  89.238236  9.11456     NaN     NaN     NaN     NaN     NaN     NaN   \n",
       "\n",
       "   Wire 9  \n",
       "0     NaN  \n",
       "1     NaN  \n",
       "2     NaN  \n",
       "3     NaN  \n",
       "4     NaN  "
      ]
     },
     "execution_count": 66,
     "metadata": {},
     "output_type": "execute_result"
    }
   ],
   "source": [
    "# Проверка: вывод первых пяти строк.\n",
    "df_wire.head()"
   ]
  },
  {
   "cell_type": "code",
   "execution_count": 67,
   "metadata": {},
   "outputs": [
    {
     "name": "stdout",
     "output_type": "stream",
     "text": [
      "<class 'pandas.core.frame.DataFrame'>\n",
      "RangeIndex: 3081 entries, 0 to 3080\n",
      "Data columns (total 10 columns):\n",
      " #   Column  Non-Null Count  Dtype  \n",
      "---  ------  --------------  -----  \n",
      " 0   key     3081 non-null   int64  \n",
      " 1   Wire 1  3055 non-null   float64\n",
      " 2   Wire 2  1079 non-null   float64\n",
      " 3   Wire 3  63 non-null     float64\n",
      " 4   Wire 4  14 non-null     float64\n",
      " 5   Wire 5  1 non-null      float64\n",
      " 6   Wire 6  73 non-null     float64\n",
      " 7   Wire 7  11 non-null     float64\n",
      " 8   Wire 8  19 non-null     float64\n",
      " 9   Wire 9  29 non-null     float64\n",
      "dtypes: float64(9), int64(1)\n",
      "memory usage: 240.8 KB\n"
     ]
    }
   ],
   "source": [
    "# Вывод общей информации о данных.\n",
    "df_wire.info()"
   ]
  },
  {
   "cell_type": "code",
   "execution_count": 68,
   "metadata": {},
   "outputs": [
    {
     "data": {
      "text/html": [
       "<div>\n",
       "<style scoped>\n",
       "    .dataframe tbody tr th:only-of-type {\n",
       "        vertical-align: middle;\n",
       "    }\n",
       "\n",
       "    .dataframe tbody tr th {\n",
       "        vertical-align: top;\n",
       "    }\n",
       "\n",
       "    .dataframe thead th {\n",
       "        text-align: right;\n",
       "    }\n",
       "</style>\n",
       "<table border=\"1\" class=\"dataframe\">\n",
       "  <thead>\n",
       "    <tr style=\"text-align: right;\">\n",
       "      <th></th>\n",
       "      <th>count</th>\n",
       "      <th>mean</th>\n",
       "      <th>std</th>\n",
       "      <th>min</th>\n",
       "      <th>25%</th>\n",
       "      <th>50%</th>\n",
       "      <th>75%</th>\n",
       "      <th>max</th>\n",
       "    </tr>\n",
       "  </thead>\n",
       "  <tbody>\n",
       "    <tr>\n",
       "      <th>Wire 1</th>\n",
       "      <td>3055.0</td>\n",
       "      <td>100.895853</td>\n",
       "      <td>42.012518</td>\n",
       "      <td>1.918800</td>\n",
       "      <td>72.115684</td>\n",
       "      <td>100.158234</td>\n",
       "      <td>126.060483</td>\n",
       "      <td>330.314424</td>\n",
       "    </tr>\n",
       "    <tr>\n",
       "      <th>Wire 2</th>\n",
       "      <td>1079.0</td>\n",
       "      <td>50.577323</td>\n",
       "      <td>39.320216</td>\n",
       "      <td>0.030160</td>\n",
       "      <td>20.193680</td>\n",
       "      <td>40.142956</td>\n",
       "      <td>70.227558</td>\n",
       "      <td>282.780152</td>\n",
       "    </tr>\n",
       "    <tr>\n",
       "      <th>Wire 3</th>\n",
       "      <td>63.0</td>\n",
       "      <td>189.482681</td>\n",
       "      <td>99.513444</td>\n",
       "      <td>0.144144</td>\n",
       "      <td>95.135044</td>\n",
       "      <td>235.194977</td>\n",
       "      <td>276.252014</td>\n",
       "      <td>385.008668</td>\n",
       "    </tr>\n",
       "    <tr>\n",
       "      <th>Wire 4</th>\n",
       "      <td>14.0</td>\n",
       "      <td>57.442841</td>\n",
       "      <td>28.824667</td>\n",
       "      <td>24.148801</td>\n",
       "      <td>40.807002</td>\n",
       "      <td>45.234282</td>\n",
       "      <td>76.124619</td>\n",
       "      <td>113.231044</td>\n",
       "    </tr>\n",
       "    <tr>\n",
       "      <th>Wire 5</th>\n",
       "      <td>1.0</td>\n",
       "      <td>15.132000</td>\n",
       "      <td>NaN</td>\n",
       "      <td>15.132000</td>\n",
       "      <td>15.132000</td>\n",
       "      <td>15.132000</td>\n",
       "      <td>15.132000</td>\n",
       "      <td>15.132000</td>\n",
       "    </tr>\n",
       "    <tr>\n",
       "      <th>Wire 6</th>\n",
       "      <td>73.0</td>\n",
       "      <td>48.016974</td>\n",
       "      <td>33.919845</td>\n",
       "      <td>0.034320</td>\n",
       "      <td>25.053600</td>\n",
       "      <td>42.076324</td>\n",
       "      <td>64.212723</td>\n",
       "      <td>180.454575</td>\n",
       "    </tr>\n",
       "    <tr>\n",
       "      <th>Wire 7</th>\n",
       "      <td>11.0</td>\n",
       "      <td>10.039007</td>\n",
       "      <td>8.610584</td>\n",
       "      <td>0.234208</td>\n",
       "      <td>6.762756</td>\n",
       "      <td>9.017009</td>\n",
       "      <td>11.886057</td>\n",
       "      <td>32.847674</td>\n",
       "    </tr>\n",
       "    <tr>\n",
       "      <th>Wire 8</th>\n",
       "      <td>19.0</td>\n",
       "      <td>53.625193</td>\n",
       "      <td>16.881728</td>\n",
       "      <td>45.076721</td>\n",
       "      <td>46.094879</td>\n",
       "      <td>46.279999</td>\n",
       "      <td>48.089603</td>\n",
       "      <td>102.762401</td>\n",
       "    </tr>\n",
       "    <tr>\n",
       "      <th>Wire 9</th>\n",
       "      <td>29.0</td>\n",
       "      <td>34.155752</td>\n",
       "      <td>19.931616</td>\n",
       "      <td>4.622800</td>\n",
       "      <td>22.058401</td>\n",
       "      <td>30.066399</td>\n",
       "      <td>43.862003</td>\n",
       "      <td>90.053604</td>\n",
       "    </tr>\n",
       "  </tbody>\n",
       "</table>\n",
       "</div>"
      ],
      "text/plain": [
       "         count        mean        std        min        25%         50%  \\\n",
       "Wire 1  3055.0  100.895853  42.012518   1.918800  72.115684  100.158234   \n",
       "Wire 2  1079.0   50.577323  39.320216   0.030160  20.193680   40.142956   \n",
       "Wire 3    63.0  189.482681  99.513444   0.144144  95.135044  235.194977   \n",
       "Wire 4    14.0   57.442841  28.824667  24.148801  40.807002   45.234282   \n",
       "Wire 5     1.0   15.132000        NaN  15.132000  15.132000   15.132000   \n",
       "Wire 6    73.0   48.016974  33.919845   0.034320  25.053600   42.076324   \n",
       "Wire 7    11.0   10.039007   8.610584   0.234208   6.762756    9.017009   \n",
       "Wire 8    19.0   53.625193  16.881728  45.076721  46.094879   46.279999   \n",
       "Wire 9    29.0   34.155752  19.931616   4.622800  22.058401   30.066399   \n",
       "\n",
       "               75%         max  \n",
       "Wire 1  126.060483  330.314424  \n",
       "Wire 2   70.227558  282.780152  \n",
       "Wire 3  276.252014  385.008668  \n",
       "Wire 4   76.124619  113.231044  \n",
       "Wire 5   15.132000   15.132000  \n",
       "Wire 6   64.212723  180.454575  \n",
       "Wire 7   11.886057   32.847674  \n",
       "Wire 8   48.089603  102.762401  \n",
       "Wire 9   43.862003   90.053604  "
      ]
     },
     "execution_count": 68,
     "metadata": {},
     "output_type": "execute_result"
    }
   ],
   "source": [
    "# Вывод основных статистик данных.\n",
    "df_wire[df_wire.columns[1:]].describe().T"
   ]
  },
  {
   "cell_type": "code",
   "execution_count": 69,
   "metadata": {},
   "outputs": [
    {
     "data": {
      "image/png": "[encoded data removed]",
      "text/plain": [
       "<Figure size 1080x720 with 9 Axes>"
      ]
     },
     "metadata": {
      "needs_background": "light"
     },
     "output_type": "display_data"
    }
   ],
   "source": [
    "# Построение графиков распределения значений всех признаков.\n",
    "df_wire[df_wire.columns[1:]].hist(figsize=(15, 10));"
   ]
  },
  {
   "cell_type": "markdown",
   "metadata": {},
   "source": [
    "#### Признак \"key\""
   ]
  },
  {
   "cell_type": "code",
   "execution_count": 70,
   "metadata": {
    "scrolled": true
   },
   "outputs": [
    {
     "data": {
      "text/plain": [
       "2049    1\n",
       "2664    1\n",
       "2590    1\n",
       "543     1\n",
       "2592    1\n",
       "545     1\n",
       "2594    1\n",
       "547     1\n",
       "2596    1\n",
       "549     1\n",
       "Name: key, dtype: int64"
      ]
     },
     "execution_count": 70,
     "metadata": {},
     "output_type": "execute_result"
    }
   ],
   "source": [
    "# Вывод количества записей о партиях.\n",
    "df_wire['key'].value_counts().head(10)"
   ]
  },
  {
   "cell_type": "code",
   "execution_count": 71,
   "metadata": {},
   "outputs": [
    {
     "data": {
      "text/plain": [
       "3081"
      ]
     },
     "execution_count": 71,
     "metadata": {},
     "output_type": "execute_result"
    }
   ],
   "source": [
    "# Вывод количества уникальных партий.\n",
    "df_wire['key'].nunique()"
   ]
  },
  {
   "cell_type": "markdown",
   "metadata": {},
   "source": [
    "#### Пропуски"
   ]
  },
  {
   "cell_type": "code",
   "execution_count": 72,
   "metadata": {},
   "outputs": [
    {
     "data": {
      "text/html": [
       "<div>\n",
       "<style scoped>\n",
       "    .dataframe tbody tr th:only-of-type {\n",
       "        vertical-align: middle;\n",
       "    }\n",
       "\n",
       "    .dataframe tbody tr th {\n",
       "        vertical-align: top;\n",
       "    }\n",
       "\n",
       "    .dataframe thead th {\n",
       "        text-align: right;\n",
       "    }\n",
       "</style>\n",
       "<table border=\"1\" class=\"dataframe\">\n",
       "  <thead>\n",
       "    <tr style=\"text-align: right;\">\n",
       "      <th></th>\n",
       "      <th>Количество объектов</th>\n",
       "      <th>Доля объектов</th>\n",
       "    </tr>\n",
       "  </thead>\n",
       "  <tbody>\n",
       "    <tr>\n",
       "      <th>8</th>\n",
       "      <td>1936</td>\n",
       "      <td>62.84%</td>\n",
       "    </tr>\n",
       "    <tr>\n",
       "      <th>7</th>\n",
       "      <td>1045</td>\n",
       "      <td>33.92%</td>\n",
       "    </tr>\n",
       "    <tr>\n",
       "      <th>6</th>\n",
       "      <td>88</td>\n",
       "      <td>2.86%</td>\n",
       "    </tr>\n",
       "    <tr>\n",
       "      <th>4</th>\n",
       "      <td>6</td>\n",
       "      <td>0.19%</td>\n",
       "    </tr>\n",
       "    <tr>\n",
       "      <th>5</th>\n",
       "      <td>6</td>\n",
       "      <td>0.19%</td>\n",
       "    </tr>\n",
       "  </tbody>\n",
       "</table>\n",
       "</div>"
      ],
      "text/plain": [
       "   Количество объектов Доля объектов\n",
       "8                 1936        62.84%\n",
       "7                 1045        33.92%\n",
       "6                   88         2.86%\n",
       "4                    6         0.19%\n",
       "5                    6         0.19%"
      ]
     },
     "execution_count": 72,
     "metadata": {},
     "output_type": "execute_result"
    }
   ],
   "source": [
    "# Вывод информации об объектах с пропусками.\n",
    "pd.DataFrame(\n",
    "    pd.concat([\n",
    "        df_wire.isna().sum(1).value_counts(),\n",
    "        df_wire.isna().sum(1).value_counts(normalize=True).apply(lambda x: f'{x:.2%}')\n",
    "    ], axis=1)\n",
    ").rename(columns={0: 'Количество объектов', 1: 'Доля объектов'})"
   ]
  },
  {
   "cell_type": "code",
   "execution_count": 73,
   "metadata": {},
   "outputs": [
    {
     "data": {
      "image/png": "[encoded data removed]",
      "text/plain": [
       "<Figure size 720x360 with 1 Axes>"
      ]
     },
     "metadata": {
      "needs_background": "light"
     },
     "output_type": "display_data"
    }
   ],
   "source": [
    "# График распределения объектов в зависимости от количества пропусков.\n",
    "plt.figure(figsize=(10, 5))\n",
    "\n",
    "sns.barplot(\n",
    "    x=[*df_wire.isna().sum(1).value_counts().index],\n",
    "    y=[*df_wire.isna().sum(1).value_counts().values]\n",
    ")\n",
    "\n",
    "plt.grid(axis='y')\n",
    "\n",
    "plt.title('График распределения объектов в зависимости от количества пропусков', fontdict={'size': 16})\n",
    "plt.xlabel('Количество пропусков', fontdict={'size': 14})\n",
    "plt.ylabel('Количество объектов', fontdict={'size': 14});"
   ]
  },
  {
   "cell_type": "markdown",
   "metadata": {},
   "source": [
    "#### Выводы"
   ]
  },
  {
   "cell_type": "markdown",
   "metadata": {},
   "source": [
    "В ходе анализа данных о проволочных материалах (объём) `data_wire.csv` было установлено следующее:\n",
    "\n",
    "\n",
    "1. Данные содержат пропуски. Большинство объектов, чуть менее двух третей всей выборки, имеют 8 пропусков в 9 признаках. Остальные объекты имеют от 4 до 7 пропусков. Данные пропуски могут быть интерпретированы как отсутствие информации о подаче матриалов. Таким образом, пропуски могут быть заполнены нулевыми значениями.\n",
    "\n",
    "\n",
    "2. Количество уникальных номеров партий `key` равно количеству записей в датасете. Это значит, что каждая партия представлена одной строкой. Также разные партии имеют разное количество итераций подачи проволочных материалов.\n",
    "\n",
    "\n",
    "3. Количество уникальных номеров партий `key` меньше, чем в данных об электродах, подаче сыпучих материалов и продувке сплава газом. Это значит, что не для всех партий имеются данные о подаче проволочных материалов."
   ]
  },
  {
   "cell_type": "markdown",
   "metadata": {},
   "source": [
    "### Данные о проволочных материалах (время)"
   ]
  },
  {
   "cell_type": "code",
   "execution_count": 74,
   "metadata": {},
   "outputs": [],
   "source": [
    "# Загрузка данных о проволочных материалах (объём).\n",
    "df_wire_time = pd.read_csv(DATA_WIRE_TIME)"
   ]
  },
  {
   "cell_type": "code",
   "execution_count": 75,
   "metadata": {},
   "outputs": [
    {
     "data": {
      "text/html": [
       "<div>\n",
       "<style scoped>\n",
       "    .dataframe tbody tr th:only-of-type {\n",
       "        vertical-align: middle;\n",
       "    }\n",
       "\n",
       "    .dataframe tbody tr th {\n",
       "        vertical-align: top;\n",
       "    }\n",
       "\n",
       "    .dataframe thead th {\n",
       "        text-align: right;\n",
       "    }\n",
       "</style>\n",
       "<table border=\"1\" class=\"dataframe\">\n",
       "  <thead>\n",
       "    <tr style=\"text-align: right;\">\n",
       "      <th></th>\n",
       "      <th>key</th>\n",
       "      <th>Wire 1</th>\n",
       "      <th>Wire 2</th>\n",
       "      <th>Wire 3</th>\n",
       "      <th>Wire 4</th>\n",
       "      <th>Wire 5</th>\n",
       "      <th>Wire 6</th>\n",
       "      <th>Wire 7</th>\n",
       "      <th>Wire 8</th>\n",
       "      <th>Wire 9</th>\n",
       "    </tr>\n",
       "  </thead>\n",
       "  <tbody>\n",
       "    <tr>\n",
       "      <th>0</th>\n",
       "      <td>1</td>\n",
       "      <td>2019-05-03 11:11:41</td>\n",
       "      <td>NaN</td>\n",
       "      <td>NaN</td>\n",
       "      <td>NaN</td>\n",
       "      <td>NaN</td>\n",
       "      <td>NaN</td>\n",
       "      <td>NaN</td>\n",
       "      <td>NaN</td>\n",
       "      <td>NaN</td>\n",
       "    </tr>\n",
       "    <tr>\n",
       "      <th>1</th>\n",
       "      <td>2</td>\n",
       "      <td>2019-05-03 11:46:10</td>\n",
       "      <td>NaN</td>\n",
       "      <td>NaN</td>\n",
       "      <td>NaN</td>\n",
       "      <td>NaN</td>\n",
       "      <td>NaN</td>\n",
       "      <td>NaN</td>\n",
       "      <td>NaN</td>\n",
       "      <td>NaN</td>\n",
       "    </tr>\n",
       "    <tr>\n",
       "      <th>2</th>\n",
       "      <td>3</td>\n",
       "      <td>2019-05-03 12:13:47</td>\n",
       "      <td>NaN</td>\n",
       "      <td>NaN</td>\n",
       "      <td>NaN</td>\n",
       "      <td>NaN</td>\n",
       "      <td>NaN</td>\n",
       "      <td>NaN</td>\n",
       "      <td>NaN</td>\n",
       "      <td>NaN</td>\n",
       "    </tr>\n",
       "    <tr>\n",
       "      <th>3</th>\n",
       "      <td>4</td>\n",
       "      <td>2019-05-03 12:48:05</td>\n",
       "      <td>NaN</td>\n",
       "      <td>NaN</td>\n",
       "      <td>NaN</td>\n",
       "      <td>NaN</td>\n",
       "      <td>NaN</td>\n",
       "      <td>NaN</td>\n",
       "      <td>NaN</td>\n",
       "      <td>NaN</td>\n",
       "    </tr>\n",
       "    <tr>\n",
       "      <th>4</th>\n",
       "      <td>5</td>\n",
       "      <td>2019-05-03 13:18:15</td>\n",
       "      <td>2019-05-03 13:32:06</td>\n",
       "      <td>NaN</td>\n",
       "      <td>NaN</td>\n",
       "      <td>NaN</td>\n",
       "      <td>NaN</td>\n",
       "      <td>NaN</td>\n",
       "      <td>NaN</td>\n",
       "      <td>NaN</td>\n",
       "    </tr>\n",
       "  </tbody>\n",
       "</table>\n",
       "</div>"
      ],
      "text/plain": [
       "   key               Wire 1               Wire 2 Wire 3 Wire 4 Wire 5 Wire 6  \\\n",
       "0    1  2019-05-03 11:11:41                  NaN    NaN    NaN    NaN    NaN   \n",
       "1    2  2019-05-03 11:46:10                  NaN    NaN    NaN    NaN    NaN   \n",
       "2    3  2019-05-03 12:13:47                  NaN    NaN    NaN    NaN    NaN   \n",
       "3    4  2019-05-03 12:48:05                  NaN    NaN    NaN    NaN    NaN   \n",
       "4    5  2019-05-03 13:18:15  2019-05-03 13:32:06    NaN    NaN    NaN    NaN   \n",
       "\n",
       "  Wire 7 Wire 8 Wire 9  \n",
       "0    NaN    NaN    NaN  \n",
       "1    NaN    NaN    NaN  \n",
       "2    NaN    NaN    NaN  \n",
       "3    NaN    NaN    NaN  \n",
       "4    NaN    NaN    NaN  "
      ]
     },
     "execution_count": 75,
     "metadata": {},
     "output_type": "execute_result"
    }
   ],
   "source": [
    "# Проверка: вывод первых пяти строк.\n",
    "df_wire_time.head()"
   ]
  },
  {
   "cell_type": "code",
   "execution_count": 76,
   "metadata": {},
   "outputs": [],
   "source": [
    "# Приведение типов данных к datetime64.\n",
    "for column in df_wire_time.columns[1:]:\n",
    "    df_wire_time[column] = pd.to_datetime(df_wire_time[column])"
   ]
  },
  {
   "cell_type": "code",
   "execution_count": 77,
   "metadata": {},
   "outputs": [
    {
     "name": "stdout",
     "output_type": "stream",
     "text": [
      "<class 'pandas.core.frame.DataFrame'>\n",
      "RangeIndex: 3081 entries, 0 to 3080\n",
      "Data columns (total 10 columns):\n",
      " #   Column  Non-Null Count  Dtype         \n",
      "---  ------  --------------  -----         \n",
      " 0   key     3081 non-null   int64         \n",
      " 1   Wire 1  3055 non-null   datetime64[ns]\n",
      " 2   Wire 2  1079 non-null   datetime64[ns]\n",
      " 3   Wire 3  63 non-null     datetime64[ns]\n",
      " 4   Wire 4  14 non-null     datetime64[ns]\n",
      " 5   Wire 5  1 non-null      datetime64[ns]\n",
      " 6   Wire 6  73 non-null     datetime64[ns]\n",
      " 7   Wire 7  11 non-null     datetime64[ns]\n",
      " 8   Wire 8  19 non-null     datetime64[ns]\n",
      " 9   Wire 9  29 non-null     datetime64[ns]\n",
      "dtypes: datetime64[ns](9), int64(1)\n",
      "memory usage: 240.8 KB\n"
     ]
    }
   ],
   "source": [
    "# Вывод общей информации о данных.\n",
    "df_wire_time.info()"
   ]
  },
  {
   "cell_type": "code",
   "execution_count": 78,
   "metadata": {},
   "outputs": [
    {
     "data": {
      "text/plain": [
       "25"
      ]
     },
     "execution_count": 78,
     "metadata": {},
     "output_type": "execute_result"
    }
   ],
   "source": [
    "# Количество объектов, где время 'Bulk 12' равно времени 'Bulk 14'.\n",
    "(df_wire_time['Wire 1'] >= df_wire_time['Wire 2']).sum()"
   ]
  },
  {
   "cell_type": "markdown",
   "metadata": {},
   "source": [
    "#### Выводы"
   ]
  },
  {
   "cell_type": "markdown",
   "metadata": {},
   "source": [
    "В ходе анализа данных о проволочных материалах (время) `data_wire_time.csv` было установлено следующее:\n",
    "\n",
    "\n",
    "1. Данные содержат пропуски.\n",
    "\n",
    "\n",
    "2. Часть данных противоречива: в некоторых случаях хронология нарушена.\n",
    "\n",
    "\n",
    "В большинстве случаев, две трети объектов всей выборки, указана только одна дата и время. Также в большинстве случаев номер признака отражает хронологию подачи материалов. Данные обстоятельства ставят под сомнение полезность данных о времени подачи материалов."
   ]
  },
  {
   "cell_type": "markdown",
   "metadata": {},
   "source": [
    "### Данные о результатах измерения температуры"
   ]
  },
  {
   "cell_type": "code",
   "execution_count": 79,
   "metadata": {},
   "outputs": [],
   "source": [
    "# Загрузка данных о результатах измерения температуры.\n",
    "df_temp = pd.read_csv(DATA_TEMP)"
   ]
  },
  {
   "cell_type": "code",
   "execution_count": 80,
   "metadata": {},
   "outputs": [
    {
     "data": {
      "text/html": [
       "<div>\n",
       "<style scoped>\n",
       "    .dataframe tbody tr th:only-of-type {\n",
       "        vertical-align: middle;\n",
       "    }\n",
       "\n",
       "    .dataframe tbody tr th {\n",
       "        vertical-align: top;\n",
       "    }\n",
       "\n",
       "    .dataframe thead th {\n",
       "        text-align: right;\n",
       "    }\n",
       "</style>\n",
       "<table border=\"1\" class=\"dataframe\">\n",
       "  <thead>\n",
       "    <tr style=\"text-align: right;\">\n",
       "      <th></th>\n",
       "      <th>key</th>\n",
       "      <th>Время замера</th>\n",
       "      <th>Температура</th>\n",
       "    </tr>\n",
       "  </thead>\n",
       "  <tbody>\n",
       "    <tr>\n",
       "      <th>0</th>\n",
       "      <td>1</td>\n",
       "      <td>2019-05-03 11:16:18</td>\n",
       "      <td>1571.0</td>\n",
       "    </tr>\n",
       "    <tr>\n",
       "      <th>1</th>\n",
       "      <td>1</td>\n",
       "      <td>2019-05-03 11:25:53</td>\n",
       "      <td>1604.0</td>\n",
       "    </tr>\n",
       "    <tr>\n",
       "      <th>2</th>\n",
       "      <td>1</td>\n",
       "      <td>2019-05-03 11:29:11</td>\n",
       "      <td>1618.0</td>\n",
       "    </tr>\n",
       "    <tr>\n",
       "      <th>3</th>\n",
       "      <td>1</td>\n",
       "      <td>2019-05-03 11:30:01</td>\n",
       "      <td>1601.0</td>\n",
       "    </tr>\n",
       "    <tr>\n",
       "      <th>4</th>\n",
       "      <td>1</td>\n",
       "      <td>2019-05-03 11:30:39</td>\n",
       "      <td>1613.0</td>\n",
       "    </tr>\n",
       "  </tbody>\n",
       "</table>\n",
       "</div>"
      ],
      "text/plain": [
       "   key         Время замера  Температура\n",
       "0    1  2019-05-03 11:16:18       1571.0\n",
       "1    1  2019-05-03 11:25:53       1604.0\n",
       "2    1  2019-05-03 11:29:11       1618.0\n",
       "3    1  2019-05-03 11:30:01       1601.0\n",
       "4    1  2019-05-03 11:30:39       1613.0"
      ]
     },
     "execution_count": 80,
     "metadata": {},
     "output_type": "execute_result"
    }
   ],
   "source": [
    "# Проверка: вывод первых пяти строк.\n",
    "df_temp.head()"
   ]
  },
  {
   "cell_type": "code",
   "execution_count": 81,
   "metadata": {},
   "outputs": [],
   "source": [
    "# Приведение типов данных к datetime64.\n",
    "df_temp['Время замера'] = pd.to_datetime(df_temp['Время замера'])"
   ]
  },
  {
   "cell_type": "code",
   "execution_count": 82,
   "metadata": {},
   "outputs": [
    {
     "name": "stdout",
     "output_type": "stream",
     "text": [
      "<class 'pandas.core.frame.DataFrame'>\n",
      "RangeIndex: 15907 entries, 0 to 15906\n",
      "Data columns (total 3 columns):\n",
      " #   Column        Non-Null Count  Dtype         \n",
      "---  ------        --------------  -----         \n",
      " 0   key           15907 non-null  int64         \n",
      " 1   Время замера  15907 non-null  datetime64[ns]\n",
      " 2   Температура   13006 non-null  float64       \n",
      "dtypes: datetime64[ns](1), float64(1), int64(1)\n",
      "memory usage: 372.9 KB\n"
     ]
    }
   ],
   "source": [
    "# Вывод общей информации о данных.\n",
    "df_temp.info()"
   ]
  },
  {
   "cell_type": "code",
   "execution_count": 83,
   "metadata": {},
   "outputs": [
    {
     "data": {
      "text/html": [
       "<div>\n",
       "<style scoped>\n",
       "    .dataframe tbody tr th:only-of-type {\n",
       "        vertical-align: middle;\n",
       "    }\n",
       "\n",
       "    .dataframe tbody tr th {\n",
       "        vertical-align: top;\n",
       "    }\n",
       "\n",
       "    .dataframe thead th {\n",
       "        text-align: right;\n",
       "    }\n",
       "</style>\n",
       "<table border=\"1\" class=\"dataframe\">\n",
       "  <thead>\n",
       "    <tr style=\"text-align: right;\">\n",
       "      <th></th>\n",
       "      <th>Температура</th>\n",
       "    </tr>\n",
       "  </thead>\n",
       "  <tbody>\n",
       "    <tr>\n",
       "      <th>count</th>\n",
       "      <td>13006.000000</td>\n",
       "    </tr>\n",
       "    <tr>\n",
       "      <th>mean</th>\n",
       "      <td>1591.840920</td>\n",
       "    </tr>\n",
       "    <tr>\n",
       "      <th>std</th>\n",
       "      <td>21.375851</td>\n",
       "    </tr>\n",
       "    <tr>\n",
       "      <th>min</th>\n",
       "      <td>1191.000000</td>\n",
       "    </tr>\n",
       "    <tr>\n",
       "      <th>25%</th>\n",
       "      <td>1581.000000</td>\n",
       "    </tr>\n",
       "    <tr>\n",
       "      <th>50%</th>\n",
       "      <td>1591.000000</td>\n",
       "    </tr>\n",
       "    <tr>\n",
       "      <th>75%</th>\n",
       "      <td>1601.000000</td>\n",
       "    </tr>\n",
       "    <tr>\n",
       "      <th>max</th>\n",
       "      <td>1705.000000</td>\n",
       "    </tr>\n",
       "  </tbody>\n",
       "</table>\n",
       "</div>"
      ],
      "text/plain": [
       "        Температура\n",
       "count  13006.000000\n",
       "mean    1591.840920\n",
       "std       21.375851\n",
       "min     1191.000000\n",
       "25%     1581.000000\n",
       "50%     1591.000000\n",
       "75%     1601.000000\n",
       "max     1705.000000"
      ]
     },
     "execution_count": 83,
     "metadata": {},
     "output_type": "execute_result"
    }
   ],
   "source": [
    "# Вывод основных статистик данных.\n",
    "df_temp[df_temp.columns[1:]].describe()"
   ]
  },
  {
   "cell_type": "markdown",
   "metadata": {},
   "source": [
    "#### Признак \"key\""
   ]
  },
  {
   "cell_type": "code",
   "execution_count": 84,
   "metadata": {
    "scrolled": true
   },
   "outputs": [
    {
     "data": {
      "text/plain": [
       "46      16\n",
       "1214    16\n",
       "1513    16\n",
       "44      16\n",
       "1689    15\n",
       "2108    15\n",
       "877     14\n",
       "1051    13\n",
       "2770    13\n",
       "2567    13\n",
       "Name: key, dtype: int64"
      ]
     },
     "execution_count": 84,
     "metadata": {},
     "output_type": "execute_result"
    }
   ],
   "source": [
    "# Вывод количества записей о партиях.\n",
    "df_temp['key'].value_counts().head(10)"
   ]
  },
  {
   "cell_type": "code",
   "execution_count": 85,
   "metadata": {},
   "outputs": [
    {
     "data": {
      "text/plain": [
       "3216"
      ]
     },
     "execution_count": 85,
     "metadata": {},
     "output_type": "execute_result"
    }
   ],
   "source": [
    "# Вывод количества уникальных партий.\n",
    "df_temp['key'].nunique()"
   ]
  },
  {
   "cell_type": "markdown",
   "metadata": {},
   "source": [
    "#### Признак \"Температура\""
   ]
  },
  {
   "cell_type": "code",
   "execution_count": 86,
   "metadata": {
    "scrolled": true
   },
   "outputs": [
    {
     "data": {
      "image/png": "[encoded data removed]",
      "text/plain": [
       "<Figure size 1080x360 with 1 Axes>"
      ]
     },
     "metadata": {
      "needs_background": "light"
     },
     "output_type": "display_data"
    }
   ],
   "source": [
    "# Диаграмма размаха признака \"Температура\".\n",
    "\n",
    "plt.figure(figsize=(15, 5))\n",
    "\n",
    "sns.boxplot(data=df_temp['Температура'], orient='h')\n",
    "\n",
    "plt.title('Диаграмма размаха признака \"Температура\"', fontdict={'size': 16});"
   ]
  },
  {
   "cell_type": "code",
   "execution_count": 87,
   "metadata": {},
   "outputs": [
    {
     "data": {
      "text/plain": [
       "4350     1191.0\n",
       "5978     1208.0\n",
       "7958     1218.0\n",
       "8913     1383.0\n",
       "8914     1383.0\n",
       "10127    1227.0\n",
       "12564    1204.0\n",
       "Name: Температура, dtype: float64"
      ]
     },
     "execution_count": 87,
     "metadata": {},
     "output_type": "execute_result"
    }
   ],
   "source": [
    "# Вывод выбросов.\n",
    "df_temp['Температура'][df_temp['Температура'] < 1400]"
   ]
  },
  {
   "cell_type": "markdown",
   "metadata": {},
   "source": [
    "<div class=\"alert alert-success\" style=\"border-color: green; border-radius: 5px\">\n",
    "    <p><u><b>✅ КОММЕНТАРИЙ ТИМЛИДА</b></u></p>\n",
    "Как и писал выше, отсечка 1500 кажется завышенной. Т.к. температура плавления около 1400 по паспорту)"
   ]
  },
  {
   "cell_type": "code",
   "execution_count": 88,
   "metadata": {
    "scrolled": true
   },
   "outputs": [
    {
     "data": {
      "image/png": "[encoded data removed]",
      "text/plain": [
       "<Figure size 1080x360 with 1 Axes>"
      ]
     },
     "metadata": {
      "needs_background": "light"
     },
     "output_type": "display_data"
    }
   ],
   "source": [
    "# Диаграмма размаха признака \"Температура\".\n",
    "\n",
    "plt.figure(figsize=(15, 5))\n",
    "\n",
    "sns.boxplot(data=df_temp['Температура'][df_temp['Температура'] > 1400], orient='h')\n",
    "\n",
    "plt.title('Диаграмма размаха признака \"Температура\"', fontdict={'size': 16});"
   ]
  },
  {
   "cell_type": "code",
   "execution_count": 89,
   "metadata": {
    "scrolled": false
   },
   "outputs": [
    {
     "data": {
      "image/png": "[encoded data removed]",
      "text/plain": [
       "<Figure size 720x360 with 1 Axes>"
      ]
     },
     "metadata": {
      "needs_background": "light"
     },
     "output_type": "display_data"
    }
   ],
   "source": [
    "# График распределения признака \"Температура\".\n",
    "\n",
    "sns.displot(df_temp['Температура'][df_temp['Температура'] > 1500], aspect=2)\n",
    "\n",
    "plt.title('График распределения признака \"Температура\"', fontdict={'size': 16})\n",
    "plt.xlabel('Единицы измерения', fontdict={'size': 14})\n",
    "plt.ylabel('Количество объектов', fontdict={'size': 14});"
   ]
  },
  {
   "cell_type": "markdown",
   "metadata": {},
   "source": [
    "#### Выводы"
   ]
  },
  {
   "cell_type": "markdown",
   "metadata": {},
   "source": [
    "В ходе анализа данных о результатах измерения температуры `data_temp.csv` было установлено следующее:\n",
    "\n",
    "\n",
    "1. Данные содержат пропуски. Логическое заполнение пропусков невозможно и приведёт к искажению тенденций в данных. Поэтому пропуски следует исключить.\n",
    "\n",
    "\n",
    "2. Согласно диаграмме размаха и графику распределения признака `Температура`, в выборке содержатся выбросы. Причём большинство выбросов сгруппированы у границ интервала и могут быть объяснены распределением - редкие пограничные значения с двух сторон графика. Однако малочисленная часть значений, 6 штук, значительно контрастируют на фоне основного скопления объектов. Данные значения с высокой долей вероятности являются аномальными и также должны быть исключены из выборки.\n",
    "\n",
    "\n",
    "3. Из-за итеративной обработки некоторые партии сырья содержат несколько записей о результатах измерения температуры. Начальная температура может быть использована как признак, конечная температура - целевая переменная."
   ]
  },
  {
   "cell_type": "markdown",
   "metadata": {},
   "source": [
    "# План выполнения проекта"
   ]
  },
  {
   "cell_type": "markdown",
   "metadata": {},
   "source": [
    "Изучение предметной области, а также исследовательский анализ данных позволили установить требуемые критерии подготовки исходных данных, а также сформировать задачу машинного обучения - прогноз финальной температуры сырья.\n",
    "\n",
    "**План**\n",
    "\n",
    "1. Подготовка данных:\n",
    "    - обработка пропусков;\n",
    "    - обработка выбросов;\n",
    "    - приведение типов данных;\n",
    "    - генерация новых признаков;\n",
    "    - подготовка широкой таблицы признаков;\n",
    "    - проверка на коллинеарность;\n",
    "    - разбиение на обучающую и тестовую выборки.\n",
    "\n",
    "\n",
    "2. Построение модели машинного обучения:\n",
    "    - формирование задачи и критерия оценки;\n",
    "    - рассмотрение кандидатов для решения задачи;\n",
    "    - индивидуальная подготовка признаков для моделей;\n",
    "    - построение и валидация, выбор лучшей модели;\n",
    "    - анализ важности признаков;\n",
    "    - тестирование лучшей модели.\n",
    "\n",
    "\n",
    "3. Документирование полученных результатов:\n",
    "    - описание проекта и данных;\n",
    "    - описание модели."
   ]
  },
  {
   "cell_type": "markdown",
   "metadata": {},
   "source": [
    "<div class=\"alert alert-success\" style=\"border-color: green; border-radius: 5px\">\n",
    "    <p><u><b>✅ КОММЕНТАРИЙ ТИМЛИДА</b></u></p>\n",
    "ОК, Сергей, с первичным анализом - всё как надо получилось: и аналитика и графика.<br>\n",
    "И выводы логичные. Замечу только, что при удалении пустот в целевой - удалять лучше всю партию.<br>\n",
    "    \n",
    "Оставил несколько комментариев, посомтри, пожалуйста.<br> \n",
    "С планом - ОК. Сюда же можно включить проверку на мультиколлинеарность ДО моделирования и анализ важности факторов у модели-победителя). А по выборкам так: мы договорились, что будет использовать кросс-валидацию. И тогда валидационная выборка нам и не нужна. ТОлько трайн и тест.<br>\n",
    "Что ж, тогда вперёд к моделированию)<br>\n",
    "Если возникнут вопросы - всегда в слаке сможем встретиться."
   ]
  },
  {
   "cell_type": "code",
   "execution_count": 124,
   "metadata": {},
   "outputs": [],
   "source": [
    "# Загрузка данных о результатах измерения температуры.\n",
    "df_temp = pd.read_csv(DATA_TEMP)\n",
    "\n",
    "# Приведение типов данных к datetime64.\n",
    "df_temp['Время замера'] = pd.to_datetime(df_temp['Время замера'])"
   ]
  },
  {
   "cell_type": "code",
   "execution_count": 125,
   "metadata": {},
   "outputs": [],
   "source": [
    "# Удаление пропусков.\n",
    "df_temp = df_temp.dropna()"
   ]
  },
  {
   "cell_type": "code",
   "execution_count": 126,
   "metadata": {},
   "outputs": [],
   "source": [
    "# Фильтрация партий, где указано больше одной температуры.\n",
    "keys = df_temp.groupby(by='key').count()\n",
    "keys = keys[keys['Температура'] > 1]\n",
    "df_temp = df_temp[df_temp['key'].isin(keys.index)]"
   ]
  },
  {
   "cell_type": "code",
   "execution_count": 127,
   "metadata": {},
   "outputs": [],
   "source": [
    "# Минимальное время замера для каждоый партии.\n",
    "df_temp = df_temp.join(\n",
    "    df_temp.groupby(by='key')['Время замера'].min(),\n",
    "    on='key',\n",
    "    how='left',\n",
    "    rsuffix=' первое'\n",
    ")\n",
    "\n",
    "# Максимальное время замера для каждой партии.\n",
    "df_temp = df_temp.join(\n",
    "    df_temp.groupby(by='key')['Время замера'].max(),\n",
    "    on='key',\n",
    "    how='left',\n",
    "    rsuffix=' последнее'\n",
    ")\n",
    "\n",
    "# Формирование датасета, где только первый и последний замеры.\n",
    "df = pd.merge(\n",
    "    left=df_temp[df_temp['Время замера'] == df_temp['Время замера первое']][['key', 'Температура']],\n",
    "    right=df_temp[df_temp['Время замера'] == df_temp['Время замера последнее']][['key', 'Температура']],\n",
    "    on='key',\n",
    "    suffixes=(' первая', ' последняя')\n",
    ")"
   ]
  },
  {
   "cell_type": "code",
   "execution_count": 129,
   "metadata": {},
   "outputs": [
    {
     "data": {
      "text/html": [
       "<div>\n",
       "<style scoped>\n",
       "    .dataframe tbody tr th:only-of-type {\n",
       "        vertical-align: middle;\n",
       "    }\n",
       "\n",
       "    .dataframe tbody tr th {\n",
       "        vertical-align: top;\n",
       "    }\n",
       "\n",
       "    .dataframe thead th {\n",
       "        text-align: right;\n",
       "    }\n",
       "</style>\n",
       "<table border=\"1\" class=\"dataframe\">\n",
       "  <thead>\n",
       "    <tr style=\"text-align: right;\">\n",
       "      <th></th>\n",
       "      <th>key</th>\n",
       "      <th>Температура первая</th>\n",
       "      <th>Температура последняя</th>\n",
       "    </tr>\n",
       "  </thead>\n",
       "  <tbody>\n",
       "    <tr>\n",
       "      <th>0</th>\n",
       "      <td>1</td>\n",
       "      <td>1571.0</td>\n",
       "      <td>1613.0</td>\n",
       "    </tr>\n",
       "    <tr>\n",
       "      <th>1</th>\n",
       "      <td>2</td>\n",
       "      <td>1581.0</td>\n",
       "      <td>1602.0</td>\n",
       "    </tr>\n",
       "    <tr>\n",
       "      <th>2</th>\n",
       "      <td>3</td>\n",
       "      <td>1596.0</td>\n",
       "      <td>1599.0</td>\n",
       "    </tr>\n",
       "    <tr>\n",
       "      <th>3</th>\n",
       "      <td>4</td>\n",
       "      <td>1601.0</td>\n",
       "      <td>1625.0</td>\n",
       "    </tr>\n",
       "    <tr>\n",
       "      <th>4</th>\n",
       "      <td>5</td>\n",
       "      <td>1576.0</td>\n",
       "      <td>1602.0</td>\n",
       "    </tr>\n",
       "  </tbody>\n",
       "</table>\n",
       "</div>"
      ],
      "text/plain": [
       "   key  Температура первая  Температура последняя\n",
       "0    1              1571.0                 1613.0\n",
       "1    2              1581.0                 1602.0\n",
       "2    3              1596.0                 1599.0\n",
       "3    4              1601.0                 1625.0\n",
       "4    5              1576.0                 1602.0"
      ]
     },
     "execution_count": 129,
     "metadata": {},
     "output_type": "execute_result"
    }
   ],
   "source": [
    "# Проверка: вывод первых пяти строк.\n",
    "df.head()"
   ]
  },
  {
   "cell_type": "code",
   "execution_count": null,
   "metadata": {},
   "outputs": [],
   "source": []
  }
 ],
 "metadata": {
  "ExecuteTimeLog": [
   {
    "duration": 1022,
    "start_time": "2022-08-29T14:23:44.364Z"
   },
   {
    "duration": 3,
    "start_time": "2022-08-29T14:33:16.321Z"
   },
   {
    "duration": 3,
    "start_time": "2022-08-29T14:33:46.010Z"
   },
   {
    "duration": 96,
    "start_time": "2022-08-29T14:36:39.587Z"
   },
   {
    "duration": 13,
    "start_time": "2022-08-29T14:36:45.328Z"
   },
   {
    "duration": 13,
    "start_time": "2022-08-29T14:37:06.299Z"
   },
   {
    "duration": 12,
    "start_time": "2022-08-29T14:37:42.673Z"
   },
   {
    "duration": 8,
    "start_time": "2022-08-29T14:38:04.384Z"
   },
   {
    "duration": 6,
    "start_time": "2022-08-29T14:38:39.384Z"
   },
   {
    "duration": 5,
    "start_time": "2022-08-29T14:38:52.425Z"
   },
   {
    "duration": 97,
    "start_time": "2022-08-29T14:39:21.890Z"
   },
   {
    "duration": 617,
    "start_time": "2022-08-29T14:39:26.617Z"
   },
   {
    "duration": 648,
    "start_time": "2022-08-29T14:40:02.488Z"
   },
   {
    "duration": 596,
    "start_time": "2022-08-29T14:44:24.751Z"
   },
   {
    "duration": 84,
    "start_time": "2022-08-29T14:44:30.023Z"
   },
   {
    "duration": 604,
    "start_time": "2022-08-29T14:44:32.726Z"
   },
   {
    "duration": 664,
    "start_time": "2022-08-29T14:45:18.982Z"
   },
   {
    "duration": 628,
    "start_time": "2022-08-29T14:45:39.206Z"
   },
   {
    "duration": 41802,
    "start_time": "2022-08-29T14:46:08.454Z"
   },
   {
    "duration": 12,
    "start_time": "2022-08-29T14:47:22.310Z"
   },
   {
    "duration": 11,
    "start_time": "2022-08-29T14:47:38.310Z"
   },
   {
    "duration": 13,
    "start_time": "2022-08-29T14:48:49.948Z"
   },
   {
    "duration": 3,
    "start_time": "2022-08-29T14:49:14.269Z"
   },
   {
    "duration": 612,
    "start_time": "2022-08-29T14:49:21.469Z"
   },
   {
    "duration": 22,
    "start_time": "2022-08-29T14:49:50.069Z"
   },
   {
    "duration": 86,
    "start_time": "2022-08-29T14:50:00.102Z"
   },
   {
    "duration": 110,
    "start_time": "2022-08-29T14:50:28.208Z"
   },
   {
    "duration": 87,
    "start_time": "2022-08-29T14:50:34.340Z"
   },
   {
    "duration": 88,
    "start_time": "2022-08-29T14:50:43.436Z"
   },
   {
    "duration": 86,
    "start_time": "2022-08-29T14:51:02.060Z"
   },
   {
    "duration": 88,
    "start_time": "2022-08-29T14:51:10.084Z"
   },
   {
    "duration": 109,
    "start_time": "2022-08-29T14:51:26.484Z"
   },
   {
    "duration": 96,
    "start_time": "2022-08-29T14:51:29.627Z"
   },
   {
    "duration": 113,
    "start_time": "2022-08-29T14:51:33.483Z"
   },
   {
    "duration": 98,
    "start_time": "2022-08-29T14:51:38.475Z"
   },
   {
    "duration": 110,
    "start_time": "2022-08-29T14:52:00.044Z"
   },
   {
    "duration": 109,
    "start_time": "2022-08-29T14:52:55.235Z"
   },
   {
    "duration": 107,
    "start_time": "2022-08-29T14:53:13.292Z"
   },
   {
    "duration": 1390,
    "start_time": "2022-08-30T05:40:33.639Z"
   },
   {
    "duration": 3,
    "start_time": "2022-08-30T05:40:35.032Z"
   },
   {
    "duration": 10,
    "start_time": "2022-08-30T05:40:35.036Z"
   },
   {
    "duration": 217,
    "start_time": "2022-08-30T05:40:35.048Z"
   },
   {
    "duration": 13,
    "start_time": "2022-08-30T05:40:35.267Z"
   },
   {
    "duration": 14,
    "start_time": "2022-08-30T05:40:35.281Z"
   },
   {
    "duration": 11,
    "start_time": "2022-08-30T05:40:35.296Z"
   },
   {
    "duration": 6,
    "start_time": "2022-08-30T05:40:35.308Z"
   },
   {
    "duration": 143,
    "start_time": "2022-08-30T05:40:35.315Z"
   },
   {
    "duration": 770,
    "start_time": "2022-08-30T05:40:35.461Z"
   },
   {
    "duration": 131,
    "start_time": "2022-08-30T05:40:36.233Z"
   },
   {
    "duration": 128,
    "start_time": "2022-08-30T05:40:36.366Z"
   },
   {
    "duration": 678,
    "start_time": "2022-08-30T05:40:36.496Z"
   },
   {
    "duration": 6,
    "start_time": "2022-08-30T05:46:05.284Z"
   },
   {
    "duration": 108,
    "start_time": "2022-08-30T05:46:12.756Z"
   },
   {
    "duration": 6,
    "start_time": "2022-08-30T05:46:38.477Z"
   },
   {
    "duration": 5,
    "start_time": "2022-08-30T05:46:58.123Z"
   },
   {
    "duration": 9,
    "start_time": "2022-08-30T05:47:10.907Z"
   },
   {
    "duration": 6,
    "start_time": "2022-08-30T05:47:15.443Z"
   },
   {
    "duration": 7,
    "start_time": "2022-08-30T05:47:36.963Z"
   },
   {
    "duration": 7,
    "start_time": "2022-08-30T05:49:06.097Z"
   },
   {
    "duration": 4,
    "start_time": "2022-08-30T05:50:55.504Z"
   },
   {
    "duration": 7,
    "start_time": "2022-08-30T05:51:02.042Z"
   },
   {
    "duration": 102,
    "start_time": "2022-08-30T05:52:00.874Z"
   },
   {
    "duration": 4,
    "start_time": "2022-08-30T05:52:54.834Z"
   },
   {
    "duration": 6,
    "start_time": "2022-08-30T05:53:06.594Z"
   },
   {
    "duration": 115,
    "start_time": "2022-08-30T05:53:14.491Z"
   },
   {
    "duration": 110,
    "start_time": "2022-08-30T05:53:21.257Z"
   },
   {
    "duration": 10,
    "start_time": "2022-08-30T05:53:43.114Z"
   },
   {
    "duration": 8,
    "start_time": "2022-08-30T05:53:46.202Z"
   },
   {
    "duration": 10,
    "start_time": "2022-08-30T05:53:49.801Z"
   },
   {
    "duration": 480,
    "start_time": "2022-08-30T05:54:15.658Z"
   },
   {
    "duration": 458,
    "start_time": "2022-08-30T05:59:14.929Z"
   },
   {
    "duration": 122,
    "start_time": "2022-08-30T06:07:39.275Z"
   },
   {
    "duration": 29,
    "start_time": "2022-08-30T06:17:30.676Z"
   },
   {
    "duration": 97,
    "start_time": "2022-08-30T06:27:30.738Z"
   },
   {
    "duration": 17,
    "start_time": "2022-08-30T06:27:37.579Z"
   },
   {
    "duration": 68,
    "start_time": "2022-08-30T06:28:09.841Z"
   },
   {
    "duration": 51,
    "start_time": "2022-08-30T06:28:13.530Z"
   },
   {
    "duration": 11,
    "start_time": "2022-08-30T06:28:25.025Z"
   },
   {
    "duration": 11,
    "start_time": "2022-08-30T06:28:28.057Z"
   },
   {
    "duration": 1230,
    "start_time": "2022-08-30T06:29:00.744Z"
   },
   {
    "duration": 4,
    "start_time": "2022-08-30T06:29:01.979Z"
   },
   {
    "duration": 24,
    "start_time": "2022-08-30T06:29:01.985Z"
   },
   {
    "duration": 79,
    "start_time": "2022-08-30T06:29:02.013Z"
   },
   {
    "duration": 17,
    "start_time": "2022-08-30T06:29:02.096Z"
   },
   {
    "duration": 41,
    "start_time": "2022-08-30T06:29:02.115Z"
   },
   {
    "duration": 25,
    "start_time": "2022-08-30T06:29:02.159Z"
   },
   {
    "duration": 9,
    "start_time": "2022-08-30T06:29:02.186Z"
   },
   {
    "duration": 7,
    "start_time": "2022-08-30T06:29:02.197Z"
   },
   {
    "duration": 159,
    "start_time": "2022-08-30T06:29:02.205Z"
   },
   {
    "duration": 730,
    "start_time": "2022-08-30T06:29:02.365Z"
   },
   {
    "duration": 133,
    "start_time": "2022-08-30T06:29:03.097Z"
   },
   {
    "duration": 139,
    "start_time": "2022-08-30T06:29:03.232Z"
   },
   {
    "duration": 684,
    "start_time": "2022-08-30T06:29:03.375Z"
   },
   {
    "duration": 8,
    "start_time": "2022-08-30T06:29:04.061Z"
   },
   {
    "duration": 22,
    "start_time": "2022-08-30T06:29:04.071Z"
   },
   {
    "duration": 5,
    "start_time": "2022-08-30T06:29:04.094Z"
   },
   {
    "duration": 8,
    "start_time": "2022-08-30T06:29:04.100Z"
   },
   {
    "duration": 9,
    "start_time": "2022-08-30T06:29:04.110Z"
   },
   {
    "duration": 11,
    "start_time": "2022-08-30T06:29:04.121Z"
   },
   {
    "duration": 141,
    "start_time": "2022-08-30T06:29:04.134Z"
   },
   {
    "duration": 19,
    "start_time": "2022-08-30T06:29:04.277Z"
   },
   {
    "duration": 586,
    "start_time": "2022-08-30T06:29:04.298Z"
   },
   {
    "duration": 44,
    "start_time": "2022-08-30T06:29:04.886Z"
   },
   {
    "duration": 19,
    "start_time": "2022-08-30T06:29:04.931Z"
   },
   {
    "duration": 27,
    "start_time": "2022-08-30T06:29:04.951Z"
   },
   {
    "duration": 81,
    "start_time": "2022-08-30T06:29:04.979Z"
   },
   {
    "duration": 1341,
    "start_time": "2022-08-30T18:55:43.181Z"
   },
   {
    "duration": 3,
    "start_time": "2022-08-30T18:55:44.525Z"
   },
   {
    "duration": 12,
    "start_time": "2022-08-30T18:55:44.529Z"
   },
   {
    "duration": 102,
    "start_time": "2022-08-30T18:55:44.543Z"
   },
   {
    "duration": 14,
    "start_time": "2022-08-30T18:55:44.647Z"
   },
   {
    "duration": 13,
    "start_time": "2022-08-30T18:55:44.663Z"
   },
   {
    "duration": 21,
    "start_time": "2022-08-30T18:55:44.677Z"
   },
   {
    "duration": 6,
    "start_time": "2022-08-30T18:55:44.702Z"
   },
   {
    "duration": 10,
    "start_time": "2022-08-30T18:55:44.710Z"
   },
   {
    "duration": 158,
    "start_time": "2022-08-30T18:55:44.722Z"
   },
   {
    "duration": 786,
    "start_time": "2022-08-30T18:55:44.882Z"
   },
   {
    "duration": 143,
    "start_time": "2022-08-30T18:55:45.670Z"
   },
   {
    "duration": 143,
    "start_time": "2022-08-30T18:55:45.815Z"
   },
   {
    "duration": 711,
    "start_time": "2022-08-30T18:55:45.959Z"
   },
   {
    "duration": 8,
    "start_time": "2022-08-30T18:55:46.672Z"
   },
   {
    "duration": 23,
    "start_time": "2022-08-30T18:55:46.682Z"
   },
   {
    "duration": 9,
    "start_time": "2022-08-30T18:55:46.708Z"
   },
   {
    "duration": 11,
    "start_time": "2022-08-30T18:55:46.719Z"
   },
   {
    "duration": 13,
    "start_time": "2022-08-30T18:55:46.732Z"
   },
   {
    "duration": 10,
    "start_time": "2022-08-30T18:55:46.746Z"
   },
   {
    "duration": 131,
    "start_time": "2022-08-30T18:55:46.758Z"
   },
   {
    "duration": 18,
    "start_time": "2022-08-30T18:55:46.890Z"
   },
   {
    "duration": 552,
    "start_time": "2022-08-30T18:55:46.910Z"
   },
   {
    "duration": 92,
    "start_time": "2022-08-30T18:55:47.465Z"
   },
   {
    "duration": 17,
    "start_time": "2022-08-30T18:55:47.558Z"
   },
   {
    "duration": 20,
    "start_time": "2022-08-30T18:55:47.577Z"
   },
   {
    "duration": 53,
    "start_time": "2022-08-30T18:55:47.599Z"
   },
   {
    "duration": 1381,
    "start_time": "2022-08-30T18:56:47.555Z"
   },
   {
    "duration": 1169,
    "start_time": "2022-08-30T18:56:54.012Z"
   },
   {
    "duration": 1433,
    "start_time": "2022-08-30T18:57:13.707Z"
   },
   {
    "duration": 1987,
    "start_time": "2022-08-30T18:57:28.291Z"
   },
   {
    "duration": 1619,
    "start_time": "2022-08-30T18:57:36.339Z"
   },
   {
    "duration": 1958,
    "start_time": "2022-08-30T19:00:33.256Z"
   },
   {
    "duration": 1599,
    "start_time": "2022-08-30T19:01:03.448Z"
   },
   {
    "duration": 20,
    "start_time": "2022-08-30T19:01:32.462Z"
   },
   {
    "duration": 104,
    "start_time": "2022-08-30T19:01:47.295Z"
   },
   {
    "duration": 19,
    "start_time": "2022-08-30T19:01:51.382Z"
   },
   {
    "duration": 7,
    "start_time": "2022-08-30T19:02:00.662Z"
   },
   {
    "duration": 7,
    "start_time": "2022-08-30T19:02:05.460Z"
   },
   {
    "duration": 7,
    "start_time": "2022-08-30T19:02:17.182Z"
   },
   {
    "duration": 7,
    "start_time": "2022-08-30T19:02:27.005Z"
   },
   {
    "duration": 7,
    "start_time": "2022-08-30T19:02:44.389Z"
   },
   {
    "duration": 6,
    "start_time": "2022-08-30T19:02:47.805Z"
   },
   {
    "duration": 6,
    "start_time": "2022-08-30T19:02:50.549Z"
   },
   {
    "duration": 7,
    "start_time": "2022-08-30T19:04:25.572Z"
   },
   {
    "duration": 6,
    "start_time": "2022-08-30T19:04:28.539Z"
   },
   {
    "duration": 6,
    "start_time": "2022-08-30T19:04:31.355Z"
   },
   {
    "duration": 6,
    "start_time": "2022-08-30T19:04:35.723Z"
   },
   {
    "duration": 6,
    "start_time": "2022-08-30T19:04:39.828Z"
   },
   {
    "duration": 7,
    "start_time": "2022-08-30T19:04:42.635Z"
   },
   {
    "duration": 6,
    "start_time": "2022-08-30T19:04:48.042Z"
   },
   {
    "duration": 7,
    "start_time": "2022-08-30T19:04:50.571Z"
   },
   {
    "duration": 6,
    "start_time": "2022-08-30T19:04:53.411Z"
   },
   {
    "duration": 6,
    "start_time": "2022-08-30T19:04:56.283Z"
   },
   {
    "duration": 7,
    "start_time": "2022-08-30T19:04:59.242Z"
   },
   {
    "duration": 7,
    "start_time": "2022-08-30T19:05:02.130Z"
   },
   {
    "duration": 6,
    "start_time": "2022-08-30T19:05:04.882Z"
   },
   {
    "duration": 7,
    "start_time": "2022-08-30T19:05:19.356Z"
   },
   {
    "duration": 7,
    "start_time": "2022-08-30T19:05:29.930Z"
   },
   {
    "duration": 7,
    "start_time": "2022-08-30T19:05:37.491Z"
   },
   {
    "duration": 7,
    "start_time": "2022-08-30T19:05:46.346Z"
   },
   {
    "duration": 9,
    "start_time": "2022-08-30T19:06:28.290Z"
   },
   {
    "duration": 11,
    "start_time": "2022-08-30T19:06:32.970Z"
   },
   {
    "duration": 12,
    "start_time": "2022-08-30T19:06:38.753Z"
   },
   {
    "duration": 11,
    "start_time": "2022-08-30T19:06:46.697Z"
   },
   {
    "duration": 49,
    "start_time": "2022-08-30T19:07:01.105Z"
   },
   {
    "duration": 13,
    "start_time": "2022-08-30T19:07:03.656Z"
   },
   {
    "duration": 12,
    "start_time": "2022-08-30T19:07:15.688Z"
   },
   {
    "duration": 11,
    "start_time": "2022-08-30T19:07:25.945Z"
   },
   {
    "duration": 11,
    "start_time": "2022-08-30T19:07:36.698Z"
   },
   {
    "duration": 10,
    "start_time": "2022-08-30T19:07:44.112Z"
   },
   {
    "duration": 12,
    "start_time": "2022-08-30T19:08:06.536Z"
   },
   {
    "duration": 16,
    "start_time": "2022-08-30T19:08:17.088Z"
   },
   {
    "duration": 18,
    "start_time": "2022-08-30T19:08:38.952Z"
   },
   {
    "duration": 15,
    "start_time": "2022-08-30T19:08:43.952Z"
   },
   {
    "duration": 14,
    "start_time": "2022-08-30T19:08:57.711Z"
   },
   {
    "duration": 12,
    "start_time": "2022-08-30T19:09:05.440Z"
   },
   {
    "duration": 14,
    "start_time": "2022-08-30T19:09:19.415Z"
   },
   {
    "duration": 17,
    "start_time": "2022-08-30T19:09:35.519Z"
   },
   {
    "duration": 15,
    "start_time": "2022-08-30T19:09:39.943Z"
   },
   {
    "duration": 7,
    "start_time": "2022-08-30T19:09:50.390Z"
   },
   {
    "duration": 18,
    "start_time": "2022-08-30T19:10:04.919Z"
   },
   {
    "duration": 8,
    "start_time": "2022-08-30T19:10:13.086Z"
   },
   {
    "duration": 10,
    "start_time": "2022-08-30T19:10:19.166Z"
   },
   {
    "duration": 13,
    "start_time": "2022-08-30T19:10:27.237Z"
   },
   {
    "duration": 12,
    "start_time": "2022-08-30T19:11:05.390Z"
   },
   {
    "duration": 12,
    "start_time": "2022-08-30T19:11:11.908Z"
   },
   {
    "duration": 16,
    "start_time": "2022-08-30T19:11:19.301Z"
   },
   {
    "duration": 12,
    "start_time": "2022-08-30T19:11:24.613Z"
   },
   {
    "duration": 12,
    "start_time": "2022-08-30T19:11:54.509Z"
   },
   {
    "duration": 16,
    "start_time": "2022-08-30T19:12:11.420Z"
   },
   {
    "duration": 12,
    "start_time": "2022-08-30T19:12:33.815Z"
   },
   {
    "duration": 13,
    "start_time": "2022-08-30T19:13:21.931Z"
   },
   {
    "duration": 299,
    "start_time": "2022-08-30T19:13:54.321Z"
   },
   {
    "duration": 10,
    "start_time": "2022-08-30T19:14:03.754Z"
   },
   {
    "duration": 7,
    "start_time": "2022-08-30T19:14:43.289Z"
   },
   {
    "duration": 319,
    "start_time": "2022-08-30T19:15:16.841Z"
   },
   {
    "duration": 287,
    "start_time": "2022-08-30T19:15:29.793Z"
   },
   {
    "duration": 301,
    "start_time": "2022-08-30T19:15:35.392Z"
   },
   {
    "duration": 7,
    "start_time": "2022-08-30T19:15:42.056Z"
   },
   {
    "duration": 288,
    "start_time": "2022-08-30T19:15:50.697Z"
   },
   {
    "duration": 306,
    "start_time": "2022-08-30T19:15:58.625Z"
   },
   {
    "duration": 332,
    "start_time": "2022-08-30T19:16:18.352Z"
   },
   {
    "duration": 385,
    "start_time": "2022-08-30T19:16:28.768Z"
   },
   {
    "duration": 231,
    "start_time": "2022-08-30T19:16:47.007Z"
   },
   {
    "duration": 349,
    "start_time": "2022-08-30T19:17:01.223Z"
   },
   {
    "duration": 150,
    "start_time": "2022-08-30T19:17:24.855Z"
   },
   {
    "duration": 7,
    "start_time": "2022-08-30T19:17:34.455Z"
   },
   {
    "duration": 8,
    "start_time": "2022-08-30T19:17:38.958Z"
   },
   {
    "duration": 276,
    "start_time": "2022-08-30T19:18:19.429Z"
   },
   {
    "duration": 193,
    "start_time": "2022-08-30T19:18:59.421Z"
   },
   {
    "duration": 181,
    "start_time": "2022-08-30T19:19:04.477Z"
   },
   {
    "duration": 196,
    "start_time": "2022-08-30T19:20:00.677Z"
   },
   {
    "duration": 153,
    "start_time": "2022-08-30T19:20:04.459Z"
   },
   {
    "duration": 162,
    "start_time": "2022-08-30T19:20:11.189Z"
   },
   {
    "duration": 183,
    "start_time": "2022-08-30T19:21:50.635Z"
   },
   {
    "duration": 175,
    "start_time": "2022-08-30T19:23:35.249Z"
   },
   {
    "duration": 427,
    "start_time": "2022-08-30T19:23:53.013Z"
   },
   {
    "duration": 151,
    "start_time": "2022-08-30T19:24:13.016Z"
   },
   {
    "duration": 165,
    "start_time": "2022-08-30T19:24:17.753Z"
   },
   {
    "duration": 186,
    "start_time": "2022-08-30T19:24:20.359Z"
   },
   {
    "duration": 506,
    "start_time": "2022-08-30T19:27:07.926Z"
   },
   {
    "duration": 6,
    "start_time": "2022-08-30T19:37:28.243Z"
   },
   {
    "duration": 5,
    "start_time": "2022-08-30T19:37:31.515Z"
   },
   {
    "duration": 127,
    "start_time": "2022-08-30T19:47:42.380Z"
   },
   {
    "duration": 17,
    "start_time": "2022-08-30T19:47:43.116Z"
   },
   {
    "duration": 14,
    "start_time": "2022-08-30T19:48:37.644Z"
   },
   {
    "duration": 18,
    "start_time": "2022-08-30T19:49:48.630Z"
   },
   {
    "duration": 28,
    "start_time": "2022-08-30T19:50:10.478Z"
   },
   {
    "duration": 17,
    "start_time": "2022-08-30T19:53:07.234Z"
   },
   {
    "duration": 6,
    "start_time": "2022-08-30T19:53:28.127Z"
   },
   {
    "duration": 14,
    "start_time": "2022-08-30T19:53:37.665Z"
   },
   {
    "duration": 7,
    "start_time": "2022-08-30T19:54:04.296Z"
   },
   {
    "duration": 9,
    "start_time": "2022-08-30T19:54:11.089Z"
   },
   {
    "duration": 6,
    "start_time": "2022-08-30T19:55:38.218Z"
   },
   {
    "duration": 5,
    "start_time": "2022-08-30T19:55:45.362Z"
   },
   {
    "duration": 5,
    "start_time": "2022-08-30T19:55:54.946Z"
   },
   {
    "duration": 942,
    "start_time": "2022-08-30T19:57:37.786Z"
   },
   {
    "duration": 6,
    "start_time": "2022-08-30T19:58:03.778Z"
   },
   {
    "duration": 138,
    "start_time": "2022-08-30T19:58:12.428Z"
   },
   {
    "duration": 18,
    "start_time": "2022-08-30T19:58:27.418Z"
   },
   {
    "duration": 134,
    "start_time": "2022-08-30T19:59:29.683Z"
   },
   {
    "duration": 630,
    "start_time": "2022-08-30T19:59:59.226Z"
   },
   {
    "duration": 145,
    "start_time": "2022-08-30T20:00:57.082Z"
   },
   {
    "duration": 9515,
    "start_time": "2022-08-30T20:00:57.299Z"
   },
   {
    "duration": 129,
    "start_time": "2022-08-30T20:02:23.066Z"
   },
   {
    "duration": 692,
    "start_time": "2022-08-30T20:02:38.852Z"
   },
   {
    "duration": 120,
    "start_time": "2022-08-30T20:03:43.331Z"
   },
   {
    "duration": 1083,
    "start_time": "2022-08-30T20:03:53.003Z"
   },
   {
    "duration": 122,
    "start_time": "2022-08-30T20:04:03.027Z"
   },
   {
    "duration": 124,
    "start_time": "2022-08-30T20:04:11.564Z"
   },
   {
    "duration": 547,
    "start_time": "2022-08-30T20:05:14.138Z"
   },
   {
    "duration": 453,
    "start_time": "2022-08-30T20:05:23.819Z"
   },
   {
    "duration": 537,
    "start_time": "2022-08-30T20:05:47.444Z"
   },
   {
    "duration": 12,
    "start_time": "2022-08-30T20:13:01.203Z"
   },
   {
    "duration": 5,
    "start_time": "2022-08-30T20:13:03.162Z"
   },
   {
    "duration": 4,
    "start_time": "2022-08-30T20:13:09.914Z"
   },
   {
    "duration": 30,
    "start_time": "2022-08-30T20:13:40.180Z"
   },
   {
    "duration": 16,
    "start_time": "2022-08-30T20:13:41.211Z"
   },
   {
    "duration": 5,
    "start_time": "2022-08-30T20:13:45.698Z"
   },
   {
    "duration": 5,
    "start_time": "2022-08-30T20:13:46.402Z"
   },
   {
    "duration": 5,
    "start_time": "2022-08-30T20:14:38.034Z"
   },
   {
    "duration": 89,
    "start_time": "2022-08-30T20:16:04.731Z"
   },
   {
    "duration": 8,
    "start_time": "2022-08-30T20:16:05.242Z"
   },
   {
    "duration": 1152,
    "start_time": "2022-08-30T20:25:53.311Z"
   },
   {
    "duration": 3,
    "start_time": "2022-08-30T20:25:54.465Z"
   },
   {
    "duration": 7,
    "start_time": "2022-08-30T20:25:54.471Z"
   },
   {
    "duration": 61,
    "start_time": "2022-08-30T20:25:54.480Z"
   },
   {
    "duration": 12,
    "start_time": "2022-08-30T20:25:54.543Z"
   },
   {
    "duration": 11,
    "start_time": "2022-08-30T20:25:54.557Z"
   },
   {
    "duration": 19,
    "start_time": "2022-08-30T20:25:54.570Z"
   },
   {
    "duration": 13,
    "start_time": "2022-08-30T20:25:54.590Z"
   },
   {
    "duration": 4,
    "start_time": "2022-08-30T20:25:54.605Z"
   },
   {
    "duration": 159,
    "start_time": "2022-08-30T20:25:54.610Z"
   },
   {
    "duration": 708,
    "start_time": "2022-08-30T20:25:54.771Z"
   },
   {
    "duration": 141,
    "start_time": "2022-08-30T20:25:55.481Z"
   },
   {
    "duration": 137,
    "start_time": "2022-08-30T20:25:55.625Z"
   },
   {
    "duration": 703,
    "start_time": "2022-08-30T20:25:55.763Z"
   },
   {
    "duration": 7,
    "start_time": "2022-08-30T20:25:56.468Z"
   },
   {
    "duration": 10,
    "start_time": "2022-08-30T20:25:56.476Z"
   },
   {
    "duration": 15,
    "start_time": "2022-08-30T20:25:56.488Z"
   },
   {
    "duration": 10,
    "start_time": "2022-08-30T20:25:56.504Z"
   },
   {
    "duration": 5,
    "start_time": "2022-08-30T20:25:56.515Z"
   },
   {
    "duration": 8,
    "start_time": "2022-08-30T20:25:56.522Z"
   },
   {
    "duration": 134,
    "start_time": "2022-08-30T20:25:56.531Z"
   },
   {
    "duration": 9,
    "start_time": "2022-08-30T20:25:56.667Z"
   },
   {
    "duration": 635,
    "start_time": "2022-08-30T20:25:56.677Z"
   },
   {
    "duration": 7,
    "start_time": "2022-08-30T20:25:57.314Z"
   },
   {
    "duration": 10,
    "start_time": "2022-08-30T20:25:57.323Z"
   },
   {
    "duration": 22,
    "start_time": "2022-08-30T20:25:57.335Z"
   },
   {
    "duration": 174,
    "start_time": "2022-08-30T20:25:57.358Z"
   },
   {
    "duration": 643,
    "start_time": "2022-08-30T20:25:57.534Z"
   },
   {
    "duration": 138,
    "start_time": "2022-08-30T20:25:58.179Z"
   },
   {
    "duration": 144,
    "start_time": "2022-08-30T20:25:58.318Z"
   },
   {
    "duration": 702,
    "start_time": "2022-08-30T20:25:58.464Z"
   },
   {
    "duration": 136,
    "start_time": "2022-08-30T20:25:59.168Z"
   },
   {
    "duration": 582,
    "start_time": "2022-08-30T20:25:59.306Z"
   },
   {
    "duration": 40,
    "start_time": "2022-08-30T20:25:59.889Z"
   },
   {
    "duration": 16,
    "start_time": "2022-08-30T20:25:59.931Z"
   },
   {
    "duration": 12,
    "start_time": "2022-08-30T20:25:59.949Z"
   },
   {
    "duration": 52,
    "start_time": "2022-08-30T20:25:59.962Z"
   },
   {
    "duration": 1764,
    "start_time": "2022-08-30T20:26:00.015Z"
   },
   {
    "duration": 8,
    "start_time": "2022-08-30T20:26:01.782Z"
   },
   {
    "duration": 6,
    "start_time": "2022-08-30T20:26:01.806Z"
   },
   {
    "duration": 38,
    "start_time": "2022-08-30T20:26:01.814Z"
   },
   {
    "duration": 224,
    "start_time": "2022-08-30T20:26:01.854Z"
   },
   {
    "duration": 48,
    "start_time": "2022-08-30T20:26:02.080Z"
   },
   {
    "duration": 16,
    "start_time": "2022-08-30T20:26:02.131Z"
   },
   {
    "duration": 35,
    "start_time": "2022-08-30T20:26:02.149Z"
   },
   {
    "duration": 20,
    "start_time": "2022-08-30T20:26:02.185Z"
   },
   {
    "duration": 6,
    "start_time": "2022-08-30T20:26:02.207Z"
   },
   {
    "duration": 26,
    "start_time": "2022-08-30T20:26:02.214Z"
   },
   {
    "duration": 25,
    "start_time": "2022-08-30T20:26:02.242Z"
   },
   {
    "duration": 49,
    "start_time": "2022-08-30T20:26:02.269Z"
   },
   {
    "duration": 8,
    "start_time": "2022-08-30T20:26:02.320Z"
   },
   {
    "duration": 1213,
    "start_time": "2022-08-31T05:45:23.125Z"
   },
   {
    "duration": 3,
    "start_time": "2022-08-31T05:45:24.340Z"
   },
   {
    "duration": 7,
    "start_time": "2022-08-31T05:45:24.344Z"
   },
   {
    "duration": 205,
    "start_time": "2022-08-31T05:45:24.352Z"
   },
   {
    "duration": 12,
    "start_time": "2022-08-31T05:45:24.560Z"
   },
   {
    "duration": 12,
    "start_time": "2022-08-31T05:45:24.573Z"
   },
   {
    "duration": 17,
    "start_time": "2022-08-31T05:45:24.587Z"
   },
   {
    "duration": 5,
    "start_time": "2022-08-31T05:45:24.605Z"
   },
   {
    "duration": 4,
    "start_time": "2022-08-31T05:45:24.612Z"
   },
   {
    "duration": 151,
    "start_time": "2022-08-31T05:45:24.617Z"
   },
   {
    "duration": 673,
    "start_time": "2022-08-31T05:45:24.769Z"
   },
   {
    "duration": 119,
    "start_time": "2022-08-31T05:45:25.444Z"
   },
   {
    "duration": 110,
    "start_time": "2022-08-31T05:45:25.567Z"
   },
   {
    "duration": 616,
    "start_time": "2022-08-31T05:45:25.681Z"
   },
   {
    "duration": 7,
    "start_time": "2022-08-31T05:45:26.298Z"
   },
   {
    "duration": 11,
    "start_time": "2022-08-31T05:45:26.306Z"
   },
   {
    "duration": 5,
    "start_time": "2022-08-31T05:45:26.319Z"
   },
   {
    "duration": 6,
    "start_time": "2022-08-31T05:45:26.325Z"
   },
   {
    "duration": 7,
    "start_time": "2022-08-31T05:45:26.333Z"
   },
   {
    "duration": 14,
    "start_time": "2022-08-31T05:45:26.341Z"
   },
   {
    "duration": 116,
    "start_time": "2022-08-31T05:45:26.357Z"
   },
   {
    "duration": 9,
    "start_time": "2022-08-31T05:45:26.474Z"
   },
   {
    "duration": 572,
    "start_time": "2022-08-31T05:45:26.485Z"
   },
   {
    "duration": 10,
    "start_time": "2022-08-31T05:45:27.059Z"
   },
   {
    "duration": 13,
    "start_time": "2022-08-31T05:45:27.071Z"
   },
   {
    "duration": 24,
    "start_time": "2022-08-31T05:45:27.085Z"
   },
   {
    "duration": 135,
    "start_time": "2022-08-31T05:45:27.110Z"
   },
   {
    "duration": 636,
    "start_time": "2022-08-31T05:45:27.246Z"
   },
   {
    "duration": 129,
    "start_time": "2022-08-31T05:45:27.884Z"
   },
   {
    "duration": 126,
    "start_time": "2022-08-31T05:45:28.015Z"
   },
   {
    "duration": 587,
    "start_time": "2022-08-31T05:45:28.143Z"
   },
   {
    "duration": 120,
    "start_time": "2022-08-31T05:45:28.732Z"
   },
   {
    "duration": 543,
    "start_time": "2022-08-31T05:45:28.854Z"
   },
   {
    "duration": 98,
    "start_time": "2022-08-31T05:45:29.399Z"
   },
   {
    "duration": 17,
    "start_time": "2022-08-31T05:45:29.500Z"
   },
   {
    "duration": 12,
    "start_time": "2022-08-31T05:45:29.518Z"
   },
   {
    "duration": 46,
    "start_time": "2022-08-31T05:45:29.532Z"
   },
   {
    "duration": 1399,
    "start_time": "2022-08-31T05:45:29.580Z"
   },
   {
    "duration": 6,
    "start_time": "2022-08-31T05:45:30.981Z"
   },
   {
    "duration": 18,
    "start_time": "2022-08-31T05:45:30.988Z"
   },
   {
    "duration": 23,
    "start_time": "2022-08-31T05:45:31.009Z"
   },
   {
    "duration": 154,
    "start_time": "2022-08-31T05:45:31.034Z"
   },
   {
    "duration": 114,
    "start_time": "2022-08-31T05:45:31.190Z"
   },
   {
    "duration": 13,
    "start_time": "2022-08-31T05:45:31.306Z"
   },
   {
    "duration": 29,
    "start_time": "2022-08-31T05:45:31.321Z"
   },
   {
    "duration": 13,
    "start_time": "2022-08-31T05:45:31.352Z"
   },
   {
    "duration": 14,
    "start_time": "2022-08-31T05:45:31.367Z"
   },
   {
    "duration": 5,
    "start_time": "2022-08-31T05:45:31.383Z"
   },
   {
    "duration": 11,
    "start_time": "2022-08-31T05:45:31.390Z"
   },
   {
    "duration": 74,
    "start_time": "2022-08-31T05:45:31.403Z"
   },
   {
    "duration": 6,
    "start_time": "2022-08-31T05:45:31.479Z"
   },
   {
    "duration": 12,
    "start_time": "2022-08-31T05:57:41.802Z"
   },
   {
    "duration": 11,
    "start_time": "2022-08-31T05:57:55.715Z"
   },
   {
    "duration": 23,
    "start_time": "2022-08-31T05:58:53.772Z"
   },
   {
    "duration": 116,
    "start_time": "2022-08-31T06:00:17.266Z"
   },
   {
    "duration": 789,
    "start_time": "2022-08-31T06:00:25.098Z"
   },
   {
    "duration": 6,
    "start_time": "2022-08-31T06:01:14.329Z"
   },
   {
    "duration": 8,
    "start_time": "2022-08-31T06:01:16.674Z"
   },
   {
    "duration": 64,
    "start_time": "2022-08-31T06:28:07.422Z"
   },
   {
    "duration": 15,
    "start_time": "2022-08-31T06:28:11.069Z"
   },
   {
    "duration": 12,
    "start_time": "2022-08-31T06:28:18.944Z"
   },
   {
    "duration": 46,
    "start_time": "2022-08-31T06:28:26.888Z"
   },
   {
    "duration": 1198,
    "start_time": "2022-08-31T06:31:30.935Z"
   },
   {
    "duration": 43,
    "start_time": "2022-08-31T06:31:46.000Z"
   },
   {
    "duration": 33,
    "start_time": "2022-08-31T06:32:28.384Z"
   },
   {
    "duration": 1013,
    "start_time": "2022-08-31T06:32:36.792Z"
   },
   {
    "duration": 1766,
    "start_time": "2022-08-31T06:32:56.663Z"
   },
   {
    "duration": 50,
    "start_time": "2022-08-31T06:33:02.603Z"
   },
   {
    "duration": 110,
    "start_time": "2022-08-31T06:35:05.595Z"
   },
   {
    "duration": 7,
    "start_time": "2022-08-31T06:40:59.994Z"
   },
   {
    "duration": 6,
    "start_time": "2022-08-31T06:41:01.292Z"
   },
   {
    "duration": 11,
    "start_time": "2022-08-31T06:42:14.096Z"
   },
   {
    "duration": 152,
    "start_time": "2022-08-31T06:42:24.282Z"
   },
   {
    "duration": 72,
    "start_time": "2022-08-31T06:51:26.416Z"
   },
   {
    "duration": 12,
    "start_time": "2022-08-31T06:51:29.688Z"
   },
   {
    "duration": 1075,
    "start_time": "2022-08-31T06:52:22.983Z"
   },
   {
    "duration": 3,
    "start_time": "2022-08-31T06:52:24.060Z"
   },
   {
    "duration": 7,
    "start_time": "2022-08-31T06:52:24.064Z"
   },
   {
    "duration": 65,
    "start_time": "2022-08-31T06:52:24.073Z"
   },
   {
    "duration": 12,
    "start_time": "2022-08-31T06:52:24.139Z"
   },
   {
    "duration": 16,
    "start_time": "2022-08-31T06:52:24.152Z"
   },
   {
    "duration": 18,
    "start_time": "2022-08-31T06:52:24.170Z"
   },
   {
    "duration": 5,
    "start_time": "2022-08-31T06:52:24.190Z"
   },
   {
    "duration": 20,
    "start_time": "2022-08-31T06:52:24.196Z"
   },
   {
    "duration": 148,
    "start_time": "2022-08-31T06:52:24.219Z"
   },
   {
    "duration": 659,
    "start_time": "2022-08-31T06:52:24.368Z"
   },
   {
    "duration": 128,
    "start_time": "2022-08-31T06:52:25.029Z"
   },
   {
    "duration": 120,
    "start_time": "2022-08-31T06:52:25.158Z"
   },
   {
    "duration": 626,
    "start_time": "2022-08-31T06:52:25.280Z"
   },
   {
    "duration": 7,
    "start_time": "2022-08-31T06:52:25.907Z"
   },
   {
    "duration": 23,
    "start_time": "2022-08-31T06:52:25.915Z"
   },
   {
    "duration": 9,
    "start_time": "2022-08-31T06:52:25.940Z"
   },
   {
    "duration": 6,
    "start_time": "2022-08-31T06:52:25.950Z"
   },
   {
    "duration": 9,
    "start_time": "2022-08-31T06:52:25.958Z"
   },
   {
    "duration": 5,
    "start_time": "2022-08-31T06:52:25.968Z"
   },
   {
    "duration": 136,
    "start_time": "2022-08-31T06:52:25.975Z"
   },
   {
    "duration": 9,
    "start_time": "2022-08-31T06:52:26.113Z"
   },
   {
    "duration": 718,
    "start_time": "2022-08-31T06:52:26.124Z"
   },
   {
    "duration": 8,
    "start_time": "2022-08-31T06:52:26.844Z"
   },
   {
    "duration": 9,
    "start_time": "2022-08-31T06:52:26.868Z"
   },
   {
    "duration": 25,
    "start_time": "2022-08-31T06:52:26.879Z"
   },
   {
    "duration": 174,
    "start_time": "2022-08-31T06:52:26.906Z"
   },
   {
    "duration": 650,
    "start_time": "2022-08-31T06:52:27.085Z"
   },
   {
    "duration": 153,
    "start_time": "2022-08-31T06:52:27.738Z"
   },
   {
    "duration": 148,
    "start_time": "2022-08-31T06:52:27.893Z"
   },
   {
    "duration": 692,
    "start_time": "2022-08-31T06:52:28.043Z"
   },
   {
    "duration": 152,
    "start_time": "2022-08-31T06:52:28.737Z"
   },
   {
    "duration": 600,
    "start_time": "2022-08-31T06:52:28.891Z"
   },
   {
    "duration": 42,
    "start_time": "2022-08-31T06:52:29.493Z"
   },
   {
    "duration": 16,
    "start_time": "2022-08-31T06:52:29.537Z"
   },
   {
    "duration": 31,
    "start_time": "2022-08-31T06:52:29.555Z"
   },
   {
    "duration": 69,
    "start_time": "2022-08-31T06:52:29.588Z"
   },
   {
    "duration": 1683,
    "start_time": "2022-08-31T06:52:29.659Z"
   },
   {
    "duration": 154,
    "start_time": "2022-08-31T06:52:31.345Z"
   },
   {
    "duration": 10,
    "start_time": "2022-08-31T06:52:31.501Z"
   },
   {
    "duration": 23,
    "start_time": "2022-08-31T06:52:31.513Z"
   },
   {
    "duration": 19,
    "start_time": "2022-08-31T06:52:31.538Z"
   },
   {
    "duration": 209,
    "start_time": "2022-08-31T06:52:31.559Z"
   },
   {
    "duration": 52,
    "start_time": "2022-08-31T06:52:31.770Z"
   },
   {
    "duration": 15,
    "start_time": "2022-08-31T06:52:31.823Z"
   },
   {
    "duration": 38,
    "start_time": "2022-08-31T06:52:31.840Z"
   },
   {
    "duration": 14,
    "start_time": "2022-08-31T06:52:31.880Z"
   },
   {
    "duration": 20,
    "start_time": "2022-08-31T06:52:31.896Z"
   },
   {
    "duration": 9,
    "start_time": "2022-08-31T06:52:31.918Z"
   },
   {
    "duration": 8,
    "start_time": "2022-08-31T06:52:31.929Z"
   },
   {
    "duration": 45,
    "start_time": "2022-08-31T06:52:31.939Z"
   },
   {
    "duration": 133,
    "start_time": "2022-08-31T06:52:31.986Z"
   },
   {
    "duration": 18,
    "start_time": "2022-08-31T06:52:32.121Z"
   },
   {
    "duration": 27,
    "start_time": "2022-08-31T06:52:32.141Z"
   },
   {
    "duration": 6,
    "start_time": "2022-08-31T06:52:32.170Z"
   },
   {
    "duration": 8,
    "start_time": "2022-08-31T06:52:32.178Z"
   },
   {
    "duration": 137,
    "start_time": "2022-08-31T06:52:32.188Z"
   },
   {
    "duration": 681,
    "start_time": "2022-08-31T06:52:32.327Z"
   },
   {
    "duration": 39,
    "start_time": "2022-08-31T06:52:33.010Z"
   },
   {
    "duration": 11,
    "start_time": "2022-08-31T06:52:33.051Z"
   },
   {
    "duration": 20,
    "start_time": "2022-08-31T06:52:33.064Z"
   },
   {
    "duration": 33,
    "start_time": "2022-08-31T06:52:33.086Z"
   },
   {
    "duration": 930,
    "start_time": "2022-08-31T06:52:33.121Z"
   },
   {
    "duration": 6,
    "start_time": "2022-08-31T06:52:34.052Z"
   },
   {
    "duration": 11,
    "start_time": "2022-08-31T06:52:34.059Z"
   },
   {
    "duration": 23,
    "start_time": "2022-08-31T06:52:34.071Z"
   },
   {
    "duration": 143,
    "start_time": "2022-08-31T06:52:34.095Z"
   },
   {
    "duration": 42,
    "start_time": "2022-08-31T06:52:34.239Z"
   },
   {
    "duration": 10,
    "start_time": "2022-08-31T06:52:34.283Z"
   },
   {
    "duration": 1420,
    "start_time": "2022-08-31T15:37:35.480Z"
   },
   {
    "duration": 3,
    "start_time": "2022-08-31T15:37:36.902Z"
   },
   {
    "duration": 6,
    "start_time": "2022-08-31T15:37:36.906Z"
   },
   {
    "duration": 211,
    "start_time": "2022-08-31T15:37:36.915Z"
   },
   {
    "duration": 12,
    "start_time": "2022-08-31T15:37:37.128Z"
   },
   {
    "duration": 11,
    "start_time": "2022-08-31T15:37:37.142Z"
   },
   {
    "duration": 18,
    "start_time": "2022-08-31T15:37:37.155Z"
   },
   {
    "duration": 5,
    "start_time": "2022-08-31T15:37:37.174Z"
   },
   {
    "duration": 8,
    "start_time": "2022-08-31T15:37:37.181Z"
   },
   {
    "duration": 146,
    "start_time": "2022-08-31T15:37:37.192Z"
   },
   {
    "duration": 801,
    "start_time": "2022-08-31T15:37:37.340Z"
   },
   {
    "duration": 132,
    "start_time": "2022-08-31T15:37:38.142Z"
   },
   {
    "duration": 134,
    "start_time": "2022-08-31T15:37:38.276Z"
   },
   {
    "duration": 642,
    "start_time": "2022-08-31T15:37:38.413Z"
   },
   {
    "duration": 7,
    "start_time": "2022-08-31T15:37:39.057Z"
   },
   {
    "duration": 9,
    "start_time": "2022-08-31T15:37:39.066Z"
   },
   {
    "duration": 5,
    "start_time": "2022-08-31T15:37:39.077Z"
   },
   {
    "duration": 23,
    "start_time": "2022-08-31T15:37:39.084Z"
   },
   {
    "duration": 4,
    "start_time": "2022-08-31T15:37:39.108Z"
   },
   {
    "duration": 8,
    "start_time": "2022-08-31T15:37:39.114Z"
   },
   {
    "duration": 125,
    "start_time": "2022-08-31T15:37:39.124Z"
   },
   {
    "duration": 9,
    "start_time": "2022-08-31T15:37:39.250Z"
   },
   {
    "duration": 637,
    "start_time": "2022-08-31T15:37:39.261Z"
   },
   {
    "duration": 8,
    "start_time": "2022-08-31T15:37:39.906Z"
   },
   {
    "duration": 29,
    "start_time": "2022-08-31T15:37:39.916Z"
   },
   {
    "duration": 36,
    "start_time": "2022-08-31T15:37:39.948Z"
   },
   {
    "duration": 158,
    "start_time": "2022-08-31T15:37:39.986Z"
   },
   {
    "duration": 701,
    "start_time": "2022-08-31T15:37:40.148Z"
   },
   {
    "duration": 148,
    "start_time": "2022-08-31T15:37:40.852Z"
   },
   {
    "duration": 142,
    "start_time": "2022-08-31T15:37:41.002Z"
   },
   {
    "duration": 700,
    "start_time": "2022-08-31T15:37:41.146Z"
   },
   {
    "duration": 158,
    "start_time": "2022-08-31T15:37:41.854Z"
   },
   {
    "duration": 570,
    "start_time": "2022-08-31T15:37:42.014Z"
   },
   {
    "duration": 106,
    "start_time": "2022-08-31T15:37:42.587Z"
   },
   {
    "duration": 18,
    "start_time": "2022-08-31T15:37:42.694Z"
   },
   {
    "duration": 20,
    "start_time": "2022-08-31T15:37:42.713Z"
   },
   {
    "duration": 46,
    "start_time": "2022-08-31T15:37:42.735Z"
   },
   {
    "duration": 1412,
    "start_time": "2022-08-31T15:37:42.783Z"
   },
   {
    "duration": 136,
    "start_time": "2022-08-31T15:37:44.205Z"
   },
   {
    "duration": 7,
    "start_time": "2022-08-31T15:37:44.343Z"
   },
   {
    "duration": 4,
    "start_time": "2022-08-31T15:37:44.352Z"
   },
   {
    "duration": 12,
    "start_time": "2022-08-31T15:37:44.358Z"
   },
   {
    "duration": 197,
    "start_time": "2022-08-31T15:37:44.372Z"
   },
   {
    "duration": 114,
    "start_time": "2022-08-31T15:37:44.570Z"
   },
   {
    "duration": 13,
    "start_time": "2022-08-31T15:37:44.686Z"
   },
   {
    "duration": 37,
    "start_time": "2022-08-31T15:37:44.701Z"
   },
   {
    "duration": 11,
    "start_time": "2022-08-31T15:37:44.740Z"
   },
   {
    "duration": 6,
    "start_time": "2022-08-31T15:37:44.752Z"
   },
   {
    "duration": 11,
    "start_time": "2022-08-31T15:37:44.759Z"
   },
   {
    "duration": 16,
    "start_time": "2022-08-31T15:37:44.771Z"
   },
   {
    "duration": 80,
    "start_time": "2022-08-31T15:37:44.789Z"
   },
   {
    "duration": 93,
    "start_time": "2022-08-31T15:37:44.870Z"
   },
   {
    "duration": 13,
    "start_time": "2022-08-31T15:37:44.965Z"
   },
   {
    "duration": 14,
    "start_time": "2022-08-31T15:37:44.979Z"
   },
   {
    "duration": 15,
    "start_time": "2022-08-31T15:37:44.994Z"
   },
   {
    "duration": 25,
    "start_time": "2022-08-31T15:37:45.010Z"
   },
   {
    "duration": 117,
    "start_time": "2022-08-31T15:37:45.036Z"
   },
   {
    "duration": 655,
    "start_time": "2022-08-31T15:37:45.155Z"
   },
   {
    "duration": 63,
    "start_time": "2022-08-31T15:37:45.811Z"
   },
   {
    "duration": 10,
    "start_time": "2022-08-31T15:37:45.876Z"
   },
   {
    "duration": 28,
    "start_time": "2022-08-31T15:37:45.887Z"
   },
   {
    "duration": 47,
    "start_time": "2022-08-31T15:37:45.916Z"
   },
   {
    "duration": 937,
    "start_time": "2022-08-31T15:37:45.964Z"
   },
   {
    "duration": 6,
    "start_time": "2022-08-31T15:37:46.903Z"
   },
   {
    "duration": 6,
    "start_time": "2022-08-31T15:37:46.911Z"
   },
   {
    "duration": 16,
    "start_time": "2022-08-31T15:37:46.918Z"
   },
   {
    "duration": 148,
    "start_time": "2022-08-31T15:37:46.936Z"
   },
   {
    "duration": 66,
    "start_time": "2022-08-31T15:37:47.085Z"
   },
   {
    "duration": 11,
    "start_time": "2022-08-31T15:37:47.153Z"
   },
   {
    "duration": 16,
    "start_time": "2022-08-31T15:39:13.647Z"
   },
   {
    "duration": 21,
    "start_time": "2022-08-31T15:39:30.697Z"
   },
   {
    "duration": 4517,
    "start_time": "2022-08-31T15:40:28.129Z"
   },
   {
    "duration": 5,
    "start_time": "2022-08-31T15:40:38.324Z"
   },
   {
    "duration": 101,
    "start_time": "2022-08-31T15:40:51.776Z"
   },
   {
    "duration": 4,
    "start_time": "2022-08-31T15:40:54.944Z"
   },
   {
    "duration": 5,
    "start_time": "2022-08-31T15:41:06.273Z"
   },
   {
    "duration": 136,
    "start_time": "2022-08-31T15:54:48.451Z"
   },
   {
    "duration": 8,
    "start_time": "2022-08-31T15:54:49.339Z"
   },
   {
    "duration": 1373,
    "start_time": "2022-08-31T15:55:44.329Z"
   },
   {
    "duration": 4,
    "start_time": "2022-08-31T15:55:59.323Z"
   },
   {
    "duration": 4,
    "start_time": "2022-08-31T15:56:13.556Z"
   },
   {
    "duration": 7,
    "start_time": "2022-08-31T15:56:42.736Z"
   },
   {
    "duration": 11,
    "start_time": "2022-08-31T15:56:53.890Z"
   },
   {
    "duration": 10,
    "start_time": "2022-08-31T15:57:04.083Z"
   },
   {
    "duration": 17,
    "start_time": "2022-08-31T15:57:39.529Z"
   },
   {
    "duration": 12,
    "start_time": "2022-08-31T15:57:44.715Z"
   },
   {
    "duration": 5,
    "start_time": "2022-08-31T15:58:23.272Z"
   },
   {
    "duration": 4,
    "start_time": "2022-08-31T15:58:28.155Z"
   },
   {
    "duration": 101,
    "start_time": "2022-08-31T15:59:30.072Z"
   },
   {
    "duration": 952,
    "start_time": "2022-08-31T15:59:42.283Z"
   },
   {
    "duration": 117,
    "start_time": "2022-08-31T16:00:19.651Z"
   },
   {
    "duration": 70,
    "start_time": "2022-08-31T16:00:37.345Z"
   },
   {
    "duration": 27,
    "start_time": "2022-08-31T16:00:56.571Z"
   },
   {
    "duration": 16,
    "start_time": "2022-08-31T16:01:07.731Z"
   },
   {
    "duration": 513,
    "start_time": "2022-08-31T16:01:20.595Z"
   },
   {
    "duration": 5,
    "start_time": "2022-08-31T16:01:49.130Z"
   },
   {
    "duration": 5,
    "start_time": "2022-08-31T16:02:07.372Z"
   },
   {
    "duration": 3,
    "start_time": "2022-08-31T16:32:08.286Z"
   },
   {
    "duration": 653,
    "start_time": "2022-08-31T16:42:54.979Z"
   },
   {
    "duration": 3,
    "start_time": "2022-08-31T16:45:26.553Z"
   },
   {
    "duration": 7,
    "start_time": "2022-08-31T16:46:22.104Z"
   },
   {
    "duration": 36,
    "start_time": "2022-08-31T16:46:35.327Z"
   },
   {
    "duration": 4,
    "start_time": "2022-08-31T16:47:14.679Z"
   },
   {
    "duration": 5,
    "start_time": "2022-08-31T16:47:28.760Z"
   },
   {
    "duration": 5,
    "start_time": "2022-08-31T16:47:34.855Z"
   },
   {
    "duration": 464,
    "start_time": "2022-08-31T16:47:44.288Z"
   },
   {
    "duration": 4,
    "start_time": "2022-08-31T16:47:49.984Z"
   },
   {
    "duration": 4,
    "start_time": "2022-08-31T16:48:09.831Z"
   },
   {
    "duration": 7,
    "start_time": "2022-08-31T16:48:28.040Z"
   },
   {
    "duration": 6,
    "start_time": "2022-08-31T16:48:45.417Z"
   },
   {
    "duration": 6,
    "start_time": "2022-08-31T16:48:51.176Z"
   },
   {
    "duration": 10,
    "start_time": "2022-08-31T16:48:58.632Z"
   },
   {
    "duration": 14,
    "start_time": "2022-08-31T16:50:27.184Z"
   },
   {
    "duration": 3,
    "start_time": "2022-08-31T16:51:40.172Z"
   },
   {
    "duration": 35,
    "start_time": "2022-08-31T16:52:21.572Z"
   },
   {
    "duration": 4,
    "start_time": "2022-08-31T16:52:31.447Z"
   },
   {
    "duration": 9,
    "start_time": "2022-08-31T16:52:54.390Z"
   },
   {
    "duration": 12,
    "start_time": "2022-08-31T16:53:04.070Z"
   },
   {
    "duration": 22028,
    "start_time": "2022-08-31T16:54:18.035Z"
   },
   {
    "duration": 12,
    "start_time": "2022-08-31T16:55:15.942Z"
   },
   {
    "duration": 88,
    "start_time": "2022-08-31T16:55:24.685Z"
   },
   {
    "duration": 0,
    "start_time": "2022-08-31T16:55:50.216Z"
   },
   {
    "duration": 605,
    "start_time": "2022-08-31T16:56:23.652Z"
   },
   {
    "duration": 567,
    "start_time": "2022-08-31T16:56:48.259Z"
   },
   {
    "duration": 1764,
    "start_time": "2022-08-31T17:02:06.914Z"
   },
   {
    "duration": 3,
    "start_time": "2022-08-31T17:02:08.681Z"
   },
   {
    "duration": 6,
    "start_time": "2022-08-31T17:02:08.686Z"
   },
   {
    "duration": 66,
    "start_time": "2022-08-31T17:02:08.693Z"
   },
   {
    "duration": 12,
    "start_time": "2022-08-31T17:02:08.761Z"
   },
   {
    "duration": 10,
    "start_time": "2022-08-31T17:02:08.775Z"
   },
   {
    "duration": 34,
    "start_time": "2022-08-31T17:02:08.787Z"
   },
   {
    "duration": 6,
    "start_time": "2022-08-31T17:02:08.822Z"
   },
   {
    "duration": 6,
    "start_time": "2022-08-31T17:02:08.829Z"
   },
   {
    "duration": 134,
    "start_time": "2022-08-31T17:02:08.836Z"
   },
   {
    "duration": 696,
    "start_time": "2022-08-31T17:02:08.971Z"
   },
   {
    "duration": 134,
    "start_time": "2022-08-31T17:02:09.669Z"
   },
   {
    "duration": 6,
    "start_time": "2022-08-31T17:02:09.804Z"
   },
   {
    "duration": 533,
    "start_time": "2022-08-31T17:02:09.814Z"
   },
   {
    "duration": 601,
    "start_time": "2022-08-31T17:02:10.349Z"
   },
   {
    "duration": 3,
    "start_time": "2022-08-31T17:02:10.952Z"
   },
   {
    "duration": 49,
    "start_time": "2022-08-31T17:02:10.956Z"
   },
   {
    "duration": 572,
    "start_time": "2022-08-31T17:02:11.007Z"
   },
   {
    "duration": 119,
    "start_time": "2022-08-31T17:02:11.581Z"
   },
   {
    "duration": 738,
    "start_time": "2022-08-31T17:02:11.702Z"
   },
   {
    "duration": 9,
    "start_time": "2022-08-31T17:02:12.442Z"
   },
   {
    "duration": 13,
    "start_time": "2022-08-31T17:02:12.453Z"
   },
   {
    "duration": 6,
    "start_time": "2022-08-31T17:02:12.468Z"
   },
   {
    "duration": 7,
    "start_time": "2022-08-31T17:02:12.475Z"
   },
   {
    "duration": 5,
    "start_time": "2022-08-31T17:02:12.484Z"
   },
   {
    "duration": 7,
    "start_time": "2022-08-31T17:02:12.505Z"
   },
   {
    "duration": 129,
    "start_time": "2022-08-31T17:02:12.513Z"
   },
   {
    "duration": 8,
    "start_time": "2022-08-31T17:02:12.644Z"
   },
   {
    "duration": 530,
    "start_time": "2022-08-31T17:02:12.653Z"
   },
   {
    "duration": 6,
    "start_time": "2022-08-31T17:02:13.185Z"
   },
   {
    "duration": 27,
    "start_time": "2022-08-31T17:02:13.192Z"
   },
   {
    "duration": 20,
    "start_time": "2022-08-31T17:02:13.220Z"
   },
   {
    "duration": 122,
    "start_time": "2022-08-31T17:02:13.242Z"
   },
   {
    "duration": 662,
    "start_time": "2022-08-31T17:02:13.366Z"
   },
   {
    "duration": 133,
    "start_time": "2022-08-31T17:02:14.029Z"
   },
   {
    "duration": 127,
    "start_time": "2022-08-31T17:02:14.163Z"
   },
   {
    "duration": 634,
    "start_time": "2022-08-31T17:02:14.292Z"
   },
   {
    "duration": 224,
    "start_time": "2022-08-31T17:02:14.928Z"
   },
   {
    "duration": 486,
    "start_time": "2022-08-31T17:02:15.154Z"
   },
   {
    "duration": 49,
    "start_time": "2022-08-31T17:02:15.642Z"
   },
   {
    "duration": 26,
    "start_time": "2022-08-31T17:02:15.696Z"
   },
   {
    "duration": 26,
    "start_time": "2022-08-31T17:02:15.723Z"
   },
   {
    "duration": 49,
    "start_time": "2022-08-31T17:02:15.751Z"
   },
   {
    "duration": 1584,
    "start_time": "2022-08-31T17:02:15.802Z"
   },
   {
    "duration": 257,
    "start_time": "2022-08-31T17:02:17.387Z"
   },
   {
    "duration": 7,
    "start_time": "2022-08-31T17:02:17.646Z"
   },
   {
    "duration": 5,
    "start_time": "2022-08-31T17:02:17.654Z"
   },
   {
    "duration": 12,
    "start_time": "2022-08-31T17:02:17.660Z"
   },
   {
    "duration": 184,
    "start_time": "2022-08-31T17:02:17.674Z"
   },
   {
    "duration": 56,
    "start_time": "2022-08-31T17:02:17.860Z"
   },
   {
    "duration": 18,
    "start_time": "2022-08-31T17:02:17.918Z"
   },
   {
    "duration": 30,
    "start_time": "2022-08-31T17:02:17.937Z"
   },
   {
    "duration": 12,
    "start_time": "2022-08-31T17:02:17.968Z"
   },
   {
    "duration": 8,
    "start_time": "2022-08-31T17:02:17.982Z"
   },
   {
    "duration": 35,
    "start_time": "2022-08-31T17:02:17.991Z"
   },
   {
    "duration": 17,
    "start_time": "2022-08-31T17:02:18.027Z"
   },
   {
    "duration": 44,
    "start_time": "2022-08-31T17:02:18.046Z"
   },
   {
    "duration": 7,
    "start_time": "2022-08-31T17:02:18.092Z"
   },
   {
    "duration": 18,
    "start_time": "2022-08-31T17:02:18.101Z"
   },
   {
    "duration": 24,
    "start_time": "2022-08-31T17:02:18.125Z"
   },
   {
    "duration": 8,
    "start_time": "2022-08-31T17:02:18.151Z"
   },
   {
    "duration": 8,
    "start_time": "2022-08-31T17:02:18.160Z"
   },
   {
    "duration": 118,
    "start_time": "2022-08-31T17:02:18.169Z"
   },
   {
    "duration": 657,
    "start_time": "2022-08-31T17:02:18.289Z"
   },
   {
    "duration": 40,
    "start_time": "2022-08-31T17:02:18.948Z"
   },
   {
    "duration": 11,
    "start_time": "2022-08-31T17:02:18.989Z"
   },
   {
    "duration": 23,
    "start_time": "2022-08-31T17:02:19.001Z"
   },
   {
    "duration": 38,
    "start_time": "2022-08-31T17:02:19.025Z"
   },
   {
    "duration": 950,
    "start_time": "2022-08-31T17:02:19.064Z"
   },
   {
    "duration": 7,
    "start_time": "2022-08-31T17:02:20.020Z"
   },
   {
    "duration": 9,
    "start_time": "2022-08-31T17:02:20.028Z"
   },
   {
    "duration": 15,
    "start_time": "2022-08-31T17:02:20.038Z"
   },
   {
    "duration": 160,
    "start_time": "2022-08-31T17:02:20.055Z"
   },
   {
    "duration": 43,
    "start_time": "2022-08-31T17:02:20.216Z"
   },
   {
    "duration": 10,
    "start_time": "2022-08-31T17:02:20.261Z"
   },
   {
    "duration": 19,
    "start_time": "2022-08-31T17:02:20.272Z"
   },
   {
    "duration": 11,
    "start_time": "2022-08-31T17:02:20.293Z"
   },
   {
    "duration": 6,
    "start_time": "2022-08-31T17:02:20.305Z"
   },
   {
    "duration": 36,
    "start_time": "2022-08-31T17:02:20.313Z"
   },
   {
    "duration": 8,
    "start_time": "2022-08-31T17:02:20.350Z"
   },
   {
    "duration": 10,
    "start_time": "2022-08-31T17:02:20.359Z"
   },
   {
    "duration": 10,
    "start_time": "2022-08-31T17:02:20.371Z"
   },
   {
    "duration": 138,
    "start_time": "2022-08-31T17:02:20.383Z"
   },
   {
    "duration": 6,
    "start_time": "2022-08-31T17:02:20.523Z"
   },
   {
    "duration": 5,
    "start_time": "2022-08-31T17:02:20.531Z"
   },
   {
    "duration": 123,
    "start_time": "2022-08-31T17:02:20.538Z"
   },
   {
    "duration": 7,
    "start_time": "2022-08-31T17:02:20.663Z"
   },
   {
    "duration": 129,
    "start_time": "2022-08-31T17:02:20.671Z"
   },
   {
    "duration": 549,
    "start_time": "2022-08-31T17:02:20.806Z"
   },
   {
    "duration": 3211,
    "start_time": "2022-08-31T18:32:04.105Z"
   },
   {
    "duration": 2,
    "start_time": "2022-08-31T18:32:07.319Z"
   },
   {
    "duration": 9,
    "start_time": "2022-08-31T18:32:07.323Z"
   },
   {
    "duration": 2220,
    "start_time": "2022-09-01T05:24:47.206Z"
   },
   {
    "duration": 3,
    "start_time": "2022-09-01T05:24:49.431Z"
   },
   {
    "duration": 14,
    "start_time": "2022-09-01T05:24:49.436Z"
   },
   {
    "duration": 214,
    "start_time": "2022-09-01T05:24:49.452Z"
   },
   {
    "duration": 14,
    "start_time": "2022-09-01T05:24:49.668Z"
   },
   {
    "duration": 14,
    "start_time": "2022-09-01T05:24:49.683Z"
   },
   {
    "duration": 26,
    "start_time": "2022-09-01T05:24:49.699Z"
   },
   {
    "duration": 7,
    "start_time": "2022-09-01T05:24:49.727Z"
   },
   {
    "duration": 10,
    "start_time": "2022-09-01T05:24:49.736Z"
   },
   {
    "duration": 175,
    "start_time": "2022-09-01T05:24:49.749Z"
   },
   {
    "duration": 820,
    "start_time": "2022-09-01T05:24:49.926Z"
   },
   {
    "duration": 129,
    "start_time": "2022-09-01T05:24:50.747Z"
   },
   {
    "duration": 3,
    "start_time": "2022-09-01T05:24:50.877Z"
   },
   {
    "duration": 527,
    "start_time": "2022-09-01T05:24:50.891Z"
   },
   {
    "duration": 621,
    "start_time": "2022-09-01T05:24:51.419Z"
   },
   {
    "duration": 3,
    "start_time": "2022-09-01T05:24:52.042Z"
   },
   {
    "duration": 53,
    "start_time": "2022-09-01T05:24:52.047Z"
   },
   {
    "duration": 594,
    "start_time": "2022-09-01T05:24:52.102Z"
   },
   {
    "duration": 130,
    "start_time": "2022-09-01T05:24:52.698Z"
   },
   {
    "duration": 813,
    "start_time": "2022-09-01T05:24:52.830Z"
   },
   {
    "duration": 9,
    "start_time": "2022-09-01T05:24:53.645Z"
   },
   {
    "duration": 33,
    "start_time": "2022-09-01T05:24:53.656Z"
   },
   {
    "duration": 40,
    "start_time": "2022-09-01T05:24:53.690Z"
   },
   {
    "duration": 39,
    "start_time": "2022-09-01T05:24:53.732Z"
   },
   {
    "duration": 30,
    "start_time": "2022-09-01T05:24:53.772Z"
   },
   {
    "duration": 33,
    "start_time": "2022-09-01T05:24:53.803Z"
   },
   {
    "duration": 125,
    "start_time": "2022-09-01T05:24:53.838Z"
   },
   {
    "duration": 10,
    "start_time": "2022-09-01T05:24:53.968Z"
   },
   {
    "duration": 573,
    "start_time": "2022-09-01T05:24:53.979Z"
   },
   {
    "duration": 7,
    "start_time": "2022-09-01T05:24:54.554Z"
   },
   {
    "duration": 68,
    "start_time": "2022-09-01T05:24:54.563Z"
   },
   {
    "duration": 86,
    "start_time": "2022-09-01T05:24:54.633Z"
   },
   {
    "duration": 172,
    "start_time": "2022-09-01T05:24:54.721Z"
   },
   {
    "duration": 657,
    "start_time": "2022-09-01T05:24:54.895Z"
   },
   {
    "duration": 155,
    "start_time": "2022-09-01T05:24:55.554Z"
   },
   {
    "duration": 145,
    "start_time": "2022-09-01T05:24:55.711Z"
   },
   {
    "duration": 674,
    "start_time": "2022-09-01T05:24:55.858Z"
   },
   {
    "duration": 263,
    "start_time": "2022-09-01T05:24:56.534Z"
   },
   {
    "duration": 525,
    "start_time": "2022-09-01T05:24:56.799Z"
   },
   {
    "duration": 97,
    "start_time": "2022-09-01T05:24:57.326Z"
   },
   {
    "duration": 18,
    "start_time": "2022-09-01T05:24:57.425Z"
   },
   {
    "duration": 19,
    "start_time": "2022-09-01T05:24:57.445Z"
   },
   {
    "duration": 54,
    "start_time": "2022-09-01T05:24:57.466Z"
   },
   {
    "duration": 1613,
    "start_time": "2022-09-01T05:24:57.522Z"
   },
   {
    "duration": 323,
    "start_time": "2022-09-01T05:24:59.136Z"
   },
   {
    "duration": 6,
    "start_time": "2022-09-01T05:24:59.461Z"
   },
   {
    "duration": 6,
    "start_time": "2022-09-01T05:24:59.468Z"
   },
   {
    "duration": 13,
    "start_time": "2022-09-01T05:24:59.493Z"
   },
   {
    "duration": 195,
    "start_time": "2022-09-01T05:24:59.508Z"
   },
   {
    "duration": 117,
    "start_time": "2022-09-01T05:24:59.705Z"
   },
   {
    "duration": 15,
    "start_time": "2022-09-01T05:24:59.824Z"
   },
   {
    "duration": 34,
    "start_time": "2022-09-01T05:24:59.840Z"
   },
   {
    "duration": 14,
    "start_time": "2022-09-01T05:24:59.875Z"
   },
   {
    "duration": 7,
    "start_time": "2022-09-01T05:24:59.890Z"
   },
   {
    "duration": 12,
    "start_time": "2022-09-01T05:24:59.898Z"
   },
   {
    "duration": 8,
    "start_time": "2022-09-01T05:24:59.912Z"
   },
   {
    "duration": 72,
    "start_time": "2022-09-01T05:24:59.922Z"
   },
   {
    "duration": 7,
    "start_time": "2022-09-01T05:24:59.996Z"
   },
   {
    "duration": 18,
    "start_time": "2022-09-01T05:25:00.004Z"
   },
   {
    "duration": 43,
    "start_time": "2022-09-01T05:25:00.024Z"
   },
   {
    "duration": 176,
    "start_time": "2022-09-01T05:25:00.069Z"
   },
   {
    "duration": 98,
    "start_time": "2022-09-01T05:25:00.247Z"
   },
   {
    "duration": 207,
    "start_time": "2022-09-01T05:25:00.347Z"
   },
   {
    "duration": 723,
    "start_time": "2022-09-01T05:25:00.556Z"
   },
   {
    "duration": 64,
    "start_time": "2022-09-01T05:25:01.282Z"
   },
   {
    "duration": 13,
    "start_time": "2022-09-01T05:25:01.348Z"
   },
   {
    "duration": 29,
    "start_time": "2022-09-01T05:25:01.363Z"
   },
   {
    "duration": 107,
    "start_time": "2022-09-01T05:25:01.394Z"
   },
   {
    "duration": 1220,
    "start_time": "2022-09-01T05:25:01.503Z"
   },
   {
    "duration": 6,
    "start_time": "2022-09-01T05:25:02.725Z"
   },
   {
    "duration": 10,
    "start_time": "2022-09-01T05:25:02.733Z"
   },
   {
    "duration": 18,
    "start_time": "2022-09-01T05:25:02.745Z"
   },
   {
    "duration": 224,
    "start_time": "2022-09-01T05:25:02.791Z"
   },
   {
    "duration": 69,
    "start_time": "2022-09-01T05:25:03.017Z"
   },
   {
    "duration": 12,
    "start_time": "2022-09-01T05:25:03.088Z"
   },
   {
    "duration": 53,
    "start_time": "2022-09-01T05:25:03.102Z"
   },
   {
    "duration": 19,
    "start_time": "2022-09-01T05:25:03.157Z"
   },
   {
    "duration": 10,
    "start_time": "2022-09-01T05:25:03.178Z"
   },
   {
    "duration": 130,
    "start_time": "2022-09-01T05:25:03.190Z"
   },
   {
    "duration": 9,
    "start_time": "2022-09-01T05:25:03.322Z"
   },
   {
    "duration": 9,
    "start_time": "2022-09-01T05:25:03.333Z"
   },
   {
    "duration": 12,
    "start_time": "2022-09-01T05:25:03.349Z"
   },
   {
    "duration": 14,
    "start_time": "2022-09-01T05:25:03.362Z"
   },
   {
    "duration": 19,
    "start_time": "2022-09-01T05:25:03.377Z"
   },
   {
    "duration": 6,
    "start_time": "2022-09-01T05:25:03.397Z"
   },
   {
    "duration": 268,
    "start_time": "2022-09-01T05:25:03.404Z"
   },
   {
    "duration": 6,
    "start_time": "2022-09-01T05:25:03.674Z"
   },
   {
    "duration": 134,
    "start_time": "2022-09-01T05:25:03.682Z"
   },
   {
    "duration": 556,
    "start_time": "2022-09-01T05:25:03.818Z"
   },
   {
    "duration": 12,
    "start_time": "2022-09-01T05:25:15.323Z"
   },
   {
    "duration": 52,
    "start_time": "2022-09-01T05:26:36.353Z"
   },
   {
    "duration": 7,
    "start_time": "2022-09-01T05:27:00.099Z"
   },
   {
    "duration": 13,
    "start_time": "2022-09-01T05:27:03.602Z"
   },
   {
    "duration": 11,
    "start_time": "2022-09-01T05:27:49.996Z"
   },
   {
    "duration": 12,
    "start_time": "2022-09-01T05:28:27.269Z"
   },
   {
    "duration": 5,
    "start_time": "2022-09-01T05:28:39.794Z"
   },
   {
    "duration": 11,
    "start_time": "2022-09-01T05:29:10.425Z"
   },
   {
    "duration": 6,
    "start_time": "2022-09-01T05:29:22.538Z"
   },
   {
    "duration": 5,
    "start_time": "2022-09-01T05:29:32.970Z"
   },
   {
    "duration": 13,
    "start_time": "2022-09-01T05:30:25.693Z"
   },
   {
    "duration": 54,
    "start_time": "2022-09-01T05:31:02.970Z"
   },
   {
    "duration": 7,
    "start_time": "2022-09-01T05:31:04.209Z"
   },
   {
    "duration": 8,
    "start_time": "2022-09-01T05:31:04.571Z"
   },
   {
    "duration": 13,
    "start_time": "2022-09-01T05:31:07.930Z"
   },
   {
    "duration": 5,
    "start_time": "2022-09-01T05:33:48.238Z"
   },
   {
    "duration": 7,
    "start_time": "2022-09-01T05:33:52.256Z"
   },
   {
    "duration": 7,
    "start_time": "2022-09-01T05:34:28.392Z"
   },
   {
    "duration": 147,
    "start_time": "2022-09-01T05:35:29.357Z"
   },
   {
    "duration": 19,
    "start_time": "2022-09-01T05:35:56.772Z"
   },
   {
    "duration": 17,
    "start_time": "2022-09-01T05:36:04.680Z"
   },
   {
    "duration": 11,
    "start_time": "2022-09-01T05:37:03.448Z"
   },
   {
    "duration": 15,
    "start_time": "2022-09-01T05:37:07.216Z"
   },
   {
    "duration": 13,
    "start_time": "2022-09-01T05:37:19.246Z"
   },
   {
    "duration": 17,
    "start_time": "2022-09-01T05:39:24.708Z"
   },
   {
    "duration": 17,
    "start_time": "2022-09-01T05:40:28.934Z"
   },
   {
    "duration": 14,
    "start_time": "2022-09-01T05:41:36.300Z"
   },
   {
    "duration": 13,
    "start_time": "2022-09-01T05:41:45.969Z"
   },
   {
    "duration": 9,
    "start_time": "2022-09-01T05:42:15.098Z"
   },
   {
    "duration": 4,
    "start_time": "2022-09-01T05:42:52.302Z"
   },
   {
    "duration": 19,
    "start_time": "2022-09-01T05:44:53.219Z"
   },
   {
    "duration": 19,
    "start_time": "2022-09-01T05:45:00.350Z"
   },
   {
    "duration": 11,
    "start_time": "2022-09-01T05:46:02.938Z"
   },
   {
    "duration": 9,
    "start_time": "2022-09-01T05:46:08.477Z"
   },
   {
    "duration": 52,
    "start_time": "2022-09-01T05:46:27.348Z"
   },
   {
    "duration": 6,
    "start_time": "2022-09-01T05:46:27.748Z"
   },
   {
    "duration": 7,
    "start_time": "2022-09-01T05:46:28.212Z"
   },
   {
    "duration": 18,
    "start_time": "2022-09-01T05:46:28.569Z"
   },
   {
    "duration": 9,
    "start_time": "2022-09-01T05:46:29.020Z"
   },
   {
    "duration": 10,
    "start_time": "2022-09-01T05:48:36.825Z"
   }
  ],
  "kernelspec": {
   "display_name": "Python 3 (ipykernel)",
   "language": "python",
   "name": "python3"
  },
  "language_info": {
   "codemirror_mode": {
    "name": "ipython",
    "version": 3
   },
   "file_extension": ".py",
   "mimetype": "text/x-python",
   "name": "python",
   "nbconvert_exporter": "python",
   "pygments_lexer": "ipython3",
   "version": "3.9.5"
  },
  "toc": {
   "base_numbering": 1,
   "nav_menu": {},
   "number_sections": false,
   "sideBar": true,
   "skip_h1_title": false,
   "title_cell": "Table of Contents",
   "title_sidebar": "Contents",
   "toc_cell": false,
   "toc_position": {
    "height": "calc(100% - 180px)",
    "left": "10px",
    "top": "150px",
    "width": "382.188px"
   },
   "toc_section_display": true,
   "toc_window_display": true
  }
 },
 "nbformat": 4,
 "nbformat_minor": 2
}
